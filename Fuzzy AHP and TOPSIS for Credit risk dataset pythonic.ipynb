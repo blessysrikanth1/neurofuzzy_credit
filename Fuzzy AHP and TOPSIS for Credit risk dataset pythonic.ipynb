{
 "cells": [
  {
   "cell_type": "code",
   "execution_count": 279,
   "id": "b968893a",
   "metadata": {},
   "outputs": [],
   "source": [
    "import numpy as np               \n",
    "import pandas as pd              \n",
    "import matplotlib.pyplot as plt\n",
    "from scipy.stats import rankdata "
   ]
  },
  {
   "cell_type": "code",
   "execution_count": 280,
   "id": "ed729750",
   "metadata": {},
   "outputs": [],
   "source": [
    "def FuzzyAHP(matrix, metric):\n",
    "    \"\"\"\n",
    "    Finds the weights of matrix variables based on expert's view . \n",
    "    Returns the a dataframe with variables' boundaries, expected values and standard deviation.\n",
    "\n",
    "    Args:\n",
    "    matrix: A excel file consists of a quadratic matrix with 4 evaluation metrics (AUC, Accuracy, F1, H-measure) values. \n",
    " \n",
    "    Returns:\n",
    "    A ranking of rows.\n",
    "    df: A dataframe consists of low, medium, high, expected values and standard deviation for every metric.\n",
    "    df[\"Exp Val\"]: A dataframe containes Expected Value scores of each metric.\n",
    "    \"\"\"\n",
    "    \n",
    "    n = matrix.shape[1]\n",
    "    column_names = matrix.columns\n",
    "\n",
    "    # Define triangular boundaries for five choices \n",
    "    fz_dict ={1:[1,1,1],\n",
    "              2:[1,2,3],\n",
    "              3:[2,3,4],\n",
    "              4:[3,4,5],\n",
    "              5:[4,5,6],\n",
    "              6:[5,6,7],\n",
    "              7:[6,7,8],\n",
    "              8:[7,8,9],\n",
    "              9:[9,9,9]}\n",
    "\n",
    "    matrix = matrix.applymap(lambda x: fz_dict[int(x)] if x >= 1 else [round(1/y, 2) for y in sorted(fz_dict[int(1/x)], reverse=True)])\n",
    "    print(f\"Comparison pair-wise matrix {matrix}\")\n",
    "    \n",
    "    #Fuzzy pairwise matrix of criteria.\n",
    "    matrix = matrix.values\n",
    "\n",
    "    # Decompose matrix into three matrices\n",
    "    low_matrix = np.array([[list(map(float, tup))[0] for tup in row] for row in matrix])\n",
    "    med_matrix = np.array([[list(map(float, tup))[1] for tup in row] for row in matrix])\n",
    "    up_matrix = np.array([[list(map(float, tup))[2] for tup in row] for row in matrix])\n",
    "\n",
    "    # Max eigenvalues of these matrices\n",
    "    low_eigval = np.max(np.abs(np.linalg.eig(low_matrix)[0]))\n",
    "    med_eigval = np.max(np.abs(np.linalg.eig(med_matrix)[0]))\n",
    "    up_eigval = np.max(np.abs(np.linalg.eig(up_matrix)[0]))\n",
    "\n",
    "    # system of fuzzy linear homogeneous equations\n",
    "    low_bar_matrix = 2*low_matrix + med_matrix\n",
    "    med_bar_matrix = low_matrix + 4*med_matrix + up_matrix\n",
    "    up_bar_matrix = med_matrix + 2*up_matrix\n",
    "\n",
    "    # Define function for maximum eigen value and vectors.\n",
    "    def eigenvalue_and_eigenvector(matrix):\n",
    "    \n",
    "        matrix =matrix.astype(\"float\")\n",
    "    \n",
    "        # Compute the eigenvalues and eigenvectors\n",
    "        eigenvalues, eigenvectors = np.linalg.eig(matrix)\n",
    "\n",
    "        # Find the index of the largest eigenvalue\n",
    "        largest_eigenvalue_index = np.argmax(np.abs(eigenvalues))\n",
    "        large_eigenvalue = eigenvalues[largest_eigenvalue_index]\n",
    "    \n",
    "        # Find the eigenvector corresponding to the largest eigenvalue\n",
    "        largest_eigenvalue_vector = eigenvectors[:, largest_eigenvalue_index]\n",
    "\n",
    "        # Normalize the eigenvector\n",
    "        normalized_eigenvector = largest_eigenvalue_vector / np.linalg.norm(largest_eigenvalue_vector)\n",
    "        asb_norm_eigvect = np.abs(normalized_eigenvector)\n",
    "    \n",
    "        # Print the result\n",
    "        #print(f\"The normalized eigenvector corresponding to the largest eigenvalue is {np.abs(normalized_eigenvector)}\")\n",
    "        #print(f\"The largest eigenvalue is {eigenvalues[largest_eigenvalue_index]}\")\n",
    "    \n",
    "        return large_eigenvalue, asb_norm_eigvect\n",
    "\n",
    "    # Eigen values and normalized vectors\n",
    "    low_lambda_max, low_eigvector = eigenvalue_and_eigenvector(low_bar_matrix)\n",
    "    med_lambda_max, med_eigvector = eigenvalue_and_eigenvector(med_bar_matrix)\n",
    "    up_lambda_max, up_eigvector = eigenvalue_and_eigenvector(up_bar_matrix)\n",
    "  \n",
    "    # eigen vectors bar.\n",
    "    low_w_bar = [(wi*low_eigval)/(sum(low_eigvector)*med_eigval) for wi in low_eigvector]\n",
    "    med_w_bar = [(wi)/(sum(med_eigvector)) for wi in med_eigvector]\n",
    "    up_w_bar = [(wi*up_eigval)/(sum(up_eigvector)*med_eigval) for wi in up_eigvector]\n",
    "\n",
    "    # Consistency index\n",
    "    lambdaMax = round(np.mean([low_eigval, med_eigval, up_eigval]),4)\n",
    "    CI = (lambdaMax - n)/(n-1)\n",
    "\n",
    "    # Ratio Indec Table\n",
    "    # Ratio Index table. T. L. Saaty, The analytical hierarchy process: Planning, priority setting, resource allocation, New York: McGraw-Hill, 1980. \n",
    "    nu = [1,2,3,4,5,6,7,8,9,10,11,12,13,14,15]\n",
    "    RI = [0,0,0.58, 0.9, 1.12, 1.24, 1.32, 1.41, 1.45, 1.49, 1.51, 1.48, 1.56, 1.57, 1.58]\n",
    "    Ratio_Table = dict(zip(nu, RI))\n",
    "\n",
    "    # Consistency Ratio\n",
    "    CR = CI/Ratio_Table[n]\n",
    "    if CR <= 0.1:\n",
    "        print(f\"The consistency ratio is {round(CR,4)}. So should be claimed that the comparison matrix is consistent.\")\n",
    "    else:\n",
    "        print(f\"The consistency ratio is {round(CR,4)}. So should not be claimed that the comparison matrix is consistent.\")\n",
    "\n",
    "    # Calculate the expected value (fuzzy mean) and standard deviation (fuzzy spread)\n",
    "    EV = [(low_w_bar[i] + 2*med_w_bar[i] + up_w_bar[i])/4 for i in range(n)]\n",
    "\n",
    "    # Calculate the standard deviation (fuzzy spread)\n",
    "    sd = [(1/80*(3*(low_w_bar[i]**2) + 4*(med_w_bar[i]**2) + 3*(up_w_bar[i]**2) - 4*low_w_bar[i]*med_w_bar[i] - 2*low_w_bar[i]*up_w_bar[i] - 4*up_w_bar[i]*med_w_bar[i]))**(1/2) for i in range(4)]\n",
    "\n",
    "    # Aggregated dataframe\n",
    "    df = pd.DataFrame({\"low\":low_w_bar, \"Medium\":med_w_bar, \"Upper\":up_w_bar, \"Exp Val\":EV, \"St. dev\":sd},\n",
    "                           index=column_names)\n",
    "        # Plot the results\n",
    "    values = df.loc[:,\"Exp Val\"].values.tolist()\n",
    "\n",
    "    fig, ax = plt.subplots(figsize=(10, 6))\n",
    "    ax.bar(range(len(values)), values, color=['#1f77b4', '#ff7f0e', '#2ca02c', '#8b0000'], edgecolor='black', linewidth=1.2)\n",
    "\n",
    "        # Set the labels for the x-axis ticks\n",
    "    ax.set_xticks(range(len(values)))\n",
    "    ax.set_xticklabels(['AUC', 'Accuracy', 'F1-scores', 'H-measure'], fontsize=12)\n",
    "\n",
    "        # Set the y-axis label\n",
    "    ax.set_ylabel('Fuzzy scores', fontsize=12)\n",
    "\n",
    "    # Set the title for the plot\n",
    "    ax.set_title('Fuzzy AHP results plot', fontsize=14, fontweight='bold')\n",
    "\n",
    "        # Set the axis tick and label font size\n",
    "    plt.rc('xtick', labelsize=12)\n",
    "    plt.rc('ytick', labelsize=12)\n",
    "\n",
    "        # Remove the top and right spines\n",
    "    ax.spines['top'].set_visible(False)\n",
    "    ax.spines['right'].set_visible(False)\n",
    "\n",
    "        # Add a grid\n",
    "    ax.grid(axis='y', linestyle='--')\n",
    "\n",
    "        # Save plot\n",
    "    plt.savefig(f'Fuzzy AHP results {metric}.png')\n",
    "        \n",
    "        # Show plot\n",
    "    plt.show()\n",
    "\n",
    "    return df, df[\"Exp Val\"]\n",
    "\n",
    "def TOPSIS(raw_df1, weights_df, columns_positive_impact, print_results=True, metric=None):\n",
    "    \"\"\"\n",
    "    Finds the best row of a dataframe based on a list of weights. \n",
    "    Returns the a dataframe with ranking of rows , their scores and order. \n",
    "    Args:\n",
    "    raw_df1: A DataFrame with values of interest. \n",
    "    weights_df: A list of values representing the view of experts respect to evaluation metrics importance.\n",
    "    columns_positive_impact: Include in a tuple with columns with positive contribution in model i.e. AUC is + but time is -, writing column index i.e. 0,2, etc\n",
    "    print_results: A boolean parameter which if True, prints the intermediate and final results. Default value is True.\n",
    "    metric: The highest metric of weights should be passed, if you want a plot of results\n",
    "    \n",
    "    Returns:\n",
    "    A ranking of rows.\n",
    "    results: A dataframe consists of Topsis, Separation + and - order.\n",
    "    Sep.iloc[:,2]: A dataframe containes topsis scores\n",
    "    plt: A list of row names ranking.\n",
    "    \"\"\"\n",
    "   \n",
    "    raw_df = raw_df1.copy()\n",
    "    raw_data = raw_df.values\n",
    "    weights = weights_df.values.T\n",
    "    \n",
    "    # Step 1 - Normalizing the ratings    \n",
    "\n",
    "    divisors = [np.linalg.norm(raw_data[:, j]) for j in range(len(raw_df.columns))]\n",
    "\n",
    "    raw_data /= divisors\n",
    "\n",
    "    columns = [\"$X_{%d}$\" % j for j in range(len(raw_df.columns))]\n",
    "    if print_results:\n",
    "        print(f\"The normalized rating array is{pd.DataFrame(data=raw_data, index=raw_df.index.to_list(), columns=columns)}\")\n",
    "    \n",
    "    # Step 2 - Calculating the Weighted Normalized Ratings\n",
    "    \n",
    "    raw_data *= weights\n",
    "    if print_results:\n",
    "        print(f\"The Weighted Normalized Ratings is {pd.DataFrame(data=raw_data, index=raw_df.index.to_list(), columns=columns)}\")\n",
    "    \n",
    "    # Step 3 - Identifying PIS ( A∗ ) and NIS ( A− )\n",
    "    \n",
    "    # Compute the positive and negative ideal solutions (PIS and NIS)\n",
    "    benefit_attributes = set(columns_positive_impact)\n",
    "    a_pos = np.array([np.max(raw_data[:, j]) if j in benefit_attributes else np.min(raw_data[:, j]) for j in range(len(raw_df.columns))])\n",
    "    a_neg = np.array([np.min(raw_data[:, j]) if j in benefit_attributes else np.max(raw_data[:, j]) for j in range(len(raw_df.columns))])\n",
    "\n",
    "    if print_results:\n",
    "        print(f\"Positive and Negative Ideal Solutions are illustrated below:\\n{pd.DataFrame([a_pos, a_neg], index=['$A^*$', '$A^-$'], columns=columns)}\")\n",
    "    \n",
    "    # Step 4 and 5 - Calculating Separation Measures and Similarities to PIS\n",
    "     # calculate sp, sn, and cs\n",
    "    diff_pos = raw_data - a_pos\n",
    "    diff_neg = raw_data - a_neg\n",
    "    sp = np.sqrt(np.sum(diff_pos ** 2, axis=1))\n",
    "    sn = np.sqrt(np.sum(diff_neg ** 2, axis=1))\n",
    "    cs = sn / (sp + sn)\n",
    "\n",
    "    # create DataFrame\n",
    "    Sep = pd.DataFrame({\"$S^*$\": sp, \"$S^-$\": sn, \"$C^*$\": cs}, index=raw_df.index)\n",
    "    if print_results:\n",
    "        print(f\"The Separation Measures and Similarities to PIS {Sep}\")\n",
    "    \n",
    "        # Step 6 - Ranking the candidates/alternatives\n",
    "    \n",
    "    results = Sep.apply(lambda col: col.sort_values(ascending=False).index).reset_index(drop=True)\n",
    "    results.columns = [\"$S^*$\", \"$S^-$\", \"$C^*$\"]\n",
    "\n",
    "    if print_results:\n",
    "        print(f\"The best candidate/alternative according to C* is {results.loc[0,'$C^*$']}\")\n",
    "        print(\"The preferences in descending order are: \" + \", \".join(results['$C^*$'].tolist()) + \".\")\n",
    "    \n",
    "    if print_results and metric != None:        \n",
    "        \n",
    "    # Plot the results \n",
    "        values = cs.tolist()\n",
    "\n",
    "        fig, ax = plt.subplots(figsize=(10, 6))\n",
    "        ax.bar(range(len(values)), values, color=['#1f77b4', '#ff7f0e', '#2ca02c'], edgecolor='black', linewidth=1.2)\n",
    "\n",
    "    # Set the labels for the x-axis ticks\n",
    "        ax.set_xticks(range(len(values)))\n",
    "        ax.set_xticklabels(['1 Hidden Layer MPL', '2 Hidden Layer MPL', '3 Hidden Layer MPL'], fontsize=12)\n",
    "\n",
    "        # Set the y-axis label\n",
    "        ax.set_ylabel('Topsis score', fontsize=12)\n",
    "\n",
    "        # Set the title for the plot\n",
    "        ax.set_title('TOPSIS results plot', fontsize=14, fontweight='bold')\n",
    "\n",
    "    # Set the axis tick and label font size\n",
    "        plt.rc('xtick', labelsize=12)\n",
    "        plt.rc('ytick', labelsize=12)\n",
    "\n",
    "        # Remove the top and right spines\n",
    "        ax.spines['top'].set_visible(False)\n",
    "        ax.spines['right'].set_visible(False)\n",
    "        \n",
    "        # Add a grid      \n",
    "        ax.grid(axis='y', linestyle='--')\n",
    "\n",
    "        # Save plot\n",
    "        plt.savefig(f'TOPSIS results {metric}.png')\n",
    "        \n",
    "        # Show plot\n",
    "        plt.show()\n",
    "            \n",
    "    return results, Sep.iloc[:,2], plt\n",
    "\n",
    "def find_intersection_value(x, list_1, list_2, list_of_interest):\n",
    "    \"\"\"\n",
    "    Finds the intersection points of two lines defined by list_1 and list_2 and a third line defined by list_of_interest.\n",
    "    Returns the x and y coordinates of each intersection point.\n",
    "\n",
    "    Args:\n",
    "    x: A list of x-values represents the interval of analysis \n",
    "    list_1: A list of y-values representing the one MLP model.\n",
    "    list_2: A list of y-values representing the other MLP model.\n",
    "    list_of_interest: A list of y-values representing the MLP model of interest.\n",
    "\n",
    "    Returns:\n",
    "    A tuple containing two tuples, each representing the x and y coordinates of an intersection point.\n",
    "    \"\"\"\n",
    "    \n",
    "    # Estimate intersection of lists\n",
    "    def estimate_intersection(list_of_interest, list_x):\n",
    "        intersection, metric_val, indicator = [], [], []\n",
    "        for i, val in enumerate(list_x[1:], start=1):\n",
    "            if (list_x[0] > list_of_interest[0] and val < list_of_interest[i]) or (list_x[0] <= list_of_interest[0] and val > list_of_interest[i]):\n",
    "                intersection.append(list_of_interest[i-1])\n",
    "                metric_val.append(x[i-1])\n",
    "                indicator.append(i-1)\n",
    "        return intersection, metric_val, indicator\n",
    "\n",
    "    intersection_with_list1, metric_val_list1, indicator_1 = estimate_intersection(list_of_interest, list_1)\n",
    "    intersection_with_list2, metric_val_list2, indicator_2 = estimate_intersection(list_of_interest, list_2)\n",
    "    \n",
    "    # Now calculate the function of intersection points\n",
    "    def intersection_function(y1, y2, x1, x2):\n",
    "        # In function y = ax + b, a estimation will be \n",
    "        a = (y2-y1)/(x2 - x1)\n",
    "        \n",
    "        # In function y = ax + b, b estimation will be \n",
    "        b = y1 - a*x1\n",
    "        \n",
    "        return a, b\n",
    "\n",
    "    # Estimate y and x\n",
    "    def intersection_points(a1, a2, b1, b2):\n",
    "        # In function y = ax + b, x estimation will be \n",
    "        x = (b1-b2)/(a2 - a1)\n",
    "        \n",
    "        # In function y = ax + b, y estimation will be \n",
    "        y = a1*x + b1\n",
    "        \n",
    "        return [x, y]    \n",
    "                        \n",
    "    # Calculate intersection points\n",
    "    def calculate_intersection_points(lista, intersection_with_list, metric_val_list, indicator_list, density_function):\n",
    "            if intersection_with_list:\n",
    "                density_i_j = intersection_function(intersection_with_list[0], intersection_with_list[1], metric_val_list[0], metric_val_list[1])\n",
    "                density_i = intersection_function(lista[indicator_list[0]], lista[indicator_list[1]], metric_val_list[0], metric_val_list[1])\n",
    "                intersection_point = intersection_points(density_i_j[0], density_i[0], density_i_j[1], density_i[1])\n",
    "            else:\n",
    "                intersection_point = None\n",
    "            return intersection_point\n",
    "\n",
    "    # Calculate intersection points for list_1\n",
    "    intersection_point_1_3 = calculate_intersection_points(list_1, intersection_with_list1, metric_val_list1, indicator_1, intersection_function)\n",
    "\n",
    "    # Calculate intersection points for list_2\n",
    "    intersection_point_2_3 = calculate_intersection_points(list_2, intersection_with_list2, metric_val_list2, indicator_2, intersection_function)\n",
    "\n",
    "    # Print error message if there is no intersection\n",
    "    if not intersection_point_2_3:\n",
    "        print(\"There is no intersection between interest and worst density.\")\n",
    "    if not intersection_point_1_3:\n",
    "        print(\"There is no intersection between interest and intermediate density.\")\n",
    "    \n",
    "    return intersection_point_1_3, intersection_point_2_3\n",
    "    \n",
    "def sensitivity_analysis(boundary, metric, df_1, weights, columns_positive_impact):\n",
    "    \"\"\"\n",
    "    Make a sensitivity analysis of the best MLP model metric of interest.\n",
    "    Returns the interval of analysis, 3 models topsis scores for every value in interval of interest and a plot of results.\n",
    "\n",
    "    Args:\n",
    "    boundary: Minimum value of weight minus this value represents the lower boundary of interval and versus the upper\n",
    "    metric: The metric of interest to assess.\n",
    "    df: A dataframe contains metric values of each model.\n",
    "    weights: A list of FAHP values representing the expert opinion.\n",
    "    columns_positive_impact: Include in a tuple with columns with positive contribution in model i.e. AUC is + but time is -, writing column index i.e. 0,2, etc\n",
    "\n",
    "    Returns:\n",
    "    x: the interval of analysis.\n",
    "    scores_1_HL_MLP: A list of topsis scores for 1 HL MLP model.\n",
    "    scores_2_HL_MLP: A list of topsis scores for 2 HL MLP model.\n",
    "    scores_3_HL_MLP: A list of topsis scores for 3 HL MLP model.\n",
    "    \"\"\"\n",
    "    # Copy initial DataFrame\n",
    "    df = df_1.copy()\n",
    "\n",
    "    # Define low and high doundary of analysis and its interval\n",
    "    metric_weight = weights[metric]\n",
    "    high = min(metric_weight + boundary, 1)\n",
    "    low = max(metric_weight - boundary, 0) \n",
    "    x = np.arange(low,high, 0.05).tolist()\n",
    "    \n",
    "    # Find the optimal model\n",
    "    res = TOPSIS(df, weights,columns_positive_impact=columns_positive_impact,print_results=False, metric= metric)\n",
    "    \n",
    "    # Save models' names in a  ascending order\n",
    "    names_sorted = res[1].sort_values(ascending=False).index.to_list()\n",
    "    \n",
    "    # Extract index names to a list\n",
    "    names = res[1].index.tolist()\n",
    "    \n",
    "    # Find topsis scores for every model\n",
    "    topsis_scores = []\n",
    "\n",
    "    for i in x:\n",
    "        weights[metric] = i\n",
    "        topsis_scores.append(list(map(float, TOPSIS(df, weights, columns_positive_impact=columns_positive_impact, print_results=False, metric=metric)[1])))\n",
    "\n",
    "    scores_1_HL_MLP, scores_2_HL_MLP, scores_3_HL_MLP = zip(*topsis_scores)\n",
    "\n",
    "    topsis_dict = {name: scores for name, scores in zip(names, [scores_1_HL_MLP, scores_2_HL_MLP, scores_3_HL_MLP])}\n",
    "\n",
    "    sensitivity = find_intersection_value(x, topsis_dict[names_sorted[1]],topsis_dict[names_sorted[2]], topsis_dict[names_sorted[0]])\n",
    "\n",
    "    # Print results of analysis\n",
    "    if sensitivity!= None:\n",
    "        for i in range(0,len(sensitivity)):\n",
    "            if sensitivity[i] != None:\n",
    "                print(f\"For higher values of {sensitivity[i][0]} the {res[0].loc[0,'$C^*$']} is greater than {names_sorted[i+1]}\")\n",
    "            else:\n",
    "                print(f\"The {res[0].loc[0,'$C^*$']} is greater than {names_sorted[i+1]} for every value in range of analysis.\")    \n",
    "    \n",
    "    # Plot results\n",
    "\n",
    "    # Scores data\n",
    "    y1 = scores_1_HL_MLP\n",
    "    y2 = scores_2_HL_MLP\n",
    "    y3 = scores_3_HL_MLP\n",
    "\n",
    "    # Create a figure and axis object\n",
    "    fig, ax = plt.subplots(figsize = (10, 7))\n",
    "\n",
    "    # Add vertical lines\n",
    "    if sensitivity!= None:\n",
    "        if sensitivity[0]!= None:\n",
    "            ax.axvline(x=sensitivity[0][0], color='red', linewidth = 2, linestyle =\"--\")\n",
    "        if sensitivity[1] != None:\n",
    "            ax.axvline(x=sensitivity[1][0], color='red', linewidth = 2, linestyle =\"--\")\n",
    "\n",
    "    # Plot the lines\n",
    "    ax.plot(x, y1, label='1 HL MPL model')\n",
    "    ax.plot(x, y2, label='2 HL MPL model')\n",
    "    ax.plot(x, y3, label='3 HL MPL model')\n",
    "\n",
    "    # Add labels and a title\n",
    "    ax.set_xlabel(f'{metric} weight values')\n",
    "    ax.set_ylabel('TOPSIS scores', rotation=0, labelpad=20)\n",
    "    ax.set_title(f'{metric} Sensitivity Plot')\n",
    "\n",
    "    # Add a legend\n",
    "    ax.legend()\n",
    "\n",
    "    # save plot\n",
    "    plt.savefig(f'{metric} sensitivity analysis.png',  dpi=300, bbox_inches='tight')\n",
    "\n",
    "    # Show the plot\n",
    "    plt.show()\n",
    "    plt.close()\n",
    "    return x, scores_1_HL_MLP, scores_2_HL_MLP, scores_3_HL_MLP"
   ]
  },
  {
   "cell_type": "markdown",
   "id": "4e99d06e",
   "metadata": {},
   "source": [
    "Variables which will be used in FIS are the below metrics:\n",
    "\n",
    "1． Accuracy\n",
    "\n",
    "2． Precision\n",
    "\n",
    "3． Recall\n",
    "\n",
    "4． F-1 score\n",
    "\n",
    "5． AUC\n",
    "\n",
    "6. H-meaure\n",
    "\n",
    "In this educational example, we use only four variables (metrics) in order to evaluate NN output, AUC, Accuracy, F1 score and H measure."
   ]
  },
  {
   "cell_type": "markdown",
   "id": "8ed4e032",
   "metadata": {},
   "source": [
    "## Merging the best metrics of each NN model "
   ]
  },
  {
   "cell_type": "code",
   "execution_count": 281,
   "id": "a06e4589",
   "metadata": {},
   "outputs": [
    {
     "data": {
      "text/html": [
       "<div>\n",
       "<style scoped>\n",
       "    .dataframe tbody tr th:only-of-type {\n",
       "        vertical-align: middle;\n",
       "    }\n",
       "\n",
       "    .dataframe tbody tr th {\n",
       "        vertical-align: top;\n",
       "    }\n",
       "\n",
       "    .dataframe thead th {\n",
       "        text-align: right;\n",
       "    }\n",
       "</style>\n",
       "<table border=\"1\" class=\"dataframe\">\n",
       "  <thead>\n",
       "    <tr style=\"text-align: right;\">\n",
       "      <th></th>\n",
       "      <th>Tree-structured Parzen Estimator</th>\n",
       "      <th>Random Sampler</th>\n",
       "      <th>Genetic Algorithm</th>\n",
       "      <th>Quasi Monte Carlo</th>\n",
       "    </tr>\n",
       "    <tr>\n",
       "      <th>metrics</th>\n",
       "      <th></th>\n",
       "      <th></th>\n",
       "      <th></th>\n",
       "      <th></th>\n",
       "    </tr>\n",
       "  </thead>\n",
       "  <tbody>\n",
       "    <tr>\n",
       "      <th>Accuracy</th>\n",
       "      <td>0.864930</td>\n",
       "      <td>0.864415</td>\n",
       "      <td>0.866472</td>\n",
       "      <td>0.864415</td>\n",
       "    </tr>\n",
       "    <tr>\n",
       "      <th>Precision</th>\n",
       "      <td>0.774862</td>\n",
       "      <td>0.764391</td>\n",
       "      <td>0.767411</td>\n",
       "      <td>0.775453</td>\n",
       "    </tr>\n",
       "    <tr>\n",
       "      <th>Recall</th>\n",
       "      <td>0.473019</td>\n",
       "      <td>0.481450</td>\n",
       "      <td>0.492411</td>\n",
       "      <td>0.468803</td>\n",
       "    </tr>\n",
       "    <tr>\n",
       "      <th>F1-score</th>\n",
       "      <td>0.587435</td>\n",
       "      <td>0.590792</td>\n",
       "      <td>0.599897</td>\n",
       "      <td>0.584341</td>\n",
       "    </tr>\n",
       "    <tr>\n",
       "      <th>AUC</th>\n",
       "      <td>0.718975</td>\n",
       "      <td>0.721792</td>\n",
       "      <td>0.727165</td>\n",
       "      <td>0.717082</td>\n",
       "    </tr>\n",
       "    <tr>\n",
       "      <th>H-measure</th>\n",
       "      <td>0.334284</td>\n",
       "      <td>0.337359</td>\n",
       "      <td>0.347785</td>\n",
       "      <td>0.330960</td>\n",
       "    </tr>\n",
       "  </tbody>\n",
       "</table>\n",
       "</div>"
      ],
      "text/plain": [
       "           Tree-structured Parzen Estimator  Random Sampler  \\\n",
       "metrics                                                       \n",
       "Accuracy                           0.864930        0.864415   \n",
       "Precision                          0.774862        0.764391   \n",
       "Recall                             0.473019        0.481450   \n",
       "F1-score                           0.587435        0.590792   \n",
       "AUC                                0.718975        0.721792   \n",
       "H-measure                          0.334284        0.337359   \n",
       "\n",
       "           Genetic Algorithm  Quasi Monte Carlo  \n",
       "metrics                                          \n",
       "Accuracy            0.866472           0.864415  \n",
       "Precision           0.767411           0.775453  \n",
       "Recall              0.492411           0.468803  \n",
       "F1-score            0.599897           0.584341  \n",
       "AUC                 0.727165           0.717082  \n",
       "H-measure           0.347785           0.330960  "
      ]
     },
     "execution_count": 281,
     "metadata": {},
     "output_type": "execute_result"
    }
   ],
   "source": [
    "#Read metrics of 1st dataset\n",
    "\n",
    "df_1 = pd.read_csv(r'C:\\Users\\...\\credit_risk_dataset_1_Layer_scores.csv')\n",
    "\n",
    "rownames = ['Accuracy', 'Precision', 'Recall', 'F1-score', 'AUC', \"H-measure\"]\n",
    "df_1[\"metrics\"] = rownames\n",
    "\n",
    "# Set the index of the DataFrame to the list\n",
    "df_1.set_index(\"metrics\", inplace=True )\n",
    "\n",
    "# Prin 5 forst lines of df\n",
    "df_1"
   ]
  },
  {
   "cell_type": "markdown",
   "id": "87f15d6a",
   "metadata": {},
   "source": [
    "As we can observe, genetic algorithm produces the most dominate metrics, and as a result we will use these score to compare with the others MPL models."
   ]
  },
  {
   "cell_type": "code",
   "execution_count": 282,
   "id": "106a056c",
   "metadata": {},
   "outputs": [
    {
     "data": {
      "text/html": [
       "<div>\n",
       "<style scoped>\n",
       "    .dataframe tbody tr th:only-of-type {\n",
       "        vertical-align: middle;\n",
       "    }\n",
       "\n",
       "    .dataframe tbody tr th {\n",
       "        vertical-align: top;\n",
       "    }\n",
       "\n",
       "    .dataframe thead th {\n",
       "        text-align: right;\n",
       "    }\n",
       "</style>\n",
       "<table border=\"1\" class=\"dataframe\">\n",
       "  <thead>\n",
       "    <tr style=\"text-align: right;\">\n",
       "      <th></th>\n",
       "      <th>1 Hidden Layer MPL</th>\n",
       "    </tr>\n",
       "    <tr>\n",
       "      <th>metrics</th>\n",
       "      <th></th>\n",
       "    </tr>\n",
       "  </thead>\n",
       "  <tbody>\n",
       "    <tr>\n",
       "      <th>Accuracy</th>\n",
       "      <td>0.866472</td>\n",
       "    </tr>\n",
       "    <tr>\n",
       "      <th>Precision</th>\n",
       "      <td>0.767411</td>\n",
       "    </tr>\n",
       "    <tr>\n",
       "      <th>Recall</th>\n",
       "      <td>0.492411</td>\n",
       "    </tr>\n",
       "    <tr>\n",
       "      <th>F1-score</th>\n",
       "      <td>0.599897</td>\n",
       "    </tr>\n",
       "    <tr>\n",
       "      <th>AUC</th>\n",
       "      <td>0.727165</td>\n",
       "    </tr>\n",
       "    <tr>\n",
       "      <th>H-measure</th>\n",
       "      <td>0.347785</td>\n",
       "    </tr>\n",
       "  </tbody>\n",
       "</table>\n",
       "</div>"
      ],
      "text/plain": [
       "           1 Hidden Layer MPL\n",
       "metrics                      \n",
       "Accuracy             0.866472\n",
       "Precision            0.767411\n",
       "Recall               0.492411\n",
       "F1-score             0.599897\n",
       "AUC                  0.727165\n",
       "H-measure            0.347785"
      ]
     },
     "execution_count": 282,
     "metadata": {},
     "output_type": "execute_result"
    }
   ],
   "source": [
    "# Keep only Random Sampler\n",
    "df_1 = df_1.drop([\"Random Sampler\", \"Tree-structured Parzen Estimator\", \"Quasi Monte Carlo\"], axis = 1)\n",
    "df_1.rename(columns={\"Genetic Algorithm\": \"1 Hidden Layer MPL\"}, inplace=True)\n",
    "\n",
    "# Print df2 \n",
    "df_1"
   ]
  },
  {
   "cell_type": "code",
   "execution_count": 283,
   "id": "e30e2f2e",
   "metadata": {
    "scrolled": true
   },
   "outputs": [
    {
     "data": {
      "text/html": [
       "<div>\n",
       "<style scoped>\n",
       "    .dataframe tbody tr th:only-of-type {\n",
       "        vertical-align: middle;\n",
       "    }\n",
       "\n",
       "    .dataframe tbody tr th {\n",
       "        vertical-align: top;\n",
       "    }\n",
       "\n",
       "    .dataframe thead th {\n",
       "        text-align: right;\n",
       "    }\n",
       "</style>\n",
       "<table border=\"1\" class=\"dataframe\">\n",
       "  <thead>\n",
       "    <tr style=\"text-align: right;\">\n",
       "      <th></th>\n",
       "      <th>Tree-structured Parzen Estimator</th>\n",
       "      <th>Tree-structured Parzen Estimator.1</th>\n",
       "      <th>Genetic Algorithm</th>\n",
       "      <th>Quasi Monte Carlo</th>\n",
       "    </tr>\n",
       "    <tr>\n",
       "      <th>metrics</th>\n",
       "      <th></th>\n",
       "      <th></th>\n",
       "      <th></th>\n",
       "      <th></th>\n",
       "    </tr>\n",
       "  </thead>\n",
       "  <tbody>\n",
       "    <tr>\n",
       "      <th>Accuracy</th>\n",
       "      <td>0.895955</td>\n",
       "      <td>0.900583</td>\n",
       "      <td>0.904354</td>\n",
       "      <td>0.907439</td>\n",
       "    </tr>\n",
       "    <tr>\n",
       "      <th>Precision</th>\n",
       "      <td>0.826381</td>\n",
       "      <td>0.915068</td>\n",
       "      <td>0.931319</td>\n",
       "      <td>0.887290</td>\n",
       "    </tr>\n",
       "    <tr>\n",
       "      <th>Recall</th>\n",
       "      <td>0.618044</td>\n",
       "      <td>0.563238</td>\n",
       "      <td>0.571669</td>\n",
       "      <td>0.623946</td>\n",
       "    </tr>\n",
       "    <tr>\n",
       "      <th>F1-score</th>\n",
       "      <td>0.707188</td>\n",
       "      <td>0.697286</td>\n",
       "      <td>0.708464</td>\n",
       "      <td>0.732673</td>\n",
       "    </tr>\n",
       "    <tr>\n",
       "      <th>AUC</th>\n",
       "      <td>0.792456</td>\n",
       "      <td>0.774949</td>\n",
       "      <td>0.780456</td>\n",
       "      <td>0.801861</td>\n",
       "    </tr>\n",
       "  </tbody>\n",
       "</table>\n",
       "</div>"
      ],
      "text/plain": [
       "           Tree-structured Parzen Estimator  \\\n",
       "metrics                                       \n",
       "Accuracy                           0.895955   \n",
       "Precision                          0.826381   \n",
       "Recall                             0.618044   \n",
       "F1-score                           0.707188   \n",
       "AUC                                0.792456   \n",
       "\n",
       "           Tree-structured Parzen Estimator.1  Genetic Algorithm  \\\n",
       "metrics                                                            \n",
       "Accuracy                             0.900583           0.904354   \n",
       "Precision                            0.915068           0.931319   \n",
       "Recall                               0.563238           0.571669   \n",
       "F1-score                             0.697286           0.708464   \n",
       "AUC                                  0.774949           0.780456   \n",
       "\n",
       "           Quasi Monte Carlo  \n",
       "metrics                       \n",
       "Accuracy            0.907439  \n",
       "Precision           0.887290  \n",
       "Recall              0.623946  \n",
       "F1-score            0.732673  \n",
       "AUC                 0.801861  "
      ]
     },
     "execution_count": 283,
     "metadata": {},
     "output_type": "execute_result"
    }
   ],
   "source": [
    "df_2 = pd.read_csv(r'C:\\Users\\...\\credit_risk_dataset_2_Layer_scores.csv')\n",
    "\n",
    "df_2[\"metrics\"] = rownames\n",
    "\n",
    "# Set the index of the DataFrame to the list\n",
    "df_2.set_index(\"metrics\", inplace=True )\n",
    "\n",
    "# Prin 5 forst lines of df\n",
    "df_2.head()"
   ]
  },
  {
   "cell_type": "markdown",
   "id": "466fa90a",
   "metadata": {},
   "source": [
    "As we can observe, Quasi Monte Carlo produces the most dominated metrics, and as a result we will use these score to compare with the others MPL models."
   ]
  },
  {
   "cell_type": "code",
   "execution_count": 284,
   "id": "5cb58e5d",
   "metadata": {
    "scrolled": true
   },
   "outputs": [
    {
     "data": {
      "text/html": [
       "<div>\n",
       "<style scoped>\n",
       "    .dataframe tbody tr th:only-of-type {\n",
       "        vertical-align: middle;\n",
       "    }\n",
       "\n",
       "    .dataframe tbody tr th {\n",
       "        vertical-align: top;\n",
       "    }\n",
       "\n",
       "    .dataframe thead th {\n",
       "        text-align: right;\n",
       "    }\n",
       "</style>\n",
       "<table border=\"1\" class=\"dataframe\">\n",
       "  <thead>\n",
       "    <tr style=\"text-align: right;\">\n",
       "      <th></th>\n",
       "      <th>2 Hidden Layer MPL</th>\n",
       "    </tr>\n",
       "    <tr>\n",
       "      <th>metrics</th>\n",
       "      <th></th>\n",
       "    </tr>\n",
       "  </thead>\n",
       "  <tbody>\n",
       "    <tr>\n",
       "      <th>Accuracy</th>\n",
       "      <td>0.907439</td>\n",
       "    </tr>\n",
       "    <tr>\n",
       "      <th>Precision</th>\n",
       "      <td>0.887290</td>\n",
       "    </tr>\n",
       "    <tr>\n",
       "      <th>Recall</th>\n",
       "      <td>0.623946</td>\n",
       "    </tr>\n",
       "    <tr>\n",
       "      <th>F1-score</th>\n",
       "      <td>0.732673</td>\n",
       "    </tr>\n",
       "    <tr>\n",
       "      <th>AUC</th>\n",
       "      <td>0.801861</td>\n",
       "    </tr>\n",
       "    <tr>\n",
       "      <th>H-measure</th>\n",
       "      <td>0.518255</td>\n",
       "    </tr>\n",
       "  </tbody>\n",
       "</table>\n",
       "</div>"
      ],
      "text/plain": [
       "           2 Hidden Layer MPL\n",
       "metrics                      \n",
       "Accuracy             0.907439\n",
       "Precision            0.887290\n",
       "Recall               0.623946\n",
       "F1-score             0.732673\n",
       "AUC                  0.801861\n",
       "H-measure            0.518255"
      ]
     },
     "execution_count": 284,
     "metadata": {},
     "output_type": "execute_result"
    }
   ],
   "source": [
    "# Keep only Random Sampler\n",
    "df_2 = df_2.drop([\"Tree-structured Parzen Estimator.1\", \"Genetic Algorithm\", \"Tree-structured Parzen Estimator\"], axis = 1)\n",
    "df_2.rename(columns={\"Quasi Monte Carlo\": \"2 Hidden Layer MPL\"}, inplace=True)\n",
    "\n",
    "# Print df2 \n",
    "df_2"
   ]
  },
  {
   "cell_type": "code",
   "execution_count": 285,
   "id": "63a884c5",
   "metadata": {},
   "outputs": [
    {
     "data": {
      "text/html": [
       "<div>\n",
       "<style scoped>\n",
       "    .dataframe tbody tr th:only-of-type {\n",
       "        vertical-align: middle;\n",
       "    }\n",
       "\n",
       "    .dataframe tbody tr th {\n",
       "        vertical-align: top;\n",
       "    }\n",
       "\n",
       "    .dataframe thead th {\n",
       "        text-align: right;\n",
       "    }\n",
       "</style>\n",
       "<table border=\"1\" class=\"dataframe\">\n",
       "  <thead>\n",
       "    <tr style=\"text-align: right;\">\n",
       "      <th></th>\n",
       "      <th>Tree-structured Parzen Estimator</th>\n",
       "      <th>Random Sampler</th>\n",
       "      <th>Genetic Algorithm</th>\n",
       "      <th>Quasi Monte Carlo</th>\n",
       "    </tr>\n",
       "    <tr>\n",
       "      <th>metrics</th>\n",
       "      <th></th>\n",
       "      <th></th>\n",
       "      <th></th>\n",
       "      <th></th>\n",
       "    </tr>\n",
       "  </thead>\n",
       "  <tbody>\n",
       "    <tr>\n",
       "      <th>Accuracy</th>\n",
       "      <td>0.912239</td>\n",
       "      <td>0.903668</td>\n",
       "      <td>0.906754</td>\n",
       "      <td>0.904011</td>\n",
       "    </tr>\n",
       "    <tr>\n",
       "      <th>Precision</th>\n",
       "      <td>0.907005</td>\n",
       "      <td>0.896947</td>\n",
       "      <td>0.873256</td>\n",
       "      <td>0.938375</td>\n",
       "    </tr>\n",
       "    <tr>\n",
       "      <th>Recall</th>\n",
       "      <td>0.633221</td>\n",
       "      <td>0.594435</td>\n",
       "      <td>0.633221</td>\n",
       "      <td>0.564924</td>\n",
       "    </tr>\n",
       "    <tr>\n",
       "      <th>F1-score</th>\n",
       "      <td>0.745780</td>\n",
       "      <td>0.715010</td>\n",
       "      <td>0.734115</td>\n",
       "      <td>0.705263</td>\n",
       "    </tr>\n",
       "    <tr>\n",
       "      <th>AUC</th>\n",
       "      <td>0.808327</td>\n",
       "      <td>0.788504</td>\n",
       "      <td>0.804885</td>\n",
       "      <td>0.777729</td>\n",
       "    </tr>\n",
       "    <tr>\n",
       "      <th>H-measure</th>\n",
       "      <td>0.535375</td>\n",
       "      <td>0.491948</td>\n",
       "      <td>0.522100</td>\n",
       "      <td>0.476017</td>\n",
       "    </tr>\n",
       "  </tbody>\n",
       "</table>\n",
       "</div>"
      ],
      "text/plain": [
       "           Tree-structured Parzen Estimator  Random Sampler  \\\n",
       "metrics                                                       \n",
       "Accuracy                           0.912239        0.903668   \n",
       "Precision                          0.907005        0.896947   \n",
       "Recall                             0.633221        0.594435   \n",
       "F1-score                           0.745780        0.715010   \n",
       "AUC                                0.808327        0.788504   \n",
       "H-measure                          0.535375        0.491948   \n",
       "\n",
       "           Genetic Algorithm  Quasi Monte Carlo  \n",
       "metrics                                          \n",
       "Accuracy            0.906754           0.904011  \n",
       "Precision           0.873256           0.938375  \n",
       "Recall              0.633221           0.564924  \n",
       "F1-score            0.734115           0.705263  \n",
       "AUC                 0.804885           0.777729  \n",
       "H-measure           0.522100           0.476017  "
      ]
     },
     "execution_count": 285,
     "metadata": {},
     "output_type": "execute_result"
    }
   ],
   "source": [
    "df_3 = pd.read_csv(r'C:\\Users\\...\\credit_risk_dataset_3_Layer_scores.csv')\n",
    "\n",
    "df_3[\"metrics\"] = rownames\n",
    "\n",
    "# Set the index of the DataFrame to the list\n",
    "df_3.set_index(\"metrics\", inplace=True )\n",
    "\n",
    "# Prin 5 forst lines of df\n",
    "df_3\n"
   ]
  },
  {
   "cell_type": "markdown",
   "id": "65254161",
   "metadata": {},
   "source": [
    "As we can observe, Tree-structured Parzen Estimator produces the most dominated metrics, and as a result we will use these score to compare with the others MPL models. "
   ]
  },
  {
   "cell_type": "code",
   "execution_count": 286,
   "id": "e43fed8d",
   "metadata": {},
   "outputs": [
    {
     "data": {
      "text/html": [
       "<div>\n",
       "<style scoped>\n",
       "    .dataframe tbody tr th:only-of-type {\n",
       "        vertical-align: middle;\n",
       "    }\n",
       "\n",
       "    .dataframe tbody tr th {\n",
       "        vertical-align: top;\n",
       "    }\n",
       "\n",
       "    .dataframe thead th {\n",
       "        text-align: right;\n",
       "    }\n",
       "</style>\n",
       "<table border=\"1\" class=\"dataframe\">\n",
       "  <thead>\n",
       "    <tr style=\"text-align: right;\">\n",
       "      <th></th>\n",
       "      <th>3 Hidden Layer MPL</th>\n",
       "    </tr>\n",
       "    <tr>\n",
       "      <th>metrics</th>\n",
       "      <th></th>\n",
       "    </tr>\n",
       "  </thead>\n",
       "  <tbody>\n",
       "    <tr>\n",
       "      <th>Accuracy</th>\n",
       "      <td>0.912239</td>\n",
       "    </tr>\n",
       "    <tr>\n",
       "      <th>Precision</th>\n",
       "      <td>0.907005</td>\n",
       "    </tr>\n",
       "    <tr>\n",
       "      <th>Recall</th>\n",
       "      <td>0.633221</td>\n",
       "    </tr>\n",
       "    <tr>\n",
       "      <th>F1-score</th>\n",
       "      <td>0.745780</td>\n",
       "    </tr>\n",
       "    <tr>\n",
       "      <th>AUC</th>\n",
       "      <td>0.808327</td>\n",
       "    </tr>\n",
       "    <tr>\n",
       "      <th>H-measure</th>\n",
       "      <td>0.535375</td>\n",
       "    </tr>\n",
       "  </tbody>\n",
       "</table>\n",
       "</div>"
      ],
      "text/plain": [
       "           3 Hidden Layer MPL\n",
       "metrics                      \n",
       "Accuracy             0.912239\n",
       "Precision            0.907005\n",
       "Recall               0.633221\n",
       "F1-score             0.745780\n",
       "AUC                  0.808327\n",
       "H-measure            0.535375"
      ]
     },
     "execution_count": 286,
     "metadata": {},
     "output_type": "execute_result"
    }
   ],
   "source": [
    "# Keep only Random Sampler\n",
    "df_3 = df_3.drop([\"Genetic Algorithm\", \"Random Sampler\", \"Quasi Monte Carlo\"], axis = 1)\n",
    "df_3.rename(columns={\"Tree-structured Parzen Estimator\": \"3 Hidden Layer MPL\"}, inplace=True)\n",
    "\n",
    "# Print df3\n",
    "df_3"
   ]
  },
  {
   "cell_type": "markdown",
   "id": "a5360bdf",
   "metadata": {},
   "source": [
    "Now, let's merge the best metrics of each model stucture.\n"
   ]
  },
  {
   "cell_type": "code",
   "execution_count": 287,
   "id": "1f53cb68",
   "metadata": {
    "scrolled": false
   },
   "outputs": [
    {
     "data": {
      "text/html": [
       "<div>\n",
       "<style scoped>\n",
       "    .dataframe tbody tr th:only-of-type {\n",
       "        vertical-align: middle;\n",
       "    }\n",
       "\n",
       "    .dataframe tbody tr th {\n",
       "        vertical-align: top;\n",
       "    }\n",
       "\n",
       "    .dataframe thead th {\n",
       "        text-align: right;\n",
       "    }\n",
       "</style>\n",
       "<table border=\"1\" class=\"dataframe\">\n",
       "  <thead>\n",
       "    <tr style=\"text-align: right;\">\n",
       "      <th>metrics</th>\n",
       "      <th>AUC</th>\n",
       "      <th>Accuracy</th>\n",
       "      <th>F1-score</th>\n",
       "      <th>H-measure</th>\n",
       "    </tr>\n",
       "  </thead>\n",
       "  <tbody>\n",
       "    <tr>\n",
       "      <th>1 Hidden Layer MPL</th>\n",
       "      <td>0.727165</td>\n",
       "      <td>0.866472</td>\n",
       "      <td>0.599897</td>\n",
       "      <td>0.347785</td>\n",
       "    </tr>\n",
       "    <tr>\n",
       "      <th>2 Hidden Layer MPL</th>\n",
       "      <td>0.801861</td>\n",
       "      <td>0.907439</td>\n",
       "      <td>0.732673</td>\n",
       "      <td>0.518255</td>\n",
       "    </tr>\n",
       "    <tr>\n",
       "      <th>3 Hidden Layer MPL</th>\n",
       "      <td>0.808327</td>\n",
       "      <td>0.912239</td>\n",
       "      <td>0.745780</td>\n",
       "      <td>0.535375</td>\n",
       "    </tr>\n",
       "  </tbody>\n",
       "</table>\n",
       "</div>"
      ],
      "text/plain": [
       "metrics                  AUC  Accuracy  F1-score  H-measure\n",
       "1 Hidden Layer MPL  0.727165  0.866472  0.599897   0.347785\n",
       "2 Hidden Layer MPL  0.801861  0.907439  0.732673   0.518255\n",
       "3 Hidden Layer MPL  0.808327  0.912239  0.745780   0.535375"
      ]
     },
     "execution_count": 287,
     "metadata": {},
     "output_type": "execute_result"
    }
   ],
   "source": [
    "# Merge and create raw data\n",
    "df_C = pd.concat([df_1,df_2,df_3],axis =1)\n",
    "\n",
    "\n",
    "# drop preecision and recall\n",
    "df_C = df_C.drop(['Precision', 'Recall'])\n",
    "\n",
    "# change the index order\n",
    "new_index = ['AUC',  'Accuracy', 'F1-score',  \"H-measure\"]\n",
    "df_C = df_C.reindex(new_index).transpose()\n",
    "\n",
    "df_C"
   ]
  },
  {
   "cell_type": "markdown",
   "id": "56ee761f",
   "metadata": {},
   "source": [
    "# Fuzzy AHP"
   ]
  },
  {
   "cell_type": "code",
   "execution_count": 288,
   "id": "a4bc4ef8",
   "metadata": {
    "scrolled": false
   },
   "outputs": [
    {
     "name": "stderr",
     "output_type": "stream",
     "text": [
      "C:\\Users\\User\\AppData\\Local\\Temp\\ipykernel_14800\\96684427.py:4: FutureWarning: convert_float is deprecated and will be removed in a future version.\n",
      "  df = pd.read_excel(r\"C:\\Users\\...\\weight_1.xlsx\",\n"
     ]
    },
    {
     "name": "stdout",
     "output_type": "stream",
     "text": [
      "Comparison pair-wise matrix                          AUC           Accuracy          F1-score  H-measure\n",
      "AUC                [1, 1, 1]          [1, 2, 3]         [2, 3, 4]  [3, 4, 5]\n",
      "Accuracy    [0.33, 0.5, 1.0]          [1, 1, 1]         [1, 2, 3]  [3, 4, 5]\n",
      "F1-score   [0.25, 0.33, 0.5]   [0.33, 0.5, 1.0]         [1, 1, 1]  [1, 2, 3]\n",
      "H-measure  [0.2, 0.25, 0.33]  [0.2, 0.25, 0.33]  [0.33, 0.5, 1.0]  [1, 1, 1]\n",
      "The consistency ratio is 0.0853. So should be claimed that the comparison matrix is consistent.\n"
     ]
    },
    {
     "data": {
      "image/png": "[encoded data removed]",
      "text/plain": [
       "<Figure size 720x432 with 1 Axes>"
      ]
     },
     "metadata": {
      "needs_background": "light"
     },
     "output_type": "display_data"
    }
   ],
   "source": [
    "####   AUC   ###\n",
    "\n",
    "# Import pair-wise comparison table for experts' preferences. \n",
    "df = pd.read_excel(r\"C:\\Users\\...\\weight_1.xlsx\", \n",
    "                      convert_float = False,index_col = \"Unnamed: 0\")  \n",
    "\n",
    "# Save Fuzzy weights for this case\n",
    "weights_1 = FuzzyAHP(df, \"AUC\")[1]"
   ]
  },
  {
   "cell_type": "markdown",
   "id": "ce323abe",
   "metadata": {},
   "source": [
    "# TOPSIS implementation\n",
    "\n",
    "Technique for Order Preference by Similarity to Ideal Solution (TOPSIS) came in the 1980s as a multi-criteria-based decision-making method. TOPSIS chooses the alternative of shortest the Euclidean distance from the ideal solution and greatest distance from the negative ideal solution. "
   ]
  },
  {
   "cell_type": "code",
   "execution_count": 290,
   "id": "ebb51133",
   "metadata": {
    "scrolled": false
   },
   "outputs": [
    {
     "name": "stdout",
     "output_type": "stream",
     "text": [
      "The normalized rating array is                     $X_{0}$   $X_{1}$   $X_{2}$   $X_{3}$\n",
      "1 Hidden Layer MPL  0.538251  0.558561  0.497695  0.422945\n",
      "2 Hidden Layer MPL  0.593541  0.584970  0.607850  0.630255\n",
      "3 Hidden Layer MPL  0.598327  0.588064  0.618723  0.651074\n",
      "The Weighted Normalized Ratings is                      $X_{0}$   $X_{1}$   $X_{2}$   $X_{3}$\n",
      "1 Hidden Layer MPL  0.251479  0.171801  0.082964  0.039419\n",
      "2 Hidden Layer MPL  0.277312  0.179923  0.101326  0.058741\n",
      "3 Hidden Layer MPL  0.279548  0.180875  0.103139  0.060681\n",
      "Positive and Negative Ideal Solutions are illustrated below:\n",
      "        $X_{0}$   $X_{1}$   $X_{2}$   $X_{3}$\n",
      "$A^*$  0.279548  0.180875  0.103139  0.060681\n",
      "$A^-$  0.251479  0.171801  0.082964  0.039419\n",
      "The Separation Measures and Similarities to PIS                        $S^*$     $S^-$     $C^*$\n",
      "1 Hidden Layer MPL  0.041585  0.000000  0.000000\n",
      "2 Hidden Layer MPL  0.003600  0.037997  0.913466\n",
      "3 Hidden Layer MPL  0.000000  0.041585  1.000000\n",
      "The best candidate/alternative according to C* is 3 Hidden Layer MPL\n",
      "The preferences in descending order are: 3 Hidden Layer MPL, 2 Hidden Layer MPL, 1 Hidden Layer MPL.\n"
     ]
    },
    {
     "data": {
      "image/png": "[encoded data removed]",
      "text/plain": [
       "<Figure size 720x432 with 1 Axes>"
      ]
     },
     "metadata": {
      "needs_background": "light"
     },
     "output_type": "display_data"
    }
   ],
   "source": [
    "# Use TOPSIS to find the ideal solution in this case.\n",
    "res = TOPSIS(df_C, weights_1,columns_positive_impact=(0,1,2,3), print_results=True, metric=\"AUC\")"
   ]
  },
  {
   "cell_type": "markdown",
   "id": "5b0fe214",
   "metadata": {},
   "source": [
    "As we observe 3 Hidden Layer MPL is the best model."
   ]
  },
  {
   "cell_type": "code",
   "execution_count": 274,
   "id": "245ce7d2",
   "metadata": {
    "scrolled": true
   },
   "outputs": [
    {
     "name": "stdout",
     "output_type": "stream",
     "text": [
      "There is no intersection between interest and worst density.\n",
      "There is no intersection between interest and intermediate density.\n",
      "The 3 Hidden Layer MPL is greater than 2 Hidden Layer MPL for every value in range of analysis.\n",
      "The 3 Hidden Layer MPL is greater than 1 Hidden Layer MPL for every value in range of analysis.\n"
     ]
    },
    {
     "data": {
      "image/png": "[encoded data removed]",
      "text/plain": [
       "<Figure size 720x504 with 1 Axes>"
      ]
     },
     "metadata": {
      "needs_background": "light"
     },
     "output_type": "display_data"
    }
   ],
   "source": [
    "# Sensitivity analysis of AUC weights\n",
    "scores = sensitivity_analysis(boundary = 0.2, metric = \"AUC\", df_1= df_C, weights = weights_1,columns_positive_impact=(0,1,2,3))"
   ]
  },
  {
   "cell_type": "code",
   "execution_count": 259,
   "id": "a51c1f13",
   "metadata": {
    "scrolled": false
   },
   "outputs": [
    {
     "name": "stderr",
     "output_type": "stream",
     "text": [
      "C:\\Users\\User\\AppData\\Local\\Temp\\ipykernel_14800\\3555852603.py:5: FutureWarning: convert_float is deprecated and will be removed in a future version.\n",
      "  df = pd.read_excel(r\"C:\\Users\\...\\weight_2.xlsx\",\n"
     ]
    },
    {
     "name": "stdout",
     "output_type": "stream",
     "text": [
      "Comparison pair-wise matrix                          AUC           Accuracy           F1-score  H-measure\n",
      "AUC                [1, 1, 1]   [0.33, 0.5, 1.0]   [0.33, 0.5, 1.0]  [2, 3, 4]\n",
      "Accuracy           [1, 2, 3]          [1, 1, 1]   [0.33, 0.5, 1.0]  [3, 4, 5]\n",
      "F1-score           [1, 2, 3]          [1, 2, 3]          [1, 1, 1]  [3, 4, 5]\n",
      "H-measure  [0.25, 0.33, 0.5]  [0.2, 0.25, 0.33]  [0.2, 0.25, 0.33]  [1, 1, 1]\n",
      "The consistency ratio is 0.0975. So should be claimed that the comparison matrix is consistent.\n"
     ]
    },
    {
     "data": {
      "image/png": "[encoded data removed]",
      "text/plain": [
       "<Figure size 720x432 with 1 Axes>"
      ]
     },
     "metadata": {
      "needs_background": "light"
     },
     "output_type": "display_data"
    },
    {
     "name": "stdout",
     "output_type": "stream",
     "text": [
      "The normalized rating array is                     $X_{0}$   $X_{1}$   $X_{2}$   $X_{3}$\n",
      "1 Hidden Layer MPL  0.538251  0.558561  0.497695  0.422945\n",
      "2 Hidden Layer MPL  0.593541  0.584970  0.607850  0.630255\n",
      "3 Hidden Layer MPL  0.598327  0.588064  0.618723  0.651074\n",
      "The Weighted Normalized Ratings is                      $X_{0}$   $X_{1}$   $X_{2}$   $X_{3}$\n",
      "1 Hidden Layer MPL  0.113716  0.174239  0.213176  0.034802\n",
      "2 Hidden Layer MPL  0.125397  0.182477  0.260359  0.051860\n",
      "3 Hidden Layer MPL  0.126408  0.183442  0.265016  0.053573\n",
      "Positive and Negative Ideal Solutions are illustrated below:\n",
      "        $X_{0}$   $X_{1}$   $X_{2}$   $X_{3}$\n",
      "$A^*$  0.126408  0.183442  0.265016  0.053573\n",
      "$A^-$  0.113716  0.174239  0.213176  0.034802\n",
      "The Separation Measures and Similarities to PIS                        $S^*$     $S^-$     $C^*$\n",
      "1 Hidden Layer MPL  0.057320  0.000000  0.000000\n",
      "2 Hidden Layer MPL  0.005156  0.052168  0.910062\n",
      "3 Hidden Layer MPL  0.000000  0.057320  1.000000\n",
      "The best candidate/alternative according to C* is 3 Hidden Layer MPL\n",
      "The preferences in descending order are: 3 Hidden Layer MPL, 2 Hidden Layer MPL, 1 Hidden Layer MPL.\n"
     ]
    },
    {
     "data": {
      "image/png": "[encoded data removed]",
      "text/plain": [
       "<Figure size 720x432 with 1 Axes>"
      ]
     },
     "metadata": {
      "needs_background": "light"
     },
     "output_type": "display_data"
    },
    {
     "name": "stdout",
     "output_type": "stream",
     "text": [
      "There is no intersection between interest and worst density.\n",
      "There is no intersection between interest and intermediate density.\n",
      "The 3 Hidden Layer MPL is greater than 1 Hidden Layer MPL for every value in range of analysis.\n",
      "The 3 Hidden Layer MPL is greater than 1 Hidden Layer MPL for every value in range of analysis.\n"
     ]
    },
    {
     "data": {
      "image/png": "[encoded data removed]",
      "text/plain": [
       "<Figure size 720x504 with 1 Axes>"
      ]
     },
     "metadata": {
      "needs_background": "light"
     },
     "output_type": "display_data"
    }
   ],
   "source": [
    "####   F1 score   ###\n",
    "\n",
    "# Import pair-wise comparison table for experts' preferences. \n",
    "df = pd.read_excel(r\"C:\\Users\\...\\weight_2.xlsx\",\n",
    "                      convert_float = False,index_col = \"Unnamed: 0\")  \n",
    "\n",
    "# Save Fuzzy weights for this case\n",
    "weights_2 = FuzzyAHP(df, \"F1-score\")[1]\n",
    "\n",
    "# Use TOPSIS to find the ideal solution in this case.\n",
    "res = TOPSIS(df_C, weights_2, columns_positive_impact=(0,1,2,3), print_results=True, metric=\"F1-score\")\n",
    "\n",
    "# Sensitivity analysis of AUC\n",
    "scores = sensitivity_analysis(boundary = 0.2, metric = \"F1-score\", df_1= df_C, weights = weights_2, columns_positive_impact=(0,1,2,3))"
   ]
  },
  {
   "cell_type": "code",
   "execution_count": 275,
   "id": "b13630da",
   "metadata": {},
   "outputs": [
    {
     "name": "stdout",
     "output_type": "stream",
     "text": [
      "Comparison pair-wise matrix                         AUC   Accuracy          F1-score          H-measure\n",
      "AUC               [1, 1, 1]  [1, 2, 3]         [1, 2, 3]  [0.2, 0.25, 0.33]\n",
      "Accuracy   [0.33, 0.5, 1.0]  [1, 1, 1]  [0.33, 0.5, 1.0]  [0.17, 0.2, 0.25]\n",
      "F1-score   [0.33, 0.5, 1.0]  [1, 2, 3]         [1, 1, 1]  [0.17, 0.2, 0.25]\n",
      "H-measure         [3, 4, 5]  [4, 5, 6]         [4, 5, 6]          [1, 1, 1]\n",
      "The consistency ratio is 0.097. So should be claimed that the comparison matrix is consistent.\n"
     ]
    },
    {
     "name": "stderr",
     "output_type": "stream",
     "text": [
      "C:\\Users\\User\\AppData\\Local\\Temp\\ipykernel_14800\\4103504630.py:4: FutureWarning: convert_float is deprecated and will be removed in a future version.\n",
      "  df = pd.read_excel(r\"C:\\Users\\...\\Fuzzy AHP\\weight_3.xlsx\",\n"
     ]
    },
    {
     "data": {
      "image/png": "[encoded data removed]",
      "text/plain": [
       "<Figure size 720x432 with 1 Axes>"
      ]
     },
     "metadata": {
      "needs_background": "light"
     },
     "output_type": "display_data"
    },
    {
     "name": "stdout",
     "output_type": "stream",
     "text": [
      "The normalized rating array is                     $X_{0}$   $X_{1}$   $X_{2}$   $X_{3}$\n",
      "1 Hidden Layer MPL  0.538251  0.558561  0.497695  0.422945\n",
      "2 Hidden Layer MPL  0.593541  0.584970  0.607850  0.630255\n",
      "3 Hidden Layer MPL  0.598327  0.588064  0.618723  0.651074\n",
      "The Weighted Normalized Ratings is                      $X_{0}$   $X_{1}$   $X_{2}$   $X_{3}$\n",
      "1 Hidden Layer MPL  0.104705  0.055130  0.067463  0.255060\n",
      "2 Hidden Layer MPL  0.115460  0.057737  0.082395  0.380080\n",
      "3 Hidden Layer MPL  0.116392  0.058042  0.083869  0.392635\n",
      "Positive and Negative Ideal Solutions are illustrated below:\n",
      "        $X_{0}$   $X_{1}$   $X_{2}$   $X_{3}$\n",
      "$A^*$  0.116392  0.058042  0.083869  0.392635\n",
      "$A^-$  0.104705  0.055130  0.067463  0.255060\n",
      "The Separation Measures and Similarities to PIS                        $S^*$     $S^-$    $C^*$\n",
      "1 Hidden Layer MPL  0.139072  0.000000  0.00000\n",
      "2 Hidden Layer MPL  0.012679  0.126394  0.90883\n",
      "3 Hidden Layer MPL  0.000000  0.139072  1.00000\n",
      "The best candidate/alternative according to C* is 3 Hidden Layer MPL\n",
      "The preferences in descending order are: 3 Hidden Layer MPL, 2 Hidden Layer MPL, 1 Hidden Layer MPL.\n"
     ]
    },
    {
     "data": {
      "image/png": "[encoded data removed]",
      "text/plain": [
       "<Figure size 720x432 with 1 Axes>"
      ]
     },
     "metadata": {
      "needs_background": "light"
     },
     "output_type": "display_data"
    },
    {
     "name": "stdout",
     "output_type": "stream",
     "text": [
      "There is no intersection between interest and worst density.\n",
      "There is no intersection between interest and intermediate density.\n",
      "The 3 Hidden Layer MPL is greater than 2 Hidden Layer MPL for every value in range of analysis.\n",
      "The 3 Hidden Layer MPL is greater than 1 Hidden Layer MPL for every value in range of analysis.\n"
     ]
    },
    {
     "data": {
      "image/png": "[encoded data removed]",
      "text/plain": [
       "<Figure size 720x504 with 1 Axes>"
      ]
     },
     "metadata": {
      "needs_background": "light"
     },
     "output_type": "display_data"
    }
   ],
   "source": [
    "####   H-measure   ###\n",
    "\n",
    "# Import pair-wise comparison table for experts' preferences. \n",
    "df = pd.read_excel(r\"C:\\Users\\...\\weight_3.xlsx\",\n",
    "                      convert_float = False,index_col = \"Unnamed: 0\")  \n",
    "\n",
    "# Save Fuzzy weights for this case\n",
    "weights_3 = FuzzyAHP(df, \"H-measure\")[1]\n",
    "\n",
    "# Use TOPSIS to find the ideal solution in this case.\n",
    "res = TOPSIS(df_C, weights_3, columns_positive_impact=(0,1,2,3), print_results=True, metric=\"H-measure\")\n",
    "\n",
    "# Sensitivity analysis of AUC\n",
    "scores = sensitivity_analysis(boundary = 0.2, metric = \"H-measure\", df_1= df_C, weights = weights_3, columns_positive_impact=(0,1,2,3))"
   ]
  },
  {
   "cell_type": "code",
   "execution_count": 277,
   "id": "a0dcb0de",
   "metadata": {},
   "outputs": [
    {
     "name": "stdout",
     "output_type": "stream",
     "text": [
      "Comparison pair-wise matrix                          AUC           Accuracy          F1-score  H-measure\n",
      "AUC                [1, 1, 1]  [0.2, 0.25, 0.33]         [1, 2, 3]  [2, 3, 4]\n",
      "Accuracy           [3, 4, 5]          [1, 1, 1]         [2, 3, 4]  [4, 5, 6]\n",
      "F1-score    [0.33, 0.5, 1.0]  [0.25, 0.33, 0.5]         [1, 1, 1]  [1, 2, 3]\n",
      "H-measure  [0.25, 0.33, 0.5]  [0.17, 0.2, 0.25]  [0.33, 0.5, 1.0]  [1, 1, 1]\n",
      "The consistency ratio is 0.0997. So should be claimed that the comparison matrix is consistent.\n"
     ]
    },
    {
     "name": "stderr",
     "output_type": "stream",
     "text": [
      "C:\\Users\\User\\AppData\\Local\\Temp\\ipykernel_14800\\3916066927.py:4: FutureWarning: convert_float is deprecated and will be removed in a future version.\n",
      "  df = pd.read_excel(r\"C:\\Users\\...\\weight_4.xlsx\",\n"
     ]
    },
    {
     "data": {
      "image/png": "[encoded data removed]",
      "text/plain": [
       "<Figure size 720x432 with 1 Axes>"
      ]
     },
     "metadata": {
      "needs_background": "light"
     },
     "output_type": "display_data"
    },
    {
     "name": "stdout",
     "output_type": "stream",
     "text": [
      "The normalized rating array is                     $X_{0}$   $X_{1}$   $X_{2}$   $X_{3}$\n",
      "1 Hidden Layer MPL  0.538251  0.558561  0.497695  0.422945\n",
      "2 Hidden Layer MPL  0.593541  0.584970  0.607850  0.630255\n",
      "3 Hidden Layer MPL  0.598327  0.588064  0.618723  0.651074\n",
      "The Weighted Normalized Ratings is                      $X_{0}$   $X_{1}$   $X_{2}$   $X_{3}$\n",
      "1 Hidden Layer MPL  0.120713  0.312365  0.077979  0.037425\n",
      "2 Hidden Layer MPL  0.133113  0.327133  0.095239  0.055769\n",
      "3 Hidden Layer MPL  0.134187  0.328863  0.096942  0.057612\n",
      "Positive and Negative Ideal Solutions are illustrated below:\n",
      "        $X_{0}$   $X_{1}$   $X_{2}$   $X_{3}$\n",
      "$A^*$  0.134187  0.328863  0.096942  0.057612\n",
      "$A^-$  0.120713  0.312365  0.077979  0.037425\n",
      "The Separation Measures and Similarities to PIS                        $S^*$     $S^-$    $C^*$\n",
      "1 Hidden Layer MPL  0.034940  0.000000  0.00000\n",
      "2 Hidden Layer MPL  0.003231  0.031722  0.90755\n",
      "3 Hidden Layer MPL  0.000000  0.034940  1.00000\n",
      "The best candidate/alternative according to C* is 3 Hidden Layer MPL\n",
      "The preferences in descending order are: 3 Hidden Layer MPL, 2 Hidden Layer MPL, 1 Hidden Layer MPL.\n"
     ]
    },
    {
     "data": {
      "image/png": "[encoded data removed]",
      "text/plain": [
       "<Figure size 720x432 with 1 Axes>"
      ]
     },
     "metadata": {
      "needs_background": "light"
     },
     "output_type": "display_data"
    },
    {
     "name": "stdout",
     "output_type": "stream",
     "text": [
      "There is no intersection between interest and worst density.\n",
      "There is no intersection between interest and intermediate density.\n",
      "The 3 Hidden Layer MPL is greater than 2 Hidden Layer MPL for every value in range of analysis.\n",
      "The 3 Hidden Layer MPL is greater than 1 Hidden Layer MPL for every value in range of analysis.\n"
     ]
    },
    {
     "data": {
      "image/png": "[encoded data removed]",
      "text/plain": [
       "<Figure size 720x504 with 1 Axes>"
      ]
     },
     "metadata": {
      "needs_background": "light"
     },
     "output_type": "display_data"
    }
   ],
   "source": [
    "####  Accuracy   ###\n",
    "\n",
    "# Import pair-wise comparison table for experts' preferences. \n",
    "df = pd.read_excel(r\"C:\\Users\\...\\weight_4.xlsx\",\n",
    "                      convert_float = False,index_col = \"Unnamed: 0\")  \n",
    "\n",
    "# Save Fuzzy weights for this case\n",
    "weights_4 = FuzzyAHP(df, \"Accuracy\")[1]\n",
    "\n",
    "# Use TOPSIS to find the ideal solution in this case.\n",
    "res = TOPSIS(df_C, weights_4, columns_positive_impact=(0,1,2,3), print_results=True, metric=\"Accuracy\")\n",
    "\n",
    "# Sensitivity analysis of AUC\n",
    "scores = sensitivity_analysis(boundary = 0.2, metric = \"Accuracy\", df_1= df_C, weights = weights_4, columns_positive_impact=(0,1,2,3))"
   ]
  }
 ],
 "metadata": {
  "kernelspec": {
   "display_name": "Python 3 (ipykernel)",
   "language": "python",
   "name": "python3"
  },
  "language_info": {
   "codemirror_mode": {
    "name": "ipython",
    "version": 3
   },
   "file_extension": ".py",
   "mimetype": "text/x-python",
   "name": "python",
   "nbconvert_exporter": "python",
   "pygments_lexer": "ipython3",
   "version": "3.9.12"
  }
 },
 "nbformat": 4,
 "nbformat_minor": 5
}
