{
 "cells": [
  {
   "cell_type": "code",
   "execution_count": 1,
   "id": "30413973",
   "metadata": {},
   "outputs": [
    {
     "data": {
      "text/html": [
       "<div>\n",
       "<style scoped>\n",
       "    .dataframe tbody tr th:only-of-type {\n",
       "        vertical-align: middle;\n",
       "    }\n",
       "\n",
       "    .dataframe tbody tr th {\n",
       "        vertical-align: top;\n",
       "    }\n",
       "\n",
       "    .dataframe thead th {\n",
       "        text-align: right;\n",
       "    }\n",
       "</style>\n",
       "<table border=\"1\" class=\"dataframe\">\n",
       "  <thead>\n",
       "    <tr style=\"text-align: right;\">\n",
       "      <th></th>\n",
       "      <th>person_age</th>\n",
       "      <th>person_income</th>\n",
       "      <th>person_emp_length</th>\n",
       "      <th>loan_amnt</th>\n",
       "      <th>loan_int_rate</th>\n",
       "      <th>loan_percent_income</th>\n",
       "      <th>cb_person_cred_hist_length</th>\n",
       "      <th>person_home_ownership</th>\n",
       "      <th>loan_intent</th>\n",
       "      <th>loan_grade</th>\n",
       "      <th>cb_person_default_on_file</th>\n",
       "      <th>loan_status</th>\n",
       "    </tr>\n",
       "  </thead>\n",
       "  <tbody>\n",
       "    <tr>\n",
       "      <th>0</th>\n",
       "      <td>23</td>\n",
       "      <td>120000</td>\n",
       "      <td>1.0</td>\n",
       "      <td>25600</td>\n",
       "      <td>12.69</td>\n",
       "      <td>0.21</td>\n",
       "      <td>3</td>\n",
       "      <td>3</td>\n",
       "      <td>1</td>\n",
       "      <td>1</td>\n",
       "      <td>0</td>\n",
       "      <td>0</td>\n",
       "    </tr>\n",
       "    <tr>\n",
       "      <th>1</th>\n",
       "      <td>21</td>\n",
       "      <td>42500</td>\n",
       "      <td>3.0</td>\n",
       "      <td>25000</td>\n",
       "      <td>12.73</td>\n",
       "      <td>0.59</td>\n",
       "      <td>3</td>\n",
       "      <td>3</td>\n",
       "      <td>1</td>\n",
       "      <td>2</td>\n",
       "      <td>1</td>\n",
       "      <td>1</td>\n",
       "    </tr>\n",
       "    <tr>\n",
       "      <th>2</th>\n",
       "      <td>26</td>\n",
       "      <td>48000</td>\n",
       "      <td>2.0</td>\n",
       "      <td>25000</td>\n",
       "      <td>9.64</td>\n",
       "      <td>0.52</td>\n",
       "      <td>4</td>\n",
       "      <td>3</td>\n",
       "      <td>1</td>\n",
       "      <td>1</td>\n",
       "      <td>0</td>\n",
       "      <td>1</td>\n",
       "    </tr>\n",
       "    <tr>\n",
       "      <th>3</th>\n",
       "      <td>25</td>\n",
       "      <td>42360</td>\n",
       "      <td>1.0</td>\n",
       "      <td>25000</td>\n",
       "      <td>16.35</td>\n",
       "      <td>0.59</td>\n",
       "      <td>3</td>\n",
       "      <td>3</td>\n",
       "      <td>1</td>\n",
       "      <td>4</td>\n",
       "      <td>1</td>\n",
       "      <td>1</td>\n",
       "    </tr>\n",
       "    <tr>\n",
       "      <th>4</th>\n",
       "      <td>23</td>\n",
       "      <td>50000</td>\n",
       "      <td>1.0</td>\n",
       "      <td>25000</td>\n",
       "      <td>7.90</td>\n",
       "      <td>0.50</td>\n",
       "      <td>3</td>\n",
       "      <td>3</td>\n",
       "      <td>0</td>\n",
       "      <td>0</td>\n",
       "      <td>0</td>\n",
       "      <td>1</td>\n",
       "    </tr>\n",
       "  </tbody>\n",
       "</table>\n",
       "</div>"
      ],
      "text/plain": [
       "   person_age  person_income  person_emp_length  loan_amnt  loan_int_rate  \\\n",
       "0          23         120000                1.0      25600          12.69   \n",
       "1          21          42500                3.0      25000          12.73   \n",
       "2          26          48000                2.0      25000           9.64   \n",
       "3          25          42360                1.0      25000          16.35   \n",
       "4          23          50000                1.0      25000           7.90   \n",
       "\n",
       "   loan_percent_income  cb_person_cred_hist_length  person_home_ownership  \\\n",
       "0                 0.21                           3                      3   \n",
       "1                 0.59                           3                      3   \n",
       "2                 0.52                           4                      3   \n",
       "3                 0.59                           3                      3   \n",
       "4                 0.50                           3                      3   \n",
       "\n",
       "   loan_intent  loan_grade  cb_person_default_on_file  loan_status  \n",
       "0            1           1                          0            0  \n",
       "1            1           2                          1            1  \n",
       "2            1           1                          0            1  \n",
       "3            1           4                          1            1  \n",
       "4            0           0                          0            1  "
      ]
     },
     "execution_count": 1,
     "metadata": {},
     "output_type": "execute_result"
    }
   ],
   "source": [
    "import pandas as pd\n",
    "import numpy as np\n",
    "import seaborn as sns\n",
    "import matplotlib.pyplot as plt\n",
    "\n",
    "import timeit\n",
    "\n",
    "from sklearn.metrics import confusion_matrix, classification_report, precision_recall_curve\n",
    "from sklearn.metrics import roc_auc_score, roc_curve, f1_score, precision_score, recall_score, accuracy_score, auc\n",
    "from hmeasure import h_score\n",
    "from sklearn.model_selection import train_test_split\n",
    "from sklearn.preprocessing import StandardScaler\n",
    "from sklearn.metrics import classification_report, precision_score, recall_score, f1_score, precision_recall_fscore_support,roc_auc_score, accuracy_score\n",
    "from sklearn.model_selection import cross_val_score\n",
    "from sklearn.preprocessing import LabelEncoder\n",
    "from sklearn.model_selection import StratifiedKFold\n",
    "from sklearn.pipeline import Pipeline\n",
    "\n",
    "import optuna\n",
    "\n",
    "import tensorflow as tf\n",
    "from tensorflow import keras\n",
    "from tensorflow.keras import layers\n",
    "from tensorflow.keras.callbacks import EarlyStopping\n",
    "from tensorflow.keras import regularizers\n",
    "\n",
    "from keras.layers import Dense, Dropout\n",
    "from keras.regularizers import l2\n",
    "from keras.layers import LeakyReLU\n",
    "from keras.wrappers.scikit_learn import KerasClassifier\n",
    "from keras import initializers\n",
    "from keras.models import Sequential\n",
    "from keras.optimizers import Adam\n",
    "\n",
    "# Read the data using csv\n",
    "path_train = r'C:\\Users\\...........\\credit_risk_dataset_cleanedtraining.csv'\n",
    "df_train = pd.read_csv(path_train, encoding = \"ISO-8859-1\")\n",
    "\n",
    "path_test = r'C:\\Users\\............\\credit_risk_dataset_cleanedtesting.csv'\n",
    "df_test = pd.read_csv(path_test, encoding = \"ISO-8859-1\")\n",
    "\n",
    "# Prin 5 forst lines of df\n",
    "df_train.head()"
   ]
  },
  {
   "cell_type": "code",
   "execution_count": 5,
   "id": "1edf2774",
   "metadata": {},
   "outputs": [],
   "source": [
    "#pip install hmeasure"
   ]
  },
  {
   "cell_type": "code",
   "execution_count": 2,
   "id": "185c6f92",
   "metadata": {},
   "outputs": [],
   "source": [
    "X_test, y_test = df_test.iloc[:,:-1], df_test.iloc[:,-1]\n",
    "\n",
    "X_train, y_train = df_train.iloc[:,:-1], df_train.iloc[:,-1]\n",
    "\n",
    "X_train, X_val, y_train, y_val = train_test_split(X_train, y_train, stratify=y_train, test_size=0.2)"
   ]
  },
  {
   "cell_type": "code",
   "execution_count": 3,
   "id": "516ba865",
   "metadata": {},
   "outputs": [],
   "source": [
    "class tuning_methods:\n",
    "    \n",
    "    def __init__(self, X_train, X_val, y_train,  y_val, X_test, y_test):\n",
    "        self.X_train = X_train\n",
    "        self.X_val = X_val\n",
    "        self.y_train = y_train\n",
    "        self.y_val = y_val\n",
    "        self.X_test = X_test\n",
    "        self.y_test = y_test\n",
    "        \n",
    "    \n",
    "    # Define the Keras model\n",
    "    def create_model(self, units, alpha, dropout, l2_kern, l2_bias, lr, batch_size):        # \n",
    "        \n",
    "        model = Sequential()\n",
    "        model.add(Dense(units, input_shape=(self.X_train.shape[1],), \n",
    "                                 activation =model.add(LeakyReLU(alpha=alpha)),\n",
    "                                 kernel_regularizer = l2(l2_kern),\n",
    "                                 bias_regularizer = l2(l2_bias),\n",
    "                                 kernel_initializer = initializers.RandomNormal(mean=0.0, stddev=0.05)\n",
    "            ))\n",
    "        model.add(Dropout(dropout))\n",
    "        model.add(Dense(1, activation='sigmoid'))\n",
    "        optimizer = Adam(learning_rate=lr)\n",
    "        model.compile(optimizer=optimizer,\n",
    "                  loss='binary_crossentropy', \n",
    "                  metrics=['AUC'])\n",
    "        return model\n",
    "    \n",
    "    \n",
    "    # Define the Optuna study\n",
    "    def objective(self, trial):\n",
    "        \n",
    "        # Define the pipeline\n",
    "        pipeline = Pipeline([\n",
    "                ('scaler', StandardScaler()),\n",
    "                ('classifier', KerasClassifier(build_fn=self.create_model, verbose=0))\n",
    "                ])\n",
    "\n",
    "        # Set hyperparameters\n",
    "        units = trial.suggest_int('units', 2, 40)\n",
    "        alpha = trial.suggest_float('alpha', 0.01, 0.1)\n",
    "        dropout = trial.suggest_float(\"dropout\", 0.2, 0.5)    \n",
    "        lr = trial.suggest_float(\"lr\", 5e-5, 1e-2, log=True)\n",
    "        batch_size = trial.suggest_categorical('batch_size', [16, 32, 64, 128, 256, 512, 1024])\n",
    "        l2_kern = trial.suggest_float(\"l2_kern\",  1e-5, 1e-2, log=True)\n",
    "        l2_bias = trial.suggest_float(\"l2_bias\",  1e-5, 1e-2, log=True)\n",
    "        epochs = 200\n",
    "        validation_data = (self.X_val, self.y_val)\n",
    "        early_stopping = EarlyStopping(monitor='loss', patience=5, restore_best_weights=True)\n",
    "        pipeline.set_params(classifier__units=units,\n",
    "                        classifier__alpha=alpha,\n",
    "                        classifier__l2_kern=l2_kern,\n",
    "                        classifier__l2_bias=l2_bias,\n",
    "                        classifier__dropout=dropout,\n",
    "                        classifier__lr=lr,\n",
    "                        classifier__epochs = epochs,\n",
    "                        classifier__batch_size = batch_size,\n",
    "                        classifier__validation_data = validation_data,\n",
    "                        classifier__callbacks=[early_stopping])\n",
    "        kfold = StratifiedKFold(n_splits=3, shuffle=True, random_state=2023)\n",
    "        scores = cross_val_score(pipeline, self.X_train, self.y_train, cv=kfold, scoring=\"roc_auc\", error_score='raise')\n",
    "    \n",
    "        if trial.should_prune():\n",
    "            raise optuna.TrialPruned()\n",
    "\n",
    "        return np.mean(scores)\n",
    "\n",
    "    def Tuning(self, n_trials=100, sampler = optuna.samplers.TPESampler()):\n",
    "        \n",
    "        start = timeit.default_timer()\n",
    "\n",
    "        study = optuna.create_study(direction=\"maximize\",             \n",
    "                            sampler=sampler, \n",
    "                            pruner= optuna.pruners.MedianPruner()\n",
    "                           )\n",
    "        study.optimize(self.objective, n_trials=n_trials)  # to be converged it needs atleast 200 trials \n",
    "\n",
    "        print(\"Number of finished trials: {}\".format(len(study.trials)))\n",
    "\n",
    "        print(\"Best trial:\")\n",
    "        trial = study.best_trial\n",
    "\n",
    "        print(\"  Value: {}\".format(trial.value))\n",
    "\n",
    "        stop = timeit.default_timer()\n",
    "\n",
    "        time_opt = stop - start\n",
    "        params_TPE = []\n",
    "\n",
    "        for key, value in trial.params.items():\n",
    "            params_TPE.append([key,value])\n",
    "            print(\"    {}: {}\".format(key, value))\n",
    "            \n",
    "        params_TPE.append([\"time\",round(time_opt/60,2)])\n",
    "\n",
    "        return params_TPE\n",
    "    \n",
    "    def Best_MLP_model(self, params):\n",
    "        units = params[0][1]\n",
    "        alpha = np.round(params[1][1],3)\n",
    "        dropout = np.round(params[2][1],2)\n",
    "        lr = np.round(params[3][1],5)\n",
    "        batchs = params[4][1]\n",
    "        kernel_regularizer=np.round(params[5][1],5)\n",
    "        bias_regularizer=np.round(params[6][1],5)\n",
    "\n",
    "        # Define the pipeline\n",
    "        pipeline = Pipeline([\n",
    "                    ('scaler', StandardScaler()),\n",
    "                    ('classifier', KerasClassifier(build_fn=tun.create_model, verbose=0))\n",
    "                ])\n",
    "\n",
    "        # Set hyperparameters\n",
    "        epochs = 200\n",
    "        validation_data = (self.X_val, self.y_val)\n",
    "        early_stopping = EarlyStopping(monitor='loss', patience=5, restore_best_weights=True)\n",
    "        pipeline.set_params(classifier__units=units,\n",
    "                        classifier__alpha=alpha,\n",
    "                        classifier__l2_kern=kernel_regularizer,\n",
    "                        classifier__l2_bias=bias_regularizer,\n",
    "                        classifier__dropout=dropout,\n",
    "                        classifier__lr=lr,\n",
    "                        classifier__epochs = epochs,\n",
    "                        classifier__batch_size = batchs,\n",
    "                        classifier__validation_data = validation_data,\n",
    "                        classifier__callbacks=[early_stopping])\n",
    "        \n",
    "        # Use cross validation to monitor the deferrence between training and testing data as an evidence of overfitting\n",
    "        kfold = StratifiedKFold(n_splits=5, shuffle=True, random_state=2023)\n",
    "        scores_train = cross_val_score(pipeline, self.X_train, self.y_train, cv=kfold, scoring=\"roc_auc\", error_score='raise')\n",
    "        mean_score_train = np.mean(scores_train)\n",
    "\n",
    "        kfold = StratifiedKFold(n_splits=5, shuffle=True, random_state=2023)\n",
    "        scores_test = cross_val_score(pipeline, self.X_test, self.y_test, cv=kfold, scoring=\"roc_auc\", error_score='raise')\n",
    "        mean_score_test = np.mean(scores_test)\n",
    "\n",
    "        print(f\"Train mean AUC score is {mean_score_train} while test mean AUC score is {mean_score_test}.\")\n",
    "      \n",
    "        # Fit the pipeline to the training data\n",
    "        history = pipeline.fit(self.X_train, self.y_train)\n",
    "\n",
    "        #score = pipeline.evaluate(X_test, y_test, verbose=0)  \n",
    "\n",
    "        y_pred_prob_tpe = pipeline.predict(self.X_test)\n",
    "\n",
    "        y_pred_tpe = y_pred_prob_tpe.round()\n",
    "\n",
    "        print(classification_report(self.y_test, y_pred_tpe, target_names = ['No','Yes']))\n",
    "\n",
    "        acc = accuracy_score(self.y_test, y_pred_tpe)\n",
    "        pre = precision_score(self.y_test, y_pred_tpe)\n",
    "        rec = recall_score(self.y_test, y_pred_tpe)\n",
    "        f1 = f1_score(self.y_test, y_pred_tpe)\n",
    "        auc = roc_auc_score(self.y_test, y_pred_tpe)\n",
    "        y_test_array = np.array(self.y_test)\n",
    "        y_pred_tpe_array = np.array(y_pred_tpe)\n",
    "        H_measure = h_score(y_test_array, y_pred_tpe_array)\n",
    "\n",
    "        opt = [acc, pre, rec, f1, auc, H_measure]\n",
    "\n",
    "        scores = pd.DataFrame(opt, index =['Accuracy', 'Precision', 'Recall', 'F1-score', 'AUC', \"H-measure\"], \n",
    "                              columns =['Tree-structured Parzen Estimator'])\n",
    "        \n",
    "        return scores "
   ]
  },
  {
   "cell_type": "markdown",
   "id": "7d490ce6",
   "metadata": {},
   "source": [
    "## Take scores for every tuning algorithm"
   ]
  },
  {
   "cell_type": "code",
   "execution_count": null,
   "id": "1f91daea",
   "metadata": {
    "scrolled": true
   },
   "outputs": [
    {
     "name": "stderr",
     "output_type": "stream",
     "text": [
      "\u001b[32m[I 2023-03-01 21:31:12,282]\u001b[0m A new study created in memory with name: no-name-a40475db-4f9d-4596-b00f-48afa465a8a1\u001b[0m\n",
      "C:\\Users\\User\\AppData\\Local\\Temp\\ipykernel_9208\\3785980822.py:37: DeprecationWarning: KerasClassifier is deprecated, use Sci-Keras (https://github.com/adriangb/scikeras) instead. See https://www.adriangb.com/scikeras/stable/migration.html for help migrating.\n",
      "  ('classifier', KerasClassifier(build_fn=self.create_model, verbose=0))\n"
     ]
    },
    {
     "name": "stdout",
     "output_type": "stream",
     "text": [
      "195/195 [==============================] - 1s 2ms/step\n",
      "195/195 [==============================] - 0s 2ms/step\n",
      "195/195 [==============================] - 0s 2ms/step\n"
     ]
    },
    {
     "name": "stderr",
     "output_type": "stream",
     "text": [
      "\u001b[32m[I 2023-03-01 21:32:28,156]\u001b[0m Trial 0 finished with value: 0.8535131674171074 and parameters: {'units': 34, 'alpha': 0.09822043197323257, 'dropout': 0.21817536378332675, 'lr': 0.0006970271511110475, 'batch_size': 32, 'l2_kern': 0.0031146406105100775, 'l2_bias': 1.5730042323055288e-05}. Best is trial 0 with value: 0.8535131674171074.\u001b[0m\n",
      "C:\\Users\\User\\AppData\\Local\\Temp\\ipykernel_9208\\3785980822.py:37: DeprecationWarning: KerasClassifier is deprecated, use Sci-Keras (https://github.com/adriangb/scikeras) instead. See https://www.adriangb.com/scikeras/stable/migration.html for help migrating.\n",
      "  ('classifier', KerasClassifier(build_fn=self.create_model, verbose=0))\n"
     ]
    },
    {
     "name": "stdout",
     "output_type": "stream",
     "text": [
      "195/195 [==============================] - 0s 2ms/step\n",
      "195/195 [==============================] - 0s 2ms/step\n",
      "195/195 [==============================] - 0s 2ms/step\n"
     ]
    },
    {
     "name": "stderr",
     "output_type": "stream",
     "text": [
      "\u001b[32m[I 2023-03-01 21:33:48,888]\u001b[0m Trial 1 finished with value: 0.8495650501409896 and parameters: {'units': 3, 'alpha': 0.013845901865392926, 'dropout': 0.4933531551725452, 'lr': 0.0071989471295323595, 'batch_size': 16, 'l2_kern': 0.006963743187804702, 'l2_bias': 0.0011863842767857447}. Best is trial 0 with value: 0.8535131674171074.\u001b[0m\n",
      "C:\\Users\\User\\AppData\\Local\\Temp\\ipykernel_9208\\3785980822.py:37: DeprecationWarning: KerasClassifier is deprecated, use Sci-Keras (https://github.com/adriangb/scikeras) instead. See https://www.adriangb.com/scikeras/stable/migration.html for help migrating.\n",
      "  ('classifier', KerasClassifier(build_fn=self.create_model, verbose=0))\n"
     ]
    },
    {
     "name": "stdout",
     "output_type": "stream",
     "text": [
      "195/195 [==============================] - 0s 2ms/step\n",
      "195/195 [==============================] - 0s 1ms/step\n",
      "195/195 [==============================] - 0s 1ms/step\n"
     ]
    },
    {
     "name": "stderr",
     "output_type": "stream",
     "text": [
      "\u001b[32m[I 2023-03-01 21:35:48,693]\u001b[0m Trial 2 finished with value: 0.8550115871330116 and parameters: {'units': 34, 'alpha': 0.030336902764654804, 'dropout': 0.38848905454579363, 'lr': 5.494370542298581e-05, 'batch_size': 64, 'l2_kern': 0.00012619925483234394, 'l2_bias': 0.0022598982846877896}. Best is trial 2 with value: 0.8550115871330116.\u001b[0m\n",
      "C:\\Users\\User\\AppData\\Local\\Temp\\ipykernel_9208\\3785980822.py:37: DeprecationWarning: KerasClassifier is deprecated, use Sci-Keras (https://github.com/adriangb/scikeras) instead. See https://www.adriangb.com/scikeras/stable/migration.html for help migrating.\n",
      "  ('classifier', KerasClassifier(build_fn=self.create_model, verbose=0))\n"
     ]
    },
    {
     "name": "stdout",
     "output_type": "stream",
     "text": [
      "195/195 [==============================] - 0s 1ms/step\n",
      "195/195 [==============================] - 0s 1ms/step\n",
      "195/195 [==============================] - 0s 1ms/step\n"
     ]
    },
    {
     "name": "stderr",
     "output_type": "stream",
     "text": [
      "\u001b[32m[I 2023-03-01 21:36:21,261]\u001b[0m Trial 3 finished with value: 0.8530613302756477 and parameters: {'units': 33, 'alpha': 0.052205758365314485, 'dropout': 0.46533889456095495, 'lr': 0.006204635321217524, 'batch_size': 32, 'l2_kern': 0.0017697842987962995, 'l2_bias': 0.00029540238631190293}. Best is trial 2 with value: 0.8550115871330116.\u001b[0m\n",
      "C:\\Users\\User\\AppData\\Local\\Temp\\ipykernel_9208\\3785980822.py:37: DeprecationWarning: KerasClassifier is deprecated, use Sci-Keras (https://github.com/adriangb/scikeras) instead. See https://www.adriangb.com/scikeras/stable/migration.html for help migrating.\n",
      "  ('classifier', KerasClassifier(build_fn=self.create_model, verbose=0))\n"
     ]
    },
    {
     "name": "stdout",
     "output_type": "stream",
     "text": [
      "195/195 [==============================] - 0s 1ms/step\n",
      "195/195 [==============================] - 0s 2ms/step\n",
      "195/195 [==============================] - 0s 1ms/step\n"
     ]
    },
    {
     "name": "stderr",
     "output_type": "stream",
     "text": [
      "\u001b[32m[I 2023-03-01 21:37:18,858]\u001b[0m Trial 4 finished with value: 0.8508872562714993 and parameters: {'units': 24, 'alpha': 0.063284086097501, 'dropout': 0.3069534589633241, 'lr': 0.009525467423991628, 'batch_size': 16, 'l2_kern': 4.89412318730304e-05, 'l2_bias': 9.925154032958517e-05}. Best is trial 2 with value: 0.8550115871330116.\u001b[0m\n",
      "C:\\Users\\User\\AppData\\Local\\Temp\\ipykernel_9208\\3785980822.py:37: DeprecationWarning: KerasClassifier is deprecated, use Sci-Keras (https://github.com/adriangb/scikeras) instead. See https://www.adriangb.com/scikeras/stable/migration.html for help migrating.\n",
      "  ('classifier', KerasClassifier(build_fn=self.create_model, verbose=0))\n"
     ]
    },
    {
     "name": "stdout",
     "output_type": "stream",
     "text": [
      "195/195 [==============================] - 0s 1ms/step\n",
      "195/195 [==============================] - 0s 1ms/step\n",
      "195/195 [==============================] - 0s 1ms/step\n"
     ]
    },
    {
     "name": "stderr",
     "output_type": "stream",
     "text": [
      "\u001b[32m[I 2023-03-01 21:37:30,196]\u001b[0m Trial 5 finished with value: 0.8540957053074939 and parameters: {'units': 37, 'alpha': 0.03417734214827186, 'dropout': 0.3738593647139796, 'lr': 0.007669229291027445, 'batch_size': 256, 'l2_kern': 2.4652084127256435e-05, 'l2_bias': 2.7849678325525013e-05}. Best is trial 2 with value: 0.8550115871330116.\u001b[0m\n",
      "C:\\Users\\User\\AppData\\Local\\Temp\\ipykernel_9208\\3785980822.py:37: DeprecationWarning: KerasClassifier is deprecated, use Sci-Keras (https://github.com/adriangb/scikeras) instead. See https://www.adriangb.com/scikeras/stable/migration.html for help migrating.\n",
      "  ('classifier', KerasClassifier(build_fn=self.create_model, verbose=0))\n"
     ]
    },
    {
     "name": "stdout",
     "output_type": "stream",
     "text": [
      "195/195 [==============================] - 0s 1ms/step\n",
      "195/195 [==============================] - 0s 1ms/step\n",
      "195/195 [==============================] - 0s 1ms/step\n"
     ]
    },
    {
     "name": "stderr",
     "output_type": "stream",
     "text": [
      "\u001b[32m[I 2023-03-01 21:37:58,959]\u001b[0m Trial 6 finished with value: 0.852316573036822 and parameters: {'units': 19, 'alpha': 0.08166411148616788, 'dropout': 0.2822243393724976, 'lr': 0.005044487980313767, 'batch_size': 64, 'l2_kern': 0.00025284677182498986, 'l2_bias': 0.006522056988066332}. Best is trial 2 with value: 0.8550115871330116.\u001b[0m\n",
      "C:\\Users\\User\\AppData\\Local\\Temp\\ipykernel_9208\\3785980822.py:37: DeprecationWarning: KerasClassifier is deprecated, use Sci-Keras (https://github.com/adriangb/scikeras) instead. See https://www.adriangb.com/scikeras/stable/migration.html for help migrating.\n",
      "  ('classifier', KerasClassifier(build_fn=self.create_model, verbose=0))\n"
     ]
    },
    {
     "name": "stdout",
     "output_type": "stream",
     "text": [
      "195/195 [==============================] - 0s 1ms/step\n",
      "195/195 [==============================] - 0s 1ms/step\n",
      "195/195 [==============================] - 0s 1ms/step\n"
     ]
    },
    {
     "name": "stderr",
     "output_type": "stream",
     "text": [
      "\u001b[32m[I 2023-03-01 21:39:00,489]\u001b[0m Trial 7 finished with value: 0.8549558441201741 and parameters: {'units': 23, 'alpha': 0.012458826341535105, 'dropout': 0.3701648154846322, 'lr': 0.00011264382469884349, 'batch_size': 64, 'l2_kern': 0.0012368727222991241, 'l2_bias': 0.0006149287407071442}. Best is trial 2 with value: 0.8550115871330116.\u001b[0m\n",
      "C:\\Users\\User\\AppData\\Local\\Temp\\ipykernel_9208\\3785980822.py:37: DeprecationWarning: KerasClassifier is deprecated, use Sci-Keras (https://github.com/adriangb/scikeras) instead. See https://www.adriangb.com/scikeras/stable/migration.html for help migrating.\n",
      "  ('classifier', KerasClassifier(build_fn=self.create_model, verbose=0))\n"
     ]
    },
    {
     "name": "stdout",
     "output_type": "stream",
     "text": [
      "195/195 [==============================] - 0s 1ms/step\n",
      "195/195 [==============================] - 0s 1ms/step\n",
      "195/195 [==============================] - 0s 1ms/step\n"
     ]
    },
    {
     "name": "stderr",
     "output_type": "stream",
     "text": [
      "\u001b[32m[I 2023-03-01 21:39:39,911]\u001b[0m Trial 8 finished with value: 0.8231791939421326 and parameters: {'units': 19, 'alpha': 0.09849631946546081, 'dropout': 0.3160954343343672, 'lr': 6.917952928262948e-05, 'batch_size': 1024, 'l2_kern': 0.003455582163746317, 'l2_bias': 0.005606104183910206}. Best is trial 2 with value: 0.8550115871330116.\u001b[0m\n",
      "C:\\Users\\User\\AppData\\Local\\Temp\\ipykernel_9208\\3785980822.py:37: DeprecationWarning: KerasClassifier is deprecated, use Sci-Keras (https://github.com/adriangb/scikeras) instead. See https://www.adriangb.com/scikeras/stable/migration.html for help migrating.\n",
      "  ('classifier', KerasClassifier(build_fn=self.create_model, verbose=0))\n"
     ]
    },
    {
     "name": "stdout",
     "output_type": "stream",
     "text": [
      "195/195 [==============================] - 0s 1ms/step\n",
      "195/195 [==============================] - 0s 1ms/step\n",
      "195/195 [==============================] - 0s 1ms/step\n"
     ]
    },
    {
     "name": "stderr",
     "output_type": "stream",
     "text": [
      "\u001b[32m[I 2023-03-01 21:40:18,289]\u001b[0m Trial 9 finished with value: 0.8545888665118402 and parameters: {'units': 17, 'alpha': 0.08011572242086017, 'dropout': 0.3916236917014083, 'lr': 0.0002330270278917624, 'batch_size': 64, 'l2_kern': 0.0003267667782828367, 'l2_bias': 0.0006104781945663332}. Best is trial 2 with value: 0.8550115871330116.\u001b[0m\n",
      "C:\\Users\\User\\AppData\\Local\\Temp\\ipykernel_9208\\3785980822.py:37: DeprecationWarning: KerasClassifier is deprecated, use Sci-Keras (https://github.com/adriangb/scikeras) instead. See https://www.adriangb.com/scikeras/stable/migration.html for help migrating.\n",
      "  ('classifier', KerasClassifier(build_fn=self.create_model, verbose=0))\n"
     ]
    },
    {
     "name": "stdout",
     "output_type": "stream",
     "text": [
      "195/195 [==============================] - 0s 1ms/step\n",
      "195/195 [==============================] - 0s 1ms/step\n",
      "195/195 [==============================] - 0s 1ms/step\n"
     ]
    },
    {
     "name": "stderr",
     "output_type": "stream",
     "text": [
      "\u001b[32m[I 2023-03-01 21:40:31,978]\u001b[0m Trial 10 finished with value: 0.854261804707512 and parameters: {'units': 40, 'alpha': 0.03108365318813499, 'dropout': 0.4254241449060633, 'lr': 0.0012517543575139248, 'batch_size': 512, 'l2_kern': 0.00012118978739946234, 'l2_bias': 0.001853543960634468}. Best is trial 2 with value: 0.8550115871330116.\u001b[0m\n",
      "C:\\Users\\User\\AppData\\Local\\Temp\\ipykernel_9208\\3785980822.py:37: DeprecationWarning: KerasClassifier is deprecated, use Sci-Keras (https://github.com/adriangb/scikeras) instead. See https://www.adriangb.com/scikeras/stable/migration.html for help migrating.\n",
      "  ('classifier', KerasClassifier(build_fn=self.create_model, verbose=0))\n"
     ]
    },
    {
     "name": "stdout",
     "output_type": "stream",
     "text": [
      "195/195 [==============================] - 0s 1ms/step\n",
      "195/195 [==============================] - 0s 1ms/step\n",
      "195/195 [==============================] - 0s 1ms/step\n"
     ]
    },
    {
     "name": "stderr",
     "output_type": "stream",
     "text": [
      "\u001b[32m[I 2023-03-01 21:41:52,921]\u001b[0m Trial 11 finished with value: 0.8552620287132079 and parameters: {'units': 27, 'alpha': 0.012795171557363302, 'dropout': 0.4134612084692838, 'lr': 5.10963324935506e-05, 'batch_size': 64, 'l2_kern': 0.0007488833512615813, 'l2_bias': 0.000223127077840679}. Best is trial 11 with value: 0.8552620287132079.\u001b[0m\n",
      "C:\\Users\\User\\AppData\\Local\\Temp\\ipykernel_9208\\3785980822.py:37: DeprecationWarning: KerasClassifier is deprecated, use Sci-Keras (https://github.com/adriangb/scikeras) instead. See https://www.adriangb.com/scikeras/stable/migration.html for help migrating.\n",
      "  ('classifier', KerasClassifier(build_fn=self.create_model, verbose=0))\n"
     ]
    },
    {
     "name": "stdout",
     "output_type": "stream",
     "text": [
      "195/195 [==============================] - 0s 1ms/step\n",
      "195/195 [==============================] - 0s 1ms/step\n",
      "195/195 [==============================] - 0s 1ms/step\n"
     ]
    },
    {
     "name": "stderr",
     "output_type": "stream",
     "text": [
      "\u001b[32m[I 2023-03-01 21:42:54,987]\u001b[0m Trial 12 finished with value: 0.8542467418207383 and parameters: {'units': 29, 'alpha': 0.03083274327648242, 'dropout': 0.43054575275313905, 'lr': 5.6489851363509836e-05, 'batch_size': 128, 'l2_kern': 0.0004137417739667893, 'l2_bias': 9.797988133663794e-05}. Best is trial 11 with value: 0.8552620287132079.\u001b[0m\n",
      "C:\\Users\\User\\AppData\\Local\\Temp\\ipykernel_9208\\3785980822.py:37: DeprecationWarning: KerasClassifier is deprecated, use Sci-Keras (https://github.com/adriangb/scikeras) instead. See https://www.adriangb.com/scikeras/stable/migration.html for help migrating.\n",
      "  ('classifier', KerasClassifier(build_fn=self.create_model, verbose=0))\n"
     ]
    },
    {
     "name": "stdout",
     "output_type": "stream",
     "text": [
      "195/195 [==============================] - 0s 1ms/step\n",
      "195/195 [==============================] - 0s 1ms/step\n",
      "195/195 [==============================] - 0s 1ms/step\n"
     ]
    },
    {
     "name": "stderr",
     "output_type": "stream",
     "text": [
      "\u001b[32m[I 2023-03-01 21:43:52,347]\u001b[0m Trial 13 finished with value: 0.8546159170805385 and parameters: {'units': 10, 'alpha': 0.02359839206449699, 'dropout': 0.42418644240726405, 'lr': 0.00020626173395605683, 'batch_size': 64, 'l2_kern': 1.2156823627298311e-05, 'l2_bias': 0.0001497855556322473}. Best is trial 11 with value: 0.8552620287132079.\u001b[0m\n",
      "C:\\Users\\User\\AppData\\Local\\Temp\\ipykernel_9208\\3785980822.py:37: DeprecationWarning: KerasClassifier is deprecated, use Sci-Keras (https://github.com/adriangb/scikeras) instead. See https://www.adriangb.com/scikeras/stable/migration.html for help migrating.\n",
      "  ('classifier', KerasClassifier(build_fn=self.create_model, verbose=0))\n"
     ]
    },
    {
     "name": "stdout",
     "output_type": "stream",
     "text": [
      "195/195 [==============================] - 0s 1ms/step\n",
      "195/195 [==============================] - 0s 1ms/step\n",
      "195/195 [==============================] - 0s 1ms/step\n"
     ]
    },
    {
     "name": "stderr",
     "output_type": "stream",
     "text": [
      "\u001b[32m[I 2023-03-01 21:44:28,201]\u001b[0m Trial 14 finished with value: 0.8540987355934299 and parameters: {'units': 28, 'alpha': 0.04406143800434283, 'dropout': 0.3454347759026166, 'lr': 0.0003851406762201341, 'batch_size': 64, 'l2_kern': 7.971436727924169e-05, 'l2_bias': 0.002355368676509149}. Best is trial 11 with value: 0.8552620287132079.\u001b[0m\n",
      "C:\\Users\\User\\AppData\\Local\\Temp\\ipykernel_9208\\3785980822.py:37: DeprecationWarning: KerasClassifier is deprecated, use Sci-Keras (https://github.com/adriangb/scikeras) instead. See https://www.adriangb.com/scikeras/stable/migration.html for help migrating.\n",
      "  ('classifier', KerasClassifier(build_fn=self.create_model, verbose=0))\n"
     ]
    },
    {
     "name": "stdout",
     "output_type": "stream",
     "text": [
      "195/195 [==============================] - 0s 1ms/step\n",
      "195/195 [==============================] - 0s 1ms/step\n",
      "195/195 [==============================] - 0s 1ms/step\n"
     ]
    },
    {
     "name": "stderr",
     "output_type": "stream",
     "text": [
      "\u001b[32m[I 2023-03-01 21:45:04,482]\u001b[0m Trial 15 finished with value: 0.8422893403597161 and parameters: {'units': 29, 'alpha': 0.01014984286631844, 'dropout': 0.4065216130755876, 'lr': 0.00011685036178253533, 'batch_size': 1024, 'l2_kern': 0.0007407525272430225, 'l2_bias': 4.449100738679076e-05}. Best is trial 11 with value: 0.8552620287132079.\u001b[0m\n",
      "C:\\Users\\User\\AppData\\Local\\Temp\\ipykernel_9208\\3785980822.py:37: DeprecationWarning: KerasClassifier is deprecated, use Sci-Keras (https://github.com/adriangb/scikeras) instead. See https://www.adriangb.com/scikeras/stable/migration.html for help migrating.\n",
      "  ('classifier', KerasClassifier(build_fn=self.create_model, verbose=0))\n"
     ]
    },
    {
     "name": "stdout",
     "output_type": "stream",
     "text": [
      "195/195 [==============================] - 0s 1ms/step\n",
      "195/195 [==============================] - 0s 1ms/step\n",
      "195/195 [==============================] - 0s 1ms/step\n"
     ]
    },
    {
     "name": "stderr",
     "output_type": "stream",
     "text": [
      "\u001b[32m[I 2023-03-01 21:45:15,250]\u001b[0m Trial 16 finished with value: 0.8546235439766163 and parameters: {'units': 14, 'alpha': 0.022662135298160954, 'dropout': 0.46422099539659745, 'lr': 0.0019480199946002913, 'batch_size': 512, 'l2_kern': 0.00015165039867320157, 'l2_bias': 0.00044886205806906194}. Best is trial 11 with value: 0.8552620287132079.\u001b[0m\n",
      "C:\\Users\\User\\AppData\\Local\\Temp\\ipykernel_9208\\3785980822.py:37: DeprecationWarning: KerasClassifier is deprecated, use Sci-Keras (https://github.com/adriangb/scikeras) instead. See https://www.adriangb.com/scikeras/stable/migration.html for help migrating.\n",
      "  ('classifier', KerasClassifier(build_fn=self.create_model, verbose=0))\n"
     ]
    },
    {
     "name": "stdout",
     "output_type": "stream",
     "text": [
      "195/195 [==============================] - 0s 1ms/step\n",
      "195/195 [==============================] - 0s 1ms/step\n",
      "195/195 [==============================] - 0s 1ms/step\n"
     ]
    },
    {
     "name": "stderr",
     "output_type": "stream",
     "text": [
      "\u001b[32m[I 2023-03-01 21:45:58,091]\u001b[0m Trial 17 finished with value: 0.8550168869067098 and parameters: {'units': 33, 'alpha': 0.04339458513073578, 'dropout': 0.24900727714730836, 'lr': 0.00010863415127803807, 'batch_size': 128, 'l2_kern': 0.0007416650517100494, 'l2_bias': 0.002986446564145005}. Best is trial 11 with value: 0.8552620287132079.\u001b[0m\n",
      "C:\\Users\\User\\AppData\\Local\\Temp\\ipykernel_9208\\3785980822.py:37: DeprecationWarning: KerasClassifier is deprecated, use Sci-Keras (https://github.com/adriangb/scikeras) instead. See https://www.adriangb.com/scikeras/stable/migration.html for help migrating.\n",
      "  ('classifier', KerasClassifier(build_fn=self.create_model, verbose=0))\n"
     ]
    },
    {
     "name": "stdout",
     "output_type": "stream",
     "text": [
      "195/195 [==============================] - 0s 1ms/step\n",
      "195/195 [==============================] - 0s 1ms/step\n",
      "195/195 [==============================] - 0s 1ms/step\n"
     ]
    },
    {
     "name": "stderr",
     "output_type": "stream",
     "text": [
      "\u001b[32m[I 2023-03-01 21:46:44,691]\u001b[0m Trial 18 finished with value: 0.8546532981714025 and parameters: {'units': 26, 'alpha': 0.04568852128560012, 'dropout': 0.21365703421451177, 'lr': 0.00012317352673697088, 'batch_size': 128, 'l2_kern': 0.0006785369905087417, 'l2_bias': 0.00024255280443988189}. Best is trial 11 with value: 0.8552620287132079.\u001b[0m\n",
      "C:\\Users\\User\\AppData\\Local\\Temp\\ipykernel_9208\\3785980822.py:37: DeprecationWarning: KerasClassifier is deprecated, use Sci-Keras (https://github.com/adriangb/scikeras) instead. See https://www.adriangb.com/scikeras/stable/migration.html for help migrating.\n",
      "  ('classifier', KerasClassifier(build_fn=self.create_model, verbose=0))\n"
     ]
    },
    {
     "name": "stdout",
     "output_type": "stream",
     "text": [
      "195/195 [==============================] - 0s 1ms/step\n",
      "195/195 [==============================] - 0s 1ms/step\n",
      "195/195 [==============================] - 0s 1ms/step\n"
     ]
    },
    {
     "name": "stderr",
     "output_type": "stream",
     "text": [
      "\u001b[32m[I 2023-03-01 21:47:18,178]\u001b[0m Trial 19 finished with value: 0.8550024489150455 and parameters: {'units': 32, 'alpha': 0.06479453216929683, 'dropout': 0.2573304727314911, 'lr': 0.0003678499323211563, 'batch_size': 128, 'l2_kern': 0.009182697494717729, 'l2_bias': 0.008548866844189896}. Best is trial 11 with value: 0.8552620287132079.\u001b[0m\n",
      "C:\\Users\\User\\AppData\\Local\\Temp\\ipykernel_9208\\3785980822.py:37: DeprecationWarning: KerasClassifier is deprecated, use Sci-Keras (https://github.com/adriangb/scikeras) instead. See https://www.adriangb.com/scikeras/stable/migration.html for help migrating.\n",
      "  ('classifier', KerasClassifier(build_fn=self.create_model, verbose=0))\n"
     ]
    },
    {
     "name": "stdout",
     "output_type": "stream",
     "text": [
      "195/195 [==============================] - 0s 1ms/step\n",
      "195/195 [==============================] - 0s 1ms/step\n",
      "195/195 [==============================] - 0s 2ms/step\n"
     ]
    },
    {
     "name": "stderr",
     "output_type": "stream",
     "text": [
      "\u001b[32m[I 2023-03-01 21:47:48,969]\u001b[0m Trial 20 finished with value: 0.8545237850352382 and parameters: {'units': 40, 'alpha': 0.04213774061664817, 'dropout': 0.2494453015781421, 'lr': 0.0002053350793072528, 'batch_size': 256, 'l2_kern': 0.0014247067827212062, 'l2_bias': 0.0010394390715263084}. Best is trial 11 with value: 0.8552620287132079.\u001b[0m\n",
      "C:\\Users\\User\\AppData\\Local\\Temp\\ipykernel_9208\\3785980822.py:37: DeprecationWarning: KerasClassifier is deprecated, use Sci-Keras (https://github.com/adriangb/scikeras) instead. See https://www.adriangb.com/scikeras/stable/migration.html for help migrating.\n",
      "  ('classifier', KerasClassifier(build_fn=self.create_model, verbose=0))\n"
     ]
    },
    {
     "name": "stdout",
     "output_type": "stream",
     "text": [
      "195/195 [==============================] - 0s 1ms/step\n",
      "195/195 [==============================] - 0s 1ms/step\n",
      "195/195 [==============================] - 0s 1ms/step\n"
     ]
    },
    {
     "name": "stderr",
     "output_type": "stream",
     "text": [
      "\u001b[32m[I 2023-03-01 21:48:59,279]\u001b[0m Trial 21 finished with value: 0.8542199509368542 and parameters: {'units': 34, 'alpha': 0.021320820104738635, 'dropout': 0.33921864759059617, 'lr': 5.1709421125949694e-05, 'batch_size': 128, 'l2_kern': 0.0005865447076978837, 'l2_bias': 0.003451035474687657}. Best is trial 11 with value: 0.8552620287132079.\u001b[0m\n",
      "C:\\Users\\User\\AppData\\Local\\Temp\\ipykernel_9208\\3785980822.py:37: DeprecationWarning: KerasClassifier is deprecated, use Sci-Keras (https://github.com/adriangb/scikeras) instead. See https://www.adriangb.com/scikeras/stable/migration.html for help migrating.\n",
      "  ('classifier', KerasClassifier(build_fn=self.create_model, verbose=0))\n"
     ]
    },
    {
     "name": "stdout",
     "output_type": "stream",
     "text": [
      "195/195 [==============================] - 0s 1ms/step\n",
      "195/195 [==============================] - 0s 1ms/step\n",
      "195/195 [==============================] - 0s 1ms/step\n"
     ]
    },
    {
     "name": "stderr",
     "output_type": "stream",
     "text": [
      "\u001b[32m[I 2023-03-01 21:49:58,778]\u001b[0m Trial 22 finished with value: 0.8550494594661124 and parameters: {'units': 30, 'alpha': 0.03377755336227815, 'dropout': 0.3708386604044722, 'lr': 8.777409370575427e-05, 'batch_size': 64, 'l2_kern': 0.00017706694742418322, 'l2_bias': 0.003241764277525576}. Best is trial 11 with value: 0.8552620287132079.\u001b[0m\n",
      "C:\\Users\\User\\AppData\\Local\\Temp\\ipykernel_9208\\3785980822.py:37: DeprecationWarning: KerasClassifier is deprecated, use Sci-Keras (https://github.com/adriangb/scikeras) instead. See https://www.adriangb.com/scikeras/stable/migration.html for help migrating.\n",
      "  ('classifier', KerasClassifier(build_fn=self.create_model, verbose=0))\n"
     ]
    },
    {
     "name": "stdout",
     "output_type": "stream",
     "text": [
      "195/195 [==============================] - 0s 1ms/step\n",
      "195/195 [==============================] - 0s 1ms/step\n",
      "195/195 [==============================] - 0s 1ms/step\n"
     ]
    },
    {
     "name": "stderr",
     "output_type": "stream",
     "text": [
      "\u001b[32m[I 2023-03-01 21:51:07,679]\u001b[0m Trial 23 finished with value: 0.8546562899068908 and parameters: {'units': 26, 'alpha': 0.054783607745444614, 'dropout': 0.3138027497947155, 'lr': 9.555009895236913e-05, 'batch_size': 64, 'l2_kern': 0.00021530245830848072, 'l2_bias': 0.004264219200190778}. Best is trial 11 with value: 0.8552620287132079.\u001b[0m\n",
      "C:\\Users\\User\\AppData\\Local\\Temp\\ipykernel_9208\\3785980822.py:37: DeprecationWarning: KerasClassifier is deprecated, use Sci-Keras (https://github.com/adriangb/scikeras) instead. See https://www.adriangb.com/scikeras/stable/migration.html for help migrating.\n",
      "  ('classifier', KerasClassifier(build_fn=self.create_model, verbose=0))\n"
     ]
    },
    {
     "name": "stdout",
     "output_type": "stream",
     "text": [
      "195/195 [==============================] - 0s 1ms/step\n",
      "195/195 [==============================] - 0s 1ms/step\n",
      "195/195 [==============================] - 0s 1ms/step\n"
     ]
    },
    {
     "name": "stderr",
     "output_type": "stream",
     "text": [
      "\u001b[32m[I 2023-03-01 21:52:04,386]\u001b[0m Trial 24 finished with value: 0.8549384332861371 and parameters: {'units': 30, 'alpha': 0.03804952706515695, 'dropout': 0.3585820709857633, 'lr': 8.335396156847835e-05, 'batch_size': 128, 'l2_kern': 4.7327082551056556e-05, 'l2_bias': 0.0010662189692678867}. Best is trial 11 with value: 0.8552620287132079.\u001b[0m\n",
      "C:\\Users\\User\\AppData\\Local\\Temp\\ipykernel_9208\\3785980822.py:37: DeprecationWarning: KerasClassifier is deprecated, use Sci-Keras (https://github.com/adriangb/scikeras) instead. See https://www.adriangb.com/scikeras/stable/migration.html for help migrating.\n",
      "  ('classifier', KerasClassifier(build_fn=self.create_model, verbose=0))\n"
     ]
    },
    {
     "name": "stdout",
     "output_type": "stream",
     "text": [
      "195/195 [==============================] - 0s 1ms/step\n",
      "195/195 [==============================] - 0s 1ms/step\n",
      "195/195 [==============================] - 0s 1ms/step\n"
     ]
    },
    {
     "name": "stderr",
     "output_type": "stream",
     "text": [
      "\u001b[32m[I 2023-03-01 21:52:49,740]\u001b[0m Trial 25 finished with value: 0.8544878197817297 and parameters: {'units': 23, 'alpha': 0.06335351403494453, 'dropout': 0.4488079860858801, 'lr': 0.0001705830452942873, 'batch_size': 64, 'l2_kern': 0.0009454918922686611, 'l2_bias': 0.00018675950239452436}. Best is trial 11 with value: 0.8552620287132079.\u001b[0m\n",
      "C:\\Users\\User\\AppData\\Local\\Temp\\ipykernel_9208\\3785980822.py:37: DeprecationWarning: KerasClassifier is deprecated, use Sci-Keras (https://github.com/adriangb/scikeras) instead. See https://www.adriangb.com/scikeras/stable/migration.html for help migrating.\n",
      "  ('classifier', KerasClassifier(build_fn=self.create_model, verbose=0))\n"
     ]
    },
    {
     "name": "stdout",
     "output_type": "stream",
     "text": [
      "195/195 [==============================] - 0s 1ms/step\n",
      "195/195 [==============================] - 0s 1ms/step\n",
      "195/195 [==============================] - 0s 1ms/step\n"
     ]
    },
    {
     "name": "stderr",
     "output_type": "stream",
     "text": [
      "\u001b[32m[I 2023-03-01 21:53:11,190]\u001b[0m Trial 26 finished with value: 0.8545446044633179 and parameters: {'units': 37, 'alpha': 0.017950360860640644, 'dropout': 0.2853868252690416, 'lr': 0.0005826337227005917, 'batch_size': 256, 'l2_kern': 0.0024202710488241464, 'l2_bias': 0.00906681116673328}. Best is trial 11 with value: 0.8552620287132079.\u001b[0m\n",
      "C:\\Users\\User\\AppData\\Local\\Temp\\ipykernel_9208\\3785980822.py:37: DeprecationWarning: KerasClassifier is deprecated, use Sci-Keras (https://github.com/adriangb/scikeras) instead. See https://www.adriangb.com/scikeras/stable/migration.html for help migrating.\n",
      "  ('classifier', KerasClassifier(build_fn=self.create_model, verbose=0))\n"
     ]
    },
    {
     "name": "stdout",
     "output_type": "stream",
     "text": [
      "195/195 [==============================] - 0s 1ms/step\n",
      "195/195 [==============================] - 0s 1ms/step\n",
      "195/195 [==============================] - 0s 1ms/step\n"
     ]
    },
    {
     "name": "stderr",
     "output_type": "stream",
     "text": [
      "\u001b[32m[I 2023-03-01 21:53:42,520]\u001b[0m Trial 27 finished with value: 0.8546488994507264 and parameters: {'units': 37, 'alpha': 0.02545541936665026, 'dropout': 0.32973350859056233, 'lr': 0.0001630623390147868, 'batch_size': 512, 'l2_kern': 0.0005224661366137238, 'l2_bias': 5.5631846724759524e-05}. Best is trial 11 with value: 0.8552620287132079.\u001b[0m\n",
      "C:\\Users\\User\\AppData\\Local\\Temp\\ipykernel_9208\\3785980822.py:37: DeprecationWarning: KerasClassifier is deprecated, use Sci-Keras (https://github.com/adriangb/scikeras) instead. See https://www.adriangb.com/scikeras/stable/migration.html for help migrating.\n",
      "  ('classifier', KerasClassifier(build_fn=self.create_model, verbose=0))\n"
     ]
    },
    {
     "name": "stdout",
     "output_type": "stream",
     "text": [
      "195/195 [==============================] - 0s 1ms/step\n",
      "195/195 [==============================] - 0s 1ms/step\n",
      "195/195 [==============================] - 0s 1ms/step\n"
     ]
    },
    {
     "name": "stderr",
     "output_type": "stream",
     "text": [
      "\u001b[32m[I 2023-03-01 21:54:39,395]\u001b[0m Trial 28 finished with value: 0.8540521886454576 and parameters: {'units': 26, 'alpha': 0.051798910839941904, 'dropout': 0.40521067273609285, 'lr': 0.00036857825746410553, 'batch_size': 32, 'l2_kern': 0.0003253623609139196, 'l2_bias': 0.0005252051469044794}. Best is trial 11 with value: 0.8552620287132079.\u001b[0m\n",
      "C:\\Users\\User\\AppData\\Local\\Temp\\ipykernel_9208\\3785980822.py:37: DeprecationWarning: KerasClassifier is deprecated, use Sci-Keras (https://github.com/adriangb/scikeras) instead. See https://www.adriangb.com/scikeras/stable/migration.html for help migrating.\n",
      "  ('classifier', KerasClassifier(build_fn=self.create_model, verbose=0))\n"
     ]
    },
    {
     "name": "stdout",
     "output_type": "stream",
     "text": [
      "195/195 [==============================] - 0s 1ms/step\n",
      "195/195 [==============================] - 0s 1ms/step\n",
      "195/195 [==============================] - 0s 1ms/step\n"
     ]
    },
    {
     "name": "stderr",
     "output_type": "stream",
     "text": [
      "\u001b[32m[I 2023-03-01 21:55:21,544]\u001b[0m Trial 29 finished with value: 0.8410376396858213 and parameters: {'units': 30, 'alpha': 0.04021120166996538, 'dropout': 0.25140820923318247, 'lr': 7.846269230607996e-05, 'batch_size': 1024, 'l2_kern': 0.002513610828465338, 'l2_bias': 0.0014605109793543586}. Best is trial 11 with value: 0.8552620287132079.\u001b[0m\n",
      "C:\\Users\\User\\AppData\\Local\\Temp\\ipykernel_9208\\3785980822.py:37: DeprecationWarning: KerasClassifier is deprecated, use Sci-Keras (https://github.com/adriangb/scikeras) instead. See https://www.adriangb.com/scikeras/stable/migration.html for help migrating.\n",
      "  ('classifier', KerasClassifier(build_fn=self.create_model, verbose=0))\n"
     ]
    },
    {
     "name": "stdout",
     "output_type": "stream",
     "text": [
      "195/195 [==============================] - 0s 1ms/step\n",
      "195/195 [==============================] - 0s 1ms/step\n",
      "195/195 [==============================] - 0s 1ms/step\n"
     ]
    },
    {
     "name": "stderr",
     "output_type": "stream",
     "text": [
      "\u001b[32m[I 2023-03-01 21:56:19,312]\u001b[0m Trial 30 finished with value: 0.8523071924138127 and parameters: {'units': 21, 'alpha': 0.07238711596865947, 'dropout': 0.23056297063104705, 'lr': 0.000971581436394432, 'batch_size': 16, 'l2_kern': 0.0035342984348631606, 'l2_bias': 1.6724732951246027e-05}. Best is trial 11 with value: 0.8552620287132079.\u001b[0m\n",
      "C:\\Users\\User\\AppData\\Local\\Temp\\ipykernel_9208\\3785980822.py:37: DeprecationWarning: KerasClassifier is deprecated, use Sci-Keras (https://github.com/adriangb/scikeras) instead. See https://www.adriangb.com/scikeras/stable/migration.html for help migrating.\n",
      "  ('classifier', KerasClassifier(build_fn=self.create_model, verbose=0))\n"
     ]
    },
    {
     "name": "stdout",
     "output_type": "stream",
     "text": [
      "195/195 [==============================] - 0s 1ms/step\n",
      "195/195 [==============================] - 0s 1ms/step\n",
      "195/195 [==============================] - 0s 1ms/step\n"
     ]
    },
    {
     "name": "stderr",
     "output_type": "stream",
     "text": [
      "\u001b[32m[I 2023-03-01 21:57:38,971]\u001b[0m Trial 31 finished with value: 0.8548633521716336 and parameters: {'units': 35, 'alpha': 0.029618554892095143, 'dropout': 0.3855291378466655, 'lr': 5.1612996499636436e-05, 'batch_size': 64, 'l2_kern': 0.00012495934843750173, 'l2_bias': 0.003229938891749704}. Best is trial 11 with value: 0.8552620287132079.\u001b[0m\n",
      "C:\\Users\\User\\AppData\\Local\\Temp\\ipykernel_9208\\3785980822.py:37: DeprecationWarning: KerasClassifier is deprecated, use Sci-Keras (https://github.com/adriangb/scikeras) instead. See https://www.adriangb.com/scikeras/stable/migration.html for help migrating.\n",
      "  ('classifier', KerasClassifier(build_fn=self.create_model, verbose=0))\n"
     ]
    },
    {
     "name": "stdout",
     "output_type": "stream",
     "text": [
      "195/195 [==============================] - 0s 1ms/step\n",
      "195/195 [==============================] - 0s 1ms/step\n",
      "195/195 [==============================] - 0s 1ms/step\n"
     ]
    },
    {
     "name": "stderr",
     "output_type": "stream",
     "text": [
      "\u001b[32m[I 2023-03-01 21:58:57,859]\u001b[0m Trial 32 finished with value: 0.8548704854054572 and parameters: {'units': 31, 'alpha': 0.017275378329080195, 'dropout': 0.3929049633953881, 'lr': 7.346694535632355e-05, 'batch_size': 64, 'l2_kern': 7.486686033974318e-05, 'l2_bias': 0.002350034649633793}. Best is trial 11 with value: 0.8552620287132079.\u001b[0m\n",
      "C:\\Users\\User\\AppData\\Local\\Temp\\ipykernel_9208\\3785980822.py:37: DeprecationWarning: KerasClassifier is deprecated, use Sci-Keras (https://github.com/adriangb/scikeras) instead. See https://www.adriangb.com/scikeras/stable/migration.html for help migrating.\n",
      "  ('classifier', KerasClassifier(build_fn=self.create_model, verbose=0))\n"
     ]
    },
    {
     "name": "stdout",
     "output_type": "stream",
     "text": [
      "195/195 [==============================] - 0s 1ms/step\n",
      "195/195 [==============================] - 0s 1ms/step\n",
      "195/195 [==============================] - 0s 1ms/step\n"
     ]
    },
    {
     "name": "stderr",
     "output_type": "stream",
     "text": [
      "\u001b[32m[I 2023-03-01 21:59:42,921]\u001b[0m Trial 33 finished with value: 0.8546966711608465 and parameters: {'units': 34, 'alpha': 0.04817318816821414, 'dropout': 0.20085516550836183, 'lr': 0.0001387683840876907, 'batch_size': 64, 'l2_kern': 0.00019225744068544496, 'l2_bias': 0.0008190449237071197}. Best is trial 11 with value: 0.8552620287132079.\u001b[0m\n",
      "C:\\Users\\User\\AppData\\Local\\Temp\\ipykernel_9208\\3785980822.py:37: DeprecationWarning: KerasClassifier is deprecated, use Sci-Keras (https://github.com/adriangb/scikeras) instead. See https://www.adriangb.com/scikeras/stable/migration.html for help migrating.\n",
      "  ('classifier', KerasClassifier(build_fn=self.create_model, verbose=0))\n"
     ]
    },
    {
     "name": "stdout",
     "output_type": "stream",
     "text": [
      "195/195 [==============================] - 0s 1ms/step\n",
      "195/195 [==============================] - 0s 1ms/step\n",
      "195/195 [==============================] - 0s 1ms/step\n"
     ]
    },
    {
     "name": "stderr",
     "output_type": "stream",
     "text": [
      "\u001b[32m[I 2023-03-01 22:01:18,440]\u001b[0m Trial 34 finished with value: 0.8545437085050684 and parameters: {'units': 32, 'alpha': 0.036410820090624366, 'dropout': 0.48710974758624037, 'lr': 9.146676076127232e-05, 'batch_size': 32, 'l2_kern': 9.040490262912194e-05, 'l2_bias': 0.004470373656106048}. Best is trial 11 with value: 0.8552620287132079.\u001b[0m\n",
      "C:\\Users\\User\\AppData\\Local\\Temp\\ipykernel_9208\\3785980822.py:37: DeprecationWarning: KerasClassifier is deprecated, use Sci-Keras (https://github.com/adriangb/scikeras) instead. See https://www.adriangb.com/scikeras/stable/migration.html for help migrating.\n",
      "  ('classifier', KerasClassifier(build_fn=self.create_model, verbose=0))\n"
     ]
    },
    {
     "name": "stdout",
     "output_type": "stream",
     "text": [
      "195/195 [==============================] - 0s 1ms/step\n",
      "195/195 [==============================] - 0s 1ms/step\n",
      "195/195 [==============================] - 0s 1ms/step\n"
     ]
    },
    {
     "name": "stderr",
     "output_type": "stream",
     "text": [
      "\u001b[32m[I 2023-03-01 22:04:38,887]\u001b[0m Trial 35 finished with value: 0.8545705357528933 and parameters: {'units': 36, 'alpha': 0.026674943197242822, 'dropout': 0.36022584304422844, 'lr': 5.2259464445641453e-05, 'batch_size': 16, 'l2_kern': 0.0009552553280486952, 'l2_bias': 0.00038342640455071934}. Best is trial 11 with value: 0.8552620287132079.\u001b[0m\n",
      "C:\\Users\\User\\AppData\\Local\\Temp\\ipykernel_9208\\3785980822.py:37: DeprecationWarning: KerasClassifier is deprecated, use Sci-Keras (https://github.com/adriangb/scikeras) instead. See https://www.adriangb.com/scikeras/stable/migration.html for help migrating.\n",
      "  ('classifier', KerasClassifier(build_fn=self.create_model, verbose=0))\n"
     ]
    },
    {
     "name": "stdout",
     "output_type": "stream",
     "text": [
      "195/195 [==============================] - 0s 1ms/step\n",
      "195/195 [==============================] - 0s 1ms/step\n",
      "195/195 [==============================] - 0s 1ms/step\n"
     ]
    },
    {
     "name": "stderr",
     "output_type": "stream",
     "text": [
      "\u001b[32m[I 2023-03-01 22:05:31,522]\u001b[0m Trial 36 finished with value: 0.8549412464073832 and parameters: {'units': 3, 'alpha': 0.03395550485118494, 'dropout': 0.44307822266101493, 'lr': 0.0002718343001679464, 'batch_size': 64, 'l2_kern': 3.963347156191384e-05, 'l2_bias': 0.0017383251834791969}. Best is trial 11 with value: 0.8552620287132079.\u001b[0m\n",
      "C:\\Users\\User\\AppData\\Local\\Temp\\ipykernel_9208\\3785980822.py:37: DeprecationWarning: KerasClassifier is deprecated, use Sci-Keras (https://github.com/adriangb/scikeras) instead. See https://www.adriangb.com/scikeras/stable/migration.html for help migrating.\n",
      "  ('classifier', KerasClassifier(build_fn=self.create_model, verbose=0))\n"
     ]
    },
    {
     "name": "stdout",
     "output_type": "stream",
     "text": [
      "195/195 [==============================] - 0s 1ms/step\n",
      "195/195 [==============================] - 0s 1ms/step\n",
      "195/195 [==============================] - 0s 1ms/step\n"
     ]
    },
    {
     "name": "stderr",
     "output_type": "stream",
     "text": [
      "\u001b[32m[I 2023-03-01 22:05:54,773]\u001b[0m Trial 37 finished with value: 0.8534056190564 and parameters: {'units': 26, 'alpha': 0.058773800902281896, 'dropout': 0.41142891799010534, 'lr': 0.0023214403602886146, 'batch_size': 64, 'l2_kern': 0.0004283911769225299, 'l2_bias': 0.0024543245001178255}. Best is trial 11 with value: 0.8552620287132079.\u001b[0m\n",
      "C:\\Users\\User\\AppData\\Local\\Temp\\ipykernel_9208\\3785980822.py:37: DeprecationWarning: KerasClassifier is deprecated, use Sci-Keras (https://github.com/adriangb/scikeras) instead. See https://www.adriangb.com/scikeras/stable/migration.html for help migrating.\n",
      "  ('classifier', KerasClassifier(build_fn=self.create_model, verbose=0))\n"
     ]
    },
    {
     "name": "stdout",
     "output_type": "stream",
     "text": [
      "195/195 [==============================] - 0s 1ms/step\n",
      "195/195 [==============================] - 0s 1ms/step\n",
      "195/195 [==============================] - 0s 1ms/step\n"
     ]
    },
    {
     "name": "stderr",
     "output_type": "stream",
     "text": [
      "\u001b[32m[I 2023-03-01 22:06:43,441]\u001b[0m Trial 38 finished with value: 0.8548531964214025 and parameters: {'units': 39, 'alpha': 0.019262431122854338, 'dropout': 0.2931045857858144, 'lr': 0.00010657742154160069, 'batch_size': 128, 'l2_kern': 2.2712091132443824e-05, 'l2_bias': 0.00636360900159704}. Best is trial 11 with value: 0.8552620287132079.\u001b[0m\n",
      "C:\\Users\\User\\AppData\\Local\\Temp\\ipykernel_9208\\3785980822.py:37: DeprecationWarning: KerasClassifier is deprecated, use Sci-Keras (https://github.com/adriangb/scikeras) instead. See https://www.adriangb.com/scikeras/stable/migration.html for help migrating.\n",
      "  ('classifier', KerasClassifier(build_fn=self.create_model, verbose=0))\n"
     ]
    },
    {
     "name": "stdout",
     "output_type": "stream",
     "text": [
      "195/195 [==============================] - 0s 1ms/step\n",
      "195/195 [==============================] - 0s 1ms/step\n",
      "195/195 [==============================] - 0s 1ms/step\n"
     ]
    },
    {
     "name": "stderr",
     "output_type": "stream",
     "text": [
      "\u001b[32m[I 2023-03-01 22:08:27,186]\u001b[0m Trial 39 finished with value: 0.8548816314733753 and parameters: {'units': 33, 'alpha': 0.04844766793417611, 'dropout': 0.376207837272158, 'lr': 6.943978093160478e-05, 'batch_size': 32, 'l2_kern': 0.0002701817387481812, 'l2_bias': 0.00029089972606760584}. Best is trial 11 with value: 0.8552620287132079.\u001b[0m\n",
      "C:\\Users\\User\\AppData\\Local\\Temp\\ipykernel_9208\\3785980822.py:37: DeprecationWarning: KerasClassifier is deprecated, use Sci-Keras (https://github.com/adriangb/scikeras) instead. See https://www.adriangb.com/scikeras/stable/migration.html for help migrating.\n",
      "  ('classifier', KerasClassifier(build_fn=self.create_model, verbose=0))\n"
     ]
    },
    {
     "name": "stdout",
     "output_type": "stream",
     "text": [
      "195/195 [==============================] - 0s 1ms/step\n",
      "195/195 [==============================] - 0s 1ms/step\n",
      "195/195 [==============================] - 0s 1ms/step\n"
     ]
    },
    {
     "name": "stderr",
     "output_type": "stream",
     "text": [
      "\u001b[32m[I 2023-03-01 22:08:47,573]\u001b[0m Trial 40 finished with value: 0.853099704231585 and parameters: {'units': 28, 'alpha': 0.01491781127525091, 'dropout': 0.36098926534999154, 'lr': 0.00455847561699943, 'batch_size': 64, 'l2_kern': 0.005267901113147224, 'l2_bias': 0.0007812485668637351}. Best is trial 11 with value: 0.8552620287132079.\u001b[0m\n",
      "C:\\Users\\User\\AppData\\Local\\Temp\\ipykernel_9208\\3785980822.py:37: DeprecationWarning: KerasClassifier is deprecated, use Sci-Keras (https://github.com/adriangb/scikeras) instead. See https://www.adriangb.com/scikeras/stable/migration.html for help migrating.\n",
      "  ('classifier', KerasClassifier(build_fn=self.create_model, verbose=0))\n"
     ]
    },
    {
     "name": "stdout",
     "output_type": "stream",
     "text": [
      "195/195 [==============================] - 0s 1ms/step\n",
      "195/195 [==============================] - 0s 1ms/step\n",
      "195/195 [==============================] - 0s 1ms/step\n"
     ]
    },
    {
     "name": "stderr",
     "output_type": "stream",
     "text": [
      "\u001b[32m[I 2023-03-01 22:09:23,900]\u001b[0m Trial 41 finished with value: 0.8543675757142791 and parameters: {'units': 32, 'alpha': 0.06692022371317796, 'dropout': 0.25900003983107917, 'lr': 0.0003226743128102385, 'batch_size': 128, 'l2_kern': 0.008930385584785445, 'l2_bias': 0.007002757237515901}. Best is trial 11 with value: 0.8552620287132079.\u001b[0m\n",
      "C:\\Users\\User\\AppData\\Local\\Temp\\ipykernel_9208\\3785980822.py:37: DeprecationWarning: KerasClassifier is deprecated, use Sci-Keras (https://github.com/adriangb/scikeras) instead. See https://www.adriangb.com/scikeras/stable/migration.html for help migrating.\n",
      "  ('classifier', KerasClassifier(build_fn=self.create_model, verbose=0))\n"
     ]
    },
    {
     "name": "stdout",
     "output_type": "stream",
     "text": [
      "195/195 [==============================] - 0s 1ms/step\n",
      "195/195 [==============================] - 0s 1ms/step\n",
      "195/195 [==============================] - 0s 1ms/step\n"
     ]
    },
    {
     "name": "stderr",
     "output_type": "stream",
     "text": [
      "\u001b[32m[I 2023-03-01 22:09:57,081]\u001b[0m Trial 42 finished with value: 0.8541736600861269 and parameters: {'units': 32, 'alpha': 0.0906844226966385, 'dropout': 0.26794085069776763, 'lr': 0.0005410049096478712, 'batch_size': 128, 'l2_kern': 0.006236391704974504, 'l2_bias': 0.008640880062443922}. Best is trial 11 with value: 0.8552620287132079.\u001b[0m\n",
      "C:\\Users\\User\\AppData\\Local\\Temp\\ipykernel_9208\\3785980822.py:37: DeprecationWarning: KerasClassifier is deprecated, use Sci-Keras (https://github.com/adriangb/scikeras) instead. See https://www.adriangb.com/scikeras/stable/migration.html for help migrating.\n",
      "  ('classifier', KerasClassifier(build_fn=self.create_model, verbose=0))\n"
     ]
    },
    {
     "name": "stdout",
     "output_type": "stream",
     "text": [
      "195/195 [==============================] - 0s 1ms/step\n",
      "195/195 [==============================] - 0s 1ms/step\n",
      "195/195 [==============================] - 0s 1ms/step\n"
     ]
    },
    {
     "name": "stderr",
     "output_type": "stream",
     "text": [
      "\u001b[32m[I 2023-03-01 22:10:50,726]\u001b[0m Trial 43 finished with value: 0.8543695454383481 and parameters: {'units': 38, 'alpha': 0.0685636152028572, 'dropout': 0.32964960595048715, 'lr': 6.276823071523914e-05, 'batch_size': 128, 'l2_kern': 0.001925164848176167, 'l2_bias': 0.003991511490004377}. Best is trial 11 with value: 0.8552620287132079.\u001b[0m\n",
      "C:\\Users\\User\\AppData\\Local\\Temp\\ipykernel_9208\\3785980822.py:37: DeprecationWarning: KerasClassifier is deprecated, use Sci-Keras (https://github.com/adriangb/scikeras) instead. See https://www.adriangb.com/scikeras/stable/migration.html for help migrating.\n",
      "  ('classifier', KerasClassifier(build_fn=self.create_model, verbose=0))\n"
     ]
    },
    {
     "name": "stdout",
     "output_type": "stream",
     "text": [
      "195/195 [==============================] - 0s 1ms/step\n",
      "195/195 [==============================] - 0s 1ms/step\n",
      "195/195 [==============================] - 0s 1ms/step\n"
     ]
    },
    {
     "name": "stderr",
     "output_type": "stream",
     "text": [
      "\u001b[32m[I 2023-03-01 22:11:38,343]\u001b[0m Trial 44 finished with value: 0.8541382533683123 and parameters: {'units': 24, 'alpha': 0.06082120502863342, 'dropout': 0.22920317232770457, 'lr': 0.00016168069170473416, 'batch_size': 128, 'l2_kern': 0.00018086365883750668, 'l2_bias': 0.009677701126432344}. Best is trial 11 with value: 0.8552620287132079.\u001b[0m\n",
      "C:\\Users\\User\\AppData\\Local\\Temp\\ipykernel_9208\\3785980822.py:37: DeprecationWarning: KerasClassifier is deprecated, use Sci-Keras (https://github.com/adriangb/scikeras) instead. See https://www.adriangb.com/scikeras/stable/migration.html for help migrating.\n",
      "  ('classifier', KerasClassifier(build_fn=self.create_model, verbose=0))\n"
     ]
    },
    {
     "name": "stdout",
     "output_type": "stream",
     "text": [
      "195/195 [==============================] - 0s 1ms/step\n",
      "195/195 [==============================] - 0s 1ms/step\n",
      "195/195 [==============================] - 0s 1ms/step\n"
     ]
    },
    {
     "name": "stderr",
     "output_type": "stream",
     "text": [
      "\u001b[32m[I 2023-03-01 22:12:19,107]\u001b[0m Trial 45 finished with value: 0.8544372459253532 and parameters: {'units': 35, 'alpha': 0.034963021860837856, 'dropout': 0.29669414205822076, 'lr': 9.567817277323662e-05, 'batch_size': 256, 'l2_kern': 0.00010152208744912705, 'l2_bias': 0.005139995563120304}. Best is trial 11 with value: 0.8552620287132079.\u001b[0m\n",
      "C:\\Users\\User\\AppData\\Local\\Temp\\ipykernel_9208\\3785980822.py:37: DeprecationWarning: KerasClassifier is deprecated, use Sci-Keras (https://github.com/adriangb/scikeras) instead. See https://www.adriangb.com/scikeras/stable/migration.html for help migrating.\n",
      "  ('classifier', KerasClassifier(build_fn=self.create_model, verbose=0))\n"
     ]
    },
    {
     "name": "stdout",
     "output_type": "stream",
     "text": [
      "195/195 [==============================] - 0s 1ms/step\n",
      "195/195 [==============================] - 0s 1ms/step\n",
      "195/195 [==============================] - 0s 1ms/step\n"
     ]
    },
    {
     "name": "stderr",
     "output_type": "stream",
     "text": [
      "\u001b[32m[I 2023-03-01 22:13:08,229]\u001b[0m Trial 46 finished with value: 0.8546693695684476 and parameters: {'units': 28, 'alpha': 0.028498682052367594, 'dropout': 0.2690517333569164, 'lr': 0.00013563699234595182, 'batch_size': 64, 'l2_kern': 6.466971559768968e-05, 'l2_bias': 0.0028404616477564135}. Best is trial 11 with value: 0.8552620287132079.\u001b[0m\n",
      "C:\\Users\\User\\AppData\\Local\\Temp\\ipykernel_9208\\3785980822.py:37: DeprecationWarning: KerasClassifier is deprecated, use Sci-Keras (https://github.com/adriangb/scikeras) instead. See https://www.adriangb.com/scikeras/stable/migration.html for help migrating.\n",
      "  ('classifier', KerasClassifier(build_fn=self.create_model, verbose=0))\n"
     ]
    },
    {
     "name": "stdout",
     "output_type": "stream",
     "text": [
      "195/195 [==============================] - 0s 1ms/step\n",
      "195/195 [==============================] - 0s 1ms/step\n",
      "195/195 [==============================] - 0s 1ms/step\n"
     ]
    },
    {
     "name": "stderr",
     "output_type": "stream",
     "text": [
      "\u001b[32m[I 2023-03-01 22:13:49,076]\u001b[0m Trial 47 finished with value: 0.8327055615452889 and parameters: {'units': 30, 'alpha': 0.0813502406184348, 'dropout': 0.38583013344242423, 'lr': 6.582887776009529e-05, 'batch_size': 1024, 'l2_kern': 0.001083214056341104, 'l2_bias': 0.001471424652984848}. Best is trial 11 with value: 0.8552620287132079.\u001b[0m\n",
      "C:\\Users\\User\\AppData\\Local\\Temp\\ipykernel_9208\\3785980822.py:37: DeprecationWarning: KerasClassifier is deprecated, use Sci-Keras (https://github.com/adriangb/scikeras) instead. See https://www.adriangb.com/scikeras/stable/migration.html for help migrating.\n",
      "  ('classifier', KerasClassifier(build_fn=self.create_model, verbose=0))\n"
     ]
    },
    {
     "name": "stdout",
     "output_type": "stream",
     "text": [
      "195/195 [==============================] - 0s 1ms/step\n",
      "195/195 [==============================] - 0s 1ms/step\n",
      "195/195 [==============================] - 0s 1ms/step\n"
     ]
    },
    {
     "name": "stderr",
     "output_type": "stream",
     "text": [
      "\u001b[32m[I 2023-03-01 22:15:00,497]\u001b[0m Trial 48 finished with value: 0.8540099265287614 and parameters: {'units': 9, 'alpha': 0.07580957463639304, 'dropout': 0.41813175496115923, 'lr': 0.0008767622325883169, 'batch_size': 16, 'l2_kern': 0.004395902238231888, 'l2_bias': 9.78452758092388e-05}. Best is trial 11 with value: 0.8552620287132079.\u001b[0m\n",
      "C:\\Users\\User\\AppData\\Local\\Temp\\ipykernel_9208\\3785980822.py:37: DeprecationWarning: KerasClassifier is deprecated, use Sci-Keras (https://github.com/adriangb/scikeras) instead. See https://www.adriangb.com/scikeras/stable/migration.html for help migrating.\n",
      "  ('classifier', KerasClassifier(build_fn=self.create_model, verbose=0))\n"
     ]
    },
    {
     "name": "stdout",
     "output_type": "stream",
     "text": [
      "195/195 [==============================] - 0s 1ms/step\n",
      "195/195 [==============================] - 0s 1ms/step\n",
      "195/195 [==============================] - 0s 1ms/step\n"
     ]
    },
    {
     "name": "stderr",
     "output_type": "stream",
     "text": [
      "\u001b[32m[I 2023-03-01 22:15:19,296]\u001b[0m Trial 49 finished with value: 0.8551041570740322 and parameters: {'units': 24, 'alpha': 0.05189687405981411, 'dropout': 0.2338311225991472, 'lr': 0.0004965626357693004, 'batch_size': 512, 'l2_kern': 0.009943070302186122, 'l2_bias': 0.0001433964155517722}. Best is trial 11 with value: 0.8552620287132079.\u001b[0m\n",
      "C:\\Users\\User\\AppData\\Local\\Temp\\ipykernel_9208\\3785980822.py:37: DeprecationWarning: KerasClassifier is deprecated, use Sci-Keras (https://github.com/adriangb/scikeras) instead. See https://www.adriangb.com/scikeras/stable/migration.html for help migrating.\n",
      "  ('classifier', KerasClassifier(build_fn=self.create_model, verbose=0))\n"
     ]
    },
    {
     "name": "stdout",
     "output_type": "stream",
     "text": [
      "195/195 [==============================] - 0s 1ms/step\n",
      "195/195 [==============================] - 0s 1ms/step\n",
      "195/195 [==============================] - 0s 1ms/step\n"
     ]
    },
    {
     "name": "stderr",
     "output_type": "stream",
     "text": [
      "\u001b[32m[I 2023-03-01 22:15:49,283]\u001b[0m Trial 50 finished with value: 0.8547015808660037 and parameters: {'units': 21, 'alpha': 0.05004710734078789, 'dropout': 0.23139802428345646, 'lr': 0.00022795626942522738, 'batch_size': 512, 'l2_kern': 0.0004490501945905275, 'l2_bias': 0.00012323979754775394}. Best is trial 11 with value: 0.8552620287132079.\u001b[0m\n",
      "C:\\Users\\User\\AppData\\Local\\Temp\\ipykernel_9208\\3785980822.py:37: DeprecationWarning: KerasClassifier is deprecated, use Sci-Keras (https://github.com/adriangb/scikeras) instead. See https://www.adriangb.com/scikeras/stable/migration.html for help migrating.\n",
      "  ('classifier', KerasClassifier(build_fn=self.create_model, verbose=0))\n"
     ]
    },
    {
     "name": "stdout",
     "output_type": "stream",
     "text": [
      "195/195 [==============================] - 0s 1ms/step\n",
      "195/195 [==============================] - 0s 1ms/step\n",
      "195/195 [==============================] - 0s 1ms/step\n"
     ]
    },
    {
     "name": "stderr",
     "output_type": "stream",
     "text": [
      "\u001b[32m[I 2023-03-01 22:16:11,723]\u001b[0m Trial 51 finished with value: 0.8548232691317112 and parameters: {'units': 19, 'alpha': 0.056079252498491945, 'dropout': 0.2017663884011921, 'lr': 0.00043717442141960535, 'batch_size': 512, 'l2_kern': 0.007498252594890924, 'l2_bias': 0.00020144097655743162}. Best is trial 11 with value: 0.8552620287132079.\u001b[0m\n",
      "C:\\Users\\User\\AppData\\Local\\Temp\\ipykernel_9208\\3785980822.py:37: DeprecationWarning: KerasClassifier is deprecated, use Sci-Keras (https://github.com/adriangb/scikeras) instead. See https://www.adriangb.com/scikeras/stable/migration.html for help migrating.\n",
      "  ('classifier', KerasClassifier(build_fn=self.create_model, verbose=0))\n"
     ]
    },
    {
     "name": "stdout",
     "output_type": "stream",
     "text": [
      "195/195 [==============================] - 0s 1ms/step\n",
      "195/195 [==============================] - 0s 1ms/step\n",
      "195/195 [==============================] - 0s 1ms/step\n"
     ]
    },
    {
     "name": "stderr",
     "output_type": "stream",
     "text": [
      "\u001b[32m[I 2023-03-01 22:16:23,645]\u001b[0m Trial 52 finished with value: 0.8546644754023472 and parameters: {'units': 27, 'alpha': 0.04281875063141125, 'dropout': 0.24148907207623146, 'lr': 0.0014098736399956054, 'batch_size': 512, 'l2_kern': 0.0015543897502784136, 'l2_bias': 0.00014980641897450838}. Best is trial 11 with value: 0.8552620287132079.\u001b[0m\n",
      "C:\\Users\\User\\AppData\\Local\\Temp\\ipykernel_9208\\3785980822.py:37: DeprecationWarning: KerasClassifier is deprecated, use Sci-Keras (https://github.com/adriangb/scikeras) instead. See https://www.adriangb.com/scikeras/stable/migration.html for help migrating.\n",
      "  ('classifier', KerasClassifier(build_fn=self.create_model, verbose=0))\n"
     ]
    },
    {
     "name": "stdout",
     "output_type": "stream",
     "text": [
      "195/195 [==============================] - 0s 1ms/step\n",
      "195/195 [==============================] - 0s 1ms/step\n",
      "195/195 [==============================] - 0s 1ms/step\n"
     ]
    },
    {
     "name": "stderr",
     "output_type": "stream",
     "text": [
      "\u001b[32m[I 2023-03-01 22:17:16,401]\u001b[0m Trial 53 finished with value: 0.8553017843502944 and parameters: {'units': 33, 'alpha': 0.039564200234489935, 'dropout': 0.43743512967145287, 'lr': 8.363192580564669e-05, 'batch_size': 128, 'l2_kern': 0.008035794655314824, 'l2_bias': 7.258072589965022e-05}. Best is trial 53 with value: 0.8553017843502944.\u001b[0m\n",
      "C:\\Users\\User\\AppData\\Local\\Temp\\ipykernel_9208\\3785980822.py:37: DeprecationWarning: KerasClassifier is deprecated, use Sci-Keras (https://github.com/adriangb/scikeras) instead. See https://www.adriangb.com/scikeras/stable/migration.html for help migrating.\n",
      "  ('classifier', KerasClassifier(build_fn=self.create_model, verbose=0))\n"
     ]
    },
    {
     "name": "stdout",
     "output_type": "stream",
     "text": [
      "195/195 [==============================] - 0s 1ms/step\n",
      "195/195 [==============================] - 0s 1ms/step\n",
      "195/195 [==============================] - 0s 1ms/step\n"
     ]
    },
    {
     "name": "stderr",
     "output_type": "stream",
     "text": [
      "\u001b[32m[I 2023-03-01 22:18:02,504]\u001b[0m Trial 54 finished with value: 0.8515183381758744 and parameters: {'units': 23, 'alpha': 0.04036699476055136, 'dropout': 0.4475444729579958, 'lr': 8.306845842908015e-05, 'batch_size': 512, 'l2_kern': 0.009946008728793993, 'l2_bias': 6.557155120106373e-05}. Best is trial 53 with value: 0.8553017843502944.\u001b[0m\n",
      "C:\\Users\\User\\AppData\\Local\\Temp\\ipykernel_9208\\3785980822.py:37: DeprecationWarning: KerasClassifier is deprecated, use Sci-Keras (https://github.com/adriangb/scikeras) instead. See https://www.adriangb.com/scikeras/stable/migration.html for help migrating.\n",
      "  ('classifier', KerasClassifier(build_fn=self.create_model, verbose=0))\n"
     ]
    },
    {
     "name": "stdout",
     "output_type": "stream",
     "text": [
      "195/195 [==============================] - 0s 1ms/step\n",
      "195/195 [==============================] - 0s 1ms/step\n",
      "195/195 [==============================] - 0s 1ms/step\n"
     ]
    },
    {
     "name": "stderr",
     "output_type": "stream",
     "text": [
      "\u001b[32m[I 2023-03-01 22:19:00,366]\u001b[0m Trial 55 finished with value: 0.8548430835946322 and parameters: {'units': 25, 'alpha': 0.045454758144409406, 'dropout': 0.4002180865938725, 'lr': 0.00011280517926619205, 'batch_size': 64, 'l2_kern': 0.004063991471406267, 'l2_bias': 2.7209233239944865e-05}. Best is trial 53 with value: 0.8553017843502944.\u001b[0m\n",
      "C:\\Users\\User\\AppData\\Local\\Temp\\ipykernel_9208\\3785980822.py:37: DeprecationWarning: KerasClassifier is deprecated, use Sci-Keras (https://github.com/adriangb/scikeras) instead. See https://www.adriangb.com/scikeras/stable/migration.html for help migrating.\n",
      "  ('classifier', KerasClassifier(build_fn=self.create_model, verbose=0))\n"
     ]
    },
    {
     "name": "stdout",
     "output_type": "stream",
     "text": [
      "195/195 [==============================] - 0s 1ms/step\n",
      "195/195 [==============================] - 0s 1ms/step\n",
      "195/195 [==============================] - 0s 1ms/step\n"
     ]
    },
    {
     "name": "stderr",
     "output_type": "stream",
     "text": [
      "\u001b[32m[I 2023-03-01 22:19:55,980]\u001b[0m Trial 56 finished with value: 0.8545109728917087 and parameters: {'units': 29, 'alpha': 0.05435811061122972, 'dropout': 0.4673209982359946, 'lr': 6.944772434235403e-05, 'batch_size': 128, 'l2_kern': 0.000146416156779573, 'l2_bias': 7.541883355925836e-05}. Best is trial 53 with value: 0.8553017843502944.\u001b[0m\n",
      "C:\\Users\\User\\AppData\\Local\\Temp\\ipykernel_9208\\3785980822.py:37: DeprecationWarning: KerasClassifier is deprecated, use Sci-Keras (https://github.com/adriangb/scikeras) instead. See https://www.adriangb.com/scikeras/stable/migration.html for help migrating.\n",
      "  ('classifier', KerasClassifier(build_fn=self.create_model, verbose=0))\n"
     ]
    },
    {
     "name": "stdout",
     "output_type": "stream",
     "text": [
      "195/195 [==============================] - 0s 1ms/step\n",
      "195/195 [==============================] - 0s 1ms/step\n",
      "195/195 [==============================] - 0s 1ms/step\n"
     ]
    },
    {
     "name": "stderr",
     "output_type": "stream",
     "text": [
      "\u001b[32m[I 2023-03-01 22:21:11,532]\u001b[0m Trial 57 finished with value: 0.854754308813539 and parameters: {'units': 36, 'alpha': 0.03276119826664461, 'dropout': 0.43023135111389066, 'lr': 5.650500422051995e-05, 'batch_size': 64, 'l2_kern': 0.00025463467643810237, 'l2_bias': 3.93608617793123e-05}. Best is trial 53 with value: 0.8553017843502944.\u001b[0m\n",
      "C:\\Users\\User\\AppData\\Local\\Temp\\ipykernel_9208\\3785980822.py:37: DeprecationWarning: KerasClassifier is deprecated, use Sci-Keras (https://github.com/adriangb/scikeras) instead. See https://www.adriangb.com/scikeras/stable/migration.html for help migrating.\n",
      "  ('classifier', KerasClassifier(build_fn=self.create_model, verbose=0))\n"
     ]
    },
    {
     "name": "stdout",
     "output_type": "stream",
     "text": [
      "195/195 [==============================] - 0s 1ms/step\n",
      "195/195 [==============================] - 0s 1ms/step\n",
      "195/195 [==============================] - 0s 1ms/step\n"
     ]
    },
    {
     "name": "stderr",
     "output_type": "stream",
     "text": [
      "\u001b[32m[I 2023-03-01 22:21:21,853]\u001b[0m Trial 58 finished with value: 0.8537019757478314 and parameters: {'units': 33, 'alpha': 0.038428823443006056, 'dropout': 0.4608100421601712, 'lr': 0.0031392223714511833, 'batch_size': 512, 'l2_kern': 0.0007065293489390777, 'l2_bias': 0.00011889971087317}. Best is trial 53 with value: 0.8553017843502944.\u001b[0m\n",
      "C:\\Users\\User\\AppData\\Local\\Temp\\ipykernel_9208\\3785980822.py:37: DeprecationWarning: KerasClassifier is deprecated, use Sci-Keras (https://github.com/adriangb/scikeras) instead. See https://www.adriangb.com/scikeras/stable/migration.html for help migrating.\n",
      "  ('classifier', KerasClassifier(build_fn=self.create_model, verbose=0))\n"
     ]
    },
    {
     "name": "stdout",
     "output_type": "stream",
     "text": [
      "195/195 [==============================] - 0s 1ms/step\n",
      "195/195 [==============================] - 0s 1ms/step\n",
      "195/195 [==============================] - 0s 1ms/step\n"
     ]
    },
    {
     "name": "stderr",
     "output_type": "stream",
     "text": [
      "\u001b[32m[I 2023-03-01 22:21:53,430]\u001b[0m Trial 59 finished with value: 0.8551870314289447 and parameters: {'units': 31, 'alpha': 0.013428280741870892, 'dropout': 0.3757797284667903, 'lr': 0.00017783687841168224, 'batch_size': 256, 'l2_kern': 0.00034767815866818035, 'l2_bias': 0.00022267757521747178}. Best is trial 53 with value: 0.8553017843502944.\u001b[0m\n",
      "C:\\Users\\User\\AppData\\Local\\Temp\\ipykernel_9208\\3785980822.py:37: DeprecationWarning: KerasClassifier is deprecated, use Sci-Keras (https://github.com/adriangb/scikeras) instead. See https://www.adriangb.com/scikeras/stable/migration.html for help migrating.\n",
      "  ('classifier', KerasClassifier(build_fn=self.create_model, verbose=0))\n"
     ]
    },
    {
     "name": "stdout",
     "output_type": "stream",
     "text": [
      "195/195 [==============================] - 0s 1ms/step\n",
      "195/195 [==============================] - 0s 1ms/step\n",
      "195/195 [==============================] - 0s 1ms/step\n"
     ]
    },
    {
     "name": "stderr",
     "output_type": "stream",
     "text": [
      "\u001b[32m[I 2023-03-01 22:22:23,911]\u001b[0m Trial 60 finished with value: 0.8548909673685251 and parameters: {'units': 31, 'alpha': 0.010372906580929863, 'dropout': 0.3708520575857144, 'lr': 0.00018537270934969262, 'batch_size': 256, 'l2_kern': 0.0003226673028999208, 'l2_bias': 0.00028304920634047434}. Best is trial 53 with value: 0.8553017843502944.\u001b[0m\n",
      "C:\\Users\\User\\AppData\\Local\\Temp\\ipykernel_9208\\3785980822.py:37: DeprecationWarning: KerasClassifier is deprecated, use Sci-Keras (https://github.com/adriangb/scikeras) instead. See https://www.adriangb.com/scikeras/stable/migration.html for help migrating.\n",
      "  ('classifier', KerasClassifier(build_fn=self.create_model, verbose=0))\n"
     ]
    },
    {
     "name": "stdout",
     "output_type": "stream",
     "text": [
      "195/195 [==============================] - 0s 1ms/step\n",
      "195/195 [==============================] - 0s 1ms/step\n",
      "195/195 [==============================] - 0s 1ms/step\n"
     ]
    },
    {
     "name": "stderr",
     "output_type": "stream",
     "text": [
      "\u001b[32m[I 2023-03-01 22:23:02,873]\u001b[0m Trial 61 finished with value: 0.8552304916026879 and parameters: {'units': 28, 'alpha': 0.013969223536818743, 'dropout': 0.3825393583827473, 'lr': 0.00014102239694615951, 'batch_size': 256, 'l2_kern': 0.0003716026782328589, 'l2_bias': 8.494101038691676e-05}. Best is trial 53 with value: 0.8553017843502944.\u001b[0m\n",
      "C:\\Users\\User\\AppData\\Local\\Temp\\ipykernel_9208\\3785980822.py:37: DeprecationWarning: KerasClassifier is deprecated, use Sci-Keras (https://github.com/adriangb/scikeras) instead. See https://www.adriangb.com/scikeras/stable/migration.html for help migrating.\n",
      "  ('classifier', KerasClassifier(build_fn=self.create_model, verbose=0))\n"
     ]
    },
    {
     "name": "stdout",
     "output_type": "stream",
     "text": [
      "195/195 [==============================] - 0s 1ms/step\n",
      "195/195 [==============================] - 0s 1ms/step\n",
      "195/195 [==============================] - 0s 1ms/step\n"
     ]
    },
    {
     "name": "stderr",
     "output_type": "stream",
     "text": [
      "\u001b[32m[I 2023-03-01 22:23:36,743]\u001b[0m Trial 62 finished with value: 0.854895227277871 and parameters: {'units': 27, 'alpha': 0.01353388218661749, 'dropout': 0.3805246605667294, 'lr': 0.00013860287512797756, 'batch_size': 256, 'l2_kern': 0.0005523672378694857, 'l2_bias': 0.00020793114445561957}. Best is trial 53 with value: 0.8553017843502944.\u001b[0m\n",
      "C:\\Users\\User\\AppData\\Local\\Temp\\ipykernel_9208\\3785980822.py:37: DeprecationWarning: KerasClassifier is deprecated, use Sci-Keras (https://github.com/adriangb/scikeras) instead. See https://www.adriangb.com/scikeras/stable/migration.html for help migrating.\n",
      "  ('classifier', KerasClassifier(build_fn=self.create_model, verbose=0))\n"
     ]
    },
    {
     "name": "stdout",
     "output_type": "stream",
     "text": [
      "195/195 [==============================] - 0s 1ms/step\n",
      "195/195 [==============================] - 0s 1ms/step\n",
      "195/195 [==============================] - 0s 1ms/step\n"
     ]
    },
    {
     "name": "stderr",
     "output_type": "stream",
     "text": [
      "\u001b[32m[I 2023-03-01 22:24:19,451]\u001b[0m Trial 63 finished with value: 0.8547213012029977 and parameters: {'units': 24, 'alpha': 0.020024599813875547, 'dropout': 0.34723157914191893, 'lr': 0.00010171864557385874, 'batch_size': 256, 'l2_kern': 0.0003776251986729944, 'l2_bias': 8.910547418352077e-05}. Best is trial 53 with value: 0.8553017843502944.\u001b[0m\n",
      "C:\\Users\\User\\AppData\\Local\\Temp\\ipykernel_9208\\3785980822.py:37: DeprecationWarning: KerasClassifier is deprecated, use Sci-Keras (https://github.com/adriangb/scikeras) instead. See https://www.adriangb.com/scikeras/stable/migration.html for help migrating.\n",
      "  ('classifier', KerasClassifier(build_fn=self.create_model, verbose=0))\n"
     ]
    },
    {
     "name": "stdout",
     "output_type": "stream",
     "text": [
      "195/195 [==============================] - 0s 1ms/step\n",
      "195/195 [==============================] - 0s 1ms/step\n",
      "195/195 [==============================] - 0s 1ms/step\n"
     ]
    },
    {
     "name": "stderr",
     "output_type": "stream",
     "text": [
      "\u001b[32m[I 2023-03-01 22:24:57,991]\u001b[0m Trial 64 finished with value: 0.8553054681469803 and parameters: {'units': 29, 'alpha': 0.01610624860399888, 'dropout': 0.3964519699303281, 'lr': 0.00011998602541540024, 'batch_size': 256, 'l2_kern': 0.0025626053631719477, 'l2_bias': 0.0003728574324041841}. Best is trial 64 with value: 0.8553054681469803.\u001b[0m\n",
      "C:\\Users\\User\\AppData\\Local\\Temp\\ipykernel_9208\\3785980822.py:37: DeprecationWarning: KerasClassifier is deprecated, use Sci-Keras (https://github.com/adriangb/scikeras) instead. See https://www.adriangb.com/scikeras/stable/migration.html for help migrating.\n",
      "  ('classifier', KerasClassifier(build_fn=self.create_model, verbose=0))\n"
     ]
    },
    {
     "name": "stdout",
     "output_type": "stream",
     "text": [
      "195/195 [==============================] - 0s 1ms/step\n",
      "195/195 [==============================] - 0s 1ms/step\n",
      "195/195 [==============================] - 0s 1ms/step\n"
     ]
    },
    {
     "name": "stderr",
     "output_type": "stream",
     "text": [
      "\u001b[32m[I 2023-03-01 22:25:24,801]\u001b[0m Trial 65 finished with value: 0.8550505418505893 and parameters: {'units': 30, 'alpha': 0.015248159980608689, 'dropout': 0.3936551798069991, 'lr': 0.0002789640034737493, 'batch_size': 256, 'l2_kern': 0.006212693221486572, 'l2_bias': 0.000395526560677769}. Best is trial 64 with value: 0.8553054681469803.\u001b[0m\n",
      "C:\\Users\\User\\AppData\\Local\\Temp\\ipykernel_9208\\3785980822.py:37: DeprecationWarning: KerasClassifier is deprecated, use Sci-Keras (https://github.com/adriangb/scikeras) instead. See https://www.adriangb.com/scikeras/stable/migration.html for help migrating.\n",
      "  ('classifier', KerasClassifier(build_fn=self.create_model, verbose=0))\n"
     ]
    },
    {
     "name": "stdout",
     "output_type": "stream",
     "text": [
      "195/195 [==============================] - 0s 1ms/step\n",
      "195/195 [==============================] - 0s 1ms/step\n",
      "195/195 [==============================] - 0s 1ms/step\n"
     ]
    },
    {
     "name": "stderr",
     "output_type": "stream",
     "text": [
      "\u001b[32m[I 2023-03-01 22:25:51,419]\u001b[0m Trial 66 finished with value: 0.8550033286761632 and parameters: {'units': 28, 'alpha': 0.016424392595010294, 'dropout': 0.3941370423101352, 'lr': 0.0002825750560211298, 'batch_size': 256, 'l2_kern': 0.006038538942706951, 'l2_bias': 0.0003770562371210127}. Best is trial 64 with value: 0.8553054681469803.\u001b[0m\n",
      "C:\\Users\\User\\AppData\\Local\\Temp\\ipykernel_9208\\3785980822.py:37: DeprecationWarning: KerasClassifier is deprecated, use Sci-Keras (https://github.com/adriangb/scikeras) instead. See https://www.adriangb.com/scikeras/stable/migration.html for help migrating.\n",
      "  ('classifier', KerasClassifier(build_fn=self.create_model, verbose=0))\n"
     ]
    },
    {
     "name": "stdout",
     "output_type": "stream",
     "text": [
      "195/195 [==============================] - 0s 2ms/step\n",
      "195/195 [==============================] - 0s 1ms/step\n",
      "195/195 [==============================] - 0s 1ms/step\n"
     ]
    },
    {
     "name": "stderr",
     "output_type": "stream",
     "text": [
      "\u001b[32m[I 2023-03-01 22:26:10,979]\u001b[0m Trial 67 finished with value: 0.8549796440115576 and parameters: {'units': 25, 'alpha': 0.023014117803621104, 'dropout': 0.4152754101440762, 'lr': 0.0005066787249806572, 'batch_size': 256, 'l2_kern': 0.0074580001971426895, 'l2_bias': 0.00015016164615764315}. Best is trial 64 with value: 0.8553054681469803.\u001b[0m\n",
      "C:\\Users\\User\\AppData\\Local\\Temp\\ipykernel_9208\\3785980822.py:37: DeprecationWarning: KerasClassifier is deprecated, use Sci-Keras (https://github.com/adriangb/scikeras) instead. See https://www.adriangb.com/scikeras/stable/migration.html for help migrating.\n",
      "  ('classifier', KerasClassifier(build_fn=self.create_model, verbose=0))\n"
     ]
    },
    {
     "name": "stdout",
     "output_type": "stream",
     "text": [
      "195/195 [==============================] - 0s 1ms/step\n",
      "195/195 [==============================] - 0s 1ms/step\n",
      "195/195 [==============================] - 0s 1ms/step\n"
     ]
    },
    {
     "name": "stderr",
     "output_type": "stream",
     "text": [
      "\u001b[32m[I 2023-03-01 22:26:29,435]\u001b[0m Trial 68 finished with value: 0.8548600258369429 and parameters: {'units': 22, 'alpha': 0.012113182313067626, 'dropout': 0.43453037216780926, 'lr': 0.0007125957933704142, 'batch_size': 256, 'l2_kern': 0.0031051735380258445, 'l2_bias': 0.00024641948268425135}. Best is trial 64 with value: 0.8553054681469803.\u001b[0m\n",
      "C:\\Users\\User\\AppData\\Local\\Temp\\ipykernel_9208\\3785980822.py:37: DeprecationWarning: KerasClassifier is deprecated, use Sci-Keras (https://github.com/adriangb/scikeras) instead. See https://www.adriangb.com/scikeras/stable/migration.html for help migrating.\n",
      "  ('classifier', KerasClassifier(build_fn=self.create_model, verbose=0))\n"
     ]
    },
    {
     "name": "stdout",
     "output_type": "stream",
     "text": [
      "195/195 [==============================] - 0s 1ms/step\n",
      "195/195 [==============================] - 0s 1ms/step\n",
      "195/195 [==============================] - 0s 1ms/step\n"
     ]
    },
    {
     "name": "stderr",
     "output_type": "stream",
     "text": [
      "\u001b[32m[I 2023-03-01 22:26:59,399]\u001b[0m Trial 69 finished with value: 0.8551634691025702 and parameters: {'units': 29, 'alpha': 0.015925268052837536, 'dropout': 0.39841700775197086, 'lr': 0.00026518588610964104, 'batch_size': 256, 'l2_kern': 0.005099496347523343, 'l2_bias': 0.00038885604244065237}. Best is trial 64 with value: 0.8553054681469803.\u001b[0m\n",
      "C:\\Users\\User\\AppData\\Local\\Temp\\ipykernel_9208\\3785980822.py:37: DeprecationWarning: KerasClassifier is deprecated, use Sci-Keras (https://github.com/adriangb/scikeras) instead. See https://www.adriangb.com/scikeras/stable/migration.html for help migrating.\n",
      "  ('classifier', KerasClassifier(build_fn=self.create_model, verbose=0))\n"
     ]
    },
    {
     "name": "stdout",
     "output_type": "stream",
     "text": [
      "195/195 [==============================] - 0s 1ms/step\n",
      "195/195 [==============================] - 0s 1ms/step\n",
      "195/195 [==============================] - 0s 1ms/step\n"
     ]
    },
    {
     "name": "stderr",
     "output_type": "stream",
     "text": [
      "\u001b[32m[I 2023-03-01 22:27:30,205]\u001b[0m Trial 70 finished with value: 0.8548804126126727 and parameters: {'units': 27, 'alpha': 0.025486126977905987, 'dropout': 0.4037064267002641, 'lr': 0.0002339195158865659, 'batch_size': 256, 'l2_kern': 0.004750909778515233, 'l2_bias': 0.0005247041397444911}. Best is trial 64 with value: 0.8553054681469803.\u001b[0m\n",
      "C:\\Users\\User\\AppData\\Local\\Temp\\ipykernel_9208\\3785980822.py:37: DeprecationWarning: KerasClassifier is deprecated, use Sci-Keras (https://github.com/adriangb/scikeras) instead. See https://www.adriangb.com/scikeras/stable/migration.html for help migrating.\n",
      "  ('classifier', KerasClassifier(build_fn=self.create_model, verbose=0))\n"
     ]
    },
    {
     "name": "stdout",
     "output_type": "stream",
     "text": [
      "195/195 [==============================] - 0s 1ms/step\n",
      "195/195 [==============================] - 0s 1ms/step\n",
      "195/195 [==============================] - 0s 1ms/step\n"
     ]
    },
    {
     "name": "stderr",
     "output_type": "stream",
     "text": [
      "\u001b[32m[I 2023-03-01 22:27:58,636]\u001b[0m Trial 71 finished with value: 0.8551096836712601 and parameters: {'units': 29, 'alpha': 0.015076975763966223, 'dropout': 0.42242494592202523, 'lr': 0.00019693271349392587, 'batch_size': 256, 'l2_kern': 0.0028106353243478412, 'l2_bias': 0.0003711541579311665}. Best is trial 64 with value: 0.8553054681469803.\u001b[0m\n",
      "C:\\Users\\User\\AppData\\Local\\Temp\\ipykernel_9208\\3785980822.py:37: DeprecationWarning: KerasClassifier is deprecated, use Sci-Keras (https://github.com/adriangb/scikeras) instead. See https://www.adriangb.com/scikeras/stable/migration.html for help migrating.\n",
      "  ('classifier', KerasClassifier(build_fn=self.create_model, verbose=0))\n"
     ]
    },
    {
     "name": "stdout",
     "output_type": "stream",
     "text": [
      "195/195 [==============================] - 0s 1ms/step\n",
      "195/195 [==============================] - 0s 1ms/step\n",
      "195/195 [==============================] - 0s 1ms/step\n"
     ]
    },
    {
     "name": "stderr",
     "output_type": "stream",
     "text": [
      "\u001b[32m[I 2023-03-01 22:28:27,761]\u001b[0m Trial 72 finished with value: 0.8552449195321757 and parameters: {'units': 29, 'alpha': 0.010227055436306786, 'dropout': 0.41824880649338186, 'lr': 0.00017925396257709842, 'batch_size': 256, 'l2_kern': 0.002543759127036335, 'l2_bias': 0.00016988314756149483}. Best is trial 64 with value: 0.8553054681469803.\u001b[0m\n",
      "C:\\Users\\User\\AppData\\Local\\Temp\\ipykernel_9208\\3785980822.py:37: DeprecationWarning: KerasClassifier is deprecated, use Sci-Keras (https://github.com/adriangb/scikeras) instead. See https://www.adriangb.com/scikeras/stable/migration.html for help migrating.\n",
      "  ('classifier', KerasClassifier(build_fn=self.create_model, verbose=0))\n"
     ]
    },
    {
     "name": "stdout",
     "output_type": "stream",
     "text": [
      "195/195 [==============================] - 0s 1ms/step\n",
      "195/195 [==============================] - 0s 1ms/step\n",
      "195/195 [==============================] - 0s 1ms/step\n"
     ]
    },
    {
     "name": "stderr",
     "output_type": "stream",
     "text": [
      "\u001b[32m[I 2023-03-01 22:29:03,759]\u001b[0m Trial 73 finished with value: 0.8553488543828335 and parameters: {'units': 29, 'alpha': 0.010060502791504852, 'dropout': 0.42063987775214035, 'lr': 0.0001554839866801984, 'batch_size': 256, 'l2_kern': 0.002151068540656077, 'l2_bias': 0.0003418923372344027}. Best is trial 73 with value: 0.8553488543828335.\u001b[0m\n",
      "C:\\Users\\User\\AppData\\Local\\Temp\\ipykernel_9208\\3785980822.py:37: DeprecationWarning: KerasClassifier is deprecated, use Sci-Keras (https://github.com/adriangb/scikeras) instead. See https://www.adriangb.com/scikeras/stable/migration.html for help migrating.\n",
      "  ('classifier', KerasClassifier(build_fn=self.create_model, verbose=0))\n"
     ]
    },
    {
     "name": "stdout",
     "output_type": "stream",
     "text": [
      "195/195 [==============================] - 0s 1ms/step\n",
      "195/195 [==============================] - 0s 1ms/step\n",
      "195/195 [==============================] - 0s 1ms/step\n"
     ]
    },
    {
     "name": "stderr",
     "output_type": "stream",
     "text": [
      "\u001b[32m[I 2023-03-01 22:29:34,597]\u001b[0m Trial 74 finished with value: 0.8553492119721979 and parameters: {'units': 31, 'alpha': 0.011568714762720285, 'dropout': 0.4373747550668509, 'lr': 0.00016055129999782296, 'batch_size': 256, 'l2_kern': 0.0017849761889769699, 'l2_bias': 0.00017190300057464544}. Best is trial 74 with value: 0.8553492119721979.\u001b[0m\n",
      "C:\\Users\\User\\AppData\\Local\\Temp\\ipykernel_9208\\3785980822.py:37: DeprecationWarning: KerasClassifier is deprecated, use Sci-Keras (https://github.com/adriangb/scikeras) instead. See https://www.adriangb.com/scikeras/stable/migration.html for help migrating.\n",
      "  ('classifier', KerasClassifier(build_fn=self.create_model, verbose=0))\n"
     ]
    },
    {
     "name": "stdout",
     "output_type": "stream",
     "text": [
      "195/195 [==============================] - 0s 1ms/step\n",
      "195/195 [==============================] - 0s 1ms/step\n",
      "195/195 [==============================] - 0s 1ms/step\n"
     ]
    },
    {
     "name": "stderr",
     "output_type": "stream",
     "text": [
      "\u001b[32m[I 2023-03-01 22:30:17,190]\u001b[0m Trial 75 finished with value: 0.854706991175043 and parameters: {'units': 31, 'alpha': 0.011418226217757227, 'dropout': 0.4340495037935128, 'lr': 0.00015101721137038155, 'batch_size': 256, 'l2_kern': 0.0018996740465974475, 'l2_bias': 0.0001743949557580947}. Best is trial 74 with value: 0.8553492119721979.\u001b[0m\n",
      "C:\\Users\\User\\AppData\\Local\\Temp\\ipykernel_9208\\3785980822.py:37: DeprecationWarning: KerasClassifier is deprecated, use Sci-Keras (https://github.com/adriangb/scikeras) instead. See https://www.adriangb.com/scikeras/stable/migration.html for help migrating.\n",
      "  ('classifier', KerasClassifier(build_fn=self.create_model, verbose=0))\n"
     ]
    },
    {
     "name": "stdout",
     "output_type": "stream",
     "text": [
      "195/195 [==============================] - 0s 1ms/step\n",
      "195/195 [==============================] - 0s 1ms/step\n",
      "195/195 [==============================] - 0s 1ms/step\n"
     ]
    },
    {
     "name": "stderr",
     "output_type": "stream",
     "text": [
      "\u001b[32m[I 2023-03-01 22:30:51,281]\u001b[0m Trial 76 finished with value: 0.8550219383102351 and parameters: {'units': 35, 'alpha': 0.021437999090044756, 'dropout': 0.45598643019494983, 'lr': 0.00012158318817075107, 'batch_size': 256, 'l2_kern': 0.0021046385440135246, 'l2_bias': 0.0002278725487416213}. Best is trial 74 with value: 0.8553492119721979.\u001b[0m\n",
      "C:\\Users\\User\\AppData\\Local\\Temp\\ipykernel_9208\\3785980822.py:37: DeprecationWarning: KerasClassifier is deprecated, use Sci-Keras (https://github.com/adriangb/scikeras) instead. See https://www.adriangb.com/scikeras/stable/migration.html for help migrating.\n",
      "  ('classifier', KerasClassifier(build_fn=self.create_model, verbose=0))\n"
     ]
    },
    {
     "name": "stdout",
     "output_type": "stream",
     "text": [
      "195/195 [==============================] - 0s 1ms/step\n",
      "195/195 [==============================] - 0s 1ms/step\n",
      "195/195 [==============================] - 0s 1ms/step\n"
     ]
    },
    {
     "name": "stderr",
     "output_type": "stream",
     "text": [
      "\u001b[32m[I 2023-03-01 22:31:25,498]\u001b[0m Trial 77 finished with value: 0.8548171142004021 and parameters: {'units': 33, 'alpha': 0.018570629357501027, 'dropout': 0.41110787188443243, 'lr': 0.0001709634762359313, 'batch_size': 256, 'l2_kern': 0.0014128887737783495, 'l2_bias': 5.214728788156877e-05}. Best is trial 74 with value: 0.8553492119721979.\u001b[0m\n",
      "C:\\Users\\User\\AppData\\Local\\Temp\\ipykernel_9208\\3785980822.py:37: DeprecationWarning: KerasClassifier is deprecated, use Sci-Keras (https://github.com/adriangb/scikeras) instead. See https://www.adriangb.com/scikeras/stable/migration.html for help migrating.\n",
      "  ('classifier', KerasClassifier(build_fn=self.create_model, verbose=0))\n"
     ]
    },
    {
     "name": "stdout",
     "output_type": "stream",
     "text": [
      "195/195 [==============================] - 0s 1ms/step\n",
      "195/195 [==============================] - 0s 1ms/step\n",
      "195/195 [==============================] - 0s 1ms/step\n"
     ]
    },
    {
     "name": "stderr",
     "output_type": "stream",
     "text": [
      "\u001b[32m[I 2023-03-01 22:31:59,169]\u001b[0m Trial 78 finished with value: 0.8549512814539559 and parameters: {'units': 31, 'alpha': 0.012885470435656564, 'dropout': 0.47838751881667607, 'lr': 0.00013621384645331797, 'batch_size': 256, 'l2_kern': 0.001262392596768441, 'l2_bias': 8.258896684270792e-05}. Best is trial 74 with value: 0.8553492119721979.\u001b[0m\n",
      "C:\\Users\\User\\AppData\\Local\\Temp\\ipykernel_9208\\3785980822.py:37: DeprecationWarning: KerasClassifier is deprecated, use Sci-Keras (https://github.com/adriangb/scikeras) instead. See https://www.adriangb.com/scikeras/stable/migration.html for help migrating.\n",
      "  ('classifier', KerasClassifier(build_fn=self.create_model, verbose=0))\n"
     ]
    },
    {
     "name": "stdout",
     "output_type": "stream",
     "text": [
      "195/195 [==============================] - 0s 1ms/step\n",
      "195/195 [==============================] - 0s 1ms/step\n",
      "195/195 [==============================] - 0s 1ms/step\n"
     ]
    },
    {
     "name": "stderr",
     "output_type": "stream",
     "text": [
      "\u001b[32m[I 2023-03-01 22:32:27,778]\u001b[0m Trial 79 finished with value: 0.8548157777353612 and parameters: {'units': 34, 'alpha': 0.010061745887212106, 'dropout': 0.44283239536444063, 'lr': 0.00022213648520842832, 'batch_size': 256, 'l2_kern': 0.0009218606033388061, 'l2_bias': 0.00011924602216979716}. Best is trial 74 with value: 0.8553492119721979.\u001b[0m\n",
      "C:\\Users\\User\\AppData\\Local\\Temp\\ipykernel_9208\\3785980822.py:37: DeprecationWarning: KerasClassifier is deprecated, use Sci-Keras (https://github.com/adriangb/scikeras) instead. See https://www.adriangb.com/scikeras/stable/migration.html for help migrating.\n",
      "  ('classifier', KerasClassifier(build_fn=self.create_model, verbose=0))\n"
     ]
    },
    {
     "name": "stdout",
     "output_type": "stream",
     "text": [
      "195/195 [==============================] - 0s 1ms/step\n",
      "195/195 [==============================] - 0s 1ms/step\n",
      "195/195 [==============================] - 0s 1ms/step\n"
     ]
    },
    {
     "name": "stderr",
     "output_type": "stream",
     "text": [
      "\u001b[32m[I 2023-03-01 22:33:18,876]\u001b[0m Trial 80 finished with value: 0.8547423157396467 and parameters: {'units': 27, 'alpha': 0.017989474874867295, 'dropout': 0.4222299056857137, 'lr': 8.036684889561652e-05, 'batch_size': 256, 'l2_kern': 0.0023147014524027075, 'l2_bias': 0.00029806980776549944}. Best is trial 74 with value: 0.8553492119721979.\u001b[0m\n",
      "C:\\Users\\User\\AppData\\Local\\Temp\\ipykernel_9208\\3785980822.py:37: DeprecationWarning: KerasClassifier is deprecated, use Sci-Keras (https://github.com/adriangb/scikeras) instead. See https://www.adriangb.com/scikeras/stable/migration.html for help migrating.\n",
      "  ('classifier', KerasClassifier(build_fn=self.create_model, verbose=0))\n"
     ]
    },
    {
     "name": "stdout",
     "output_type": "stream",
     "text": [
      "195/195 [==============================] - 0s 1ms/step\n",
      "195/195 [==============================] - 0s 1ms/step\n",
      "195/195 [==============================] - 0s 1ms/step\n"
     ]
    },
    {
     "name": "stderr",
     "output_type": "stream",
     "text": [
      "\u001b[32m[I 2023-03-01 22:33:54,139]\u001b[0m Trial 81 finished with value: 0.8550759837235544 and parameters: {'units': 29, 'alpha': 0.01356874891354765, 'dropout': 0.39960509828941704, 'lr': 0.0001854723487366218, 'batch_size': 256, 'l2_kern': 0.003760902870230087, 'l2_bias': 0.0005549631205737326}. Best is trial 74 with value: 0.8553492119721979.\u001b[0m\n",
      "C:\\Users\\User\\AppData\\Local\\Temp\\ipykernel_9208\\3785980822.py:37: DeprecationWarning: KerasClassifier is deprecated, use Sci-Keras (https://github.com/adriangb/scikeras) instead. See https://www.adriangb.com/scikeras/stable/migration.html for help migrating.\n",
      "  ('classifier', KerasClassifier(build_fn=self.create_model, verbose=0))\n"
     ]
    },
    {
     "name": "stdout",
     "output_type": "stream",
     "text": [
      "195/195 [==============================] - 0s 1ms/step\n",
      "195/195 [==============================] - 0s 1ms/step\n",
      "195/195 [==============================] - 0s 1ms/step\n"
     ]
    },
    {
     "name": "stderr",
     "output_type": "stream",
     "text": [
      "\u001b[32m[I 2023-03-01 22:34:33,801]\u001b[0m Trial 82 finished with value: 0.8551441768114026 and parameters: {'units': 29, 'alpha': 0.016689120242333176, 'dropout': 0.3806223654256157, 'lr': 0.00012585723981950282, 'batch_size': 256, 'l2_kern': 0.0016424126397924994, 'l2_bias': 0.0007027904113624428}. Best is trial 74 with value: 0.8553492119721979.\u001b[0m\n",
      "C:\\Users\\User\\AppData\\Local\\Temp\\ipykernel_9208\\3785980822.py:37: DeprecationWarning: KerasClassifier is deprecated, use Sci-Keras (https://github.com/adriangb/scikeras) instead. See https://www.adriangb.com/scikeras/stable/migration.html for help migrating.\n",
      "  ('classifier', KerasClassifier(build_fn=self.create_model, verbose=0))\n"
     ]
    },
    {
     "name": "stdout",
     "output_type": "stream",
     "text": [
      "195/195 [==============================] - 0s 1ms/step\n",
      "195/195 [==============================] - 0s 1ms/step\n",
      "195/195 [==============================] - 0s 1ms/step\n"
     ]
    },
    {
     "name": "stderr",
     "output_type": "stream",
     "text": [
      "\u001b[32m[I 2023-03-01 22:35:06,524]\u001b[0m Trial 83 finished with value: 0.8547497308417743 and parameters: {'units': 32, 'alpha': 0.02121810062245496, 'dropout': 0.40977648512237586, 'lr': 0.0003226445267655489, 'batch_size': 256, 'l2_kern': 0.003396163255066644, 'l2_bias': 0.00043902597534251417}. Best is trial 74 with value: 0.8553492119721979.\u001b[0m\n",
      "C:\\Users\\User\\AppData\\Local\\Temp\\ipykernel_9208\\3785980822.py:37: DeprecationWarning: KerasClassifier is deprecated, use Sci-Keras (https://github.com/adriangb/scikeras) instead. See https://www.adriangb.com/scikeras/stable/migration.html for help migrating.\n",
      "  ('classifier', KerasClassifier(build_fn=self.create_model, verbose=0))\n"
     ]
    },
    {
     "name": "stdout",
     "output_type": "stream",
     "text": [
      "195/195 [==============================] - 0s 1ms/step\n",
      "195/195 [==============================] - 0s 1ms/step\n",
      "195/195 [==============================] - 0s 1ms/step\n"
     ]
    },
    {
     "name": "stderr",
     "output_type": "stream",
     "text": [
      "\u001b[32m[I 2023-03-01 22:35:41,009]\u001b[0m Trial 84 finished with value: 0.8503593330716055 and parameters: {'units': 28, 'alpha': 0.02400591999303458, 'dropout': 0.4386690669278403, 'lr': 0.0001508526350897572, 'batch_size': 1024, 'l2_kern': 0.003020454659080999, 'l2_bias': 0.00017366486063888443}. Best is trial 74 with value: 0.8553492119721979.\u001b[0m\n",
      "C:\\Users\\User\\AppData\\Local\\Temp\\ipykernel_9208\\3785980822.py:37: DeprecationWarning: KerasClassifier is deprecated, use Sci-Keras (https://github.com/adriangb/scikeras) instead. See https://www.adriangb.com/scikeras/stable/migration.html for help migrating.\n",
      "  ('classifier', KerasClassifier(build_fn=self.create_model, verbose=0))\n"
     ]
    },
    {
     "name": "stdout",
     "output_type": "stream",
     "text": [
      "195/195 [==============================] - 0s 1ms/step\n",
      "195/195 [==============================] - 0s 1ms/step\n",
      "195/195 [==============================] - 0s 2ms/step\n"
     ]
    },
    {
     "name": "stderr",
     "output_type": "stream",
     "text": [
      "\u001b[32m[I 2023-03-01 22:36:59,181]\u001b[0m Trial 85 finished with value: 0.855326756612579 and parameters: {'units': 30, 'alpha': 0.012031321430723342, 'dropout': 0.42692989144495586, 'lr': 9.841355545760022e-05, 'batch_size': 32, 'l2_kern': 0.00491903422948018, 'l2_bias': 0.0003259087427232624}. Best is trial 74 with value: 0.8553492119721979.\u001b[0m\n",
      "C:\\Users\\User\\AppData\\Local\\Temp\\ipykernel_9208\\3785980822.py:37: DeprecationWarning: KerasClassifier is deprecated, use Sci-Keras (https://github.com/adriangb/scikeras) instead. See https://www.adriangb.com/scikeras/stable/migration.html for help migrating.\n",
      "  ('classifier', KerasClassifier(build_fn=self.create_model, verbose=0))\n"
     ]
    },
    {
     "name": "stdout",
     "output_type": "stream",
     "text": [
      "195/195 [==============================] - 0s 1ms/step\n",
      "195/195 [==============================] - 0s 1ms/step\n",
      "195/195 [==============================] - 0s 1ms/step\n"
     ]
    },
    {
     "name": "stderr",
     "output_type": "stream",
     "text": [
      "\u001b[32m[I 2023-03-01 22:37:54,667]\u001b[0m Trial 86 finished with value: 0.8534298922309466 and parameters: {'units': 31, 'alpha': 0.011881432048031118, 'dropout': 0.42841971304549087, 'lr': 6.059282215310612e-05, 'batch_size': 256, 'l2_kern': 0.002613597040170515, 'l2_bias': 0.00026295862851313925}. Best is trial 74 with value: 0.8553492119721979.\u001b[0m\n",
      "C:\\Users\\User\\AppData\\Local\\Temp\\ipykernel_9208\\3785980822.py:37: DeprecationWarning: KerasClassifier is deprecated, use Sci-Keras (https://github.com/adriangb/scikeras) instead. See https://www.adriangb.com/scikeras/stable/migration.html for help migrating.\n",
      "  ('classifier', KerasClassifier(build_fn=self.create_model, verbose=0))\n"
     ]
    },
    {
     "name": "stdout",
     "output_type": "stream",
     "text": [
      "195/195 [==============================] - 0s 1ms/step\n",
      "195/195 [==============================] - 0s 1ms/step\n",
      "195/195 [==============================] - 0s 1ms/step\n"
     ]
    },
    {
     "name": "stderr",
     "output_type": "stream",
     "text": [
      "\u001b[32m[I 2023-03-01 22:39:27,400]\u001b[0m Trial 87 finished with value: 0.854827340492008 and parameters: {'units': 30, 'alpha': 0.013847860806833985, 'dropout': 0.454707317916721, 'lr': 9.764675987612393e-05, 'batch_size': 32, 'l2_kern': 0.0008199851424940177, 'l2_bias': 3.877912594311248e-05}. Best is trial 74 with value: 0.8553492119721979.\u001b[0m\n",
      "C:\\Users\\User\\AppData\\Local\\Temp\\ipykernel_9208\\3785980822.py:37: DeprecationWarning: KerasClassifier is deprecated, use Sci-Keras (https://github.com/adriangb/scikeras) instead. See https://www.adriangb.com/scikeras/stable/migration.html for help migrating.\n",
      "  ('classifier', KerasClassifier(build_fn=self.create_model, verbose=0))\n"
     ]
    },
    {
     "name": "stdout",
     "output_type": "stream",
     "text": [
      "195/195 [==============================] - 0s 1ms/step\n",
      "195/195 [==============================] - 0s 1ms/step\n",
      "195/195 [==============================] - 0s 1ms/step\n"
     ]
    },
    {
     "name": "stderr",
     "output_type": "stream",
     "text": [
      "\u001b[32m[I 2023-03-01 22:41:43,442]\u001b[0m Trial 88 finished with value: 0.8548638353259187 and parameters: {'units': 26, 'alpha': 0.010001374248501643, 'dropout': 0.35568624592824444, 'lr': 8.432182527512879e-05, 'batch_size': 16, 'l2_kern': 0.0006198992555758919, 'l2_bias': 0.0003201455250460808}. Best is trial 74 with value: 0.8553492119721979.\u001b[0m\n",
      "C:\\Users\\User\\AppData\\Local\\Temp\\ipykernel_9208\\3785980822.py:37: DeprecationWarning: KerasClassifier is deprecated, use Sci-Keras (https://github.com/adriangb/scikeras) instead. See https://www.adriangb.com/scikeras/stable/migration.html for help migrating.\n",
      "  ('classifier', KerasClassifier(build_fn=self.create_model, verbose=0))\n"
     ]
    },
    {
     "name": "stdout",
     "output_type": "stream",
     "text": [
      "195/195 [==============================] - 0s 1ms/step\n",
      "195/195 [==============================] - 0s 1ms/step\n",
      "195/195 [==============================] - 0s 1ms/step\n"
     ]
    },
    {
     "name": "stderr",
     "output_type": "stream",
     "text": [
      "\u001b[32m[I 2023-03-01 22:43:03,690]\u001b[0m Trial 89 finished with value: 0.8546447054550033 and parameters: {'units': 33, 'alpha': 0.02004555250519089, 'dropout': 0.47230853424252345, 'lr': 0.0001258031661309953, 'batch_size': 32, 'l2_kern': 0.002151826221033662, 'l2_bias': 6.85676696851934e-05}. Best is trial 74 with value: 0.8553492119721979.\u001b[0m\n",
      "C:\\Users\\User\\AppData\\Local\\Temp\\ipykernel_9208\\3785980822.py:37: DeprecationWarning: KerasClassifier is deprecated, use Sci-Keras (https://github.com/adriangb/scikeras) instead. See https://www.adriangb.com/scikeras/stable/migration.html for help migrating.\n",
      "  ('classifier', KerasClassifier(build_fn=self.create_model, verbose=0))\n"
     ]
    },
    {
     "name": "stdout",
     "output_type": "stream",
     "text": [
      "195/195 [==============================] - 0s 1ms/step\n",
      "195/195 [==============================] - 0s 1ms/step\n",
      "195/195 [==============================] - 0s 1ms/step\n"
     ]
    },
    {
     "name": "stderr",
     "output_type": "stream",
     "text": [
      "\u001b[32m[I 2023-03-01 22:44:27,597]\u001b[0m Trial 90 finished with value: 0.8547439436893751 and parameters: {'units': 32, 'alpha': 0.01728527087358428, 'dropout': 0.4180800400614262, 'lr': 0.00010906800049543328, 'batch_size': 32, 'l2_kern': 0.0011188202427340165, 'l2_bias': 0.00010416685904668874}. Best is trial 74 with value: 0.8553492119721979.\u001b[0m\n",
      "C:\\Users\\User\\AppData\\Local\\Temp\\ipykernel_9208\\3785980822.py:37: DeprecationWarning: KerasClassifier is deprecated, use Sci-Keras (https://github.com/adriangb/scikeras) instead. See https://www.adriangb.com/scikeras/stable/migration.html for help migrating.\n",
      "  ('classifier', KerasClassifier(build_fn=self.create_model, verbose=0))\n"
     ]
    },
    {
     "name": "stdout",
     "output_type": "stream",
     "text": [
      "195/195 [==============================] - 0s 1ms/step\n",
      "195/195 [==============================] - 0s 1ms/step\n",
      "195/195 [==============================] - 0s 1ms/step\n"
     ]
    },
    {
     "name": "stderr",
     "output_type": "stream",
     "text": [
      "\u001b[32m[I 2023-03-01 22:45:02,028]\u001b[0m Trial 91 finished with value: 0.8553406056909664 and parameters: {'units': 29, 'alpha': 0.015243599600362347, 'dropout': 0.3972260703746408, 'lr': 0.00015621546020751518, 'batch_size': 256, 'l2_kern': 0.005296003687138747, 'l2_bias': 0.0003307538785657032}. Best is trial 74 with value: 0.8553492119721979.\u001b[0m\n",
      "C:\\Users\\User\\AppData\\Local\\Temp\\ipykernel_9208\\3785980822.py:37: DeprecationWarning: KerasClassifier is deprecated, use Sci-Keras (https://github.com/adriangb/scikeras) instead. See https://www.adriangb.com/scikeras/stable/migration.html for help migrating.\n",
      "  ('classifier', KerasClassifier(build_fn=self.create_model, verbose=0))\n"
     ]
    },
    {
     "name": "stdout",
     "output_type": "stream",
     "text": [
      "195/195 [==============================] - 0s 1ms/step\n",
      "195/195 [==============================] - 0s 1ms/step\n",
      "195/195 [==============================] - 0s 1ms/step\n"
     ]
    },
    {
     "name": "stderr",
     "output_type": "stream",
     "text": [
      "\u001b[32m[I 2023-03-01 22:46:05,912]\u001b[0m Trial 92 finished with value: 0.8550302824866353 and parameters: {'units': 28, 'alpha': 0.012607546195847093, 'dropout': 0.36526370106946154, 'lr': 0.00015657414474853578, 'batch_size': 32, 'l2_kern': 0.008185001863649063, 'l2_bias': 0.000330456869199231}. Best is trial 74 with value: 0.8553492119721979.\u001b[0m\n",
      "C:\\Users\\User\\AppData\\Local\\Temp\\ipykernel_9208\\3785980822.py:37: DeprecationWarning: KerasClassifier is deprecated, use Sci-Keras (https://github.com/adriangb/scikeras) instead. See https://www.adriangb.com/scikeras/stable/migration.html for help migrating.\n",
      "  ('classifier', KerasClassifier(build_fn=self.create_model, verbose=0))\n"
     ]
    },
    {
     "name": "stdout",
     "output_type": "stream",
     "text": [
      "195/195 [==============================] - 0s 1ms/step\n",
      "195/195 [==============================] - 0s 1ms/step\n",
      "195/195 [==============================] - 0s 1ms/step\n"
     ]
    },
    {
     "name": "stderr",
     "output_type": "stream",
     "text": [
      "\u001b[32m[I 2023-03-01 22:46:43,411]\u001b[0m Trial 93 finished with value: 0.8550712949829382 and parameters: {'units': 30, 'alpha': 0.013606834773540763, 'dropout': 0.38863782516720974, 'lr': 0.000169140454507167, 'batch_size': 256, 'l2_kern': 0.004112213411746984, 'l2_bias': 0.00022389314487584978}. Best is trial 74 with value: 0.8553492119721979.\u001b[0m\n",
      "C:\\Users\\User\\AppData\\Local\\Temp\\ipykernel_9208\\3785980822.py:37: DeprecationWarning: KerasClassifier is deprecated, use Sci-Keras (https://github.com/adriangb/scikeras) instead. See https://www.adriangb.com/scikeras/stable/migration.html for help migrating.\n",
      "  ('classifier', KerasClassifier(build_fn=self.create_model, verbose=0))\n"
     ]
    },
    {
     "name": "stdout",
     "output_type": "stream",
     "text": [
      "195/195 [==============================] - 0s 1ms/step\n",
      "195/195 [==============================] - 0s 1ms/step\n",
      "195/195 [==============================] - 0s 1ms/step\n"
     ]
    },
    {
     "name": "stderr",
     "output_type": "stream",
     "text": [
      "\u001b[32m[I 2023-03-01 22:47:33,862]\u001b[0m Trial 94 finished with value: 0.8547500274636911 and parameters: {'units': 25, 'alpha': 0.018953699711977683, 'dropout': 0.42594330548206905, 'lr': 7.665610176378087e-05, 'batch_size': 256, 'l2_kern': 0.005817327582262394, 'l2_bias': 0.00018281549819200665}. Best is trial 74 with value: 0.8553492119721979.\u001b[0m\n",
      "C:\\Users\\User\\AppData\\Local\\Temp\\ipykernel_9208\\3785980822.py:37: DeprecationWarning: KerasClassifier is deprecated, use Sci-Keras (https://github.com/adriangb/scikeras) instead. See https://www.adriangb.com/scikeras/stable/migration.html for help migrating.\n",
      "  ('classifier', KerasClassifier(build_fn=self.create_model, verbose=0))\n"
     ]
    },
    {
     "name": "stdout",
     "output_type": "stream",
     "text": [
      "195/195 [==============================] - 0s 1ms/step\n",
      "195/195 [==============================] - 0s 1ms/step\n",
      "195/195 [==============================] - 0s 1ms/step\n"
     ]
    },
    {
     "name": "stderr",
     "output_type": "stream",
     "text": [
      "\u001b[32m[I 2023-03-01 22:48:15,882]\u001b[0m Trial 95 finished with value: 0.8549397430248492 and parameters: {'units': 34, 'alpha': 0.015195596535836957, 'dropout': 0.40772097760976833, 'lr': 9.610295985323854e-05, 'batch_size': 256, 'l2_kern': 0.00037079097521124283, 'l2_bias': 0.00013939723272712631}. Best is trial 74 with value: 0.8553492119721979.\u001b[0m\n",
      "C:\\Users\\User\\AppData\\Local\\Temp\\ipykernel_9208\\3785980822.py:37: DeprecationWarning: KerasClassifier is deprecated, use Sci-Keras (https://github.com/adriangb/scikeras) instead. See https://www.adriangb.com/scikeras/stable/migration.html for help migrating.\n",
      "  ('classifier', KerasClassifier(build_fn=self.create_model, verbose=0))\n"
     ]
    },
    {
     "name": "stdout",
     "output_type": "stream",
     "text": [
      "195/195 [==============================] - 0s 1ms/step\n",
      "195/195 [==============================] - 0s 1ms/step\n",
      "195/195 [==============================] - 0s 1ms/step\n"
     ]
    },
    {
     "name": "stderr",
     "output_type": "stream",
     "text": [
      "\u001b[32m[I 2023-03-01 22:48:53,990]\u001b[0m Trial 96 finished with value: 0.8373439342614132 and parameters: {'units': 15, 'alpha': 0.02771550875541052, 'dropout': 0.3781499523619973, 'lr': 0.00011880996296800686, 'batch_size': 1024, 'l2_kern': 0.0004790376065006007, 'l2_bias': 0.00048168913293997954}. Best is trial 74 with value: 0.8553492119721979.\u001b[0m\n",
      "C:\\Users\\User\\AppData\\Local\\Temp\\ipykernel_9208\\3785980822.py:37: DeprecationWarning: KerasClassifier is deprecated, use Sci-Keras (https://github.com/adriangb/scikeras) instead. See https://www.adriangb.com/scikeras/stable/migration.html for help migrating.\n",
      "  ('classifier', KerasClassifier(build_fn=self.create_model, verbose=0))\n"
     ]
    },
    {
     "name": "stdout",
     "output_type": "stream",
     "text": [
      "195/195 [==============================] - 0s 1ms/step\n",
      "195/195 [==============================] - 0s 1ms/step\n",
      "195/195 [==============================] - 0s 1ms/step\n"
     ]
    },
    {
     "name": "stderr",
     "output_type": "stream",
     "text": [
      "\u001b[32m[I 2023-03-01 22:49:52,544]\u001b[0m Trial 97 finished with value: 0.8546829988710742 and parameters: {'units': 31, 'alpha': 0.024297124988467908, 'dropout': 0.4484753744919353, 'lr': 0.00020260392362183343, 'batch_size': 32, 'l2_kern': 0.003330287061469942, 'l2_bias': 0.0006442867206697887}. Best is trial 74 with value: 0.8553492119721979.\u001b[0m\n",
      "C:\\Users\\User\\AppData\\Local\\Temp\\ipykernel_9208\\3785980822.py:37: DeprecationWarning: KerasClassifier is deprecated, use Sci-Keras (https://github.com/adriangb/scikeras) instead. See https://www.adriangb.com/scikeras/stable/migration.html for help migrating.\n",
      "  ('classifier', KerasClassifier(build_fn=self.create_model, verbose=0))\n"
     ]
    },
    {
     "name": "stdout",
     "output_type": "stream",
     "text": [
      "195/195 [==============================] - 0s 1ms/step\n",
      "195/195 [==============================] - 0s 1ms/step\n",
      "195/195 [==============================] - 0s 1ms/step\n"
     ]
    },
    {
     "name": "stderr",
     "output_type": "stream",
     "text": [
      "\u001b[32m[I 2023-03-01 22:50:27,019]\u001b[0m Trial 98 finished with value: 0.8554638589859586 and parameters: {'units': 30, 'alpha': 0.021675155728023515, 'dropout': 0.43693619577950926, 'lr': 0.00014268767913576356, 'batch_size': 256, 'l2_kern': 0.0068092625426043815, 'l2_bias': 0.0002581169461523419}. Best is trial 98 with value: 0.8554638589859586.\u001b[0m\n",
      "C:\\Users\\User\\AppData\\Local\\Temp\\ipykernel_9208\\3785980822.py:37: DeprecationWarning: KerasClassifier is deprecated, use Sci-Keras (https://github.com/adriangb/scikeras) instead. See https://www.adriangb.com/scikeras/stable/migration.html for help migrating.\n",
      "  ('classifier', KerasClassifier(build_fn=self.create_model, verbose=0))\n"
     ]
    },
    {
     "name": "stdout",
     "output_type": "stream",
     "text": [
      "195/195 [==============================] - 0s 1ms/step\n",
      "195/195 [==============================] - 0s 1ms/step\n",
      "195/195 [==============================] - 0s 1ms/step\n"
     ]
    },
    {
     "name": "stderr",
     "output_type": "stream",
     "text": [
      "\u001b[32m[I 2023-03-01 22:51:21,805]\u001b[0m Trial 99 finished with value: 0.8542734084346231 and parameters: {'units': 27, 'alpha': 0.021854981174984286, 'dropout': 0.4362165780698641, 'lr': 5.852983357811006e-05, 'batch_size': 128, 'l2_kern': 0.004647970482050358, 'l2_bias': 0.0002727584841553363}. Best is trial 98 with value: 0.8554638589859586.\u001b[0m\n"
     ]
    },
    {
     "name": "stdout",
     "output_type": "stream",
     "text": [
      "Number of finished trials: 100\n",
      "Best trial:\n",
      "  Value: 0.8554638589859586\n",
      "    units: 30\n",
      "    alpha: 0.021675155728023515\n",
      "    dropout: 0.43693619577950926\n",
      "    lr: 0.00014268767913576356\n",
      "    batch_size: 256\n",
      "    l2_kern: 0.0068092625426043815\n",
      "    l2_bias: 0.0002581169461523419\n"
     ]
    },
    {
     "name": "stderr",
     "output_type": "stream",
     "text": [
      "C:\\Users\\User\\AppData\\Local\\Temp\\ipykernel_9208\\3785980822.py:111: DeprecationWarning: KerasClassifier is deprecated, use Sci-Keras (https://github.com/adriangb/scikeras) instead. See https://www.adriangb.com/scikeras/stable/migration.html for help migrating.\n",
      "  ('classifier', KerasClassifier(build_fn=tun.create_model, verbose=0))\n"
     ]
    },
    {
     "name": "stdout",
     "output_type": "stream",
     "text": [
      "117/117 [==============================] - 0s 1ms/step\n",
      "117/117 [==============================] - 0s 1ms/step\n",
      "117/117 [==============================] - 0s 2ms/step\n",
      "117/117 [==============================] - 0s 1ms/step\n",
      "117/117 [==============================] - 0s 1ms/step\n",
      "37/37 [==============================] - 0s 1ms/step\n",
      "37/37 [==============================] - 0s 1ms/step\n",
      "37/37 [==============================] - 0s 1ms/step\n",
      "37/37 [==============================] - 0s 1ms/step\n",
      "37/37 [==============================] - 0s 1ms/step\n",
      "Train mean AUC score is 0.8554063053244054 while test mean AUC score is 0.857799193862024.\n",
      "183/183 [==============================] - 0s 1ms/step\n"
     ]
    },
    {
     "name": "stderr",
     "output_type": "stream",
     "text": [
      "\u001b[32m[I 2023-03-01 22:53:30,064]\u001b[0m A new study created in memory with name: no-name-ba335f6f-32da-4442-bfea-a5cf98177267\u001b[0m\n"
     ]
    },
    {
     "name": "stdout",
     "output_type": "stream",
     "text": [
      "              precision    recall  f1-score   support\n",
      "\n",
      "          No       0.88      0.96      0.92      4648\n",
      "         Yes       0.77      0.48      0.59      1186\n",
      "\n",
      "    accuracy                           0.86      5834\n",
      "   macro avg       0.82      0.72      0.75      5834\n",
      "weighted avg       0.86      0.86      0.85      5834\n",
      "\n"
     ]
    },
    {
     "name": "stderr",
     "output_type": "stream",
     "text": [
      "C:\\Users\\User\\AppData\\Local\\Temp\\ipykernel_9208\\3785980822.py:37: DeprecationWarning: KerasClassifier is deprecated, use Sci-Keras (https://github.com/adriangb/scikeras) instead. See https://www.adriangb.com/scikeras/stable/migration.html for help migrating.\n",
      "  ('classifier', KerasClassifier(build_fn=self.create_model, verbose=0))\n"
     ]
    },
    {
     "name": "stdout",
     "output_type": "stream",
     "text": [
      "195/195 [==============================] - 0s 1ms/step\n",
      "195/195 [==============================] - 0s 1ms/step\n",
      "195/195 [==============================] - 0s 1ms/step\n"
     ]
    },
    {
     "name": "stderr",
     "output_type": "stream",
     "text": [
      "\u001b[32m[I 2023-03-01 22:54:31,298]\u001b[0m Trial 0 finished with value: 0.849515765431952 and parameters: {'units': 11, 'alpha': 0.08489147975055687, 'dropout': 0.20864941078132918, 'lr': 0.009977343270475999, 'batch_size': 16, 'l2_kern': 0.0008790148531842299, 'l2_bias': 0.002625132680974956}. Best is trial 0 with value: 0.849515765431952.\u001b[0m\n",
      "C:\\Users\\User\\AppData\\Local\\Temp\\ipykernel_9208\\3785980822.py:37: DeprecationWarning: KerasClassifier is deprecated, use Sci-Keras (https://github.com/adriangb/scikeras) instead. See https://www.adriangb.com/scikeras/stable/migration.html for help migrating.\n",
      "  ('classifier', KerasClassifier(build_fn=self.create_model, verbose=0))\n"
     ]
    },
    {
     "name": "stdout",
     "output_type": "stream",
     "text": [
      "195/195 [==============================] - 0s 1ms/step\n",
      "195/195 [==============================] - 0s 1ms/step\n",
      "195/195 [==============================] - 0s 1ms/step\n"
     ]
    },
    {
     "name": "stderr",
     "output_type": "stream",
     "text": [
      "\u001b[32m[I 2023-03-01 22:55:00,536]\u001b[0m Trial 1 finished with value: 0.8531212117724133 and parameters: {'units': 8, 'alpha': 0.0679140065540469, 'dropout': 0.4084052752252917, 'lr': 0.00027344140252083115, 'batch_size': 512, 'l2_kern': 0.0009692249638308649, 'l2_bias': 0.0016153513481651065}. Best is trial 1 with value: 0.8531212117724133.\u001b[0m\n",
      "C:\\Users\\User\\AppData\\Local\\Temp\\ipykernel_9208\\3785980822.py:37: DeprecationWarning: KerasClassifier is deprecated, use Sci-Keras (https://github.com/adriangb/scikeras) instead. See https://www.adriangb.com/scikeras/stable/migration.html for help migrating.\n",
      "  ('classifier', KerasClassifier(build_fn=self.create_model, verbose=0))\n"
     ]
    },
    {
     "name": "stdout",
     "output_type": "stream",
     "text": [
      "195/195 [==============================] - 0s 1ms/step\n",
      "195/195 [==============================] - 0s 1ms/step\n",
      "195/195 [==============================] - 0s 1ms/step\n"
     ]
    },
    {
     "name": "stderr",
     "output_type": "stream",
     "text": [
      "\u001b[32m[I 2023-03-01 22:55:18,264]\u001b[0m Trial 2 finished with value: 0.8541553188616678 and parameters: {'units': 3, 'alpha': 0.049359489909754736, 'dropout': 0.3289158370503349, 'lr': 0.0016193284840093011, 'batch_size': 512, 'l2_kern': 0.0004109053383117305, 'l2_bias': 0.0042197858545862926}. Best is trial 2 with value: 0.8541553188616678.\u001b[0m\n",
      "C:\\Users\\User\\AppData\\Local\\Temp\\ipykernel_9208\\3785980822.py:37: DeprecationWarning: KerasClassifier is deprecated, use Sci-Keras (https://github.com/adriangb/scikeras) instead. See https://www.adriangb.com/scikeras/stable/migration.html for help migrating.\n",
      "  ('classifier', KerasClassifier(build_fn=self.create_model, verbose=0))\n"
     ]
    },
    {
     "name": "stdout",
     "output_type": "stream",
     "text": [
      "195/195 [==============================] - 0s 1ms/step\n",
      "195/195 [==============================] - 0s 1ms/step\n",
      "195/195 [==============================] - 0s 1ms/step\n"
     ]
    },
    {
     "name": "stderr",
     "output_type": "stream",
     "text": [
      "\u001b[32m[I 2023-03-01 22:55:36,514]\u001b[0m Trial 3 finished with value: 0.8542219739437552 and parameters: {'units': 2, 'alpha': 0.023865876781015906, 'dropout': 0.39835610509803676, 'lr': 0.0012631933623756142, 'batch_size': 1024, 'l2_kern': 0.0026051561031824777, 'l2_bias': 0.001834621008190011}. Best is trial 3 with value: 0.8542219739437552.\u001b[0m\n",
      "C:\\Users\\User\\AppData\\Local\\Temp\\ipykernel_9208\\3785980822.py:37: DeprecationWarning: KerasClassifier is deprecated, use Sci-Keras (https://github.com/adriangb/scikeras) instead. See https://www.adriangb.com/scikeras/stable/migration.html for help migrating.\n",
      "  ('classifier', KerasClassifier(build_fn=self.create_model, verbose=0))\n"
     ]
    },
    {
     "name": "stdout",
     "output_type": "stream",
     "text": [
      "195/195 [==============================] - 0s 1ms/step\n",
      "195/195 [==============================] - 0s 1ms/step\n",
      "195/195 [==============================] - 0s 1ms/step\n"
     ]
    },
    {
     "name": "stderr",
     "output_type": "stream",
     "text": [
      "\u001b[32m[I 2023-03-01 22:55:50,533]\u001b[0m Trial 4 finished with value: 0.8542051715954138 and parameters: {'units': 7, 'alpha': 0.039313785948344136, 'dropout': 0.379369045968301, 'lr': 0.0015048238567812351, 'batch_size': 256, 'l2_kern': 8.516624550819429e-05, 'l2_bias': 1.654675490134338e-05}. Best is trial 3 with value: 0.8542219739437552.\u001b[0m\n",
      "C:\\Users\\User\\AppData\\Local\\Temp\\ipykernel_9208\\3785980822.py:37: DeprecationWarning: KerasClassifier is deprecated, use Sci-Keras (https://github.com/adriangb/scikeras) instead. See https://www.adriangb.com/scikeras/stable/migration.html for help migrating.\n",
      "  ('classifier', KerasClassifier(build_fn=self.create_model, verbose=0))\n"
     ]
    },
    {
     "name": "stdout",
     "output_type": "stream",
     "text": [
      "195/195 [==============================] - 0s 1ms/step\n",
      "195/195 [==============================] - 0s 1ms/step\n",
      "195/195 [==============================] - 0s 1ms/step\n"
     ]
    },
    {
     "name": "stderr",
     "output_type": "stream",
     "text": [
      "\u001b[32m[I 2023-03-01 22:56:16,412]\u001b[0m Trial 5 finished with value: 0.8545862462489718 and parameters: {'units': 32, 'alpha': 0.06854424954477847, 'dropout': 0.34406876129529274, 'lr': 0.0002536828841135395, 'batch_size': 256, 'l2_kern': 0.00016239017842329553, 'l2_bias': 0.0034998534882525406}. Best is trial 5 with value: 0.8545862462489718.\u001b[0m\n",
      "C:\\Users\\User\\AppData\\Local\\Temp\\ipykernel_9208\\3785980822.py:37: DeprecationWarning: KerasClassifier is deprecated, use Sci-Keras (https://github.com/adriangb/scikeras) instead. See https://www.adriangb.com/scikeras/stable/migration.html for help migrating.\n",
      "  ('classifier', KerasClassifier(build_fn=self.create_model, verbose=0))\n"
     ]
    },
    {
     "name": "stdout",
     "output_type": "stream",
     "text": [
      "195/195 [==============================] - 0s 1ms/step\n",
      "195/195 [==============================] - 0s 1ms/step\n",
      "195/195 [==============================] - 0s 1ms/step\n"
     ]
    },
    {
     "name": "stderr",
     "output_type": "stream",
     "text": [
      "\u001b[32m[I 2023-03-01 22:57:50,951]\u001b[0m Trial 6 finished with value: 0.8531465374208745 and parameters: {'units': 35, 'alpha': 0.04948246889680272, 'dropout': 0.3803869248313516, 'lr': 0.001565171085415664, 'batch_size': 16, 'l2_kern': 0.000500200182330259, 'l2_bias': 6.643061421299829e-05}. Best is trial 5 with value: 0.8545862462489718.\u001b[0m\n",
      "C:\\Users\\User\\AppData\\Local\\Temp\\ipykernel_9208\\3785980822.py:37: DeprecationWarning: KerasClassifier is deprecated, use Sci-Keras (https://github.com/adriangb/scikeras) instead. See https://www.adriangb.com/scikeras/stable/migration.html for help migrating.\n",
      "  ('classifier', KerasClassifier(build_fn=self.create_model, verbose=0))\n"
     ]
    },
    {
     "name": "stdout",
     "output_type": "stream",
     "text": [
      "195/195 [==============================] - 0s 1ms/step\n",
      "195/195 [==============================] - 0s 1ms/step\n",
      "195/195 [==============================] - 0s 1ms/step\n"
     ]
    },
    {
     "name": "stderr",
     "output_type": "stream",
     "text": [
      "\u001b[32m[I 2023-03-01 22:58:23,952]\u001b[0m Trial 7 finished with value: 0.8540396685385495 and parameters: {'units': 24, 'alpha': 0.05639199287957771, 'dropout': 0.4907007096866018, 'lr': 0.00033155643223441807, 'batch_size': 64, 'l2_kern': 0.002349108143115436, 'l2_bias': 0.0006020787933325963}. Best is trial 5 with value: 0.8545862462489718.\u001b[0m\n",
      "C:\\Users\\User\\AppData\\Local\\Temp\\ipykernel_9208\\3785980822.py:37: DeprecationWarning: KerasClassifier is deprecated, use Sci-Keras (https://github.com/adriangb/scikeras) instead. See https://www.adriangb.com/scikeras/stable/migration.html for help migrating.\n",
      "  ('classifier', KerasClassifier(build_fn=self.create_model, verbose=0))\n"
     ]
    },
    {
     "name": "stdout",
     "output_type": "stream",
     "text": [
      "195/195 [==============================] - 0s 1ms/step\n",
      "195/195 [==============================] - 0s 1ms/step\n",
      "195/195 [==============================] - 0s 1ms/step\n"
     ]
    },
    {
     "name": "stderr",
     "output_type": "stream",
     "text": [
      "\u001b[32m[I 2023-03-01 22:59:56,215]\u001b[0m Trial 8 finished with value: 0.8536719703170624 and parameters: {'units': 28, 'alpha': 0.09786803463698197, 'dropout': 0.299241243248711, 'lr': 0.0009335772575069589, 'batch_size': 16, 'l2_kern': 0.0004467639299913888, 'l2_bias': 0.006597077807933503}. Best is trial 5 with value: 0.8545862462489718.\u001b[0m\n"
     ]
    }
   ],
   "source": [
    "tun = tuning_methods(X_train, X_val, y_train,  y_val, X_test, y_test)\n",
    "trials = 100\n",
    "\n",
    "# Tree-structured Parzen Estimator\n",
    "params_tpe = tun.Tuning(n_trials=trials, sampler = optuna.samplers.TPESampler())\n",
    "tpe_scores = tun.Best_MLP_model(params_tpe)"
   ]
  },
  {
   "cell_type": "code",
   "execution_count": 4,
   "id": "6ffd6653",
   "metadata": {},
   "outputs": [
    {
     "name": "stderr",
     "output_type": "stream",
     "text": [
      "\u001b[32m[I 2023-03-02 06:48:11,956]\u001b[0m A new study created in memory with name: no-name-006a02e6-a616-4c1d-9de1-4c276fd4e26c\u001b[0m\n",
      "C:\\Users\\User\\AppData\\Local\\Temp\\ipykernel_10400\\3785980822.py:37: DeprecationWarning: KerasClassifier is deprecated, use Sci-Keras (https://github.com/adriangb/scikeras) instead. See https://www.adriangb.com/scikeras/stable/migration.html for help migrating.\n",
      "  ('classifier', KerasClassifier(build_fn=self.create_model, verbose=0))\n"
     ]
    },
    {
     "name": "stdout",
     "output_type": "stream",
     "text": [
      "195/195 [==============================] - 1s 2ms/step\n",
      "195/195 [==============================] - 1s 2ms/step\n",
      "195/195 [==============================] - 0s 2ms/step\n"
     ]
    },
    {
     "name": "stderr",
     "output_type": "stream",
     "text": [
      "\u001b[32m[I 2023-03-02 06:49:44,061]\u001b[0m Trial 0 finished with value: 0.8543616267603878 and parameters: {'units': 29, 'alpha': 0.0933619000305146, 'dropout': 0.4227613860657616, 'lr': 6.425006258745942e-05, 'batch_size': 256, 'l2_kern': 4.762110802438709e-05, 'l2_bias': 2.350471811023897e-05}. Best is trial 0 with value: 0.8543616267603878.\u001b[0m\n",
      "C:\\Users\\User\\AppData\\Local\\Temp\\ipykernel_10400\\3785980822.py:37: DeprecationWarning: KerasClassifier is deprecated, use Sci-Keras (https://github.com/adriangb/scikeras) instead. See https://www.adriangb.com/scikeras/stable/migration.html for help migrating.\n",
      "  ('classifier', KerasClassifier(build_fn=self.create_model, verbose=0))\n"
     ]
    },
    {
     "name": "stdout",
     "output_type": "stream",
     "text": [
      "195/195 [==============================] - 1s 2ms/step\n",
      "195/195 [==============================] - 1s 2ms/step\n",
      "195/195 [==============================] - 1s 3ms/step\n"
     ]
    },
    {
     "name": "stderr",
     "output_type": "stream",
     "text": [
      "\u001b[32m[I 2023-03-02 06:50:30,173]\u001b[0m Trial 1 finished with value: 0.8519218039736866 and parameters: {'units': 33, 'alpha': 0.06955928315319992, 'dropout': 0.4465319406693177, 'lr': 0.004565620660087131, 'batch_size': 64, 'l2_kern': 0.006847973069366916, 'l2_bias': 0.001342025956847735}. Best is trial 0 with value: 0.8543616267603878.\u001b[0m\n",
      "C:\\Users\\User\\AppData\\Local\\Temp\\ipykernel_10400\\3785980822.py:37: DeprecationWarning: KerasClassifier is deprecated, use Sci-Keras (https://github.com/adriangb/scikeras) instead. See https://www.adriangb.com/scikeras/stable/migration.html for help migrating.\n",
      "  ('classifier', KerasClassifier(build_fn=self.create_model, verbose=0))\n"
     ]
    },
    {
     "name": "stdout",
     "output_type": "stream",
     "text": [
      "195/195 [==============================] - 1s 2ms/step\n",
      "195/195 [==============================] - 0s 2ms/step\n",
      "195/195 [==============================] - 1s 2ms/step\n"
     ]
    },
    {
     "name": "stderr",
     "output_type": "stream",
     "text": [
      "\u001b[32m[I 2023-03-02 06:51:38,906]\u001b[0m Trial 2 finished with value: 0.8547281373266555 and parameters: {'units': 40, 'alpha': 0.08848003744996545, 'dropout': 0.39472648507250196, 'lr': 0.00014581778021776373, 'batch_size': 128, 'l2_kern': 0.0060682846468375785, 'l2_bias': 3.259265502704507e-05}. Best is trial 2 with value: 0.8547281373266555.\u001b[0m\n",
      "C:\\Users\\User\\AppData\\Local\\Temp\\ipykernel_10400\\3785980822.py:37: DeprecationWarning: KerasClassifier is deprecated, use Sci-Keras (https://github.com/adriangb/scikeras) instead. See https://www.adriangb.com/scikeras/stable/migration.html for help migrating.\n",
      "  ('classifier', KerasClassifier(build_fn=self.create_model, verbose=0))\n"
     ]
    },
    {
     "name": "stdout",
     "output_type": "stream",
     "text": [
      "195/195 [==============================] - 1s 2ms/step\n",
      "195/195 [==============================] - 1s 2ms/step\n",
      "195/195 [==============================] - 1s 2ms/step\n"
     ]
    },
    {
     "name": "stderr",
     "output_type": "stream",
     "text": [
      "\u001b[32m[I 2023-03-02 06:52:28,696]\u001b[0m Trial 3 finished with value: 0.8541740549310172 and parameters: {'units': 37, 'alpha': 0.04691299227215251, 'dropout': 0.24020621366484377, 'lr': 0.0006568443208351016, 'batch_size': 64, 'l2_kern': 4.975383197469357e-05, 'l2_bias': 4.525195763115166e-05}. Best is trial 2 with value: 0.8547281373266555.\u001b[0m\n",
      "C:\\Users\\User\\AppData\\Local\\Temp\\ipykernel_10400\\3785980822.py:37: DeprecationWarning: KerasClassifier is deprecated, use Sci-Keras (https://github.com/adriangb/scikeras) instead. See https://www.adriangb.com/scikeras/stable/migration.html for help migrating.\n",
      "  ('classifier', KerasClassifier(build_fn=self.create_model, verbose=0))\n"
     ]
    },
    {
     "name": "stdout",
     "output_type": "stream",
     "text": [
      "195/195 [==============================] - 0s 2ms/step\n",
      "195/195 [==============================] - 1s 2ms/step\n",
      "195/195 [==============================] - 1s 2ms/step\n"
     ]
    },
    {
     "name": "stderr",
     "output_type": "stream",
     "text": [
      "\u001b[32m[I 2023-03-02 06:52:43,463]\u001b[0m Trial 4 finished with value: 0.854456915654271 and parameters: {'units': 29, 'alpha': 0.08069518376205426, 'dropout': 0.21404412613290827, 'lr': 0.007966699394487589, 'batch_size': 1024, 'l2_kern': 4.7189582908274965e-05, 'l2_bias': 0.0022348136304560697}. Best is trial 2 with value: 0.8547281373266555.\u001b[0m\n",
      "C:\\Users\\User\\AppData\\Local\\Temp\\ipykernel_10400\\3785980822.py:37: DeprecationWarning: KerasClassifier is deprecated, use Sci-Keras (https://github.com/adriangb/scikeras) instead. See https://www.adriangb.com/scikeras/stable/migration.html for help migrating.\n",
      "  ('classifier', KerasClassifier(build_fn=self.create_model, verbose=0))\n"
     ]
    },
    {
     "name": "stdout",
     "output_type": "stream",
     "text": [
      "195/195 [==============================] - 0s 2ms/step\n",
      "195/195 [==============================] - 1s 2ms/step\n",
      "195/195 [==============================] - 1s 2ms/step\n"
     ]
    },
    {
     "name": "stderr",
     "output_type": "stream",
     "text": [
      "\u001b[32m[I 2023-03-02 06:53:20,328]\u001b[0m Trial 5 finished with value: 0.8520298800254843 and parameters: {'units': 14, 'alpha': 0.09191261227897458, 'dropout': 0.341504063383143, 'lr': 0.005378139893348709, 'batch_size': 64, 'l2_kern': 0.0006571938689023058, 'l2_bias': 3.1488898020178416e-05}. Best is trial 2 with value: 0.8547281373266555.\u001b[0m\n",
      "C:\\Users\\User\\AppData\\Local\\Temp\\ipykernel_10400\\3785980822.py:37: DeprecationWarning: KerasClassifier is deprecated, use Sci-Keras (https://github.com/adriangb/scikeras) instead. See https://www.adriangb.com/scikeras/stable/migration.html for help migrating.\n",
      "  ('classifier', KerasClassifier(build_fn=self.create_model, verbose=0))\n"
     ]
    },
    {
     "name": "stdout",
     "output_type": "stream",
     "text": [
      "195/195 [==============================] - 1s 2ms/step\n",
      "195/195 [==============================] - 0s 2ms/step\n",
      "195/195 [==============================] - 1s 3ms/step\n"
     ]
    },
    {
     "name": "stderr",
     "output_type": "stream",
     "text": [
      "\u001b[32m[I 2023-03-02 06:53:55,274]\u001b[0m Trial 6 finished with value: 0.8549006074852944 and parameters: {'units': 24, 'alpha': 0.04883265680117626, 'dropout': 0.36207226824257677, 'lr': 0.0006404168878421433, 'batch_size': 256, 'l2_kern': 6.456562957705736e-05, 'l2_bias': 0.0003555669874515653}. Best is trial 6 with value: 0.8549006074852944.\u001b[0m\n",
      "C:\\Users\\User\\AppData\\Local\\Temp\\ipykernel_10400\\3785980822.py:37: DeprecationWarning: KerasClassifier is deprecated, use Sci-Keras (https://github.com/adriangb/scikeras) instead. See https://www.adriangb.com/scikeras/stable/migration.html for help migrating.\n",
      "  ('classifier', KerasClassifier(build_fn=self.create_model, verbose=0))\n"
     ]
    },
    {
     "name": "stdout",
     "output_type": "stream",
     "text": [
      "195/195 [==============================] - 0s 2ms/step\n",
      "195/195 [==============================] - 0s 2ms/step\n",
      "195/195 [==============================] - 0s 1ms/step\n"
     ]
    },
    {
     "name": "stderr",
     "output_type": "stream",
     "text": [
      "\u001b[32m[I 2023-03-02 06:54:44,006]\u001b[0m Trial 7 finished with value: 0.8524938709172329 and parameters: {'units': 7, 'alpha': 0.011153830420832608, 'dropout': 0.3857582534261992, 'lr': 0.00018682605898640047, 'batch_size': 256, 'l2_kern': 4.942275095263762e-05, 'l2_bias': 0.007776778532038092}. Best is trial 6 with value: 0.8549006074852944.\u001b[0m\n",
      "C:\\Users\\User\\AppData\\Local\\Temp\\ipykernel_10400\\3785980822.py:37: DeprecationWarning: KerasClassifier is deprecated, use Sci-Keras (https://github.com/adriangb/scikeras) instead. See https://www.adriangb.com/scikeras/stable/migration.html for help migrating.\n",
      "  ('classifier', KerasClassifier(build_fn=self.create_model, verbose=0))\n"
     ]
    },
    {
     "name": "stdout",
     "output_type": "stream",
     "text": [
      "195/195 [==============================] - 0s 1ms/step\n",
      "195/195 [==============================] - 0s 1ms/step\n",
      "195/195 [==============================] - 0s 1ms/step\n"
     ]
    },
    {
     "name": "stderr",
     "output_type": "stream",
     "text": [
      "\u001b[32m[I 2023-03-02 06:55:26,004]\u001b[0m Trial 8 finished with value: 0.8380817084348431 and parameters: {'units': 22, 'alpha': 0.0636216525697917, 'dropout': 0.3120996579621166, 'lr': 9.294207998446907e-05, 'batch_size': 1024, 'l2_kern': 0.002358312747852395, 'l2_bias': 0.001519712153733421}. Best is trial 6 with value: 0.8549006074852944.\u001b[0m\n",
      "C:\\Users\\User\\AppData\\Local\\Temp\\ipykernel_10400\\3785980822.py:37: DeprecationWarning: KerasClassifier is deprecated, use Sci-Keras (https://github.com/adriangb/scikeras) instead. See https://www.adriangb.com/scikeras/stable/migration.html for help migrating.\n",
      "  ('classifier', KerasClassifier(build_fn=self.create_model, verbose=0))\n"
     ]
    },
    {
     "name": "stdout",
     "output_type": "stream",
     "text": [
      "195/195 [==============================] - 0s 2ms/step\n",
      "195/195 [==============================] - 0s 2ms/step\n",
      "195/195 [==============================] - 0s 1ms/step\n"
     ]
    },
    {
     "name": "stderr",
     "output_type": "stream",
     "text": [
      "\u001b[32m[I 2023-03-02 06:55:36,114]\u001b[0m Trial 9 finished with value: 0.8547216391138023 and parameters: {'units': 28, 'alpha': 0.022706906782213335, 'dropout': 0.3112028327984801, 'lr': 0.006792270943357293, 'batch_size': 1024, 'l2_kern': 0.001999734715454889, 'l2_bias': 0.0041250601489203455}. Best is trial 6 with value: 0.8549006074852944.\u001b[0m\n",
      "C:\\Users\\User\\AppData\\Local\\Temp\\ipykernel_10400\\3785980822.py:37: DeprecationWarning: KerasClassifier is deprecated, use Sci-Keras (https://github.com/adriangb/scikeras) instead. See https://www.adriangb.com/scikeras/stable/migration.html for help migrating.\n",
      "  ('classifier', KerasClassifier(build_fn=self.create_model, verbose=0))\n"
     ]
    },
    {
     "name": "stdout",
     "output_type": "stream",
     "text": [
      "195/195 [==============================] - 0s 1ms/step\n",
      "195/195 [==============================] - 1s 1ms/step\n",
      "195/195 [==============================] - 0s 1ms/step\n"
     ]
    },
    {
     "name": "stderr",
     "output_type": "stream",
     "text": [
      "\u001b[32m[I 2023-03-02 06:55:45,495]\u001b[0m Trial 10 finished with value: 0.854043682073175 and parameters: {'units': 7, 'alpha': 0.09797363881132598, 'dropout': 0.2824774144611073, 'lr': 0.00993908459348065, 'batch_size': 1024, 'l2_kern': 6.724044610485783e-05, 'l2_bias': 1.8861353069746953e-05}. Best is trial 6 with value: 0.8549006074852944.\u001b[0m\n",
      "C:\\Users\\User\\AppData\\Local\\Temp\\ipykernel_10400\\3785980822.py:37: DeprecationWarning: KerasClassifier is deprecated, use Sci-Keras (https://github.com/adriangb/scikeras) instead. See https://www.adriangb.com/scikeras/stable/migration.html for help migrating.\n",
      "  ('classifier', KerasClassifier(build_fn=self.create_model, verbose=0))\n"
     ]
    },
    {
     "name": "stdout",
     "output_type": "stream",
     "text": [
      "195/195 [==============================] - 0s 1ms/step\n",
      "195/195 [==============================] - 0s 2ms/step\n",
      "195/195 [==============================] - 0s 1ms/step\n"
     ]
    },
    {
     "name": "stderr",
     "output_type": "stream",
     "text": [
      "\u001b[32m[I 2023-03-02 06:57:33,255]\u001b[0m Trial 11 finished with value: 0.8546878452312235 and parameters: {'units': 4, 'alpha': 0.027073487837319637, 'dropout': 0.32649723013044707, 'lr': 0.000682168723089167, 'batch_size': 16, 'l2_kern': 0.005755268944455482, 'l2_bias': 0.0008188056875492751}. Best is trial 6 with value: 0.8549006074852944.\u001b[0m\n",
      "C:\\Users\\User\\AppData\\Local\\Temp\\ipykernel_10400\\3785980822.py:37: DeprecationWarning: KerasClassifier is deprecated, use Sci-Keras (https://github.com/adriangb/scikeras) instead. See https://www.adriangb.com/scikeras/stable/migration.html for help migrating.\n",
      "  ('classifier', KerasClassifier(build_fn=self.create_model, verbose=0))\n"
     ]
    },
    {
     "name": "stdout",
     "output_type": "stream",
     "text": [
      "195/195 [==============================] - 0s 1ms/step\n",
      "195/195 [==============================] - 0s 1ms/step\n",
      "195/195 [==============================] - 0s 2ms/step\n"
     ]
    },
    {
     "name": "stderr",
     "output_type": "stream",
     "text": [
      "\u001b[32m[I 2023-03-02 06:57:58,268]\u001b[0m Trial 12 finished with value: 0.853775582562462 and parameters: {'units': 34, 'alpha': 0.059651251311808415, 'dropout': 0.2761535090336742, 'lr': 0.001135021989798009, 'batch_size': 128, 'l2_kern': 0.008042819536424783, 'l2_bias': 0.0014208862091320302}. Best is trial 6 with value: 0.8549006074852944.\u001b[0m\n",
      "C:\\Users\\User\\AppData\\Local\\Temp\\ipykernel_10400\\3785980822.py:37: DeprecationWarning: KerasClassifier is deprecated, use Sci-Keras (https://github.com/adriangb/scikeras) instead. See https://www.adriangb.com/scikeras/stable/migration.html for help migrating.\n",
      "  ('classifier', KerasClassifier(build_fn=self.create_model, verbose=0))\n"
     ]
    },
    {
     "name": "stdout",
     "output_type": "stream",
     "text": [
      "195/195 [==============================] - 0s 1ms/step\n",
      "195/195 [==============================] - 0s 1ms/step\n",
      "195/195 [==============================] - 0s 2ms/step\n"
     ]
    },
    {
     "name": "stderr",
     "output_type": "stream",
     "text": [
      "\u001b[32m[I 2023-03-02 06:58:54,080]\u001b[0m Trial 13 finished with value: 0.8542191355609274 and parameters: {'units': 7, 'alpha': 0.09855923973387992, 'dropout': 0.2392082254603141, 'lr': 0.0005292721657720394, 'batch_size': 32, 'l2_kern': 0.0014377844266641863, 'l2_bias': 5.283003337405433e-05}. Best is trial 6 with value: 0.8549006074852944.\u001b[0m\n",
      "C:\\Users\\User\\AppData\\Local\\Temp\\ipykernel_10400\\3785980822.py:37: DeprecationWarning: KerasClassifier is deprecated, use Sci-Keras (https://github.com/adriangb/scikeras) instead. See https://www.adriangb.com/scikeras/stable/migration.html for help migrating.\n",
      "  ('classifier', KerasClassifier(build_fn=self.create_model, verbose=0))\n"
     ]
    },
    {
     "name": "stdout",
     "output_type": "stream",
     "text": [
      "195/195 [==============================] - 0s 1ms/step\n",
      "195/195 [==============================] - 0s 2ms/step\n",
      "195/195 [==============================] - 0s 1ms/step\n"
     ]
    },
    {
     "name": "stderr",
     "output_type": "stream",
     "text": [
      "\u001b[32m[I 2023-03-02 07:02:30,191]\u001b[0m Trial 14 finished with value: 0.8542123194342527 and parameters: {'units': 14, 'alpha': 0.09093445652065482, 'dropout': 0.46069200656904685, 'lr': 0.00012912335279945334, 'batch_size': 16, 'l2_kern': 0.003518651585595322, 'l2_bias': 0.00029761861606282525}. Best is trial 6 with value: 0.8549006074852944.\u001b[0m\n",
      "C:\\Users\\User\\AppData\\Local\\Temp\\ipykernel_10400\\3785980822.py:37: DeprecationWarning: KerasClassifier is deprecated, use Sci-Keras (https://github.com/adriangb/scikeras) instead. See https://www.adriangb.com/scikeras/stable/migration.html for help migrating.\n",
      "  ('classifier', KerasClassifier(build_fn=self.create_model, verbose=0))\n"
     ]
    },
    {
     "name": "stdout",
     "output_type": "stream",
     "text": [
      "195/195 [==============================] - 0s 1ms/step\n",
      "195/195 [==============================] - 0s 1ms/step\n",
      "195/195 [==============================] - 1s 3ms/step\n"
     ]
    },
    {
     "name": "stderr",
     "output_type": "stream",
     "text": [
      "\u001b[32m[I 2023-03-02 07:02:45,131]\u001b[0m Trial 15 finished with value: 0.8529493247954315 and parameters: {'units': 22, 'alpha': 0.04909369203002467, 'dropout': 0.3588809969342983, 'lr': 0.003024326237578518, 'batch_size': 128, 'l2_kern': 0.0003312234558734622, 'l2_bias': 2.4783465351550032e-05}. Best is trial 6 with value: 0.8549006074852944.\u001b[0m\n",
      "C:\\Users\\User\\AppData\\Local\\Temp\\ipykernel_10400\\3785980822.py:37: DeprecationWarning: KerasClassifier is deprecated, use Sci-Keras (https://github.com/adriangb/scikeras) instead. See https://www.adriangb.com/scikeras/stable/migration.html for help migrating.\n",
      "  ('classifier', KerasClassifier(build_fn=self.create_model, verbose=0))\n"
     ]
    },
    {
     "name": "stdout",
     "output_type": "stream",
     "text": [
      "195/195 [==============================] - 0s 1ms/step\n",
      "195/195 [==============================] - 0s 1ms/step\n",
      "195/195 [==============================] - 0s 1ms/step\n"
     ]
    },
    {
     "name": "stderr",
     "output_type": "stream",
     "text": [
      "\u001b[32m[I 2023-03-02 07:03:15,258]\u001b[0m Trial 16 finished with value: 0.8547592792526336 and parameters: {'units': 37, 'alpha': 0.06013332100263665, 'dropout': 0.29180587621365184, 'lr': 0.0003351165769003752, 'batch_size': 1024, 'l2_kern': 8.16347723051112e-05, 'l2_bias': 0.008101821704593724}. Best is trial 6 with value: 0.8549006074852944.\u001b[0m\n",
      "C:\\Users\\User\\AppData\\Local\\Temp\\ipykernel_10400\\3785980822.py:37: DeprecationWarning: KerasClassifier is deprecated, use Sci-Keras (https://github.com/adriangb/scikeras) instead. See https://www.adriangb.com/scikeras/stable/migration.html for help migrating.\n",
      "  ('classifier', KerasClassifier(build_fn=self.create_model, verbose=0))\n"
     ]
    },
    {
     "name": "stdout",
     "output_type": "stream",
     "text": [
      "195/195 [==============================] - 0s 1ms/step\n",
      "195/195 [==============================] - 0s 1ms/step\n",
      "195/195 [==============================] - 0s 1ms/step\n"
     ]
    },
    {
     "name": "stderr",
     "output_type": "stream",
     "text": [
      "\u001b[32m[I 2023-03-02 07:03:36,941]\u001b[0m Trial 17 finished with value: 0.8528998148125243 and parameters: {'units': 35, 'alpha': 0.09377630401267804, 'dropout': 0.31985434879155367, 'lr': 0.005679855517968955, 'batch_size': 128, 'l2_kern': 0.0001203884773661028, 'l2_bias': 0.0037487423503343434}. Best is trial 6 with value: 0.8549006074852944.\u001b[0m\n",
      "C:\\Users\\User\\AppData\\Local\\Temp\\ipykernel_10400\\3785980822.py:37: DeprecationWarning: KerasClassifier is deprecated, use Sci-Keras (https://github.com/adriangb/scikeras) instead. See https://www.adriangb.com/scikeras/stable/migration.html for help migrating.\n",
      "  ('classifier', KerasClassifier(build_fn=self.create_model, verbose=0))\n"
     ]
    },
    {
     "name": "stdout",
     "output_type": "stream",
     "text": [
      "195/195 [==============================] - 0s 1ms/step\n",
      "195/195 [==============================] - 0s 1ms/step\n",
      "195/195 [==============================] - 0s 1ms/step\n"
     ]
    },
    {
     "name": "stderr",
     "output_type": "stream",
     "text": [
      "\u001b[32m[I 2023-03-02 07:03:55,624]\u001b[0m Trial 18 finished with value: 0.852924657561439 and parameters: {'units': 27, 'alpha': 0.08409494396995641, 'dropout': 0.49090149918441917, 'lr': 0.007607041322742983, 'batch_size': 128, 'l2_kern': 2.4451225681928363e-05, 'l2_bias': 1.6952477424818774e-05}. Best is trial 6 with value: 0.8549006074852944.\u001b[0m\n",
      "C:\\Users\\User\\AppData\\Local\\Temp\\ipykernel_10400\\3785980822.py:37: DeprecationWarning: KerasClassifier is deprecated, use Sci-Keras (https://github.com/adriangb/scikeras) instead. See https://www.adriangb.com/scikeras/stable/migration.html for help migrating.\n",
      "  ('classifier', KerasClassifier(build_fn=self.create_model, verbose=0))\n"
     ]
    },
    {
     "name": "stdout",
     "output_type": "stream",
     "text": [
      "195/195 [==============================] - 0s 1ms/step\n",
      "195/195 [==============================] - 0s 2ms/step\n",
      "195/195 [==============================] - 0s 1ms/step\n"
     ]
    },
    {
     "name": "stderr",
     "output_type": "stream",
     "text": [
      "\u001b[32m[I 2023-03-02 07:05:24,115]\u001b[0m Trial 19 finished with value: 0.8555394649469713 and parameters: {'units': 28, 'alpha': 0.026391360060824515, 'dropout': 0.4798560131207464, 'lr': 7.38644786944954e-05, 'batch_size': 64, 'l2_kern': 0.0011182430399641022, 'l2_bias': 1.7086789863770254e-05}. Best is trial 19 with value: 0.8555394649469713.\u001b[0m\n",
      "C:\\Users\\User\\AppData\\Local\\Temp\\ipykernel_10400\\3785980822.py:37: DeprecationWarning: KerasClassifier is deprecated, use Sci-Keras (https://github.com/adriangb/scikeras) instead. See https://www.adriangb.com/scikeras/stable/migration.html for help migrating.\n",
      "  ('classifier', KerasClassifier(build_fn=self.create_model, verbose=0))\n"
     ]
    },
    {
     "name": "stdout",
     "output_type": "stream",
     "text": [
      "195/195 [==============================] - 0s 1ms/step\n",
      "195/195 [==============================] - 0s 1ms/step\n",
      "195/195 [==============================] - 0s 1ms/step\n"
     ]
    },
    {
     "name": "stderr",
     "output_type": "stream",
     "text": [
      "\u001b[32m[I 2023-03-02 07:05:50,143]\u001b[0m Trial 20 finished with value: 0.8551639233864763 and parameters: {'units': 14, 'alpha': 0.046332403628015606, 'dropout': 0.28215525079115933, 'lr': 0.0005522649851414932, 'batch_size': 256, 'l2_kern': 0.0003751445589547468, 'l2_bias': 3.449620528493661e-05}. Best is trial 19 with value: 0.8555394649469713.\u001b[0m\n",
      "C:\\Users\\User\\AppData\\Local\\Temp\\ipykernel_10400\\3785980822.py:37: DeprecationWarning: KerasClassifier is deprecated, use Sci-Keras (https://github.com/adriangb/scikeras) instead. See https://www.adriangb.com/scikeras/stable/migration.html for help migrating.\n",
      "  ('classifier', KerasClassifier(build_fn=self.create_model, verbose=0))\n"
     ]
    },
    {
     "name": "stdout",
     "output_type": "stream",
     "text": [
      "195/195 [==============================] - 0s 1ms/step\n",
      "195/195 [==============================] - 0s 1ms/step\n",
      "195/195 [==============================] - 0s 1ms/step\n"
     ]
    },
    {
     "name": "stderr",
     "output_type": "stream",
     "text": [
      "\u001b[32m[I 2023-03-02 07:06:00,774]\u001b[0m Trial 21 finished with value: 0.8545016330268819 and parameters: {'units': 10, 'alpha': 0.0266680354335778, 'dropout': 0.2824064790578837, 'lr': 0.00678402128273343, 'batch_size': 1024, 'l2_kern': 0.0006803087221433133, 'l2_bias': 0.0008919436747653769}. Best is trial 19 with value: 0.8555394649469713.\u001b[0m\n",
      "C:\\Users\\User\\AppData\\Local\\Temp\\ipykernel_10400\\3785980822.py:37: DeprecationWarning: KerasClassifier is deprecated, use Sci-Keras (https://github.com/adriangb/scikeras) instead. See https://www.adriangb.com/scikeras/stable/migration.html for help migrating.\n",
      "  ('classifier', KerasClassifier(build_fn=self.create_model, verbose=0))\n"
     ]
    },
    {
     "name": "stdout",
     "output_type": "stream",
     "text": [
      "195/195 [==============================] - 0s 2ms/step\n",
      "195/195 [==============================] - 0s 2ms/step\n",
      "195/195 [==============================] - 0s 1ms/step\n"
     ]
    },
    {
     "name": "stderr",
     "output_type": "stream",
     "text": [
      "\u001b[32m[I 2023-03-02 07:06:31,272]\u001b[0m Trial 22 finished with value: 0.8542985620920467 and parameters: {'units': 21, 'alpha': 0.037532067886398984, 'dropout': 0.30725618546066946, 'lr': 0.00029795842434044426, 'batch_size': 1024, 'l2_kern': 0.00010111796300338651, 'l2_bias': 2.9934082766999117e-05}. Best is trial 19 with value: 0.8555394649469713.\u001b[0m\n",
      "C:\\Users\\User\\AppData\\Local\\Temp\\ipykernel_10400\\3785980822.py:37: DeprecationWarning: KerasClassifier is deprecated, use Sci-Keras (https://github.com/adriangb/scikeras) instead. See https://www.adriangb.com/scikeras/stable/migration.html for help migrating.\n",
      "  ('classifier', KerasClassifier(build_fn=self.create_model, verbose=0))\n"
     ]
    },
    {
     "name": "stdout",
     "output_type": "stream",
     "text": [
      "195/195 [==============================] - 0s 2ms/step\n",
      "195/195 [==============================] - 0s 2ms/step\n",
      "195/195 [==============================] - 0s 1ms/step\n"
     ]
    },
    {
     "name": "stderr",
     "output_type": "stream",
     "text": [
      "\u001b[32m[I 2023-03-02 07:07:19,734]\u001b[0m Trial 23 finished with value: 0.854466521296411 and parameters: {'units': 39, 'alpha': 0.08346595454295909, 'dropout': 0.2028581861362025, 'lr': 9.55604527041827e-05, 'batch_size': 512, 'l2_kern': 2.9711048260212074e-05, 'l2_bias': 0.0036168314715470076}. Best is trial 19 with value: 0.8555394649469713.\u001b[0m\n",
      "C:\\Users\\User\\AppData\\Local\\Temp\\ipykernel_10400\\3785980822.py:37: DeprecationWarning: KerasClassifier is deprecated, use Sci-Keras (https://github.com/adriangb/scikeras) instead. See https://www.adriangb.com/scikeras/stable/migration.html for help migrating.\n",
      "  ('classifier', KerasClassifier(build_fn=self.create_model, verbose=0))\n"
     ]
    },
    {
     "name": "stdout",
     "output_type": "stream",
     "text": [
      "195/195 [==============================] - 0s 1ms/step\n",
      "195/195 [==============================] - 0s 1ms/step\n",
      "195/195 [==============================] - 0s 2ms/step\n"
     ]
    },
    {
     "name": "stderr",
     "output_type": "stream",
     "text": [
      "\u001b[32m[I 2023-03-02 07:07:46,066]\u001b[0m Trial 24 finished with value: 0.8548941290146855 and parameters: {'units': 20, 'alpha': 0.07195067791042599, 'dropout': 0.2916888193171917, 'lr': 0.0006173613513789284, 'batch_size': 512, 'l2_kern': 0.0022828223329013683, 'l2_bias': 0.0026826221889799037}. Best is trial 19 with value: 0.8555394649469713.\u001b[0m\n",
      "C:\\Users\\User\\AppData\\Local\\Temp\\ipykernel_10400\\3785980822.py:37: DeprecationWarning: KerasClassifier is deprecated, use Sci-Keras (https://github.com/adriangb/scikeras) instead. See https://www.adriangb.com/scikeras/stable/migration.html for help migrating.\n",
      "  ('classifier', KerasClassifier(build_fn=self.create_model, verbose=0))\n"
     ]
    },
    {
     "name": "stdout",
     "output_type": "stream",
     "text": [
      "195/195 [==============================] - 0s 2ms/step\n",
      "195/195 [==============================] - 0s 1ms/step\n",
      "195/195 [==============================] - 0s 1ms/step\n"
     ]
    },
    {
     "name": "stderr",
     "output_type": "stream",
     "text": [
      "\u001b[32m[I 2023-03-02 07:08:01,378]\u001b[0m Trial 25 finished with value: 0.8548170251055631 and parameters: {'units': 19, 'alpha': 0.05125482451837314, 'dropout': 0.27165197069175817, 'lr': 0.0013925570052579254, 'batch_size': 256, 'l2_kern': 0.004307855269076809, 'l2_bias': 0.00039407158339603625}. Best is trial 19 with value: 0.8555394649469713.\u001b[0m\n",
      "C:\\Users\\User\\AppData\\Local\\Temp\\ipykernel_10400\\3785980822.py:37: DeprecationWarning: KerasClassifier is deprecated, use Sci-Keras (https://github.com/adriangb/scikeras) instead. See https://www.adriangb.com/scikeras/stable/migration.html for help migrating.\n",
      "  ('classifier', KerasClassifier(build_fn=self.create_model, verbose=0))\n"
     ]
    },
    {
     "name": "stdout",
     "output_type": "stream",
     "text": [
      "195/195 [==============================] - 0s 1ms/step\n",
      "195/195 [==============================] - 0s 1ms/step\n",
      "195/195 [==============================] - 0s 1ms/step\n"
     ]
    },
    {
     "name": "stderr",
     "output_type": "stream",
     "text": [
      "\u001b[32m[I 2023-03-02 07:08:31,499]\u001b[0m Trial 26 finished with value: 0.850839201100959 and parameters: {'units': 4, 'alpha': 0.07180435638974243, 'dropout': 0.35698822013363196, 'lr': 0.0004149520555732661, 'batch_size': 1024, 'l2_kern': 0.009611233881358984, 'l2_bias': 2.1563531720945757e-05}. Best is trial 19 with value: 0.8555394649469713.\u001b[0m\n",
      "C:\\Users\\User\\AppData\\Local\\Temp\\ipykernel_10400\\3785980822.py:37: DeprecationWarning: KerasClassifier is deprecated, use Sci-Keras (https://github.com/adriangb/scikeras) instead. See https://www.adriangb.com/scikeras/stable/migration.html for help migrating.\n",
      "  ('classifier', KerasClassifier(build_fn=self.create_model, verbose=0))\n"
     ]
    },
    {
     "name": "stdout",
     "output_type": "stream",
     "text": [
      "195/195 [==============================] - 0s 1ms/step\n",
      "195/195 [==============================] - 0s 1ms/step\n",
      "195/195 [==============================] - 0s 1ms/step\n"
     ]
    },
    {
     "name": "stderr",
     "output_type": "stream",
     "text": [
      "\u001b[32m[I 2023-03-02 07:08:48,276]\u001b[0m Trial 27 finished with value: 0.8551940287384762 and parameters: {'units': 20, 'alpha': 0.05333373435269152, 'dropout': 0.3640076963114399, 'lr': 0.0010572695366461889, 'batch_size': 128, 'l2_kern': 0.004978576369503933, 'l2_bias': 0.0012224189552759537}. Best is trial 19 with value: 0.8555394649469713.\u001b[0m\n",
      "C:\\Users\\User\\AppData\\Local\\Temp\\ipykernel_10400\\3785980822.py:37: DeprecationWarning: KerasClassifier is deprecated, use Sci-Keras (https://github.com/adriangb/scikeras) instead. See https://www.adriangb.com/scikeras/stable/migration.html for help migrating.\n",
      "  ('classifier', KerasClassifier(build_fn=self.create_model, verbose=0))\n"
     ]
    },
    {
     "name": "stdout",
     "output_type": "stream",
     "text": [
      "195/195 [==============================] - 0s 2ms/step\n",
      "195/195 [==============================] - 0s 1ms/step\n",
      "195/195 [==============================] - 0s 1ms/step\n"
     ]
    },
    {
     "name": "stderr",
     "output_type": "stream",
     "text": [
      "\u001b[32m[I 2023-03-02 07:09:18,733]\u001b[0m Trial 28 finished with value: 0.8520235211758947 and parameters: {'units': 24, 'alpha': 0.0888822705326475, 'dropout': 0.43781407236442554, 'lr': 0.00026371437845858713, 'batch_size': 1024, 'l2_kern': 0.00014556610807165297, 'l2_bias': 1.7333267776730905e-05}. Best is trial 19 with value: 0.8555394649469713.\u001b[0m\n",
      "C:\\Users\\User\\AppData\\Local\\Temp\\ipykernel_10400\\3785980822.py:37: DeprecationWarning: KerasClassifier is deprecated, use Sci-Keras (https://github.com/adriangb/scikeras) instead. See https://www.adriangb.com/scikeras/stable/migration.html for help migrating.\n",
      "  ('classifier', KerasClassifier(build_fn=self.create_model, verbose=0))\n"
     ]
    },
    {
     "name": "stdout",
     "output_type": "stream",
     "text": [
      "195/195 [==============================] - 0s 1ms/step\n",
      "195/195 [==============================] - 0s 2ms/step\n",
      "195/195 [==============================] - 0s 1ms/step\n"
     ]
    },
    {
     "name": "stderr",
     "output_type": "stream",
     "text": [
      "\u001b[32m[I 2023-03-02 07:11:41,969]\u001b[0m Trial 29 finished with value: 0.8546461931286548 and parameters: {'units': 33, 'alpha': 0.014802020380980559, 'dropout': 0.32116958440447957, 'lr': 0.0003246507806046225, 'batch_size': 16, 'l2_kern': 3.177799230423951e-05, 'l2_bias': 0.0005811945984104557}. Best is trial 19 with value: 0.8555394649469713.\u001b[0m\n",
      "C:\\Users\\User\\AppData\\Local\\Temp\\ipykernel_10400\\3785980822.py:37: DeprecationWarning: KerasClassifier is deprecated, use Sci-Keras (https://github.com/adriangb/scikeras) instead. See https://www.adriangb.com/scikeras/stable/migration.html for help migrating.\n",
      "  ('classifier', KerasClassifier(build_fn=self.create_model, verbose=0))\n"
     ]
    },
    {
     "name": "stdout",
     "output_type": "stream",
     "text": [
      "195/195 [==============================] - 0s 1ms/step\n",
      "195/195 [==============================] - 0s 1ms/step\n",
      "195/195 [==============================] - 0s 1ms/step\n"
     ]
    },
    {
     "name": "stderr",
     "output_type": "stream",
     "text": [
      "\u001b[32m[I 2023-03-02 07:12:00,232]\u001b[0m Trial 30 finished with value: 0.853719263882757 and parameters: {'units': 35, 'alpha': 0.07523870381436376, 'dropout': 0.396029488355649, 'lr': 0.009037578444179057, 'batch_size': 128, 'l2_kern': 0.00229181938801242, 'l2_bias': 0.003921283588004417}. Best is trial 19 with value: 0.8555394649469713.\u001b[0m\n",
      "C:\\Users\\User\\AppData\\Local\\Temp\\ipykernel_10400\\3785980822.py:37: DeprecationWarning: KerasClassifier is deprecated, use Sci-Keras (https://github.com/adriangb/scikeras) instead. See https://www.adriangb.com/scikeras/stable/migration.html for help migrating.\n",
      "  ('classifier', KerasClassifier(build_fn=self.create_model, verbose=0))\n"
     ]
    },
    {
     "name": "stdout",
     "output_type": "stream",
     "text": [
      "195/195 [==============================] - 0s 1ms/step\n",
      "195/195 [==============================] - 0s 1ms/step\n",
      "195/195 [==============================] - 0s 1ms/step\n"
     ]
    },
    {
     "name": "stderr",
     "output_type": "stream",
     "text": [
      "\u001b[32m[I 2023-03-02 07:12:37,359]\u001b[0m Trial 31 finished with value: 0.8542130115166783 and parameters: {'units': 21, 'alpha': 0.03523155309886988, 'dropout': 0.2231045992878072, 'lr': 0.0005747041509929882, 'batch_size': 64, 'l2_kern': 0.00010005538829578347, 'l2_bias': 5.7949711006850154e-05}. Best is trial 19 with value: 0.8555394649469713.\u001b[0m\n",
      "C:\\Users\\User\\AppData\\Local\\Temp\\ipykernel_10400\\3785980822.py:37: DeprecationWarning: KerasClassifier is deprecated, use Sci-Keras (https://github.com/adriangb/scikeras) instead. See https://www.adriangb.com/scikeras/stable/migration.html for help migrating.\n",
      "  ('classifier', KerasClassifier(build_fn=self.create_model, verbose=0))\n"
     ]
    },
    {
     "name": "stdout",
     "output_type": "stream",
     "text": [
      "195/195 [==============================] - 0s 1ms/step\n",
      "195/195 [==============================] - 0s 1ms/step\n",
      "195/195 [==============================] - 0s 1ms/step\n"
     ]
    },
    {
     "name": "stderr",
     "output_type": "stream",
     "text": [
      "\u001b[32m[I 2023-03-02 07:13:29,959]\u001b[0m Trial 32 finished with value: 0.8526851390254824 and parameters: {'units': 29, 'alpha': 0.011482593108177678, 'dropout': 0.47191901772913086, 'lr': 0.006689610635865408, 'batch_size': 32, 'l2_kern': 1.826165859146978e-05, 'l2_bias': 3.517777009636726e-05}. Best is trial 19 with value: 0.8555394649469713.\u001b[0m\n",
      "C:\\Users\\User\\AppData\\Local\\Temp\\ipykernel_10400\\3785980822.py:37: DeprecationWarning: KerasClassifier is deprecated, use Sci-Keras (https://github.com/adriangb/scikeras) instead. See https://www.adriangb.com/scikeras/stable/migration.html for help migrating.\n",
      "  ('classifier', KerasClassifier(build_fn=self.create_model, verbose=0))\n"
     ]
    },
    {
     "name": "stdout",
     "output_type": "stream",
     "text": [
      "195/195 [==============================] - 0s 1ms/step\n",
      "195/195 [==============================] - 0s 1ms/step\n",
      "195/195 [==============================] - 0s 2ms/step\n"
     ]
    },
    {
     "name": "stderr",
     "output_type": "stream",
     "text": [
      "\u001b[32m[I 2023-03-02 07:13:52,103]\u001b[0m Trial 33 finished with value: 0.8552172984338391 and parameters: {'units': 31, 'alpha': 0.042210185240741604, 'dropout': 0.4008016911067647, 'lr': 0.0005341458855839219, 'batch_size': 1024, 'l2_kern': 0.003075192448748172, 'l2_bias': 0.00027327228888363763}. Best is trial 19 with value: 0.8555394649469713.\u001b[0m\n",
      "C:\\Users\\User\\AppData\\Local\\Temp\\ipykernel_10400\\3785980822.py:37: DeprecationWarning: KerasClassifier is deprecated, use Sci-Keras (https://github.com/adriangb/scikeras) instead. See https://www.adriangb.com/scikeras/stable/migration.html for help migrating.\n",
      "  ('classifier', KerasClassifier(build_fn=self.create_model, verbose=0))\n"
     ]
    },
    {
     "name": "stdout",
     "output_type": "stream",
     "text": [
      "195/195 [==============================] - 1s 2ms/step\n",
      "195/195 [==============================] - 0s 1ms/step\n",
      "195/195 [==============================] - 0s 1ms/step\n"
     ]
    },
    {
     "name": "stderr",
     "output_type": "stream",
     "text": [
      "\u001b[32m[I 2023-03-02 07:15:38,360]\u001b[0m Trial 34 finished with value: 0.854488055924448 and parameters: {'units': 21, 'alpha': 0.03404950042269454, 'dropout': 0.3756037368071833, 'lr': 0.000232556874118453, 'batch_size': 16, 'l2_kern': 0.0012023114032747204, 'l2_bias': 0.0002062512700840867}. Best is trial 19 with value: 0.8555394649469713.\u001b[0m\n",
      "C:\\Users\\User\\AppData\\Local\\Temp\\ipykernel_10400\\3785980822.py:37: DeprecationWarning: KerasClassifier is deprecated, use Sci-Keras (https://github.com/adriangb/scikeras) instead. See https://www.adriangb.com/scikeras/stable/migration.html for help migrating.\n",
      "  ('classifier', KerasClassifier(build_fn=self.create_model, verbose=0))\n"
     ]
    },
    {
     "name": "stdout",
     "output_type": "stream",
     "text": [
      "195/195 [==============================] - 0s 1ms/step\n",
      "195/195 [==============================] - 0s 1ms/step\n",
      "195/195 [==============================] - 0s 1ms/step\n"
     ]
    },
    {
     "name": "stderr",
     "output_type": "stream",
     "text": [
      "\u001b[32m[I 2023-03-02 07:16:10,816]\u001b[0m Trial 35 finished with value: 0.8555828655755575 and parameters: {'units': 13, 'alpha': 0.026858226309700473, 'dropout': 0.27767830829114143, 'lr': 0.0002811086545566117, 'batch_size': 256, 'l2_kern': 0.0008024195551368709, 'l2_bias': 0.0007774044467709288}. Best is trial 35 with value: 0.8555828655755575.\u001b[0m\n",
      "C:\\Users\\User\\AppData\\Local\\Temp\\ipykernel_10400\\3785980822.py:37: DeprecationWarning: KerasClassifier is deprecated, use Sci-Keras (https://github.com/adriangb/scikeras) instead. See https://www.adriangb.com/scikeras/stable/migration.html for help migrating.\n",
      "  ('classifier', KerasClassifier(build_fn=self.create_model, verbose=0))\n"
     ]
    },
    {
     "name": "stdout",
     "output_type": "stream",
     "text": [
      "195/195 [==============================] - 0s 1ms/step\n",
      "195/195 [==============================] - 0s 1ms/step\n",
      "195/195 [==============================] - 0s 1ms/step\n"
     ]
    },
    {
     "name": "stderr",
     "output_type": "stream",
     "text": [
      "\u001b[32m[I 2023-03-02 07:17:42,241]\u001b[0m Trial 36 finished with value: 0.8527072516342628 and parameters: {'units': 32, 'alpha': 0.09141526967383772, 'dropout': 0.33370490498042393, 'lr': 0.0006790592272124378, 'batch_size': 16, 'l2_kern': 0.000374171871010284, 'l2_bias': 0.00039461668543975517}. Best is trial 35 with value: 0.8555828655755575.\u001b[0m\n",
      "C:\\Users\\User\\AppData\\Local\\Temp\\ipykernel_10400\\3785980822.py:37: DeprecationWarning: KerasClassifier is deprecated, use Sci-Keras (https://github.com/adriangb/scikeras) instead. See https://www.adriangb.com/scikeras/stable/migration.html for help migrating.\n",
      "  ('classifier', KerasClassifier(build_fn=self.create_model, verbose=0))\n"
     ]
    },
    {
     "name": "stdout",
     "output_type": "stream",
     "text": [
      "195/195 [==============================] - 0s 2ms/step\n",
      "195/195 [==============================] - 0s 2ms/step\n",
      "195/195 [==============================] - 0s 1ms/step\n"
     ]
    },
    {
     "name": "stderr",
     "output_type": "stream",
     "text": [
      "\u001b[32m[I 2023-03-02 07:18:41,804]\u001b[0m Trial 37 finished with value: 0.8540144263594489 and parameters: {'units': 27, 'alpha': 0.06609175620518269, 'dropout': 0.4200460693833206, 'lr': 0.002286083307782128, 'batch_size': 32, 'l2_kern': 2.9106907318145727e-05, 'l2_bias': 0.0003450947623391396}. Best is trial 35 with value: 0.8555828655755575.\u001b[0m\n",
      "C:\\Users\\User\\AppData\\Local\\Temp\\ipykernel_10400\\3785980822.py:37: DeprecationWarning: KerasClassifier is deprecated, use Sci-Keras (https://github.com/adriangb/scikeras) instead. See https://www.adriangb.com/scikeras/stable/migration.html for help migrating.\n",
      "  ('classifier', KerasClassifier(build_fn=self.create_model, verbose=0))\n"
     ]
    },
    {
     "name": "stdout",
     "output_type": "stream",
     "text": [
      "195/195 [==============================] - 0s 2ms/step\n",
      "195/195 [==============================] - 0s 1ms/step\n",
      "195/195 [==============================] - 0s 1ms/step\n"
     ]
    },
    {
     "name": "stderr",
     "output_type": "stream",
     "text": [
      "\u001b[32m[I 2023-03-02 07:19:43,156]\u001b[0m Trial 38 finished with value: 0.8479310245987531 and parameters: {'units': 21, 'alpha': 0.08773721914945787, 'dropout': 0.48912180298750274, 'lr': 6.195708599966323e-05, 'batch_size': 512, 'l2_kern': 1.0771782654667428e-05, 'l2_bias': 9.123166688188319e-05}. Best is trial 35 with value: 0.8555828655755575.\u001b[0m\n",
      "C:\\Users\\User\\AppData\\Local\\Temp\\ipykernel_10400\\3785980822.py:37: DeprecationWarning: KerasClassifier is deprecated, use Sci-Keras (https://github.com/adriangb/scikeras) instead. See https://www.adriangb.com/scikeras/stable/migration.html for help migrating.\n",
      "  ('classifier', KerasClassifier(build_fn=self.create_model, verbose=0))\n"
     ]
    },
    {
     "name": "stdout",
     "output_type": "stream",
     "text": [
      "195/195 [==============================] - 0s 1ms/step\n",
      "195/195 [==============================] - 0s 1ms/step\n",
      "195/195 [==============================] - 0s 2ms/step\n"
     ]
    },
    {
     "name": "stderr",
     "output_type": "stream",
     "text": [
      "\u001b[32m[I 2023-03-02 07:20:53,453]\u001b[0m Trial 39 finished with value: 0.8542262590722264 and parameters: {'units': 11, 'alpha': 0.05760045418565232, 'dropout': 0.4698130966542932, 'lr': 0.0020757303184767676, 'batch_size': 16, 'l2_kern': 0.005354477989347318, 'l2_bias': 0.0001586938448830746}. Best is trial 35 with value: 0.8555828655755575.\u001b[0m\n",
      "C:\\Users\\User\\AppData\\Local\\Temp\\ipykernel_10400\\3785980822.py:37: DeprecationWarning: KerasClassifier is deprecated, use Sci-Keras (https://github.com/adriangb/scikeras) instead. See https://www.adriangb.com/scikeras/stable/migration.html for help migrating.\n",
      "  ('classifier', KerasClassifier(build_fn=self.create_model, verbose=0))\n"
     ]
    },
    {
     "name": "stdout",
     "output_type": "stream",
     "text": [
      "195/195 [==============================] - 0s 1ms/step\n",
      "195/195 [==============================] - 0s 1ms/step\n",
      "195/195 [==============================] - 0s 2ms/step\n"
     ]
    },
    {
     "name": "stderr",
     "output_type": "stream",
     "text": [
      "\u001b[32m[I 2023-03-02 07:21:28,159]\u001b[0m Trial 40 finished with value: 0.8552602130211024 and parameters: {'units': 10, 'alpha': 0.02692998798791868, 'dropout': 0.4189601900812815, 'lr': 0.0002660533745575106, 'batch_size': 256, 'l2_kern': 2.44709075446984e-05, 'l2_bias': 2.4035755494518822e-05}. Best is trial 35 with value: 0.8555828655755575.\u001b[0m\n",
      "C:\\Users\\User\\AppData\\Local\\Temp\\ipykernel_10400\\3785980822.py:37: DeprecationWarning: KerasClassifier is deprecated, use Sci-Keras (https://github.com/adriangb/scikeras) instead. See https://www.adriangb.com/scikeras/stable/migration.html for help migrating.\n",
      "  ('classifier', KerasClassifier(build_fn=self.create_model, verbose=0))\n"
     ]
    },
    {
     "name": "stdout",
     "output_type": "stream",
     "text": [
      "195/195 [==============================] - 0s 2ms/step\n",
      "195/195 [==============================] - 0s 1ms/step\n",
      "195/195 [==============================] - 0s 1ms/step\n"
     ]
    },
    {
     "name": "stderr",
     "output_type": "stream",
     "text": [
      "\u001b[32m[I 2023-03-02 07:22:24,842]\u001b[0m Trial 41 finished with value: 0.855446572039813 and parameters: {'units': 27, 'alpha': 0.022799659769635612, 'dropout': 0.2665424289672166, 'lr': 0.0004658801352592374, 'batch_size': 32, 'l2_kern': 0.0012027891231886983, 'l2_bias': 0.0023682900996408046}. Best is trial 35 with value: 0.8555828655755575.\u001b[0m\n",
      "C:\\Users\\User\\AppData\\Local\\Temp\\ipykernel_10400\\3785980822.py:37: DeprecationWarning: KerasClassifier is deprecated, use Sci-Keras (https://github.com/adriangb/scikeras) instead. See https://www.adriangb.com/scikeras/stable/migration.html for help migrating.\n",
      "  ('classifier', KerasClassifier(build_fn=self.create_model, verbose=0))\n"
     ]
    },
    {
     "name": "stdout",
     "output_type": "stream",
     "text": [
      "195/195 [==============================] - 0s 2ms/step\n",
      "195/195 [==============================] - 0s 1ms/step\n",
      "195/195 [==============================] - 0s 1ms/step\n"
     ]
    },
    {
     "name": "stderr",
     "output_type": "stream",
     "text": [
      "\u001b[32m[I 2023-03-02 07:22:53,306]\u001b[0m Trial 42 finished with value: 0.852354809816002 and parameters: {'units': 32, 'alpha': 0.06501826538090168, 'dropout': 0.28441418643543886, 'lr': 0.008882019920667195, 'batch_size': 64, 'l2_kern': 9.256020409042693e-05, 'l2_bias': 0.003715539565600786}. Best is trial 35 with value: 0.8555828655755575.\u001b[0m\n",
      "C:\\Users\\User\\AppData\\Local\\Temp\\ipykernel_10400\\3785980822.py:37: DeprecationWarning: KerasClassifier is deprecated, use Sci-Keras (https://github.com/adriangb/scikeras) instead. See https://www.adriangb.com/scikeras/stable/migration.html for help migrating.\n",
      "  ('classifier', KerasClassifier(build_fn=self.create_model, verbose=0))\n"
     ]
    },
    {
     "name": "stdout",
     "output_type": "stream",
     "text": [
      "195/195 [==============================] - 0s 1ms/step\n",
      "195/195 [==============================] - 0s 1ms/step\n",
      "195/195 [==============================] - 0s 1ms/step\n"
     ]
    },
    {
     "name": "stderr",
     "output_type": "stream",
     "text": [
      "\u001b[32m[I 2023-03-02 07:23:11,886]\u001b[0m Trial 43 finished with value: 0.8548591238074225 and parameters: {'units': 32, 'alpha': 0.04072189361943489, 'dropout': 0.22657698170752305, 'lr': 0.0008718031326026994, 'batch_size': 512, 'l2_kern': 1.2252353092724852e-05, 'l2_bias': 0.00012225936453243375}. Best is trial 35 with value: 0.8555828655755575.\u001b[0m\n",
      "C:\\Users\\User\\AppData\\Local\\Temp\\ipykernel_10400\\3785980822.py:37: DeprecationWarning: KerasClassifier is deprecated, use Sci-Keras (https://github.com/adriangb/scikeras) instead. See https://www.adriangb.com/scikeras/stable/migration.html for help migrating.\n",
      "  ('classifier', KerasClassifier(build_fn=self.create_model, verbose=0))\n"
     ]
    },
    {
     "name": "stdout",
     "output_type": "stream",
     "text": [
      "195/195 [==============================] - 0s 1ms/step\n",
      "195/195 [==============================] - 0s 1ms/step\n",
      "195/195 [==============================] - 0s 1ms/step\n"
     ]
    },
    {
     "name": "stderr",
     "output_type": "stream",
     "text": [
      "\u001b[32m[I 2023-03-02 07:23:56,048]\u001b[0m Trial 44 finished with value: 0.8544051159106512 and parameters: {'units': 34, 'alpha': 0.07503482432770199, 'dropout': 0.28054244605214185, 'lr': 0.00027526030936260605, 'batch_size': 64, 'l2_kern': 0.0005247304604791562, 'l2_bias': 1.0937214271741179e-05}. Best is trial 35 with value: 0.8555828655755575.\u001b[0m\n",
      "C:\\Users\\User\\AppData\\Local\\Temp\\ipykernel_10400\\3785980822.py:37: DeprecationWarning: KerasClassifier is deprecated, use Sci-Keras (https://github.com/adriangb/scikeras) instead. See https://www.adriangb.com/scikeras/stable/migration.html for help migrating.\n",
      "  ('classifier', KerasClassifier(build_fn=self.create_model, verbose=0))\n"
     ]
    },
    {
     "name": "stdout",
     "output_type": "stream",
     "text": [
      "195/195 [==============================] - 0s 1ms/step\n",
      "195/195 [==============================] - 0s 1ms/step\n",
      "195/195 [==============================] - 0s 1ms/step\n"
     ]
    },
    {
     "name": "stderr",
     "output_type": "stream",
     "text": [
      "\u001b[32m[I 2023-03-02 07:24:13,909]\u001b[0m Trial 45 finished with value: 0.854724432322978 and parameters: {'units': 17, 'alpha': 0.03512515073473443, 'dropout': 0.42090192819781724, 'lr': 0.0009126717032643477, 'batch_size': 1024, 'l2_kern': 0.00021762204689988515, 'l2_bias': 1.0619045334592184e-05}. Best is trial 35 with value: 0.8555828655755575.\u001b[0m\n",
      "C:\\Users\\User\\AppData\\Local\\Temp\\ipykernel_10400\\3785980822.py:37: DeprecationWarning: KerasClassifier is deprecated, use Sci-Keras (https://github.com/adriangb/scikeras) instead. See https://www.adriangb.com/scikeras/stable/migration.html for help migrating.\n",
      "  ('classifier', KerasClassifier(build_fn=self.create_model, verbose=0))\n"
     ]
    },
    {
     "name": "stdout",
     "output_type": "stream",
     "text": [
      "195/195 [==============================] - 0s 1ms/step\n",
      "195/195 [==============================] - 0s 1ms/step\n",
      "195/195 [==============================] - 0s 1ms/step\n"
     ]
    },
    {
     "name": "stderr",
     "output_type": "stream",
     "text": [
      "\u001b[32m[I 2023-03-02 07:25:01,687]\u001b[0m Trial 46 finished with value: 0.8552748410477914 and parameters: {'units': 22, 'alpha': 0.01586910754559579, 'dropout': 0.4592292568499048, 'lr': 0.00011385075313801196, 'batch_size': 256, 'l2_kern': 5.842855143053508e-05, 'l2_bias': 0.00027250813471238206}. Best is trial 35 with value: 0.8555828655755575.\u001b[0m\n",
      "C:\\Users\\User\\AppData\\Local\\Temp\\ipykernel_10400\\3785980822.py:37: DeprecationWarning: KerasClassifier is deprecated, use Sci-Keras (https://github.com/adriangb/scikeras) instead. See https://www.adriangb.com/scikeras/stable/migration.html for help migrating.\n",
      "  ('classifier', KerasClassifier(build_fn=self.create_model, verbose=0))\n"
     ]
    },
    {
     "name": "stdout",
     "output_type": "stream",
     "text": [
      "195/195 [==============================] - 0s 1ms/step\n",
      "195/195 [==============================] - 0s 1ms/step\n",
      "195/195 [==============================] - 0s 1ms/step\n"
     ]
    },
    {
     "name": "stderr",
     "output_type": "stream",
     "text": [
      "\u001b[32m[I 2023-03-02 07:25:48,150]\u001b[0m Trial 47 finished with value: 0.8549696127011517 and parameters: {'units': 40, 'alpha': 0.013059331685657836, 'dropout': 0.46476401441766, 'lr': 9.27689308569767e-05, 'batch_size': 256, 'l2_kern': 0.00037401846039733467, 'l2_bias': 0.00013324930932299877}. Best is trial 35 with value: 0.8555828655755575.\u001b[0m\n",
      "C:\\Users\\User\\AppData\\Local\\Temp\\ipykernel_10400\\3785980822.py:37: DeprecationWarning: KerasClassifier is deprecated, use Sci-Keras (https://github.com/adriangb/scikeras) instead. See https://www.adriangb.com/scikeras/stable/migration.html for help migrating.\n",
      "  ('classifier', KerasClassifier(build_fn=self.create_model, verbose=0))\n"
     ]
    },
    {
     "name": "stdout",
     "output_type": "stream",
     "text": [
      "195/195 [==============================] - 0s 2ms/step\n",
      "195/195 [==============================] - 0s 1ms/step\n",
      "195/195 [==============================] - 0s 1ms/step\n"
     ]
    },
    {
     "name": "stderr",
     "output_type": "stream",
     "text": [
      "\u001b[32m[I 2023-03-02 07:27:06,559]\u001b[0m Trial 48 finished with value: 0.8549844312086577 and parameters: {'units': 9, 'alpha': 0.07722073714628182, 'dropout': 0.20801370591912158, 'lr': 0.00018649733637189075, 'batch_size': 32, 'l2_kern': 0.00471054520028464, 'l2_bias': 4.479246804809006e-05}. Best is trial 35 with value: 0.8555828655755575.\u001b[0m\n",
      "C:\\Users\\User\\AppData\\Local\\Temp\\ipykernel_10400\\3785980822.py:37: DeprecationWarning: KerasClassifier is deprecated, use Sci-Keras (https://github.com/adriangb/scikeras) instead. See https://www.adriangb.com/scikeras/stable/migration.html for help migrating.\n",
      "  ('classifier', KerasClassifier(build_fn=self.create_model, verbose=0))\n"
     ]
    },
    {
     "name": "stdout",
     "output_type": "stream",
     "text": [
      "195/195 [==============================] - 0s 1ms/step\n",
      "195/195 [==============================] - 0s 1ms/step\n",
      "195/195 [==============================] - 0s 1ms/step\n"
     ]
    },
    {
     "name": "stderr",
     "output_type": "stream",
     "text": [
      "\u001b[32m[I 2023-03-02 07:28:14,283]\u001b[0m Trial 49 finished with value: 0.8541931385063267 and parameters: {'units': 33, 'alpha': 0.030499709924315915, 'dropout': 0.44435863696194466, 'lr': 0.0004084657550915908, 'batch_size': 32, 'l2_kern': 6.083727544072034e-05, 'l2_bias': 1.3512884904434886e-05}. Best is trial 35 with value: 0.8555828655755575.\u001b[0m\n",
      "C:\\Users\\User\\AppData\\Local\\Temp\\ipykernel_10400\\3785980822.py:37: DeprecationWarning: KerasClassifier is deprecated, use Sci-Keras (https://github.com/adriangb/scikeras) instead. See https://www.adriangb.com/scikeras/stable/migration.html for help migrating.\n",
      "  ('classifier', KerasClassifier(build_fn=self.create_model, verbose=0))\n"
     ]
    },
    {
     "name": "stdout",
     "output_type": "stream",
     "text": [
      "195/195 [==============================] - 0s 1ms/step\n",
      "195/195 [==============================] - 0s 1ms/step\n",
      "195/195 [==============================] - 0s 1ms/step\n"
     ]
    },
    {
     "name": "stderr",
     "output_type": "stream",
     "text": [
      "\u001b[32m[I 2023-03-02 07:28:43,132]\u001b[0m Trial 50 finished with value: 0.8536540419177957 and parameters: {'units': 29, 'alpha': 0.0650190442079744, 'dropout': 0.4660753767840454, 'lr': 0.0018378225939407469, 'batch_size': 64, 'l2_kern': 0.00013937180706271015, 'l2_bias': 0.0008784804619209919}. Best is trial 35 with value: 0.8555828655755575.\u001b[0m\n",
      "C:\\Users\\User\\AppData\\Local\\Temp\\ipykernel_10400\\3785980822.py:37: DeprecationWarning: KerasClassifier is deprecated, use Sci-Keras (https://github.com/adriangb/scikeras) instead. See https://www.adriangb.com/scikeras/stable/migration.html for help migrating.\n",
      "  ('classifier', KerasClassifier(build_fn=self.create_model, verbose=0))\n"
     ]
    },
    {
     "name": "stdout",
     "output_type": "stream",
     "text": [
      "195/195 [==============================] - 0s 1ms/step\n",
      "195/195 [==============================] - 0s 1ms/step\n",
      "195/195 [==============================] - 0s 2ms/step\n"
     ]
    },
    {
     "name": "stderr",
     "output_type": "stream",
     "text": [
      "\u001b[32m[I 2023-03-02 07:31:34,335]\u001b[0m Trial 51 finished with value: 0.8554249845110521 and parameters: {'units': 31, 'alpha': 0.04844599131769643, 'dropout': 0.4062763828520781, 'lr': 5.824483053222679e-05, 'batch_size': 16, 'l2_kern': 0.004511630406522767, 'l2_bias': 0.00033529201488541506}. Best is trial 35 with value: 0.8555828655755575.\u001b[0m\n",
      "C:\\Users\\User\\AppData\\Local\\Temp\\ipykernel_10400\\3785980822.py:37: DeprecationWarning: KerasClassifier is deprecated, use Sci-Keras (https://github.com/adriangb/scikeras) instead. See https://www.adriangb.com/scikeras/stable/migration.html for help migrating.\n",
      "  ('classifier', KerasClassifier(build_fn=self.create_model, verbose=0))\n"
     ]
    },
    {
     "name": "stdout",
     "output_type": "stream",
     "text": [
      "195/195 [==============================] - 0s 1ms/step\n",
      "195/195 [==============================] - 0s 1ms/step\n",
      "195/195 [==============================] - 0s 1ms/step\n"
     ]
    },
    {
     "name": "stderr",
     "output_type": "stream",
     "text": [
      "\u001b[32m[I 2023-03-02 07:31:59,924]\u001b[0m Trial 52 finished with value: 0.8530429933817453 and parameters: {'units': 5, 'alpha': 0.0907735055823267, 'dropout': 0.31174041701039645, 'lr': 0.00045326587283598025, 'batch_size': 512, 'l2_kern': 0.0001451060969990442, 'l2_bias': 0.001694730712018907}. Best is trial 35 with value: 0.8555828655755575.\u001b[0m\n",
      "C:\\Users\\User\\AppData\\Local\\Temp\\ipykernel_10400\\3785980822.py:37: DeprecationWarning: KerasClassifier is deprecated, use Sci-Keras (https://github.com/adriangb/scikeras) instead. See https://www.adriangb.com/scikeras/stable/migration.html for help migrating.\n",
      "  ('classifier', KerasClassifier(build_fn=self.create_model, verbose=0))\n"
     ]
    },
    {
     "name": "stdout",
     "output_type": "stream",
     "text": [
      "195/195 [==============================] - 0s 2ms/step\n",
      "195/195 [==============================] - 0s 1ms/step\n",
      "195/195 [==============================] - 0s 1ms/step\n"
     ]
    },
    {
     "name": "stderr",
     "output_type": "stream",
     "text": [
      "\u001b[32m[I 2023-03-02 07:32:52,029]\u001b[0m Trial 53 finished with value: 0.8548376101528669 and parameters: {'units': 8, 'alpha': 0.08476701386479137, 'dropout': 0.2666039966170993, 'lr': 0.0002416064967516336, 'batch_size': 64, 'l2_kern': 0.00030961106035144883, 'l2_bias': 0.008206018420467937}. Best is trial 35 with value: 0.8555828655755575.\u001b[0m\n",
      "C:\\Users\\User\\AppData\\Local\\Temp\\ipykernel_10400\\3785980822.py:37: DeprecationWarning: KerasClassifier is deprecated, use Sci-Keras (https://github.com/adriangb/scikeras) instead. See https://www.adriangb.com/scikeras/stable/migration.html for help migrating.\n",
      "  ('classifier', KerasClassifier(build_fn=self.create_model, verbose=0))\n"
     ]
    },
    {
     "name": "stdout",
     "output_type": "stream",
     "text": [
      "195/195 [==============================] - 0s 1ms/step\n",
      "195/195 [==============================] - 0s 1ms/step\n",
      "195/195 [==============================] - 0s 1ms/step\n"
     ]
    },
    {
     "name": "stderr",
     "output_type": "stream",
     "text": [
      "\u001b[32m[I 2023-03-02 07:34:46,579]\u001b[0m Trial 54 finished with value: 0.8547384975471006 and parameters: {'units': 23, 'alpha': 0.05155302584393779, 'dropout': 0.4659648961870729, 'lr': 0.00018276654118912333, 'batch_size': 16, 'l2_kern': 5.944583725292799e-05, 'l2_bias': 0.002523909835159144}. Best is trial 35 with value: 0.8555828655755575.\u001b[0m\n",
      "C:\\Users\\User\\AppData\\Local\\Temp\\ipykernel_10400\\3785980822.py:37: DeprecationWarning: KerasClassifier is deprecated, use Sci-Keras (https://github.com/adriangb/scikeras) instead. See https://www.adriangb.com/scikeras/stable/migration.html for help migrating.\n",
      "  ('classifier', KerasClassifier(build_fn=self.create_model, verbose=0))\n"
     ]
    },
    {
     "name": "stdout",
     "output_type": "stream",
     "text": [
      "195/195 [==============================] - 0s 1ms/step\n",
      "195/195 [==============================] - 0s 1ms/step\n",
      "195/195 [==============================] - 0s 1ms/step\n"
     ]
    },
    {
     "name": "stderr",
     "output_type": "stream",
     "text": [
      "\u001b[32m[I 2023-03-02 07:34:55,919]\u001b[0m Trial 55 finished with value: 0.8543188122429531 and parameters: {'units': 17, 'alpha': 0.09011673566754536, 'dropout': 0.24892781582959767, 'lr': 0.006670189804134656, 'batch_size': 512, 'l2_kern': 0.008013143165455573, 'l2_bias': 0.00024384475009429357}. Best is trial 35 with value: 0.8555828655755575.\u001b[0m\n",
      "C:\\Users\\User\\AppData\\Local\\Temp\\ipykernel_10400\\3785980822.py:37: DeprecationWarning: KerasClassifier is deprecated, use Sci-Keras (https://github.com/adriangb/scikeras) instead. See https://www.adriangb.com/scikeras/stable/migration.html for help migrating.\n",
      "  ('classifier', KerasClassifier(build_fn=self.create_model, verbose=0))\n"
     ]
    },
    {
     "name": "stdout",
     "output_type": "stream",
     "text": [
      "195/195 [==============================] - 0s 1ms/step\n",
      "195/195 [==============================] - 1s 2ms/step\n",
      "195/195 [==============================] - 0s 1ms/step\n"
     ]
    },
    {
     "name": "stderr",
     "output_type": "stream",
     "text": [
      "\u001b[32m[I 2023-03-02 07:35:08,136]\u001b[0m Trial 56 finished with value: 0.8528331116272905 and parameters: {'units': 35, 'alpha': 0.08553976168975792, 'dropout': 0.4475674877997293, 'lr': 0.008775183124938071, 'batch_size': 512, 'l2_kern': 0.0018735913386725704, 'l2_bias': 0.0019951054264294036}. Best is trial 35 with value: 0.8555828655755575.\u001b[0m\n",
      "C:\\Users\\User\\AppData\\Local\\Temp\\ipykernel_10400\\3785980822.py:37: DeprecationWarning: KerasClassifier is deprecated, use Sci-Keras (https://github.com/adriangb/scikeras) instead. See https://www.adriangb.com/scikeras/stable/migration.html for help migrating.\n",
      "  ('classifier', KerasClassifier(build_fn=self.create_model, verbose=0))\n"
     ]
    },
    {
     "name": "stdout",
     "output_type": "stream",
     "text": [
      "195/195 [==============================] - 0s 1ms/step\n",
      "195/195 [==============================] - 0s 2ms/step\n",
      "195/195 [==============================] - 0s 2ms/step\n"
     ]
    },
    {
     "name": "stderr",
     "output_type": "stream",
     "text": [
      "\u001b[32m[I 2023-03-02 07:36:09,867]\u001b[0m Trial 57 finished with value: 0.8548234387876447 and parameters: {'units': 27, 'alpha': 0.028144820691036035, 'dropout': 0.3623208961992328, 'lr': 0.0005313452845015802, 'batch_size': 32, 'l2_kern': 6.20467535418075e-05, 'l2_bias': 0.00021560568471331893}. Best is trial 35 with value: 0.8555828655755575.\u001b[0m\n",
      "C:\\Users\\User\\AppData\\Local\\Temp\\ipykernel_10400\\3785980822.py:37: DeprecationWarning: KerasClassifier is deprecated, use Sci-Keras (https://github.com/adriangb/scikeras) instead. See https://www.adriangb.com/scikeras/stable/migration.html for help migrating.\n",
      "  ('classifier', KerasClassifier(build_fn=self.create_model, verbose=0))\n"
     ]
    },
    {
     "name": "stdout",
     "output_type": "stream",
     "text": [
      "195/195 [==============================] - 0s 1ms/step\n",
      "195/195 [==============================] - 0s 1ms/step\n",
      "195/195 [==============================] - 0s 2ms/step\n"
     ]
    },
    {
     "name": "stderr",
     "output_type": "stream",
     "text": [
      "\u001b[32m[I 2023-03-02 07:36:21,728]\u001b[0m Trial 58 finished with value: 0.8546245863246703 and parameters: {'units': 3, 'alpha': 0.04014312593733691, 'dropout': 0.35499609367330576, 'lr': 0.004542015398287834, 'batch_size': 512, 'l2_kern': 0.0003893599767594524, 'l2_bias': 0.0008464345735241346}. Best is trial 35 with value: 0.8555828655755575.\u001b[0m\n",
      "C:\\Users\\User\\AppData\\Local\\Temp\\ipykernel_10400\\3785980822.py:37: DeprecationWarning: KerasClassifier is deprecated, use Sci-Keras (https://github.com/adriangb/scikeras) instead. See https://www.adriangb.com/scikeras/stable/migration.html for help migrating.\n",
      "  ('classifier', KerasClassifier(build_fn=self.create_model, verbose=0))\n"
     ]
    },
    {
     "name": "stdout",
     "output_type": "stream",
     "text": [
      "195/195 [==============================] - 0s 1ms/step\n",
      "195/195 [==============================] - 0s 1ms/step\n",
      "195/195 [==============================] - 0s 2ms/step\n"
     ]
    },
    {
     "name": "stderr",
     "output_type": "stream",
     "text": [
      "\u001b[32m[I 2023-03-02 07:36:33,460]\u001b[0m Trial 59 finished with value: 0.8540170900340267 and parameters: {'units': 4, 'alpha': 0.02863548872183412, 'dropout': 0.3789860994646038, 'lr': 0.007682470478393831, 'batch_size': 512, 'l2_kern': 0.0014116552641406752, 'l2_bias': 0.0010522901803363886}. Best is trial 35 with value: 0.8555828655755575.\u001b[0m\n",
      "C:\\Users\\User\\AppData\\Local\\Temp\\ipykernel_10400\\3785980822.py:37: DeprecationWarning: KerasClassifier is deprecated, use Sci-Keras (https://github.com/adriangb/scikeras) instead. See https://www.adriangb.com/scikeras/stable/migration.html for help migrating.\n",
      "  ('classifier', KerasClassifier(build_fn=self.create_model, verbose=0))\n"
     ]
    },
    {
     "name": "stdout",
     "output_type": "stream",
     "text": [
      "195/195 [==============================] - 0s 2ms/step\n",
      "195/195 [==============================] - 0s 2ms/step\n",
      "195/195 [==============================] - 0s 1ms/step\n"
     ]
    },
    {
     "name": "stderr",
     "output_type": "stream",
     "text": [
      "\u001b[32m[I 2023-03-02 07:37:25,293]\u001b[0m Trial 60 finished with value: 0.8553092758103292 and parameters: {'units': 26, 'alpha': 0.02728319885562519, 'dropout': 0.40834398913533554, 'lr': 0.0003024302912767482, 'batch_size': 64, 'l2_kern': 0.004907939662460408, 'l2_bias': 0.0070572325766089196}. Best is trial 35 with value: 0.8555828655755575.\u001b[0m\n",
      "C:\\Users\\User\\AppData\\Local\\Temp\\ipykernel_10400\\3785980822.py:37: DeprecationWarning: KerasClassifier is deprecated, use Sci-Keras (https://github.com/adriangb/scikeras) instead. See https://www.adriangb.com/scikeras/stable/migration.html for help migrating.\n",
      "  ('classifier', KerasClassifier(build_fn=self.create_model, verbose=0))\n"
     ]
    },
    {
     "name": "stdout",
     "output_type": "stream",
     "text": [
      "195/195 [==============================] - 0s 1ms/step\n",
      "195/195 [==============================] - 0s 1ms/step\n",
      "195/195 [==============================] - 0s 1ms/step\n"
     ]
    },
    {
     "name": "stderr",
     "output_type": "stream",
     "text": [
      "\u001b[32m[I 2023-03-02 07:39:34,333]\u001b[0m Trial 61 finished with value: 0.8542402869771383 and parameters: {'units': 35, 'alpha': 0.0729786885879656, 'dropout': 0.20672458429424323, 'lr': 0.0003547682909496566, 'batch_size': 16, 'l2_kern': 1.8852079312557764e-05, 'l2_bias': 0.008866963925112005}. Best is trial 35 with value: 0.8555828655755575.\u001b[0m\n",
      "C:\\Users\\User\\AppData\\Local\\Temp\\ipykernel_10400\\3785980822.py:37: DeprecationWarning: KerasClassifier is deprecated, use Sci-Keras (https://github.com/adriangb/scikeras) instead. See https://www.adriangb.com/scikeras/stable/migration.html for help migrating.\n",
      "  ('classifier', KerasClassifier(build_fn=self.create_model, verbose=0))\n"
     ]
    },
    {
     "name": "stdout",
     "output_type": "stream",
     "text": [
      "195/195 [==============================] - 0s 1ms/step\n",
      "195/195 [==============================] - 0s 1ms/step\n",
      "195/195 [==============================] - 0s 2ms/step\n"
     ]
    },
    {
     "name": "stderr",
     "output_type": "stream",
     "text": [
      "\u001b[32m[I 2023-03-02 07:39:57,495]\u001b[0m Trial 62 finished with value: 0.8550030990505085 and parameters: {'units': 17, 'alpha': 0.054644081511645355, 'dropout': 0.4818578889314742, 'lr': 0.0005452377464518657, 'batch_size': 256, 'l2_kern': 0.0022751556651403678, 'l2_bias': 0.0070978205689025}. Best is trial 35 with value: 0.8555828655755575.\u001b[0m\n",
      "C:\\Users\\User\\AppData\\Local\\Temp\\ipykernel_10400\\3785980822.py:37: DeprecationWarning: KerasClassifier is deprecated, use Sci-Keras (https://github.com/adriangb/scikeras) instead. See https://www.adriangb.com/scikeras/stable/migration.html for help migrating.\n",
      "  ('classifier', KerasClassifier(build_fn=self.create_model, verbose=0))\n"
     ]
    },
    {
     "name": "stdout",
     "output_type": "stream",
     "text": [
      "195/195 [==============================] - 0s 1ms/step\n",
      "195/195 [==============================] - 0s 2ms/step\n",
      "195/195 [==============================] - 0s 1ms/step\n"
     ]
    },
    {
     "name": "stderr",
     "output_type": "stream",
     "text": [
      "\u001b[32m[I 2023-03-02 07:42:11,571]\u001b[0m Trial 63 finished with value: 0.855218005885496 and parameters: {'units': 3, 'alpha': 0.025517958050047154, 'dropout': 0.354788584949122, 'lr': 0.00020463865481492723, 'batch_size': 16, 'l2_kern': 0.0007370804471680852, 'l2_bias': 0.0012763903537418156}. Best is trial 35 with value: 0.8555828655755575.\u001b[0m\n",
      "C:\\Users\\User\\AppData\\Local\\Temp\\ipykernel_10400\\3785980822.py:37: DeprecationWarning: KerasClassifier is deprecated, use Sci-Keras (https://github.com/adriangb/scikeras) instead. See https://www.adriangb.com/scikeras/stable/migration.html for help migrating.\n",
      "  ('classifier', KerasClassifier(build_fn=self.create_model, verbose=0))\n"
     ]
    },
    {
     "name": "stdout",
     "output_type": "stream",
     "text": [
      "195/195 [==============================] - 0s 1ms/step\n",
      "195/195 [==============================] - 0s 1ms/step\n",
      "195/195 [==============================] - 0s 1ms/step\n"
     ]
    },
    {
     "name": "stderr",
     "output_type": "stream",
     "text": [
      "\u001b[32m[I 2023-03-02 07:42:42,018]\u001b[0m Trial 64 finished with value: 0.8544059900462906 and parameters: {'units': 18, 'alpha': 0.07326217993101217, 'dropout': 0.46425785327020047, 'lr': 0.0004188887656707569, 'batch_size': 128, 'l2_kern': 0.00047119095898792197, 'l2_bias': 0.0003741221570272076}. Best is trial 35 with value: 0.8555828655755575.\u001b[0m\n",
      "C:\\Users\\User\\AppData\\Local\\Temp\\ipykernel_10400\\3785980822.py:37: DeprecationWarning: KerasClassifier is deprecated, use Sci-Keras (https://github.com/adriangb/scikeras) instead. See https://www.adriangb.com/scikeras/stable/migration.html for help migrating.\n",
      "  ('classifier', KerasClassifier(build_fn=self.create_model, verbose=0))\n"
     ]
    },
    {
     "name": "stdout",
     "output_type": "stream",
     "text": [
      "195/195 [==============================] - 0s 1ms/step\n",
      "195/195 [==============================] - 0s 2ms/step\n",
      "195/195 [==============================] - 0s 1ms/step\n"
     ]
    },
    {
     "name": "stderr",
     "output_type": "stream",
     "text": [
      "\u001b[32m[I 2023-03-02 07:43:23,395]\u001b[0m Trial 65 finished with value: 0.8514308824526818 and parameters: {'units': 25, 'alpha': 0.07728448657018512, 'dropout': 0.37114731218840913, 'lr': 0.0023728657414681265, 'batch_size': 32, 'l2_kern': 0.00014457862078373756, 'l2_bias': 0.0028651166540520486}. Best is trial 35 with value: 0.8555828655755575.\u001b[0m\n",
      "C:\\Users\\User\\AppData\\Local\\Temp\\ipykernel_10400\\3785980822.py:37: DeprecationWarning: KerasClassifier is deprecated, use Sci-Keras (https://github.com/adriangb/scikeras) instead. See https://www.adriangb.com/scikeras/stable/migration.html for help migrating.\n",
      "  ('classifier', KerasClassifier(build_fn=self.create_model, verbose=0))\n"
     ]
    },
    {
     "name": "stdout",
     "output_type": "stream",
     "text": [
      "195/195 [==============================] - 0s 1ms/step\n",
      "195/195 [==============================] - 0s 1ms/step\n",
      "195/195 [==============================] - 0s 2ms/step\n"
     ]
    },
    {
     "name": "stderr",
     "output_type": "stream",
     "text": [
      "\u001b[32m[I 2023-03-02 07:43:40,289]\u001b[0m Trial 66 finished with value: 0.8540028166459798 and parameters: {'units': 26, 'alpha': 0.0735545156845238, 'dropout': 0.45128389057374707, 'lr': 0.005984988361501698, 'batch_size': 256, 'l2_kern': 3.4383246856272625e-05, 'l2_bias': 0.004508340586057343}. Best is trial 35 with value: 0.8555828655755575.\u001b[0m\n",
      "C:\\Users\\User\\AppData\\Local\\Temp\\ipykernel_10400\\3785980822.py:37: DeprecationWarning: KerasClassifier is deprecated, use Sci-Keras (https://github.com/adriangb/scikeras) instead. See https://www.adriangb.com/scikeras/stable/migration.html for help migrating.\n",
      "  ('classifier', KerasClassifier(build_fn=self.create_model, verbose=0))\n"
     ]
    },
    {
     "name": "stdout",
     "output_type": "stream",
     "text": [
      "195/195 [==============================] - 0s 1ms/step\n",
      "195/195 [==============================] - 0s 1ms/step\n",
      "195/195 [==============================] - 0s 1ms/step\n"
     ]
    },
    {
     "name": "stderr",
     "output_type": "stream",
     "text": [
      "\u001b[32m[I 2023-03-02 07:44:19,932]\u001b[0m Trial 67 finished with value: 0.8468707853160499 and parameters: {'units': 9, 'alpha': 0.07285768392708725, 'dropout': 0.47762700688203924, 'lr': 0.0001632721628917971, 'batch_size': 512, 'l2_kern': 8.246316962119121e-05, 'l2_bias': 0.008468923524300448}. Best is trial 35 with value: 0.8555828655755575.\u001b[0m\n",
      "C:\\Users\\User\\AppData\\Local\\Temp\\ipykernel_10400\\3785980822.py:37: DeprecationWarning: KerasClassifier is deprecated, use Sci-Keras (https://github.com/adriangb/scikeras) instead. See https://www.adriangb.com/scikeras/stable/migration.html for help migrating.\n",
      "  ('classifier', KerasClassifier(build_fn=self.create_model, verbose=0))\n"
     ]
    },
    {
     "name": "stdout",
     "output_type": "stream",
     "text": [
      "195/195 [==============================] - 0s 1ms/step\n",
      "195/195 [==============================] - 0s 2ms/step\n",
      "195/195 [==============================] - 0s 1ms/step\n"
     ]
    },
    {
     "name": "stderr",
     "output_type": "stream",
     "text": [
      "\u001b[32m[I 2023-03-02 07:44:31,680]\u001b[0m Trial 68 finished with value: 0.8540599252277475 and parameters: {'units': 27, 'alpha': 0.06875346101549296, 'dropout': 0.26215280196466934, 'lr': 0.0026081054953200834, 'batch_size': 1024, 'l2_kern': 2.4846516348437933e-05, 'l2_bias': 0.0005382562482089032}. Best is trial 35 with value: 0.8555828655755575.\u001b[0m\n",
      "C:\\Users\\User\\AppData\\Local\\Temp\\ipykernel_10400\\3785980822.py:37: DeprecationWarning: KerasClassifier is deprecated, use Sci-Keras (https://github.com/adriangb/scikeras) instead. See https://www.adriangb.com/scikeras/stable/migration.html for help migrating.\n",
      "  ('classifier', KerasClassifier(build_fn=self.create_model, verbose=0))\n"
     ]
    },
    {
     "name": "stdout",
     "output_type": "stream",
     "text": [
      "195/195 [==============================] - 0s 1ms/step\n",
      "195/195 [==============================] - 0s 2ms/step\n",
      "195/195 [==============================] - 0s 2ms/step\n"
     ]
    },
    {
     "name": "stderr",
     "output_type": "stream",
     "text": [
      "\u001b[32m[I 2023-03-02 07:44:43,499]\u001b[0m Trial 69 finished with value: 0.8545235595278582 and parameters: {'units': 17, 'alpha': 0.020225021171762822, 'dropout': 0.4912684953612472, 'lr': 0.005383491161435716, 'batch_size': 1024, 'l2_kern': 1.3774447556465095e-05, 'l2_bias': 2.7164779722550065e-05}. Best is trial 35 with value: 0.8555828655755575.\u001b[0m\n",
      "C:\\Users\\User\\AppData\\Local\\Temp\\ipykernel_10400\\3785980822.py:37: DeprecationWarning: KerasClassifier is deprecated, use Sci-Keras (https://github.com/adriangb/scikeras) instead. See https://www.adriangb.com/scikeras/stable/migration.html for help migrating.\n",
      "  ('classifier', KerasClassifier(build_fn=self.create_model, verbose=0))\n"
     ]
    },
    {
     "name": "stdout",
     "output_type": "stream",
     "text": [
      "195/195 [==============================] - 0s 1ms/step\n",
      "195/195 [==============================] - 0s 2ms/step\n",
      "195/195 [==============================] - 0s 1ms/step\n"
     ]
    },
    {
     "name": "stderr",
     "output_type": "stream",
     "text": [
      "\u001b[32m[I 2023-03-02 07:45:43,398]\u001b[0m Trial 70 finished with value: 0.8551015482956309 and parameters: {'units': 37, 'alpha': 0.05481579478977179, 'dropout': 0.293020837209456, 'lr': 0.0009328638937918556, 'batch_size': 32, 'l2_kern': 0.00020944823900616815, 'l2_bias': 0.0046649567733821696}. Best is trial 35 with value: 0.8555828655755575.\u001b[0m\n",
      "C:\\Users\\User\\AppData\\Local\\Temp\\ipykernel_10400\\3785980822.py:37: DeprecationWarning: KerasClassifier is deprecated, use Sci-Keras (https://github.com/adriangb/scikeras) instead. See https://www.adriangb.com/scikeras/stable/migration.html for help migrating.\n",
      "  ('classifier', KerasClassifier(build_fn=self.create_model, verbose=0))\n"
     ]
    },
    {
     "name": "stdout",
     "output_type": "stream",
     "text": [
      "195/195 [==============================] - 0s 1ms/step\n",
      "195/195 [==============================] - 0s 2ms/step\n",
      "195/195 [==============================] - 0s 1ms/step\n"
     ]
    },
    {
     "name": "stderr",
     "output_type": "stream",
     "text": [
      "\u001b[32m[I 2023-03-02 07:47:49,021]\u001b[0m Trial 71 finished with value: 0.8547321594799384 and parameters: {'units': 15, 'alpha': 0.088479136780427, 'dropout': 0.20810119042380992, 'lr': 0.00013347565128263804, 'batch_size': 16, 'l2_kern': 1.0349169342028419e-05, 'l2_bias': 0.0007855854600554748}. Best is trial 35 with value: 0.8555828655755575.\u001b[0m\n",
      "C:\\Users\\User\\AppData\\Local\\Temp\\ipykernel_10400\\3785980822.py:37: DeprecationWarning: KerasClassifier is deprecated, use Sci-Keras (https://github.com/adriangb/scikeras) instead. See https://www.adriangb.com/scikeras/stable/migration.html for help migrating.\n",
      "  ('classifier', KerasClassifier(build_fn=self.create_model, verbose=0))\n"
     ]
    },
    {
     "name": "stdout",
     "output_type": "stream",
     "text": [
      "195/195 [==============================] - 0s 1ms/step\n",
      "195/195 [==============================] - 0s 1ms/step\n",
      "195/195 [==============================] - 0s 1ms/step\n"
     ]
    },
    {
     "name": "stderr",
     "output_type": "stream",
     "text": [
      "\u001b[32m[I 2023-03-02 07:48:41,049]\u001b[0m Trial 72 finished with value: 0.8526981358545251 and parameters: {'units': 20, 'alpha': 0.0775257886666299, 'dropout': 0.24681962807915386, 'lr': 0.006200988332616438, 'batch_size': 32, 'l2_kern': 1.4182916708063272e-05, 'l2_bias': 0.008085998673613171}. Best is trial 35 with value: 0.8555828655755575.\u001b[0m\n",
      "C:\\Users\\User\\AppData\\Local\\Temp\\ipykernel_10400\\3785980822.py:37: DeprecationWarning: KerasClassifier is deprecated, use Sci-Keras (https://github.com/adriangb/scikeras) instead. See https://www.adriangb.com/scikeras/stable/migration.html for help migrating.\n",
      "  ('classifier', KerasClassifier(build_fn=self.create_model, verbose=0))\n"
     ]
    },
    {
     "name": "stdout",
     "output_type": "stream",
     "text": [
      "195/195 [==============================] - 0s 1ms/step\n",
      "195/195 [==============================] - 0s 1ms/step\n",
      "195/195 [==============================] - 0s 1ms/step\n"
     ]
    },
    {
     "name": "stderr",
     "output_type": "stream",
     "text": [
      "\u001b[32m[I 2023-03-02 07:49:56,712]\u001b[0m Trial 73 finished with value: 0.8546579083463768 and parameters: {'units': 15, 'alpha': 0.0731265028069148, 'dropout': 0.2653878169821522, 'lr': 6.111935825595509e-05, 'batch_size': 128, 'l2_kern': 9.927227931276696e-05, 'l2_bias': 3.007555832346529e-05}. Best is trial 35 with value: 0.8555828655755575.\u001b[0m\n",
      "C:\\Users\\User\\AppData\\Local\\Temp\\ipykernel_10400\\3785980822.py:37: DeprecationWarning: KerasClassifier is deprecated, use Sci-Keras (https://github.com/adriangb/scikeras) instead. See https://www.adriangb.com/scikeras/stable/migration.html for help migrating.\n",
      "  ('classifier', KerasClassifier(build_fn=self.create_model, verbose=0))\n"
     ]
    },
    {
     "name": "stdout",
     "output_type": "stream",
     "text": [
      "195/195 [==============================] - 0s 2ms/step\n",
      "195/195 [==============================] - 0s 2ms/step\n",
      "195/195 [==============================] - 0s 1ms/step\n"
     ]
    },
    {
     "name": "stderr",
     "output_type": "stream",
     "text": [
      "\u001b[32m[I 2023-03-02 07:50:14,232]\u001b[0m Trial 74 finished with value: 0.8537879154364706 and parameters: {'units': 22, 'alpha': 0.06537060946210142, 'dropout': 0.35238054723340084, 'lr': 0.0031929444262353613, 'batch_size': 256, 'l2_kern': 0.0004218091478513789, 'l2_bias': 0.0017728511637039503}. Best is trial 35 with value: 0.8555828655755575.\u001b[0m\n",
      "C:\\Users\\User\\AppData\\Local\\Temp\\ipykernel_10400\\3785980822.py:37: DeprecationWarning: KerasClassifier is deprecated, use Sci-Keras (https://github.com/adriangb/scikeras) instead. See https://www.adriangb.com/scikeras/stable/migration.html for help migrating.\n",
      "  ('classifier', KerasClassifier(build_fn=self.create_model, verbose=0))\n"
     ]
    },
    {
     "name": "stdout",
     "output_type": "stream",
     "text": [
      "195/195 [==============================] - 0s 2ms/step\n",
      "195/195 [==============================] - 0s 1ms/step\n",
      "195/195 [==============================] - 0s 1ms/step\n"
     ]
    },
    {
     "name": "stderr",
     "output_type": "stream",
     "text": [
      "\u001b[32m[I 2023-03-02 07:51:57,370]\u001b[0m Trial 75 finished with value: 0.8534823917628356 and parameters: {'units': 18, 'alpha': 0.034864689335696614, 'dropout': 0.43572878990521147, 'lr': 0.0025316521679542483, 'batch_size': 16, 'l2_kern': 0.0010612860884721225, 'l2_bias': 0.005835634956537526}. Best is trial 35 with value: 0.8555828655755575.\u001b[0m\n",
      "C:\\Users\\User\\AppData\\Local\\Temp\\ipykernel_10400\\3785980822.py:37: DeprecationWarning: KerasClassifier is deprecated, use Sci-Keras (https://github.com/adriangb/scikeras) instead. See https://www.adriangb.com/scikeras/stable/migration.html for help migrating.\n",
      "  ('classifier', KerasClassifier(build_fn=self.create_model, verbose=0))\n"
     ]
    },
    {
     "name": "stdout",
     "output_type": "stream",
     "text": [
      "195/195 [==============================] - 0s 1ms/step\n",
      "195/195 [==============================] - 0s 1ms/step\n",
      "195/195 [==============================] - 0s 1ms/step\n"
     ]
    },
    {
     "name": "stderr",
     "output_type": "stream",
     "text": [
      "\u001b[32m[I 2023-03-02 07:52:08,203]\u001b[0m Trial 76 finished with value: 0.8541903569514436 and parameters: {'units': 33, 'alpha': 0.09424564543523976, 'dropout': 0.47807797462993373, 'lr': 0.005143725076976574, 'batch_size': 1024, 'l2_kern': 0.00027982916356416736, 'l2_bias': 0.00013145416692752075}. Best is trial 35 with value: 0.8555828655755575.\u001b[0m\n",
      "C:\\Users\\User\\AppData\\Local\\Temp\\ipykernel_10400\\3785980822.py:37: DeprecationWarning: KerasClassifier is deprecated, use Sci-Keras (https://github.com/adriangb/scikeras) instead. See https://www.adriangb.com/scikeras/stable/migration.html for help migrating.\n",
      "  ('classifier', KerasClassifier(build_fn=self.create_model, verbose=0))\n"
     ]
    },
    {
     "name": "stdout",
     "output_type": "stream",
     "text": [
      "195/195 [==============================] - 0s 1ms/step\n",
      "195/195 [==============================] - 0s 1ms/step\n",
      "195/195 [==============================] - 0s 2ms/step\n"
     ]
    },
    {
     "name": "stderr",
     "output_type": "stream",
     "text": [
      "\u001b[32m[I 2023-03-02 07:52:27,884]\u001b[0m Trial 77 finished with value: 0.8544296145713495 and parameters: {'units': 3, 'alpha': 0.04628695062679398, 'dropout': 0.33296985750722563, 'lr': 0.0016010702742069185, 'batch_size': 256, 'l2_kern': 7.478259215562974e-05, 'l2_bias': 1.6478482007959595e-05}. Best is trial 35 with value: 0.8555828655755575.\u001b[0m\n",
      "C:\\Users\\User\\AppData\\Local\\Temp\\ipykernel_10400\\3785980822.py:37: DeprecationWarning: KerasClassifier is deprecated, use Sci-Keras (https://github.com/adriangb/scikeras) instead. See https://www.adriangb.com/scikeras/stable/migration.html for help migrating.\n",
      "  ('classifier', KerasClassifier(build_fn=self.create_model, verbose=0))\n"
     ]
    },
    {
     "name": "stdout",
     "output_type": "stream",
     "text": [
      "195/195 [==============================] - 0s 1ms/step\n",
      "195/195 [==============================] - 0s 1ms/step\n",
      "195/195 [==============================] - 0s 2ms/step\n"
     ]
    },
    {
     "name": "stderr",
     "output_type": "stream",
     "text": [
      "\u001b[32m[I 2023-03-02 07:52:52,455]\u001b[0m Trial 78 finished with value: 0.8551306409341718 and parameters: {'units': 39, 'alpha': 0.01818491529001582, 'dropout': 0.47134551736516617, 'lr': 0.0006252292553565419, 'batch_size': 128, 'l2_kern': 0.0019246659598082323, 'l2_bias': 0.0015641046713934638}. Best is trial 35 with value: 0.8555828655755575.\u001b[0m\n",
      "C:\\Users\\User\\AppData\\Local\\Temp\\ipykernel_10400\\3785980822.py:37: DeprecationWarning: KerasClassifier is deprecated, use Sci-Keras (https://github.com/adriangb/scikeras) instead. See https://www.adriangb.com/scikeras/stable/migration.html for help migrating.\n",
      "  ('classifier', KerasClassifier(build_fn=self.create_model, verbose=0))\n"
     ]
    },
    {
     "name": "stdout",
     "output_type": "stream",
     "text": [
      "195/195 [==============================] - 0s 1ms/step\n",
      "195/195 [==============================] - 0s 1ms/step\n",
      "195/195 [==============================] - 1s 2ms/step\n"
     ]
    },
    {
     "name": "stderr",
     "output_type": "stream",
     "text": [
      "\u001b[32m[I 2023-03-02 07:53:04,089]\u001b[0m Trial 79 finished with value: 0.8552748952222086 and parameters: {'units': 24, 'alpha': 0.02678484792264941, 'dropout': 0.40541829766218984, 'lr': 0.0037324818966087015, 'batch_size': 512, 'l2_kern': 0.0031746693029450638, 'l2_bias': 6.511613889591086e-05}. Best is trial 35 with value: 0.8555828655755575.\u001b[0m\n",
      "C:\\Users\\User\\AppData\\Local\\Temp\\ipykernel_10400\\3785980822.py:37: DeprecationWarning: KerasClassifier is deprecated, use Sci-Keras (https://github.com/adriangb/scikeras) instead. See https://www.adriangb.com/scikeras/stable/migration.html for help migrating.\n",
      "  ('classifier', KerasClassifier(build_fn=self.create_model, verbose=0))\n"
     ]
    },
    {
     "name": "stdout",
     "output_type": "stream",
     "text": [
      "195/195 [==============================] - 0s 1ms/step\n",
      "195/195 [==============================] - 0s 2ms/step\n",
      "195/195 [==============================] - 0s 1ms/step\n"
     ]
    },
    {
     "name": "stderr",
     "output_type": "stream",
     "text": [
      "\u001b[32m[I 2023-03-02 07:54:05,286]\u001b[0m Trial 80 finished with value: 0.8545382651436908 and parameters: {'units': 27, 'alpha': 0.05334944744176271, 'dropout': 0.2376997249401593, 'lr': 0.00027788888763073064, 'batch_size': 32, 'l2_kern': 0.0008495219633977702, 'l2_bias': 0.00019491382025310216}. Best is trial 35 with value: 0.8555828655755575.\u001b[0m\n",
      "C:\\Users\\User\\AppData\\Local\\Temp\\ipykernel_10400\\3785980822.py:37: DeprecationWarning: KerasClassifier is deprecated, use Sci-Keras (https://github.com/adriangb/scikeras) instead. See https://www.adriangb.com/scikeras/stable/migration.html for help migrating.\n",
      "  ('classifier', KerasClassifier(build_fn=self.create_model, verbose=0))\n"
     ]
    },
    {
     "name": "stdout",
     "output_type": "stream",
     "text": [
      "195/195 [==============================] - 0s 1ms/step\n",
      "195/195 [==============================] - 0s 1ms/step\n",
      "195/195 [==============================] - 0s 2ms/step\n"
     ]
    },
    {
     "name": "stderr",
     "output_type": "stream",
     "text": [
      "\u001b[32m[I 2023-03-02 07:54:27,815]\u001b[0m Trial 81 finished with value: 0.8547031448975622 and parameters: {'units': 7, 'alpha': 0.08812683816433466, 'dropout': 0.4352249088925512, 'lr': 0.0006209604322772774, 'batch_size': 512, 'l2_kern': 0.0010274270480059742, 'l2_bias': 1.404743572508857e-05}. Best is trial 35 with value: 0.8555828655755575.\u001b[0m\n",
      "C:\\Users\\User\\AppData\\Local\\Temp\\ipykernel_10400\\3785980822.py:37: DeprecationWarning: KerasClassifier is deprecated, use Sci-Keras (https://github.com/adriangb/scikeras) instead. See https://www.adriangb.com/scikeras/stable/migration.html for help migrating.\n",
      "  ('classifier', KerasClassifier(build_fn=self.create_model, verbose=0))\n"
     ]
    },
    {
     "name": "stdout",
     "output_type": "stream",
     "text": [
      "195/195 [==============================] - 0s 1ms/step\n",
      "195/195 [==============================] - 0s 1ms/step\n",
      "195/195 [==============================] - 0s 1ms/step\n"
     ]
    },
    {
     "name": "stderr",
     "output_type": "stream",
     "text": [
      "\u001b[32m[I 2023-03-02 07:54:41,858]\u001b[0m Trial 82 finished with value: 0.8554514230277143 and parameters: {'units': 7, 'alpha': 0.015866659074979233, 'dropout': 0.4089976696029458, 'lr': 0.005817190506991336, 'batch_size': 512, 'l2_kern': 0.000911722924135161, 'l2_bias': 0.008893577800541846}. Best is trial 35 with value: 0.8555828655755575.\u001b[0m\n",
      "C:\\Users\\User\\AppData\\Local\\Temp\\ipykernel_10400\\3785980822.py:37: DeprecationWarning: KerasClassifier is deprecated, use Sci-Keras (https://github.com/adriangb/scikeras) instead. See https://www.adriangb.com/scikeras/stable/migration.html for help migrating.\n",
      "  ('classifier', KerasClassifier(build_fn=self.create_model, verbose=0))\n"
     ]
    },
    {
     "name": "stdout",
     "output_type": "stream",
     "text": [
      "195/195 [==============================] - 0s 1ms/step\n",
      "195/195 [==============================] - 0s 2ms/step\n",
      "195/195 [==============================] - 0s 2ms/step\n"
     ]
    },
    {
     "name": "stderr",
     "output_type": "stream",
     "text": [
      "\u001b[32m[I 2023-03-02 07:55:15,474]\u001b[0m Trial 83 finished with value: 0.8550202519404454 and parameters: {'units': 4, 'alpha': 0.0357141141108497, 'dropout': 0.3834245905285965, 'lr': 0.001025121131398382, 'batch_size': 128, 'l2_kern': 0.002536839795180626, 'l2_bias': 0.009577719973215151}. Best is trial 35 with value: 0.8555828655755575.\u001b[0m\n",
      "C:\\Users\\User\\AppData\\Local\\Temp\\ipykernel_10400\\3785980822.py:37: DeprecationWarning: KerasClassifier is deprecated, use Sci-Keras (https://github.com/adriangb/scikeras) instead. See https://www.adriangb.com/scikeras/stable/migration.html for help migrating.\n",
      "  ('classifier', KerasClassifier(build_fn=self.create_model, verbose=0))\n"
     ]
    },
    {
     "name": "stdout",
     "output_type": "stream",
     "text": [
      "195/195 [==============================] - 0s 1ms/step\n",
      "195/195 [==============================] - 0s 1ms/step\n",
      "195/195 [==============================] - 0s 1ms/step\n"
     ]
    },
    {
     "name": "stderr",
     "output_type": "stream",
     "text": [
      "\u001b[32m[I 2023-03-02 07:55:25,958]\u001b[0m Trial 84 finished with value: 0.8542013903611986 and parameters: {'units': 16, 'alpha': 0.04164485279015363, 'dropout': 0.20604198011054403, 'lr': 0.005215536169305667, 'batch_size': 1024, 'l2_kern': 0.001049928000226892, 'l2_bias': 1.7521387528485685e-05}. Best is trial 35 with value: 0.8555828655755575.\u001b[0m\n",
      "C:\\Users\\User\\AppData\\Local\\Temp\\ipykernel_10400\\3785980822.py:37: DeprecationWarning: KerasClassifier is deprecated, use Sci-Keras (https://github.com/adriangb/scikeras) instead. See https://www.adriangb.com/scikeras/stable/migration.html for help migrating.\n",
      "  ('classifier', KerasClassifier(build_fn=self.create_model, verbose=0))\n"
     ]
    },
    {
     "name": "stdout",
     "output_type": "stream",
     "text": [
      "195/195 [==============================] - 0s 1ms/step\n",
      "195/195 [==============================] - 0s 1ms/step\n",
      "195/195 [==============================] - 0s 2ms/step\n"
     ]
    },
    {
     "name": "stderr",
     "output_type": "stream",
     "text": [
      "\u001b[32m[I 2023-03-02 07:55:39,597]\u001b[0m Trial 85 finished with value: 0.854604229141079 and parameters: {'units': 11, 'alpha': 0.09009853318166326, 'dropout': 0.24503275168035066, 'lr': 0.002128465818915339, 'batch_size': 512, 'l2_kern': 0.0007701379246540478, 'l2_bias': 0.001185135944789839}. Best is trial 35 with value: 0.8555828655755575.\u001b[0m\n",
      "C:\\Users\\User\\AppData\\Local\\Temp\\ipykernel_10400\\3785980822.py:37: DeprecationWarning: KerasClassifier is deprecated, use Sci-Keras (https://github.com/adriangb/scikeras) instead. See https://www.adriangb.com/scikeras/stable/migration.html for help migrating.\n",
      "  ('classifier', KerasClassifier(build_fn=self.create_model, verbose=0))\n"
     ]
    },
    {
     "name": "stdout",
     "output_type": "stream",
     "text": [
      "195/195 [==============================] - 0s 1ms/step\n",
      "195/195 [==============================] - 0s 1ms/step\n",
      "195/195 [==============================] - 0s 1ms/step\n"
     ]
    },
    {
     "name": "stderr",
     "output_type": "stream",
     "text": [
      "\u001b[32m[I 2023-03-02 07:56:14,457]\u001b[0m Trial 86 finished with value: 0.855235625138196 and parameters: {'units': 40, 'alpha': 0.02017405697356766, 'dropout': 0.4935598582723249, 'lr': 0.00025257934241592597, 'batch_size': 128, 'l2_kern': 0.0059742671437693585, 'l2_bias': 0.00016983121298386853}. Best is trial 35 with value: 0.8555828655755575.\u001b[0m\n",
      "C:\\Users\\User\\AppData\\Local\\Temp\\ipykernel_10400\\3785980822.py:37: DeprecationWarning: KerasClassifier is deprecated, use Sci-Keras (https://github.com/adriangb/scikeras) instead. See https://www.adriangb.com/scikeras/stable/migration.html for help migrating.\n",
      "  ('classifier', KerasClassifier(build_fn=self.create_model, verbose=0))\n"
     ]
    },
    {
     "name": "stdout",
     "output_type": "stream",
     "text": [
      "195/195 [==============================] - 0s 1ms/step\n",
      "195/195 [==============================] - 0s 1ms/step\n",
      "195/195 [==============================] - 0s 1ms/step\n"
     ]
    },
    {
     "name": "stderr",
     "output_type": "stream",
     "text": [
      "\u001b[32m[I 2023-03-02 07:57:13,248]\u001b[0m Trial 87 finished with value: 0.8540291235052218 and parameters: {'units': 25, 'alpha': 0.09839035131311617, 'dropout': 0.485927752011907, 'lr': 0.000549624096697205, 'batch_size': 32, 'l2_kern': 0.00012802973494555788, 'l2_bias': 7.540391969231957e-05}. Best is trial 35 with value: 0.8555828655755575.\u001b[0m\n",
      "C:\\Users\\User\\AppData\\Local\\Temp\\ipykernel_10400\\3785980822.py:37: DeprecationWarning: KerasClassifier is deprecated, use Sci-Keras (https://github.com/adriangb/scikeras) instead. See https://www.adriangb.com/scikeras/stable/migration.html for help migrating.\n",
      "  ('classifier', KerasClassifier(build_fn=self.create_model, verbose=0))\n"
     ]
    },
    {
     "name": "stdout",
     "output_type": "stream",
     "text": [
      "195/195 [==============================] - 0s 1ms/step\n",
      "195/195 [==============================] - 0s 1ms/step\n",
      "195/195 [==============================] - 0s 1ms/step\n"
     ]
    },
    {
     "name": "stderr",
     "output_type": "stream",
     "text": [
      "\u001b[32m[I 2023-03-02 07:57:47,146]\u001b[0m Trial 88 finished with value: 0.8554216692574924 and parameters: {'units': 22, 'alpha': 0.017302443342470802, 'dropout': 0.47418639583415173, 'lr': 0.0002336736541097876, 'batch_size': 128, 'l2_kern': 0.00029476210233942427, 'l2_bias': 3.0119016008780738e-05}. Best is trial 35 with value: 0.8555828655755575.\u001b[0m\n",
      "C:\\Users\\User\\AppData\\Local\\Temp\\ipykernel_10400\\3785980822.py:37: DeprecationWarning: KerasClassifier is deprecated, use Sci-Keras (https://github.com/adriangb/scikeras) instead. See https://www.adriangb.com/scikeras/stable/migration.html for help migrating.\n",
      "  ('classifier', KerasClassifier(build_fn=self.create_model, verbose=0))\n"
     ]
    },
    {
     "name": "stdout",
     "output_type": "stream",
     "text": [
      "195/195 [==============================] - 0s 2ms/step\n",
      "195/195 [==============================] - 0s 1ms/step\n",
      "195/195 [==============================] - 0s 1ms/step\n"
     ]
    },
    {
     "name": "stderr",
     "output_type": "stream",
     "text": [
      "\u001b[32m[I 2023-03-02 07:58:53,373]\u001b[0m Trial 89 finished with value: 0.8549405383188798 and parameters: {'units': 28, 'alpha': 0.07588876643504036, 'dropout': 0.20799551761535845, 'lr': 9.17823571573546e-05, 'batch_size': 64, 'l2_kern': 8.534356669315185e-05, 'l2_bias': 9.779387501878698e-05}. Best is trial 35 with value: 0.8555828655755575.\u001b[0m\n",
      "C:\\Users\\User\\AppData\\Local\\Temp\\ipykernel_10400\\3785980822.py:37: DeprecationWarning: KerasClassifier is deprecated, use Sci-Keras (https://github.com/adriangb/scikeras) instead. See https://www.adriangb.com/scikeras/stable/migration.html for help migrating.\n",
      "  ('classifier', KerasClassifier(build_fn=self.create_model, verbose=0))\n"
     ]
    },
    {
     "name": "stdout",
     "output_type": "stream",
     "text": [
      "195/195 [==============================] - 0s 1ms/step\n",
      "195/195 [==============================] - 0s 1ms/step\n",
      "195/195 [==============================] - 0s 1ms/step\n"
     ]
    },
    {
     "name": "stderr",
     "output_type": "stream",
     "text": [
      "\u001b[32m[I 2023-03-02 07:59:28,627]\u001b[0m Trial 90 finished with value: 0.854670556459451 and parameters: {'units': 34, 'alpha': 0.07670863121747067, 'dropout': 0.357777195937818, 'lr': 0.000571136865951506, 'batch_size': 64, 'l2_kern': 0.0006892144622040957, 'l2_bias': 0.0011417675925321036}. Best is trial 35 with value: 0.8555828655755575.\u001b[0m\n",
      "C:\\Users\\User\\AppData\\Local\\Temp\\ipykernel_10400\\3785980822.py:37: DeprecationWarning: KerasClassifier is deprecated, use Sci-Keras (https://github.com/adriangb/scikeras) instead. See https://www.adriangb.com/scikeras/stable/migration.html for help migrating.\n",
      "  ('classifier', KerasClassifier(build_fn=self.create_model, verbose=0))\n"
     ]
    },
    {
     "name": "stdout",
     "output_type": "stream",
     "text": [
      "195/195 [==============================] - 0s 1ms/step\n",
      "195/195 [==============================] - 0s 1ms/step\n",
      "195/195 [==============================] - 0s 1ms/step\n"
     ]
    },
    {
     "name": "stderr",
     "output_type": "stream",
     "text": [
      "\u001b[32m[I 2023-03-02 07:59:48,776]\u001b[0m Trial 91 finished with value: 0.8543561610456946 and parameters: {'units': 2, 'alpha': 0.09939009207524238, 'dropout': 0.32681778026658415, 'lr': 0.0013974741482950378, 'batch_size': 1024, 'l2_kern': 0.0008426696500047843, 'l2_bias': 2.284616247925166e-05}. Best is trial 35 with value: 0.8555828655755575.\u001b[0m\n",
      "C:\\Users\\User\\AppData\\Local\\Temp\\ipykernel_10400\\3785980822.py:37: DeprecationWarning: KerasClassifier is deprecated, use Sci-Keras (https://github.com/adriangb/scikeras) instead. See https://www.adriangb.com/scikeras/stable/migration.html for help migrating.\n",
      "  ('classifier', KerasClassifier(build_fn=self.create_model, verbose=0))\n"
     ]
    },
    {
     "name": "stdout",
     "output_type": "stream",
     "text": [
      "195/195 [==============================] - 0s 1ms/step\n",
      "195/195 [==============================] - 0s 1ms/step\n",
      "195/195 [==============================] - 0s 1ms/step\n"
     ]
    },
    {
     "name": "stderr",
     "output_type": "stream",
     "text": [
      "\u001b[32m[I 2023-03-02 08:03:35,936]\u001b[0m Trial 92 finished with value: 0.8547955307262313 and parameters: {'units': 15, 'alpha': 0.07169299843901342, 'dropout': 0.3250137602842137, 'lr': 7.10278765408704e-05, 'batch_size': 16, 'l2_kern': 0.0006399150443330116, 'l2_bias': 1.9197469794796434e-05}. Best is trial 35 with value: 0.8555828655755575.\u001b[0m\n",
      "C:\\Users\\User\\AppData\\Local\\Temp\\ipykernel_10400\\3785980822.py:37: DeprecationWarning: KerasClassifier is deprecated, use Sci-Keras (https://github.com/adriangb/scikeras) instead. See https://www.adriangb.com/scikeras/stable/migration.html for help migrating.\n",
      "  ('classifier', KerasClassifier(build_fn=self.create_model, verbose=0))\n"
     ]
    },
    {
     "name": "stdout",
     "output_type": "stream",
     "text": [
      "195/195 [==============================] - 0s 1ms/step\n",
      "195/195 [==============================] - 0s 1ms/step\n",
      "195/195 [==============================] - 0s 2ms/step\n"
     ]
    },
    {
     "name": "stderr",
     "output_type": "stream",
     "text": [
      "\u001b[32m[I 2023-03-02 08:04:10,200]\u001b[0m Trial 93 finished with value: 0.8549446914502797 and parameters: {'units': 21, 'alpha': 0.09171066981449086, 'dropout': 0.3459407951556888, 'lr': 0.0002251685984879119, 'batch_size': 512, 'l2_kern': 0.0031332061441814068, 'l2_bias': 0.00024674559982430913}. Best is trial 35 with value: 0.8555828655755575.\u001b[0m\n",
      "C:\\Users\\User\\AppData\\Local\\Temp\\ipykernel_10400\\3785980822.py:37: DeprecationWarning: KerasClassifier is deprecated, use Sci-Keras (https://github.com/adriangb/scikeras) instead. See https://www.adriangb.com/scikeras/stable/migration.html for help migrating.\n",
      "  ('classifier', KerasClassifier(build_fn=self.create_model, verbose=0))\n"
     ]
    },
    {
     "name": "stdout",
     "output_type": "stream",
     "text": [
      "195/195 [==============================] - 0s 1ms/step\n",
      "195/195 [==============================] - 0s 1ms/step\n",
      "195/195 [==============================] - 0s 1ms/step\n"
     ]
    },
    {
     "name": "stderr",
     "output_type": "stream",
     "text": [
      "\u001b[32m[I 2023-03-02 08:04:32,708]\u001b[0m Trial 94 finished with value: 0.855080405965098 and parameters: {'units': 31, 'alpha': 0.014313116204440679, 'dropout': 0.30941103176579754, 'lr': 0.0005772463454670344, 'batch_size': 512, 'l2_kern': 0.004426688264929961, 'l2_bias': 1.7278118164599897e-05}. Best is trial 35 with value: 0.8555828655755575.\u001b[0m\n",
      "C:\\Users\\User\\AppData\\Local\\Temp\\ipykernel_10400\\3785980822.py:37: DeprecationWarning: KerasClassifier is deprecated, use Sci-Keras (https://github.com/adriangb/scikeras) instead. See https://www.adriangb.com/scikeras/stable/migration.html for help migrating.\n",
      "  ('classifier', KerasClassifier(build_fn=self.create_model, verbose=0))\n"
     ]
    },
    {
     "name": "stdout",
     "output_type": "stream",
     "text": [
      "195/195 [==============================] - 0s 2ms/step\n",
      "195/195 [==============================] - 0s 1ms/step\n",
      "195/195 [==============================] - 0s 1ms/step\n"
     ]
    },
    {
     "name": "stderr",
     "output_type": "stream",
     "text": [
      "\u001b[32m[I 2023-03-02 08:05:20,895]\u001b[0m Trial 95 finished with value: 0.8528477369367673 and parameters: {'units': 26, 'alpha': 0.04161987721349102, 'dropout': 0.45342256524783814, 'lr': 0.006148666201811054, 'batch_size': 16, 'l2_kern': 0.002518076793653886, 'l2_bias': 1.092739598580034e-05}. Best is trial 35 with value: 0.8555828655755575.\u001b[0m\n",
      "C:\\Users\\User\\AppData\\Local\\Temp\\ipykernel_10400\\3785980822.py:37: DeprecationWarning: KerasClassifier is deprecated, use Sci-Keras (https://github.com/adriangb/scikeras) instead. See https://www.adriangb.com/scikeras/stable/migration.html for help migrating.\n",
      "  ('classifier', KerasClassifier(build_fn=self.create_model, verbose=0))\n"
     ]
    },
    {
     "name": "stdout",
     "output_type": "stream",
     "text": [
      "195/195 [==============================] - 0s 1ms/step\n",
      "195/195 [==============================] - 0s 1ms/step\n",
      "195/195 [==============================] - 0s 1ms/step\n"
     ]
    },
    {
     "name": "stderr",
     "output_type": "stream",
     "text": [
      "\u001b[32m[I 2023-03-02 08:06:11,667]\u001b[0m Trial 96 finished with value: 0.8543243457605808 and parameters: {'units': 30, 'alpha': 0.03832710397141131, 'dropout': 0.4596078385596198, 'lr': 0.0004704248459977257, 'batch_size': 32, 'l2_kern': 2.8099793750052634e-05, 'l2_bias': 0.0018692888706468237}. Best is trial 35 with value: 0.8555828655755575.\u001b[0m\n",
      "C:\\Users\\User\\AppData\\Local\\Temp\\ipykernel_10400\\3785980822.py:37: DeprecationWarning: KerasClassifier is deprecated, use Sci-Keras (https://github.com/adriangb/scikeras) instead. See https://www.adriangb.com/scikeras/stable/migration.html for help migrating.\n",
      "  ('classifier', KerasClassifier(build_fn=self.create_model, verbose=0))\n"
     ]
    },
    {
     "name": "stdout",
     "output_type": "stream",
     "text": [
      "195/195 [==============================] - 0s 1ms/step\n",
      "195/195 [==============================] - 0s 2ms/step\n",
      "195/195 [==============================] - 0s 1ms/step\n"
     ]
    },
    {
     "name": "stderr",
     "output_type": "stream",
     "text": [
      "\u001b[32m[I 2023-03-02 08:06:54,063]\u001b[0m Trial 97 finished with value: 0.855431522632959 and parameters: {'units': 11, 'alpha': 0.035567782251855085, 'dropout': 0.2529176275376154, 'lr': 0.00664263163505097, 'batch_size': 32, 'l2_kern': 1.169726642244071e-05, 'l2_bias': 0.0007130324035194779}. Best is trial 35 with value: 0.8555828655755575.\u001b[0m\n",
      "C:\\Users\\User\\AppData\\Local\\Temp\\ipykernel_10400\\3785980822.py:37: DeprecationWarning: KerasClassifier is deprecated, use Sci-Keras (https://github.com/adriangb/scikeras) instead. See https://www.adriangb.com/scikeras/stable/migration.html for help migrating.\n",
      "  ('classifier', KerasClassifier(build_fn=self.create_model, verbose=0))\n"
     ]
    },
    {
     "name": "stdout",
     "output_type": "stream",
     "text": [
      "195/195 [==============================] - 0s 1ms/step\n",
      "195/195 [==============================] - 0s 2ms/step\n",
      "195/195 [==============================] - 0s 1ms/step\n"
     ]
    },
    {
     "name": "stderr",
     "output_type": "stream",
     "text": [
      "\u001b[32m[I 2023-03-02 08:07:07,827]\u001b[0m Trial 98 finished with value: 0.8539754025227873 and parameters: {'units': 40, 'alpha': 0.07025073418239317, 'dropout': 0.38221493626736247, 'lr': 0.005962459144519925, 'batch_size': 256, 'l2_kern': 3.4394979535770736e-05, 'l2_bias': 0.0010088449467495959}. Best is trial 35 with value: 0.8555828655755575.\u001b[0m\n",
      "C:\\Users\\User\\AppData\\Local\\Temp\\ipykernel_10400\\3785980822.py:37: DeprecationWarning: KerasClassifier is deprecated, use Sci-Keras (https://github.com/adriangb/scikeras) instead. See https://www.adriangb.com/scikeras/stable/migration.html for help migrating.\n",
      "  ('classifier', KerasClassifier(build_fn=self.create_model, verbose=0))\n"
     ]
    },
    {
     "name": "stdout",
     "output_type": "stream",
     "text": [
      "195/195 [==============================] - 0s 2ms/step\n",
      "195/195 [==============================] - 0s 1ms/step\n",
      "195/195 [==============================] - 0s 1ms/step\n"
     ]
    },
    {
     "name": "stderr",
     "output_type": "stream",
     "text": [
      "\u001b[32m[I 2023-03-02 08:08:35,718]\u001b[0m Trial 99 finished with value: 0.8551934128229037 and parameters: {'units': 5, 'alpha': 0.05668036856331818, 'dropout': 0.3458406584357721, 'lr': 0.00015979630519304404, 'batch_size': 32, 'l2_kern': 0.00038178605940627944, 'l2_bias': 1.840931921076541e-05}. Best is trial 35 with value: 0.8555828655755575.\u001b[0m\n"
     ]
    },
    {
     "name": "stdout",
     "output_type": "stream",
     "text": [
      "Number of finished trials: 100\n",
      "Best trial:\n",
      "  Value: 0.8555828655755575\n",
      "    units: 13\n",
      "    alpha: 0.026858226309700473\n",
      "    dropout: 0.27767830829114143\n",
      "    lr: 0.0002811086545566117\n",
      "    batch_size: 256\n",
      "    l2_kern: 0.0008024195551368709\n",
      "    l2_bias: 0.0007774044467709288\n"
     ]
    },
    {
     "name": "stderr",
     "output_type": "stream",
     "text": [
      "C:\\Users\\User\\AppData\\Local\\Temp\\ipykernel_10400\\3785980822.py:111: DeprecationWarning: KerasClassifier is deprecated, use Sci-Keras (https://github.com/adriangb/scikeras) instead. See https://www.adriangb.com/scikeras/stable/migration.html for help migrating.\n",
      "  ('classifier', KerasClassifier(build_fn=tun.create_model, verbose=0))\n"
     ]
    },
    {
     "name": "stdout",
     "output_type": "stream",
     "text": [
      "117/117 [==============================] - 0s 1ms/step\n",
      "117/117 [==============================] - 0s 1ms/step\n",
      "117/117 [==============================] - 0s 1ms/step\n",
      "117/117 [==============================] - 0s 1ms/step\n",
      "117/117 [==============================] - 0s 2ms/step\n",
      "37/37 [==============================] - 0s 2ms/step\n",
      "37/37 [==============================] - 0s 2ms/step\n",
      "37/37 [==============================] - 0s 2ms/step\n",
      "37/37 [==============================] - 0s 2ms/step\n",
      "37/37 [==============================] - 0s 2ms/step\n",
      "Train mean AUC score is 0.8551909266930217 while test mean AUC score is 0.8598668744838935.\n",
      "183/183 [==============================] - 0s 1ms/step\n",
      "              precision    recall  f1-score   support\n",
      "\n",
      "          No       0.88      0.96      0.92      4648\n",
      "         Yes       0.76      0.48      0.59      1186\n",
      "\n",
      "    accuracy                           0.86      5834\n",
      "   macro avg       0.82      0.72      0.75      5834\n",
      "weighted avg       0.86      0.86      0.85      5834\n",
      "\n"
     ]
    }
   ],
   "source": [
    "# Random Sampler\n",
    "params_rs = tun.Tuning(n_trials=trials, sampler = optuna.samplers.RandomSampler())\n",
    "rs_scores = tun.Best_MLP_model(params_rs)\n",
    "rs_scores = rs_scores.rename(columns={'Tree-structured Parzen Estimator': 'Random Sampler'})"
   ]
  },
  {
   "cell_type": "code",
   "execution_count": 5,
   "id": "cfc09817",
   "metadata": {},
   "outputs": [
    {
     "name": "stderr",
     "output_type": "stream",
     "text": [
      "\u001b[32m[I 2023-03-02 08:49:14,886]\u001b[0m A new study created in memory with name: no-name-88944375-24f2-40f2-afc7-6d91ba362432\u001b[0m\n",
      "C:\\Users\\User\\AppData\\Local\\Temp\\ipykernel_10400\\3785980822.py:37: DeprecationWarning: KerasClassifier is deprecated, use Sci-Keras (https://github.com/adriangb/scikeras) instead. See https://www.adriangb.com/scikeras/stable/migration.html for help migrating.\n",
      "  ('classifier', KerasClassifier(build_fn=self.create_model, verbose=0))\n"
     ]
    },
    {
     "name": "stdout",
     "output_type": "stream",
     "text": [
      "195/195 [==============================] - 0s 2ms/step\n",
      "195/195 [==============================] - 0s 1ms/step\n",
      "195/195 [==============================] - 0s 2ms/step\n"
     ]
    },
    {
     "name": "stderr",
     "output_type": "stream",
     "text": [
      "\u001b[32m[I 2023-03-02 08:50:03,910]\u001b[0m Trial 0 finished with value: 0.855286507100956 and parameters: {'units': 37, 'alpha': 0.0639855974134986, 'dropout': 0.2706011729300077, 'lr': 9.687543316938774e-05, 'batch_size': 256, 'l2_kern': 1.3148403748029467e-05, 'l2_bias': 3.4149237575958514e-05}. Best is trial 0 with value: 0.855286507100956.\u001b[0m\n",
      "C:\\Users\\User\\AppData\\Local\\Temp\\ipykernel_10400\\3785980822.py:37: DeprecationWarning: KerasClassifier is deprecated, use Sci-Keras (https://github.com/adriangb/scikeras) instead. See https://www.adriangb.com/scikeras/stable/migration.html for help migrating.\n",
      "  ('classifier', KerasClassifier(build_fn=self.create_model, verbose=0))\n"
     ]
    },
    {
     "name": "stdout",
     "output_type": "stream",
     "text": [
      "195/195 [==============================] - 0s 1ms/step\n",
      "195/195 [==============================] - 0s 1ms/step\n",
      "195/195 [==============================] - 0s 2ms/step\n"
     ]
    },
    {
     "name": "stderr",
     "output_type": "stream",
     "text": [
      "\u001b[32m[I 2023-03-02 08:50:20,519]\u001b[0m Trial 1 finished with value: 0.8548250812999321 and parameters: {'units': 8, 'alpha': 0.08597228454486455, 'dropout': 0.2668954759197085, 'lr': 0.0010543975833539796, 'batch_size': 256, 'l2_kern': 1.3831552282488648e-05, 'l2_bias': 0.002035155876841646}. Best is trial 0 with value: 0.855286507100956.\u001b[0m\n",
      "C:\\Users\\User\\AppData\\Local\\Temp\\ipykernel_10400\\3785980822.py:37: DeprecationWarning: KerasClassifier is deprecated, use Sci-Keras (https://github.com/adriangb/scikeras) instead. See https://www.adriangb.com/scikeras/stable/migration.html for help migrating.\n",
      "  ('classifier', KerasClassifier(build_fn=self.create_model, verbose=0))\n"
     ]
    },
    {
     "name": "stdout",
     "output_type": "stream",
     "text": [
      "195/195 [==============================] - 0s 1ms/step\n",
      "195/195 [==============================] - 0s 2ms/step\n",
      "195/195 [==============================] - 0s 1ms/step\n"
     ]
    },
    {
     "name": "stderr",
     "output_type": "stream",
     "text": [
      "\u001b[32m[I 2023-03-02 08:50:34,317]\u001b[0m Trial 2 finished with value: 0.8539594057853913 and parameters: {'units': 9, 'alpha': 0.022289454667148552, 'dropout': 0.45809983853498615, 'lr': 0.0036024014531890873, 'batch_size': 256, 'l2_kern': 0.0007026020756096517, 'l2_bias': 0.000530890277817764}. Best is trial 0 with value: 0.855286507100956.\u001b[0m\n",
      "C:\\Users\\User\\AppData\\Local\\Temp\\ipykernel_10400\\3785980822.py:37: DeprecationWarning: KerasClassifier is deprecated, use Sci-Keras (https://github.com/adriangb/scikeras) instead. See https://www.adriangb.com/scikeras/stable/migration.html for help migrating.\n",
      "  ('classifier', KerasClassifier(build_fn=self.create_model, verbose=0))\n"
     ]
    },
    {
     "name": "stdout",
     "output_type": "stream",
     "text": [
      "195/195 [==============================] - 0s 1ms/step\n",
      "195/195 [==============================] - 0s 1ms/step\n",
      "195/195 [==============================] - 0s 1ms/step\n"
     ]
    },
    {
     "name": "stderr",
     "output_type": "stream",
     "text": [
      "\u001b[32m[I 2023-03-02 08:50:53,521]\u001b[0m Trial 3 finished with value: 0.854547962003492 and parameters: {'units': 40, 'alpha': 0.041299917451012635, 'dropout': 0.37472520210316146, 'lr': 0.0008158213310188587, 'batch_size': 128, 'l2_kern': 0.0047381868739694525, 'l2_bias': 2.0666688077312096e-05}. Best is trial 0 with value: 0.855286507100956.\u001b[0m\n",
      "C:\\Users\\User\\AppData\\Local\\Temp\\ipykernel_10400\\3785980822.py:37: DeprecationWarning: KerasClassifier is deprecated, use Sci-Keras (https://github.com/adriangb/scikeras) instead. See https://www.adriangb.com/scikeras/stable/migration.html for help migrating.\n",
      "  ('classifier', KerasClassifier(build_fn=self.create_model, verbose=0))\n"
     ]
    },
    {
     "name": "stdout",
     "output_type": "stream",
     "text": [
      "195/195 [==============================] - 0s 1ms/step\n",
      "195/195 [==============================] - 0s 1ms/step\n",
      "195/195 [==============================] - 0s 1ms/step\n"
     ]
    },
    {
     "name": "stderr",
     "output_type": "stream",
     "text": [
      "\u001b[32m[I 2023-03-02 08:51:45,294]\u001b[0m Trial 4 finished with value: 0.8541473419759283 and parameters: {'units': 2, 'alpha': 0.09650132422096842, 'dropout': 0.4828085018231162, 'lr': 0.004781840201596208, 'batch_size': 16, 'l2_kern': 0.0002726890400248044, 'l2_bias': 0.00981786322662478}. Best is trial 0 with value: 0.855286507100956.\u001b[0m\n",
      "C:\\Users\\User\\AppData\\Local\\Temp\\ipykernel_10400\\3785980822.py:37: DeprecationWarning: KerasClassifier is deprecated, use Sci-Keras (https://github.com/adriangb/scikeras) instead. See https://www.adriangb.com/scikeras/stable/migration.html for help migrating.\n",
      "  ('classifier', KerasClassifier(build_fn=self.create_model, verbose=0))\n"
     ]
    },
    {
     "name": "stdout",
     "output_type": "stream",
     "text": [
      "195/195 [==============================] - 0s 1ms/step\n",
      "195/195 [==============================] - 0s 2ms/step\n",
      "195/195 [==============================] - 0s 2ms/step\n"
     ]
    },
    {
     "name": "stderr",
     "output_type": "stream",
     "text": [
      "\u001b[32m[I 2023-03-02 08:52:12,440]\u001b[0m Trial 5 finished with value: 0.8547372227500386 and parameters: {'units': 23, 'alpha': 0.0610426995567725, 'dropout': 0.45804939425756097, 'lr': 0.0002991288350728286, 'batch_size': 256, 'l2_kern': 1.4656893849658559e-05, 'l2_bias': 0.00015265992928156197}. Best is trial 0 with value: 0.855286507100956.\u001b[0m\n",
      "C:\\Users\\User\\AppData\\Local\\Temp\\ipykernel_10400\\3785980822.py:37: DeprecationWarning: KerasClassifier is deprecated, use Sci-Keras (https://github.com/adriangb/scikeras) instead. See https://www.adriangb.com/scikeras/stable/migration.html for help migrating.\n",
      "  ('classifier', KerasClassifier(build_fn=self.create_model, verbose=0))\n"
     ]
    },
    {
     "name": "stdout",
     "output_type": "stream",
     "text": [
      "195/195 [==============================] - 0s 1ms/step\n",
      "195/195 [==============================] - 0s 1ms/step\n",
      "195/195 [==============================] - 0s 1ms/step\n"
     ]
    },
    {
     "name": "stderr",
     "output_type": "stream",
     "text": [
      "\u001b[32m[I 2023-03-02 08:52:22,493]\u001b[0m Trial 6 finished with value: 0.8542550713284386 and parameters: {'units': 40, 'alpha': 0.01582369865033944, 'dropout': 0.33363641170608793, 'lr': 0.008663850705324699, 'batch_size': 512, 'l2_kern': 0.0008278751526815582, 'l2_bias': 0.001525605985529196}. Best is trial 0 with value: 0.855286507100956.\u001b[0m\n",
      "C:\\Users\\User\\AppData\\Local\\Temp\\ipykernel_10400\\3785980822.py:37: DeprecationWarning: KerasClassifier is deprecated, use Sci-Keras (https://github.com/adriangb/scikeras) instead. See https://www.adriangb.com/scikeras/stable/migration.html for help migrating.\n",
      "  ('classifier', KerasClassifier(build_fn=self.create_model, verbose=0))\n"
     ]
    },
    {
     "name": "stdout",
     "output_type": "stream",
     "text": [
      "195/195 [==============================] - 0s 1ms/step\n",
      "195/195 [==============================] - 0s 1ms/step\n",
      "195/195 [==============================] - 0s 1ms/step\n"
     ]
    },
    {
     "name": "stderr",
     "output_type": "stream",
     "text": [
      "\u001b[32m[I 2023-03-02 08:52:46,154]\u001b[0m Trial 7 finished with value: 0.8546345692771912 and parameters: {'units': 32, 'alpha': 0.0627798857681786, 'dropout': 0.38206517229891734, 'lr': 0.00036589227143416696, 'batch_size': 256, 'l2_kern': 0.0002428383868773885, 'l2_bias': 1.1124653426473163e-05}. Best is trial 0 with value: 0.855286507100956.\u001b[0m\n",
      "C:\\Users\\User\\AppData\\Local\\Temp\\ipykernel_10400\\3785980822.py:37: DeprecationWarning: KerasClassifier is deprecated, use Sci-Keras (https://github.com/adriangb/scikeras) instead. See https://www.adriangb.com/scikeras/stable/migration.html for help migrating.\n",
      "  ('classifier', KerasClassifier(build_fn=self.create_model, verbose=0))\n"
     ]
    },
    {
     "name": "stdout",
     "output_type": "stream",
     "text": [
      "195/195 [==============================] - 0s 1ms/step\n",
      "195/195 [==============================] - 0s 1ms/step\n",
      "195/195 [==============================] - 0s 2ms/step\n"
     ]
    },
    {
     "name": "stderr",
     "output_type": "stream",
     "text": [
      "\u001b[32m[I 2023-03-02 08:54:07,005]\u001b[0m Trial 8 finished with value: 0.8539695240890425 and parameters: {'units': 36, 'alpha': 0.07547755002488363, 'dropout': 0.27055043675234414, 'lr': 0.0031592485415374476, 'batch_size': 16, 'l2_kern': 0.00045517089950285964, 'l2_bias': 3.749848395946562e-05}. Best is trial 0 with value: 0.855286507100956.\u001b[0m\n",
      "C:\\Users\\User\\AppData\\Local\\Temp\\ipykernel_10400\\3785980822.py:37: DeprecationWarning: KerasClassifier is deprecated, use Sci-Keras (https://github.com/adriangb/scikeras) instead. See https://www.adriangb.com/scikeras/stable/migration.html for help migrating.\n",
      "  ('classifier', KerasClassifier(build_fn=self.create_model, verbose=0))\n"
     ]
    },
    {
     "name": "stdout",
     "output_type": "stream",
     "text": [
      "195/195 [==============================] - 0s 1ms/step\n",
      "195/195 [==============================] - 0s 1ms/step\n",
      "195/195 [==============================] - 0s 1ms/step\n"
     ]
    },
    {
     "name": "stderr",
     "output_type": "stream",
     "text": [
      "\u001b[32m[I 2023-03-02 08:54:25,474]\u001b[0m Trial 9 finished with value: 0.854878163864881 and parameters: {'units': 20, 'alpha': 0.09107553499301126, 'dropout': 0.22958713120678376, 'lr': 0.00082296629443438, 'batch_size': 1024, 'l2_kern': 0.00012633088439331652, 'l2_bias': 0.0028342988368894556}. Best is trial 0 with value: 0.855286507100956.\u001b[0m\n",
      "C:\\Users\\User\\AppData\\Local\\Temp\\ipykernel_10400\\3785980822.py:37: DeprecationWarning: KerasClassifier is deprecated, use Sci-Keras (https://github.com/adriangb/scikeras) instead. See https://www.adriangb.com/scikeras/stable/migration.html for help migrating.\n",
      "  ('classifier', KerasClassifier(build_fn=self.create_model, verbose=0))\n"
     ]
    },
    {
     "name": "stdout",
     "output_type": "stream",
     "text": [
      "195/195 [==============================] - 0s 1ms/step\n",
      "195/195 [==============================] - 0s 1ms/step\n",
      "195/195 [==============================] - 0s 2ms/step\n"
     ]
    },
    {
     "name": "stderr",
     "output_type": "stream",
     "text": [
      "\u001b[32m[I 2023-03-02 08:55:34,225]\u001b[0m Trial 10 finished with value: 0.8544537979505256 and parameters: {'units': 34, 'alpha': 0.04976590120200252, 'dropout': 0.4891809280204705, 'lr': 5.234525045143207e-05, 'batch_size': 256, 'l2_kern': 0.005718994412055156, 'l2_bias': 0.0025376081364391436}. Best is trial 0 with value: 0.855286507100956.\u001b[0m\n",
      "C:\\Users\\User\\AppData\\Local\\Temp\\ipykernel_10400\\3785980822.py:37: DeprecationWarning: KerasClassifier is deprecated, use Sci-Keras (https://github.com/adriangb/scikeras) instead. See https://www.adriangb.com/scikeras/stable/migration.html for help migrating.\n",
      "  ('classifier', KerasClassifier(build_fn=self.create_model, verbose=0))\n"
     ]
    },
    {
     "name": "stdout",
     "output_type": "stream",
     "text": [
      "195/195 [==============================] - 0s 1ms/step\n",
      "195/195 [==============================] - 0s 2ms/step\n",
      "195/195 [==============================] - 0s 1ms/step\n"
     ]
    },
    {
     "name": "stderr",
     "output_type": "stream",
     "text": [
      "\u001b[32m[I 2023-03-02 08:56:32,124]\u001b[0m Trial 11 finished with value: 0.8534659637741523 and parameters: {'units': 20, 'alpha': 0.09980044294806893, 'dropout': 0.323046993838489, 'lr': 7.027536805841907e-05, 'batch_size': 128, 'l2_kern': 0.0002850727633705092, 'l2_bias': 0.00903718080201554}. Best is trial 0 with value: 0.855286507100956.\u001b[0m\n",
      "C:\\Users\\User\\AppData\\Local\\Temp\\ipykernel_10400\\3785980822.py:37: DeprecationWarning: KerasClassifier is deprecated, use Sci-Keras (https://github.com/adriangb/scikeras) instead. See https://www.adriangb.com/scikeras/stable/migration.html for help migrating.\n",
      "  ('classifier', KerasClassifier(build_fn=self.create_model, verbose=0))\n"
     ]
    },
    {
     "name": "stdout",
     "output_type": "stream",
     "text": [
      "195/195 [==============================] - 0s 1ms/step\n",
      "195/195 [==============================] - 0s 2ms/step\n",
      "195/195 [==============================] - 0s 1ms/step\n"
     ]
    },
    {
     "name": "stderr",
     "output_type": "stream",
     "text": [
      "\u001b[32m[I 2023-03-02 08:56:50,271]\u001b[0m Trial 12 finished with value: 0.854646731900876 and parameters: {'units': 39, 'alpha': 0.01389446229584049, 'dropout': 0.46568004846606353, 'lr': 0.005301403138234043, 'batch_size': 128, 'l2_kern': 0.0002968077888827068, 'l2_bias': 3.463206306032597e-05}. Best is trial 0 with value: 0.855286507100956.\u001b[0m\n",
      "C:\\Users\\User\\AppData\\Local\\Temp\\ipykernel_10400\\3785980822.py:37: DeprecationWarning: KerasClassifier is deprecated, use Sci-Keras (https://github.com/adriangb/scikeras) instead. See https://www.adriangb.com/scikeras/stable/migration.html for help migrating.\n",
      "  ('classifier', KerasClassifier(build_fn=self.create_model, verbose=0))\n"
     ]
    },
    {
     "name": "stdout",
     "output_type": "stream",
     "text": [
      "195/195 [==============================] - 0s 1ms/step\n",
      "195/195 [==============================] - 0s 1ms/step\n",
      "195/195 [==============================] - 0s 1ms/step\n"
     ]
    },
    {
     "name": "stderr",
     "output_type": "stream",
     "text": [
      "\u001b[32m[I 2023-03-02 08:58:22,037]\u001b[0m Trial 13 finished with value: 0.8547204386579663 and parameters: {'units': 10, 'alpha': 0.0369263263673357, 'dropout': 0.2245926031678811, 'lr': 0.0004138360582475948, 'batch_size': 16, 'l2_kern': 5.623723345516907e-05, 'l2_bias': 1.6543081329511723e-05}. Best is trial 0 with value: 0.855286507100956.\u001b[0m\n",
      "C:\\Users\\User\\AppData\\Local\\Temp\\ipykernel_10400\\3785980822.py:37: DeprecationWarning: KerasClassifier is deprecated, use Sci-Keras (https://github.com/adriangb/scikeras) instead. See https://www.adriangb.com/scikeras/stable/migration.html for help migrating.\n",
      "  ('classifier', KerasClassifier(build_fn=self.create_model, verbose=0))\n"
     ]
    },
    {
     "name": "stdout",
     "output_type": "stream",
     "text": [
      "195/195 [==============================] - 0s 1ms/step\n",
      "195/195 [==============================] - 0s 1ms/step\n",
      "195/195 [==============================] - 0s 1ms/step\n"
     ]
    },
    {
     "name": "stderr",
     "output_type": "stream",
     "text": [
      "\u001b[32m[I 2023-03-02 08:58:47,430]\u001b[0m Trial 14 finished with value: 0.8536625177940724 and parameters: {'units': 13, 'alpha': 0.05390326785635425, 'dropout': 0.38936442861491527, 'lr': 0.0004514895253153057, 'batch_size': 1024, 'l2_kern': 8.333118265451473e-05, 'l2_bias': 3.1426427531115565e-05}. Best is trial 0 with value: 0.855286507100956.\u001b[0m\n",
      "C:\\Users\\User\\AppData\\Local\\Temp\\ipykernel_10400\\3785980822.py:37: DeprecationWarning: KerasClassifier is deprecated, use Sci-Keras (https://github.com/adriangb/scikeras) instead. See https://www.adriangb.com/scikeras/stable/migration.html for help migrating.\n",
      "  ('classifier', KerasClassifier(build_fn=self.create_model, verbose=0))\n"
     ]
    },
    {
     "name": "stdout",
     "output_type": "stream",
     "text": [
      "195/195 [==============================] - 0s 1ms/step\n",
      "195/195 [==============================] - 0s 1ms/step\n",
      "195/195 [==============================] - 0s 1ms/step\n"
     ]
    },
    {
     "name": "stderr",
     "output_type": "stream",
     "text": [
      "\u001b[32m[I 2023-03-02 09:01:12,768]\u001b[0m Trial 15 finished with value: 0.8550948370363626 and parameters: {'units': 9, 'alpha': 0.019029117867227618, 'dropout': 0.3722954613541557, 'lr': 0.00010477426352179028, 'batch_size': 16, 'l2_kern': 0.002919359546661864, 'l2_bias': 2.7859154027170333e-05}. Best is trial 0 with value: 0.855286507100956.\u001b[0m\n",
      "C:\\Users\\User\\AppData\\Local\\Temp\\ipykernel_10400\\3785980822.py:37: DeprecationWarning: KerasClassifier is deprecated, use Sci-Keras (https://github.com/adriangb/scikeras) instead. See https://www.adriangb.com/scikeras/stable/migration.html for help migrating.\n",
      "  ('classifier', KerasClassifier(build_fn=self.create_model, verbose=0))\n"
     ]
    },
    {
     "name": "stdout",
     "output_type": "stream",
     "text": [
      "195/195 [==============================] - 0s 1ms/step\n",
      "195/195 [==============================] - 0s 2ms/step\n",
      "195/195 [==============================] - 0s 1ms/step\n"
     ]
    },
    {
     "name": "stderr",
     "output_type": "stream",
     "text": [
      "\u001b[32m[I 2023-03-02 09:02:10,093]\u001b[0m Trial 16 finished with value: 0.8547682317024471 and parameters: {'units': 3, 'alpha': 0.04244675825316796, 'dropout': 0.24301092542753464, 'lr': 0.00014864349786026677, 'batch_size': 128, 'l2_kern': 0.000429718096941644, 'l2_bias': 0.0022573992145779632}. Best is trial 0 with value: 0.855286507100956.\u001b[0m\n",
      "C:\\Users\\User\\AppData\\Local\\Temp\\ipykernel_10400\\3785980822.py:37: DeprecationWarning: KerasClassifier is deprecated, use Sci-Keras (https://github.com/adriangb/scikeras) instead. See https://www.adriangb.com/scikeras/stable/migration.html for help migrating.\n",
      "  ('classifier', KerasClassifier(build_fn=self.create_model, verbose=0))\n"
     ]
    },
    {
     "name": "stdout",
     "output_type": "stream",
     "text": [
      "195/195 [==============================] - 0s 2ms/step\n",
      "195/195 [==============================] - 0s 1ms/step\n",
      "195/195 [==============================] - 0s 1ms/step\n"
     ]
    },
    {
     "name": "stderr",
     "output_type": "stream",
     "text": [
      "\u001b[32m[I 2023-03-02 09:03:15,589]\u001b[0m Trial 17 finished with value: 0.8543155743874831 and parameters: {'units': 20, 'alpha': 0.05825885013974528, 'dropout': 0.43813590314271655, 'lr': 0.0004782493828147651, 'batch_size': 16, 'l2_kern': 0.00015353969472306394, 'l2_bias': 1.0836805691192456e-05}. Best is trial 0 with value: 0.855286507100956.\u001b[0m\n",
      "C:\\Users\\User\\AppData\\Local\\Temp\\ipykernel_10400\\3785980822.py:37: DeprecationWarning: KerasClassifier is deprecated, use Sci-Keras (https://github.com/adriangb/scikeras) instead. See https://www.adriangb.com/scikeras/stable/migration.html for help migrating.\n",
      "  ('classifier', KerasClassifier(build_fn=self.create_model, verbose=0))\n"
     ]
    },
    {
     "name": "stdout",
     "output_type": "stream",
     "text": [
      "195/195 [==============================] - 0s 1ms/step\n",
      "195/195 [==============================] - 0s 1ms/step\n",
      "195/195 [==============================] - 0s 1ms/step\n"
     ]
    },
    {
     "name": "stderr",
     "output_type": "stream",
     "text": [
      "\u001b[32m[I 2023-03-02 09:03:34,517]\u001b[0m Trial 18 finished with value: 0.8551213063339432 and parameters: {'units': 27, 'alpha': 0.04265317294359804, 'dropout': 0.36447157781154116, 'lr': 0.0006806502249108628, 'batch_size': 1024, 'l2_kern': 7.251435651695514e-05, 'l2_bias': 0.00018107002010271268}. Best is trial 0 with value: 0.855286507100956.\u001b[0m\n",
      "C:\\Users\\User\\AppData\\Local\\Temp\\ipykernel_10400\\3785980822.py:37: DeprecationWarning: KerasClassifier is deprecated, use Sci-Keras (https://github.com/adriangb/scikeras) instead. See https://www.adriangb.com/scikeras/stable/migration.html for help migrating.\n",
      "  ('classifier', KerasClassifier(build_fn=self.create_model, verbose=0))\n"
     ]
    },
    {
     "name": "stdout",
     "output_type": "stream",
     "text": [
      "195/195 [==============================] - 0s 2ms/step\n",
      "195/195 [==============================] - 0s 1ms/step\n",
      "195/195 [==============================] - 0s 1ms/step\n"
     ]
    },
    {
     "name": "stderr",
     "output_type": "stream",
     "text": [
      "\u001b[32m[I 2023-03-02 09:03:55,374]\u001b[0m Trial 19 finished with value: 0.854327036777106 and parameters: {'units': 29, 'alpha': 0.08081266108683129, 'dropout': 0.4174089119091772, 'lr': 0.0005246465048866241, 'batch_size': 256, 'l2_kern': 0.0002378393022152887, 'l2_bias': 1.981124249747543e-05}. Best is trial 0 with value: 0.855286507100956.\u001b[0m\n",
      "C:\\Users\\User\\AppData\\Local\\Temp\\ipykernel_10400\\3785980822.py:37: DeprecationWarning: KerasClassifier is deprecated, use Sci-Keras (https://github.com/adriangb/scikeras) instead. See https://www.adriangb.com/scikeras/stable/migration.html for help migrating.\n",
      "  ('classifier', KerasClassifier(build_fn=self.create_model, verbose=0))\n"
     ]
    },
    {
     "name": "stdout",
     "output_type": "stream",
     "text": [
      "195/195 [==============================] - 0s 2ms/step\n",
      "195/195 [==============================] - 0s 1ms/step\n",
      "195/195 [==============================] - 0s 1ms/step\n"
     ]
    },
    {
     "name": "stderr",
     "output_type": "stream",
     "text": [
      "\u001b[32m[I 2023-03-02 09:04:06,728]\u001b[0m Trial 20 finished with value: 0.8551245027519282 and parameters: {'units': 2, 'alpha': 0.03329483056926147, 'dropout': 0.22401023736605857, 'lr': 0.005401161488287143, 'batch_size': 1024, 'l2_kern': 0.0010544013140798057, 'l2_bias': 0.00025146628405288413}. Best is trial 0 with value: 0.855286507100956.\u001b[0m\n",
      "C:\\Users\\User\\AppData\\Local\\Temp\\ipykernel_10400\\3785980822.py:37: DeprecationWarning: KerasClassifier is deprecated, use Sci-Keras (https://github.com/adriangb/scikeras) instead. See https://www.adriangb.com/scikeras/stable/migration.html for help migrating.\n",
      "  ('classifier', KerasClassifier(build_fn=self.create_model, verbose=0))\n"
     ]
    },
    {
     "name": "stdout",
     "output_type": "stream",
     "text": [
      "195/195 [==============================] - 0s 1ms/step\n",
      "195/195 [==============================] - 0s 1ms/step\n",
      "195/195 [==============================] - 0s 1ms/step\n"
     ]
    },
    {
     "name": "stderr",
     "output_type": "stream",
     "text": [
      "\u001b[32m[I 2023-03-02 09:05:19,408]\u001b[0m Trial 21 finished with value: 0.8546850006072991 and parameters: {'units': 21, 'alpha': 0.06478510587923003, 'dropout': 0.2371758067571501, 'lr': 0.0002625870825098309, 'batch_size': 16, 'l2_kern': 0.0003546729898621994, 'l2_bias': 1.1387951350602281e-05}. Best is trial 0 with value: 0.855286507100956.\u001b[0m\n",
      "C:\\Users\\User\\AppData\\Local\\Temp\\ipykernel_10400\\3785980822.py:37: DeprecationWarning: KerasClassifier is deprecated, use Sci-Keras (https://github.com/adriangb/scikeras) instead. See https://www.adriangb.com/scikeras/stable/migration.html for help migrating.\n",
      "  ('classifier', KerasClassifier(build_fn=self.create_model, verbose=0))\n"
     ]
    },
    {
     "name": "stdout",
     "output_type": "stream",
     "text": [
      "195/195 [==============================] - 0s 2ms/step\n",
      "195/195 [==============================] - 0s 1ms/step\n",
      "195/195 [==============================] - 0s 1ms/step\n"
     ]
    },
    {
     "name": "stderr",
     "output_type": "stream",
     "text": [
      "\u001b[32m[I 2023-03-02 09:05:51,246]\u001b[0m Trial 22 finished with value: 0.8542521833352609 and parameters: {'units': 10, 'alpha': 0.05935871901063809, 'dropout': 0.4004153666120678, 'lr': 0.0013968114341283634, 'batch_size': 32, 'l2_kern': 0.0031783449425138886, 'l2_bias': 0.0002895994849347805}. Best is trial 0 with value: 0.855286507100956.\u001b[0m\n",
      "C:\\Users\\User\\AppData\\Local\\Temp\\ipykernel_10400\\3785980822.py:37: DeprecationWarning: KerasClassifier is deprecated, use Sci-Keras (https://github.com/adriangb/scikeras) instead. See https://www.adriangb.com/scikeras/stable/migration.html for help migrating.\n",
      "  ('classifier', KerasClassifier(build_fn=self.create_model, verbose=0))\n"
     ]
    },
    {
     "name": "stdout",
     "output_type": "stream",
     "text": [
      "195/195 [==============================] - 0s 1ms/step\n",
      "195/195 [==============================] - 0s 1ms/step\n",
      "195/195 [==============================] - 0s 2ms/step\n"
     ]
    },
    {
     "name": "stderr",
     "output_type": "stream",
     "text": [
      "\u001b[32m[I 2023-03-02 09:06:11,829]\u001b[0m Trial 23 finished with value: 0.8526995495266019 and parameters: {'units': 31, 'alpha': 0.08967597066065883, 'dropout': 0.3979996147282232, 'lr': 0.0017147960596902469, 'batch_size': 128, 'l2_kern': 0.006745851136861944, 'l2_bias': 0.0021801905018058124}. Best is trial 0 with value: 0.855286507100956.\u001b[0m\n",
      "C:\\Users\\User\\AppData\\Local\\Temp\\ipykernel_10400\\3785980822.py:37: DeprecationWarning: KerasClassifier is deprecated, use Sci-Keras (https://github.com/adriangb/scikeras) instead. See https://www.adriangb.com/scikeras/stable/migration.html for help migrating.\n",
      "  ('classifier', KerasClassifier(build_fn=self.create_model, verbose=0))\n"
     ]
    },
    {
     "name": "stdout",
     "output_type": "stream",
     "text": [
      "195/195 [==============================] - 0s 2ms/step\n",
      "195/195 [==============================] - 0s 1ms/step\n",
      "195/195 [==============================] - 0s 1ms/step\n"
     ]
    },
    {
     "name": "stderr",
     "output_type": "stream",
     "text": [
      "\u001b[32m[I 2023-03-02 09:06:32,959]\u001b[0m Trial 24 finished with value: 0.8553689675268087 and parameters: {'units': 4, 'alpha': 0.0561615203310828, 'dropout': 0.4207671778656829, 'lr': 0.00954872890983597, 'batch_size': 64, 'l2_kern': 0.0003369979544239788, 'l2_bias': 0.008990420579225456}. Best is trial 24 with value: 0.8553689675268087.\u001b[0m\n",
      "C:\\Users\\User\\AppData\\Local\\Temp\\ipykernel_10400\\3785980822.py:37: DeprecationWarning: KerasClassifier is deprecated, use Sci-Keras (https://github.com/adriangb/scikeras) instead. See https://www.adriangb.com/scikeras/stable/migration.html for help migrating.\n",
      "  ('classifier', KerasClassifier(build_fn=self.create_model, verbose=0))\n"
     ]
    },
    {
     "name": "stdout",
     "output_type": "stream",
     "text": [
      "195/195 [==============================] - 0s 1ms/step\n",
      "195/195 [==============================] - 0s 1ms/step\n",
      "195/195 [==============================] - 0s 1ms/step\n"
     ]
    },
    {
     "name": "stderr",
     "output_type": "stream",
     "text": [
      "\u001b[32m[I 2023-03-02 09:07:09,028]\u001b[0m Trial 25 finished with value: 0.8507756895361324 and parameters: {'units': 40, 'alpha': 0.0288805325429922, 'dropout': 0.4751463729359849, 'lr': 0.007075438718719539, 'batch_size': 32, 'l2_kern': 0.006221605292879669, 'l2_bias': 0.001184752967485327}. Best is trial 24 with value: 0.8553689675268087.\u001b[0m\n",
      "C:\\Users\\User\\AppData\\Local\\Temp\\ipykernel_10400\\3785980822.py:37: DeprecationWarning: KerasClassifier is deprecated, use Sci-Keras (https://github.com/adriangb/scikeras) instead. See https://www.adriangb.com/scikeras/stable/migration.html for help migrating.\n",
      "  ('classifier', KerasClassifier(build_fn=self.create_model, verbose=0))\n"
     ]
    },
    {
     "name": "stdout",
     "output_type": "stream",
     "text": [
      "195/195 [==============================] - 0s 1ms/step\n",
      "195/195 [==============================] - 0s 1ms/step\n",
      "195/195 [==============================] - 0s 1ms/step\n"
     ]
    },
    {
     "name": "stderr",
     "output_type": "stream",
     "text": [
      "\u001b[32m[I 2023-03-02 09:08:07,642]\u001b[0m Trial 26 finished with value: 0.8547044474823641 and parameters: {'units': 29, 'alpha': 0.07826462675610414, 'dropout': 0.26582904359682824, 'lr': 0.00012232805203847916, 'batch_size': 64, 'l2_kern': 5.416597684435495e-05, 'l2_bias': 3.212351699569646e-05}. Best is trial 24 with value: 0.8553689675268087.\u001b[0m\n",
      "C:\\Users\\User\\AppData\\Local\\Temp\\ipykernel_10400\\3785980822.py:37: DeprecationWarning: KerasClassifier is deprecated, use Sci-Keras (https://github.com/adriangb/scikeras) instead. See https://www.adriangb.com/scikeras/stable/migration.html for help migrating.\n",
      "  ('classifier', KerasClassifier(build_fn=self.create_model, verbose=0))\n"
     ]
    },
    {
     "name": "stdout",
     "output_type": "stream",
     "text": [
      "195/195 [==============================] - 0s 1ms/step\n",
      "195/195 [==============================] - 0s 1ms/step\n",
      "195/195 [==============================] - 0s 1ms/step\n"
     ]
    },
    {
     "name": "stderr",
     "output_type": "stream",
     "text": [
      "\u001b[32m[I 2023-03-02 09:08:27,570]\u001b[0m Trial 27 finished with value: 0.8546334179859126 and parameters: {'units': 10, 'alpha': 0.05620204138431131, 'dropout': 0.49068973551215744, 'lr': 0.0012475719578631107, 'batch_size': 128, 'l2_kern': 0.0019572637067723424, 'l2_bias': 0.0011464610225441155}. Best is trial 24 with value: 0.8553689675268087.\u001b[0m\n",
      "C:\\Users\\User\\AppData\\Local\\Temp\\ipykernel_10400\\3785980822.py:37: DeprecationWarning: KerasClassifier is deprecated, use Sci-Keras (https://github.com/adriangb/scikeras) instead. See https://www.adriangb.com/scikeras/stable/migration.html for help migrating.\n",
      "  ('classifier', KerasClassifier(build_fn=self.create_model, verbose=0))\n"
     ]
    },
    {
     "name": "stdout",
     "output_type": "stream",
     "text": [
      "195/195 [==============================] - 0s 2ms/step\n",
      "195/195 [==============================] - 0s 1ms/step\n",
      "195/195 [==============================] - 0s 2ms/step\n"
     ]
    },
    {
     "name": "stderr",
     "output_type": "stream",
     "text": [
      "\u001b[32m[I 2023-03-02 09:08:43,618]\u001b[0m Trial 28 finished with value: 0.8545797597116396 and parameters: {'units': 20, 'alpha': 0.0876275292110766, 'dropout': 0.2658272372641695, 'lr': 0.0023109161909900607, 'batch_size': 256, 'l2_kern': 0.009818005910134774, 'l2_bias': 0.00023017741459187537}. Best is trial 24 with value: 0.8553689675268087.\u001b[0m\n",
      "C:\\Users\\User\\AppData\\Local\\Temp\\ipykernel_10400\\3785980822.py:37: DeprecationWarning: KerasClassifier is deprecated, use Sci-Keras (https://github.com/adriangb/scikeras) instead. See https://www.adriangb.com/scikeras/stable/migration.html for help migrating.\n",
      "  ('classifier', KerasClassifier(build_fn=self.create_model, verbose=0))\n"
     ]
    },
    {
     "name": "stdout",
     "output_type": "stream",
     "text": [
      "195/195 [==============================] - 0s 1ms/step\n",
      "195/195 [==============================] - 0s 1ms/step\n",
      "195/195 [==============================] - 0s 1ms/step\n"
     ]
    },
    {
     "name": "stderr",
     "output_type": "stream",
     "text": [
      "\u001b[32m[I 2023-03-02 09:08:54,693]\u001b[0m Trial 29 finished with value: 0.8535741338032795 and parameters: {'units': 31, 'alpha': 0.0881258064347686, 'dropout': 0.3455059391798196, 'lr': 0.006689102249121195, 'batch_size': 1024, 'l2_kern': 0.0027578858334136717, 'l2_bias': 0.009790349925008485}. Best is trial 24 with value: 0.8553689675268087.\u001b[0m\n",
      "C:\\Users\\User\\AppData\\Local\\Temp\\ipykernel_10400\\3785980822.py:37: DeprecationWarning: KerasClassifier is deprecated, use Sci-Keras (https://github.com/adriangb/scikeras) instead. See https://www.adriangb.com/scikeras/stable/migration.html for help migrating.\n",
      "  ('classifier', KerasClassifier(build_fn=self.create_model, verbose=0))\n"
     ]
    },
    {
     "name": "stdout",
     "output_type": "stream",
     "text": [
      "195/195 [==============================] - 1s 2ms/step\n",
      "195/195 [==============================] - 0s 2ms/step\n",
      "195/195 [==============================] - 0s 2ms/step\n"
     ]
    },
    {
     "name": "stderr",
     "output_type": "stream",
     "text": [
      "\u001b[32m[I 2023-03-02 09:09:21,856]\u001b[0m Trial 30 finished with value: 0.854524235604206 and parameters: {'units': 7, 'alpha': 0.0822928655804243, 'dropout': 0.45250475485192265, 'lr': 0.0008791673618219105, 'batch_size': 128, 'l2_kern': 0.00010008634029391107, 'l2_bias': 0.0010543302285372436}. Best is trial 24 with value: 0.8553689675268087.\u001b[0m\n",
      "C:\\Users\\User\\AppData\\Local\\Temp\\ipykernel_10400\\3785980822.py:37: DeprecationWarning: KerasClassifier is deprecated, use Sci-Keras (https://github.com/adriangb/scikeras) instead. See https://www.adriangb.com/scikeras/stable/migration.html for help migrating.\n",
      "  ('classifier', KerasClassifier(build_fn=self.create_model, verbose=0))\n"
     ]
    },
    {
     "name": "stdout",
     "output_type": "stream",
     "text": [
      "195/195 [==============================] - 0s 1ms/step\n",
      "195/195 [==============================] - 0s 1ms/step\n",
      "195/195 [==============================] - 0s 2ms/step\n"
     ]
    },
    {
     "name": "stderr",
     "output_type": "stream",
     "text": [
      "\u001b[32m[I 2023-03-02 09:11:13,059]\u001b[0m Trial 31 finished with value: 0.8527917266394129 and parameters: {'units': 17, 'alpha': 0.021733722351913495, 'dropout': 0.34504595671038407, 'lr': 0.0009030204650856007, 'batch_size': 16, 'l2_kern': 0.00109130337609553, 'l2_bias': 0.008629992732567907}. Best is trial 24 with value: 0.8553689675268087.\u001b[0m\n",
      "C:\\Users\\User\\AppData\\Local\\Temp\\ipykernel_10400\\3785980822.py:37: DeprecationWarning: KerasClassifier is deprecated, use Sci-Keras (https://github.com/adriangb/scikeras) instead. See https://www.adriangb.com/scikeras/stable/migration.html for help migrating.\n",
      "  ('classifier', KerasClassifier(build_fn=self.create_model, verbose=0))\n"
     ]
    },
    {
     "name": "stdout",
     "output_type": "stream",
     "text": [
      "195/195 [==============================] - 0s 1ms/step\n",
      "195/195 [==============================] - 0s 1ms/step\n",
      "195/195 [==============================] - 0s 1ms/step\n"
     ]
    },
    {
     "name": "stderr",
     "output_type": "stream",
     "text": [
      "\u001b[32m[I 2023-03-02 09:13:01,240]\u001b[0m Trial 32 finished with value: 0.8548443926540412 and parameters: {'units': 25, 'alpha': 0.0315951538751175, 'dropout': 0.3009404852111868, 'lr': 0.0001477247946431322, 'batch_size': 16, 'l2_kern': 0.0005012481537453839, 'l2_bias': 1.9395212231105265e-05}. Best is trial 24 with value: 0.8553689675268087.\u001b[0m\n",
      "C:\\Users\\User\\AppData\\Local\\Temp\\ipykernel_10400\\3785980822.py:37: DeprecationWarning: KerasClassifier is deprecated, use Sci-Keras (https://github.com/adriangb/scikeras) instead. See https://www.adriangb.com/scikeras/stable/migration.html for help migrating.\n",
      "  ('classifier', KerasClassifier(build_fn=self.create_model, verbose=0))\n"
     ]
    },
    {
     "name": "stdout",
     "output_type": "stream",
     "text": [
      "195/195 [==============================] - 0s 2ms/step\n",
      "195/195 [==============================] - 0s 1ms/step\n",
      "195/195 [==============================] - 0s 1ms/step\n"
     ]
    },
    {
     "name": "stderr",
     "output_type": "stream",
     "text": [
      "\u001b[32m[I 2023-03-02 09:13:15,000]\u001b[0m Trial 33 finished with value: 0.8529315923326347 and parameters: {'units': 20, 'alpha': 0.02547466273461528, 'dropout': 0.3910754932959206, 'lr': 0.0062264654247039496, 'batch_size': 128, 'l2_kern': 0.0009551705925416544, 'l2_bias': 0.0011190623746547578}. Best is trial 24 with value: 0.8553689675268087.\u001b[0m\n",
      "C:\\Users\\User\\AppData\\Local\\Temp\\ipykernel_10400\\3785980822.py:37: DeprecationWarning: KerasClassifier is deprecated, use Sci-Keras (https://github.com/adriangb/scikeras) instead. See https://www.adriangb.com/scikeras/stable/migration.html for help migrating.\n",
      "  ('classifier', KerasClassifier(build_fn=self.create_model, verbose=0))\n"
     ]
    },
    {
     "name": "stdout",
     "output_type": "stream",
     "text": [
      "195/195 [==============================] - 0s 1ms/step\n",
      "195/195 [==============================] - 0s 2ms/step\n",
      "195/195 [==============================] - 0s 1ms/step\n"
     ]
    },
    {
     "name": "stderr",
     "output_type": "stream",
     "text": [
      "\u001b[32m[I 2023-03-02 09:13:29,769]\u001b[0m Trial 34 finished with value: 0.8550370831167095 and parameters: {'units': 7, 'alpha': 0.03094114015395811, 'dropout': 0.336078210021842, 'lr': 0.002038761209239409, 'batch_size': 1024, 'l2_kern': 2.9034869137673998e-05, 'l2_bias': 0.001043548549953114}. Best is trial 24 with value: 0.8553689675268087.\u001b[0m\n",
      "C:\\Users\\User\\AppData\\Local\\Temp\\ipykernel_10400\\3785980822.py:37: DeprecationWarning: KerasClassifier is deprecated, use Sci-Keras (https://github.com/adriangb/scikeras) instead. See https://www.adriangb.com/scikeras/stable/migration.html for help migrating.\n",
      "  ('classifier', KerasClassifier(build_fn=self.create_model, verbose=0))\n"
     ]
    },
    {
     "name": "stdout",
     "output_type": "stream",
     "text": [
      "195/195 [==============================] - 0s 1ms/step\n",
      "195/195 [==============================] - 0s 1ms/step\n",
      "195/195 [==============================] - 0s 2ms/step\n"
     ]
    },
    {
     "name": "stderr",
     "output_type": "stream",
     "text": [
      "\u001b[32m[I 2023-03-02 09:14:04,344]\u001b[0m Trial 35 finished with value: 0.854324358624882 and parameters: {'units': 13, 'alpha': 0.02300910708964876, 'dropout': 0.4437538702663407, 'lr': 0.0016527121867508888, 'batch_size': 32, 'l2_kern': 0.004597066144605759, 'l2_bias': 0.0005063255744781069}. Best is trial 24 with value: 0.8553689675268087.\u001b[0m\n",
      "C:\\Users\\User\\AppData\\Local\\Temp\\ipykernel_10400\\3785980822.py:37: DeprecationWarning: KerasClassifier is deprecated, use Sci-Keras (https://github.com/adriangb/scikeras) instead. See https://www.adriangb.com/scikeras/stable/migration.html for help migrating.\n",
      "  ('classifier', KerasClassifier(build_fn=self.create_model, verbose=0))\n"
     ]
    },
    {
     "name": "stdout",
     "output_type": "stream",
     "text": [
      "195/195 [==============================] - 0s 1ms/step\n",
      "195/195 [==============================] - 0s 1ms/step\n",
      "195/195 [==============================] - 0s 1ms/step\n"
     ]
    },
    {
     "name": "stderr",
     "output_type": "stream",
     "text": [
      "\u001b[32m[I 2023-03-02 09:14:23,192]\u001b[0m Trial 36 finished with value: 0.8542468366896531 and parameters: {'units': 12, 'alpha': 0.020001827123139693, 'dropout': 0.30169901258874104, 'lr': 0.0020555572255006025, 'batch_size': 128, 'l2_kern': 1.5299956955454678e-05, 'l2_bias': 0.00013877257116996078}. Best is trial 24 with value: 0.8553689675268087.\u001b[0m\n",
      "C:\\Users\\User\\AppData\\Local\\Temp\\ipykernel_10400\\3785980822.py:37: DeprecationWarning: KerasClassifier is deprecated, use Sci-Keras (https://github.com/adriangb/scikeras) instead. See https://www.adriangb.com/scikeras/stable/migration.html for help migrating.\n",
      "  ('classifier', KerasClassifier(build_fn=self.create_model, verbose=0))\n"
     ]
    },
    {
     "name": "stdout",
     "output_type": "stream",
     "text": [
      "195/195 [==============================] - 0s 2ms/step\n",
      "195/195 [==============================] - 0s 2ms/step\n",
      "195/195 [==============================] - 0s 1ms/step\n"
     ]
    },
    {
     "name": "stderr",
     "output_type": "stream",
     "text": [
      "\u001b[32m[I 2023-03-02 09:17:18,732]\u001b[0m Trial 37 finished with value: 0.8548172448176392 and parameters: {'units': 24, 'alpha': 0.035391164230681844, 'dropout': 0.30424536944372615, 'lr': 7.118143916027909e-05, 'batch_size': 16, 'l2_kern': 0.0002697741117267238, 'l2_bias': 0.0011981271105918196}. Best is trial 24 with value: 0.8553689675268087.\u001b[0m\n",
      "C:\\Users\\User\\AppData\\Local\\Temp\\ipykernel_10400\\3785980822.py:37: DeprecationWarning: KerasClassifier is deprecated, use Sci-Keras (https://github.com/adriangb/scikeras) instead. See https://www.adriangb.com/scikeras/stable/migration.html for help migrating.\n",
      "  ('classifier', KerasClassifier(build_fn=self.create_model, verbose=0))\n"
     ]
    },
    {
     "name": "stdout",
     "output_type": "stream",
     "text": [
      "195/195 [==============================] - 0s 1ms/step\n",
      "195/195 [==============================] - 0s 1ms/step\n",
      "195/195 [==============================] - 0s 1ms/step\n"
     ]
    },
    {
     "name": "stderr",
     "output_type": "stream",
     "text": [
      "\u001b[32m[I 2023-03-02 09:18:24,935]\u001b[0m Trial 38 finished with value: 0.8538588210874871 and parameters: {'units': 8, 'alpha': 0.04690749232212176, 'dropout': 0.2821316276587489, 'lr': 0.0011370613659650692, 'batch_size': 32, 'l2_kern': 0.004301949692866699, 'l2_bias': 0.006052403436612622}. Best is trial 24 with value: 0.8553689675268087.\u001b[0m\n",
      "C:\\Users\\User\\AppData\\Local\\Temp\\ipykernel_10400\\3785980822.py:37: DeprecationWarning: KerasClassifier is deprecated, use Sci-Keras (https://github.com/adriangb/scikeras) instead. See https://www.adriangb.com/scikeras/stable/migration.html for help migrating.\n",
      "  ('classifier', KerasClassifier(build_fn=self.create_model, verbose=0))\n"
     ]
    },
    {
     "name": "stdout",
     "output_type": "stream",
     "text": [
      "195/195 [==============================] - 0s 1ms/step\n",
      "195/195 [==============================] - 0s 1ms/step\n",
      "195/195 [==============================] - 0s 1ms/step\n"
     ]
    },
    {
     "name": "stderr",
     "output_type": "stream",
     "text": [
      "\u001b[32m[I 2023-03-02 09:18:46,964]\u001b[0m Trial 39 finished with value: 0.8542150104295496 and parameters: {'units': 24, 'alpha': 0.030609496099321176, 'dropout': 0.39107047126934763, 'lr': 0.006808727125657216, 'batch_size': 128, 'l2_kern': 0.0001678662393216872, 'l2_bias': 0.0012098113192742285}. Best is trial 24 with value: 0.8553689675268087.\u001b[0m\n",
      "C:\\Users\\User\\AppData\\Local\\Temp\\ipykernel_10400\\3785980822.py:37: DeprecationWarning: KerasClassifier is deprecated, use Sci-Keras (https://github.com/adriangb/scikeras) instead. See https://www.adriangb.com/scikeras/stable/migration.html for help migrating.\n",
      "  ('classifier', KerasClassifier(build_fn=self.create_model, verbose=0))\n"
     ]
    },
    {
     "name": "stdout",
     "output_type": "stream",
     "text": [
      "195/195 [==============================] - 0s 1ms/step\n",
      "195/195 [==============================] - 0s 1ms/step\n",
      "195/195 [==============================] - 0s 1ms/step\n"
     ]
    },
    {
     "name": "stderr",
     "output_type": "stream",
     "text": [
      "\u001b[32m[I 2023-03-02 09:19:53,084]\u001b[0m Trial 40 finished with value: 0.8548540002067213 and parameters: {'units': 40, 'alpha': 0.030814678736858093, 'dropout': 0.4056058204241556, 'lr': 0.00018453194837611466, 'batch_size': 32, 'l2_kern': 0.0012592472240947655, 'l2_bias': 0.000333587971601651}. Best is trial 24 with value: 0.8553689675268087.\u001b[0m\n",
      "C:\\Users\\User\\AppData\\Local\\Temp\\ipykernel_10400\\3785980822.py:37: DeprecationWarning: KerasClassifier is deprecated, use Sci-Keras (https://github.com/adriangb/scikeras) instead. See https://www.adriangb.com/scikeras/stable/migration.html for help migrating.\n",
      "  ('classifier', KerasClassifier(build_fn=self.create_model, verbose=0))\n"
     ]
    },
    {
     "name": "stdout",
     "output_type": "stream",
     "text": [
      "195/195 [==============================] - 0s 1ms/step\n",
      "195/195 [==============================] - 0s 1ms/step\n",
      "195/195 [==============================] - 0s 1ms/step\n"
     ]
    },
    {
     "name": "stderr",
     "output_type": "stream",
     "text": [
      "\u001b[32m[I 2023-03-02 09:20:05,023]\u001b[0m Trial 41 finished with value: 0.8545031012554838 and parameters: {'units': 19, 'alpha': 0.02177912055877524, 'dropout': 0.28595149951324983, 'lr': 0.0021306759134849277, 'batch_size': 256, 'l2_kern': 0.00039752007310731773, 'l2_bias': 7.184747046627945e-05}. Best is trial 24 with value: 0.8553689675268087.\u001b[0m\n",
      "C:\\Users\\User\\AppData\\Local\\Temp\\ipykernel_10400\\3785980822.py:37: DeprecationWarning: KerasClassifier is deprecated, use Sci-Keras (https://github.com/adriangb/scikeras) instead. See https://www.adriangb.com/scikeras/stable/migration.html for help migrating.\n",
      "  ('classifier', KerasClassifier(build_fn=self.create_model, verbose=0))\n"
     ]
    },
    {
     "name": "stdout",
     "output_type": "stream",
     "text": [
      "195/195 [==============================] - 0s 1ms/step\n",
      "195/195 [==============================] - 0s 1ms/step\n",
      "195/195 [==============================] - 0s 1ms/step\n"
     ]
    },
    {
     "name": "stderr",
     "output_type": "stream",
     "text": [
      "\u001b[32m[I 2023-03-02 09:20:17,161]\u001b[0m Trial 42 finished with value: 0.8546238764105399 and parameters: {'units': 4, 'alpha': 0.03658546752148962, 'dropout': 0.3904827627568721, 'lr': 0.0033980874278221698, 'batch_size': 1024, 'l2_kern': 0.00019774253164225506, 'l2_bias': 0.0004185121310436402}. Best is trial 24 with value: 0.8553689675268087.\u001b[0m\n",
      "C:\\Users\\User\\AppData\\Local\\Temp\\ipykernel_10400\\3785980822.py:37: DeprecationWarning: KerasClassifier is deprecated, use Sci-Keras (https://github.com/adriangb/scikeras) instead. See https://www.adriangb.com/scikeras/stable/migration.html for help migrating.\n",
      "  ('classifier', KerasClassifier(build_fn=self.create_model, verbose=0))\n"
     ]
    },
    {
     "name": "stdout",
     "output_type": "stream",
     "text": [
      "195/195 [==============================] - 0s 1ms/step\n",
      "195/195 [==============================] - 0s 1ms/step\n",
      "195/195 [==============================] - 0s 1ms/step\n"
     ]
    },
    {
     "name": "stderr",
     "output_type": "stream",
     "text": [
      "\u001b[32m[I 2023-03-02 09:20:32,356]\u001b[0m Trial 43 finished with value: 0.8545837520605017 and parameters: {'units': 8, 'alpha': 0.09094065190438223, 'dropout': 0.2660853553220972, 'lr': 0.0021264217251733292, 'batch_size': 512, 'l2_kern': 7.324898967518334e-05, 'l2_bias': 0.008391234275128561}. Best is trial 24 with value: 0.8553689675268087.\u001b[0m\n",
      "C:\\Users\\User\\AppData\\Local\\Temp\\ipykernel_10400\\3785980822.py:37: DeprecationWarning: KerasClassifier is deprecated, use Sci-Keras (https://github.com/adriangb/scikeras) instead. See https://www.adriangb.com/scikeras/stable/migration.html for help migrating.\n",
      "  ('classifier', KerasClassifier(build_fn=self.create_model, verbose=0))\n"
     ]
    },
    {
     "name": "stdout",
     "output_type": "stream",
     "text": [
      "195/195 [==============================] - 0s 1ms/step\n",
      "195/195 [==============================] - 0s 1ms/step\n",
      "195/195 [==============================] - 0s 1ms/step\n"
     ]
    },
    {
     "name": "stderr",
     "output_type": "stream",
     "text": [
      "\u001b[32m[I 2023-03-02 09:20:42,759]\u001b[0m Trial 44 finished with value: 0.8535777041775864 and parameters: {'units': 16, 'alpha': 0.06794577800897028, 'dropout': 0.22428161548224348, 'lr': 0.00677159866846476, 'batch_size': 512, 'l2_kern': 3.0844940929169274e-05, 'l2_bias': 0.006292780152315866}. Best is trial 24 with value: 0.8553689675268087.\u001b[0m\n",
      "C:\\Users\\User\\AppData\\Local\\Temp\\ipykernel_10400\\3785980822.py:37: DeprecationWarning: KerasClassifier is deprecated, use Sci-Keras (https://github.com/adriangb/scikeras) instead. See https://www.adriangb.com/scikeras/stable/migration.html for help migrating.\n",
      "  ('classifier', KerasClassifier(build_fn=self.create_model, verbose=0))\n"
     ]
    },
    {
     "name": "stdout",
     "output_type": "stream",
     "text": [
      "195/195 [==============================] - 0s 1ms/step\n",
      "195/195 [==============================] - 0s 1ms/step\n",
      "195/195 [==============================] - 0s 1ms/step\n"
     ]
    },
    {
     "name": "stderr",
     "output_type": "stream",
     "text": [
      "\u001b[32m[I 2023-03-02 09:21:20,763]\u001b[0m Trial 45 finished with value: 0.8546106906291119 and parameters: {'units': 7, 'alpha': 0.010048505466839459, 'dropout': 0.3984376582771725, 'lr': 0.0008985692991249375, 'batch_size': 64, 'l2_kern': 0.0062681021664496945, 'l2_bias': 0.0004216149869789242}. Best is trial 24 with value: 0.8553689675268087.\u001b[0m\n",
      "C:\\Users\\User\\AppData\\Local\\Temp\\ipykernel_10400\\3785980822.py:37: DeprecationWarning: KerasClassifier is deprecated, use Sci-Keras (https://github.com/adriangb/scikeras) instead. See https://www.adriangb.com/scikeras/stable/migration.html for help migrating.\n",
      "  ('classifier', KerasClassifier(build_fn=self.create_model, verbose=0))\n"
     ]
    },
    {
     "name": "stdout",
     "output_type": "stream",
     "text": [
      "195/195 [==============================] - 0s 1ms/step\n",
      "195/195 [==============================] - 0s 1ms/step\n",
      "195/195 [==============================] - 0s 1ms/step\n"
     ]
    },
    {
     "name": "stderr",
     "output_type": "stream",
     "text": [
      "\u001b[32m[I 2023-03-02 09:21:43,979]\u001b[0m Trial 46 finished with value: 0.8542219945351284 and parameters: {'units': 10, 'alpha': 0.0879747722246495, 'dropout': 0.3743674008598289, 'lr': 0.0009782770206627407, 'batch_size': 128, 'l2_kern': 0.0016914706524403798, 'l2_bias': 0.0012518469018475509}. Best is trial 24 with value: 0.8553689675268087.\u001b[0m\n",
      "C:\\Users\\User\\AppData\\Local\\Temp\\ipykernel_10400\\3785980822.py:37: DeprecationWarning: KerasClassifier is deprecated, use Sci-Keras (https://github.com/adriangb/scikeras) instead. See https://www.adriangb.com/scikeras/stable/migration.html for help migrating.\n",
      "  ('classifier', KerasClassifier(build_fn=self.create_model, verbose=0))\n"
     ]
    },
    {
     "name": "stdout",
     "output_type": "stream",
     "text": [
      "195/195 [==============================] - 0s 1ms/step\n",
      "195/195 [==============================] - 0s 1ms/step\n",
      "195/195 [==============================] - 0s 1ms/step\n"
     ]
    },
    {
     "name": "stderr",
     "output_type": "stream",
     "text": [
      "\u001b[32m[I 2023-03-02 09:22:17,463]\u001b[0m Trial 47 finished with value: 0.8545889782359616 and parameters: {'units': 37, 'alpha': 0.04394396122713451, 'dropout': 0.47323086919494256, 'lr': 0.001746496027952291, 'batch_size': 64, 'l2_kern': 0.0004527006025489151, 'l2_bias': 0.006565679942041016}. Best is trial 24 with value: 0.8553689675268087.\u001b[0m\n",
      "C:\\Users\\User\\AppData\\Local\\Temp\\ipykernel_10400\\3785980822.py:37: DeprecationWarning: KerasClassifier is deprecated, use Sci-Keras (https://github.com/adriangb/scikeras) instead. See https://www.adriangb.com/scikeras/stable/migration.html for help migrating.\n",
      "  ('classifier', KerasClassifier(build_fn=self.create_model, verbose=0))\n"
     ]
    },
    {
     "name": "stdout",
     "output_type": "stream",
     "text": [
      "195/195 [==============================] - 0s 2ms/step\n",
      "195/195 [==============================] - 0s 1ms/step\n",
      "195/195 [==============================] - 0s 1ms/step\n"
     ]
    },
    {
     "name": "stderr",
     "output_type": "stream",
     "text": [
      "\u001b[32m[I 2023-03-02 09:23:02,269]\u001b[0m Trial 48 finished with value: 0.854655968469185 and parameters: {'units': 26, 'alpha': 0.08564753631006732, 'dropout': 0.21289201807260055, 'lr': 0.0068498967394983725, 'batch_size': 32, 'l2_kern': 0.0013649600008670553, 'l2_bias': 0.008805583875045634}. Best is trial 24 with value: 0.8553689675268087.\u001b[0m\n",
      "C:\\Users\\User\\AppData\\Local\\Temp\\ipykernel_10400\\3785980822.py:37: DeprecationWarning: KerasClassifier is deprecated, use Sci-Keras (https://github.com/adriangb/scikeras) instead. See https://www.adriangb.com/scikeras/stable/migration.html for help migrating.\n",
      "  ('classifier', KerasClassifier(build_fn=self.create_model, verbose=0))\n"
     ]
    },
    {
     "name": "stdout",
     "output_type": "stream",
     "text": [
      "195/195 [==============================] - 0s 1ms/step\n",
      "195/195 [==============================] - 0s 1ms/step\n",
      "195/195 [==============================] - 0s 1ms/step\n"
     ]
    },
    {
     "name": "stderr",
     "output_type": "stream",
     "text": [
      "\u001b[32m[I 2023-03-02 09:23:45,459]\u001b[0m Trial 49 finished with value: 0.8551046149879639 and parameters: {'units': 23, 'alpha': 0.037669949145162196, 'dropout': 0.33963912882095804, 'lr': 0.00013138187753002217, 'batch_size': 128, 'l2_kern': 0.00019598788641636615, 'l2_bias': 7.875197101033204e-05}. Best is trial 24 with value: 0.8553689675268087.\u001b[0m\n",
      "C:\\Users\\User\\AppData\\Local\\Temp\\ipykernel_10400\\3785980822.py:37: DeprecationWarning: KerasClassifier is deprecated, use Sci-Keras (https://github.com/adriangb/scikeras) instead. See https://www.adriangb.com/scikeras/stable/migration.html for help migrating.\n",
      "  ('classifier', KerasClassifier(build_fn=self.create_model, verbose=0))\n"
     ]
    },
    {
     "name": "stdout",
     "output_type": "stream",
     "text": [
      "195/195 [==============================] - 0s 2ms/step\n",
      "195/195 [==============================] - 0s 1ms/step\n",
      "195/195 [==============================] - 0s 1ms/step\n"
     ]
    },
    {
     "name": "stderr",
     "output_type": "stream",
     "text": [
      "\u001b[32m[I 2023-03-02 09:24:02,308]\u001b[0m Trial 50 finished with value: 0.8548397724168906 and parameters: {'units': 30, 'alpha': 0.0610426995567725, 'dropout': 0.45804939425756097, 'lr': 0.000919506061316751, 'batch_size': 1024, 'l2_kern': 1.4656893849658559e-05, 'l2_bias': 0.00025146628405288413}. Best is trial 24 with value: 0.8553689675268087.\u001b[0m\n",
      "C:\\Users\\User\\AppData\\Local\\Temp\\ipykernel_10400\\3785980822.py:37: DeprecationWarning: KerasClassifier is deprecated, use Sci-Keras (https://github.com/adriangb/scikeras) instead. See https://www.adriangb.com/scikeras/stable/migration.html for help migrating.\n",
      "  ('classifier', KerasClassifier(build_fn=self.create_model, verbose=0))\n"
     ]
    },
    {
     "name": "stdout",
     "output_type": "stream",
     "text": [
      "195/195 [==============================] - 0s 1ms/step\n",
      "195/195 [==============================] - 0s 1ms/step\n",
      "195/195 [==============================] - 0s 1ms/step\n"
     ]
    },
    {
     "name": "stderr",
     "output_type": "stream",
     "text": [
      "\u001b[32m[I 2023-03-02 09:24:10,239]\u001b[0m Trial 51 finished with value: 0.8540571414863578 and parameters: {'units': 36, 'alpha': 0.03572803777022171, 'dropout': 0.27055043675234414, 'lr': 0.006689102249121195, 'batch_size': 1024, 'l2_kern': 0.00045517089950285964, 'l2_bias': 3.749848395946562e-05}. Best is trial 24 with value: 0.8553689675268087.\u001b[0m\n",
      "C:\\Users\\User\\AppData\\Local\\Temp\\ipykernel_10400\\3785980822.py:37: DeprecationWarning: KerasClassifier is deprecated, use Sci-Keras (https://github.com/adriangb/scikeras) instead. See https://www.adriangb.com/scikeras/stable/migration.html for help migrating.\n",
      "  ('classifier', KerasClassifier(build_fn=self.create_model, verbose=0))\n"
     ]
    },
    {
     "name": "stdout",
     "output_type": "stream",
     "text": [
      "195/195 [==============================] - 0s 1ms/step\n",
      "195/195 [==============================] - 0s 1ms/step\n",
      "195/195 [==============================] - 0s 1ms/step\n"
     ]
    },
    {
     "name": "stderr",
     "output_type": "stream",
     "text": [
      "\u001b[32m[I 2023-03-02 09:25:39,179]\u001b[0m Trial 52 finished with value: 0.8545418534558434 and parameters: {'units': 10, 'alpha': 0.0315951538751175, 'dropout': 0.2245926031678811, 'lr': 0.0004138360582475948, 'batch_size': 16, 'l2_kern': 0.0005012481537453839, 'l2_bias': 1.9395212231105265e-05}. Best is trial 24 with value: 0.8553689675268087.\u001b[0m\n",
      "C:\\Users\\User\\AppData\\Local\\Temp\\ipykernel_10400\\3785980822.py:37: DeprecationWarning: KerasClassifier is deprecated, use Sci-Keras (https://github.com/adriangb/scikeras) instead. See https://www.adriangb.com/scikeras/stable/migration.html for help migrating.\n",
      "  ('classifier', KerasClassifier(build_fn=self.create_model, verbose=0))\n"
     ]
    },
    {
     "name": "stdout",
     "output_type": "stream",
     "text": [
      "195/195 [==============================] - 0s 1ms/step\n",
      "195/195 [==============================] - 0s 1ms/step\n",
      "195/195 [==============================] - 1s 2ms/step\n"
     ]
    },
    {
     "name": "stderr",
     "output_type": "stream",
     "text": [
      "\u001b[32m[I 2023-03-02 09:27:32,754]\u001b[0m Trial 53 finished with value: 0.8549368773637589 and parameters: {'units': 9, 'alpha': 0.019029117867227618, 'dropout': 0.3722954613541557, 'lr': 0.0002625870825098309, 'batch_size': 16, 'l2_kern': 0.002919359546661864, 'l2_bias': 2.7859154027170333e-05}. Best is trial 24 with value: 0.8553689675268087.\u001b[0m\n",
      "C:\\Users\\User\\AppData\\Local\\Temp\\ipykernel_10400\\3785980822.py:37: DeprecationWarning: KerasClassifier is deprecated, use Sci-Keras (https://github.com/adriangb/scikeras) instead. See https://www.adriangb.com/scikeras/stable/migration.html for help migrating.\n",
      "  ('classifier', KerasClassifier(build_fn=self.create_model, verbose=0))\n"
     ]
    },
    {
     "name": "stdout",
     "output_type": "stream",
     "text": [
      "195/195 [==============================] - 0s 2ms/step\n",
      "195/195 [==============================] - 0s 2ms/step\n",
      "195/195 [==============================] - 1s 4ms/step\n"
     ]
    },
    {
     "name": "stderr",
     "output_type": "stream",
     "text": [
      "\u001b[32m[I 2023-03-02 09:28:09,323]\u001b[0m Trial 54 finished with value: 0.8549064262677413 and parameters: {'units': 37, 'alpha': 0.04394396122713451, 'dropout': 0.47323086919494256, 'lr': 0.001746496027952291, 'batch_size': 64, 'l2_kern': 0.0004527006025489151, 'l2_bias': 0.002035155876841646}. Best is trial 24 with value: 0.8553689675268087.\u001b[0m\n",
      "C:\\Users\\User\\AppData\\Local\\Temp\\ipykernel_10400\\3785980822.py:37: DeprecationWarning: KerasClassifier is deprecated, use Sci-Keras (https://github.com/adriangb/scikeras) instead. See https://www.adriangb.com/scikeras/stable/migration.html for help migrating.\n",
      "  ('classifier', KerasClassifier(build_fn=self.create_model, verbose=0))\n"
     ]
    },
    {
     "name": "stdout",
     "output_type": "stream",
     "text": [
      "195/195 [==============================] - 1s 2ms/step\n",
      "195/195 [==============================] - 0s 1ms/step\n",
      "195/195 [==============================] - 0s 1ms/step\n"
     ]
    },
    {
     "name": "stderr",
     "output_type": "stream",
     "text": [
      "\u001b[32m[I 2023-03-02 09:30:04,882]\u001b[0m Trial 55 finished with value: 0.8539244298730716 and parameters: {'units': 25, 'alpha': 0.0315951538751175, 'dropout': 0.45250475485192265, 'lr': 0.0008791673618219105, 'batch_size': 16, 'l2_kern': 0.0005012481537453839, 'l2_bias': 0.0010543302285372436}. Best is trial 24 with value: 0.8553689675268087.\u001b[0m\n",
      "C:\\Users\\User\\AppData\\Local\\Temp\\ipykernel_10400\\3785980822.py:37: DeprecationWarning: KerasClassifier is deprecated, use Sci-Keras (https://github.com/adriangb/scikeras) instead. See https://www.adriangb.com/scikeras/stable/migration.html for help migrating.\n",
      "  ('classifier', KerasClassifier(build_fn=self.create_model, verbose=0))\n"
     ]
    },
    {
     "name": "stdout",
     "output_type": "stream",
     "text": [
      "195/195 [==============================] - 0s 1ms/step\n",
      "195/195 [==============================] - 0s 1ms/step\n",
      "195/195 [==============================] - 0s 1ms/step\n"
     ]
    },
    {
     "name": "stderr",
     "output_type": "stream",
     "text": [
      "\u001b[32m[I 2023-03-02 09:30:21,849]\u001b[0m Trial 56 finished with value: 0.8550104751563962 and parameters: {'units': 20, 'alpha': 0.0639855974134986, 'dropout': 0.22958713120678376, 'lr': 0.00082296629443438, 'batch_size': 1024, 'l2_kern': 1.3148403748029467e-05, 'l2_bias': 0.0028342988368894556}. Best is trial 24 with value: 0.8553689675268087.\u001b[0m\n",
      "C:\\Users\\User\\AppData\\Local\\Temp\\ipykernel_10400\\3785980822.py:37: DeprecationWarning: KerasClassifier is deprecated, use Sci-Keras (https://github.com/adriangb/scikeras) instead. See https://www.adriangb.com/scikeras/stable/migration.html for help migrating.\n",
      "  ('classifier', KerasClassifier(build_fn=self.create_model, verbose=0))\n"
     ]
    },
    {
     "name": "stdout",
     "output_type": "stream",
     "text": [
      "195/195 [==============================] - 0s 1ms/step\n",
      "195/195 [==============================] - 0s 1ms/step\n",
      "195/195 [==============================] - 0s 1ms/step\n"
     ]
    },
    {
     "name": "stderr",
     "output_type": "stream",
     "text": [
      "\u001b[32m[I 2023-03-02 09:30:45,542]\u001b[0m Trial 57 finished with value: 0.855634275696429 and parameters: {'units': 10, 'alpha': 0.0369263263673357, 'dropout': 0.2245926031678811, 'lr': 0.0004138360582475948, 'batch_size': 256, 'l2_kern': 0.000743392789060623, 'l2_bias': 0.0025376081364391436}. Best is trial 57 with value: 0.855634275696429.\u001b[0m\n",
      "C:\\Users\\User\\AppData\\Local\\Temp\\ipykernel_10400\\3785980822.py:37: DeprecationWarning: KerasClassifier is deprecated, use Sci-Keras (https://github.com/adriangb/scikeras) instead. See https://www.adriangb.com/scikeras/stable/migration.html for help migrating.\n",
      "  ('classifier', KerasClassifier(build_fn=self.create_model, verbose=0))\n"
     ]
    },
    {
     "name": "stdout",
     "output_type": "stream",
     "text": [
      "195/195 [==============================] - 0s 1ms/step\n",
      "195/195 [==============================] - 0s 1ms/step\n",
      "195/195 [==============================] - 0s 1ms/step\n"
     ]
    },
    {
     "name": "stderr",
     "output_type": "stream",
     "text": [
      "\u001b[32m[I 2023-03-02 09:31:04,533]\u001b[0m Trial 58 finished with value: 0.8540996264993631 and parameters: {'units': 37, 'alpha': 0.0639855974134986, 'dropout': 0.3743674008598289, 'lr': 0.0009782770206627407, 'batch_size': 128, 'l2_kern': 1.3148403748029467e-05, 'l2_bias': 3.4149237575958514e-05}. Best is trial 57 with value: 0.855634275696429.\u001b[0m\n",
      "C:\\Users\\User\\AppData\\Local\\Temp\\ipykernel_10400\\3785980822.py:37: DeprecationWarning: KerasClassifier is deprecated, use Sci-Keras (https://github.com/adriangb/scikeras) instead. See https://www.adriangb.com/scikeras/stable/migration.html for help migrating.\n",
      "  ('classifier', KerasClassifier(build_fn=self.create_model, verbose=0))\n"
     ]
    },
    {
     "name": "stdout",
     "output_type": "stream",
     "text": [
      "195/195 [==============================] - 0s 1ms/step\n",
      "195/195 [==============================] - 0s 1ms/step\n",
      "195/195 [==============================] - 0s 1ms/step\n"
     ]
    },
    {
     "name": "stderr",
     "output_type": "stream",
     "text": [
      "\u001b[32m[I 2023-03-02 09:32:22,366]\u001b[0m Trial 59 finished with value: 0.8553074615405145 and parameters: {'units': 18, 'alpha': 0.019029117867227618, 'dropout': 0.44707756300828394, 'lr': 0.00010477426352179028, 'batch_size': 64, 'l2_kern': 0.0004527006025489151, 'l2_bias': 0.001233088290087323}. Best is trial 57 with value: 0.855634275696429.\u001b[0m\n",
      "C:\\Users\\User\\AppData\\Local\\Temp\\ipykernel_10400\\3785980822.py:37: DeprecationWarning: KerasClassifier is deprecated, use Sci-Keras (https://github.com/adriangb/scikeras) instead. See https://www.adriangb.com/scikeras/stable/migration.html for help migrating.\n",
      "  ('classifier', KerasClassifier(build_fn=self.create_model, verbose=0))\n"
     ]
    },
    {
     "name": "stdout",
     "output_type": "stream",
     "text": [
      "195/195 [==============================] - 0s 1ms/step\n",
      "195/195 [==============================] - 0s 1ms/step\n",
      "195/195 [==============================] - 0s 1ms/step\n"
     ]
    },
    {
     "name": "stderr",
     "output_type": "stream",
     "text": [
      "\u001b[32m[I 2023-03-02 09:33:01,529]\u001b[0m Trial 60 finished with value: 0.8489348365132653 and parameters: {'units': 25, 'alpha': 0.023005584892339878, 'dropout': 0.36447157781154116, 'lr': 0.0001477247946431322, 'batch_size': 1024, 'l2_kern': 7.251435651695514e-05, 'l2_bias': 1.9395212231105265e-05}. Best is trial 57 with value: 0.855634275696429.\u001b[0m\n",
      "C:\\Users\\User\\AppData\\Local\\Temp\\ipykernel_10400\\3785980822.py:37: DeprecationWarning: KerasClassifier is deprecated, use Sci-Keras (https://github.com/adriangb/scikeras) instead. See https://www.adriangb.com/scikeras/stable/migration.html for help migrating.\n",
      "  ('classifier', KerasClassifier(build_fn=self.create_model, verbose=0))\n"
     ]
    },
    {
     "name": "stdout",
     "output_type": "stream",
     "text": [
      "195/195 [==============================] - 0s 1ms/step\n",
      "195/195 [==============================] - 0s 1ms/step\n",
      "195/195 [==============================] - 0s 1ms/step\n"
     ]
    },
    {
     "name": "stderr",
     "output_type": "stream",
     "text": [
      "\u001b[32m[I 2023-03-02 09:33:19,241]\u001b[0m Trial 61 finished with value: 0.8537942371579034 and parameters: {'units': 2, 'alpha': 0.03329483056926147, 'dropout': 0.22401023736605857, 'lr': 0.005301403138234043, 'batch_size': 128, 'l2_kern': 0.0002968077888827068, 'l2_bias': 0.00025146628405288413}. Best is trial 57 with value: 0.855634275696429.\u001b[0m\n",
      "C:\\Users\\User\\AppData\\Local\\Temp\\ipykernel_10400\\3785980822.py:37: DeprecationWarning: KerasClassifier is deprecated, use Sci-Keras (https://github.com/adriangb/scikeras) instead. See https://www.adriangb.com/scikeras/stable/migration.html for help migrating.\n",
      "  ('classifier', KerasClassifier(build_fn=self.create_model, verbose=0))\n"
     ]
    },
    {
     "name": "stdout",
     "output_type": "stream",
     "text": [
      "195/195 [==============================] - 0s 1ms/step\n",
      "195/195 [==============================] - 0s 1ms/step\n",
      "195/195 [==============================] - 0s 1ms/step\n"
     ]
    },
    {
     "name": "stderr",
     "output_type": "stream",
     "text": [
      "\u001b[32m[I 2023-03-02 09:33:31,158]\u001b[0m Trial 62 finished with value: 0.8540241695816824 and parameters: {'units': 4, 'alpha': 0.0561615203310828, 'dropout': 0.4207671778656829, 'lr': 0.00954872890983597, 'batch_size': 256, 'l2_kern': 0.0002378393022152887, 'l2_bias': 1.981124249747543e-05}. Best is trial 57 with value: 0.855634275696429.\u001b[0m\n",
      "C:\\Users\\User\\AppData\\Local\\Temp\\ipykernel_10400\\3785980822.py:37: DeprecationWarning: KerasClassifier is deprecated, use Sci-Keras (https://github.com/adriangb/scikeras) instead. See https://www.adriangb.com/scikeras/stable/migration.html for help migrating.\n",
      "  ('classifier', KerasClassifier(build_fn=self.create_model, verbose=0))\n"
     ]
    },
    {
     "name": "stdout",
     "output_type": "stream",
     "text": [
      "195/195 [==============================] - 0s 1ms/step\n",
      "195/195 [==============================] - 0s 1ms/step\n",
      "195/195 [==============================] - 0s 1ms/step\n"
     ]
    },
    {
     "name": "stderr",
     "output_type": "stream",
     "text": [
      "\u001b[32m[I 2023-03-02 09:33:46,989]\u001b[0m Trial 63 finished with value: 0.8545060701069511 and parameters: {'units': 7, 'alpha': 0.08597228454486455, 'dropout': 0.2668954759197085, 'lr': 0.002038761209239409, 'batch_size': 1024, 'l2_kern': 1.3831552282488648e-05, 'l2_bias': 0.00562526837293198}. Best is trial 57 with value: 0.855634275696429.\u001b[0m\n",
      "C:\\Users\\User\\AppData\\Local\\Temp\\ipykernel_10400\\3785980822.py:37: DeprecationWarning: KerasClassifier is deprecated, use Sci-Keras (https://github.com/adriangb/scikeras) instead. See https://www.adriangb.com/scikeras/stable/migration.html for help migrating.\n",
      "  ('classifier', KerasClassifier(build_fn=self.create_model, verbose=0))\n"
     ]
    },
    {
     "name": "stdout",
     "output_type": "stream",
     "text": [
      "195/195 [==============================] - 0s 1ms/step\n",
      "195/195 [==============================] - 0s 1ms/step\n",
      "195/195 [==============================] - 0s 1ms/step\n"
     ]
    },
    {
     "name": "stderr",
     "output_type": "stream",
     "text": [
      "\u001b[32m[I 2023-03-02 09:33:57,102]\u001b[0m Trial 64 finished with value: 0.854970231206567 and parameters: {'units': 2, 'alpha': 0.04265317294359804, 'dropout': 0.24714631146333166, 'lr': 0.009409656935774583, 'batch_size': 1024, 'l2_kern': 7.251435651695514e-05, 'l2_bias': 0.00025146628405288413}. Best is trial 57 with value: 0.855634275696429.\u001b[0m\n",
      "C:\\Users\\User\\AppData\\Local\\Temp\\ipykernel_10400\\3785980822.py:37: DeprecationWarning: KerasClassifier is deprecated, use Sci-Keras (https://github.com/adriangb/scikeras) instead. See https://www.adriangb.com/scikeras/stable/migration.html for help migrating.\n",
      "  ('classifier', KerasClassifier(build_fn=self.create_model, verbose=0))\n"
     ]
    },
    {
     "name": "stdout",
     "output_type": "stream",
     "text": [
      "195/195 [==============================] - 0s 2ms/step\n",
      "195/195 [==============================] - 0s 1ms/step\n",
      "195/195 [==============================] - 0s 1ms/step\n"
     ]
    },
    {
     "name": "stderr",
     "output_type": "stream",
     "text": [
      "\u001b[32m[I 2023-03-02 09:34:56,733]\u001b[0m Trial 65 finished with value: 0.8552339073506409 and parameters: {'units': 33, 'alpha': 0.037669949145162196, 'dropout': 0.33963912882095804, 'lr': 0.00013138187753002217, 'batch_size': 128, 'l2_kern': 0.00019598788641636615, 'l2_bias': 7.875197101033204e-05}. Best is trial 57 with value: 0.855634275696429.\u001b[0m\n",
      "C:\\Users\\User\\AppData\\Local\\Temp\\ipykernel_10400\\3785980822.py:37: DeprecationWarning: KerasClassifier is deprecated, use Sci-Keras (https://github.com/adriangb/scikeras) instead. See https://www.adriangb.com/scikeras/stable/migration.html for help migrating.\n",
      "  ('classifier', KerasClassifier(build_fn=self.create_model, verbose=0))\n"
     ]
    },
    {
     "name": "stdout",
     "output_type": "stream",
     "text": [
      "195/195 [==============================] - 0s 1ms/step\n",
      "195/195 [==============================] - 0s 1ms/step\n",
      "195/195 [==============================] - 0s 1ms/step\n"
     ]
    },
    {
     "name": "stderr",
     "output_type": "stream",
     "text": [
      "\u001b[32m[I 2023-03-02 09:36:40,636]\u001b[0m Trial 66 finished with value: 0.8530942712508068 and parameters: {'units': 36, 'alpha': 0.0369263263673357, 'dropout': 0.46954150419174545, 'lr': 0.0031592485415374476, 'batch_size': 16, 'l2_kern': 3.8178842224756184e-05, 'l2_bias': 0.003444043967358301}. Best is trial 57 with value: 0.855634275696429.\u001b[0m\n",
      "C:\\Users\\User\\AppData\\Local\\Temp\\ipykernel_10400\\3785980822.py:37: DeprecationWarning: KerasClassifier is deprecated, use Sci-Keras (https://github.com/adriangb/scikeras) instead. See https://www.adriangb.com/scikeras/stable/migration.html for help migrating.\n",
      "  ('classifier', KerasClassifier(build_fn=self.create_model, verbose=0))\n"
     ]
    },
    {
     "name": "stdout",
     "output_type": "stream",
     "text": [
      "195/195 [==============================] - 0s 1ms/step\n",
      "195/195 [==============================] - 0s 1ms/step\n",
      "195/195 [==============================] - 0s 2ms/step\n"
     ]
    },
    {
     "name": "stderr",
     "output_type": "stream",
     "text": [
      "\u001b[32m[I 2023-03-02 09:37:08,070]\u001b[0m Trial 67 finished with value: 0.8550969769682988 and parameters: {'units': 32, 'alpha': 0.04244675825316796, 'dropout': 0.38206517229891734, 'lr': 0.00036589227143416696, 'batch_size': 128, 'l2_kern': 0.0002428383868773885, 'l2_bias': 0.0022573992145779632}. Best is trial 57 with value: 0.855634275696429.\u001b[0m\n",
      "C:\\Users\\User\\AppData\\Local\\Temp\\ipykernel_10400\\3785980822.py:37: DeprecationWarning: KerasClassifier is deprecated, use Sci-Keras (https://github.com/adriangb/scikeras) instead. See https://www.adriangb.com/scikeras/stable/migration.html for help migrating.\n",
      "  ('classifier', KerasClassifier(build_fn=self.create_model, verbose=0))\n"
     ]
    },
    {
     "name": "stdout",
     "output_type": "stream",
     "text": [
      "195/195 [==============================] - 0s 1ms/step\n",
      "195/195 [==============================] - 0s 2ms/step\n",
      "195/195 [==============================] - 0s 2ms/step\n"
     ]
    },
    {
     "name": "stderr",
     "output_type": "stream",
     "text": [
      "\u001b[32m[I 2023-03-02 09:37:21,993]\u001b[0m Trial 68 finished with value: 0.8534087744190076 and parameters: {'units': 23, 'alpha': 0.0881258064347686, 'dropout': 0.3455059391798196, 'lr': 0.006689102249121195, 'batch_size': 1024, 'l2_kern': 1.4656893849658559e-05, 'l2_bias': 0.009790349925008485}. Best is trial 57 with value: 0.855634275696429.\u001b[0m\n",
      "C:\\Users\\User\\AppData\\Local\\Temp\\ipykernel_10400\\3785980822.py:37: DeprecationWarning: KerasClassifier is deprecated, use Sci-Keras (https://github.com/adriangb/scikeras) instead. See https://www.adriangb.com/scikeras/stable/migration.html for help migrating.\n",
      "  ('classifier', KerasClassifier(build_fn=self.create_model, verbose=0))\n"
     ]
    },
    {
     "name": "stdout",
     "output_type": "stream",
     "text": [
      "195/195 [==============================] - 0s 1ms/step\n",
      "195/195 [==============================] - 0s 1ms/step\n",
      "195/195 [==============================] - 0s 1ms/step\n"
     ]
    },
    {
     "name": "stderr",
     "output_type": "stream",
     "text": [
      "\u001b[32m[I 2023-03-02 09:39:19,756]\u001b[0m Trial 69 finished with value: 0.8548387955366668 and parameters: {'units': 25, 'alpha': 0.07826462675610414, 'dropout': 0.26582904359682824, 'lr': 0.00012232805203847916, 'batch_size': 16, 'l2_kern': 0.0005012481537453839, 'l2_bias': 1.9395212231105265e-05}. Best is trial 57 with value: 0.855634275696429.\u001b[0m\n",
      "C:\\Users\\User\\AppData\\Local\\Temp\\ipykernel_10400\\3785980822.py:37: DeprecationWarning: KerasClassifier is deprecated, use Sci-Keras (https://github.com/adriangb/scikeras) instead. See https://www.adriangb.com/scikeras/stable/migration.html for help migrating.\n",
      "  ('classifier', KerasClassifier(build_fn=self.create_model, verbose=0))\n"
     ]
    },
    {
     "name": "stdout",
     "output_type": "stream",
     "text": [
      "195/195 [==============================] - 0s 1ms/step\n",
      "195/195 [==============================] - 0s 1ms/step\n",
      "195/195 [==============================] - 0s 1ms/step\n"
     ]
    },
    {
     "name": "stderr",
     "output_type": "stream",
     "text": [
      "\u001b[32m[I 2023-03-02 09:39:42,557]\u001b[0m Trial 70 finished with value: 0.8541452434814772 and parameters: {'units': 7, 'alpha': 0.0822928655804243, 'dropout': 0.2371758067571501, 'lr': 0.0008791673618219105, 'batch_size': 128, 'l2_kern': 0.00010008634029391107, 'l2_bias': 1.1387951350602281e-05}. Best is trial 57 with value: 0.855634275696429.\u001b[0m\n",
      "C:\\Users\\User\\AppData\\Local\\Temp\\ipykernel_10400\\3785980822.py:37: DeprecationWarning: KerasClassifier is deprecated, use Sci-Keras (https://github.com/adriangb/scikeras) instead. See https://www.adriangb.com/scikeras/stable/migration.html for help migrating.\n",
      "  ('classifier', KerasClassifier(build_fn=self.create_model, verbose=0))\n"
     ]
    },
    {
     "name": "stdout",
     "output_type": "stream",
     "text": [
      "195/195 [==============================] - 0s 1ms/step\n",
      "195/195 [==============================] - 0s 2ms/step\n",
      "195/195 [==============================] - 0s 1ms/step\n"
     ]
    },
    {
     "name": "stderr",
     "output_type": "stream",
     "text": [
      "\u001b[32m[I 2023-03-02 09:42:15,218]\u001b[0m Trial 71 finished with value: 0.8549171262670742 and parameters: {'units': 37, 'alpha': 0.0639855974134986, 'dropout': 0.2706011729300077, 'lr': 9.687543316938774e-05, 'batch_size': 16, 'l2_kern': 1.3148403748029467e-05, 'l2_bias': 3.4149237575958514e-05}. Best is trial 57 with value: 0.855634275696429.\u001b[0m\n",
      "C:\\Users\\User\\AppData\\Local\\Temp\\ipykernel_10400\\3785980822.py:37: DeprecationWarning: KerasClassifier is deprecated, use Sci-Keras (https://github.com/adriangb/scikeras) instead. See https://www.adriangb.com/scikeras/stable/migration.html for help migrating.\n",
      "  ('classifier', KerasClassifier(build_fn=self.create_model, verbose=0))\n"
     ]
    },
    {
     "name": "stdout",
     "output_type": "stream",
     "text": [
      "195/195 [==============================] - 0s 1ms/step\n",
      "195/195 [==============================] - 0s 2ms/step\n",
      "195/195 [==============================] - 0s 1ms/step\n"
     ]
    },
    {
     "name": "stderr",
     "output_type": "stream",
     "text": [
      "\u001b[32m[I 2023-03-02 09:43:09,215]\u001b[0m Trial 72 finished with value: 0.8551753583492392 and parameters: {'units': 17, 'alpha': 0.04244675825316796, 'dropout': 0.24301092542753464, 'lr': 0.00014864349786026677, 'batch_size': 128, 'l2_kern': 1.848022919829298e-05, 'l2_bias': 0.008990420579225456}. Best is trial 57 with value: 0.855634275696429.\u001b[0m\n",
      "C:\\Users\\User\\AppData\\Local\\Temp\\ipykernel_10400\\3785980822.py:37: DeprecationWarning: KerasClassifier is deprecated, use Sci-Keras (https://github.com/adriangb/scikeras) instead. See https://www.adriangb.com/scikeras/stable/migration.html for help migrating.\n",
      "  ('classifier', KerasClassifier(build_fn=self.create_model, verbose=0))\n"
     ]
    },
    {
     "name": "stdout",
     "output_type": "stream",
     "text": [
      "195/195 [==============================] - 0s 1ms/step\n",
      "195/195 [==============================] - 0s 1ms/step\n",
      "195/195 [==============================] - 0s 1ms/step\n"
     ]
    },
    {
     "name": "stderr",
     "output_type": "stream",
     "text": [
      "\u001b[32m[I 2023-03-02 09:44:08,053]\u001b[0m Trial 73 finished with value: 0.850873852582394 and parameters: {'units': 13, 'alpha': 0.08564753631006732, 'dropout': 0.3631199297241824, 'lr': 0.0038125624190874464, 'batch_size': 16, 'l2_kern': 0.0019572637067723424, 'l2_bias': 0.0011464610225441155}. Best is trial 57 with value: 0.855634275696429.\u001b[0m\n",
      "C:\\Users\\User\\AppData\\Local\\Temp\\ipykernel_10400\\3785980822.py:37: DeprecationWarning: KerasClassifier is deprecated, use Sci-Keras (https://github.com/adriangb/scikeras) instead. See https://www.adriangb.com/scikeras/stable/migration.html for help migrating.\n",
      "  ('classifier', KerasClassifier(build_fn=self.create_model, verbose=0))\n"
     ]
    },
    {
     "name": "stdout",
     "output_type": "stream",
     "text": [
      "195/195 [==============================] - 0s 1ms/step\n",
      "195/195 [==============================] - 0s 1ms/step\n",
      "195/195 [==============================] - 0s 1ms/step\n"
     ]
    },
    {
     "name": "stderr",
     "output_type": "stream",
     "text": [
      "\u001b[32m[I 2023-03-02 09:44:37,306]\u001b[0m Trial 74 finished with value: 0.855034803205891 and parameters: {'units': 37, 'alpha': 0.04394396122713451, 'dropout': 0.47323086919494256, 'lr': 0.00954872890983597, 'batch_size': 64, 'l2_kern': 0.0004527006025489151, 'l2_bias': 0.008990420579225456}. Best is trial 57 with value: 0.855634275696429.\u001b[0m\n",
      "C:\\Users\\User\\AppData\\Local\\Temp\\ipykernel_10400\\3785980822.py:37: DeprecationWarning: KerasClassifier is deprecated, use Sci-Keras (https://github.com/adriangb/scikeras) instead. See https://www.adriangb.com/scikeras/stable/migration.html for help migrating.\n",
      "  ('classifier', KerasClassifier(build_fn=self.create_model, verbose=0))\n"
     ]
    },
    {
     "name": "stdout",
     "output_type": "stream",
     "text": [
      "195/195 [==============================] - 0s 1ms/step\n",
      "195/195 [==============================] - 0s 1ms/step\n",
      "195/195 [==============================] - 0s 1ms/step\n"
     ]
    },
    {
     "name": "stderr",
     "output_type": "stream",
     "text": [
      "\u001b[32m[I 2023-03-02 09:44:55,850]\u001b[0m Trial 75 finished with value: 0.8526890031771245 and parameters: {'units': 37, 'alpha': 0.04244675825316796, 'dropout': 0.47323086919494256, 'lr': 0.0018565036825277828, 'batch_size': 128, 'l2_kern': 0.000429718096941644, 'l2_bias': 0.0022573992145779632}. Best is trial 57 with value: 0.855634275696429.\u001b[0m\n",
      "C:\\Users\\User\\AppData\\Local\\Temp\\ipykernel_10400\\3785980822.py:37: DeprecationWarning: KerasClassifier is deprecated, use Sci-Keras (https://github.com/adriangb/scikeras) instead. See https://www.adriangb.com/scikeras/stable/migration.html for help migrating.\n",
      "  ('classifier', KerasClassifier(build_fn=self.create_model, verbose=0))\n"
     ]
    },
    {
     "name": "stdout",
     "output_type": "stream",
     "text": [
      "195/195 [==============================] - 0s 1ms/step\n",
      "195/195 [==============================] - 0s 1ms/step\n",
      "195/195 [==============================] - 0s 1ms/step\n"
     ]
    },
    {
     "name": "stderr",
     "output_type": "stream",
     "text": [
      "\u001b[32m[I 2023-03-02 09:45:13,000]\u001b[0m Trial 76 finished with value: 0.8544970801256447 and parameters: {'units': 10, 'alpha': 0.0879747722246495, 'dropout': 0.3743674008598289, 'lr': 0.0009782770206627407, 'batch_size': 128, 'l2_kern': 0.0016914706524403798, 'l2_bias': 0.0012518469018475509}. Best is trial 57 with value: 0.855634275696429.\u001b[0m\n",
      "C:\\Users\\User\\AppData\\Local\\Temp\\ipykernel_10400\\3785980822.py:37: DeprecationWarning: KerasClassifier is deprecated, use Sci-Keras (https://github.com/adriangb/scikeras) instead. See https://www.adriangb.com/scikeras/stable/migration.html for help migrating.\n",
      "  ('classifier', KerasClassifier(build_fn=self.create_model, verbose=0))\n"
     ]
    },
    {
     "name": "stdout",
     "output_type": "stream",
     "text": [
      "195/195 [==============================] - 0s 1ms/step\n",
      "195/195 [==============================] - 0s 1ms/step\n",
      "195/195 [==============================] - 0s 1ms/step\n"
     ]
    },
    {
     "name": "stderr",
     "output_type": "stream",
     "text": [
      "\u001b[32m[I 2023-03-02 09:45:26,613]\u001b[0m Trial 77 finished with value: 0.854381011097117 and parameters: {'units': 20, 'alpha': 0.0876275292110766, 'dropout': 0.2658272372641695, 'lr': 0.0023109161909900607, 'batch_size': 256, 'l2_kern': 0.009818005910134774, 'l2_bias': 0.00023017741459187537}. Best is trial 57 with value: 0.855634275696429.\u001b[0m\n",
      "C:\\Users\\User\\AppData\\Local\\Temp\\ipykernel_10400\\3785980822.py:37: DeprecationWarning: KerasClassifier is deprecated, use Sci-Keras (https://github.com/adriangb/scikeras) instead. See https://www.adriangb.com/scikeras/stable/migration.html for help migrating.\n",
      "  ('classifier', KerasClassifier(build_fn=self.create_model, verbose=0))\n"
     ]
    },
    {
     "name": "stdout",
     "output_type": "stream",
     "text": [
      "195/195 [==============================] - 0s 1ms/step\n",
      "195/195 [==============================] - 0s 1ms/step\n",
      "195/195 [==============================] - 0s 1ms/step\n"
     ]
    },
    {
     "name": "stderr",
     "output_type": "stream",
     "text": [
      "\u001b[32m[I 2023-03-02 09:45:58,265]\u001b[0m Trial 78 finished with value: 0.8498046702539787 and parameters: {'units': 28, 'alpha': 0.07955315454736887, 'dropout': 0.24839699045203345, 'lr': 0.00954872890983597, 'batch_size': 32, 'l2_kern': 0.004597066144605759, 'l2_bias': 0.008990420579225456}. Best is trial 57 with value: 0.855634275696429.\u001b[0m\n",
      "C:\\Users\\User\\AppData\\Local\\Temp\\ipykernel_10400\\3785980822.py:37: DeprecationWarning: KerasClassifier is deprecated, use Sci-Keras (https://github.com/adriangb/scikeras) instead. See https://www.adriangb.com/scikeras/stable/migration.html for help migrating.\n",
      "  ('classifier', KerasClassifier(build_fn=self.create_model, verbose=0))\n"
     ]
    },
    {
     "name": "stdout",
     "output_type": "stream",
     "text": [
      "195/195 [==============================] - 0s 1ms/step\n",
      "195/195 [==============================] - 0s 1ms/step\n",
      "195/195 [==============================] - 0s 1ms/step\n"
     ]
    },
    {
     "name": "stderr",
     "output_type": "stream",
     "text": [
      "\u001b[32m[I 2023-03-02 09:46:37,877]\u001b[0m Trial 79 finished with value: 0.853760301683098 and parameters: {'units': 20, 'alpha': 0.07411845829983565, 'dropout': 0.3556920002861337, 'lr': 0.00082296629443438, 'batch_size': 32, 'l2_kern': 5.416597684435495e-05, 'l2_bias': 3.212351699569646e-05}. Best is trial 57 with value: 0.855634275696429.\u001b[0m\n",
      "C:\\Users\\User\\AppData\\Local\\Temp\\ipykernel_10400\\3785980822.py:37: DeprecationWarning: KerasClassifier is deprecated, use Sci-Keras (https://github.com/adriangb/scikeras) instead. See https://www.adriangb.com/scikeras/stable/migration.html for help migrating.\n",
      "  ('classifier', KerasClassifier(build_fn=self.create_model, verbose=0))\n"
     ]
    },
    {
     "name": "stdout",
     "output_type": "stream",
     "text": [
      "195/195 [==============================] - 0s 1ms/step\n",
      "195/195 [==============================] - 0s 1ms/step\n",
      "195/195 [==============================] - 0s 1ms/step\n"
     ]
    },
    {
     "name": "stderr",
     "output_type": "stream",
     "text": [
      "\u001b[32m[I 2023-03-02 09:47:16,137]\u001b[0m Trial 80 finished with value: 0.8538279361927957 and parameters: {'units': 10, 'alpha': 0.05935871901063809, 'dropout': 0.36447157781154116, 'lr': 0.0006806502249108628, 'batch_size': 32, 'l2_kern': 1.1440140312387088e-05, 'l2_bias': 0.0002895994849347805}. Best is trial 57 with value: 0.855634275696429.\u001b[0m\n",
      "C:\\Users\\User\\AppData\\Local\\Temp\\ipykernel_10400\\3785980822.py:37: DeprecationWarning: KerasClassifier is deprecated, use Sci-Keras (https://github.com/adriangb/scikeras) instead. See https://www.adriangb.com/scikeras/stable/migration.html for help migrating.\n",
      "  ('classifier', KerasClassifier(build_fn=self.create_model, verbose=0))\n"
     ]
    },
    {
     "name": "stdout",
     "output_type": "stream",
     "text": [
      "195/195 [==============================] - 0s 1ms/step\n",
      "195/195 [==============================] - 0s 1ms/step\n",
      "195/195 [==============================] - 0s 1ms/step\n"
     ]
    },
    {
     "name": "stderr",
     "output_type": "stream",
     "text": [
      "\u001b[32m[I 2023-03-02 09:47:44,910]\u001b[0m Trial 81 finished with value: 0.8314008589312243 and parameters: {'units': 4, 'alpha': 0.030814678736858093, 'dropout': 0.4056058204241556, 'lr': 0.00026017763131756246, 'batch_size': 1024, 'l2_kern': 0.0012592472240947655, 'l2_bias': 0.0004185121310436402}. Best is trial 57 with value: 0.855634275696429.\u001b[0m\n",
      "C:\\Users\\User\\AppData\\Local\\Temp\\ipykernel_10400\\3785980822.py:37: DeprecationWarning: KerasClassifier is deprecated, use Sci-Keras (https://github.com/adriangb/scikeras) instead. See https://www.adriangb.com/scikeras/stable/migration.html for help migrating.\n",
      "  ('classifier', KerasClassifier(build_fn=self.create_model, verbose=0))\n"
     ]
    },
    {
     "name": "stdout",
     "output_type": "stream",
     "text": [
      "195/195 [==============================] - 0s 1ms/step\n",
      "195/195 [==============================] - 0s 1ms/step\n",
      "195/195 [==============================] - 0s 1ms/step\n"
     ]
    },
    {
     "name": "stderr",
     "output_type": "stream",
     "text": [
      "\u001b[32m[I 2023-03-02 09:48:36,491]\u001b[0m Trial 82 finished with value: 0.8550729352025778 and parameters: {'units': 7, 'alpha': 0.037669949145162196, 'dropout': 0.45250475485192265, 'lr': 0.00013138187753002217, 'batch_size': 128, 'l2_kern': 0.00019598788641636615, 'l2_bias': 0.004238032249485075}. Best is trial 57 with value: 0.855634275696429.\u001b[0m\n",
      "C:\\Users\\User\\AppData\\Local\\Temp\\ipykernel_10400\\3785980822.py:37: DeprecationWarning: KerasClassifier is deprecated, use Sci-Keras (https://github.com/adriangb/scikeras) instead. See https://www.adriangb.com/scikeras/stable/migration.html for help migrating.\n",
      "  ('classifier', KerasClassifier(build_fn=self.create_model, verbose=0))\n"
     ]
    },
    {
     "name": "stdout",
     "output_type": "stream",
     "text": [
      "195/195 [==============================] - 0s 1ms/step\n",
      "195/195 [==============================] - 0s 1ms/step\n",
      "195/195 [==============================] - 0s 1ms/step\n"
     ]
    },
    {
     "name": "stderr",
     "output_type": "stream",
     "text": [
      "\u001b[32m[I 2023-03-02 09:49:56,762]\u001b[0m Trial 83 finished with value: 0.8529493249015726 and parameters: {'units': 8, 'alpha': 0.08597228454486455, 'dropout': 0.30424536944372615, 'lr': 0.0010543975833539796, 'batch_size': 16, 'l2_kern': 0.0002697741117267238, 'l2_bias': 0.0011981271105918196}. Best is trial 57 with value: 0.855634275696429.\u001b[0m\n",
      "C:\\Users\\User\\AppData\\Local\\Temp\\ipykernel_10400\\3785980822.py:37: DeprecationWarning: KerasClassifier is deprecated, use Sci-Keras (https://github.com/adriangb/scikeras) instead. See https://www.adriangb.com/scikeras/stable/migration.html for help migrating.\n",
      "  ('classifier', KerasClassifier(build_fn=self.create_model, verbose=0))\n"
     ]
    },
    {
     "name": "stdout",
     "output_type": "stream",
     "text": [
      "195/195 [==============================] - 0s 1ms/step\n",
      "195/195 [==============================] - 0s 1ms/step\n",
      "195/195 [==============================] - 0s 1ms/step\n"
     ]
    },
    {
     "name": "stderr",
     "output_type": "stream",
     "text": [
      "\u001b[32m[I 2023-03-02 09:50:42,883]\u001b[0m Trial 84 finished with value: 0.8552098281171115 and parameters: {'units': 28, 'alpha': 0.0639855974134986, 'dropout': 0.4102417423204209, 'lr': 9.687543316938774e-05, 'batch_size': 256, 'l2_kern': 1.3148403748029467e-05, 'l2_bias': 0.0011981271105918196}. Best is trial 57 with value: 0.855634275696429.\u001b[0m\n",
      "C:\\Users\\User\\AppData\\Local\\Temp\\ipykernel_10400\\3785980822.py:37: DeprecationWarning: KerasClassifier is deprecated, use Sci-Keras (https://github.com/adriangb/scikeras) instead. See https://www.adriangb.com/scikeras/stable/migration.html for help migrating.\n",
      "  ('classifier', KerasClassifier(build_fn=self.create_model, verbose=0))\n"
     ]
    },
    {
     "name": "stdout",
     "output_type": "stream",
     "text": [
      "195/195 [==============================] - 0s 1ms/step\n",
      "195/195 [==============================] - 0s 1ms/step\n",
      "195/195 [==============================] - 0s 1ms/step\n"
     ]
    },
    {
     "name": "stderr",
     "output_type": "stream",
     "text": [
      "\u001b[32m[I 2023-03-02 09:51:44,176]\u001b[0m Trial 85 finished with value: 0.8541553823765017 and parameters: {'units': 8, 'alpha': 0.09094065190438223, 'dropout': 0.2660853553220972, 'lr': 0.0021264217251733292, 'batch_size': 32, 'l2_kern': 0.0013649600008670553, 'l2_bias': 0.008805583875045634}. Best is trial 57 with value: 0.855634275696429.\u001b[0m\n",
      "C:\\Users\\User\\AppData\\Local\\Temp\\ipykernel_10400\\3785980822.py:37: DeprecationWarning: KerasClassifier is deprecated, use Sci-Keras (https://github.com/adriangb/scikeras) instead. See https://www.adriangb.com/scikeras/stable/migration.html for help migrating.\n",
      "  ('classifier', KerasClassifier(build_fn=self.create_model, verbose=0))\n"
     ]
    },
    {
     "name": "stdout",
     "output_type": "stream",
     "text": [
      "195/195 [==============================] - 0s 1ms/step\n",
      "195/195 [==============================] - 0s 1ms/step\n",
      "195/195 [==============================] - 0s 1ms/step\n"
     ]
    },
    {
     "name": "stderr",
     "output_type": "stream",
     "text": [
      "\u001b[32m[I 2023-03-02 09:52:52,765]\u001b[0m Trial 86 finished with value: 0.8535912597333772 and parameters: {'units': 24, 'alpha': 0.035391164230681844, 'dropout': 0.22958713120678376, 'lr': 0.0037187426777850487, 'batch_size': 16, 'l2_kern': 0.0002697741117267238, 'l2_bias': 0.0011981271105918196}. Best is trial 57 with value: 0.855634275696429.\u001b[0m\n",
      "C:\\Users\\User\\AppData\\Local\\Temp\\ipykernel_10400\\3785980822.py:37: DeprecationWarning: KerasClassifier is deprecated, use Sci-Keras (https://github.com/adriangb/scikeras) instead. See https://www.adriangb.com/scikeras/stable/migration.html for help migrating.\n",
      "  ('classifier', KerasClassifier(build_fn=self.create_model, verbose=0))\n"
     ]
    },
    {
     "name": "stdout",
     "output_type": "stream",
     "text": [
      "195/195 [==============================] - 0s 1ms/step\n",
      "195/195 [==============================] - 0s 1ms/step\n",
      "195/195 [==============================] - 0s 1ms/step\n"
     ]
    },
    {
     "name": "stderr",
     "output_type": "stream",
     "text": [
      "\u001b[32m[I 2023-03-02 09:53:13,989]\u001b[0m Trial 87 finished with value: 0.8552807342988337 and parameters: {'units': 24, 'alpha': 0.0561615203310828, 'dropout': 0.39107047126934763, 'lr': 0.00954872890983597, 'batch_size': 128, 'l2_kern': 0.0003369979544239788, 'l2_bias': 0.008990420579225456}. Best is trial 57 with value: 0.855634275696429.\u001b[0m\n",
      "C:\\Users\\User\\AppData\\Local\\Temp\\ipykernel_10400\\3785980822.py:37: DeprecationWarning: KerasClassifier is deprecated, use Sci-Keras (https://github.com/adriangb/scikeras) instead. See https://www.adriangb.com/scikeras/stable/migration.html for help migrating.\n",
      "  ('classifier', KerasClassifier(build_fn=self.create_model, verbose=0))\n"
     ]
    },
    {
     "name": "stdout",
     "output_type": "stream",
     "text": [
      "195/195 [==============================] - 0s 1ms/step\n",
      "195/195 [==============================] - 0s 1ms/step\n",
      "195/195 [==============================] - 0s 1ms/step\n"
     ]
    },
    {
     "name": "stderr",
     "output_type": "stream",
     "text": [
      "\u001b[32m[I 2023-03-02 09:53:25,756]\u001b[0m Trial 88 finished with value: 0.8548009150519295 and parameters: {'units': 10, 'alpha': 0.030814678736858093, 'dropout': 0.49068973551215744, 'lr': 0.0022410638832665707, 'batch_size': 1024, 'l2_kern': 0.0019572637067723424, 'l2_bias': 0.000333587971601651}. Best is trial 57 with value: 0.855634275696429.\u001b[0m\n",
      "C:\\Users\\User\\AppData\\Local\\Temp\\ipykernel_10400\\3785980822.py:37: DeprecationWarning: KerasClassifier is deprecated, use Sci-Keras (https://github.com/adriangb/scikeras) instead. See https://www.adriangb.com/scikeras/stable/migration.html for help migrating.\n",
      "  ('classifier', KerasClassifier(build_fn=self.create_model, verbose=0))\n"
     ]
    },
    {
     "name": "stdout",
     "output_type": "stream",
     "text": [
      "195/195 [==============================] - 0s 1ms/step\n",
      "195/195 [==============================] - 0s 1ms/step\n",
      "195/195 [==============================] - 0s 1ms/step\n"
     ]
    },
    {
     "name": "stderr",
     "output_type": "stream",
     "text": [
      "\u001b[32m[I 2023-03-02 09:53:40,353]\u001b[0m Trial 89 finished with value: 0.8547102156142782 and parameters: {'units': 8, 'alpha': 0.02300910708964876, 'dropout': 0.4437538702663407, 'lr': 0.003262660843017995, 'batch_size': 128, 'l2_kern': 0.004597066144605759, 'l2_bias': 0.0005063255744781069}. Best is trial 57 with value: 0.855634275696429.\u001b[0m\n",
      "C:\\Users\\User\\AppData\\Local\\Temp\\ipykernel_10400\\3785980822.py:37: DeprecationWarning: KerasClassifier is deprecated, use Sci-Keras (https://github.com/adriangb/scikeras) instead. See https://www.adriangb.com/scikeras/stable/migration.html for help migrating.\n",
      "  ('classifier', KerasClassifier(build_fn=self.create_model, verbose=0))\n"
     ]
    },
    {
     "name": "stdout",
     "output_type": "stream",
     "text": [
      "195/195 [==============================] - 0s 1ms/step\n",
      "195/195 [==============================] - 0s 1ms/step\n",
      "195/195 [==============================] - 0s 1ms/step\n"
     ]
    },
    {
     "name": "stderr",
     "output_type": "stream",
     "text": [
      "\u001b[32m[I 2023-03-02 09:54:04,766]\u001b[0m Trial 90 finished with value: 0.8542222784201133 and parameters: {'units': 10, 'alpha': 0.08834942133000023, 'dropout': 0.4207671778656829, 'lr': 0.00954872890983597, 'batch_size': 64, 'l2_kern': 0.0003369979544239788, 'l2_bias': 0.0002895994849347805}. Best is trial 57 with value: 0.855634275696429.\u001b[0m\n",
      "C:\\Users\\User\\AppData\\Local\\Temp\\ipykernel_10400\\3785980822.py:37: DeprecationWarning: KerasClassifier is deprecated, use Sci-Keras (https://github.com/adriangb/scikeras) instead. See https://www.adriangb.com/scikeras/stable/migration.html for help migrating.\n",
      "  ('classifier', KerasClassifier(build_fn=self.create_model, verbose=0))\n"
     ]
    },
    {
     "name": "stdout",
     "output_type": "stream",
     "text": [
      "195/195 [==============================] - 0s 1ms/step\n",
      "195/195 [==============================] - 0s 1ms/step\n",
      "195/195 [==============================] - 0s 1ms/step\n"
     ]
    },
    {
     "name": "stderr",
     "output_type": "stream",
     "text": [
      "\u001b[32m[I 2023-03-02 09:54:26,447]\u001b[0m Trial 91 finished with value: 0.853847596708666 and parameters: {'units': 13, 'alpha': 0.07826462675610414, 'dropout': 0.26582904359682824, 'lr': 0.0016527121867508888, 'batch_size': 64, 'l2_kern': 5.0706595169406725e-05, 'l2_bias': 0.0005063255744781069}. Best is trial 57 with value: 0.855634275696429.\u001b[0m\n",
      "C:\\Users\\User\\AppData\\Local\\Temp\\ipykernel_10400\\3785980822.py:37: DeprecationWarning: KerasClassifier is deprecated, use Sci-Keras (https://github.com/adriangb/scikeras) instead. See https://www.adriangb.com/scikeras/stable/migration.html for help migrating.\n",
      "  ('classifier', KerasClassifier(build_fn=self.create_model, verbose=0))\n"
     ]
    },
    {
     "name": "stdout",
     "output_type": "stream",
     "text": [
      "195/195 [==============================] - 0s 1ms/step\n",
      "195/195 [==============================] - 0s 1ms/step\n",
      "195/195 [==============================] - 0s 1ms/step\n"
     ]
    },
    {
     "name": "stderr",
     "output_type": "stream",
     "text": [
      "\u001b[32m[I 2023-03-02 09:54:37,319]\u001b[0m Trial 92 finished with value: 0.8543384637156016 and parameters: {'units': 29, 'alpha': 0.03094114015395811, 'dropout': 0.30169901258874104, 'lr': 0.002038761209239409, 'batch_size': 512, 'l2_kern': 1.5299956955454678e-05, 'l2_bias': 0.00013877257116996078}. Best is trial 57 with value: 0.855634275696429.\u001b[0m\n",
      "C:\\Users\\User\\AppData\\Local\\Temp\\ipykernel_10400\\3785980822.py:37: DeprecationWarning: KerasClassifier is deprecated, use Sci-Keras (https://github.com/adriangb/scikeras) instead. See https://www.adriangb.com/scikeras/stable/migration.html for help migrating.\n",
      "  ('classifier', KerasClassifier(build_fn=self.create_model, verbose=0))\n"
     ]
    },
    {
     "name": "stdout",
     "output_type": "stream",
     "text": [
      "195/195 [==============================] - 0s 1ms/step\n",
      "195/195 [==============================] - 0s 1ms/step\n",
      "195/195 [==============================] - 0s 1ms/step\n"
     ]
    },
    {
     "name": "stderr",
     "output_type": "stream",
     "text": [
      "\u001b[32m[I 2023-03-02 09:54:50,713]\u001b[0m Trial 93 finished with value: 0.8548356117707009 and parameters: {'units': 40, 'alpha': 0.01582369865033944, 'dropout': 0.2668954759197085, 'lr': 0.0014657388983386691, 'batch_size': 512, 'l2_kern': 1.3831552282488648e-05, 'l2_bias': 0.001525605985529196}. Best is trial 57 with value: 0.855634275696429.\u001b[0m\n",
      "C:\\Users\\User\\AppData\\Local\\Temp\\ipykernel_10400\\3785980822.py:37: DeprecationWarning: KerasClassifier is deprecated, use Sci-Keras (https://github.com/adriangb/scikeras) instead. See https://www.adriangb.com/scikeras/stable/migration.html for help migrating.\n",
      "  ('classifier', KerasClassifier(build_fn=self.create_model, verbose=0))\n"
     ]
    },
    {
     "name": "stdout",
     "output_type": "stream",
     "text": [
      "195/195 [==============================] - 0s 1ms/step\n",
      "195/195 [==============================] - 0s 1ms/step\n",
      "195/195 [==============================] - 0s 1ms/step\n"
     ]
    },
    {
     "name": "stderr",
     "output_type": "stream",
     "text": [
      "\u001b[32m[I 2023-03-02 09:55:09,543]\u001b[0m Trial 94 finished with value: 0.8545782410023307 and parameters: {'units': 37, 'alpha': 0.0639855974134986, 'dropout': 0.42584246152489286, 'lr': 0.0012475719578631107, 'batch_size': 128, 'l2_kern': 0.0019572637067723424, 'l2_bias': 0.0011464610225441155}. Best is trial 57 with value: 0.855634275696429.\u001b[0m\n",
      "C:\\Users\\User\\AppData\\Local\\Temp\\ipykernel_10400\\3785980822.py:37: DeprecationWarning: KerasClassifier is deprecated, use Sci-Keras (https://github.com/adriangb/scikeras) instead. See https://www.adriangb.com/scikeras/stable/migration.html for help migrating.\n",
      "  ('classifier', KerasClassifier(build_fn=self.create_model, verbose=0))\n"
     ]
    },
    {
     "name": "stdout",
     "output_type": "stream",
     "text": [
      "195/195 [==============================] - 0s 1ms/step\n",
      "195/195 [==============================] - 0s 1ms/step\n",
      "195/195 [==============================] - 0s 1ms/step\n"
     ]
    },
    {
     "name": "stderr",
     "output_type": "stream",
     "text": [
      "\u001b[32m[I 2023-03-02 09:55:53,432]\u001b[0m Trial 95 finished with value: 0.8495784118619043 and parameters: {'units': 37, 'alpha': 0.0639855974134986, 'dropout': 0.2706011729300077, 'lr': 9.687543316938774e-05, 'batch_size': 1024, 'l2_kern': 0.0010544013140798057, 'l2_bias': 0.00025146628405288413}. Best is trial 57 with value: 0.855634275696429.\u001b[0m\n",
      "C:\\Users\\User\\AppData\\Local\\Temp\\ipykernel_10400\\3785980822.py:37: DeprecationWarning: KerasClassifier is deprecated, use Sci-Keras (https://github.com/adriangb/scikeras) instead. See https://www.adriangb.com/scikeras/stable/migration.html for help migrating.\n",
      "  ('classifier', KerasClassifier(build_fn=self.create_model, verbose=0))\n"
     ]
    },
    {
     "name": "stdout",
     "output_type": "stream",
     "text": [
      "195/195 [==============================] - 0s 1ms/step\n",
      "195/195 [==============================] - 0s 2ms/step\n",
      "195/195 [==============================] - 0s 1ms/step\n"
     ]
    },
    {
     "name": "stderr",
     "output_type": "stream",
     "text": [
      "\u001b[32m[I 2023-03-02 09:56:35,104]\u001b[0m Trial 96 finished with value: 0.8545303959911674 and parameters: {'units': 4, 'alpha': 0.0561615203310828, 'dropout': 0.4207671778656829, 'lr': 0.002195481296345282, 'batch_size': 32, 'l2_kern': 1.0878130411098241e-05, 'l2_bias': 0.0010543302285372436}. Best is trial 57 with value: 0.855634275696429.\u001b[0m\n",
      "C:\\Users\\User\\AppData\\Local\\Temp\\ipykernel_10400\\3785980822.py:37: DeprecationWarning: KerasClassifier is deprecated, use Sci-Keras (https://github.com/adriangb/scikeras) instead. See https://www.adriangb.com/scikeras/stable/migration.html for help migrating.\n",
      "  ('classifier', KerasClassifier(build_fn=self.create_model, verbose=0))\n"
     ]
    },
    {
     "name": "stdout",
     "output_type": "stream",
     "text": [
      "195/195 [==============================] - 0s 1ms/step\n",
      "195/195 [==============================] - 0s 2ms/step\n",
      "195/195 [==============================] - 0s 2ms/step\n"
     ]
    },
    {
     "name": "stderr",
     "output_type": "stream",
     "text": [
      "\u001b[32m[I 2023-03-02 09:59:27,260]\u001b[0m Trial 97 finished with value: 0.8552625836613328 and parameters: {'units': 6, 'alpha': 0.0315951538751175, 'dropout': 0.2668954759197085, 'lr': 0.0001477247946431322, 'batch_size': 16, 'l2_kern': 1.3831552282488648e-05, 'l2_bias': 0.006440260147603428}. Best is trial 57 with value: 0.855634275696429.\u001b[0m\n",
      "C:\\Users\\User\\AppData\\Local\\Temp\\ipykernel_10400\\3785980822.py:37: DeprecationWarning: KerasClassifier is deprecated, use Sci-Keras (https://github.com/adriangb/scikeras) instead. See https://www.adriangb.com/scikeras/stable/migration.html for help migrating.\n",
      "  ('classifier', KerasClassifier(build_fn=self.create_model, verbose=0))\n"
     ]
    },
    {
     "name": "stdout",
     "output_type": "stream",
     "text": [
      "195/195 [==============================] - 0s 2ms/step\n",
      "195/195 [==============================] - 0s 2ms/step\n",
      "195/195 [==============================] - 0s 2ms/step\n"
     ]
    },
    {
     "name": "stderr",
     "output_type": "stream",
     "text": [
      "\u001b[32m[I 2023-03-02 09:59:42,776]\u001b[0m Trial 98 finished with value: 0.8545814003983 and parameters: {'units': 32, 'alpha': 0.0881258064347686, 'dropout': 0.3455059391798196, 'lr': 0.006689102249121195, 'batch_size': 1024, 'l2_kern': 0.0027578858334136717, 'l2_bias': 0.009790349925008485}. Best is trial 57 with value: 0.855634275696429.\u001b[0m\n",
      "C:\\Users\\User\\AppData\\Local\\Temp\\ipykernel_10400\\3785980822.py:37: DeprecationWarning: KerasClassifier is deprecated, use Sci-Keras (https://github.com/adriangb/scikeras) instead. See https://www.adriangb.com/scikeras/stable/migration.html for help migrating.\n",
      "  ('classifier', KerasClassifier(build_fn=self.create_model, verbose=0))\n"
     ]
    },
    {
     "name": "stdout",
     "output_type": "stream",
     "text": [
      "195/195 [==============================] - 0s 2ms/step\n",
      "195/195 [==============================] - 0s 2ms/step\n",
      "195/195 [==============================] - 0s 2ms/step\n"
     ]
    },
    {
     "name": "stderr",
     "output_type": "stream",
     "text": [
      "\u001b[32m[I 2023-03-02 10:00:37,147]\u001b[0m Trial 99 finished with value: 0.8507171995067256 and parameters: {'units': 26, 'alpha': 0.01582369865033944, 'dropout': 0.36605278975259387, 'lr': 0.0068498967394983725, 'batch_size': 32, 'l2_kern': 0.0008278751526815582, 'l2_bias': 0.008805583875045634}. Best is trial 57 with value: 0.855634275696429.\u001b[0m\n"
     ]
    },
    {
     "name": "stdout",
     "output_type": "stream",
     "text": [
      "Number of finished trials: 100\n",
      "Best trial:\n",
      "  Value: 0.855634275696429\n",
      "    units: 10\n",
      "    alpha: 0.0369263263673357\n",
      "    dropout: 0.2245926031678811\n",
      "    lr: 0.0004138360582475948\n",
      "    batch_size: 256\n",
      "    l2_kern: 0.000743392789060623\n",
      "    l2_bias: 0.0025376081364391436\n"
     ]
    },
    {
     "name": "stderr",
     "output_type": "stream",
     "text": [
      "C:\\Users\\User\\AppData\\Local\\Temp\\ipykernel_10400\\3785980822.py:111: DeprecationWarning: KerasClassifier is deprecated, use Sci-Keras (https://github.com/adriangb/scikeras) instead. See https://www.adriangb.com/scikeras/stable/migration.html for help migrating.\n",
      "  ('classifier', KerasClassifier(build_fn=tun.create_model, verbose=0))\n"
     ]
    },
    {
     "name": "stdout",
     "output_type": "stream",
     "text": [
      "117/117 [==============================] - 0s 2ms/step\n",
      "117/117 [==============================] - 0s 2ms/step\n",
      "117/117 [==============================] - 0s 2ms/step\n",
      "117/117 [==============================] - 0s 2ms/step\n",
      "117/117 [==============================] - 0s 2ms/step\n",
      "37/37 [==============================] - 0s 3ms/step\n",
      "37/37 [==============================] - 0s 2ms/step\n",
      "37/37 [==============================] - 0s 2ms/step\n",
      "37/37 [==============================] - 0s 2ms/step\n",
      "37/37 [==============================] - 0s 2ms/step\n",
      "Train mean AUC score is 0.8552873220618412 while test mean AUC score is 0.860078502099028.\n",
      "183/183 [==============================] - 0s 2ms/step\n",
      "              precision    recall  f1-score   support\n",
      "\n",
      "          No       0.88      0.96      0.92      4648\n",
      "         Yes       0.77      0.49      0.60      1186\n",
      "\n",
      "    accuracy                           0.87      5834\n",
      "   macro avg       0.82      0.73      0.76      5834\n",
      "weighted avg       0.86      0.87      0.85      5834\n",
      "\n"
     ]
    }
   ],
   "source": [
    "# Genetic Algorithm\n",
    "params_ga = tun.Tuning(n_trials=trials, sampler = optuna.samplers.NSGAIISampler())\n",
    "ga_scores = tun.Best_MLP_model(params_ga)\n",
    "ga_scores = ga_scores.rename(columns={'Tree-structured Parzen Estimator': 'Genetic Algorithm'})"
   ]
  },
  {
   "cell_type": "code",
   "execution_count": 6,
   "id": "96f43846",
   "metadata": {},
   "outputs": [
    {
     "name": "stderr",
     "output_type": "stream",
     "text": [
      "C:\\Users\\User\\AppData\\Local\\Temp\\ipykernel_10400\\530249616.py:2: ExperimentalWarning: QMCSampler is experimental (supported from v3.0.0). The interface can change in the future.\n",
      "  params_mc = tun.Tuning(n_trials=trials, sampler = optuna.samplers.QMCSampler())\n",
      "\u001b[32m[I 2023-03-02 10:35:06,186]\u001b[0m A new study created in memory with name: no-name-f14cb04a-39ec-4c62-8c4b-c7e865872c5a\u001b[0m\n",
      "C:\\Users\\User\\AppData\\Local\\Temp\\ipykernel_10400\\3785980822.py:37: DeprecationWarning: KerasClassifier is deprecated, use Sci-Keras (https://github.com/adriangb/scikeras) instead. See https://www.adriangb.com/scikeras/stable/migration.html for help migrating.\n",
      "  ('classifier', KerasClassifier(build_fn=self.create_model, verbose=0))\n"
     ]
    },
    {
     "name": "stdout",
     "output_type": "stream",
     "text": [
      "195/195 [==============================] - 0s 1ms/step\n",
      "195/195 [==============================] - 0s 1ms/step\n",
      "195/195 [==============================] - 0s 2ms/step\n"
     ]
    },
    {
     "name": "stderr",
     "output_type": "stream",
     "text": [
      "\u001b[32m[I 2023-03-02 10:36:04,047]\u001b[0m Trial 0 finished with value: 0.8549736808347589 and parameters: {'units': 30, 'alpha': 0.056201901691126946, 'dropout': 0.22439426644574495, 'lr': 0.00010255328295486499, 'batch_size': 64, 'l2_kern': 0.0003012039820865274, 'l2_bias': 8.911974421834062e-05}. Best is trial 0 with value: 0.8549736808347589.\u001b[0m\n",
      "C:\\Users\\User\\AppData\\Local\\Temp\\ipykernel_10400\\3785980822.py:37: DeprecationWarning: KerasClassifier is deprecated, use Sci-Keras (https://github.com/adriangb/scikeras) instead. See https://www.adriangb.com/scikeras/stable/migration.html for help migrating.\n",
      "  ('classifier', KerasClassifier(build_fn=self.create_model, verbose=0))\n",
      "\u001b[33m[W 2023-03-02 10:36:04,101]\u001b[0m The parameter 'batch_size' in trial#1 is sampled independently by using `RandomSampler` instead of `QMCSampler` (optimization performance may be degraded). `QMCSampler` does not support dynamic search space or `CategoricalDistribution`. You can suppress this warning by setting `warn_independent_sampling` to `False` in the constructor of `QMCSampler`, if this independent sampling is intended behavior.\u001b[0m\n",
      "\u001b[33m[W 2023-03-02 10:36:04,102]\u001b[0m The parameter 'l2_kern' in trial#1 is sampled independently by using `RandomSampler` instead of `QMCSampler` (optimization performance may be degraded). `QMCSampler` does not support dynamic search space or `CategoricalDistribution`. You can suppress this warning by setting `warn_independent_sampling` to `False` in the constructor of `QMCSampler`, if this independent sampling is intended behavior.\u001b[0m\n",
      "\u001b[33m[W 2023-03-02 10:36:04,103]\u001b[0m The parameter 'l2_bias' in trial#1 is sampled independently by using `RandomSampler` instead of `QMCSampler` (optimization performance may be degraded). `QMCSampler` does not support dynamic search space or `CategoricalDistribution`. You can suppress this warning by setting `warn_independent_sampling` to `False` in the constructor of `QMCSampler`, if this independent sampling is intended behavior.\u001b[0m\n"
     ]
    },
    {
     "name": "stdout",
     "output_type": "stream",
     "text": [
      "195/195 [==============================] - 0s 1ms/step\n",
      "195/195 [==============================] - 0s 2ms/step\n",
      "195/195 [==============================] - 0s 1ms/step\n"
     ]
    },
    {
     "name": "stderr",
     "output_type": "stream",
     "text": [
      "\u001b[32m[I 2023-03-02 10:37:18,335]\u001b[0m Trial 1 finished with value: 0.8248916552520087 and parameters: {'units': 2, 'alpha': 0.01, 'dropout': 0.2, 'lr': 5.000000000000004e-05, 'batch_size': 256, 'l2_kern': 0.0018987461541348789, 'l2_bias': 7.693462686178146e-05}. Best is trial 0 with value: 0.8549736808347589.\u001b[0m\n",
      "C:\\Users\\User\\AppData\\Local\\Temp\\ipykernel_10400\\3785980822.py:37: DeprecationWarning: KerasClassifier is deprecated, use Sci-Keras (https://github.com/adriangb/scikeras) instead. See https://www.adriangb.com/scikeras/stable/migration.html for help migrating.\n",
      "  ('classifier', KerasClassifier(build_fn=self.create_model, verbose=0))\n",
      "\u001b[33m[W 2023-03-02 10:37:18,336]\u001b[0m The parameter 'batch_size' in trial#2 is sampled independently by using `RandomSampler` instead of `QMCSampler` (optimization performance may be degraded). `QMCSampler` does not support dynamic search space or `CategoricalDistribution`. You can suppress this warning by setting `warn_independent_sampling` to `False` in the constructor of `QMCSampler`, if this independent sampling is intended behavior.\u001b[0m\n"
     ]
    },
    {
     "name": "stdout",
     "output_type": "stream",
     "text": [
      "195/195 [==============================] - 0s 1ms/step\n",
      "195/195 [==============================] - 0s 2ms/step\n",
      "195/195 [==============================] - 0s 1ms/step\n"
     ]
    },
    {
     "name": "stderr",
     "output_type": "stream",
     "text": [
      "\u001b[32m[I 2023-03-02 10:38:01,196]\u001b[0m Trial 2 finished with value: 0.8547458811040936 and parameters: {'units': 21, 'alpha': 0.05500000000000001, 'dropout': 0.35, 'lr': 0.0007071067811865483, 'batch_size': 32, 'l2_kern': 0.00031622776601683783, 'l2_bias': 0.00031622776601683783}. Best is trial 0 with value: 0.8549736808347589.\u001b[0m\n",
      "C:\\Users\\User\\AppData\\Local\\Temp\\ipykernel_10400\\3785980822.py:37: DeprecationWarning: KerasClassifier is deprecated, use Sci-Keras (https://github.com/adriangb/scikeras) instead. See https://www.adriangb.com/scikeras/stable/migration.html for help migrating.\n",
      "  ('classifier', KerasClassifier(build_fn=self.create_model, verbose=0))\n",
      "\u001b[33m[W 2023-03-02 10:38:01,201]\u001b[0m The parameter 'batch_size' in trial#3 is sampled independently by using `RandomSampler` instead of `QMCSampler` (optimization performance may be degraded). `QMCSampler` does not support dynamic search space or `CategoricalDistribution`. You can suppress this warning by setting `warn_independent_sampling` to `False` in the constructor of `QMCSampler`, if this independent sampling is intended behavior.\u001b[0m\n"
     ]
    },
    {
     "name": "stdout",
     "output_type": "stream",
     "text": [
      "195/195 [==============================] - 0s 1ms/step\n",
      "195/195 [==============================] - 0s 1ms/step\n",
      "195/195 [==============================] - 0s 1ms/step\n"
     ]
    },
    {
     "name": "stderr",
     "output_type": "stream",
     "text": [
      "\u001b[32m[I 2023-03-02 10:38:47,517]\u001b[0m Trial 3 finished with value: 0.8553632277557964 and parameters: {'units': 31, 'alpha': 0.0325, 'dropout': 0.275, 'lr': 0.00018803015465431968, 'batch_size': 64, 'l2_kern': 0.0017782794100389236, 'l2_bias': 0.0017782794100389236}. Best is trial 3 with value: 0.8553632277557964.\u001b[0m\n",
      "C:\\Users\\User\\AppData\\Local\\Temp\\ipykernel_10400\\3785980822.py:37: DeprecationWarning: KerasClassifier is deprecated, use Sci-Keras (https://github.com/adriangb/scikeras) instead. See https://www.adriangb.com/scikeras/stable/migration.html for help migrating.\n",
      "  ('classifier', KerasClassifier(build_fn=self.create_model, verbose=0))\n",
      "\u001b[33m[W 2023-03-02 10:38:47,520]\u001b[0m The parameter 'batch_size' in trial#4 is sampled independently by using `RandomSampler` instead of `QMCSampler` (optimization performance may be degraded). `QMCSampler` does not support dynamic search space or `CategoricalDistribution`. You can suppress this warning by setting `warn_independent_sampling` to `False` in the constructor of `QMCSampler`, if this independent sampling is intended behavior.\u001b[0m\n"
     ]
    },
    {
     "name": "stdout",
     "output_type": "stream",
     "text": [
      "195/195 [==============================] - 0s 1ms/step\n",
      "195/195 [==============================] - 0s 2ms/step\n",
      "195/195 [==============================] - 0s 1ms/step\n"
     ]
    },
    {
     "name": "stderr",
     "output_type": "stream",
     "text": [
      "\u001b[32m[I 2023-03-02 10:38:59,419]\u001b[0m Trial 4 finished with value: 0.8545545312884256 and parameters: {'units': 11, 'alpha': 0.0775, 'dropout': 0.425, 'lr': 0.002659147948472495, 'batch_size': 512, 'l2_kern': 5.6234132519034893e-05, 'l2_bias': 5.6234132519034893e-05}. Best is trial 3 with value: 0.8553632277557964.\u001b[0m\n",
      "C:\\Users\\User\\AppData\\Local\\Temp\\ipykernel_10400\\3785980822.py:37: DeprecationWarning: KerasClassifier is deprecated, use Sci-Keras (https://github.com/adriangb/scikeras) instead. See https://www.adriangb.com/scikeras/stable/migration.html for help migrating.\n",
      "  ('classifier', KerasClassifier(build_fn=self.create_model, verbose=0))\n",
      "\u001b[33m[W 2023-03-02 10:38:59,422]\u001b[0m The parameter 'batch_size' in trial#5 is sampled independently by using `RandomSampler` instead of `QMCSampler` (optimization performance may be degraded). `QMCSampler` does not support dynamic search space or `CategoricalDistribution`. You can suppress this warning by setting `warn_independent_sampling` to `False` in the constructor of `QMCSampler`, if this independent sampling is intended behavior.\u001b[0m\n"
     ]
    },
    {
     "name": "stdout",
     "output_type": "stream",
     "text": [
      "195/195 [==============================] - 0s 1ms/step\n",
      "195/195 [==============================] - 0s 1ms/step\n",
      "195/195 [==============================] - 0s 1ms/step\n"
     ]
    },
    {
     "name": "stderr",
     "output_type": "stream",
     "text": [
      "\u001b[32m[I 2023-03-02 10:40:08,917]\u001b[0m Trial 5 finished with value: 0.8524921661213484 and parameters: {'units': 16, 'alpha': 0.043750000000000004, 'dropout': 0.3875, 'lr': 0.005156692688606234, 'batch_size': 16, 'l2_kern': 0.00013335214321633237, 'l2_bias': 2.3713737056616547e-05}. Best is trial 3 with value: 0.8553632277557964.\u001b[0m\n",
      "C:\\Users\\User\\AppData\\Local\\Temp\\ipykernel_10400\\3785980822.py:37: DeprecationWarning: KerasClassifier is deprecated, use Sci-Keras (https://github.com/adriangb/scikeras) instead. See https://www.adriangb.com/scikeras/stable/migration.html for help migrating.\n",
      "  ('classifier', KerasClassifier(build_fn=self.create_model, verbose=0))\n",
      "\u001b[33m[W 2023-03-02 10:40:08,919]\u001b[0m The parameter 'batch_size' in trial#6 is sampled independently by using `RandomSampler` instead of `QMCSampler` (optimization performance may be degraded). `QMCSampler` does not support dynamic search space or `CategoricalDistribution`. You can suppress this warning by setting `warn_independent_sampling` to `False` in the constructor of `QMCSampler`, if this independent sampling is intended behavior.\u001b[0m\n"
     ]
    },
    {
     "name": "stdout",
     "output_type": "stream",
     "text": [
      "195/195 [==============================] - 0s 2ms/step\n",
      "195/195 [==============================] - 0s 1ms/step\n",
      "195/195 [==============================] - 0s 1ms/step\n"
     ]
    },
    {
     "name": "stderr",
     "output_type": "stream",
     "text": [
      "\u001b[32m[I 2023-03-02 10:41:12,673]\u001b[0m Trial 6 finished with value: 0.8538144691374537 and parameters: {'units': 36, 'alpha': 0.08875000000000001, 'dropout': 0.23750000000000002, 'lr': 0.00036463323686085564, 'batch_size': 32, 'l2_kern': 0.004216965034285825, 'l2_bias': 0.0007498942093324562}. Best is trial 3 with value: 0.8553632277557964.\u001b[0m\n",
      "C:\\Users\\User\\AppData\\Local\\Temp\\ipykernel_10400\\3785980822.py:37: DeprecationWarning: KerasClassifier is deprecated, use Sci-Keras (https://github.com/adriangb/scikeras) instead. See https://www.adriangb.com/scikeras/stable/migration.html for help migrating.\n",
      "  ('classifier', KerasClassifier(build_fn=self.create_model, verbose=0))\n",
      "\u001b[33m[W 2023-03-02 10:41:12,675]\u001b[0m The parameter 'batch_size' in trial#7 is sampled independently by using `RandomSampler` instead of `QMCSampler` (optimization performance may be degraded). `QMCSampler` does not support dynamic search space or `CategoricalDistribution`. You can suppress this warning by setting `warn_independent_sampling` to `False` in the constructor of `QMCSampler`, if this independent sampling is intended behavior.\u001b[0m\n"
     ]
    },
    {
     "name": "stdout",
     "output_type": "stream",
     "text": [
      "195/195 [==============================] - 0s 1ms/step\n",
      "195/195 [==============================] - 0s 1ms/step\n",
      "195/195 [==============================] - 0s 2ms/step\n"
     ]
    },
    {
     "name": "stderr",
     "output_type": "stream",
     "text": [
      "\u001b[32m[I 2023-03-02 10:41:37,972]\u001b[0m Trial 7 finished with value: 0.8541399097850837 and parameters: {'units': 26, 'alpha': 0.02125, 'dropout': 0.4625, 'lr': 0.0013712408783810375, 'batch_size': 64, 'l2_kern': 0.0007498942093324562, 'l2_bias': 0.004216965034285825}. Best is trial 3 with value: 0.8553632277557964.\u001b[0m\n",
      "C:\\Users\\User\\AppData\\Local\\Temp\\ipykernel_10400\\3785980822.py:37: DeprecationWarning: KerasClassifier is deprecated, use Sci-Keras (https://github.com/adriangb/scikeras) instead. See https://www.adriangb.com/scikeras/stable/migration.html for help migrating.\n",
      "  ('classifier', KerasClassifier(build_fn=self.create_model, verbose=0))\n",
      "\u001b[33m[W 2023-03-02 10:41:37,974]\u001b[0m The parameter 'batch_size' in trial#8 is sampled independently by using `RandomSampler` instead of `QMCSampler` (optimization performance may be degraded). `QMCSampler` does not support dynamic search space or `CategoricalDistribution`. You can suppress this warning by setting `warn_independent_sampling` to `False` in the constructor of `QMCSampler`, if this independent sampling is intended behavior.\u001b[0m\n"
     ]
    },
    {
     "name": "stdout",
     "output_type": "stream",
     "text": [
      "195/195 [==============================] - 0s 1ms/step\n",
      "195/195 [==============================] - 1s 3ms/step\n",
      "195/195 [==============================] - 0s 1ms/step\n"
     ]
    },
    {
     "name": "stderr",
     "output_type": "stream",
     "text": [
      "\u001b[32m[I 2023-03-02 10:42:34,373]\u001b[0m Trial 8 finished with value: 0.8400080894037961 and parameters: {'units': 6, 'alpha': 0.06625, 'dropout': 0.3125, 'lr': 9.696137237434293e-05, 'batch_size': 512, 'l2_kern': 2.3713737056616547e-05, 'l2_bias': 0.00013335214321633237}. Best is trial 3 with value: 0.8553632277557964.\u001b[0m\n",
      "C:\\Users\\User\\AppData\\Local\\Temp\\ipykernel_10400\\3785980822.py:37: DeprecationWarning: KerasClassifier is deprecated, use Sci-Keras (https://github.com/adriangb/scikeras) instead. See https://www.adriangb.com/scikeras/stable/migration.html for help migrating.\n",
      "  ('classifier', KerasClassifier(build_fn=self.create_model, verbose=0))\n",
      "\u001b[33m[W 2023-03-02 10:42:34,376]\u001b[0m The parameter 'batch_size' in trial#9 is sampled independently by using `RandomSampler` instead of `QMCSampler` (optimization performance may be degraded). `QMCSampler` does not support dynamic search space or `CategoricalDistribution`. You can suppress this warning by setting `warn_independent_sampling` to `False` in the constructor of `QMCSampler`, if this independent sampling is intended behavior.\u001b[0m\n"
     ]
    },
    {
     "name": "stdout",
     "output_type": "stream",
     "text": [
      "195/195 [==============================] - 0s 1ms/step\n",
      "195/195 [==============================] - 0s 1ms/step\n",
      "195/195 [==============================] - 0s 1ms/step\n"
     ]
    },
    {
     "name": "stderr",
     "output_type": "stream",
     "text": [
      "\u001b[32m[I 2023-03-02 10:43:15,511]\u001b[0m Trial 9 finished with value: 0.8552387775713092 and parameters: {'units': 9, 'alpha': 0.038125000000000006, 'dropout': 0.48125, 'lr': 0.000507774196302167, 'batch_size': 64, 'l2_kern': 0.00048696752516586293, 'l2_bias': 8.659643233600651e-05}. Best is trial 3 with value: 0.8553632277557964.\u001b[0m\n",
      "C:\\Users\\User\\AppData\\Local\\Temp\\ipykernel_10400\\3785980822.py:37: DeprecationWarning: KerasClassifier is deprecated, use Sci-Keras (https://github.com/adriangb/scikeras) instead. See https://www.adriangb.com/scikeras/stable/migration.html for help migrating.\n",
      "  ('classifier', KerasClassifier(build_fn=self.create_model, verbose=0))\n",
      "\u001b[33m[W 2023-03-02 10:43:15,514]\u001b[0m The parameter 'batch_size' in trial#10 is sampled independently by using `RandomSampler` instead of `QMCSampler` (optimization performance may be degraded). `QMCSampler` does not support dynamic search space or `CategoricalDistribution`. You can suppress this warning by setting `warn_independent_sampling` to `False` in the constructor of `QMCSampler`, if this independent sampling is intended behavior.\u001b[0m\n"
     ]
    },
    {
     "name": "stdout",
     "output_type": "stream",
     "text": [
      "195/195 [==============================] - 0s 1ms/step\n",
      "195/195 [==============================] - 0s 2ms/step\n",
      "195/195 [==============================] - 0s 1ms/step\n"
     ]
    },
    {
     "name": "stderr",
     "output_type": "stream",
     "text": [
      "\u001b[32m[I 2023-03-02 10:44:28,791]\u001b[0m Trial 10 finished with value: 0.8535476797900171 and parameters: {'units': 28, 'alpha': 0.083125, 'dropout': 0.33125000000000004, 'lr': 0.007181011550336231, 'batch_size': 16, 'l2_kern': 1.5399265260594915e-05, 'l2_bias': 0.0027384196342643626}. Best is trial 3 with value: 0.8553632277557964.\u001b[0m\n",
      "C:\\Users\\User\\AppData\\Local\\Temp\\ipykernel_10400\\3785980822.py:37: DeprecationWarning: KerasClassifier is deprecated, use Sci-Keras (https://github.com/adriangb/scikeras) instead. See https://www.adriangb.com/scikeras/stable/migration.html for help migrating.\n",
      "  ('classifier', KerasClassifier(build_fn=self.create_model, verbose=0))\n",
      "\u001b[33m[W 2023-03-02 10:44:28,793]\u001b[0m The parameter 'batch_size' in trial#11 is sampled independently by using `RandomSampler` instead of `QMCSampler` (optimization performance may be degraded). `QMCSampler` does not support dynamic search space or `CategoricalDistribution`. You can suppress this warning by setting `warn_independent_sampling` to `False` in the constructor of `QMCSampler`, if this independent sampling is intended behavior.\u001b[0m\n"
     ]
    },
    {
     "name": "stdout",
     "output_type": "stream",
     "text": [
      "195/195 [==============================] - 0s 1ms/step\n",
      "195/195 [==============================] - 0s 1ms/step\n",
      "195/195 [==============================] - 0s 2ms/step\n"
     ]
    },
    {
     "name": "stderr",
     "output_type": "stream",
     "text": [
      "\u001b[32m[I 2023-03-02 10:46:54,987]\u001b[0m Trial 11 finished with value: 0.8547563208454504 and parameters: {'units': 38, 'alpha': 0.015625, 'dropout': 0.40625, 'lr': 0.00013502467123841782, 'batch_size': 16, 'l2_kern': 8.659643233600651e-05, 'l2_bias': 0.00048696752516586293}. Best is trial 3 with value: 0.8553632277557964.\u001b[0m\n",
      "C:\\Users\\User\\AppData\\Local\\Temp\\ipykernel_10400\\3785980822.py:37: DeprecationWarning: KerasClassifier is deprecated, use Sci-Keras (https://github.com/adriangb/scikeras) instead. See https://www.adriangb.com/scikeras/stable/migration.html for help migrating.\n",
      "  ('classifier', KerasClassifier(build_fn=self.create_model, verbose=0))\n",
      "\u001b[33m[W 2023-03-02 10:46:54,989]\u001b[0m The parameter 'batch_size' in trial#12 is sampled independently by using `RandomSampler` instead of `QMCSampler` (optimization performance may be degraded). `QMCSampler` does not support dynamic search space or `CategoricalDistribution`. You can suppress this warning by setting `warn_independent_sampling` to `False` in the constructor of `QMCSampler`, if this independent sampling is intended behavior.\u001b[0m\n"
     ]
    },
    {
     "name": "stdout",
     "output_type": "stream",
     "text": [
      "195/195 [==============================] - 0s 2ms/step\n",
      "195/195 [==============================] - 0s 1ms/step\n",
      "195/195 [==============================] - 0s 1ms/step\n"
     ]
    },
    {
     "name": "stderr",
     "output_type": "stream",
     "text": [
      "\u001b[32m[I 2023-03-02 10:47:12,634]\u001b[0m Trial 12 finished with value: 0.8546382173467828 and parameters: {'units': 19, 'alpha': 0.060625000000000005, 'dropout': 0.25625, 'lr': 0.0019095372132033872, 'batch_size': 1024, 'l2_kern': 0.0027384196342643626, 'l2_bias': 1.5399265260594915e-05}. Best is trial 3 with value: 0.8553632277557964.\u001b[0m\n",
      "C:\\Users\\User\\AppData\\Local\\Temp\\ipykernel_10400\\3785980822.py:37: DeprecationWarning: KerasClassifier is deprecated, use Sci-Keras (https://github.com/adriangb/scikeras) instead. See https://www.adriangb.com/scikeras/stable/migration.html for help migrating.\n",
      "  ('classifier', KerasClassifier(build_fn=self.create_model, verbose=0))\n",
      "\u001b[33m[W 2023-03-02 10:47:12,636]\u001b[0m The parameter 'batch_size' in trial#13 is sampled independently by using `RandomSampler` instead of `QMCSampler` (optimization performance may be degraded). `QMCSampler` does not support dynamic search space or `CategoricalDistribution`. You can suppress this warning by setting `warn_independent_sampling` to `False` in the constructor of `QMCSampler`, if this independent sampling is intended behavior.\u001b[0m\n"
     ]
    },
    {
     "name": "stdout",
     "output_type": "stream",
     "text": [
      "195/195 [==============================] - 0s 1ms/step\n",
      "195/195 [==============================] - 0s 1ms/step\n",
      "195/195 [==============================] - 0s 1ms/step\n"
     ]
    },
    {
     "name": "stderr",
     "output_type": "stream",
     "text": [
      "\u001b[32m[I 2023-03-02 10:47:27,952]\u001b[0m Trial 13 finished with value: 0.8558005150328728 and parameters: {'units': 14, 'alpha': 0.026875000000000003, 'dropout': 0.29375, 'lr': 0.0009846896585947416, 'batch_size': 512, 'l2_kern': 0.0064938163157621165, 'l2_bias': 0.00020535250264571456}. Best is trial 13 with value: 0.8558005150328728.\u001b[0m\n",
      "C:\\Users\\User\\AppData\\Local\\Temp\\ipykernel_10400\\3785980822.py:37: DeprecationWarning: KerasClassifier is deprecated, use Sci-Keras (https://github.com/adriangb/scikeras) instead. See https://www.adriangb.com/scikeras/stable/migration.html for help migrating.\n",
      "  ('classifier', KerasClassifier(build_fn=self.create_model, verbose=0))\n",
      "\u001b[33m[W 2023-03-02 10:47:27,955]\u001b[0m The parameter 'batch_size' in trial#14 is sampled independently by using `RandomSampler` instead of `QMCSampler` (optimization performance may be degraded). `QMCSampler` does not support dynamic search space or `CategoricalDistribution`. You can suppress this warning by setting `warn_independent_sampling` to `False` in the constructor of `QMCSampler`, if this independent sampling is intended behavior.\u001b[0m\n"
     ]
    },
    {
     "name": "stdout",
     "output_type": "stream",
     "text": [
      "195/195 [==============================] - 0s 1ms/step\n",
      "195/195 [==============================] - 0s 1ms/step\n",
      "195/195 [==============================] - 0s 2ms/step\n"
     ]
    },
    {
     "name": "stderr",
     "output_type": "stream",
     "text": [
      "\u001b[32m[I 2023-03-02 10:49:58,776]\u001b[0m Trial 14 finished with value: 0.854829670671251 and parameters: {'units': 33, 'alpha': 0.07187500000000001, 'dropout': 0.44375, 'lr': 6.962807349566092e-05, 'batch_size': 16, 'l2_kern': 0.00020535250264571456, 'l2_bias': 0.0064938163157621165}. Best is trial 13 with value: 0.8558005150328728.\u001b[0m\n",
      "C:\\Users\\User\\AppData\\Local\\Temp\\ipykernel_10400\\3785980822.py:37: DeprecationWarning: KerasClassifier is deprecated, use Sci-Keras (https://github.com/adriangb/scikeras) instead. See https://www.adriangb.com/scikeras/stable/migration.html for help migrating.\n",
      "  ('classifier', KerasClassifier(build_fn=self.create_model, verbose=0))\n",
      "\u001b[33m[W 2023-03-02 10:49:58,778]\u001b[0m The parameter 'batch_size' in trial#15 is sampled independently by using `RandomSampler` instead of `QMCSampler` (optimization performance may be degraded). `QMCSampler` does not support dynamic search space or `CategoricalDistribution`. You can suppress this warning by setting `warn_independent_sampling` to `False` in the constructor of `QMCSampler`, if this independent sampling is intended behavior.\u001b[0m\n"
     ]
    },
    {
     "name": "stdout",
     "output_type": "stream",
     "text": [
      "195/195 [==============================] - 0s 1ms/step\n",
      "195/195 [==============================] - 0s 2ms/step\n",
      "195/195 [==============================] - 0s 1ms/step\n"
     ]
    },
    {
     "name": "stderr",
     "output_type": "stream",
     "text": [
      "\u001b[32m[I 2023-03-02 10:50:46,338]\u001b[0m Trial 15 finished with value: 0.8517227606265584 and parameters: {'units': 23, 'alpha': 0.04937500000000001, 'dropout': 0.21875, 'lr': 0.0037030269758415706, 'batch_size': 32, 'l2_kern': 3.651741272548376e-05, 'l2_bias': 0.0011547819846894588}. Best is trial 13 with value: 0.8558005150328728.\u001b[0m\n",
      "C:\\Users\\User\\AppData\\Local\\Temp\\ipykernel_10400\\3785980822.py:37: DeprecationWarning: KerasClassifier is deprecated, use Sci-Keras (https://github.com/adriangb/scikeras) instead. See https://www.adriangb.com/scikeras/stable/migration.html for help migrating.\n",
      "  ('classifier', KerasClassifier(build_fn=self.create_model, verbose=0))\n",
      "\u001b[33m[W 2023-03-02 10:50:46,342]\u001b[0m The parameter 'batch_size' in trial#16 is sampled independently by using `RandomSampler` instead of `QMCSampler` (optimization performance may be degraded). `QMCSampler` does not support dynamic search space or `CategoricalDistribution`. You can suppress this warning by setting `warn_independent_sampling` to `False` in the constructor of `QMCSampler`, if this independent sampling is intended behavior.\u001b[0m\n"
     ]
    },
    {
     "name": "stdout",
     "output_type": "stream",
     "text": [
      "195/195 [==============================] - 0s 2ms/step\n",
      "195/195 [==============================] - 0s 2ms/step\n",
      "195/195 [==============================] - 0s 2ms/step\n"
     ]
    },
    {
     "name": "stderr",
     "output_type": "stream",
     "text": [
      "\u001b[32m[I 2023-03-02 10:51:21,410]\u001b[0m Trial 16 finished with value: 0.8499980315708523 and parameters: {'units': 4, 'alpha': 0.094375, 'dropout': 0.36875, 'lr': 0.000261843548553429, 'batch_size': 512, 'l2_kern': 0.0011547819846894588, 'l2_bias': 3.651741272548376e-05}. Best is trial 13 with value: 0.8558005150328728.\u001b[0m\n",
      "C:\\Users\\User\\AppData\\Local\\Temp\\ipykernel_10400\\3785980822.py:37: DeprecationWarning: KerasClassifier is deprecated, use Sci-Keras (https://github.com/adriangb/scikeras) instead. See https://www.adriangb.com/scikeras/stable/migration.html for help migrating.\n",
      "  ('classifier', KerasClassifier(build_fn=self.create_model, verbose=0))\n",
      "\u001b[33m[W 2023-03-02 10:51:21,412]\u001b[0m The parameter 'batch_size' in trial#17 is sampled independently by using `RandomSampler` instead of `QMCSampler` (optimization performance may be degraded). `QMCSampler` does not support dynamic search space or `CategoricalDistribution`. You can suppress this warning by setting `warn_independent_sampling` to `False` in the constructor of `QMCSampler`, if this independent sampling is intended behavior.\u001b[0m\n"
     ]
    },
    {
     "name": "stdout",
     "output_type": "stream",
     "text": [
      "195/195 [==============================] - 0s 1ms/step\n",
      "195/195 [==============================] - 0s 1ms/step\n",
      "195/195 [==============================] - 0s 2ms/step\n"
     ]
    },
    {
     "name": "stderr",
     "output_type": "stream",
     "text": [
      "\u001b[32m[I 2023-03-02 10:51:40,342]\u001b[0m Trial 17 finished with value: 0.8550858377995523 and parameters: {'units': 5, 'alpha': 0.052187500000000005, 'dropout': 0.340625, 'lr': 0.0016181580533230642, 'batch_size': 256, 'l2_kern': 6.978305848598668e-05, 'l2_bias': 0.008058421877614822}. Best is trial 13 with value: 0.8558005150328728.\u001b[0m\n",
      "C:\\Users\\User\\AppData\\Local\\Temp\\ipykernel_10400\\3785980822.py:37: DeprecationWarning: KerasClassifier is deprecated, use Sci-Keras (https://github.com/adriangb/scikeras) instead. See https://www.adriangb.com/scikeras/stable/migration.html for help migrating.\n",
      "  ('classifier', KerasClassifier(build_fn=self.create_model, verbose=0))\n",
      "\u001b[33m[W 2023-03-02 10:51:40,344]\u001b[0m The parameter 'batch_size' in trial#18 is sampled independently by using `RandomSampler` instead of `QMCSampler` (optimization performance may be degraded). `QMCSampler` does not support dynamic search space or `CategoricalDistribution`. You can suppress this warning by setting `warn_independent_sampling` to `False` in the constructor of `QMCSampler`, if this independent sampling is intended behavior.\u001b[0m\n"
     ]
    },
    {
     "name": "stdout",
     "output_type": "stream",
     "text": [
      "195/195 [==============================] - 0s 2ms/step\n",
      "195/195 [==============================] - 0s 1ms/step\n",
      "195/195 [==============================] - 1s 3ms/step\n"
     ]
    },
    {
     "name": "stderr",
     "output_type": "stream",
     "text": [
      "\u001b[32m[I 2023-03-02 10:53:02,948]\u001b[0m Trial 18 finished with value: 0.8547100897097059 and parameters: {'units': 25, 'alpha': 0.09718750000000001, 'dropout': 0.490625, 'lr': 0.00011442105325363614, 'batch_size': 32, 'l2_kern': 0.002206734069084591, 'l2_bias': 0.0002548296747979348}. Best is trial 13 with value: 0.8558005150328728.\u001b[0m\n",
      "C:\\Users\\User\\AppData\\Local\\Temp\\ipykernel_10400\\3785980822.py:37: DeprecationWarning: KerasClassifier is deprecated, use Sci-Keras (https://github.com/adriangb/scikeras) instead. See https://www.adriangb.com/scikeras/stable/migration.html for help migrating.\n",
      "  ('classifier', KerasClassifier(build_fn=self.create_model, verbose=0))\n",
      "\u001b[33m[W 2023-03-02 10:53:02,955]\u001b[0m The parameter 'batch_size' in trial#19 is sampled independently by using `RandomSampler` instead of `QMCSampler` (optimization performance may be degraded). `QMCSampler` does not support dynamic search space or `CategoricalDistribution`. You can suppress this warning by setting `warn_independent_sampling` to `False` in the constructor of `QMCSampler`, if this independent sampling is intended behavior.\u001b[0m\n"
     ]
    },
    {
     "name": "stdout",
     "output_type": "stream",
     "text": [
      "195/195 [==============================] - 0s 1ms/step\n",
      "195/195 [==============================] - 0s 2ms/step\n",
      "195/195 [==============================] - 0s 1ms/step\n"
     ]
    },
    {
     "name": "stderr",
     "output_type": "stream",
     "text": [
      "\u001b[32m[I 2023-03-02 10:53:15,734]\u001b[0m Trial 19 finished with value: 0.8535223568163115 and parameters: {'units': 34, 'alpha': 0.029687500000000006, 'dropout': 0.265625, 'lr': 0.006085250180429374, 'batch_size': 256, 'l2_kern': 0.0003924189758484538, 'l2_bias': 4.531583637600821e-05}. Best is trial 13 with value: 0.8558005150328728.\u001b[0m\n",
      "C:\\Users\\User\\AppData\\Local\\Temp\\ipykernel_10400\\3785980822.py:37: DeprecationWarning: KerasClassifier is deprecated, use Sci-Keras (https://github.com/adriangb/scikeras) instead. See https://www.adriangb.com/scikeras/stable/migration.html for help migrating.\n",
      "  ('classifier', KerasClassifier(build_fn=self.create_model, verbose=0))\n",
      "\u001b[33m[W 2023-03-02 10:53:15,740]\u001b[0m The parameter 'batch_size' in trial#20 is sampled independently by using `RandomSampler` instead of `QMCSampler` (optimization performance may be degraded). `QMCSampler` does not support dynamic search space or `CategoricalDistribution`. You can suppress this warning by setting `warn_independent_sampling` to `False` in the constructor of `QMCSampler`, if this independent sampling is intended behavior.\u001b[0m\n"
     ]
    },
    {
     "name": "stdout",
     "output_type": "stream",
     "text": [
      "195/195 [==============================] - 0s 1ms/step\n",
      "195/195 [==============================] - 0s 1ms/step\n",
      "195/195 [==============================] - 0s 1ms/step\n"
     ]
    },
    {
     "name": "stderr",
     "output_type": "stream",
     "text": [
      "\u001b[32m[I 2023-03-02 10:53:56,516]\u001b[0m Trial 20 finished with value: 0.8541120046319364 and parameters: {'units': 15, 'alpha': 0.0746875, 'dropout': 0.415625, 'lr': 0.00043029216677982745, 'batch_size': 64, 'l2_kern': 1.2409377607517204e-05, 'l2_bias': 0.0014330125702369636}. Best is trial 13 with value: 0.8558005150328728.\u001b[0m\n",
      "C:\\Users\\User\\AppData\\Local\\Temp\\ipykernel_10400\\3785980822.py:37: DeprecationWarning: KerasClassifier is deprecated, use Sci-Keras (https://github.com/adriangb/scikeras) instead. See https://www.adriangb.com/scikeras/stable/migration.html for help migrating.\n",
      "  ('classifier', KerasClassifier(build_fn=self.create_model, verbose=0))\n",
      "\u001b[33m[W 2023-03-02 10:53:56,521]\u001b[0m The parameter 'batch_size' in trial#21 is sampled independently by using `RandomSampler` instead of `QMCSampler` (optimization performance may be degraded). `QMCSampler` does not support dynamic search space or `CategoricalDistribution`. You can suppress this warning by setting `warn_independent_sampling` to `False` in the constructor of `QMCSampler`, if this independent sampling is intended behavior.\u001b[0m\n"
     ]
    },
    {
     "name": "stdout",
     "output_type": "stream",
     "text": [
      "195/195 [==============================] - 0s 1ms/step\n",
      "195/195 [==============================] - 0s 1ms/step\n",
      "195/195 [==============================] - 0s 1ms/step\n"
     ]
    },
    {
     "name": "stderr",
     "output_type": "stream",
     "text": [
      "\u001b[32m[I 2023-03-02 10:54:30,795]\u001b[0m Trial 21 finished with value: 0.8546205628976943 and parameters: {'units': 20, 'alpha': 0.018437500000000002, 'dropout': 0.453125, 'lr': 0.00022188844703980695, 'batch_size': 512, 'l2_kern': 2.942727176209284e-05, 'l2_bias': 0.003398208328942561}. Best is trial 13 with value: 0.8558005150328728.\u001b[0m\n",
      "C:\\Users\\User\\AppData\\Local\\Temp\\ipykernel_10400\\3785980822.py:37: DeprecationWarning: KerasClassifier is deprecated, use Sci-Keras (https://github.com/adriangb/scikeras) instead. See https://www.adriangb.com/scikeras/stable/migration.html for help migrating.\n",
      "  ('classifier', KerasClassifier(build_fn=self.create_model, verbose=0))\n",
      "\u001b[33m[W 2023-03-02 10:54:30,797]\u001b[0m The parameter 'batch_size' in trial#22 is sampled independently by using `RandomSampler` instead of `QMCSampler` (optimization performance may be degraded). `QMCSampler` does not support dynamic search space or `CategoricalDistribution`. You can suppress this warning by setting `warn_independent_sampling` to `False` in the constructor of `QMCSampler`, if this independent sampling is intended behavior.\u001b[0m\n"
     ]
    },
    {
     "name": "stdout",
     "output_type": "stream",
     "text": [
      "195/195 [==============================] - 0s 1ms/step\n",
      "195/195 [==============================] - 0s 1ms/step\n",
      "195/195 [==============================] - 0s 1ms/step\n"
     ]
    },
    {
     "name": "stderr",
     "output_type": "stream",
     "text": [
      "\u001b[32m[I 2023-03-02 10:54:46,726]\u001b[0m Trial 22 finished with value: 0.8547733067966657 and parameters: {'units': 39, 'alpha': 0.06343750000000001, 'dropout': 0.303125, 'lr': 0.00313797651137599, 'batch_size': 256, 'l2_kern': 0.0009305720409296995, 'l2_bias': 0.00010746078283213182}. Best is trial 13 with value: 0.8558005150328728.\u001b[0m\n",
      "C:\\Users\\User\\AppData\\Local\\Temp\\ipykernel_10400\\3785980822.py:37: DeprecationWarning: KerasClassifier is deprecated, use Sci-Keras (https://github.com/adriangb/scikeras) instead. See https://www.adriangb.com/scikeras/stable/migration.html for help migrating.\n",
      "  ('classifier', KerasClassifier(build_fn=self.create_model, verbose=0))\n",
      "\u001b[33m[W 2023-03-02 10:54:46,729]\u001b[0m The parameter 'batch_size' in trial#23 is sampled independently by using `RandomSampler` instead of `QMCSampler` (optimization performance may be degraded). `QMCSampler` does not support dynamic search space or `CategoricalDistribution`. You can suppress this warning by setting `warn_independent_sampling` to `False` in the constructor of `QMCSampler`, if this independent sampling is intended behavior.\u001b[0m\n"
     ]
    },
    {
     "name": "stdout",
     "output_type": "stream",
     "text": [
      "195/195 [==============================] - 0s 1ms/step\n",
      "195/195 [==============================] - 0s 1ms/step\n",
      "195/195 [==============================] - 0s 1ms/step\n"
     ]
    },
    {
     "name": "stderr",
     "output_type": "stream",
     "text": [
      "\u001b[32m[I 2023-03-02 10:56:38,417]\u001b[0m Trial 23 finished with value: 0.8553911005783646 and parameters: {'units': 30, 'alpha': 0.0409375, 'dropout': 0.37812500000000004, 'lr': 5.900342087356497e-05, 'batch_size': 32, 'l2_kern': 0.005232991146814949, 'l2_bias': 1.9109529749704416e-05}. Best is trial 13 with value: 0.8558005150328728.\u001b[0m\n",
      "C:\\Users\\User\\AppData\\Local\\Temp\\ipykernel_10400\\3785980822.py:37: DeprecationWarning: KerasClassifier is deprecated, use Sci-Keras (https://github.com/adriangb/scikeras) instead. See https://www.adriangb.com/scikeras/stable/migration.html for help migrating.\n",
      "  ('classifier', KerasClassifier(build_fn=self.create_model, verbose=0))\n",
      "\u001b[33m[W 2023-03-02 10:56:38,420]\u001b[0m The parameter 'batch_size' in trial#24 is sampled independently by using `RandomSampler` instead of `QMCSampler` (optimization performance may be degraded). `QMCSampler` does not support dynamic search space or `CategoricalDistribution`. You can suppress this warning by setting `warn_independent_sampling` to `False` in the constructor of `QMCSampler`, if this independent sampling is intended behavior.\u001b[0m\n"
     ]
    },
    {
     "name": "stdout",
     "output_type": "stream",
     "text": [
      "195/195 [==============================] - 0s 2ms/step\n",
      "195/195 [==============================] - 0s 1ms/step\n",
      "195/195 [==============================] - 0s 1ms/step\n"
     ]
    },
    {
     "name": "stderr",
     "output_type": "stream",
     "text": [
      "\u001b[32m[I 2023-03-02 10:57:06,194]\u001b[0m Trial 24 finished with value: 0.8540247494517373 and parameters: {'units': 10, 'alpha': 0.0859375, 'dropout': 0.22812500000000002, 'lr': 0.0008344343802580338, 'batch_size': 64, 'l2_kern': 0.00016548170999431823, 'l2_bias': 0.0006042963902381332}. Best is trial 13 with value: 0.8558005150328728.\u001b[0m\n",
      "C:\\Users\\User\\AppData\\Local\\Temp\\ipykernel_10400\\3785980822.py:37: DeprecationWarning: KerasClassifier is deprecated, use Sci-Keras (https://github.com/adriangb/scikeras) instead. See https://www.adriangb.com/scikeras/stable/migration.html for help migrating.\n",
      "  ('classifier', KerasClassifier(build_fn=self.create_model, verbose=0))\n",
      "\u001b[33m[W 2023-03-02 10:57:06,196]\u001b[0m The parameter 'batch_size' in trial#25 is sampled independently by using `RandomSampler` instead of `QMCSampler` (optimization performance may be degraded). `QMCSampler` does not support dynamic search space or `CategoricalDistribution`. You can suppress this warning by setting `warn_independent_sampling` to `False` in the constructor of `QMCSampler`, if this independent sampling is intended behavior.\u001b[0m\n"
     ]
    },
    {
     "name": "stdout",
     "output_type": "stream",
     "text": [
      "195/195 [==============================] - 0s 1ms/step\n",
      "195/195 [==============================] - 0s 1ms/step\n",
      "195/195 [==============================] - 0s 1ms/step\n"
     ]
    },
    {
     "name": "stderr",
     "output_type": "stream",
     "text": [
      "\u001b[32m[I 2023-03-02 10:57:45,773]\u001b[0m Trial 25 finished with value: 0.85371501853597 and parameters: {'units': 8, 'alpha': 0.0240625, 'dropout': 0.359375, 'lr': 0.004369825183234895, 'batch_size': 32, 'l2_kern': 0.003398208328942561, 'l2_bias': 0.0009305720409296995}. Best is trial 13 with value: 0.8558005150328728.\u001b[0m\n",
      "C:\\Users\\User\\AppData\\Local\\Temp\\ipykernel_10400\\3785980822.py:37: DeprecationWarning: KerasClassifier is deprecated, use Sci-Keras (https://github.com/adriangb/scikeras) instead. See https://www.adriangb.com/scikeras/stable/migration.html for help migrating.\n",
      "  ('classifier', KerasClassifier(build_fn=self.create_model, verbose=0))\n",
      "\u001b[33m[W 2023-03-02 10:57:45,776]\u001b[0m The parameter 'batch_size' in trial#26 is sampled independently by using `RandomSampler` instead of `QMCSampler` (optimization performance may be degraded). `QMCSampler` does not support dynamic search space or `CategoricalDistribution`. You can suppress this warning by setting `warn_independent_sampling` to `False` in the constructor of `QMCSampler`, if this independent sampling is intended behavior.\u001b[0m\n"
     ]
    },
    {
     "name": "stdout",
     "output_type": "stream",
     "text": [
      "195/195 [==============================] - 0s 1ms/step\n",
      "195/195 [==============================] - 0s 1ms/step\n",
      "195/195 [==============================] - 0s 1ms/step\n"
     ]
    },
    {
     "name": "stderr",
     "output_type": "stream",
     "text": [
      "\u001b[32m[I 2023-03-02 10:58:18,002]\u001b[0m Trial 26 finished with value: 0.8547814145543811 and parameters: {'units': 27, 'alpha': 0.0690625, 'dropout': 0.209375, 'lr': 0.0003089933019665141, 'batch_size': 1024, 'l2_kern': 0.00010746078283213182, 'l2_bias': 2.942727176209284e-05}. Best is trial 13 with value: 0.8558005150328728.\u001b[0m\n",
      "C:\\Users\\User\\AppData\\Local\\Temp\\ipykernel_10400\\3785980822.py:37: DeprecationWarning: KerasClassifier is deprecated, use Sci-Keras (https://github.com/adriangb/scikeras) instead. See https://www.adriangb.com/scikeras/stable/migration.html for help migrating.\n",
      "  ('classifier', KerasClassifier(build_fn=self.create_model, verbose=0))\n",
      "\u001b[33m[W 2023-03-02 10:58:18,006]\u001b[0m The parameter 'batch_size' in trial#27 is sampled independently by using `RandomSampler` instead of `QMCSampler` (optimization performance may be degraded). `QMCSampler` does not support dynamic search space or `CategoricalDistribution`. You can suppress this warning by setting `warn_independent_sampling` to `False` in the constructor of `QMCSampler`, if this independent sampling is intended behavior.\u001b[0m\n"
     ]
    },
    {
     "name": "stdout",
     "output_type": "stream",
     "text": [
      "195/195 [==============================] - 0s 1ms/step\n",
      "195/195 [==============================] - 0s 1ms/step\n",
      "195/195 [==============================] - 0s 1ms/step\n"
     ]
    },
    {
     "name": "stderr",
     "output_type": "stream",
     "text": [
      "\u001b[32m[I 2023-03-02 10:59:21,152]\u001b[0m Trial 27 finished with value: 0.8540316220667051 and parameters: {'units': 37, 'alpha': 0.04656250000000001, 'dropout': 0.434375, 'lr': 0.0011620011671182521, 'batch_size': 32, 'l2_kern': 1.9109529749704416e-05, 'l2_bias': 0.00016548170999431823}. Best is trial 13 with value: 0.8558005150328728.\u001b[0m\n",
      "C:\\Users\\User\\AppData\\Local\\Temp\\ipykernel_10400\\3785980822.py:37: DeprecationWarning: KerasClassifier is deprecated, use Sci-Keras (https://github.com/adriangb/scikeras) instead. See https://www.adriangb.com/scikeras/stable/migration.html for help migrating.\n",
      "  ('classifier', KerasClassifier(build_fn=self.create_model, verbose=0))\n",
      "\u001b[33m[W 2023-03-02 10:59:21,153]\u001b[0m The parameter 'batch_size' in trial#28 is sampled independently by using `RandomSampler` instead of `QMCSampler` (optimization performance may be degraded). `QMCSampler` does not support dynamic search space or `CategoricalDistribution`. You can suppress this warning by setting `warn_independent_sampling` to `False` in the constructor of `QMCSampler`, if this independent sampling is intended behavior.\u001b[0m\n"
     ]
    },
    {
     "name": "stdout",
     "output_type": "stream",
     "text": [
      "195/195 [==============================] - 0s 1ms/step\n",
      "195/195 [==============================] - 0s 1ms/step\n",
      "195/195 [==============================] - 0s 1ms/step\n"
     ]
    },
    {
     "name": "stderr",
     "output_type": "stream",
     "text": [
      "\u001b[32m[I 2023-03-02 11:00:18,619]\u001b[0m Trial 28 finished with value: 0.8549620754518467 and parameters: {'units': 17, 'alpha': 0.0915625, 'dropout': 0.284375, 'lr': 8.216589050159985e-05, 'batch_size': 128, 'l2_kern': 0.0006042963902381332, 'l2_bias': 0.005232991146814949}. Best is trial 13 with value: 0.8558005150328728.\u001b[0m\n",
      "C:\\Users\\User\\AppData\\Local\\Temp\\ipykernel_10400\\3785980822.py:37: DeprecationWarning: KerasClassifier is deprecated, use Sci-Keras (https://github.com/adriangb/scikeras) instead. See https://www.adriangb.com/scikeras/stable/migration.html for help migrating.\n",
      "  ('classifier', KerasClassifier(build_fn=self.create_model, verbose=0))\n",
      "\u001b[33m[W 2023-03-02 11:00:18,625]\u001b[0m The parameter 'batch_size' in trial#29 is sampled independently by using `RandomSampler` instead of `QMCSampler` (optimization performance may be degraded). `QMCSampler` does not support dynamic search space or `CategoricalDistribution`. You can suppress this warning by setting `warn_independent_sampling` to `False` in the constructor of `QMCSampler`, if this independent sampling is intended behavior.\u001b[0m\n"
     ]
    },
    {
     "name": "stdout",
     "output_type": "stream",
     "text": [
      "195/195 [==============================] - 0s 1ms/step\n",
      "195/195 [==============================] - 0s 1ms/step\n",
      "195/195 [==============================] - 0s 1ms/step\n"
     ]
    },
    {
     "name": "stderr",
     "output_type": "stream",
     "text": [
      "\u001b[32m[I 2023-03-02 11:01:13,570]\u001b[0m Trial 29 finished with value: 0.8554376092306283 and parameters: {'units': 12, 'alpha': 0.035312500000000004, 'dropout': 0.246875, 'lr': 0.00015933835010790206, 'batch_size': 64, 'l2_kern': 0.0014330125702369636, 'l2_bias': 0.0003924189758484538}. Best is trial 13 with value: 0.8558005150328728.\u001b[0m\n",
      "C:\\Users\\User\\AppData\\Local\\Temp\\ipykernel_10400\\3785980822.py:37: DeprecationWarning: KerasClassifier is deprecated, use Sci-Keras (https://github.com/adriangb/scikeras) instead. See https://www.adriangb.com/scikeras/stable/migration.html for help migrating.\n",
      "  ('classifier', KerasClassifier(build_fn=self.create_model, verbose=0))\n",
      "\u001b[33m[W 2023-03-02 11:01:13,575]\u001b[0m The parameter 'batch_size' in trial#30 is sampled independently by using `RandomSampler` instead of `QMCSampler` (optimization performance may be degraded). `QMCSampler` does not support dynamic search space or `CategoricalDistribution`. You can suppress this warning by setting `warn_independent_sampling` to `False` in the constructor of `QMCSampler`, if this independent sampling is intended behavior.\u001b[0m\n"
     ]
    },
    {
     "name": "stdout",
     "output_type": "stream",
     "text": [
      "195/195 [==============================] - 0s 1ms/step\n",
      "195/195 [==============================] - 0s 1ms/step\n",
      "195/195 [==============================] - 0s 1ms/step\n"
     ]
    },
    {
     "name": "stderr",
     "output_type": "stream",
     "text": [
      "\u001b[32m[I 2023-03-02 11:01:27,463]\u001b[0m Trial 30 finished with value: 0.8538187016199394 and parameters: {'units': 32, 'alpha': 0.08031250000000001, 'dropout': 0.396875, 'lr': 0.002253384557287477, 'batch_size': 512, 'l2_kern': 4.531583637600821e-05, 'l2_bias': 1.2409377607517204e-05}. Best is trial 13 with value: 0.8558005150328728.\u001b[0m\n",
      "C:\\Users\\User\\AppData\\Local\\Temp\\ipykernel_10400\\3785980822.py:37: DeprecationWarning: KerasClassifier is deprecated, use Sci-Keras (https://github.com/adriangb/scikeras) instead. See https://www.adriangb.com/scikeras/stable/migration.html for help migrating.\n",
      "  ('classifier', KerasClassifier(build_fn=self.create_model, verbose=0))\n",
      "\u001b[33m[W 2023-03-02 11:01:27,466]\u001b[0m The parameter 'batch_size' in trial#31 is sampled independently by using `RandomSampler` instead of `QMCSampler` (optimization performance may be degraded). `QMCSampler` does not support dynamic search space or `CategoricalDistribution`. You can suppress this warning by setting `warn_independent_sampling` to `False` in the constructor of `QMCSampler`, if this independent sampling is intended behavior.\u001b[0m\n"
     ]
    },
    {
     "name": "stdout",
     "output_type": "stream",
     "text": [
      "195/195 [==============================] - 0s 1ms/step\n",
      "195/195 [==============================] - 0s 1ms/step\n",
      "195/195 [==============================] - 0s 2ms/step\n"
     ]
    },
    {
     "name": "stderr",
     "output_type": "stream",
     "text": [
      "\u001b[32m[I 2023-03-02 11:01:47,286]\u001b[0m Trial 31 finished with value: 0.8550887076850584 and parameters: {'units': 22, 'alpha': 0.012812500000000001, 'dropout': 0.321875, 'lr': 0.0005992082922630593, 'batch_size': 128, 'l2_kern': 0.0002548296747979348, 'l2_bias': 6.978305848598668e-05}. Best is trial 13 with value: 0.8558005150328728.\u001b[0m\n",
      "C:\\Users\\User\\AppData\\Local\\Temp\\ipykernel_10400\\3785980822.py:37: DeprecationWarning: KerasClassifier is deprecated, use Sci-Keras (https://github.com/adriangb/scikeras) instead. See https://www.adriangb.com/scikeras/stable/migration.html for help migrating.\n",
      "  ('classifier', KerasClassifier(build_fn=self.create_model, verbose=0))\n",
      "\u001b[33m[W 2023-03-02 11:01:47,293]\u001b[0m The parameter 'batch_size' in trial#32 is sampled independently by using `RandomSampler` instead of `QMCSampler` (optimization performance may be degraded). `QMCSampler` does not support dynamic search space or `CategoricalDistribution`. You can suppress this warning by setting `warn_independent_sampling` to `False` in the constructor of `QMCSampler`, if this independent sampling is intended behavior.\u001b[0m\n"
     ]
    },
    {
     "name": "stdout",
     "output_type": "stream",
     "text": [
      "195/195 [==============================] - 0s 1ms/step\n",
      "195/195 [==============================] - 0s 1ms/step\n",
      "195/195 [==============================] - 0s 1ms/step\n"
     ]
    },
    {
     "name": "stderr",
     "output_type": "stream",
     "text": [
      "\u001b[32m[I 2023-03-02 11:02:41,903]\u001b[0m Trial 32 finished with value: 0.8531248816858431 and parameters: {'units': 3, 'alpha': 0.05781250000000001, 'dropout': 0.471875, 'lr': 0.008474084936048391, 'batch_size': 16, 'l2_kern': 0.008058421877614822, 'l2_bias': 0.002206734069084591}. Best is trial 13 with value: 0.8558005150328728.\u001b[0m\n",
      "C:\\Users\\User\\AppData\\Local\\Temp\\ipykernel_10400\\3785980822.py:37: DeprecationWarning: KerasClassifier is deprecated, use Sci-Keras (https://github.com/adriangb/scikeras) instead. See https://www.adriangb.com/scikeras/stable/migration.html for help migrating.\n",
      "  ('classifier', KerasClassifier(build_fn=self.create_model, verbose=0))\n",
      "\u001b[33m[W 2023-03-02 11:02:41,906]\u001b[0m The parameter 'batch_size' in trial#33 is sampled independently by using `RandomSampler` instead of `QMCSampler` (optimization performance may be degraded). `QMCSampler` does not support dynamic search space or `CategoricalDistribution`. You can suppress this warning by setting `warn_independent_sampling` to `False` in the constructor of `QMCSampler`, if this independent sampling is intended behavior.\u001b[0m\n"
     ]
    },
    {
     "name": "stdout",
     "output_type": "stream",
     "text": [
      "195/195 [==============================] - 0s 1ms/step\n",
      "195/195 [==============================] - 0s 2ms/step\n",
      "195/195 [==============================] - 0s 1ms/step\n"
     ]
    },
    {
     "name": "stderr",
     "output_type": "stream",
     "text": [
      "\u001b[32m[I 2023-03-02 11:03:05,826]\u001b[0m Trial 33 finished with value: 0.8550377246759715 and parameters: {'units': 3, 'alpha': 0.033906250000000006, 'dropout': 0.4109375, 'lr': 0.0009064540280764379, 'batch_size': 128, 'l2_kern': 2.6416483203860905e-05, 'l2_bias': 0.005829415347136074}. Best is trial 13 with value: 0.8558005150328728.\u001b[0m\n",
      "C:\\Users\\User\\AppData\\Local\\Temp\\ipykernel_10400\\3785980822.py:37: DeprecationWarning: KerasClassifier is deprecated, use Sci-Keras (https://github.com/adriangb/scikeras) instead. See https://www.adriangb.com/scikeras/stable/migration.html for help migrating.\n",
      "  ('classifier', KerasClassifier(build_fn=self.create_model, verbose=0))\n",
      "\u001b[33m[W 2023-03-02 11:03:05,831]\u001b[0m The parameter 'batch_size' in trial#34 is sampled independently by using `RandomSampler` instead of `QMCSampler` (optimization performance may be degraded). `QMCSampler` does not support dynamic search space or `CategoricalDistribution`. You can suppress this warning by setting `warn_independent_sampling` to `False` in the constructor of `QMCSampler`, if this independent sampling is intended behavior.\u001b[0m\n"
     ]
    },
    {
     "name": "stdout",
     "output_type": "stream",
     "text": [
      "195/195 [==============================] - 0s 1ms/step\n",
      "195/195 [==============================] - 0s 2ms/step\n",
      "195/195 [==============================] - 0s 1ms/step\n"
     ]
    },
    {
     "name": "stderr",
     "output_type": "stream",
     "text": [
      "\u001b[32m[I 2023-03-02 11:05:40,312]\u001b[0m Trial 34 finished with value: 0.8549637940460743 and parameters: {'units': 23, 'alpha': 0.07890625, 'dropout': 0.2609375, 'lr': 6.409597900867102e-05, 'batch_size': 16, 'l2_kern': 0.0008353625469578262, 'l2_bias': 0.00018434229924091107}. Best is trial 13 with value: 0.8558005150328728.\u001b[0m\n",
      "C:\\Users\\User\\AppData\\Local\\Temp\\ipykernel_10400\\3785980822.py:37: DeprecationWarning: KerasClassifier is deprecated, use Sci-Keras (https://github.com/adriangb/scikeras) instead. See https://www.adriangb.com/scikeras/stable/migration.html for help migrating.\n",
      "  ('classifier', KerasClassifier(build_fn=self.create_model, verbose=0))\n",
      "\u001b[33m[W 2023-03-02 11:05:40,315]\u001b[0m The parameter 'batch_size' in trial#35 is sampled independently by using `RandomSampler` instead of `QMCSampler` (optimization performance may be degraded). `QMCSampler` does not support dynamic search space or `CategoricalDistribution`. You can suppress this warning by setting `warn_independent_sampling` to `False` in the constructor of `QMCSampler`, if this independent sampling is intended behavior.\u001b[0m\n"
     ]
    },
    {
     "name": "stdout",
     "output_type": "stream",
     "text": [
      "195/195 [==============================] - 0s 1ms/step\n",
      "195/195 [==============================] - 0s 1ms/step\n",
      "195/195 [==============================] - 0s 2ms/step\n"
     ]
    },
    {
     "name": "stderr",
     "output_type": "stream",
     "text": [
      "\u001b[32m[I 2023-03-02 11:06:11,186]\u001b[0m Trial 35 finished with value: 0.8528186879009901 and parameters: {'units': 33, 'alpha': 0.01140625, 'dropout': 0.4859375, 'lr': 0.00340881382172487, 'batch_size': 32, 'l2_kern': 0.004697588816706492, 'l2_bias': 3.278121151393459e-05}. Best is trial 13 with value: 0.8558005150328728.\u001b[0m\n",
      "C:\\Users\\User\\AppData\\Local\\Temp\\ipykernel_10400\\3785980822.py:37: DeprecationWarning: KerasClassifier is deprecated, use Sci-Keras (https://github.com/adriangb/scikeras) instead. See https://www.adriangb.com/scikeras/stable/migration.html for help migrating.\n",
      "  ('classifier', KerasClassifier(build_fn=self.create_model, verbose=0))\n",
      "\u001b[33m[W 2023-03-02 11:06:11,188]\u001b[0m The parameter 'batch_size' in trial#36 is sampled independently by using `RandomSampler` instead of `QMCSampler` (optimization performance may be degraded). `QMCSampler` does not support dynamic search space or `CategoricalDistribution`. You can suppress this warning by setting `warn_independent_sampling` to `False` in the constructor of `QMCSampler`, if this independent sampling is intended behavior.\u001b[0m\n"
     ]
    },
    {
     "name": "stdout",
     "output_type": "stream",
     "text": [
      "195/195 [==============================] - 0s 1ms/step\n",
      "195/195 [==============================] - 0s 1ms/step\n",
      "195/195 [==============================] - 0s 1ms/step\n"
     ]
    },
    {
     "name": "stderr",
     "output_type": "stream",
     "text": [
      "\u001b[32m[I 2023-03-02 11:06:50,416]\u001b[0m Trial 36 finished with value: 0.8550671707219175 and parameters: {'units': 13, 'alpha': 0.056406250000000005, 'dropout': 0.3359375, 'lr': 0.0002410395369144086, 'batch_size': 128, 'l2_kern': 0.0001485508017172774, 'l2_bias': 0.001036632928437698}. Best is trial 13 with value: 0.8558005150328728.\u001b[0m\n",
      "C:\\Users\\User\\AppData\\Local\\Temp\\ipykernel_10400\\3785980822.py:37: DeprecationWarning: KerasClassifier is deprecated, use Sci-Keras (https://github.com/adriangb/scikeras) instead. See https://www.adriangb.com/scikeras/stable/migration.html for help migrating.\n",
      "  ('classifier', KerasClassifier(build_fn=self.create_model, verbose=0))\n",
      "\u001b[33m[W 2023-03-02 11:06:50,420]\u001b[0m The parameter 'batch_size' in trial#37 is sampled independently by using `RandomSampler` instead of `QMCSampler` (optimization performance may be degraded). `QMCSampler` does not support dynamic search space or `CategoricalDistribution`. You can suppress this warning by setting `warn_independent_sampling` to `False` in the constructor of `QMCSampler`, if this independent sampling is intended behavior.\u001b[0m\n"
     ]
    },
    {
     "name": "stdout",
     "output_type": "stream",
     "text": [
      "195/195 [==============================] - 0s 1ms/step\n",
      "195/195 [==============================] - 0s 1ms/step\n",
      "195/195 [==============================] - 0s 1ms/step\n"
     ]
    },
    {
     "name": "stderr",
     "output_type": "stream",
     "text": [
      "\u001b[32m[I 2023-03-02 11:07:36,014]\u001b[0m Trial 37 finished with value: 0.8548428162039743 and parameters: {'units': 18, 'alpha': 0.022656250000000003, 'dropout': 0.2234375, 'lr': 0.00046743048591394305, 'batch_size': 64, 'l2_kern': 6.264335366568851e-05, 'l2_bias': 0.0024582440689201977}. Best is trial 13 with value: 0.8558005150328728.\u001b[0m\n",
      "C:\\Users\\User\\AppData\\Local\\Temp\\ipykernel_10400\\3785980822.py:37: DeprecationWarning: KerasClassifier is deprecated, use Sci-Keras (https://github.com/adriangb/scikeras) instead. See https://www.adriangb.com/scikeras/stable/migration.html for help migrating.\n",
      "  ('classifier', KerasClassifier(build_fn=self.create_model, verbose=0))\n",
      "\u001b[33m[W 2023-03-02 11:07:36,016]\u001b[0m The parameter 'batch_size' in trial#38 is sampled independently by using `RandomSampler` instead of `QMCSampler` (optimization performance may be degraded). `QMCSampler` does not support dynamic search space or `CategoricalDistribution`. You can suppress this warning by setting `warn_independent_sampling` to `False` in the constructor of `QMCSampler`, if this independent sampling is intended behavior.\u001b[0m\n"
     ]
    },
    {
     "name": "stdout",
     "output_type": "stream",
     "text": [
      "195/195 [==============================] - 0s 1ms/step\n",
      "195/195 [==============================] - 0s 1ms/step\n",
      "195/195 [==============================] - 0s 1ms/step\n"
     ]
    },
    {
     "name": "stderr",
     "output_type": "stream",
     "text": [
      "\u001b[32m[I 2023-03-02 11:07:58,077]\u001b[0m Trial 38 finished with value: 0.8538345097233732 and parameters: {'units': 37, 'alpha': 0.06765625, 'dropout': 0.3734375, 'lr': 0.006610465326461444, 'batch_size': 64, 'l2_kern': 0.001980956778550339, 'l2_bias': 7.77365030238776e-05}. Best is trial 13 with value: 0.8558005150328728.\u001b[0m\n",
      "C:\\Users\\User\\AppData\\Local\\Temp\\ipykernel_10400\\3785980822.py:37: DeprecationWarning: KerasClassifier is deprecated, use Sci-Keras (https://github.com/adriangb/scikeras) instead. See https://www.adriangb.com/scikeras/stable/migration.html for help migrating.\n",
      "  ('classifier', KerasClassifier(build_fn=self.create_model, verbose=0))\n",
      "\u001b[33m[W 2023-03-02 11:07:58,078]\u001b[0m The parameter 'batch_size' in trial#39 is sampled independently by using `RandomSampler` instead of `QMCSampler` (optimization performance may be degraded). `QMCSampler` does not support dynamic search space or `CategoricalDistribution`. You can suppress this warning by setting `warn_independent_sampling` to `False` in the constructor of `QMCSampler`, if this independent sampling is intended behavior.\u001b[0m\n"
     ]
    },
    {
     "name": "stdout",
     "output_type": "stream",
     "text": [
      "195/195 [==============================] - 0s 2ms/step\n",
      "195/195 [==============================] - 0s 1ms/step\n",
      "195/195 [==============================] - 0s 1ms/step\n"
     ]
    },
    {
     "name": "stderr",
     "output_type": "stream",
     "text": [
      "\u001b[32m[I 2023-03-02 11:08:49,544]\u001b[0m Trial 39 finished with value: 0.8550594152040555 and parameters: {'units': 28, 'alpha': 0.04515625000000001, 'dropout': 0.2984375, 'lr': 0.00012429668176715627, 'batch_size': 512, 'l2_kern': 0.0003522694651473102, 'l2_bias': 1.3823722273578999e-05}. Best is trial 13 with value: 0.8558005150328728.\u001b[0m\n",
      "C:\\Users\\User\\AppData\\Local\\Temp\\ipykernel_10400\\3785980822.py:37: DeprecationWarning: KerasClassifier is deprecated, use Sci-Keras (https://github.com/adriangb/scikeras) instead. See https://www.adriangb.com/scikeras/stable/migration.html for help migrating.\n",
      "  ('classifier', KerasClassifier(build_fn=self.create_model, verbose=0))\n",
      "\u001b[33m[W 2023-03-02 11:08:49,547]\u001b[0m The parameter 'batch_size' in trial#40 is sampled independently by using `RandomSampler` instead of `QMCSampler` (optimization performance may be degraded). `QMCSampler` does not support dynamic search space or `CategoricalDistribution`. You can suppress this warning by setting `warn_independent_sampling` to `False` in the constructor of `QMCSampler`, if this independent sampling is intended behavior.\u001b[0m\n"
     ]
    },
    {
     "name": "stdout",
     "output_type": "stream",
     "text": [
      "195/195 [==============================] - 0s 1ms/step\n",
      "195/195 [==============================] - 0s 1ms/step\n",
      "195/195 [==============================] - 0s 1ms/step\n"
     ]
    },
    {
     "name": "stderr",
     "output_type": "stream",
     "text": [
      "\u001b[32m[I 2023-03-02 11:09:06,067]\u001b[0m Trial 40 finished with value: 0.8542342666964281 and parameters: {'units': 8, 'alpha': 0.09015625000000001, 'dropout': 0.4484375, 'lr': 0.0017578205311308505, 'batch_size': 256, 'l2_kern': 1.1139738599948017e-05, 'l2_bias': 0.000437144481261109}. Best is trial 13 with value: 0.8558005150328728.\u001b[0m\n",
      "C:\\Users\\User\\AppData\\Local\\Temp\\ipykernel_10400\\3785980822.py:37: DeprecationWarning: KerasClassifier is deprecated, use Sci-Keras (https://github.com/adriangb/scikeras) instead. See https://www.adriangb.com/scikeras/stable/migration.html for help migrating.\n",
      "  ('classifier', KerasClassifier(build_fn=self.create_model, verbose=0))\n",
      "\u001b[33m[W 2023-03-02 11:09:06,069]\u001b[0m The parameter 'batch_size' in trial#41 is sampled independently by using `RandomSampler` instead of `QMCSampler` (optimization performance may be degraded). `QMCSampler` does not support dynamic search space or `CategoricalDistribution`. You can suppress this warning by setting `warn_independent_sampling` to `False` in the constructor of `QMCSampler`, if this independent sampling is intended behavior.\u001b[0m\n"
     ]
    },
    {
     "name": "stdout",
     "output_type": "stream",
     "text": [
      "195/195 [==============================] - 0s 1ms/step\n",
      "195/195 [==============================] - 0s 2ms/step\n",
      "195/195 [==============================] - 0s 2ms/step\n"
     ]
    },
    {
     "name": "stderr",
     "output_type": "stream",
     "text": [
      "\u001b[32m[I 2023-03-02 11:09:24,538]\u001b[0m Trial 41 finished with value: 0.8544459838215482 and parameters: {'units': 11, 'alpha': 0.01703125, 'dropout': 0.2796875, 'lr': 0.009205479311827497, 'batch_size': 128, 'l2_kern': 0.0012863969449369746, 'l2_bias': 0.0015963385442879423}. Best is trial 13 with value: 0.8558005150328728.\u001b[0m\n",
      "C:\\Users\\User\\AppData\\Local\\Temp\\ipykernel_10400\\3785980822.py:37: DeprecationWarning: KerasClassifier is deprecated, use Sci-Keras (https://github.com/adriangb/scikeras) instead. See https://www.adriangb.com/scikeras/stable/migration.html for help migrating.\n",
      "  ('classifier', KerasClassifier(build_fn=self.create_model, verbose=0))\n",
      "\u001b[33m[W 2023-03-02 11:09:24,540]\u001b[0m The parameter 'batch_size' in trial#42 is sampled independently by using `RandomSampler` instead of `QMCSampler` (optimization performance may be degraded). `QMCSampler` does not support dynamic search space or `CategoricalDistribution`. You can suppress this warning by setting `warn_independent_sampling` to `False` in the constructor of `QMCSampler`, if this independent sampling is intended behavior.\u001b[0m\n"
     ]
    },
    {
     "name": "stdout",
     "output_type": "stream",
     "text": [
      "195/195 [==============================] - 0s 1ms/step\n",
      "195/195 [==============================] - 0s 1ms/step\n",
      "195/195 [==============================] - 0s 1ms/step\n"
     ]
    },
    {
     "name": "stderr",
     "output_type": "stream",
     "text": [
      "\u001b[32m[I 2023-03-02 11:09:46,207]\u001b[0m Trial 42 finished with value: 0.8544564128001976 and parameters: {'units': 30, 'alpha': 0.06203125000000001, 'dropout': 0.4296875, 'lr': 0.0006509256845465694, 'batch_size': 128, 'l2_kern': 4.0679443210830444e-05, 'l2_bias': 5.048065716667472e-05}. Best is trial 13 with value: 0.8558005150328728.\u001b[0m\n",
      "C:\\Users\\User\\AppData\\Local\\Temp\\ipykernel_10400\\3785980822.py:37: DeprecationWarning: KerasClassifier is deprecated, use Sci-Keras (https://github.com/adriangb/scikeras) instead. See https://www.adriangb.com/scikeras/stable/migration.html for help migrating.\n",
      "  ('classifier', KerasClassifier(build_fn=self.create_model, verbose=0))\n",
      "\u001b[33m[W 2023-03-02 11:09:46,213]\u001b[0m The parameter 'batch_size' in trial#43 is sampled independently by using `RandomSampler` instead of `QMCSampler` (optimization performance may be degraded). `QMCSampler` does not support dynamic search space or `CategoricalDistribution`. You can suppress this warning by setting `warn_independent_sampling` to `False` in the constructor of `QMCSampler`, if this independent sampling is intended behavior.\u001b[0m\n"
     ]
    },
    {
     "name": "stdout",
     "output_type": "stream",
     "text": [
      "195/195 [==============================] - 0s 1ms/step\n",
      "195/195 [==============================] - 0s 2ms/step\n",
      "195/195 [==============================] - 0s 1ms/step\n"
     ]
    },
    {
     "name": "stderr",
     "output_type": "stream",
     "text": [
      "\u001b[32m[I 2023-03-02 11:10:07,745]\u001b[0m Trial 43 finished with value: 0.8536881754094366 and parameters: {'units': 40, 'alpha': 0.039531250000000004, 'dropout': 0.20468750000000002, 'lr': 0.0024478731426752073, 'batch_size': 64, 'l2_kern': 0.0002287573200318398, 'l2_bias': 0.0002838735964758755}. Best is trial 13 with value: 0.8558005150328728.\u001b[0m\n",
      "C:\\Users\\User\\AppData\\Local\\Temp\\ipykernel_10400\\3785980822.py:37: DeprecationWarning: KerasClassifier is deprecated, use Sci-Keras (https://github.com/adriangb/scikeras) instead. See https://www.adriangb.com/scikeras/stable/migration.html for help migrating.\n",
      "  ('classifier', KerasClassifier(build_fn=self.create_model, verbose=0))\n",
      "\u001b[33m[W 2023-03-02 11:10:07,746]\u001b[0m The parameter 'batch_size' in trial#44 is sampled independently by using `RandomSampler` instead of `QMCSampler` (optimization performance may be degraded). `QMCSampler` does not support dynamic search space or `CategoricalDistribution`. You can suppress this warning by setting `warn_independent_sampling` to `False` in the constructor of `QMCSampler`, if this independent sampling is intended behavior.\u001b[0m\n"
     ]
    },
    {
     "name": "stdout",
     "output_type": "stream",
     "text": [
      "195/195 [==============================] - 0s 1ms/step\n",
      "195/195 [==============================] - 0s 1ms/step\n",
      "195/195 [==============================] - 0s 1ms/step\n"
     ]
    },
    {
     "name": "stderr",
     "output_type": "stream",
     "text": [
      "\u001b[32m[I 2023-03-02 11:13:18,197]\u001b[0m Trial 44 finished with value: 0.8545765919942081 and parameters: {'units': 20, 'alpha': 0.08453125, 'dropout': 0.35468750000000004, 'lr': 0.00017309076986700653, 'batch_size': 16, 'l2_kern': 0.007233941627366748, 'l2_bias': 0.008976871324473142}. Best is trial 13 with value: 0.8558005150328728.\u001b[0m\n",
      "C:\\Users\\User\\AppData\\Local\\Temp\\ipykernel_10400\\3785980822.py:37: DeprecationWarning: KerasClassifier is deprecated, use Sci-Keras (https://github.com/adriangb/scikeras) instead. See https://www.adriangb.com/scikeras/stable/migration.html for help migrating.\n",
      "  ('classifier', KerasClassifier(build_fn=self.create_model, verbose=0))\n",
      "\u001b[33m[W 2023-03-02 11:13:18,199]\u001b[0m The parameter 'batch_size' in trial#45 is sampled independently by using `RandomSampler` instead of `QMCSampler` (optimization performance may be degraded). `QMCSampler` does not support dynamic search space or `CategoricalDistribution`. You can suppress this warning by setting `warn_independent_sampling` to `False` in the constructor of `QMCSampler`, if this independent sampling is intended behavior.\u001b[0m\n"
     ]
    },
    {
     "name": "stdout",
     "output_type": "stream",
     "text": [
      "195/195 [==============================] - 0s 1ms/step\n",
      "195/195 [==============================] - 0s 1ms/step\n",
      "195/195 [==============================] - 0s 1ms/step\n"
     ]
    },
    {
     "name": "stderr",
     "output_type": "stream",
     "text": [
      "\u001b[32m[I 2023-03-02 11:15:51,534]\u001b[0m Trial 45 finished with value: 0.8554081688738453 and parameters: {'units': 16, 'alpha': 0.05078125000000001, 'dropout': 0.4671875, 'lr': 8.925759074384164e-05, 'batch_size': 16, 'l2_kern': 0.003050527890267026, 'l2_bias': 0.0006731703824144984}. Best is trial 13 with value: 0.8558005150328728.\u001b[0m\n",
      "C:\\Users\\User\\AppData\\Local\\Temp\\ipykernel_10400\\3785980822.py:37: DeprecationWarning: KerasClassifier is deprecated, use Sci-Keras (https://github.com/adriangb/scikeras) instead. See https://www.adriangb.com/scikeras/stable/migration.html for help migrating.\n",
      "  ('classifier', KerasClassifier(build_fn=self.create_model, verbose=0))\n",
      "\u001b[33m[W 2023-03-02 11:15:51,537]\u001b[0m The parameter 'batch_size' in trial#46 is sampled independently by using `RandomSampler` instead of `QMCSampler` (optimization performance may be degraded). `QMCSampler` does not support dynamic search space or `CategoricalDistribution`. You can suppress this warning by setting `warn_independent_sampling` to `False` in the constructor of `QMCSampler`, if this independent sampling is intended behavior.\u001b[0m\n"
     ]
    },
    {
     "name": "stdout",
     "output_type": "stream",
     "text": [
      "195/195 [==============================] - 0s 2ms/step\n",
      "195/195 [==============================] - 0s 2ms/step\n",
      "195/195 [==============================] - 0s 1ms/step\n"
     ]
    },
    {
     "name": "stderr",
     "output_type": "stream",
     "text": [
      "\u001b[32m[I 2023-03-02 11:16:12,472]\u001b[0m Trial 46 finished with value: 0.8546340313328704 and parameters: {'units': 35, 'alpha': 0.09578125, 'dropout': 0.3171875, 'lr': 0.0012622929537468787, 'batch_size': 128, 'l2_kern': 9.646616199112003e-05, 'l2_bias': 2.128751661796373e-05}. Best is trial 13 with value: 0.8558005150328728.\u001b[0m\n",
      "C:\\Users\\User\\AppData\\Local\\Temp\\ipykernel_10400\\3785980822.py:37: DeprecationWarning: KerasClassifier is deprecated, use Sci-Keras (https://github.com/adriangb/scikeras) instead. See https://www.adriangb.com/scikeras/stable/migration.html for help migrating.\n",
      "  ('classifier', KerasClassifier(build_fn=self.create_model, verbose=0))\n",
      "\u001b[33m[W 2023-03-02 11:16:12,474]\u001b[0m The parameter 'batch_size' in trial#47 is sampled independently by using `RandomSampler` instead of `QMCSampler` (optimization performance may be degraded). `QMCSampler` does not support dynamic search space or `CategoricalDistribution`. You can suppress this warning by setting `warn_independent_sampling` to `False` in the constructor of `QMCSampler`, if this independent sampling is intended behavior.\u001b[0m\n"
     ]
    },
    {
     "name": "stdout",
     "output_type": "stream",
     "text": [
      "195/195 [==============================] - 0s 2ms/step\n",
      "195/195 [==============================] - 0s 1ms/step\n",
      "195/195 [==============================] - 0s 2ms/step\n"
     ]
    },
    {
     "name": "stderr",
     "output_type": "stream",
     "text": [
      "\u001b[32m[I 2023-03-02 11:16:40,979]\u001b[0m Trial 47 finished with value: 0.8552869355288903 and parameters: {'units': 25, 'alpha': 0.02828125, 'dropout': 0.3921875, 'lr': 0.00033566237183273005, 'batch_size': 512, 'l2_kern': 1.715437896342878e-05, 'l2_bias': 0.00011970850304957301}. Best is trial 13 with value: 0.8558005150328728.\u001b[0m\n",
      "C:\\Users\\User\\AppData\\Local\\Temp\\ipykernel_10400\\3785980822.py:37: DeprecationWarning: KerasClassifier is deprecated, use Sci-Keras (https://github.com/adriangb/scikeras) instead. See https://www.adriangb.com/scikeras/stable/migration.html for help migrating.\n",
      "  ('classifier', KerasClassifier(build_fn=self.create_model, verbose=0))\n",
      "\u001b[33m[W 2023-03-02 11:16:40,981]\u001b[0m The parameter 'batch_size' in trial#48 is sampled independently by using `RandomSampler` instead of `QMCSampler` (optimization performance may be degraded). `QMCSampler` does not support dynamic search space or `CategoricalDistribution`. You can suppress this warning by setting `warn_independent_sampling` to `False` in the constructor of `QMCSampler`, if this independent sampling is intended behavior.\u001b[0m\n"
     ]
    },
    {
     "name": "stdout",
     "output_type": "stream",
     "text": [
      "195/195 [==============================] - 0s 1ms/step\n",
      "195/195 [==============================] - 0s 1ms/step\n",
      "195/195 [==============================] - 0s 1ms/step\n"
     ]
    },
    {
     "name": "stderr",
     "output_type": "stream",
     "text": [
      "\u001b[32m[I 2023-03-02 11:16:56,599]\u001b[0m Trial 48 finished with value: 0.853943431783419 and parameters: {'units': 6, 'alpha': 0.07328125, 'dropout': 0.2421875, 'lr': 0.004746982786241673, 'batch_size': 128, 'l2_kern': 0.0005424690937011326, 'l2_bias': 0.00378551524925863}. Best is trial 13 with value: 0.8558005150328728.\u001b[0m\n",
      "C:\\Users\\User\\AppData\\Local\\Temp\\ipykernel_10400\\3785980822.py:37: DeprecationWarning: KerasClassifier is deprecated, use Sci-Keras (https://github.com/adriangb/scikeras) instead. See https://www.adriangb.com/scikeras/stable/migration.html for help migrating.\n",
      "  ('classifier', KerasClassifier(build_fn=self.create_model, verbose=0))\n",
      "\u001b[33m[W 2023-03-02 11:16:56,601]\u001b[0m The parameter 'batch_size' in trial#49 is sampled independently by using `RandomSampler` instead of `QMCSampler` (optimization performance may be degraded). `QMCSampler` does not support dynamic search space or `CategoricalDistribution`. You can suppress this warning by setting `warn_independent_sampling` to `False` in the constructor of `QMCSampler`, if this independent sampling is intended behavior.\u001b[0m\n"
     ]
    },
    {
     "name": "stdout",
     "output_type": "stream",
     "text": [
      "195/195 [==============================] - 0s 2ms/step\n",
      "195/195 [==============================] - 0s 1ms/step\n",
      "195/195 [==============================] - 0s 1ms/step\n"
     ]
    },
    {
     "name": "stderr",
     "output_type": "stream",
     "text": [
      "\u001b[32m[I 2023-03-02 11:18:43,257]\u001b[0m Trial 49 finished with value: 0.8547684581226408 and parameters: {'units': 5, 'alpha': 0.031093750000000003, 'dropout': 0.4390625, 'lr': 0.00010533006385638602, 'batch_size': 32, 'l2_kern': 0.00018434229924091107, 'l2_bias': 1.715437896342878e-05}. Best is trial 13 with value: 0.8558005150328728.\u001b[0m\n",
      "C:\\Users\\User\\AppData\\Local\\Temp\\ipykernel_10400\\3785980822.py:37: DeprecationWarning: KerasClassifier is deprecated, use Sci-Keras (https://github.com/adriangb/scikeras) instead. See https://www.adriangb.com/scikeras/stable/migration.html for help migrating.\n",
      "  ('classifier', KerasClassifier(build_fn=self.create_model, verbose=0))\n",
      "\u001b[33m[W 2023-03-02 11:18:43,261]\u001b[0m The parameter 'batch_size' in trial#50 is sampled independently by using `RandomSampler` instead of `QMCSampler` (optimization performance may be degraded). `QMCSampler` does not support dynamic search space or `CategoricalDistribution`. You can suppress this warning by setting `warn_independent_sampling` to `False` in the constructor of `QMCSampler`, if this independent sampling is intended behavior.\u001b[0m\n"
     ]
    },
    {
     "name": "stdout",
     "output_type": "stream",
     "text": [
      "195/195 [==============================] - 0s 1ms/step\n",
      "195/195 [==============================] - 0s 2ms/step\n",
      "195/195 [==============================] - 0s 1ms/step\n"
     ]
    },
    {
     "name": "stderr",
     "output_type": "stream",
     "text": [
      "\u001b[32m[I 2023-03-02 11:19:06,956]\u001b[0m Trial 50 finished with value: 0.8532327710354468 and parameters: {'units': 24, 'alpha': 0.07609375, 'dropout': 0.2890625, 'lr': 0.0014895920483132515, 'batch_size': 64, 'l2_kern': 0.005829415347136074, 'l2_bias': 0.0005424690937011326}. Best is trial 13 with value: 0.8558005150328728.\u001b[0m\n",
      "C:\\Users\\User\\AppData\\Local\\Temp\\ipykernel_10400\\3785980822.py:37: DeprecationWarning: KerasClassifier is deprecated, use Sci-Keras (https://github.com/adriangb/scikeras) instead. See https://www.adriangb.com/scikeras/stable/migration.html for help migrating.\n",
      "  ('classifier', KerasClassifier(build_fn=self.create_model, verbose=0))\n",
      "\u001b[33m[W 2023-03-02 11:19:06,958]\u001b[0m The parameter 'batch_size' in trial#51 is sampled independently by using `RandomSampler` instead of `QMCSampler` (optimization performance may be degraded). `QMCSampler` does not support dynamic search space or `CategoricalDistribution`. You can suppress this warning by setting `warn_independent_sampling` to `False` in the constructor of `QMCSampler`, if this independent sampling is intended behavior.\u001b[0m\n"
     ]
    },
    {
     "name": "stdout",
     "output_type": "stream",
     "text": [
      "195/195 [==============================] - 0s 1ms/step\n",
      "195/195 [==============================] - 0s 1ms/step\n",
      "195/195 [==============================] - 0s 1ms/step\n"
     ]
    },
    {
     "name": "stderr",
     "output_type": "stream",
     "text": [
      "\u001b[32m[I 2023-03-02 11:19:33,346]\u001b[0m Trial 51 finished with value: 0.8549515528355193 and parameters: {'units': 34, 'alpha': 0.05359375000000001, 'dropout': 0.3640625, 'lr': 0.0003961045639333123, 'batch_size': 128, 'l2_kern': 0.001036632928437698, 'l2_bias': 0.003050527890267026}. Best is trial 13 with value: 0.8558005150328728.\u001b[0m\n",
      "C:\\Users\\User\\AppData\\Local\\Temp\\ipykernel_10400\\3785980822.py:37: DeprecationWarning: KerasClassifier is deprecated, use Sci-Keras (https://github.com/adriangb/scikeras) instead. See https://www.adriangb.com/scikeras/stable/migration.html for help migrating.\n",
      "  ('classifier', KerasClassifier(build_fn=self.create_model, verbose=0))\n",
      "\u001b[33m[W 2023-03-02 11:19:33,348]\u001b[0m The parameter 'batch_size' in trial#52 is sampled independently by using `RandomSampler` instead of `QMCSampler` (optimization performance may be degraded). `QMCSampler` does not support dynamic search space or `CategoricalDistribution`. You can suppress this warning by setting `warn_independent_sampling` to `False` in the constructor of `QMCSampler`, if this independent sampling is intended behavior.\u001b[0m\n"
     ]
    },
    {
     "name": "stdout",
     "output_type": "stream",
     "text": [
      "195/195 [==============================] - 0s 1ms/step\n",
      "195/195 [==============================] - 0s 1ms/step\n",
      "195/195 [==============================] - 0s 1ms/step\n"
     ]
    },
    {
     "name": "stderr",
     "output_type": "stream",
     "text": [
      "\u001b[32m[I 2023-03-02 11:19:43,504]\u001b[0m Trial 52 finished with value: 0.8539470432767878 and parameters: {'units': 14, 'alpha': 0.09859375000000001, 'dropout': 0.21406250000000002, 'lr': 0.005601764464323711, 'batch_size': 1024, 'l2_kern': 3.278121151393459e-05, 'l2_bias': 9.646616199112003e-05}. Best is trial 13 with value: 0.8558005150328728.\u001b[0m\n",
      "C:\\Users\\User\\AppData\\Local\\Temp\\ipykernel_10400\\3785980822.py:37: DeprecationWarning: KerasClassifier is deprecated, use Sci-Keras (https://github.com/adriangb/scikeras) instead. See https://www.adriangb.com/scikeras/stable/migration.html for help migrating.\n",
      "  ('classifier', KerasClassifier(build_fn=self.create_model, verbose=0))\n",
      "\u001b[33m[W 2023-03-02 11:19:43,506]\u001b[0m The parameter 'batch_size' in trial#53 is sampled independently by using `RandomSampler` instead of `QMCSampler` (optimization performance may be degraded). `QMCSampler` does not support dynamic search space or `CategoricalDistribution`. You can suppress this warning by setting `warn_independent_sampling` to `False` in the constructor of `QMCSampler`, if this independent sampling is intended behavior.\u001b[0m\n"
     ]
    },
    {
     "name": "stdout",
     "output_type": "stream",
     "text": [
      "195/195 [==============================] - 0s 1ms/step\n",
      "195/195 [==============================] - 0s 2ms/step\n",
      "195/195 [==============================] - 0s 2ms/step\n"
     ]
    },
    {
     "name": "stderr",
     "output_type": "stream",
     "text": [
      "\u001b[32m[I 2023-03-02 11:19:58,942]\u001b[0m Trial 53 finished with value: 0.8537736086139773 and parameters: {'units': 19, 'alpha': 0.042343750000000006, 'dropout': 0.3265625, 'lr': 0.0028886577856472285, 'batch_size': 128, 'l2_kern': 1.3823722273578999e-05, 'l2_bias': 4.0679443210830444e-05}. Best is trial 13 with value: 0.8558005150328728.\u001b[0m\n",
      "C:\\Users\\User\\AppData\\Local\\Temp\\ipykernel_10400\\3785980822.py:37: DeprecationWarning: KerasClassifier is deprecated, use Sci-Keras (https://github.com/adriangb/scikeras) instead. See https://www.adriangb.com/scikeras/stable/migration.html for help migrating.\n",
      "  ('classifier', KerasClassifier(build_fn=self.create_model, verbose=0))\n",
      "\u001b[33m[W 2023-03-02 11:19:58,947]\u001b[0m The parameter 'batch_size' in trial#54 is sampled independently by using `RandomSampler` instead of `QMCSampler` (optimization performance may be degraded). `QMCSampler` does not support dynamic search space or `CategoricalDistribution`. You can suppress this warning by setting `warn_independent_sampling` to `False` in the constructor of `QMCSampler`, if this independent sampling is intended behavior.\u001b[0m\n"
     ]
    },
    {
     "name": "stdout",
     "output_type": "stream",
     "text": [
      "195/195 [==============================] - 0s 2ms/step\n",
      "195/195 [==============================] - 0s 1ms/step\n",
      "195/195 [==============================] - 0s 1ms/step\n"
     ]
    },
    {
     "name": "stderr",
     "output_type": "stream",
     "text": [
      "\u001b[32m[I 2023-03-02 11:20:36,447]\u001b[0m Trial 54 finished with value: 0.8543780542183655 and parameters: {'units': 39, 'alpha': 0.08734375, 'dropout': 0.4765625, 'lr': 0.0002042589508758471, 'batch_size': 1024, 'l2_kern': 0.000437144481261109, 'l2_bias': 0.0012863969449369746}. Best is trial 13 with value: 0.8558005150328728.\u001b[0m\n",
      "C:\\Users\\User\\AppData\\Local\\Temp\\ipykernel_10400\\3785980822.py:37: DeprecationWarning: KerasClassifier is deprecated, use Sci-Keras (https://github.com/adriangb/scikeras) instead. See https://www.adriangb.com/scikeras/stable/migration.html for help migrating.\n",
      "  ('classifier', KerasClassifier(build_fn=self.create_model, verbose=0))\n",
      "\u001b[33m[W 2023-03-02 11:20:36,449]\u001b[0m The parameter 'batch_size' in trial#55 is sampled independently by using `RandomSampler` instead of `QMCSampler` (optimization performance may be degraded). `QMCSampler` does not support dynamic search space or `CategoricalDistribution`. You can suppress this warning by setting `warn_independent_sampling` to `False` in the constructor of `QMCSampler`, if this independent sampling is intended behavior.\u001b[0m\n"
     ]
    },
    {
     "name": "stdout",
     "output_type": "stream",
     "text": [
      "195/195 [==============================] - 0s 1ms/step\n",
      "195/195 [==============================] - 0s 1ms/step\n",
      "195/195 [==============================] - 0s 1ms/step\n"
     ]
    },
    {
     "name": "stderr",
     "output_type": "stream",
     "text": [
      "\u001b[32m[I 2023-03-02 11:21:07,715]\u001b[0m Trial 55 finished with value: 0.8541289761691906 and parameters: {'units': 29, 'alpha': 0.01984375, 'dropout': 0.2515625, 'lr': 0.0007681368424542925, 'batch_size': 128, 'l2_kern': 0.0024582440689201977, 'l2_bias': 0.007233941627366748}. Best is trial 13 with value: 0.8558005150328728.\u001b[0m\n",
      "C:\\Users\\User\\AppData\\Local\\Temp\\ipykernel_10400\\3785980822.py:37: DeprecationWarning: KerasClassifier is deprecated, use Sci-Keras (https://github.com/adriangb/scikeras) instead. See https://www.adriangb.com/scikeras/stable/migration.html for help migrating.\n",
      "  ('classifier', KerasClassifier(build_fn=self.create_model, verbose=0))\n",
      "\u001b[33m[W 2023-03-02 11:21:07,717]\u001b[0m The parameter 'batch_size' in trial#56 is sampled independently by using `RandomSampler` instead of `QMCSampler` (optimization performance may be degraded). `QMCSampler` does not support dynamic search space or `CategoricalDistribution`. You can suppress this warning by setting `warn_independent_sampling` to `False` in the constructor of `QMCSampler`, if this independent sampling is intended behavior.\u001b[0m\n"
     ]
    },
    {
     "name": "stdout",
     "output_type": "stream",
     "text": [
      "195/195 [==============================] - 0s 1ms/step\n",
      "195/195 [==============================] - 0s 1ms/step\n",
      "195/195 [==============================] - 0s 2ms/step\n"
     ]
    },
    {
     "name": "stderr",
     "output_type": "stream",
     "text": [
      "\u001b[32m[I 2023-03-02 11:22:23,652]\u001b[0m Trial 56 finished with value: 0.8492570287125435 and parameters: {'units': 9, 'alpha': 0.06484375, 'dropout': 0.40156250000000004, 'lr': 5.431547701786532e-05, 'batch_size': 256, 'l2_kern': 7.77365030238776e-05, 'l2_bias': 0.0002287573200318398}. Best is trial 13 with value: 0.8558005150328728.\u001b[0m\n",
      "C:\\Users\\User\\AppData\\Local\\Temp\\ipykernel_10400\\3785980822.py:37: DeprecationWarning: KerasClassifier is deprecated, use Sci-Keras (https://github.com/adriangb/scikeras) instead. See https://www.adriangb.com/scikeras/stable/migration.html for help migrating.\n",
      "  ('classifier', KerasClassifier(build_fn=self.create_model, verbose=0))\n",
      "\u001b[33m[W 2023-03-02 11:22:23,654]\u001b[0m The parameter 'batch_size' in trial#57 is sampled independently by using `RandomSampler` instead of `QMCSampler` (optimization performance may be degraded). `QMCSampler` does not support dynamic search space or `CategoricalDistribution`. You can suppress this warning by setting `warn_independent_sampling` to `False` in the constructor of `QMCSampler`, if this independent sampling is intended behavior.\u001b[0m\n"
     ]
    },
    {
     "name": "stdout",
     "output_type": "stream",
     "text": [
      "195/195 [==============================] - 0s 1ms/step\n",
      "195/195 [==============================] - 0s 1ms/step\n",
      "195/195 [==============================] - 0s 1ms/step\n"
     ]
    },
    {
     "name": "stderr",
     "output_type": "stream",
     "text": [
      "\u001b[32m[I 2023-03-02 11:23:58,284]\u001b[0m Trial 57 finished with value: 0.8547109737801524 and parameters: {'units': 7, 'alpha': 0.047968750000000004, 'dropout': 0.2703125, 'lr': 0.0002844431448746013, 'batch_size': 32, 'l2_kern': 0.008976871324473142, 'l2_bias': 6.264335366568851e-05}. Best is trial 13 with value: 0.8558005150328728.\u001b[0m\n",
      "C:\\Users\\User\\AppData\\Local\\Temp\\ipykernel_10400\\3785980822.py:37: DeprecationWarning: KerasClassifier is deprecated, use Sci-Keras (https://github.com/adriangb/scikeras) instead. See https://www.adriangb.com/scikeras/stable/migration.html for help migrating.\n",
      "  ('classifier', KerasClassifier(build_fn=self.create_model, verbose=0))\n",
      "\u001b[33m[W 2023-03-02 11:23:58,289]\u001b[0m The parameter 'batch_size' in trial#58 is sampled independently by using `RandomSampler` instead of `QMCSampler` (optimization performance may be degraded). `QMCSampler` does not support dynamic search space or `CategoricalDistribution`. You can suppress this warning by setting `warn_independent_sampling` to `False` in the constructor of `QMCSampler`, if this independent sampling is intended behavior.\u001b[0m\n"
     ]
    },
    {
     "name": "stdout",
     "output_type": "stream",
     "text": [
      "195/195 [==============================] - 0s 1ms/step\n",
      "195/195 [==============================] - 0s 2ms/step\n",
      "195/195 [==============================] - 0s 1ms/step\n"
     ]
    },
    {
     "name": "stderr",
     "output_type": "stream",
     "text": [
      "\u001b[32m[I 2023-03-02 11:24:16,410]\u001b[0m Trial 58 finished with value: 0.8531181597912366 and parameters: {'units': 26, 'alpha': 0.09296875, 'dropout': 0.4203125, 'lr': 0.00402263353205716, 'batch_size': 128, 'l2_kern': 0.0002838735964758755, 'l2_bias': 0.001980956778550339}. Best is trial 13 with value: 0.8558005150328728.\u001b[0m\n",
      "C:\\Users\\User\\AppData\\Local\\Temp\\ipykernel_10400\\3785980822.py:37: DeprecationWarning: KerasClassifier is deprecated, use Sci-Keras (https://github.com/adriangb/scikeras) instead. See https://www.adriangb.com/scikeras/stable/migration.html for help migrating.\n",
      "  ('classifier', KerasClassifier(build_fn=self.create_model, verbose=0))\n",
      "\u001b[33m[W 2023-03-02 11:24:16,416]\u001b[0m The parameter 'batch_size' in trial#59 is sampled independently by using `RandomSampler` instead of `QMCSampler` (optimization performance may be degraded). `QMCSampler` does not support dynamic search space or `CategoricalDistribution`. You can suppress this warning by setting `warn_independent_sampling` to `False` in the constructor of `QMCSampler`, if this independent sampling is intended behavior.\u001b[0m\n"
     ]
    },
    {
     "name": "stdout",
     "output_type": "stream",
     "text": [
      "195/195 [==============================] - 0s 2ms/step\n",
      "195/195 [==============================] - 0s 1ms/step\n",
      "195/195 [==============================] - 0s 1ms/step\n"
     ]
    },
    {
     "name": "stderr",
     "output_type": "stream",
     "text": [
      "\u001b[32m[I 2023-03-02 11:26:00,983]\u001b[0m Trial 59 finished with value: 0.854942932395065 and parameters: {'units': 36, 'alpha': 0.025468750000000002, 'dropout': 0.3453125, 'lr': 7.563764051503597e-05, 'batch_size': 32, 'l2_kern': 5.048065716667472e-05, 'l2_bias': 0.0003522694651473102}. Best is trial 13 with value: 0.8558005150328728.\u001b[0m\n",
      "C:\\Users\\User\\AppData\\Local\\Temp\\ipykernel_10400\\3785980822.py:37: DeprecationWarning: KerasClassifier is deprecated, use Sci-Keras (https://github.com/adriangb/scikeras) instead. See https://www.adriangb.com/scikeras/stable/migration.html for help migrating.\n",
      "  ('classifier', KerasClassifier(build_fn=self.create_model, verbose=0))\n",
      "\u001b[33m[W 2023-03-02 11:26:00,984]\u001b[0m The parameter 'batch_size' in trial#60 is sampled independently by using `RandomSampler` instead of `QMCSampler` (optimization performance may be degraded). `QMCSampler` does not support dynamic search space or `CategoricalDistribution`. You can suppress this warning by setting `warn_independent_sampling` to `False` in the constructor of `QMCSampler`, if this independent sampling is intended behavior.\u001b[0m\n"
     ]
    },
    {
     "name": "stdout",
     "output_type": "stream",
     "text": [
      "195/195 [==============================] - 0s 2ms/step\n",
      "195/195 [==============================] - 0s 1ms/step\n",
      "195/195 [==============================] - 0s 2ms/step\n"
     ]
    },
    {
     "name": "stderr",
     "output_type": "stream",
     "text": [
      "\u001b[32m[I 2023-03-02 11:27:05,755]\u001b[0m Trial 60 finished with value: 0.8531921463999499 and parameters: {'units': 17, 'alpha': 0.07046875000000001, 'dropout': 0.4953125, 'lr': 0.001069677770422646, 'batch_size': 16, 'l2_kern': 0.0015963385442879423, 'l2_bias': 1.1139738599948017e-05}. Best is trial 13 with value: 0.8558005150328728.\u001b[0m\n",
      "C:\\Users\\User\\AppData\\Local\\Temp\\ipykernel_10400\\3785980822.py:37: DeprecationWarning: KerasClassifier is deprecated, use Sci-Keras (https://github.com/adriangb/scikeras) instead. See https://www.adriangb.com/scikeras/stable/migration.html for help migrating.\n",
      "  ('classifier', KerasClassifier(build_fn=self.create_model, verbose=0))\n",
      "\u001b[33m[W 2023-03-02 11:27:05,757]\u001b[0m The parameter 'batch_size' in trial#61 is sampled independently by using `RandomSampler` instead of `QMCSampler` (optimization performance may be degraded). `QMCSampler` does not support dynamic search space or `CategoricalDistribution`. You can suppress this warning by setting `warn_independent_sampling` to `False` in the constructor of `QMCSampler`, if this independent sampling is intended behavior.\u001b[0m\n"
     ]
    },
    {
     "name": "stdout",
     "output_type": "stream",
     "text": [
      "195/195 [==============================] - 0s 1ms/step\n",
      "195/195 [==============================] - 0s 1ms/step\n",
      "195/195 [==============================] - 0s 1ms/step\n"
     ]
    },
    {
     "name": "stderr",
     "output_type": "stream",
     "text": [
      "\u001b[32m[I 2023-03-02 11:27:19,568]\u001b[0m Trial 61 finished with value: 0.8550233325797189 and parameters: {'units': 12, 'alpha': 0.01421875, 'dropout': 0.3828125, 'lr': 0.00207434849237014, 'batch_size': 1024, 'l2_kern': 0.0006731703824144984, 'l2_bias': 0.0001485508017172774}. Best is trial 13 with value: 0.8558005150328728.\u001b[0m\n",
      "C:\\Users\\User\\AppData\\Local\\Temp\\ipykernel_10400\\3785980822.py:37: DeprecationWarning: KerasClassifier is deprecated, use Sci-Keras (https://github.com/adriangb/scikeras) instead. See https://www.adriangb.com/scikeras/stable/migration.html for help migrating.\n",
      "  ('classifier', KerasClassifier(build_fn=self.create_model, verbose=0))\n",
      "\u001b[33m[W 2023-03-02 11:27:19,573]\u001b[0m The parameter 'batch_size' in trial#62 is sampled independently by using `RandomSampler` instead of `QMCSampler` (optimization performance may be degraded). `QMCSampler` does not support dynamic search space or `CategoricalDistribution`. You can suppress this warning by setting `warn_independent_sampling` to `False` in the constructor of `QMCSampler`, if this independent sampling is intended behavior.\u001b[0m\n"
     ]
    },
    {
     "name": "stdout",
     "output_type": "stream",
     "text": [
      "195/195 [==============================] - 0s 1ms/step\n",
      "195/195 [==============================] - 0s 1ms/step\n",
      "195/195 [==============================] - 0s 1ms/step\n"
     ]
    },
    {
     "name": "stderr",
     "output_type": "stream",
     "text": [
      "\u001b[32m[I 2023-03-02 11:27:58,411]\u001b[0m Trial 62 finished with value: 0.854978662248843 and parameters: {'units': 31, 'alpha': 0.05921875000000001, 'dropout': 0.2328125, 'lr': 0.0001466785885499017, 'batch_size': 256, 'l2_kern': 2.128751661796373e-05, 'l2_bias': 0.004697588816706492}. Best is trial 13 with value: 0.8558005150328728.\u001b[0m\n",
      "C:\\Users\\User\\AppData\\Local\\Temp\\ipykernel_10400\\3785980822.py:37: DeprecationWarning: KerasClassifier is deprecated, use Sci-Keras (https://github.com/adriangb/scikeras) instead. See https://www.adriangb.com/scikeras/stable/migration.html for help migrating.\n",
      "  ('classifier', KerasClassifier(build_fn=self.create_model, verbose=0))\n",
      "\u001b[33m[W 2023-03-02 11:27:58,417]\u001b[0m The parameter 'batch_size' in trial#63 is sampled independently by using `RandomSampler` instead of `QMCSampler` (optimization performance may be degraded). `QMCSampler` does not support dynamic search space or `CategoricalDistribution`. You can suppress this warning by setting `warn_independent_sampling` to `False` in the constructor of `QMCSampler`, if this independent sampling is intended behavior.\u001b[0m\n"
     ]
    },
    {
     "name": "stdout",
     "output_type": "stream",
     "text": [
      "195/195 [==============================] - 0s 2ms/step\n",
      "195/195 [==============================] - 0s 1ms/step\n",
      "195/195 [==============================] - 0s 2ms/step\n"
     ]
    },
    {
     "name": "stderr",
     "output_type": "stream",
     "text": [
      "\u001b[32m[I 2023-03-02 11:28:53,986]\u001b[0m Trial 63 finished with value: 0.8529353784493404 and parameters: {'units': 22, 'alpha': 0.03671875, 'dropout': 0.4578125, 'lr': 0.007800801356546247, 'batch_size': 16, 'l2_kern': 0.00011970850304957301, 'l2_bias': 0.0008353625469578262}. Best is trial 13 with value: 0.8558005150328728.\u001b[0m\n",
      "C:\\Users\\User\\AppData\\Local\\Temp\\ipykernel_10400\\3785980822.py:37: DeprecationWarning: KerasClassifier is deprecated, use Sci-Keras (https://github.com/adriangb/scikeras) instead. See https://www.adriangb.com/scikeras/stable/migration.html for help migrating.\n",
      "  ('classifier', KerasClassifier(build_fn=self.create_model, verbose=0))\n",
      "\u001b[33m[W 2023-03-02 11:28:53,989]\u001b[0m The parameter 'batch_size' in trial#64 is sampled independently by using `RandomSampler` instead of `QMCSampler` (optimization performance may be degraded). `QMCSampler` does not support dynamic search space or `CategoricalDistribution`. You can suppress this warning by setting `warn_independent_sampling` to `False` in the constructor of `QMCSampler`, if this independent sampling is intended behavior.\u001b[0m\n"
     ]
    },
    {
     "name": "stdout",
     "output_type": "stream",
     "text": [
      "195/195 [==============================] - 0s 1ms/step\n",
      "195/195 [==============================] - 0s 2ms/step\n",
      "195/195 [==============================] - 0s 1ms/step\n"
     ]
    },
    {
     "name": "stderr",
     "output_type": "stream",
     "text": [
      "\u001b[32m[I 2023-03-02 11:29:18,907]\u001b[0m Trial 64 finished with value: 0.8522659851273638 and parameters: {'units': 2, 'alpha': 0.08171875, 'dropout': 0.3078125, 'lr': 0.0005515999537903073, 'batch_size': 512, 'l2_kern': 0.00378551524925863, 'l2_bias': 2.6416483203860905e-05}. Best is trial 13 with value: 0.8558005150328728.\u001b[0m\n",
      "C:\\Users\\User\\AppData\\Local\\Temp\\ipykernel_10400\\3785980822.py:37: DeprecationWarning: KerasClassifier is deprecated, use Sci-Keras (https://github.com/adriangb/scikeras) instead. See https://www.adriangb.com/scikeras/stable/migration.html for help migrating.\n",
      "  ('classifier', KerasClassifier(build_fn=self.create_model, verbose=0))\n",
      "\u001b[33m[W 2023-03-02 11:29:18,911]\u001b[0m The parameter 'batch_size' in trial#65 is sampled independently by using `RandomSampler` instead of `QMCSampler` (optimization performance may be degraded). `QMCSampler` does not support dynamic search space or `CategoricalDistribution`. You can suppress this warning by setting `warn_independent_sampling` to `False` in the constructor of `QMCSampler`, if this independent sampling is intended behavior.\u001b[0m\n"
     ]
    },
    {
     "name": "stdout",
     "output_type": "stream",
     "text": [
      "195/195 [==============================] - 0s 2ms/step\n",
      "195/195 [==============================] - 0s 1ms/step\n",
      "195/195 [==============================] - 0s 1ms/step\n"
     ]
    },
    {
     "name": "stderr",
     "output_type": "stream",
     "text": [
      "\u001b[32m[I 2023-03-02 11:29:32,277]\u001b[0m Trial 65 finished with value: 0.8547387000643186 and parameters: {'units': 2, 'alpha': 0.04585937500000001, 'dropout': 0.44609375, 'lr': 0.004192637035483574, 'batch_size': 256, 'l2_kern': 0.0008816830667755708, 'l2_bias': 0.00021673921695684184}. Best is trial 13 with value: 0.8558005150328728.\u001b[0m\n",
      "C:\\Users\\User\\AppData\\Local\\Temp\\ipykernel_10400\\3785980822.py:37: DeprecationWarning: KerasClassifier is deprecated, use Sci-Keras (https://github.com/adriangb/scikeras) instead. See https://www.adriangb.com/scikeras/stable/migration.html for help migrating.\n",
      "  ('classifier', KerasClassifier(build_fn=self.create_model, verbose=0))\n",
      "\u001b[33m[W 2023-03-02 11:29:32,279]\u001b[0m The parameter 'batch_size' in trial#66 is sampled independently by using `RandomSampler` instead of `QMCSampler` (optimization performance may be degraded). `QMCSampler` does not support dynamic search space or `CategoricalDistribution`. You can suppress this warning by setting `warn_independent_sampling` to `False` in the constructor of `QMCSampler`, if this independent sampling is intended behavior.\u001b[0m\n"
     ]
    },
    {
     "name": "stdout",
     "output_type": "stream",
     "text": [
      "195/195 [==============================] - 0s 1ms/step\n",
      "195/195 [==============================] - 0s 2ms/step\n",
      "195/195 [==============================] - 0s 1ms/step\n"
     ]
    },
    {
     "name": "stderr",
     "output_type": "stream",
     "text": [
      "\u001b[32m[I 2023-03-02 11:30:02,874]\u001b[0m Trial 66 finished with value: 0.8544939785765747 and parameters: {'units': 22, 'alpha': 0.090859375, 'dropout': 0.29609375, 'lr': 0.00029646420788443013, 'batch_size': 512, 'l2_kern': 2.788126665413133e-05, 'l2_bias': 0.006853895838650084}. Best is trial 13 with value: 0.8558005150328728.\u001b[0m\n",
      "C:\\Users\\User\\AppData\\Local\\Temp\\ipykernel_10400\\3785980822.py:37: DeprecationWarning: KerasClassifier is deprecated, use Sci-Keras (https://github.com/adriangb/scikeras) instead. See https://www.adriangb.com/scikeras/stable/migration.html for help migrating.\n",
      "  ('classifier', KerasClassifier(build_fn=self.create_model, verbose=0))\n",
      "\u001b[33m[W 2023-03-02 11:30:02,876]\u001b[0m The parameter 'batch_size' in trial#67 is sampled independently by using `RandomSampler` instead of `QMCSampler` (optimization performance may be degraded). `QMCSampler` does not support dynamic search space or `CategoricalDistribution`. You can suppress this warning by setting `warn_independent_sampling` to `False` in the constructor of `QMCSampler`, if this independent sampling is intended behavior.\u001b[0m\n"
     ]
    },
    {
     "name": "stdout",
     "output_type": "stream",
     "text": [
      "195/195 [==============================] - 0s 1ms/step\n",
      "195/195 [==============================] - 0s 1ms/step\n",
      "195/195 [==============================] - 0s 1ms/step\n"
     ]
    },
    {
     "name": "stderr",
     "output_type": "stream",
     "text": [
      "\u001b[32m[I 2023-03-02 11:30:18,704]\u001b[0m Trial 67 finished with value: 0.85448031896005 and parameters: {'units': 32, 'alpha': 0.023359375, 'dropout': 0.37109375, 'lr': 0.0011148842171595946, 'batch_size': 256, 'l2_kern': 0.00015678788438269704, 'l2_bias': 0.00121881418484229}. Best is trial 13 with value: 0.8558005150328728.\u001b[0m\n",
      "C:\\Users\\User\\AppData\\Local\\Temp\\ipykernel_10400\\3785980822.py:37: DeprecationWarning: KerasClassifier is deprecated, use Sci-Keras (https://github.com/adriangb/scikeras) instead. See https://www.adriangb.com/scikeras/stable/migration.html for help migrating.\n",
      "  ('classifier', KerasClassifier(build_fn=self.create_model, verbose=0))\n",
      "\u001b[33m[W 2023-03-02 11:30:18,708]\u001b[0m The parameter 'batch_size' in trial#68 is sampled independently by using `RandomSampler` instead of `QMCSampler` (optimization performance may be degraded). `QMCSampler` does not support dynamic search space or `CategoricalDistribution`. You can suppress this warning by setting `warn_independent_sampling` to `False` in the constructor of `QMCSampler`, if this independent sampling is intended behavior.\u001b[0m\n"
     ]
    },
    {
     "name": "stdout",
     "output_type": "stream",
     "text": [
      "195/195 [==============================] - 0s 1ms/step\n",
      "195/195 [==============================] - 0s 1ms/step\n",
      "195/195 [==============================] - 0s 1ms/step\n"
     ]
    },
    {
     "name": "stderr",
     "output_type": "stream",
     "text": [
      "\u001b[32m[I 2023-03-02 11:31:20,351]\u001b[0m Trial 68 finished with value: 0.8520938957180771 and parameters: {'units': 12, 'alpha': 0.068359375, 'dropout': 0.22109375, 'lr': 7.88342190191406e-05, 'batch_size': 512, 'l2_kern': 0.00495806824168466, 'l2_bias': 3.854228868623108e-05}. Best is trial 13 with value: 0.8558005150328728.\u001b[0m\n",
      "C:\\Users\\User\\AppData\\Local\\Temp\\ipykernel_10400\\3785980822.py:37: DeprecationWarning: KerasClassifier is deprecated, use Sci-Keras (https://github.com/adriangb/scikeras) instead. See https://www.adriangb.com/scikeras/stable/migration.html for help migrating.\n",
      "  ('classifier', KerasClassifier(build_fn=self.create_model, verbose=0))\n",
      "\u001b[33m[W 2023-03-02 11:31:20,354]\u001b[0m The parameter 'batch_size' in trial#69 is sampled independently by using `RandomSampler` instead of `QMCSampler` (optimization performance may be degraded). `QMCSampler` does not support dynamic search space or `CategoricalDistribution`. You can suppress this warning by setting `warn_independent_sampling` to `False` in the constructor of `QMCSampler`, if this independent sampling is intended behavior.\u001b[0m\n"
     ]
    },
    {
     "name": "stdout",
     "output_type": "stream",
     "text": [
      "195/195 [==============================] - 0s 1ms/step\n",
      "195/195 [==============================] - 0s 2ms/step\n",
      "195/195 [==============================] - 0s 1ms/step\n"
     ]
    },
    {
     "name": "stderr",
     "output_type": "stream",
     "text": [
      "\u001b[32m[I 2023-03-02 11:32:11,955]\u001b[0m Trial 69 finished with value: 0.8553618546296197 and parameters: {'units': 17, 'alpha': 0.012109375, 'dropout': 0.33359375, 'lr': 0.00015287748132310786, 'batch_size': 512, 'l2_kern': 0.00209080004127872, 'l2_bias': 9.139816994654908e-05}. Best is trial 13 with value: 0.8558005150328728.\u001b[0m\n",
      "C:\\Users\\User\\AppData\\Local\\Temp\\ipykernel_10400\\3785980822.py:37: DeprecationWarning: KerasClassifier is deprecated, use Sci-Keras (https://github.com/adriangb/scikeras) instead. See https://www.adriangb.com/scikeras/stable/migration.html for help migrating.\n",
      "  ('classifier', KerasClassifier(build_fn=self.create_model, verbose=0))\n",
      "\u001b[33m[W 2023-03-02 11:32:11,958]\u001b[0m The parameter 'batch_size' in trial#70 is sampled independently by using `RandomSampler` instead of `QMCSampler` (optimization performance may be degraded). `QMCSampler` does not support dynamic search space or `CategoricalDistribution`. You can suppress this warning by setting `warn_independent_sampling` to `False` in the constructor of `QMCSampler`, if this independent sampling is intended behavior.\u001b[0m\n"
     ]
    },
    {
     "name": "stdout",
     "output_type": "stream",
     "text": [
      "195/195 [==============================] - 0s 1ms/step\n",
      "195/195 [==============================] - 0s 1ms/step\n",
      "195/195 [==============================] - 0s 1ms/step\n"
     ]
    },
    {
     "name": "stderr",
     "output_type": "stream",
     "text": [
      "\u001b[32m[I 2023-03-02 11:32:57,392]\u001b[0m Trial 70 finished with value: 0.8539091042446202 and parameters: {'units': 37, 'alpha': 0.05710937500000001, 'dropout': 0.48359375, 'lr': 0.002162014074685785, 'batch_size': 32, 'l2_kern': 6.611690262414816e-05, 'l2_bias': 0.0028902639100224507}. Best is trial 13 with value: 0.8558005150328728.\u001b[0m\n",
      "C:\\Users\\User\\AppData\\Local\\Temp\\ipykernel_10400\\3785980822.py:37: DeprecationWarning: KerasClassifier is deprecated, use Sci-Keras (https://github.com/adriangb/scikeras) instead. See https://www.adriangb.com/scikeras/stable/migration.html for help migrating.\n",
      "  ('classifier', KerasClassifier(build_fn=self.create_model, verbose=0))\n",
      "\u001b[33m[W 2023-03-02 11:32:57,395]\u001b[0m The parameter 'batch_size' in trial#71 is sampled independently by using `RandomSampler` instead of `QMCSampler` (optimization performance may be degraded). `QMCSampler` does not support dynamic search space or `CategoricalDistribution`. You can suppress this warning by setting `warn_independent_sampling` to `False` in the constructor of `QMCSampler`, if this independent sampling is intended behavior.\u001b[0m\n"
     ]
    },
    {
     "name": "stdout",
     "output_type": "stream",
     "text": [
      "195/195 [==============================] - 0s 1ms/step\n",
      "195/195 [==============================] - 0s 1ms/step\n",
      "195/195 [==============================] - 0s 1ms/step\n"
     ]
    },
    {
     "name": "stderr",
     "output_type": "stream",
     "text": [
      "\u001b[32m[I 2023-03-02 11:33:44,652]\u001b[0m Trial 71 finished with value: 0.8547719357508546 and parameters: {'units': 27, 'alpha': 0.034609375000000005, 'dropout': 0.25859375, 'lr': 0.0005749115291269364, 'batch_size': 32, 'l2_kern': 1.175743265920711e-05, 'l2_bias': 0.0005139696800771515}. Best is trial 13 with value: 0.8558005150328728.\u001b[0m\n",
      "C:\\Users\\User\\AppData\\Local\\Temp\\ipykernel_10400\\3785980822.py:37: DeprecationWarning: KerasClassifier is deprecated, use Sci-Keras (https://github.com/adriangb/scikeras) instead. See https://www.adriangb.com/scikeras/stable/migration.html for help migrating.\n",
      "  ('classifier', KerasClassifier(build_fn=self.create_model, verbose=0))\n",
      "\u001b[33m[W 2023-03-02 11:33:44,654]\u001b[0m The parameter 'batch_size' in trial#72 is sampled independently by using `RandomSampler` instead of `QMCSampler` (optimization performance may be degraded). `QMCSampler` does not support dynamic search space or `CategoricalDistribution`. You can suppress this warning by setting `warn_independent_sampling` to `False` in the constructor of `QMCSampler`, if this independent sampling is intended behavior.\u001b[0m\n"
     ]
    },
    {
     "name": "stdout",
     "output_type": "stream",
     "text": [
      "195/195 [==============================] - 0s 1ms/step\n",
      "195/195 [==============================] - 0s 1ms/step\n",
      "195/195 [==============================] - 0s 1ms/step\n"
     ]
    },
    {
     "name": "stderr",
     "output_type": "stream",
     "text": [
      "\u001b[32m[I 2023-03-02 11:33:55,865]\u001b[0m Trial 72 finished with value: 0.8534517170487494 and parameters: {'units': 7, 'alpha': 0.07960937500000001, 'dropout': 0.40859375, 'lr': 0.008130476816559682, 'batch_size': 512, 'l2_kern': 0.0003718026663914474, 'l2_bias': 1.6253148373118654e-05}. Best is trial 13 with value: 0.8558005150328728.\u001b[0m\n",
      "C:\\Users\\User\\AppData\\Local\\Temp\\ipykernel_10400\\3785980822.py:37: DeprecationWarning: KerasClassifier is deprecated, use Sci-Keras (https://github.com/adriangb/scikeras) instead. See https://www.adriangb.com/scikeras/stable/migration.html for help migrating.\n",
      "  ('classifier', KerasClassifier(build_fn=self.create_model, verbose=0))\n",
      "\u001b[33m[W 2023-03-02 11:33:55,868]\u001b[0m The parameter 'batch_size' in trial#73 is sampled independently by using `RandomSampler` instead of `QMCSampler` (optimization performance may be degraded). `QMCSampler` does not support dynamic search space or `CategoricalDistribution`. You can suppress this warning by setting `warn_independent_sampling` to `False` in the constructor of `QMCSampler`, if this independent sampling is intended behavior.\u001b[0m\n"
     ]
    },
    {
     "name": "stdout",
     "output_type": "stream",
     "text": [
      "195/195 [==============================] - 0s 1ms/step\n",
      "195/195 [==============================] - 0s 1ms/step\n",
      "195/195 [==============================] - 0s 1ms/step\n"
     ]
    },
    {
     "name": "stderr",
     "output_type": "stream",
     "text": [
      "\u001b[32m[I 2023-03-02 11:34:11,397]\u001b[0m Trial 73 finished with value: 0.8552297917295056 and parameters: {'units': 10, 'alpha': 0.028984375, 'dropout': 0.23984375000000002, 'lr': 0.0015525448042308116, 'batch_size': 1024, 'l2_kern': 4.293510210083482e-05, 'l2_bias': 2.502865431174609e-05}. Best is trial 13 with value: 0.8558005150328728.\u001b[0m\n",
      "C:\\Users\\User\\AppData\\Local\\Temp\\ipykernel_10400\\3785980822.py:37: DeprecationWarning: KerasClassifier is deprecated, use Sci-Keras (https://github.com/adriangb/scikeras) instead. See https://www.adriangb.com/scikeras/stable/migration.html for help migrating.\n",
      "  ('classifier', KerasClassifier(build_fn=self.create_model, verbose=0))\n",
      "\u001b[33m[W 2023-03-02 11:34:11,403]\u001b[0m The parameter 'batch_size' in trial#74 is sampled independently by using `RandomSampler` instead of `QMCSampler` (optimization performance may be degraded). `QMCSampler` does not support dynamic search space or `CategoricalDistribution`. You can suppress this warning by setting `warn_independent_sampling` to `False` in the constructor of `QMCSampler`, if this independent sampling is intended behavior.\u001b[0m\n"
     ]
    },
    {
     "name": "stdout",
     "output_type": "stream",
     "text": [
      "195/195 [==============================] - 0s 1ms/step\n",
      "195/195 [==============================] - 0s 1ms/step\n",
      "195/195 [==============================] - 0s 1ms/step\n"
     ]
    },
    {
     "name": "stderr",
     "output_type": "stream",
     "text": [
      "\u001b[32m[I 2023-03-02 11:36:52,232]\u001b[0m Trial 74 finished with value: 0.8551023758777841 and parameters: {'units': 29, 'alpha': 0.073984375, 'dropout': 0.38984375000000004, 'lr': 0.00010978149591675475, 'batch_size': 16, 'l2_kern': 0.0013577271421051837, 'l2_bias': 0.0007914755439411164}. Best is trial 13 with value: 0.8558005150328728.\u001b[0m\n",
      "C:\\Users\\User\\AppData\\Local\\Temp\\ipykernel_10400\\3785980822.py:37: DeprecationWarning: KerasClassifier is deprecated, use Sci-Keras (https://github.com/adriangb/scikeras) instead. See https://www.adriangb.com/scikeras/stable/migration.html for help migrating.\n",
      "  ('classifier', KerasClassifier(build_fn=self.create_model, verbose=0))\n",
      "\u001b[33m[W 2023-03-02 11:36:52,236]\u001b[0m The parameter 'batch_size' in trial#75 is sampled independently by using `RandomSampler` instead of `QMCSampler` (optimization performance may be degraded). `QMCSampler` does not support dynamic search space or `CategoricalDistribution`. You can suppress this warning by setting `warn_independent_sampling` to `False` in the constructor of `QMCSampler`, if this independent sampling is intended behavior.\u001b[0m\n"
     ]
    },
    {
     "name": "stdout",
     "output_type": "stream",
     "text": [
      "195/195 [==============================] - 0s 1ms/step\n",
      "195/195 [==============================] - 0s 1ms/step\n",
      "195/195 [==============================] - 0s 1ms/step\n"
     ]
    },
    {
     "name": "stderr",
     "output_type": "stream",
     "text": [
      "\u001b[32m[I 2023-03-02 11:37:14,894]\u001b[0m Trial 75 finished with value: 0.8508229541677634 and parameters: {'units': 39, 'alpha': 0.051484375000000006, 'dropout': 0.31484375, 'lr': 0.0058385047929456, 'batch_size': 256, 'l2_kern': 0.007635060803383351, 'l2_bias': 0.004450794062355997}. Best is trial 13 with value: 0.8558005150328728.\u001b[0m\n",
      "C:\\Users\\User\\AppData\\Local\\Temp\\ipykernel_10400\\3785980822.py:37: DeprecationWarning: KerasClassifier is deprecated, use Sci-Keras (https://github.com/adriangb/scikeras) instead. See https://www.adriangb.com/scikeras/stable/migration.html for help migrating.\n",
      "  ('classifier', KerasClassifier(build_fn=self.create_model, verbose=0))\n",
      "\u001b[33m[W 2023-03-02 11:37:14,896]\u001b[0m The parameter 'batch_size' in trial#76 is sampled independently by using `RandomSampler` instead of `QMCSampler` (optimization performance may be degraded). `QMCSampler` does not support dynamic search space or `CategoricalDistribution`. You can suppress this warning by setting `warn_independent_sampling` to `False` in the constructor of `QMCSampler`, if this independent sampling is intended behavior.\u001b[0m\n"
     ]
    },
    {
     "name": "stdout",
     "output_type": "stream",
     "text": [
      "195/195 [==============================] - 0s 1ms/step\n",
      "195/195 [==============================] - 0s 1ms/step\n",
      "195/195 [==============================] - 0s 1ms/step\n"
     ]
    },
    {
     "name": "stderr",
     "output_type": "stream",
     "text": [
      "\u001b[32m[I 2023-03-02 11:37:42,191]\u001b[0m Trial 76 finished with value: 0.8542596150166283 and parameters: {'units': 19, 'alpha': 0.09648437500000001, 'dropout': 0.46484375, 'lr': 0.00041284463310819927, 'batch_size': 1024, 'l2_kern': 0.00024144182212566391, 'l2_bias': 0.0001407464663339844}. Best is trial 13 with value: 0.8558005150328728.\u001b[0m\n",
      "C:\\Users\\User\\AppData\\Local\\Temp\\ipykernel_10400\\3785980822.py:37: DeprecationWarning: KerasClassifier is deprecated, use Sci-Keras (https://github.com/adriangb/scikeras) instead. See https://www.adriangb.com/scikeras/stable/migration.html for help migrating.\n",
      "  ('classifier', KerasClassifier(build_fn=self.create_model, verbose=0))\n",
      "\u001b[33m[W 2023-03-02 11:37:42,193]\u001b[0m The parameter 'batch_size' in trial#77 is sampled independently by using `RandomSampler` instead of `QMCSampler` (optimization performance may be degraded). `QMCSampler` does not support dynamic search space or `CategoricalDistribution`. You can suppress this warning by setting `warn_independent_sampling` to `False` in the constructor of `QMCSampler`, if this independent sampling is intended behavior.\u001b[0m\n"
     ]
    },
    {
     "name": "stdout",
     "output_type": "stream",
     "text": [
      "195/195 [==============================] - 0s 1ms/step\n",
      "195/195 [==============================] - 0s 1ms/step\n",
      "195/195 [==============================] - 0s 1ms/step\n"
     ]
    },
    {
     "name": "stderr",
     "output_type": "stream",
     "text": [
      "\u001b[32m[I 2023-03-02 11:38:19,132]\u001b[0m Trial 77 finished with value: 0.8549700358644875 and parameters: {'units': 15, 'alpha': 0.040234375, 'dropout': 0.35234375, 'lr': 0.00021289129010793712, 'batch_size': 128, 'l2_kern': 0.00010181517217181818, 'l2_bias': 1.0554496008786035e-05}. Best is trial 13 with value: 0.8558005150328728.\u001b[0m\n",
      "C:\\Users\\User\\AppData\\Local\\Temp\\ipykernel_10400\\3785980822.py:37: DeprecationWarning: KerasClassifier is deprecated, use Sci-Keras (https://github.com/adriangb/scikeras) instead. See https://www.adriangb.com/scikeras/stable/migration.html for help migrating.\n",
      "  ('classifier', KerasClassifier(build_fn=self.create_model, verbose=0))\n",
      "\u001b[33m[W 2023-03-02 11:38:19,136]\u001b[0m The parameter 'batch_size' in trial#78 is sampled independently by using `RandomSampler` instead of `QMCSampler` (optimization performance may be degraded). `QMCSampler` does not support dynamic search space or `CategoricalDistribution`. You can suppress this warning by setting `warn_independent_sampling` to `False` in the constructor of `QMCSampler`, if this independent sampling is intended behavior.\u001b[0m\n"
     ]
    },
    {
     "name": "stdout",
     "output_type": "stream",
     "text": [
      "195/195 [==============================] - 0s 1ms/step\n",
      "195/195 [==============================] - 0s 1ms/step\n",
      "195/195 [==============================] - 0s 1ms/step\n"
     ]
    },
    {
     "name": "stderr",
     "output_type": "stream",
     "text": [
      "\u001b[32m[I 2023-03-02 11:38:41,326]\u001b[0m Trial 78 finished with value: 0.8525812611938236 and parameters: {'units': 34, 'alpha': 0.085234375, 'dropout': 0.20234375000000002, 'lr': 0.003010737497817499, 'batch_size': 64, 'l2_kern': 0.0032196784442513815, 'l2_bias': 0.000333762469429204}. Best is trial 13 with value: 0.8558005150328728.\u001b[0m\n",
      "C:\\Users\\User\\AppData\\Local\\Temp\\ipykernel_10400\\3785980822.py:37: DeprecationWarning: KerasClassifier is deprecated, use Sci-Keras (https://github.com/adriangb/scikeras) instead. See https://www.adriangb.com/scikeras/stable/migration.html for help migrating.\n",
      "  ('classifier', KerasClassifier(build_fn=self.create_model, verbose=0))\n",
      "\u001b[33m[W 2023-03-02 11:38:41,329]\u001b[0m The parameter 'batch_size' in trial#79 is sampled independently by using `RandomSampler` instead of `QMCSampler` (optimization performance may be degraded). `QMCSampler` does not support dynamic search space or `CategoricalDistribution`. You can suppress this warning by setting `warn_independent_sampling` to `False` in the constructor of `QMCSampler`, if this independent sampling is intended behavior.\u001b[0m\n"
     ]
    },
    {
     "name": "stdout",
     "output_type": "stream",
     "text": [
      "195/195 [==============================] - 0s 1ms/step\n",
      "195/195 [==============================] - 0s 1ms/step\n",
      "195/195 [==============================] - 0s 1ms/step\n"
     ]
    },
    {
     "name": "stderr",
     "output_type": "stream",
     "text": [
      "\u001b[32m[I 2023-03-02 11:39:46,921]\u001b[0m Trial 79 finished with value: 0.841401864397369 and parameters: {'units': 24, 'alpha': 0.017734375, 'dropout': 0.42734375, 'lr': 5.661094373381841e-05, 'batch_size': 512, 'l2_kern': 0.0005725487884358379, 'l2_bias': 0.0018768842935762192}. Best is trial 13 with value: 0.8558005150328728.\u001b[0m\n",
      "C:\\Users\\User\\AppData\\Local\\Temp\\ipykernel_10400\\3785980822.py:37: DeprecationWarning: KerasClassifier is deprecated, use Sci-Keras (https://github.com/adriangb/scikeras) instead. See https://www.adriangb.com/scikeras/stable/migration.html for help migrating.\n",
      "  ('classifier', KerasClassifier(build_fn=self.create_model, verbose=0))\n",
      "\u001b[33m[W 2023-03-02 11:39:46,923]\u001b[0m The parameter 'batch_size' in trial#80 is sampled independently by using `RandomSampler` instead of `QMCSampler` (optimization performance may be degraded). `QMCSampler` does not support dynamic search space or `CategoricalDistribution`. You can suppress this warning by setting `warn_independent_sampling` to `False` in the constructor of `QMCSampler`, if this independent sampling is intended behavior.\u001b[0m\n"
     ]
    },
    {
     "name": "stdout",
     "output_type": "stream",
     "text": [
      "195/195 [==============================] - 0s 1ms/step\n",
      "195/195 [==============================] - 0s 1ms/step\n",
      "195/195 [==============================] - 0s 1ms/step\n"
     ]
    },
    {
     "name": "stderr",
     "output_type": "stream",
     "text": [
      "\u001b[32m[I 2023-03-02 11:40:12,608]\u001b[0m Trial 80 finished with value: 0.8550999974467971 and parameters: {'units': 5, 'alpha': 0.06273437500000001, 'dropout': 0.27734375, 'lr': 0.0008005996440710619, 'batch_size': 512, 'l2_kern': 1.8105582430271218e-05, 'l2_bias': 5.935229272296989e-05}. Best is trial 13 with value: 0.8558005150328728.\u001b[0m\n",
      "C:\\Users\\User\\AppData\\Local\\Temp\\ipykernel_10400\\3785980822.py:37: DeprecationWarning: KerasClassifier is deprecated, use Sci-Keras (https://github.com/adriangb/scikeras) instead. See https://www.adriangb.com/scikeras/stable/migration.html for help migrating.\n",
      "  ('classifier', KerasClassifier(build_fn=self.create_model, verbose=0))\n",
      "\u001b[33m[W 2023-03-02 11:40:12,611]\u001b[0m The parameter 'batch_size' in trial#81 is sampled independently by using `RandomSampler` instead of `QMCSampler` (optimization performance may be degraded). `QMCSampler` does not support dynamic search space or `CategoricalDistribution`. You can suppress this warning by setting `warn_independent_sampling` to `False` in the constructor of `QMCSampler`, if this independent sampling is intended behavior.\u001b[0m\n"
     ]
    },
    {
     "name": "stdout",
     "output_type": "stream",
     "text": [
      "195/195 [==============================] - 0s 1ms/step\n",
      "195/195 [==============================] - 0s 1ms/step\n",
      "195/195 [==============================] - 0s 1ms/step\n"
     ]
    },
    {
     "name": "stderr",
     "output_type": "stream",
     "text": [
      "\u001b[32m[I 2023-03-02 11:40:55,689]\u001b[0m Trial 81 finished with value: 0.8546552149098345 and parameters: {'units': 6, 'alpha': 0.020546875, 'dropout': 0.39921875, 'lr': 0.0006784349383628287, 'batch_size': 64, 'l2_kern': 0.0061526541014903765, 'l2_bias': 0.00041417845143644066}. Best is trial 13 with value: 0.8558005150328728.\u001b[0m\n",
      "C:\\Users\\User\\AppData\\Local\\Temp\\ipykernel_10400\\3785980822.py:37: DeprecationWarning: KerasClassifier is deprecated, use Sci-Keras (https://github.com/adriangb/scikeras) instead. See https://www.adriangb.com/scikeras/stable/migration.html for help migrating.\n",
      "  ('classifier', KerasClassifier(build_fn=self.create_model, verbose=0))\n",
      "\u001b[33m[W 2023-03-02 11:40:55,691]\u001b[0m The parameter 'batch_size' in trial#82 is sampled independently by using `RandomSampler` instead of `QMCSampler` (optimization performance may be degraded). `QMCSampler` does not support dynamic search space or `CategoricalDistribution`. You can suppress this warning by setting `warn_independent_sampling` to `False` in the constructor of `QMCSampler`, if this independent sampling is intended behavior.\u001b[0m\n"
     ]
    },
    {
     "name": "stdout",
     "output_type": "stream",
     "text": [
      "195/195 [==============================] - 0s 1ms/step\n",
      "195/195 [==============================] - 0s 1ms/step\n",
      "195/195 [==============================] - 0s 1ms/step\n"
     ]
    },
    {
     "name": "stderr",
     "output_type": "stream",
     "text": [
      "\u001b[32m[I 2023-03-02 11:41:09,295]\u001b[0m Trial 82 finished with value: 0.8537176430657105 and parameters: {'units': 26, 'alpha': 0.065546875, 'dropout': 0.24921875000000002, 'lr': 0.009594518910204665, 'batch_size': 256, 'l2_kern': 0.00019456400615886337, 'l2_bias': 1.3097472643005891e-05}. Best is trial 13 with value: 0.8558005150328728.\u001b[0m\n",
      "C:\\Users\\User\\AppData\\Local\\Temp\\ipykernel_10400\\3785980822.py:37: DeprecationWarning: KerasClassifier is deprecated, use Sci-Keras (https://github.com/adriangb/scikeras) instead. See https://www.adriangb.com/scikeras/stable/migration.html for help migrating.\n",
      "  ('classifier', KerasClassifier(build_fn=self.create_model, verbose=0))\n",
      "\u001b[33m[W 2023-03-02 11:41:09,297]\u001b[0m The parameter 'batch_size' in trial#83 is sampled independently by using `RandomSampler` instead of `QMCSampler` (optimization performance may be degraded). `QMCSampler` does not support dynamic search space or `CategoricalDistribution`. You can suppress this warning by setting `warn_independent_sampling` to `False` in the constructor of `QMCSampler`, if this independent sampling is intended behavior.\u001b[0m\n"
     ]
    },
    {
     "name": "stdout",
     "output_type": "stream",
     "text": [
      "195/195 [==============================] - 0s 1ms/step\n",
      "195/195 [==============================] - 0s 1ms/step\n",
      "195/195 [==============================] - 0s 1ms/step\n"
     ]
    },
    {
     "name": "stderr",
     "output_type": "stream",
     "text": [
      "\u001b[32m[I 2023-03-02 11:41:52,815]\u001b[0m Trial 83 finished with value: 0.8554994223892644 and parameters: {'units': 35, 'alpha': 0.043046875000000005, 'dropout': 0.47421875, 'lr': 0.00018040588745195789, 'batch_size': 128, 'l2_kern': 3.459891660869929e-05, 'l2_bias': 7.365250122712277e-05}. Best is trial 13 with value: 0.8558005150328728.\u001b[0m\n",
      "C:\\Users\\User\\AppData\\Local\\Temp\\ipykernel_10400\\3785980822.py:37: DeprecationWarning: KerasClassifier is deprecated, use Sci-Keras (https://github.com/adriangb/scikeras) instead. See https://www.adriangb.com/scikeras/stable/migration.html for help migrating.\n",
      "  ('classifier', KerasClassifier(build_fn=self.create_model, verbose=0))\n",
      "\u001b[33m[W 2023-03-02 11:41:52,822]\u001b[0m The parameter 'batch_size' in trial#84 is sampled independently by using `RandomSampler` instead of `QMCSampler` (optimization performance may be degraded). `QMCSampler` does not support dynamic search space or `CategoricalDistribution`. You can suppress this warning by setting `warn_independent_sampling` to `False` in the constructor of `QMCSampler`, if this independent sampling is intended behavior.\u001b[0m\n"
     ]
    },
    {
     "name": "stdout",
     "output_type": "stream",
     "text": [
      "195/195 [==============================] - 0s 1ms/step\n",
      "195/195 [==============================] - 0s 1ms/step\n",
      "195/195 [==============================] - 0s 1ms/step\n"
     ]
    },
    {
     "name": "stderr",
     "output_type": "stream",
     "text": [
      "\u001b[32m[I 2023-03-02 11:42:04,113]\u001b[0m Trial 84 finished with value: 0.8545151950572797 and parameters: {'units': 16, 'alpha': 0.08804687500000001, 'dropout': 0.32421875, 'lr': 0.0025513245276651306, 'batch_size': 512, 'l2_kern': 0.0010941138105771855, 'l2_bias': 0.0023290965924605465}. Best is trial 13 with value: 0.8558005150328728.\u001b[0m\n",
      "C:\\Users\\User\\AppData\\Local\\Temp\\ipykernel_10400\\3785980822.py:37: DeprecationWarning: KerasClassifier is deprecated, use Sci-Keras (https://github.com/adriangb/scikeras) instead. See https://www.adriangb.com/scikeras/stable/migration.html for help migrating.\n",
      "  ('classifier', KerasClassifier(build_fn=self.create_model, verbose=0))\n",
      "\u001b[33m[W 2023-03-02 11:42:04,117]\u001b[0m The parameter 'batch_size' in trial#85 is sampled independently by using `RandomSampler` instead of `QMCSampler` (optimization performance may be degraded). `QMCSampler` does not support dynamic search space or `CategoricalDistribution`. You can suppress this warning by setting `warn_independent_sampling` to `False` in the constructor of `QMCSampler`, if this independent sampling is intended behavior.\u001b[0m\n"
     ]
    },
    {
     "name": "stdout",
     "output_type": "stream",
     "text": [
      "195/195 [==============================] - 0s 1ms/step\n",
      "195/195 [==============================] - 0s 1ms/step\n",
      "195/195 [==============================] - 0s 1ms/step\n"
     ]
    },
    {
     "name": "stderr",
     "output_type": "stream",
     "text": [
      "\u001b[32m[I 2023-03-02 11:42:21,821]\u001b[0m Trial 85 finished with value: 0.854780836042932 and parameters: {'units': 21, 'alpha': 0.05429687500000001, 'dropout': 0.21171875, 'lr': 0.0013156396538072516, 'batch_size': 1024, 'l2_kern': 0.00046138396827332176, 'l2_bias': 0.000982171889188038}. Best is trial 13 with value: 0.8558005150328728.\u001b[0m\n",
      "C:\\Users\\User\\AppData\\Local\\Temp\\ipykernel_10400\\3785980822.py:37: DeprecationWarning: KerasClassifier is deprecated, use Sci-Keras (https://github.com/adriangb/scikeras) instead. See https://www.adriangb.com/scikeras/stable/migration.html for help migrating.\n",
      "  ('classifier', KerasClassifier(build_fn=self.create_model, verbose=0))\n",
      "\u001b[33m[W 2023-03-02 11:42:21,824]\u001b[0m The parameter 'batch_size' in trial#86 is sampled independently by using `RandomSampler` instead of `QMCSampler` (optimization performance may be degraded). `QMCSampler` does not support dynamic search space or `CategoricalDistribution`. You can suppress this warning by setting `warn_independent_sampling` to `False` in the constructor of `QMCSampler`, if this independent sampling is intended behavior.\u001b[0m\n"
     ]
    },
    {
     "name": "stdout",
     "output_type": "stream",
     "text": [
      "195/195 [==============================] - 0s 1ms/step\n",
      "195/195 [==============================] - 0s 1ms/step\n",
      "195/195 [==============================] - 0s 1ms/step\n"
     ]
    },
    {
     "name": "stderr",
     "output_type": "stream",
     "text": [
      "\u001b[32m[I 2023-03-02 11:43:09,739]\u001b[0m Trial 86 finished with value: 0.8547086767806169 and parameters: {'units': 40, 'alpha': 0.099296875, 'dropout': 0.36171875, 'lr': 9.302977208050299e-05, 'batch_size': 128, 'l2_kern': 1.4590242156305593e-05, 'l2_bias': 3.105900223624704e-05}. Best is trial 13 with value: 0.8558005150328728.\u001b[0m\n",
      "C:\\Users\\User\\AppData\\Local\\Temp\\ipykernel_10400\\3785980822.py:37: DeprecationWarning: KerasClassifier is deprecated, use Sci-Keras (https://github.com/adriangb/scikeras) instead. See https://www.adriangb.com/scikeras/stable/migration.html for help migrating.\n",
      "  ('classifier', KerasClassifier(build_fn=self.create_model, verbose=0))\n",
      "\u001b[33m[W 2023-03-02 11:43:09,743]\u001b[0m The parameter 'batch_size' in trial#87 is sampled independently by using `RandomSampler` instead of `QMCSampler` (optimization performance may be degraded). `QMCSampler` does not support dynamic search space or `CategoricalDistribution`. You can suppress this warning by setting `warn_independent_sampling` to `False` in the constructor of `QMCSampler`, if this independent sampling is intended behavior.\u001b[0m\n"
     ]
    },
    {
     "name": "stdout",
     "output_type": "stream",
     "text": [
      "195/195 [==============================] - 0s 1ms/step\n",
      "195/195 [==============================] - 0s 2ms/step\n",
      "195/195 [==============================] - 0s 1ms/step\n"
     ]
    },
    {
     "name": "stderr",
     "output_type": "stream",
     "text": [
      "\u001b[32m[I 2023-03-02 11:43:22,567]\u001b[0m Trial 87 finished with value: 0.8540504266607486 and parameters: {'units': 30, 'alpha': 0.031796875, 'dropout': 0.28671875, 'lr': 0.0049475985514946625, 'batch_size': 512, 'l2_kern': 8.204696109024983e-05, 'l2_bias': 0.0001746576047662117}. Best is trial 13 with value: 0.8558005150328728.\u001b[0m\n",
      "C:\\Users\\User\\AppData\\Local\\Temp\\ipykernel_10400\\3785980822.py:37: DeprecationWarning: KerasClassifier is deprecated, use Sci-Keras (https://github.com/adriangb/scikeras) instead. See https://www.adriangb.com/scikeras/stable/migration.html for help migrating.\n",
      "  ('classifier', KerasClassifier(build_fn=self.create_model, verbose=0))\n",
      "\u001b[33m[W 2023-03-02 11:43:22,573]\u001b[0m The parameter 'batch_size' in trial#88 is sampled independently by using `RandomSampler` instead of `QMCSampler` (optimization performance may be degraded). `QMCSampler` does not support dynamic search space or `CategoricalDistribution`. You can suppress this warning by setting `warn_independent_sampling` to `False` in the constructor of `QMCSampler`, if this independent sampling is intended behavior.\u001b[0m\n"
     ]
    },
    {
     "name": "stdout",
     "output_type": "stream",
     "text": [
      "195/195 [==============================] - 0s 1ms/step\n",
      "195/195 [==============================] - 0s 1ms/step\n",
      "195/195 [==============================] - 0s 1ms/step\n"
     ]
    },
    {
     "name": "stderr",
     "output_type": "stream",
     "text": [
      "\u001b[32m[I 2023-03-02 11:43:46,576]\u001b[0m Trial 88 finished with value: 0.8544812628940766 and parameters: {'units': 11, 'alpha': 0.076796875, 'dropout': 0.43671875, 'lr': 0.0003498480486350615, 'batch_size': 256, 'l2_kern': 0.0025945527214040172, 'l2_bias': 0.0055231584173071}. Best is trial 13 with value: 0.8558005150328728.\u001b[0m\n",
      "C:\\Users\\User\\AppData\\Local\\Temp\\ipykernel_10400\\3785980822.py:37: DeprecationWarning: KerasClassifier is deprecated, use Sci-Keras (https://github.com/adriangb/scikeras) instead. See https://www.adriangb.com/scikeras/stable/migration.html for help migrating.\n",
      "  ('classifier', KerasClassifier(build_fn=self.create_model, verbose=0))\n",
      "\u001b[33m[W 2023-03-02 11:43:46,578]\u001b[0m The parameter 'batch_size' in trial#89 is sampled independently by using `RandomSampler` instead of `QMCSampler` (optimization performance may be degraded). `QMCSampler` does not support dynamic search space or `CategoricalDistribution`. You can suppress this warning by setting `warn_independent_sampling` to `False` in the constructor of `QMCSampler`, if this independent sampling is intended behavior.\u001b[0m\n"
     ]
    },
    {
     "name": "stdout",
     "output_type": "stream",
     "text": [
      "195/195 [==============================] - 0s 1ms/step\n",
      "195/195 [==============================] - 0s 1ms/step\n",
      "195/195 [==============================] - 0s 1ms/step\n"
     ]
    },
    {
     "name": "stderr",
     "output_type": "stream",
     "text": [
      "\u001b[32m[I 2023-03-02 11:45:22,554]\u001b[0m Trial 89 finished with value: 0.8543771944330029 and parameters: {'units': 9, 'alpha': 0.037421875, 'dropout': 0.30546875, 'lr': 6.680478678352381e-05, 'batch_size': 64, 'l2_kern': 0.0002996142741004366, 'l2_bias': 0.0035866376244847696}. Best is trial 13 with value: 0.8558005150328728.\u001b[0m\n",
      "C:\\Users\\User\\AppData\\Local\\Temp\\ipykernel_10400\\3785980822.py:37: DeprecationWarning: KerasClassifier is deprecated, use Sci-Keras (https://github.com/adriangb/scikeras) instead. See https://www.adriangb.com/scikeras/stable/migration.html for help migrating.\n",
      "  ('classifier', KerasClassifier(build_fn=self.create_model, verbose=0))\n",
      "\u001b[33m[W 2023-03-02 11:45:22,558]\u001b[0m The parameter 'batch_size' in trial#90 is sampled independently by using `RandomSampler` instead of `QMCSampler` (optimization performance may be degraded). `QMCSampler` does not support dynamic search space or `CategoricalDistribution`. You can suppress this warning by setting `warn_independent_sampling` to `False` in the constructor of `QMCSampler`, if this independent sampling is intended behavior.\u001b[0m\n"
     ]
    },
    {
     "name": "stdout",
     "output_type": "stream",
     "text": [
      "195/195 [==============================] - 0s 1ms/step\n",
      "195/195 [==============================] - 0s 1ms/step\n",
      "195/195 [==============================] - 0s 1ms/step\n"
     ]
    },
    {
     "name": "stderr",
     "output_type": "stream",
     "text": [
      "\u001b[32m[I 2023-03-02 11:45:56,594]\u001b[0m Trial 90 finished with value: 0.8544782702670027 and parameters: {'units': 28, 'alpha': 0.082421875, 'dropout': 0.45546875, 'lr': 0.0009447623550070229, 'batch_size': 64, 'l2_kern': 0.009474635256553761, 'l2_bias': 0.00011341944035027563}. Best is trial 13 with value: 0.8558005150328728.\u001b[0m\n",
      "C:\\Users\\User\\AppData\\Local\\Temp\\ipykernel_10400\\3785980822.py:37: DeprecationWarning: KerasClassifier is deprecated, use Sci-Keras (https://github.com/adriangb/scikeras) instead. See https://www.adriangb.com/scikeras/stable/migration.html for help migrating.\n",
      "  ('classifier', KerasClassifier(build_fn=self.create_model, verbose=0))\n",
      "\u001b[33m[W 2023-03-02 11:45:56,595]\u001b[0m The parameter 'batch_size' in trial#91 is sampled independently by using `RandomSampler` instead of `QMCSampler` (optimization performance may be degraded). `QMCSampler` does not support dynamic search space or `CategoricalDistribution`. You can suppress this warning by setting `warn_independent_sampling` to `False` in the constructor of `QMCSampler`, if this independent sampling is intended behavior.\u001b[0m\n"
     ]
    },
    {
     "name": "stdout",
     "output_type": "stream",
     "text": [
      "195/195 [==============================] - 0s 1ms/step\n",
      "195/195 [==============================] - 0s 1ms/step\n",
      "195/195 [==============================] - 0s 1ms/step\n"
     ]
    },
    {
     "name": "stderr",
     "output_type": "stream",
     "text": [
      "\u001b[32m[I 2023-03-02 11:46:33,909]\u001b[0m Trial 91 finished with value: 0.8550256924784699 and parameters: {'units': 38, 'alpha': 0.014921875000000001, 'dropout': 0.23046875, 'lr': 0.0002512262878110969, 'batch_size': 64, 'l2_kern': 0.0016848548794358386, 'l2_bias': 2.0169145547303294e-05}. Best is trial 13 with value: 0.8558005150328728.\u001b[0m\n",
      "C:\\Users\\User\\AppData\\Local\\Temp\\ipykernel_10400\\3785980822.py:37: DeprecationWarning: KerasClassifier is deprecated, use Sci-Keras (https://github.com/adriangb/scikeras) instead. See https://www.adriangb.com/scikeras/stable/migration.html for help migrating.\n",
      "  ('classifier', KerasClassifier(build_fn=self.create_model, verbose=0))\n",
      "\u001b[33m[W 2023-03-02 11:46:33,911]\u001b[0m The parameter 'batch_size' in trial#92 is sampled independently by using `RandomSampler` instead of `QMCSampler` (optimization performance may be degraded). `QMCSampler` does not support dynamic search space or `CategoricalDistribution`. You can suppress this warning by setting `warn_independent_sampling` to `False` in the constructor of `QMCSampler`, if this independent sampling is intended behavior.\u001b[0m\n"
     ]
    },
    {
     "name": "stdout",
     "output_type": "stream",
     "text": [
      "195/195 [==============================] - 0s 1ms/step\n",
      "195/195 [==============================] - 0s 1ms/step\n",
      "195/195 [==============================] - 0s 2ms/step\n"
     ]
    },
    {
     "name": "stderr",
     "output_type": "stream",
     "text": [
      "\u001b[32m[I 2023-03-02 11:47:17,682]\u001b[0m Trial 92 finished with value: 0.8538274177147526 and parameters: {'units': 18, 'alpha': 0.059921875000000006, 'dropout': 0.38046875, 'lr': 0.0035528762344709964, 'batch_size': 32, 'l2_kern': 5.3279789458656456e-05, 'l2_bias': 0.000637804383889218}. Best is trial 13 with value: 0.8558005150328728.\u001b[0m\n",
      "C:\\Users\\User\\AppData\\Local\\Temp\\ipykernel_10400\\3785980822.py:37: DeprecationWarning: KerasClassifier is deprecated, use Sci-Keras (https://github.com/adriangb/scikeras) instead. See https://www.adriangb.com/scikeras/stable/migration.html for help migrating.\n",
      "  ('classifier', KerasClassifier(build_fn=self.create_model, verbose=0))\n",
      "\u001b[33m[W 2023-03-02 11:47:17,695]\u001b[0m The parameter 'batch_size' in trial#93 is sampled independently by using `RandomSampler` instead of `QMCSampler` (optimization performance may be degraded). `QMCSampler` does not support dynamic search space or `CategoricalDistribution`. You can suppress this warning by setting `warn_independent_sampling` to `False` in the constructor of `QMCSampler`, if this independent sampling is intended behavior.\u001b[0m\n"
     ]
    },
    {
     "name": "stdout",
     "output_type": "stream",
     "text": [
      "195/195 [==============================] - 0s 1ms/step\n",
      "195/195 [==============================] - 0s 1ms/step\n",
      "195/195 [==============================] - 0s 1ms/step\n"
     ]
    },
    {
     "name": "stderr",
     "output_type": "stream",
     "text": [
      "\u001b[32m[I 2023-03-02 11:48:27,894]\u001b[0m Trial 93 finished with value: 0.8526994228365853 and parameters: {'units': 13, 'alpha': 0.026171875000000004, 'dropout': 0.49296875, 'lr': 0.006889835111409906, 'batch_size': 16, 'l2_kern': 2.2467900918126424e-05, 'l2_bias': 0.008505258154439964}. Best is trial 13 with value: 0.8558005150328728.\u001b[0m\n",
      "C:\\Users\\User\\AppData\\Local\\Temp\\ipykernel_10400\\3785980822.py:37: DeprecationWarning: KerasClassifier is deprecated, use Sci-Keras (https://github.com/adriangb/scikeras) instead. See https://www.adriangb.com/scikeras/stable/migration.html for help migrating.\n",
      "  ('classifier', KerasClassifier(build_fn=self.create_model, verbose=0))\n",
      "\u001b[33m[W 2023-03-02 11:48:27,896]\u001b[0m The parameter 'batch_size' in trial#94 is sampled independently by using `RandomSampler` instead of `QMCSampler` (optimization performance may be degraded). `QMCSampler` does not support dynamic search space or `CategoricalDistribution`. You can suppress this warning by setting `warn_independent_sampling` to `False` in the constructor of `QMCSampler`, if this independent sampling is intended behavior.\u001b[0m\n"
     ]
    },
    {
     "name": "stdout",
     "output_type": "stream",
     "text": [
      "195/195 [==============================] - 0s 1ms/step\n",
      "195/195 [==============================] - 0s 1ms/step\n",
      "195/195 [==============================] - 0s 1ms/step\n"
     ]
    },
    {
     "name": "stderr",
     "output_type": "stream",
     "text": [
      "\u001b[32m[I 2023-03-02 11:48:49,313]\u001b[0m Trial 94 finished with value: 0.8546781061060366 and parameters: {'units': 33, 'alpha': 0.07117187500000001, 'dropout': 0.34296875000000004, 'lr': 0.00048718491285351195, 'batch_size': 256, 'l2_kern': 0.0007104974114426786, 'l2_bias': 0.0002689598785575042}. Best is trial 13 with value: 0.8558005150328728.\u001b[0m\n",
      "C:\\Users\\User\\AppData\\Local\\Temp\\ipykernel_10400\\3785980822.py:37: DeprecationWarning: KerasClassifier is deprecated, use Sci-Keras (https://github.com/adriangb/scikeras) instead. See https://www.adriangb.com/scikeras/stable/migration.html for help migrating.\n",
      "  ('classifier', KerasClassifier(build_fn=self.create_model, verbose=0))\n",
      "\u001b[33m[W 2023-03-02 11:48:49,316]\u001b[0m The parameter 'batch_size' in trial#95 is sampled independently by using `RandomSampler` instead of `QMCSampler` (optimization performance may be degraded). `QMCSampler` does not support dynamic search space or `CategoricalDistribution`. You can suppress this warning by setting `warn_independent_sampling` to `False` in the constructor of `QMCSampler`, if this independent sampling is intended behavior.\u001b[0m\n"
     ]
    },
    {
     "name": "stdout",
     "output_type": "stream",
     "text": [
      "195/195 [==============================] - 0s 1ms/step\n",
      "195/195 [==============================] - 0s 1ms/step\n",
      "195/195 [==============================] - 0s 1ms/step\n"
     ]
    },
    {
     "name": "stderr",
     "output_type": "stream",
     "text": [
      "\u001b[32m[I 2023-03-02 11:50:01,145]\u001b[0m Trial 95 finished with value: 0.8529289194662376 and parameters: {'units': 23, 'alpha': 0.048671875, 'dropout': 0.41796875, 'lr': 0.0018321090901819409, 'batch_size': 16, 'l2_kern': 0.003995420558949889, 'l2_bias': 4.782858141653789e-05}. Best is trial 13 with value: 0.8558005150328728.\u001b[0m\n",
      "C:\\Users\\User\\AppData\\Local\\Temp\\ipykernel_10400\\3785980822.py:37: DeprecationWarning: KerasClassifier is deprecated, use Sci-Keras (https://github.com/adriangb/scikeras) instead. See https://www.adriangb.com/scikeras/stable/migration.html for help migrating.\n",
      "  ('classifier', KerasClassifier(build_fn=self.create_model, verbose=0))\n",
      "\u001b[33m[W 2023-03-02 11:50:01,149]\u001b[0m The parameter 'batch_size' in trial#96 is sampled independently by using `RandomSampler` instead of `QMCSampler` (optimization performance may be degraded). `QMCSampler` does not support dynamic search space or `CategoricalDistribution`. You can suppress this warning by setting `warn_independent_sampling` to `False` in the constructor of `QMCSampler`, if this independent sampling is intended behavior.\u001b[0m\n"
     ]
    },
    {
     "name": "stdout",
     "output_type": "stream",
     "text": [
      "195/195 [==============================] - 0s 1ms/step\n",
      "195/195 [==============================] - 0s 1ms/step\n",
      "195/195 [==============================] - 0s 2ms/step\n"
     ]
    },
    {
     "name": "stderr",
     "output_type": "stream",
     "text": [
      "\u001b[32m[I 2023-03-02 11:53:02,893]\u001b[0m Trial 96 finished with value: 0.8546514224458911 and parameters: {'units': 4, 'alpha': 0.093671875, 'dropout': 0.26796875, 'lr': 0.0001295496761541166, 'batch_size': 16, 'l2_kern': 0.00012634629176544695, 'l2_bias': 0.0015124725453106239}. Best is trial 13 with value: 0.8558005150328728.\u001b[0m\n",
      "C:\\Users\\User\\AppData\\Local\\Temp\\ipykernel_10400\\3785980822.py:37: DeprecationWarning: KerasClassifier is deprecated, use Sci-Keras (https://github.com/adriangb/scikeras) instead. See https://www.adriangb.com/scikeras/stable/migration.html for help migrating.\n",
      "  ('classifier', KerasClassifier(build_fn=self.create_model, verbose=0))\n",
      "\u001b[33m[W 2023-03-02 11:53:02,896]\u001b[0m The parameter 'batch_size' in trial#97 is sampled independently by using `RandomSampler` instead of `QMCSampler` (optimization performance may be degraded). `QMCSampler` does not support dynamic search space or `CategoricalDistribution`. You can suppress this warning by setting `warn_independent_sampling` to `False` in the constructor of `QMCSampler`, if this independent sampling is intended behavior.\u001b[0m\n"
     ]
    },
    {
     "name": "stdout",
     "output_type": "stream",
     "text": [
      "195/195 [==============================] - 0s 1ms/step\n",
      "195/195 [==============================] - 0s 2ms/step\n",
      "195/195 [==============================] - 0s 1ms/step\n"
     ]
    },
    {
     "name": "stderr",
     "output_type": "stream",
     "text": [
      "\u001b[32m[I 2023-03-02 11:53:35,825]\u001b[0m Trial 97 finished with value: 0.8536274892782236 and parameters: {'units': 3, 'alpha': 0.021953125000000004, 'dropout': 0.31953125, 'lr': 0.000322051897399328, 'batch_size': 256, 'l2_kern': 0.000333762469429204, 'l2_bias': 0.0007104974114426786}. Best is trial 13 with value: 0.8558005150328728.\u001b[0m\n",
      "C:\\Users\\User\\AppData\\Local\\Temp\\ipykernel_10400\\3785980822.py:37: DeprecationWarning: KerasClassifier is deprecated, use Sci-Keras (https://github.com/adriangb/scikeras) instead. See https://www.adriangb.com/scikeras/stable/migration.html for help migrating.\n",
      "  ('classifier', KerasClassifier(build_fn=self.create_model, verbose=0))\n",
      "\u001b[33m[W 2023-03-02 11:53:35,827]\u001b[0m The parameter 'batch_size' in trial#98 is sampled independently by using `RandomSampler` instead of `QMCSampler` (optimization performance may be degraded). `QMCSampler` does not support dynamic search space or `CategoricalDistribution`. You can suppress this warning by setting `warn_independent_sampling` to `False` in the constructor of `QMCSampler`, if this independent sampling is intended behavior.\u001b[0m\n"
     ]
    },
    {
     "name": "stdout",
     "output_type": "stream",
     "text": [
      "195/195 [==============================] - 0s 1ms/step\n",
      "195/195 [==============================] - 0s 1ms/step\n",
      "195/195 [==============================] - 0s 1ms/step\n"
     ]
    },
    {
     "name": "stderr",
     "output_type": "stream",
     "text": [
      "\u001b[32m[I 2023-03-02 11:53:48,912]\u001b[0m Trial 98 finished with value: 0.8540074044464103 and parameters: {'units': 23, 'alpha': 0.066953125, 'dropout': 0.46953125, 'lr': 0.0045545016109011785, 'batch_size': 256, 'l2_kern': 1.0554496008786035e-05, 'l2_bias': 2.2467900918126424e-05}. Best is trial 13 with value: 0.8558005150328728.\u001b[0m\n",
      "C:\\Users\\User\\AppData\\Local\\Temp\\ipykernel_10400\\3785980822.py:37: DeprecationWarning: KerasClassifier is deprecated, use Sci-Keras (https://github.com/adriangb/scikeras) instead. See https://www.adriangb.com/scikeras/stable/migration.html for help migrating.\n",
      "  ('classifier', KerasClassifier(build_fn=self.create_model, verbose=0))\n",
      "\u001b[33m[W 2023-03-02 11:53:48,915]\u001b[0m The parameter 'batch_size' in trial#99 is sampled independently by using `RandomSampler` instead of `QMCSampler` (optimization performance may be degraded). `QMCSampler` does not support dynamic search space or `CategoricalDistribution`. You can suppress this warning by setting `warn_independent_sampling` to `False` in the constructor of `QMCSampler`, if this independent sampling is intended behavior.\u001b[0m\n"
     ]
    },
    {
     "name": "stdout",
     "output_type": "stream",
     "text": [
      "195/195 [==============================] - 0s 1ms/step\n",
      "195/195 [==============================] - 0s 1ms/step\n",
      "195/195 [==============================] - 0s 1ms/step\n"
     ]
    },
    {
     "name": "stderr",
     "output_type": "stream",
     "text": [
      "\u001b[32m[I 2023-03-02 11:55:43,966]\u001b[0m Trial 99 finished with value: 0.8546936494511114 and parameters: {'units': 32, 'alpha': 0.044453125, 'dropout': 0.24453125, 'lr': 8.563836422710964e-05, 'batch_size': 16, 'l2_kern': 5.935229272296989e-05, 'l2_bias': 0.00012634629176544695}. Best is trial 13 with value: 0.8558005150328728.\u001b[0m\n"
     ]
    },
    {
     "name": "stdout",
     "output_type": "stream",
     "text": [
      "Number of finished trials: 100\n",
      "Best trial:\n",
      "  Value: 0.8558005150328728\n",
      "    units: 14\n",
      "    alpha: 0.026875000000000003\n",
      "    dropout: 0.29375\n",
      "    lr: 0.0009846896585947416\n",
      "    batch_size: 512\n",
      "    l2_kern: 0.0064938163157621165\n",
      "    l2_bias: 0.00020535250264571456\n"
     ]
    },
    {
     "name": "stderr",
     "output_type": "stream",
     "text": [
      "C:\\Users\\User\\AppData\\Local\\Temp\\ipykernel_10400\\3785980822.py:111: DeprecationWarning: KerasClassifier is deprecated, use Sci-Keras (https://github.com/adriangb/scikeras) instead. See https://www.adriangb.com/scikeras/stable/migration.html for help migrating.\n",
      "  ('classifier', KerasClassifier(build_fn=tun.create_model, verbose=0))\n"
     ]
    },
    {
     "name": "stdout",
     "output_type": "stream",
     "text": [
      "117/117 [==============================] - 0s 1ms/step\n",
      "117/117 [==============================] - 0s 1ms/step\n",
      "117/117 [==============================] - 0s 1ms/step\n",
      "117/117 [==============================] - 0s 2ms/step\n",
      "117/117 [==============================] - 0s 1ms/step\n",
      "37/37 [==============================] - 0s 2ms/step\n",
      "37/37 [==============================] - 0s 2ms/step\n",
      "37/37 [==============================] - 0s 2ms/step\n",
      "37/37 [==============================] - 0s 2ms/step\n",
      "37/37 [==============================] - 0s 2ms/step\n",
      "Train mean AUC score is 0.8549182783179976 while test mean AUC score is 0.8636452408777211.\n",
      "183/183 [==============================] - 0s 1ms/step\n",
      "              precision    recall  f1-score   support\n",
      "\n",
      "          No       0.88      0.97      0.92      4648\n",
      "         Yes       0.78      0.47      0.58      1186\n",
      "\n",
      "    accuracy                           0.86      5834\n",
      "   macro avg       0.83      0.72      0.75      5834\n",
      "weighted avg       0.86      0.86      0.85      5834\n",
      "\n"
     ]
    }
   ],
   "source": [
    "# Quasi Monte Carlo\n",
    "params_mc = tun.Tuning(n_trials=trials, sampler = optuna.samplers.QMCSampler())\n",
    "mc_scores = tun.Best_MLP_model(params_mc)\n",
    "mc_scores = mc_scores.rename(columns={'Tree-structured Parzen Estimator': 'Quasi Monte Carlo'})"
   ]
  },
  {
   "cell_type": "markdown",
   "id": "a400473c",
   "metadata": {},
   "source": [
    "## Optimal parameters comparison"
   ]
  },
  {
   "cell_type": "code",
   "execution_count": 9,
   "id": "0190828f",
   "metadata": {},
   "outputs": [
    {
     "data": {
      "text/html": [
       "<div>\n",
       "<style scoped>\n",
       "    .dataframe tbody tr th:only-of-type {\n",
       "        vertical-align: middle;\n",
       "    }\n",
       "\n",
       "    .dataframe tbody tr th {\n",
       "        vertical-align: top;\n",
       "    }\n",
       "\n",
       "    .dataframe thead th {\n",
       "        text-align: right;\n",
       "    }\n",
       "</style>\n",
       "<table border=\"1\" class=\"dataframe\">\n",
       "  <thead>\n",
       "    <tr style=\"text-align: right;\">\n",
       "      <th></th>\n",
       "      <th>TPE</th>\n",
       "      <th>RS</th>\n",
       "      <th>GA</th>\n",
       "      <th>MC</th>\n",
       "    </tr>\n",
       "  </thead>\n",
       "  <tbody>\n",
       "    <tr>\n",
       "      <th>NEURONS LAYER 1</th>\n",
       "      <td>30.000000</td>\n",
       "      <td>13.000000</td>\n",
       "      <td>10.000000</td>\n",
       "      <td>14.000000</td>\n",
       "    </tr>\n",
       "    <tr>\n",
       "      <th>AlPHA_l</th>\n",
       "      <td>0.021675</td>\n",
       "      <td>0.026858</td>\n",
       "      <td>0.036926</td>\n",
       "      <td>0.026875</td>\n",
       "    </tr>\n",
       "    <tr>\n",
       "      <th>DROPOUT LAYER 1</th>\n",
       "      <td>0.436936</td>\n",
       "      <td>0.277678</td>\n",
       "      <td>0.224593</td>\n",
       "      <td>0.293750</td>\n",
       "    </tr>\n",
       "    <tr>\n",
       "      <th>LEARNING RATE</th>\n",
       "      <td>0.000143</td>\n",
       "      <td>0.000281</td>\n",
       "      <td>0.000414</td>\n",
       "      <td>0.000985</td>\n",
       "    </tr>\n",
       "    <tr>\n",
       "      <th>BATCH SIZE</th>\n",
       "      <td>256.000000</td>\n",
       "      <td>256.000000</td>\n",
       "      <td>256.000000</td>\n",
       "      <td>512.000000</td>\n",
       "    </tr>\n",
       "    <tr>\n",
       "      <th>KERNEL REGULARIZER_1</th>\n",
       "      <td>0.006809</td>\n",
       "      <td>0.000802</td>\n",
       "      <td>0.000743</td>\n",
       "      <td>0.006494</td>\n",
       "    </tr>\n",
       "    <tr>\n",
       "      <th>BIAS REGURALIZER_1</th>\n",
       "      <td>0.000258</td>\n",
       "      <td>0.000777</td>\n",
       "      <td>0.002538</td>\n",
       "      <td>0.000205</td>\n",
       "    </tr>\n",
       "  </tbody>\n",
       "</table>\n",
       "</div>"
      ],
      "text/plain": [
       "                             TPE          RS          GA          MC\n",
       "NEURONS LAYER 1        30.000000   13.000000   10.000000   14.000000\n",
       "AlPHA_l                 0.021675    0.026858    0.036926    0.026875\n",
       "DROPOUT LAYER 1         0.436936    0.277678    0.224593    0.293750\n",
       "LEARNING RATE           0.000143    0.000281    0.000414    0.000985\n",
       "BATCH SIZE            256.000000  256.000000  256.000000  512.000000\n",
       "KERNEL REGULARIZER_1    0.006809    0.000802    0.000743    0.006494\n",
       "BIAS REGURALIZER_1      0.000258    0.000777    0.002538    0.000205"
      ]
     },
     "execution_count": 9,
     "metadata": {},
     "output_type": "execute_result"
    }
   ],
   "source": [
    "params_all = pd.DataFrame(zip([item[1] for item in params_tpe], [item[1] for item in params_rs], \n",
    "                              [item[1] for item in params_ga], [item[1] for item in params_mc]),\n",
    "                          index =['NEURONS LAYER 1 ',\"AlPHA_l\", 'DROPOUT LAYER 1 ','LEARNING RATE',\"BATCH SIZE\",\n",
    "                                  \"KERNEL REGULARIZER_1\",\"BIAS REGURALIZER_1\"] ,\n",
    "                          columns = ['TPE','RS','GA', 'MC'])\n",
    "\n",
    "params_all"
   ]
  },
  {
   "cell_type": "markdown",
   "id": "141f5e3b",
   "metadata": {},
   "source": [
    "## Metrics Summary"
   ]
  },
  {
   "cell_type": "code",
   "execution_count": 10,
   "id": "ff4e10f8",
   "metadata": {},
   "outputs": [
    {
     "data": {
      "text/html": [
       "<div>\n",
       "<style scoped>\n",
       "    .dataframe tbody tr th:only-of-type {\n",
       "        vertical-align: middle;\n",
       "    }\n",
       "\n",
       "    .dataframe tbody tr th {\n",
       "        vertical-align: top;\n",
       "    }\n",
       "\n",
       "    .dataframe thead th {\n",
       "        text-align: right;\n",
       "    }\n",
       "</style>\n",
       "<table border=\"1\" class=\"dataframe\">\n",
       "  <thead>\n",
       "    <tr style=\"text-align: right;\">\n",
       "      <th></th>\n",
       "      <th>Tree-structured Parzen Estimator</th>\n",
       "      <th>Random Sampler</th>\n",
       "      <th>Genetic Algorithm</th>\n",
       "      <th>Quasi Monte Carlo</th>\n",
       "    </tr>\n",
       "  </thead>\n",
       "  <tbody>\n",
       "    <tr>\n",
       "      <th>Accuracy</th>\n",
       "      <td>0.864930</td>\n",
       "      <td>0.864415</td>\n",
       "      <td>0.866472</td>\n",
       "      <td>0.864415</td>\n",
       "    </tr>\n",
       "    <tr>\n",
       "      <th>Precision</th>\n",
       "      <td>0.774862</td>\n",
       "      <td>0.764391</td>\n",
       "      <td>0.767411</td>\n",
       "      <td>0.775453</td>\n",
       "    </tr>\n",
       "    <tr>\n",
       "      <th>Recall</th>\n",
       "      <td>0.473019</td>\n",
       "      <td>0.481450</td>\n",
       "      <td>0.492411</td>\n",
       "      <td>0.468803</td>\n",
       "    </tr>\n",
       "    <tr>\n",
       "      <th>F1-score</th>\n",
       "      <td>0.587435</td>\n",
       "      <td>0.590792</td>\n",
       "      <td>0.599897</td>\n",
       "      <td>0.584341</td>\n",
       "    </tr>\n",
       "    <tr>\n",
       "      <th>AUC</th>\n",
       "      <td>0.718975</td>\n",
       "      <td>0.721792</td>\n",
       "      <td>0.727165</td>\n",
       "      <td>0.717082</td>\n",
       "    </tr>\n",
       "    <tr>\n",
       "      <th>H-measure</th>\n",
       "      <td>0.334284</td>\n",
       "      <td>0.337359</td>\n",
       "      <td>0.347785</td>\n",
       "      <td>0.330960</td>\n",
       "    </tr>\n",
       "  </tbody>\n",
       "</table>\n",
       "</div>"
      ],
      "text/plain": [
       "           Tree-structured Parzen Estimator  Random Sampler  \\\n",
       "Accuracy                           0.864930        0.864415   \n",
       "Precision                          0.774862        0.764391   \n",
       "Recall                             0.473019        0.481450   \n",
       "F1-score                           0.587435        0.590792   \n",
       "AUC                                0.718975        0.721792   \n",
       "H-measure                          0.334284        0.337359   \n",
       "\n",
       "           Genetic Algorithm  Quasi Monte Carlo  \n",
       "Accuracy            0.866472           0.864415  \n",
       "Precision           0.767411           0.775453  \n",
       "Recall              0.492411           0.468803  \n",
       "F1-score            0.599897           0.584341  \n",
       "AUC                 0.727165           0.717082  \n",
       "H-measure           0.347785           0.330960  "
      ]
     },
     "execution_count": 10,
     "metadata": {},
     "output_type": "execute_result"
    }
   ],
   "source": [
    "all_scores = pd.concat([tpe_scores, rs_scores, ga_scores, mc_scores], axis =1)\n",
    "all_scores"
   ]
  },
  {
   "cell_type": "markdown",
   "id": "362d5ed7",
   "metadata": {},
   "source": [
    "## Save results"
   ]
  },
  {
   "cell_type": "code",
   "execution_count": 11,
   "id": "0deef76a",
   "metadata": {},
   "outputs": [],
   "source": [
    "# Save the clean dataset\n",
    "\n",
    "all_scores.to_csv(r'C:\\Users\\.....\\credit_risk_dataset_1_Layer_scores.csv', index=False)\n",
    "\n",
    "params_all.to_csv(r'C:\\Users\\.......\\credit_risk_dataset_1_Layer_structure.csv', index=False)\n"
   ]
  }
 ],
 "metadata": {
  "kernelspec": {
   "display_name": "Python 3 (ipykernel)",
   "language": "python",
   "name": "python3"
  },
  "language_info": {
   "codemirror_mode": {
    "name": "ipython",
    "version": 3
   },
   "file_extension": ".py",
   "mimetype": "text/x-python",
   "name": "python",
   "nbconvert_exporter": "python",
   "pygments_lexer": "ipython3",
   "version": "3.9.12"
  }
 },
 "nbformat": 4,
 "nbformat_minor": 5
}
