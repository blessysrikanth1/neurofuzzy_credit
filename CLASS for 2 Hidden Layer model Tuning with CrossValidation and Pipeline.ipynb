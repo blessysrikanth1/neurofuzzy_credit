{
 "cells": [
  {
   "cell_type": "code",
   "execution_count": 1,
   "id": "30413973",
   "metadata": {},
   "outputs": [
    {
     "data": {
      "text/html": [
       "<div>\n",
       "<style scoped>\n",
       "    .dataframe tbody tr th:only-of-type {\n",
       "        vertical-align: middle;\n",
       "    }\n",
       "\n",
       "    .dataframe tbody tr th {\n",
       "        vertical-align: top;\n",
       "    }\n",
       "\n",
       "    .dataframe thead th {\n",
       "        text-align: right;\n",
       "    }\n",
       "</style>\n",
       "<table border=\"1\" class=\"dataframe\">\n",
       "  <thead>\n",
       "    <tr style=\"text-align: right;\">\n",
       "      <th></th>\n",
       "      <th>person_age</th>\n",
       "      <th>person_income</th>\n",
       "      <th>person_emp_length</th>\n",
       "      <th>loan_amnt</th>\n",
       "      <th>loan_int_rate</th>\n",
       "      <th>loan_percent_income</th>\n",
       "      <th>cb_person_cred_hist_length</th>\n",
       "      <th>person_home_ownership</th>\n",
       "      <th>loan_intent</th>\n",
       "      <th>loan_grade</th>\n",
       "      <th>cb_person_default_on_file</th>\n",
       "      <th>loan_status</th>\n",
       "    </tr>\n",
       "  </thead>\n",
       "  <tbody>\n",
       "    <tr>\n",
       "      <th>0</th>\n",
       "      <td>23</td>\n",
       "      <td>120000</td>\n",
       "      <td>1.0</td>\n",
       "      <td>25600</td>\n",
       "      <td>12.69</td>\n",
       "      <td>0.21</td>\n",
       "      <td>3</td>\n",
       "      <td>3</td>\n",
       "      <td>1</td>\n",
       "      <td>1</td>\n",
       "      <td>0</td>\n",
       "      <td>0</td>\n",
       "    </tr>\n",
       "    <tr>\n",
       "      <th>1</th>\n",
       "      <td>21</td>\n",
       "      <td>42500</td>\n",
       "      <td>3.0</td>\n",
       "      <td>25000</td>\n",
       "      <td>12.73</td>\n",
       "      <td>0.59</td>\n",
       "      <td>3</td>\n",
       "      <td>3</td>\n",
       "      <td>1</td>\n",
       "      <td>2</td>\n",
       "      <td>1</td>\n",
       "      <td>1</td>\n",
       "    </tr>\n",
       "    <tr>\n",
       "      <th>2</th>\n",
       "      <td>26</td>\n",
       "      <td>48000</td>\n",
       "      <td>2.0</td>\n",
       "      <td>25000</td>\n",
       "      <td>9.64</td>\n",
       "      <td>0.52</td>\n",
       "      <td>4</td>\n",
       "      <td>3</td>\n",
       "      <td>1</td>\n",
       "      <td>1</td>\n",
       "      <td>0</td>\n",
       "      <td>1</td>\n",
       "    </tr>\n",
       "    <tr>\n",
       "      <th>3</th>\n",
       "      <td>25</td>\n",
       "      <td>42360</td>\n",
       "      <td>1.0</td>\n",
       "      <td>25000</td>\n",
       "      <td>16.35</td>\n",
       "      <td>0.59</td>\n",
       "      <td>3</td>\n",
       "      <td>3</td>\n",
       "      <td>1</td>\n",
       "      <td>4</td>\n",
       "      <td>1</td>\n",
       "      <td>1</td>\n",
       "    </tr>\n",
       "    <tr>\n",
       "      <th>4</th>\n",
       "      <td>23</td>\n",
       "      <td>50000</td>\n",
       "      <td>1.0</td>\n",
       "      <td>25000</td>\n",
       "      <td>7.90</td>\n",
       "      <td>0.50</td>\n",
       "      <td>3</td>\n",
       "      <td>3</td>\n",
       "      <td>0</td>\n",
       "      <td>0</td>\n",
       "      <td>0</td>\n",
       "      <td>1</td>\n",
       "    </tr>\n",
       "  </tbody>\n",
       "</table>\n",
       "</div>"
      ],
      "text/plain": [
       "   person_age  person_income  person_emp_length  loan_amnt  loan_int_rate  \\\n",
       "0          23         120000                1.0      25600          12.69   \n",
       "1          21          42500                3.0      25000          12.73   \n",
       "2          26          48000                2.0      25000           9.64   \n",
       "3          25          42360                1.0      25000          16.35   \n",
       "4          23          50000                1.0      25000           7.90   \n",
       "\n",
       "   loan_percent_income  cb_person_cred_hist_length  person_home_ownership  \\\n",
       "0                 0.21                           3                      3   \n",
       "1                 0.59                           3                      3   \n",
       "2                 0.52                           4                      3   \n",
       "3                 0.59                           3                      3   \n",
       "4                 0.50                           3                      3   \n",
       "\n",
       "   loan_intent  loan_grade  cb_person_default_on_file  loan_status  \n",
       "0            1           1                          0            0  \n",
       "1            1           2                          1            1  \n",
       "2            1           1                          0            1  \n",
       "3            1           4                          1            1  \n",
       "4            0           0                          0            1  "
      ]
     },
     "execution_count": 1,
     "metadata": {},
     "output_type": "execute_result"
    }
   ],
   "source": [
    "import pandas as pd\n",
    "import numpy as np\n",
    "import seaborn as sns\n",
    "import matplotlib.pyplot as plt\n",
    "\n",
    "import timeit\n",
    "\n",
    "from sklearn.metrics import confusion_matrix, classification_report, precision_recall_curve\n",
    "from sklearn.metrics import roc_auc_score, roc_curve, f1_score, precision_score, recall_score, accuracy_score, auc\n",
    "from hmeasure import h_score\n",
    "from sklearn.model_selection import train_test_split\n",
    "from sklearn.preprocessing import StandardScaler\n",
    "from sklearn.metrics import classification_report, precision_score, recall_score, f1_score, precision_recall_fscore_support,roc_auc_score, accuracy_score\n",
    "from sklearn.model_selection import cross_val_score\n",
    "from sklearn.preprocessing import LabelEncoder\n",
    "from sklearn.model_selection import StratifiedKFold\n",
    "from sklearn.pipeline import Pipeline\n",
    "\n",
    "import optuna\n",
    "\n",
    "import tensorflow as tf\n",
    "from tensorflow import keras\n",
    "from tensorflow.keras import layers\n",
    "from tensorflow.keras.callbacks import EarlyStopping\n",
    "from tensorflow.keras import regularizers\n",
    "\n",
    "from keras.layers import Dense, Dropout\n",
    "from keras.regularizers import l2\n",
    "from keras.layers import LeakyReLU\n",
    "from keras.wrappers.scikit_learn import KerasClassifier\n",
    "from keras import initializers\n",
    "from keras.models import Sequential\n",
    "from keras.optimizers import Adam\n",
    "\n",
    "# Read the data using csv\n",
    "path_train = r'C:\\Users\\.......\\credit_risk_dataset_cleanedtraining.csv'\n",
    "df_train = pd.read_csv(path_train, encoding = \"ISO-8859-1\")\n",
    "\n",
    "path_test = r'C:\\Users\\......\\credit_risk_dataset_cleanedtesting.csv'\n",
    "df_test = pd.read_csv(path_test, encoding = \"ISO-8859-1\")\n",
    "\n",
    "# Prin 5 forst lines of df\n",
    "df_train.head()"
   ]
  },
  {
   "cell_type": "code",
   "execution_count": 35,
   "id": "ed3849a7",
   "metadata": {},
   "outputs": [],
   "source": [
    "#pip install hmeasure"
   ]
  },
  {
   "cell_type": "code",
   "execution_count": 2,
   "id": "185c6f92",
   "metadata": {},
   "outputs": [],
   "source": [
    "X_test, y_test = df_test.iloc[:,:-1], df_test.iloc[:,-1]\n",
    "\n",
    "X_train, y_train = df_train.iloc[:,:-1], df_train.iloc[:,-1]\n",
    "\n",
    "X_train, X_val, y_train, y_val = train_test_split(X_train, y_train, stratify=y_train, test_size=0.2)"
   ]
  },
  {
   "cell_type": "code",
   "execution_count": 3,
   "id": "516ba865",
   "metadata": {},
   "outputs": [],
   "source": [
    "class tuning_methods:\n",
    "    \n",
    "    def __init__(self, X_train, X_val, y_train,  y_val, X_test, y_test):\n",
    "        self.X_train = X_train\n",
    "        self.X_val = X_val\n",
    "        self.X_test = X_test\n",
    "        self.y_test = y_test\n",
    "        self.y_train = y_train\n",
    "        self.y_val = y_val\n",
    "        \n",
    "    # Define the Keras model\n",
    "    def create_model(self, units_1, alpha_1, dropout_1, l2_kern_1, l2_bias_1,units_2, alpha_2, dropout_2, l2_kern_2, l2_bias_2, lr, batch_size):        # \n",
    "        model = Sequential()\n",
    "        model.add(Dense(units_1, \n",
    "                input_shape=(X_train.shape[1],), \n",
    "                activation = LeakyReLU(alpha=alpha_1),\n",
    "                kernel_regularizer = l2(l2_kern_1),\n",
    "                bias_regularizer = l2(l2_bias_1),\n",
    "                kernel_initializer = initializers.RandomNormal(mean=0.0, stddev=0.05)\n",
    "        ))\n",
    "        model.add(Dropout(dropout_1))\n",
    "    \n",
    "        model.add(Dense(units_2,\n",
    "                    activation =LeakyReLU(alpha=alpha_2),\n",
    "                    kernel_regularizer = l2(l2_kern_2),\n",
    "                    bias_regularizer = l2(l2_bias_2),\n",
    "                    kernel_initializer = initializers.RandomNormal(mean=0.0, stddev=0.05)\n",
    "        ))\n",
    "        model.add(Dropout(dropout_2))\n",
    "    \n",
    "        model.add(Dense(1, activation='sigmoid'))\n",
    "    \n",
    "        optimizer = Adam(learning_rate=lr)\n",
    "        model.compile(optimizer=optimizer,\n",
    "                  loss='binary_crossentropy', \n",
    "                  metrics=['AUC'])\n",
    "        return model\n",
    "\n",
    "    \n",
    "    # Define the Optuna study\n",
    "    def objective(self, trial):\n",
    "        \n",
    "        # Define the pipeline\n",
    "        pipeline = Pipeline([\n",
    "                ('scaler', StandardScaler()),\n",
    "                ('classifier', KerasClassifier(build_fn=self.create_model, verbose=0))\n",
    "                ])\n",
    "        # Define hyperparameters range values for tuning\n",
    "        units_1 = trial.suggest_int('units_1', 2, 40)\n",
    "        units_2 = trial.suggest_int('units_2', 2, 40)\n",
    "        alpha_1 = trial.suggest_float('alpha_1', 0.01, 0.1)\n",
    "        alpha_2 = trial.suggest_float('alpha_2', 0.01, 0.1)\n",
    "        dropout_1 = trial.suggest_float(\"dropout_1\", 0.2, 0.5)    \n",
    "        dropout_2 = trial.suggest_float(\"dropout_2\", 0.2, 0.5)    \n",
    "        l2_kern_1 = trial.suggest_float(\"l2_kern_1\",  1e-5, 1e-2, log=True)\n",
    "        l2_kern_2 = trial.suggest_float(\"l2_kern_2\",  1e-5, 1e-2, log=True)\n",
    "        l2_bias_1 = trial.suggest_float(\"l2_bias_1\",  1e-5, 1e-2, log=True)\n",
    "        l2_bias_2 = trial.suggest_float(\"l2_bias_2\",  1e-5, 1e-2, log=True)\n",
    "        lr = trial.suggest_float(\"lr\", 5e-5, 1e-2, log=True)\n",
    "        batch_size = trial.suggest_categorical('batch_size', [16, 32, 64, 128, 256, 512, 1024])\n",
    "        epochs = 200\n",
    "        validation_data = (self.X_val, self.y_val)\n",
    "        early_stopping = EarlyStopping(monitor='loss', patience=5, restore_best_weights=True)\n",
    "        \n",
    "        # Set parameters into pipeline\n",
    "        pipeline.set_params(classifier__units_1=units_1,\n",
    "                        classifier__alpha_1=alpha_1,\n",
    "                        classifier__l2_kern_1=l2_kern_1,\n",
    "                        classifier__l2_bias_1=l2_bias_1,\n",
    "                        classifier__dropout_1=dropout_1,\n",
    "                        classifier__units_2=units_2,\n",
    "                        classifier__alpha_2=alpha_2,\n",
    "                        classifier__l2_kern_2=l2_kern_2,\n",
    "                        classifier__l2_bias_2=l2_bias_2,\n",
    "                        classifier__dropout_2=dropout_2,\n",
    "                        classifier__lr=lr,\n",
    "                        classifier__epochs = epochs,\n",
    "                        classifier__batch_size = batch_size,\n",
    "                        classifier__validation_data = validation_data,\n",
    "                        classifier__callbacks=[early_stopping])\n",
    "        \n",
    "        # Apply cross validation\n",
    "        kfold = StratifiedKFold(n_splits=3, shuffle=True, random_state=2023)\n",
    "        scores = cross_val_score(pipeline, self.X_train, self.y_train, cv=kfold, scoring=\"roc_auc\", error_score='raise')\n",
    "    \n",
    "        if trial.should_prune():\n",
    "                raise optuna.TrialPruned()\n",
    "\n",
    "        return np.mean(scores)\n",
    "\n",
    "    def Tuning(self, n_trials=100, sampler = optuna.samplers.TPESampler()):\n",
    "        \n",
    "        start = timeit.default_timer()\n",
    "\n",
    "        study = optuna.create_study(direction=\"maximize\",             \n",
    "                            sampler=sampler, \n",
    "                            pruner= optuna.pruners.MedianPruner()\n",
    "                           )\n",
    "        study.optimize(self.objective, n_trials=n_trials)  # to be converged it needs atleast 200 trials \n",
    "\n",
    "        print(\"Number of finished trials: {}\".format(len(study.trials)))\n",
    "\n",
    "        print(\"Best trial:\")\n",
    "        trial = study.best_trial\n",
    "\n",
    "        print(\"  Value: {}\".format(trial.value))\n",
    "\n",
    "        stop = timeit.default_timer()\n",
    "\n",
    "        time_opt = stop - start\n",
    "        params_TPE = []\n",
    "\n",
    "        for key, value in trial.params.items():\n",
    "            params_TPE.append([key,value])\n",
    "            print(\"    {}: {}\".format(key, value))\n",
    "            \n",
    "        params_TPE.append([\"time\",round(time_opt/60,2)])\n",
    "\n",
    "        return params_TPE\n",
    "    \n",
    "    def Best_MLP_model(self, params):\n",
    "        \n",
    "        # Define hyperpameters\n",
    "        units_1 = params[0][1]\n",
    "        alpha_1 = np.round(params[2][1],3)\n",
    "        dropout_1 = np.round(params[4][1],2)\n",
    "        lr = np.round(params[10][1],5)\n",
    "        batchs = params[11][1]\n",
    "        kernel_regularizer_1=np.round(params[6][1],5)\n",
    "        bias_regularizer_1=np.round(params[8][1],5)\n",
    "        units_2 = params[1][1]\n",
    "        alpha_2 = np.round(params[3][1],3)\n",
    "        dropout_2 = np.round(params[5][1],2)\n",
    "        kernel_regularizer_2=np.round(params[7][1],5)\n",
    "        bias_regularizer_2=np.round(params[9][1],5)\n",
    "\n",
    "        # Define the pipeline\n",
    "        pipeline = Pipeline([\n",
    "                    ('scaler', StandardScaler()),\n",
    "                    ('classifier', KerasClassifier(build_fn=tun.create_model, verbose=0))\n",
    "                ])\n",
    "\n",
    "        # Set hyperparameters\n",
    "        epochs = 200\n",
    "        validation_data = (self.X_val, self.y_val)\n",
    "        early_stopping = EarlyStopping(monitor='loss', patience=5, restore_best_weights=True)\n",
    "        pipeline.set_params(classifier__units_1=units_1,\n",
    "                            classifier__alpha_1 =alpha_1,\n",
    "                            classifier__l2_kern_1=kernel_regularizer_1,\n",
    "                            classifier__l2_bias_1=bias_regularizer_1,\n",
    "                            classifier__dropout_1=dropout_1,\n",
    "                            classifier__units_2=units_2,\n",
    "                            classifier__alpha_2=alpha_2,\n",
    "                            classifier__l2_kern_2=kernel_regularizer_2,\n",
    "                            classifier__l2_bias_2=bias_regularizer_2,\n",
    "                            classifier__dropout_2=dropout_2,\n",
    "                            classifier__lr=lr,\n",
    "                            classifier__epochs = epochs,\n",
    "                            classifier__batch_size = batchs,\n",
    "                            classifier__validation_data = validation_data,\n",
    "                            classifier__callbacks=[early_stopping])\n",
    "        \n",
    "        # Use cross validation to monitor the deferrence between training and testing data as an evidence of overfitting\n",
    "        kfold = StratifiedKFold(n_splits=5, shuffle=True, random_state=2023)\n",
    "        scores_train = cross_val_score(pipeline, self.X_train, self.y_train, cv=kfold, scoring=\"roc_auc\", error_score='raise')\n",
    "        mean_score_train = np.mean(scores_train)\n",
    "\n",
    "        kfold = StratifiedKFold(n_splits=5, shuffle=True, random_state=2023)\n",
    "        scores_test = cross_val_score(pipeline, self.X_test, self.y_test, cv=kfold, scoring=\"roc_auc\", error_score='raise')\n",
    "        mean_score_test = np.mean(scores_test)\n",
    "\n",
    "        print(f\"Train mean AUC score is {mean_score_train} while test mean AUC score is {mean_score_test}.\")\n",
    "      \n",
    "        # Fit the pipeline to the training data\n",
    "        history = pipeline.fit(self.X_train, self.y_train)\n",
    "\n",
    "        #score = pipeline.evaluate(X_test, y_test, verbose=0)  \n",
    "\n",
    "        y_pred_prob_tpe = pipeline.predict(self.X_test)\n",
    "\n",
    "        y_pred_tpe = y_pred_prob_tpe.round()\n",
    "\n",
    "        print(classification_report(self.y_test, y_pred_tpe, target_names = ['No','Yes']))\n",
    "\n",
    "        acc = accuracy_score(self.y_test, y_pred_tpe)\n",
    "        pre = precision_score(self.y_test, y_pred_tpe)\n",
    "        rec = recall_score(self.y_test, y_pred_tpe)\n",
    "        f1 = f1_score(self.y_test, y_pred_tpe)\n",
    "        auc = roc_auc_score(self.y_test, y_pred_tpe)\n",
    "        \n",
    "        y_test_array = np.array(self.y_test)\n",
    "        y_pred_tpe_array = np.array(y_pred_tpe)\n",
    "        H_measure = h_score(y_test_array, y_pred_tpe_array)\n",
    "\n",
    "        opt = [acc, pre, rec, f1, auc, H_measure]\n",
    "\n",
    "        scores = pd.DataFrame(opt, index =['Accuracy', 'Precision', 'Recall', 'F1-score', 'AUC', \"H-measure\"], \n",
    "                              columns =['Tree-structured Parzen Estimator'])\n",
    "        \n",
    "        return scores "
   ]
  },
  {
   "cell_type": "markdown",
   "id": "7d490ce6",
   "metadata": {},
   "source": [
    "## Take scores for every tuning algorithm"
   ]
  },
  {
   "cell_type": "code",
   "execution_count": 4,
   "id": "1f91daea",
   "metadata": {
    "scrolled": true
   },
   "outputs": [
    {
     "name": "stderr",
     "output_type": "stream",
     "text": [
      "\u001b[32m[I 2023-03-02 12:24:01,186]\u001b[0m A new study created in memory with name: no-name-4cb85434-67b9-40ac-805b-846d2dfd2dd7\u001b[0m\n",
      "C:\\Users\\User\\AppData\\Local\\Temp\\ipykernel_5968\\4154129606.py:46: DeprecationWarning: KerasClassifier is deprecated, use Sci-Keras (https://github.com/adriangb/scikeras) instead. See https://www.adriangb.com/scikeras/stable/migration.html for help migrating.\n",
      "  ('classifier', KerasClassifier(build_fn=self.create_model, verbose=0))\n"
     ]
    },
    {
     "name": "stdout",
     "output_type": "stream",
     "text": [
      "195/195 [==============================] - 1s 2ms/step\n",
      "195/195 [==============================] - 0s 1ms/step\n",
      "195/195 [==============================] - 0s 2ms/step\n"
     ]
    },
    {
     "name": "stderr",
     "output_type": "stream",
     "text": [
      "\u001b[32m[I 2023-03-02 12:26:38,196]\u001b[0m Trial 0 finished with value: 0.8592600484395626 and parameters: {'units_1': 6, 'units_2': 16, 'alpha_1': 0.08652392937806692, 'alpha_2': 0.043522788259195005, 'dropout_1': 0.4915772369800131, 'dropout_2': 0.4348032840990832, 'l2_kern_1': 0.0002963528728076074, 'l2_kern_2': 0.0005813178393895946, 'l2_bias_1': 0.0005282867499125279, 'l2_bias_2': 5.630690263356766e-05, 'lr': 0.002361051901665448, 'batch_size': 16}. Best is trial 0 with value: 0.8592600484395626.\u001b[0m\n",
      "C:\\Users\\User\\AppData\\Local\\Temp\\ipykernel_5968\\4154129606.py:46: DeprecationWarning: KerasClassifier is deprecated, use Sci-Keras (https://github.com/adriangb/scikeras) instead. See https://www.adriangb.com/scikeras/stable/migration.html for help migrating.\n",
      "  ('classifier', KerasClassifier(build_fn=self.create_model, verbose=0))\n"
     ]
    },
    {
     "name": "stdout",
     "output_type": "stream",
     "text": [
      "195/195 [==============================] - 0s 1ms/step\n",
      "195/195 [==============================] - 0s 2ms/step\n",
      "195/195 [==============================] - 0s 2ms/step\n"
     ]
    },
    {
     "name": "stderr",
     "output_type": "stream",
     "text": [
      "\u001b[32m[I 2023-03-02 12:28:11,527]\u001b[0m Trial 1 finished with value: 0.8750955208227996 and parameters: {'units_1': 14, 'units_2': 18, 'alpha_1': 0.08062014558237353, 'alpha_2': 0.07898875430356962, 'dropout_1': 0.330518284533719, 'dropout_2': 0.24091753980271113, 'l2_kern_1': 0.005877607204468142, 'l2_kern_2': 0.00017107390765937048, 'l2_bias_1': 0.0006159040105564795, 'l2_bias_2': 0.0008930704140011522, 'lr': 0.0020616143691081132, 'batch_size': 32}. Best is trial 1 with value: 0.8750955208227996.\u001b[0m\n",
      "C:\\Users\\User\\AppData\\Local\\Temp\\ipykernel_5968\\4154129606.py:46: DeprecationWarning: KerasClassifier is deprecated, use Sci-Keras (https://github.com/adriangb/scikeras) instead. See https://www.adriangb.com/scikeras/stable/migration.html for help migrating.\n",
      "  ('classifier', KerasClassifier(build_fn=self.create_model, verbose=0))\n"
     ]
    },
    {
     "name": "stdout",
     "output_type": "stream",
     "text": [
      "195/195 [==============================] - 0s 1ms/step\n",
      "195/195 [==============================] - 0s 2ms/step\n",
      "195/195 [==============================] - 0s 1ms/step\n"
     ]
    },
    {
     "name": "stderr",
     "output_type": "stream",
     "text": [
      "\u001b[32m[I 2023-03-02 12:28:53,866]\u001b[0m Trial 2 finished with value: 0.8462196625922448 and parameters: {'units_1': 13, 'units_2': 36, 'alpha_1': 0.03778531714172641, 'alpha_2': 0.09225696191686727, 'dropout_1': 0.4641620932538901, 'dropout_2': 0.3703697846199213, 'l2_kern_1': 1.8235127532060684e-05, 'l2_kern_2': 0.0011159341724783557, 'l2_bias_1': 0.00027869998378347345, 'l2_bias_2': 1.145736743247759e-05, 'lr': 0.00024266267509216082, 'batch_size': 64}. Best is trial 1 with value: 0.8750955208227996.\u001b[0m\n",
      "C:\\Users\\User\\AppData\\Local\\Temp\\ipykernel_5968\\4154129606.py:46: DeprecationWarning: KerasClassifier is deprecated, use Sci-Keras (https://github.com/adriangb/scikeras) instead. See https://www.adriangb.com/scikeras/stable/migration.html for help migrating.\n",
      "  ('classifier', KerasClassifier(build_fn=self.create_model, verbose=0))\n"
     ]
    },
    {
     "name": "stdout",
     "output_type": "stream",
     "text": [
      "195/195 [==============================] - 0s 1ms/step\n",
      "195/195 [==============================] - 0s 1ms/step\n",
      "195/195 [==============================] - 0s 2ms/step\n"
     ]
    },
    {
     "name": "stderr",
     "output_type": "stream",
     "text": [
      "\u001b[32m[I 2023-03-02 12:31:43,371]\u001b[0m Trial 3 finished with value: 0.8673898639734178 and parameters: {'units_1': 27, 'units_2': 4, 'alpha_1': 0.033492969072895284, 'alpha_2': 0.0880008545824759, 'dropout_1': 0.4894498833096703, 'dropout_2': 0.43049040268819405, 'l2_kern_1': 9.932263743362389e-05, 'l2_kern_2': 0.0003464080946557557, 'l2_bias_1': 1.1268303950237995e-05, 'l2_bias_2': 0.006487233022334491, 'lr': 0.0009053410681325924, 'batch_size': 16}. Best is trial 1 with value: 0.8750955208227996.\u001b[0m\n",
      "C:\\Users\\User\\AppData\\Local\\Temp\\ipykernel_5968\\4154129606.py:46: DeprecationWarning: KerasClassifier is deprecated, use Sci-Keras (https://github.com/adriangb/scikeras) instead. See https://www.adriangb.com/scikeras/stable/migration.html for help migrating.\n",
      "  ('classifier', KerasClassifier(build_fn=self.create_model, verbose=0))\n"
     ]
    },
    {
     "name": "stdout",
     "output_type": "stream",
     "text": [
      "195/195 [==============================] - 1s 2ms/step\n",
      "195/195 [==============================] - 1s 3ms/step\n",
      "195/195 [==============================] - 0s 1ms/step\n"
     ]
    },
    {
     "name": "stderr",
     "output_type": "stream",
     "text": [
      "\u001b[32m[I 2023-03-02 12:36:48,681]\u001b[0m Trial 4 finished with value: 0.8783530297609832 and parameters: {'units_1': 34, 'units_2': 6, 'alpha_1': 0.01777433646967708, 'alpha_2': 0.07316697197555128, 'dropout_1': 0.2997387382899155, 'dropout_2': 0.29826232766642413, 'l2_kern_1': 0.0021541982404621966, 'l2_kern_2': 6.295643942521742e-05, 'l2_bias_1': 0.0020770140779372264, 'l2_bias_2': 0.007609957580224628, 'lr': 0.00042140226506193803, 'batch_size': 16}. Best is trial 4 with value: 0.8783530297609832.\u001b[0m\n",
      "C:\\Users\\User\\AppData\\Local\\Temp\\ipykernel_5968\\4154129606.py:46: DeprecationWarning: KerasClassifier is deprecated, use Sci-Keras (https://github.com/adriangb/scikeras) instead. See https://www.adriangb.com/scikeras/stable/migration.html for help migrating.\n",
      "  ('classifier', KerasClassifier(build_fn=self.create_model, verbose=0))\n"
     ]
    },
    {
     "name": "stdout",
     "output_type": "stream",
     "text": [
      "195/195 [==============================] - 0s 2ms/step\n",
      "195/195 [==============================] - 0s 1ms/step\n",
      "195/195 [==============================] - 1s 2ms/step\n"
     ]
    },
    {
     "name": "stderr",
     "output_type": "stream",
     "text": [
      "\u001b[32m[I 2023-03-02 12:37:10,711]\u001b[0m Trial 5 finished with value: 0.8769751472105618 and parameters: {'units_1': 16, 'units_2': 27, 'alpha_1': 0.08457957393928082, 'alpha_2': 0.02772637202888542, 'dropout_1': 0.22144644941391267, 'dropout_2': 0.4921457724209477, 'l2_kern_1': 1.880590444358111e-05, 'l2_kern_2': 0.0006168291280089806, 'l2_bias_1': 0.00021355693664608572, 'l2_bias_2': 1.148911689413457e-05, 'lr': 0.005006201353651287, 'batch_size': 512}. Best is trial 4 with value: 0.8783530297609832.\u001b[0m\n",
      "C:\\Users\\User\\AppData\\Local\\Temp\\ipykernel_5968\\4154129606.py:46: DeprecationWarning: KerasClassifier is deprecated, use Sci-Keras (https://github.com/adriangb/scikeras) instead. See https://www.adriangb.com/scikeras/stable/migration.html for help migrating.\n",
      "  ('classifier', KerasClassifier(build_fn=self.create_model, verbose=0))\n"
     ]
    },
    {
     "name": "stdout",
     "output_type": "stream",
     "text": [
      "195/195 [==============================] - 0s 2ms/step\n",
      "195/195 [==============================] - 0s 1ms/step\n",
      "195/195 [==============================] - 0s 2ms/step\n"
     ]
    },
    {
     "name": "stderr",
     "output_type": "stream",
     "text": [
      "\u001b[32m[I 2023-03-02 12:37:48,571]\u001b[0m Trial 6 finished with value: 0.8556247918618148 and parameters: {'units_1': 25, 'units_2': 3, 'alpha_1': 0.013953659479427345, 'alpha_2': 0.02147385566809005, 'dropout_1': 0.4135254826051062, 'dropout_2': 0.48142020035692495, 'l2_kern_1': 0.00013687762601197144, 'l2_kern_2': 0.00410182562608513, 'l2_bias_1': 2.423625782323051e-05, 'l2_bias_2': 0.007376088969182944, 'lr': 0.0011686505172753307, 'batch_size': 64}. Best is trial 4 with value: 0.8783530297609832.\u001b[0m\n",
      "C:\\Users\\User\\AppData\\Local\\Temp\\ipykernel_5968\\4154129606.py:46: DeprecationWarning: KerasClassifier is deprecated, use Sci-Keras (https://github.com/adriangb/scikeras) instead. See https://www.adriangb.com/scikeras/stable/migration.html for help migrating.\n",
      "  ('classifier', KerasClassifier(build_fn=self.create_model, verbose=0))\n"
     ]
    },
    {
     "name": "stdout",
     "output_type": "stream",
     "text": [
      "195/195 [==============================] - 0s 1ms/step\n",
      "195/195 [==============================] - 0s 2ms/step\n",
      "195/195 [==============================] - 0s 1ms/step\n"
     ]
    },
    {
     "name": "stderr",
     "output_type": "stream",
     "text": [
      "\u001b[32m[I 2023-03-02 12:38:11,156]\u001b[0m Trial 7 finished with value: 0.8555271176802295 and parameters: {'units_1': 38, 'units_2': 10, 'alpha_1': 0.07832507290277754, 'alpha_2': 0.04262739911466598, 'dropout_1': 0.32799782351771867, 'dropout_2': 0.273606621476874, 'l2_kern_1': 0.0005171110096627394, 'l2_kern_2': 0.00045956186280567964, 'l2_bias_1': 3.1281097488117745e-05, 'l2_bias_2': 9.178774167255594e-05, 'lr': 0.0006695360518850995, 'batch_size': 1024}. Best is trial 4 with value: 0.8783530297609832.\u001b[0m\n",
      "C:\\Users\\User\\AppData\\Local\\Temp\\ipykernel_5968\\4154129606.py:46: DeprecationWarning: KerasClassifier is deprecated, use Sci-Keras (https://github.com/adriangb/scikeras) instead. See https://www.adriangb.com/scikeras/stable/migration.html for help migrating.\n",
      "  ('classifier', KerasClassifier(build_fn=self.create_model, verbose=0))\n"
     ]
    },
    {
     "name": "stdout",
     "output_type": "stream",
     "text": [
      "195/195 [==============================] - 0s 1ms/step\n",
      "195/195 [==============================] - 0s 1ms/step\n",
      "195/195 [==============================] - 1s 3ms/step\n"
     ]
    },
    {
     "name": "stderr",
     "output_type": "stream",
     "text": [
      "\u001b[32m[I 2023-03-02 12:38:47,406]\u001b[0m Trial 8 finished with value: 0.8387639086994353 and parameters: {'units_1': 4, 'units_2': 35, 'alpha_1': 0.02535680072001073, 'alpha_2': 0.09788904696344548, 'dropout_1': 0.41528032034582685, 'dropout_2': 0.21968571028691, 'l2_kern_1': 0.0001754837876080028, 'l2_kern_2': 0.00887387981670829, 'l2_bias_1': 0.00032750824377665154, 'l2_bias_2': 0.006906634674244653, 'lr': 0.00018539698578332874, 'batch_size': 128}. Best is trial 4 with value: 0.8783530297609832.\u001b[0m\n",
      "C:\\Users\\User\\AppData\\Local\\Temp\\ipykernel_5968\\4154129606.py:46: DeprecationWarning: KerasClassifier is deprecated, use Sci-Keras (https://github.com/adriangb/scikeras) instead. See https://www.adriangb.com/scikeras/stable/migration.html for help migrating.\n",
      "  ('classifier', KerasClassifier(build_fn=self.create_model, verbose=0))\n"
     ]
    },
    {
     "name": "stdout",
     "output_type": "stream",
     "text": [
      "195/195 [==============================] - 0s 2ms/step\n",
      "195/195 [==============================] - 0s 1ms/step\n",
      "195/195 [==============================] - 0s 1ms/step\n"
     ]
    },
    {
     "name": "stderr",
     "output_type": "stream",
     "text": [
      "\u001b[32m[I 2023-03-02 12:39:24,699]\u001b[0m Trial 9 finished with value: 0.8733277964276818 and parameters: {'units_1': 8, 'units_2': 37, 'alpha_1': 0.043322692229934116, 'alpha_2': 0.0556675101488969, 'dropout_1': 0.229355961042741, 'dropout_2': 0.4648676743845933, 'l2_kern_1': 0.00012467607159846614, 'l2_kern_2': 6.102845949057604e-05, 'l2_bias_1': 1.0053528059800351e-05, 'l2_bias_2': 0.004223147140141229, 'lr': 0.004829407986489194, 'batch_size': 128}. Best is trial 4 with value: 0.8783530297609832.\u001b[0m\n",
      "C:\\Users\\User\\AppData\\Local\\Temp\\ipykernel_5968\\4154129606.py:46: DeprecationWarning: KerasClassifier is deprecated, use Sci-Keras (https://github.com/adriangb/scikeras) instead. See https://www.adriangb.com/scikeras/stable/migration.html for help migrating.\n",
      "  ('classifier', KerasClassifier(build_fn=self.create_model, verbose=0))\n"
     ]
    },
    {
     "name": "stdout",
     "output_type": "stream",
     "text": [
      "195/195 [==============================] - 0s 1ms/step\n",
      "195/195 [==============================] - 0s 1ms/step\n",
      "195/195 [==============================] - 0s 1ms/step\n"
     ]
    },
    {
     "name": "stderr",
     "output_type": "stream",
     "text": [
      "\u001b[32m[I 2023-03-02 12:40:03,373]\u001b[0m Trial 10 finished with value: 0.8451113749957163 and parameters: {'units_1': 39, 'units_2': 25, 'alpha_1': 0.05854302791114214, 'alpha_2': 0.06968722380956527, 'dropout_1': 0.27013063079748917, 'dropout_2': 0.31981695678765604, 'l2_kern_1': 0.0036431034986431064, 'l2_kern_2': 1.0158908704610571e-05, 'l2_bias_1': 0.0060075171807876075, 'l2_bias_2': 0.001141958642296938, 'lr': 6.468834307990537e-05, 'batch_size': 256}. Best is trial 4 with value: 0.8783530297609832.\u001b[0m\n",
      "C:\\Users\\User\\AppData\\Local\\Temp\\ipykernel_5968\\4154129606.py:46: DeprecationWarning: KerasClassifier is deprecated, use Sci-Keras (https://github.com/adriangb/scikeras) instead. See https://www.adriangb.com/scikeras/stable/migration.html for help migrating.\n",
      "  ('classifier', KerasClassifier(build_fn=self.create_model, verbose=0))\n"
     ]
    },
    {
     "name": "stdout",
     "output_type": "stream",
     "text": [
      "195/195 [==============================] - 0s 1ms/step\n",
      "195/195 [==============================] - 0s 1ms/step\n",
      "195/195 [==============================] - 0s 1ms/step\n"
     ]
    },
    {
     "name": "stderr",
     "output_type": "stream",
     "text": [
      "\u001b[32m[I 2023-03-02 12:40:33,333]\u001b[0m Trial 11 finished with value: 0.8611450688543193 and parameters: {'units_1': 30, 'units_2': 25, 'alpha_1': 0.06290747038201602, 'alpha_2': 0.013367146039680061, 'dropout_1': 0.21584170551679185, 'dropout_2': 0.37591932423408364, 'l2_kern_1': 0.0012976843938582866, 'l2_kern_2': 6.374482369654996e-05, 'l2_bias_1': 0.0037907467050581323, 'l2_bias_2': 0.0001767724522163014, 'lr': 0.00044215715663617613, 'batch_size': 512}. Best is trial 4 with value: 0.8783530297609832.\u001b[0m\n",
      "C:\\Users\\User\\AppData\\Local\\Temp\\ipykernel_5968\\4154129606.py:46: DeprecationWarning: KerasClassifier is deprecated, use Sci-Keras (https://github.com/adriangb/scikeras) instead. See https://www.adriangb.com/scikeras/stable/migration.html for help migrating.\n",
      "  ('classifier', KerasClassifier(build_fn=self.create_model, verbose=0))\n"
     ]
    },
    {
     "name": "stdout",
     "output_type": "stream",
     "text": [
      "195/195 [==============================] - 0s 2ms/step\n",
      "195/195 [==============================] - 0s 1ms/step\n",
      "195/195 [==============================] - 0s 1ms/step\n"
     ]
    },
    {
     "name": "stderr",
     "output_type": "stream",
     "text": [
      "\u001b[32m[I 2023-03-02 12:40:47,966]\u001b[0m Trial 12 finished with value: 0.873030369239577 and parameters: {'units_1': 17, 'units_2': 27, 'alpha_1': 0.06990017466908886, 'alpha_2': 0.03318716228926293, 'dropout_1': 0.2767693283393594, 'dropout_2': 0.30477374432986326, 'l2_kern_1': 1.0556685161250981e-05, 'l2_kern_2': 1.4817787443484252e-05, 'l2_bias_1': 0.001961377319022575, 'l2_bias_2': 1.8462261685877222e-05, 'lr': 0.009720978191336603, 'batch_size': 512}. Best is trial 4 with value: 0.8783530297609832.\u001b[0m\n",
      "C:\\Users\\User\\AppData\\Local\\Temp\\ipykernel_5968\\4154129606.py:46: DeprecationWarning: KerasClassifier is deprecated, use Sci-Keras (https://github.com/adriangb/scikeras) instead. See https://www.adriangb.com/scikeras/stable/migration.html for help migrating.\n",
      "  ('classifier', KerasClassifier(build_fn=self.create_model, verbose=0))\n"
     ]
    },
    {
     "name": "stdout",
     "output_type": "stream",
     "text": [
      "195/195 [==============================] - 1s 2ms/step\n",
      "195/195 [==============================] - 0s 1ms/step\n",
      "195/195 [==============================] - 0s 1ms/step\n"
     ]
    },
    {
     "name": "stderr",
     "output_type": "stream",
     "text": [
      "\u001b[32m[I 2023-03-02 12:41:17,729]\u001b[0m Trial 13 finished with value: 0.8431414020470025 and parameters: {'units_1': 33, 'units_2': 12, 'alpha_1': 0.09853392279383191, 'alpha_2': 0.06305189775104797, 'dropout_1': 0.2740198230674063, 'dropout_2': 0.34358400357164276, 'l2_kern_1': 3.550332187308166e-05, 'l2_kern_2': 0.00010545848034581978, 'l2_bias_1': 0.00011316213325007398, 'l2_bias_2': 0.0006108207208244266, 'lr': 0.00011868765455983454, 'batch_size': 512}. Best is trial 4 with value: 0.8783530297609832.\u001b[0m\n",
      "C:\\Users\\User\\AppData\\Local\\Temp\\ipykernel_5968\\4154129606.py:46: DeprecationWarning: KerasClassifier is deprecated, use Sci-Keras (https://github.com/adriangb/scikeras) instead. See https://www.adriangb.com/scikeras/stable/migration.html for help migrating.\n",
      "  ('classifier', KerasClassifier(build_fn=self.create_model, verbose=0))\n"
     ]
    },
    {
     "name": "stdout",
     "output_type": "stream",
     "text": [
      "195/195 [==============================] - 0s 1ms/step\n",
      "195/195 [==============================] - 0s 1ms/step\n",
      "195/195 [==============================] - 0s 1ms/step\n"
     ]
    },
    {
     "name": "stderr",
     "output_type": "stream",
     "text": [
      "\u001b[32m[I 2023-03-02 12:46:03,227]\u001b[0m Trial 14 finished with value: 0.8766749336275398 and parameters: {'units_1': 21, 'units_2': 27, 'alpha_1': 0.0486018432581594, 'alpha_2': 0.07438723318167748, 'dropout_1': 0.206722288481418, 'dropout_2': 0.4144091641524134, 'l2_kern_1': 0.0015485666195785438, 'l2_kern_2': 0.0010329132555856827, 'l2_bias_1': 0.0017053342917717905, 'l2_bias_2': 3.465350709384463e-05, 'lr': 0.00034761360763245713, 'batch_size': 16}. Best is trial 4 with value: 0.8783530297609832.\u001b[0m\n",
      "C:\\Users\\User\\AppData\\Local\\Temp\\ipykernel_5968\\4154129606.py:46: DeprecationWarning: KerasClassifier is deprecated, use Sci-Keras (https://github.com/adriangb/scikeras) instead. See https://www.adriangb.com/scikeras/stable/migration.html for help migrating.\n",
      "  ('classifier', KerasClassifier(build_fn=self.create_model, verbose=0))\n"
     ]
    },
    {
     "name": "stdout",
     "output_type": "stream",
     "text": [
      "195/195 [==============================] - 1s 2ms/step\n",
      "195/195 [==============================] - 1s 2ms/step\n",
      "195/195 [==============================] - 0s 1ms/step\n"
     ]
    },
    {
     "name": "stderr",
     "output_type": "stream",
     "text": [
      "\u001b[32m[I 2023-03-02 12:47:08,949]\u001b[0m Trial 15 finished with value: 0.8692744267502094 and parameters: {'units_1': 21, 'units_2': 31, 'alpha_1': 0.011282442500211824, 'alpha_2': 0.03004325900989485, 'dropout_1': 0.3002696900396818, 'dropout_2': 0.49925096079404546, 'l2_kern_1': 0.0009077160084599959, 'l2_kern_2': 2.9341402507264788e-05, 'l2_bias_1': 0.00012331828676662154, 'l2_bias_2': 0.002705824904530522, 'lr': 0.009341829281573228, 'batch_size': 32}. Best is trial 4 with value: 0.8783530297609832.\u001b[0m\n",
      "C:\\Users\\User\\AppData\\Local\\Temp\\ipykernel_5968\\4154129606.py:46: DeprecationWarning: KerasClassifier is deprecated, use Sci-Keras (https://github.com/adriangb/scikeras) instead. See https://www.adriangb.com/scikeras/stable/migration.html for help migrating.\n",
      "  ('classifier', KerasClassifier(build_fn=self.create_model, verbose=0))\n"
     ]
    },
    {
     "name": "stdout",
     "output_type": "stream",
     "text": [
      "195/195 [==============================] - 1s 2ms/step\n",
      "195/195 [==============================] - 1s 3ms/step\n",
      "195/195 [==============================] - 0s 1ms/step\n"
     ]
    },
    {
     "name": "stderr",
     "output_type": "stream",
     "text": [
      "\u001b[32m[I 2023-03-02 12:47:29,284]\u001b[0m Trial 16 finished with value: 0.864551748642412 and parameters: {'units_1': 33, 'units_2': 20, 'alpha_1': 0.0953554688428753, 'alpha_2': 0.04795719630958318, 'dropout_1': 0.3872109583793488, 'dropout_2': 0.2856133383163516, 'l2_kern_1': 4.407906400151989e-05, 'l2_kern_2': 0.0024320657344514894, 'l2_bias_1': 0.0013255915336080502, 'l2_bias_2': 0.0002466464295459336, 'lr': 0.0020541925098526387, 'batch_size': 1024}. Best is trial 4 with value: 0.8783530297609832.\u001b[0m\n",
      "C:\\Users\\User\\AppData\\Local\\Temp\\ipykernel_5968\\4154129606.py:46: DeprecationWarning: KerasClassifier is deprecated, use Sci-Keras (https://github.com/adriangb/scikeras) instead. See https://www.adriangb.com/scikeras/stable/migration.html for help migrating.\n",
      "  ('classifier', KerasClassifier(build_fn=self.create_model, verbose=0))\n"
     ]
    },
    {
     "name": "stdout",
     "output_type": "stream",
     "text": [
      "195/195 [==============================] - 0s 1ms/step\n",
      "195/195 [==============================] - 0s 1ms/step\n",
      "195/195 [==============================] - 0s 1ms/step\n"
     ]
    },
    {
     "name": "stderr",
     "output_type": "stream",
     "text": [
      "\u001b[32m[I 2023-03-02 12:47:49,057]\u001b[0m Trial 17 finished with value: 0.866000293610906 and parameters: {'units_1': 11, 'units_2': 9, 'alpha_1': 0.02523755146610572, 'alpha_2': 0.06239367866891326, 'dropout_1': 0.24566502002755686, 'dropout_2': 0.3872370804182429, 'l2_kern_1': 0.0028276095552948405, 'l2_kern_2': 0.00018514501674250615, 'l2_bias_1': 0.00011250779394407144, 'l2_bias_2': 0.002228207387916014, 'lr': 0.0040810350342318155, 'batch_size': 256}. Best is trial 4 with value: 0.8783530297609832.\u001b[0m\n",
      "C:\\Users\\User\\AppData\\Local\\Temp\\ipykernel_5968\\4154129606.py:46: DeprecationWarning: KerasClassifier is deprecated, use Sci-Keras (https://github.com/adriangb/scikeras) instead. See https://www.adriangb.com/scikeras/stable/migration.html for help migrating.\n",
      "  ('classifier', KerasClassifier(build_fn=self.create_model, verbose=0))\n"
     ]
    },
    {
     "name": "stdout",
     "output_type": "stream",
     "text": [
      "195/195 [==============================] - 0s 1ms/step\n",
      "195/195 [==============================] - 0s 1ms/step\n",
      "195/195 [==============================] - 0s 1ms/step\n"
     ]
    },
    {
     "name": "stderr",
     "output_type": "stream",
     "text": [
      "\u001b[32m[I 2023-03-02 12:48:07,762]\u001b[0m Trial 18 finished with value: 0.855007092397097 and parameters: {'units_1': 19, 'units_2': 22, 'alpha_1': 0.06712517797737846, 'alpha_2': 0.010590873007085215, 'dropout_1': 0.36576020559774014, 'dropout_2': 0.2581357849269493, 'l2_kern_1': 0.0004993127114231506, 'l2_kern_2': 2.9580804032271942e-05, 'l2_bias_1': 0.007176214853407009, 'l2_bias_2': 0.0004547944911625128, 'lr': 0.0006231950450404267, 'batch_size': 512}. Best is trial 4 with value: 0.8783530297609832.\u001b[0m\n",
      "C:\\Users\\User\\AppData\\Local\\Temp\\ipykernel_5968\\4154129606.py:46: DeprecationWarning: KerasClassifier is deprecated, use Sci-Keras (https://github.com/adriangb/scikeras) instead. See https://www.adriangb.com/scikeras/stable/migration.html for help migrating.\n",
      "  ('classifier', KerasClassifier(build_fn=self.create_model, verbose=0))\n"
     ]
    },
    {
     "name": "stdout",
     "output_type": "stream",
     "text": [
      "195/195 [==============================] - 0s 1ms/step\n",
      "195/195 [==============================] - 0s 2ms/step\n",
      "195/195 [==============================] - 0s 1ms/step\n"
     ]
    },
    {
     "name": "stderr",
     "output_type": "stream",
     "text": [
      "\u001b[32m[I 2023-03-02 12:51:25,230]\u001b[0m Trial 19 finished with value: 0.8748004751437738 and parameters: {'units_1': 26, 'units_2': 31, 'alpha_1': 0.05152566113281272, 'alpha_2': 0.08392328324662951, 'dropout_1': 0.30562200166563896, 'dropout_2': 0.33625311921350043, 'l2_kern_1': 0.0092190401987291, 'l2_kern_2': 0.0010662227278821776, 'l2_bias_1': 0.0008135725620989434, 'l2_bias_2': 0.0001259176047456505, 'lr': 0.0012201905652837381, 'batch_size': 16}. Best is trial 4 with value: 0.8783530297609832.\u001b[0m\n",
      "C:\\Users\\User\\AppData\\Local\\Temp\\ipykernel_5968\\4154129606.py:46: DeprecationWarning: KerasClassifier is deprecated, use Sci-Keras (https://github.com/adriangb/scikeras) instead. See https://www.adriangb.com/scikeras/stable/migration.html for help migrating.\n",
      "  ('classifier', KerasClassifier(build_fn=self.create_model, verbose=0))\n"
     ]
    },
    {
     "name": "stdout",
     "output_type": "stream",
     "text": [
      "195/195 [==============================] - 0s 1ms/step\n",
      "195/195 [==============================] - 1s 2ms/step\n",
      "195/195 [==============================] - 0s 1ms/step\n"
     ]
    },
    {
     "name": "stderr",
     "output_type": "stream",
     "text": [
      "\u001b[32m[I 2023-03-02 12:51:57,218]\u001b[0m Trial 20 finished with value: 0.8436319009566051 and parameters: {'units_1': 35, 'units_2': 13, 'alpha_1': 0.0882498065104998, 'alpha_2': 0.05373390873873035, 'dropout_1': 0.25409076695371746, 'dropout_2': 0.30093449921841237, 'l2_kern_1': 3.879014176811529e-05, 'l2_kern_2': 0.00020272710901669025, 'l2_bias_1': 0.00024197230524391906, 'l2_bias_2': 2.6721131634120708e-05, 'lr': 0.00011480624397674198, 'batch_size': 512}. Best is trial 4 with value: 0.8783530297609832.\u001b[0m\n",
      "C:\\Users\\User\\AppData\\Local\\Temp\\ipykernel_5968\\4154129606.py:46: DeprecationWarning: KerasClassifier is deprecated, use Sci-Keras (https://github.com/adriangb/scikeras) instead. See https://www.adriangb.com/scikeras/stable/migration.html for help migrating.\n",
      "  ('classifier', KerasClassifier(build_fn=self.create_model, verbose=0))\n"
     ]
    },
    {
     "name": "stdout",
     "output_type": "stream",
     "text": [
      "195/195 [==============================] - 0s 2ms/step\n",
      "195/195 [==============================] - 0s 1ms/step\n",
      "195/195 [==============================] - 0s 1ms/step\n"
     ]
    },
    {
     "name": "stderr",
     "output_type": "stream",
     "text": [
      "\u001b[32m[I 2023-03-02 12:55:36,197]\u001b[0m Trial 21 finished with value: 0.8758990696803526 and parameters: {'units_1': 23, 'units_2': 29, 'alpha_1': 0.049090025450748476, 'alpha_2': 0.07562544343789641, 'dropout_1': 0.20057103717522742, 'dropout_2': 0.41898962697932285, 'l2_kern_1': 0.001822849317758714, 'l2_kern_2': 0.0011079701530273456, 'l2_bias_1': 0.002552933763902338, 'l2_bias_2': 4.178864261673738e-05, 'lr': 0.0003432839907592901, 'batch_size': 16}. Best is trial 4 with value: 0.8783530297609832.\u001b[0m\n",
      "C:\\Users\\User\\AppData\\Local\\Temp\\ipykernel_5968\\4154129606.py:46: DeprecationWarning: KerasClassifier is deprecated, use Sci-Keras (https://github.com/adriangb/scikeras) instead. See https://www.adriangb.com/scikeras/stable/migration.html for help migrating.\n",
      "  ('classifier', KerasClassifier(build_fn=self.create_model, verbose=0))\n"
     ]
    },
    {
     "name": "stdout",
     "output_type": "stream",
     "text": [
      "195/195 [==============================] - 0s 1ms/step\n",
      "195/195 [==============================] - 0s 1ms/step\n",
      "195/195 [==============================] - 0s 1ms/step\n"
     ]
    },
    {
     "name": "stderr",
     "output_type": "stream",
     "text": [
      "\u001b[32m[I 2023-03-02 12:58:16,133]\u001b[0m Trial 22 finished with value: 0.8695255383354826 and parameters: {'units_1': 16, 'units_2': 23, 'alpha_1': 0.023846690205066304, 'alpha_2': 0.07077118543113457, 'dropout_1': 0.23214126327196416, 'dropout_2': 0.4608850526888913, 'l2_kern_1': 0.0008707447799561181, 'l2_kern_2': 0.0025583884894428933, 'l2_bias_1': 0.0012263192335281038, 'l2_bias_2': 1.05258353613272e-05, 'lr': 0.0004073754607053207, 'batch_size': 16}. Best is trial 4 with value: 0.8783530297609832.\u001b[0m\n",
      "C:\\Users\\User\\AppData\\Local\\Temp\\ipykernel_5968\\4154129606.py:46: DeprecationWarning: KerasClassifier is deprecated, use Sci-Keras (https://github.com/adriangb/scikeras) instead. See https://www.adriangb.com/scikeras/stable/migration.html for help migrating.\n",
      "  ('classifier', KerasClassifier(build_fn=self.create_model, verbose=0))\n"
     ]
    },
    {
     "name": "stdout",
     "output_type": "stream",
     "text": [
      "195/195 [==============================] - 0s 1ms/step\n",
      "195/195 [==============================] - 0s 1ms/step\n",
      "195/195 [==============================] - 0s 1ms/step\n"
     ]
    },
    {
     "name": "stderr",
     "output_type": "stream",
     "text": [
      "\u001b[32m[I 2023-03-02 13:02:54,023]\u001b[0m Trial 23 finished with value: 0.8736232954990285 and parameters: {'units_1': 21, 'units_2': 33, 'alpha_1': 0.07627974303354298, 'alpha_2': 0.06342761412149102, 'dropout_1': 0.20360481953036705, 'dropout_2': 0.39786878376270096, 'l2_kern_1': 0.0026681644485353714, 'l2_kern_2': 0.0007139130585961762, 'l2_bias_1': 0.0034380193780107655, 'l2_bias_2': 2.5016664808207514e-05, 'lr': 0.000278192665633656, 'batch_size': 16}. Best is trial 4 with value: 0.8783530297609832.\u001b[0m\n",
      "C:\\Users\\User\\AppData\\Local\\Temp\\ipykernel_5968\\4154129606.py:46: DeprecationWarning: KerasClassifier is deprecated, use Sci-Keras (https://github.com/adriangb/scikeras) instead. See https://www.adriangb.com/scikeras/stable/migration.html for help migrating.\n",
      "  ('classifier', KerasClassifier(build_fn=self.create_model, verbose=0))\n"
     ]
    },
    {
     "name": "stdout",
     "output_type": "stream",
     "text": [
      "195/195 [==============================] - 0s 1ms/step\n",
      "195/195 [==============================] - 0s 1ms/step\n",
      "195/195 [==============================] - 0s 1ms/step\n"
     ]
    },
    {
     "name": "stderr",
     "output_type": "stream",
     "text": [
      "\u001b[32m[I 2023-03-02 13:05:59,409]\u001b[0m Trial 24 finished with value: 0.8543104429323405 and parameters: {'units_1': 10, 'units_2': 39, 'alpha_1': 0.035359707915714245, 'alpha_2': 0.07995868691652235, 'dropout_1': 0.303990146054653, 'dropout_2': 0.45425038587242583, 'l2_kern_1': 0.004627530242827491, 'l2_kern_2': 0.0024792232775484447, 'l2_bias_1': 0.009197391297052465, 'l2_bias_2': 7.034940022905923e-05, 'lr': 0.000159455810174378, 'batch_size': 16}. Best is trial 4 with value: 0.8783530297609832.\u001b[0m\n",
      "C:\\Users\\User\\AppData\\Local\\Temp\\ipykernel_5968\\4154129606.py:46: DeprecationWarning: KerasClassifier is deprecated, use Sci-Keras (https://github.com/adriangb/scikeras) instead. See https://www.adriangb.com/scikeras/stable/migration.html for help migrating.\n",
      "  ('classifier', KerasClassifier(build_fn=self.create_model, verbose=0))\n"
     ]
    },
    {
     "name": "stdout",
     "output_type": "stream",
     "text": [
      "195/195 [==============================] - 1s 3ms/step\n",
      "195/195 [==============================] - 0s 1ms/step\n",
      "195/195 [==============================] - 0s 1ms/step\n"
     ]
    },
    {
     "name": "stderr",
     "output_type": "stream",
     "text": [
      "\u001b[32m[I 2023-03-02 13:09:57,877]\u001b[0m Trial 25 finished with value: 0.860046236710275 and parameters: {'units_1': 29, 'units_2': 6, 'alpha_1': 0.018478725904892926, 'alpha_2': 0.02818276993489546, 'dropout_1': 0.24694269898138027, 'dropout_2': 0.20073196525777, 'l2_kern_1': 0.0017135486115005805, 'l2_kern_2': 0.00025457647476923555, 'l2_bias_1': 0.0013249912577370255, 'l2_bias_2': 3.324529796235057e-05, 'lr': 6.424724642069133e-05, 'batch_size': 16}. Best is trial 4 with value: 0.8783530297609832.\u001b[0m\n",
      "C:\\Users\\User\\AppData\\Local\\Temp\\ipykernel_5968\\4154129606.py:46: DeprecationWarning: KerasClassifier is deprecated, use Sci-Keras (https://github.com/adriangb/scikeras) instead. See https://www.adriangb.com/scikeras/stable/migration.html for help migrating.\n",
      "  ('classifier', KerasClassifier(build_fn=self.create_model, verbose=0))\n"
     ]
    },
    {
     "name": "stdout",
     "output_type": "stream",
     "text": [
      "195/195 [==============================] - 0s 1ms/step\n",
      "195/195 [==============================] - 0s 1ms/step\n",
      "195/195 [==============================] - 0s 1ms/step\n"
     ]
    },
    {
     "name": "stderr",
     "output_type": "stream",
     "text": [
      "\u001b[32m[I 2023-03-02 13:10:45,602]\u001b[0m Trial 26 finished with value: 0.8672849260469128 and parameters: {'units_1': 19, 'units_2': 16, 'alpha_1': 0.04354275256935368, 'alpha_2': 0.07226724684562516, 'dropout_1': 0.22186375956888033, 'dropout_2': 0.4134575202291487, 'l2_kern_1': 0.0003335934748397655, 'l2_kern_2': 9.348957800625836e-05, 'l2_bias_1': 0.0004247887714510312, 'l2_bias_2': 1.7474034986485547e-05, 'lr': 0.0006062152327591977, 'batch_size': 128}. Best is trial 4 with value: 0.8783530297609832.\u001b[0m\n",
      "C:\\Users\\User\\AppData\\Local\\Temp\\ipykernel_5968\\4154129606.py:46: DeprecationWarning: KerasClassifier is deprecated, use Sci-Keras (https://github.com/adriangb/scikeras) instead. See https://www.adriangb.com/scikeras/stable/migration.html for help migrating.\n",
      "  ('classifier', KerasClassifier(build_fn=self.create_model, verbose=0))\n"
     ]
    },
    {
     "name": "stdout",
     "output_type": "stream",
     "text": [
      "195/195 [==============================] - 0s 1ms/step\n",
      "195/195 [==============================] - 0s 1ms/step\n",
      "195/195 [==============================] - 0s 1ms/step\n"
     ]
    },
    {
     "name": "stderr",
     "output_type": "stream",
     "text": [
      "\u001b[32m[I 2023-03-02 13:11:10,436]\u001b[0m Trial 27 finished with value: 0.8759263748815488 and parameters: {'units_1': 23, 'units_2': 28, 'alpha_1': 0.05365966939223951, 'alpha_2': 0.038799679820875135, 'dropout_1': 0.28504145416955173, 'dropout_2': 0.36476425033063115, 'l2_kern_1': 0.0009774472726456096, 'l2_kern_2': 0.0015602196128878772, 'l2_bias_1': 7.089572835955597e-05, 'l2_bias_2': 0.0002782693884108984, 'lr': 0.005274163233683269, 'batch_size': 256}. Best is trial 4 with value: 0.8783530297609832.\u001b[0m\n",
      "C:\\Users\\User\\AppData\\Local\\Temp\\ipykernel_5968\\4154129606.py:46: DeprecationWarning: KerasClassifier is deprecated, use Sci-Keras (https://github.com/adriangb/scikeras) instead. See https://www.adriangb.com/scikeras/stable/migration.html for help migrating.\n",
      "  ('classifier', KerasClassifier(build_fn=self.create_model, verbose=0))\n"
     ]
    },
    {
     "name": "stdout",
     "output_type": "stream",
     "text": [
      "195/195 [==============================] - 0s 1ms/step\n",
      "195/195 [==============================] - 0s 1ms/step\n",
      "195/195 [==============================] - 0s 1ms/step\n"
     ]
    },
    {
     "name": "stderr",
     "output_type": "stream",
     "text": [
      "\u001b[32m[I 2023-03-02 13:12:09,792]\u001b[0m Trial 28 finished with value: 0.8682532195407172 and parameters: {'units_1': 16, 'units_2': 19, 'alpha_1': 0.05900419599369798, 'alpha_2': 0.05474894183983704, 'dropout_1': 0.2514404533505947, 'dropout_2': 0.32564485243963887, 'l2_kern_1': 7.101687754132105e-05, 'l2_kern_2': 0.004871091899155508, 'l2_bias_1': 0.0009420294691898459, 'l2_bias_2': 1.546349655911147e-05, 'lr': 0.0013887527587961087, 'batch_size': 64}. Best is trial 4 with value: 0.8783530297609832.\u001b[0m\n",
      "C:\\Users\\User\\AppData\\Local\\Temp\\ipykernel_5968\\4154129606.py:46: DeprecationWarning: KerasClassifier is deprecated, use Sci-Keras (https://github.com/adriangb/scikeras) instead. See https://www.adriangb.com/scikeras/stable/migration.html for help migrating.\n",
      "  ('classifier', KerasClassifier(build_fn=self.create_model, verbose=0))\n"
     ]
    },
    {
     "name": "stdout",
     "output_type": "stream",
     "text": [
      "195/195 [==============================] - 0s 1ms/step\n",
      "195/195 [==============================] - 0s 1ms/step\n",
      "195/195 [==============================] - 0s 1ms/step\n"
     ]
    },
    {
     "name": "stderr",
     "output_type": "stream",
     "text": [
      "\u001b[32m[I 2023-03-02 13:13:40,426]\u001b[0m Trial 29 finished with value: 0.8597101571793572 and parameters: {'units_1': 7, 'units_2': 16, 'alpha_1': 0.08571678348051459, 'alpha_2': 0.019534182045398207, 'dropout_1': 0.3414750261610868, 'dropout_2': 0.4414619976416212, 'l2_kern_1': 0.000258886284630609, 'l2_kern_2': 0.0005248495947855376, 'l2_bias_1': 0.00018041388406778175, 'l2_bias_2': 5.155915751336944e-05, 'lr': 0.0028043309097085345, 'batch_size': 16}. Best is trial 4 with value: 0.8783530297609832.\u001b[0m\n",
      "C:\\Users\\User\\AppData\\Local\\Temp\\ipykernel_5968\\4154129606.py:46: DeprecationWarning: KerasClassifier is deprecated, use Sci-Keras (https://github.com/adriangb/scikeras) instead. See https://www.adriangb.com/scikeras/stable/migration.html for help migrating.\n",
      "  ('classifier', KerasClassifier(build_fn=self.create_model, verbose=0))\n"
     ]
    },
    {
     "name": "stdout",
     "output_type": "stream",
     "text": [
      "195/195 [==============================] - 0s 1ms/step\n",
      "195/195 [==============================] - 0s 1ms/step\n",
      "195/195 [==============================] - 0s 1ms/step\n"
     ]
    },
    {
     "name": "stderr",
     "output_type": "stream",
     "text": [
      "\u001b[32m[I 2023-03-02 13:13:57,514]\u001b[0m Trial 30 finished with value: 0.8252354932727396 and parameters: {'units_1': 2, 'units_2': 25, 'alpha_1': 0.06837938038910338, 'alpha_2': 0.048470101674189386, 'dropout_1': 0.36150034784413093, 'dropout_2': 0.4917605363275481, 'l2_kern_1': 0.009158066160442584, 'l2_kern_2': 0.000726154892665257, 'l2_bias_1': 0.0005682796729728114, 'l2_bias_2': 0.00011597531477590508, 'lr': 0.0005122658941389282, 'batch_size': 1024}. Best is trial 4 with value: 0.8783530297609832.\u001b[0m\n",
      "C:\\Users\\User\\AppData\\Local\\Temp\\ipykernel_5968\\4154129606.py:46: DeprecationWarning: KerasClassifier is deprecated, use Sci-Keras (https://github.com/adriangb/scikeras) instead. See https://www.adriangb.com/scikeras/stable/migration.html for help migrating.\n",
      "  ('classifier', KerasClassifier(build_fn=self.create_model, verbose=0))\n"
     ]
    },
    {
     "name": "stdout",
     "output_type": "stream",
     "text": [
      "195/195 [==============================] - 0s 2ms/step\n",
      "195/195 [==============================] - 0s 1ms/step\n",
      "195/195 [==============================] - 0s 1ms/step\n"
     ]
    },
    {
     "name": "stderr",
     "output_type": "stream",
     "text": [
      "\u001b[32m[I 2023-03-02 13:14:24,483]\u001b[0m Trial 31 finished with value: 0.877230516136566 and parameters: {'units_1': 23, 'units_2': 29, 'alpha_1': 0.05415952985773531, 'alpha_2': 0.03622703174042635, 'dropout_1': 0.2916539529547768, 'dropout_2': 0.3633590204092232, 'l2_kern_1': 0.0010754558525883822, 'l2_kern_2': 0.001594886083093461, 'l2_bias_1': 4.8703481685040654e-05, 'l2_bias_2': 0.0015720093265876168, 'lr': 0.0067610334574751095, 'batch_size': 256}. Best is trial 4 with value: 0.8783530297609832.\u001b[0m\n",
      "C:\\Users\\User\\AppData\\Local\\Temp\\ipykernel_5968\\4154129606.py:46: DeprecationWarning: KerasClassifier is deprecated, use Sci-Keras (https://github.com/adriangb/scikeras) instead. See https://www.adriangb.com/scikeras/stable/migration.html for help migrating.\n",
      "  ('classifier', KerasClassifier(build_fn=self.create_model, verbose=0))\n"
     ]
    },
    {
     "name": "stdout",
     "output_type": "stream",
     "text": [
      "195/195 [==============================] - 0s 1ms/step\n",
      "195/195 [==============================] - 0s 1ms/step\n",
      "195/195 [==============================] - 0s 1ms/step\n"
     ]
    },
    {
     "name": "stderr",
     "output_type": "stream",
     "text": [
      "\u001b[32m[I 2023-03-02 13:14:49,567]\u001b[0m Trial 32 finished with value: 0.878846638456205 and parameters: {'units_1': 29, 'units_2': 31, 'alpha_1': 0.04563722453377815, 'alpha_2': 0.03591487197020605, 'dropout_1': 0.3171408632363866, 'dropout_2': 0.3554941790169185, 'l2_kern_1': 0.0005130385194200457, 'l2_kern_2': 0.0017842998482767644, 'l2_bias_1': 4.8025187064921586e-05, 'l2_bias_2': 0.0017439745834764995, 'lr': 0.00593901112522555, 'batch_size': 256}. Best is trial 32 with value: 0.878846638456205.\u001b[0m\n",
      "C:\\Users\\User\\AppData\\Local\\Temp\\ipykernel_5968\\4154129606.py:46: DeprecationWarning: KerasClassifier is deprecated, use Sci-Keras (https://github.com/adriangb/scikeras) instead. See https://www.adriangb.com/scikeras/stable/migration.html for help migrating.\n",
      "  ('classifier', KerasClassifier(build_fn=self.create_model, verbose=0))\n"
     ]
    },
    {
     "name": "stdout",
     "output_type": "stream",
     "text": [
      "195/195 [==============================] - 0s 2ms/step\n",
      "195/195 [==============================] - 0s 1ms/step\n",
      "195/195 [==============================] - 0s 2ms/step\n"
     ]
    },
    {
     "name": "stderr",
     "output_type": "stream",
     "text": [
      "\u001b[32m[I 2023-03-02 13:15:14,788]\u001b[0m Trial 33 finished with value: 0.8778294596198642 and parameters: {'units_1': 31, 'units_2': 32, 'alpha_1': 0.039060126810618545, 'alpha_2': 0.03403462209963847, 'dropout_1': 0.323259393231553, 'dropout_2': 0.35491149902509767, 'l2_kern_1': 0.000642533904713446, 'l2_kern_2': 0.001953483815982287, 'l2_bias_1': 5.2815526481605845e-05, 'l2_bias_2': 0.001982238686753706, 'lr': 0.006456084282250077, 'batch_size': 256}. Best is trial 32 with value: 0.878846638456205.\u001b[0m\n",
      "C:\\Users\\User\\AppData\\Local\\Temp\\ipykernel_5968\\4154129606.py:46: DeprecationWarning: KerasClassifier is deprecated, use Sci-Keras (https://github.com/adriangb/scikeras) instead. See https://www.adriangb.com/scikeras/stable/migration.html for help migrating.\n",
      "  ('classifier', KerasClassifier(build_fn=self.create_model, verbose=0))\n"
     ]
    },
    {
     "name": "stdout",
     "output_type": "stream",
     "text": [
      "195/195 [==============================] - 0s 1ms/step\n",
      "195/195 [==============================] - 0s 1ms/step\n",
      "195/195 [==============================] - 0s 1ms/step\n"
     ]
    },
    {
     "name": "stderr",
     "output_type": "stream",
     "text": [
      "\u001b[32m[I 2023-03-02 13:15:45,080]\u001b[0m Trial 34 finished with value: 0.8766652658291717 and parameters: {'units_1': 31, 'units_2': 33, 'alpha_1': 0.03072002428048842, 'alpha_2': 0.03599356478313388, 'dropout_1': 0.3239969370073954, 'dropout_2': 0.36440162343140886, 'l2_kern_1': 0.0005824529695214208, 'l2_kern_2': 0.00836217320611835, 'l2_bias_1': 5.7071503933067045e-05, 'l2_bias_2': 0.0015305685044433616, 'lr': 0.007108786275209607, 'batch_size': 256}. Best is trial 32 with value: 0.878846638456205.\u001b[0m\n",
      "C:\\Users\\User\\AppData\\Local\\Temp\\ipykernel_5968\\4154129606.py:46: DeprecationWarning: KerasClassifier is deprecated, use Sci-Keras (https://github.com/adriangb/scikeras) instead. See https://www.adriangb.com/scikeras/stable/migration.html for help migrating.\n",
      "  ('classifier', KerasClassifier(build_fn=self.create_model, verbose=0))\n"
     ]
    },
    {
     "name": "stdout",
     "output_type": "stream",
     "text": [
      "195/195 [==============================] - 0s 1ms/step\n",
      "195/195 [==============================] - 0s 1ms/step\n",
      "195/195 [==============================] - 0s 2ms/step\n"
     ]
    },
    {
     "name": "stderr",
     "output_type": "stream",
     "text": [
      "\u001b[32m[I 2023-03-02 13:16:21,022]\u001b[0m Trial 35 finished with value: 0.8790786756579879 and parameters: {'units_1': 36, 'units_2': 38, 'alpha_1': 0.04141548483505562, 'alpha_2': 0.042144894774097115, 'dropout_1': 0.3166851205592205, 'dropout_2': 0.3545633765819866, 'l2_kern_1': 0.00032676942997365805, 'l2_kern_2': 0.0037418847356268633, 'l2_bias_1': 2.6619542348473833e-05, 'l2_bias_2': 0.004160869820415474, 'lr': 0.003139013019663608, 'batch_size': 256}. Best is trial 35 with value: 0.8790786756579879.\u001b[0m\n",
      "C:\\Users\\User\\AppData\\Local\\Temp\\ipykernel_5968\\4154129606.py:46: DeprecationWarning: KerasClassifier is deprecated, use Sci-Keras (https://github.com/adriangb/scikeras) instead. See https://www.adriangb.com/scikeras/stable/migration.html for help migrating.\n",
      "  ('classifier', KerasClassifier(build_fn=self.create_model, verbose=0))\n"
     ]
    },
    {
     "name": "stdout",
     "output_type": "stream",
     "text": [
      "195/195 [==============================] - 0s 2ms/step\n",
      "195/195 [==============================] - 0s 2ms/step\n",
      "195/195 [==============================] - 0s 1ms/step\n"
     ]
    },
    {
     "name": "stderr",
     "output_type": "stream",
     "text": [
      "\u001b[32m[I 2023-03-02 13:16:55,740]\u001b[0m Trial 36 finished with value: 0.8793609681867074 and parameters: {'units_1': 36, 'units_2': 40, 'alpha_1': 0.04131794176890925, 'alpha_2': 0.04360860139070776, 'dropout_1': 0.3150221635610838, 'dropout_2': 0.3482950340865816, 'l2_kern_1': 0.0002756663184646489, 'l2_kern_2': 0.00527504075917179, 'l2_bias_1': 2.0929801181567526e-05, 'l2_bias_2': 0.004271191908045429, 'lr': 0.0023863120017394465, 'batch_size': 256}. Best is trial 36 with value: 0.8793609681867074.\u001b[0m\n",
      "C:\\Users\\User\\AppData\\Local\\Temp\\ipykernel_5968\\4154129606.py:46: DeprecationWarning: KerasClassifier is deprecated, use Sci-Keras (https://github.com/adriangb/scikeras) instead. See https://www.adriangb.com/scikeras/stable/migration.html for help migrating.\n",
      "  ('classifier', KerasClassifier(build_fn=self.create_model, verbose=0))\n"
     ]
    },
    {
     "name": "stdout",
     "output_type": "stream",
     "text": [
      "195/195 [==============================] - 0s 2ms/step\n",
      "195/195 [==============================] - 0s 2ms/step\n",
      "195/195 [==============================] - 0s 2ms/step\n"
     ]
    },
    {
     "name": "stderr",
     "output_type": "stream",
     "text": [
      "\u001b[32m[I 2023-03-02 13:17:23,926]\u001b[0m Trial 37 finished with value: 0.8785286026999288 and parameters: {'units_1': 37, 'units_2': 40, 'alpha_1': 0.030030548196628978, 'alpha_2': 0.04454605886399824, 'dropout_1': 0.35026131026153967, 'dropout_2': 0.32127502044177475, 'l2_kern_1': 0.00028484046283139085, 'l2_kern_2': 0.004582139517568748, 'l2_bias_1': 1.591533058254124e-05, 'l2_bias_2': 0.004019392612564741, 'lr': 0.0032208847500152693, 'batch_size': 256}. Best is trial 36 with value: 0.8793609681867074.\u001b[0m\n",
      "C:\\Users\\User\\AppData\\Local\\Temp\\ipykernel_5968\\4154129606.py:46: DeprecationWarning: KerasClassifier is deprecated, use Sci-Keras (https://github.com/adriangb/scikeras) instead. See https://www.adriangb.com/scikeras/stable/migration.html for help migrating.\n",
      "  ('classifier', KerasClassifier(build_fn=self.create_model, verbose=0))\n"
     ]
    },
    {
     "name": "stdout",
     "output_type": "stream",
     "text": [
      "195/195 [==============================] - 0s 1ms/step\n",
      "195/195 [==============================] - 0s 1ms/step\n",
      "195/195 [==============================] - 0s 2ms/step\n"
     ]
    },
    {
     "name": "stderr",
     "output_type": "stream",
     "text": [
      "\u001b[32m[I 2023-03-02 13:17:56,560]\u001b[0m Trial 38 finished with value: 0.8790916942034995 and parameters: {'units_1': 37, 'units_2': 40, 'alpha_1': 0.04207790397819595, 'alpha_2': 0.045303475950475236, 'dropout_1': 0.38355028213482306, 'dropout_2': 0.3176572923882154, 'l2_kern_1': 0.0003459369630521508, 'l2_kern_2': 0.004505290780317951, 'l2_bias_1': 1.7425057480840173e-05, 'l2_bias_2': 0.004048759779846713, 'lr': 0.0033119830622648392, 'batch_size': 256}. Best is trial 36 with value: 0.8793609681867074.\u001b[0m\n",
      "C:\\Users\\User\\AppData\\Local\\Temp\\ipykernel_5968\\4154129606.py:46: DeprecationWarning: KerasClassifier is deprecated, use Sci-Keras (https://github.com/adriangb/scikeras) instead. See https://www.adriangb.com/scikeras/stable/migration.html for help migrating.\n",
      "  ('classifier', KerasClassifier(build_fn=self.create_model, verbose=0))\n"
     ]
    },
    {
     "name": "stdout",
     "output_type": "stream",
     "text": [
      "195/195 [==============================] - 0s 2ms/step\n",
      "195/195 [==============================] - 0s 1ms/step\n",
      "195/195 [==============================] - 0s 1ms/step\n"
     ]
    },
    {
     "name": "stderr",
     "output_type": "stream",
     "text": [
      "\u001b[32m[I 2023-03-02 13:18:41,957]\u001b[0m Trial 39 finished with value: 0.8799236875383549 and parameters: {'units_1': 40, 'units_2': 38, 'alpha_1': 0.04161878661495287, 'alpha_2': 0.04162561275132675, 'dropout_1': 0.392747590813238, 'dropout_2': 0.3918236782683215, 'l2_kern_1': 0.00019836445677694963, 'l2_kern_2': 0.006347086679236999, 'l2_bias_1': 1.9519926777699967e-05, 'l2_bias_2': 0.009753459774399172, 'lr': 0.0019774598217097935, 'batch_size': 256}. Best is trial 39 with value: 0.8799236875383549.\u001b[0m\n",
      "C:\\Users\\User\\AppData\\Local\\Temp\\ipykernel_5968\\4154129606.py:46: DeprecationWarning: KerasClassifier is deprecated, use Sci-Keras (https://github.com/adriangb/scikeras) instead. See https://www.adriangb.com/scikeras/stable/migration.html for help migrating.\n",
      "  ('classifier', KerasClassifier(build_fn=self.create_model, verbose=0))\n"
     ]
    },
    {
     "name": "stdout",
     "output_type": "stream",
     "text": [
      "195/195 [==============================] - 0s 1ms/step\n",
      "195/195 [==============================] - 0s 1ms/step\n",
      "195/195 [==============================] - 0s 2ms/step\n"
     ]
    },
    {
     "name": "stderr",
     "output_type": "stream",
     "text": [
      "\u001b[32m[I 2023-03-02 13:19:11,113]\u001b[0m Trial 40 finished with value: 0.8695270868492121 and parameters: {'units_1': 40, 'units_2': 37, 'alpha_1': 0.03676273155427229, 'alpha_2': 0.044123276084812604, 'dropout_1': 0.43548794079405456, 'dropout_2': 0.3828769223552775, 'l2_kern_1': 0.0002307895205588922, 'l2_kern_2': 0.005811562705446468, 'l2_bias_1': 2.223134838764327e-05, 'l2_bias_2': 0.0047265479674651065, 'lr': 0.0017826063650865297, 'batch_size': 256}. Best is trial 39 with value: 0.8799236875383549.\u001b[0m\n",
      "C:\\Users\\User\\AppData\\Local\\Temp\\ipykernel_5968\\4154129606.py:46: DeprecationWarning: KerasClassifier is deprecated, use Sci-Keras (https://github.com/adriangb/scikeras) instead. See https://www.adriangb.com/scikeras/stable/migration.html for help migrating.\n",
      "  ('classifier', KerasClassifier(build_fn=self.create_model, verbose=0))\n"
     ]
    },
    {
     "name": "stdout",
     "output_type": "stream",
     "text": [
      "195/195 [==============================] - 0s 1ms/step\n",
      "195/195 [==============================] - 0s 2ms/step\n",
      "195/195 [==============================] - 0s 1ms/step\n"
     ]
    },
    {
     "name": "stderr",
     "output_type": "stream",
     "text": [
      "\u001b[32m[I 2023-03-02 13:19:40,303]\u001b[0m Trial 41 finished with value: 0.87662344275452 and parameters: {'units_1': 36, 'units_2': 35, 'alpha_1': 0.04307384079911001, 'alpha_2': 0.0401025482796849, 'dropout_1': 0.370017399555664, 'dropout_2': 0.3994028383410661, 'l2_kern_1': 0.0004080863005381776, 'l2_kern_2': 0.0033688791508555437, 'l2_bias_1': 3.278538567529916e-05, 'l2_bias_2': 0.009061284827794128, 'lr': 0.0034131614979042123, 'batch_size': 256}. Best is trial 39 with value: 0.8799236875383549.\u001b[0m\n",
      "C:\\Users\\User\\AppData\\Local\\Temp\\ipykernel_5968\\4154129606.py:46: DeprecationWarning: KerasClassifier is deprecated, use Sci-Keras (https://github.com/adriangb/scikeras) instead. See https://www.adriangb.com/scikeras/stable/migration.html for help migrating.\n",
      "  ('classifier', KerasClassifier(build_fn=self.create_model, verbose=0))\n"
     ]
    },
    {
     "name": "stdout",
     "output_type": "stream",
     "text": [
      "195/195 [==============================] - 0s 1ms/step\n",
      "195/195 [==============================] - 0s 2ms/step\n",
      "195/195 [==============================] - 0s 2ms/step\n"
     ]
    },
    {
     "name": "stderr",
     "output_type": "stream",
     "text": [
      "\u001b[32m[I 2023-03-02 13:20:19,927]\u001b[0m Trial 42 finished with value: 0.8796032024276089 and parameters: {'units_1': 40, 'units_2': 39, 'alpha_1': 0.046380170258006184, 'alpha_2': 0.02309543889391379, 'dropout_1': 0.3934281692757289, 'dropout_2': 0.34228867566015, 'l2_kern_1': 0.00018389407610189072, 'l2_kern_2': 0.006100237309756153, 'l2_bias_1': 1.558217298252908e-05, 'l2_bias_2': 0.003150749287259869, 'lr': 0.0024943230906881676, 'batch_size': 256}. Best is trial 39 with value: 0.8799236875383549.\u001b[0m\n",
      "C:\\Users\\User\\AppData\\Local\\Temp\\ipykernel_5968\\4154129606.py:46: DeprecationWarning: KerasClassifier is deprecated, use Sci-Keras (https://github.com/adriangb/scikeras) instead. See https://www.adriangb.com/scikeras/stable/migration.html for help migrating.\n",
      "  ('classifier', KerasClassifier(build_fn=self.create_model, verbose=0))\n"
     ]
    },
    {
     "name": "stdout",
     "output_type": "stream",
     "text": [
      "195/195 [==============================] - 0s 1ms/step\n",
      "195/195 [==============================] - 0s 1ms/step\n",
      "195/195 [==============================] - 0s 2ms/step\n"
     ]
    },
    {
     "name": "stderr",
     "output_type": "stream",
     "text": [
      "\u001b[32m[I 2023-03-02 13:20:47,230]\u001b[0m Trial 43 finished with value: 0.8719664439524534 and parameters: {'units_1': 40, 'units_2': 39, 'alpha_1': 0.040052289434715435, 'alpha_2': 0.022179017195560653, 'dropout_1': 0.3965241845576038, 'dropout_2': 0.3381505202112355, 'l2_kern_1': 0.00017596320229916595, 'l2_kern_2': 0.006320051365577776, 'l2_bias_1': 1.6184798043808757e-05, 'l2_bias_2': 0.0031820414095887796, 'lr': 0.0025347151134411145, 'batch_size': 256}. Best is trial 39 with value: 0.8799236875383549.\u001b[0m\n",
      "C:\\Users\\User\\AppData\\Local\\Temp\\ipykernel_5968\\4154129606.py:46: DeprecationWarning: KerasClassifier is deprecated, use Sci-Keras (https://github.com/adriangb/scikeras) instead. See https://www.adriangb.com/scikeras/stable/migration.html for help migrating.\n",
      "  ('classifier', KerasClassifier(build_fn=self.create_model, verbose=0))\n"
     ]
    },
    {
     "name": "stdout",
     "output_type": "stream",
     "text": [
      "195/195 [==============================] - 0s 1ms/step\n",
      "195/195 [==============================] - 0s 1ms/step\n",
      "195/195 [==============================] - 0s 1ms/step\n"
     ]
    },
    {
     "name": "stderr",
     "output_type": "stream",
     "text": [
      "\u001b[32m[I 2023-03-02 13:23:42,963]\u001b[0m Trial 44 finished with value: 0.8763095516808118 and parameters: {'units_1': 38, 'units_2': 37, 'alpha_1': 0.03287954398949639, 'alpha_2': 0.047134204387555126, 'dropout_1': 0.45782787449202855, 'dropout_2': 0.27739863688945227, 'l2_kern_1': 8.252635616027955e-05, 'l2_kern_2': 0.009178881569059306, 'l2_bias_1': 1.5084229546482477e-05, 'l2_bias_2': 0.005659646514907784, 'lr': 0.0009879075684145328, 'batch_size': 32}. Best is trial 39 with value: 0.8799236875383549.\u001b[0m\n",
      "C:\\Users\\User\\AppData\\Local\\Temp\\ipykernel_5968\\4154129606.py:46: DeprecationWarning: KerasClassifier is deprecated, use Sci-Keras (https://github.com/adriangb/scikeras) instead. See https://www.adriangb.com/scikeras/stable/migration.html for help migrating.\n",
      "  ('classifier', KerasClassifier(build_fn=self.create_model, verbose=0))\n"
     ]
    },
    {
     "name": "stdout",
     "output_type": "stream",
     "text": [
      "195/195 [==============================] - 0s 1ms/step\n",
      "195/195 [==============================] - 0s 2ms/step\n",
      "195/195 [==============================] - 0s 1ms/step\n"
     ]
    },
    {
     "name": "stderr",
     "output_type": "stream",
     "text": [
      "\u001b[32m[I 2023-03-02 13:24:28,231]\u001b[0m Trial 45 finished with value: 0.8786766931183575 and parameters: {'units_1': 35, 'units_2': 40, 'alpha_1': 0.04822474879560422, 'alpha_2': 0.05174331993430284, 'dropout_1': 0.3888580933281399, 'dropout_2': 0.3313050454862159, 'l2_kern_1': 0.0001705281997045729, 'l2_kern_2': 0.003498586402363834, 'l2_bias_1': 2.8704310254762675e-05, 'l2_bias_2': 0.00849206856772884, 'lr': 0.001559285924463686, 'batch_size': 256}. Best is trial 39 with value: 0.8799236875383549.\u001b[0m\n",
      "C:\\Users\\User\\AppData\\Local\\Temp\\ipykernel_5968\\4154129606.py:46: DeprecationWarning: KerasClassifier is deprecated, use Sci-Keras (https://github.com/adriangb/scikeras) instead. See https://www.adriangb.com/scikeras/stable/migration.html for help migrating.\n",
      "  ('classifier', KerasClassifier(build_fn=self.create_model, verbose=0))\n"
     ]
    },
    {
     "name": "stdout",
     "output_type": "stream",
     "text": [
      "195/195 [==============================] - 0s 2ms/step\n",
      "195/195 [==============================] - 0s 1ms/step\n",
      "195/195 [==============================] - 0s 2ms/step\n"
     ]
    },
    {
     "name": "stderr",
     "output_type": "stream",
     "text": [
      "\u001b[32m[I 2023-03-02 13:25:02,578]\u001b[0m Trial 46 finished with value: 0.8754188313671593 and parameters: {'units_1': 37, 'units_2': 38, 'alpha_1': 0.058656932121157385, 'alpha_2': 0.02361097739166703, 'dropout_1': 0.41453937686712866, 'dropout_2': 0.31520280600239553, 'l2_kern_1': 0.00011088329395918299, 'l2_kern_2': 0.0076642799089406705, 'l2_bias_1': 1.1340099107426331e-05, 'l2_bias_2': 0.0010562538850585135, 'lr': 0.002254162748909639, 'batch_size': 256}. Best is trial 39 with value: 0.8799236875383549.\u001b[0m\n",
      "C:\\Users\\User\\AppData\\Local\\Temp\\ipykernel_5968\\4154129606.py:46: DeprecationWarning: KerasClassifier is deprecated, use Sci-Keras (https://github.com/adriangb/scikeras) instead. See https://www.adriangb.com/scikeras/stable/migration.html for help migrating.\n",
      "  ('classifier', KerasClassifier(build_fn=self.create_model, verbose=0))\n"
     ]
    },
    {
     "name": "stdout",
     "output_type": "stream",
     "text": [
      "195/195 [==============================] - 0s 2ms/step\n",
      "195/195 [==============================] - 0s 1ms/step\n",
      "195/195 [==============================] - 0s 1ms/step\n"
     ]
    },
    {
     "name": "stderr",
     "output_type": "stream",
     "text": [
      "\u001b[32m[I 2023-03-02 13:25:53,983]\u001b[0m Trial 47 finished with value: 0.8753009689361569 and parameters: {'units_1': 33, 'units_2': 35, 'alpha_1': 0.03998904076629335, 'alpha_2': 0.05862913841592479, 'dropout_1': 0.4420667325703294, 'dropout_2': 0.3474644721094179, 'l2_kern_1': 0.00021160165692257602, 'l2_kern_2': 0.005970743606797497, 'l2_bias_1': 2.1080439706862224e-05, 'l2_bias_2': 0.002987618529108991, 'lr': 0.004324797363441855, 'batch_size': 64}. Best is trial 39 with value: 0.8799236875383549.\u001b[0m\n",
      "C:\\Users\\User\\AppData\\Local\\Temp\\ipykernel_5968\\4154129606.py:46: DeprecationWarning: KerasClassifier is deprecated, use Sci-Keras (https://github.com/adriangb/scikeras) instead. See https://www.adriangb.com/scikeras/stable/migration.html for help migrating.\n",
      "  ('classifier', KerasClassifier(build_fn=self.create_model, verbose=0))\n"
     ]
    },
    {
     "name": "stdout",
     "output_type": "stream",
     "text": [
      "195/195 [==============================] - 0s 1ms/step\n",
      "195/195 [==============================] - 0s 1ms/step\n",
      "195/195 [==============================] - 0s 1ms/step\n"
     ]
    },
    {
     "name": "stderr",
     "output_type": "stream",
     "text": [
      "\u001b[32m[I 2023-03-02 13:26:40,991]\u001b[0m Trial 48 finished with value: 0.8762390957708625 and parameters: {'units_1': 39, 'units_2': 35, 'alpha_1': 0.02880267733736138, 'alpha_2': 0.017282394205249553, 'dropout_1': 0.3450812396440881, 'dropout_2': 0.3117718790612707, 'l2_kern_1': 0.00035022481136266374, 'l2_kern_2': 0.0037886736588420965, 'l2_bias_1': 3.690617447651231e-05, 'l2_bias_2': 0.0060458190035251515, 'lr': 0.0009146544280059664, 'batch_size': 256}. Best is trial 39 with value: 0.8799236875383549.\u001b[0m\n",
      "C:\\Users\\User\\AppData\\Local\\Temp\\ipykernel_5968\\4154129606.py:46: DeprecationWarning: KerasClassifier is deprecated, use Sci-Keras (https://github.com/adriangb/scikeras) instead. See https://www.adriangb.com/scikeras/stable/migration.html for help migrating.\n",
      "  ('classifier', KerasClassifier(build_fn=self.create_model, verbose=0))\n"
     ]
    },
    {
     "name": "stdout",
     "output_type": "stream",
     "text": [
      "195/195 [==============================] - 0s 1ms/step\n",
      "195/195 [==============================] - 0s 2ms/step\n",
      "195/195 [==============================] - 0s 1ms/step\n"
     ]
    },
    {
     "name": "stderr",
     "output_type": "stream",
     "text": [
      "\u001b[32m[I 2023-03-02 13:27:11,666]\u001b[0m Trial 49 finished with value: 0.878617766679206 and parameters: {'units_1': 38, 'units_2': 38, 'alpha_1': 0.04563886104436277, 'alpha_2': 0.040937752838749, 'dropout_1': 0.3986580237651726, 'dropout_2': 0.39423485141558795, 'l2_kern_1': 6.29146665435989e-05, 'l2_kern_2': 0.0030906489576146695, 'l2_bias_1': 1.269463580323529e-05, 'l2_bias_2': 0.009982259535039022, 'lr': 0.003643269559634795, 'batch_size': 256}. Best is trial 39 with value: 0.8799236875383549.\u001b[0m\n",
      "C:\\Users\\User\\AppData\\Local\\Temp\\ipykernel_5968\\4154129606.py:46: DeprecationWarning: KerasClassifier is deprecated, use Sci-Keras (https://github.com/adriangb/scikeras) instead. See https://www.adriangb.com/scikeras/stable/migration.html for help migrating.\n",
      "  ('classifier', KerasClassifier(build_fn=self.create_model, verbose=0))\n"
     ]
    },
    {
     "name": "stdout",
     "output_type": "stream",
     "text": [
      "195/195 [==============================] - 0s 1ms/step\n",
      "195/195 [==============================] - 0s 1ms/step\n",
      "195/195 [==============================] - 0s 1ms/step\n"
     ]
    },
    {
     "name": "stderr",
     "output_type": "stream",
     "text": [
      "\u001b[32m[I 2023-03-02 13:29:27,762]\u001b[0m Trial 50 finished with value: 0.8785784786361193 and parameters: {'units_1': 35, 'units_2': 40, 'alpha_1': 0.035172577868820255, 'alpha_2': 0.031002333270528523, 'dropout_1': 0.38201330431467617, 'dropout_2': 0.2878359897515632, 'l2_kern_1': 0.0001518121144416163, 'l2_kern_2': 0.006923675383138455, 'l2_bias_1': 2.0273342512920204e-05, 'l2_bias_2': 0.0044925145496717755, 'lr': 0.001965915365933874, 'batch_size': 32}. Best is trial 39 with value: 0.8799236875383549.\u001b[0m\n",
      "C:\\Users\\User\\AppData\\Local\\Temp\\ipykernel_5968\\4154129606.py:46: DeprecationWarning: KerasClassifier is deprecated, use Sci-Keras (https://github.com/adriangb/scikeras) instead. See https://www.adriangb.com/scikeras/stable/migration.html for help migrating.\n",
      "  ('classifier', KerasClassifier(build_fn=self.create_model, verbose=0))\n"
     ]
    },
    {
     "name": "stdout",
     "output_type": "stream",
     "text": [
      "195/195 [==============================] - 0s 1ms/step\n",
      "195/195 [==============================] - 0s 1ms/step\n",
      "195/195 [==============================] - 0s 2ms/step\n"
     ]
    },
    {
     "name": "stderr",
     "output_type": "stream",
     "text": [
      "\u001b[32m[I 2023-03-02 13:30:05,248]\u001b[0m Trial 51 finished with value: 0.8804990404829741 and parameters: {'units_1': 40, 'units_2': 36, 'alpha_1': 0.04553185605547451, 'alpha_2': 0.025725304671220972, 'dropout_1': 0.3350321313361395, 'dropout_2': 0.3490592996635507, 'l2_kern_1': 0.0004059819420770756, 'l2_kern_2': 0.00492006668039018, 'l2_bias_1': 4.161147785478836e-05, 'l2_bias_2': 0.003396308418078798, 'lr': 0.0028322444584021663, 'batch_size': 256}. Best is trial 51 with value: 0.8804990404829741.\u001b[0m\n",
      "C:\\Users\\User\\AppData\\Local\\Temp\\ipykernel_5968\\4154129606.py:46: DeprecationWarning: KerasClassifier is deprecated, use Sci-Keras (https://github.com/adriangb/scikeras) instead. See https://www.adriangb.com/scikeras/stable/migration.html for help migrating.\n",
      "  ('classifier', KerasClassifier(build_fn=self.create_model, verbose=0))\n"
     ]
    },
    {
     "name": "stdout",
     "output_type": "stream",
     "text": [
      "195/195 [==============================] - 0s 1ms/step\n",
      "195/195 [==============================] - 0s 2ms/step\n",
      "195/195 [==============================] - 0s 1ms/step\n"
     ]
    },
    {
     "name": "stderr",
     "output_type": "stream",
     "text": [
      "\u001b[32m[I 2023-03-02 13:30:34,906]\u001b[0m Trial 52 finished with value: 0.8733935942717928 and parameters: {'units_1': 37, 'units_2': 36, 'alpha_1': 0.05081713508787031, 'alpha_2': 0.025896721272382624, 'dropout_1': 0.3348122222366083, 'dropout_2': 0.37035678219784357, 'l2_kern_1': 0.0006925790359066618, 'l2_kern_2': 0.009755894800484466, 'l2_bias_1': 3.765622217751401e-05, 'l2_bias_2': 0.003414384659611304, 'lr': 0.0028425047253732836, 'batch_size': 256}. Best is trial 51 with value: 0.8804990404829741.\u001b[0m\n",
      "C:\\Users\\User\\AppData\\Local\\Temp\\ipykernel_5968\\4154129606.py:46: DeprecationWarning: KerasClassifier is deprecated, use Sci-Keras (https://github.com/adriangb/scikeras) instead. See https://www.adriangb.com/scikeras/stable/migration.html for help migrating.\n",
      "  ('classifier', KerasClassifier(build_fn=self.create_model, verbose=0))\n"
     ]
    },
    {
     "name": "stdout",
     "output_type": "stream",
     "text": [
      "195/195 [==============================] - 0s 2ms/step\n",
      "195/195 [==============================] - 0s 1ms/step\n",
      "195/195 [==============================] - 0s 2ms/step\n"
     ]
    },
    {
     "name": "stderr",
     "output_type": "stream",
     "text": [
      "\u001b[32m[I 2023-03-02 13:31:08,066]\u001b[0m Trial 53 finished with value: 0.8715571703047278 and parameters: {'units_1': 40, 'units_2': 34, 'alpha_1': 0.04212285083306792, 'alpha_2': 0.016866076847726306, 'dropout_1': 0.3550677928286194, 'dropout_2': 0.3768531286497271, 'l2_kern_1': 0.0004237947326856909, 'l2_kern_2': 0.0049731127002458205, 'l2_bias_1': 2.3689074603165913e-05, 'l2_bias_2': 0.006227236557942027, 'lr': 0.001620131092393166, 'batch_size': 256}. Best is trial 51 with value: 0.8804990404829741.\u001b[0m\n",
      "C:\\Users\\User\\AppData\\Local\\Temp\\ipykernel_5968\\4154129606.py:46: DeprecationWarning: KerasClassifier is deprecated, use Sci-Keras (https://github.com/adriangb/scikeras) instead. See https://www.adriangb.com/scikeras/stable/migration.html for help migrating.\n",
      "  ('classifier', KerasClassifier(build_fn=self.create_model, verbose=0))\n"
     ]
    },
    {
     "name": "stdout",
     "output_type": "stream",
     "text": [
      "195/195 [==============================] - 0s 1ms/step\n",
      "195/195 [==============================] - 0s 1ms/step\n",
      "195/195 [==============================] - 0s 1ms/step\n"
     ]
    },
    {
     "name": "stderr",
     "output_type": "stream",
     "text": [
      "\u001b[32m[I 2023-03-02 13:31:45,411]\u001b[0m Trial 54 finished with value: 0.8772689636907419 and parameters: {'units_1': 34, 'units_2': 38, 'alpha_1': 0.04569281075569162, 'alpha_2': 0.0485855382400603, 'dropout_1': 0.37227701084127124, 'dropout_2': 0.347515180634803, 'l2_kern_1': 0.00011914720878574438, 'l2_kern_2': 0.004372321886754059, 'l2_bias_1': 7.93470744895038e-05, 'l2_bias_2': 0.0023670320733806993, 'lr': 0.002341256948352977, 'batch_size': 256}. Best is trial 51 with value: 0.8804990404829741.\u001b[0m\n",
      "C:\\Users\\User\\AppData\\Local\\Temp\\ipykernel_5968\\4154129606.py:46: DeprecationWarning: KerasClassifier is deprecated, use Sci-Keras (https://github.com/adriangb/scikeras) instead. See https://www.adriangb.com/scikeras/stable/migration.html for help migrating.\n",
      "  ('classifier', KerasClassifier(build_fn=self.create_model, verbose=0))\n"
     ]
    },
    {
     "name": "stdout",
     "output_type": "stream",
     "text": [
      "195/195 [==============================] - 0s 1ms/step\n",
      "195/195 [==============================] - 0s 1ms/step\n",
      "195/195 [==============================] - 0s 1ms/step\n"
     ]
    },
    {
     "name": "stderr",
     "output_type": "stream",
     "text": [
      "\u001b[32m[I 2023-03-02 13:32:24,279]\u001b[0m Trial 55 finished with value: 0.8792729904615871 and parameters: {'units_1': 39, 'units_2': 36, 'alpha_1': 0.05640383053582593, 'alpha_2': 0.04310718120432346, 'dropout_1': 0.4065332734952285, 'dropout_2': 0.33235300408523377, 'l2_kern_1': 0.0002338626728688523, 'l2_kern_2': 0.0029150414467179276, 'l2_bias_1': 1.673188065722494e-05, 'l2_bias_2': 0.000682442440447878, 'lr': 0.004405362519158219, 'batch_size': 256}. Best is trial 51 with value: 0.8804990404829741.\u001b[0m\n",
      "C:\\Users\\User\\AppData\\Local\\Temp\\ipykernel_5968\\4154129606.py:46: DeprecationWarning: KerasClassifier is deprecated, use Sci-Keras (https://github.com/adriangb/scikeras) instead. See https://www.adriangb.com/scikeras/stable/migration.html for help migrating.\n",
      "  ('classifier', KerasClassifier(build_fn=self.create_model, verbose=0))\n"
     ]
    },
    {
     "name": "stdout",
     "output_type": "stream",
     "text": [
      "195/195 [==============================] - 0s 1ms/step\n",
      "195/195 [==============================] - 0s 1ms/step\n",
      "195/195 [==============================] - 0s 1ms/step\n"
     ]
    },
    {
     "name": "stderr",
     "output_type": "stream",
     "text": [
      "\u001b[32m[I 2023-03-02 13:33:11,718]\u001b[0m Trial 56 finished with value: 0.8810387096815089 and parameters: {'units_1': 39, 'units_2': 40, 'alpha_1': 0.06213936177710751, 'alpha_2': 0.025328867720986654, 'dropout_1': 0.4281714909223334, 'dropout_2': 0.2950624499017856, 'l2_kern_1': 0.00020363135985286042, 'l2_kern_2': 0.002753372472129654, 'l2_bias_1': 1.0263795526311296e-05, 'l2_bias_2': 0.0007352228248960575, 'lr': 0.004214159371710301, 'batch_size': 128}. Best is trial 56 with value: 0.8810387096815089.\u001b[0m\n",
      "C:\\Users\\User\\AppData\\Local\\Temp\\ipykernel_5968\\4154129606.py:46: DeprecationWarning: KerasClassifier is deprecated, use Sci-Keras (https://github.com/adriangb/scikeras) instead. See https://www.adriangb.com/scikeras/stable/migration.html for help migrating.\n",
      "  ('classifier', KerasClassifier(build_fn=self.create_model, verbose=0))\n"
     ]
    },
    {
     "name": "stdout",
     "output_type": "stream",
     "text": [
      "195/195 [==============================] - 0s 1ms/step\n",
      "195/195 [==============================] - 0s 1ms/step\n",
      "195/195 [==============================] - 0s 1ms/step\n"
     ]
    },
    {
     "name": "stderr",
     "output_type": "stream",
     "text": [
      "\u001b[32m[I 2023-03-02 13:33:48,226]\u001b[0m Trial 57 finished with value: 0.8752812100487156 and parameters: {'units_1': 39, 'units_2': 36, 'alpha_1': 0.06314071776011466, 'alpha_2': 0.013074695227873334, 'dropout_1': 0.4286516432177322, 'dropout_2': 0.29500508987616614, 'l2_kern_1': 0.00020301665255980996, 'l2_kern_2': 0.002777633721876742, 'l2_bias_1': 1.1116305558757922e-05, 'l2_bias_2': 0.0004867840343273677, 'lr': 0.008651424703736463, 'batch_size': 128}. Best is trial 56 with value: 0.8810387096815089.\u001b[0m\n",
      "C:\\Users\\User\\AppData\\Local\\Temp\\ipykernel_5968\\4154129606.py:46: DeprecationWarning: KerasClassifier is deprecated, use Sci-Keras (https://github.com/adriangb/scikeras) instead. See https://www.adriangb.com/scikeras/stable/migration.html for help migrating.\n",
      "  ('classifier', KerasClassifier(build_fn=self.create_model, verbose=0))\n"
     ]
    },
    {
     "name": "stdout",
     "output_type": "stream",
     "text": [
      "195/195 [==============================] - 0s 2ms/step\n",
      "195/195 [==============================] - 0s 2ms/step\n",
      "195/195 [==============================] - 0s 1ms/step\n"
     ]
    },
    {
     "name": "stderr",
     "output_type": "stream",
     "text": [
      "\u001b[32m[I 2023-03-02 13:34:37,258]\u001b[0m Trial 58 finished with value: 0.880013117188804 and parameters: {'units_1': 40, 'units_2': 33, 'alpha_1': 0.07435608675933847, 'alpha_2': 0.025316003899698097, 'dropout_1': 0.45809975964782657, 'dropout_2': 0.26887242522447513, 'l2_kern_1': 8.291741782382172e-05, 'l2_kern_2': 0.002197654918674632, 'l2_bias_1': 1.3855636931875528e-05, 'l2_bias_2': 0.0005586525739741657, 'lr': 0.004576864975561863, 'batch_size': 128}. Best is trial 56 with value: 0.8810387096815089.\u001b[0m\n",
      "C:\\Users\\User\\AppData\\Local\\Temp\\ipykernel_5968\\4154129606.py:46: DeprecationWarning: KerasClassifier is deprecated, use Sci-Keras (https://github.com/adriangb/scikeras) instead. See https://www.adriangb.com/scikeras/stable/migration.html for help migrating.\n",
      "  ('classifier', KerasClassifier(build_fn=self.create_model, verbose=0))\n"
     ]
    },
    {
     "name": "stdout",
     "output_type": "stream",
     "text": [
      "195/195 [==============================] - 0s 1ms/step\n",
      "195/195 [==============================] - 0s 2ms/step\n",
      "195/195 [==============================] - 0s 1ms/step\n"
     ]
    },
    {
     "name": "stderr",
     "output_type": "stream",
     "text": [
      "\u001b[32m[I 2023-03-02 13:35:26,104]\u001b[0m Trial 59 finished with value: 0.8782195718483977 and parameters: {'units_1': 40, 'units_2': 33, 'alpha_1': 0.07237440344773924, 'alpha_2': 0.026162913465573017, 'dropout_1': 0.48030349568287367, 'dropout_2': 0.24880454503030675, 'l2_kern_1': 4.899110007031357e-05, 'l2_kern_2': 0.0021669070242568505, 'l2_bias_1': 1.2711502016993928e-05, 'l2_bias_2': 0.00034810919335104214, 'lr': 0.0050606724421305965, 'batch_size': 128}. Best is trial 56 with value: 0.8810387096815089.\u001b[0m\n",
      "C:\\Users\\User\\AppData\\Local\\Temp\\ipykernel_5968\\4154129606.py:46: DeprecationWarning: KerasClassifier is deprecated, use Sci-Keras (https://github.com/adriangb/scikeras) instead. See https://www.adriangb.com/scikeras/stable/migration.html for help migrating.\n",
      "  ('classifier', KerasClassifier(build_fn=self.create_model, verbose=0))\n"
     ]
    },
    {
     "name": "stdout",
     "output_type": "stream",
     "text": [
      "195/195 [==============================] - 0s 1ms/step\n",
      "195/195 [==============================] - 0s 1ms/step\n",
      "195/195 [==============================] - 0s 1ms/step\n"
     ]
    },
    {
     "name": "stderr",
     "output_type": "stream",
     "text": [
      "\u001b[32m[I 2023-03-02 13:36:19,427]\u001b[0m Trial 60 finished with value: 0.8702688100659355 and parameters: {'units_1': 32, 'units_2': 37, 'alpha_1': 0.0742379780155112, 'alpha_2': 0.03156547716784607, 'dropout_1': 0.45551658022107905, 'dropout_2': 0.25868406272839456, 'l2_kern_1': 2.898823146398249e-05, 'l2_kern_2': 0.005889202130985236, 'l2_bias_1': 3.982443239115548e-05, 'l2_bias_2': 0.0007905369837174693, 'lr': 0.0012340761115427305, 'batch_size': 128}. Best is trial 56 with value: 0.8810387096815089.\u001b[0m\n",
      "C:\\Users\\User\\AppData\\Local\\Temp\\ipykernel_5968\\4154129606.py:46: DeprecationWarning: KerasClassifier is deprecated, use Sci-Keras (https://github.com/adriangb/scikeras) instead. See https://www.adriangb.com/scikeras/stable/migration.html for help migrating.\n",
      "  ('classifier', KerasClassifier(build_fn=self.create_model, verbose=0))\n"
     ]
    },
    {
     "name": "stdout",
     "output_type": "stream",
     "text": [
      "195/195 [==============================] - 0s 1ms/step\n",
      "195/195 [==============================] - 0s 1ms/step\n",
      "195/195 [==============================] - 0s 1ms/step\n"
     ]
    },
    {
     "name": "stderr",
     "output_type": "stream",
     "text": [
      "\u001b[32m[I 2023-03-02 13:36:58,266]\u001b[0m Trial 61 finished with value: 0.8776105909409665 and parameters: {'units_1': 39, 'units_2': 39, 'alpha_1': 0.05785404314272258, 'alpha_2': 0.028534678933777834, 'dropout_1': 0.4234385689456225, 'dropout_2': 0.27219807117006245, 'l2_kern_1': 9.218667969152335e-05, 'l2_kern_2': 0.0029489131448983508, 'l2_bias_1': 1.0127322907464732e-05, 'l2_bias_2': 0.0007399640571255245, 'lr': 0.004143695871730158, 'batch_size': 128}. Best is trial 56 with value: 0.8810387096815089.\u001b[0m\n",
      "C:\\Users\\User\\AppData\\Local\\Temp\\ipykernel_5968\\4154129606.py:46: DeprecationWarning: KerasClassifier is deprecated, use Sci-Keras (https://github.com/adriangb/scikeras) instead. See https://www.adriangb.com/scikeras/stable/migration.html for help migrating.\n",
      "  ('classifier', KerasClassifier(build_fn=self.create_model, verbose=0))\n"
     ]
    },
    {
     "name": "stdout",
     "output_type": "stream",
     "text": [
      "195/195 [==============================] - 0s 1ms/step\n",
      "195/195 [==============================] - 0s 1ms/step\n",
      "195/195 [==============================] - 0s 2ms/step\n"
     ]
    },
    {
     "name": "stderr",
     "output_type": "stream",
     "text": [
      "\u001b[32m[I 2023-03-02 13:37:38,182]\u001b[0m Trial 62 finished with value: 0.8809757000367138 and parameters: {'units_1': 38, 'units_2': 34, 'alpha_1': 0.0652697562678904, 'alpha_2': 0.019769626235931675, 'dropout_1': 0.4045603540264054, 'dropout_2': 0.3051790889657126, 'l2_kern_1': 0.00013105613979435396, 'l2_kern_2': 0.0013768363656225743, 'l2_bias_1': 1.7501438061515357e-05, 'l2_bias_2': 0.0012924133758866086, 'lr': 0.004409878397784578, 'batch_size': 128}. Best is trial 56 with value: 0.8810387096815089.\u001b[0m\n",
      "C:\\Users\\User\\AppData\\Local\\Temp\\ipykernel_5968\\4154129606.py:46: DeprecationWarning: KerasClassifier is deprecated, use Sci-Keras (https://github.com/adriangb/scikeras) instead. See https://www.adriangb.com/scikeras/stable/migration.html for help migrating.\n",
      "  ('classifier', KerasClassifier(build_fn=self.create_model, verbose=0))\n"
     ]
    },
    {
     "name": "stdout",
     "output_type": "stream",
     "text": [
      "195/195 [==============================] - 0s 1ms/step\n",
      "195/195 [==============================] - 0s 1ms/step\n",
      "195/195 [==============================] - 0s 2ms/step\n"
     ]
    },
    {
     "name": "stderr",
     "output_type": "stream",
     "text": [
      "\u001b[32m[I 2023-03-02 13:38:32,630]\u001b[0m Trial 63 finished with value: 0.8815933215514081 and parameters: {'units_1': 36, 'units_2': 33, 'alpha_1': 0.06668439400622567, 'alpha_2': 0.019001014303845615, 'dropout_1': 0.47220230583788153, 'dropout_2': 0.3031012635797567, 'l2_kern_1': 0.0001490572957958305, 'l2_kern_2': 0.00037572676908712173, 'l2_bias_1': 1.424201403590498e-05, 'l2_bias_2': 0.001091809767562965, 'lr': 0.0025510952508329323, 'batch_size': 128}. Best is trial 63 with value: 0.8815933215514081.\u001b[0m\n",
      "C:\\Users\\User\\AppData\\Local\\Temp\\ipykernel_5968\\4154129606.py:46: DeprecationWarning: KerasClassifier is deprecated, use Sci-Keras (https://github.com/adriangb/scikeras) instead. See https://www.adriangb.com/scikeras/stable/migration.html for help migrating.\n",
      "  ('classifier', KerasClassifier(build_fn=self.create_model, verbose=0))\n"
     ]
    },
    {
     "name": "stdout",
     "output_type": "stream",
     "text": [
      "195/195 [==============================] - 0s 1ms/step\n",
      "195/195 [==============================] - 0s 1ms/step\n",
      "195/195 [==============================] - 0s 1ms/step\n"
     ]
    },
    {
     "name": "stderr",
     "output_type": "stream",
     "text": [
      "\u001b[32m[I 2023-03-02 13:39:07,102]\u001b[0m Trial 64 finished with value: 0.8790113273046947 and parameters: {'units_1': 38, 'units_2': 34, 'alpha_1': 0.08046549870283247, 'alpha_2': 0.018478894641539637, 'dropout_1': 0.4990095958090426, 'dropout_2': 0.3061287826591845, 'l2_kern_1': 0.00013105319186824637, 'l2_kern_2': 0.00037527396524624635, 'l2_bias_1': 1.3668503069407402e-05, 'l2_bias_2': 0.0010720065813215256, 'lr': 0.005321916855279708, 'batch_size': 128}. Best is trial 63 with value: 0.8815933215514081.\u001b[0m\n",
      "C:\\Users\\User\\AppData\\Local\\Temp\\ipykernel_5968\\4154129606.py:46: DeprecationWarning: KerasClassifier is deprecated, use Sci-Keras (https://github.com/adriangb/scikeras) instead. See https://www.adriangb.com/scikeras/stable/migration.html for help migrating.\n",
      "  ('classifier', KerasClassifier(build_fn=self.create_model, verbose=0))\n"
     ]
    },
    {
     "name": "stdout",
     "output_type": "stream",
     "text": [
      "195/195 [==============================] - 0s 1ms/step\n",
      "195/195 [==============================] - 0s 1ms/step\n",
      "195/195 [==============================] - 0s 1ms/step\n"
     ]
    },
    {
     "name": "stderr",
     "output_type": "stream",
     "text": [
      "\u001b[32m[I 2023-03-02 13:39:48,552]\u001b[0m Trial 65 finished with value: 0.8763122911825914 and parameters: {'units_1': 34, 'units_2': 31, 'alpha_1': 0.06412734271448854, 'alpha_2': 0.014324080587038763, 'dropout_1': 0.4757756296383265, 'dropout_2': 0.23355991852738456, 'l2_kern_1': 9.506708827096574e-05, 'l2_kern_2': 0.0014371833893684286, 'l2_bias_1': 2.8023770426584277e-05, 'l2_bias_2': 0.0012806356104576473, 'lr': 0.007660313038046527, 'batch_size': 128}. Best is trial 63 with value: 0.8815933215514081.\u001b[0m\n",
      "C:\\Users\\User\\AppData\\Local\\Temp\\ipykernel_5968\\4154129606.py:46: DeprecationWarning: KerasClassifier is deprecated, use Sci-Keras (https://github.com/adriangb/scikeras) instead. See https://www.adriangb.com/scikeras/stable/migration.html for help migrating.\n",
      "  ('classifier', KerasClassifier(build_fn=self.create_model, verbose=0))\n"
     ]
    },
    {
     "name": "stdout",
     "output_type": "stream",
     "text": [
      "195/195 [==============================] - 1s 2ms/step\n",
      "195/195 [==============================] - 0s 1ms/step\n",
      "195/195 [==============================] - 0s 1ms/step\n"
     ]
    },
    {
     "name": "stderr",
     "output_type": "stream",
     "text": [
      "\u001b[32m[I 2023-03-02 13:40:35,949]\u001b[0m Trial 66 finished with value: 0.8811633999571632 and parameters: {'units_1': 40, 'units_2': 29, 'alpha_1': 0.06646067824451507, 'alpha_2': 0.02330848204189139, 'dropout_1': 0.4489326691207898, 'dropout_2': 0.26636444593794617, 'l2_kern_1': 7.304127064823876e-05, 'l2_kern_2': 0.0011870547866875741, 'l2_bias_1': 1.3563964078964998e-05, 'l2_bias_2': 0.0005087311977327098, 'lr': 0.0038095505166230326, 'batch_size': 128}. Best is trial 63 with value: 0.8815933215514081.\u001b[0m\n",
      "C:\\Users\\User\\AppData\\Local\\Temp\\ipykernel_5968\\4154129606.py:46: DeprecationWarning: KerasClassifier is deprecated, use Sci-Keras (https://github.com/adriangb/scikeras) instead. See https://www.adriangb.com/scikeras/stable/migration.html for help migrating.\n",
      "  ('classifier', KerasClassifier(build_fn=self.create_model, verbose=0))\n"
     ]
    },
    {
     "name": "stdout",
     "output_type": "stream",
     "text": [
      "195/195 [==============================] - 0s 1ms/step\n",
      "195/195 [==============================] - 0s 1ms/step\n",
      "195/195 [==============================] - 0s 1ms/step\n"
     ]
    },
    {
     "name": "stderr",
     "output_type": "stream",
     "text": [
      "\u001b[32m[I 2023-03-02 13:41:18,846]\u001b[0m Trial 67 finished with value: 0.8817739340485323 and parameters: {'units_1': 38, 'units_2': 29, 'alpha_1': 0.06576703252057543, 'alpha_2': 0.010708289125076842, 'dropout_1': 0.4409976291766619, 'dropout_2': 0.26342519549189924, 'l2_kern_1': 5.970502485822697e-05, 'l2_kern_2': 0.0011979091229127954, 'l2_bias_1': 1.9012901404842994e-05, 'l2_bias_2': 0.0005364583836503001, 'lr': 0.0038924455394495484, 'batch_size': 128}. Best is trial 67 with value: 0.8817739340485323.\u001b[0m\n",
      "C:\\Users\\User\\AppData\\Local\\Temp\\ipykernel_5968\\4154129606.py:46: DeprecationWarning: KerasClassifier is deprecated, use Sci-Keras (https://github.com/adriangb/scikeras) instead. See https://www.adriangb.com/scikeras/stable/migration.html for help migrating.\n",
      "  ('classifier', KerasClassifier(build_fn=self.create_model, verbose=0))\n"
     ]
    },
    {
     "name": "stdout",
     "output_type": "stream",
     "text": [
      "195/195 [==============================] - 0s 1ms/step\n",
      "195/195 [==============================] - 0s 2ms/step\n",
      "195/195 [==============================] - 0s 2ms/step\n"
     ]
    },
    {
     "name": "stderr",
     "output_type": "stream",
     "text": [
      "\u001b[32m[I 2023-03-02 13:42:02,440]\u001b[0m Trial 68 finished with value: 0.8805833188935798 and parameters: {'units_1': 35, 'units_2': 29, 'alpha_1': 0.06518009492398505, 'alpha_2': 0.01134558895980646, 'dropout_1': 0.44683807940883924, 'dropout_2': 0.2617927501800022, 'l2_kern_1': 3.036195809557001e-05, 'l2_kern_2': 0.0008536699359366264, 'l2_bias_1': 1.2655575461931266e-05, 'l2_bias_2': 0.0004945453076234401, 'lr': 0.004009494032060388, 'batch_size': 128}. Best is trial 67 with value: 0.8817739340485323.\u001b[0m\n",
      "C:\\Users\\User\\AppData\\Local\\Temp\\ipykernel_5968\\4154129606.py:46: DeprecationWarning: KerasClassifier is deprecated, use Sci-Keras (https://github.com/adriangb/scikeras) instead. See https://www.adriangb.com/scikeras/stable/migration.html for help migrating.\n",
      "  ('classifier', KerasClassifier(build_fn=self.create_model, verbose=0))\n"
     ]
    },
    {
     "name": "stdout",
     "output_type": "stream",
     "text": [
      "195/195 [==============================] - 0s 1ms/step\n",
      "195/195 [==============================] - 0s 1ms/step\n",
      "195/195 [==============================] - 0s 1ms/step\n"
     ]
    },
    {
     "name": "stderr",
     "output_type": "stream",
     "text": [
      "\u001b[32m[I 2023-03-02 13:42:42,850]\u001b[0m Trial 69 finished with value: 0.8791132112545702 and parameters: {'units_1': 35, 'units_2': 29, 'alpha_1': 0.06646437144452912, 'alpha_2': 0.012056063371882208, 'dropout_1': 0.44740923284719597, 'dropout_2': 0.23146334157789128, 'l2_kern_1': 2.451466453737315e-05, 'l2_kern_2': 0.0012261518330297949, 'l2_bias_1': 1.0125997812060606e-05, 'l2_bias_2': 0.0003741057145562554, 'lr': 0.0038390254938526942, 'batch_size': 128}. Best is trial 67 with value: 0.8817739340485323.\u001b[0m\n",
      "C:\\Users\\User\\AppData\\Local\\Temp\\ipykernel_5968\\4154129606.py:46: DeprecationWarning: KerasClassifier is deprecated, use Sci-Keras (https://github.com/adriangb/scikeras) instead. See https://www.adriangb.com/scikeras/stable/migration.html for help migrating.\n",
      "  ('classifier', KerasClassifier(build_fn=self.create_model, verbose=0))\n"
     ]
    },
    {
     "name": "stdout",
     "output_type": "stream",
     "text": [
      "195/195 [==============================] - 0s 1ms/step\n",
      "195/195 [==============================] - 0s 2ms/step\n",
      "195/195 [==============================] - 0s 2ms/step\n"
     ]
    },
    {
     "name": "stderr",
     "output_type": "stream",
     "text": [
      "\u001b[32m[I 2023-03-02 13:43:20,102]\u001b[0m Trial 70 finished with value: 0.8792848977734713 and parameters: {'units_1': 38, 'units_2': 26, 'alpha_1': 0.06122548359195104, 'alpha_2': 0.010130686849080738, 'dropout_1': 0.4731938003356223, 'dropout_2': 0.2605847198512404, 'l2_kern_1': 1.7220101459793473e-05, 'l2_kern_2': 0.0008316314023633738, 'l2_bias_1': 2.5978285449079183e-05, 'l2_bias_2': 0.0002576332859181086, 'lr': 0.005903344613919714, 'batch_size': 128}. Best is trial 67 with value: 0.8817739340485323.\u001b[0m\n",
      "C:\\Users\\User\\AppData\\Local\\Temp\\ipykernel_5968\\4154129606.py:46: DeprecationWarning: KerasClassifier is deprecated, use Sci-Keras (https://github.com/adriangb/scikeras) instead. See https://www.adriangb.com/scikeras/stable/migration.html for help migrating.\n",
      "  ('classifier', KerasClassifier(build_fn=self.create_model, verbose=0))\n"
     ]
    },
    {
     "name": "stdout",
     "output_type": "stream",
     "text": [
      "195/195 [==============================] - 0s 2ms/step\n",
      "195/195 [==============================] - 0s 1ms/step\n",
      "195/195 [==============================] - 0s 1ms/step\n"
     ]
    },
    {
     "name": "stderr",
     "output_type": "stream",
     "text": [
      "\u001b[32m[I 2023-03-02 13:44:04,161]\u001b[0m Trial 71 finished with value: 0.8808929900943645 and parameters: {'units_1': 36, 'units_2': 30, 'alpha_1': 0.06999661434833092, 'alpha_2': 0.015240504222894653, 'dropout_1': 0.48630333394875785, 'dropout_2': 0.27164780341968836, 'l2_kern_1': 6.147838937327575e-05, 'l2_kern_2': 0.0005018716447459914, 'l2_bias_1': 1.3254217461458961e-05, 'l2_bias_2': 0.0005148928924507059, 'lr': 0.004576270868013476, 'batch_size': 128}. Best is trial 67 with value: 0.8817739340485323.\u001b[0m\n",
      "C:\\Users\\User\\AppData\\Local\\Temp\\ipykernel_5968\\4154129606.py:46: DeprecationWarning: KerasClassifier is deprecated, use Sci-Keras (https://github.com/adriangb/scikeras) instead. See https://www.adriangb.com/scikeras/stable/migration.html for help migrating.\n",
      "  ('classifier', KerasClassifier(build_fn=self.create_model, verbose=0))\n"
     ]
    },
    {
     "name": "stdout",
     "output_type": "stream",
     "text": [
      "195/195 [==============================] - 0s 1ms/step\n",
      "195/195 [==============================] - 0s 2ms/step\n",
      "195/195 [==============================] - 0s 1ms/step\n"
     ]
    },
    {
     "name": "stderr",
     "output_type": "stream",
     "text": [
      "\u001b[32m[I 2023-03-02 13:44:37,602]\u001b[0m Trial 72 finished with value: 0.877380510153159 and parameters: {'units_1': 36, 'units_2': 30, 'alpha_1': 0.07024438916241336, 'alpha_2': 0.015937792347252587, 'dropout_1': 0.4868764348979212, 'dropout_2': 0.2807258157282585, 'l2_kern_1': 5.525165338258272e-05, 'l2_kern_2': 0.0004430009369246063, 'l2_bias_1': 1.2897323154611686e-05, 'l2_bias_2': 0.0002014736956695253, 'lr': 0.007702524068392547, 'batch_size': 128}. Best is trial 67 with value: 0.8817739340485323.\u001b[0m\n",
      "C:\\Users\\User\\AppData\\Local\\Temp\\ipykernel_5968\\4154129606.py:46: DeprecationWarning: KerasClassifier is deprecated, use Sci-Keras (https://github.com/adriangb/scikeras) instead. See https://www.adriangb.com/scikeras/stable/migration.html for help migrating.\n",
      "  ('classifier', KerasClassifier(build_fn=self.create_model, verbose=0))\n"
     ]
    },
    {
     "name": "stdout",
     "output_type": "stream",
     "text": [
      "195/195 [==============================] - 0s 2ms/step\n",
      "195/195 [==============================] - 0s 1ms/step\n",
      "195/195 [==============================] - 0s 1ms/step\n"
     ]
    },
    {
     "name": "stderr",
     "output_type": "stream",
     "text": [
      "\u001b[32m[I 2023-03-02 13:45:23,234]\u001b[0m Trial 73 finished with value: 0.8810536295962216 and parameters: {'units_1': 33, 'units_2': 28, 'alpha_1': 0.06539096221039714, 'alpha_2': 0.020284249476698237, 'dropout_1': 0.4681298780353678, 'dropout_2': 0.29276020717251117, 'l2_kern_1': 3.5397650961851284e-05, 'l2_kern_2': 0.0005883854385137896, 'l2_bias_1': 1.7964578894405522e-05, 'l2_bias_2': 0.0004157460276023152, 'lr': 0.0027344043230563136, 'batch_size': 128}. Best is trial 67 with value: 0.8817739340485323.\u001b[0m\n",
      "C:\\Users\\User\\AppData\\Local\\Temp\\ipykernel_5968\\4154129606.py:46: DeprecationWarning: KerasClassifier is deprecated, use Sci-Keras (https://github.com/adriangb/scikeras) instead. See https://www.adriangb.com/scikeras/stable/migration.html for help migrating.\n",
      "  ('classifier', KerasClassifier(build_fn=self.create_model, verbose=0))\n"
     ]
    },
    {
     "name": "stdout",
     "output_type": "stream",
     "text": [
      "195/195 [==============================] - 0s 1ms/step\n",
      "195/195 [==============================] - 0s 2ms/step\n",
      "195/195 [==============================] - 0s 1ms/step\n"
     ]
    },
    {
     "name": "stderr",
     "output_type": "stream",
     "text": [
      "\u001b[32m[I 2023-03-02 13:45:55,721]\u001b[0m Trial 74 finished with value: 0.8782203234122955 and parameters: {'units_1': 32, 'units_2': 27, 'alpha_1': 0.06687027582168313, 'alpha_2': 0.01983842396721923, 'dropout_1': 0.4675634425323131, 'dropout_2': 0.2933485395860822, 'l2_kern_1': 3.374650776781404e-05, 'l2_kern_2': 0.0009185568491879129, 'l2_bias_1': 2.048508088475081e-05, 'l2_bias_2': 0.00044284341059622467, 'lr': 0.005740927766054943, 'batch_size': 128}. Best is trial 67 with value: 0.8817739340485323.\u001b[0m\n",
      "C:\\Users\\User\\AppData\\Local\\Temp\\ipykernel_5968\\4154129606.py:46: DeprecationWarning: KerasClassifier is deprecated, use Sci-Keras (https://github.com/adriangb/scikeras) instead. See https://www.adriangb.com/scikeras/stable/migration.html for help migrating.\n",
      "  ('classifier', KerasClassifier(build_fn=self.create_model, verbose=0))\n"
     ]
    },
    {
     "name": "stdout",
     "output_type": "stream",
     "text": [
      "195/195 [==============================] - 0s 1ms/step\n",
      "195/195 [==============================] - 0s 1ms/step\n",
      "195/195 [==============================] - 0s 1ms/step\n"
     ]
    },
    {
     "name": "stderr",
     "output_type": "stream",
     "text": [
      "\u001b[32m[I 2023-03-02 13:46:33,247]\u001b[0m Trial 75 finished with value: 0.8788608490299493 and parameters: {'units_1': 34, 'units_2': 24, 'alpha_1': 0.0611624401446646, 'alpha_2': 0.014817285210259629, 'dropout_1': 0.44646748705412137, 'dropout_2': 0.2469239441363647, 'l2_kern_1': 1.3929928817363621e-05, 'l2_kern_2': 0.0005906642920651456, 'l2_bias_1': 3.099577903753424e-05, 'l2_bias_2': 0.0008916439747996211, 'lr': 0.004551036546546429, 'batch_size': 128}. Best is trial 67 with value: 0.8817739340485323.\u001b[0m\n",
      "C:\\Users\\User\\AppData\\Local\\Temp\\ipykernel_5968\\4154129606.py:46: DeprecationWarning: KerasClassifier is deprecated, use Sci-Keras (https://github.com/adriangb/scikeras) instead. See https://www.adriangb.com/scikeras/stable/migration.html for help migrating.\n",
      "  ('classifier', KerasClassifier(build_fn=self.create_model, verbose=0))\n"
     ]
    },
    {
     "name": "stdout",
     "output_type": "stream",
     "text": [
      "195/195 [==============================] - 0s 1ms/step\n",
      "195/195 [==============================] - 0s 1ms/step\n",
      "195/195 [==============================] - 0s 2ms/step\n"
     ]
    },
    {
     "name": "stderr",
     "output_type": "stream",
     "text": [
      "\u001b[32m[I 2023-03-02 13:47:08,455]\u001b[0m Trial 76 finished with value: 0.8784729083209433 and parameters: {'units_1': 27, 'units_2': 30, 'alpha_1': 0.07069795470471563, 'alpha_2': 0.019267223269297383, 'dropout_1': 0.42534567534618567, 'dropout_2': 0.2656845169154666, 'l2_kern_1': 4.012302795846501e-05, 'l2_kern_2': 0.00025612246249420294, 'l2_bias_1': 1.7793282005676126e-05, 'l2_bias_2': 0.000562078643169935, 'lr': 0.0037793741884940128, 'batch_size': 128}. Best is trial 67 with value: 0.8817739340485323.\u001b[0m\n",
      "C:\\Users\\User\\AppData\\Local\\Temp\\ipykernel_5968\\4154129606.py:46: DeprecationWarning: KerasClassifier is deprecated, use Sci-Keras (https://github.com/adriangb/scikeras) instead. See https://www.adriangb.com/scikeras/stable/migration.html for help migrating.\n",
      "  ('classifier', KerasClassifier(build_fn=self.create_model, verbose=0))\n"
     ]
    },
    {
     "name": "stdout",
     "output_type": "stream",
     "text": [
      "195/195 [==============================] - 0s 1ms/step\n",
      "195/195 [==============================] - 0s 2ms/step\n",
      "195/195 [==============================] - 0s 1ms/step\n"
     ]
    },
    {
     "name": "stderr",
     "output_type": "stream",
     "text": [
      "\u001b[32m[I 2023-03-02 13:48:00,682]\u001b[0m Trial 77 finished with value: 0.8783433634485904 and parameters: {'units_1': 29, 'units_2': 28, 'alpha_1': 0.06528671674346843, 'alpha_2': 0.01279467175700754, 'dropout_1': 0.49036748617467896, 'dropout_2': 0.21395813962133534, 'l2_kern_1': 6.237284901015467e-05, 'l2_kern_2': 0.0007046516805112649, 'l2_bias_1': 1.2980311087854e-05, 'l2_bias_2': 0.0004052955163874442, 'lr': 0.0030139481664107053, 'batch_size': 128}. Best is trial 67 with value: 0.8817739340485323.\u001b[0m\n",
      "C:\\Users\\User\\AppData\\Local\\Temp\\ipykernel_5968\\4154129606.py:46: DeprecationWarning: KerasClassifier is deprecated, use Sci-Keras (https://github.com/adriangb/scikeras) instead. See https://www.adriangb.com/scikeras/stable/migration.html for help migrating.\n",
      "  ('classifier', KerasClassifier(build_fn=self.create_model, verbose=0))\n"
     ]
    },
    {
     "name": "stdout",
     "output_type": "stream",
     "text": [
      "195/195 [==============================] - 0s 1ms/step\n",
      "195/195 [==============================] - 0s 1ms/step\n",
      "195/195 [==============================] - 0s 2ms/step\n"
     ]
    },
    {
     "name": "stderr",
     "output_type": "stream",
     "text": [
      "\u001b[32m[I 2023-03-02 13:48:33,054]\u001b[0m Trial 78 finished with value: 0.876860358668259 and parameters: {'units_1': 33, 'units_2': 26, 'alpha_1': 0.0776424612709186, 'alpha_2': 0.021634375022797813, 'dropout_1': 0.4647279583494763, 'dropout_2': 0.2860888707655355, 'l2_kern_1': 2.4460985923431847e-05, 'l2_kern_2': 0.0013103904945043435, 'l2_bias_1': 1.0396180689102139e-05, 'l2_bias_2': 0.00018058322398501083, 'lr': 0.0063985630265583045, 'batch_size': 128}. Best is trial 67 with value: 0.8817739340485323.\u001b[0m\n",
      "C:\\Users\\User\\AppData\\Local\\Temp\\ipykernel_5968\\4154129606.py:46: DeprecationWarning: KerasClassifier is deprecated, use Sci-Keras (https://github.com/adriangb/scikeras) instead. See https://www.adriangb.com/scikeras/stable/migration.html for help migrating.\n",
      "  ('classifier', KerasClassifier(build_fn=self.create_model, verbose=0))\n"
     ]
    },
    {
     "name": "stdout",
     "output_type": "stream",
     "text": [
      "195/195 [==============================] - 0s 1ms/step\n",
      "195/195 [==============================] - 0s 1ms/step\n",
      "195/195 [==============================] - 0s 1ms/step\n"
     ]
    },
    {
     "name": "stderr",
     "output_type": "stream",
     "text": [
      "\u001b[32m[I 2023-03-02 13:48:55,159]\u001b[0m Trial 79 finished with value: 0.8819355980242823 and parameters: {'units_1': 37, 'units_2': 32, 'alpha_1': 0.06114826414592334, 'alpha_2': 0.010426382361971132, 'dropout_1': 0.4365394849053893, 'dropout_2': 0.24811986008219056, 'l2_kern_1': 5.063757571385162e-05, 'l2_kern_2': 0.00047056474419260704, 'l2_bias_1': 2.3278889589434285e-05, 'l2_bias_2': 0.00030746580252455336, 'lr': 0.004921099727628439, 'batch_size': 1024}. Best is trial 79 with value: 0.8819355980242823.\u001b[0m\n",
      "C:\\Users\\User\\AppData\\Local\\Temp\\ipykernel_5968\\4154129606.py:46: DeprecationWarning: KerasClassifier is deprecated, use Sci-Keras (https://github.com/adriangb/scikeras) instead. See https://www.adriangb.com/scikeras/stable/migration.html for help migrating.\n",
      "  ('classifier', KerasClassifier(build_fn=self.create_model, verbose=0))\n"
     ]
    },
    {
     "name": "stdout",
     "output_type": "stream",
     "text": [
      "195/195 [==============================] - 0s 1ms/step\n",
      "195/195 [==============================] - 0s 1ms/step\n",
      "195/195 [==============================] - 0s 1ms/step\n"
     ]
    },
    {
     "name": "stderr",
     "output_type": "stream",
     "text": [
      "\u001b[32m[I 2023-03-02 13:49:12,153]\u001b[0m Trial 80 finished with value: 0.88030875018899 and parameters: {'units_1': 37, 'units_2': 32, 'alpha_1': 0.06106479972091417, 'alpha_2': 0.02046111664282618, 'dropout_1': 0.43621646437862915, 'dropout_2': 0.30363070771587886, 'l2_kern_1': 4.91615826932374e-05, 'l2_kern_2': 0.00045316278504211856, 'l2_bias_1': 2.4303866013139287e-05, 'l2_bias_2': 0.00031879700272691294, 'lr': 0.008766483278095304, 'batch_size': 1024}. Best is trial 79 with value: 0.8819355980242823.\u001b[0m\n",
      "C:\\Users\\User\\AppData\\Local\\Temp\\ipykernel_5968\\4154129606.py:46: DeprecationWarning: KerasClassifier is deprecated, use Sci-Keras (https://github.com/adriangb/scikeras) instead. See https://www.adriangb.com/scikeras/stable/migration.html for help migrating.\n",
      "  ('classifier', KerasClassifier(build_fn=self.create_model, verbose=0))\n"
     ]
    },
    {
     "name": "stdout",
     "output_type": "stream",
     "text": [
      "195/195 [==============================] - 0s 1ms/step\n",
      "195/195 [==============================] - 0s 2ms/step\n",
      "195/195 [==============================] - 0s 1ms/step\n"
     ]
    },
    {
     "name": "stderr",
     "output_type": "stream",
     "text": [
      "\u001b[32m[I 2023-03-02 13:49:33,773]\u001b[0m Trial 81 finished with value: 0.8806848517711545 and parameters: {'units_1': 38, 'units_2': 28, 'alpha_1': 0.06865045409746277, 'alpha_2': 0.010723443449626118, 'dropout_1': 0.48142532049266945, 'dropout_2': 0.24624764499640284, 'l2_kern_1': 6.979493222468104e-05, 'l2_kern_2': 0.00014356466388268876, 'l2_bias_1': 1.7788516374812816e-05, 'l2_bias_2': 0.0008864783641180045, 'lr': 0.0049393773681285155, 'batch_size': 1024}. Best is trial 79 with value: 0.8819355980242823.\u001b[0m\n",
      "C:\\Users\\User\\AppData\\Local\\Temp\\ipykernel_5968\\4154129606.py:46: DeprecationWarning: KerasClassifier is deprecated, use Sci-Keras (https://github.com/adriangb/scikeras) instead. See https://www.adriangb.com/scikeras/stable/migration.html for help migrating.\n",
      "  ('classifier', KerasClassifier(build_fn=self.create_model, verbose=0))\n"
     ]
    },
    {
     "name": "stdout",
     "output_type": "stream",
     "text": [
      "195/195 [==============================] - 0s 1ms/step\n",
      "195/195 [==============================] - 0s 1ms/step\n",
      "195/195 [==============================] - 0s 1ms/step\n"
     ]
    },
    {
     "name": "stderr",
     "output_type": "stream",
     "text": [
      "\u001b[32m[I 2023-03-02 13:49:55,642]\u001b[0m Trial 82 finished with value: 0.87945530639599 and parameters: {'units_1': 38, 'units_2': 22, 'alpha_1': 0.06945378793948123, 'alpha_2': 0.015527853511446268, 'dropout_1': 0.4827133779274166, 'dropout_2': 0.2480112008014882, 'l2_kern_1': 6.948441646317411e-05, 'l2_kern_2': 0.0001365314045706786, 'l2_bias_1': 1.8889241041637728e-05, 'l2_bias_2': 0.0012925137687474994, 'lr': 0.00511234229259768, 'batch_size': 1024}. Best is trial 79 with value: 0.8819355980242823.\u001b[0m\n",
      "C:\\Users\\User\\AppData\\Local\\Temp\\ipykernel_5968\\4154129606.py:46: DeprecationWarning: KerasClassifier is deprecated, use Sci-Keras (https://github.com/adriangb/scikeras) instead. See https://www.adriangb.com/scikeras/stable/migration.html for help migrating.\n",
      "  ('classifier', KerasClassifier(build_fn=self.create_model, verbose=0))\n"
     ]
    },
    {
     "name": "stdout",
     "output_type": "stream",
     "text": [
      "195/195 [==============================] - 0s 1ms/step\n",
      "195/195 [==============================] - 0s 1ms/step\n",
      "195/195 [==============================] - 0s 2ms/step\n"
     ]
    },
    {
     "name": "stderr",
     "output_type": "stream",
     "text": [
      "\u001b[32m[I 2023-03-02 13:50:20,467]\u001b[0m Trial 83 finished with value: 0.8798418576330901 and parameters: {'units_1': 36, 'units_2': 28, 'alpha_1': 0.0719744103834191, 'alpha_2': 0.01002143968341808, 'dropout_1': 0.4716737518871619, 'dropout_2': 0.23696452681828167, 'l2_kern_1': 7.770356139225251e-05, 'l2_kern_2': 0.0003106444742230455, 'l2_bias_1': 1.5174261703987675e-05, 'l2_bias_2': 0.0006394514231351891, 'lr': 0.0034125781994780832, 'batch_size': 1024}. Best is trial 79 with value: 0.8819355980242823.\u001b[0m\n",
      "C:\\Users\\User\\AppData\\Local\\Temp\\ipykernel_5968\\4154129606.py:46: DeprecationWarning: KerasClassifier is deprecated, use Sci-Keras (https://github.com/adriangb/scikeras) instead. See https://www.adriangb.com/scikeras/stable/migration.html for help migrating.\n",
      "  ('classifier', KerasClassifier(build_fn=self.create_model, verbose=0))\n"
     ]
    },
    {
     "name": "stdout",
     "output_type": "stream",
     "text": [
      "195/195 [==============================] - 1s 2ms/step\n",
      "195/195 [==============================] - 0s 1ms/step\n",
      "195/195 [==============================] - 0s 1ms/step\n"
     ]
    },
    {
     "name": "stderr",
     "output_type": "stream",
     "text": [
      "\u001b[32m[I 2023-03-02 13:50:41,115]\u001b[0m Trial 84 finished with value: 0.8782638987491317 and parameters: {'units_1': 37, 'units_2': 30, 'alpha_1': 0.06820962442920538, 'alpha_2': 0.018189867249307858, 'dropout_1': 0.4989951504717281, 'dropout_2': 0.22515377591671765, 'l2_kern_1': 0.00011180154038852406, 'l2_kern_2': 0.0003708551021970777, 'l2_bias_1': 3.29502359642185e-05, 'l2_bias_2': 0.000922897520676721, 'lr': 0.004760586204022859, 'batch_size': 1024}. Best is trial 79 with value: 0.8819355980242823.\u001b[0m\n",
      "C:\\Users\\User\\AppData\\Local\\Temp\\ipykernel_5968\\4154129606.py:46: DeprecationWarning: KerasClassifier is deprecated, use Sci-Keras (https://github.com/adriangb/scikeras) instead. See https://www.adriangb.com/scikeras/stable/migration.html for help migrating.\n",
      "  ('classifier', KerasClassifier(build_fn=self.create_model, verbose=0))\n"
     ]
    },
    {
     "name": "stdout",
     "output_type": "stream",
     "text": [
      "195/195 [==============================] - 0s 1ms/step\n",
      "195/195 [==============================] - 0s 1ms/step\n",
      "195/195 [==============================] - 0s 1ms/step\n"
     ]
    },
    {
     "name": "stderr",
     "output_type": "stream",
     "text": [
      "\u001b[32m[I 2023-03-02 13:51:01,707]\u001b[0m Trial 85 finished with value: 0.8818206467889019 and parameters: {'units_1': 36, 'units_2': 32, 'alpha_1': 0.07417070452866051, 'alpha_2': 0.023095143754789653, 'dropout_1': 0.4547724502534312, 'dropout_2': 0.25338778632924347, 'l2_kern_1': 0.0001450389227600153, 'l2_kern_2': 0.00025217566233722835, 'l2_bias_1': 2.334731174206973e-05, 'l2_bias_2': 0.00022372677962007747, 'lr': 0.00561146463315769, 'batch_size': 1024}. Best is trial 79 with value: 0.8819355980242823.\u001b[0m\n",
      "C:\\Users\\User\\AppData\\Local\\Temp\\ipykernel_5968\\4154129606.py:46: DeprecationWarning: KerasClassifier is deprecated, use Sci-Keras (https://github.com/adriangb/scikeras) instead. See https://www.adriangb.com/scikeras/stable/migration.html for help migrating.\n",
      "  ('classifier', KerasClassifier(build_fn=self.create_model, verbose=0))\n"
     ]
    },
    {
     "name": "stdout",
     "output_type": "stream",
     "text": [
      "195/195 [==============================] - 0s 2ms/step\n",
      "195/195 [==============================] - 0s 1ms/step\n",
      "195/195 [==============================] - 0s 1ms/step\n"
     ]
    },
    {
     "name": "stderr",
     "output_type": "stream",
     "text": [
      "\u001b[32m[I 2023-03-02 13:51:22,799]\u001b[0m Trial 86 finished with value: 0.8674479817872164 and parameters: {'units_1': 14, 'units_2': 32, 'alpha_1': 0.08871019341389057, 'alpha_2': 0.023326039814165415, 'dropout_1': 0.45596590196350567, 'dropout_2': 0.27682700032444846, 'l2_kern_1': 0.0001598100641055103, 'l2_kern_2': 0.00028215777848856333, 'l2_bias_1': 2.3806990649058058e-05, 'l2_bias_2': 0.000135097270782449, 'lr': 0.009724261443289854, 'batch_size': 512}. Best is trial 79 with value: 0.8819355980242823.\u001b[0m\n",
      "C:\\Users\\User\\AppData\\Local\\Temp\\ipykernel_5968\\4154129606.py:46: DeprecationWarning: KerasClassifier is deprecated, use Sci-Keras (https://github.com/adriangb/scikeras) instead. See https://www.adriangb.com/scikeras/stable/migration.html for help migrating.\n",
      "  ('classifier', KerasClassifier(build_fn=self.create_model, verbose=0))\n"
     ]
    },
    {
     "name": "stdout",
     "output_type": "stream",
     "text": [
      "195/195 [==============================] - 0s 1ms/step\n",
      "195/195 [==============================] - 0s 2ms/step\n",
      "195/195 [==============================] - 0s 1ms/step\n"
     ]
    },
    {
     "name": "stderr",
     "output_type": "stream",
     "text": [
      "\u001b[32m[I 2023-03-02 13:51:55,193]\u001b[0m Trial 87 finished with value: 0.8742352658917567 and parameters: {'units_1': 32, 'units_2': 31, 'alpha_1': 0.07564148136194253, 'alpha_2': 0.01395273927515342, 'dropout_1': 0.43492172548843927, 'dropout_2': 0.25303015703100573, 'l2_kern_1': 0.0001350979305215708, 'l2_kern_2': 0.0005257108778029731, 'l2_bias_1': 0.0003773003744918448, 'l2_bias_2': 0.0002098169977289868, 'lr': 0.007354902566921215, 'batch_size': 128}. Best is trial 79 with value: 0.8819355980242823.\u001b[0m\n",
      "C:\\Users\\User\\AppData\\Local\\Temp\\ipykernel_5968\\4154129606.py:46: DeprecationWarning: KerasClassifier is deprecated, use Sci-Keras (https://github.com/adriangb/scikeras) instead. See https://www.adriangb.com/scikeras/stable/migration.html for help migrating.\n",
      "  ('classifier', KerasClassifier(build_fn=self.create_model, verbose=0))\n"
     ]
    },
    {
     "name": "stdout",
     "output_type": "stream",
     "text": [
      "195/195 [==============================] - 0s 1ms/step\n",
      "195/195 [==============================] - 0s 1ms/step\n",
      "195/195 [==============================] - 0s 1ms/step\n"
     ]
    },
    {
     "name": "stderr",
     "output_type": "stream",
     "text": [
      "\u001b[32m[I 2023-03-02 13:53:00,630]\u001b[0m Trial 88 finished with value: 0.8809093589199989 and parameters: {'units_1': 36, 'units_2': 34, 'alpha_1': 0.08020745302562796, 'alpha_2': 0.028749938731677638, 'dropout_1': 0.4201678509614528, 'dropout_2': 0.29166187922416265, 'l2_kern_1': 5.4885425072299056e-05, 'l2_kern_2': 0.0006737321764939944, 'l2_bias_1': 0.00015817857374296785, 'l2_bias_2': 0.00029593030268800587, 'lr': 0.0026127075843761305, 'batch_size': 64}. Best is trial 79 with value: 0.8819355980242823.\u001b[0m\n",
      "C:\\Users\\User\\AppData\\Local\\Temp\\ipykernel_5968\\4154129606.py:46: DeprecationWarning: KerasClassifier is deprecated, use Sci-Keras (https://github.com/adriangb/scikeras) instead. See https://www.adriangb.com/scikeras/stable/migration.html for help migrating.\n",
      "  ('classifier', KerasClassifier(build_fn=self.create_model, verbose=0))\n"
     ]
    },
    {
     "name": "stdout",
     "output_type": "stream",
     "text": [
      "195/195 [==============================] - 0s 2ms/step\n",
      "195/195 [==============================] - 0s 1ms/step\n",
      "195/195 [==============================] - 0s 1ms/step\n"
     ]
    },
    {
     "name": "stderr",
     "output_type": "stream",
     "text": [
      "\u001b[32m[I 2023-03-02 13:54:09,732]\u001b[0m Trial 89 finished with value: 0.8797989689017988 and parameters: {'units_1': 30, 'units_2': 34, 'alpha_1': 0.08281201986619188, 'alpha_2': 0.029543727713564578, 'dropout_1': 0.4053394357635225, 'dropout_2': 0.3092452945715589, 'l2_kern_1': 4.490088063027225e-05, 'l2_kern_2': 0.0006709458411731073, 'l2_bias_1': 7.531890298999356e-05, 'l2_bias_2': 0.0001478329622993766, 'lr': 0.002161545758636896, 'batch_size': 64}. Best is trial 79 with value: 0.8819355980242823.\u001b[0m\n",
      "C:\\Users\\User\\AppData\\Local\\Temp\\ipykernel_5968\\4154129606.py:46: DeprecationWarning: KerasClassifier is deprecated, use Sci-Keras (https://github.com/adriangb/scikeras) instead. See https://www.adriangb.com/scikeras/stable/migration.html for help migrating.\n",
      "  ('classifier', KerasClassifier(build_fn=self.create_model, verbose=0))\n"
     ]
    },
    {
     "name": "stdout",
     "output_type": "stream",
     "text": [
      "195/195 [==============================] - 0s 1ms/step\n",
      "195/195 [==============================] - 0s 1ms/step\n",
      "195/195 [==============================] - 0s 1ms/step\n"
     ]
    },
    {
     "name": "stderr",
     "output_type": "stream",
     "text": [
      "\u001b[32m[I 2023-03-02 13:54:34,414]\u001b[0m Trial 90 finished with value: 0.879446618195058 and parameters: {'units_1': 34, 'units_2': 32, 'alpha_1': 0.0790789536717308, 'alpha_2': 0.02720800312134906, 'dropout_1': 0.42380310612935845, 'dropout_2': 0.29884299780485185, 'l2_kern_1': 0.00010993485104588614, 'l2_kern_2': 0.0002224946166910718, 'l2_bias_1': 0.00014386104226763455, 'l2_bias_2': 9.927786270265568e-05, 'lr': 0.0026054883627908976, 'batch_size': 1024}. Best is trial 79 with value: 0.8819355980242823.\u001b[0m\n",
      "C:\\Users\\User\\AppData\\Local\\Temp\\ipykernel_5968\\4154129606.py:46: DeprecationWarning: KerasClassifier is deprecated, use Sci-Keras (https://github.com/adriangb/scikeras) instead. See https://www.adriangb.com/scikeras/stable/migration.html for help migrating.\n",
      "  ('classifier', KerasClassifier(build_fn=self.create_model, verbose=0))\n"
     ]
    },
    {
     "name": "stdout",
     "output_type": "stream",
     "text": [
      "195/195 [==============================] - 0s 1ms/step\n",
      "195/195 [==============================] - 0s 2ms/step\n",
      "195/195 [==============================] - 0s 1ms/step\n"
     ]
    },
    {
     "name": "stderr",
     "output_type": "stream",
     "text": [
      "\u001b[32m[I 2023-03-02 13:55:19,549]\u001b[0m Trial 91 finished with value: 0.8738329066361358 and parameters: {'units_1': 36, 'units_2': 30, 'alpha_1': 0.06268011632128831, 'alpha_2': 0.09159312383185067, 'dropout_1': 0.4516727011481984, 'dropout_2': 0.2887603198628176, 'l2_kern_1': 5.356871431463707e-05, 'l2_kern_2': 0.0010067741447057114, 'l2_bias_1': 6.147617563573273e-05, 'l2_bias_2': 0.00029679544566662034, 'lr': 0.0035108143262287585, 'batch_size': 64}. Best is trial 79 with value: 0.8819355980242823.\u001b[0m\n",
      "C:\\Users\\User\\AppData\\Local\\Temp\\ipykernel_5968\\4154129606.py:46: DeprecationWarning: KerasClassifier is deprecated, use Sci-Keras (https://github.com/adriangb/scikeras) instead. See https://www.adriangb.com/scikeras/stable/migration.html for help migrating.\n",
      "  ('classifier', KerasClassifier(build_fn=self.create_model, verbose=0))\n"
     ]
    },
    {
     "name": "stdout",
     "output_type": "stream",
     "text": [
      "195/195 [==============================] - 0s 1ms/step\n",
      "195/195 [==============================] - 0s 1ms/step\n",
      "195/195 [==============================] - 0s 2ms/step\n"
     ]
    },
    {
     "name": "stderr",
     "output_type": "stream",
     "text": [
      "\u001b[32m[I 2023-03-02 13:56:08,870]\u001b[0m Trial 92 finished with value: 0.8793735394960821 and parameters: {'units_1': 39, 'units_2': 33, 'alpha_1': 0.0727264166840375, 'alpha_2': 0.024025008939846, 'dropout_1': 0.44053525531576104, 'dropout_2': 0.27889283826282546, 'l2_kern_1': 4.028786260395958e-05, 'l2_kern_2': 0.0005335617624781843, 'l2_bias_1': 0.00028954590703782147, 'l2_bias_2': 0.00022221512610381497, 'lr': 0.005907300255636665, 'batch_size': 64}. Best is trial 79 with value: 0.8819355980242823.\u001b[0m\n",
      "C:\\Users\\User\\AppData\\Local\\Temp\\ipykernel_5968\\4154129606.py:46: DeprecationWarning: KerasClassifier is deprecated, use Sci-Keras (https://github.com/adriangb/scikeras) instead. See https://www.adriangb.com/scikeras/stable/migration.html for help migrating.\n",
      "  ('classifier', KerasClassifier(build_fn=self.create_model, verbose=0))\n"
     ]
    },
    {
     "name": "stdout",
     "output_type": "stream",
     "text": [
      "195/195 [==============================] - 0s 1ms/step\n",
      "195/195 [==============================] - 0s 1ms/step\n",
      "195/195 [==============================] - 0s 1ms/step\n"
     ]
    },
    {
     "name": "stderr",
     "output_type": "stream",
     "text": [
      "\u001b[32m[I 2023-03-02 13:56:47,577]\u001b[0m Trial 93 finished with value: 0.8814732876008783 and parameters: {'units_1': 36, 'units_2': 26, 'alpha_1': 0.05391225601313593, 'alpha_2': 0.02058073995115173, 'dropout_1': 0.41680277954920625, 'dropout_2': 0.27020538176296094, 'l2_kern_1': 5.9083239789311694e-05, 'l2_kern_2': 0.00039588407767842337, 'l2_bias_1': 1.5474538475017784e-05, 'l2_bias_2': 0.00039644402774936083, 'lr': 0.002725789682326913, 'batch_size': 128}. Best is trial 79 with value: 0.8819355980242823.\u001b[0m\n",
      "C:\\Users\\User\\AppData\\Local\\Temp\\ipykernel_5968\\4154129606.py:46: DeprecationWarning: KerasClassifier is deprecated, use Sci-Keras (https://github.com/adriangb/scikeras) instead. See https://www.adriangb.com/scikeras/stable/migration.html for help migrating.\n",
      "  ('classifier', KerasClassifier(build_fn=self.create_model, verbose=0))\n"
     ]
    },
    {
     "name": "stdout",
     "output_type": "stream",
     "text": [
      "195/195 [==============================] - 0s 2ms/step\n",
      "195/195 [==============================] - 0s 2ms/step\n",
      "195/195 [==============================] - 0s 1ms/step\n"
     ]
    },
    {
     "name": "stderr",
     "output_type": "stream",
     "text": [
      "\u001b[32m[I 2023-03-02 13:58:27,761]\u001b[0m Trial 94 finished with value: 0.8817078797675247 and parameters: {'units_1': 37, 'units_2': 26, 'alpha_1': 0.05520482837123276, 'alpha_2': 0.02120740588982381, 'dropout_1': 0.418594049480086, 'dropout_2': 0.32448485554114087, 'l2_kern_1': 9.596700383476374e-05, 'l2_kern_2': 0.0003328083203010458, 'l2_bias_1': 1.5479724413282712e-05, 'l2_bias_2': 0.0003966877917861157, 'lr': 0.0016982701321603757, 'batch_size': 32}. Best is trial 79 with value: 0.8819355980242823.\u001b[0m\n",
      "C:\\Users\\User\\AppData\\Local\\Temp\\ipykernel_5968\\4154129606.py:46: DeprecationWarning: KerasClassifier is deprecated, use Sci-Keras (https://github.com/adriangb/scikeras) instead. See https://www.adriangb.com/scikeras/stable/migration.html for help migrating.\n",
      "  ('classifier', KerasClassifier(build_fn=self.create_model, verbose=0))\n"
     ]
    },
    {
     "name": "stdout",
     "output_type": "stream",
     "text": [
      "195/195 [==============================] - 0s 1ms/step\n",
      "195/195 [==============================] - 0s 1ms/step\n",
      "195/195 [==============================] - 0s 1ms/step\n"
     ]
    },
    {
     "name": "stderr",
     "output_type": "stream",
     "text": [
      "\u001b[32m[I 2023-03-02 14:00:19,130]\u001b[0m Trial 95 finished with value: 0.8841611678688541 and parameters: {'units_1': 37, 'units_2': 25, 'alpha_1': 0.05210625251603535, 'alpha_2': 0.02195344092214047, 'dropout_1': 0.4072956196463625, 'dropout_2': 0.25389495324898204, 'l2_kern_1': 9.28915293064181e-05, 'l2_kern_2': 0.00033272706769038536, 'l2_bias_1': 1.786797740931158e-05, 'l2_bias_2': 0.0004040644096473244, 'lr': 0.0016828629000088273, 'batch_size': 32}. Best is trial 95 with value: 0.8841611678688541.\u001b[0m\n",
      "C:\\Users\\User\\AppData\\Local\\Temp\\ipykernel_5968\\4154129606.py:46: DeprecationWarning: KerasClassifier is deprecated, use Sci-Keras (https://github.com/adriangb/scikeras) instead. See https://www.adriangb.com/scikeras/stable/migration.html for help migrating.\n",
      "  ('classifier', KerasClassifier(build_fn=self.create_model, verbose=0))\n"
     ]
    },
    {
     "name": "stdout",
     "output_type": "stream",
     "text": [
      "195/195 [==============================] - 0s 1ms/step\n",
      "195/195 [==============================] - 0s 1ms/step\n",
      "195/195 [==============================] - 0s 1ms/step\n"
     ]
    },
    {
     "name": "stderr",
     "output_type": "stream",
     "text": [
      "\u001b[32m[I 2023-03-02 14:01:48,638]\u001b[0m Trial 96 finished with value: 0.8817900966632385 and parameters: {'units_1': 35, 'units_2': 23, 'alpha_1': 0.05507984980405851, 'alpha_2': 0.021709913227504936, 'dropout_1': 0.4174085950340644, 'dropout_2': 0.32542389146572154, 'l2_kern_1': 8.956676783276889e-05, 'l2_kern_2': 0.00032192521219091933, 'l2_bias_1': 2.2464111042627784e-05, 'l2_bias_2': 0.0003934614245635476, 'lr': 0.001750655115589871, 'batch_size': 32}. Best is trial 95 with value: 0.8841611678688541.\u001b[0m\n",
      "C:\\Users\\User\\AppData\\Local\\Temp\\ipykernel_5968\\4154129606.py:46: DeprecationWarning: KerasClassifier is deprecated, use Sci-Keras (https://github.com/adriangb/scikeras) instead. See https://www.adriangb.com/scikeras/stable/migration.html for help migrating.\n",
      "  ('classifier', KerasClassifier(build_fn=self.create_model, verbose=0))\n"
     ]
    },
    {
     "name": "stdout",
     "output_type": "stream",
     "text": [
      "195/195 [==============================] - 0s 2ms/step\n",
      "195/195 [==============================] - 0s 1ms/step\n",
      "195/195 [==============================] - 0s 1ms/step\n"
     ]
    },
    {
     "name": "stderr",
     "output_type": "stream",
     "text": [
      "\u001b[32m[I 2023-03-02 14:04:28,107]\u001b[0m Trial 97 finished with value: 0.883882379652221 and parameters: {'units_1': 34, 'units_2': 24, 'alpha_1': 0.05235355315232772, 'alpha_2': 0.021592232666589405, 'dropout_1': 0.4178279505036943, 'dropout_2': 0.25414291632613695, 'l2_kern_1': 8.648328407143257e-05, 'l2_kern_2': 0.0002057324625485503, 'l2_bias_1': 4.5673416476640204e-05, 'l2_bias_2': 0.00040112580461245414, 'lr': 0.0007524578461697642, 'batch_size': 32}. Best is trial 95 with value: 0.8841611678688541.\u001b[0m\n",
      "C:\\Users\\User\\AppData\\Local\\Temp\\ipykernel_5968\\4154129606.py:46: DeprecationWarning: KerasClassifier is deprecated, use Sci-Keras (https://github.com/adriangb/scikeras) instead. See https://www.adriangb.com/scikeras/stable/migration.html for help migrating.\n",
      "  ('classifier', KerasClassifier(build_fn=self.create_model, verbose=0))\n"
     ]
    },
    {
     "name": "stdout",
     "output_type": "stream",
     "text": [
      "195/195 [==============================] - 0s 1ms/step\n",
      "195/195 [==============================] - 0s 2ms/step\n",
      "195/195 [==============================] - 0s 1ms/step\n"
     ]
    },
    {
     "name": "stderr",
     "output_type": "stream",
     "text": [
      "\u001b[32m[I 2023-03-02 14:06:23,212]\u001b[0m Trial 98 finished with value: 0.8828804566247165 and parameters: {'units_1': 35, 'units_2': 24, 'alpha_1': 0.05232448995350388, 'alpha_2': 0.032542837709046396, 'dropout_1': 0.41584449399137, 'dropout_2': 0.24202252232645532, 'l2_kern_1': 8.879940218804125e-05, 'l2_kern_2': 0.00016045885957196942, 'l2_bias_1': 4.7000090408313835e-05, 'l2_bias_2': 0.00036490655868944444, 'lr': 0.0011029436576941419, 'batch_size': 32}. Best is trial 95 with value: 0.8841611678688541.\u001b[0m\n",
      "C:\\Users\\User\\AppData\\Local\\Temp\\ipykernel_5968\\4154129606.py:46: DeprecationWarning: KerasClassifier is deprecated, use Sci-Keras (https://github.com/adriangb/scikeras) instead. See https://www.adriangb.com/scikeras/stable/migration.html for help migrating.\n",
      "  ('classifier', KerasClassifier(build_fn=self.create_model, verbose=0))\n"
     ]
    },
    {
     "name": "stdout",
     "output_type": "stream",
     "text": [
      "195/195 [==============================] - 0s 1ms/step\n",
      "195/195 [==============================] - 0s 1ms/step\n",
      "195/195 [==============================] - 0s 1ms/step\n"
     ]
    },
    {
     "name": "stderr",
     "output_type": "stream",
     "text": [
      "\u001b[32m[I 2023-03-02 14:08:13,291]\u001b[0m Trial 99 finished with value: 0.8819421013319083 and parameters: {'units_1': 34, 'units_2': 23, 'alpha_1': 0.051127381184261425, 'alpha_2': 0.016979673971436997, 'dropout_1': 0.4062321578471198, 'dropout_2': 0.21412158016520033, 'l2_kern_1': 9.619843445398418e-05, 'l2_kern_2': 0.00016756307542769742, 'l2_bias_1': 4.350422661287113e-05, 'l2_bias_2': 0.0003385245311863412, 'lr': 0.0011348888718008825, 'batch_size': 32}. Best is trial 95 with value: 0.8841611678688541.\u001b[0m\n"
     ]
    },
    {
     "name": "stdout",
     "output_type": "stream",
     "text": [
      "Number of finished trials: 100\n",
      "Best trial:\n",
      "  Value: 0.8841611678688541\n",
      "    units_1: 37\n",
      "    units_2: 25\n",
      "    alpha_1: 0.05210625251603535\n",
      "    alpha_2: 0.02195344092214047\n",
      "    dropout_1: 0.4072956196463625\n",
      "    dropout_2: 0.25389495324898204\n",
      "    l2_kern_1: 9.28915293064181e-05\n",
      "    l2_kern_2: 0.00033272706769038536\n",
      "    l2_bias_1: 1.786797740931158e-05\n",
      "    l2_bias_2: 0.0004040644096473244\n",
      "    lr: 0.0016828629000088273\n",
      "    batch_size: 32\n"
     ]
    },
    {
     "name": "stderr",
     "output_type": "stream",
     "text": [
      "C:\\Users\\User\\AppData\\Local\\Temp\\ipykernel_5968\\4154129606.py:140: DeprecationWarning: KerasClassifier is deprecated, use Sci-Keras (https://github.com/adriangb/scikeras) instead. See https://www.adriangb.com/scikeras/stable/migration.html for help migrating.\n",
      "  ('classifier', KerasClassifier(build_fn=tun.create_model, verbose=0))\n"
     ]
    },
    {
     "name": "stdout",
     "output_type": "stream",
     "text": [
      "117/117 [==============================] - 0s 2ms/step\n",
      "117/117 [==============================] - 0s 1ms/step\n",
      "117/117 [==============================] - 0s 1ms/step\n",
      "117/117 [==============================] - 0s 1ms/step\n",
      "117/117 [==============================] - 0s 2ms/step\n",
      "37/37 [==============================] - 0s 2ms/step\n",
      "37/37 [==============================] - 0s 2ms/step\n",
      "37/37 [==============================] - 0s 2ms/step\n",
      "37/37 [==============================] - 0s 2ms/step\n",
      "37/37 [==============================] - 0s 2ms/step\n",
      "Train mean AUC score is 0.8839195673607371 while test mean AUC score is 0.8958723319517059.\n",
      "183/183 [==============================] - 0s 1ms/step\n",
      "              precision    recall  f1-score   support\n",
      "\n",
      "          No       0.91      0.97      0.94      4648\n",
      "         Yes       0.83      0.62      0.71      1186\n",
      "\n",
      "    accuracy                           0.90      5834\n",
      "   macro avg       0.87      0.79      0.82      5834\n",
      "weighted avg       0.89      0.90      0.89      5834\n",
      "\n"
     ]
    }
   ],
   "source": [
    "tun = tuning_methods(X_train, X_val, y_train,  y_val, X_test, y_test)\n",
    "trials = 100\n",
    "\n",
    "# Tree-structured Parzen Estimator\n",
    "params_tpe = tun.Tuning(n_trials=trials, sampler = optuna.samplers.TPESampler())\n",
    "tpe_scores = tun.Best_MLP_model(params_tpe)"
   ]
  },
  {
   "cell_type": "code",
   "execution_count": 6,
   "id": "fe26bed4",
   "metadata": {
    "scrolled": false
   },
   "outputs": [
    {
     "name": "stderr",
     "output_type": "stream",
     "text": [
      "\u001b[32m[I 2023-03-02 03:28:21,612]\u001b[0m A new study created in memory with name: no-name-711d97fb-40dd-4671-9bb7-eb85dc4855f4\u001b[0m\n",
      "C:\\Users\\User\\AppData\\Local\\Temp\\ipykernel_9660\\4154129606.py:46: DeprecationWarning: KerasClassifier is deprecated, use Sci-Keras (https://github.com/adriangb/scikeras) instead. See https://www.adriangb.com/scikeras/stable/migration.html for help migrating.\n",
      "  ('classifier', KerasClassifier(build_fn=self.create_model, verbose=0))\n"
     ]
    },
    {
     "name": "stdout",
     "output_type": "stream",
     "text": [
      "195/195 [==============================] - 0s 1ms/step\n",
      "195/195 [==============================] - 0s 1ms/step\n",
      "195/195 [==============================] - 0s 1ms/step\n"
     ]
    },
    {
     "name": "stderr",
     "output_type": "stream",
     "text": [
      "\u001b[32m[I 2023-03-02 03:29:05,789]\u001b[0m Trial 0 finished with value: 0.8743729991466039 and parameters: {'units_1': 20, 'units_2': 19, 'alpha_1': 0.0508767997767669, 'alpha_2': 0.02135056522662614, 'dropout_1': 0.3231322761875696, 'dropout_2': 0.4603393790639899, 'l2_kern_1': 0.007161915036401348, 'l2_kern_2': 0.0011940219496923764, 'l2_bias_1': 1.850113141009702e-05, 'l2_bias_2': 0.00808836146072827, 'lr': 0.0014636122779712187, 'batch_size': 64}. Best is trial 0 with value: 0.8743729991466039.\u001b[0m\n",
      "C:\\Users\\User\\AppData\\Local\\Temp\\ipykernel_9660\\4154129606.py:46: DeprecationWarning: KerasClassifier is deprecated, use Sci-Keras (https://github.com/adriangb/scikeras) instead. See https://www.adriangb.com/scikeras/stable/migration.html for help migrating.\n",
      "  ('classifier', KerasClassifier(build_fn=self.create_model, verbose=0))\n"
     ]
    },
    {
     "name": "stdout",
     "output_type": "stream",
     "text": [
      "195/195 [==============================] - 0s 1ms/step\n",
      "195/195 [==============================] - 0s 2ms/step\n",
      "195/195 [==============================] - 0s 2ms/step\n"
     ]
    },
    {
     "name": "stderr",
     "output_type": "stream",
     "text": [
      "\u001b[32m[I 2023-03-02 03:30:04,980]\u001b[0m Trial 1 finished with value: 0.866019269389315 and parameters: {'units_1': 17, 'units_2': 20, 'alpha_1': 0.018251306565743, 'alpha_2': 0.032861305776351636, 'dropout_1': 0.34534870247054483, 'dropout_2': 0.2190440589151384, 'l2_kern_1': 0.0005241337984031805, 'l2_kern_2': 0.007394191330339641, 'l2_bias_1': 4.159859096428988e-05, 'l2_bias_2': 0.001990372060250817, 'lr': 0.002734602232484103, 'batch_size': 64}. Best is trial 0 with value: 0.8743729991466039.\u001b[0m\n",
      "C:\\Users\\User\\AppData\\Local\\Temp\\ipykernel_9660\\4154129606.py:46: DeprecationWarning: KerasClassifier is deprecated, use Sci-Keras (https://github.com/adriangb/scikeras) instead. See https://www.adriangb.com/scikeras/stable/migration.html for help migrating.\n",
      "  ('classifier', KerasClassifier(build_fn=self.create_model, verbose=0))\n"
     ]
    },
    {
     "name": "stdout",
     "output_type": "stream",
     "text": [
      "195/195 [==============================] - 1s 2ms/step\n",
      "195/195 [==============================] - 0s 2ms/step\n",
      "195/195 [==============================] - 0s 2ms/step\n"
     ]
    },
    {
     "name": "stderr",
     "output_type": "stream",
     "text": [
      "\u001b[32m[I 2023-03-02 03:30:31,405]\u001b[0m Trial 2 finished with value: 0.8409246563064268 and parameters: {'units_1': 3, 'units_2': 9, 'alpha_1': 0.0943507643608397, 'alpha_2': 0.08320448703943527, 'dropout_1': 0.45536878797069785, 'dropout_2': 0.36463352596149157, 'l2_kern_1': 0.002941402951712686, 'l2_kern_2': 2.733785700061535e-05, 'l2_bias_1': 2.4659308687328295e-05, 'l2_bias_2': 0.00046963770937958216, 'lr': 0.0005266641027017363, 'batch_size': 1024}. Best is trial 0 with value: 0.8743729991466039.\u001b[0m\n",
      "C:\\Users\\User\\AppData\\Local\\Temp\\ipykernel_9660\\4154129606.py:46: DeprecationWarning: KerasClassifier is deprecated, use Sci-Keras (https://github.com/adriangb/scikeras) instead. See https://www.adriangb.com/scikeras/stable/migration.html for help migrating.\n",
      "  ('classifier', KerasClassifier(build_fn=self.create_model, verbose=0))\n"
     ]
    },
    {
     "name": "stdout",
     "output_type": "stream",
     "text": [
      "195/195 [==============================] - 0s 2ms/step\n",
      "195/195 [==============================] - 0s 1ms/step\n",
      "195/195 [==============================] - 0s 1ms/step\n"
     ]
    },
    {
     "name": "stderr",
     "output_type": "stream",
     "text": [
      "\u001b[32m[I 2023-03-02 03:31:12,294]\u001b[0m Trial 3 finished with value: 0.835493047975144 and parameters: {'units_1': 14, 'units_2': 13, 'alpha_1': 0.08049465262140615, 'alpha_2': 0.02378699604294785, 'dropout_1': 0.3528797280462574, 'dropout_2': 0.29411882941878037, 'l2_kern_1': 0.0014883062111559597, 'l2_kern_2': 2.797149614765274e-05, 'l2_bias_1': 6.73212784543035e-05, 'l2_bias_2': 0.005391445020665119, 'lr': 7.51111549805644e-05, 'batch_size': 512}. Best is trial 0 with value: 0.8743729991466039.\u001b[0m\n",
      "C:\\Users\\User\\AppData\\Local\\Temp\\ipykernel_9660\\4154129606.py:46: DeprecationWarning: KerasClassifier is deprecated, use Sci-Keras (https://github.com/adriangb/scikeras) instead. See https://www.adriangb.com/scikeras/stable/migration.html for help migrating.\n",
      "  ('classifier', KerasClassifier(build_fn=self.create_model, verbose=0))\n"
     ]
    },
    {
     "name": "stdout",
     "output_type": "stream",
     "text": [
      "195/195 [==============================] - 0s 1ms/step\n",
      "195/195 [==============================] - 0s 1ms/step\n",
      "195/195 [==============================] - 1s 3ms/step\n"
     ]
    },
    {
     "name": "stderr",
     "output_type": "stream",
     "text": [
      "\u001b[32m[I 2023-03-02 03:33:57,411]\u001b[0m Trial 4 finished with value: 0.8793953332357708 and parameters: {'units_1': 39, 'units_2': 39, 'alpha_1': 0.03209961237405381, 'alpha_2': 0.07804136657197817, 'dropout_1': 0.2604753142566597, 'dropout_2': 0.4851626555330522, 'l2_kern_1': 0.003978664140859475, 'l2_kern_2': 0.0041482816907197784, 'l2_bias_1': 5.496140170950468e-05, 'l2_bias_2': 3.468918687539345e-05, 'lr': 0.0004267161729852686, 'batch_size': 32}. Best is trial 4 with value: 0.8793953332357708.\u001b[0m\n",
      "C:\\Users\\User\\AppData\\Local\\Temp\\ipykernel_9660\\4154129606.py:46: DeprecationWarning: KerasClassifier is deprecated, use Sci-Keras (https://github.com/adriangb/scikeras) instead. See https://www.adriangb.com/scikeras/stable/migration.html for help migrating.\n",
      "  ('classifier', KerasClassifier(build_fn=self.create_model, verbose=0))\n"
     ]
    },
    {
     "name": "stdout",
     "output_type": "stream",
     "text": [
      "195/195 [==============================] - 0s 2ms/step\n",
      "195/195 [==============================] - 0s 1ms/step\n",
      "195/195 [==============================] - 0s 1ms/step\n"
     ]
    },
    {
     "name": "stderr",
     "output_type": "stream",
     "text": [
      "\u001b[32m[I 2023-03-02 03:34:29,083]\u001b[0m Trial 5 finished with value: 0.8903699507139367 and parameters: {'units_1': 37, 'units_2': 23, 'alpha_1': 0.03349519606693909, 'alpha_2': 0.011575049992672148, 'dropout_1': 0.2114537613928619, 'dropout_2': 0.45429747486484096, 'l2_kern_1': 1.2345640902292396e-05, 'l2_kern_2': 0.0005339431188815503, 'l2_bias_1': 0.00041779401566032886, 'l2_bias_2': 0.0031130716173870935, 'lr': 0.004086479715137101, 'batch_size': 512}. Best is trial 5 with value: 0.8903699507139367.\u001b[0m\n",
      "C:\\Users\\User\\AppData\\Local\\Temp\\ipykernel_9660\\4154129606.py:46: DeprecationWarning: KerasClassifier is deprecated, use Sci-Keras (https://github.com/adriangb/scikeras) instead. See https://www.adriangb.com/scikeras/stable/migration.html for help migrating.\n",
      "  ('classifier', KerasClassifier(build_fn=self.create_model, verbose=0))\n"
     ]
    },
    {
     "name": "stdout",
     "output_type": "stream",
     "text": [
      "195/195 [==============================] - 0s 2ms/step\n",
      "195/195 [==============================] - 0s 1ms/step\n",
      "195/195 [==============================] - 0s 2ms/step\n"
     ]
    },
    {
     "name": "stderr",
     "output_type": "stream",
     "text": [
      "\u001b[32m[I 2023-03-02 03:39:45,607]\u001b[0m Trial 6 finished with value: 0.8642212861197104 and parameters: {'units_1': 18, 'units_2': 30, 'alpha_1': 0.03628416514674914, 'alpha_2': 0.03430639863397261, 'dropout_1': 0.33051927469119374, 'dropout_2': 0.24025182491269426, 'l2_kern_1': 2.3182342617005316e-05, 'l2_kern_2': 1.9195654825115005e-05, 'l2_bias_1': 0.00036050870730896525, 'l2_bias_2': 0.0005973109958682314, 'lr': 9.916355438283926e-05, 'batch_size': 16}. Best is trial 5 with value: 0.8903699507139367.\u001b[0m\n",
      "C:\\Users\\User\\AppData\\Local\\Temp\\ipykernel_9660\\4154129606.py:46: DeprecationWarning: KerasClassifier is deprecated, use Sci-Keras (https://github.com/adriangb/scikeras) instead. See https://www.adriangb.com/scikeras/stable/migration.html for help migrating.\n",
      "  ('classifier', KerasClassifier(build_fn=self.create_model, verbose=0))\n"
     ]
    },
    {
     "name": "stdout",
     "output_type": "stream",
     "text": [
      "195/195 [==============================] - 0s 1ms/step\n",
      "195/195 [==============================] - 0s 2ms/step\n",
      "195/195 [==============================] - 0s 1ms/step\n"
     ]
    },
    {
     "name": "stderr",
     "output_type": "stream",
     "text": [
      "\u001b[32m[I 2023-03-02 03:40:12,030]\u001b[0m Trial 7 finished with value: 0.8567383587680375 and parameters: {'units_1': 20, 'units_2': 30, 'alpha_1': 0.08768080545938094, 'alpha_2': 0.052710615031410335, 'dropout_1': 0.20207816407306214, 'dropout_2': 0.4072199783769178, 'l2_kern_1': 0.0017279831063993665, 'l2_kern_2': 0.003799526827392207, 'l2_bias_1': 0.0011664346223118573, 'l2_bias_2': 0.004939800747765621, 'lr': 0.0005258070530133094, 'batch_size': 1024}. Best is trial 5 with value: 0.8903699507139367.\u001b[0m\n",
      "C:\\Users\\User\\AppData\\Local\\Temp\\ipykernel_9660\\4154129606.py:46: DeprecationWarning: KerasClassifier is deprecated, use Sci-Keras (https://github.com/adriangb/scikeras) instead. See https://www.adriangb.com/scikeras/stable/migration.html for help migrating.\n",
      "  ('classifier', KerasClassifier(build_fn=self.create_model, verbose=0))\n"
     ]
    },
    {
     "name": "stdout",
     "output_type": "stream",
     "text": [
      "195/195 [==============================] - 0s 2ms/step\n",
      "195/195 [==============================] - 0s 2ms/step\n",
      "195/195 [==============================] - 0s 1ms/step\n"
     ]
    },
    {
     "name": "stderr",
     "output_type": "stream",
     "text": [
      "\u001b[32m[I 2023-03-02 03:40:50,084]\u001b[0m Trial 8 finished with value: 0.8617964306503368 and parameters: {'units_1': 14, 'units_2': 29, 'alpha_1': 0.09024558660092658, 'alpha_2': 0.049346288608677964, 'dropout_1': 0.4982235227645686, 'dropout_2': 0.2680805952352967, 'l2_kern_1': 1.5653483659769655e-05, 'l2_kern_2': 5.378156217375155e-05, 'l2_bias_1': 6.029314030646659e-05, 'l2_bias_2': 0.0002438261821273153, 'lr': 0.0009741985970062527, 'batch_size': 128}. Best is trial 5 with value: 0.8903699507139367.\u001b[0m\n",
      "C:\\Users\\User\\AppData\\Local\\Temp\\ipykernel_9660\\4154129606.py:46: DeprecationWarning: KerasClassifier is deprecated, use Sci-Keras (https://github.com/adriangb/scikeras) instead. See https://www.adriangb.com/scikeras/stable/migration.html for help migrating.\n",
      "  ('classifier', KerasClassifier(build_fn=self.create_model, verbose=0))\n"
     ]
    },
    {
     "name": "stdout",
     "output_type": "stream",
     "text": [
      "195/195 [==============================] - 0s 1ms/step\n",
      "195/195 [==============================] - 0s 1ms/step\n",
      "195/195 [==============================] - 0s 1ms/step\n"
     ]
    },
    {
     "name": "stderr",
     "output_type": "stream",
     "text": [
      "\u001b[32m[I 2023-03-02 03:41:35,994]\u001b[0m Trial 9 finished with value: 0.8820570205126765 and parameters: {'units_1': 24, 'units_2': 30, 'alpha_1': 0.04296019947586001, 'alpha_2': 0.06794717904299408, 'dropout_1': 0.27072165089890904, 'dropout_2': 0.3884754056661651, 'l2_kern_1': 0.00042554526120587306, 'l2_kern_2': 7.7819948680069e-05, 'l2_bias_1': 5.835795368412066e-05, 'l2_bias_2': 0.0025882587237993594, 'lr': 0.0012959049176497247, 'batch_size': 128}. Best is trial 5 with value: 0.8903699507139367.\u001b[0m\n",
      "C:\\Users\\User\\AppData\\Local\\Temp\\ipykernel_9660\\4154129606.py:46: DeprecationWarning: KerasClassifier is deprecated, use Sci-Keras (https://github.com/adriangb/scikeras) instead. See https://www.adriangb.com/scikeras/stable/migration.html for help migrating.\n",
      "  ('classifier', KerasClassifier(build_fn=self.create_model, verbose=0))\n"
     ]
    },
    {
     "name": "stdout",
     "output_type": "stream",
     "text": [
      "195/195 [==============================] - 0s 1ms/step\n",
      "195/195 [==============================] - 0s 1ms/step\n",
      "195/195 [==============================] - 0s 1ms/step\n"
     ]
    },
    {
     "name": "stderr",
     "output_type": "stream",
     "text": [
      "\u001b[32m[I 2023-03-02 03:42:15,002]\u001b[0m Trial 10 finished with value: 0.8482613427907871 and parameters: {'units_1': 14, 'units_2': 26, 'alpha_1': 0.08411074379342696, 'alpha_2': 0.08890590749313675, 'dropout_1': 0.31165574849241623, 'dropout_2': 0.29525190615639085, 'l2_kern_1': 0.006690674093645812, 'l2_kern_2': 0.003699146278418762, 'l2_bias_1': 1.2183471599118935e-05, 'l2_bias_2': 0.0031847426943472966, 'lr': 0.00015016344155980348, 'batch_size': 512}. Best is trial 5 with value: 0.8903699507139367.\u001b[0m\n",
      "C:\\Users\\User\\AppData\\Local\\Temp\\ipykernel_9660\\4154129606.py:46: DeprecationWarning: KerasClassifier is deprecated, use Sci-Keras (https://github.com/adriangb/scikeras) instead. See https://www.adriangb.com/scikeras/stable/migration.html for help migrating.\n",
      "  ('classifier', KerasClassifier(build_fn=self.create_model, verbose=0))\n"
     ]
    },
    {
     "name": "stdout",
     "output_type": "stream",
     "text": [
      "195/195 [==============================] - 0s 1ms/step\n",
      "195/195 [==============================] - 0s 2ms/step\n",
      "195/195 [==============================] - 1s 3ms/step\n"
     ]
    },
    {
     "name": "stderr",
     "output_type": "stream",
     "text": [
      "\u001b[32m[I 2023-03-02 03:42:55,260]\u001b[0m Trial 11 finished with value: 0.8456507982440953 and parameters: {'units_1': 10, 'units_2': 18, 'alpha_1': 0.07916669586247121, 'alpha_2': 0.012298975093399972, 'dropout_1': 0.3461881239721354, 'dropout_2': 0.36894263254199855, 'l2_kern_1': 0.00063100346103376, 'l2_kern_2': 0.001532743344207149, 'l2_bias_1': 0.0002610737756675019, 'l2_bias_2': 0.00012909659114657265, 'lr': 0.00012961119122296372, 'batch_size': 128}. Best is trial 5 with value: 0.8903699507139367.\u001b[0m\n",
      "C:\\Users\\User\\AppData\\Local\\Temp\\ipykernel_9660\\4154129606.py:46: DeprecationWarning: KerasClassifier is deprecated, use Sci-Keras (https://github.com/adriangb/scikeras) instead. See https://www.adriangb.com/scikeras/stable/migration.html for help migrating.\n",
      "  ('classifier', KerasClassifier(build_fn=self.create_model, verbose=0))\n"
     ]
    },
    {
     "name": "stdout",
     "output_type": "stream",
     "text": [
      "195/195 [==============================] - 0s 1ms/step\n",
      "195/195 [==============================] - 0s 1ms/step\n",
      "195/195 [==============================] - 0s 1ms/step\n"
     ]
    },
    {
     "name": "stderr",
     "output_type": "stream",
     "text": [
      "\u001b[32m[I 2023-03-02 03:45:11,325]\u001b[0m Trial 12 finished with value: 0.841367518708442 and parameters: {'units_1': 4, 'units_2': 14, 'alpha_1': 0.02430569730594253, 'alpha_2': 0.056269649999888344, 'dropout_1': 0.24840137598376555, 'dropout_2': 0.21123788840781593, 'l2_kern_1': 3.019657924728012e-05, 'l2_kern_2': 0.0002866711475870987, 'l2_bias_1': 0.004820299212884174, 'l2_bias_2': 0.0003274864859281253, 'lr': 9.070594123491566e-05, 'batch_size': 16}. Best is trial 5 with value: 0.8903699507139367.\u001b[0m\n",
      "C:\\Users\\User\\AppData\\Local\\Temp\\ipykernel_9660\\4154129606.py:46: DeprecationWarning: KerasClassifier is deprecated, use Sci-Keras (https://github.com/adriangb/scikeras) instead. See https://www.adriangb.com/scikeras/stable/migration.html for help migrating.\n",
      "  ('classifier', KerasClassifier(build_fn=self.create_model, verbose=0))\n"
     ]
    },
    {
     "name": "stdout",
     "output_type": "stream",
     "text": [
      "195/195 [==============================] - 0s 1ms/step\n",
      "195/195 [==============================] - 0s 2ms/step\n",
      "195/195 [==============================] - 0s 1ms/step\n"
     ]
    },
    {
     "name": "stderr",
     "output_type": "stream",
     "text": [
      "\u001b[32m[I 2023-03-02 03:47:31,051]\u001b[0m Trial 13 finished with value: 0.8413631978316484 and parameters: {'units_1': 2, 'units_2': 27, 'alpha_1': 0.031082295412297838, 'alpha_2': 0.056433161664700866, 'dropout_1': 0.4227915556782541, 'dropout_2': 0.3249113067298063, 'l2_kern_1': 0.00010889800433452017, 'l2_kern_2': 3.2693465036218226e-05, 'l2_bias_1': 6.0639622268520965e-05, 'l2_bias_2': 0.006538864420658677, 'lr': 0.00021411439562812407, 'batch_size': 32}. Best is trial 5 with value: 0.8903699507139367.\u001b[0m\n",
      "C:\\Users\\User\\AppData\\Local\\Temp\\ipykernel_9660\\4154129606.py:46: DeprecationWarning: KerasClassifier is deprecated, use Sci-Keras (https://github.com/adriangb/scikeras) instead. See https://www.adriangb.com/scikeras/stable/migration.html for help migrating.\n",
      "  ('classifier', KerasClassifier(build_fn=self.create_model, verbose=0))\n"
     ]
    },
    {
     "name": "stdout",
     "output_type": "stream",
     "text": [
      "195/195 [==============================] - 0s 1ms/step\n",
      "195/195 [==============================] - 0s 1ms/step\n",
      "195/195 [==============================] - 0s 1ms/step\n"
     ]
    },
    {
     "name": "stderr",
     "output_type": "stream",
     "text": [
      "\u001b[32m[I 2023-03-02 03:48:06,958]\u001b[0m Trial 14 finished with value: 0.8668855618383825 and parameters: {'units_1': 31, 'units_2': 27, 'alpha_1': 0.05482309885860124, 'alpha_2': 0.07489061480710078, 'dropout_1': 0.49669677085417535, 'dropout_2': 0.3883419337357209, 'l2_kern_1': 4.842483638339292e-05, 'l2_kern_2': 1.7292094957190805e-05, 'l2_bias_1': 0.0008584250048590472, 'l2_bias_2': 0.00034556095212153804, 'lr': 0.0007557922264592107, 'batch_size': 128}. Best is trial 5 with value: 0.8903699507139367.\u001b[0m\n",
      "C:\\Users\\User\\AppData\\Local\\Temp\\ipykernel_9660\\4154129606.py:46: DeprecationWarning: KerasClassifier is deprecated, use Sci-Keras (https://github.com/adriangb/scikeras) instead. See https://www.adriangb.com/scikeras/stable/migration.html for help migrating.\n",
      "  ('classifier', KerasClassifier(build_fn=self.create_model, verbose=0))\n"
     ]
    },
    {
     "name": "stdout",
     "output_type": "stream",
     "text": [
      "195/195 [==============================] - 0s 2ms/step\n",
      "195/195 [==============================] - 0s 1ms/step\n",
      "195/195 [==============================] - 0s 1ms/step\n"
     ]
    },
    {
     "name": "stderr",
     "output_type": "stream",
     "text": [
      "\u001b[32m[I 2023-03-02 03:52:56,156]\u001b[0m Trial 15 finished with value: 0.8845854423744948 and parameters: {'units_1': 36, 'units_2': 19, 'alpha_1': 0.030192029562564233, 'alpha_2': 0.037891499645238864, 'dropout_1': 0.24690427273693044, 'dropout_2': 0.408248790306336, 'l2_kern_1': 0.00047946575944748937, 'l2_kern_2': 0.00021408591983948914, 'l2_bias_1': 0.008481868697832193, 'l2_bias_2': 2.8709202176587553e-05, 'lr': 0.0006952150834025123, 'batch_size': 16}. Best is trial 5 with value: 0.8903699507139367.\u001b[0m\n",
      "C:\\Users\\User\\AppData\\Local\\Temp\\ipykernel_9660\\4154129606.py:46: DeprecationWarning: KerasClassifier is deprecated, use Sci-Keras (https://github.com/adriangb/scikeras) instead. See https://www.adriangb.com/scikeras/stable/migration.html for help migrating.\n",
      "  ('classifier', KerasClassifier(build_fn=self.create_model, verbose=0))\n"
     ]
    },
    {
     "name": "stdout",
     "output_type": "stream",
     "text": [
      "195/195 [==============================] - 0s 2ms/step\n",
      "195/195 [==============================] - 0s 2ms/step\n",
      "195/195 [==============================] - 0s 2ms/step\n"
     ]
    },
    {
     "name": "stderr",
     "output_type": "stream",
     "text": [
      "\u001b[32m[I 2023-03-02 03:54:33,657]\u001b[0m Trial 16 finished with value: 0.8472207318844293 and parameters: {'units_1': 27, 'units_2': 26, 'alpha_1': 0.09622399182035886, 'alpha_2': 0.0975765985480476, 'dropout_1': 0.48725123490444644, 'dropout_2': 0.4480571185621735, 'l2_kern_1': 6.250474131852846e-05, 'l2_kern_2': 0.0023195974612210315, 'l2_bias_1': 0.003097970517484986, 'l2_bias_2': 0.0005646924891468119, 'lr': 5.142453774927814e-05, 'batch_size': 64}. Best is trial 5 with value: 0.8903699507139367.\u001b[0m\n",
      "C:\\Users\\User\\AppData\\Local\\Temp\\ipykernel_9660\\4154129606.py:46: DeprecationWarning: KerasClassifier is deprecated, use Sci-Keras (https://github.com/adriangb/scikeras) instead. See https://www.adriangb.com/scikeras/stable/migration.html for help migrating.\n",
      "  ('classifier', KerasClassifier(build_fn=self.create_model, verbose=0))\n"
     ]
    },
    {
     "name": "stdout",
     "output_type": "stream",
     "text": [
      "195/195 [==============================] - 0s 1ms/step\n",
      "195/195 [==============================] - 0s 1ms/step\n",
      "195/195 [==============================] - 0s 1ms/step\n"
     ]
    },
    {
     "name": "stderr",
     "output_type": "stream",
     "text": [
      "\u001b[32m[I 2023-03-02 03:59:19,407]\u001b[0m Trial 17 finished with value: 0.8594270221025896 and parameters: {'units_1': 24, 'units_2': 31, 'alpha_1': 0.08846935671172039, 'alpha_2': 0.06690511340540281, 'dropout_1': 0.3165334324839738, 'dropout_2': 0.3905342603223101, 'l2_kern_1': 3.440464189992902e-05, 'l2_kern_2': 1.2167225853580074e-05, 'l2_bias_1': 0.00010534023276399367, 'l2_bias_2': 2.0484147965969205e-05, 'lr': 6.632636543323006e-05, 'batch_size': 16}. Best is trial 5 with value: 0.8903699507139367.\u001b[0m\n",
      "C:\\Users\\User\\AppData\\Local\\Temp\\ipykernel_9660\\4154129606.py:46: DeprecationWarning: KerasClassifier is deprecated, use Sci-Keras (https://github.com/adriangb/scikeras) instead. See https://www.adriangb.com/scikeras/stable/migration.html for help migrating.\n",
      "  ('classifier', KerasClassifier(build_fn=self.create_model, verbose=0))\n"
     ]
    },
    {
     "name": "stdout",
     "output_type": "stream",
     "text": [
      "195/195 [==============================] - 0s 1ms/step\n",
      "195/195 [==============================] - 0s 1ms/step\n",
      "195/195 [==============================] - 0s 1ms/step\n"
     ]
    },
    {
     "name": "stderr",
     "output_type": "stream",
     "text": [
      "\u001b[32m[I 2023-03-02 03:59:45,105]\u001b[0m Trial 18 finished with value: 0.8421570446921708 and parameters: {'units_1': 23, 'units_2': 24, 'alpha_1': 0.04045518175990762, 'alpha_2': 0.0921804486488272, 'dropout_1': 0.4506321875581521, 'dropout_2': 0.2350073760422659, 'l2_kern_1': 1.5093439210312143e-05, 'l2_kern_2': 2.463775355337098e-05, 'l2_bias_1': 0.00047967914459048254, 'l2_bias_2': 0.0003270054241102009, 'lr': 0.0001750574431200373, 'batch_size': 512}. Best is trial 5 with value: 0.8903699507139367.\u001b[0m\n",
      "C:\\Users\\User\\AppData\\Local\\Temp\\ipykernel_9660\\4154129606.py:46: DeprecationWarning: KerasClassifier is deprecated, use Sci-Keras (https://github.com/adriangb/scikeras) instead. See https://www.adriangb.com/scikeras/stable/migration.html for help migrating.\n",
      "  ('classifier', KerasClassifier(build_fn=self.create_model, verbose=0))\n"
     ]
    },
    {
     "name": "stdout",
     "output_type": "stream",
     "text": [
      "195/195 [==============================] - 0s 1ms/step\n",
      "195/195 [==============================] - 0s 1ms/step\n",
      "195/195 [==============================] - 0s 1ms/step\n"
     ]
    },
    {
     "name": "stderr",
     "output_type": "stream",
     "text": [
      "\u001b[32m[I 2023-03-02 04:00:42,241]\u001b[0m Trial 19 finished with value: 0.8675398478004648 and parameters: {'units_1': 28, 'units_2': 27, 'alpha_1': 0.022433275811954943, 'alpha_2': 0.018506598221586776, 'dropout_1': 0.47788437675305895, 'dropout_2': 0.21528715235010285, 'l2_kern_1': 0.0011272104089166451, 'l2_kern_2': 0.004180108101305945, 'l2_bias_1': 0.003066846894042289, 'l2_bias_2': 0.00038954115083103053, 'lr': 0.0009046594268861472, 'batch_size': 32}. Best is trial 5 with value: 0.8903699507139367.\u001b[0m\n",
      "C:\\Users\\User\\AppData\\Local\\Temp\\ipykernel_9660\\4154129606.py:46: DeprecationWarning: KerasClassifier is deprecated, use Sci-Keras (https://github.com/adriangb/scikeras) instead. See https://www.adriangb.com/scikeras/stable/migration.html for help migrating.\n",
      "  ('classifier', KerasClassifier(build_fn=self.create_model, verbose=0))\n"
     ]
    },
    {
     "name": "stdout",
     "output_type": "stream",
     "text": [
      "195/195 [==============================] - 0s 1ms/step\n",
      "195/195 [==============================] - 0s 1ms/step\n",
      "195/195 [==============================] - 0s 1ms/step\n"
     ]
    },
    {
     "name": "stderr",
     "output_type": "stream",
     "text": [
      "\u001b[32m[I 2023-03-02 04:00:58,106]\u001b[0m Trial 20 finished with value: 0.8608980896392469 and parameters: {'units_1': 10, 'units_2': 11, 'alpha_1': 0.011480134686965265, 'alpha_2': 0.04671614400498449, 'dropout_1': 0.3096853797888527, 'dropout_2': 0.4816805265622174, 'l2_kern_1': 4.737026857410896e-05, 'l2_kern_2': 1.1150436896191185e-05, 'l2_bias_1': 9.804627870115386e-05, 'l2_bias_2': 0.00012360265064182015, 'lr': 0.0037467705446222093, 'batch_size': 512}. Best is trial 5 with value: 0.8903699507139367.\u001b[0m\n",
      "C:\\Users\\User\\AppData\\Local\\Temp\\ipykernel_9660\\4154129606.py:46: DeprecationWarning: KerasClassifier is deprecated, use Sci-Keras (https://github.com/adriangb/scikeras) instead. See https://www.adriangb.com/scikeras/stable/migration.html for help migrating.\n",
      "  ('classifier', KerasClassifier(build_fn=self.create_model, verbose=0))\n"
     ]
    },
    {
     "name": "stdout",
     "output_type": "stream",
     "text": [
      "195/195 [==============================] - 0s 1ms/step\n",
      "195/195 [==============================] - 0s 1ms/step\n",
      "195/195 [==============================] - 0s 2ms/step\n"
     ]
    },
    {
     "name": "stderr",
     "output_type": "stream",
     "text": [
      "\u001b[32m[I 2023-03-02 04:01:18,851]\u001b[0m Trial 21 finished with value: 0.8504091802860144 and parameters: {'units_1': 5, 'units_2': 9, 'alpha_1': 0.06042929535027668, 'alpha_2': 0.05647009230068549, 'dropout_1': 0.4397976745451979, 'dropout_2': 0.34838314927382963, 'l2_kern_1': 0.0013412811414153752, 'l2_kern_2': 0.00012382928937025825, 'l2_bias_1': 0.0025083114090534812, 'l2_bias_2': 1.0115123366067764e-05, 'lr': 0.005281193835264608, 'batch_size': 128}. Best is trial 5 with value: 0.8903699507139367.\u001b[0m\n",
      "C:\\Users\\User\\AppData\\Local\\Temp\\ipykernel_9660\\4154129606.py:46: DeprecationWarning: KerasClassifier is deprecated, use Sci-Keras (https://github.com/adriangb/scikeras) instead. See https://www.adriangb.com/scikeras/stable/migration.html for help migrating.\n",
      "  ('classifier', KerasClassifier(build_fn=self.create_model, verbose=0))\n"
     ]
    },
    {
     "name": "stdout",
     "output_type": "stream",
     "text": [
      "195/195 [==============================] - 0s 1ms/step\n",
      "195/195 [==============================] - 0s 2ms/step\n",
      "195/195 [==============================] - 0s 2ms/step\n"
     ]
    },
    {
     "name": "stderr",
     "output_type": "stream",
     "text": [
      "\u001b[32m[I 2023-03-02 04:03:14,150]\u001b[0m Trial 22 finished with value: 0.8689483111937838 and parameters: {'units_1': 38, 'units_2': 36, 'alpha_1': 0.09926230453109672, 'alpha_2': 0.08451442640013845, 'dropout_1': 0.2714200964428478, 'dropout_2': 0.30886992497905374, 'l2_kern_1': 0.001828571770332745, 'l2_kern_2': 0.00022778461042248472, 'l2_bias_1': 0.008184430249023104, 'l2_bias_2': 0.006742512452977607, 'lr': 0.00011639711364940543, 'batch_size': 64}. Best is trial 5 with value: 0.8903699507139367.\u001b[0m\n",
      "C:\\Users\\User\\AppData\\Local\\Temp\\ipykernel_9660\\4154129606.py:46: DeprecationWarning: KerasClassifier is deprecated, use Sci-Keras (https://github.com/adriangb/scikeras) instead. See https://www.adriangb.com/scikeras/stable/migration.html for help migrating.\n",
      "  ('classifier', KerasClassifier(build_fn=self.create_model, verbose=0))\n"
     ]
    },
    {
     "name": "stdout",
     "output_type": "stream",
     "text": [
      "195/195 [==============================] - 0s 1ms/step\n",
      "195/195 [==============================] - 0s 1ms/step\n",
      "195/195 [==============================] - 0s 1ms/step\n"
     ]
    },
    {
     "name": "stderr",
     "output_type": "stream",
     "text": [
      "\u001b[32m[I 2023-03-02 04:07:59,496]\u001b[0m Trial 23 finished with value: 0.8707768397914739 and parameters: {'units_1': 21, 'units_2': 28, 'alpha_1': 0.028323193944836338, 'alpha_2': 0.058894140951515815, 'dropout_1': 0.29280497523368815, 'dropout_2': 0.22763590630858987, 'l2_kern_1': 0.0004934549063106927, 'l2_kern_2': 0.00020352498032242256, 'l2_bias_1': 5.2150724232326786e-05, 'l2_bias_2': 3.9576345389163534e-05, 'lr': 0.00013530904516744646, 'batch_size': 16}. Best is trial 5 with value: 0.8903699507139367.\u001b[0m\n",
      "C:\\Users\\User\\AppData\\Local\\Temp\\ipykernel_9660\\4154129606.py:46: DeprecationWarning: KerasClassifier is deprecated, use Sci-Keras (https://github.com/adriangb/scikeras) instead. See https://www.adriangb.com/scikeras/stable/migration.html for help migrating.\n",
      "  ('classifier', KerasClassifier(build_fn=self.create_model, verbose=0))\n"
     ]
    },
    {
     "name": "stdout",
     "output_type": "stream",
     "text": [
      "195/195 [==============================] - 0s 1ms/step\n",
      "195/195 [==============================] - 0s 1ms/step\n",
      "195/195 [==============================] - 0s 2ms/step\n"
     ]
    },
    {
     "name": "stderr",
     "output_type": "stream",
     "text": [
      "\u001b[32m[I 2023-03-02 04:08:19,860]\u001b[0m Trial 24 finished with value: 0.8623258944882908 and parameters: {'units_1': 19, 'units_2': 40, 'alpha_1': 0.025995387710289947, 'alpha_2': 0.03134446334361437, 'dropout_1': 0.38516844419393037, 'dropout_2': 0.275730216443793, 'l2_kern_1': 0.0002662658244502482, 'l2_kern_2': 0.006028016763727196, 'l2_bias_1': 0.0021463040686169966, 'l2_bias_2': 0.000721701017028464, 'lr': 0.003797172309450372, 'batch_size': 512}. Best is trial 5 with value: 0.8903699507139367.\u001b[0m\n",
      "C:\\Users\\User\\AppData\\Local\\Temp\\ipykernel_9660\\4154129606.py:46: DeprecationWarning: KerasClassifier is deprecated, use Sci-Keras (https://github.com/adriangb/scikeras) instead. See https://www.adriangb.com/scikeras/stable/migration.html for help migrating.\n",
      "  ('classifier', KerasClassifier(build_fn=self.create_model, verbose=0))\n"
     ]
    },
    {
     "name": "stdout",
     "output_type": "stream",
     "text": [
      "195/195 [==============================] - 0s 1ms/step\n",
      "195/195 [==============================] - 0s 1ms/step\n",
      "195/195 [==============================] - 0s 1ms/step\n"
     ]
    },
    {
     "name": "stderr",
     "output_type": "stream",
     "text": [
      "\u001b[32m[I 2023-03-02 04:08:49,768]\u001b[0m Trial 25 finished with value: 0.8723836965662838 and parameters: {'units_1': 27, 'units_2': 38, 'alpha_1': 0.04712435122921937, 'alpha_2': 0.02247290811550016, 'dropout_1': 0.37167650003928154, 'dropout_2': 0.37123150954604517, 'l2_kern_1': 0.004616920135052495, 'l2_kern_2': 9.52485529810085e-05, 'l2_bias_1': 0.00037429691989605005, 'l2_bias_2': 0.0013561753716377287, 'lr': 0.009371490596212662, 'batch_size': 128}. Best is trial 5 with value: 0.8903699507139367.\u001b[0m\n",
      "C:\\Users\\User\\AppData\\Local\\Temp\\ipykernel_9660\\4154129606.py:46: DeprecationWarning: KerasClassifier is deprecated, use Sci-Keras (https://github.com/adriangb/scikeras) instead. See https://www.adriangb.com/scikeras/stable/migration.html for help migrating.\n",
      "  ('classifier', KerasClassifier(build_fn=self.create_model, verbose=0))\n"
     ]
    },
    {
     "name": "stdout",
     "output_type": "stream",
     "text": [
      "195/195 [==============================] - 0s 1ms/step\n",
      "195/195 [==============================] - 0s 2ms/step\n",
      "195/195 [==============================] - 0s 1ms/step\n"
     ]
    },
    {
     "name": "stderr",
     "output_type": "stream",
     "text": [
      "\u001b[32m[I 2023-03-02 04:10:53,459]\u001b[0m Trial 26 finished with value: 0.8839904038647058 and parameters: {'units_1': 38, 'units_2': 18, 'alpha_1': 0.0349275845031518, 'alpha_2': 0.05544729180541246, 'dropout_1': 0.3753817612984366, 'dropout_2': 0.4475182155086198, 'l2_kern_1': 0.0006759161915178676, 'l2_kern_2': 0.001103151728821175, 'l2_bias_1': 9.89661971812705e-05, 'l2_bias_2': 0.0001097223712991401, 'lr': 0.0016065729394663941, 'batch_size': 32}. Best is trial 5 with value: 0.8903699507139367.\u001b[0m\n",
      "C:\\Users\\User\\AppData\\Local\\Temp\\ipykernel_9660\\4154129606.py:46: DeprecationWarning: KerasClassifier is deprecated, use Sci-Keras (https://github.com/adriangb/scikeras) instead. See https://www.adriangb.com/scikeras/stable/migration.html for help migrating.\n",
      "  ('classifier', KerasClassifier(build_fn=self.create_model, verbose=0))\n"
     ]
    },
    {
     "name": "stdout",
     "output_type": "stream",
     "text": [
      "195/195 [==============================] - 0s 1ms/step\n",
      "195/195 [==============================] - 0s 1ms/step\n",
      "195/195 [==============================] - 0s 1ms/step\n"
     ]
    },
    {
     "name": "stderr",
     "output_type": "stream",
     "text": [
      "\u001b[32m[I 2023-03-02 04:11:18,426]\u001b[0m Trial 27 finished with value: 0.8666952594230851 and parameters: {'units_1': 36, 'units_2': 25, 'alpha_1': 0.06575997853390741, 'alpha_2': 0.051148759182467564, 'dropout_1': 0.4484045235428302, 'dropout_2': 0.27772820685649674, 'l2_kern_1': 3.5162757939049366e-05, 'l2_kern_2': 0.0077533916076235705, 'l2_bias_1': 0.00010602525828372266, 'l2_bias_2': 0.0007060237650164714, 'lr': 0.0013965955454183579, 'batch_size': 512}. Best is trial 5 with value: 0.8903699507139367.\u001b[0m\n",
      "C:\\Users\\User\\AppData\\Local\\Temp\\ipykernel_9660\\4154129606.py:46: DeprecationWarning: KerasClassifier is deprecated, use Sci-Keras (https://github.com/adriangb/scikeras) instead. See https://www.adriangb.com/scikeras/stable/migration.html for help migrating.\n",
      "  ('classifier', KerasClassifier(build_fn=self.create_model, verbose=0))\n"
     ]
    },
    {
     "name": "stdout",
     "output_type": "stream",
     "text": [
      "195/195 [==============================] - 0s 1ms/step\n",
      "195/195 [==============================] - 0s 1ms/step\n",
      "195/195 [==============================] - 0s 1ms/step\n"
     ]
    },
    {
     "name": "stderr",
     "output_type": "stream",
     "text": [
      "\u001b[32m[I 2023-03-02 04:11:34,294]\u001b[0m Trial 28 finished with value: 0.8701079709763548 and parameters: {'units_1': 24, 'units_2': 32, 'alpha_1': 0.06272532389829372, 'alpha_2': 0.09529539232692437, 'dropout_1': 0.394677197066463, 'dropout_2': 0.30858723808206223, 'l2_kern_1': 0.004584113883665941, 'l2_kern_2': 0.0002371925026929679, 'l2_bias_1': 0.005781316137267899, 'l2_bias_2': 4.002301781633438e-05, 'lr': 0.009312029876089306, 'batch_size': 1024}. Best is trial 5 with value: 0.8903699507139367.\u001b[0m\n",
      "C:\\Users\\User\\AppData\\Local\\Temp\\ipykernel_9660\\4154129606.py:46: DeprecationWarning: KerasClassifier is deprecated, use Sci-Keras (https://github.com/adriangb/scikeras) instead. See https://www.adriangb.com/scikeras/stable/migration.html for help migrating.\n",
      "  ('classifier', KerasClassifier(build_fn=self.create_model, verbose=0))\n"
     ]
    },
    {
     "name": "stdout",
     "output_type": "stream",
     "text": [
      "195/195 [==============================] - 0s 1ms/step\n",
      "195/195 [==============================] - 0s 1ms/step\n",
      "195/195 [==============================] - 0s 1ms/step\n"
     ]
    },
    {
     "name": "stderr",
     "output_type": "stream",
     "text": [
      "\u001b[32m[I 2023-03-02 04:13:23,082]\u001b[0m Trial 29 finished with value: 0.8695710391992341 and parameters: {'units_1': 21, 'units_2': 4, 'alpha_1': 0.045785636331271216, 'alpha_2': 0.061309448664299174, 'dropout_1': 0.42744086838339546, 'dropout_2': 0.24446665528871228, 'l2_kern_1': 0.008159975678368526, 'l2_kern_2': 0.0013694820640528396, 'l2_bias_1': 0.00015019020196757753, 'l2_bias_2': 0.00010245569922007703, 'lr': 0.0010261242822866524, 'batch_size': 16}. Best is trial 5 with value: 0.8903699507139367.\u001b[0m\n",
      "C:\\Users\\User\\AppData\\Local\\Temp\\ipykernel_9660\\4154129606.py:46: DeprecationWarning: KerasClassifier is deprecated, use Sci-Keras (https://github.com/adriangb/scikeras) instead. See https://www.adriangb.com/scikeras/stable/migration.html for help migrating.\n",
      "  ('classifier', KerasClassifier(build_fn=self.create_model, verbose=0))\n"
     ]
    },
    {
     "name": "stdout",
     "output_type": "stream",
     "text": [
      "195/195 [==============================] - 0s 2ms/step\n",
      "195/195 [==============================] - 0s 1ms/step\n",
      "195/195 [==============================] - 0s 1ms/step\n"
     ]
    },
    {
     "name": "stderr",
     "output_type": "stream",
     "text": [
      "\u001b[32m[I 2023-03-02 04:13:39,238]\u001b[0m Trial 30 finished with value: 0.8720201292077937 and parameters: {'units_1': 20, 'units_2': 24, 'alpha_1': 0.020798572782889397, 'alpha_2': 0.01080475013799695, 'dropout_1': 0.4425168150395777, 'dropout_2': 0.30232785140809165, 'l2_kern_1': 4.183155461378782e-05, 'l2_kern_2': 2.283655698533572e-05, 'l2_bias_1': 0.0021236877429898333, 'l2_bias_2': 0.0008556399064084268, 'lr': 0.00844496655503001, 'batch_size': 1024}. Best is trial 5 with value: 0.8903699507139367.\u001b[0m\n",
      "C:\\Users\\User\\AppData\\Local\\Temp\\ipykernel_9660\\4154129606.py:46: DeprecationWarning: KerasClassifier is deprecated, use Sci-Keras (https://github.com/adriangb/scikeras) instead. See https://www.adriangb.com/scikeras/stable/migration.html for help migrating.\n",
      "  ('classifier', KerasClassifier(build_fn=self.create_model, verbose=0))\n"
     ]
    },
    {
     "name": "stdout",
     "output_type": "stream",
     "text": [
      "195/195 [==============================] - 0s 1ms/step\n",
      "195/195 [==============================] - 0s 1ms/step\n",
      "195/195 [==============================] - 0s 1ms/step\n"
     ]
    },
    {
     "name": "stderr",
     "output_type": "stream",
     "text": [
      "\u001b[32m[I 2023-03-02 04:14:05,685]\u001b[0m Trial 31 finished with value: 0.8635419360408365 and parameters: {'units_1': 28, 'units_2': 7, 'alpha_1': 0.06235031070706848, 'alpha_2': 0.011330706997298965, 'dropout_1': 0.2913553245304888, 'dropout_2': 0.3378579558233086, 'l2_kern_1': 0.0002782398849555515, 'l2_kern_2': 0.0014249220083321652, 'l2_bias_1': 0.001660318296699161, 'l2_bias_2': 0.0002092852973264121, 'lr': 0.0005175867762880736, 'batch_size': 1024}. Best is trial 5 with value: 0.8903699507139367.\u001b[0m\n",
      "C:\\Users\\User\\AppData\\Local\\Temp\\ipykernel_9660\\4154129606.py:46: DeprecationWarning: KerasClassifier is deprecated, use Sci-Keras (https://github.com/adriangb/scikeras) instead. See https://www.adriangb.com/scikeras/stable/migration.html for help migrating.\n",
      "  ('classifier', KerasClassifier(build_fn=self.create_model, verbose=0))\n"
     ]
    },
    {
     "name": "stdout",
     "output_type": "stream",
     "text": [
      "195/195 [==============================] - 0s 1ms/step\n",
      "195/195 [==============================] - 0s 1ms/step\n",
      "195/195 [==============================] - 1s 2ms/step\n"
     ]
    },
    {
     "name": "stderr",
     "output_type": "stream",
     "text": [
      "\u001b[32m[I 2023-03-02 04:15:04,003]\u001b[0m Trial 32 finished with value: 0.874522016686309 and parameters: {'units_1': 38, 'units_2': 40, 'alpha_1': 0.04212651740418424, 'alpha_2': 0.09496535824922377, 'dropout_1': 0.41450313498170166, 'dropout_2': 0.3709779074213594, 'l2_kern_1': 0.0010584944274208495, 'l2_kern_2': 5.903771680931553e-05, 'l2_bias_1': 2.136850103340586e-05, 'l2_bias_2': 0.0017489164206879204, 'lr': 0.009918925476923843, 'batch_size': 32}. Best is trial 5 with value: 0.8903699507139367.\u001b[0m\n",
      "C:\\Users\\User\\AppData\\Local\\Temp\\ipykernel_9660\\4154129606.py:46: DeprecationWarning: KerasClassifier is deprecated, use Sci-Keras (https://github.com/adriangb/scikeras) instead. See https://www.adriangb.com/scikeras/stable/migration.html for help migrating.\n",
      "  ('classifier', KerasClassifier(build_fn=self.create_model, verbose=0))\n"
     ]
    },
    {
     "name": "stdout",
     "output_type": "stream",
     "text": [
      "195/195 [==============================] - 0s 2ms/step\n",
      "195/195 [==============================] - 0s 1ms/step\n",
      "195/195 [==============================] - 0s 2ms/step\n"
     ]
    },
    {
     "name": "stderr",
     "output_type": "stream",
     "text": [
      "\u001b[32m[I 2023-03-02 04:16:10,662]\u001b[0m Trial 33 finished with value: 0.8786543935526444 and parameters: {'units_1': 31, 'units_2': 38, 'alpha_1': 0.039871428649885646, 'alpha_2': 0.07898600808185652, 'dropout_1': 0.4630945641983171, 'dropout_2': 0.36500671437326615, 'l2_kern_1': 1.4468840782160495e-05, 'l2_kern_2': 2.1482670044976008e-05, 'l2_bias_1': 0.0024065633372319516, 'l2_bias_2': 0.0007057895965151141, 'lr': 0.0035834596647736014, 'batch_size': 32}. Best is trial 5 with value: 0.8903699507139367.\u001b[0m\n",
      "C:\\Users\\User\\AppData\\Local\\Temp\\ipykernel_9660\\4154129606.py:46: DeprecationWarning: KerasClassifier is deprecated, use Sci-Keras (https://github.com/adriangb/scikeras) instead. See https://www.adriangb.com/scikeras/stable/migration.html for help migrating.\n",
      "  ('classifier', KerasClassifier(build_fn=self.create_model, verbose=0))\n"
     ]
    },
    {
     "name": "stdout",
     "output_type": "stream",
     "text": [
      "195/195 [==============================] - 0s 2ms/step\n",
      "195/195 [==============================] - 0s 2ms/step\n",
      "195/195 [==============================] - 0s 1ms/step\n"
     ]
    },
    {
     "name": "stderr",
     "output_type": "stream",
     "text": [
      "\u001b[32m[I 2023-03-02 04:16:35,130]\u001b[0m Trial 34 finished with value: 0.8449646464312796 and parameters: {'units_1': 37, 'units_2': 26, 'alpha_1': 0.03121641688410473, 'alpha_2': 0.07809322511896047, 'dropout_1': 0.4145958091300862, 'dropout_2': 0.3537231244891593, 'l2_kern_1': 1.4375235424909063e-05, 'l2_kern_2': 4.83190587705225e-05, 'l2_bias_1': 2.2184757654924317e-05, 'l2_bias_2': 0.000667999171343467, 'lr': 0.00018694795491683975, 'batch_size': 512}. Best is trial 5 with value: 0.8903699507139367.\u001b[0m\n",
      "C:\\Users\\User\\AppData\\Local\\Temp\\ipykernel_9660\\4154129606.py:46: DeprecationWarning: KerasClassifier is deprecated, use Sci-Keras (https://github.com/adriangb/scikeras) instead. See https://www.adriangb.com/scikeras/stable/migration.html for help migrating.\n",
      "  ('classifier', KerasClassifier(build_fn=self.create_model, verbose=0))\n"
     ]
    },
    {
     "name": "stdout",
     "output_type": "stream",
     "text": [
      "195/195 [==============================] - 0s 1ms/step\n",
      "195/195 [==============================] - 1s 2ms/step\n",
      "195/195 [==============================] - 0s 1ms/step\n"
     ]
    },
    {
     "name": "stderr",
     "output_type": "stream",
     "text": [
      "\u001b[32m[I 2023-03-02 04:17:09,431]\u001b[0m Trial 35 finished with value: 0.8557488953045579 and parameters: {'units_1': 24, 'units_2': 18, 'alpha_1': 0.04278383991324876, 'alpha_2': 0.047503653287877964, 'dropout_1': 0.3373353503909162, 'dropout_2': 0.2519427277129147, 'l2_kern_1': 6.94154132296416e-05, 'l2_kern_2': 0.001670533308379571, 'l2_bias_1': 0.0009524026757976988, 'l2_bias_2': 1.0125597001139085e-05, 'lr': 0.000261968312804458, 'batch_size': 512}. Best is trial 5 with value: 0.8903699507139367.\u001b[0m\n",
      "C:\\Users\\User\\AppData\\Local\\Temp\\ipykernel_9660\\4154129606.py:46: DeprecationWarning: KerasClassifier is deprecated, use Sci-Keras (https://github.com/adriangb/scikeras) instead. See https://www.adriangb.com/scikeras/stable/migration.html for help migrating.\n",
      "  ('classifier', KerasClassifier(build_fn=self.create_model, verbose=0))\n"
     ]
    },
    {
     "name": "stdout",
     "output_type": "stream",
     "text": [
      "195/195 [==============================] - 0s 2ms/step\n",
      "195/195 [==============================] - 0s 2ms/step\n",
      "195/195 [==============================] - 0s 1ms/step\n"
     ]
    },
    {
     "name": "stderr",
     "output_type": "stream",
     "text": [
      "\u001b[32m[I 2023-03-02 04:17:35,120]\u001b[0m Trial 36 finished with value: 0.8491830817793732 and parameters: {'units_1': 4, 'units_2': 25, 'alpha_1': 0.06411278737844153, 'alpha_2': 0.08194554909144662, 'dropout_1': 0.35042090170926143, 'dropout_2': 0.4722137257250646, 'l2_kern_1': 0.000729667452495355, 'l2_kern_2': 0.007169062555015762, 'l2_bias_1': 0.00010473355142112941, 'l2_bias_2': 7.715856660762008e-05, 'lr': 0.0011427244158179564, 'batch_size': 256}. Best is trial 5 with value: 0.8903699507139367.\u001b[0m\n",
      "C:\\Users\\User\\AppData\\Local\\Temp\\ipykernel_9660\\4154129606.py:46: DeprecationWarning: KerasClassifier is deprecated, use Sci-Keras (https://github.com/adriangb/scikeras) instead. See https://www.adriangb.com/scikeras/stable/migration.html for help migrating.\n",
      "  ('classifier', KerasClassifier(build_fn=self.create_model, verbose=0))\n"
     ]
    },
    {
     "name": "stdout",
     "output_type": "stream",
     "text": [
      "195/195 [==============================] - 0s 2ms/step\n",
      "195/195 [==============================] - 0s 1ms/step\n",
      "195/195 [==============================] - 0s 2ms/step\n"
     ]
    },
    {
     "name": "stderr",
     "output_type": "stream",
     "text": [
      "\u001b[32m[I 2023-03-02 04:18:29,146]\u001b[0m Trial 37 finished with value: 0.8453739790722281 and parameters: {'units_1': 32, 'units_2': 29, 'alpha_1': 0.01386479621515991, 'alpha_2': 0.06141894307065828, 'dropout_1': 0.3337058555190935, 'dropout_2': 0.2977433918085455, 'l2_kern_1': 0.0013722996263661274, 'l2_kern_2': 0.0042695202219384725, 'l2_bias_1': 0.00033299067774957415, 'l2_bias_2': 3.9680926119780304e-05, 'lr': 5.4690746126466173e-05, 'batch_size': 128}. Best is trial 5 with value: 0.8903699507139367.\u001b[0m\n",
      "C:\\Users\\User\\AppData\\Local\\Temp\\ipykernel_9660\\4154129606.py:46: DeprecationWarning: KerasClassifier is deprecated, use Sci-Keras (https://github.com/adriangb/scikeras) instead. See https://www.adriangb.com/scikeras/stable/migration.html for help migrating.\n",
      "  ('classifier', KerasClassifier(build_fn=self.create_model, verbose=0))\n"
     ]
    },
    {
     "name": "stdout",
     "output_type": "stream",
     "text": [
      "195/195 [==============================] - 0s 2ms/step\n",
      "195/195 [==============================] - 0s 1ms/step\n",
      "195/195 [==============================] - 0s 1ms/step\n"
     ]
    },
    {
     "name": "stderr",
     "output_type": "stream",
     "text": [
      "\u001b[32m[I 2023-03-02 04:21:51,730]\u001b[0m Trial 38 finished with value: 0.8558805156599715 and parameters: {'units_1': 6, 'units_2': 25, 'alpha_1': 0.011559532993314685, 'alpha_2': 0.02435071254412395, 'dropout_1': 0.20436170261365819, 'dropout_2': 0.42842494821003047, 'l2_kern_1': 0.0009973397345867752, 'l2_kern_2': 0.000874063045385871, 'l2_bias_1': 0.001091827567264122, 'l2_bias_2': 2.8210035621261043e-05, 'lr': 0.0004093545815241832, 'batch_size': 16}. Best is trial 5 with value: 0.8903699507139367.\u001b[0m\n",
      "C:\\Users\\User\\AppData\\Local\\Temp\\ipykernel_9660\\4154129606.py:46: DeprecationWarning: KerasClassifier is deprecated, use Sci-Keras (https://github.com/adriangb/scikeras) instead. See https://www.adriangb.com/scikeras/stable/migration.html for help migrating.\n",
      "  ('classifier', KerasClassifier(build_fn=self.create_model, verbose=0))\n"
     ]
    },
    {
     "name": "stdout",
     "output_type": "stream",
     "text": [
      "195/195 [==============================] - 0s 2ms/step\n",
      "195/195 [==============================] - 0s 1ms/step\n",
      "195/195 [==============================] - 0s 1ms/step\n"
     ]
    },
    {
     "name": "stderr",
     "output_type": "stream",
     "text": [
      "\u001b[32m[I 2023-03-02 04:22:41,791]\u001b[0m Trial 39 finished with value: 0.8355057219017336 and parameters: {'units_1': 27, 'units_2': 12, 'alpha_1': 0.09153510943976481, 'alpha_2': 0.07798087922076873, 'dropout_1': 0.26615192649812575, 'dropout_2': 0.3416108495007488, 'l2_kern_1': 1.1447945115041081e-05, 'l2_kern_2': 3.6881025571190085e-05, 'l2_bias_1': 0.0008156625288268624, 'l2_bias_2': 0.00465590647256286, 'lr': 5.286125984721892e-05, 'batch_size': 1024}. Best is trial 5 with value: 0.8903699507139367.\u001b[0m\n",
      "C:\\Users\\User\\AppData\\Local\\Temp\\ipykernel_9660\\4154129606.py:46: DeprecationWarning: KerasClassifier is deprecated, use Sci-Keras (https://github.com/adriangb/scikeras) instead. See https://www.adriangb.com/scikeras/stable/migration.html for help migrating.\n",
      "  ('classifier', KerasClassifier(build_fn=self.create_model, verbose=0))\n"
     ]
    },
    {
     "name": "stdout",
     "output_type": "stream",
     "text": [
      "195/195 [==============================] - 1s 1ms/step\n",
      "195/195 [==============================] - 0s 2ms/step\n",
      "195/195 [==============================] - 0s 2ms/step\n"
     ]
    },
    {
     "name": "stderr",
     "output_type": "stream",
     "text": [
      "\u001b[32m[I 2023-03-02 04:23:10,104]\u001b[0m Trial 40 finished with value: 0.8609418507230072 and parameters: {'units_1': 20, 'units_2': 14, 'alpha_1': 0.0836004024981931, 'alpha_2': 0.08799295624084662, 'dropout_1': 0.26679613057543283, 'dropout_2': 0.4021639603975644, 'l2_kern_1': 0.0016708377120462621, 'l2_kern_2': 0.002665827696351382, 'l2_bias_1': 2.871408260384071e-05, 'l2_bias_2': 0.002001427116139927, 'lr': 0.0012998743043547798, 'batch_size': 1024}. Best is trial 5 with value: 0.8903699507139367.\u001b[0m\n",
      "C:\\Users\\User\\AppData\\Local\\Temp\\ipykernel_9660\\4154129606.py:46: DeprecationWarning: KerasClassifier is deprecated, use Sci-Keras (https://github.com/adriangb/scikeras) instead. See https://www.adriangb.com/scikeras/stable/migration.html for help migrating.\n",
      "  ('classifier', KerasClassifier(build_fn=self.create_model, verbose=0))\n"
     ]
    },
    {
     "name": "stdout",
     "output_type": "stream",
     "text": [
      "195/195 [==============================] - 0s 1ms/step\n",
      "195/195 [==============================] - 0s 2ms/step\n",
      "195/195 [==============================] - 0s 1ms/step\n"
     ]
    },
    {
     "name": "stderr",
     "output_type": "stream",
     "text": [
      "\u001b[32m[I 2023-03-02 04:23:30,213]\u001b[0m Trial 41 finished with value: 0.8399703118971539 and parameters: {'units_1': 7, 'units_2': 17, 'alpha_1': 0.07646825607593907, 'alpha_2': 0.02824451825106239, 'dropout_1': 0.22190080778745652, 'dropout_2': 0.4870486724954857, 'l2_kern_1': 0.00030216181047979635, 'l2_kern_2': 1.5010369701679894e-05, 'l2_bias_1': 0.009719052339139597, 'l2_bias_2': 0.0001531183848737581, 'lr': 0.00045892281141167646, 'batch_size': 1024}. Best is trial 5 with value: 0.8903699507139367.\u001b[0m\n",
      "C:\\Users\\User\\AppData\\Local\\Temp\\ipykernel_9660\\4154129606.py:46: DeprecationWarning: KerasClassifier is deprecated, use Sci-Keras (https://github.com/adriangb/scikeras) instead. See https://www.adriangb.com/scikeras/stable/migration.html for help migrating.\n",
      "  ('classifier', KerasClassifier(build_fn=self.create_model, verbose=0))\n"
     ]
    },
    {
     "name": "stdout",
     "output_type": "stream",
     "text": [
      "195/195 [==============================] - 0s 1ms/step\n",
      "195/195 [==============================] - 0s 2ms/step\n",
      "195/195 [==============================] - 0s 1ms/step\n"
     ]
    },
    {
     "name": "stderr",
     "output_type": "stream",
     "text": [
      "\u001b[32m[I 2023-03-02 04:26:38,431]\u001b[0m Trial 42 finished with value: 0.8599085360832021 and parameters: {'units_1': 21, 'units_2': 34, 'alpha_1': 0.02006282783506444, 'alpha_2': 0.08738037162570784, 'dropout_1': 0.3405170213976528, 'dropout_2': 0.3570760522885902, 'l2_kern_1': 8.85140599097541e-05, 'l2_kern_2': 0.003632212074307514, 'l2_bias_1': 1.692805703770676e-05, 'l2_bias_2': 0.000502276869933569, 'lr': 0.00014724714320500968, 'batch_size': 32}. Best is trial 5 with value: 0.8903699507139367.\u001b[0m\n",
      "C:\\Users\\User\\AppData\\Local\\Temp\\ipykernel_9660\\4154129606.py:46: DeprecationWarning: KerasClassifier is deprecated, use Sci-Keras (https://github.com/adriangb/scikeras) instead. See https://www.adriangb.com/scikeras/stable/migration.html for help migrating.\n",
      "  ('classifier', KerasClassifier(build_fn=self.create_model, verbose=0))\n"
     ]
    },
    {
     "name": "stdout",
     "output_type": "stream",
     "text": [
      "195/195 [==============================] - 0s 2ms/step\n",
      "195/195 [==============================] - 0s 2ms/step\n",
      "195/195 [==============================] - 0s 2ms/step\n"
     ]
    },
    {
     "name": "stderr",
     "output_type": "stream",
     "text": [
      "\u001b[32m[I 2023-03-02 04:27:13,249]\u001b[0m Trial 43 finished with value: 0.8513491071039424 and parameters: {'units_1': 17, 'units_2': 22, 'alpha_1': 0.07898704214545939, 'alpha_2': 0.06315875977337734, 'dropout_1': 0.4200968766157226, 'dropout_2': 0.20225019020459, 'l2_kern_1': 0.00010193461218377182, 'l2_kern_2': 0.0003332915292300306, 'l2_bias_1': 0.00591829637722557, 'l2_bias_2': 0.003344492584802378, 'lr': 0.00023183552087878558, 'batch_size': 256}. Best is trial 5 with value: 0.8903699507139367.\u001b[0m\n",
      "C:\\Users\\User\\AppData\\Local\\Temp\\ipykernel_9660\\4154129606.py:46: DeprecationWarning: KerasClassifier is deprecated, use Sci-Keras (https://github.com/adriangb/scikeras) instead. See https://www.adriangb.com/scikeras/stable/migration.html for help migrating.\n",
      "  ('classifier', KerasClassifier(build_fn=self.create_model, verbose=0))\n"
     ]
    },
    {
     "name": "stdout",
     "output_type": "stream",
     "text": [
      "195/195 [==============================] - 0s 1ms/step\n",
      "195/195 [==============================] - 0s 1ms/step\n",
      "195/195 [==============================] - 0s 1ms/step\n"
     ]
    },
    {
     "name": "stderr",
     "output_type": "stream",
     "text": [
      "\u001b[32m[I 2023-03-02 04:30:19,405]\u001b[0m Trial 44 finished with value: 0.8448820152880825 and parameters: {'units_1': 8, 'units_2': 20, 'alpha_1': 0.09600061561182502, 'alpha_2': 0.09628077549402468, 'dropout_1': 0.4750453518100009, 'dropout_2': 0.3319974306656962, 'l2_kern_1': 0.005584953691847358, 'l2_kern_2': 0.0003675732811716106, 'l2_bias_1': 0.00030196473191166143, 'l2_bias_2': 5.658951990241831e-05, 'lr': 8.332747615455075e-05, 'batch_size': 16}. Best is trial 5 with value: 0.8903699507139367.\u001b[0m\n",
      "C:\\Users\\User\\AppData\\Local\\Temp\\ipykernel_9660\\4154129606.py:46: DeprecationWarning: KerasClassifier is deprecated, use Sci-Keras (https://github.com/adriangb/scikeras) instead. See https://www.adriangb.com/scikeras/stable/migration.html for help migrating.\n",
      "  ('classifier', KerasClassifier(build_fn=self.create_model, verbose=0))\n"
     ]
    },
    {
     "name": "stdout",
     "output_type": "stream",
     "text": [
      "195/195 [==============================] - 0s 1ms/step\n",
      "195/195 [==============================] - 0s 1ms/step\n",
      "195/195 [==============================] - 0s 2ms/step\n"
     ]
    },
    {
     "name": "stderr",
     "output_type": "stream",
     "text": [
      "\u001b[32m[I 2023-03-02 04:30:45,013]\u001b[0m Trial 45 finished with value: 0.8561452982613235 and parameters: {'units_1': 18, 'units_2': 38, 'alpha_1': 0.09572910209769205, 'alpha_2': 0.09996024772748269, 'dropout_1': 0.4960199622238781, 'dropout_2': 0.23057181725041798, 'l2_kern_1': 7.154269144745264e-05, 'l2_kern_2': 0.00787659841485659, 'l2_bias_1': 0.0009302776314928129, 'l2_bias_2': 1.0995958204148945e-05, 'lr': 0.0015770231004476848, 'batch_size': 512}. Best is trial 5 with value: 0.8903699507139367.\u001b[0m\n",
      "C:\\Users\\User\\AppData\\Local\\Temp\\ipykernel_9660\\4154129606.py:46: DeprecationWarning: KerasClassifier is deprecated, use Sci-Keras (https://github.com/adriangb/scikeras) instead. See https://www.adriangb.com/scikeras/stable/migration.html for help migrating.\n",
      "  ('classifier', KerasClassifier(build_fn=self.create_model, verbose=0))\n"
     ]
    },
    {
     "name": "stdout",
     "output_type": "stream",
     "text": [
      "195/195 [==============================] - 0s 2ms/step\n",
      "195/195 [==============================] - 0s 2ms/step\n",
      "195/195 [==============================] - 0s 1ms/step\n"
     ]
    },
    {
     "name": "stderr",
     "output_type": "stream",
     "text": [
      "\u001b[32m[I 2023-03-02 04:32:09,612]\u001b[0m Trial 46 finished with value: 0.8696682358732405 and parameters: {'units_1': 30, 'units_2': 31, 'alpha_1': 0.040577054222342514, 'alpha_2': 0.09778611406968048, 'dropout_1': 0.28568218881782526, 'dropout_2': 0.3872688803780682, 'l2_kern_1': 0.0005479133844984263, 'l2_kern_2': 0.00034971352512098167, 'l2_bias_1': 0.0006958083545066456, 'l2_bias_2': 0.00015073977796595177, 'lr': 0.00019153774487224432, 'batch_size': 64}. Best is trial 5 with value: 0.8903699507139367.\u001b[0m\n",
      "C:\\Users\\User\\AppData\\Local\\Temp\\ipykernel_9660\\4154129606.py:46: DeprecationWarning: KerasClassifier is deprecated, use Sci-Keras (https://github.com/adriangb/scikeras) instead. See https://www.adriangb.com/scikeras/stable/migration.html for help migrating.\n",
      "  ('classifier', KerasClassifier(build_fn=self.create_model, verbose=0))\n"
     ]
    },
    {
     "name": "stdout",
     "output_type": "stream",
     "text": [
      "195/195 [==============================] - 0s 1ms/step\n",
      "195/195 [==============================] - 0s 1ms/step\n",
      "195/195 [==============================] - 0s 1ms/step\n"
     ]
    },
    {
     "name": "stderr",
     "output_type": "stream",
     "text": [
      "\u001b[32m[I 2023-03-02 04:32:53,001]\u001b[0m Trial 47 finished with value: 0.8770703020057797 and parameters: {'units_1': 27, 'units_2': 23, 'alpha_1': 0.053445470354555526, 'alpha_2': 0.040822236557476424, 'dropout_1': 0.2073792588056946, 'dropout_2': 0.4351266352736255, 'l2_kern_1': 0.006713584944833506, 'l2_kern_2': 2.7522705452226832e-05, 'l2_bias_1': 3.450587724470401e-05, 'l2_bias_2': 0.001581900707088538, 'lr': 0.0072113478522876, 'batch_size': 64}. Best is trial 5 with value: 0.8903699507139367.\u001b[0m\n",
      "C:\\Users\\User\\AppData\\Local\\Temp\\ipykernel_9660\\4154129606.py:46: DeprecationWarning: KerasClassifier is deprecated, use Sci-Keras (https://github.com/adriangb/scikeras) instead. See https://www.adriangb.com/scikeras/stable/migration.html for help migrating.\n",
      "  ('classifier', KerasClassifier(build_fn=self.create_model, verbose=0))\n"
     ]
    },
    {
     "name": "stdout",
     "output_type": "stream",
     "text": [
      "195/195 [==============================] - 0s 1ms/step\n",
      "195/195 [==============================] - 0s 1ms/step\n",
      "195/195 [==============================] - 0s 2ms/step\n"
     ]
    },
    {
     "name": "stderr",
     "output_type": "stream",
     "text": [
      "\u001b[32m[I 2023-03-02 04:34:03,502]\u001b[0m Trial 48 finished with value: 0.8671630820085277 and parameters: {'units_1': 18, 'units_2': 6, 'alpha_1': 0.06479800900829459, 'alpha_2': 0.030738903324695595, 'dropout_1': 0.21648191200301725, 'dropout_2': 0.348094774204207, 'l2_kern_1': 0.0006532886276816367, 'l2_kern_2': 2.1535562699421644e-05, 'l2_bias_1': 0.0001944057312479402, 'l2_bias_2': 0.00012747138220466512, 'lr': 0.0005014577329928902, 'batch_size': 64}. Best is trial 5 with value: 0.8903699507139367.\u001b[0m\n",
      "C:\\Users\\User\\AppData\\Local\\Temp\\ipykernel_9660\\4154129606.py:46: DeprecationWarning: KerasClassifier is deprecated, use Sci-Keras (https://github.com/adriangb/scikeras) instead. See https://www.adriangb.com/scikeras/stable/migration.html for help migrating.\n",
      "  ('classifier', KerasClassifier(build_fn=self.create_model, verbose=0))\n"
     ]
    },
    {
     "name": "stdout",
     "output_type": "stream",
     "text": [
      "195/195 [==============================] - 0s 1ms/step\n",
      "195/195 [==============================] - 0s 1ms/step\n",
      "195/195 [==============================] - 0s 2ms/step\n"
     ]
    },
    {
     "name": "stderr",
     "output_type": "stream",
     "text": [
      "\u001b[32m[I 2023-03-02 04:36:10,166]\u001b[0m Trial 49 finished with value: 0.8482676627927344 and parameters: {'units_1': 6, 'units_2': 40, 'alpha_1': 0.031117164453184548, 'alpha_2': 0.0820335271794096, 'dropout_1': 0.2920003621702238, 'dropout_2': 0.36505744038191507, 'l2_kern_1': 1.4235113404113606e-05, 'l2_kern_2': 1.0836910937471326e-05, 'l2_bias_1': 0.005924284787756385, 'l2_bias_2': 0.00017575703042939164, 'lr': 0.0007643972166455365, 'batch_size': 16}. Best is trial 5 with value: 0.8903699507139367.\u001b[0m\n",
      "C:\\Users\\User\\AppData\\Local\\Temp\\ipykernel_9660\\4154129606.py:46: DeprecationWarning: KerasClassifier is deprecated, use Sci-Keras (https://github.com/adriangb/scikeras) instead. See https://www.adriangb.com/scikeras/stable/migration.html for help migrating.\n",
      "  ('classifier', KerasClassifier(build_fn=self.create_model, verbose=0))\n"
     ]
    },
    {
     "name": "stdout",
     "output_type": "stream",
     "text": [
      "195/195 [==============================] - 0s 1ms/step\n",
      "195/195 [==============================] - 0s 1ms/step\n",
      "195/195 [==============================] - 0s 2ms/step\n"
     ]
    },
    {
     "name": "stderr",
     "output_type": "stream",
     "text": [
      "\u001b[32m[I 2023-03-02 04:38:04,088]\u001b[0m Trial 50 finished with value: 0.8581494939451145 and parameters: {'units_1': 18, 'units_2': 28, 'alpha_1': 0.02899029907530433, 'alpha_2': 0.08276460081090946, 'dropout_1': 0.4067277472258194, 'dropout_2': 0.37346782917630655, 'l2_kern_1': 0.006605953178330459, 'l2_kern_2': 7.217987049582732e-05, 'l2_bias_1': 0.00018487571443312375, 'l2_bias_2': 1.0861098363579605e-05, 'lr': 0.008907870552066304, 'batch_size': 16}. Best is trial 5 with value: 0.8903699507139367.\u001b[0m\n",
      "C:\\Users\\User\\AppData\\Local\\Temp\\ipykernel_9660\\4154129606.py:46: DeprecationWarning: KerasClassifier is deprecated, use Sci-Keras (https://github.com/adriangb/scikeras) instead. See https://www.adriangb.com/scikeras/stable/migration.html for help migrating.\n",
      "  ('classifier', KerasClassifier(build_fn=self.create_model, verbose=0))\n"
     ]
    },
    {
     "name": "stdout",
     "output_type": "stream",
     "text": [
      "195/195 [==============================] - 0s 1ms/step\n",
      "195/195 [==============================] - 0s 1ms/step\n",
      "195/195 [==============================] - 0s 2ms/step\n"
     ]
    },
    {
     "name": "stderr",
     "output_type": "stream",
     "text": [
      "\u001b[32m[I 2023-03-02 04:38:33,429]\u001b[0m Trial 51 finished with value: 0.8437870238384976 and parameters: {'units_1': 8, 'units_2': 25, 'alpha_1': 0.03281692448593551, 'alpha_2': 0.09988067410991273, 'dropout_1': 0.476010704373866, 'dropout_2': 0.21181935753039866, 'l2_kern_1': 0.005278933950292801, 'l2_kern_2': 0.006783104177061054, 'l2_bias_1': 0.0031770269003927, 'l2_bias_2': 0.007569290400510971, 'lr': 0.0002540190284356662, 'batch_size': 256}. Best is trial 5 with value: 0.8903699507139367.\u001b[0m\n",
      "C:\\Users\\User\\AppData\\Local\\Temp\\ipykernel_9660\\4154129606.py:46: DeprecationWarning: KerasClassifier is deprecated, use Sci-Keras (https://github.com/adriangb/scikeras) instead. See https://www.adriangb.com/scikeras/stable/migration.html for help migrating.\n",
      "  ('classifier', KerasClassifier(build_fn=self.create_model, verbose=0))\n"
     ]
    },
    {
     "name": "stdout",
     "output_type": "stream",
     "text": [
      "195/195 [==============================] - 0s 1ms/step\n",
      "195/195 [==============================] - 1s 2ms/step\n",
      "195/195 [==============================] - 1s 2ms/step\n"
     ]
    },
    {
     "name": "stderr",
     "output_type": "stream",
     "text": [
      "\u001b[32m[I 2023-03-02 04:39:02,753]\u001b[0m Trial 52 finished with value: 0.8494009572747739 and parameters: {'units_1': 26, 'units_2': 3, 'alpha_1': 0.037680059066714955, 'alpha_2': 0.08481754607015159, 'dropout_1': 0.4317551541860013, 'dropout_2': 0.22705606258558778, 'l2_kern_1': 2.3336370966304802e-05, 'l2_kern_2': 1.0626141458650872e-05, 'l2_bias_1': 0.008022712291110219, 'l2_bias_2': 0.0007322930521131945, 'lr': 0.0004638807124762848, 'batch_size': 512}. Best is trial 5 with value: 0.8903699507139367.\u001b[0m\n",
      "C:\\Users\\User\\AppData\\Local\\Temp\\ipykernel_9660\\4154129606.py:46: DeprecationWarning: KerasClassifier is deprecated, use Sci-Keras (https://github.com/adriangb/scikeras) instead. See https://www.adriangb.com/scikeras/stable/migration.html for help migrating.\n",
      "  ('classifier', KerasClassifier(build_fn=self.create_model, verbose=0))\n"
     ]
    },
    {
     "name": "stdout",
     "output_type": "stream",
     "text": [
      "195/195 [==============================] - 0s 1ms/step\n",
      "195/195 [==============================] - 0s 1ms/step\n",
      "195/195 [==============================] - 0s 1ms/step\n"
     ]
    },
    {
     "name": "stderr",
     "output_type": "stream",
     "text": [
      "\u001b[32m[I 2023-03-02 04:39:43,904]\u001b[0m Trial 53 finished with value: 0.84023697436352 and parameters: {'units_1': 26, 'units_2': 37, 'alpha_1': 0.08776422148722955, 'alpha_2': 0.08546936671105942, 'dropout_1': 0.4593091709765646, 'dropout_2': 0.49999518023078204, 'l2_kern_1': 0.0008351442371869786, 'l2_kern_2': 1.633967429401518e-05, 'l2_bias_1': 0.004529796142558472, 'l2_bias_2': 0.0048389906757082025, 'lr': 6.541184885361515e-05, 'batch_size': 512}. Best is trial 5 with value: 0.8903699507139367.\u001b[0m\n",
      "C:\\Users\\User\\AppData\\Local\\Temp\\ipykernel_9660\\4154129606.py:46: DeprecationWarning: KerasClassifier is deprecated, use Sci-Keras (https://github.com/adriangb/scikeras) instead. See https://www.adriangb.com/scikeras/stable/migration.html for help migrating.\n",
      "  ('classifier', KerasClassifier(build_fn=self.create_model, verbose=0))\n"
     ]
    },
    {
     "name": "stdout",
     "output_type": "stream",
     "text": [
      "195/195 [==============================] - 0s 1ms/step\n",
      "195/195 [==============================] - 0s 1ms/step\n",
      "195/195 [==============================] - 0s 2ms/step\n"
     ]
    },
    {
     "name": "stderr",
     "output_type": "stream",
     "text": [
      "\u001b[32m[I 2023-03-02 04:40:14,133]\u001b[0m Trial 54 finished with value: 0.8438269992088884 and parameters: {'units_1': 18, 'units_2': 13, 'alpha_1': 0.08629101288979903, 'alpha_2': 0.08284755974600966, 'dropout_1': 0.4098897925965912, 'dropout_2': 0.47875089757658207, 'l2_kern_1': 2.927494529595895e-05, 'l2_kern_2': 0.00024329743144998388, 'l2_bias_1': 0.00037176155124687797, 'l2_bias_2': 0.0004909084564641862, 'lr': 0.00018110407915642728, 'batch_size': 512}. Best is trial 5 with value: 0.8903699507139367.\u001b[0m\n",
      "C:\\Users\\User\\AppData\\Local\\Temp\\ipykernel_9660\\4154129606.py:46: DeprecationWarning: KerasClassifier is deprecated, use Sci-Keras (https://github.com/adriangb/scikeras) instead. See https://www.adriangb.com/scikeras/stable/migration.html for help migrating.\n",
      "  ('classifier', KerasClassifier(build_fn=self.create_model, verbose=0))\n"
     ]
    },
    {
     "name": "stdout",
     "output_type": "stream",
     "text": [
      "195/195 [==============================] - 0s 1ms/step\n",
      "195/195 [==============================] - 0s 1ms/step\n",
      "195/195 [==============================] - 0s 2ms/step\n"
     ]
    },
    {
     "name": "stderr",
     "output_type": "stream",
     "text": [
      "\u001b[32m[I 2023-03-02 04:40:56,791]\u001b[0m Trial 55 finished with value: 0.8602919718242914 and parameters: {'units_1': 11, 'units_2': 13, 'alpha_1': 0.09925167608753847, 'alpha_2': 0.020584751072626747, 'dropout_1': 0.38136237713175375, 'dropout_2': 0.37432693449486143, 'l2_kern_1': 0.0005709198239365794, 'l2_kern_2': 7.34423350346839e-05, 'l2_bias_1': 2.5321889432430132e-05, 'l2_bias_2': 0.00022973780874897972, 'lr': 0.0004497273607000401, 'batch_size': 128}. Best is trial 5 with value: 0.8903699507139367.\u001b[0m\n",
      "C:\\Users\\User\\AppData\\Local\\Temp\\ipykernel_9660\\4154129606.py:46: DeprecationWarning: KerasClassifier is deprecated, use Sci-Keras (https://github.com/adriangb/scikeras) instead. See https://www.adriangb.com/scikeras/stable/migration.html for help migrating.\n",
      "  ('classifier', KerasClassifier(build_fn=self.create_model, verbose=0))\n"
     ]
    },
    {
     "name": "stdout",
     "output_type": "stream",
     "text": [
      "195/195 [==============================] - 0s 1ms/step\n",
      "195/195 [==============================] - 0s 1ms/step\n",
      "195/195 [==============================] - 0s 1ms/step\n"
     ]
    },
    {
     "name": "stderr",
     "output_type": "stream",
     "text": [
      "\u001b[32m[I 2023-03-02 04:41:19,838]\u001b[0m Trial 56 finished with value: 0.8434852640980782 and parameters: {'units_1': 11, 'units_2': 11, 'alpha_1': 0.0878658003872697, 'alpha_2': 0.04430395830072609, 'dropout_1': 0.4725432540479988, 'dropout_2': 0.3279615359421705, 'l2_kern_1': 0.0006758018917386536, 'l2_kern_2': 0.00026565928931079116, 'l2_bias_1': 0.00011508038397716222, 'l2_bias_2': 2.981474872760806e-05, 'lr': 0.0003545506487135555, 'batch_size': 1024}. Best is trial 5 with value: 0.8903699507139367.\u001b[0m\n",
      "C:\\Users\\User\\AppData\\Local\\Temp\\ipykernel_9660\\4154129606.py:46: DeprecationWarning: KerasClassifier is deprecated, use Sci-Keras (https://github.com/adriangb/scikeras) instead. See https://www.adriangb.com/scikeras/stable/migration.html for help migrating.\n",
      "  ('classifier', KerasClassifier(build_fn=self.create_model, verbose=0))\n"
     ]
    },
    {
     "name": "stdout",
     "output_type": "stream",
     "text": [
      "195/195 [==============================] - 0s 1ms/step\n",
      "195/195 [==============================] - 0s 1ms/step\n",
      "195/195 [==============================] - 0s 1ms/step\n"
     ]
    },
    {
     "name": "stderr",
     "output_type": "stream",
     "text": [
      "\u001b[32m[I 2023-03-02 04:41:55,062]\u001b[0m Trial 57 finished with value: 0.8807041572662749 and parameters: {'units_1': 39, 'units_2': 34, 'alpha_1': 0.033833803702200106, 'alpha_2': 0.06909648147350081, 'dropout_1': 0.4474346754983269, 'dropout_2': 0.4005750639384888, 'l2_kern_1': 0.005551105514482784, 'l2_kern_2': 0.00019223603447777066, 'l2_bias_1': 0.0026498296717495256, 'l2_bias_2': 6.605643312685249e-05, 'lr': 0.0021556536500180073, 'batch_size': 128}. Best is trial 5 with value: 0.8903699507139367.\u001b[0m\n",
      "C:\\Users\\User\\AppData\\Local\\Temp\\ipykernel_9660\\4154129606.py:46: DeprecationWarning: KerasClassifier is deprecated, use Sci-Keras (https://github.com/adriangb/scikeras) instead. See https://www.adriangb.com/scikeras/stable/migration.html for help migrating.\n",
      "  ('classifier', KerasClassifier(build_fn=self.create_model, verbose=0))\n"
     ]
    },
    {
     "name": "stdout",
     "output_type": "stream",
     "text": [
      "195/195 [==============================] - 0s 2ms/step\n",
      "195/195 [==============================] - 0s 1ms/step\n",
      "195/195 [==============================] - 0s 1ms/step\n"
     ]
    },
    {
     "name": "stderr",
     "output_type": "stream",
     "text": [
      "\u001b[32m[I 2023-03-02 04:42:40,006]\u001b[0m Trial 58 finished with value: 0.8418709078177384 and parameters: {'units_1': 39, 'units_2': 26, 'alpha_1': 0.08133142008388125, 'alpha_2': 0.04000827429219252, 'dropout_1': 0.4588766210561902, 'dropout_2': 0.3728895047677184, 'l2_kern_1': 0.005359153090981157, 'l2_kern_2': 0.00047281299419735733, 'l2_bias_1': 9.294316962899654e-05, 'l2_bias_2': 1.9962181475206684e-05, 'lr': 7.43625074606273e-05, 'batch_size': 1024}. Best is trial 5 with value: 0.8903699507139367.\u001b[0m\n",
      "C:\\Users\\User\\AppData\\Local\\Temp\\ipykernel_9660\\4154129606.py:46: DeprecationWarning: KerasClassifier is deprecated, use Sci-Keras (https://github.com/adriangb/scikeras) instead. See https://www.adriangb.com/scikeras/stable/migration.html for help migrating.\n",
      "  ('classifier', KerasClassifier(build_fn=self.create_model, verbose=0))\n"
     ]
    },
    {
     "name": "stdout",
     "output_type": "stream",
     "text": [
      "195/195 [==============================] - 0s 1ms/step\n",
      "195/195 [==============================] - 0s 1ms/step\n",
      "195/195 [==============================] - 0s 1ms/step\n"
     ]
    },
    {
     "name": "stderr",
     "output_type": "stream",
     "text": [
      "\u001b[32m[I 2023-03-02 04:44:25,075]\u001b[0m Trial 59 finished with value: 0.8894669079493314 and parameters: {'units_1': 31, 'units_2': 32, 'alpha_1': 0.03524049692263482, 'alpha_2': 0.027145385411581055, 'dropout_1': 0.3462991315564805, 'dropout_2': 0.21569862833070813, 'l2_kern_1': 1.0560667827196284e-05, 'l2_kern_2': 1.5169335404482825e-05, 'l2_bias_1': 3.3465729135253814e-05, 'l2_bias_2': 0.0006243775491467837, 'lr': 0.0015441776027306962, 'batch_size': 32}. Best is trial 5 with value: 0.8903699507139367.\u001b[0m\n",
      "C:\\Users\\User\\AppData\\Local\\Temp\\ipykernel_9660\\4154129606.py:46: DeprecationWarning: KerasClassifier is deprecated, use Sci-Keras (https://github.com/adriangb/scikeras) instead. See https://www.adriangb.com/scikeras/stable/migration.html for help migrating.\n",
      "  ('classifier', KerasClassifier(build_fn=self.create_model, verbose=0))\n"
     ]
    },
    {
     "name": "stdout",
     "output_type": "stream",
     "text": [
      "195/195 [==============================] - 0s 1ms/step\n",
      "195/195 [==============================] - 0s 1ms/step\n",
      "195/195 [==============================] - 0s 1ms/step\n"
     ]
    },
    {
     "name": "stderr",
     "output_type": "stream",
     "text": [
      "\u001b[32m[I 2023-03-02 04:45:39,561]\u001b[0m Trial 60 finished with value: 0.8561301287452011 and parameters: {'units_1': 6, 'units_2': 10, 'alpha_1': 0.04790719385351599, 'alpha_2': 0.023201588309236812, 'dropout_1': 0.4455679434190266, 'dropout_2': 0.2498162933318872, 'l2_kern_1': 2.5768474349432873e-05, 'l2_kern_2': 0.0016433258035209025, 'l2_bias_1': 0.00021349335041084998, 'l2_bias_2': 0.0006366129511516743, 'lr': 0.0020205447112098904, 'batch_size': 32}. Best is trial 5 with value: 0.8903699507139367.\u001b[0m\n",
      "C:\\Users\\User\\AppData\\Local\\Temp\\ipykernel_9660\\4154129606.py:46: DeprecationWarning: KerasClassifier is deprecated, use Sci-Keras (https://github.com/adriangb/scikeras) instead. See https://www.adriangb.com/scikeras/stable/migration.html for help migrating.\n",
      "  ('classifier', KerasClassifier(build_fn=self.create_model, verbose=0))\n"
     ]
    },
    {
     "name": "stdout",
     "output_type": "stream",
     "text": [
      "195/195 [==============================] - 0s 1ms/step\n",
      "195/195 [==============================] - 0s 2ms/step\n",
      "195/195 [==============================] - 0s 1ms/step\n"
     ]
    },
    {
     "name": "stderr",
     "output_type": "stream",
     "text": [
      "\u001b[32m[I 2023-03-02 04:47:36,569]\u001b[0m Trial 61 finished with value: 0.8585541926779389 and parameters: {'units_1': 25, 'units_2': 5, 'alpha_1': 0.06435088970803991, 'alpha_2': 0.05942862726114898, 'dropout_1': 0.38733700692029116, 'dropout_2': 0.2684207887771912, 'l2_kern_1': 0.002206362529218623, 'l2_kern_2': 0.009845224758957315, 'l2_bias_1': 0.005367322862481313, 'l2_bias_2': 0.002198402261614919, 'lr': 0.00023545844979387862, 'batch_size': 32}. Best is trial 5 with value: 0.8903699507139367.\u001b[0m\n",
      "C:\\Users\\User\\AppData\\Local\\Temp\\ipykernel_9660\\4154129606.py:46: DeprecationWarning: KerasClassifier is deprecated, use Sci-Keras (https://github.com/adriangb/scikeras) instead. See https://www.adriangb.com/scikeras/stable/migration.html for help migrating.\n",
      "  ('classifier', KerasClassifier(build_fn=self.create_model, verbose=0))\n"
     ]
    },
    {
     "name": "stdout",
     "output_type": "stream",
     "text": [
      "195/195 [==============================] - 0s 1ms/step\n",
      "195/195 [==============================] - 0s 1ms/step\n",
      "195/195 [==============================] - 0s 1ms/step\n"
     ]
    },
    {
     "name": "stderr",
     "output_type": "stream",
     "text": [
      "\u001b[32m[I 2023-03-02 04:48:10,173]\u001b[0m Trial 62 finished with value: 0.8612886968674124 and parameters: {'units_1': 20, 'units_2': 17, 'alpha_1': 0.026339565726836087, 'alpha_2': 0.08527605534827368, 'dropout_1': 0.28989378424210316, 'dropout_2': 0.2820676175379803, 'l2_kern_1': 0.0006798952573241357, 'l2_kern_2': 4.2468906206751675e-05, 'l2_bias_1': 1.7592332323177837e-05, 'l2_bias_2': 0.00042670350311004355, 'lr': 0.00036377438188764757, 'batch_size': 256}. Best is trial 5 with value: 0.8903699507139367.\u001b[0m\n",
      "C:\\Users\\User\\AppData\\Local\\Temp\\ipykernel_9660\\4154129606.py:46: DeprecationWarning: KerasClassifier is deprecated, use Sci-Keras (https://github.com/adriangb/scikeras) instead. See https://www.adriangb.com/scikeras/stable/migration.html for help migrating.\n",
      "  ('classifier', KerasClassifier(build_fn=self.create_model, verbose=0))\n"
     ]
    },
    {
     "name": "stdout",
     "output_type": "stream",
     "text": [
      "195/195 [==============================] - 0s 1ms/step\n",
      "195/195 [==============================] - 0s 1ms/step\n",
      "195/195 [==============================] - 0s 1ms/step\n"
     ]
    },
    {
     "name": "stderr",
     "output_type": "stream",
     "text": [
      "\u001b[32m[I 2023-03-02 04:51:58,179]\u001b[0m Trial 63 finished with value: 0.8531634815100403 and parameters: {'units_1': 21, 'units_2': 16, 'alpha_1': 0.058267636824877865, 'alpha_2': 0.029484930367662768, 'dropout_1': 0.32740890978233117, 'dropout_2': 0.4007220261119225, 'l2_kern_1': 0.0023873599449195744, 'l2_kern_2': 0.0006555286645965255, 'l2_bias_1': 0.000676873266305147, 'l2_bias_2': 1.8129525154924164e-05, 'lr': 5.864904971075423e-05, 'batch_size': 16}. Best is trial 5 with value: 0.8903699507139367.\u001b[0m\n",
      "C:\\Users\\User\\AppData\\Local\\Temp\\ipykernel_9660\\4154129606.py:46: DeprecationWarning: KerasClassifier is deprecated, use Sci-Keras (https://github.com/adriangb/scikeras) instead. See https://www.adriangb.com/scikeras/stable/migration.html for help migrating.\n",
      "  ('classifier', KerasClassifier(build_fn=self.create_model, verbose=0))\n"
     ]
    },
    {
     "name": "stdout",
     "output_type": "stream",
     "text": [
      "195/195 [==============================] - 0s 1ms/step\n",
      "195/195 [==============================] - 0s 1ms/step\n",
      "195/195 [==============================] - 0s 1ms/step\n"
     ]
    },
    {
     "name": "stderr",
     "output_type": "stream",
     "text": [
      "\u001b[32m[I 2023-03-02 04:54:12,580]\u001b[0m Trial 64 finished with value: 0.8852447342904832 and parameters: {'units_1': 18, 'units_2': 37, 'alpha_1': 0.08778073767696576, 'alpha_2': 0.07754137412634782, 'dropout_1': 0.2612437668665781, 'dropout_2': 0.43476511538455703, 'l2_kern_1': 3.144637237941883e-05, 'l2_kern_2': 0.00021210095404070842, 'l2_bias_1': 0.00010822003351423404, 'l2_bias_2': 0.0005873658576718167, 'lr': 0.0019495894524554286, 'batch_size': 32}. Best is trial 5 with value: 0.8903699507139367.\u001b[0m\n",
      "C:\\Users\\User\\AppData\\Local\\Temp\\ipykernel_9660\\4154129606.py:46: DeprecationWarning: KerasClassifier is deprecated, use Sci-Keras (https://github.com/adriangb/scikeras) instead. See https://www.adriangb.com/scikeras/stable/migration.html for help migrating.\n",
      "  ('classifier', KerasClassifier(build_fn=self.create_model, verbose=0))\n"
     ]
    },
    {
     "name": "stdout",
     "output_type": "stream",
     "text": [
      "195/195 [==============================] - 0s 1ms/step\n",
      "195/195 [==============================] - 0s 1ms/step\n",
      "195/195 [==============================] - 0s 1ms/step\n"
     ]
    },
    {
     "name": "stderr",
     "output_type": "stream",
     "text": [
      "\u001b[32m[I 2023-03-02 04:54:31,878]\u001b[0m Trial 65 finished with value: 0.8660857675099444 and parameters: {'units_1': 29, 'units_2': 32, 'alpha_1': 0.031188015584989077, 'alpha_2': 0.04102052883595223, 'dropout_1': 0.3091689552043698, 'dropout_2': 0.39708189946809214, 'l2_kern_1': 0.0006827232986012289, 'l2_kern_2': 0.0022936675655109767, 'l2_bias_1': 0.0050196381605326955, 'l2_bias_2': 0.0003006351657881562, 'lr': 0.0017257069570666373, 'batch_size': 1024}. Best is trial 5 with value: 0.8903699507139367.\u001b[0m\n",
      "C:\\Users\\User\\AppData\\Local\\Temp\\ipykernel_9660\\4154129606.py:46: DeprecationWarning: KerasClassifier is deprecated, use Sci-Keras (https://github.com/adriangb/scikeras) instead. See https://www.adriangb.com/scikeras/stable/migration.html for help migrating.\n",
      "  ('classifier', KerasClassifier(build_fn=self.create_model, verbose=0))\n"
     ]
    },
    {
     "name": "stdout",
     "output_type": "stream",
     "text": [
      "195/195 [==============================] - 0s 1ms/step\n",
      "195/195 [==============================] - 0s 1ms/step\n",
      "195/195 [==============================] - 0s 2ms/step\n"
     ]
    },
    {
     "name": "stderr",
     "output_type": "stream",
     "text": [
      "\u001b[32m[I 2023-03-02 04:55:34,374]\u001b[0m Trial 66 finished with value: 0.8603862154406262 and parameters: {'units_1': 9, 'units_2': 16, 'alpha_1': 0.06828264285000647, 'alpha_2': 0.06374935823954982, 'dropout_1': 0.45025266211329407, 'dropout_2': 0.3211410618266509, 'l2_kern_1': 0.003550264216384799, 'l2_kern_2': 1.2330438745271729e-05, 'l2_bias_1': 9.102484816458676e-05, 'l2_bias_2': 0.00037303596517455716, 'lr': 0.006039183813486804, 'batch_size': 32}. Best is trial 5 with value: 0.8903699507139367.\u001b[0m\n",
      "C:\\Users\\User\\AppData\\Local\\Temp\\ipykernel_9660\\4154129606.py:46: DeprecationWarning: KerasClassifier is deprecated, use Sci-Keras (https://github.com/adriangb/scikeras) instead. See https://www.adriangb.com/scikeras/stable/migration.html for help migrating.\n",
      "  ('classifier', KerasClassifier(build_fn=self.create_model, verbose=0))\n"
     ]
    },
    {
     "name": "stdout",
     "output_type": "stream",
     "text": [
      "195/195 [==============================] - 0s 2ms/step\n",
      "195/195 [==============================] - 0s 2ms/step\n",
      "195/195 [==============================] - 0s 1ms/step\n"
     ]
    },
    {
     "name": "stderr",
     "output_type": "stream",
     "text": [
      "\u001b[32m[I 2023-03-02 04:56:59,502]\u001b[0m Trial 67 finished with value: 0.870646639179408 and parameters: {'units_1': 31, 'units_2': 24, 'alpha_1': 0.0182559304976117, 'alpha_2': 0.030116772723492974, 'dropout_1': 0.41056720132939684, 'dropout_2': 0.3608641521118416, 'l2_kern_1': 0.0008866515596918302, 'l2_kern_2': 0.00010754944167460139, 'l2_bias_1': 0.001583536708371291, 'l2_bias_2': 0.0002587153688763924, 'lr': 0.007616880409953022, 'batch_size': 16}. Best is trial 5 with value: 0.8903699507139367.\u001b[0m\n",
      "C:\\Users\\User\\AppData\\Local\\Temp\\ipykernel_9660\\4154129606.py:46: DeprecationWarning: KerasClassifier is deprecated, use Sci-Keras (https://github.com/adriangb/scikeras) instead. See https://www.adriangb.com/scikeras/stable/migration.html for help migrating.\n",
      "  ('classifier', KerasClassifier(build_fn=self.create_model, verbose=0))\n"
     ]
    },
    {
     "name": "stdout",
     "output_type": "stream",
     "text": [
      "195/195 [==============================] - 0s 2ms/step\n",
      "195/195 [==============================] - 0s 1ms/step\n",
      "195/195 [==============================] - 0s 1ms/step\n"
     ]
    },
    {
     "name": "stderr",
     "output_type": "stream",
     "text": [
      "\u001b[32m[I 2023-03-02 04:57:45,991]\u001b[0m Trial 68 finished with value: 0.8235115794655908 and parameters: {'units_1': 2, 'units_2': 4, 'alpha_1': 0.01004902901100495, 'alpha_2': 0.05503207884302486, 'dropout_1': 0.30341587326331343, 'dropout_2': 0.29801004276505744, 'l2_kern_1': 8.40251066940001e-05, 'l2_kern_2': 0.00047497037847150247, 'l2_bias_1': 0.0035129443802484014, 'l2_bias_2': 0.002333312898948357, 'lr': 0.00011470844135795486, 'batch_size': 1024}. Best is trial 5 with value: 0.8903699507139367.\u001b[0m\n",
      "C:\\Users\\User\\AppData\\Local\\Temp\\ipykernel_9660\\4154129606.py:46: DeprecationWarning: KerasClassifier is deprecated, use Sci-Keras (https://github.com/adriangb/scikeras) instead. See https://www.adriangb.com/scikeras/stable/migration.html for help migrating.\n",
      "  ('classifier', KerasClassifier(build_fn=self.create_model, verbose=0))\n"
     ]
    },
    {
     "name": "stdout",
     "output_type": "stream",
     "text": [
      "195/195 [==============================] - 0s 1ms/step\n",
      "195/195 [==============================] - 0s 1ms/step\n",
      "195/195 [==============================] - 0s 1ms/step\n"
     ]
    },
    {
     "name": "stderr",
     "output_type": "stream",
     "text": [
      "\u001b[32m[I 2023-03-02 05:00:25,772]\u001b[0m Trial 69 finished with value: 0.8857994324955528 and parameters: {'units_1': 25, 'units_2': 23, 'alpha_1': 0.04707738670836571, 'alpha_2': 0.022016040159445124, 'dropout_1': 0.2834332235442163, 'dropout_2': 0.3472268262858822, 'l2_kern_1': 0.00011607773517484137, 'l2_kern_2': 0.0008205298736194867, 'l2_bias_1': 7.259002812731072e-05, 'l2_bias_2': 3.3394320516676384e-05, 'lr': 0.002188481979695999, 'batch_size': 16}. Best is trial 5 with value: 0.8903699507139367.\u001b[0m\n",
      "C:\\Users\\User\\AppData\\Local\\Temp\\ipykernel_9660\\4154129606.py:46: DeprecationWarning: KerasClassifier is deprecated, use Sci-Keras (https://github.com/adriangb/scikeras) instead. See https://www.adriangb.com/scikeras/stable/migration.html for help migrating.\n",
      "  ('classifier', KerasClassifier(build_fn=self.create_model, verbose=0))\n"
     ]
    },
    {
     "name": "stdout",
     "output_type": "stream",
     "text": [
      "195/195 [==============================] - 1s 3ms/step\n",
      "195/195 [==============================] - 0s 1ms/step\n",
      "195/195 [==============================] - 0s 1ms/step\n"
     ]
    },
    {
     "name": "stderr",
     "output_type": "stream",
     "text": [
      "\u001b[32m[I 2023-03-02 05:01:11,501]\u001b[0m Trial 70 finished with value: 0.8463722709278042 and parameters: {'units_1': 10, 'units_2': 16, 'alpha_1': 0.027074266233497783, 'alpha_2': 0.08243236145085076, 'dropout_1': 0.3107803620518813, 'dropout_2': 0.3710409987413319, 'l2_kern_1': 1.5712398412168563e-05, 'l2_kern_2': 0.0001299865397808648, 'l2_bias_1': 0.0003594114954382686, 'l2_bias_2': 0.0046289749803236115, 'lr': 0.0001458847173987717, 'batch_size': 64}. Best is trial 5 with value: 0.8903699507139367.\u001b[0m\n",
      "C:\\Users\\User\\AppData\\Local\\Temp\\ipykernel_9660\\4154129606.py:46: DeprecationWarning: KerasClassifier is deprecated, use Sci-Keras (https://github.com/adriangb/scikeras) instead. See https://www.adriangb.com/scikeras/stable/migration.html for help migrating.\n",
      "  ('classifier', KerasClassifier(build_fn=self.create_model, verbose=0))\n"
     ]
    },
    {
     "name": "stdout",
     "output_type": "stream",
     "text": [
      "195/195 [==============================] - 0s 1ms/step\n",
      "195/195 [==============================] - 0s 1ms/step\n",
      "195/195 [==============================] - 0s 1ms/step\n"
     ]
    },
    {
     "name": "stderr",
     "output_type": "stream",
     "text": [
      "\u001b[32m[I 2023-03-02 05:01:58,383]\u001b[0m Trial 71 finished with value: 0.8708694354398686 and parameters: {'units_1': 8, 'units_2': 14, 'alpha_1': 0.04672791150293141, 'alpha_2': 0.06889464276171253, 'dropout_1': 0.37906549725192323, 'dropout_2': 0.33905380702430865, 'l2_kern_1': 1.2865631051299457e-05, 'l2_kern_2': 1.9539837622527488e-05, 'l2_bias_1': 0.00024877395990791605, 'l2_bias_2': 0.003267748041432919, 'lr': 0.004393625163645485, 'batch_size': 64}. Best is trial 5 with value: 0.8903699507139367.\u001b[0m\n",
      "C:\\Users\\User\\AppData\\Local\\Temp\\ipykernel_9660\\4154129606.py:46: DeprecationWarning: KerasClassifier is deprecated, use Sci-Keras (https://github.com/adriangb/scikeras) instead. See https://www.adriangb.com/scikeras/stable/migration.html for help migrating.\n",
      "  ('classifier', KerasClassifier(build_fn=self.create_model, verbose=0))\n"
     ]
    },
    {
     "name": "stdout",
     "output_type": "stream",
     "text": [
      "195/195 [==============================] - 0s 1ms/step\n",
      "195/195 [==============================] - 0s 1ms/step\n",
      "195/195 [==============================] - 0s 2ms/step\n"
     ]
    },
    {
     "name": "stderr",
     "output_type": "stream",
     "text": [
      "\u001b[32m[I 2023-03-02 05:02:27,006]\u001b[0m Trial 72 finished with value: 0.8728693888549645 and parameters: {'units_1': 28, 'units_2': 21, 'alpha_1': 0.05440439376385516, 'alpha_2': 0.022998321232612872, 'dropout_1': 0.49315707259424196, 'dropout_2': 0.200770979475996, 'l2_kern_1': 1.3326370048925932e-05, 'l2_kern_2': 0.00018313182999254288, 'l2_bias_1': 0.004583626036462112, 'l2_bias_2': 0.0013629276424104173, 'lr': 0.005040520272337739, 'batch_size': 256}. Best is trial 5 with value: 0.8903699507139367.\u001b[0m\n",
      "C:\\Users\\User\\AppData\\Local\\Temp\\ipykernel_9660\\4154129606.py:46: DeprecationWarning: KerasClassifier is deprecated, use Sci-Keras (https://github.com/adriangb/scikeras) instead. See https://www.adriangb.com/scikeras/stable/migration.html for help migrating.\n",
      "  ('classifier', KerasClassifier(build_fn=self.create_model, verbose=0))\n"
     ]
    },
    {
     "name": "stdout",
     "output_type": "stream",
     "text": [
      "195/195 [==============================] - 0s 1ms/step\n",
      "195/195 [==============================] - 0s 1ms/step\n",
      "195/195 [==============================] - 0s 2ms/step\n"
     ]
    },
    {
     "name": "stderr",
     "output_type": "stream",
     "text": [
      "\u001b[32m[I 2023-03-02 05:03:20,883]\u001b[0m Trial 73 finished with value: 0.8278412978975771 and parameters: {'units_1': 11, 'units_2': 4, 'alpha_1': 0.012212366116720963, 'alpha_2': 0.09972367402087919, 'dropout_1': 0.3497335395920438, 'dropout_2': 0.21965635702645805, 'l2_kern_1': 0.0003006148762670684, 'l2_kern_2': 0.00017028245155737096, 'l2_bias_1': 3.354294950653628e-05, 'l2_bias_2': 3.809551234066891e-05, 'lr': 5.7304372926126624e-05, 'batch_size': 1024}. Best is trial 5 with value: 0.8903699507139367.\u001b[0m\n",
      "C:\\Users\\User\\AppData\\Local\\Temp\\ipykernel_9660\\4154129606.py:46: DeprecationWarning: KerasClassifier is deprecated, use Sci-Keras (https://github.com/adriangb/scikeras) instead. See https://www.adriangb.com/scikeras/stable/migration.html for help migrating.\n",
      "  ('classifier', KerasClassifier(build_fn=self.create_model, verbose=0))\n"
     ]
    },
    {
     "name": "stdout",
     "output_type": "stream",
     "text": [
      "195/195 [==============================] - 0s 1ms/step\n",
      "195/195 [==============================] - 0s 1ms/step\n",
      "195/195 [==============================] - 0s 1ms/step\n"
     ]
    },
    {
     "name": "stderr",
     "output_type": "stream",
     "text": [
      "\u001b[32m[I 2023-03-02 05:04:28,351]\u001b[0m Trial 74 finished with value: 0.8884874205392013 and parameters: {'units_1': 39, 'units_2': 31, 'alpha_1': 0.039283639809386844, 'alpha_2': 0.08415431034698818, 'dropout_1': 0.24886682477010275, 'dropout_2': 0.27955435479193774, 'l2_kern_1': 0.00021800123611397747, 'l2_kern_2': 1.5905155404420148e-05, 'l2_bias_1': 0.000119174745228931, 'l2_bias_2': 0.0029826146891192193, 'lr': 0.004091027779199542, 'batch_size': 64}. Best is trial 5 with value: 0.8903699507139367.\u001b[0m\n",
      "C:\\Users\\User\\AppData\\Local\\Temp\\ipykernel_9660\\4154129606.py:46: DeprecationWarning: KerasClassifier is deprecated, use Sci-Keras (https://github.com/adriangb/scikeras) instead. See https://www.adriangb.com/scikeras/stable/migration.html for help migrating.\n",
      "  ('classifier', KerasClassifier(build_fn=self.create_model, verbose=0))\n"
     ]
    },
    {
     "name": "stdout",
     "output_type": "stream",
     "text": [
      "195/195 [==============================] - 0s 1ms/step\n",
      "195/195 [==============================] - 0s 1ms/step\n",
      "195/195 [==============================] - 1s 2ms/step\n"
     ]
    },
    {
     "name": "stderr",
     "output_type": "stream",
     "text": [
      "\u001b[32m[I 2023-03-02 05:06:09,689]\u001b[0m Trial 75 finished with value: 0.8742603422147751 and parameters: {'units_1': 37, 'units_2': 14, 'alpha_1': 0.06674102585052345, 'alpha_2': 0.02675444123853315, 'dropout_1': 0.3999270111708876, 'dropout_2': 0.40643705253519263, 'l2_kern_1': 0.0002762252587948292, 'l2_kern_2': 0.0056775257638572675, 'l2_bias_1': 0.0021324476469233703, 'l2_bias_2': 0.009529719078469508, 'lr': 0.0008434413681363743, 'batch_size': 32}. Best is trial 5 with value: 0.8903699507139367.\u001b[0m\n",
      "C:\\Users\\User\\AppData\\Local\\Temp\\ipykernel_9660\\4154129606.py:46: DeprecationWarning: KerasClassifier is deprecated, use Sci-Keras (https://github.com/adriangb/scikeras) instead. See https://www.adriangb.com/scikeras/stable/migration.html for help migrating.\n",
      "  ('classifier', KerasClassifier(build_fn=self.create_model, verbose=0))\n"
     ]
    },
    {
     "name": "stdout",
     "output_type": "stream",
     "text": [
      "195/195 [==============================] - 0s 2ms/step\n",
      "195/195 [==============================] - 0s 1ms/step\n",
      "195/195 [==============================] - 0s 1ms/step\n"
     ]
    },
    {
     "name": "stderr",
     "output_type": "stream",
     "text": [
      "\u001b[32m[I 2023-03-02 05:06:32,978]\u001b[0m Trial 76 finished with value: 0.8337161540504358 and parameters: {'units_1': 2, 'units_2': 9, 'alpha_1': 0.07467019832380388, 'alpha_2': 0.02413672497755652, 'dropout_1': 0.27399780887888353, 'dropout_2': 0.44157382757055175, 'l2_kern_1': 0.0007863545623646968, 'l2_kern_2': 0.00032130790997019225, 'l2_bias_1': 0.007765448742537011, 'l2_bias_2': 4.4049757875090496e-05, 'lr': 0.00036497181582282473, 'batch_size': 512}. Best is trial 5 with value: 0.8903699507139367.\u001b[0m\n",
      "C:\\Users\\User\\AppData\\Local\\Temp\\ipykernel_9660\\4154129606.py:46: DeprecationWarning: KerasClassifier is deprecated, use Sci-Keras (https://github.com/adriangb/scikeras) instead. See https://www.adriangb.com/scikeras/stable/migration.html for help migrating.\n",
      "  ('classifier', KerasClassifier(build_fn=self.create_model, verbose=0))\n"
     ]
    },
    {
     "name": "stdout",
     "output_type": "stream",
     "text": [
      "195/195 [==============================] - 0s 1ms/step\n",
      "195/195 [==============================] - 0s 1ms/step\n",
      "195/195 [==============================] - 0s 1ms/step\n"
     ]
    },
    {
     "name": "stderr",
     "output_type": "stream",
     "text": [
      "\u001b[32m[I 2023-03-02 05:07:34,627]\u001b[0m Trial 77 finished with value: 0.8357005682599595 and parameters: {'units_1': 10, 'units_2': 5, 'alpha_1': 0.07706169624212501, 'alpha_2': 0.09102408325963196, 'dropout_1': 0.2934380533750797, 'dropout_2': 0.257144858636864, 'l2_kern_1': 0.007949167609700472, 'l2_kern_2': 0.0006252772948998413, 'l2_bias_1': 1.2470655546925121e-05, 'l2_bias_2': 1.8743264041918606e-05, 'lr': 5.070569794809321e-05, 'batch_size': 512}. Best is trial 5 with value: 0.8903699507139367.\u001b[0m\n",
      "C:\\Users\\User\\AppData\\Local\\Temp\\ipykernel_9660\\4154129606.py:46: DeprecationWarning: KerasClassifier is deprecated, use Sci-Keras (https://github.com/adriangb/scikeras) instead. See https://www.adriangb.com/scikeras/stable/migration.html for help migrating.\n",
      "  ('classifier', KerasClassifier(build_fn=self.create_model, verbose=0))\n"
     ]
    },
    {
     "name": "stdout",
     "output_type": "stream",
     "text": [
      "195/195 [==============================] - 0s 1ms/step\n",
      "195/195 [==============================] - 0s 1ms/step\n",
      "195/195 [==============================] - 0s 1ms/step\n"
     ]
    },
    {
     "name": "stderr",
     "output_type": "stream",
     "text": [
      "\u001b[32m[I 2023-03-02 05:07:48,332]\u001b[0m Trial 78 finished with value: 0.8549042296564578 and parameters: {'units_1': 10, 'units_2': 9, 'alpha_1': 0.03716917826724328, 'alpha_2': 0.0422390942715648, 'dropout_1': 0.3806972102541486, 'dropout_2': 0.45780515768027163, 'l2_kern_1': 0.00674334024650064, 'l2_kern_2': 0.0006273652219304838, 'l2_bias_1': 0.0002767628975585931, 'l2_bias_2': 0.00028752196986956194, 'lr': 0.0038832308679824443, 'batch_size': 512}. Best is trial 5 with value: 0.8903699507139367.\u001b[0m\n",
      "C:\\Users\\User\\AppData\\Local\\Temp\\ipykernel_9660\\4154129606.py:46: DeprecationWarning: KerasClassifier is deprecated, use Sci-Keras (https://github.com/adriangb/scikeras) instead. See https://www.adriangb.com/scikeras/stable/migration.html for help migrating.\n",
      "  ('classifier', KerasClassifier(build_fn=self.create_model, verbose=0))\n"
     ]
    },
    {
     "name": "stdout",
     "output_type": "stream",
     "text": [
      "195/195 [==============================] - 0s 1ms/step\n",
      "195/195 [==============================] - 0s 1ms/step\n",
      "195/195 [==============================] - 0s 1ms/step\n"
     ]
    },
    {
     "name": "stderr",
     "output_type": "stream",
     "text": [
      "\u001b[32m[I 2023-03-02 05:09:40,503]\u001b[0m Trial 79 finished with value: 0.8813295765854452 and parameters: {'units_1': 26, 'units_2': 10, 'alpha_1': 0.03734079824734005, 'alpha_2': 0.07475362049429904, 'dropout_1': 0.27008137263496934, 'dropout_2': 0.27495334306411173, 'l2_kern_1': 0.00013975532238783974, 'l2_kern_2': 0.0036065876672031682, 'l2_bias_1': 4.414909694781897e-05, 'l2_bias_2': 4.914761006791139e-05, 'lr': 0.0020028575916073506, 'batch_size': 32}. Best is trial 5 with value: 0.8903699507139367.\u001b[0m\n",
      "C:\\Users\\User\\AppData\\Local\\Temp\\ipykernel_9660\\4154129606.py:46: DeprecationWarning: KerasClassifier is deprecated, use Sci-Keras (https://github.com/adriangb/scikeras) instead. See https://www.adriangb.com/scikeras/stable/migration.html for help migrating.\n",
      "  ('classifier', KerasClassifier(build_fn=self.create_model, verbose=0))\n"
     ]
    },
    {
     "name": "stdout",
     "output_type": "stream",
     "text": [
      "195/195 [==============================] - 0s 1ms/step\n",
      "195/195 [==============================] - 0s 2ms/step\n",
      "195/195 [==============================] - 0s 1ms/step\n"
     ]
    },
    {
     "name": "stderr",
     "output_type": "stream",
     "text": [
      "\u001b[32m[I 2023-03-02 05:10:42,090]\u001b[0m Trial 80 finished with value: 0.8804032162558414 and parameters: {'units_1': 21, 'units_2': 23, 'alpha_1': 0.05120750620392408, 'alpha_2': 0.06554603154963759, 'dropout_1': 0.20594209255088275, 'dropout_2': 0.3983345903270621, 'l2_kern_1': 7.688151526930044e-05, 'l2_kern_2': 1.245615659999237e-05, 'l2_bias_1': 0.0036028906649222627, 'l2_bias_2': 1.964410934316506e-05, 'lr': 0.0012461910014802853, 'batch_size': 64}. Best is trial 5 with value: 0.8903699507139367.\u001b[0m\n",
      "C:\\Users\\User\\AppData\\Local\\Temp\\ipykernel_9660\\4154129606.py:46: DeprecationWarning: KerasClassifier is deprecated, use Sci-Keras (https://github.com/adriangb/scikeras) instead. See https://www.adriangb.com/scikeras/stable/migration.html for help migrating.\n",
      "  ('classifier', KerasClassifier(build_fn=self.create_model, verbose=0))\n"
     ]
    },
    {
     "name": "stdout",
     "output_type": "stream",
     "text": [
      "195/195 [==============================] - 0s 1ms/step\n",
      "195/195 [==============================] - 0s 1ms/step\n",
      "195/195 [==============================] - 0s 2ms/step\n"
     ]
    },
    {
     "name": "stderr",
     "output_type": "stream",
     "text": [
      "\u001b[32m[I 2023-03-02 05:11:33,507]\u001b[0m Trial 81 finished with value: 0.8841118317450679 and parameters: {'units_1': 36, 'units_2': 28, 'alpha_1': 0.02321333675868268, 'alpha_2': 0.09853885987475354, 'dropout_1': 0.39105178887840364, 'dropout_2': 0.25719842900725093, 'l2_kern_1': 0.00010646825961805423, 'l2_kern_2': 0.0008832604401552894, 'l2_bias_1': 0.0002759447317263319, 'l2_bias_2': 0.00055683250532132, 'lr': 0.0017910350569123057, 'batch_size': 128}. Best is trial 5 with value: 0.8903699507139367.\u001b[0m\n",
      "C:\\Users\\User\\AppData\\Local\\Temp\\ipykernel_9660\\4154129606.py:46: DeprecationWarning: KerasClassifier is deprecated, use Sci-Keras (https://github.com/adriangb/scikeras) instead. See https://www.adriangb.com/scikeras/stable/migration.html for help migrating.\n",
      "  ('classifier', KerasClassifier(build_fn=self.create_model, verbose=0))\n"
     ]
    },
    {
     "name": "stdout",
     "output_type": "stream",
     "text": [
      "195/195 [==============================] - 0s 1ms/step\n",
      "195/195 [==============================] - 0s 1ms/step\n",
      "195/195 [==============================] - 0s 2ms/step\n"
     ]
    },
    {
     "name": "stderr",
     "output_type": "stream",
     "text": [
      "\u001b[32m[I 2023-03-02 05:12:03,951]\u001b[0m Trial 82 finished with value: 0.8810177237605004 and parameters: {'units_1': 22, 'units_2': 37, 'alpha_1': 0.0809526002319569, 'alpha_2': 0.01955966237272809, 'dropout_1': 0.37313721275310097, 'dropout_2': 0.37984258285036804, 'l2_kern_1': 0.00012766517156349928, 'l2_kern_2': 0.00010751711561886673, 'l2_bias_1': 0.00015856552318927093, 'l2_bias_2': 0.007428123778146252, 'lr': 0.0034125128640643113, 'batch_size': 1024}. Best is trial 5 with value: 0.8903699507139367.\u001b[0m\n",
      "C:\\Users\\User\\AppData\\Local\\Temp\\ipykernel_9660\\4154129606.py:46: DeprecationWarning: KerasClassifier is deprecated, use Sci-Keras (https://github.com/adriangb/scikeras) instead. See https://www.adriangb.com/scikeras/stable/migration.html for help migrating.\n",
      "  ('classifier', KerasClassifier(build_fn=self.create_model, verbose=0))\n"
     ]
    },
    {
     "name": "stdout",
     "output_type": "stream",
     "text": [
      "195/195 [==============================] - 0s 1ms/step\n",
      "195/195 [==============================] - 0s 2ms/step\n",
      "195/195 [==============================] - 0s 1ms/step\n"
     ]
    },
    {
     "name": "stderr",
     "output_type": "stream",
     "text": [
      "\u001b[32m[I 2023-03-02 05:13:12,408]\u001b[0m Trial 83 finished with value: 0.8513074642568776 and parameters: {'units_1': 15, 'units_2': 2, 'alpha_1': 0.09812221180806543, 'alpha_2': 0.07294018605455878, 'dropout_1': 0.3775410519140663, 'dropout_2': 0.40736653242946674, 'l2_kern_1': 1.6831313088500796e-05, 'l2_kern_2': 0.00026390995723649823, 'l2_bias_1': 0.0007615713634129413, 'l2_bias_2': 0.0002057713638938872, 'lr': 0.0022932925259889314, 'batch_size': 32}. Best is trial 5 with value: 0.8903699507139367.\u001b[0m\n",
      "C:\\Users\\User\\AppData\\Local\\Temp\\ipykernel_9660\\4154129606.py:46: DeprecationWarning: KerasClassifier is deprecated, use Sci-Keras (https://github.com/adriangb/scikeras) instead. See https://www.adriangb.com/scikeras/stable/migration.html for help migrating.\n",
      "  ('classifier', KerasClassifier(build_fn=self.create_model, verbose=0))\n"
     ]
    },
    {
     "name": "stdout",
     "output_type": "stream",
     "text": [
      "195/195 [==============================] - 0s 1ms/step\n",
      "195/195 [==============================] - 0s 1ms/step\n",
      "195/195 [==============================] - 0s 1ms/step\n"
     ]
    },
    {
     "name": "stderr",
     "output_type": "stream",
     "text": [
      "\u001b[32m[I 2023-03-02 05:13:35,555]\u001b[0m Trial 84 finished with value: 0.865947651786259 and parameters: {'units_1': 26, 'units_2': 8, 'alpha_1': 0.08452197946535528, 'alpha_2': 0.05621960871354675, 'dropout_1': 0.24212200290510033, 'dropout_2': 0.45731556481602215, 'l2_kern_1': 0.008588060706709257, 'l2_kern_2': 0.000514537956451826, 'l2_bias_1': 0.0008730348001774361, 'l2_bias_2': 4.889317184935419e-05, 'lr': 0.0012816885988354084, 'batch_size': 512}. Best is trial 5 with value: 0.8903699507139367.\u001b[0m\n",
      "C:\\Users\\User\\AppData\\Local\\Temp\\ipykernel_9660\\4154129606.py:46: DeprecationWarning: KerasClassifier is deprecated, use Sci-Keras (https://github.com/adriangb/scikeras) instead. See https://www.adriangb.com/scikeras/stable/migration.html for help migrating.\n",
      "  ('classifier', KerasClassifier(build_fn=self.create_model, verbose=0))\n"
     ]
    },
    {
     "name": "stdout",
     "output_type": "stream",
     "text": [
      "195/195 [==============================] - 0s 2ms/step\n",
      "195/195 [==============================] - 0s 1ms/step\n",
      "195/195 [==============================] - 0s 1ms/step\n"
     ]
    },
    {
     "name": "stderr",
     "output_type": "stream",
     "text": [
      "\u001b[32m[I 2023-03-02 05:14:28,559]\u001b[0m Trial 85 finished with value: 0.837365150232641 and parameters: {'units_1': 2, 'units_2': 14, 'alpha_1': 0.09779476479121073, 'alpha_2': 0.06355711308127365, 'dropout_1': 0.4030797286057799, 'dropout_2': 0.208918525530128, 'l2_kern_1': 1.5532496520900448e-05, 'l2_kern_2': 0.00019123374451640845, 'l2_bias_1': 0.0010250214265381638, 'l2_bias_2': 0.000720761698400721, 'lr': 0.00016500763644754798, 'batch_size': 64}. Best is trial 5 with value: 0.8903699507139367.\u001b[0m\n",
      "C:\\Users\\User\\AppData\\Local\\Temp\\ipykernel_9660\\4154129606.py:46: DeprecationWarning: KerasClassifier is deprecated, use Sci-Keras (https://github.com/adriangb/scikeras) instead. See https://www.adriangb.com/scikeras/stable/migration.html for help migrating.\n",
      "  ('classifier', KerasClassifier(build_fn=self.create_model, verbose=0))\n"
     ]
    },
    {
     "name": "stdout",
     "output_type": "stream",
     "text": [
      "195/195 [==============================] - 0s 1ms/step\n",
      "195/195 [==============================] - 0s 1ms/step\n",
      "195/195 [==============================] - 0s 1ms/step\n"
     ]
    },
    {
     "name": "stderr",
     "output_type": "stream",
     "text": [
      "\u001b[32m[I 2023-03-02 05:15:02,790]\u001b[0m Trial 86 finished with value: 0.8501284003104198 and parameters: {'units_1': 31, 'units_2': 23, 'alpha_1': 0.035647689582338285, 'alpha_2': 0.0967316469510405, 'dropout_1': 0.4279109797211554, 'dropout_2': 0.483283427664376, 'l2_kern_1': 0.0005981776564139608, 'l2_kern_2': 6.236003063664938e-05, 'l2_bias_1': 0.004516020480798341, 'l2_bias_2': 2.729942399545961e-05, 'lr': 0.00016945267282087047, 'batch_size': 256}. Best is trial 5 with value: 0.8903699507139367.\u001b[0m\n",
      "C:\\Users\\User\\AppData\\Local\\Temp\\ipykernel_9660\\4154129606.py:46: DeprecationWarning: KerasClassifier is deprecated, use Sci-Keras (https://github.com/adriangb/scikeras) instead. See https://www.adriangb.com/scikeras/stable/migration.html for help migrating.\n",
      "  ('classifier', KerasClassifier(build_fn=self.create_model, verbose=0))\n"
     ]
    },
    {
     "name": "stdout",
     "output_type": "stream",
     "text": [
      "195/195 [==============================] - 0s 2ms/step\n",
      "195/195 [==============================] - 0s 1ms/step\n",
      "195/195 [==============================] - 1s 3ms/step\n"
     ]
    },
    {
     "name": "stderr",
     "output_type": "stream",
     "text": [
      "\u001b[32m[I 2023-03-02 05:17:00,579]\u001b[0m Trial 87 finished with value: 0.8608605641328029 and parameters: {'units_1': 16, 'units_2': 10, 'alpha_1': 0.022576781931500294, 'alpha_2': 0.049559526858378444, 'dropout_1': 0.383873059738956, 'dropout_2': 0.21477017137743698, 'l2_kern_1': 1.062657731988943e-05, 'l2_kern_2': 0.0060319461174717336, 'l2_bias_1': 6.916483774391106e-05, 'l2_bias_2': 0.004894982165732453, 'lr': 0.00024852097981743277, 'batch_size': 32}. Best is trial 5 with value: 0.8903699507139367.\u001b[0m\n",
      "C:\\Users\\User\\AppData\\Local\\Temp\\ipykernel_9660\\4154129606.py:46: DeprecationWarning: KerasClassifier is deprecated, use Sci-Keras (https://github.com/adriangb/scikeras) instead. See https://www.adriangb.com/scikeras/stable/migration.html for help migrating.\n",
      "  ('classifier', KerasClassifier(build_fn=self.create_model, verbose=0))\n"
     ]
    },
    {
     "name": "stdout",
     "output_type": "stream",
     "text": [
      "195/195 [==============================] - 0s 2ms/step\n",
      "195/195 [==============================] - 0s 1ms/step\n",
      "195/195 [==============================] - 0s 2ms/step\n"
     ]
    },
    {
     "name": "stderr",
     "output_type": "stream",
     "text": [
      "\u001b[32m[I 2023-03-02 05:17:56,908]\u001b[0m Trial 88 finished with value: 0.8710339327249019 and parameters: {'units_1': 35, 'units_2': 37, 'alpha_1': 0.09010293773672175, 'alpha_2': 0.06999511579910961, 'dropout_1': 0.26294983557712626, 'dropout_2': 0.40950472110899, 'l2_kern_1': 0.001515958304433327, 'l2_kern_2': 9.288954630909609e-05, 'l2_bias_1': 0.004194830940178153, 'l2_bias_2': 0.0001252554301265495, 'lr': 0.00024333537663916768, 'batch_size': 128}. Best is trial 5 with value: 0.8903699507139367.\u001b[0m\n",
      "C:\\Users\\User\\AppData\\Local\\Temp\\ipykernel_9660\\4154129606.py:46: DeprecationWarning: KerasClassifier is deprecated, use Sci-Keras (https://github.com/adriangb/scikeras) instead. See https://www.adriangb.com/scikeras/stable/migration.html for help migrating.\n",
      "  ('classifier', KerasClassifier(build_fn=self.create_model, verbose=0))\n"
     ]
    },
    {
     "name": "stdout",
     "output_type": "stream",
     "text": [
      "195/195 [==============================] - 0s 1ms/step\n",
      "195/195 [==============================] - 0s 1ms/step\n",
      "195/195 [==============================] - 0s 2ms/step\n"
     ]
    },
    {
     "name": "stderr",
     "output_type": "stream",
     "text": [
      "\u001b[32m[I 2023-03-02 05:18:47,483]\u001b[0m Trial 89 finished with value: 0.8283158041456019 and parameters: {'units_1': 5, 'units_2': 2, 'alpha_1': 0.09958160704278694, 'alpha_2': 0.06285101663335038, 'dropout_1': 0.4043748929854117, 'dropout_2': 0.270089232666016, 'l2_kern_1': 0.0009821618991842434, 'l2_kern_2': 2.408476650470237e-05, 'l2_bias_1': 0.001296508971746149, 'l2_bias_2': 0.00043169734546451787, 'lr': 5.6899466948563e-05, 'batch_size': 1024}. Best is trial 5 with value: 0.8903699507139367.\u001b[0m\n",
      "C:\\Users\\User\\AppData\\Local\\Temp\\ipykernel_9660\\4154129606.py:46: DeprecationWarning: KerasClassifier is deprecated, use Sci-Keras (https://github.com/adriangb/scikeras) instead. See https://www.adriangb.com/scikeras/stable/migration.html for help migrating.\n",
      "  ('classifier', KerasClassifier(build_fn=self.create_model, verbose=0))\n"
     ]
    },
    {
     "name": "stdout",
     "output_type": "stream",
     "text": [
      "195/195 [==============================] - 0s 1ms/step\n",
      "195/195 [==============================] - 0s 1ms/step\n",
      "195/195 [==============================] - 0s 1ms/step\n"
     ]
    },
    {
     "name": "stderr",
     "output_type": "stream",
     "text": [
      "\u001b[32m[I 2023-03-02 05:19:47,164]\u001b[0m Trial 90 finished with value: 0.8746011544711809 and parameters: {'units_1': 40, 'units_2': 18, 'alpha_1': 0.0818174775233608, 'alpha_2': 0.07238503299192045, 'dropout_1': 0.265036662227328, 'dropout_2': 0.38808769157478873, 'l2_kern_1': 0.0008018179204771986, 'l2_kern_2': 1.0534058430539667e-05, 'l2_bias_1': 3.021968482308284e-05, 'l2_bias_2': 1.5618417256593367e-05, 'lr': 0.00036651984827180733, 'batch_size': 128}. Best is trial 5 with value: 0.8903699507139367.\u001b[0m\n",
      "C:\\Users\\User\\AppData\\Local\\Temp\\ipykernel_9660\\4154129606.py:46: DeprecationWarning: KerasClassifier is deprecated, use Sci-Keras (https://github.com/adriangb/scikeras) instead. See https://www.adriangb.com/scikeras/stable/migration.html for help migrating.\n",
      "  ('classifier', KerasClassifier(build_fn=self.create_model, verbose=0))\n"
     ]
    },
    {
     "name": "stdout",
     "output_type": "stream",
     "text": [
      "195/195 [==============================] - 0s 1ms/step\n",
      "195/195 [==============================] - 0s 1ms/step\n",
      "195/195 [==============================] - 0s 1ms/step\n"
     ]
    },
    {
     "name": "stderr",
     "output_type": "stream",
     "text": [
      "\u001b[32m[I 2023-03-02 05:20:23,335]\u001b[0m Trial 91 finished with value: 0.8337483921167771 and parameters: {'units_1': 8, 'units_2': 39, 'alpha_1': 0.037338344102316685, 'alpha_2': 0.027947218573254745, 'dropout_1': 0.23393338276962775, 'dropout_2': 0.2769278524929594, 'l2_kern_1': 0.0010899130093234477, 'l2_kern_2': 0.0001255311973913399, 'l2_bias_1': 0.00030402817266328116, 'l2_bias_2': 0.005079549106945081, 'lr': 0.00011136208174243556, 'batch_size': 1024}. Best is trial 5 with value: 0.8903699507139367.\u001b[0m\n",
      "C:\\Users\\User\\AppData\\Local\\Temp\\ipykernel_9660\\4154129606.py:46: DeprecationWarning: KerasClassifier is deprecated, use Sci-Keras (https://github.com/adriangb/scikeras) instead. See https://www.adriangb.com/scikeras/stable/migration.html for help migrating.\n",
      "  ('classifier', KerasClassifier(build_fn=self.create_model, verbose=0))\n"
     ]
    },
    {
     "name": "stdout",
     "output_type": "stream",
     "text": [
      "195/195 [==============================] - 0s 1ms/step\n",
      "195/195 [==============================] - 0s 1ms/step\n",
      "195/195 [==============================] - 0s 1ms/step\n"
     ]
    },
    {
     "name": "stderr",
     "output_type": "stream",
     "text": [
      "\u001b[32m[I 2023-03-02 05:21:54,567]\u001b[0m Trial 92 finished with value: 0.8721436976993951 and parameters: {'units_1': 31, 'units_2': 19, 'alpha_1': 0.019848901270919785, 'alpha_2': 0.06175468020714568, 'dropout_1': 0.3949667148390855, 'dropout_2': 0.29237417783520986, 'l2_kern_1': 0.0003278702838042461, 'l2_kern_2': 0.001480829067872717, 'l2_bias_1': 1.2284882749823537e-05, 'l2_bias_2': 0.0001749043187669423, 'lr': 0.00044416062890645033, 'batch_size': 64}. Best is trial 5 with value: 0.8903699507139367.\u001b[0m\n",
      "C:\\Users\\User\\AppData\\Local\\Temp\\ipykernel_9660\\4154129606.py:46: DeprecationWarning: KerasClassifier is deprecated, use Sci-Keras (https://github.com/adriangb/scikeras) instead. See https://www.adriangb.com/scikeras/stable/migration.html for help migrating.\n",
      "  ('classifier', KerasClassifier(build_fn=self.create_model, verbose=0))\n"
     ]
    },
    {
     "name": "stdout",
     "output_type": "stream",
     "text": [
      "195/195 [==============================] - 0s 1ms/step\n",
      "195/195 [==============================] - 0s 1ms/step\n",
      "195/195 [==============================] - 0s 1ms/step\n"
     ]
    },
    {
     "name": "stderr",
     "output_type": "stream",
     "text": [
      "\u001b[32m[I 2023-03-02 05:23:52,583]\u001b[0m Trial 93 finished with value: 0.8760070775258799 and parameters: {'units_1': 37, 'units_2': 22, 'alpha_1': 0.07720194914958839, 'alpha_2': 0.03389621752663878, 'dropout_1': 0.46783409496294215, 'dropout_2': 0.24846947436666325, 'l2_kern_1': 0.001894233280054176, 'l2_kern_2': 5.3829102525298394e-05, 'l2_bias_1': 0.0013118856356836045, 'l2_bias_2': 5.954511171112875e-05, 'lr': 0.0036436335424470207, 'batch_size': 16}. Best is trial 5 with value: 0.8903699507139367.\u001b[0m\n",
      "C:\\Users\\User\\AppData\\Local\\Temp\\ipykernel_9660\\4154129606.py:46: DeprecationWarning: KerasClassifier is deprecated, use Sci-Keras (https://github.com/adriangb/scikeras) instead. See https://www.adriangb.com/scikeras/stable/migration.html for help migrating.\n",
      "  ('classifier', KerasClassifier(build_fn=self.create_model, verbose=0))\n"
     ]
    },
    {
     "name": "stdout",
     "output_type": "stream",
     "text": [
      "195/195 [==============================] - 0s 1ms/step\n",
      "195/195 [==============================] - 0s 1ms/step\n",
      "195/195 [==============================] - 0s 1ms/step\n"
     ]
    },
    {
     "name": "stderr",
     "output_type": "stream",
     "text": [
      "\u001b[32m[I 2023-03-02 05:24:12,524]\u001b[0m Trial 94 finished with value: 0.8524888170936906 and parameters: {'units_1': 4, 'units_2': 14, 'alpha_1': 0.06750852278791507, 'alpha_2': 0.03164612553774644, 'dropout_1': 0.3015410942401074, 'dropout_2': 0.39326901148340265, 'l2_kern_1': 4.427359807056796e-05, 'l2_kern_2': 0.005930562563836918, 'l2_bias_1': 0.008006306037199347, 'l2_bias_2': 0.000505223169599958, 'lr': 0.006972730068881653, 'batch_size': 256}. Best is trial 5 with value: 0.8903699507139367.\u001b[0m\n",
      "C:\\Users\\User\\AppData\\Local\\Temp\\ipykernel_9660\\4154129606.py:46: DeprecationWarning: KerasClassifier is deprecated, use Sci-Keras (https://github.com/adriangb/scikeras) instead. See https://www.adriangb.com/scikeras/stable/migration.html for help migrating.\n",
      "  ('classifier', KerasClassifier(build_fn=self.create_model, verbose=0))\n"
     ]
    },
    {
     "name": "stdout",
     "output_type": "stream",
     "text": [
      "195/195 [==============================] - 0s 2ms/step\n",
      "195/195 [==============================] - 0s 1ms/step\n",
      "195/195 [==============================] - 0s 1ms/step\n"
     ]
    },
    {
     "name": "stderr",
     "output_type": "stream",
     "text": [
      "\u001b[32m[I 2023-03-02 05:26:16,498]\u001b[0m Trial 95 finished with value: 0.8578968983374439 and parameters: {'units_1': 29, 'units_2': 2, 'alpha_1': 0.09901068361985184, 'alpha_2': 0.08568566892060211, 'dropout_1': 0.4397284062756686, 'dropout_2': 0.4018853974818777, 'l2_kern_1': 0.0001400580936291728, 'l2_kern_2': 0.0010498434138788424, 'l2_bias_1': 0.0009077269862991797, 'l2_bias_2': 0.00026381463344560973, 'lr': 0.002445288669268253, 'batch_size': 16}. Best is trial 5 with value: 0.8903699507139367.\u001b[0m\n",
      "C:\\Users\\User\\AppData\\Local\\Temp\\ipykernel_9660\\4154129606.py:46: DeprecationWarning: KerasClassifier is deprecated, use Sci-Keras (https://github.com/adriangb/scikeras) instead. See https://www.adriangb.com/scikeras/stable/migration.html for help migrating.\n",
      "  ('classifier', KerasClassifier(build_fn=self.create_model, verbose=0))\n"
     ]
    },
    {
     "name": "stdout",
     "output_type": "stream",
     "text": [
      "195/195 [==============================] - 0s 1ms/step\n",
      "195/195 [==============================] - 0s 1ms/step\n",
      "195/195 [==============================] - 0s 1ms/step\n"
     ]
    },
    {
     "name": "stderr",
     "output_type": "stream",
     "text": [
      "\u001b[32m[I 2023-03-02 05:32:07,635]\u001b[0m Trial 96 finished with value: 0.8822310869060835 and parameters: {'units_1': 40, 'units_2': 22, 'alpha_1': 0.060738558923436645, 'alpha_2': 0.021060190043945257, 'dropout_1': 0.39392161488560157, 'dropout_2': 0.34003916191324823, 'l2_kern_1': 0.0002907277110908043, 'l2_kern_2': 0.00019385270831662096, 'l2_bias_1': 0.00012711312572424955, 'l2_bias_2': 4.701664808912027e-05, 'lr': 0.00019794640996176636, 'batch_size': 16}. Best is trial 5 with value: 0.8903699507139367.\u001b[0m\n",
      "C:\\Users\\User\\AppData\\Local\\Temp\\ipykernel_9660\\4154129606.py:46: DeprecationWarning: KerasClassifier is deprecated, use Sci-Keras (https://github.com/adriangb/scikeras) instead. See https://www.adriangb.com/scikeras/stable/migration.html for help migrating.\n",
      "  ('classifier', KerasClassifier(build_fn=self.create_model, verbose=0))\n"
     ]
    },
    {
     "name": "stdout",
     "output_type": "stream",
     "text": [
      "195/195 [==============================] - 0s 2ms/step\n",
      "195/195 [==============================] - 0s 2ms/step\n",
      "195/195 [==============================] - 0s 1ms/step\n"
     ]
    },
    {
     "name": "stderr",
     "output_type": "stream",
     "text": [
      "\u001b[32m[I 2023-03-02 05:32:28,636]\u001b[0m Trial 97 finished with value: 0.8519097260930555 and parameters: {'units_1': 6, 'units_2': 24, 'alpha_1': 0.07164478653545853, 'alpha_2': 0.05832952845658084, 'dropout_1': 0.21978685444692114, 'dropout_2': 0.4079340835964764, 'l2_kern_1': 4.6454460144473075e-05, 'l2_kern_2': 0.0008244185121028412, 'l2_bias_1': 0.004274013448562587, 'l2_bias_2': 0.0002955728212055277, 'lr': 0.0015705470192841505, 'batch_size': 1024}. Best is trial 5 with value: 0.8903699507139367.\u001b[0m\n",
      "C:\\Users\\User\\AppData\\Local\\Temp\\ipykernel_9660\\4154129606.py:46: DeprecationWarning: KerasClassifier is deprecated, use Sci-Keras (https://github.com/adriangb/scikeras) instead. See https://www.adriangb.com/scikeras/stable/migration.html for help migrating.\n",
      "  ('classifier', KerasClassifier(build_fn=self.create_model, verbose=0))\n"
     ]
    },
    {
     "name": "stdout",
     "output_type": "stream",
     "text": [
      "195/195 [==============================] - 0s 1ms/step\n",
      "195/195 [==============================] - 0s 1ms/step\n",
      "195/195 [==============================] - 0s 1ms/step\n"
     ]
    },
    {
     "name": "stderr",
     "output_type": "stream",
     "text": [
      "\u001b[32m[I 2023-03-02 05:32:58,133]\u001b[0m Trial 98 finished with value: 0.8707514232013186 and parameters: {'units_1': 32, 'units_2': 19, 'alpha_1': 0.050016463992190376, 'alpha_2': 0.03245218598988364, 'dropout_1': 0.4959682916651092, 'dropout_2': 0.4626750614422426, 'l2_kern_1': 0.00010892375207090871, 'l2_kern_2': 1.1548491140935586e-05, 'l2_bias_1': 2.513203684259584e-05, 'l2_bias_2': 0.00014121855902086243, 'lr': 0.0014951107679228813, 'batch_size': 512}. Best is trial 5 with value: 0.8903699507139367.\u001b[0m\n",
      "C:\\Users\\User\\AppData\\Local\\Temp\\ipykernel_9660\\4154129606.py:46: DeprecationWarning: KerasClassifier is deprecated, use Sci-Keras (https://github.com/adriangb/scikeras) instead. See https://www.adriangb.com/scikeras/stable/migration.html for help migrating.\n",
      "  ('classifier', KerasClassifier(build_fn=self.create_model, verbose=0))\n"
     ]
    },
    {
     "name": "stdout",
     "output_type": "stream",
     "text": [
      "195/195 [==============================] - 0s 1ms/step\n",
      "195/195 [==============================] - 0s 1ms/step\n",
      "195/195 [==============================] - 0s 1ms/step\n"
     ]
    },
    {
     "name": "stderr",
     "output_type": "stream",
     "text": [
      "\u001b[32m[I 2023-03-02 05:33:38,626]\u001b[0m Trial 99 finished with value: 0.8614392896471759 and parameters: {'units_1': 22, 'units_2': 29, 'alpha_1': 0.046233863255195295, 'alpha_2': 0.030221429455132648, 'dropout_1': 0.3141576104281736, 'dropout_2': 0.318249033662377, 'l2_kern_1': 1.151772315631499e-05, 'l2_kern_2': 4.178051897268625e-05, 'l2_bias_1': 0.00015073286553271477, 'l2_bias_2': 7.09552732499777e-05, 'lr': 0.0003565907276654163, 'batch_size': 512}. Best is trial 5 with value: 0.8903699507139367.\u001b[0m\n"
     ]
    },
    {
     "name": "stdout",
     "output_type": "stream",
     "text": [
      "Number of finished trials: 100\n",
      "Best trial:\n",
      "  Value: 0.8903699507139367\n",
      "    units_1: 37\n",
      "    units_2: 23\n",
      "    alpha_1: 0.03349519606693909\n",
      "    alpha_2: 0.011575049992672148\n",
      "    dropout_1: 0.2114537613928619\n",
      "    dropout_2: 0.45429747486484096\n",
      "    l2_kern_1: 1.2345640902292396e-05\n",
      "    l2_kern_2: 0.0005339431188815503\n",
      "    l2_bias_1: 0.00041779401566032886\n",
      "    l2_bias_2: 0.0031130716173870935\n",
      "    lr: 0.004086479715137101\n",
      "    batch_size: 512\n"
     ]
    },
    {
     "name": "stderr",
     "output_type": "stream",
     "text": [
      "C:\\Users\\User\\AppData\\Local\\Temp\\ipykernel_9660\\4154129606.py:140: DeprecationWarning: KerasClassifier is deprecated, use Sci-Keras (https://github.com/adriangb/scikeras) instead. See https://www.adriangb.com/scikeras/stable/migration.html for help migrating.\n",
      "  ('classifier', KerasClassifier(build_fn=tun.create_model, verbose=0))\n"
     ]
    },
    {
     "name": "stdout",
     "output_type": "stream",
     "text": [
      "117/117 [==============================] - 0s 2ms/step\n",
      "117/117 [==============================] - 0s 1ms/step\n",
      "117/117 [==============================] - 0s 1ms/step\n",
      "117/117 [==============================] - 0s 1ms/step\n",
      "117/117 [==============================] - 0s 1ms/step\n",
      "37/37 [==============================] - 0s 1ms/step\n",
      "37/37 [==============================] - 0s 1ms/step\n",
      "37/37 [==============================] - 0s 9ms/step\n",
      "37/37 [==============================] - 0s 1ms/step\n",
      "37/37 [==============================] - 0s 2ms/step\n",
      "Train mean AUC score is 0.8882221421564302 while test mean AUC score is 0.8881831300232902.\n",
      "183/183 [==============================] - 0s 1ms/step\n",
      "              precision    recall  f1-score   support\n",
      "\n",
      "          No       0.90      0.99      0.94      4648\n",
      "         Yes       0.91      0.55      0.69      1186\n",
      "\n",
      "    accuracy                           0.90      5834\n",
      "   macro avg       0.90      0.77      0.81      5834\n",
      "weighted avg       0.90      0.90      0.89      5834\n",
      "\n"
     ]
    }
   ],
   "source": [
    "# Random Sampler\n",
    "params_rs = tun.Tuning(n_trials=trials, sampler = optuna.samplers.RandomSampler())\n",
    "rs_scores = tun.Best_MLP_model(params_rs)\n",
    "rs_scores = rs_scores.rename(columns={'Tree-structured Parzen Estimator': 'Random Sampler'})\n"
   ]
  },
  {
   "cell_type": "code",
   "execution_count": 5,
   "id": "f80823f1",
   "metadata": {
    "scrolled": false
   },
   "outputs": [
    {
     "name": "stderr",
     "output_type": "stream",
     "text": [
      "\u001b[32m[I 2023-03-02 14:13:49,317]\u001b[0m A new study created in memory with name: no-name-648e3f0e-ed7c-4c55-8dc4-6609b6cf4535\u001b[0m\n",
      "C:\\Users\\User\\AppData\\Local\\Temp\\ipykernel_5968\\4154129606.py:46: DeprecationWarning: KerasClassifier is deprecated, use Sci-Keras (https://github.com/adriangb/scikeras) instead. See https://www.adriangb.com/scikeras/stable/migration.html for help migrating.\n",
      "  ('classifier', KerasClassifier(build_fn=self.create_model, verbose=0))\n"
     ]
    },
    {
     "name": "stdout",
     "output_type": "stream",
     "text": [
      "195/195 [==============================] - 0s 1ms/step\n",
      "195/195 [==============================] - 0s 2ms/step\n",
      "195/195 [==============================] - 0s 1ms/step\n"
     ]
    },
    {
     "name": "stderr",
     "output_type": "stream",
     "text": [
      "\u001b[32m[I 2023-03-02 14:14:12,976]\u001b[0m Trial 0 finished with value: 0.8647099322727357 and parameters: {'units_1': 25, 'units_2': 35, 'alpha_1': 0.03475615683698265, 'alpha_2': 0.09548130811993064, 'dropout_1': 0.28160612309881816, 'dropout_2': 0.28140127387018987, 'l2_kern_1': 8.651534041136919e-05, 'l2_kern_2': 0.007737546535067332, 'l2_bias_1': 0.0004885165137497015, 'l2_bias_2': 0.002298001801129686, 'lr': 0.0016902379815089633, 'batch_size': 1024}. Best is trial 0 with value: 0.8647099322727357.\u001b[0m\n",
      "C:\\Users\\User\\AppData\\Local\\Temp\\ipykernel_5968\\4154129606.py:46: DeprecationWarning: KerasClassifier is deprecated, use Sci-Keras (https://github.com/adriangb/scikeras) instead. See https://www.adriangb.com/scikeras/stable/migration.html for help migrating.\n",
      "  ('classifier', KerasClassifier(build_fn=self.create_model, verbose=0))\n"
     ]
    },
    {
     "name": "stdout",
     "output_type": "stream",
     "text": [
      "195/195 [==============================] - 0s 1ms/step\n",
      "195/195 [==============================] - 0s 1ms/step\n",
      "195/195 [==============================] - 0s 1ms/step\n"
     ]
    },
    {
     "name": "stderr",
     "output_type": "stream",
     "text": [
      "\u001b[32m[I 2023-03-02 14:16:07,442]\u001b[0m Trial 1 finished with value: 0.8521933990929157 and parameters: {'units_1': 14, 'units_2': 21, 'alpha_1': 0.030867899045047005, 'alpha_2': 0.08885139300038289, 'dropout_1': 0.4783843310779814, 'dropout_2': 0.3853305826100967, 'l2_kern_1': 0.0004931338370444792, 'l2_kern_2': 0.0013867108457293123, 'l2_bias_1': 0.003682087864417631, 'l2_bias_2': 4.178964413389416e-05, 'lr': 0.002658776839363301, 'batch_size': 16}. Best is trial 0 with value: 0.8647099322727357.\u001b[0m\n",
      "C:\\Users\\User\\AppData\\Local\\Temp\\ipykernel_5968\\4154129606.py:46: DeprecationWarning: KerasClassifier is deprecated, use Sci-Keras (https://github.com/adriangb/scikeras) instead. See https://www.adriangb.com/scikeras/stable/migration.html for help migrating.\n",
      "  ('classifier', KerasClassifier(build_fn=self.create_model, verbose=0))\n"
     ]
    },
    {
     "name": "stdout",
     "output_type": "stream",
     "text": [
      "195/195 [==============================] - 1s 2ms/step\n",
      "195/195 [==============================] - 0s 1ms/step\n",
      "195/195 [==============================] - 0s 1ms/step\n"
     ]
    },
    {
     "name": "stderr",
     "output_type": "stream",
     "text": [
      "\u001b[32m[I 2023-03-02 14:17:35,131]\u001b[0m Trial 2 finished with value: 0.883048790570847 and parameters: {'units_1': 34, 'units_2': 21, 'alpha_1': 0.04003928359586926, 'alpha_2': 0.06210711632772143, 'dropout_1': 0.2938399442882509, 'dropout_2': 0.21500315917306256, 'l2_kern_1': 0.00014436199771479758, 'l2_kern_2': 3.0111156117759884e-05, 'l2_bias_1': 6.698400814244221e-05, 'l2_bias_2': 0.005658282165694526, 'lr': 0.006154152102597497, 'batch_size': 32}. Best is trial 2 with value: 0.883048790570847.\u001b[0m\n",
      "C:\\Users\\User\\AppData\\Local\\Temp\\ipykernel_5968\\4154129606.py:46: DeprecationWarning: KerasClassifier is deprecated, use Sci-Keras (https://github.com/adriangb/scikeras) instead. See https://www.adriangb.com/scikeras/stable/migration.html for help migrating.\n",
      "  ('classifier', KerasClassifier(build_fn=self.create_model, verbose=0))\n"
     ]
    },
    {
     "name": "stdout",
     "output_type": "stream",
     "text": [
      "195/195 [==============================] - 0s 2ms/step\n",
      "195/195 [==============================] - 0s 1ms/step\n",
      "195/195 [==============================] - 0s 2ms/step\n"
     ]
    },
    {
     "name": "stderr",
     "output_type": "stream",
     "text": [
      "\u001b[32m[I 2023-03-02 14:18:05,137]\u001b[0m Trial 3 finished with value: 0.8498424836999973 and parameters: {'units_1': 40, 'units_2': 34, 'alpha_1': 0.06954946159563716, 'alpha_2': 0.05801898377531365, 'dropout_1': 0.3820464875049758, 'dropout_2': 0.3728987709596412, 'l2_kern_1': 1.1503215465701984e-05, 'l2_kern_2': 0.004501461990677478, 'l2_bias_1': 0.0009280739965818372, 'l2_bias_2': 0.0001249214667762906, 'lr': 0.00026491797378028437, 'batch_size': 1024}. Best is trial 2 with value: 0.883048790570847.\u001b[0m\n",
      "C:\\Users\\User\\AppData\\Local\\Temp\\ipykernel_5968\\4154129606.py:46: DeprecationWarning: KerasClassifier is deprecated, use Sci-Keras (https://github.com/adriangb/scikeras) instead. See https://www.adriangb.com/scikeras/stable/migration.html for help migrating.\n",
      "  ('classifier', KerasClassifier(build_fn=self.create_model, verbose=0))\n"
     ]
    },
    {
     "name": "stdout",
     "output_type": "stream",
     "text": [
      "195/195 [==============================] - 0s 1ms/step\n",
      "195/195 [==============================] - 0s 1ms/step\n",
      "195/195 [==============================] - 0s 2ms/step\n"
     ]
    },
    {
     "name": "stderr",
     "output_type": "stream",
     "text": [
      "\u001b[32m[I 2023-03-02 14:18:25,043]\u001b[0m Trial 4 finished with value: 0.8784573565694934 and parameters: {'units_1': 32, 'units_2': 17, 'alpha_1': 0.04365301530083538, 'alpha_2': 0.07478717950456434, 'dropout_1': 0.20907223230099156, 'dropout_2': 0.4421224985685623, 'l2_kern_1': 0.0007919883106736205, 'l2_kern_2': 2.191406546539561e-05, 'l2_bias_1': 2.298032162725729e-05, 'l2_bias_2': 7.526625189841412e-05, 'lr': 0.004649916585365546, 'batch_size': 1024}. Best is trial 2 with value: 0.883048790570847.\u001b[0m\n",
      "C:\\Users\\User\\AppData\\Local\\Temp\\ipykernel_5968\\4154129606.py:46: DeprecationWarning: KerasClassifier is deprecated, use Sci-Keras (https://github.com/adriangb/scikeras) instead. See https://www.adriangb.com/scikeras/stable/migration.html for help migrating.\n",
      "  ('classifier', KerasClassifier(build_fn=self.create_model, verbose=0))\n"
     ]
    },
    {
     "name": "stdout",
     "output_type": "stream",
     "text": [
      "195/195 [==============================] - 0s 2ms/step\n",
      "195/195 [==============================] - 0s 2ms/step\n",
      "195/195 [==============================] - 0s 1ms/step\n"
     ]
    },
    {
     "name": "stderr",
     "output_type": "stream",
     "text": [
      "\u001b[32m[I 2023-03-02 14:18:52,714]\u001b[0m Trial 5 finished with value: 0.8371268478401745 and parameters: {'units_1': 20, 'units_2': 6, 'alpha_1': 0.05848607718907877, 'alpha_2': 0.02810699326872696, 'dropout_1': 0.2792541360894045, 'dropout_2': 0.4731335067757394, 'l2_kern_1': 0.0005057620682448063, 'l2_kern_2': 0.000587445460534772, 'l2_bias_1': 0.0017278737096540723, 'l2_bias_2': 0.0008040507138387727, 'lr': 0.00016988936474884593, 'batch_size': 1024}. Best is trial 2 with value: 0.883048790570847.\u001b[0m\n",
      "C:\\Users\\User\\AppData\\Local\\Temp\\ipykernel_5968\\4154129606.py:46: DeprecationWarning: KerasClassifier is deprecated, use Sci-Keras (https://github.com/adriangb/scikeras) instead. See https://www.adriangb.com/scikeras/stable/migration.html for help migrating.\n",
      "  ('classifier', KerasClassifier(build_fn=self.create_model, verbose=0))\n"
     ]
    },
    {
     "name": "stdout",
     "output_type": "stream",
     "text": [
      "195/195 [==============================] - 0s 1ms/step\n",
      "195/195 [==============================] - 0s 1ms/step\n",
      "195/195 [==============================] - 0s 2ms/step\n"
     ]
    },
    {
     "name": "stderr",
     "output_type": "stream",
     "text": [
      "\u001b[32m[I 2023-03-02 14:19:16,290]\u001b[0m Trial 6 finished with value: 0.8592195622757443 and parameters: {'units_1': 24, 'units_2': 35, 'alpha_1': 0.06171201192655083, 'alpha_2': 0.0709936505965852, 'dropout_1': 0.48373535415424435, 'dropout_2': 0.4222835969774996, 'l2_kern_1': 7.376416405614518e-05, 'l2_kern_2': 0.002367577251107644, 'l2_bias_1': 1.3728737199999525e-05, 'l2_bias_2': 0.00012074325703778706, 'lr': 0.0009708763569910723, 'batch_size': 512}. Best is trial 2 with value: 0.883048790570847.\u001b[0m\n",
      "C:\\Users\\User\\AppData\\Local\\Temp\\ipykernel_5968\\4154129606.py:46: DeprecationWarning: KerasClassifier is deprecated, use Sci-Keras (https://github.com/adriangb/scikeras) instead. See https://www.adriangb.com/scikeras/stable/migration.html for help migrating.\n",
      "  ('classifier', KerasClassifier(build_fn=self.create_model, verbose=0))\n"
     ]
    },
    {
     "name": "stdout",
     "output_type": "stream",
     "text": [
      "195/195 [==============================] - 0s 1ms/step\n",
      "195/195 [==============================] - 0s 1ms/step\n",
      "195/195 [==============================] - 0s 1ms/step\n"
     ]
    },
    {
     "name": "stderr",
     "output_type": "stream",
     "text": [
      "\u001b[32m[I 2023-03-02 14:21:07,075]\u001b[0m Trial 7 finished with value: 0.8603931897599958 and parameters: {'units_1': 22, 'units_2': 16, 'alpha_1': 0.017602290840330402, 'alpha_2': 0.07783325808554041, 'dropout_1': 0.3710849453225461, 'dropout_2': 0.42222338956336825, 'l2_kern_1': 6.106783035443539e-05, 'l2_kern_2': 0.006758836946831938, 'l2_bias_1': 0.0011936313661500603, 'l2_bias_2': 0.006000968042101711, 'lr': 0.0048091509209991536, 'batch_size': 16}. Best is trial 2 with value: 0.883048790570847.\u001b[0m\n",
      "C:\\Users\\User\\AppData\\Local\\Temp\\ipykernel_5968\\4154129606.py:46: DeprecationWarning: KerasClassifier is deprecated, use Sci-Keras (https://github.com/adriangb/scikeras) instead. See https://www.adriangb.com/scikeras/stable/migration.html for help migrating.\n",
      "  ('classifier', KerasClassifier(build_fn=self.create_model, verbose=0))\n"
     ]
    },
    {
     "name": "stdout",
     "output_type": "stream",
     "text": [
      "195/195 [==============================] - 1s 2ms/step\n",
      "195/195 [==============================] - 0s 1ms/step\n",
      "195/195 [==============================] - 0s 1ms/step\n"
     ]
    },
    {
     "name": "stderr",
     "output_type": "stream",
     "text": [
      "\u001b[32m[I 2023-03-02 14:21:40,597]\u001b[0m Trial 8 finished with value: 0.8410205747019431 and parameters: {'units_1': 14, 'units_2': 38, 'alpha_1': 0.02799063115098735, 'alpha_2': 0.0965390336155468, 'dropout_1': 0.33427434904051423, 'dropout_2': 0.44333778436240723, 'l2_kern_1': 0.008413351399578911, 'l2_kern_2': 2.7000322620487314e-05, 'l2_bias_1': 0.00025101970304919623, 'l2_bias_2': 0.004809365300218228, 'lr': 0.00018387480367090193, 'batch_size': 512}. Best is trial 2 with value: 0.883048790570847.\u001b[0m\n",
      "C:\\Users\\User\\AppData\\Local\\Temp\\ipykernel_5968\\4154129606.py:46: DeprecationWarning: KerasClassifier is deprecated, use Sci-Keras (https://github.com/adriangb/scikeras) instead. See https://www.adriangb.com/scikeras/stable/migration.html for help migrating.\n",
      "  ('classifier', KerasClassifier(build_fn=self.create_model, verbose=0))\n"
     ]
    },
    {
     "name": "stdout",
     "output_type": "stream",
     "text": [
      "195/195 [==============================] - 0s 2ms/step\n",
      "195/195 [==============================] - 0s 2ms/step\n",
      "195/195 [==============================] - 0s 1ms/step\n"
     ]
    },
    {
     "name": "stderr",
     "output_type": "stream",
     "text": [
      "\u001b[32m[I 2023-03-02 14:30:02,382]\u001b[0m Trial 9 finished with value: 0.8751020074450451 and parameters: {'units_1': 33, 'units_2': 35, 'alpha_1': 0.060631532702601056, 'alpha_2': 0.040528461610066444, 'dropout_1': 0.2604944731720721, 'dropout_2': 0.3645362476846008, 'l2_kern_1': 0.0007169981638191136, 'l2_kern_2': 3.1959456384180613e-05, 'l2_bias_1': 4.097057762107017e-05, 'l2_bias_2': 0.0034263151147741304, 'lr': 9.869247981308181e-05, 'batch_size': 16}. Best is trial 2 with value: 0.883048790570847.\u001b[0m\n",
      "C:\\Users\\User\\AppData\\Local\\Temp\\ipykernel_5968\\4154129606.py:46: DeprecationWarning: KerasClassifier is deprecated, use Sci-Keras (https://github.com/adriangb/scikeras) instead. See https://www.adriangb.com/scikeras/stable/migration.html for help migrating.\n",
      "  ('classifier', KerasClassifier(build_fn=self.create_model, verbose=0))\n"
     ]
    },
    {
     "name": "stdout",
     "output_type": "stream",
     "text": [
      "195/195 [==============================] - 0s 1ms/step\n",
      "195/195 [==============================] - 0s 1ms/step\n",
      "195/195 [==============================] - 0s 1ms/step\n"
     ]
    },
    {
     "name": "stderr",
     "output_type": "stream",
     "text": [
      "\u001b[32m[I 2023-03-02 14:30:30,210]\u001b[0m Trial 10 finished with value: 0.8364200443446731 and parameters: {'units_1': 2, 'units_2': 7, 'alpha_1': 0.08553857553197328, 'alpha_2': 0.01987149164471131, 'dropout_1': 0.4520189579895046, 'dropout_2': 0.3528268707251242, 'l2_kern_1': 0.0003920622481012504, 'l2_kern_2': 1.3490456416289462e-05, 'l2_bias_1': 0.0002110817733052643, 'l2_bias_2': 4.1604960033879234e-05, 'lr': 0.0004844787925817494, 'batch_size': 256}. Best is trial 2 with value: 0.883048790570847.\u001b[0m\n",
      "C:\\Users\\User\\AppData\\Local\\Temp\\ipykernel_5968\\4154129606.py:46: DeprecationWarning: KerasClassifier is deprecated, use Sci-Keras (https://github.com/adriangb/scikeras) instead. See https://www.adriangb.com/scikeras/stable/migration.html for help migrating.\n",
      "  ('classifier', KerasClassifier(build_fn=self.create_model, verbose=0))\n"
     ]
    },
    {
     "name": "stdout",
     "output_type": "stream",
     "text": [
      "195/195 [==============================] - 0s 2ms/step\n",
      "195/195 [==============================] - 0s 1ms/step\n",
      "195/195 [==============================] - 0s 1ms/step\n"
     ]
    },
    {
     "name": "stderr",
     "output_type": "stream",
     "text": [
      "\u001b[32m[I 2023-03-02 14:31:31,035]\u001b[0m Trial 11 finished with value: 0.8620396060868248 and parameters: {'units_1': 13, 'units_2': 20, 'alpha_1': 0.08464692041109746, 'alpha_2': 0.07152344410491471, 'dropout_1': 0.4901348362252705, 'dropout_2': 0.38020126815573224, 'l2_kern_1': 0.0022167126651394245, 'l2_kern_2': 0.00043307637123990824, 'l2_bias_1': 0.00015404558083925935, 'l2_bias_2': 0.003203852517714035, 'lr': 0.0010971460760837027, 'batch_size': 64}. Best is trial 2 with value: 0.883048790570847.\u001b[0m\n",
      "C:\\Users\\User\\AppData\\Local\\Temp\\ipykernel_5968\\4154129606.py:46: DeprecationWarning: KerasClassifier is deprecated, use Sci-Keras (https://github.com/adriangb/scikeras) instead. See https://www.adriangb.com/scikeras/stable/migration.html for help migrating.\n",
      "  ('classifier', KerasClassifier(build_fn=self.create_model, verbose=0))\n"
     ]
    },
    {
     "name": "stdout",
     "output_type": "stream",
     "text": [
      "195/195 [==============================] - 0s 1ms/step\n",
      "195/195 [==============================] - 0s 1ms/step\n",
      "195/195 [==============================] - 0s 1ms/step\n"
     ]
    },
    {
     "name": "stderr",
     "output_type": "stream",
     "text": [
      "\u001b[32m[I 2023-03-02 14:32:05,579]\u001b[0m Trial 12 finished with value: 0.8519722865062608 and parameters: {'units_1': 30, 'units_2': 16, 'alpha_1': 0.08735459708792734, 'alpha_2': 0.010542826192936998, 'dropout_1': 0.38667672016209576, 'dropout_2': 0.39195995345013585, 'l2_kern_1': 0.0003294853843517771, 'l2_kern_2': 0.009736448159107795, 'l2_bias_1': 6.707416496101844e-05, 'l2_bias_2': 1.5600200684275733e-05, 'lr': 0.0002598410201747606, 'batch_size': 512}. Best is trial 2 with value: 0.883048790570847.\u001b[0m\n",
      "C:\\Users\\User\\AppData\\Local\\Temp\\ipykernel_5968\\4154129606.py:46: DeprecationWarning: KerasClassifier is deprecated, use Sci-Keras (https://github.com/adriangb/scikeras) instead. See https://www.adriangb.com/scikeras/stable/migration.html for help migrating.\n",
      "  ('classifier', KerasClassifier(build_fn=self.create_model, verbose=0))\n"
     ]
    },
    {
     "name": "stdout",
     "output_type": "stream",
     "text": [
      "195/195 [==============================] - 0s 2ms/step\n",
      "195/195 [==============================] - 0s 2ms/step\n",
      "195/195 [==============================] - 0s 1ms/step\n"
     ]
    },
    {
     "name": "stderr",
     "output_type": "stream",
     "text": [
      "\u001b[32m[I 2023-03-02 14:35:43,123]\u001b[0m Trial 13 finished with value: 0.8584043742611812 and parameters: {'units_1': 21, 'units_2': 3, 'alpha_1': 0.06729771872187638, 'alpha_2': 0.06090745758674528, 'dropout_1': 0.31592899622467263, 'dropout_2': 0.20361872478819273, 'l2_kern_1': 0.0001882922154801901, 'l2_kern_2': 8.163362269253294e-05, 'l2_bias_1': 0.0020398671088849994, 'l2_bias_2': 0.0033458227609747993, 'lr': 0.0001859770029752316, 'batch_size': 16}. Best is trial 2 with value: 0.883048790570847.\u001b[0m\n",
      "C:\\Users\\User\\AppData\\Local\\Temp\\ipykernel_5968\\4154129606.py:46: DeprecationWarning: KerasClassifier is deprecated, use Sci-Keras (https://github.com/adriangb/scikeras) instead. See https://www.adriangb.com/scikeras/stable/migration.html for help migrating.\n",
      "  ('classifier', KerasClassifier(build_fn=self.create_model, verbose=0))\n"
     ]
    },
    {
     "name": "stdout",
     "output_type": "stream",
     "text": [
      "195/195 [==============================] - 0s 1ms/step\n",
      "195/195 [==============================] - 0s 1ms/step\n",
      "195/195 [==============================] - 0s 1ms/step\n"
     ]
    },
    {
     "name": "stderr",
     "output_type": "stream",
     "text": [
      "\u001b[32m[I 2023-03-02 14:37:17,188]\u001b[0m Trial 14 finished with value: 0.8659615015439495 and parameters: {'units_1': 19, 'units_2': 8, 'alpha_1': 0.05393923255425388, 'alpha_2': 0.09269736052169797, 'dropout_1': 0.4635459664917902, 'dropout_2': 0.3715375324717879, 'l2_kern_1': 0.0039853758359329255, 'l2_kern_2': 9.808235770973122e-05, 'l2_bias_1': 5.789466242804054e-05, 'l2_bias_2': 6.636628148014718e-05, 'lr': 0.0015948184583697812, 'batch_size': 32}. Best is trial 2 with value: 0.883048790570847.\u001b[0m\n",
      "C:\\Users\\User\\AppData\\Local\\Temp\\ipykernel_5968\\4154129606.py:46: DeprecationWarning: KerasClassifier is deprecated, use Sci-Keras (https://github.com/adriangb/scikeras) instead. See https://www.adriangb.com/scikeras/stable/migration.html for help migrating.\n",
      "  ('classifier', KerasClassifier(build_fn=self.create_model, verbose=0))\n"
     ]
    },
    {
     "name": "stdout",
     "output_type": "stream",
     "text": [
      "195/195 [==============================] - 0s 2ms/step\n",
      "195/195 [==============================] - 0s 2ms/step\n",
      "195/195 [==============================] - 0s 1ms/step\n"
     ]
    },
    {
     "name": "stderr",
     "output_type": "stream",
     "text": [
      "\u001b[32m[I 2023-03-02 14:37:43,913]\u001b[0m Trial 15 finished with value: 0.8452968403063686 and parameters: {'units_1': 35, 'units_2': 38, 'alpha_1': 0.01591371831582519, 'alpha_2': 0.04598479158534184, 'dropout_1': 0.37620935963954133, 'dropout_2': 0.3155534773562189, 'l2_kern_1': 0.00388685896683182, 'l2_kern_2': 0.001247767603131854, 'l2_bias_1': 1.2670694413801767e-05, 'l2_bias_2': 0.003941586387877535, 'lr': 0.0001651090950557174, 'batch_size': 512}. Best is trial 2 with value: 0.883048790570847.\u001b[0m\n",
      "C:\\Users\\User\\AppData\\Local\\Temp\\ipykernel_5968\\4154129606.py:46: DeprecationWarning: KerasClassifier is deprecated, use Sci-Keras (https://github.com/adriangb/scikeras) instead. See https://www.adriangb.com/scikeras/stable/migration.html for help migrating.\n",
      "  ('classifier', KerasClassifier(build_fn=self.create_model, verbose=0))\n"
     ]
    },
    {
     "name": "stdout",
     "output_type": "stream",
     "text": [
      "195/195 [==============================] - 0s 2ms/step\n",
      "195/195 [==============================] - 0s 1ms/step\n",
      "195/195 [==============================] - 0s 1ms/step\n"
     ]
    },
    {
     "name": "stderr",
     "output_type": "stream",
     "text": [
      "\u001b[32m[I 2023-03-02 14:44:22,943]\u001b[0m Trial 16 finished with value: 0.8700697947188297 and parameters: {'units_1': 23, 'units_2': 25, 'alpha_1': 0.08313015519777622, 'alpha_2': 0.07077412088421653, 'dropout_1': 0.4920964630164317, 'dropout_2': 0.4830857275737871, 'l2_kern_1': 0.0025216622000224695, 'l2_kern_2': 4.4789266139688434e-05, 'l2_bias_1': 2.006329149527146e-05, 'l2_bias_2': 0.0009740154439076222, 'lr': 0.0001385594530711642, 'batch_size': 16}. Best is trial 2 with value: 0.883048790570847.\u001b[0m\n",
      "C:\\Users\\User\\AppData\\Local\\Temp\\ipykernel_5968\\4154129606.py:46: DeprecationWarning: KerasClassifier is deprecated, use Sci-Keras (https://github.com/adriangb/scikeras) instead. See https://www.adriangb.com/scikeras/stable/migration.html for help migrating.\n",
      "  ('classifier', KerasClassifier(build_fn=self.create_model, verbose=0))\n"
     ]
    },
    {
     "name": "stdout",
     "output_type": "stream",
     "text": [
      "195/195 [==============================] - 0s 1ms/step\n",
      "195/195 [==============================] - 0s 1ms/step\n",
      "195/195 [==============================] - 0s 1ms/step\n"
     ]
    },
    {
     "name": "stderr",
     "output_type": "stream",
     "text": [
      "\u001b[32m[I 2023-03-02 14:44:54,234]\u001b[0m Trial 17 finished with value: 0.8460008730733793 and parameters: {'units_1': 12, 'units_2': 31, 'alpha_1': 0.08565709338741571, 'alpha_2': 0.030705861448629856, 'dropout_1': 0.4776395095926638, 'dropout_2': 0.3072240275063851, 'l2_kern_1': 0.0004573584297354507, 'l2_kern_2': 1.3613279539045093e-05, 'l2_bias_1': 0.00039263683280431187, 'l2_bias_2': 1.778463792887706e-05, 'lr': 0.00021626885095576328, 'batch_size': 256}. Best is trial 2 with value: 0.883048790570847.\u001b[0m\n",
      "C:\\Users\\User\\AppData\\Local\\Temp\\ipykernel_5968\\4154129606.py:46: DeprecationWarning: KerasClassifier is deprecated, use Sci-Keras (https://github.com/adriangb/scikeras) instead. See https://www.adriangb.com/scikeras/stable/migration.html for help migrating.\n",
      "  ('classifier', KerasClassifier(build_fn=self.create_model, verbose=0))\n"
     ]
    },
    {
     "name": "stdout",
     "output_type": "stream",
     "text": [
      "195/195 [==============================] - 0s 2ms/step\n",
      "195/195 [==============================] - 0s 2ms/step\n",
      "195/195 [==============================] - 0s 2ms/step\n"
     ]
    },
    {
     "name": "stderr",
     "output_type": "stream",
     "text": [
      "\u001b[32m[I 2023-03-02 14:45:12,643]\u001b[0m Trial 18 finished with value: 0.8500209435494815 and parameters: {'units_1': 6, 'units_2': 37, 'alpha_1': 0.048802431355404095, 'alpha_2': 0.03056929463990285, 'dropout_1': 0.4548734975720918, 'dropout_2': 0.4843601653964149, 'l2_kern_1': 0.0053605699769497485, 'l2_kern_2': 0.006927976666363322, 'l2_bias_1': 0.0003049438386151177, 'l2_bias_2': 0.00030862246835040787, 'lr': 0.0028761498244285074, 'batch_size': 512}. Best is trial 2 with value: 0.883048790570847.\u001b[0m\n",
      "C:\\Users\\User\\AppData\\Local\\Temp\\ipykernel_5968\\4154129606.py:46: DeprecationWarning: KerasClassifier is deprecated, use Sci-Keras (https://github.com/adriangb/scikeras) instead. See https://www.adriangb.com/scikeras/stable/migration.html for help migrating.\n",
      "  ('classifier', KerasClassifier(build_fn=self.create_model, verbose=0))\n"
     ]
    },
    {
     "name": "stdout",
     "output_type": "stream",
     "text": [
      "195/195 [==============================] - 0s 2ms/step\n",
      "195/195 [==============================] - 0s 1ms/step\n",
      "195/195 [==============================] - 0s 2ms/step\n"
     ]
    },
    {
     "name": "stderr",
     "output_type": "stream",
     "text": [
      "\u001b[32m[I 2023-03-02 14:46:33,372]\u001b[0m Trial 19 finished with value: 0.8488802185960832 and parameters: {'units_1': 22, 'units_2': 21, 'alpha_1': 0.07052537719757523, 'alpha_2': 0.017238514362254185, 'dropout_1': 0.4032231187968063, 'dropout_2': 0.34363413669242815, 'l2_kern_1': 4.6389510827308946e-05, 'l2_kern_2': 2.6041336792382194e-05, 'l2_bias_1': 9.155482592410035e-05, 'l2_bias_2': 1.326239751264549e-05, 'lr': 7.458339743979646e-05, 'batch_size': 64}. Best is trial 2 with value: 0.883048790570847.\u001b[0m\n",
      "C:\\Users\\User\\AppData\\Local\\Temp\\ipykernel_5968\\4154129606.py:46: DeprecationWarning: KerasClassifier is deprecated, use Sci-Keras (https://github.com/adriangb/scikeras) instead. See https://www.adriangb.com/scikeras/stable/migration.html for help migrating.\n",
      "  ('classifier', KerasClassifier(build_fn=self.create_model, verbose=0))\n"
     ]
    },
    {
     "name": "stdout",
     "output_type": "stream",
     "text": [
      "195/195 [==============================] - 0s 1ms/step\n",
      "195/195 [==============================] - 0s 2ms/step\n",
      "195/195 [==============================] - 0s 2ms/step\n"
     ]
    },
    {
     "name": "stderr",
     "output_type": "stream",
     "text": [
      "\u001b[32m[I 2023-03-02 14:49:16,856]\u001b[0m Trial 20 finished with value: 0.8520510533916745 and parameters: {'units_1': 7, 'units_2': 40, 'alpha_1': 0.038471318912406544, 'alpha_2': 0.07737073555956582, 'dropout_1': 0.3086682832467138, 'dropout_2': 0.4415804086367294, 'l2_kern_1': 0.0008715067381396642, 'l2_kern_2': 9.823103242867155e-05, 'l2_bias_1': 0.0002903205724293426, 'l2_bias_2': 0.009263786607945166, 'lr': 0.0002534059413423774, 'batch_size': 16}. Best is trial 2 with value: 0.883048790570847.\u001b[0m\n",
      "C:\\Users\\User\\AppData\\Local\\Temp\\ipykernel_5968\\4154129606.py:46: DeprecationWarning: KerasClassifier is deprecated, use Sci-Keras (https://github.com/adriangb/scikeras) instead. See https://www.adriangb.com/scikeras/stable/migration.html for help migrating.\n",
      "  ('classifier', KerasClassifier(build_fn=self.create_model, verbose=0))\n"
     ]
    },
    {
     "name": "stdout",
     "output_type": "stream",
     "text": [
      "195/195 [==============================] - 0s 1ms/step\n",
      "195/195 [==============================] - 0s 2ms/step\n",
      "195/195 [==============================] - 0s 1ms/step\n"
     ]
    },
    {
     "name": "stderr",
     "output_type": "stream",
     "text": [
      "\u001b[32m[I 2023-03-02 14:50:35,587]\u001b[0m Trial 21 finished with value: 0.836044884361431 and parameters: {'units_1': 4, 'units_2': 16, 'alpha_1': 0.0319843370484992, 'alpha_2': 0.09593840706366652, 'dropout_1': 0.47219360347363554, 'dropout_2': 0.378170412455459, 'l2_kern_1': 1.3877886534838814e-05, 'l2_kern_2': 3.147089650936469e-05, 'l2_bias_1': 0.00047281153303668094, 'l2_bias_2': 4.422905280973315e-05, 'lr': 0.0001117430486367777, 'batch_size': 32}. Best is trial 2 with value: 0.883048790570847.\u001b[0m\n",
      "C:\\Users\\User\\AppData\\Local\\Temp\\ipykernel_5968\\4154129606.py:46: DeprecationWarning: KerasClassifier is deprecated, use Sci-Keras (https://github.com/adriangb/scikeras) instead. See https://www.adriangb.com/scikeras/stable/migration.html for help migrating.\n",
      "  ('classifier', KerasClassifier(build_fn=self.create_model, verbose=0))\n"
     ]
    },
    {
     "name": "stdout",
     "output_type": "stream",
     "text": [
      "195/195 [==============================] - 0s 1ms/step\n",
      "195/195 [==============================] - 0s 2ms/step\n",
      "195/195 [==============================] - 0s 1ms/step\n"
     ]
    },
    {
     "name": "stderr",
     "output_type": "stream",
     "text": [
      "\u001b[32m[I 2023-03-02 14:54:29,831]\u001b[0m Trial 22 finished with value: 0.8712698505726538 and parameters: {'units_1': 20, 'units_2': 17, 'alpha_1': 0.08173738904128992, 'alpha_2': 0.06957946854157403, 'dropout_1': 0.31324706899505866, 'dropout_2': 0.24803669457939423, 'l2_kern_1': 0.00025656630115683727, 'l2_kern_2': 0.0007960798328545529, 'l2_bias_1': 1.6828088185676245e-05, 'l2_bias_2': 0.0008268384640536583, 'lr': 0.0002998552928826753, 'batch_size': 16}. Best is trial 2 with value: 0.883048790570847.\u001b[0m\n",
      "C:\\Users\\User\\AppData\\Local\\Temp\\ipykernel_5968\\4154129606.py:46: DeprecationWarning: KerasClassifier is deprecated, use Sci-Keras (https://github.com/adriangb/scikeras) instead. See https://www.adriangb.com/scikeras/stable/migration.html for help migrating.\n",
      "  ('classifier', KerasClassifier(build_fn=self.create_model, verbose=0))\n"
     ]
    },
    {
     "name": "stdout",
     "output_type": "stream",
     "text": [
      "195/195 [==============================] - 0s 1ms/step\n",
      "195/195 [==============================] - 0s 2ms/step\n",
      "195/195 [==============================] - 0s 1ms/step\n"
     ]
    },
    {
     "name": "stderr",
     "output_type": "stream",
     "text": [
      "\u001b[32m[I 2023-03-02 14:55:46,957]\u001b[0m Trial 23 finished with value: 0.8427562780680399 and parameters: {'units_1': 9, 'units_2': 12, 'alpha_1': 0.09550175494387216, 'alpha_2': 0.01126574371580026, 'dropout_1': 0.21533397938270765, 'dropout_2': 0.30495167262408956, 'l2_kern_1': 4.032153485384619e-05, 'l2_kern_2': 0.006611536174017721, 'l2_bias_1': 0.00039881466803249965, 'l2_bias_2': 0.00919002078560758, 'lr': 6.61485403859556e-05, 'batch_size': 64}. Best is trial 2 with value: 0.883048790570847.\u001b[0m\n",
      "C:\\Users\\User\\AppData\\Local\\Temp\\ipykernel_5968\\4154129606.py:46: DeprecationWarning: KerasClassifier is deprecated, use Sci-Keras (https://github.com/adriangb/scikeras) instead. See https://www.adriangb.com/scikeras/stable/migration.html for help migrating.\n",
      "  ('classifier', KerasClassifier(build_fn=self.create_model, verbose=0))\n"
     ]
    },
    {
     "name": "stdout",
     "output_type": "stream",
     "text": [
      "195/195 [==============================] - 0s 1ms/step\n",
      "195/195 [==============================] - 0s 2ms/step\n",
      "195/195 [==============================] - 0s 1ms/step\n"
     ]
    },
    {
     "name": "stderr",
     "output_type": "stream",
     "text": [
      "\u001b[32m[I 2023-03-02 14:56:02,134]\u001b[0m Trial 24 finished with value: 0.8421782078475873 and parameters: {'units_1': 4, 'units_2': 34, 'alpha_1': 0.010685265186447862, 'alpha_2': 0.04385101229906669, 'dropout_1': 0.32260680488461807, 'dropout_2': 0.33927270075192845, 'l2_kern_1': 0.00018461437388754787, 'l2_kern_2': 4.0280991582127775e-05, 'l2_bias_1': 1.4457689548222263e-05, 'l2_bias_2': 3.050987746458645e-05, 'lr': 0.004256610476901072, 'batch_size': 1024}. Best is trial 2 with value: 0.883048790570847.\u001b[0m\n",
      "C:\\Users\\User\\AppData\\Local\\Temp\\ipykernel_5968\\4154129606.py:46: DeprecationWarning: KerasClassifier is deprecated, use Sci-Keras (https://github.com/adriangb/scikeras) instead. See https://www.adriangb.com/scikeras/stable/migration.html for help migrating.\n",
      "  ('classifier', KerasClassifier(build_fn=self.create_model, verbose=0))\n"
     ]
    },
    {
     "name": "stdout",
     "output_type": "stream",
     "text": [
      "195/195 [==============================] - 0s 2ms/step\n",
      "195/195 [==============================] - 0s 1ms/step\n",
      "195/195 [==============================] - 0s 1ms/step\n"
     ]
    },
    {
     "name": "stderr",
     "output_type": "stream",
     "text": [
      "\u001b[32m[I 2023-03-02 14:57:19,856]\u001b[0m Trial 25 finished with value: 0.8497473103513151 and parameters: {'units_1': 24, 'units_2': 38, 'alpha_1': 0.05424223145334125, 'alpha_2': 0.03685475492262954, 'dropout_1': 0.4312040044002258, 'dropout_2': 0.4356284580067653, 'l2_kern_1': 0.0008257518936376008, 'l2_kern_2': 0.00400809344672367, 'l2_bias_1': 0.0014588397304938167, 'l2_bias_2': 0.00017782174256458905, 'lr': 7.960352117498673e-05, 'batch_size': 64}. Best is trial 2 with value: 0.883048790570847.\u001b[0m\n",
      "C:\\Users\\User\\AppData\\Local\\Temp\\ipykernel_5968\\4154129606.py:46: DeprecationWarning: KerasClassifier is deprecated, use Sci-Keras (https://github.com/adriangb/scikeras) instead. See https://www.adriangb.com/scikeras/stable/migration.html for help migrating.\n",
      "  ('classifier', KerasClassifier(build_fn=self.create_model, verbose=0))\n"
     ]
    },
    {
     "name": "stdout",
     "output_type": "stream",
     "text": [
      "195/195 [==============================] - 0s 1ms/step\n",
      "195/195 [==============================] - 0s 1ms/step\n",
      "195/195 [==============================] - 0s 2ms/step\n"
     ]
    },
    {
     "name": "stderr",
     "output_type": "stream",
     "text": [
      "\u001b[32m[I 2023-03-02 14:58:02,998]\u001b[0m Trial 26 finished with value: 0.836371233364591 and parameters: {'units_1': 25, 'units_2': 5, 'alpha_1': 0.09061163992658493, 'alpha_2': 0.04296021912426692, 'dropout_1': 0.3796801382127413, 'dropout_2': 0.25078973183114855, 'l2_kern_1': 0.001168131337452285, 'l2_kern_2': 0.00024844744921314287, 'l2_bias_1': 4.384105111825341e-05, 'l2_bias_2': 0.00210399486092246, 'lr': 6.934512466262265e-05, 'batch_size': 512}. Best is trial 2 with value: 0.883048790570847.\u001b[0m\n",
      "C:\\Users\\User\\AppData\\Local\\Temp\\ipykernel_5968\\4154129606.py:46: DeprecationWarning: KerasClassifier is deprecated, use Sci-Keras (https://github.com/adriangb/scikeras) instead. See https://www.adriangb.com/scikeras/stable/migration.html for help migrating.\n",
      "  ('classifier', KerasClassifier(build_fn=self.create_model, verbose=0))\n"
     ]
    },
    {
     "name": "stdout",
     "output_type": "stream",
     "text": [
      "195/195 [==============================] - 0s 1ms/step\n",
      "195/195 [==============================] - 0s 1ms/step\n",
      "195/195 [==============================] - 0s 2ms/step\n"
     ]
    },
    {
     "name": "stderr",
     "output_type": "stream",
     "text": [
      "\u001b[32m[I 2023-03-02 15:00:07,130]\u001b[0m Trial 27 finished with value: 0.8705650159096359 and parameters: {'units_1': 24, 'units_2': 3, 'alpha_1': 0.012899327152253306, 'alpha_2': 0.09104687700919305, 'dropout_1': 0.25926264804576554, 'dropout_2': 0.36165359165099675, 'l2_kern_1': 4.738001447954604e-05, 'l2_kern_2': 0.0020031557820882257, 'l2_bias_1': 0.0007466260075037564, 'l2_bias_2': 0.00016266695608543194, 'lr': 0.001147507400406036, 'batch_size': 32}. Best is trial 2 with value: 0.883048790570847.\u001b[0m\n",
      "C:\\Users\\User\\AppData\\Local\\Temp\\ipykernel_5968\\4154129606.py:46: DeprecationWarning: KerasClassifier is deprecated, use Sci-Keras (https://github.com/adriangb/scikeras) instead. See https://www.adriangb.com/scikeras/stable/migration.html for help migrating.\n",
      "  ('classifier', KerasClassifier(build_fn=self.create_model, verbose=0))\n"
     ]
    },
    {
     "name": "stdout",
     "output_type": "stream",
     "text": [
      "195/195 [==============================] - 0s 1ms/step\n",
      "195/195 [==============================] - 0s 1ms/step\n",
      "195/195 [==============================] - 0s 1ms/step\n"
     ]
    },
    {
     "name": "stderr",
     "output_type": "stream",
     "text": [
      "\u001b[32m[I 2023-03-02 15:00:32,781]\u001b[0m Trial 28 finished with value: 0.8376843822627936 and parameters: {'units_1': 18, 'units_2': 30, 'alpha_1': 0.02413533657074899, 'alpha_2': 0.09914092086832194, 'dropout_1': 0.2874095689151066, 'dropout_2': 0.2849107385639404, 'l2_kern_1': 0.0004432055837274207, 'l2_kern_2': 0.0018907112364150824, 'l2_bias_1': 2.3992075412436292e-05, 'l2_bias_2': 4.679784653257973e-05, 'lr': 0.00015206666659772335, 'batch_size': 512}. Best is trial 2 with value: 0.883048790570847.\u001b[0m\n",
      "C:\\Users\\User\\AppData\\Local\\Temp\\ipykernel_5968\\4154129606.py:46: DeprecationWarning: KerasClassifier is deprecated, use Sci-Keras (https://github.com/adriangb/scikeras) instead. See https://www.adriangb.com/scikeras/stable/migration.html for help migrating.\n",
      "  ('classifier', KerasClassifier(build_fn=self.create_model, verbose=0))\n"
     ]
    },
    {
     "name": "stdout",
     "output_type": "stream",
     "text": [
      "195/195 [==============================] - 0s 1ms/step\n",
      "195/195 [==============================] - 0s 2ms/step\n",
      "195/195 [==============================] - 0s 2ms/step\n"
     ]
    },
    {
     "name": "stderr",
     "output_type": "stream",
     "text": [
      "\u001b[32m[I 2023-03-02 15:01:49,030]\u001b[0m Trial 29 finished with value: 0.8422355154439171 and parameters: {'units_1': 7, 'units_2': 26, 'alpha_1': 0.021488276250152486, 'alpha_2': 0.04333500391939902, 'dropout_1': 0.28119890998369457, 'dropout_2': 0.4319602450470089, 'l2_kern_1': 0.0022499558729649374, 'l2_kern_2': 0.003007027591161635, 'l2_bias_1': 0.0007592294640849681, 'l2_bias_2': 0.00034436424595016214, 'lr': 0.009193019329206882, 'batch_size': 16}. Best is trial 2 with value: 0.883048790570847.\u001b[0m\n",
      "C:\\Users\\User\\AppData\\Local\\Temp\\ipykernel_5968\\4154129606.py:46: DeprecationWarning: KerasClassifier is deprecated, use Sci-Keras (https://github.com/adriangb/scikeras) instead. See https://www.adriangb.com/scikeras/stable/migration.html for help migrating.\n",
      "  ('classifier', KerasClassifier(build_fn=self.create_model, verbose=0))\n"
     ]
    },
    {
     "name": "stdout",
     "output_type": "stream",
     "text": [
      "195/195 [==============================] - 0s 1ms/step\n",
      "195/195 [==============================] - 0s 1ms/step\n",
      "195/195 [==============================] - 0s 1ms/step\n"
     ]
    },
    {
     "name": "stderr",
     "output_type": "stream",
     "text": [
      "\u001b[32m[I 2023-03-02 15:02:47,456]\u001b[0m Trial 30 finished with value: 0.8772244482621869 and parameters: {'units_1': 30, 'units_2': 12, 'alpha_1': 0.07018329851460928, 'alpha_2': 0.04803887735545468, 'dropout_1': 0.30114757653753293, 'dropout_2': 0.20829242013292804, 'l2_kern_1': 0.0010579760926831292, 'l2_kern_2': 2.8308083170432405e-05, 'l2_bias_1': 0.0001499447351388378, 'l2_bias_2': 0.00014523230571308204, 'lr': 0.0008256578566996948, 'batch_size': 128}. Best is trial 2 with value: 0.883048790570847.\u001b[0m\n",
      "C:\\Users\\User\\AppData\\Local\\Temp\\ipykernel_5968\\4154129606.py:46: DeprecationWarning: KerasClassifier is deprecated, use Sci-Keras (https://github.com/adriangb/scikeras) instead. See https://www.adriangb.com/scikeras/stable/migration.html for help migrating.\n",
      "  ('classifier', KerasClassifier(build_fn=self.create_model, verbose=0))\n"
     ]
    },
    {
     "name": "stdout",
     "output_type": "stream",
     "text": [
      "195/195 [==============================] - 0s 2ms/step\n",
      "195/195 [==============================] - 0s 1ms/step\n",
      "195/195 [==============================] - 0s 1ms/step\n"
     ]
    },
    {
     "name": "stderr",
     "output_type": "stream",
     "text": [
      "\u001b[32m[I 2023-03-02 15:03:10,791]\u001b[0m Trial 31 finished with value: 0.8627298261181604 and parameters: {'units_1': 16, 'units_2': 7, 'alpha_1': 0.08288052467867792, 'alpha_2': 0.04995973540243976, 'dropout_1': 0.30171121733552436, 'dropout_2': 0.46203318259477044, 'l2_kern_1': 5.5844000527917055e-05, 'l2_kern_2': 0.0037460636283326745, 'l2_bias_1': 0.0002722907322598584, 'l2_bias_2': 0.004454926562725245, 'lr': 0.0020350675432212364, 'batch_size': 1024}. Best is trial 2 with value: 0.883048790570847.\u001b[0m\n",
      "C:\\Users\\User\\AppData\\Local\\Temp\\ipykernel_5968\\4154129606.py:46: DeprecationWarning: KerasClassifier is deprecated, use Sci-Keras (https://github.com/adriangb/scikeras) instead. See https://www.adriangb.com/scikeras/stable/migration.html for help migrating.\n",
      "  ('classifier', KerasClassifier(build_fn=self.create_model, verbose=0))\n"
     ]
    },
    {
     "name": "stdout",
     "output_type": "stream",
     "text": [
      "195/195 [==============================] - 0s 2ms/step\n",
      "195/195 [==============================] - 0s 1ms/step\n",
      "195/195 [==============================] - 0s 1ms/step\n"
     ]
    },
    {
     "name": "stderr",
     "output_type": "stream",
     "text": [
      "\u001b[32m[I 2023-03-02 15:04:14,675]\u001b[0m Trial 32 finished with value: 0.8571190213393908 and parameters: {'units_1': 20, 'units_2': 6, 'alpha_1': 0.07355240220278511, 'alpha_2': 0.049798251399880096, 'dropout_1': 0.40928649691757163, 'dropout_2': 0.36355365647911647, 'l2_kern_1': 0.00223390928513807, 'l2_kern_2': 1.8324204784726448e-05, 'l2_bias_1': 0.003228383352872357, 'l2_bias_2': 0.009154904188569115, 'lr': 0.0004292075788185104, 'batch_size': 64}. Best is trial 2 with value: 0.883048790570847.\u001b[0m\n",
      "C:\\Users\\User\\AppData\\Local\\Temp\\ipykernel_5968\\4154129606.py:46: DeprecationWarning: KerasClassifier is deprecated, use Sci-Keras (https://github.com/adriangb/scikeras) instead. See https://www.adriangb.com/scikeras/stable/migration.html for help migrating.\n",
      "  ('classifier', KerasClassifier(build_fn=self.create_model, verbose=0))\n"
     ]
    },
    {
     "name": "stdout",
     "output_type": "stream",
     "text": [
      "195/195 [==============================] - 0s 1ms/step\n",
      "195/195 [==============================] - 0s 1ms/step\n",
      "195/195 [==============================] - 0s 2ms/step\n"
     ]
    },
    {
     "name": "stderr",
     "output_type": "stream",
     "text": [
      "\u001b[32m[I 2023-03-02 15:04:48,066]\u001b[0m Trial 33 finished with value: 0.8381161660814018 and parameters: {'units_1': 20, 'units_2': 30, 'alpha_1': 0.019022832804729634, 'alpha_2': 0.05365490922828721, 'dropout_1': 0.20743110350284985, 'dropout_2': 0.2641498474820504, 'l2_kern_1': 0.0015523438017755165, 'l2_kern_2': 0.0008658531303773789, 'l2_bias_1': 4.4886570404223804e-05, 'l2_bias_2': 0.0008849842425798192, 'lr': 0.00011701806271335371, 'batch_size': 1024}. Best is trial 2 with value: 0.883048790570847.\u001b[0m\n",
      "C:\\Users\\User\\AppData\\Local\\Temp\\ipykernel_5968\\4154129606.py:46: DeprecationWarning: KerasClassifier is deprecated, use Sci-Keras (https://github.com/adriangb/scikeras) instead. See https://www.adriangb.com/scikeras/stable/migration.html for help migrating.\n",
      "  ('classifier', KerasClassifier(build_fn=self.create_model, verbose=0))\n"
     ]
    },
    {
     "name": "stdout",
     "output_type": "stream",
     "text": [
      "195/195 [==============================] - 0s 2ms/step\n",
      "195/195 [==============================] - 0s 2ms/step\n",
      "195/195 [==============================] - 0s 1ms/step\n"
     ]
    },
    {
     "name": "stderr",
     "output_type": "stream",
     "text": [
      "\u001b[32m[I 2023-03-02 15:07:43,677]\u001b[0m Trial 34 finished with value: 0.8777428461475246 and parameters: {'units_1': 37, 'units_2': 32, 'alpha_1': 0.027469597945046886, 'alpha_2': 0.08259121175662233, 'dropout_1': 0.21084716360841715, 'dropout_2': 0.2059886149988664, 'l2_kern_1': 0.007903059849066637, 'l2_kern_2': 0.0010751906413768355, 'l2_bias_1': 0.0002543219507175419, 'l2_bias_2': 2.6480497550125548e-05, 'lr': 0.0004492867064780028, 'batch_size': 32}. Best is trial 2 with value: 0.883048790570847.\u001b[0m\n",
      "C:\\Users\\User\\AppData\\Local\\Temp\\ipykernel_5968\\4154129606.py:46: DeprecationWarning: KerasClassifier is deprecated, use Sci-Keras (https://github.com/adriangb/scikeras) instead. See https://www.adriangb.com/scikeras/stable/migration.html for help migrating.\n",
      "  ('classifier', KerasClassifier(build_fn=self.create_model, verbose=0))\n"
     ]
    },
    {
     "name": "stdout",
     "output_type": "stream",
     "text": [
      "195/195 [==============================] - 1s 2ms/step\n",
      "195/195 [==============================] - 0s 1ms/step\n",
      "195/195 [==============================] - 0s 1ms/step\n"
     ]
    },
    {
     "name": "stderr",
     "output_type": "stream",
     "text": [
      "\u001b[32m[I 2023-03-02 15:08:58,374]\u001b[0m Trial 35 finished with value: 0.8707120574204906 and parameters: {'units_1': 20, 'units_2': 16, 'alpha_1': 0.032340058445258786, 'alpha_2': 0.08616139042786371, 'dropout_1': 0.34553970492888536, 'dropout_2': 0.3399414881193065, 'l2_kern_1': 3.887449259582796e-05, 'l2_kern_2': 7.08625640553908e-05, 'l2_bias_1': 0.0004910323377268938, 'l2_bias_2': 0.00017139036160871717, 'lr': 0.0007553966274492467, 'batch_size': 64}. Best is trial 2 with value: 0.883048790570847.\u001b[0m\n",
      "C:\\Users\\User\\AppData\\Local\\Temp\\ipykernel_5968\\4154129606.py:46: DeprecationWarning: KerasClassifier is deprecated, use Sci-Keras (https://github.com/adriangb/scikeras) instead. See https://www.adriangb.com/scikeras/stable/migration.html for help migrating.\n",
      "  ('classifier', KerasClassifier(build_fn=self.create_model, verbose=0))\n"
     ]
    },
    {
     "name": "stdout",
     "output_type": "stream",
     "text": [
      "195/195 [==============================] - 0s 2ms/step\n",
      "195/195 [==============================] - 0s 1ms/step\n",
      "195/195 [==============================] - 0s 1ms/step\n"
     ]
    },
    {
     "name": "stderr",
     "output_type": "stream",
     "text": [
      "\u001b[32m[I 2023-03-02 15:11:34,084]\u001b[0m Trial 36 finished with value: 0.8603924033393607 and parameters: {'units_1': 13, 'units_2': 16, 'alpha_1': 0.07513687350180646, 'alpha_2': 0.09034339011720202, 'dropout_1': 0.3094457369463529, 'dropout_2': 0.3108848605388136, 'l2_kern_1': 0.001835629185790384, 'l2_kern_2': 0.0002252923490545274, 'l2_bias_1': 5.2856133747204565e-05, 'l2_bias_2': 0.007299403185989987, 'lr': 0.004513406032013522, 'batch_size': 16}. Best is trial 2 with value: 0.883048790570847.\u001b[0m\n",
      "C:\\Users\\User\\AppData\\Local\\Temp\\ipykernel_5968\\4154129606.py:46: DeprecationWarning: KerasClassifier is deprecated, use Sci-Keras (https://github.com/adriangb/scikeras) instead. See https://www.adriangb.com/scikeras/stable/migration.html for help migrating.\n",
      "  ('classifier', KerasClassifier(build_fn=self.create_model, verbose=0))\n"
     ]
    },
    {
     "name": "stdout",
     "output_type": "stream",
     "text": [
      "195/195 [==============================] - 0s 2ms/step\n",
      "195/195 [==============================] - 0s 2ms/step\n",
      "195/195 [==============================] - 0s 1ms/step\n"
     ]
    },
    {
     "name": "stderr",
     "output_type": "stream",
     "text": [
      "\u001b[32m[I 2023-03-02 15:13:57,744]\u001b[0m Trial 37 finished with value: 0.8469007894943537 and parameters: {'units_1': 4, 'units_2': 29, 'alpha_1': 0.0652929971829969, 'alpha_2': 0.08745573028621391, 'dropout_1': 0.34782167874541303, 'dropout_2': 0.3375647412848978, 'l2_kern_1': 0.005520408535343685, 'l2_kern_2': 0.008140310869006755, 'l2_bias_1': 0.0006477240783774144, 'l2_bias_2': 0.00040004676827569207, 'lr': 0.0005658146473052944, 'batch_size': 16}. Best is trial 2 with value: 0.883048790570847.\u001b[0m\n",
      "C:\\Users\\User\\AppData\\Local\\Temp\\ipykernel_5968\\4154129606.py:46: DeprecationWarning: KerasClassifier is deprecated, use Sci-Keras (https://github.com/adriangb/scikeras) instead. See https://www.adriangb.com/scikeras/stable/migration.html for help migrating.\n",
      "  ('classifier', KerasClassifier(build_fn=self.create_model, verbose=0))\n"
     ]
    },
    {
     "name": "stdout",
     "output_type": "stream",
     "text": [
      "195/195 [==============================] - 0s 1ms/step\n",
      "195/195 [==============================] - 0s 2ms/step\n",
      "195/195 [==============================] - 0s 2ms/step\n"
     ]
    },
    {
     "name": "stderr",
     "output_type": "stream",
     "text": [
      "\u001b[32m[I 2023-03-02 15:16:16,709]\u001b[0m Trial 38 finished with value: 0.8461983160674648 and parameters: {'units_1': 4, 'units_2': 36, 'alpha_1': 0.09240870979176122, 'alpha_2': 0.0673465303769863, 'dropout_1': 0.3106289245768201, 'dropout_2': 0.3128336675843782, 'l2_kern_1': 0.0034102374784174953, 'l2_kern_2': 0.00012848175259850617, 'l2_bias_1': 2.047022099334106e-05, 'l2_bias_2': 0.0016814087003555898, 'lr': 0.0002459575654937283, 'batch_size': 16}. Best is trial 2 with value: 0.883048790570847.\u001b[0m\n",
      "C:\\Users\\User\\AppData\\Local\\Temp\\ipykernel_5968\\4154129606.py:46: DeprecationWarning: KerasClassifier is deprecated, use Sci-Keras (https://github.com/adriangb/scikeras) instead. See https://www.adriangb.com/scikeras/stable/migration.html for help migrating.\n",
      "  ('classifier', KerasClassifier(build_fn=self.create_model, verbose=0))\n"
     ]
    },
    {
     "name": "stdout",
     "output_type": "stream",
     "text": [
      "195/195 [==============================] - 0s 1ms/step\n",
      "195/195 [==============================] - 0s 1ms/step\n",
      "195/195 [==============================] - 0s 1ms/step\n"
     ]
    },
    {
     "name": "stderr",
     "output_type": "stream",
     "text": [
      "\u001b[32m[I 2023-03-02 15:16:46,910]\u001b[0m Trial 39 finished with value: 0.860050002766313 and parameters: {'units_1': 8, 'units_2': 16, 'alpha_1': 0.02756780507655581, 'alpha_2': 0.09687577934237873, 'dropout_1': 0.3282692189248193, 'dropout_2': 0.21404942884563577, 'l2_kern_1': 1.7584350537032187e-05, 'l2_kern_2': 1.3852213825808372e-05, 'l2_bias_1': 1.1634768567112632e-05, 'l2_bias_2': 0.00017261368476421162, 'lr': 0.001634051423088037, 'batch_size': 256}. Best is trial 2 with value: 0.883048790570847.\u001b[0m\n",
      "C:\\Users\\User\\AppData\\Local\\Temp\\ipykernel_5968\\4154129606.py:46: DeprecationWarning: KerasClassifier is deprecated, use Sci-Keras (https://github.com/adriangb/scikeras) instead. See https://www.adriangb.com/scikeras/stable/migration.html for help migrating.\n",
      "  ('classifier', KerasClassifier(build_fn=self.create_model, verbose=0))\n"
     ]
    },
    {
     "name": "stdout",
     "output_type": "stream",
     "text": [
      "195/195 [==============================] - 0s 1ms/step\n",
      "195/195 [==============================] - 0s 1ms/step\n",
      "195/195 [==============================] - 0s 2ms/step\n"
     ]
    },
    {
     "name": "stderr",
     "output_type": "stream",
     "text": [
      "\u001b[32m[I 2023-03-02 15:17:42,898]\u001b[0m Trial 40 finished with value: 0.8734787158672933 and parameters: {'units_1': 8, 'units_2': 38, 'alpha_1': 0.06068222443400352, 'alpha_2': 0.035218502021446496, 'dropout_1': 0.2057227912243845, 'dropout_2': 0.21792658546567475, 'l2_kern_1': 0.003074059485027563, 'l2_kern_2': 0.000814239078124287, 'l2_bias_1': 0.00020118712938814624, 'l2_bias_2': 0.0004007942980217558, 'lr': 0.002533845002019618, 'batch_size': 64}. Best is trial 2 with value: 0.883048790570847.\u001b[0m\n",
      "C:\\Users\\User\\AppData\\Local\\Temp\\ipykernel_5968\\4154129606.py:46: DeprecationWarning: KerasClassifier is deprecated, use Sci-Keras (https://github.com/adriangb/scikeras) instead. See https://www.adriangb.com/scikeras/stable/migration.html for help migrating.\n",
      "  ('classifier', KerasClassifier(build_fn=self.create_model, verbose=0))\n"
     ]
    },
    {
     "name": "stdout",
     "output_type": "stream",
     "text": [
      "195/195 [==============================] - 0s 2ms/step\n",
      "195/195 [==============================] - 0s 1ms/step\n",
      "195/195 [==============================] - 0s 1ms/step\n"
     ]
    },
    {
     "name": "stderr",
     "output_type": "stream",
     "text": [
      "\u001b[32m[I 2023-03-02 15:22:52,512]\u001b[0m Trial 41 finished with value: 0.8735518107846292 and parameters: {'units_1': 36, 'units_2': 29, 'alpha_1': 0.09143424577456503, 'alpha_2': 0.08106002016074887, 'dropout_1': 0.4592887665086296, 'dropout_2': 0.34135324047698123, 'l2_kern_1': 4.184540626940405e-05, 'l2_kern_2': 1.9545463479679095e-05, 'l2_bias_1': 0.0018954790951939788, 'l2_bias_2': 0.00013621119644907737, 'lr': 0.0001623122923286477, 'batch_size': 16}. Best is trial 2 with value: 0.883048790570847.\u001b[0m\n",
      "C:\\Users\\User\\AppData\\Local\\Temp\\ipykernel_5968\\4154129606.py:46: DeprecationWarning: KerasClassifier is deprecated, use Sci-Keras (https://github.com/adriangb/scikeras) instead. See https://www.adriangb.com/scikeras/stable/migration.html for help migrating.\n",
      "  ('classifier', KerasClassifier(build_fn=self.create_model, verbose=0))\n"
     ]
    },
    {
     "name": "stdout",
     "output_type": "stream",
     "text": [
      "195/195 [==============================] - 0s 1ms/step\n",
      "195/195 [==============================] - 0s 2ms/step\n",
      "195/195 [==============================] - 0s 1ms/step\n"
     ]
    },
    {
     "name": "stderr",
     "output_type": "stream",
     "text": [
      "\u001b[32m[I 2023-03-02 15:23:52,468]\u001b[0m Trial 42 finished with value: 0.8557844805092456 and parameters: {'units_1': 23, 'units_2': 2, 'alpha_1': 0.05812991057049175, 'alpha_2': 0.01705449879786859, 'dropout_1': 0.2905432526358352, 'dropout_2': 0.22076605242335384, 'l2_kern_1': 0.0003267820630998496, 'l2_kern_2': 0.008336836171498925, 'l2_bias_1': 0.0030465862750220568, 'l2_bias_2': 0.0002499274678759685, 'lr': 0.0005694627302907231, 'batch_size': 64}. Best is trial 2 with value: 0.883048790570847.\u001b[0m\n",
      "C:\\Users\\User\\AppData\\Local\\Temp\\ipykernel_5968\\4154129606.py:46: DeprecationWarning: KerasClassifier is deprecated, use Sci-Keras (https://github.com/adriangb/scikeras) instead. See https://www.adriangb.com/scikeras/stable/migration.html for help migrating.\n",
      "  ('classifier', KerasClassifier(build_fn=self.create_model, verbose=0))\n"
     ]
    },
    {
     "name": "stdout",
     "output_type": "stream",
     "text": [
      "195/195 [==============================] - 0s 1ms/step\n",
      "195/195 [==============================] - 0s 2ms/step\n",
      "195/195 [==============================] - 0s 1ms/step\n"
     ]
    },
    {
     "name": "stderr",
     "output_type": "stream",
     "text": [
      "\u001b[32m[I 2023-03-02 15:26:51,480]\u001b[0m Trial 43 finished with value: 0.8762737346215065 and parameters: {'units_1': 16, 'units_2': 16, 'alpha_1': 0.08430982397807764, 'alpha_2': 0.04813823954723303, 'dropout_1': 0.2383223951813312, 'dropout_2': 0.38878563376894343, 'l2_kern_1': 5.0676710558774153e-05, 'l2_kern_2': 1.1219805782106253e-05, 'l2_bias_1': 3.2851126236450595e-05, 'l2_bias_2': 0.00016980324916275407, 'lr': 0.003323718049721739, 'batch_size': 16}. Best is trial 2 with value: 0.883048790570847.\u001b[0m\n",
      "C:\\Users\\User\\AppData\\Local\\Temp\\ipykernel_5968\\4154129606.py:46: DeprecationWarning: KerasClassifier is deprecated, use Sci-Keras (https://github.com/adriangb/scikeras) instead. See https://www.adriangb.com/scikeras/stable/migration.html for help migrating.\n",
      "  ('classifier', KerasClassifier(build_fn=self.create_model, verbose=0))\n"
     ]
    },
    {
     "name": "stdout",
     "output_type": "stream",
     "text": [
      "195/195 [==============================] - 0s 1ms/step\n",
      "195/195 [==============================] - 0s 1ms/step\n",
      "195/195 [==============================] - 0s 1ms/step\n"
     ]
    },
    {
     "name": "stderr",
     "output_type": "stream",
     "text": [
      "\u001b[32m[I 2023-03-02 15:27:10,662]\u001b[0m Trial 44 finished with value: 0.8793787104993983 and parameters: {'units_1': 30, 'units_2': 21, 'alpha_1': 0.06815763622901097, 'alpha_2': 0.08767799816498606, 'dropout_1': 0.2905257843299829, 'dropout_2': 0.3801272541830654, 'l2_kern_1': 0.0008969319904505746, 'l2_kern_2': 0.00020671833436784458, 'l2_bias_1': 0.00010201944184262279, 'l2_bias_2': 1.8664469523818455e-05, 'lr': 0.006562581525027119, 'batch_size': 1024}. Best is trial 2 with value: 0.883048790570847.\u001b[0m\n",
      "C:\\Users\\User\\AppData\\Local\\Temp\\ipykernel_5968\\4154129606.py:46: DeprecationWarning: KerasClassifier is deprecated, use Sci-Keras (https://github.com/adriangb/scikeras) instead. See https://www.adriangb.com/scikeras/stable/migration.html for help migrating.\n",
      "  ('classifier', KerasClassifier(build_fn=self.create_model, verbose=0))\n"
     ]
    },
    {
     "name": "stdout",
     "output_type": "stream",
     "text": [
      "195/195 [==============================] - 0s 1ms/step\n",
      "195/195 [==============================] - 0s 1ms/step\n",
      "195/195 [==============================] - 1s 2ms/step\n"
     ]
    },
    {
     "name": "stderr",
     "output_type": "stream",
     "text": [
      "\u001b[32m[I 2023-03-02 15:29:19,545]\u001b[0m Trial 45 finished with value: 0.8624366556551687 and parameters: {'units_1': 12, 'units_2': 12, 'alpha_1': 0.011568603258636675, 'alpha_2': 0.04190708340018416, 'dropout_1': 0.3547414339335304, 'dropout_2': 0.2959295919488915, 'l2_kern_1': 0.0005133154249467295, 'l2_kern_2': 0.0003680442058847545, 'l2_bias_1': 0.0046532904464768035, 'l2_bias_2': 0.00018553416521471761, 'lr': 0.0003069024158441998, 'batch_size': 32}. Best is trial 2 with value: 0.883048790570847.\u001b[0m\n",
      "C:\\Users\\User\\AppData\\Local\\Temp\\ipykernel_5968\\4154129606.py:46: DeprecationWarning: KerasClassifier is deprecated, use Sci-Keras (https://github.com/adriangb/scikeras) instead. See https://www.adriangb.com/scikeras/stable/migration.html for help migrating.\n",
      "  ('classifier', KerasClassifier(build_fn=self.create_model, verbose=0))\n"
     ]
    },
    {
     "name": "stdout",
     "output_type": "stream",
     "text": [
      "195/195 [==============================] - 0s 2ms/step\n",
      "195/195 [==============================] - 0s 1ms/step\n",
      "195/195 [==============================] - 0s 2ms/step\n"
     ]
    },
    {
     "name": "stderr",
     "output_type": "stream",
     "text": [
      "\u001b[32m[I 2023-03-02 15:33:49,554]\u001b[0m Trial 46 finished with value: 0.8597302356788775 and parameters: {'units_1': 11, 'units_2': 37, 'alpha_1': 0.03333993538615278, 'alpha_2': 0.08968811902330612, 'dropout_1': 0.38640465026274706, 'dropout_2': 0.36660105147643907, 'l2_kern_1': 8.145506346221316e-05, 'l2_kern_2': 0.005542222043193387, 'l2_bias_1': 1.1200582017131597e-05, 'l2_bias_2': 0.00878267190074376, 'lr': 0.00025635649209387467, 'batch_size': 16}. Best is trial 2 with value: 0.883048790570847.\u001b[0m\n",
      "C:\\Users\\User\\AppData\\Local\\Temp\\ipykernel_5968\\4154129606.py:46: DeprecationWarning: KerasClassifier is deprecated, use Sci-Keras (https://github.com/adriangb/scikeras) instead. See https://www.adriangb.com/scikeras/stable/migration.html for help migrating.\n",
      "  ('classifier', KerasClassifier(build_fn=self.create_model, verbose=0))\n"
     ]
    },
    {
     "name": "stdout",
     "output_type": "stream",
     "text": [
      "195/195 [==============================] - 0s 1ms/step\n",
      "195/195 [==============================] - 0s 1ms/step\n",
      "195/195 [==============================] - 0s 1ms/step\n"
     ]
    },
    {
     "name": "stderr",
     "output_type": "stream",
     "text": [
      "\u001b[32m[I 2023-03-02 15:35:17,069]\u001b[0m Trial 47 finished with value: 0.876399432303565 and parameters: {'units_1': 19, 'units_2': 33, 'alpha_1': 0.05534699908785936, 'alpha_2': 0.04947982793759315, 'dropout_1': 0.4424531409738781, 'dropout_2': 0.2840618039448667, 'l2_kern_1': 6.406096878620483e-05, 'l2_kern_2': 4.2830580905929955e-05, 'l2_bias_1': 8.696663639498824e-05, 'l2_bias_2': 5.205332342099591e-05, 'lr': 0.0016342744266646953, 'batch_size': 64}. Best is trial 2 with value: 0.883048790570847.\u001b[0m\n",
      "C:\\Users\\User\\AppData\\Local\\Temp\\ipykernel_5968\\4154129606.py:46: DeprecationWarning: KerasClassifier is deprecated, use Sci-Keras (https://github.com/adriangb/scikeras) instead. See https://www.adriangb.com/scikeras/stable/migration.html for help migrating.\n",
      "  ('classifier', KerasClassifier(build_fn=self.create_model, verbose=0))\n"
     ]
    },
    {
     "name": "stdout",
     "output_type": "stream",
     "text": [
      "195/195 [==============================] - 0s 1ms/step\n",
      "195/195 [==============================] - 0s 2ms/step\n",
      "195/195 [==============================] - 0s 1ms/step\n"
     ]
    },
    {
     "name": "stderr",
     "output_type": "stream",
     "text": [
      "\u001b[32m[I 2023-03-02 15:35:41,634]\u001b[0m Trial 48 finished with value: 0.8487181107382549 and parameters: {'units_1': 17, 'units_2': 32, 'alpha_1': 0.011615896257680041, 'alpha_2': 0.018732440003085528, 'dropout_1': 0.3560024893682653, 'dropout_2': 0.4876753882953849, 'l2_kern_1': 0.004670088268628722, 'l2_kern_2': 7.779018853569805e-05, 'l2_bias_1': 0.001445106810957915, 'l2_bias_2': 0.0005083430391732099, 'lr': 0.0007868628073510163, 'batch_size': 1024}. Best is trial 2 with value: 0.883048790570847.\u001b[0m\n",
      "C:\\Users\\User\\AppData\\Local\\Temp\\ipykernel_5968\\4154129606.py:46: DeprecationWarning: KerasClassifier is deprecated, use Sci-Keras (https://github.com/adriangb/scikeras) instead. See https://www.adriangb.com/scikeras/stable/migration.html for help migrating.\n",
      "  ('classifier', KerasClassifier(build_fn=self.create_model, verbose=0))\n"
     ]
    },
    {
     "name": "stdout",
     "output_type": "stream",
     "text": [
      "195/195 [==============================] - 0s 2ms/step\n",
      "195/195 [==============================] - 0s 1ms/step\n",
      "195/195 [==============================] - 0s 2ms/step\n"
     ]
    },
    {
     "name": "stderr",
     "output_type": "stream",
     "text": [
      "\u001b[32m[I 2023-03-02 15:36:05,071]\u001b[0m Trial 49 finished with value: 0.8416390929815591 and parameters: {'units_1': 13, 'units_2': 32, 'alpha_1': 0.09111624535265661, 'alpha_2': 0.03737487027244242, 'dropout_1': 0.3917004302859073, 'dropout_2': 0.36016902719041866, 'l2_kern_1': 0.0001872418179628212, 'l2_kern_2': 0.0004067567521084884, 'l2_bias_1': 0.0020146518412072585, 'l2_bias_2': 7.705417660856127e-05, 'lr': 0.0002406680023708811, 'batch_size': 1024}. Best is trial 2 with value: 0.883048790570847.\u001b[0m\n",
      "C:\\Users\\User\\AppData\\Local\\Temp\\ipykernel_5968\\4154129606.py:46: DeprecationWarning: KerasClassifier is deprecated, use Sci-Keras (https://github.com/adriangb/scikeras) instead. See https://www.adriangb.com/scikeras/stable/migration.html for help migrating.\n",
      "  ('classifier', KerasClassifier(build_fn=self.create_model, verbose=0))\n"
     ]
    },
    {
     "name": "stdout",
     "output_type": "stream",
     "text": [
      "195/195 [==============================] - 0s 1ms/step\n",
      "195/195 [==============================] - 0s 2ms/step\n",
      "195/195 [==============================] - 0s 2ms/step\n"
     ]
    },
    {
     "name": "stderr",
     "output_type": "stream",
     "text": [
      "\u001b[32m[I 2023-03-02 15:39:08,444]\u001b[0m Trial 50 finished with value: 0.8577973039359986 and parameters: {'units_1': 33, 'units_2': 3, 'alpha_1': 0.06729771872187638, 'alpha_2': 0.040528461610066444, 'dropout_1': 0.31592899622467263, 'dropout_2': 0.3645362476846008, 'l2_kern_1': 0.0007169981638191136, 'l2_kern_2': 3.1959456384180613e-05, 'l2_bias_1': 0.0020398671088849994, 'l2_bias_2': 5.0693727635892895e-05, 'lr': 0.0001859770029752316, 'batch_size': 16}. Best is trial 2 with value: 0.883048790570847.\u001b[0m\n",
      "C:\\Users\\User\\AppData\\Local\\Temp\\ipykernel_5968\\4154129606.py:46: DeprecationWarning: KerasClassifier is deprecated, use Sci-Keras (https://github.com/adriangb/scikeras) instead. See https://www.adriangb.com/scikeras/stable/migration.html for help migrating.\n",
      "  ('classifier', KerasClassifier(build_fn=self.create_model, verbose=0))\n"
     ]
    },
    {
     "name": "stdout",
     "output_type": "stream",
     "text": [
      "195/195 [==============================] - 0s 2ms/step\n",
      "195/195 [==============================] - 0s 1ms/step\n",
      "195/195 [==============================] - 0s 1ms/step\n"
     ]
    },
    {
     "name": "stderr",
     "output_type": "stream",
     "text": [
      "\u001b[32m[I 2023-03-02 15:43:17,580]\u001b[0m Trial 51 finished with value: 0.8687201170852489 and parameters: {'units_1': 36, 'units_2': 29, 'alpha_1': 0.09143424577456503, 'alpha_2': 0.0709936505965852, 'dropout_1': 0.48373535415424435, 'dropout_2': 0.34135324047698123, 'l2_kern_1': 4.184540626940405e-05, 'l2_kern_2': 0.002367577251107644, 'l2_bias_1': 0.0018954790951939788, 'l2_bias_2': 0.00012074325703778706, 'lr': 0.0001623122923286477, 'batch_size': 16}. Best is trial 2 with value: 0.883048790570847.\u001b[0m\n",
      "C:\\Users\\User\\AppData\\Local\\Temp\\ipykernel_5968\\4154129606.py:46: DeprecationWarning: KerasClassifier is deprecated, use Sci-Keras (https://github.com/adriangb/scikeras) instead. See https://www.adriangb.com/scikeras/stable/migration.html for help migrating.\n",
      "  ('classifier', KerasClassifier(build_fn=self.create_model, verbose=0))\n"
     ]
    },
    {
     "name": "stdout",
     "output_type": "stream",
     "text": [
      "195/195 [==============================] - 0s 2ms/step\n",
      "195/195 [==============================] - 0s 2ms/step\n",
      "195/195 [==============================] - 0s 2ms/step\n"
     ]
    },
    {
     "name": "stderr",
     "output_type": "stream",
     "text": [
      "\u001b[32m[I 2023-03-02 15:43:56,261]\u001b[0m Trial 52 finished with value: 0.8600462430362846 and parameters: {'units_1': 19, 'units_2': 33, 'alpha_1': 0.05534699908785936, 'alpha_2': 0.04947982793759315, 'dropout_1': 0.4424531409738781, 'dropout_2': 0.36530807539010257, 'l2_kern_1': 6.406096878620483e-05, 'l2_kern_2': 4.2830580905929955e-05, 'l2_bias_1': 8.696663639498824e-05, 'l2_bias_2': 5.205332342099591e-05, 'lr': 0.0016342744266646953, 'batch_size': 64}. Best is trial 2 with value: 0.883048790570847.\u001b[0m\n",
      "C:\\Users\\User\\AppData\\Local\\Temp\\ipykernel_5968\\4154129606.py:46: DeprecationWarning: KerasClassifier is deprecated, use Sci-Keras (https://github.com/adriangb/scikeras) instead. See https://www.adriangb.com/scikeras/stable/migration.html for help migrating.\n",
      "  ('classifier', KerasClassifier(build_fn=self.create_model, verbose=0))\n"
     ]
    },
    {
     "name": "stdout",
     "output_type": "stream",
     "text": [
      "195/195 [==============================] - 0s 2ms/step\n",
      "195/195 [==============================] - 0s 1ms/step\n",
      "195/195 [==============================] - 0s 1ms/step\n"
     ]
    },
    {
     "name": "stderr",
     "output_type": "stream",
     "text": [
      "\u001b[32m[I 2023-03-02 15:45:02,972]\u001b[0m Trial 53 finished with value: 0.8723255628737764 and parameters: {'units_1': 34, 'units_2': 21, 'alpha_1': 0.04003928359586926, 'alpha_2': 0.07737073555956582, 'dropout_1': 0.2938399442882509, 'dropout_2': 0.21500315917306256, 'l2_kern_1': 0.00014436199771479758, 'l2_kern_2': 9.823103242867155e-05, 'l2_bias_1': 0.005484946441655367, 'l2_bias_2': 0.005658282165694526, 'lr': 0.006154152102597497, 'batch_size': 32}. Best is trial 2 with value: 0.883048790570847.\u001b[0m\n",
      "C:\\Users\\User\\AppData\\Local\\Temp\\ipykernel_5968\\4154129606.py:46: DeprecationWarning: KerasClassifier is deprecated, use Sci-Keras (https://github.com/adriangb/scikeras) instead. See https://www.adriangb.com/scikeras/stable/migration.html for help migrating.\n",
      "  ('classifier', KerasClassifier(build_fn=self.create_model, verbose=0))\n"
     ]
    },
    {
     "name": "stdout",
     "output_type": "stream",
     "text": [
      "195/195 [==============================] - 0s 2ms/step\n",
      "195/195 [==============================] - 0s 1ms/step\n",
      "195/195 [==============================] - 0s 2ms/step\n"
     ]
    },
    {
     "name": "stderr",
     "output_type": "stream",
     "text": [
      "\u001b[32m[I 2023-03-02 15:46:06,525]\u001b[0m Trial 54 finished with value: 0.8624160181741618 and parameters: {'units_1': 22, 'units_2': 16, 'alpha_1': 0.017602290840330402, 'alpha_2': 0.07783325808554041, 'dropout_1': 0.4901348362252705, 'dropout_2': 0.38020126815573224, 'l2_kern_1': 6.106783035443539e-05, 'l2_kern_2': 0.006758836946831938, 'l2_bias_1': 0.0011936313661500603, 'l2_bias_2': 0.006000968042101711, 'lr': 0.0010971460760837027, 'batch_size': 64}. Best is trial 2 with value: 0.883048790570847.\u001b[0m\n",
      "C:\\Users\\User\\AppData\\Local\\Temp\\ipykernel_5968\\4154129606.py:46: DeprecationWarning: KerasClassifier is deprecated, use Sci-Keras (https://github.com/adriangb/scikeras) instead. See https://www.adriangb.com/scikeras/stable/migration.html for help migrating.\n",
      "  ('classifier', KerasClassifier(build_fn=self.create_model, verbose=0))\n"
     ]
    },
    {
     "name": "stdout",
     "output_type": "stream",
     "text": [
      "195/195 [==============================] - 0s 2ms/step\n",
      "195/195 [==============================] - 0s 2ms/step\n",
      "195/195 [==============================] - 0s 2ms/step\n"
     ]
    },
    {
     "name": "stderr",
     "output_type": "stream",
     "text": [
      "\u001b[32m[I 2023-03-02 15:46:29,657]\u001b[0m Trial 55 finished with value: 0.8567792054294864 and parameters: {'units_1': 24, 'units_2': 29, 'alpha_1': 0.09111624535265661, 'alpha_2': 0.03737487027244242, 'dropout_1': 0.25926264804576554, 'dropout_2': 0.36165359165099675, 'l2_kern_1': 0.0001872418179628212, 'l2_kern_2': 0.0020031557820882257, 'l2_bias_1': 0.0007466260075037564, 'l2_bias_2': 7.705417660856127e-05, 'lr': 0.0008114660504711917, 'batch_size': 1024}. Best is trial 2 with value: 0.883048790570847.\u001b[0m\n",
      "C:\\Users\\User\\AppData\\Local\\Temp\\ipykernel_5968\\4154129606.py:46: DeprecationWarning: KerasClassifier is deprecated, use Sci-Keras (https://github.com/adriangb/scikeras) instead. See https://www.adriangb.com/scikeras/stable/migration.html for help migrating.\n",
      "  ('classifier', KerasClassifier(build_fn=self.create_model, verbose=0))\n"
     ]
    },
    {
     "name": "stdout",
     "output_type": "stream",
     "text": [
      "195/195 [==============================] - 0s 1ms/step\n",
      "195/195 [==============================] - 0s 1ms/step\n",
      "195/195 [==============================] - 0s 1ms/step\n"
     ]
    },
    {
     "name": "stderr",
     "output_type": "stream",
     "text": [
      "\u001b[32m[I 2023-03-02 15:47:54,330]\u001b[0m Trial 56 finished with value: 0.8552970064299265 and parameters: {'units_1': 23, 'units_2': 16, 'alpha_1': 0.08430982397807764, 'alpha_2': 0.01705449879786859, 'dropout_1': 0.2383223951813312, 'dropout_2': 0.22076605242335384, 'l2_kern_1': 0.0003267820630998496, 'l2_kern_2': 1.1219805782106253e-05, 'l2_bias_1': 3.2851126236450595e-05, 'l2_bias_2': 0.0002499274678759685, 'lr': 9.757941485022872e-05, 'batch_size': 64}. Best is trial 2 with value: 0.883048790570847.\u001b[0m\n",
      "C:\\Users\\User\\AppData\\Local\\Temp\\ipykernel_5968\\4154129606.py:46: DeprecationWarning: KerasClassifier is deprecated, use Sci-Keras (https://github.com/adriangb/scikeras) instead. See https://www.adriangb.com/scikeras/stable/migration.html for help migrating.\n",
      "  ('classifier', KerasClassifier(build_fn=self.create_model, verbose=0))\n"
     ]
    },
    {
     "name": "stdout",
     "output_type": "stream",
     "text": [
      "195/195 [==============================] - 0s 2ms/step\n",
      "195/195 [==============================] - 0s 2ms/step\n",
      "195/195 [==============================] - 0s 1ms/step\n"
     ]
    },
    {
     "name": "stderr",
     "output_type": "stream",
     "text": [
      "\u001b[32m[I 2023-03-02 15:48:42,137]\u001b[0m Trial 57 finished with value: 0.8455162757150531 and parameters: {'units_1': 35, 'units_2': 3, 'alpha_1': 0.06729771872187638, 'alpha_2': 0.06090745758674528, 'dropout_1': 0.37620935963954133, 'dropout_2': 0.20361872478819273, 'l2_kern_1': 0.00388685896683182, 'l2_kern_2': 1.2050047244191513e-05, 'l2_bias_1': 1.2670694413801767e-05, 'l2_bias_2': 0.0033458227609747993, 'lr': 0.0001651090950557174, 'batch_size': 512}. Best is trial 2 with value: 0.883048790570847.\u001b[0m\n",
      "C:\\Users\\User\\AppData\\Local\\Temp\\ipykernel_5968\\4154129606.py:46: DeprecationWarning: KerasClassifier is deprecated, use Sci-Keras (https://github.com/adriangb/scikeras) instead. See https://www.adriangb.com/scikeras/stable/migration.html for help migrating.\n",
      "  ('classifier', KerasClassifier(build_fn=self.create_model, verbose=0))\n"
     ]
    },
    {
     "name": "stdout",
     "output_type": "stream",
     "text": [
      "195/195 [==============================] - 0s 2ms/step\n",
      "195/195 [==============================] - 0s 2ms/step\n",
      "195/195 [==============================] - 0s 1ms/step\n"
     ]
    },
    {
     "name": "stderr",
     "output_type": "stream",
     "text": [
      "\u001b[32m[I 2023-03-02 15:50:46,014]\u001b[0m Trial 58 finished with value: 0.8507989391920557 and parameters: {'units_1': 7, 'units_2': 26, 'alpha_1': 0.021488276250152486, 'alpha_2': 0.04333500391939902, 'dropout_1': 0.30114757653753293, 'dropout_2': 0.38471544654059175, 'l2_kern_1': 0.0022499558729649374, 'l2_kern_2': 2.8308083170432405e-05, 'l2_bias_1': 0.0007592294640849681, 'l2_bias_2': 0.00025817654730743206, 'lr': 0.0008256578566996948, 'batch_size': 16}. Best is trial 2 with value: 0.883048790570847.\u001b[0m\n",
      "C:\\Users\\User\\AppData\\Local\\Temp\\ipykernel_5968\\4154129606.py:46: DeprecationWarning: KerasClassifier is deprecated, use Sci-Keras (https://github.com/adriangb/scikeras) instead. See https://www.adriangb.com/scikeras/stable/migration.html for help migrating.\n",
      "  ('classifier', KerasClassifier(build_fn=self.create_model, verbose=0))\n"
     ]
    },
    {
     "name": "stdout",
     "output_type": "stream",
     "text": [
      "195/195 [==============================] - 0s 2ms/step\n",
      "195/195 [==============================] - 0s 1ms/step\n",
      "195/195 [==============================] - 0s 2ms/step\n"
     ]
    },
    {
     "name": "stderr",
     "output_type": "stream",
     "text": [
      "\u001b[32m[I 2023-03-02 15:51:48,514]\u001b[0m Trial 59 finished with value: 0.8721391934107815 and parameters: {'units_1': 8, 'units_2': 29, 'alpha_1': 0.06627460731285714, 'alpha_2': 0.08745573028621391, 'dropout_1': 0.2057227912243845, 'dropout_2': 0.3375647412848978, 'l2_kern_1': 0.003074059485027563, 'l2_kern_2': 0.000814239078124287, 'l2_bias_1': 0.00020118712938814624, 'l2_bias_2': 0.0004007942980217558, 'lr': 0.002533845002019618, 'batch_size': 64}. Best is trial 2 with value: 0.883048790570847.\u001b[0m\n",
      "C:\\Users\\User\\AppData\\Local\\Temp\\ipykernel_5968\\4154129606.py:46: DeprecationWarning: KerasClassifier is deprecated, use Sci-Keras (https://github.com/adriangb/scikeras) instead. See https://www.adriangb.com/scikeras/stable/migration.html for help migrating.\n",
      "  ('classifier', KerasClassifier(build_fn=self.create_model, verbose=0))\n"
     ]
    },
    {
     "name": "stdout",
     "output_type": "stream",
     "text": [
      "195/195 [==============================] - 0s 2ms/step\n",
      "195/195 [==============================] - 0s 2ms/step\n",
      "195/195 [==============================] - 0s 2ms/step\n"
     ]
    },
    {
     "name": "stderr",
     "output_type": "stream",
     "text": [
      "\u001b[32m[I 2023-03-02 15:52:04,180]\u001b[0m Trial 60 finished with value: 0.8534279224007362 and parameters: {'units_1': 4, 'units_2': 34, 'alpha_1': 0.010685265186447862, 'alpha_2': 0.04385101229906669, 'dropout_1': 0.21985132135661314, 'dropout_2': 0.33927270075192845, 'l2_kern_1': 0.00018461437388754787, 'l2_kern_2': 4.0280991582127775e-05, 'l2_bias_1': 8.629035495816727e-05, 'l2_bias_2': 3.050987746458645e-05, 'lr': 0.004256610476901072, 'batch_size': 1024}. Best is trial 2 with value: 0.883048790570847.\u001b[0m\n",
      "C:\\Users\\User\\AppData\\Local\\Temp\\ipykernel_5968\\4154129606.py:46: DeprecationWarning: KerasClassifier is deprecated, use Sci-Keras (https://github.com/adriangb/scikeras) instead. See https://www.adriangb.com/scikeras/stable/migration.html for help migrating.\n",
      "  ('classifier', KerasClassifier(build_fn=self.create_model, verbose=0))\n"
     ]
    },
    {
     "name": "stdout",
     "output_type": "stream",
     "text": [
      "195/195 [==============================] - 0s 2ms/step\n",
      "195/195 [==============================] - 0s 2ms/step\n",
      "195/195 [==============================] - 0s 2ms/step\n"
     ]
    },
    {
     "name": "stderr",
     "output_type": "stream",
     "text": [
      "\u001b[32m[I 2023-03-02 15:57:30,233]\u001b[0m Trial 61 finished with value: 0.8689845064975117 and parameters: {'units_1': 23, 'units_2': 31, 'alpha_1': 0.08313015519777622, 'alpha_2': 0.040528461610066444, 'dropout_1': 0.2604944731720721, 'dropout_2': 0.3645362476846008, 'l2_kern_1': 1.6880923238654395e-05, 'l2_kern_2': 3.1959456384180613e-05, 'l2_bias_1': 4.097057762107017e-05, 'l2_bias_2': 0.0009740154439076222, 'lr': 9.869247981308181e-05, 'batch_size': 16}. Best is trial 2 with value: 0.883048790570847.\u001b[0m\n",
      "C:\\Users\\User\\AppData\\Local\\Temp\\ipykernel_5968\\4154129606.py:46: DeprecationWarning: KerasClassifier is deprecated, use Sci-Keras (https://github.com/adriangb/scikeras) instead. See https://www.adriangb.com/scikeras/stable/migration.html for help migrating.\n",
      "  ('classifier', KerasClassifier(build_fn=self.create_model, verbose=0))\n"
     ]
    },
    {
     "name": "stdout",
     "output_type": "stream",
     "text": [
      "195/195 [==============================] - 0s 1ms/step\n",
      "195/195 [==============================] - 0s 1ms/step\n",
      "195/195 [==============================] - 0s 2ms/step\n"
     ]
    },
    {
     "name": "stderr",
     "output_type": "stream",
     "text": [
      "\u001b[32m[I 2023-03-02 16:01:41,095]\u001b[0m Trial 62 finished with value: 0.8620249392974063 and parameters: {'units_1': 21, 'units_2': 35, 'alpha_1': 0.09662508044251965, 'alpha_2': 0.040528461610066444, 'dropout_1': 0.31592899622467263, 'dropout_2': 0.3645362476846008, 'l2_kern_1': 0.0001882922154801901, 'l2_kern_2': 8.163362269253294e-05, 'l2_bias_1': 0.0020398671088849994, 'l2_bias_2': 0.0033458227609747993, 'lr': 9.869247981308181e-05, 'batch_size': 16}. Best is trial 2 with value: 0.883048790570847.\u001b[0m\n",
      "C:\\Users\\User\\AppData\\Local\\Temp\\ipykernel_5968\\4154129606.py:46: DeprecationWarning: KerasClassifier is deprecated, use Sci-Keras (https://github.com/adriangb/scikeras) instead. See https://www.adriangb.com/scikeras/stable/migration.html for help migrating.\n",
      "  ('classifier', KerasClassifier(build_fn=self.create_model, verbose=0))\n"
     ]
    },
    {
     "name": "stdout",
     "output_type": "stream",
     "text": [
      "195/195 [==============================] - 0s 1ms/step\n",
      "195/195 [==============================] - 0s 2ms/step\n",
      "195/195 [==============================] - 0s 2ms/step\n"
     ]
    },
    {
     "name": "stderr",
     "output_type": "stream",
     "text": [
      "\u001b[32m[I 2023-03-02 16:06:05,032]\u001b[0m Trial 63 finished with value: 0.8675574956051206 and parameters: {'units_1': 33, 'units_2': 35, 'alpha_1': 0.0566620578492699, 'alpha_2': 0.040528461610066444, 'dropout_1': 0.4635459664917902, 'dropout_2': 0.3645362476846008, 'l2_kern_1': 0.0039853758359329255, 'l2_kern_2': 9.808235770973122e-05, 'l2_bias_1': 5.789466242804054e-05, 'l2_bias_2': 0.0034263151147741304, 'lr': 9.869247981308181e-05, 'batch_size': 16}. Best is trial 2 with value: 0.883048790570847.\u001b[0m\n",
      "C:\\Users\\User\\AppData\\Local\\Temp\\ipykernel_5968\\4154129606.py:46: DeprecationWarning: KerasClassifier is deprecated, use Sci-Keras (https://github.com/adriangb/scikeras) instead. See https://www.adriangb.com/scikeras/stable/migration.html for help migrating.\n",
      "  ('classifier', KerasClassifier(build_fn=self.create_model, verbose=0))\n"
     ]
    },
    {
     "name": "stdout",
     "output_type": "stream",
     "text": [
      "195/195 [==============================] - 0s 2ms/step\n",
      "195/195 [==============================] - 0s 1ms/step\n",
      "195/195 [==============================] - 0s 2ms/step\n"
     ]
    },
    {
     "name": "stderr",
     "output_type": "stream",
     "text": [
      "\u001b[32m[I 2023-03-02 16:08:11,047]\u001b[0m Trial 64 finished with value: 0.877216899252448 and parameters: {'units_1': 30, 'units_2': 21, 'alpha_1': 0.030867899045047005, 'alpha_2': 0.08767799816498606, 'dropout_1': 0.2905257843299829, 'dropout_2': 0.3801272541830654, 'l2_kern_1': 0.0004931338370444792, 'l2_kern_2': 0.0013867108457293123, 'l2_bias_1': 0.00010201944184262279, 'l2_bias_2': 1.8664469523818455e-05, 'lr': 0.002658776839363301, 'batch_size': 16}. Best is trial 2 with value: 0.883048790570847.\u001b[0m\n",
      "C:\\Users\\User\\AppData\\Local\\Temp\\ipykernel_5968\\4154129606.py:46: DeprecationWarning: KerasClassifier is deprecated, use Sci-Keras (https://github.com/adriangb/scikeras) instead. See https://www.adriangb.com/scikeras/stable/migration.html for help migrating.\n",
      "  ('classifier', KerasClassifier(build_fn=self.create_model, verbose=0))\n"
     ]
    },
    {
     "name": "stdout",
     "output_type": "stream",
     "text": [
      "195/195 [==============================] - 0s 2ms/step\n",
      "195/195 [==============================] - 0s 2ms/step\n",
      "195/195 [==============================] - 0s 1ms/step\n"
     ]
    },
    {
     "name": "stderr",
     "output_type": "stream",
     "text": [
      "\u001b[32m[I 2023-03-02 16:10:40,577]\u001b[0m Trial 65 finished with value: 0.8778821931079648 and parameters: {'units_1': 13, 'units_2': 21, 'alpha_1': 0.07513687350180646, 'alpha_2': 0.09034339011720202, 'dropout_1': 0.2938399442882509, 'dropout_2': 0.3108848605388136, 'l2_kern_1': 0.00014436199771479758, 'l2_kern_2': 0.0002252923490545274, 'l2_bias_1': 2.217340779137156e-05, 'l2_bias_2': 0.007299403185989987, 'lr': 0.0008975753990515953, 'batch_size': 32}. Best is trial 2 with value: 0.883048790570847.\u001b[0m\n",
      "C:\\Users\\User\\AppData\\Local\\Temp\\ipykernel_5968\\4154129606.py:46: DeprecationWarning: KerasClassifier is deprecated, use Sci-Keras (https://github.com/adriangb/scikeras) instead. See https://www.adriangb.com/scikeras/stable/migration.html for help migrating.\n",
      "  ('classifier', KerasClassifier(build_fn=self.create_model, verbose=0))\n"
     ]
    },
    {
     "name": "stdout",
     "output_type": "stream",
     "text": [
      "195/195 [==============================] - 0s 2ms/step\n",
      "195/195 [==============================] - 0s 1ms/step\n",
      "195/195 [==============================] - 0s 2ms/step\n"
     ]
    },
    {
     "name": "stderr",
     "output_type": "stream",
     "text": [
      "\u001b[32m[I 2023-03-02 16:11:15,213]\u001b[0m Trial 66 finished with value: 0.8752305081861733 and parameters: {'units_1': 11, 'units_2': 37, 'alpha_1': 0.03333993538615278, 'alpha_2': 0.09687577934237873, 'dropout_1': 0.3282692189248193, 'dropout_2': 0.21404942884563577, 'l2_kern_1': 1.7584350537032187e-05, 'l2_kern_2': 1.3852213825808372e-05, 'l2_bias_1': 1.1634768567112632e-05, 'l2_bias_2': 0.00878267190074376, 'lr': 0.001634051423088037, 'batch_size': 256}. Best is trial 2 with value: 0.883048790570847.\u001b[0m\n",
      "C:\\Users\\User\\AppData\\Local\\Temp\\ipykernel_5968\\4154129606.py:46: DeprecationWarning: KerasClassifier is deprecated, use Sci-Keras (https://github.com/adriangb/scikeras) instead. See https://www.adriangb.com/scikeras/stable/migration.html for help migrating.\n",
      "  ('classifier', KerasClassifier(build_fn=self.create_model, verbose=0))\n"
     ]
    },
    {
     "name": "stdout",
     "output_type": "stream",
     "text": [
      "195/195 [==============================] - 0s 1ms/step\n",
      "195/195 [==============================] - 0s 2ms/step\n",
      "195/195 [==============================] - 0s 2ms/step\n"
     ]
    },
    {
     "name": "stderr",
     "output_type": "stream",
     "text": [
      "\u001b[32m[I 2023-03-02 16:11:42,595]\u001b[0m Trial 67 finished with value: 0.853189248641791 and parameters: {'units_1': 20, 'units_2': 17, 'alpha_1': 0.08565709338741571, 'alpha_2': 0.06957946854157403, 'dropout_1': 0.4776395095926638, 'dropout_2': 0.3072240275063851, 'l2_kern_1': 0.00025656630115683727, 'l2_kern_2': 1.3613279539045093e-05, 'l2_bias_1': 0.00039263683280431187, 'l2_bias_2': 1.778463792887706e-05, 'lr': 0.0002998552928826753, 'batch_size': 256}. Best is trial 2 with value: 0.883048790570847.\u001b[0m\n",
      "C:\\Users\\User\\AppData\\Local\\Temp\\ipykernel_5968\\4154129606.py:46: DeprecationWarning: KerasClassifier is deprecated, use Sci-Keras (https://github.com/adriangb/scikeras) instead. See https://www.adriangb.com/scikeras/stable/migration.html for help migrating.\n",
      "  ('classifier', KerasClassifier(build_fn=self.create_model, verbose=0))\n"
     ]
    },
    {
     "name": "stdout",
     "output_type": "stream",
     "text": [
      "195/195 [==============================] - 0s 2ms/step\n",
      "195/195 [==============================] - 0s 1ms/step\n",
      "195/195 [==============================] - 0s 1ms/step\n"
     ]
    },
    {
     "name": "stderr",
     "output_type": "stream",
     "text": [
      "\u001b[32m[I 2023-03-02 16:12:03,876]\u001b[0m Trial 68 finished with value: 0.8587939346621383 and parameters: {'units_1': 25, 'units_2': 32, 'alpha_1': 0.03475615683698265, 'alpha_2': 0.09548130811993064, 'dropout_1': 0.21084716360841715, 'dropout_2': 0.2059886149988664, 'l2_kern_1': 0.0007965561030419664, 'l2_kern_2': 0.007737546535067332, 'l2_bias_1': 0.0004885165137497015, 'l2_bias_2': 2.6480497550125548e-05, 'lr': 0.0018549796646408923, 'batch_size': 1024}. Best is trial 2 with value: 0.883048790570847.\u001b[0m\n",
      "C:\\Users\\User\\AppData\\Local\\Temp\\ipykernel_5968\\4154129606.py:46: DeprecationWarning: KerasClassifier is deprecated, use Sci-Keras (https://github.com/adriangb/scikeras) instead. See https://www.adriangb.com/scikeras/stable/migration.html for help migrating.\n",
      "  ('classifier', KerasClassifier(build_fn=self.create_model, verbose=0))\n"
     ]
    },
    {
     "name": "stdout",
     "output_type": "stream",
     "text": [
      "195/195 [==============================] - 1s 3ms/step\n",
      "195/195 [==============================] - 0s 1ms/step\n",
      "195/195 [==============================] - 1s 2ms/step\n"
     ]
    },
    {
     "name": "stderr",
     "output_type": "stream",
     "text": [
      "\u001b[32m[I 2023-03-02 16:12:40,449]\u001b[0m Trial 69 finished with value: 0.8636338647197898 and parameters: {'units_1': 11, 'units_2': 29, 'alpha_1': 0.03333993538615278, 'alpha_2': 0.08106002016074887, 'dropout_1': 0.38640465026274706, 'dropout_2': 0.3472861249997264, 'l2_kern_1': 8.145506346221316e-05, 'l2_kern_2': 1.9545463479679095e-05, 'l2_bias_1': 1.1200582017131597e-05, 'l2_bias_2': 0.00878267190074376, 'lr': 0.005195090576085147, 'batch_size': 128}. Best is trial 2 with value: 0.883048790570847.\u001b[0m\n",
      "C:\\Users\\User\\AppData\\Local\\Temp\\ipykernel_5968\\4154129606.py:46: DeprecationWarning: KerasClassifier is deprecated, use Sci-Keras (https://github.com/adriangb/scikeras) instead. See https://www.adriangb.com/scikeras/stable/migration.html for help migrating.\n",
      "  ('classifier', KerasClassifier(build_fn=self.create_model, verbose=0))\n"
     ]
    },
    {
     "name": "stdout",
     "output_type": "stream",
     "text": [
      "195/195 [==============================] - 1s 2ms/step\n",
      "195/195 [==============================] - 0s 2ms/step\n",
      "195/195 [==============================] - 0s 2ms/step\n"
     ]
    },
    {
     "name": "stderr",
     "output_type": "stream",
     "text": [
      "\u001b[32m[I 2023-03-02 16:17:37,283]\u001b[0m Trial 70 finished with value: 0.8753853714469363 and parameters: {'units_1': 36, 'units_2': 29, 'alpha_1': 0.09143424577456503, 'alpha_2': 0.08106002016074887, 'dropout_1': 0.2383223951813312, 'dropout_2': 0.444549594985748, 'l2_kern_1': 5.0676710558774153e-05, 'l2_kern_2': 1.9545463479679095e-05, 'l2_bias_1': 0.0018954790951939788, 'l2_bias_2': 0.0011520626310104437, 'lr': 0.0001623122923286477, 'batch_size': 16}. Best is trial 2 with value: 0.883048790570847.\u001b[0m\n",
      "C:\\Users\\User\\AppData\\Local\\Temp\\ipykernel_5968\\4154129606.py:46: DeprecationWarning: KerasClassifier is deprecated, use Sci-Keras (https://github.com/adriangb/scikeras) instead. See https://www.adriangb.com/scikeras/stable/migration.html for help migrating.\n",
      "  ('classifier', KerasClassifier(build_fn=self.create_model, verbose=0))\n"
     ]
    },
    {
     "name": "stdout",
     "output_type": "stream",
     "text": [
      "195/195 [==============================] - 0s 1ms/step\n",
      "195/195 [==============================] - 0s 1ms/step\n",
      "195/195 [==============================] - 0s 2ms/step\n"
     ]
    },
    {
     "name": "stderr",
     "output_type": "stream",
     "text": [
      "\u001b[32m[I 2023-03-02 16:22:35,409]\u001b[0m Trial 71 finished with value: 0.8771935286805842 and parameters: {'units_1': 33, 'units_2': 17, 'alpha_1': 0.08173738904128992, 'alpha_2': 0.040528461610066444, 'dropout_1': 0.2604944731720721, 'dropout_2': 0.3645362476846008, 'l2_kern_1': 0.00025656630115683727, 'l2_kern_2': 0.0014649230189995996, 'l2_bias_1': 1.7035992846362272e-05, 'l2_bias_2': 0.0034263151147741304, 'lr': 0.0002998552928826753, 'batch_size': 16}. Best is trial 2 with value: 0.883048790570847.\u001b[0m\n",
      "C:\\Users\\User\\AppData\\Local\\Temp\\ipykernel_5968\\4154129606.py:46: DeprecationWarning: KerasClassifier is deprecated, use Sci-Keras (https://github.com/adriangb/scikeras) instead. See https://www.adriangb.com/scikeras/stable/migration.html for help migrating.\n",
      "  ('classifier', KerasClassifier(build_fn=self.create_model, verbose=0))\n"
     ]
    },
    {
     "name": "stdout",
     "output_type": "stream",
     "text": [
      "195/195 [==============================] - 1s 2ms/step\n",
      "195/195 [==============================] - 0s 2ms/step\n",
      "195/195 [==============================] - 0s 2ms/step\n"
     ]
    },
    {
     "name": "stderr",
     "output_type": "stream",
     "text": [
      "\u001b[32m[I 2023-03-02 16:26:19,154]\u001b[0m Trial 72 finished with value: 0.8692393806998511 and parameters: {'units_1': 19, 'units_2': 33, 'alpha_1': 0.03333993538615278, 'alpha_2': 0.08968811902330612, 'dropout_1': 0.4424531409738781, 'dropout_2': 0.36660105147643907, 'l2_kern_1': 6.406096878620483e-05, 'l2_kern_2': 4.2830580905929955e-05, 'l2_bias_1': 1.1200582017131597e-05, 'l2_bias_2': 5.205332342099591e-05, 'lr': 0.00025635649209387467, 'batch_size': 16}. Best is trial 2 with value: 0.883048790570847.\u001b[0m\n",
      "C:\\Users\\User\\AppData\\Local\\Temp\\ipykernel_5968\\4154129606.py:46: DeprecationWarning: KerasClassifier is deprecated, use Sci-Keras (https://github.com/adriangb/scikeras) instead. See https://www.adriangb.com/scikeras/stable/migration.html for help migrating.\n",
      "  ('classifier', KerasClassifier(build_fn=self.create_model, verbose=0))\n"
     ]
    },
    {
     "name": "stdout",
     "output_type": "stream",
     "text": [
      "195/195 [==============================] - 0s 2ms/step\n",
      "195/195 [==============================] - 0s 2ms/step\n",
      "195/195 [==============================] - 0s 2ms/step\n"
     ]
    },
    {
     "name": "stderr",
     "output_type": "stream",
     "text": [
      "\u001b[32m[I 2023-03-02 16:27:37,871]\u001b[0m Trial 73 finished with value: 0.83749508820917 and parameters: {'units_1': 4, 'units_2': 16, 'alpha_1': 0.0319843370484992, 'alpha_2': 0.07895088348346271, 'dropout_1': 0.47219360347363554, 'dropout_2': 0.378170412455459, 'l2_kern_1': 1.3877886534838814e-05, 'l2_kern_2': 3.147089650936469e-05, 'l2_bias_1': 0.0002573661773760523, 'l2_bias_2': 4.422905280973315e-05, 'lr': 0.0001117430486367777, 'batch_size': 32}. Best is trial 2 with value: 0.883048790570847.\u001b[0m\n",
      "C:\\Users\\User\\AppData\\Local\\Temp\\ipykernel_5968\\4154129606.py:46: DeprecationWarning: KerasClassifier is deprecated, use Sci-Keras (https://github.com/adriangb/scikeras) instead. See https://www.adriangb.com/scikeras/stable/migration.html for help migrating.\n",
      "  ('classifier', KerasClassifier(build_fn=self.create_model, verbose=0))\n"
     ]
    },
    {
     "name": "stdout",
     "output_type": "stream",
     "text": [
      "195/195 [==============================] - 0s 1ms/step\n",
      "195/195 [==============================] - 0s 1ms/step\n",
      "195/195 [==============================] - 0s 1ms/step\n"
     ]
    },
    {
     "name": "stderr",
     "output_type": "stream",
     "text": [
      "\u001b[32m[I 2023-03-02 16:29:10,442]\u001b[0m Trial 74 finished with value: 0.8719990015035043 and parameters: {'units_1': 34, 'units_2': 37, 'alpha_1': 0.03333993538615278, 'alpha_2': 0.06210711632772143, 'dropout_1': 0.2938399442882509, 'dropout_2': 0.21500315917306256, 'l2_kern_1': 8.145506346221316e-05, 'l2_kern_2': 0.005542222043193387, 'l2_bias_1': 6.698400814244221e-05, 'l2_bias_2': 0.005658282165694526, 'lr': 0.006154152102597497, 'batch_size': 32}. Best is trial 2 with value: 0.883048790570847.\u001b[0m\n",
      "C:\\Users\\User\\AppData\\Local\\Temp\\ipykernel_5968\\4154129606.py:46: DeprecationWarning: KerasClassifier is deprecated, use Sci-Keras (https://github.com/adriangb/scikeras) instead. See https://www.adriangb.com/scikeras/stable/migration.html for help migrating.\n",
      "  ('classifier', KerasClassifier(build_fn=self.create_model, verbose=0))\n"
     ]
    },
    {
     "name": "stdout",
     "output_type": "stream",
     "text": [
      "195/195 [==============================] - 0s 1ms/step\n",
      "195/195 [==============================] - 0s 2ms/step\n",
      "195/195 [==============================] - 0s 1ms/step\n"
     ]
    },
    {
     "name": "stderr",
     "output_type": "stream",
     "text": [
      "\u001b[32m[I 2023-03-02 16:31:59,368]\u001b[0m Trial 75 finished with value: 0.8732507370129082 and parameters: {'units_1': 33, 'units_2': 7, 'alpha_1': 0.060631532702601056, 'alpha_2': 0.04995973540243976, 'dropout_1': 0.30171121733552436, 'dropout_2': 0.46203318259477044, 'l2_kern_1': 5.5844000527917055e-05, 'l2_kern_2': 0.0037460636283326745, 'l2_bias_1': 4.097057762107017e-05, 'l2_bias_2': 0.004454926562725245, 'lr': 0.0020350675432212364, 'batch_size': 16}. Best is trial 2 with value: 0.883048790570847.\u001b[0m\n",
      "C:\\Users\\User\\AppData\\Local\\Temp\\ipykernel_5968\\4154129606.py:46: DeprecationWarning: KerasClassifier is deprecated, use Sci-Keras (https://github.com/adriangb/scikeras) instead. See https://www.adriangb.com/scikeras/stable/migration.html for help migrating.\n",
      "  ('classifier', KerasClassifier(build_fn=self.create_model, verbose=0))\n"
     ]
    },
    {
     "name": "stdout",
     "output_type": "stream",
     "text": [
      "195/195 [==============================] - 0s 1ms/step\n",
      "195/195 [==============================] - 0s 2ms/step\n",
      "195/195 [==============================] - 0s 2ms/step\n"
     ]
    },
    {
     "name": "stderr",
     "output_type": "stream",
     "text": [
      "\u001b[32m[I 2023-03-02 16:33:56,775]\u001b[0m Trial 76 finished with value: 0.8704678638573476 and parameters: {'units_1': 13, 'units_2': 16, 'alpha_1': 0.07513687350180646, 'alpha_2': 0.09034339011720202, 'dropout_1': 0.3094457369463529, 'dropout_2': 0.21792658546567475, 'l2_kern_1': 0.001835629185790384, 'l2_kern_2': 0.000814239078124287, 'l2_bias_1': 5.2856133747204565e-05, 'l2_bias_2': 1.7179307011790766e-05, 'lr': 0.002533845002019618, 'batch_size': 16}. Best is trial 2 with value: 0.883048790570847.\u001b[0m\n",
      "C:\\Users\\User\\AppData\\Local\\Temp\\ipykernel_5968\\4154129606.py:46: DeprecationWarning: KerasClassifier is deprecated, use Sci-Keras (https://github.com/adriangb/scikeras) instead. See https://www.adriangb.com/scikeras/stable/migration.html for help migrating.\n",
      "  ('classifier', KerasClassifier(build_fn=self.create_model, verbose=0))\n"
     ]
    },
    {
     "name": "stdout",
     "output_type": "stream",
     "text": [
      "195/195 [==============================] - 0s 2ms/step\n",
      "195/195 [==============================] - 0s 2ms/step\n",
      "195/195 [==============================] - 0s 1ms/step\n"
     ]
    },
    {
     "name": "stderr",
     "output_type": "stream",
     "text": [
      "\u001b[32m[I 2023-03-02 16:34:21,843]\u001b[0m Trial 77 finished with value: 0.8535149457475457 and parameters: {'units_1': 13, 'units_2': 31, 'alpha_1': 0.05534699908785936, 'alpha_2': 0.09034339011720202, 'dropout_1': 0.4424531409738781, 'dropout_2': 0.3108848605388136, 'l2_kern_1': 6.406096878620483e-05, 'l2_kern_2': 4.2830580905929955e-05, 'l2_bias_1': 8.696663639498824e-05, 'l2_bias_2': 0.007299403185989987, 'lr': 0.0016342744266646953, 'batch_size': 512}. Best is trial 2 with value: 0.883048790570847.\u001b[0m\n",
      "C:\\Users\\User\\AppData\\Local\\Temp\\ipykernel_5968\\4154129606.py:46: DeprecationWarning: KerasClassifier is deprecated, use Sci-Keras (https://github.com/adriangb/scikeras) instead. See https://www.adriangb.com/scikeras/stable/migration.html for help migrating.\n",
      "  ('classifier', KerasClassifier(build_fn=self.create_model, verbose=0))\n"
     ]
    },
    {
     "name": "stdout",
     "output_type": "stream",
     "text": [
      "195/195 [==============================] - 0s 2ms/step\n",
      "195/195 [==============================] - 0s 2ms/step\n",
      "195/195 [==============================] - 0s 1ms/step\n"
     ]
    },
    {
     "name": "stderr",
     "output_type": "stream",
     "text": [
      "\u001b[32m[I 2023-03-02 16:35:23,344]\u001b[0m Trial 78 finished with value: 0.8740508174552946 and parameters: {'units_1': 32, 'units_2': 4, 'alpha_1': 0.05812991057049175, 'alpha_2': 0.07478717950456434, 'dropout_1': 0.2905432526358352, 'dropout_2': 0.2645430867182803, 'l2_kern_1': 0.0007919883106736205, 'l2_kern_2': 2.191406546539561e-05, 'l2_bias_1': 0.0030465862750220568, 'l2_bias_2': 0.0002499274678759685, 'lr': 0.0009520077280589408, 'batch_size': 64}. Best is trial 2 with value: 0.883048790570847.\u001b[0m\n",
      "C:\\Users\\User\\AppData\\Local\\Temp\\ipykernel_5968\\4154129606.py:46: DeprecationWarning: KerasClassifier is deprecated, use Sci-Keras (https://github.com/adriangb/scikeras) instead. See https://www.adriangb.com/scikeras/stable/migration.html for help migrating.\n",
      "  ('classifier', KerasClassifier(build_fn=self.create_model, verbose=0))\n"
     ]
    },
    {
     "name": "stdout",
     "output_type": "stream",
     "text": [
      "195/195 [==============================] - 0s 2ms/step\n",
      "195/195 [==============================] - 0s 2ms/step\n",
      "195/195 [==============================] - 0s 2ms/step\n"
     ]
    },
    {
     "name": "stderr",
     "output_type": "stream",
     "text": [
      "\u001b[32m[I 2023-03-02 16:36:04,192]\u001b[0m Trial 79 finished with value: 0.83819175885969 and parameters: {'units_1': 2, 'units_2': 31, 'alpha_1': 0.04003928359586926, 'alpha_2': 0.030705861448629856, 'dropout_1': 0.4776395095926638, 'dropout_2': 0.3072240275063851, 'l2_kern_1': 0.0004573584297354507, 'l2_kern_2': 1.3613279539045093e-05, 'l2_bias_1': 0.007030783352439636, 'l2_bias_2': 1.778463792887706e-05, 'lr': 0.006154152102597497, 'batch_size': 32}. Best is trial 2 with value: 0.883048790570847.\u001b[0m\n",
      "C:\\Users\\User\\AppData\\Local\\Temp\\ipykernel_5968\\4154129606.py:46: DeprecationWarning: KerasClassifier is deprecated, use Sci-Keras (https://github.com/adriangb/scikeras) instead. See https://www.adriangb.com/scikeras/stable/migration.html for help migrating.\n",
      "  ('classifier', KerasClassifier(build_fn=self.create_model, verbose=0))\n"
     ]
    },
    {
     "name": "stdout",
     "output_type": "stream",
     "text": [
      "195/195 [==============================] - 0s 1ms/step\n",
      "195/195 [==============================] - 0s 1ms/step\n",
      "195/195 [==============================] - 0s 1ms/step\n"
     ]
    },
    {
     "name": "stderr",
     "output_type": "stream",
     "text": [
      "\u001b[32m[I 2023-03-02 16:36:46,636]\u001b[0m Trial 80 finished with value: 0.8536657278405745 and parameters: {'units_1': 38, 'units_2': 38, 'alpha_1': 0.02799063115098735, 'alpha_2': 0.0965390336155468, 'dropout_1': 0.3086682832467138, 'dropout_2': 0.4415804086367294, 'l2_kern_1': 0.008413351399578911, 'l2_kern_2': 2.7000322620487314e-05, 'l2_bias_1': 0.0002903205724293426, 'l2_bias_2': 0.004809365300218228, 'lr': 0.00018387480367090193, 'batch_size': 512}. Best is trial 2 with value: 0.883048790570847.\u001b[0m\n",
      "C:\\Users\\User\\AppData\\Local\\Temp\\ipykernel_5968\\4154129606.py:46: DeprecationWarning: KerasClassifier is deprecated, use Sci-Keras (https://github.com/adriangb/scikeras) instead. See https://www.adriangb.com/scikeras/stable/migration.html for help migrating.\n",
      "  ('classifier', KerasClassifier(build_fn=self.create_model, verbose=0))\n"
     ]
    },
    {
     "name": "stdout",
     "output_type": "stream",
     "text": [
      "195/195 [==============================] - 0s 2ms/step\n",
      "195/195 [==============================] - 0s 2ms/step\n",
      "195/195 [==============================] - 0s 2ms/step\n"
     ]
    },
    {
     "name": "stderr",
     "output_type": "stream",
     "text": [
      "\u001b[32m[I 2023-03-02 16:42:02,606]\u001b[0m Trial 81 finished with value: 0.8541742086657859 and parameters: {'units_1': 25, 'units_2': 37, 'alpha_1': 0.03333993538615278, 'alpha_2': 0.04296021912426692, 'dropout_1': 0.38640465026274706, 'dropout_2': 0.36660105147643907, 'l2_kern_1': 8.145506346221316e-05, 'l2_kern_2': 0.00024844744921314287, 'l2_bias_1': 1.1200582017131597e-05, 'l2_bias_2': 0.00210399486092246, 'lr': 6.934512466262265e-05, 'batch_size': 16}. Best is trial 2 with value: 0.883048790570847.\u001b[0m\n",
      "C:\\Users\\User\\AppData\\Local\\Temp\\ipykernel_5968\\4154129606.py:46: DeprecationWarning: KerasClassifier is deprecated, use Sci-Keras (https://github.com/adriangb/scikeras) instead. See https://www.adriangb.com/scikeras/stable/migration.html for help migrating.\n",
      "  ('classifier', KerasClassifier(build_fn=self.create_model, verbose=0))\n"
     ]
    },
    {
     "name": "stdout",
     "output_type": "stream",
     "text": [
      "195/195 [==============================] - 0s 2ms/step\n",
      "195/195 [==============================] - 0s 2ms/step\n",
      "195/195 [==============================] - 0s 2ms/step\n"
     ]
    },
    {
     "name": "stderr",
     "output_type": "stream",
     "text": [
      "\u001b[32m[I 2023-03-02 16:42:32,339]\u001b[0m Trial 82 finished with value: 0.8657515976696896 and parameters: {'units_1': 37, 'units_2': 37, 'alpha_1': 0.027469597945046886, 'alpha_2': 0.03056929463990285, 'dropout_1': 0.4548734975720918, 'dropout_2': 0.2059886149988664, 'l2_kern_1': 0.007903059849066637, 'l2_kern_2': 0.006927976666363322, 'l2_bias_1': 0.0003049438386151177, 'l2_bias_2': 0.0003761553492032365, 'lr': 0.0028761498244285074, 'batch_size': 256}. Best is trial 2 with value: 0.883048790570847.\u001b[0m\n",
      "C:\\Users\\User\\AppData\\Local\\Temp\\ipykernel_5968\\4154129606.py:46: DeprecationWarning: KerasClassifier is deprecated, use Sci-Keras (https://github.com/adriangb/scikeras) instead. See https://www.adriangb.com/scikeras/stable/migration.html for help migrating.\n",
      "  ('classifier', KerasClassifier(build_fn=self.create_model, verbose=0))\n"
     ]
    },
    {
     "name": "stdout",
     "output_type": "stream",
     "text": [
      "195/195 [==============================] - 0s 1ms/step\n",
      "195/195 [==============================] - 0s 1ms/step\n",
      "195/195 [==============================] - 0s 1ms/step\n"
     ]
    },
    {
     "name": "stderr",
     "output_type": "stream",
     "text": [
      "\u001b[32m[I 2023-03-02 16:42:49,270]\u001b[0m Trial 83 finished with value: 0.8707202150857506 and parameters: {'units_1': 30, 'units_2': 21, 'alpha_1': 0.06815763622901097, 'alpha_2': 0.08767799816498606, 'dropout_1': 0.4901348362252705, 'dropout_2': 0.3801272541830654, 'l2_kern_1': 0.0008969319904505746, 'l2_kern_2': 0.00020671833436784458, 'l2_bias_1': 0.00015404558083925935, 'l2_bias_2': 1.8664469523818455e-05, 'lr': 0.006562581525027119, 'batch_size': 1024}. Best is trial 2 with value: 0.883048790570847.\u001b[0m\n",
      "C:\\Users\\User\\AppData\\Local\\Temp\\ipykernel_5968\\4154129606.py:46: DeprecationWarning: KerasClassifier is deprecated, use Sci-Keras (https://github.com/adriangb/scikeras) instead. See https://www.adriangb.com/scikeras/stable/migration.html for help migrating.\n",
      "  ('classifier', KerasClassifier(build_fn=self.create_model, verbose=0))\n"
     ]
    },
    {
     "name": "stdout",
     "output_type": "stream",
     "text": [
      "195/195 [==============================] - 0s 1ms/step\n",
      "195/195 [==============================] - 0s 2ms/step\n",
      "195/195 [==============================] - 0s 1ms/step\n"
     ]
    },
    {
     "name": "stderr",
     "output_type": "stream",
     "text": [
      "\u001b[32m[I 2023-03-02 16:45:34,932]\u001b[0m Trial 84 finished with value: 0.8721648201815423 and parameters: {'units_1': 25, 'units_2': 16, 'alpha_1': 0.07513687350180646, 'alpha_2': 0.09548130811993064, 'dropout_1': 0.3094457369463529, 'dropout_2': 0.28140127387018987, 'l2_kern_1': 8.651534041136919e-05, 'l2_kern_2': 0.007737546535067332, 'l2_bias_1': 5.2856133747204565e-05, 'l2_bias_2': 0.007299403185989987, 'lr': 0.004513406032013522, 'batch_size': 16}. Best is trial 2 with value: 0.883048790570847.\u001b[0m\n",
      "C:\\Users\\User\\AppData\\Local\\Temp\\ipykernel_5968\\4154129606.py:46: DeprecationWarning: KerasClassifier is deprecated, use Sci-Keras (https://github.com/adriangb/scikeras) instead. See https://www.adriangb.com/scikeras/stable/migration.html for help migrating.\n",
      "  ('classifier', KerasClassifier(build_fn=self.create_model, verbose=0))\n"
     ]
    },
    {
     "name": "stdout",
     "output_type": "stream",
     "text": [
      "195/195 [==============================] - 0s 2ms/step\n",
      "195/195 [==============================] - 0s 2ms/step\n",
      "195/195 [==============================] - 0s 1ms/step\n"
     ]
    },
    {
     "name": "stderr",
     "output_type": "stream",
     "text": [
      "\u001b[32m[I 2023-03-02 16:46:48,632]\u001b[0m Trial 85 finished with value: 0.8619444323348064 and parameters: {'units_1': 12, 'units_2': 21, 'alpha_1': 0.011568603258636675, 'alpha_2': 0.04190708340018416, 'dropout_1': 0.2938399442882509, 'dropout_2': 0.21500315917306256, 'l2_kern_1': 0.00014436199771479758, 'l2_kern_2': 3.0111156117759884e-05, 'l2_bias_1': 0.0046532904464768035, 'l2_bias_2': 0.0002001393738536881, 'lr': 0.006154152102597497, 'batch_size': 32}. Best is trial 2 with value: 0.883048790570847.\u001b[0m\n",
      "C:\\Users\\User\\AppData\\Local\\Temp\\ipykernel_5968\\4154129606.py:46: DeprecationWarning: KerasClassifier is deprecated, use Sci-Keras (https://github.com/adriangb/scikeras) instead. See https://www.adriangb.com/scikeras/stable/migration.html for help migrating.\n",
      "  ('classifier', KerasClassifier(build_fn=self.create_model, verbose=0))\n"
     ]
    },
    {
     "name": "stdout",
     "output_type": "stream",
     "text": [
      "195/195 [==============================] - 0s 1ms/step\n",
      "195/195 [==============================] - 0s 2ms/step\n",
      "195/195 [==============================] - 0s 2ms/step\n"
     ]
    },
    {
     "name": "stderr",
     "output_type": "stream",
     "text": [
      "\u001b[32m[I 2023-03-02 16:47:13,819]\u001b[0m Trial 86 finished with value: 0.879818563206851 and parameters: {'units_1': 32, 'units_2': 35, 'alpha_1': 0.04365301530083538, 'alpha_2': 0.0709936505965852, 'dropout_1': 0.20907223230099156, 'dropout_2': 0.4421224985685623, 'l2_kern_1': 7.376416405614518e-05, 'l2_kern_2': 0.002367577251107644, 'l2_bias_1': 1.3728737199999525e-05, 'l2_bias_2': 0.00012074325703778706, 'lr': 0.004649916585365546, 'batch_size': 1024}. Best is trial 2 with value: 0.883048790570847.\u001b[0m\n",
      "C:\\Users\\User\\AppData\\Local\\Temp\\ipykernel_5968\\4154129606.py:46: DeprecationWarning: KerasClassifier is deprecated, use Sci-Keras (https://github.com/adriangb/scikeras) instead. See https://www.adriangb.com/scikeras/stable/migration.html for help migrating.\n",
      "  ('classifier', KerasClassifier(build_fn=self.create_model, verbose=0))\n"
     ]
    },
    {
     "name": "stdout",
     "output_type": "stream",
     "text": [
      "195/195 [==============================] - 0s 1ms/step\n",
      "195/195 [==============================] - 0s 1ms/step\n",
      "195/195 [==============================] - 0s 2ms/step\n"
     ]
    },
    {
     "name": "stderr",
     "output_type": "stream",
     "text": [
      "\u001b[32m[I 2023-03-02 16:49:50,552]\u001b[0m Trial 87 finished with value: 0.8796483754427321 and parameters: {'units_1': 32, 'units_2': 17, 'alpha_1': 0.08313015519777622, 'alpha_2': 0.07478717950456434, 'dropout_1': 0.20907223230099156, 'dropout_2': 0.4421224985685623, 'l2_kern_1': 0.0007919883106736205, 'l2_kern_2': 2.191406546539561e-05, 'l2_bias_1': 2.006329149527146e-05, 'l2_bias_2': 0.0009740154439076222, 'lr': 0.004649916585365546, 'batch_size': 16}. Best is trial 2 with value: 0.883048790570847.\u001b[0m\n",
      "C:\\Users\\User\\AppData\\Local\\Temp\\ipykernel_5968\\4154129606.py:46: DeprecationWarning: KerasClassifier is deprecated, use Sci-Keras (https://github.com/adriangb/scikeras) instead. See https://www.adriangb.com/scikeras/stable/migration.html for help migrating.\n",
      "  ('classifier', KerasClassifier(build_fn=self.create_model, verbose=0))\n"
     ]
    },
    {
     "name": "stdout",
     "output_type": "stream",
     "text": [
      "195/195 [==============================] - 0s 1ms/step\n",
      "195/195 [==============================] - 0s 2ms/step\n",
      "195/195 [==============================] - 0s 2ms/step\n"
     ]
    },
    {
     "name": "stderr",
     "output_type": "stream",
     "text": [
      "\u001b[32m[I 2023-03-02 16:53:24,092]\u001b[0m Trial 88 finished with value: 0.8715482699065094 and parameters: {'units_1': 13, 'units_2': 16, 'alpha_1': 0.018302047891115468, 'alpha_2': 0.09034339011720202, 'dropout_1': 0.25759678257715607, 'dropout_2': 0.36165359165099675, 'l2_kern_1': 4.738001447954604e-05, 'l2_kern_2': 0.0002252923490545274, 'l2_bias_1': 0.0021673806813239274, 'l2_bias_2': 0.00016266695608543194, 'lr': 0.0007710167235255504, 'batch_size': 16}. Best is trial 2 with value: 0.883048790570847.\u001b[0m\n",
      "C:\\Users\\User\\AppData\\Local\\Temp\\ipykernel_5968\\4154129606.py:46: DeprecationWarning: KerasClassifier is deprecated, use Sci-Keras (https://github.com/adriangb/scikeras) instead. See https://www.adriangb.com/scikeras/stable/migration.html for help migrating.\n",
      "  ('classifier', KerasClassifier(build_fn=self.create_model, verbose=0))\n"
     ]
    },
    {
     "name": "stdout",
     "output_type": "stream",
     "text": [
      "195/195 [==============================] - 0s 2ms/step\n",
      "195/195 [==============================] - 0s 2ms/step\n",
      "195/195 [==============================] - 0s 2ms/step\n"
     ]
    },
    {
     "name": "stderr",
     "output_type": "stream",
     "text": [
      "\u001b[32m[I 2023-03-02 16:54:09,240]\u001b[0m Trial 89 finished with value: 0.8525458061393522 and parameters: {'units_1': 8, 'units_2': 33, 'alpha_1': 0.06068222443400352, 'alpha_2': 0.035218502021446496, 'dropout_1': 0.4424531409738781, 'dropout_2': 0.21792658546567475, 'l2_kern_1': 6.406096878620483e-05, 'l2_kern_2': 0.0006317274972318042, 'l2_bias_1': 8.696663639498824e-05, 'l2_bias_2': 5.205332342099591e-05, 'lr': 0.002533845002019618, 'batch_size': 64}. Best is trial 2 with value: 0.883048790570847.\u001b[0m\n",
      "C:\\Users\\User\\AppData\\Local\\Temp\\ipykernel_5968\\4154129606.py:46: DeprecationWarning: KerasClassifier is deprecated, use Sci-Keras (https://github.com/adriangb/scikeras) instead. See https://www.adriangb.com/scikeras/stable/migration.html for help migrating.\n",
      "  ('classifier', KerasClassifier(build_fn=self.create_model, verbose=0))\n"
     ]
    },
    {
     "name": "stdout",
     "output_type": "stream",
     "text": [
      "195/195 [==============================] - 0s 1ms/step\n",
      "195/195 [==============================] - 0s 2ms/step\n",
      "195/195 [==============================] - 0s 2ms/step\n"
     ]
    },
    {
     "name": "stderr",
     "output_type": "stream",
     "text": [
      "\u001b[32m[I 2023-03-02 16:54:28,285]\u001b[0m Trial 90 finished with value: 0.8720339170639949 and parameters: {'units_1': 20, 'units_2': 21, 'alpha_1': 0.04365301530083538, 'alpha_2': 0.07478717950456434, 'dropout_1': 0.34553970492888536, 'dropout_2': 0.25412507129484785, 'l2_kern_1': 3.887449259582796e-05, 'l2_kern_2': 2.191406546539561e-05, 'l2_bias_1': 0.0004910323377268938, 'l2_bias_2': 7.526625189841412e-05, 'lr': 0.004649916585365546, 'batch_size': 1024}. Best is trial 2 with value: 0.883048790570847.\u001b[0m\n",
      "C:\\Users\\User\\AppData\\Local\\Temp\\ipykernel_5968\\4154129606.py:46: DeprecationWarning: KerasClassifier is deprecated, use Sci-Keras (https://github.com/adriangb/scikeras) instead. See https://www.adriangb.com/scikeras/stable/migration.html for help migrating.\n",
      "  ('classifier', KerasClassifier(build_fn=self.create_model, verbose=0))\n"
     ]
    },
    {
     "name": "stdout",
     "output_type": "stream",
     "text": [
      "195/195 [==============================] - 0s 1ms/step\n",
      "195/195 [==============================] - 0s 2ms/step\n",
      "195/195 [==============================] - 0s 2ms/step\n"
     ]
    },
    {
     "name": "stderr",
     "output_type": "stream",
     "text": [
      "\u001b[32m[I 2023-03-02 16:55:40,336]\u001b[0m Trial 91 finished with value: 0.8757104477970842 and parameters: {'units_1': 21, 'units_2': 17, 'alpha_1': 0.04365301530083538, 'alpha_2': 0.09104687700919305, 'dropout_1': 0.25926264804576554, 'dropout_2': 0.4421224985685623, 'l2_kern_1': 4.738001447954604e-05, 'l2_kern_2': 2.191406546539561e-05, 'l2_bias_1': 0.0007466260075037564, 'l2_bias_2': 7.526625189841412e-05, 'lr': 0.004649916585365546, 'batch_size': 32}. Best is trial 2 with value: 0.883048790570847.\u001b[0m\n",
      "C:\\Users\\User\\AppData\\Local\\Temp\\ipykernel_5968\\4154129606.py:46: DeprecationWarning: KerasClassifier is deprecated, use Sci-Keras (https://github.com/adriangb/scikeras) instead. See https://www.adriangb.com/scikeras/stable/migration.html for help migrating.\n",
      "  ('classifier', KerasClassifier(build_fn=self.create_model, verbose=0))\n"
     ]
    },
    {
     "name": "stdout",
     "output_type": "stream",
     "text": [
      "195/195 [==============================] - 0s 1ms/step\n",
      "195/195 [==============================] - 0s 2ms/step\n",
      "195/195 [==============================] - 1s 1ms/step\n"
     ]
    },
    {
     "name": "stderr",
     "output_type": "stream",
     "text": [
      "\u001b[32m[I 2023-03-02 16:56:47,603]\u001b[0m Trial 92 finished with value: 0.8693516795540663 and parameters: {'units_1': 19, 'units_2': 17, 'alpha_1': 0.05393923255425388, 'alpha_2': 0.06957946854157403, 'dropout_1': 0.4635459664917902, 'dropout_2': 0.3715375324717879, 'l2_kern_1': 0.0028193923095739984, 'l2_kern_2': 9.808235770973122e-05, 'l2_bias_1': 0.001363086312853233, 'l2_bias_2': 6.636628148014718e-05, 'lr': 0.0015948184583697812, 'batch_size': 32}. Best is trial 2 with value: 0.883048790570847.\u001b[0m\n",
      "C:\\Users\\User\\AppData\\Local\\Temp\\ipykernel_5968\\4154129606.py:46: DeprecationWarning: KerasClassifier is deprecated, use Sci-Keras (https://github.com/adriangb/scikeras) instead. See https://www.adriangb.com/scikeras/stable/migration.html for help migrating.\n",
      "  ('classifier', KerasClassifier(build_fn=self.create_model, verbose=0))\n"
     ]
    },
    {
     "name": "stdout",
     "output_type": "stream",
     "text": [
      "195/195 [==============================] - 0s 1ms/step\n",
      "195/195 [==============================] - 0s 1ms/step\n",
      "195/195 [==============================] - 0s 2ms/step\n"
     ]
    },
    {
     "name": "stderr",
     "output_type": "stream",
     "text": [
      "\u001b[32m[I 2023-03-02 16:57:11,412]\u001b[0m Trial 93 finished with value: 0.8480048920110116 and parameters: {'units_1': 7, 'units_2': 26, 'alpha_1': 0.021488276250152486, 'alpha_2': 0.0709936505965852, 'dropout_1': 0.28119890998369457, 'dropout_2': 0.4222835969774996, 'l2_kern_1': 7.376416405614518e-05, 'l2_kern_2': 0.003007027591161635, 'l2_bias_1': 0.0007592294640849681, 'l2_bias_2': 0.005417056498109417, 'lr': 0.0009708763569910723, 'batch_size': 256}. Best is trial 2 with value: 0.883048790570847.\u001b[0m\n",
      "C:\\Users\\User\\AppData\\Local\\Temp\\ipykernel_5968\\4154129606.py:46: DeprecationWarning: KerasClassifier is deprecated, use Sci-Keras (https://github.com/adriangb/scikeras) instead. See https://www.adriangb.com/scikeras/stable/migration.html for help migrating.\n",
      "  ('classifier', KerasClassifier(build_fn=self.create_model, verbose=0))\n"
     ]
    },
    {
     "name": "stdout",
     "output_type": "stream",
     "text": [
      "195/195 [==============================] - 0s 1ms/step\n",
      "195/195 [==============================] - 0s 2ms/step\n",
      "195/195 [==============================] - 0s 2ms/step\n"
     ]
    },
    {
     "name": "stderr",
     "output_type": "stream",
     "text": [
      "\u001b[32m[I 2023-03-02 16:59:03,214]\u001b[0m Trial 94 finished with value: 0.8576132075695636 and parameters: {'units_1': 22, 'units_2': 38, 'alpha_1': 0.017602290840330402, 'alpha_2': 0.03685475492262954, 'dropout_1': 0.4312040044002258, 'dropout_2': 0.42222338956336825, 'l2_kern_1': 0.0008257518936376008, 'l2_kern_2': 0.006758836946831938, 'l2_bias_1': 0.0011936313661500603, 'l2_bias_2': 0.006000968042101711, 'lr': 0.0048091509209991536, 'batch_size': 16}. Best is trial 2 with value: 0.883048790570847.\u001b[0m\n",
      "C:\\Users\\User\\AppData\\Local\\Temp\\ipykernel_5968\\4154129606.py:46: DeprecationWarning: KerasClassifier is deprecated, use Sci-Keras (https://github.com/adriangb/scikeras) instead. See https://www.adriangb.com/scikeras/stable/migration.html for help migrating.\n",
      "  ('classifier', KerasClassifier(build_fn=self.create_model, verbose=0))\n"
     ]
    },
    {
     "name": "stdout",
     "output_type": "stream",
     "text": [
      "195/195 [==============================] - 0s 2ms/step\n",
      "195/195 [==============================] - 0s 2ms/step\n",
      "195/195 [==============================] - 0s 1ms/step\n"
     ]
    },
    {
     "name": "stderr",
     "output_type": "stream",
     "text": [
      "\u001b[32m[I 2023-03-02 17:00:16,218]\u001b[0m Trial 95 finished with value: 0.8560980100451402 and parameters: {'units_1': 8, 'units_2': 16, 'alpha_1': 0.08735459708792734, 'alpha_2': 0.09687577934237873, 'dropout_1': 0.38667672016209576, 'dropout_2': 0.39195995345013585, 'l2_kern_1': 1.7584350537032187e-05, 'l2_kern_2': 0.009736448159107795, 'l2_bias_1': 1.1634768567112632e-05, 'l2_bias_2': 1.5600200684275733e-05, 'lr': 0.001634051423088037, 'batch_size': 64}. Best is trial 2 with value: 0.883048790570847.\u001b[0m\n",
      "C:\\Users\\User\\AppData\\Local\\Temp\\ipykernel_5968\\4154129606.py:46: DeprecationWarning: KerasClassifier is deprecated, use Sci-Keras (https://github.com/adriangb/scikeras) instead. See https://www.adriangb.com/scikeras/stable/migration.html for help migrating.\n",
      "  ('classifier', KerasClassifier(build_fn=self.create_model, verbose=0))\n"
     ]
    },
    {
     "name": "stdout",
     "output_type": "stream",
     "text": [
      "195/195 [==============================] - 0s 1ms/step\n",
      "195/195 [==============================] - 0s 2ms/step\n",
      "195/195 [==============================] - 0s 2ms/step\n"
     ]
    },
    {
     "name": "stderr",
     "output_type": "stream",
     "text": [
      "\u001b[32m[I 2023-03-02 17:01:01,427]\u001b[0m Trial 96 finished with value: 0.8681494188948659 and parameters: {'units_1': 37, 'units_2': 12, 'alpha_1': 0.09550175494387216, 'alpha_2': 0.01126574371580026, 'dropout_1': 0.21084716360841715, 'dropout_2': 0.2059886149988664, 'l2_kern_1': 0.007903059849066637, 'l2_kern_2': 0.006611536174017721, 'l2_bias_1': 0.00039881466803249965, 'l2_bias_2': 0.007431788075113929, 'lr': 0.00760567473881487, 'batch_size': 64}. Best is trial 2 with value: 0.883048790570847.\u001b[0m\n",
      "C:\\Users\\User\\AppData\\Local\\Temp\\ipykernel_5968\\4154129606.py:46: DeprecationWarning: KerasClassifier is deprecated, use Sci-Keras (https://github.com/adriangb/scikeras) instead. See https://www.adriangb.com/scikeras/stable/migration.html for help migrating.\n",
      "  ('classifier', KerasClassifier(build_fn=self.create_model, verbose=0))\n"
     ]
    },
    {
     "name": "stdout",
     "output_type": "stream",
     "text": [
      "195/195 [==============================] - 0s 2ms/step\n",
      "195/195 [==============================] - 0s 1ms/step\n",
      "195/195 [==============================] - 0s 1ms/step\n"
     ]
    },
    {
     "name": "stderr",
     "output_type": "stream",
     "text": [
      "\u001b[32m[I 2023-03-02 17:04:09,170]\u001b[0m Trial 97 finished with value: 0.8560899105664307 and parameters: {'units_1': 4, 'units_2': 36, 'alpha_1': 0.09240870979176122, 'alpha_2': 0.0673465303769863, 'dropout_1': 0.3106289245768201, 'dropout_2': 0.3128336675843782, 'l2_kern_1': 0.0034102374784174953, 'l2_kern_2': 0.00012848175259850617, 'l2_bias_1': 2.047022099334106e-05, 'l2_bias_2': 0.0016814087003555898, 'lr': 0.0002459575654937283, 'batch_size': 16}. Best is trial 2 with value: 0.883048790570847.\u001b[0m\n",
      "C:\\Users\\User\\AppData\\Local\\Temp\\ipykernel_5968\\4154129606.py:46: DeprecationWarning: KerasClassifier is deprecated, use Sci-Keras (https://github.com/adriangb/scikeras) instead. See https://www.adriangb.com/scikeras/stable/migration.html for help migrating.\n",
      "  ('classifier', KerasClassifier(build_fn=self.create_model, verbose=0))\n"
     ]
    },
    {
     "name": "stdout",
     "output_type": "stream",
     "text": [
      "195/195 [==============================] - 0s 2ms/step\n",
      "195/195 [==============================] - 0s 2ms/step\n",
      "195/195 [==============================] - 0s 1ms/step\n"
     ]
    },
    {
     "name": "stderr",
     "output_type": "stream",
     "text": [
      "\u001b[32m[I 2023-03-02 17:05:10,244]\u001b[0m Trial 98 finished with value: 0.8608397764833683 and parameters: {'units_1': 12, 'units_2': 2, 'alpha_1': 0.09826310421596014, 'alpha_2': 0.030705861448629856, 'dropout_1': 0.2905432526358352, 'dropout_2': 0.22076605242335384, 'l2_kern_1': 0.0003267820630998496, 'l2_kern_2': 1.3613279539045093e-05, 'l2_bias_1': 0.00039263683280431187, 'l2_bias_2': 1.778463792887706e-05, 'lr': 0.0005694627302907231, 'batch_size': 64}. Best is trial 2 with value: 0.883048790570847.\u001b[0m\n",
      "C:\\Users\\User\\AppData\\Local\\Temp\\ipykernel_5968\\4154129606.py:46: DeprecationWarning: KerasClassifier is deprecated, use Sci-Keras (https://github.com/adriangb/scikeras) instead. See https://www.adriangb.com/scikeras/stable/migration.html for help migrating.\n",
      "  ('classifier', KerasClassifier(build_fn=self.create_model, verbose=0))\n"
     ]
    },
    {
     "name": "stdout",
     "output_type": "stream",
     "text": [
      "195/195 [==============================] - 0s 1ms/step\n",
      "195/195 [==============================] - 0s 2ms/step\n",
      "195/195 [==============================] - 0s 2ms/step\n"
     ]
    },
    {
     "name": "stderr",
     "output_type": "stream",
     "text": [
      "\u001b[32m[I 2023-03-02 17:06:05,464]\u001b[0m Trial 99 finished with value: 0.8499168024242111 and parameters: {'units_1': 8, 'units_2': 38, 'alpha_1': 0.06068222443400352, 'alpha_2': 0.035218502021446496, 'dropout_1': 0.34553970492888536, 'dropout_2': 0.21792658546567475, 'l2_kern_1': 0.003074059485027563, 'l2_kern_2': 0.000814239078124287, 'l2_bias_1': 0.0004910323377268938, 'l2_bias_2': 0.00017139036160871717, 'lr': 0.0007553966274492467, 'batch_size': 64}. Best is trial 2 with value: 0.883048790570847.\u001b[0m\n"
     ]
    },
    {
     "name": "stdout",
     "output_type": "stream",
     "text": [
      "Number of finished trials: 100\n",
      "Best trial:\n",
      "  Value: 0.883048790570847\n",
      "    units_1: 34\n",
      "    units_2: 21\n",
      "    alpha_1: 0.04003928359586926\n",
      "    alpha_2: 0.06210711632772143\n",
      "    dropout_1: 0.2938399442882509\n",
      "    dropout_2: 0.21500315917306256\n",
      "    l2_kern_1: 0.00014436199771479758\n",
      "    l2_kern_2: 3.0111156117759884e-05\n",
      "    l2_bias_1: 6.698400814244221e-05\n",
      "    l2_bias_2: 0.005658282165694526\n",
      "    lr: 0.006154152102597497\n",
      "    batch_size: 32\n"
     ]
    },
    {
     "name": "stderr",
     "output_type": "stream",
     "text": [
      "C:\\Users\\User\\AppData\\Local\\Temp\\ipykernel_5968\\4154129606.py:140: DeprecationWarning: KerasClassifier is deprecated, use Sci-Keras (https://github.com/adriangb/scikeras) instead. See https://www.adriangb.com/scikeras/stable/migration.html for help migrating.\n",
      "  ('classifier', KerasClassifier(build_fn=tun.create_model, verbose=0))\n"
     ]
    },
    {
     "name": "stdout",
     "output_type": "stream",
     "text": [
      "117/117 [==============================] - 0s 2ms/step\n",
      "117/117 [==============================] - 0s 1ms/step\n",
      "117/117 [==============================] - 0s 2ms/step\n",
      "117/117 [==============================] - 0s 2ms/step\n",
      "117/117 [==============================] - 0s 2ms/step\n",
      "37/37 [==============================] - 0s 2ms/step\n",
      "37/37 [==============================] - 0s 2ms/step\n",
      "37/37 [==============================] - 0s 2ms/step\n",
      "37/37 [==============================] - 0s 2ms/step\n",
      "37/37 [==============================] - 0s 2ms/step\n",
      "Train mean AUC score is 0.8829733888916103 while test mean AUC score is 0.8959644124381354.\n",
      "183/183 [==============================] - 0s 2ms/step\n",
      "              precision    recall  f1-score   support\n",
      "\n",
      "          No       0.90      0.99      0.94      4648\n",
      "         Yes       0.93      0.57      0.71      1186\n",
      "\n",
      "    accuracy                           0.90      5834\n",
      "   macro avg       0.92      0.78      0.83      5834\n",
      "weighted avg       0.91      0.90      0.90      5834\n",
      "\n"
     ]
    }
   ],
   "source": [
    "# Genetic Algorithm\n",
    "params_ga = tun.Tuning(n_trials=trials, sampler = optuna.samplers.NSGAIISampler())\n",
    "ga_scores = tun.Best_MLP_model(params_ga)\n",
    "ga_scores = ga_scores.rename(columns={'Tree-structured Parzen Estimator': 'Genetic Algorithm'})\n"
   ]
  },
  {
   "cell_type": "code",
   "execution_count": 6,
   "id": "eb00d0c3",
   "metadata": {
    "scrolled": false
   },
   "outputs": [
    {
     "name": "stderr",
     "output_type": "stream",
     "text": [
      "C:\\Users\\User\\AppData\\Local\\Temp\\ipykernel_5968\\3195711531.py:2: ExperimentalWarning: QMCSampler is experimental (supported from v3.0.0). The interface can change in the future.\n",
      "  params_mc = tun.Tuning(n_trials=trials, sampler = optuna.samplers.QMCSampler())\n",
      "\u001b[32m[I 2023-03-02 17:11:05,789]\u001b[0m A new study created in memory with name: no-name-c691b527-be03-4d12-910f-d8154b71adef\u001b[0m\n",
      "C:\\Users\\User\\AppData\\Local\\Temp\\ipykernel_5968\\4154129606.py:46: DeprecationWarning: KerasClassifier is deprecated, use Sci-Keras (https://github.com/adriangb/scikeras) instead. See https://www.adriangb.com/scikeras/stable/migration.html for help migrating.\n",
      "  ('classifier', KerasClassifier(build_fn=self.create_model, verbose=0))\n"
     ]
    },
    {
     "name": "stdout",
     "output_type": "stream",
     "text": [
      "195/195 [==============================] - 0s 2ms/step\n",
      "195/195 [==============================] - 0s 2ms/step\n",
      "195/195 [==============================] - 0s 1ms/step\n"
     ]
    },
    {
     "name": "stderr",
     "output_type": "stream",
     "text": [
      "\u001b[32m[I 2023-03-02 17:11:27,346]\u001b[0m Trial 0 finished with value: 0.8405245406825963 and parameters: {'units_1': 2, 'units_2': 13, 'alpha_1': 0.05160302813336891, 'alpha_2': 0.05829862543311441, 'dropout_1': 0.346649434556459, 'dropout_2': 0.3937460814027184, 'l2_kern_1': 9.418968402909818e-05, 'l2_kern_2': 0.00011879251702846256, 'l2_bias_1': 0.0003144340824319381, 'l2_bias_2': 0.00555316021412017, 'lr': 0.002502431063176007, 'batch_size': 128}. Best is trial 0 with value: 0.8405245406825963.\u001b[0m\n",
      "C:\\Users\\User\\AppData\\Local\\Temp\\ipykernel_5968\\4154129606.py:46: DeprecationWarning: KerasClassifier is deprecated, use Sci-Keras (https://github.com/adriangb/scikeras) instead. See https://www.adriangb.com/scikeras/stable/migration.html for help migrating.\n",
      "  ('classifier', KerasClassifier(build_fn=self.create_model, verbose=0))\n",
      "\u001b[33m[W 2023-03-02 17:11:27,412]\u001b[0m The parameter 'l2_kern_1' in trial#1 is sampled independently by using `RandomSampler` instead of `QMCSampler` (optimization performance may be degraded). `QMCSampler` does not support dynamic search space or `CategoricalDistribution`. You can suppress this warning by setting `warn_independent_sampling` to `False` in the constructor of `QMCSampler`, if this independent sampling is intended behavior.\u001b[0m\n",
      "\u001b[33m[W 2023-03-02 17:11:27,414]\u001b[0m The parameter 'l2_kern_2' in trial#1 is sampled independently by using `RandomSampler` instead of `QMCSampler` (optimization performance may be degraded). `QMCSampler` does not support dynamic search space or `CategoricalDistribution`. You can suppress this warning by setting `warn_independent_sampling` to `False` in the constructor of `QMCSampler`, if this independent sampling is intended behavior.\u001b[0m\n",
      "\u001b[33m[W 2023-03-02 17:11:27,415]\u001b[0m The parameter 'l2_bias_1' in trial#1 is sampled independently by using `RandomSampler` instead of `QMCSampler` (optimization performance may be degraded). `QMCSampler` does not support dynamic search space or `CategoricalDistribution`. You can suppress this warning by setting `warn_independent_sampling` to `False` in the constructor of `QMCSampler`, if this independent sampling is intended behavior.\u001b[0m\n",
      "\u001b[33m[W 2023-03-02 17:11:27,417]\u001b[0m The parameter 'l2_bias_2' in trial#1 is sampled independently by using `RandomSampler` instead of `QMCSampler` (optimization performance may be degraded). `QMCSampler` does not support dynamic search space or `CategoricalDistribution`. You can suppress this warning by setting `warn_independent_sampling` to `False` in the constructor of `QMCSampler`, if this independent sampling is intended behavior.\u001b[0m\n",
      "\u001b[33m[W 2023-03-02 17:11:27,419]\u001b[0m The parameter 'batch_size' in trial#1 is sampled independently by using `RandomSampler` instead of `QMCSampler` (optimization performance may be degraded). `QMCSampler` does not support dynamic search space or `CategoricalDistribution`. You can suppress this warning by setting `warn_independent_sampling` to `False` in the constructor of `QMCSampler`, if this independent sampling is intended behavior.\u001b[0m\n"
     ]
    },
    {
     "name": "stdout",
     "output_type": "stream",
     "text": [
      "195/195 [==============================] - 0s 2ms/step\n",
      "195/195 [==============================] - 0s 2ms/step\n",
      "195/195 [==============================] - 0s 2ms/step\n"
     ]
    },
    {
     "name": "stderr",
     "output_type": "stream",
     "text": [
      "\u001b[32m[I 2023-03-02 17:12:17,112]\u001b[0m Trial 1 finished with value: 0.8150136660677808 and parameters: {'units_1': 2, 'units_2': 2, 'alpha_1': 0.01, 'alpha_2': 0.01, 'dropout_1': 0.2, 'dropout_2': 0.2, 'l2_kern_1': 0.00044363333973084846, 'l2_kern_2': 0.0010042992890250243, 'l2_bias_1': 0.0005535335165235047, 'l2_bias_2': 0.003392759601926083, 'lr': 5.000000000000004e-05, 'batch_size': 1024}. Best is trial 0 with value: 0.8405245406825963.\u001b[0m\n",
      "C:\\Users\\User\\AppData\\Local\\Temp\\ipykernel_5968\\4154129606.py:46: DeprecationWarning: KerasClassifier is deprecated, use Sci-Keras (https://github.com/adriangb/scikeras) instead. See https://www.adriangb.com/scikeras/stable/migration.html for help migrating.\n",
      "  ('classifier', KerasClassifier(build_fn=self.create_model, verbose=0))\n",
      "\u001b[33m[W 2023-03-02 17:12:17,116]\u001b[0m The parameter 'batch_size' in trial#2 is sampled independently by using `RandomSampler` instead of `QMCSampler` (optimization performance may be degraded). `QMCSampler` does not support dynamic search space or `CategoricalDistribution`. You can suppress this warning by setting `warn_independent_sampling` to `False` in the constructor of `QMCSampler`, if this independent sampling is intended behavior.\u001b[0m\n"
     ]
    },
    {
     "name": "stdout",
     "output_type": "stream",
     "text": [
      "195/195 [==============================] - 0s 2ms/step\n",
      "195/195 [==============================] - 0s 1ms/step\n",
      "195/195 [==============================] - 1s 2ms/step\n"
     ]
    },
    {
     "name": "stderr",
     "output_type": "stream",
     "text": [
      "\u001b[32m[I 2023-03-02 17:12:45,341]\u001b[0m Trial 2 finished with value: 0.8561096306486862 and parameters: {'units_1': 21, 'units_2': 21, 'alpha_1': 0.05500000000000001, 'alpha_2': 0.05500000000000001, 'dropout_1': 0.35, 'dropout_2': 0.35, 'l2_kern_1': 0.00031622776601683783, 'l2_kern_2': 0.00031622776601683783, 'l2_bias_1': 0.00031622776601683783, 'l2_bias_2': 0.00031622776601683783, 'lr': 0.0007071067811865483, 'batch_size': 1024}. Best is trial 2 with value: 0.8561096306486862.\u001b[0m\n",
      "C:\\Users\\User\\AppData\\Local\\Temp\\ipykernel_5968\\4154129606.py:46: DeprecationWarning: KerasClassifier is deprecated, use Sci-Keras (https://github.com/adriangb/scikeras) instead. See https://www.adriangb.com/scikeras/stable/migration.html for help migrating.\n",
      "  ('classifier', KerasClassifier(build_fn=self.create_model, verbose=0))\n",
      "\u001b[33m[W 2023-03-02 17:12:45,346]\u001b[0m The parameter 'batch_size' in trial#3 is sampled independently by using `RandomSampler` instead of `QMCSampler` (optimization performance may be degraded). `QMCSampler` does not support dynamic search space or `CategoricalDistribution`. You can suppress this warning by setting `warn_independent_sampling` to `False` in the constructor of `QMCSampler`, if this independent sampling is intended behavior.\u001b[0m\n"
     ]
    },
    {
     "name": "stdout",
     "output_type": "stream",
     "text": [
      "195/195 [==============================] - 0s 1ms/step\n",
      "195/195 [==============================] - 1s 2ms/step\n",
      "195/195 [==============================] - 0s 2ms/step\n"
     ]
    },
    {
     "name": "stderr",
     "output_type": "stream",
     "text": [
      "\u001b[32m[I 2023-03-02 17:14:06,484]\u001b[0m Trial 3 finished with value: 0.8700455025237983 and parameters: {'units_1': 31, 'units_2': 11, 'alpha_1': 0.0325, 'alpha_2': 0.0325, 'dropout_1': 0.425, 'dropout_2': 0.425, 'l2_kern_1': 5.6234132519034893e-05, 'l2_kern_2': 0.0017782794100389236, 'l2_bias_1': 0.0017782794100389236, 'l2_bias_2': 0.0017782794100389236, 'lr': 0.002659147948472495, 'batch_size': 32}. Best is trial 3 with value: 0.8700455025237983.\u001b[0m\n",
      "C:\\Users\\User\\AppData\\Local\\Temp\\ipykernel_5968\\4154129606.py:46: DeprecationWarning: KerasClassifier is deprecated, use Sci-Keras (https://github.com/adriangb/scikeras) instead. See https://www.adriangb.com/scikeras/stable/migration.html for help migrating.\n",
      "  ('classifier', KerasClassifier(build_fn=self.create_model, verbose=0))\n",
      "\u001b[33m[W 2023-03-02 17:14:06,488]\u001b[0m The parameter 'batch_size' in trial#4 is sampled independently by using `RandomSampler` instead of `QMCSampler` (optimization performance may be degraded). `QMCSampler` does not support dynamic search space or `CategoricalDistribution`. You can suppress this warning by setting `warn_independent_sampling` to `False` in the constructor of `QMCSampler`, if this independent sampling is intended behavior.\u001b[0m\n"
     ]
    },
    {
     "name": "stdout",
     "output_type": "stream",
     "text": [
      "195/195 [==============================] - 0s 2ms/step\n",
      "195/195 [==============================] - 0s 2ms/step\n",
      "195/195 [==============================] - 0s 2ms/step\n"
     ]
    },
    {
     "name": "stderr",
     "output_type": "stream",
     "text": [
      "\u001b[32m[I 2023-03-02 17:14:40,319]\u001b[0m Trial 4 finished with value: 0.8455642014571367 and parameters: {'units_1': 11, 'units_2': 31, 'alpha_1': 0.0775, 'alpha_2': 0.0775, 'dropout_1': 0.275, 'dropout_2': 0.275, 'l2_kern_1': 0.0017782794100389236, 'l2_kern_2': 5.6234132519034893e-05, 'l2_bias_1': 5.6234132519034893e-05, 'l2_bias_2': 5.6234132519034893e-05, 'lr': 0.00018803015465431968, 'batch_size': 128}. Best is trial 3 with value: 0.8700455025237983.\u001b[0m\n",
      "C:\\Users\\User\\AppData\\Local\\Temp\\ipykernel_5968\\4154129606.py:46: DeprecationWarning: KerasClassifier is deprecated, use Sci-Keras (https://github.com/adriangb/scikeras) instead. See https://www.adriangb.com/scikeras/stable/migration.html for help migrating.\n",
      "  ('classifier', KerasClassifier(build_fn=self.create_model, verbose=0))\n",
      "\u001b[33m[W 2023-03-02 17:14:40,323]\u001b[0m The parameter 'batch_size' in trial#5 is sampled independently by using `RandomSampler` instead of `QMCSampler` (optimization performance may be degraded). `QMCSampler` does not support dynamic search space or `CategoricalDistribution`. You can suppress this warning by setting `warn_independent_sampling` to `False` in the constructor of `QMCSampler`, if this independent sampling is intended behavior.\u001b[0m\n"
     ]
    },
    {
     "name": "stdout",
     "output_type": "stream",
     "text": [
      "195/195 [==============================] - 0s 2ms/step\n",
      "195/195 [==============================] - 0s 2ms/step\n",
      "195/195 [==============================] - 0s 1ms/step\n"
     ]
    },
    {
     "name": "stderr",
     "output_type": "stream",
     "text": [
      "\u001b[32m[I 2023-03-02 17:14:58,816]\u001b[0m Trial 5 finished with value: 0.8526483547447931 and parameters: {'units_1': 16, 'units_2': 16, 'alpha_1': 0.06625, 'alpha_2': 0.08875000000000001, 'dropout_1': 0.3125, 'dropout_2': 0.23750000000000002, 'l2_kern_1': 0.00013335214321633237, 'l2_kern_2': 0.004216965034285825, 'l2_bias_1': 0.004216965034285825, 'l2_bias_2': 0.0007498942093324562, 'lr': 0.005156692688606234, 'batch_size': 512}. Best is trial 3 with value: 0.8700455025237983.\u001b[0m\n",
      "C:\\Users\\User\\AppData\\Local\\Temp\\ipykernel_5968\\4154129606.py:46: DeprecationWarning: KerasClassifier is deprecated, use Sci-Keras (https://github.com/adriangb/scikeras) instead. See https://www.adriangb.com/scikeras/stable/migration.html for help migrating.\n",
      "  ('classifier', KerasClassifier(build_fn=self.create_model, verbose=0))\n",
      "\u001b[33m[W 2023-03-02 17:14:58,818]\u001b[0m The parameter 'batch_size' in trial#6 is sampled independently by using `RandomSampler` instead of `QMCSampler` (optimization performance may be degraded). `QMCSampler` does not support dynamic search space or `CategoricalDistribution`. You can suppress this warning by setting `warn_independent_sampling` to `False` in the constructor of `QMCSampler`, if this independent sampling is intended behavior.\u001b[0m\n"
     ]
    },
    {
     "name": "stdout",
     "output_type": "stream",
     "text": [
      "195/195 [==============================] - 0s 2ms/step\n",
      "195/195 [==============================] - 0s 2ms/step\n",
      "195/195 [==============================] - 0s 2ms/step\n"
     ]
    },
    {
     "name": "stderr",
     "output_type": "stream",
     "text": [
      "\u001b[32m[I 2023-03-02 17:16:50,156]\u001b[0m Trial 6 finished with value: 0.8762491347234275 and parameters: {'units_1': 36, 'units_2': 36, 'alpha_1': 0.02125, 'alpha_2': 0.043750000000000004, 'dropout_1': 0.4625, 'dropout_2': 0.3875, 'l2_kern_1': 0.004216965034285825, 'l2_kern_2': 0.00013335214321633237, 'l2_bias_1': 0.00013335214321633237, 'l2_bias_2': 2.3713737056616547e-05, 'lr': 0.00036463323686085564, 'batch_size': 64}. Best is trial 6 with value: 0.8762491347234275.\u001b[0m\n",
      "C:\\Users\\User\\AppData\\Local\\Temp\\ipykernel_5968\\4154129606.py:46: DeprecationWarning: KerasClassifier is deprecated, use Sci-Keras (https://github.com/adriangb/scikeras) instead. See https://www.adriangb.com/scikeras/stable/migration.html for help migrating.\n",
      "  ('classifier', KerasClassifier(build_fn=self.create_model, verbose=0))\n",
      "\u001b[33m[W 2023-03-02 17:16:50,159]\u001b[0m The parameter 'batch_size' in trial#7 is sampled independently by using `RandomSampler` instead of `QMCSampler` (optimization performance may be degraded). `QMCSampler` does not support dynamic search space or `CategoricalDistribution`. You can suppress this warning by setting `warn_independent_sampling` to `False` in the constructor of `QMCSampler`, if this independent sampling is intended behavior.\u001b[0m\n"
     ]
    },
    {
     "name": "stdout",
     "output_type": "stream",
     "text": [
      "195/195 [==============================] - 0s 2ms/step\n",
      "195/195 [==============================] - 0s 2ms/step\n",
      "195/195 [==============================] - 1s 2ms/step\n"
     ]
    },
    {
     "name": "stderr",
     "output_type": "stream",
     "text": [
      "\u001b[32m[I 2023-03-02 17:17:20,544]\u001b[0m Trial 7 finished with value: 0.8365083751375467 and parameters: {'units_1': 26, 'units_2': 6, 'alpha_1': 0.08875000000000001, 'alpha_2': 0.06625, 'dropout_1': 0.3875, 'dropout_2': 0.4625, 'l2_kern_1': 2.3713737056616547e-05, 'l2_kern_2': 2.3713737056616547e-05, 'l2_bias_1': 2.3713737056616547e-05, 'l2_bias_2': 0.00013335214321633237, 'lr': 9.696137237434293e-05, 'batch_size': 256}. Best is trial 6 with value: 0.8762491347234275.\u001b[0m\n",
      "C:\\Users\\User\\AppData\\Local\\Temp\\ipykernel_5968\\4154129606.py:46: DeprecationWarning: KerasClassifier is deprecated, use Sci-Keras (https://github.com/adriangb/scikeras) instead. See https://www.adriangb.com/scikeras/stable/migration.html for help migrating.\n",
      "  ('classifier', KerasClassifier(build_fn=self.create_model, verbose=0))\n",
      "\u001b[33m[W 2023-03-02 17:17:20,549]\u001b[0m The parameter 'batch_size' in trial#8 is sampled independently by using `RandomSampler` instead of `QMCSampler` (optimization performance may be degraded). `QMCSampler` does not support dynamic search space or `CategoricalDistribution`. You can suppress this warning by setting `warn_independent_sampling` to `False` in the constructor of `QMCSampler`, if this independent sampling is intended behavior.\u001b[0m\n"
     ]
    },
    {
     "name": "stdout",
     "output_type": "stream",
     "text": [
      "195/195 [==============================] - 0s 1ms/step\n",
      "195/195 [==============================] - 1s 3ms/step\n",
      "195/195 [==============================] - 0s 1ms/step\n"
     ]
    },
    {
     "name": "stderr",
     "output_type": "stream",
     "text": [
      "\u001b[32m[I 2023-03-02 17:17:42,286]\u001b[0m Trial 8 finished with value: 0.8479695318466832 and parameters: {'units_1': 6, 'units_2': 26, 'alpha_1': 0.043750000000000004, 'alpha_2': 0.02125, 'dropout_1': 0.23750000000000002, 'dropout_2': 0.3125, 'l2_kern_1': 0.0007498942093324562, 'l2_kern_2': 0.0007498942093324562, 'l2_bias_1': 0.0007498942093324562, 'l2_bias_2': 0.004216965034285825, 'lr': 0.0013712408783810375, 'batch_size': 512}. Best is trial 6 with value: 0.8762491347234275.\u001b[0m\n",
      "C:\\Users\\User\\AppData\\Local\\Temp\\ipykernel_5968\\4154129606.py:46: DeprecationWarning: KerasClassifier is deprecated, use Sci-Keras (https://github.com/adriangb/scikeras) instead. See https://www.adriangb.com/scikeras/stable/migration.html for help migrating.\n",
      "  ('classifier', KerasClassifier(build_fn=self.create_model, verbose=0))\n",
      "\u001b[33m[W 2023-03-02 17:17:42,289]\u001b[0m The parameter 'batch_size' in trial#9 is sampled independently by using `RandomSampler` instead of `QMCSampler` (optimization performance may be degraded). `QMCSampler` does not support dynamic search space or `CategoricalDistribution`. You can suppress this warning by setting `warn_independent_sampling` to `False` in the constructor of `QMCSampler`, if this independent sampling is intended behavior.\u001b[0m\n"
     ]
    },
    {
     "name": "stdout",
     "output_type": "stream",
     "text": [
      "195/195 [==============================] - 0s 2ms/step\n",
      "195/195 [==============================] - 0s 2ms/step\n",
      "195/195 [==============================] - 0s 2ms/step\n"
     ]
    },
    {
     "name": "stderr",
     "output_type": "stream",
     "text": [
      "\u001b[32m[I 2023-03-02 17:18:02,092]\u001b[0m Trial 9 finished with value: 0.850215755496763 and parameters: {'units_1': 9, 'units_2': 14, 'alpha_1': 0.094375, 'alpha_2': 0.04937500000000001, 'dropout_1': 0.36875, 'dropout_2': 0.29375, 'l2_kern_1': 0.00020535250264571456, 'l2_kern_2': 0.0064938163157621165, 'l2_bias_1': 0.0064938163157621165, 'l2_bias_2': 8.659643233600651e-05, 'lr': 0.0019095372132033872, 'batch_size': 1024}. Best is trial 6 with value: 0.8762491347234275.\u001b[0m\n",
      "C:\\Users\\User\\AppData\\Local\\Temp\\ipykernel_5968\\4154129606.py:46: DeprecationWarning: KerasClassifier is deprecated, use Sci-Keras (https://github.com/adriangb/scikeras) instead. See https://www.adriangb.com/scikeras/stable/migration.html for help migrating.\n",
      "  ('classifier', KerasClassifier(build_fn=self.create_model, verbose=0))\n",
      "\u001b[33m[W 2023-03-02 17:18:02,099]\u001b[0m The parameter 'batch_size' in trial#10 is sampled independently by using `RandomSampler` instead of `QMCSampler` (optimization performance may be degraded). `QMCSampler` does not support dynamic search space or `CategoricalDistribution`. You can suppress this warning by setting `warn_independent_sampling` to `False` in the constructor of `QMCSampler`, if this independent sampling is intended behavior.\u001b[0m\n"
     ]
    },
    {
     "name": "stdout",
     "output_type": "stream",
     "text": [
      "195/195 [==============================] - 0s 1ms/step\n",
      "195/195 [==============================] - 0s 2ms/step\n",
      "195/195 [==============================] - 0s 2ms/step\n"
     ]
    },
    {
     "name": "stderr",
     "output_type": "stream",
     "text": [
      "\u001b[32m[I 2023-03-02 17:18:56,037]\u001b[0m Trial 10 finished with value: 0.8569535895244326 and parameters: {'units_1': 28, 'units_2': 33, 'alpha_1': 0.04937500000000001, 'alpha_2': 0.094375, 'dropout_1': 0.21875, 'dropout_2': 0.44375, 'l2_kern_1': 0.0064938163157621165, 'l2_kern_2': 0.00020535250264571456, 'l2_bias_1': 0.00020535250264571456, 'l2_bias_2': 0.0027384196342643626, 'lr': 0.00013502467123841782, 'batch_size': 256}. Best is trial 6 with value: 0.8762491347234275.\u001b[0m\n",
      "C:\\Users\\User\\AppData\\Local\\Temp\\ipykernel_5968\\4154129606.py:46: DeprecationWarning: KerasClassifier is deprecated, use Sci-Keras (https://github.com/adriangb/scikeras) instead. See https://www.adriangb.com/scikeras/stable/migration.html for help migrating.\n",
      "  ('classifier', KerasClassifier(build_fn=self.create_model, verbose=0))\n",
      "\u001b[33m[W 2023-03-02 17:18:56,040]\u001b[0m The parameter 'batch_size' in trial#11 is sampled independently by using `RandomSampler` instead of `QMCSampler` (optimization performance may be degraded). `QMCSampler` does not support dynamic search space or `CategoricalDistribution`. You can suppress this warning by setting `warn_independent_sampling` to `False` in the constructor of `QMCSampler`, if this independent sampling is intended behavior.\u001b[0m\n"
     ]
    },
    {
     "name": "stdout",
     "output_type": "stream",
     "text": [
      "195/195 [==============================] - 0s 1ms/step\n",
      "195/195 [==============================] - 0s 2ms/step\n",
      "195/195 [==============================] - 0s 2ms/step\n"
     ]
    },
    {
     "name": "stderr",
     "output_type": "stream",
     "text": [
      "\u001b[32m[I 2023-03-02 17:19:16,881]\u001b[0m Trial 11 finished with value: 0.8545269297200512 and parameters: {'units_1': 38, 'units_2': 4, 'alpha_1': 0.07187500000000001, 'alpha_2': 0.026875000000000003, 'dropout_1': 0.29375, 'dropout_2': 0.36875, 'l2_kern_1': 3.651741272548376e-05, 'l2_kern_2': 3.651741272548376e-05, 'l2_bias_1': 3.651741272548376e-05, 'l2_bias_2': 0.00048696752516586293, 'lr': 0.000507774196302167, 'batch_size': 512}. Best is trial 6 with value: 0.8762491347234275.\u001b[0m\n",
      "C:\\Users\\User\\AppData\\Local\\Temp\\ipykernel_5968\\4154129606.py:46: DeprecationWarning: KerasClassifier is deprecated, use Sci-Keras (https://github.com/adriangb/scikeras) instead. See https://www.adriangb.com/scikeras/stable/migration.html for help migrating.\n",
      "  ('classifier', KerasClassifier(build_fn=self.create_model, verbose=0))\n",
      "\u001b[33m[W 2023-03-02 17:19:16,884]\u001b[0m The parameter 'batch_size' in trial#12 is sampled independently by using `RandomSampler` instead of `QMCSampler` (optimization performance may be degraded). `QMCSampler` does not support dynamic search space or `CategoricalDistribution`. You can suppress this warning by setting `warn_independent_sampling` to `False` in the constructor of `QMCSampler`, if this independent sampling is intended behavior.\u001b[0m\n"
     ]
    },
    {
     "name": "stdout",
     "output_type": "stream",
     "text": [
      "195/195 [==============================] - 0s 1ms/step\n",
      "195/195 [==============================] - 0s 1ms/step\n",
      "195/195 [==============================] - 0s 2ms/step\n"
     ]
    },
    {
     "name": "stderr",
     "output_type": "stream",
     "text": [
      "\u001b[32m[I 2023-03-02 17:19:33,653]\u001b[0m Trial 12 finished with value: 0.8505282040704715 and parameters: {'units_1': 19, 'units_2': 23, 'alpha_1': 0.026875000000000003, 'alpha_2': 0.07187500000000001, 'dropout_1': 0.44375, 'dropout_2': 0.21875, 'l2_kern_1': 0.0011547819846894588, 'l2_kern_2': 0.0011547819846894588, 'l2_bias_1': 0.0011547819846894588, 'l2_bias_2': 1.5399265260594915e-05, 'lr': 0.007181011550336231, 'batch_size': 512}. Best is trial 6 with value: 0.8762491347234275.\u001b[0m\n",
      "C:\\Users\\User\\AppData\\Local\\Temp\\ipykernel_5968\\4154129606.py:46: DeprecationWarning: KerasClassifier is deprecated, use Sci-Keras (https://github.com/adriangb/scikeras) instead. See https://www.adriangb.com/scikeras/stable/migration.html for help migrating.\n",
      "  ('classifier', KerasClassifier(build_fn=self.create_model, verbose=0))\n",
      "\u001b[33m[W 2023-03-02 17:19:33,658]\u001b[0m The parameter 'batch_size' in trial#13 is sampled independently by using `RandomSampler` instead of `QMCSampler` (optimization performance may be degraded). `QMCSampler` does not support dynamic search space or `CategoricalDistribution`. You can suppress this warning by setting `warn_independent_sampling` to `False` in the constructor of `QMCSampler`, if this independent sampling is intended behavior.\u001b[0m\n"
     ]
    },
    {
     "name": "stdout",
     "output_type": "stream",
     "text": [
      "195/195 [==============================] - 0s 2ms/step\n",
      "195/195 [==============================] - 0s 2ms/step\n",
      "195/195 [==============================] - 0s 2ms/step\n"
     ]
    },
    {
     "name": "stderr",
     "output_type": "stream",
     "text": [
      "\u001b[32m[I 2023-03-02 17:21:54,772]\u001b[0m Trial 13 finished with value: 0.8568148149617141 and parameters: {'units_1': 14, 'units_2': 9, 'alpha_1': 0.038125000000000006, 'alpha_2': 0.060625000000000005, 'dropout_1': 0.48125, 'dropout_2': 0.33125000000000004, 'l2_kern_1': 1.5399265260594915e-05, 'l2_kern_2': 1.5399265260594915e-05, 'l2_bias_1': 1.5399265260594915e-05, 'l2_bias_2': 0.0064938163157621165, 'lr': 0.000261843548553429, 'batch_size': 32}. Best is trial 6 with value: 0.8762491347234275.\u001b[0m\n",
      "C:\\Users\\User\\AppData\\Local\\Temp\\ipykernel_5968\\4154129606.py:46: DeprecationWarning: KerasClassifier is deprecated, use Sci-Keras (https://github.com/adriangb/scikeras) instead. See https://www.adriangb.com/scikeras/stable/migration.html for help migrating.\n",
      "  ('classifier', KerasClassifier(build_fn=self.create_model, verbose=0))\n",
      "\u001b[33m[W 2023-03-02 17:21:54,774]\u001b[0m The parameter 'batch_size' in trial#14 is sampled independently by using `RandomSampler` instead of `QMCSampler` (optimization performance may be degraded). `QMCSampler` does not support dynamic search space or `CategoricalDistribution`. You can suppress this warning by setting `warn_independent_sampling` to `False` in the constructor of `QMCSampler`, if this independent sampling is intended behavior.\u001b[0m\n"
     ]
    },
    {
     "name": "stdout",
     "output_type": "stream",
     "text": [
      "195/195 [==============================] - 0s 2ms/step\n",
      "195/195 [==============================] - 0s 2ms/step\n",
      "195/195 [==============================] - 0s 1ms/step\n"
     ]
    },
    {
     "name": "stderr",
     "output_type": "stream",
     "text": [
      "\u001b[32m[I 2023-03-02 17:23:19,723]\u001b[0m Trial 14 finished with value: 0.8763665338697585 and parameters: {'units_1': 33, 'units_2': 28, 'alpha_1': 0.083125, 'alpha_2': 0.015625, 'dropout_1': 0.33125000000000004, 'dropout_2': 0.48125, 'l2_kern_1': 0.00048696752516586293, 'l2_kern_2': 0.00048696752516586293, 'l2_bias_1': 0.00048696752516586293, 'l2_bias_2': 0.00020535250264571456, 'lr': 0.0037030269758415706, 'batch_size': 32}. Best is trial 14 with value: 0.8763665338697585.\u001b[0m\n",
      "C:\\Users\\User\\AppData\\Local\\Temp\\ipykernel_5968\\4154129606.py:46: DeprecationWarning: KerasClassifier is deprecated, use Sci-Keras (https://github.com/adriangb/scikeras) instead. See https://www.adriangb.com/scikeras/stable/migration.html for help migrating.\n",
      "  ('classifier', KerasClassifier(build_fn=self.create_model, verbose=0))\n",
      "\u001b[33m[W 2023-03-02 17:23:19,727]\u001b[0m The parameter 'batch_size' in trial#15 is sampled independently by using `RandomSampler` instead of `QMCSampler` (optimization performance may be degraded). `QMCSampler` does not support dynamic search space or `CategoricalDistribution`. You can suppress this warning by setting `warn_independent_sampling` to `False` in the constructor of `QMCSampler`, if this independent sampling is intended behavior.\u001b[0m\n"
     ]
    },
    {
     "name": "stdout",
     "output_type": "stream",
     "text": [
      "195/195 [==============================] - 0s 2ms/step\n",
      "195/195 [==============================] - 0s 1ms/step\n",
      "195/195 [==============================] - 0s 2ms/step\n"
     ]
    },
    {
     "name": "stderr",
     "output_type": "stream",
     "text": [
      "\u001b[32m[I 2023-03-02 17:23:44,362]\u001b[0m Trial 15 finished with value: 0.8585526072271067 and parameters: {'units_1': 23, 'units_2': 19, 'alpha_1': 0.015625, 'alpha_2': 0.083125, 'dropout_1': 0.25625, 'dropout_2': 0.40625, 'l2_kern_1': 8.659643233600651e-05, 'l2_kern_2': 0.0027384196342643626, 'l2_bias_1': 0.0027384196342643626, 'l2_bias_2': 3.651741272548376e-05, 'lr': 0.0009846896585947416, 'batch_size': 512}. Best is trial 14 with value: 0.8763665338697585.\u001b[0m\n",
      "C:\\Users\\User\\AppData\\Local\\Temp\\ipykernel_5968\\4154129606.py:46: DeprecationWarning: KerasClassifier is deprecated, use Sci-Keras (https://github.com/adriangb/scikeras) instead. See https://www.adriangb.com/scikeras/stable/migration.html for help migrating.\n",
      "  ('classifier', KerasClassifier(build_fn=self.create_model, verbose=0))\n",
      "\u001b[33m[W 2023-03-02 17:23:44,369]\u001b[0m The parameter 'batch_size' in trial#16 is sampled independently by using `RandomSampler` instead of `QMCSampler` (optimization performance may be degraded). `QMCSampler` does not support dynamic search space or `CategoricalDistribution`. You can suppress this warning by setting `warn_independent_sampling` to `False` in the constructor of `QMCSampler`, if this independent sampling is intended behavior.\u001b[0m\n"
     ]
    },
    {
     "name": "stdout",
     "output_type": "stream",
     "text": [
      "195/195 [==============================] - 0s 2ms/step\n",
      "195/195 [==============================] - 0s 2ms/step\n",
      "195/195 [==============================] - 0s 2ms/step\n"
     ]
    },
    {
     "name": "stderr",
     "output_type": "stream",
     "text": [
      "\u001b[32m[I 2023-03-02 17:24:36,587]\u001b[0m Trial 16 finished with value: 0.8262709647421443 and parameters: {'units_1': 4, 'units_2': 38, 'alpha_1': 0.060625000000000005, 'alpha_2': 0.038125000000000006, 'dropout_1': 0.40625, 'dropout_2': 0.25625, 'l2_kern_1': 0.0027384196342643626, 'l2_kern_2': 8.659643233600651e-05, 'l2_bias_1': 8.659643233600651e-05, 'l2_bias_2': 0.0011547819846894588, 'lr': 6.962807349566092e-05, 'batch_size': 1024}. Best is trial 14 with value: 0.8763665338697585.\u001b[0m\n",
      "C:\\Users\\User\\AppData\\Local\\Temp\\ipykernel_5968\\4154129606.py:46: DeprecationWarning: KerasClassifier is deprecated, use Sci-Keras (https://github.com/adriangb/scikeras) instead. See https://www.adriangb.com/scikeras/stable/migration.html for help migrating.\n",
      "  ('classifier', KerasClassifier(build_fn=self.create_model, verbose=0))\n",
      "\u001b[33m[W 2023-03-02 17:24:36,589]\u001b[0m The parameter 'batch_size' in trial#17 is sampled independently by using `RandomSampler` instead of `QMCSampler` (optimization performance may be degraded). `QMCSampler` does not support dynamic search space or `CategoricalDistribution`. You can suppress this warning by setting `warn_independent_sampling` to `False` in the constructor of `QMCSampler`, if this independent sampling is intended behavior.\u001b[0m\n"
     ]
    },
    {
     "name": "stdout",
     "output_type": "stream",
     "text": [
      "195/195 [==============================] - 0s 2ms/step\n",
      "195/195 [==============================] - 0s 2ms/step\n",
      "195/195 [==============================] - 0s 2ms/step\n"
     ]
    },
    {
     "name": "stderr",
     "output_type": "stream",
     "text": [
      "\u001b[32m[I 2023-03-02 17:26:02,873]\u001b[0m Trial 17 finished with value: 0.8389834570210214 and parameters: {'units_1': 5, 'units_2': 20, 'alpha_1': 0.052187500000000005, 'alpha_2': 0.0690625, 'dropout_1': 0.284375, 'dropout_2': 0.490625, 'l2_kern_1': 0.0003924189758484538, 'l2_kern_2': 0.003398208328942561, 'l2_bias_1': 0.0002548296747979348, 'l2_bias_2': 2.942727176209284e-05, 'lr': 8.216589050159985e-05, 'batch_size': 32}. Best is trial 14 with value: 0.8763665338697585.\u001b[0m\n",
      "C:\\Users\\User\\AppData\\Local\\Temp\\ipykernel_5968\\4154129606.py:46: DeprecationWarning: KerasClassifier is deprecated, use Sci-Keras (https://github.com/adriangb/scikeras) instead. See https://www.adriangb.com/scikeras/stable/migration.html for help migrating.\n",
      "  ('classifier', KerasClassifier(build_fn=self.create_model, verbose=0))\n",
      "\u001b[33m[W 2023-03-02 17:26:02,876]\u001b[0m The parameter 'batch_size' in trial#18 is sampled independently by using `RandomSampler` instead of `QMCSampler` (optimization performance may be degraded). `QMCSampler` does not support dynamic search space or `CategoricalDistribution`. You can suppress this warning by setting `warn_independent_sampling` to `False` in the constructor of `QMCSampler`, if this independent sampling is intended behavior.\u001b[0m\n"
     ]
    },
    {
     "name": "stdout",
     "output_type": "stream",
     "text": [
      "195/195 [==============================] - 0s 1ms/step\n",
      "195/195 [==============================] - 0s 2ms/step\n",
      "195/195 [==============================] - 0s 2ms/step\n"
     ]
    },
    {
     "name": "stderr",
     "output_type": "stream",
     "text": [
      "\u001b[32m[I 2023-03-02 17:27:40,990]\u001b[0m Trial 18 finished with value: 0.8743926057215673 and parameters: {'units_1': 25, 'units_2': 39, 'alpha_1': 0.09718750000000001, 'alpha_2': 0.0240625, 'dropout_1': 0.434375, 'dropout_2': 0.340625, 'l2_kern_1': 1.2409377607517204e-05, 'l2_kern_2': 0.00010746078283213182, 'l2_bias_1': 0.008058421877614822, 'l2_bias_2': 0.0009305720409296995, 'lr': 0.0011620011671182521, 'batch_size': 32}. Best is trial 14 with value: 0.8763665338697585.\u001b[0m\n",
      "C:\\Users\\User\\AppData\\Local\\Temp\\ipykernel_5968\\4154129606.py:46: DeprecationWarning: KerasClassifier is deprecated, use Sci-Keras (https://github.com/adriangb/scikeras) instead. See https://www.adriangb.com/scikeras/stable/migration.html for help migrating.\n",
      "  ('classifier', KerasClassifier(build_fn=self.create_model, verbose=0))\n",
      "\u001b[33m[W 2023-03-02 17:27:40,994]\u001b[0m The parameter 'batch_size' in trial#19 is sampled independently by using `RandomSampler` instead of `QMCSampler` (optimization performance may be degraded). `QMCSampler` does not support dynamic search space or `CategoricalDistribution`. You can suppress this warning by setting `warn_independent_sampling` to `False` in the constructor of `QMCSampler`, if this independent sampling is intended behavior.\u001b[0m\n"
     ]
    },
    {
     "name": "stdout",
     "output_type": "stream",
     "text": [
      "195/195 [==============================] - 0s 2ms/step\n",
      "195/195 [==============================] - 0s 1ms/step\n",
      "195/195 [==============================] - 0s 2ms/step\n"
     ]
    },
    {
     "name": "stderr",
     "output_type": "stream",
     "text": [
      "\u001b[32m[I 2023-03-02 17:28:15,762]\u001b[0m Trial 19 finished with value: 0.8792123205487341 and parameters: {'units_1': 34, 'units_2': 10, 'alpha_1': 0.029687500000000006, 'alpha_2': 0.0915625, 'dropout_1': 0.359375, 'dropout_2': 0.265625, 'l2_kern_1': 0.002206734069084591, 'l2_kern_2': 1.9109529749704416e-05, 'l2_bias_1': 0.0014330125702369636, 'l2_bias_2': 0.005232991146814949, 'lr': 0.004369825183234895, 'batch_size': 128}. Best is trial 19 with value: 0.8792123205487341.\u001b[0m\n",
      "C:\\Users\\User\\AppData\\Local\\Temp\\ipykernel_5968\\4154129606.py:46: DeprecationWarning: KerasClassifier is deprecated, use Sci-Keras (https://github.com/adriangb/scikeras) instead. See https://www.adriangb.com/scikeras/stable/migration.html for help migrating.\n",
      "  ('classifier', KerasClassifier(build_fn=self.create_model, verbose=0))\n",
      "\u001b[33m[W 2023-03-02 17:28:15,770]\u001b[0m The parameter 'batch_size' in trial#20 is sampled independently by using `RandomSampler` instead of `QMCSampler` (optimization performance may be degraded). `QMCSampler` does not support dynamic search space or `CategoricalDistribution`. You can suppress this warning by setting `warn_independent_sampling` to `False` in the constructor of `QMCSampler`, if this independent sampling is intended behavior.\u001b[0m\n"
     ]
    },
    {
     "name": "stdout",
     "output_type": "stream",
     "text": [
      "195/195 [==============================] - 0s 2ms/step\n",
      "195/195 [==============================] - 0s 2ms/step\n",
      "195/195 [==============================] - 0s 2ms/step\n"
     ]
    },
    {
     "name": "stderr",
     "output_type": "stream",
     "text": [
      "\u001b[32m[I 2023-03-02 17:28:47,511]\u001b[0m Trial 20 finished with value: 0.8480333013768381 and parameters: {'units_1': 15, 'units_2': 30, 'alpha_1': 0.0746875, 'alpha_2': 0.04656250000000001, 'dropout_1': 0.209375, 'dropout_2': 0.415625, 'l2_kern_1': 6.978305848598668e-05, 'l2_kern_2': 0.0006042963902381332, 'l2_bias_1': 4.531583637600821e-05, 'l2_bias_2': 0.00016548170999431823, 'lr': 0.0003089933019665141, 'batch_size': 1024}. Best is trial 19 with value: 0.8792123205487341.\u001b[0m\n",
      "C:\\Users\\User\\AppData\\Local\\Temp\\ipykernel_5968\\4154129606.py:46: DeprecationWarning: KerasClassifier is deprecated, use Sci-Keras (https://github.com/adriangb/scikeras) instead. See https://www.adriangb.com/scikeras/stable/migration.html for help migrating.\n",
      "  ('classifier', KerasClassifier(build_fn=self.create_model, verbose=0))\n",
      "\u001b[33m[W 2023-03-02 17:28:47,514]\u001b[0m The parameter 'batch_size' in trial#21 is sampled independently by using `RandomSampler` instead of `QMCSampler` (optimization performance may be degraded). `QMCSampler` does not support dynamic search space or `CategoricalDistribution`. You can suppress this warning by setting `warn_independent_sampling` to `False` in the constructor of `QMCSampler`, if this independent sampling is intended behavior.\u001b[0m\n"
     ]
    },
    {
     "name": "stdout",
     "output_type": "stream",
     "text": [
      "195/195 [==============================] - 0s 2ms/step\n",
      "195/195 [==============================] - 0s 2ms/step\n",
      "195/195 [==============================] - 0s 2ms/step\n"
     ]
    },
    {
     "name": "stderr",
     "output_type": "stream",
     "text": [
      "\u001b[32m[I 2023-03-02 17:29:09,044]\u001b[0m Trial 21 finished with value: 0.8722174860789907 and parameters: {'units_1': 20, 'units_2': 5, 'alpha_1': 0.0859375, 'alpha_2': 0.035312500000000004, 'dropout_1': 0.246875, 'dropout_2': 0.453125, 'l2_kern_1': 0.005232991146814949, 'l2_kern_2': 4.531583637600821e-05, 'l2_bias_1': 0.0006042963902381332, 'l2_bias_2': 0.0003924189758484538, 'lr': 0.008474084936048391, 'batch_size': 256}. Best is trial 19 with value: 0.8792123205487341.\u001b[0m\n",
      "C:\\Users\\User\\AppData\\Local\\Temp\\ipykernel_5968\\4154129606.py:46: DeprecationWarning: KerasClassifier is deprecated, use Sci-Keras (https://github.com/adriangb/scikeras) instead. See https://www.adriangb.com/scikeras/stable/migration.html for help migrating.\n",
      "  ('classifier', KerasClassifier(build_fn=self.create_model, verbose=0))\n",
      "\u001b[33m[W 2023-03-02 17:29:09,050]\u001b[0m The parameter 'batch_size' in trial#22 is sampled independently by using `RandomSampler` instead of `QMCSampler` (optimization performance may be degraded). `QMCSampler` does not support dynamic search space or `CategoricalDistribution`. You can suppress this warning by setting `warn_independent_sampling` to `False` in the constructor of `QMCSampler`, if this independent sampling is intended behavior.\u001b[0m\n"
     ]
    },
    {
     "name": "stdout",
     "output_type": "stream",
     "text": [
      "195/195 [==============================] - 0s 1ms/step\n",
      "195/195 [==============================] - 0s 1ms/step\n",
      "195/195 [==============================] - 0s 2ms/step\n"
     ]
    },
    {
     "name": "stderr",
     "output_type": "stream",
     "text": [
      "\u001b[32m[I 2023-03-02 17:29:52,444]\u001b[0m Trial 22 finished with value: 0.869931282897789 and parameters: {'units_1': 39, 'units_2': 25, 'alpha_1': 0.0409375, 'alpha_2': 0.08031250000000001, 'dropout_1': 0.396875, 'dropout_2': 0.303125, 'l2_kern_1': 0.00016548170999431823, 'l2_kern_2': 0.0014330125702369636, 'l2_bias_1': 1.9109529749704416e-05, 'l2_bias_2': 1.2409377607517204e-05, 'lr': 0.0005992082922630593, 'batch_size': 256}. Best is trial 19 with value: 0.8792123205487341.\u001b[0m\n",
      "C:\\Users\\User\\AppData\\Local\\Temp\\ipykernel_5968\\4154129606.py:46: DeprecationWarning: KerasClassifier is deprecated, use Sci-Keras (https://github.com/adriangb/scikeras) instead. See https://www.adriangb.com/scikeras/stable/migration.html for help migrating.\n",
      "  ('classifier', KerasClassifier(build_fn=self.create_model, verbose=0))\n",
      "\u001b[33m[W 2023-03-02 17:29:52,447]\u001b[0m The parameter 'batch_size' in trial#23 is sampled independently by using `RandomSampler` instead of `QMCSampler` (optimization performance may be degraded). `QMCSampler` does not support dynamic search space or `CategoricalDistribution`. You can suppress this warning by setting `warn_independent_sampling` to `False` in the constructor of `QMCSampler`, if this independent sampling is intended behavior.\u001b[0m\n"
     ]
    },
    {
     "name": "stdout",
     "output_type": "stream",
     "text": [
      "195/195 [==============================] - 0s 1ms/step\n",
      "195/195 [==============================] - 0s 2ms/step\n",
      "195/195 [==============================] - 0s 1ms/step\n"
     ]
    },
    {
     "name": "stderr",
     "output_type": "stream",
     "text": [
      "\u001b[32m[I 2023-03-02 17:32:03,223]\u001b[0m Trial 23 finished with value: 0.8583652552796379 and parameters: {'units_1': 30, 'units_2': 15, 'alpha_1': 0.06343750000000001, 'alpha_2': 0.012812500000000001, 'dropout_1': 0.471875, 'dropout_2': 0.22812500000000002, 'l2_kern_1': 0.0009305720409296995, 'l2_kern_2': 0.008058421877614822, 'l2_bias_1': 0.00010746078283213182, 'l2_bias_2': 6.978305848598668e-05, 'lr': 0.00015933835010790206, 'batch_size': 32}. Best is trial 19 with value: 0.8792123205487341.\u001b[0m\n",
      "C:\\Users\\User\\AppData\\Local\\Temp\\ipykernel_5968\\4154129606.py:46: DeprecationWarning: KerasClassifier is deprecated, use Sci-Keras (https://github.com/adriangb/scikeras) instead. See https://www.adriangb.com/scikeras/stable/migration.html for help migrating.\n",
      "  ('classifier', KerasClassifier(build_fn=self.create_model, verbose=0))\n",
      "\u001b[33m[W 2023-03-02 17:32:03,227]\u001b[0m The parameter 'batch_size' in trial#24 is sampled independently by using `RandomSampler` instead of `QMCSampler` (optimization performance may be degraded). `QMCSampler` does not support dynamic search space or `CategoricalDistribution`. You can suppress this warning by setting `warn_independent_sampling` to `False` in the constructor of `QMCSampler`, if this independent sampling is intended behavior.\u001b[0m\n"
     ]
    },
    {
     "name": "stdout",
     "output_type": "stream",
     "text": [
      "195/195 [==============================] - 0s 2ms/step\n",
      "195/195 [==============================] - 0s 2ms/step\n",
      "195/195 [==============================] - 0s 2ms/step\n"
     ]
    },
    {
     "name": "stderr",
     "output_type": "stream",
     "text": [
      "\u001b[32m[I 2023-03-02 17:33:57,991]\u001b[0m Trial 24 finished with value: 0.8614605454850005 and parameters: {'units_1': 10, 'units_2': 34, 'alpha_1': 0.018437500000000002, 'alpha_2': 0.05781250000000001, 'dropout_1': 0.321875, 'dropout_2': 0.37812500000000004, 'l2_kern_1': 2.942727176209284e-05, 'l2_kern_2': 0.0002548296747979348, 'l2_bias_1': 0.003398208328942561, 'l2_bias_2': 0.002206734069084591, 'lr': 0.002253384557287477, 'batch_size': 32}. Best is trial 19 with value: 0.8792123205487341.\u001b[0m\n",
      "C:\\Users\\User\\AppData\\Local\\Temp\\ipykernel_5968\\4154129606.py:46: DeprecationWarning: KerasClassifier is deprecated, use Sci-Keras (https://github.com/adriangb/scikeras) instead. See https://www.adriangb.com/scikeras/stable/migration.html for help migrating.\n",
      "  ('classifier', KerasClassifier(build_fn=self.create_model, verbose=0))\n",
      "\u001b[33m[W 2023-03-02 17:33:57,994]\u001b[0m The parameter 'batch_size' in trial#25 is sampled independently by using `RandomSampler` instead of `QMCSampler` (optimization performance may be degraded). `QMCSampler` does not support dynamic search space or `CategoricalDistribution`. You can suppress this warning by setting `warn_independent_sampling` to `False` in the constructor of `QMCSampler`, if this independent sampling is intended behavior.\u001b[0m\n"
     ]
    },
    {
     "name": "stdout",
     "output_type": "stream",
     "text": [
      "195/195 [==============================] - 0s 2ms/step\n",
      "195/195 [==============================] - 0s 2ms/step\n",
      "195/195 [==============================] - 0s 2ms/step\n"
     ]
    },
    {
     "name": "stderr",
     "output_type": "stream",
     "text": [
      "\u001b[32m[I 2023-03-02 17:36:32,572]\u001b[0m Trial 25 finished with value: 0.8555004480307095 and parameters: {'units_1': 8, 'units_2': 8, 'alpha_1': 0.05781250000000001, 'alpha_2': 0.0859375, 'dropout_1': 0.453125, 'dropout_2': 0.396875, 'l2_kern_1': 0.008058421877614822, 'l2_kern_2': 2.942727176209284e-05, 'l2_bias_1': 0.0003924189758484538, 'l2_bias_2': 0.0002548296747979348, 'lr': 0.0016181580533230642, 'batch_size': 16}. Best is trial 19 with value: 0.8792123205487341.\u001b[0m\n",
      "C:\\Users\\User\\AppData\\Local\\Temp\\ipykernel_5968\\4154129606.py:46: DeprecationWarning: KerasClassifier is deprecated, use Sci-Keras (https://github.com/adriangb/scikeras) instead. See https://www.adriangb.com/scikeras/stable/migration.html for help migrating.\n",
      "  ('classifier', KerasClassifier(build_fn=self.create_model, verbose=0))\n",
      "\u001b[33m[W 2023-03-02 17:36:32,576]\u001b[0m The parameter 'batch_size' in trial#26 is sampled independently by using `RandomSampler` instead of `QMCSampler` (optimization performance may be degraded). `QMCSampler` does not support dynamic search space or `CategoricalDistribution`. You can suppress this warning by setting `warn_independent_sampling` to `False` in the constructor of `QMCSampler`, if this independent sampling is intended behavior.\u001b[0m\n"
     ]
    },
    {
     "name": "stdout",
     "output_type": "stream",
     "text": [
      "195/195 [==============================] - 0s 2ms/step\n",
      "195/195 [==============================] - 0s 2ms/step\n",
      "195/195 [==============================] - 0s 2ms/step\n"
     ]
    },
    {
     "name": "stderr",
     "output_type": "stream",
     "text": [
      "\u001b[32m[I 2023-03-02 17:37:30,296]\u001b[0m Trial 26 finished with value: 0.8503920914840735 and parameters: {'units_1': 27, 'units_2': 27, 'alpha_1': 0.012812500000000001, 'alpha_2': 0.0409375, 'dropout_1': 0.303125, 'dropout_2': 0.246875, 'l2_kern_1': 0.0002548296747979348, 'l2_kern_2': 0.0009305720409296995, 'l2_bias_1': 1.2409377607517204e-05, 'l2_bias_2': 0.008058421877614822, 'lr': 0.00011442105325363614, 'batch_size': 64}. Best is trial 19 with value: 0.8792123205487341.\u001b[0m\n",
      "C:\\Users\\User\\AppData\\Local\\Temp\\ipykernel_5968\\4154129606.py:46: DeprecationWarning: KerasClassifier is deprecated, use Sci-Keras (https://github.com/adriangb/scikeras) instead. See https://www.adriangb.com/scikeras/stable/migration.html for help migrating.\n",
      "  ('classifier', KerasClassifier(build_fn=self.create_model, verbose=0))\n",
      "\u001b[33m[W 2023-03-02 17:37:30,301]\u001b[0m The parameter 'batch_size' in trial#27 is sampled independently by using `RandomSampler` instead of `QMCSampler` (optimization performance may be degraded). `QMCSampler` does not support dynamic search space or `CategoricalDistribution`. You can suppress this warning by setting `warn_independent_sampling` to `False` in the constructor of `QMCSampler`, if this independent sampling is intended behavior.\u001b[0m\n"
     ]
    },
    {
     "name": "stdout",
     "output_type": "stream",
     "text": [
      "195/195 [==============================] - 0s 2ms/step\n",
      "195/195 [==============================] - 0s 2ms/step\n",
      "195/195 [==============================] - 0s 2ms/step\n"
     ]
    },
    {
     "name": "stderr",
     "output_type": "stream",
     "text": [
      "\u001b[32m[I 2023-03-02 17:38:08,233]\u001b[0m Trial 27 finished with value: 0.8599269740234311 and parameters: {'units_1': 37, 'units_2': 17, 'alpha_1': 0.08031250000000001, 'alpha_2': 0.06343750000000001, 'dropout_1': 0.22812500000000002, 'dropout_2': 0.321875, 'l2_kern_1': 0.0014330125702369636, 'l2_kern_2': 0.005232991146814949, 'l2_bias_1': 6.978305848598668e-05, 'l2_bias_2': 0.0014330125702369636, 'lr': 0.00043029216677982745, 'batch_size': 512}. Best is trial 19 with value: 0.8792123205487341.\u001b[0m\n",
      "C:\\Users\\User\\AppData\\Local\\Temp\\ipykernel_5968\\4154129606.py:46: DeprecationWarning: KerasClassifier is deprecated, use Sci-Keras (https://github.com/adriangb/scikeras) instead. See https://www.adriangb.com/scikeras/stable/migration.html for help migrating.\n",
      "  ('classifier', KerasClassifier(build_fn=self.create_model, verbose=0))\n",
      "\u001b[33m[W 2023-03-02 17:38:08,237]\u001b[0m The parameter 'batch_size' in trial#28 is sampled independently by using `RandomSampler` instead of `QMCSampler` (optimization performance may be degraded). `QMCSampler` does not support dynamic search space or `CategoricalDistribution`. You can suppress this warning by setting `warn_independent_sampling` to `False` in the constructor of `QMCSampler`, if this independent sampling is intended behavior.\u001b[0m\n"
     ]
    },
    {
     "name": "stdout",
     "output_type": "stream",
     "text": [
      "195/195 [==============================] - 0s 2ms/step\n",
      "195/195 [==============================] - 0s 2ms/step\n",
      "195/195 [==============================] - 0s 2ms/step\n"
     ]
    },
    {
     "name": "stderr",
     "output_type": "stream",
     "text": [
      "\u001b[32m[I 2023-03-02 17:38:31,958]\u001b[0m Trial 28 finished with value: 0.8689623573761932 and parameters: {'units_1': 17, 'units_2': 37, 'alpha_1': 0.035312500000000004, 'alpha_2': 0.018437500000000002, 'dropout_1': 0.37812500000000004, 'dropout_2': 0.471875, 'l2_kern_1': 4.531583637600821e-05, 'l2_kern_2': 0.00016548170999431823, 'l2_bias_1': 0.002206734069084591, 'l2_bias_2': 4.531583637600821e-05, 'lr': 0.006085250180429374, 'batch_size': 1024}. Best is trial 19 with value: 0.8792123205487341.\u001b[0m\n",
      "C:\\Users\\User\\AppData\\Local\\Temp\\ipykernel_5968\\4154129606.py:46: DeprecationWarning: KerasClassifier is deprecated, use Sci-Keras (https://github.com/adriangb/scikeras) instead. See https://www.adriangb.com/scikeras/stable/migration.html for help migrating.\n",
      "  ('classifier', KerasClassifier(build_fn=self.create_model, verbose=0))\n",
      "\u001b[33m[W 2023-03-02 17:38:31,960]\u001b[0m The parameter 'batch_size' in trial#29 is sampled independently by using `RandomSampler` instead of `QMCSampler` (optimization performance may be degraded). `QMCSampler` does not support dynamic search space or `CategoricalDistribution`. You can suppress this warning by setting `warn_independent_sampling` to `False` in the constructor of `QMCSampler`, if this independent sampling is intended behavior.\u001b[0m\n"
     ]
    },
    {
     "name": "stdout",
     "output_type": "stream",
     "text": [
      "195/195 [==============================] - 0s 2ms/step\n",
      "195/195 [==============================] - 0s 2ms/step\n",
      "195/195 [==============================] - 0s 2ms/step\n"
     ]
    },
    {
     "name": "stderr",
     "output_type": "stream",
     "text": [
      "\u001b[32m[I 2023-03-02 17:39:00,982]\u001b[0m Trial 29 finished with value: 0.8455393739076275 and parameters: {'units_1': 12, 'units_2': 12, 'alpha_1': 0.0240625, 'alpha_2': 0.029687500000000006, 'dropout_1': 0.415625, 'dropout_2': 0.359375, 'l2_kern_1': 0.0006042963902381332, 'l2_kern_2': 0.002206734069084591, 'l2_bias_1': 0.00016548170999431823, 'l2_bias_2': 0.003398208328942561, 'lr': 0.00022188844703980695, 'batch_size': 256}. Best is trial 19 with value: 0.8792123205487341.\u001b[0m\n",
      "C:\\Users\\User\\AppData\\Local\\Temp\\ipykernel_5968\\4154129606.py:46: DeprecationWarning: KerasClassifier is deprecated, use Sci-Keras (https://github.com/adriangb/scikeras) instead. See https://www.adriangb.com/scikeras/stable/migration.html for help migrating.\n",
      "  ('classifier', KerasClassifier(build_fn=self.create_model, verbose=0))\n",
      "\u001b[33m[W 2023-03-02 17:39:00,990]\u001b[0m The parameter 'batch_size' in trial#30 is sampled independently by using `RandomSampler` instead of `QMCSampler` (optimization performance may be degraded). `QMCSampler` does not support dynamic search space or `CategoricalDistribution`. You can suppress this warning by setting `warn_independent_sampling` to `False` in the constructor of `QMCSampler`, if this independent sampling is intended behavior.\u001b[0m\n"
     ]
    },
    {
     "name": "stdout",
     "output_type": "stream",
     "text": [
      "195/195 [==============================] - 0s 2ms/step\n",
      "195/195 [==============================] - 0s 1ms/step\n",
      "195/195 [==============================] - 0s 1ms/step\n"
     ]
    },
    {
     "name": "stderr",
     "output_type": "stream",
     "text": [
      "\u001b[32m[I 2023-03-02 17:39:36,313]\u001b[0m Trial 30 finished with value: 0.8801702694460634 and parameters: {'units_1': 32, 'units_2': 32, 'alpha_1': 0.0690625, 'alpha_2': 0.0746875, 'dropout_1': 0.265625, 'dropout_2': 0.209375, 'l2_kern_1': 1.9109529749704416e-05, 'l2_kern_2': 6.978305848598668e-05, 'l2_bias_1': 0.005232991146814949, 'l2_bias_2': 0.00010746078283213182, 'lr': 0.00313797651137599, 'batch_size': 256}. Best is trial 30 with value: 0.8801702694460634.\u001b[0m\n",
      "C:\\Users\\User\\AppData\\Local\\Temp\\ipykernel_5968\\4154129606.py:46: DeprecationWarning: KerasClassifier is deprecated, use Sci-Keras (https://github.com/adriangb/scikeras) instead. See https://www.adriangb.com/scikeras/stable/migration.html for help migrating.\n",
      "  ('classifier', KerasClassifier(build_fn=self.create_model, verbose=0))\n",
      "\u001b[33m[W 2023-03-02 17:39:36,316]\u001b[0m The parameter 'batch_size' in trial#31 is sampled independently by using `RandomSampler` instead of `QMCSampler` (optimization performance may be degraded). `QMCSampler` does not support dynamic search space or `CategoricalDistribution`. You can suppress this warning by setting `warn_independent_sampling` to `False` in the constructor of `QMCSampler`, if this independent sampling is intended behavior.\u001b[0m\n"
     ]
    },
    {
     "name": "stdout",
     "output_type": "stream",
     "text": [
      "195/195 [==============================] - 0s 2ms/step\n",
      "195/195 [==============================] - 0s 2ms/step\n",
      "195/195 [==============================] - 0s 2ms/step\n"
     ]
    },
    {
     "name": "stderr",
     "output_type": "stream",
     "text": [
      "\u001b[32m[I 2023-03-02 17:40:22,184]\u001b[0m Trial 31 finished with value: 0.8559027608814415 and parameters: {'units_1': 22, 'units_2': 3, 'alpha_1': 0.04656250000000001, 'alpha_2': 0.052187500000000005, 'dropout_1': 0.340625, 'dropout_2': 0.284375, 'l2_kern_1': 0.003398208328942561, 'l2_kern_2': 1.2409377607517204e-05, 'l2_bias_1': 0.0009305720409296995, 'l2_bias_2': 1.9109529749704416e-05, 'lr': 0.0008344343802580338, 'batch_size': 128}. Best is trial 30 with value: 0.8801702694460634.\u001b[0m\n",
      "C:\\Users\\User\\AppData\\Local\\Temp\\ipykernel_5968\\4154129606.py:46: DeprecationWarning: KerasClassifier is deprecated, use Sci-Keras (https://github.com/adriangb/scikeras) instead. See https://www.adriangb.com/scikeras/stable/migration.html for help migrating.\n",
      "  ('classifier', KerasClassifier(build_fn=self.create_model, verbose=0))\n",
      "\u001b[33m[W 2023-03-02 17:40:22,191]\u001b[0m The parameter 'batch_size' in trial#32 is sampled independently by using `RandomSampler` instead of `QMCSampler` (optimization performance may be degraded). `QMCSampler` does not support dynamic search space or `CategoricalDistribution`. You can suppress this warning by setting `warn_independent_sampling` to `False` in the constructor of `QMCSampler`, if this independent sampling is intended behavior.\u001b[0m\n"
     ]
    },
    {
     "name": "stdout",
     "output_type": "stream",
     "text": [
      "195/195 [==============================] - 0s 2ms/step\n",
      "195/195 [==============================] - 0s 2ms/step\n",
      "195/195 [==============================] - 0s 2ms/step\n"
     ]
    },
    {
     "name": "stderr",
     "output_type": "stream",
     "text": [
      "\u001b[32m[I 2023-03-02 17:41:16,967]\u001b[0m Trial 32 finished with value: 0.8284086276577094 and parameters: {'units_1': 3, 'units_2': 22, 'alpha_1': 0.0915625, 'alpha_2': 0.09718750000000001, 'dropout_1': 0.490625, 'dropout_2': 0.434375, 'l2_kern_1': 0.00010746078283213182, 'l2_kern_2': 0.0003924189758484538, 'l2_bias_1': 2.942727176209284e-05, 'l2_bias_2': 0.0006042963902381332, 'lr': 5.900342087356497e-05, 'batch_size': 256}. Best is trial 30 with value: 0.8801702694460634.\u001b[0m\n",
      "C:\\Users\\User\\AppData\\Local\\Temp\\ipykernel_5968\\4154129606.py:46: DeprecationWarning: KerasClassifier is deprecated, use Sci-Keras (https://github.com/adriangb/scikeras) instead. See https://www.adriangb.com/scikeras/stable/migration.html for help migrating.\n",
      "  ('classifier', KerasClassifier(build_fn=self.create_model, verbose=0))\n",
      "\u001b[33m[W 2023-03-02 17:41:16,975]\u001b[0m The parameter 'batch_size' in trial#33 is sampled independently by using `RandomSampler` instead of `QMCSampler` (optimization performance may be degraded). `QMCSampler` does not support dynamic search space or `CategoricalDistribution`. You can suppress this warning by setting `warn_independent_sampling` to `False` in the constructor of `QMCSampler`, if this independent sampling is intended behavior.\u001b[0m\n"
     ]
    },
    {
     "name": "stdout",
     "output_type": "stream",
     "text": [
      "195/195 [==============================] - 0s 2ms/step\n",
      "195/195 [==============================] - 0s 2ms/step\n",
      "195/195 [==============================] - 0s 1ms/step\n"
     ]
    },
    {
     "name": "stderr",
     "output_type": "stream",
     "text": [
      "\u001b[32m[I 2023-03-02 17:42:12,742]\u001b[0m Trial 33 finished with value: 0.843229239835697 and parameters: {'units_1': 3, 'units_2': 12, 'alpha_1': 0.07328125, 'alpha_2': 0.05921875000000001, 'dropout_1': 0.2421875, 'dropout_2': 0.4765625, 'l2_kern_1': 0.0024582440689201977, 'l2_kern_2': 0.001036632928437698, 'l2_bias_1': 0.008976871324473142, 'l2_bias_2': 1.3823722273578999e-05, 'lr': 0.0003961045639333123, 'batch_size': 64}. Best is trial 30 with value: 0.8801702694460634.\u001b[0m\n",
      "C:\\Users\\User\\AppData\\Local\\Temp\\ipykernel_5968\\4154129606.py:46: DeprecationWarning: KerasClassifier is deprecated, use Sci-Keras (https://github.com/adriangb/scikeras) instead. See https://www.adriangb.com/scikeras/stable/migration.html for help migrating.\n",
      "  ('classifier', KerasClassifier(build_fn=self.create_model, verbose=0))\n",
      "\u001b[33m[W 2023-03-02 17:42:12,745]\u001b[0m The parameter 'batch_size' in trial#34 is sampled independently by using `RandomSampler` instead of `QMCSampler` (optimization performance may be degraded). `QMCSampler` does not support dynamic search space or `CategoricalDistribution`. You can suppress this warning by setting `warn_independent_sampling` to `False` in the constructor of `QMCSampler`, if this independent sampling is intended behavior.\u001b[0m\n"
     ]
    },
    {
     "name": "stdout",
     "output_type": "stream",
     "text": [
      "195/195 [==============================] - 0s 2ms/step\n",
      "195/195 [==============================] - 0s 2ms/step\n",
      "195/195 [==============================] - 0s 1ms/step\n"
     ]
    },
    {
     "name": "stderr",
     "output_type": "stream",
     "text": [
      "\u001b[32m[I 2023-03-02 17:42:48,708]\u001b[0m Trial 34 finished with value: 0.8802303346093877 and parameters: {'units_1': 23, 'units_2': 31, 'alpha_1': 0.02828125, 'alpha_2': 0.01421875, 'dropout_1': 0.3921875, 'dropout_2': 0.3265625, 'l2_kern_1': 7.77365030238776e-05, 'l2_kern_2': 3.278121151393459e-05, 'l2_bias_1': 0.0002838735964758755, 'l2_bias_2': 0.000437144481261109, 'lr': 0.005601764464323711, 'batch_size': 256}. Best is trial 34 with value: 0.8802303346093877.\u001b[0m\n",
      "C:\\Users\\User\\AppData\\Local\\Temp\\ipykernel_5968\\4154129606.py:46: DeprecationWarning: KerasClassifier is deprecated, use Sci-Keras (https://github.com/adriangb/scikeras) instead. See https://www.adriangb.com/scikeras/stable/migration.html for help migrating.\n",
      "  ('classifier', KerasClassifier(build_fn=self.create_model, verbose=0))\n",
      "\u001b[33m[W 2023-03-02 17:42:48,711]\u001b[0m The parameter 'batch_size' in trial#35 is sampled independently by using `RandomSampler` instead of `QMCSampler` (optimization performance may be degraded). `QMCSampler` does not support dynamic search space or `CategoricalDistribution`. You can suppress this warning by setting `warn_independent_sampling` to `False` in the constructor of `QMCSampler`, if this independent sampling is intended behavior.\u001b[0m\n"
     ]
    },
    {
     "name": "stdout",
     "output_type": "stream",
     "text": [
      "195/195 [==============================] - 0s 2ms/step\n",
      "195/195 [==============================] - 0s 2ms/step\n",
      "195/195 [==============================] - 0s 2ms/step\n"
     ]
    },
    {
     "name": "stderr",
     "output_type": "stream",
     "text": [
      "\u001b[32m[I 2023-03-02 17:43:23,046]\u001b[0m Trial 35 finished with value: 0.8623303666586076 and parameters: {'units_1': 33, 'units_2': 2, 'alpha_1': 0.09578125, 'alpha_2': 0.08171875, 'dropout_1': 0.4671875, 'dropout_2': 0.2515625, 'l2_kern_1': 0.000437144481261109, 'l2_kern_2': 0.00018434229924091107, 'l2_bias_1': 5.048065716667472e-05, 'l2_bias_2': 0.0024582440689201977, 'lr': 0.0014895920483132515, 'batch_size': 256}. Best is trial 34 with value: 0.8802303346093877.\u001b[0m\n",
      "C:\\Users\\User\\AppData\\Local\\Temp\\ipykernel_5968\\4154129606.py:46: DeprecationWarning: KerasClassifier is deprecated, use Sci-Keras (https://github.com/adriangb/scikeras) instead. See https://www.adriangb.com/scikeras/stable/migration.html for help migrating.\n",
      "  ('classifier', KerasClassifier(build_fn=self.create_model, verbose=0))\n",
      "\u001b[33m[W 2023-03-02 17:43:23,051]\u001b[0m The parameter 'batch_size' in trial#36 is sampled independently by using `RandomSampler` instead of `QMCSampler` (optimization performance may be degraded). `QMCSampler` does not support dynamic search space or `CategoricalDistribution`. You can suppress this warning by setting `warn_independent_sampling` to `False` in the constructor of `QMCSampler`, if this independent sampling is intended behavior.\u001b[0m\n"
     ]
    },
    {
     "name": "stdout",
     "output_type": "stream",
     "text": [
      "195/195 [==============================] - 0s 2ms/step\n",
      "195/195 [==============================] - 0s 2ms/step\n",
      "195/195 [==============================] - 0s 1ms/step\n"
     ]
    },
    {
     "name": "stderr",
     "output_type": "stream",
     "text": [
      "\u001b[32m[I 2023-03-02 17:45:44,702]\u001b[0m Trial 36 finished with value: 0.8469565369226609 and parameters: {'units_1': 13, 'units_2': 22, 'alpha_1': 0.05078125000000001, 'alpha_2': 0.03671875, 'dropout_1': 0.3171875, 'dropout_2': 0.40156250000000004, 'l2_kern_1': 1.3823722273578999e-05, 'l2_kern_2': 0.005829415347136074, 'l2_bias_1': 0.0015963385442879423, 'l2_bias_2': 7.77365030238776e-05, 'lr': 0.00010533006385638602, 'batch_size': 32}. Best is trial 34 with value: 0.8802303346093877.\u001b[0m\n",
      "C:\\Users\\User\\AppData\\Local\\Temp\\ipykernel_5968\\4154129606.py:46: DeprecationWarning: KerasClassifier is deprecated, use Sci-Keras (https://github.com/adriangb/scikeras) instead. See https://www.adriangb.com/scikeras/stable/migration.html for help migrating.\n",
      "  ('classifier', KerasClassifier(build_fn=self.create_model, verbose=0))\n",
      "\u001b[33m[W 2023-03-02 17:45:44,710]\u001b[0m The parameter 'batch_size' in trial#37 is sampled independently by using `RandomSampler` instead of `QMCSampler` (optimization performance may be degraded). `QMCSampler` does not support dynamic search space or `CategoricalDistribution`. You can suppress this warning by setting `warn_independent_sampling` to `False` in the constructor of `QMCSampler`, if this independent sampling is intended behavior.\u001b[0m\n"
     ]
    },
    {
     "name": "stdout",
     "output_type": "stream",
     "text": [
      "195/195 [==============================] - 0s 2ms/step\n",
      "195/195 [==============================] - 0s 1ms/step\n",
      "195/195 [==============================] - 0s 1ms/step\n"
     ]
    },
    {
     "name": "stderr",
     "output_type": "stream",
     "text": [
      "\u001b[32m[I 2023-03-02 17:48:30,763]\u001b[0m Trial 37 finished with value: 0.8708540222025536 and parameters: {'units_1': 18, 'units_2': 7, 'alpha_1': 0.01703125, 'alpha_2': 0.047968750000000004, 'dropout_1': 0.2796875, 'dropout_2': 0.4390625, 'l2_kern_1': 0.001036632928437698, 'l2_kern_2': 7.77365030238776e-05, 'l2_bias_1': 2.128751661796373e-05, 'l2_bias_2': 0.001036632928437698, 'lr': 0.0007681368424542925, 'batch_size': 16}. Best is trial 34 with value: 0.8802303346093877.\u001b[0m\n",
      "C:\\Users\\User\\AppData\\Local\\Temp\\ipykernel_5968\\4154129606.py:46: DeprecationWarning: KerasClassifier is deprecated, use Sci-Keras (https://github.com/adriangb/scikeras) instead. See https://www.adriangb.com/scikeras/stable/migration.html for help migrating.\n",
      "  ('classifier', KerasClassifier(build_fn=self.create_model, verbose=0))\n",
      "\u001b[33m[W 2023-03-02 17:48:30,766]\u001b[0m The parameter 'batch_size' in trial#38 is sampled independently by using `RandomSampler` instead of `QMCSampler` (optimization performance may be degraded). `QMCSampler` does not support dynamic search space or `CategoricalDistribution`. You can suppress this warning by setting `warn_independent_sampling` to `False` in the constructor of `QMCSampler`, if this independent sampling is intended behavior.\u001b[0m\n"
     ]
    },
    {
     "name": "stdout",
     "output_type": "stream",
     "text": [
      "195/195 [==============================] - 0s 2ms/step\n",
      "195/195 [==============================] - 0s 2ms/step\n",
      "195/195 [==============================] - 0s 2ms/step\n"
     ]
    },
    {
     "name": "stderr",
     "output_type": "stream",
     "text": [
      "\u001b[32m[I 2023-03-02 17:50:19,294]\u001b[0m Trial 38 finished with value: 0.8490787805720964 and parameters: {'units_1': 37, 'units_2': 26, 'alpha_1': 0.06203125000000001, 'alpha_2': 0.09296875, 'dropout_1': 0.4296875, 'dropout_2': 0.2890625, 'l2_kern_1': 3.278121151393459e-05, 'l2_kern_2': 0.0024582440689201977, 'l2_bias_1': 0.0006731703824144984, 'l2_bias_2': 3.278121151393459e-05, 'lr': 5.431547701786532e-05, 'batch_size': 64}. Best is trial 34 with value: 0.8802303346093877.\u001b[0m\n",
      "C:\\Users\\User\\AppData\\Local\\Temp\\ipykernel_5968\\4154129606.py:46: DeprecationWarning: KerasClassifier is deprecated, use Sci-Keras (https://github.com/adriangb/scikeras) instead. See https://www.adriangb.com/scikeras/stable/migration.html for help migrating.\n",
      "  ('classifier', KerasClassifier(build_fn=self.create_model, verbose=0))\n",
      "\u001b[33m[W 2023-03-02 17:50:19,297]\u001b[0m The parameter 'batch_size' in trial#39 is sampled independently by using `RandomSampler` instead of `QMCSampler` (optimization performance may be degraded). `QMCSampler` does not support dynamic search space or `CategoricalDistribution`. You can suppress this warning by setting `warn_independent_sampling` to `False` in the constructor of `QMCSampler`, if this independent sampling is intended behavior.\u001b[0m\n"
     ]
    },
    {
     "name": "stdout",
     "output_type": "stream",
     "text": [
      "195/195 [==============================] - 0s 2ms/step\n",
      "195/195 [==============================] - 0s 2ms/step\n",
      "195/195 [==============================] - 0s 1ms/step\n"
     ]
    },
    {
     "name": "stderr",
     "output_type": "stream",
     "text": [
      "\u001b[32m[I 2023-03-02 17:51:03,702]\u001b[0m Trial 39 finished with value: 0.8587465373329047 and parameters: {'units_1': 28, 'units_2': 17, 'alpha_1': 0.039531250000000004, 'alpha_2': 0.025468750000000002, 'dropout_1': 0.35468750000000004, 'dropout_2': 0.21406250000000002, 'l2_kern_1': 0.005829415347136074, 'l2_kern_2': 0.000437144481261109, 'l2_bias_1': 0.00378551524925863, 'l2_bias_2': 0.00018434229924091107, 'lr': 0.0002042589508758471, 'batch_size': 256}. Best is trial 34 with value: 0.8802303346093877.\u001b[0m\n",
      "C:\\Users\\User\\AppData\\Local\\Temp\\ipykernel_5968\\4154129606.py:46: DeprecationWarning: KerasClassifier is deprecated, use Sci-Keras (https://github.com/adriangb/scikeras) instead. See https://www.adriangb.com/scikeras/stable/migration.html for help migrating.\n",
      "  ('classifier', KerasClassifier(build_fn=self.create_model, verbose=0))\n",
      "\u001b[33m[W 2023-03-02 17:51:03,705]\u001b[0m The parameter 'batch_size' in trial#40 is sampled independently by using `RandomSampler` instead of `QMCSampler` (optimization performance may be degraded). `QMCSampler` does not support dynamic search space or `CategoricalDistribution`. You can suppress this warning by setting `warn_independent_sampling` to `False` in the constructor of `QMCSampler`, if this independent sampling is intended behavior.\u001b[0m\n"
     ]
    },
    {
     "name": "stdout",
     "output_type": "stream",
     "text": [
      "195/195 [==============================] - 0s 2ms/step\n",
      "195/195 [==============================] - 0s 2ms/step\n",
      "195/195 [==============================] - 0s 2ms/step\n"
     ]
    },
    {
     "name": "stderr",
     "output_type": "stream",
     "text": [
      "\u001b[32m[I 2023-03-02 17:51:24,333]\u001b[0m Trial 40 finished with value: 0.8602488011822396 and parameters: {'units_1': 8, 'units_2': 36, 'alpha_1': 0.08453125, 'alpha_2': 0.07046875000000001, 'dropout_1': 0.20468750000000002, 'dropout_2': 0.3640625, 'l2_kern_1': 0.00018434229924091107, 'l2_kern_2': 1.3823722273578999e-05, 'l2_bias_1': 0.00011970850304957301, 'l2_bias_2': 0.005829415347136074, 'lr': 0.0028886577856472285, 'batch_size': 1024}. Best is trial 34 with value: 0.8802303346093877.\u001b[0m\n",
      "C:\\Users\\User\\AppData\\Local\\Temp\\ipykernel_5968\\4154129606.py:46: DeprecationWarning: KerasClassifier is deprecated, use Sci-Keras (https://github.com/adriangb/scikeras) instead. See https://www.adriangb.com/scikeras/stable/migration.html for help migrating.\n",
      "  ('classifier', KerasClassifier(build_fn=self.create_model, verbose=0))\n",
      "\u001b[33m[W 2023-03-02 17:51:24,337]\u001b[0m The parameter 'batch_size' in trial#41 is sampled independently by using `RandomSampler` instead of `QMCSampler` (optimization performance may be degraded). `QMCSampler` does not support dynamic search space or `CategoricalDistribution`. You can suppress this warning by setting `warn_independent_sampling` to `False` in the constructor of `QMCSampler`, if this independent sampling is intended behavior.\u001b[0m\n"
     ]
    },
    {
     "name": "stdout",
     "output_type": "stream",
     "text": [
      "195/195 [==============================] - 0s 2ms/step\n",
      "195/195 [==============================] - 0s 2ms/step\n",
      "195/195 [==============================] - 0s 2ms/step\n"
     ]
    },
    {
     "name": "stderr",
     "output_type": "stream",
     "text": [
      "\u001b[32m[I 2023-03-02 17:51:44,609]\u001b[0m Trial 41 finished with value: 0.8571032864733158 and parameters: {'units_1': 11, 'units_2': 5, 'alpha_1': 0.033906250000000006, 'alpha_2': 0.09859375000000001, 'dropout_1': 0.4109375, 'dropout_2': 0.4203125, 'l2_kern_1': 0.0015963385442879423, 'l2_kern_2': 0.00011970850304957301, 'l2_bias_1': 1.3823722273578999e-05, 'l2_bias_2': 0.00011970850304957301, 'lr': 0.00402263353205716, 'batch_size': 512}. Best is trial 34 with value: 0.8802303346093877.\u001b[0m\n",
      "C:\\Users\\User\\AppData\\Local\\Temp\\ipykernel_5968\\4154129606.py:46: DeprecationWarning: KerasClassifier is deprecated, use Sci-Keras (https://github.com/adriangb/scikeras) instead. See https://www.adriangb.com/scikeras/stable/migration.html for help migrating.\n",
      "  ('classifier', KerasClassifier(build_fn=self.create_model, verbose=0))\n",
      "\u001b[33m[W 2023-03-02 17:51:44,613]\u001b[0m The parameter 'batch_size' in trial#42 is sampled independently by using `RandomSampler` instead of `QMCSampler` (optimization performance may be degraded). `QMCSampler` does not support dynamic search space or `CategoricalDistribution`. You can suppress this warning by setting `warn_independent_sampling` to `False` in the constructor of `QMCSampler`, if this independent sampling is intended behavior.\u001b[0m\n"
     ]
    },
    {
     "name": "stdout",
     "output_type": "stream",
     "text": [
      "195/195 [==============================] - 0s 1ms/step\n",
      "195/195 [==============================] - 0s 2ms/step\n",
      "195/195 [==============================] - 0s 2ms/step\n"
     ]
    },
    {
     "name": "stderr",
     "output_type": "stream",
     "text": [
      "\u001b[32m[I 2023-03-02 17:54:23,168]\u001b[0m Trial 42 finished with value: 0.8711320051054362 and parameters: {'units_1': 30, 'units_2': 24, 'alpha_1': 0.07890625, 'alpha_2': 0.05359375000000001, 'dropout_1': 0.2609375, 'dropout_2': 0.2703125, 'l2_kern_1': 5.048065716667472e-05, 'l2_kern_2': 0.00378551524925863, 'l2_bias_1': 0.000437144481261109, 'l2_bias_2': 0.00378551524925863, 'lr': 0.0002844431448746013, 'batch_size': 32}. Best is trial 34 with value: 0.8802303346093877.\u001b[0m\n",
      "C:\\Users\\User\\AppData\\Local\\Temp\\ipykernel_5968\\4154129606.py:46: DeprecationWarning: KerasClassifier is deprecated, use Sci-Keras (https://github.com/adriangb/scikeras) instead. See https://www.adriangb.com/scikeras/stable/migration.html for help migrating.\n",
      "  ('classifier', KerasClassifier(build_fn=self.create_model, verbose=0))\n",
      "\u001b[33m[W 2023-03-02 17:54:23,171]\u001b[0m The parameter 'batch_size' in trial#43 is sampled independently by using `RandomSampler` instead of `QMCSampler` (optimization performance may be degraded). `QMCSampler` does not support dynamic search space or `CategoricalDistribution`. You can suppress this warning by setting `warn_independent_sampling` to `False` in the constructor of `QMCSampler`, if this independent sampling is intended behavior.\u001b[0m\n"
     ]
    },
    {
     "name": "stdout",
     "output_type": "stream",
     "text": [
      "195/195 [==============================] - 0s 2ms/step\n",
      "195/195 [==============================] - 0s 1ms/step\n",
      "195/195 [==============================] - 0s 2ms/step\n"
     ]
    },
    {
     "name": "stderr",
     "output_type": "stream",
     "text": [
      "\u001b[32m[I 2023-03-02 17:55:06,456]\u001b[0m Trial 43 finished with value: 0.8414195155348553 and parameters: {'units_1': 40, 'units_2': 14, 'alpha_1': 0.01140625, 'alpha_2': 0.07609375, 'dropout_1': 0.3359375, 'dropout_2': 0.3453125, 'l2_kern_1': 0.008976871324473142, 'l2_kern_2': 0.0006731703824144984, 'l2_bias_1': 0.0024582440689201977, 'l2_bias_2': 0.0006731703824144984, 'lr': 7.563764051503597e-05, 'batch_size': 512}. Best is trial 34 with value: 0.8802303346093877.\u001b[0m\n",
      "C:\\Users\\User\\AppData\\Local\\Temp\\ipykernel_5968\\4154129606.py:46: DeprecationWarning: KerasClassifier is deprecated, use Sci-Keras (https://github.com/adriangb/scikeras) instead. See https://www.adriangb.com/scikeras/stable/migration.html for help migrating.\n",
      "  ('classifier', KerasClassifier(build_fn=self.create_model, verbose=0))\n",
      "\u001b[33m[W 2023-03-02 17:55:06,463]\u001b[0m The parameter 'batch_size' in trial#44 is sampled independently by using `RandomSampler` instead of `QMCSampler` (optimization performance may be degraded). `QMCSampler` does not support dynamic search space or `CategoricalDistribution`. You can suppress this warning by setting `warn_independent_sampling` to `False` in the constructor of `QMCSampler`, if this independent sampling is intended behavior.\u001b[0m\n"
     ]
    },
    {
     "name": "stdout",
     "output_type": "stream",
     "text": [
      "195/195 [==============================] - 0s 2ms/step\n",
      "195/195 [==============================] - 0s 2ms/step\n",
      "195/195 [==============================] - 0s 2ms/step\n"
     ]
    },
    {
     "name": "stderr",
     "output_type": "stream",
     "text": [
      "\u001b[32m[I 2023-03-02 17:56:34,340]\u001b[0m Trial 44 finished with value: 0.8772290499458734 and parameters: {'units_1': 20, 'units_2': 34, 'alpha_1': 0.056406250000000005, 'alpha_2': 0.031093750000000003, 'dropout_1': 0.4859375, 'dropout_2': 0.4953125, 'l2_kern_1': 0.0002838735964758755, 'l2_kern_2': 2.128751661796373e-05, 'l2_bias_1': 7.77365030238776e-05, 'l2_bias_2': 2.128751661796373e-05, 'lr': 0.001069677770422646, 'batch_size': 64}. Best is trial 34 with value: 0.8802303346093877.\u001b[0m\n",
      "C:\\Users\\User\\AppData\\Local\\Temp\\ipykernel_5968\\4154129606.py:46: DeprecationWarning: KerasClassifier is deprecated, use Sci-Keras (https://github.com/adriangb/scikeras) instead. See https://www.adriangb.com/scikeras/stable/migration.html for help migrating.\n",
      "  ('classifier', KerasClassifier(build_fn=self.create_model, verbose=0))\n",
      "\u001b[33m[W 2023-03-02 17:56:34,347]\u001b[0m The parameter 'batch_size' in trial#45 is sampled independently by using `RandomSampler` instead of `QMCSampler` (optimization performance may be degraded). `QMCSampler` does not support dynamic search space or `CategoricalDistribution`. You can suppress this warning by setting `warn_independent_sampling` to `False` in the constructor of `QMCSampler`, if this independent sampling is intended behavior.\u001b[0m\n"
     ]
    },
    {
     "name": "stdout",
     "output_type": "stream",
     "text": [
      "195/195 [==============================] - 0s 2ms/step\n",
      "195/195 [==============================] - 1s 2ms/step\n",
      "195/195 [==============================] - 0s 2ms/step\n"
     ]
    },
    {
     "name": "stderr",
     "output_type": "stream",
     "text": [
      "\u001b[32m[I 2023-03-02 17:57:12,207]\u001b[0m Trial 45 finished with value: 0.8384188208884854 and parameters: {'units_1': 16, 'units_2': 19, 'alpha_1': 0.09015625000000001, 'alpha_2': 0.01984375, 'dropout_1': 0.4484375, 'dropout_2': 0.3828125, 'l2_kern_1': 0.00378551524925863, 'l2_kern_2': 0.0015963385442879423, 'l2_bias_1': 0.005829415347136074, 'l2_bias_2': 0.008976871324473142, 'lr': 0.0001466785885499017, 'batch_size': 1024}. Best is trial 34 with value: 0.8802303346093877.\u001b[0m\n",
      "C:\\Users\\User\\AppData\\Local\\Temp\\ipykernel_5968\\4154129606.py:46: DeprecationWarning: KerasClassifier is deprecated, use Sci-Keras (https://github.com/adriangb/scikeras) instead. See https://www.adriangb.com/scikeras/stable/migration.html for help migrating.\n",
      "  ('classifier', KerasClassifier(build_fn=self.create_model, verbose=0))\n",
      "\u001b[33m[W 2023-03-02 17:57:12,217]\u001b[0m The parameter 'batch_size' in trial#46 is sampled independently by using `RandomSampler` instead of `QMCSampler` (optimization performance may be degraded). `QMCSampler` does not support dynamic search space or `CategoricalDistribution`. You can suppress this warning by setting `warn_independent_sampling` to `False` in the constructor of `QMCSampler`, if this independent sampling is intended behavior.\u001b[0m\n"
     ]
    },
    {
     "name": "stdout",
     "output_type": "stream",
     "text": [
      "195/195 [==============================] - 0s 1ms/step\n",
      "195/195 [==============================] - 0s 1ms/step\n",
      "195/195 [==============================] - 0s 2ms/step\n"
     ]
    },
    {
     "name": "stderr",
     "output_type": "stream",
     "text": [
      "\u001b[32m[I 2023-03-02 17:59:41,648]\u001b[0m Trial 46 finished with value: 0.884309385635374 and parameters: {'units_1': 35, 'units_2': 39, 'alpha_1': 0.04515625000000001, 'alpha_2': 0.06484375, 'dropout_1': 0.2984375, 'dropout_2': 0.2328125, 'l2_kern_1': 0.00011970850304957301, 'l2_kern_2': 5.048065716667472e-05, 'l2_bias_1': 0.00018434229924091107, 'l2_bias_2': 0.0002838735964758755, 'lr': 0.00207434849237014, 'batch_size': 16}. Best is trial 46 with value: 0.884309385635374.\u001b[0m\n",
      "C:\\Users\\User\\AppData\\Local\\Temp\\ipykernel_5968\\4154129606.py:46: DeprecationWarning: KerasClassifier is deprecated, use Sci-Keras (https://github.com/adriangb/scikeras) instead. See https://www.adriangb.com/scikeras/stable/migration.html for help migrating.\n",
      "  ('classifier', KerasClassifier(build_fn=self.create_model, verbose=0))\n",
      "\u001b[33m[W 2023-03-02 17:59:41,651]\u001b[0m The parameter 'batch_size' in trial#47 is sampled independently by using `RandomSampler` instead of `QMCSampler` (optimization performance may be degraded). `QMCSampler` does not support dynamic search space or `CategoricalDistribution`. You can suppress this warning by setting `warn_independent_sampling` to `False` in the constructor of `QMCSampler`, if this independent sampling is intended behavior.\u001b[0m\n"
     ]
    },
    {
     "name": "stdout",
     "output_type": "stream",
     "text": [
      "195/195 [==============================] - 0s 2ms/step\n",
      "195/195 [==============================] - 0s 2ms/step\n",
      "195/195 [==============================] - 0s 2ms/step\n"
     ]
    },
    {
     "name": "stderr",
     "output_type": "stream",
     "text": [
      "\u001b[32m[I 2023-03-02 18:00:09,054]\u001b[0m Trial 47 finished with value: 0.8791770142191715 and parameters: {'units_1': 25, 'units_2': 9, 'alpha_1': 0.06765625, 'alpha_2': 0.042343750000000006, 'dropout_1': 0.2234375, 'dropout_2': 0.3078125, 'l2_kern_1': 0.0006731703824144984, 'l2_kern_2': 0.0002838735964758755, 'l2_bias_1': 3.278121151393459e-05, 'l2_bias_2': 5.048065716667472e-05, 'lr': 0.007800801356546247, 'batch_size': 128}. Best is trial 46 with value: 0.884309385635374.\u001b[0m\n",
      "C:\\Users\\User\\AppData\\Local\\Temp\\ipykernel_5968\\4154129606.py:46: DeprecationWarning: KerasClassifier is deprecated, use Sci-Keras (https://github.com/adriangb/scikeras) instead. See https://www.adriangb.com/scikeras/stable/migration.html for help migrating.\n",
      "  ('classifier', KerasClassifier(build_fn=self.create_model, verbose=0))\n",
      "\u001b[33m[W 2023-03-02 18:00:09,058]\u001b[0m The parameter 'batch_size' in trial#48 is sampled independently by using `RandomSampler` instead of `QMCSampler` (optimization performance may be degraded). `QMCSampler` does not support dynamic search space or `CategoricalDistribution`. You can suppress this warning by setting `warn_independent_sampling` to `False` in the constructor of `QMCSampler`, if this independent sampling is intended behavior.\u001b[0m\n"
     ]
    },
    {
     "name": "stdout",
     "output_type": "stream",
     "text": [
      "195/195 [==============================] - 0s 2ms/step\n",
      "195/195 [==============================] - 0s 2ms/step\n",
      "195/195 [==============================] - 0s 2ms/step\n"
     ]
    },
    {
     "name": "stderr",
     "output_type": "stream",
     "text": [
      "\u001b[32m[I 2023-03-02 18:00:37,553]\u001b[0m Trial 48 finished with value: 0.8419408869418689 and parameters: {'units_1': 6, 'units_2': 29, 'alpha_1': 0.022656250000000003, 'alpha_2': 0.08734375, 'dropout_1': 0.3734375, 'dropout_2': 0.4578125, 'l2_kern_1': 2.128751661796373e-05, 'l2_kern_2': 0.008976871324473142, 'l2_bias_1': 0.001036632928437698, 'l2_bias_2': 0.0015963385442879423, 'lr': 0.0005515999537903073, 'batch_size': 512}. Best is trial 46 with value: 0.884309385635374.\u001b[0m\n",
      "C:\\Users\\User\\AppData\\Local\\Temp\\ipykernel_5968\\4154129606.py:46: DeprecationWarning: KerasClassifier is deprecated, use Sci-Keras (https://github.com/adriangb/scikeras) instead. See https://www.adriangb.com/scikeras/stable/migration.html for help migrating.\n",
      "  ('classifier', KerasClassifier(build_fn=self.create_model, verbose=0))\n",
      "\u001b[33m[W 2023-03-02 18:00:37,556]\u001b[0m The parameter 'batch_size' in trial#49 is sampled independently by using `RandomSampler` instead of `QMCSampler` (optimization performance may be degraded). `QMCSampler` does not support dynamic search space or `CategoricalDistribution`. You can suppress this warning by setting `warn_independent_sampling` to `False` in the constructor of `QMCSampler`, if this independent sampling is intended behavior.\u001b[0m\n"
     ]
    },
    {
     "name": "stdout",
     "output_type": "stream",
     "text": [
      "195/195 [==============================] - 0s 2ms/step\n",
      "195/195 [==============================] - 0s 2ms/step\n",
      "195/195 [==============================] - 0s 2ms/step\n"
     ]
    },
    {
     "name": "stderr",
     "output_type": "stream",
     "text": [
      "\u001b[32m[I 2023-03-02 18:00:58,127]\u001b[0m Trial 49 finished with value: 0.8411980884308942 and parameters: {'units_1': 5, 'units_2': 11, 'alpha_1': 0.08171875, 'alpha_2': 0.022656250000000003, 'dropout_1': 0.3265625, 'dropout_2': 0.2234375, 'l2_kern_1': 6.264335366568851e-05, 'l2_kern_2': 0.0002287573200318398, 'l2_bias_1': 0.0003522694651473102, 'l2_bias_2': 2.6416483203860905e-05, 'lr': 0.0006509256845465694, 'batch_size': 1024}. Best is trial 46 with value: 0.884309385635374.\u001b[0m\n",
      "C:\\Users\\User\\AppData\\Local\\Temp\\ipykernel_5968\\4154129606.py:46: DeprecationWarning: KerasClassifier is deprecated, use Sci-Keras (https://github.com/adriangb/scikeras) instead. See https://www.adriangb.com/scikeras/stable/migration.html for help migrating.\n",
      "  ('classifier', KerasClassifier(build_fn=self.create_model, verbose=0))\n",
      "\u001b[33m[W 2023-03-02 18:00:58,131]\u001b[0m The parameter 'batch_size' in trial#50 is sampled independently by using `RandomSampler` instead of `QMCSampler` (optimization performance may be degraded). `QMCSampler` does not support dynamic search space or `CategoricalDistribution`. You can suppress this warning by setting `warn_independent_sampling` to `False` in the constructor of `QMCSampler`, if this independent sampling is intended behavior.\u001b[0m\n"
     ]
    },
    {
     "name": "stdout",
     "output_type": "stream",
     "text": [
      "195/195 [==============================] - 0s 1ms/step\n",
      "195/195 [==============================] - 0s 2ms/step\n",
      "195/195 [==============================] - 0s 2ms/step\n"
     ]
    },
    {
     "name": "stderr",
     "output_type": "stream",
     "text": [
      "\u001b[32m[I 2023-03-02 18:01:15,893]\u001b[0m Trial 50 finished with value: 0.8585407286794605 and parameters: {'units_1': 24, 'units_2': 30, 'alpha_1': 0.03671875, 'alpha_2': 0.06765625, 'dropout_1': 0.4765625, 'dropout_2': 0.3734375, 'l2_kern_1': 0.001980956778550339, 'l2_kern_2': 0.007233941627366748, 'l2_bias_1': 1.1139738599948017e-05, 'l2_bias_2': 0.0008353625469578262, 'lr': 0.009205479311827497, 'batch_size': 512}. Best is trial 46 with value: 0.884309385635374.\u001b[0m\n",
      "C:\\Users\\User\\AppData\\Local\\Temp\\ipykernel_5968\\4154129606.py:46: DeprecationWarning: KerasClassifier is deprecated, use Sci-Keras (https://github.com/adriangb/scikeras) instead. See https://www.adriangb.com/scikeras/stable/migration.html for help migrating.\n",
      "  ('classifier', KerasClassifier(build_fn=self.create_model, verbose=0))\n",
      "\u001b[33m[W 2023-03-02 18:01:15,898]\u001b[0m The parameter 'batch_size' in trial#51 is sampled independently by using `RandomSampler` instead of `QMCSampler` (optimization performance may be degraded). `QMCSampler` does not support dynamic search space or `CategoricalDistribution`. You can suppress this warning by setting `warn_independent_sampling` to `False` in the constructor of `QMCSampler`, if this independent sampling is intended behavior.\u001b[0m\n"
     ]
    },
    {
     "name": "stdout",
     "output_type": "stream",
     "text": [
      "195/195 [==============================] - 0s 2ms/step\n",
      "195/195 [==============================] - 0s 2ms/step\n",
      "195/195 [==============================] - 0s 2ms/step\n"
     ]
    },
    {
     "name": "stderr",
     "output_type": "stream",
     "text": [
      "\u001b[32m[I 2023-03-02 18:01:57,164]\u001b[0m Trial 51 finished with value: 0.8801893022859272 and parameters: {'units_1': 34, 'units_2': 20, 'alpha_1': 0.05921875000000001, 'alpha_2': 0.04515625000000001, 'dropout_1': 0.40156250000000004, 'dropout_2': 0.4484375, 'l2_kern_1': 1.1139738599948017e-05, 'l2_kern_2': 0.0012863969449369746, 'l2_bias_1': 6.264335366568851e-05, 'l2_bias_2': 0.004697588816706492, 'lr': 0.0024478731426752073, 'batch_size': 256}. Best is trial 46 with value: 0.884309385635374.\u001b[0m\n",
      "C:\\Users\\User\\AppData\\Local\\Temp\\ipykernel_5968\\4154129606.py:46: DeprecationWarning: KerasClassifier is deprecated, use Sci-Keras (https://github.com/adriangb/scikeras) instead. See https://www.adriangb.com/scikeras/stable/migration.html for help migrating.\n",
      "  ('classifier', KerasClassifier(build_fn=self.create_model, verbose=0))\n",
      "\u001b[33m[W 2023-03-02 18:01:57,166]\u001b[0m The parameter 'batch_size' in trial#52 is sampled independently by using `RandomSampler` instead of `QMCSampler` (optimization performance may be degraded). `QMCSampler` does not support dynamic search space or `CategoricalDistribution`. You can suppress this warning by setting `warn_independent_sampling` to `False` in the constructor of `QMCSampler`, if this independent sampling is intended behavior.\u001b[0m\n"
     ]
    },
    {
     "name": "stdout",
     "output_type": "stream",
     "text": [
      "195/195 [==============================] - 1s 2ms/step\n",
      "195/195 [==============================] - 0s 1ms/step\n",
      "195/195 [==============================] - 0s 2ms/step\n"
     ]
    },
    {
     "name": "stderr",
     "output_type": "stream",
     "text": [
      "\u001b[32m[I 2023-03-02 18:02:30,240]\u001b[0m Trial 52 finished with value: 0.8337359318309927 and parameters: {'units_1': 14, 'units_2': 40, 'alpha_1': 0.01421875, 'alpha_2': 0.09015625000000001, 'dropout_1': 0.2515625, 'dropout_2': 0.2984375, 'l2_kern_1': 0.0003522694651473102, 'l2_kern_2': 4.0679443210830444e-05, 'l2_bias_1': 0.001980956778550339, 'l2_bias_2': 0.0001485508017172774, 'lr': 0.00017309076986700653, 'batch_size': 1024}. Best is trial 46 with value: 0.884309385635374.\u001b[0m\n",
      "C:\\Users\\User\\AppData\\Local\\Temp\\ipykernel_5968\\4154129606.py:46: DeprecationWarning: KerasClassifier is deprecated, use Sci-Keras (https://github.com/adriangb/scikeras) instead. See https://www.adriangb.com/scikeras/stable/migration.html for help migrating.\n",
      "  ('classifier', KerasClassifier(build_fn=self.create_model, verbose=0))\n",
      "\u001b[33m[W 2023-03-02 18:02:30,244]\u001b[0m The parameter 'batch_size' in trial#53 is sampled independently by using `RandomSampler` instead of `QMCSampler` (optimization performance may be degraded). `QMCSampler` does not support dynamic search space or `CategoricalDistribution`. You can suppress this warning by setting `warn_independent_sampling` to `False` in the constructor of `QMCSampler`, if this independent sampling is intended behavior.\u001b[0m\n"
     ]
    },
    {
     "name": "stdout",
     "output_type": "stream",
     "text": [
      "195/195 [==============================] - 0s 2ms/step\n",
      "195/195 [==============================] - 0s 2ms/step\n",
      "195/195 [==============================] - 0s 2ms/step\n"
     ]
    },
    {
     "name": "stderr",
     "output_type": "stream",
     "text": [
      "\u001b[32m[I 2023-03-02 18:02:56,625]\u001b[0m Trial 53 finished with value: 0.8638530109364346 and parameters: {'units_1': 19, 'units_2': 16, 'alpha_1': 0.047968750000000004, 'alpha_2': 0.07890625, 'dropout_1': 0.21406250000000002, 'dropout_2': 0.2609375, 'l2_kern_1': 2.6416483203860905e-05, 'l2_kern_2': 0.0005424690937011326, 'l2_bias_1': 0.0001485508017172774, 'l2_bias_2': 0.0003522694651473102, 'lr': 0.0012622929537468787, 'batch_size': 1024}. Best is trial 46 with value: 0.884309385635374.\u001b[0m\n",
      "C:\\Users\\User\\AppData\\Local\\Temp\\ipykernel_5968\\4154129606.py:46: DeprecationWarning: KerasClassifier is deprecated, use Sci-Keras (https://github.com/adriangb/scikeras) instead. See https://www.adriangb.com/scikeras/stable/migration.html for help migrating.\n",
      "  ('classifier', KerasClassifier(build_fn=self.create_model, verbose=0))\n",
      "\u001b[33m[W 2023-03-02 18:02:56,631]\u001b[0m The parameter 'batch_size' in trial#54 is sampled independently by using `RandomSampler` instead of `QMCSampler` (optimization performance may be degraded). `QMCSampler` does not support dynamic search space or `CategoricalDistribution`. You can suppress this warning by setting `warn_independent_sampling` to `False` in the constructor of `QMCSampler`, if this independent sampling is intended behavior.\u001b[0m\n"
     ]
    },
    {
     "name": "stdout",
     "output_type": "stream",
     "text": [
      "195/195 [==============================] - 0s 2ms/step\n",
      "195/195 [==============================] - 0s 2ms/step\n",
      "195/195 [==============================] - 0s 2ms/step\n"
     ]
    },
    {
     "name": "stderr",
     "output_type": "stream",
     "text": [
      "\u001b[32m[I 2023-03-02 18:05:55,330]\u001b[0m Trial 54 finished with value: 0.8676810741588983 and parameters: {'units_1': 39, 'units_2': 35, 'alpha_1': 0.09296875, 'alpha_2': 0.033906250000000006, 'dropout_1': 0.3640625, 'dropout_2': 0.4109375, 'l2_kern_1': 0.0008353625469578262, 'l2_kern_2': 1.715437896342878e-05, 'l2_bias_1': 0.004697588816706492, 'l2_bias_2': 1.1139738599948017e-05, 'lr': 8.925759074384164e-05, 'batch_size': 32}. Best is trial 46 with value: 0.884309385635374.\u001b[0m\n",
      "C:\\Users\\User\\AppData\\Local\\Temp\\ipykernel_5968\\4154129606.py:46: DeprecationWarning: KerasClassifier is deprecated, use Sci-Keras (https://github.com/adriangb/scikeras) instead. See https://www.adriangb.com/scikeras/stable/migration.html for help migrating.\n",
      "  ('classifier', KerasClassifier(build_fn=self.create_model, verbose=0))\n",
      "\u001b[33m[W 2023-03-02 18:05:55,336]\u001b[0m The parameter 'batch_size' in trial#55 is sampled independently by using `RandomSampler` instead of `QMCSampler` (optimization performance may be degraded). `QMCSampler` does not support dynamic search space or `CategoricalDistribution`. You can suppress this warning by setting `warn_independent_sampling` to `False` in the constructor of `QMCSampler`, if this independent sampling is intended behavior.\u001b[0m\n"
     ]
    },
    {
     "name": "stdout",
     "output_type": "stream",
     "text": [
      "195/195 [==============================] - 0s 2ms/step\n",
      "195/195 [==============================] - 0s 2ms/step\n",
      "195/195 [==============================] - 0s 2ms/step\n"
     ]
    },
    {
     "name": "stderr",
     "output_type": "stream",
     "text": [
      "\u001b[32m[I 2023-03-02 18:06:34,407]\u001b[0m Trial 55 finished with value: 0.8562103392344818 and parameters: {'units_1': 29, 'units_2': 6, 'alpha_1': 0.025468750000000002, 'alpha_2': 0.056406250000000005, 'dropout_1': 0.4390625, 'dropout_2': 0.4859375, 'l2_kern_1': 0.0001485508017172774, 'l2_kern_2': 9.646616199112003e-05, 'l2_bias_1': 0.0008353625469578262, 'l2_bias_2': 6.264335366568851e-05, 'lr': 0.00033566237183273005, 'batch_size': 256}. Best is trial 46 with value: 0.884309385635374.\u001b[0m\n",
      "C:\\Users\\User\\AppData\\Local\\Temp\\ipykernel_5968\\4154129606.py:46: DeprecationWarning: KerasClassifier is deprecated, use Sci-Keras (https://github.com/adriangb/scikeras) instead. See https://www.adriangb.com/scikeras/stable/migration.html for help migrating.\n",
      "  ('classifier', KerasClassifier(build_fn=self.create_model, verbose=0))\n",
      "\u001b[33m[W 2023-03-02 18:06:34,409]\u001b[0m The parameter 'batch_size' in trial#56 is sampled independently by using `RandomSampler` instead of `QMCSampler` (optimization performance may be degraded). `QMCSampler` does not support dynamic search space or `CategoricalDistribution`. You can suppress this warning by setting `warn_independent_sampling` to `False` in the constructor of `QMCSampler`, if this independent sampling is intended behavior.\u001b[0m\n"
     ]
    },
    {
     "name": "stdout",
     "output_type": "stream",
     "text": [
      "195/195 [==============================] - 0s 2ms/step\n",
      "195/195 [==============================] - 0s 2ms/step\n",
      "195/195 [==============================] - 0s 2ms/step\n"
     ]
    },
    {
     "name": "stderr",
     "output_type": "stream",
     "text": [
      "\u001b[32m[I 2023-03-02 18:07:12,590]\u001b[0m Trial 56 finished with value: 0.8598221961577043 and parameters: {'units_1': 9, 'units_2': 25, 'alpha_1': 0.07046875000000001, 'alpha_2': 0.01140625, 'dropout_1': 0.2890625, 'dropout_2': 0.3359375, 'l2_kern_1': 0.004697588816706492, 'l2_kern_2': 0.003050527890267026, 'l2_bias_1': 2.6416483203860905e-05, 'l2_bias_2': 0.001980956778550339, 'lr': 0.004746982786241673, 'batch_size': 64}. Best is trial 46 with value: 0.884309385635374.\u001b[0m\n",
      "C:\\Users\\User\\AppData\\Local\\Temp\\ipykernel_5968\\4154129606.py:46: DeprecationWarning: KerasClassifier is deprecated, use Sci-Keras (https://github.com/adriangb/scikeras) instead. See https://www.adriangb.com/scikeras/stable/migration.html for help migrating.\n",
      "  ('classifier', KerasClassifier(build_fn=self.create_model, verbose=0))\n",
      "\u001b[33m[W 2023-03-02 18:07:12,592]\u001b[0m The parameter 'batch_size' in trial#57 is sampled independently by using `RandomSampler` instead of `QMCSampler` (optimization performance may be degraded). `QMCSampler` does not support dynamic search space or `CategoricalDistribution`. You can suppress this warning by setting `warn_independent_sampling` to `False` in the constructor of `QMCSampler`, if this independent sampling is intended behavior.\u001b[0m\n"
     ]
    },
    {
     "name": "stdout",
     "output_type": "stream",
     "text": [
      "195/195 [==============================] - 0s 1ms/step\n",
      "195/195 [==============================] - 0s 2ms/step\n",
      "195/195 [==============================] - 0s 2ms/step\n"
     ]
    },
    {
     "name": "stderr",
     "output_type": "stream",
     "text": [
      "\u001b[32m[I 2023-03-02 18:07:28,380]\u001b[0m Trial 57 finished with value: 0.8426359959808476 and parameters: {'units_1': 7, 'units_2': 18, 'alpha_1': 0.031093750000000003, 'alpha_2': 0.039531250000000004, 'dropout_1': 0.4953125, 'dropout_2': 0.2796875, 'l2_kern_1': 4.0679443210830444e-05, 'l2_kern_2': 0.0003522694651473102, 'l2_bias_1': 0.0002287573200318398, 'l2_bias_2': 0.0002287573200318398, 'lr': 0.00340881382172487, 'batch_size': 1024}. Best is trial 46 with value: 0.884309385635374.\u001b[0m\n",
      "C:\\Users\\User\\AppData\\Local\\Temp\\ipykernel_5968\\4154129606.py:46: DeprecationWarning: KerasClassifier is deprecated, use Sci-Keras (https://github.com/adriangb/scikeras) instead. See https://www.adriangb.com/scikeras/stable/migration.html for help migrating.\n",
      "  ('classifier', KerasClassifier(build_fn=self.create_model, verbose=0))\n",
      "\u001b[33m[W 2023-03-02 18:07:28,385]\u001b[0m The parameter 'batch_size' in trial#58 is sampled independently by using `RandomSampler` instead of `QMCSampler` (optimization performance may be degraded). `QMCSampler` does not support dynamic search space or `CategoricalDistribution`. You can suppress this warning by setting `warn_independent_sampling` to `False` in the constructor of `QMCSampler`, if this independent sampling is intended behavior.\u001b[0m\n"
     ]
    },
    {
     "name": "stdout",
     "output_type": "stream",
     "text": [
      "195/195 [==============================] - 0s 2ms/step\n",
      "195/195 [==============================] - 0s 2ms/step\n",
      "195/195 [==============================] - 0s 2ms/step\n"
     ]
    },
    {
     "name": "stderr",
     "output_type": "stream",
     "text": [
      "\u001b[32m[I 2023-03-02 18:13:09,629]\u001b[0m Trial 58 finished with value: 0.875996125016871 and parameters: {'units_1': 26, 'units_2': 37, 'alpha_1': 0.07609375, 'alpha_2': 0.08453125, 'dropout_1': 0.3453125, 'dropout_2': 0.4296875, 'l2_kern_1': 0.0012863969449369746, 'l2_kern_2': 1.1139738599948017e-05, 'l2_bias_1': 0.007233941627366748, 'l2_bias_2': 0.007233941627366748, 'lr': 0.0002410395369144086, 'batch_size': 16}. Best is trial 46 with value: 0.884309385635374.\u001b[0m\n",
      "C:\\Users\\User\\AppData\\Local\\Temp\\ipykernel_5968\\4154129606.py:46: DeprecationWarning: KerasClassifier is deprecated, use Sci-Keras (https://github.com/adriangb/scikeras) instead. See https://www.adriangb.com/scikeras/stable/migration.html for help migrating.\n",
      "  ('classifier', KerasClassifier(build_fn=self.create_model, verbose=0))\n",
      "\u001b[33m[W 2023-03-02 18:13:09,633]\u001b[0m The parameter 'batch_size' in trial#59 is sampled independently by using `RandomSampler` instead of `QMCSampler` (optimization performance may be degraded). `QMCSampler` does not support dynamic search space or `CategoricalDistribution`. You can suppress this warning by setting `warn_independent_sampling` to `False` in the constructor of `QMCSampler`, if this independent sampling is intended behavior.\u001b[0m\n"
     ]
    },
    {
     "name": "stdout",
     "output_type": "stream",
     "text": [
      "195/195 [==============================] - 0s 2ms/step\n",
      "195/195 [==============================] - 0s 2ms/step\n",
      "195/195 [==============================] - 0s 2ms/step\n"
     ]
    },
    {
     "name": "stderr",
     "output_type": "stream",
     "text": [
      "\u001b[32m[I 2023-03-02 18:14:03,077]\u001b[0m Trial 59 finished with value: 0.8436333129728806 and parameters: {'units_1': 36, 'units_2': 8, 'alpha_1': 0.05359375000000001, 'alpha_2': 0.01703125, 'dropout_1': 0.2703125, 'dropout_2': 0.35468750000000004, 'l2_kern_1': 0.0002287573200318398, 'l2_kern_2': 6.264335366568851e-05, 'l2_bias_1': 0.0012863969449369746, 'l2_bias_2': 0.0012863969449369746, 'lr': 6.409597900867102e-05, 'batch_size': 256}. Best is trial 46 with value: 0.884309385635374.\u001b[0m\n",
      "C:\\Users\\User\\AppData\\Local\\Temp\\ipykernel_5968\\4154129606.py:46: DeprecationWarning: KerasClassifier is deprecated, use Sci-Keras (https://github.com/adriangb/scikeras) instead. See https://www.adriangb.com/scikeras/stable/migration.html for help migrating.\n",
      "  ('classifier', KerasClassifier(build_fn=self.create_model, verbose=0))\n",
      "\u001b[33m[W 2023-03-02 18:14:03,083]\u001b[0m The parameter 'batch_size' in trial#60 is sampled independently by using `RandomSampler` instead of `QMCSampler` (optimization performance may be degraded). `QMCSampler` does not support dynamic search space or `CategoricalDistribution`. You can suppress this warning by setting `warn_independent_sampling` to `False` in the constructor of `QMCSampler`, if this independent sampling is intended behavior.\u001b[0m\n"
     ]
    },
    {
     "name": "stdout",
     "output_type": "stream",
     "text": [
      "195/195 [==============================] - 0s 2ms/step\n",
      "195/195 [==============================] - 0s 1ms/step\n",
      "195/195 [==============================] - 0s 2ms/step\n"
     ]
    },
    {
     "name": "stderr",
     "output_type": "stream",
     "text": [
      "\u001b[32m[I 2023-03-02 18:15:44,089]\u001b[0m Trial 60 finished with value: 0.8644751636995816 and parameters: {'units_1': 17, 'units_2': 28, 'alpha_1': 0.09859375000000001, 'alpha_2': 0.06203125000000001, 'dropout_1': 0.4203125, 'dropout_2': 0.20468750000000002, 'l2_kern_1': 0.007233941627366748, 'l2_kern_2': 0.001980956778550339, 'l2_bias_1': 4.0679443210830444e-05, 'l2_bias_2': 4.0679443210830444e-05, 'lr': 0.0009064540280764379, 'batch_size': 64}. Best is trial 46 with value: 0.884309385635374.\u001b[0m\n",
      "C:\\Users\\User\\AppData\\Local\\Temp\\ipykernel_5968\\4154129606.py:46: DeprecationWarning: KerasClassifier is deprecated, use Sci-Keras (https://github.com/adriangb/scikeras) instead. See https://www.adriangb.com/scikeras/stable/migration.html for help migrating.\n",
      "  ('classifier', KerasClassifier(build_fn=self.create_model, verbose=0))\n",
      "\u001b[33m[W 2023-03-02 18:15:44,092]\u001b[0m The parameter 'batch_size' in trial#61 is sampled independently by using `RandomSampler` instead of `QMCSampler` (optimization performance may be degraded). `QMCSampler` does not support dynamic search space or `CategoricalDistribution`. You can suppress this warning by setting `warn_independent_sampling` to `False` in the constructor of `QMCSampler`, if this independent sampling is intended behavior.\u001b[0m\n"
     ]
    },
    {
     "name": "stdout",
     "output_type": "stream",
     "text": [
      "195/195 [==============================] - 0s 2ms/step\n",
      "195/195 [==============================] - 0s 2ms/step\n",
      "195/195 [==============================] - 0s 2ms/step\n"
     ]
    },
    {
     "name": "stderr",
     "output_type": "stream",
     "text": [
      "\u001b[32m[I 2023-03-02 18:18:43,219]\u001b[0m Trial 61 finished with value: 0.8457779197665477 and parameters: {'units_1': 12, 'units_2': 3, 'alpha_1': 0.06484375, 'alpha_2': 0.07328125, 'dropout_1': 0.3828125, 'dropout_2': 0.3171875, 'l2_kern_1': 9.646616199112003e-05, 'l2_kern_2': 0.0001485508017172774, 'l2_bias_1': 0.0005424690937011326, 'l2_bias_2': 0.003050527890267026, 'lr': 0.00012429668176715627, 'batch_size': 16}. Best is trial 46 with value: 0.884309385635374.\u001b[0m\n",
      "C:\\Users\\User\\AppData\\Local\\Temp\\ipykernel_5968\\4154129606.py:46: DeprecationWarning: KerasClassifier is deprecated, use Sci-Keras (https://github.com/adriangb/scikeras) instead. See https://www.adriangb.com/scikeras/stable/migration.html for help migrating.\n",
      "  ('classifier', KerasClassifier(build_fn=self.create_model, verbose=0))\n",
      "\u001b[33m[W 2023-03-02 18:18:43,225]\u001b[0m The parameter 'batch_size' in trial#62 is sampled independently by using `RandomSampler` instead of `QMCSampler` (optimization performance may be degraded). `QMCSampler` does not support dynamic search space or `CategoricalDistribution`. You can suppress this warning by setting `warn_independent_sampling` to `False` in the constructor of `QMCSampler`, if this independent sampling is intended behavior.\u001b[0m\n"
     ]
    },
    {
     "name": "stdout",
     "output_type": "stream",
     "text": [
      "195/195 [==============================] - 0s 1ms/step\n",
      "195/195 [==============================] - 0s 2ms/step\n",
      "195/195 [==============================] - 0s 2ms/step\n"
     ]
    },
    {
     "name": "stderr",
     "output_type": "stream",
     "text": [
      "\u001b[32m[I 2023-03-02 18:19:09,071]\u001b[0m Trial 62 finished with value: 0.8602588204562448 and parameters: {'units_1': 31, 'units_2': 23, 'alpha_1': 0.01984375, 'alpha_2': 0.02828125, 'dropout_1': 0.2328125, 'dropout_2': 0.4671875, 'l2_kern_1': 0.003050527890267026, 'l2_kern_2': 0.004697588816706492, 'l2_bias_1': 1.715437896342878e-05, 'l2_bias_2': 9.646616199112003e-05, 'lr': 0.0017578205311308505, 'batch_size': 1024}. Best is trial 46 with value: 0.884309385635374.\u001b[0m\n",
      "C:\\Users\\User\\AppData\\Local\\Temp\\ipykernel_5968\\4154129606.py:46: DeprecationWarning: KerasClassifier is deprecated, use Sci-Keras (https://github.com/adriangb/scikeras) instead. See https://www.adriangb.com/scikeras/stable/migration.html for help migrating.\n",
      "  ('classifier', KerasClassifier(build_fn=self.create_model, verbose=0))\n",
      "\u001b[33m[W 2023-03-02 18:19:09,074]\u001b[0m The parameter 'batch_size' in trial#63 is sampled independently by using `RandomSampler` instead of `QMCSampler` (optimization performance may be degraded). `QMCSampler` does not support dynamic search space or `CategoricalDistribution`. You can suppress this warning by setting `warn_independent_sampling` to `False` in the constructor of `QMCSampler`, if this independent sampling is intended behavior.\u001b[0m\n"
     ]
    },
    {
     "name": "stdout",
     "output_type": "stream",
     "text": [
      "195/195 [==============================] - 0s 2ms/step\n",
      "195/195 [==============================] - 0s 2ms/step\n",
      "195/195 [==============================] - 0s 2ms/step\n"
     ]
    },
    {
     "name": "stderr",
     "output_type": "stream",
     "text": [
      "\u001b[32m[I 2023-03-02 18:21:14,430]\u001b[0m Trial 63 finished with value: 0.8692774580975563 and parameters: {'units_1': 22, 'units_2': 13, 'alpha_1': 0.08734375, 'alpha_2': 0.09578125, 'dropout_1': 0.3078125, 'dropout_2': 0.3921875, 'l2_kern_1': 1.715437896342878e-05, 'l2_kern_2': 0.0008353625469578262, 'l2_bias_1': 9.646616199112003e-05, 'l2_bias_2': 1.715437896342878e-05, 'lr': 0.006610465326461444, 'batch_size': 16}. Best is trial 46 with value: 0.884309385635374.\u001b[0m\n",
      "C:\\Users\\User\\AppData\\Local\\Temp\\ipykernel_5968\\4154129606.py:46: DeprecationWarning: KerasClassifier is deprecated, use Sci-Keras (https://github.com/adriangb/scikeras) instead. See https://www.adriangb.com/scikeras/stable/migration.html for help migrating.\n",
      "  ('classifier', KerasClassifier(build_fn=self.create_model, verbose=0))\n",
      "\u001b[33m[W 2023-03-02 18:21:14,434]\u001b[0m The parameter 'batch_size' in trial#64 is sampled independently by using `RandomSampler` instead of `QMCSampler` (optimization performance may be degraded). `QMCSampler` does not support dynamic search space or `CategoricalDistribution`. You can suppress this warning by setting `warn_independent_sampling` to `False` in the constructor of `QMCSampler`, if this independent sampling is intended behavior.\u001b[0m\n"
     ]
    },
    {
     "name": "stdout",
     "output_type": "stream",
     "text": [
      "195/195 [==============================] - 0s 2ms/step\n",
      "195/195 [==============================] - 0s 2ms/step\n",
      "195/195 [==============================] - 0s 1ms/step\n"
     ]
    },
    {
     "name": "stderr",
     "output_type": "stream",
     "text": [
      "\u001b[32m[I 2023-03-02 18:22:18,878]\u001b[0m Trial 64 finished with value: 0.840277133527839 and parameters: {'units_1': 2, 'units_2': 33, 'alpha_1': 0.042343750000000006, 'alpha_2': 0.05078125000000001, 'dropout_1': 0.4578125, 'dropout_2': 0.2421875, 'l2_kern_1': 0.0005424690937011326, 'l2_kern_2': 2.6416483203860905e-05, 'l2_bias_1': 0.003050527890267026, 'l2_bias_2': 0.0005424690937011326, 'lr': 0.00046743048591394305, 'batch_size': 64}. Best is trial 46 with value: 0.884309385635374.\u001b[0m\n",
      "C:\\Users\\User\\AppData\\Local\\Temp\\ipykernel_5968\\4154129606.py:46: DeprecationWarning: KerasClassifier is deprecated, use Sci-Keras (https://github.com/adriangb/scikeras) instead. See https://www.adriangb.com/scikeras/stable/migration.html for help migrating.\n",
      "  ('classifier', KerasClassifier(build_fn=self.create_model, verbose=0))\n",
      "\u001b[33m[W 2023-03-02 18:22:18,880]\u001b[0m The parameter 'batch_size' in trial#65 is sampled independently by using `RandomSampler` instead of `QMCSampler` (optimization performance may be degraded). `QMCSampler` does not support dynamic search space or `CategoricalDistribution`. You can suppress this warning by setting `warn_independent_sampling` to `False` in the constructor of `QMCSampler`, if this independent sampling is intended behavior.\u001b[0m\n"
     ]
    },
    {
     "name": "stdout",
     "output_type": "stream",
     "text": [
      "195/195 [==============================] - 0s 2ms/step\n",
      "195/195 [==============================] - 0s 2ms/step\n",
      "195/195 [==============================] - 0s 2ms/step\n"
     ]
    },
    {
     "name": "stderr",
     "output_type": "stream",
     "text": [
      "\u001b[32m[I 2023-03-02 18:23:43,189]\u001b[0m Trial 65 finished with value: 0.8456021894415796 and parameters: {'units_1': 2, 'units_2': 17, 'alpha_1': 0.083828125, 'alpha_2': 0.085234375, 'dropout_1': 0.39453125, 'dropout_2': 0.33359375, 'l2_kern_1': 0.000982171889188038, 'l2_kern_2': 4.293510210083482e-05, 'l2_bias_1': 0.0016848548794358386, 'l2_bias_2': 2.2467900918126424e-05, 'lr': 0.007484493613013314, 'batch_size': 16}. Best is trial 46 with value: 0.884309385635374.\u001b[0m\n",
      "C:\\Users\\User\\AppData\\Local\\Temp\\ipykernel_5968\\4154129606.py:46: DeprecationWarning: KerasClassifier is deprecated, use Sci-Keras (https://github.com/adriangb/scikeras) instead. See https://www.adriangb.com/scikeras/stable/migration.html for help migrating.\n",
      "  ('classifier', KerasClassifier(build_fn=self.create_model, verbose=0))\n",
      "\u001b[33m[W 2023-03-02 18:23:43,191]\u001b[0m The parameter 'batch_size' in trial#66 is sampled independently by using `RandomSampler` instead of `QMCSampler` (optimization performance may be degraded). `QMCSampler` does not support dynamic search space or `CategoricalDistribution`. You can suppress this warning by setting `warn_independent_sampling` to `False` in the constructor of `QMCSampler`, if this independent sampling is intended behavior.\u001b[0m\n"
     ]
    },
    {
     "name": "stdout",
     "output_type": "stream",
     "text": [
      "195/195 [==============================] - 0s 2ms/step\n",
      "195/195 [==============================] - 0s 1ms/step\n",
      "195/195 [==============================] - 0s 2ms/step\n"
     ]
    },
    {
     "name": "stderr",
     "output_type": "stream",
     "text": [
      "\u001b[32m[I 2023-03-02 18:25:45,727]\u001b[0m Trial 66 finished with value: 0.8723013633399249 and parameters: {'units_1': 22, 'units_2': 37, 'alpha_1': 0.038828125000000005, 'alpha_2': 0.040234375, 'dropout_1': 0.24453125, 'dropout_2': 0.48359375, 'l2_kern_1': 3.105900223624704e-05, 'l2_kern_2': 0.0013577271421051837, 'l2_bias_1': 5.3279789458656456e-05, 'l2_bias_2': 0.0007104974114426786, 'lr': 0.0005292336187509121, 'batch_size': 32}. Best is trial 46 with value: 0.884309385635374.\u001b[0m\n",
      "C:\\Users\\User\\AppData\\Local\\Temp\\ipykernel_5968\\4154129606.py:46: DeprecationWarning: KerasClassifier is deprecated, use Sci-Keras (https://github.com/adriangb/scikeras) instead. See https://www.adriangb.com/scikeras/stable/migration.html for help migrating.\n",
      "  ('classifier', KerasClassifier(build_fn=self.create_model, verbose=0))\n",
      "\u001b[33m[W 2023-03-02 18:25:45,730]\u001b[0m The parameter 'batch_size' in trial#67 is sampled independently by using `RandomSampler` instead of `QMCSampler` (optimization performance may be degraded). `QMCSampler` does not support dynamic search space or `CategoricalDistribution`. You can suppress this warning by setting `warn_independent_sampling` to `False` in the constructor of `QMCSampler`, if this independent sampling is intended behavior.\u001b[0m\n"
     ]
    },
    {
     "name": "stdout",
     "output_type": "stream",
     "text": [
      "195/195 [==============================] - 0s 1ms/step\n",
      "195/195 [==============================] - 0s 1ms/step\n",
      "195/195 [==============================] - 0s 2ms/step\n"
     ]
    },
    {
     "name": "stderr",
     "output_type": "stream",
     "text": [
      "\u001b[32m[I 2023-03-02 18:26:21,604]\u001b[0m Trial 67 finished with value: 0.8432169759109467 and parameters: {'units_1': 32, 'units_2': 7, 'alpha_1': 0.06132812500000001, 'alpha_2': 0.06273437500000001, 'dropout_1': 0.31953125, 'dropout_2': 0.40859375, 'l2_kern_1': 0.0055231584173071, 'l2_kern_2': 0.007635060803383351, 'l2_bias_1': 0.0002996142741004366, 'l2_bias_2': 0.003995420558949889, 'lr': 0.0001407310491564162, 'batch_size': 512}. Best is trial 46 with value: 0.884309385635374.\u001b[0m\n",
      "C:\\Users\\User\\AppData\\Local\\Temp\\ipykernel_5968\\4154129606.py:46: DeprecationWarning: KerasClassifier is deprecated, use Sci-Keras (https://github.com/adriangb/scikeras) instead. See https://www.adriangb.com/scikeras/stable/migration.html for help migrating.\n",
      "  ('classifier', KerasClassifier(build_fn=self.create_model, verbose=0))\n",
      "\u001b[33m[W 2023-03-02 18:26:21,607]\u001b[0m The parameter 'batch_size' in trial#68 is sampled independently by using `RandomSampler` instead of `QMCSampler` (optimization performance may be degraded). `QMCSampler` does not support dynamic search space or `CategoricalDistribution`. You can suppress this warning by setting `warn_independent_sampling` to `False` in the constructor of `QMCSampler`, if this independent sampling is intended behavior.\u001b[0m\n"
     ]
    },
    {
     "name": "stdout",
     "output_type": "stream",
     "text": [
      "195/195 [==============================] - 0s 2ms/step\n",
      "195/195 [==============================] - 0s 2ms/step\n",
      "195/195 [==============================] - 1s 2ms/step\n"
     ]
    },
    {
     "name": "stderr",
     "output_type": "stream",
     "text": [
      "\u001b[32m[I 2023-03-02 18:26:52,273]\u001b[0m Trial 68 finished with value: 0.8498869342338841 and parameters: {'units_1': 12, 'units_2': 27, 'alpha_1': 0.016328125, 'alpha_2': 0.017734375, 'dropout_1': 0.46953125, 'dropout_2': 0.25859375, 'l2_kern_1': 0.0001746576047662117, 'l2_kern_2': 0.00024144182212566391, 'l2_bias_1': 0.009474635256553761, 'l2_bias_2': 0.00012634629176544695, 'lr': 0.0019902375836399855, 'batch_size': 128}. Best is trial 46 with value: 0.884309385635374.\u001b[0m\n",
      "C:\\Users\\User\\AppData\\Local\\Temp\\ipykernel_5968\\4154129606.py:46: DeprecationWarning: KerasClassifier is deprecated, use Sci-Keras (https://github.com/adriangb/scikeras) instead. See https://www.adriangb.com/scikeras/stable/migration.html for help migrating.\n",
      "  ('classifier', KerasClassifier(build_fn=self.create_model, verbose=0))\n",
      "\u001b[33m[W 2023-03-02 18:26:52,277]\u001b[0m The parameter 'batch_size' in trial#69 is sampled independently by using `RandomSampler` instead of `QMCSampler` (optimization performance may be degraded). `QMCSampler` does not support dynamic search space or `CategoricalDistribution`. You can suppress this warning by setting `warn_independent_sampling` to `False` in the constructor of `QMCSampler`, if this independent sampling is intended behavior.\u001b[0m\n"
     ]
    },
    {
     "name": "stdout",
     "output_type": "stream",
     "text": [
      "195/195 [==============================] - 0s 1ms/step\n",
      "195/195 [==============================] - 0s 2ms/step\n",
      "195/195 [==============================] - 0s 2ms/step\n"
     ]
    },
    {
     "name": "stderr",
     "output_type": "stream",
     "text": [
      "\u001b[32m[I 2023-03-02 18:30:20,001]\u001b[0m Trial 69 finished with value: 0.844725374163902 and parameters: {'units_1': 17, 'units_2': 2, 'alpha_1': 0.05007812500000001, 'alpha_2': 0.028984375, 'dropout_1': 0.43203125, 'dropout_2': 0.29609375, 'l2_kern_1': 0.0023290965924605465, 'l2_kern_2': 0.0032196784442513815, 'l2_bias_1': 0.00012634629176544695, 'l2_bias_2': 0.0016848548794358386, 'lr': 7.257067722447755e-05, 'batch_size': 16}. Best is trial 46 with value: 0.884309385635374.\u001b[0m\n",
      "C:\\Users\\User\\AppData\\Local\\Temp\\ipykernel_5968\\4154129606.py:46: DeprecationWarning: KerasClassifier is deprecated, use Sci-Keras (https://github.com/adriangb/scikeras) instead. See https://www.adriangb.com/scikeras/stable/migration.html for help migrating.\n",
      "  ('classifier', KerasClassifier(build_fn=self.create_model, verbose=0))\n",
      "\u001b[33m[W 2023-03-02 18:30:20,008]\u001b[0m The parameter 'batch_size' in trial#70 is sampled independently by using `RandomSampler` instead of `QMCSampler` (optimization performance may be degraded). `QMCSampler` does not support dynamic search space or `CategoricalDistribution`. You can suppress this warning by setting `warn_independent_sampling` to `False` in the constructor of `QMCSampler`, if this independent sampling is intended behavior.\u001b[0m\n"
     ]
    },
    {
     "name": "stdout",
     "output_type": "stream",
     "text": [
      "195/195 [==============================] - 0s 2ms/step\n",
      "195/195 [==============================] - 0s 2ms/step\n",
      "195/195 [==============================] - 0s 2ms/step\n"
     ]
    },
    {
     "name": "stderr",
     "output_type": "stream",
     "text": [
      "\u001b[32m[I 2023-03-02 18:31:01,663]\u001b[0m Trial 70 finished with value: 0.8731223613059953 and parameters: {'units_1': 37, 'units_2': 22, 'alpha_1': 0.095078125, 'alpha_2': 0.073984375, 'dropout_1': 0.28203125, 'dropout_2': 0.44609375, 'l2_kern_1': 7.365250122712277e-05, 'l2_kern_2': 0.00010181517217181818, 'l2_bias_1': 0.003995420558949889, 'l2_bias_2': 5.3279789458656456e-05, 'lr': 0.0010263043596145647, 'batch_size': 512}. Best is trial 46 with value: 0.884309385635374.\u001b[0m\n",
      "C:\\Users\\User\\AppData\\Local\\Temp\\ipykernel_5968\\4154129606.py:46: DeprecationWarning: KerasClassifier is deprecated, use Sci-Keras (https://github.com/adriangb/scikeras) instead. See https://www.adriangb.com/scikeras/stable/migration.html for help migrating.\n",
      "  ('classifier', KerasClassifier(build_fn=self.create_model, verbose=0))\n",
      "\u001b[33m[W 2023-03-02 18:31:01,667]\u001b[0m The parameter 'batch_size' in trial#71 is sampled independently by using `RandomSampler` instead of `QMCSampler` (optimization performance may be degraded). `QMCSampler` does not support dynamic search space or `CategoricalDistribution`. You can suppress this warning by setting `warn_independent_sampling` to `False` in the constructor of `QMCSampler`, if this independent sampling is intended behavior.\u001b[0m\n"
     ]
    },
    {
     "name": "stdout",
     "output_type": "stream",
     "text": [
      "195/195 [==============================] - 0s 2ms/step\n",
      "195/195 [==============================] - 0s 2ms/step\n",
      "195/195 [==============================] - 0s 2ms/step\n"
     ]
    },
    {
     "name": "stderr",
     "output_type": "stream",
     "text": [
      "\u001b[32m[I 2023-03-02 18:32:28,285]\u001b[0m Trial 71 finished with value: 0.8787185683082894 and parameters: {'units_1': 27, 'units_2': 12, 'alpha_1': 0.027578125000000002, 'alpha_2': 0.051484375000000006, 'dropout_1': 0.20703125, 'dropout_2': 0.37109375, 'l2_kern_1': 0.00041417845143644066, 'l2_kern_2': 1.8105582430271218e-05, 'l2_bias_1': 0.0007104974114426786, 'l2_bias_2': 0.0002996142741004366, 'lr': 0.0038595233492145792, 'batch_size': 32}. Best is trial 46 with value: 0.884309385635374.\u001b[0m\n",
      "C:\\Users\\User\\AppData\\Local\\Temp\\ipykernel_5968\\4154129606.py:46: DeprecationWarning: KerasClassifier is deprecated, use Sci-Keras (https://github.com/adriangb/scikeras) instead. See https://www.adriangb.com/scikeras/stable/migration.html for help migrating.\n",
      "  ('classifier', KerasClassifier(build_fn=self.create_model, verbose=0))\n",
      "\u001b[33m[W 2023-03-02 18:32:28,291]\u001b[0m The parameter 'batch_size' in trial#72 is sampled independently by using `RandomSampler` instead of `QMCSampler` (optimization performance may be degraded). `QMCSampler` does not support dynamic search space or `CategoricalDistribution`. You can suppress this warning by setting `warn_independent_sampling` to `False` in the constructor of `QMCSampler`, if this independent sampling is intended behavior.\u001b[0m\n"
     ]
    },
    {
     "name": "stdout",
     "output_type": "stream",
     "text": [
      "195/195 [==============================] - 0s 2ms/step\n",
      "195/195 [==============================] - 0s 2ms/step\n",
      "195/195 [==============================] - 0s 1ms/step\n"
     ]
    },
    {
     "name": "stderr",
     "output_type": "stream",
     "text": [
      "\u001b[32m[I 2023-03-02 18:33:31,679]\u001b[0m Trial 72 finished with value: 0.8480555062434622 and parameters: {'units_1': 7, 'units_2': 32, 'alpha_1': 0.07257812500000001, 'alpha_2': 0.09648437500000001, 'dropout_1': 0.35703125, 'dropout_2': 0.22109375, 'l2_kern_1': 1.3097472643005891e-05, 'l2_kern_2': 0.0005725487884358379, 'l2_bias_1': 2.2467900918126424e-05, 'l2_bias_2': 0.009474635256553761, 'lr': 0.0002729095132377444, 'batch_size': 64}. Best is trial 46 with value: 0.884309385635374.\u001b[0m\n",
      "C:\\Users\\User\\AppData\\Local\\Temp\\ipykernel_5968\\4154129606.py:46: DeprecationWarning: KerasClassifier is deprecated, use Sci-Keras (https://github.com/adriangb/scikeras) instead. See https://www.adriangb.com/scikeras/stable/migration.html for help migrating.\n",
      "  ('classifier', KerasClassifier(build_fn=self.create_model, verbose=0))\n",
      "\u001b[33m[W 2023-03-02 18:33:31,682]\u001b[0m The parameter 'batch_size' in trial#73 is sampled independently by using `RandomSampler` instead of `QMCSampler` (optimization performance may be degraded). `QMCSampler` does not support dynamic search space or `CategoricalDistribution`. You can suppress this warning by setting `warn_independent_sampling` to `False` in the constructor of `QMCSampler`, if this independent sampling is intended behavior.\u001b[0m\n"
     ]
    },
    {
     "name": "stdout",
     "output_type": "stream",
     "text": [
      "195/195 [==============================] - 0s 2ms/step\n",
      "195/195 [==============================] - 0s 1ms/step\n",
      "195/195 [==============================] - 0s 2ms/step\n"
     ]
    },
    {
     "name": "stderr",
     "output_type": "stream",
     "text": [
      "\u001b[32m[I 2023-03-02 18:34:07,713]\u001b[0m Trial 73 finished with value: 0.8452262823311378 and parameters: {'units_1': 10, 'units_2': 10, 'alpha_1': 0.021953125000000004, 'alpha_2': 0.068359375, 'dropout_1': 0.26328125, 'dropout_2': 0.23984375000000002, 'l2_kern_1': 0.0035866376244847696, 'l2_kern_2': 0.00209080004127872, 'l2_bias_1': 8.204696109024983e-05, 'l2_bias_2': 8.204696109024983e-05, 'lr': 0.00019597663667568819, 'batch_size': 128}. Best is trial 46 with value: 0.884309385635374.\u001b[0m\n",
      "C:\\Users\\User\\AppData\\Local\\Temp\\ipykernel_5968\\4154129606.py:46: DeprecationWarning: KerasClassifier is deprecated, use Sci-Keras (https://github.com/adriangb/scikeras) instead. See https://www.adriangb.com/scikeras/stable/migration.html for help migrating.\n",
      "  ('classifier', KerasClassifier(build_fn=self.create_model, verbose=0))\n",
      "\u001b[33m[W 2023-03-02 18:34:07,719]\u001b[0m The parameter 'batch_size' in trial#74 is sampled independently by using `RandomSampler` instead of `QMCSampler` (optimization performance may be degraded). `QMCSampler` does not support dynamic search space or `CategoricalDistribution`. You can suppress this warning by setting `warn_independent_sampling` to `False` in the constructor of `QMCSampler`, if this independent sampling is intended behavior.\u001b[0m\n"
     ]
    },
    {
     "name": "stdout",
     "output_type": "stream",
     "text": [
      "195/195 [==============================] - 0s 2ms/step\n",
      "195/195 [==============================] - 0s 2ms/step\n",
      "195/195 [==============================] - 0s 2ms/step\n"
     ]
    },
    {
     "name": "stderr",
     "output_type": "stream",
     "text": [
      "\u001b[32m[I 2023-03-02 18:34:48,366]\u001b[0m Trial 74 finished with value: 0.8789228299127512 and parameters: {'units_1': 29, 'units_2': 29, 'alpha_1': 0.066953125, 'alpha_2': 0.023359375, 'dropout_1': 0.41328125000000004, 'dropout_2': 0.38984375000000004, 'l2_kern_1': 0.00011341944035027563, 'l2_kern_2': 6.611690262414816e-05, 'l2_bias_1': 0.0025945527214040172, 'l2_bias_2': 0.0025945527214040172, 'lr': 0.0027715281749502254, 'batch_size': 256}. Best is trial 46 with value: 0.884309385635374.\u001b[0m\n",
      "C:\\Users\\User\\AppData\\Local\\Temp\\ipykernel_5968\\4154129606.py:46: DeprecationWarning: KerasClassifier is deprecated, use Sci-Keras (https://github.com/adriangb/scikeras) instead. See https://www.adriangb.com/scikeras/stable/migration.html for help migrating.\n",
      "  ('classifier', KerasClassifier(build_fn=self.create_model, verbose=0))\n",
      "\u001b[33m[W 2023-03-02 18:34:48,369]\u001b[0m The parameter 'batch_size' in trial#75 is sampled independently by using `RandomSampler` instead of `QMCSampler` (optimization performance may be degraded). `QMCSampler` does not support dynamic search space or `CategoricalDistribution`. You can suppress this warning by setting `warn_independent_sampling` to `False` in the constructor of `QMCSampler`, if this independent sampling is intended behavior.\u001b[0m\n"
     ]
    },
    {
     "name": "stdout",
     "output_type": "stream",
     "text": [
      "195/195 [==============================] - 0s 2ms/step\n",
      "195/195 [==============================] - 0s 2ms/step\n",
      "195/195 [==============================] - 0s 2ms/step\n"
     ]
    },
    {
     "name": "stderr",
     "output_type": "stream",
     "text": [
      "\u001b[32m[I 2023-03-02 18:35:31,012]\u001b[0m Trial 75 finished with value: 0.8688840230582165 and parameters: {'units_1': 39, 'units_2': 19, 'alpha_1': 0.044453125, 'alpha_2': 0.090859375, 'dropout_1': 0.48828125, 'dropout_2': 0.46484375, 'l2_kern_1': 0.000637804383889218, 'l2_kern_2': 1.175743265920711e-05, 'l2_bias_1': 0.00046138396827332176, 'l2_bias_2': 0.00046138396827332176, 'lr': 0.0007369903460552608, 'batch_size': 256}. Best is trial 46 with value: 0.884309385635374.\u001b[0m\n",
      "C:\\Users\\User\\AppData\\Local\\Temp\\ipykernel_5968\\4154129606.py:46: DeprecationWarning: KerasClassifier is deprecated, use Sci-Keras (https://github.com/adriangb/scikeras) instead. See https://www.adriangb.com/scikeras/stable/migration.html for help migrating.\n",
      "  ('classifier', KerasClassifier(build_fn=self.create_model, verbose=0))\n",
      "\u001b[33m[W 2023-03-02 18:35:31,015]\u001b[0m The parameter 'batch_size' in trial#76 is sampled independently by using `RandomSampler` instead of `QMCSampler` (optimization performance may be degraded). `QMCSampler` does not support dynamic search space or `CategoricalDistribution`. You can suppress this warning by setting `warn_independent_sampling` to `False` in the constructor of `QMCSampler`, if this independent sampling is intended behavior.\u001b[0m\n"
     ]
    },
    {
     "name": "stdout",
     "output_type": "stream",
     "text": [
      "195/195 [==============================] - 0s 2ms/step\n",
      "195/195 [==============================] - 1s 2ms/step\n",
      "195/195 [==============================] - 0s 2ms/step\n"
     ]
    },
    {
     "name": "stderr",
     "output_type": "stream",
     "text": [
      "\u001b[32m[I 2023-03-02 18:39:05,198]\u001b[0m Trial 76 finished with value: 0.8500814988724034 and parameters: {'units_1': 19, 'units_2': 39, 'alpha_1': 0.08945312500000001, 'alpha_2': 0.04585937500000001, 'dropout_1': 0.33828125, 'dropout_2': 0.31484375, 'l2_kern_1': 2.0169145547303294e-05, 'l2_kern_2': 0.0003718026663914474, 'l2_bias_1': 1.4590242156305593e-05, 'l2_bias_2': 1.4590242156305593e-05, 'lr': 5.211308713646951e-05, 'batch_size': 16}. Best is trial 46 with value: 0.884309385635374.\u001b[0m\n",
      "C:\\Users\\User\\AppData\\Local\\Temp\\ipykernel_5968\\4154129606.py:46: DeprecationWarning: KerasClassifier is deprecated, use Sci-Keras (https://github.com/adriangb/scikeras) instead. See https://www.adriangb.com/scikeras/stable/migration.html for help migrating.\n",
      "  ('classifier', KerasClassifier(build_fn=self.create_model, verbose=0))\n",
      "\u001b[33m[W 2023-03-02 18:39:05,200]\u001b[0m The parameter 'batch_size' in trial#77 is sampled independently by using `RandomSampler` instead of `QMCSampler` (optimization performance may be degraded). `QMCSampler` does not support dynamic search space or `CategoricalDistribution`. You can suppress this warning by setting `warn_independent_sampling` to `False` in the constructor of `QMCSampler`, if this independent sampling is intended behavior.\u001b[0m\n"
     ]
    },
    {
     "name": "stdout",
     "output_type": "stream",
     "text": [
      "195/195 [==============================] - 0s 2ms/step\n",
      "195/195 [==============================] - 0s 2ms/step\n",
      "195/195 [==============================] - 0s 2ms/step\n"
     ]
    },
    {
     "name": "stderr",
     "output_type": "stream",
     "text": [
      "\u001b[32m[I 2023-03-02 18:39:45,236]\u001b[0m Trial 77 finished with value: 0.8761777818787303 and parameters: {'units_1': 15, 'units_2': 15, 'alpha_1': 0.055703125000000006, 'alpha_2': 0.034609375000000005, 'dropout_1': 0.30078125, 'dropout_2': 0.20234375000000002, 'l2_kern_1': 0.0015124725453106239, 'l2_kern_2': 2.788126665413133e-05, 'l2_bias_1': 0.0010941138105771855, 'l2_bias_2': 0.0061526541014903765, 'lr': 0.0014291919076031988, 'batch_size': 256}. Best is trial 46 with value: 0.884309385635374.\u001b[0m\n",
      "C:\\Users\\User\\AppData\\Local\\Temp\\ipykernel_5968\\4154129606.py:46: DeprecationWarning: KerasClassifier is deprecated, use Sci-Keras (https://github.com/adriangb/scikeras) instead. See https://www.adriangb.com/scikeras/stable/migration.html for help migrating.\n",
      "  ('classifier', KerasClassifier(build_fn=self.create_model, verbose=0))\n",
      "\u001b[33m[W 2023-03-02 18:39:45,244]\u001b[0m The parameter 'batch_size' in trial#78 is sampled independently by using `RandomSampler` instead of `QMCSampler` (optimization performance may be degraded). `QMCSampler` does not support dynamic search space or `CategoricalDistribution`. You can suppress this warning by setting `warn_independent_sampling` to `False` in the constructor of `QMCSampler`, if this independent sampling is intended behavior.\u001b[0m\n"
     ]
    },
    {
     "name": "stdout",
     "output_type": "stream",
     "text": [
      "195/195 [==============================] - 0s 2ms/step\n",
      "195/195 [==============================] - 0s 2ms/step\n",
      "195/195 [==============================] - 0s 2ms/step\n"
     ]
    },
    {
     "name": "stderr",
     "output_type": "stream",
     "text": [
      "\u001b[32m[I 2023-03-02 18:40:35,480]\u001b[0m Trial 78 finished with value: 0.8492011167230755 and parameters: {'units_1': 34, 'units_2': 34, 'alpha_1': 0.010703125, 'alpha_2': 0.07960937500000001, 'dropout_1': 0.45078125, 'dropout_2': 0.35234375, 'l2_kern_1': 4.782858141653789e-05, 'l2_kern_2': 0.0008816830667755708, 'l2_bias_1': 3.459891660869929e-05, 'l2_bias_2': 0.00019456400615886337, 'lr': 0.0001010591289483161, 'batch_size': 128}. Best is trial 46 with value: 0.884309385635374.\u001b[0m\n",
      "C:\\Users\\User\\AppData\\Local\\Temp\\ipykernel_5968\\4154129606.py:46: DeprecationWarning: KerasClassifier is deprecated, use Sci-Keras (https://github.com/adriangb/scikeras) instead. See https://www.adriangb.com/scikeras/stable/migration.html for help migrating.\n",
      "  ('classifier', KerasClassifier(build_fn=self.create_model, verbose=0))\n",
      "\u001b[33m[W 2023-03-02 18:40:35,483]\u001b[0m The parameter 'batch_size' in trial#79 is sampled independently by using `RandomSampler` instead of `QMCSampler` (optimization performance may be degraded). `QMCSampler` does not support dynamic search space or `CategoricalDistribution`. You can suppress this warning by setting `warn_independent_sampling` to `False` in the constructor of `QMCSampler`, if this independent sampling is intended behavior.\u001b[0m\n"
     ]
    },
    {
     "name": "stdout",
     "output_type": "stream",
     "text": [
      "195/195 [==============================] - 0s 1ms/step\n",
      "195/195 [==============================] - 0s 1ms/step\n",
      "195/195 [==============================] - 0s 2ms/step\n"
     ]
    },
    {
     "name": "stderr",
     "output_type": "stream",
     "text": [
      "\u001b[32m[I 2023-03-02 18:41:23,678]\u001b[0m Trial 79 finished with value: 0.8434599928575447 and parameters: {'units_1': 24, 'units_2': 5, 'alpha_1': 0.078203125, 'alpha_2': 0.012109375, 'dropout_1': 0.37578125, 'dropout_2': 0.42734375, 'l2_kern_1': 0.008505258154439964, 'l2_kern_2': 0.00495806824168466, 'l2_bias_1': 0.00019456400615886337, 'l2_bias_2': 3.459891660869929e-05, 'lr': 0.00038004327290765393, 'batch_size': 512}. Best is trial 46 with value: 0.884309385635374.\u001b[0m\n",
      "C:\\Users\\User\\AppData\\Local\\Temp\\ipykernel_5968\\4154129606.py:46: DeprecationWarning: KerasClassifier is deprecated, use Sci-Keras (https://github.com/adriangb/scikeras) instead. See https://www.adriangb.com/scikeras/stable/migration.html for help migrating.\n",
      "  ('classifier', KerasClassifier(build_fn=self.create_model, verbose=0))\n",
      "\u001b[33m[W 2023-03-02 18:41:23,682]\u001b[0m The parameter 'batch_size' in trial#80 is sampled independently by using `RandomSampler` instead of `QMCSampler` (optimization performance may be degraded). `QMCSampler` does not support dynamic search space or `CategoricalDistribution`. You can suppress this warning by setting `warn_independent_sampling` to `False` in the constructor of `QMCSampler`, if this independent sampling is intended behavior.\u001b[0m\n"
     ]
    },
    {
     "name": "stdout",
     "output_type": "stream",
     "text": [
      "195/195 [==============================] - 0s 2ms/step\n",
      "195/195 [==============================] - 0s 1ms/step\n",
      "195/195 [==============================] - 0s 2ms/step\n"
     ]
    },
    {
     "name": "stderr",
     "output_type": "stream",
     "text": [
      "\u001b[32m[I 2023-03-02 18:41:42,916]\u001b[0m Trial 80 finished with value: 0.8452888167397736 and parameters: {'units_1': 5, 'units_2': 24, 'alpha_1': 0.033203125, 'alpha_2': 0.05710937500000001, 'dropout_1': 0.22578125000000002, 'dropout_2': 0.27734375, 'l2_kern_1': 0.0002689598785575042, 'l2_kern_2': 0.00015678788438269704, 'l2_bias_1': 0.0061526541014903765, 'l2_bias_2': 0.0010941138105771855, 'lr': 0.005374623508346633, 'batch_size': 1024}. Best is trial 46 with value: 0.884309385635374.\u001b[0m\n",
      "C:\\Users\\User\\AppData\\Local\\Temp\\ipykernel_5968\\4154129606.py:46: DeprecationWarning: KerasClassifier is deprecated, use Sci-Keras (https://github.com/adriangb/scikeras) instead. See https://www.adriangb.com/scikeras/stable/migration.html for help migrating.\n",
      "  ('classifier', KerasClassifier(build_fn=self.create_model, verbose=0))\n",
      "\u001b[33m[W 2023-03-02 18:41:42,919]\u001b[0m The parameter 'batch_size' in trial#81 is sampled independently by using `RandomSampler` instead of `QMCSampler` (optimization performance may be degraded). `QMCSampler` does not support dynamic search space or `CategoricalDistribution`. You can suppress this warning by setting `warn_independent_sampling` to `False` in the constructor of `QMCSampler`, if this independent sampling is intended behavior.\u001b[0m\n"
     ]
    },
    {
     "name": "stdout",
     "output_type": "stream",
     "text": [
      "195/195 [==============================] - 0s 2ms/step\n",
      "195/195 [==============================] - 0s 2ms/step\n",
      "195/195 [==============================] - 1s 2ms/step\n"
     ]
    },
    {
     "name": "stderr",
     "output_type": "stream",
     "text": [
      "\u001b[32m[I 2023-03-02 18:42:12,467]\u001b[0m Trial 81 finished with value: 0.8485164461729887 and parameters: {'units_1': 6, 'units_2': 6, 'alpha_1': 0.06976562500000001, 'alpha_2': 0.05429687500000001, 'dropout_1': 0.47890625, 'dropout_2': 0.36171875, 'l2_kern_1': 2.502865431174609e-05, 'l2_kern_2': 0.0061526541014903765, 'l2_bias_1': 0.00209080004127872, 'l2_bias_2': 4.293510210083482e-05, 'lr': 0.006342423457998655, 'batch_size': 128}. Best is trial 46 with value: 0.884309385635374.\u001b[0m\n",
      "C:\\Users\\User\\AppData\\Local\\Temp\\ipykernel_5968\\4154129606.py:46: DeprecationWarning: KerasClassifier is deprecated, use Sci-Keras (https://github.com/adriangb/scikeras) instead. See https://www.adriangb.com/scikeras/stable/migration.html for help migrating.\n",
      "  ('classifier', KerasClassifier(build_fn=self.create_model, verbose=0))\n",
      "\u001b[33m[W 2023-03-02 18:42:12,470]\u001b[0m The parameter 'batch_size' in trial#82 is sampled independently by using `RandomSampler` instead of `QMCSampler` (optimization performance may be degraded). `QMCSampler` does not support dynamic search space or `CategoricalDistribution`. You can suppress this warning by setting `warn_independent_sampling` to `False` in the constructor of `QMCSampler`, if this independent sampling is intended behavior.\u001b[0m\n"
     ]
    },
    {
     "name": "stdout",
     "output_type": "stream",
     "text": [
      "195/195 [==============================] - 0s 2ms/step\n",
      "195/195 [==============================] - 0s 2ms/step\n",
      "195/195 [==============================] - 0s 2ms/step\n"
     ]
    },
    {
     "name": "stderr",
     "output_type": "stream",
     "text": [
      "\u001b[32m[I 2023-03-02 18:44:18,710]\u001b[0m Trial 82 finished with value: 0.8757656332507257 and parameters: {'units_1': 26, 'units_2': 26, 'alpha_1': 0.024765625, 'alpha_2': 0.099296875, 'dropout_1': 0.32890625, 'dropout_2': 0.21171875, 'l2_kern_1': 0.0007914755439411164, 'l2_kern_2': 0.00019456400615886337, 'l2_bias_1': 6.611690262414816e-05, 'l2_bias_2': 0.0013577271421051837, 'lr': 0.000448477063630748, 'batch_size': 32}. Best is trial 46 with value: 0.884309385635374.\u001b[0m\n",
      "C:\\Users\\User\\AppData\\Local\\Temp\\ipykernel_5968\\4154129606.py:46: DeprecationWarning: KerasClassifier is deprecated, use Sci-Keras (https://github.com/adriangb/scikeras) instead. See https://www.adriangb.com/scikeras/stable/migration.html for help migrating.\n",
      "  ('classifier', KerasClassifier(build_fn=self.create_model, verbose=0))\n",
      "\u001b[33m[W 2023-03-02 18:44:18,714]\u001b[0m The parameter 'batch_size' in trial#83 is sampled independently by using `RandomSampler` instead of `QMCSampler` (optimization performance may be degraded). `QMCSampler` does not support dynamic search space or `CategoricalDistribution`. You can suppress this warning by setting `warn_independent_sampling` to `False` in the constructor of `QMCSampler`, if this independent sampling is intended behavior.\u001b[0m\n"
     ]
    },
    {
     "name": "stdout",
     "output_type": "stream",
     "text": [
      "195/195 [==============================] - 0s 2ms/step\n",
      "195/195 [==============================] - 0s 2ms/step\n",
      "195/195 [==============================] - 0s 2ms/step\n"
     ]
    },
    {
     "name": "stderr",
     "output_type": "stream",
     "text": [
      "\u001b[32m[I 2023-03-02 18:45:29,222]\u001b[0m Trial 83 finished with value: 0.8600052475225576 and parameters: {'units_1': 35, 'units_2': 16, 'alpha_1': 0.092265625, 'alpha_2': 0.031796875, 'dropout_1': 0.25390625, 'dropout_2': 0.28671875, 'l2_kern_1': 0.0001407464663339844, 'l2_kern_2': 3.459891660869929e-05, 'l2_bias_1': 1.175743265920711e-05, 'l2_bias_2': 0.007635060803383351, 'lr': 0.00011925668636906728, 'batch_size': 128}. Best is trial 46 with value: 0.884309385635374.\u001b[0m\n",
      "C:\\Users\\User\\AppData\\Local\\Temp\\ipykernel_5968\\4154129606.py:46: DeprecationWarning: KerasClassifier is deprecated, use Sci-Keras (https://github.com/adriangb/scikeras) instead. See https://www.adriangb.com/scikeras/stable/migration.html for help migrating.\n",
      "  ('classifier', KerasClassifier(build_fn=self.create_model, verbose=0))\n",
      "\u001b[33m[W 2023-03-02 18:45:29,231]\u001b[0m The parameter 'batch_size' in trial#84 is sampled independently by using `RandomSampler` instead of `QMCSampler` (optimization performance may be degraded). `QMCSampler` does not support dynamic search space or `CategoricalDistribution`. You can suppress this warning by setting `warn_independent_sampling` to `False` in the constructor of `QMCSampler`, if this independent sampling is intended behavior.\u001b[0m\n"
     ]
    },
    {
     "name": "stdout",
     "output_type": "stream",
     "text": [
      "195/195 [==============================] - 0s 2ms/step\n",
      "195/195 [==============================] - 0s 2ms/step\n",
      "195/195 [==============================] - 0s 2ms/step\n"
     ]
    },
    {
     "name": "stderr",
     "output_type": "stream",
     "text": [
      "\u001b[32m[I 2023-03-02 18:46:10,378]\u001b[0m Trial 84 finished with value: 0.8597379987964423 and parameters: {'units_1': 16, 'units_2': 35, 'alpha_1': 0.047265625000000006, 'alpha_2': 0.076796875, 'dropout_1': 0.40390625, 'dropout_2': 0.43671875, 'l2_kern_1': 0.004450794062355997, 'l2_kern_2': 0.0010941138105771855, 'l2_bias_1': 0.0003718026663914474, 'l2_bias_2': 0.00024144182212566391, 'lr': 0.0016865442326680945, 'batch_size': 128}. Best is trial 46 with value: 0.884309385635374.\u001b[0m\n",
      "C:\\Users\\User\\AppData\\Local\\Temp\\ipykernel_5968\\4154129606.py:46: DeprecationWarning: KerasClassifier is deprecated, use Sci-Keras (https://github.com/adriangb/scikeras) instead. See https://www.adriangb.com/scikeras/stable/migration.html for help migrating.\n",
      "  ('classifier', KerasClassifier(build_fn=self.create_model, verbose=0))\n",
      "\u001b[33m[W 2023-03-02 18:46:10,381]\u001b[0m The parameter 'batch_size' in trial#85 is sampled independently by using `RandomSampler` instead of `QMCSampler` (optimization performance may be degraded). `QMCSampler` does not support dynamic search space or `CategoricalDistribution`. You can suppress this warning by setting `warn_independent_sampling` to `False` in the constructor of `QMCSampler`, if this independent sampling is intended behavior.\u001b[0m\n"
     ]
    },
    {
     "name": "stdout",
     "output_type": "stream",
     "text": [
      "195/195 [==============================] - 0s 2ms/step\n",
      "195/195 [==============================] - 0s 2ms/step\n",
      "195/195 [==============================] - 0s 2ms/step\n"
     ]
    },
    {
     "name": "stderr",
     "output_type": "stream",
     "text": [
      "\u001b[32m[I 2023-03-02 18:47:30,131]\u001b[0m Trial 85 finished with value: 0.8461666964216258 and parameters: {'units_1': 21, 'units_2': 21, 'alpha_1': 0.013515625, 'alpha_2': 0.065546875, 'dropout_1': 0.36640625000000004, 'dropout_2': 0.39921875, 'l2_kern_1': 5.935229272296989e-05, 'l2_kern_2': 1.4590242156305593e-05, 'l2_bias_1': 2.788126665413133e-05, 'l2_bias_2': 0.0005725487884358379, 'lr': 6.149700826667757e-05, 'batch_size': 64}. Best is trial 46 with value: 0.884309385635374.\u001b[0m\n",
      "C:\\Users\\User\\AppData\\Local\\Temp\\ipykernel_5968\\4154129606.py:46: DeprecationWarning: KerasClassifier is deprecated, use Sci-Keras (https://github.com/adriangb/scikeras) instead. See https://www.adriangb.com/scikeras/stable/migration.html for help migrating.\n",
      "  ('classifier', KerasClassifier(build_fn=self.create_model, verbose=0))\n",
      "\u001b[33m[W 2023-03-02 18:47:30,133]\u001b[0m The parameter 'batch_size' in trial#86 is sampled independently by using `RandomSampler` instead of `QMCSampler` (optimization performance may be degraded). `QMCSampler` does not support dynamic search space or `CategoricalDistribution`. You can suppress this warning by setting `warn_independent_sampling` to `False` in the constructor of `QMCSampler`, if this independent sampling is intended behavior.\u001b[0m\n"
     ]
    },
    {
     "name": "stdout",
     "output_type": "stream",
     "text": [
      "195/195 [==============================] - 0s 2ms/step\n",
      "195/195 [==============================] - 0s 2ms/step\n",
      "195/195 [==============================] - 0s 2ms/step\n"
     ]
    },
    {
     "name": "stderr",
     "output_type": "stream",
     "text": [
      "\u001b[32m[I 2023-03-02 18:49:46,357]\u001b[0m Trial 86 finished with value: 0.8850448085499383 and parameters: {'units_1': 40, 'units_2': 40, 'alpha_1': 0.05851562500000001, 'alpha_2': 0.020546875, 'dropout_1': 0.21640625000000002, 'dropout_2': 0.24921875000000002, 'l2_kern_1': 0.0018768842935762192, 'l2_kern_2': 0.00046138396827332176, 'l2_bias_1': 0.0008816830667755708, 'l2_bias_2': 1.8105582430271218e-05, 'lr': 0.0008696990313610563, 'batch_size': 32}. Best is trial 86 with value: 0.8850448085499383.\u001b[0m\n",
      "C:\\Users\\User\\AppData\\Local\\Temp\\ipykernel_5968\\4154129606.py:46: DeprecationWarning: KerasClassifier is deprecated, use Sci-Keras (https://github.com/adriangb/scikeras) instead. See https://www.adriangb.com/scikeras/stable/migration.html for help migrating.\n",
      "  ('classifier', KerasClassifier(build_fn=self.create_model, verbose=0))\n",
      "\u001b[33m[W 2023-03-02 18:49:46,365]\u001b[0m The parameter 'batch_size' in trial#87 is sampled independently by using `RandomSampler` instead of `QMCSampler` (optimization performance may be degraded). `QMCSampler` does not support dynamic search space or `CategoricalDistribution`. You can suppress this warning by setting `warn_independent_sampling` to `False` in the constructor of `QMCSampler`, if this independent sampling is intended behavior.\u001b[0m\n"
     ]
    },
    {
     "name": "stdout",
     "output_type": "stream",
     "text": [
      "195/195 [==============================] - 0s 1ms/step\n",
      "195/195 [==============================] - 0s 1ms/step\n",
      "195/195 [==============================] - 0s 2ms/step\n"
     ]
    },
    {
     "name": "stderr",
     "output_type": "stream",
     "text": [
      "\u001b[32m[I 2023-03-02 18:51:16,063]\u001b[0m Trial 87 finished with value: 0.8669904013084037 and parameters: {'units_1': 30, 'units_2': 11, 'alpha_1': 0.036015625, 'alpha_2': 0.08804687500000001, 'dropout_1': 0.29140625, 'dropout_2': 0.32421875, 'l2_kern_1': 1.0554496008786035e-05, 'l2_kern_2': 0.0025945527214040172, 'l2_bias_1': 0.00495806824168466, 'l2_bias_2': 0.00010181517217181818, 'lr': 0.0032705928673906286, 'batch_size': 32}. Best is trial 86 with value: 0.8850448085499383.\u001b[0m\n",
      "C:\\Users\\User\\AppData\\Local\\Temp\\ipykernel_5968\\4154129606.py:46: DeprecationWarning: KerasClassifier is deprecated, use Sci-Keras (https://github.com/adriangb/scikeras) instead. See https://www.adriangb.com/scikeras/stable/migration.html for help migrating.\n",
      "  ('classifier', KerasClassifier(build_fn=self.create_model, verbose=0))\n",
      "\u001b[33m[W 2023-03-02 18:51:16,066]\u001b[0m The parameter 'batch_size' in trial#88 is sampled independently by using `RandomSampler` instead of `QMCSampler` (optimization performance may be degraded). `QMCSampler` does not support dynamic search space or `CategoricalDistribution`. You can suppress this warning by setting `warn_independent_sampling` to `False` in the constructor of `QMCSampler`, if this independent sampling is intended behavior.\u001b[0m\n"
     ]
    },
    {
     "name": "stdout",
     "output_type": "stream",
     "text": [
      "195/195 [==============================] - 0s 1ms/step\n",
      "195/195 [==============================] - 0s 2ms/step\n",
      "195/195 [==============================] - 0s 2ms/step\n"
     ]
    },
    {
     "name": "stderr",
     "output_type": "stream",
     "text": [
      "\u001b[32m[I 2023-03-02 18:52:29,467]\u001b[0m Trial 88 finished with value: 0.8537422215232874 and parameters: {'units_1': 11, 'units_2': 30, 'alpha_1': 0.08101562500000001, 'alpha_2': 0.043046875000000005, 'dropout_1': 0.44140625, 'dropout_2': 0.47421875, 'l2_kern_1': 0.000333762469429204, 'l2_kern_2': 8.204696109024983e-05, 'l2_bias_1': 0.00015678788438269704, 'l2_bias_2': 0.0032196784442513815, 'lr': 0.00023126583950322697, 'batch_size': 64}. Best is trial 86 with value: 0.8850448085499383.\u001b[0m\n",
      "C:\\Users\\User\\AppData\\Local\\Temp\\ipykernel_5968\\4154129606.py:46: DeprecationWarning: KerasClassifier is deprecated, use Sci-Keras (https://github.com/adriangb/scikeras) instead. See https://www.adriangb.com/scikeras/stable/migration.html for help migrating.\n",
      "  ('classifier', KerasClassifier(build_fn=self.create_model, verbose=0))\n",
      "\u001b[33m[W 2023-03-02 18:52:29,470]\u001b[0m The parameter 'batch_size' in trial#89 is sampled independently by using `RandomSampler` instead of `QMCSampler` (optimization performance may be degraded). `QMCSampler` does not support dynamic search space or `CategoricalDistribution`. You can suppress this warning by setting `warn_independent_sampling` to `False` in the constructor of `QMCSampler`, if this independent sampling is intended behavior.\u001b[0m\n"
     ]
    },
    {
     "name": "stdout",
     "output_type": "stream",
     "text": [
      "195/195 [==============================] - 0s 2ms/step\n",
      "195/195 [==============================] - 0s 2ms/step\n",
      "195/195 [==============================] - 0s 2ms/step\n"
     ]
    },
    {
     "name": "stderr",
     "output_type": "stream",
     "text": [
      "\u001b[32m[I 2023-03-02 18:52:57,542]\u001b[0m Trial 89 finished with value: 0.837360141816261 and parameters: {'units_1': 9, 'units_2': 13, 'alpha_1': 0.04164062500000001, 'alpha_2': 0.014921875000000001, 'dropout_1': 0.34765625, 'dropout_2': 0.45546875, 'l2_kern_1': 9.139816994654908e-05, 'l2_kern_2': 2.2467900918126424e-05, 'l2_bias_1': 4.293510210083482e-05, 'l2_bias_2': 0.00015678788438269704, 'lr': 0.000322051897399328, 'batch_size': 1024}. Best is trial 86 with value: 0.8850448085499383.\u001b[0m\n",
      "C:\\Users\\User\\AppData\\Local\\Temp\\ipykernel_5968\\4154129606.py:46: DeprecationWarning: KerasClassifier is deprecated, use Sci-Keras (https://github.com/adriangb/scikeras) instead. See https://www.adriangb.com/scikeras/stable/migration.html for help migrating.\n",
      "  ('classifier', KerasClassifier(build_fn=self.create_model, verbose=0))\n",
      "\u001b[33m[W 2023-03-02 18:52:57,546]\u001b[0m The parameter 'batch_size' in trial#90 is sampled independently by using `RandomSampler` instead of `QMCSampler` (optimization performance may be degraded). `QMCSampler` does not support dynamic search space or `CategoricalDistribution`. You can suppress this warning by setting `warn_independent_sampling` to `False` in the constructor of `QMCSampler`, if this independent sampling is intended behavior.\u001b[0m\n"
     ]
    },
    {
     "name": "stdout",
     "output_type": "stream",
     "text": [
      "195/195 [==============================] - 0s 2ms/step\n",
      "195/195 [==============================] - 0s 2ms/step\n",
      "195/195 [==============================] - 0s 2ms/step\n"
     ]
    },
    {
     "name": "stderr",
     "output_type": "stream",
     "text": [
      "\u001b[32m[I 2023-03-02 18:53:27,653]\u001b[0m Trial 90 finished with value: 0.8723394468938138 and parameters: {'units_1': 28, 'units_2': 33, 'alpha_1': 0.086640625, 'alpha_2': 0.059921875000000006, 'dropout_1': 0.49765625, 'dropout_2': 0.30546875, 'l2_kern_1': 0.0028902639100224507, 'l2_kern_2': 0.0007104974114426786, 'l2_bias_1': 0.0013577271421051837, 'l2_bias_2': 0.00495806824168466, 'lr': 0.0045545016109011785, 'batch_size': 512}. Best is trial 86 with value: 0.8850448085499383.\u001b[0m\n",
      "C:\\Users\\User\\AppData\\Local\\Temp\\ipykernel_5968\\4154129606.py:46: DeprecationWarning: KerasClassifier is deprecated, use Sci-Keras (https://github.com/adriangb/scikeras) instead. See https://www.adriangb.com/scikeras/stable/migration.html for help migrating.\n",
      "  ('classifier', KerasClassifier(build_fn=self.create_model, verbose=0))\n",
      "\u001b[33m[W 2023-03-02 18:53:27,656]\u001b[0m The parameter 'batch_size' in trial#91 is sampled independently by using `RandomSampler` instead of `QMCSampler` (optimization performance may be degraded). `QMCSampler` does not support dynamic search space or `CategoricalDistribution`. You can suppress this warning by setting `warn_independent_sampling` to `False` in the constructor of `QMCSampler`, if this independent sampling is intended behavior.\u001b[0m\n"
     ]
    },
    {
     "name": "stdout",
     "output_type": "stream",
     "text": [
      "195/195 [==============================] - 0s 2ms/step\n",
      "195/195 [==============================] - 0s 2ms/step\n",
      "195/195 [==============================] - 1s 2ms/step\n"
     ]
    },
    {
     "name": "stderr",
     "output_type": "stream",
     "text": [
      "\u001b[32m[I 2023-03-02 18:56:55,418]\u001b[0m Trial 91 finished with value: 0.8654402688421247 and parameters: {'units_1': 38, 'units_2': 4, 'alpha_1': 0.019140625, 'alpha_2': 0.037421875, 'dropout_1': 0.42265625, 'dropout_2': 0.23046875, 'l2_kern_1': 1.6253148373118654e-05, 'l2_kern_2': 0.003995420558949889, 'l2_bias_1': 0.007635060803383351, 'l2_bias_2': 0.0008816830667755708, 'lr': 0.0012111093614942537, 'batch_size': 16}. Best is trial 86 with value: 0.8850448085499383.\u001b[0m\n",
      "C:\\Users\\User\\AppData\\Local\\Temp\\ipykernel_5968\\4154129606.py:46: DeprecationWarning: KerasClassifier is deprecated, use Sci-Keras (https://github.com/adriangb/scikeras) instead. See https://www.adriangb.com/scikeras/stable/migration.html for help migrating.\n",
      "  ('classifier', KerasClassifier(build_fn=self.create_model, verbose=0))\n",
      "\u001b[33m[W 2023-03-02 18:56:55,422]\u001b[0m The parameter 'batch_size' in trial#92 is sampled independently by using `RandomSampler` instead of `QMCSampler` (optimization performance may be degraded). `QMCSampler` does not support dynamic search space or `CategoricalDistribution`. You can suppress this warning by setting `warn_independent_sampling` to `False` in the constructor of `QMCSampler`, if this independent sampling is intended behavior.\u001b[0m\n"
     ]
    },
    {
     "name": "stdout",
     "output_type": "stream",
     "text": [
      "195/195 [==============================] - 0s 2ms/step\n",
      "195/195 [==============================] - 0s 2ms/step\n",
      "195/195 [==============================] - 0s 2ms/step\n"
     ]
    },
    {
     "name": "stderr",
     "output_type": "stream",
     "text": [
      "\u001b[32m[I 2023-03-02 18:57:34,666]\u001b[0m Trial 92 finished with value: 0.8354955868702455 and parameters: {'units_1': 18, 'units_2': 23, 'alpha_1': 0.064140625, 'alpha_2': 0.082421875, 'dropout_1': 0.27265625, 'dropout_2': 0.38046875, 'l2_kern_1': 0.0005139696800771515, 'l2_kern_2': 0.00012634629176544695, 'l2_bias_1': 0.00024144182212566391, 'l2_bias_2': 2.788126665413133e-05, 'lr': 8.563836422710964e-05, 'batch_size': 512}. Best is trial 86 with value: 0.8850448085499383.\u001b[0m\n",
      "C:\\Users\\User\\AppData\\Local\\Temp\\ipykernel_5968\\4154129606.py:46: DeprecationWarning: KerasClassifier is deprecated, use Sci-Keras (https://github.com/adriangb/scikeras) instead. See https://www.adriangb.com/scikeras/stable/migration.html for help migrating.\n",
      "  ('classifier', KerasClassifier(build_fn=self.create_model, verbose=0))\n",
      "\u001b[33m[W 2023-03-02 18:57:34,669]\u001b[0m The parameter 'batch_size' in trial#93 is sampled independently by using `RandomSampler` instead of `QMCSampler` (optimization performance may be degraded). `QMCSampler` does not support dynamic search space or `CategoricalDistribution`. You can suppress this warning by setting `warn_independent_sampling` to `False` in the constructor of `QMCSampler`, if this independent sampling is intended behavior.\u001b[0m\n"
     ]
    },
    {
     "name": "stdout",
     "output_type": "stream",
     "text": [
      "195/195 [==============================] - 0s 2ms/step\n",
      "195/195 [==============================] - 0s 2ms/step\n",
      "195/195 [==============================] - 0s 2ms/step\n"
     ]
    },
    {
     "name": "stderr",
     "output_type": "stream",
     "text": [
      "\u001b[32m[I 2023-03-02 18:57:54,717]\u001b[0m Trial 93 finished with value: 0.8506546056803023 and parameters: {'units_1': 13, 'units_2': 9, 'alpha_1': 0.09789062500000001, 'alpha_2': 0.093671875, 'dropout_1': 0.23515625, 'dropout_2': 0.49296875, 'l2_kern_1': 3.854228868623108e-05, 'l2_kern_2': 0.009474635256553761, 'l2_bias_1': 0.0032196784442513815, 'l2_bias_2': 0.00209080004127872, 'lr': 0.002348616515717939, 'batch_size': 1024}. Best is trial 86 with value: 0.8850448085499383.\u001b[0m\n",
      "C:\\Users\\User\\AppData\\Local\\Temp\\ipykernel_5968\\4154129606.py:46: DeprecationWarning: KerasClassifier is deprecated, use Sci-Keras (https://github.com/adriangb/scikeras) instead. See https://www.adriangb.com/scikeras/stable/migration.html for help migrating.\n",
      "  ('classifier', KerasClassifier(build_fn=self.create_model, verbose=0))\n",
      "\u001b[33m[W 2023-03-02 18:57:54,720]\u001b[0m The parameter 'batch_size' in trial#94 is sampled independently by using `RandomSampler` instead of `QMCSampler` (optimization performance may be degraded). `QMCSampler` does not support dynamic search space or `CategoricalDistribution`. You can suppress this warning by setting `warn_independent_sampling` to `False` in the constructor of `QMCSampler`, if this independent sampling is intended behavior.\u001b[0m\n"
     ]
    },
    {
     "name": "stdout",
     "output_type": "stream",
     "text": [
      "195/195 [==============================] - 0s 2ms/step\n",
      "195/195 [==============================] - 0s 2ms/step\n",
      "195/195 [==============================] - 0s 2ms/step\n"
     ]
    },
    {
     "name": "stderr",
     "output_type": "stream",
     "text": [
      "\u001b[32m[I 2023-03-02 18:59:38,975]\u001b[0m Trial 94 finished with value: 0.86224410878018 and parameters: {'units_1': 33, 'units_2': 28, 'alpha_1': 0.052890625000000004, 'alpha_2': 0.048671875, 'dropout_1': 0.38515625, 'dropout_2': 0.34296875000000004, 'l2_kern_1': 0.00121881418484229, 'l2_kern_2': 0.0002996142741004366, 'l2_bias_1': 0.00010181517217181818, 'l2_bias_2': 6.611690262414816e-05, 'lr': 0.0001660722664670876, 'batch_size': 64}. Best is trial 86 with value: 0.8850448085499383.\u001b[0m\n",
      "C:\\Users\\User\\AppData\\Local\\Temp\\ipykernel_5968\\4154129606.py:46: DeprecationWarning: KerasClassifier is deprecated, use Sci-Keras (https://github.com/adriangb/scikeras) instead. See https://www.adriangb.com/scikeras/stable/migration.html for help migrating.\n",
      "  ('classifier', KerasClassifier(build_fn=self.create_model, verbose=0))\n",
      "\u001b[33m[W 2023-03-02 18:59:38,983]\u001b[0m The parameter 'batch_size' in trial#95 is sampled independently by using `RandomSampler` instead of `QMCSampler` (optimization performance may be degraded). `QMCSampler` does not support dynamic search space or `CategoricalDistribution`. You can suppress this warning by setting `warn_independent_sampling` to `False` in the constructor of `QMCSampler`, if this independent sampling is intended behavior.\u001b[0m\n"
     ]
    },
    {
     "name": "stdout",
     "output_type": "stream",
     "text": [
      "195/195 [==============================] - 0s 1ms/step\n",
      "195/195 [==============================] - 0s 2ms/step\n",
      "195/195 [==============================] - 0s 2ms/step\n"
     ]
    },
    {
     "name": "stderr",
     "output_type": "stream",
     "text": [
      "\u001b[32m[I 2023-03-02 19:00:26,320]\u001b[0m Trial 95 finished with value: 0.8633067445590852 and parameters: {'units_1': 23, 'units_2': 18, 'alpha_1': 0.075390625, 'alpha_2': 0.07117187500000001, 'dropout_1': 0.46015625, 'dropout_2': 0.26796875, 'l2_kern_1': 0.00021673921695684184, 'l2_kern_2': 5.3279789458656456e-05, 'l2_bias_1': 1.8105582430271218e-05, 'l2_bias_2': 1.175743265920711e-05, 'lr': 0.000624531878951998, 'batch_size': 128}. Best is trial 86 with value: 0.8850448085499383.\u001b[0m\n",
      "C:\\Users\\User\\AppData\\Local\\Temp\\ipykernel_5968\\4154129606.py:46: DeprecationWarning: KerasClassifier is deprecated, use Sci-Keras (https://github.com/adriangb/scikeras) instead. See https://www.adriangb.com/scikeras/stable/migration.html for help migrating.\n",
      "  ('classifier', KerasClassifier(build_fn=self.create_model, verbose=0))\n",
      "\u001b[33m[W 2023-03-02 19:00:26,323]\u001b[0m The parameter 'batch_size' in trial#96 is sampled independently by using `RandomSampler` instead of `QMCSampler` (optimization performance may be degraded). `QMCSampler` does not support dynamic search space or `CategoricalDistribution`. You can suppress this warning by setting `warn_independent_sampling` to `False` in the constructor of `QMCSampler`, if this independent sampling is intended behavior.\u001b[0m\n"
     ]
    },
    {
     "name": "stdout",
     "output_type": "stream",
     "text": [
      "195/195 [==============================] - 0s 1ms/step\n",
      "195/195 [==============================] - 0s 2ms/step\n",
      "195/195 [==============================] - 0s 1ms/step\n"
     ]
    },
    {
     "name": "stderr",
     "output_type": "stream",
     "text": [
      "\u001b[32m[I 2023-03-02 19:00:47,734]\u001b[0m Trial 96 finished with value: 0.8411304944458683 and parameters: {'units_1': 4, 'units_2': 38, 'alpha_1': 0.030390625000000004, 'alpha_2': 0.026171875000000004, 'dropout_1': 0.31015625, 'dropout_2': 0.41796875, 'l2_kern_1': 0.006853895838650084, 'l2_kern_2': 0.0016848548794358386, 'l2_bias_1': 0.0005725487884358379, 'l2_bias_2': 0.0003718026663914474, 'lr': 0.008832214533482671, 'batch_size': 512}. Best is trial 86 with value: 0.8850448085499383.\u001b[0m\n",
      "C:\\Users\\User\\AppData\\Local\\Temp\\ipykernel_5968\\4154129606.py:46: DeprecationWarning: KerasClassifier is deprecated, use Sci-Keras (https://github.com/adriangb/scikeras) instead. See https://www.adriangb.com/scikeras/stable/migration.html for help migrating.\n",
      "  ('classifier', KerasClassifier(build_fn=self.create_model, verbose=0))\n",
      "\u001b[33m[W 2023-03-02 19:00:47,738]\u001b[0m The parameter 'batch_size' in trial#97 is sampled independently by using `RandomSampler` instead of `QMCSampler` (optimization performance may be degraded). `QMCSampler` does not support dynamic search space or `CategoricalDistribution`. You can suppress this warning by setting `warn_independent_sampling` to `False` in the constructor of `QMCSampler`, if this independent sampling is intended behavior.\u001b[0m\n"
     ]
    },
    {
     "name": "stdout",
     "output_type": "stream",
     "text": [
      "195/195 [==============================] - 0s 2ms/step\n",
      "195/195 [==============================] - 0s 2ms/step\n",
      "195/195 [==============================] - 0s 2ms/step\n"
     ]
    },
    {
     "name": "stderr",
     "output_type": "stream",
     "text": [
      "\u001b[32m[I 2023-03-02 19:01:09,777]\u001b[0m Trial 97 finished with value: 0.8408540767633245 and parameters: {'units_1': 3, 'units_2': 7, 'alpha_1': 0.04585937500000001, 'alpha_2': 0.04164062500000001, 'dropout_1': 0.35234375, 'dropout_2': 0.38515625, 'l2_kern_1': 0.00015678788438269704, 'l2_kern_2': 0.000637804383889218, 'l2_bias_1': 5.935229272296989e-05, 'l2_bias_2': 1.6253148373118654e-05, 'lr': 0.0011148842171595946, 'batch_size': 512}. Best is trial 86 with value: 0.8850448085499383.\u001b[0m\n",
      "C:\\Users\\User\\AppData\\Local\\Temp\\ipykernel_5968\\4154129606.py:46: DeprecationWarning: KerasClassifier is deprecated, use Sci-Keras (https://github.com/adriangb/scikeras) instead. See https://www.adriangb.com/scikeras/stable/migration.html for help migrating.\n",
      "  ('classifier', KerasClassifier(build_fn=self.create_model, verbose=0))\n",
      "\u001b[33m[W 2023-03-02 19:01:09,786]\u001b[0m The parameter 'batch_size' in trial#98 is sampled independently by using `RandomSampler` instead of `QMCSampler` (optimization performance may be degraded). `QMCSampler` does not support dynamic search space or `CategoricalDistribution`. You can suppress this warning by setting `warn_independent_sampling` to `False` in the constructor of `QMCSampler`, if this independent sampling is intended behavior.\u001b[0m\n"
     ]
    },
    {
     "name": "stdout",
     "output_type": "stream",
     "text": [
      "195/195 [==============================] - 0s 2ms/step\n",
      "195/195 [==============================] - 0s 1ms/step\n",
      "195/195 [==============================] - 0s 2ms/step\n"
     ]
    },
    {
     "name": "stderr",
     "output_type": "stream",
     "text": [
      "\u001b[32m[I 2023-03-02 19:02:14,666]\u001b[0m Trial 98 finished with value: 0.8414909509997842 and parameters: {'units_1': 23, 'units_2': 26, 'alpha_1': 0.090859375, 'alpha_2': 0.086640625, 'dropout_1': 0.20234375000000002, 'dropout_2': 0.23515625, 'l2_kern_1': 0.00495806824168466, 'l2_kern_2': 2.0169145547303294e-05, 'l2_bias_1': 0.0018768842935762192, 'l2_bias_2': 0.0005139696800771515, 'lr': 7.88342190191406e-05, 'batch_size': 1024}. Best is trial 86 with value: 0.8850448085499383.\u001b[0m\n",
      "C:\\Users\\User\\AppData\\Local\\Temp\\ipykernel_5968\\4154129606.py:46: DeprecationWarning: KerasClassifier is deprecated, use Sci-Keras (https://github.com/adriangb/scikeras) instead. See https://www.adriangb.com/scikeras/stable/migration.html for help migrating.\n",
      "  ('classifier', KerasClassifier(build_fn=self.create_model, verbose=0))\n",
      "\u001b[33m[W 2023-03-02 19:02:14,670]\u001b[0m The parameter 'batch_size' in trial#99 is sampled independently by using `RandomSampler` instead of `QMCSampler` (optimization performance may be degraded). `QMCSampler` does not support dynamic search space or `CategoricalDistribution`. You can suppress this warning by setting `warn_independent_sampling` to `False` in the constructor of `QMCSampler`, if this independent sampling is intended behavior.\u001b[0m\n"
     ]
    },
    {
     "name": "stdout",
     "output_type": "stream",
     "text": [
      "195/195 [==============================] - 0s 2ms/step\n",
      "195/195 [==============================] - 0s 2ms/step\n",
      "195/195 [==============================] - 0s 2ms/step\n"
     ]
    },
    {
     "name": "stderr",
     "output_type": "stream",
     "text": [
      "\u001b[32m[I 2023-03-02 19:02:52,071]\u001b[0m Trial 99 finished with value: 0.8502719989861132 and parameters: {'units_1': 32, 'units_2': 16, 'alpha_1': 0.023359375, 'alpha_2': 0.019140625, 'dropout_1': 0.27734375, 'dropout_2': 0.31015625, 'l2_kern_1': 2.788126665413133e-05, 'l2_kern_2': 0.00011341944035027563, 'l2_bias_1': 0.000333762469429204, 'l2_bias_2': 0.0028902639100224507, 'lr': 0.00029646420788443013, 'batch_size': 1024}. Best is trial 86 with value: 0.8850448085499383.\u001b[0m\n"
     ]
    },
    {
     "name": "stdout",
     "output_type": "stream",
     "text": [
      "Number of finished trials: 100\n",
      "Best trial:\n",
      "  Value: 0.8850448085499383\n",
      "    units_1: 40\n",
      "    units_2: 40\n",
      "    alpha_1: 0.05851562500000001\n",
      "    alpha_2: 0.020546875\n",
      "    dropout_1: 0.21640625000000002\n",
      "    dropout_2: 0.24921875000000002\n",
      "    l2_kern_1: 0.0018768842935762192\n",
      "    l2_kern_2: 0.00046138396827332176\n",
      "    l2_bias_1: 0.0008816830667755708\n",
      "    l2_bias_2: 1.8105582430271218e-05\n",
      "    lr: 0.0008696990313610563\n",
      "    batch_size: 32\n"
     ]
    },
    {
     "name": "stderr",
     "output_type": "stream",
     "text": [
      "C:\\Users\\User\\AppData\\Local\\Temp\\ipykernel_5968\\4154129606.py:140: DeprecationWarning: KerasClassifier is deprecated, use Sci-Keras (https://github.com/adriangb/scikeras) instead. See https://www.adriangb.com/scikeras/stable/migration.html for help migrating.\n",
      "  ('classifier', KerasClassifier(build_fn=tun.create_model, verbose=0))\n"
     ]
    },
    {
     "name": "stdout",
     "output_type": "stream",
     "text": [
      "117/117 [==============================] - 0s 2ms/step\n",
      "117/117 [==============================] - 0s 2ms/step\n",
      "117/117 [==============================] - 0s 2ms/step\n",
      "117/117 [==============================] - 0s 2ms/step\n",
      "117/117 [==============================] - 0s 2ms/step\n",
      "37/37 [==============================] - 0s 2ms/step\n",
      "37/37 [==============================] - 0s 3ms/step\n",
      "37/37 [==============================] - 0s 2ms/step\n",
      "37/37 [==============================] - 0s 2ms/step\n",
      "37/37 [==============================] - 0s 2ms/step\n",
      "Train mean AUC score is 0.8863892928885626 while test mean AUC score is 0.8943558418945395.\n",
      "183/183 [==============================] - 0s 2ms/step\n",
      "              precision    recall  f1-score   support\n",
      "\n",
      "          No       0.91      0.98      0.94      4648\n",
      "         Yes       0.89      0.62      0.73      1186\n",
      "\n",
      "    accuracy                           0.91      5834\n",
      "   macro avg       0.90      0.80      0.84      5834\n",
      "weighted avg       0.91      0.91      0.90      5834\n",
      "\n"
     ]
    }
   ],
   "source": [
    "# Quasi Monte Carlo\n",
    "params_mc = tun.Tuning(n_trials=trials, sampler = optuna.samplers.QMCSampler())\n",
    "mc_scores = tun.Best_MLP_model(params_mc)\n",
    "mc_scores = mc_scores.rename(columns={'Tree-structured Parzen Estimator': 'Quasi Monte Carlo'})\n"
   ]
  },
  {
   "cell_type": "markdown",
   "id": "a400473c",
   "metadata": {},
   "source": [
    "## Optimal parameters comparison"
   ]
  },
  {
   "cell_type": "code",
   "execution_count": 15,
   "id": "0190828f",
   "metadata": {},
   "outputs": [
    {
     "data": {
      "text/html": [
       "<div>\n",
       "<style scoped>\n",
       "    .dataframe tbody tr th:only-of-type {\n",
       "        vertical-align: middle;\n",
       "    }\n",
       "\n",
       "    .dataframe tbody tr th {\n",
       "        vertical-align: top;\n",
       "    }\n",
       "\n",
       "    .dataframe thead th {\n",
       "        text-align: right;\n",
       "    }\n",
       "</style>\n",
       "<table border=\"1\" class=\"dataframe\">\n",
       "  <thead>\n",
       "    <tr style=\"text-align: right;\">\n",
       "      <th></th>\n",
       "      <th>TPE</th>\n",
       "      <th>RS</th>\n",
       "      <th>GA</th>\n",
       "      <th>MC</th>\n",
       "    </tr>\n",
       "  </thead>\n",
       "  <tbody>\n",
       "    <tr>\n",
       "      <th>NEURONS LAYER 1</th>\n",
       "      <td>37.000000</td>\n",
       "      <td>37.000000</td>\n",
       "      <td>34.000000</td>\n",
       "      <td>40.000000</td>\n",
       "    </tr>\n",
       "    <tr>\n",
       "      <th>NEURONS LAYER 2</th>\n",
       "      <td>25.000000</td>\n",
       "      <td>23.000000</td>\n",
       "      <td>21.000000</td>\n",
       "      <td>40.000000</td>\n",
       "    </tr>\n",
       "    <tr>\n",
       "      <th>AlPHA_l</th>\n",
       "      <td>0.052106</td>\n",
       "      <td>0.033495</td>\n",
       "      <td>0.040039</td>\n",
       "      <td>0.058516</td>\n",
       "    </tr>\n",
       "    <tr>\n",
       "      <th>AlPHA_2</th>\n",
       "      <td>0.021953</td>\n",
       "      <td>0.011575</td>\n",
       "      <td>0.062107</td>\n",
       "      <td>0.020547</td>\n",
       "    </tr>\n",
       "    <tr>\n",
       "      <th>DROPOUT LAYER 1</th>\n",
       "      <td>0.407296</td>\n",
       "      <td>0.211454</td>\n",
       "      <td>0.293840</td>\n",
       "      <td>0.216406</td>\n",
       "    </tr>\n",
       "    <tr>\n",
       "      <th>DROPOUT LAYER 2</th>\n",
       "      <td>0.253895</td>\n",
       "      <td>0.454297</td>\n",
       "      <td>0.215003</td>\n",
       "      <td>0.249219</td>\n",
       "    </tr>\n",
       "    <tr>\n",
       "      <th>KERNEL REGULARIZER_1</th>\n",
       "      <td>0.000093</td>\n",
       "      <td>0.000012</td>\n",
       "      <td>0.000144</td>\n",
       "      <td>0.001877</td>\n",
       "    </tr>\n",
       "    <tr>\n",
       "      <th>KERNEL REGULARIZER_2</th>\n",
       "      <td>0.000333</td>\n",
       "      <td>0.000534</td>\n",
       "      <td>0.000030</td>\n",
       "      <td>0.000461</td>\n",
       "    </tr>\n",
       "    <tr>\n",
       "      <th>BIAS REGURALIZER_1</th>\n",
       "      <td>0.000018</td>\n",
       "      <td>0.000418</td>\n",
       "      <td>0.000067</td>\n",
       "      <td>0.000882</td>\n",
       "    </tr>\n",
       "    <tr>\n",
       "      <th>BIAS REGURALIZER_2</th>\n",
       "      <td>0.000404</td>\n",
       "      <td>0.003113</td>\n",
       "      <td>0.005658</td>\n",
       "      <td>0.000018</td>\n",
       "    </tr>\n",
       "    <tr>\n",
       "      <th>LEARNING RATE</th>\n",
       "      <td>0.001683</td>\n",
       "      <td>0.004086</td>\n",
       "      <td>0.006154</td>\n",
       "      <td>0.000870</td>\n",
       "    </tr>\n",
       "    <tr>\n",
       "      <th>BATCH SIZE</th>\n",
       "      <td>32.000000</td>\n",
       "      <td>512.000000</td>\n",
       "      <td>32.000000</td>\n",
       "      <td>32.000000</td>\n",
       "    </tr>\n",
       "  </tbody>\n",
       "</table>\n",
       "</div>"
      ],
      "text/plain": [
       "                            TPE          RS         GA         MC\n",
       "NEURONS LAYER 1       37.000000   37.000000  34.000000  40.000000\n",
       "NEURONS LAYER 2       25.000000   23.000000  21.000000  40.000000\n",
       "AlPHA_l                0.052106    0.033495   0.040039   0.058516\n",
       "AlPHA_2                0.021953    0.011575   0.062107   0.020547\n",
       "DROPOUT LAYER 1        0.407296    0.211454   0.293840   0.216406\n",
       "DROPOUT LAYER 2        0.253895    0.454297   0.215003   0.249219\n",
       "KERNEL REGULARIZER_1   0.000093    0.000012   0.000144   0.001877\n",
       "KERNEL REGULARIZER_2   0.000333    0.000534   0.000030   0.000461\n",
       "BIAS REGURALIZER_1     0.000018    0.000418   0.000067   0.000882\n",
       "BIAS REGURALIZER_2     0.000404    0.003113   0.005658   0.000018\n",
       "LEARNING RATE          0.001683    0.004086   0.006154   0.000870\n",
       "BATCH SIZE            32.000000  512.000000  32.000000  32.000000"
      ]
     },
     "execution_count": 15,
     "metadata": {},
     "output_type": "execute_result"
    }
   ],
   "source": [
    "params_all = pd.DataFrame(zip([item[1] for item in params_tpe], [item[1] for item in params_rs], \n",
    "                              [item[1] for item in params_ga], [item[1] for item in params_mc]),\n",
    "                          index =['NEURONS LAYER 1 ','NEURONS LAYER 2', \"AlPHA_l\",\"AlPHA_2\", 'DROPOUT LAYER 1 ','DROPOUT LAYER 2',\n",
    "                                  \"KERNEL REGULARIZER_1\",\"KERNEL REGULARIZER_2\",\"BIAS REGURALIZER_1\",\"BIAS REGURALIZER_2\",\n",
    "                                  'LEARNING RATE',\"BATCH SIZE\"] ,\n",
    "                          columns = ['TPE','RS','GA', 'MC'])\n",
    "\n",
    "params_all"
   ]
  },
  {
   "cell_type": "markdown",
   "id": "141f5e3b",
   "metadata": {},
   "source": [
    "## Metrics Summary"
   ]
  },
  {
   "cell_type": "code",
   "execution_count": 16,
   "id": "ff4e10f8",
   "metadata": {
    "scrolled": true
   },
   "outputs": [
    {
     "data": {
      "text/html": [
       "<div>\n",
       "<style scoped>\n",
       "    .dataframe tbody tr th:only-of-type {\n",
       "        vertical-align: middle;\n",
       "    }\n",
       "\n",
       "    .dataframe tbody tr th {\n",
       "        vertical-align: top;\n",
       "    }\n",
       "\n",
       "    .dataframe thead th {\n",
       "        text-align: right;\n",
       "    }\n",
       "</style>\n",
       "<table border=\"1\" class=\"dataframe\">\n",
       "  <thead>\n",
       "    <tr style=\"text-align: right;\">\n",
       "      <th></th>\n",
       "      <th>Tree-structured Parzen Estimator</th>\n",
       "      <th>Tree-structured Parzen Estimator</th>\n",
       "      <th>Genetic Algorithm</th>\n",
       "      <th>Quasi Monte Carlo</th>\n",
       "    </tr>\n",
       "  </thead>\n",
       "  <tbody>\n",
       "    <tr>\n",
       "      <th>Accuracy</th>\n",
       "      <td>0.895955</td>\n",
       "      <td>0.900583</td>\n",
       "      <td>0.904354</td>\n",
       "      <td>0.907439</td>\n",
       "    </tr>\n",
       "    <tr>\n",
       "      <th>Precision</th>\n",
       "      <td>0.826381</td>\n",
       "      <td>0.915068</td>\n",
       "      <td>0.931319</td>\n",
       "      <td>0.887290</td>\n",
       "    </tr>\n",
       "    <tr>\n",
       "      <th>Recall</th>\n",
       "      <td>0.618044</td>\n",
       "      <td>0.563238</td>\n",
       "      <td>0.571669</td>\n",
       "      <td>0.623946</td>\n",
       "    </tr>\n",
       "    <tr>\n",
       "      <th>F1-score</th>\n",
       "      <td>0.707188</td>\n",
       "      <td>0.697286</td>\n",
       "      <td>0.708464</td>\n",
       "      <td>0.732673</td>\n",
       "    </tr>\n",
       "    <tr>\n",
       "      <th>AUC</th>\n",
       "      <td>0.792456</td>\n",
       "      <td>0.774949</td>\n",
       "      <td>0.780456</td>\n",
       "      <td>0.801861</td>\n",
       "    </tr>\n",
       "    <tr>\n",
       "      <th>H-measure</th>\n",
       "      <td>0.487065</td>\n",
       "      <td>0.466846</td>\n",
       "      <td>0.480633</td>\n",
       "      <td>0.518255</td>\n",
       "    </tr>\n",
       "  </tbody>\n",
       "</table>\n",
       "</div>"
      ],
      "text/plain": [
       "           Tree-structured Parzen Estimator  Tree-structured Parzen Estimator  \\\n",
       "Accuracy                           0.895955                          0.900583   \n",
       "Precision                          0.826381                          0.915068   \n",
       "Recall                             0.618044                          0.563238   \n",
       "F1-score                           0.707188                          0.697286   \n",
       "AUC                                0.792456                          0.774949   \n",
       "H-measure                          0.487065                          0.466846   \n",
       "\n",
       "           Genetic Algorithm  Quasi Monte Carlo  \n",
       "Accuracy            0.904354           0.907439  \n",
       "Precision           0.931319           0.887290  \n",
       "Recall              0.571669           0.623946  \n",
       "F1-score            0.708464           0.732673  \n",
       "AUC                 0.780456           0.801861  \n",
       "H-measure           0.480633           0.518255  "
      ]
     },
     "execution_count": 16,
     "metadata": {},
     "output_type": "execute_result"
    }
   ],
   "source": [
    "all_scores = pd.concat([tpe_scores, rs_scores, ga_scores, mc_scores], axis =1)\n",
    "all_scores"
   ]
  },
  {
   "cell_type": "markdown",
   "id": "362d5ed7",
   "metadata": {},
   "source": [
    "## Save results"
   ]
  },
  {
   "cell_type": "code",
   "execution_count": 17,
   "id": "0deef76a",
   "metadata": {},
   "outputs": [],
   "source": [
    "# Save the clean dataset\n",
    "\n",
    "all_scores.to_csv(r'C:\\Users\\........\\Credit_risk_dataset_2_Layer_scores.csv', index=False)\n",
    "\n",
    "params_all.to_csv(r'C:\\Users\\.........\\Credit_risk_dataset_2_Layer_stracture.csv', index=False)\n"
   ]
  }
 ],
 "metadata": {
  "kernelspec": {
   "display_name": "Python 3 (ipykernel)",
   "language": "python",
   "name": "python3"
  },
  "language_info": {
   "codemirror_mode": {
    "name": "ipython",
    "version": 3
   },
   "file_extension": ".py",
   "mimetype": "text/x-python",
   "name": "python",
   "nbconvert_exporter": "python",
   "pygments_lexer": "ipython3",
   "version": "3.9.12"
  }
 },
 "nbformat": 4,
 "nbformat_minor": 5
}
