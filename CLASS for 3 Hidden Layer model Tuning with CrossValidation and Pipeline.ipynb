{
 "cells": [
  {
   "cell_type": "code",
   "execution_count": 1,
   "id": "30413973",
   "metadata": {
    "scrolled": true
   },
   "outputs": [
    {
     "data": {
      "text/html": [
       "<div>\n",
       "<style scoped>\n",
       "    .dataframe tbody tr th:only-of-type {\n",
       "        vertical-align: middle;\n",
       "    }\n",
       "\n",
       "    .dataframe tbody tr th {\n",
       "        vertical-align: top;\n",
       "    }\n",
       "\n",
       "    .dataframe thead th {\n",
       "        text-align: right;\n",
       "    }\n",
       "</style>\n",
       "<table border=\"1\" class=\"dataframe\">\n",
       "  <thead>\n",
       "    <tr style=\"text-align: right;\">\n",
       "      <th></th>\n",
       "      <th>person_age</th>\n",
       "      <th>person_income</th>\n",
       "      <th>person_emp_length</th>\n",
       "      <th>loan_amnt</th>\n",
       "      <th>loan_int_rate</th>\n",
       "      <th>loan_percent_income</th>\n",
       "      <th>cb_person_cred_hist_length</th>\n",
       "      <th>person_home_ownership</th>\n",
       "      <th>loan_intent</th>\n",
       "      <th>loan_grade</th>\n",
       "      <th>cb_person_default_on_file</th>\n",
       "      <th>loan_status</th>\n",
       "    </tr>\n",
       "  </thead>\n",
       "  <tbody>\n",
       "    <tr>\n",
       "      <th>0</th>\n",
       "      <td>23</td>\n",
       "      <td>120000</td>\n",
       "      <td>1.0</td>\n",
       "      <td>25600</td>\n",
       "      <td>12.69</td>\n",
       "      <td>0.21</td>\n",
       "      <td>3</td>\n",
       "      <td>3</td>\n",
       "      <td>1</td>\n",
       "      <td>1</td>\n",
       "      <td>0</td>\n",
       "      <td>0</td>\n",
       "    </tr>\n",
       "    <tr>\n",
       "      <th>1</th>\n",
       "      <td>21</td>\n",
       "      <td>42500</td>\n",
       "      <td>3.0</td>\n",
       "      <td>25000</td>\n",
       "      <td>12.73</td>\n",
       "      <td>0.59</td>\n",
       "      <td>3</td>\n",
       "      <td>3</td>\n",
       "      <td>1</td>\n",
       "      <td>2</td>\n",
       "      <td>1</td>\n",
       "      <td>1</td>\n",
       "    </tr>\n",
       "    <tr>\n",
       "      <th>2</th>\n",
       "      <td>26</td>\n",
       "      <td>48000</td>\n",
       "      <td>2.0</td>\n",
       "      <td>25000</td>\n",
       "      <td>9.64</td>\n",
       "      <td>0.52</td>\n",
       "      <td>4</td>\n",
       "      <td>3</td>\n",
       "      <td>1</td>\n",
       "      <td>1</td>\n",
       "      <td>0</td>\n",
       "      <td>1</td>\n",
       "    </tr>\n",
       "    <tr>\n",
       "      <th>3</th>\n",
       "      <td>25</td>\n",
       "      <td>42360</td>\n",
       "      <td>1.0</td>\n",
       "      <td>25000</td>\n",
       "      <td>16.35</td>\n",
       "      <td>0.59</td>\n",
       "      <td>3</td>\n",
       "      <td>3</td>\n",
       "      <td>1</td>\n",
       "      <td>4</td>\n",
       "      <td>1</td>\n",
       "      <td>1</td>\n",
       "    </tr>\n",
       "    <tr>\n",
       "      <th>4</th>\n",
       "      <td>23</td>\n",
       "      <td>50000</td>\n",
       "      <td>1.0</td>\n",
       "      <td>25000</td>\n",
       "      <td>7.90</td>\n",
       "      <td>0.50</td>\n",
       "      <td>3</td>\n",
       "      <td>3</td>\n",
       "      <td>0</td>\n",
       "      <td>0</td>\n",
       "      <td>0</td>\n",
       "      <td>1</td>\n",
       "    </tr>\n",
       "  </tbody>\n",
       "</table>\n",
       "</div>"
      ],
      "text/plain": [
       "   person_age  person_income  person_emp_length  loan_amnt  loan_int_rate  \\\n",
       "0          23         120000                1.0      25600          12.69   \n",
       "1          21          42500                3.0      25000          12.73   \n",
       "2          26          48000                2.0      25000           9.64   \n",
       "3          25          42360                1.0      25000          16.35   \n",
       "4          23          50000                1.0      25000           7.90   \n",
       "\n",
       "   loan_percent_income  cb_person_cred_hist_length  person_home_ownership  \\\n",
       "0                 0.21                           3                      3   \n",
       "1                 0.59                           3                      3   \n",
       "2                 0.52                           4                      3   \n",
       "3                 0.59                           3                      3   \n",
       "4                 0.50                           3                      3   \n",
       "\n",
       "   loan_intent  loan_grade  cb_person_default_on_file  loan_status  \n",
       "0            1           1                          0            0  \n",
       "1            1           2                          1            1  \n",
       "2            1           1                          0            1  \n",
       "3            1           4                          1            1  \n",
       "4            0           0                          0            1  "
      ]
     },
     "execution_count": 1,
     "metadata": {},
     "output_type": "execute_result"
    }
   ],
   "source": [
    "import pandas as pd\n",
    "import numpy as np\n",
    "import seaborn as sns\n",
    "import matplotlib.pyplot as plt\n",
    "\n",
    "import timeit\n",
    "\n",
    "from sklearn.metrics import confusion_matrix, classification_report, precision_recall_curve\n",
    "from sklearn.metrics import roc_auc_score, roc_curve, f1_score, precision_score, recall_score, accuracy_score, auc\n",
    "from hmeasure import h_score\n",
    "from sklearn.model_selection import train_test_split\n",
    "from sklearn.preprocessing import StandardScaler\n",
    "from sklearn.metrics import classification_report, precision_score, recall_score, f1_score, precision_recall_fscore_support,roc_auc_score, accuracy_score\n",
    "from sklearn.model_selection import cross_val_score\n",
    "from sklearn.preprocessing import LabelEncoder\n",
    "from sklearn.model_selection import StratifiedKFold\n",
    "from sklearn.pipeline import Pipeline\n",
    "\n",
    "import optuna\n",
    "\n",
    "import tensorflow as tf\n",
    "from tensorflow import keras\n",
    "from tensorflow.keras import layers\n",
    "from tensorflow.keras.callbacks import EarlyStopping\n",
    "from tensorflow.keras import regularizers\n",
    "\n",
    "from keras.layers import Dense, Dropout\n",
    "from keras.regularizers import l2\n",
    "from keras.layers import LeakyReLU\n",
    "from keras.wrappers.scikit_learn import KerasClassifier\n",
    "from keras import initializers\n",
    "from keras.models import Sequential\n",
    "from keras.optimizers import Adam\n",
    "\n",
    "# Read the data using csv\n",
    "path_train = r'C:\\Users\\...\\credit_risk_dataset_cleanedtraining.csv'\n",
    "df_train = pd.read_csv(path_train, encoding = \"ISO-8859-1\")\n",
    "\n",
    "path_test = r'C:\\Users\\...\\credit_risk_dataset_cleanedtesting.csv'\n",
    "df_test = pd.read_csv(path_test, encoding = \"ISO-8859-1\")\n",
    "\n",
    "# Prin 5 forst lines of df\n",
    "df_train.head()"
   ]
  },
  {
   "cell_type": "code",
   "execution_count": 2,
   "id": "185c6f92",
   "metadata": {},
   "outputs": [],
   "source": [
    "X_test, y_test = df_test.iloc[:,:-1], df_test.iloc[:,-1]\n",
    "\n",
    "X_train, y_train = df_train.iloc[:,:-1], df_train.iloc[:,-1]\n",
    "\n",
    "X_train, X_val, y_train, y_val = train_test_split(X_train, y_train, stratify=y_train, test_size=0.2)"
   ]
  },
  {
   "cell_type": "code",
   "execution_count": 3,
   "id": "516ba865",
   "metadata": {},
   "outputs": [],
   "source": [
    "class tuning_methods:\n",
    "    \n",
    "    def __init__(self, X_train, X_val, y_train,  y_val, X_test, y_test):\n",
    "        \n",
    "        self.X_train = X_train\n",
    "        self.X_val = X_val\n",
    "        self.X_test = X_test\n",
    "        self.y_test = y_test\n",
    "        self.y_train = y_train\n",
    "        self.y_val = y_val\n",
    "    \n",
    "  # Define the Keras model\n",
    "    def create_model(self, units_1, alpha_1, dropout_1, l2_kern_1, l2_bias_1,\n",
    "                 units_2, alpha_2, dropout_2, l2_kern_2, l2_bias_2,\n",
    "                 units_3, alpha_3, dropout_3, l2_kern_3, l2_bias_3,\n",
    "                 lr, batch_size):        # \n",
    "    \n",
    "        model = Sequential()\n",
    "    \n",
    "        model.add(Dense(units_1, \n",
    "                input_shape=(X_train.shape[1],), \n",
    "                activation = LeakyReLU(alpha=alpha_1),\n",
    "                kernel_regularizer = l2(l2_kern_1),\n",
    "                bias_regularizer = l2(l2_bias_1),\n",
    "                kernel_initializer = initializers.RandomNormal(mean=0.0, stddev=0.05)\n",
    "        ))\n",
    "        model.add(Dropout(dropout_1))\n",
    "    \n",
    "        model.add(Dense(units_2,\n",
    "                    activation =LeakyReLU(alpha=alpha_2),\n",
    "                    kernel_regularizer = l2(l2_kern_2),\n",
    "                    bias_regularizer = l2(l2_bias_2),\n",
    "                    kernel_initializer = initializers.RandomNormal(mean=0.0, stddev=0.05)\n",
    "        ))\n",
    "        model.add(Dropout(dropout_2))\n",
    "    \n",
    "        model.add(Dense(units_3,\n",
    "                        activation =LeakyReLU(alpha=alpha_3),\n",
    "                        kernel_regularizer = l2(l2_kern_3),\n",
    "                        bias_regularizer = l2(l2_bias_3),\n",
    "                        kernel_initializer = initializers.RandomNormal(mean=0.0, stddev=0.05)\n",
    "        ))\n",
    "        model.add(Dropout(dropout_3))\n",
    "    \n",
    "        model.add(Dense(1, activation='sigmoid'))\n",
    "    \n",
    "        optimizer = Adam(learning_rate=lr)\n",
    "        model.compile(optimizer=optimizer,\n",
    "                  loss='binary_crossentropy', \n",
    "                  metrics=['AUC'])\n",
    "        return model\n",
    "\n",
    "    \n",
    "    # Define the Optuna study\n",
    "    def objective(self, trial):\n",
    "        \n",
    "        # Define the pipeline\n",
    "        pipeline = Pipeline([\n",
    "                ('scaler', StandardScaler()),\n",
    "                ('classifier', KerasClassifier(build_fn=self.create_model, verbose=0))\n",
    "                ])\n",
    "        # Define hyperparameters range values for tuning\n",
    "        units_1 = trial.suggest_int('units_1', 2, 40)\n",
    "        units_2 = trial.suggest_int('units_2', 2, 40)\n",
    "        units_3 = trial.suggest_int('units_3', 2, 40)\n",
    "        alpha_1 = trial.suggest_float('alpha_1', 0.01, 0.1)\n",
    "        alpha_2 = trial.suggest_float('alpha_2', 0.01, 0.1)\n",
    "        alpha_3 = trial.suggest_float('alpha_3', 0.01, 0.1)\n",
    "        dropout_1 = trial.suggest_float(\"dropout_1\", 0.2, 0.5)    \n",
    "        dropout_2 = trial.suggest_float(\"dropout_2\", 0.2, 0.5)    \n",
    "        dropout_3 = trial.suggest_float(\"dropout_3\", 0.2, 0.5)    \n",
    "        l2_kern_1 = trial.suggest_float(\"l2_kern_1\",  1e-5, 1e-2, log=True)\n",
    "        l2_kern_2 = trial.suggest_float(\"l2_kern_2\",  1e-5, 1e-2, log=True)\n",
    "        l2_kern_3 = trial.suggest_float(\"l2_kern_3\",  1e-5, 1e-2, log=True)\n",
    "        l2_bias_1 = trial.suggest_float(\"l2_bias_1\",  1e-5, 1e-2, log=True)\n",
    "        l2_bias_2 = trial.suggest_float(\"l2_bias_2\",  1e-5, 1e-2, log=True)\n",
    "        l2_bias_3 = trial.suggest_float(\"l2_bias_3\",  1e-5, 1e-2, log=True)\n",
    "        lr = trial.suggest_float(\"lr\", 5e-5, 1e-2, log=True)\n",
    "        batch_size = trial.suggest_categorical('batch_size', [16, 32, 64, 128, 256, 512, 1024])\n",
    "        epochs = 200\n",
    "        validation_data = (self.X_val, self.y_val)\n",
    "        early_stopping = EarlyStopping(monitor='loss', patience=5, restore_best_weights=True)\n",
    "        \n",
    "        # Set parameters into pipeline\n",
    "        pipeline.set_params(classifier__units_1=units_1,\n",
    "                        classifier__alpha_1=alpha_1,\n",
    "                        classifier__l2_kern_1=l2_kern_1,\n",
    "                        classifier__l2_bias_1=l2_bias_1,\n",
    "                        classifier__dropout_1=dropout_1,\n",
    "                        classifier__units_2=units_2,\n",
    "                        classifier__alpha_2=alpha_2,\n",
    "                        classifier__l2_kern_2=l2_kern_2,\n",
    "                        classifier__l2_bias_2=l2_bias_2,\n",
    "                        classifier__dropout_2=dropout_2,\n",
    "                        classifier__units_3=units_3,\n",
    "                        classifier__alpha_3=alpha_3,\n",
    "                        classifier__l2_kern_3=l2_kern_3,\n",
    "                        classifier__l2_bias_3=l2_bias_3,\n",
    "                        classifier__dropout_3=dropout_3,\n",
    "                        classifier__lr=lr,\n",
    "                        classifier__epochs = epochs,\n",
    "                        classifier__batch_size = batch_size,\n",
    "                        classifier__validation_data = validation_data,\n",
    "                        classifier__callbacks=[early_stopping])\n",
    "        \n",
    "        # Apply cross validation\n",
    "        kfold = StratifiedKFold(n_splits=3, shuffle=True, random_state=2023)\n",
    "        scores = cross_val_score(pipeline, self.X_train, self.y_train, cv=kfold, scoring=\"roc_auc\", error_score='raise')\n",
    "    \n",
    "        if trial.should_prune():\n",
    "                raise optuna.TrialPruned()\n",
    "\n",
    "        return np.mean(scores)\n",
    "\n",
    "    def Tuning(self, n_trials=100, sampler = optuna.samplers.TPESampler()):\n",
    "        \n",
    "        start = timeit.default_timer()\n",
    "\n",
    "        study = optuna.create_study(direction=\"maximize\",             \n",
    "                            sampler=sampler, \n",
    "                            pruner= optuna.pruners.MedianPruner()\n",
    "                           )\n",
    "        study.optimize(self.objective, n_trials=n_trials)  # to be converged it needs atleast 200 trials \n",
    "\n",
    "        print(\"Number of finished trials: {}\".format(len(study.trials)))\n",
    "\n",
    "        print(\"Best trial:\")\n",
    "        trial = study.best_trial\n",
    "\n",
    "        print(\"  Value: {}\".format(trial.value))\n",
    "\n",
    "        stop = timeit.default_timer()\n",
    "\n",
    "        time_opt = stop - start\n",
    "        params_TPE = []\n",
    "\n",
    "        for key, value in trial.params.items():\n",
    "            params_TPE.append([key,value])\n",
    "            print(\"    {}: {}\".format(key, value))\n",
    "            \n",
    "        params_TPE.append([\"time\",round(time_opt/60,2)])\n",
    "\n",
    "        return params_TPE\n",
    "    \n",
    "    def Best_MLP_model(self, params):\n",
    "        \n",
    "        # Define hyperpameters\n",
    "        units_1 = params[0][1]\n",
    "        units_2 = params[1][1]\n",
    "        units_3 = params[2][1]\n",
    "        alpha_1 = np.round(params[3][1],3)\n",
    "        alpha_2 = np.round(params[4][1],3)\n",
    "        alpha_3 = np.round(params[5][1],3)\n",
    "        dropout_1 = np.round(params[6][1],2)\n",
    "        dropout_2 = np.round(params[7][1],2)\n",
    "        dropout_3 = np.round(params[8][1],2)\n",
    "        kernel_regularizer_1=np.round(params[9][1],5)\n",
    "        kernel_regularizer_2=np.round(params[10][1],5)\n",
    "        kernel_regularizer_3=np.round(params[11][1],5)\n",
    "        bias_regularizer_1=np.round(params[12][1],5)\n",
    "        bias_regularizer_2=np.round(params[13][1],5)\n",
    "        bias_regularizer_3=np.round(params[14][1],5)\n",
    "        lr = np.round(params[15][1],5)\n",
    "        batchs = params[16][1]\n",
    "    \n",
    "        # Define the pipeline\n",
    "        pipeline = Pipeline([\n",
    "                    ('scaler', StandardScaler()),\n",
    "                    ('classifier', KerasClassifier(build_fn=tun.create_model, verbose=0))\n",
    "                ])\n",
    "\n",
    "        # Set hyperparameters\n",
    "        epochs = 200\n",
    "        validation_data = (self.X_val, self.y_val)\n",
    "        early_stopping = EarlyStopping(monitor='loss', patience=5, restore_best_weights=True)\n",
    "        pipeline.set_params(classifier__units_1=units_1,\n",
    "                            classifier__alpha_1 = alpha_1,\n",
    "                            classifier__l2_kern_1=kernel_regularizer_1,\n",
    "                            classifier__l2_bias_1=bias_regularizer_1,\n",
    "                            classifier__dropout_1=dropout_1,\n",
    "                            classifier__units_2=units_2,\n",
    "                            classifier__alpha_2=alpha_2,\n",
    "                            classifier__l2_kern_2=kernel_regularizer_2,\n",
    "                            classifier__l2_bias_2=bias_regularizer_2,\n",
    "                            classifier__dropout_2=dropout_2,\n",
    "                            classifier__units_3=units_3,\n",
    "                            classifier__alpha_3=alpha_3,\n",
    "                            classifier__l2_kern_3=kernel_regularizer_3,\n",
    "                            classifier__l2_bias_3=bias_regularizer_3,\n",
    "                            classifier__dropout_3=dropout_3,\n",
    "                            classifier__lr=lr,\n",
    "                            classifier__epochs = epochs,\n",
    "                            classifier__batch_size = batchs,\n",
    "                            classifier__validation_data = validation_data,\n",
    "                            classifier__callbacks=[early_stopping])\n",
    "        \n",
    "        # Use cross validation to monitor the deferrence between training and testing data as an evidence of overfitting\n",
    "        kfold = StratifiedKFold(n_splits=5, shuffle=True, random_state=2023)\n",
    "        scores_train = cross_val_score(pipeline, self.X_train, self.y_train, cv=kfold, scoring=\"roc_auc\", error_score='raise')\n",
    "        mean_score_train = np.mean(scores_train)\n",
    "\n",
    "        kfold = StratifiedKFold(n_splits=5, shuffle=True, random_state=2023)\n",
    "        scores_test = cross_val_score(pipeline, self.X_test, self.y_test, cv=kfold, scoring=\"roc_auc\", error_score='raise')\n",
    "        mean_score_test = np.mean(scores_test)\n",
    "\n",
    "        print(f\"Train mean AUC score is {mean_score_train} while test mean AUC score is {mean_score_test}.\")\n",
    "      \n",
    "        # Fit the pipeline to the training data\n",
    "        history = pipeline.fit(self.X_train, self.y_train)\n",
    "\n",
    "        #score = pipeline.evaluate(X_test, y_test, verbose=0)  \n",
    "\n",
    "        y_pred_prob_tpe = pipeline.predict(self.X_test)\n",
    "\n",
    "        y_pred_tpe = y_pred_prob_tpe.round()\n",
    "\n",
    "        print(classification_report(self.y_test, y_pred_tpe, target_names = ['No','Yes']))\n",
    "\n",
    "        acc = accuracy_score(self.y_test, y_pred_tpe)\n",
    "        pre = precision_score(self.y_test, y_pred_tpe)\n",
    "        rec = recall_score(self.y_test, y_pred_tpe)\n",
    "        f1 = f1_score(self.y_test, y_pred_tpe)\n",
    "        auc = roc_auc_score(self.y_test, y_pred_tpe)\n",
    "        \n",
    "        y_test_array = np.array(self.y_test)\n",
    "        y_pred_tpe_array = np.array(y_pred_tpe)\n",
    "        H_measure = h_score(y_test_array, y_pred_tpe_array)\n",
    "\n",
    "        opt = [acc, pre, rec, f1, auc, H_measure]\n",
    "\n",
    "        scores = pd.DataFrame(opt, index =['Accuracy', 'Precision', 'Recall', 'F1-score', 'AUC', \"H-measure\"], \n",
    "                              columns =['Tree-structured Parzen Estimator'])\n",
    "        \n",
    "        return scores "
   ]
  },
  {
   "cell_type": "markdown",
   "id": "7d490ce6",
   "metadata": {},
   "source": [
    "## Take scores for every tuning algorithm"
   ]
  },
  {
   "cell_type": "code",
   "execution_count": 4,
   "id": "1f91daea",
   "metadata": {
    "scrolled": true
   },
   "outputs": [
    {
     "name": "stderr",
     "output_type": "stream",
     "text": [
      "\u001b[32m[I 2023-03-02 23:04:52,824]\u001b[0m A new study created in memory with name: no-name-3b002523-105e-45e1-b3e2-084fffb95906\u001b[0m\n",
      "C:\\Users\\User\\AppData\\Local\\Temp\\ipykernel_12316\\574535459.py:60: DeprecationWarning: KerasClassifier is deprecated, use Sci-Keras (https://github.com/adriangb/scikeras) instead. See https://www.adriangb.com/scikeras/stable/migration.html for help migrating.\n",
      "  ('classifier', KerasClassifier(build_fn=self.create_model, verbose=0))\n"
     ]
    },
    {
     "name": "stdout",
     "output_type": "stream",
     "text": [
      "195/195 [==============================] - 1s 3ms/step\n",
      "195/195 [==============================] - 1s 2ms/step\n",
      "195/195 [==============================] - 1s 2ms/step\n"
     ]
    },
    {
     "name": "stderr",
     "output_type": "stream",
     "text": [
      "\u001b[32m[I 2023-03-02 23:05:39,894]\u001b[0m Trial 0 finished with value: 0.86895663991604 and parameters: {'units_1': 14, 'units_2': 35, 'units_3': 38, 'alpha_1': 0.08790238662958884, 'alpha_2': 0.0402434875913882, 'alpha_3': 0.044623555095021646, 'dropout_1': 0.29959674366389866, 'dropout_2': 0.46636660054341156, 'dropout_3': 0.2279736212886275, 'l2_kern_1': 0.0006624875890478167, 'l2_kern_2': 0.00020149621833749255, 'l2_kern_3': 0.005388427895754779, 'l2_bias_1': 8.346761154468321e-05, 'l2_bias_2': 0.0062271481991586644, 'l2_bias_3': 0.003218707379320239, 'lr': 0.0022220983769077086, 'batch_size': 512}. Best is trial 0 with value: 0.86895663991604.\u001b[0m\n",
      "C:\\Users\\User\\AppData\\Local\\Temp\\ipykernel_12316\\574535459.py:60: DeprecationWarning: KerasClassifier is deprecated, use Sci-Keras (https://github.com/adriangb/scikeras) instead. See https://www.adriangb.com/scikeras/stable/migration.html for help migrating.\n",
      "  ('classifier', KerasClassifier(build_fn=self.create_model, verbose=0))\n"
     ]
    },
    {
     "name": "stdout",
     "output_type": "stream",
     "text": [
      "195/195 [==============================] - 1s 2ms/step\n",
      "195/195 [==============================] - 0s 1ms/step\n",
      "195/195 [==============================] - 0s 2ms/step\n"
     ]
    },
    {
     "name": "stderr",
     "output_type": "stream",
     "text": [
      "\u001b[32m[I 2023-03-02 23:08:26,092]\u001b[0m Trial 1 finished with value: 0.8595117106424038 and parameters: {'units_1': 37, 'units_2': 30, 'units_3': 30, 'alpha_1': 0.03799094255598091, 'alpha_2': 0.053988497009108044, 'alpha_3': 0.041222162507640686, 'dropout_1': 0.26337383036697326, 'dropout_2': 0.24982315507362898, 'dropout_3': 0.3777525517788115, 'l2_kern_1': 0.00012542010369282663, 'l2_kern_2': 0.0023084695640879296, 'l2_kern_3': 0.00025706641530132753, 'l2_bias_1': 0.000895206977210595, 'l2_bias_2': 0.0006067071911115718, 'l2_bias_3': 3.95293380796631e-05, 'lr': 5.6006670637220445e-05, 'batch_size': 32}. Best is trial 0 with value: 0.86895663991604.\u001b[0m\n",
      "C:\\Users\\User\\AppData\\Local\\Temp\\ipykernel_12316\\574535459.py:60: DeprecationWarning: KerasClassifier is deprecated, use Sci-Keras (https://github.com/adriangb/scikeras) instead. See https://www.adriangb.com/scikeras/stable/migration.html for help migrating.\n",
      "  ('classifier', KerasClassifier(build_fn=self.create_model, verbose=0))\n"
     ]
    },
    {
     "name": "stdout",
     "output_type": "stream",
     "text": [
      "195/195 [==============================] - 0s 1ms/step\n",
      "195/195 [==============================] - 0s 1ms/step\n",
      "195/195 [==============================] - 0s 2ms/step\n"
     ]
    },
    {
     "name": "stderr",
     "output_type": "stream",
     "text": [
      "\u001b[32m[I 2023-03-02 23:11:09,467]\u001b[0m Trial 2 finished with value: 0.8674944903970235 and parameters: {'units_1': 22, 'units_2': 14, 'units_3': 14, 'alpha_1': 0.01834431483447304, 'alpha_2': 0.058974307638533834, 'alpha_3': 0.03589317135394951, 'dropout_1': 0.2612524694733802, 'dropout_2': 0.3819208365250928, 'dropout_3': 0.47367904017417284, 'l2_kern_1': 0.006697988710375356, 'l2_kern_2': 0.001380660722311603, 'l2_kern_3': 0.0055409884224252425, 'l2_bias_1': 3.130305288359491e-05, 'l2_bias_2': 0.0004556949939784973, 'l2_bias_3': 0.0012161551579604058, 'lr': 0.0009703938252055487, 'batch_size': 16}. Best is trial 0 with value: 0.86895663991604.\u001b[0m\n",
      "C:\\Users\\User\\AppData\\Local\\Temp\\ipykernel_12316\\574535459.py:60: DeprecationWarning: KerasClassifier is deprecated, use Sci-Keras (https://github.com/adriangb/scikeras) instead. See https://www.adriangb.com/scikeras/stable/migration.html for help migrating.\n",
      "  ('classifier', KerasClassifier(build_fn=self.create_model, verbose=0))\n"
     ]
    },
    {
     "name": "stdout",
     "output_type": "stream",
     "text": [
      "195/195 [==============================] - 0s 1ms/step\n",
      "195/195 [==============================] - 0s 1ms/step\n",
      "195/195 [==============================] - 0s 2ms/step\n"
     ]
    },
    {
     "name": "stderr",
     "output_type": "stream",
     "text": [
      "\u001b[32m[I 2023-03-02 23:11:47,386]\u001b[0m Trial 3 finished with value: 0.8582649489686097 and parameters: {'units_1': 9, 'units_2': 3, 'units_3': 8, 'alpha_1': 0.07520130745672554, 'alpha_2': 0.09507379646016792, 'alpha_3': 0.033032884415512415, 'dropout_1': 0.28711440963929125, 'dropout_2': 0.33351813844698625, 'dropout_3': 0.3126410682487145, 'l2_kern_1': 1.1868931161589862e-05, 'l2_kern_2': 4.330290565761023e-05, 'l2_kern_3': 0.0005449517813358624, 'l2_bias_1': 0.001837081511917705, 'l2_bias_2': 0.0019569884931870075, 'l2_bias_3': 0.0027279392046807792, 'lr': 0.0013014917290740512, 'batch_size': 128}. Best is trial 0 with value: 0.86895663991604.\u001b[0m\n",
      "C:\\Users\\User\\AppData\\Local\\Temp\\ipykernel_12316\\574535459.py:60: DeprecationWarning: KerasClassifier is deprecated, use Sci-Keras (https://github.com/adriangb/scikeras) instead. See https://www.adriangb.com/scikeras/stable/migration.html for help migrating.\n",
      "  ('classifier', KerasClassifier(build_fn=self.create_model, verbose=0))\n"
     ]
    },
    {
     "name": "stdout",
     "output_type": "stream",
     "text": [
      "195/195 [==============================] - 0s 2ms/step\n",
      "195/195 [==============================] - 0s 2ms/step\n",
      "195/195 [==============================] - 0s 2ms/step\n"
     ]
    },
    {
     "name": "stderr",
     "output_type": "stream",
     "text": [
      "\u001b[32m[I 2023-03-02 23:12:18,552]\u001b[0m Trial 4 finished with value: 0.8795692177882461 and parameters: {'units_1': 33, 'units_2': 18, 'units_3': 24, 'alpha_1': 0.08663519757953723, 'alpha_2': 0.059126759627386324, 'alpha_3': 0.025216938574464894, 'dropout_1': 0.36325765300946466, 'dropout_2': 0.20433498359211089, 'dropout_3': 0.46227502757215105, 'l2_kern_1': 2.19556973886349e-05, 'l2_kern_2': 5.097167864822247e-05, 'l2_kern_3': 0.0036745071570067943, 'l2_bias_1': 0.00020473160232717174, 'l2_bias_2': 0.0022296257090011072, 'l2_bias_3': 0.00022963339280530418, 'lr': 0.006945542889180919, 'batch_size': 256}. Best is trial 4 with value: 0.8795692177882461.\u001b[0m\n",
      "C:\\Users\\User\\AppData\\Local\\Temp\\ipykernel_12316\\574535459.py:60: DeprecationWarning: KerasClassifier is deprecated, use Sci-Keras (https://github.com/adriangb/scikeras) instead. See https://www.adriangb.com/scikeras/stable/migration.html for help migrating.\n",
      "  ('classifier', KerasClassifier(build_fn=self.create_model, verbose=0))\n"
     ]
    },
    {
     "name": "stdout",
     "output_type": "stream",
     "text": [
      "195/195 [==============================] - 0s 1ms/step\n",
      "195/195 [==============================] - 0s 2ms/step\n",
      "195/195 [==============================] - 0s 2ms/step\n"
     ]
    },
    {
     "name": "stderr",
     "output_type": "stream",
     "text": [
      "\u001b[32m[I 2023-03-02 23:13:42,243]\u001b[0m Trial 5 finished with value: 0.8651100095796291 and parameters: {'units_1': 17, 'units_2': 15, 'units_3': 20, 'alpha_1': 0.09519018765666441, 'alpha_2': 0.010577820630376307, 'alpha_3': 0.05847411533567834, 'dropout_1': 0.2747474751827535, 'dropout_2': 0.4519317738227622, 'dropout_3': 0.31953850603884437, 'l2_kern_1': 0.000512783903601038, 'l2_kern_2': 0.0013868884142085346, 'l2_kern_3': 3.3563040624523856e-05, 'l2_bias_1': 0.0005846598580938209, 'l2_bias_2': 9.314175674412392e-05, 'l2_bias_3': 4.2172694511927313e-05, 'lr': 0.0022000817985262247, 'batch_size': 32}. Best is trial 4 with value: 0.8795692177882461.\u001b[0m\n",
      "C:\\Users\\User\\AppData\\Local\\Temp\\ipykernel_12316\\574535459.py:60: DeprecationWarning: KerasClassifier is deprecated, use Sci-Keras (https://github.com/adriangb/scikeras) instead. See https://www.adriangb.com/scikeras/stable/migration.html for help migrating.\n",
      "  ('classifier', KerasClassifier(build_fn=self.create_model, verbose=0))\n"
     ]
    },
    {
     "name": "stdout",
     "output_type": "stream",
     "text": [
      "195/195 [==============================] - 0s 1ms/step\n",
      "195/195 [==============================] - 0s 1ms/step\n",
      "195/195 [==============================] - 0s 2ms/step\n"
     ]
    },
    {
     "name": "stderr",
     "output_type": "stream",
     "text": [
      "\u001b[32m[I 2023-03-02 23:14:19,641]\u001b[0m Trial 6 finished with value: 0.8430153703601319 and parameters: {'units_1': 31, 'units_2': 23, 'units_3': 15, 'alpha_1': 0.02419831035683643, 'alpha_2': 0.054639420474798986, 'alpha_3': 0.09401147852016076, 'dropout_1': 0.32663231973170287, 'dropout_2': 0.41089011679241616, 'dropout_3': 0.30664921688953756, 'l2_kern_1': 0.0001523491961971083, 'l2_kern_2': 9.12971943580769e-05, 'l2_kern_3': 0.003592241349551154, 'l2_bias_1': 0.00019621181586940457, 'l2_bias_2': 0.0008430208631468776, 'l2_bias_3': 1.2503105054090188e-05, 'lr': 9.04614584167532e-05, 'batch_size': 256}. Best is trial 4 with value: 0.8795692177882461.\u001b[0m\n",
      "C:\\Users\\User\\AppData\\Local\\Temp\\ipykernel_12316\\574535459.py:60: DeprecationWarning: KerasClassifier is deprecated, use Sci-Keras (https://github.com/adriangb/scikeras) instead. See https://www.adriangb.com/scikeras/stable/migration.html for help migrating.\n",
      "  ('classifier', KerasClassifier(build_fn=self.create_model, verbose=0))\n"
     ]
    },
    {
     "name": "stdout",
     "output_type": "stream",
     "text": [
      "195/195 [==============================] - 0s 2ms/step\n",
      "195/195 [==============================] - 0s 1ms/step\n",
      "195/195 [==============================] - 0s 1ms/step\n"
     ]
    },
    {
     "name": "stderr",
     "output_type": "stream",
     "text": [
      "\u001b[32m[I 2023-03-02 23:14:52,313]\u001b[0m Trial 7 finished with value: 0.8345150598292732 and parameters: {'units_1': 18, 'units_2': 2, 'units_3': 40, 'alpha_1': 0.0907177158583499, 'alpha_2': 0.05138712935659379, 'alpha_3': 0.024911614325785335, 'dropout_1': 0.4866401607812229, 'dropout_2': 0.20882421575966664, 'dropout_3': 0.44668120713519155, 'l2_kern_1': 0.00033040263800982654, 'l2_kern_2': 0.0004489498354521256, 'l2_kern_3': 0.00888931880190826, 'l2_bias_1': 0.0017248783970657423, 'l2_bias_2': 0.004062320566845695, 'l2_bias_3': 8.151992625378384e-05, 'lr': 7.338017537073507e-05, 'batch_size': 256}. Best is trial 4 with value: 0.8795692177882461.\u001b[0m\n",
      "C:\\Users\\User\\AppData\\Local\\Temp\\ipykernel_12316\\574535459.py:60: DeprecationWarning: KerasClassifier is deprecated, use Sci-Keras (https://github.com/adriangb/scikeras) instead. See https://www.adriangb.com/scikeras/stable/migration.html for help migrating.\n",
      "  ('classifier', KerasClassifier(build_fn=self.create_model, verbose=0))\n"
     ]
    },
    {
     "name": "stdout",
     "output_type": "stream",
     "text": [
      "195/195 [==============================] - 0s 1ms/step\n",
      "195/195 [==============================] - 1s 2ms/step\n",
      "195/195 [==============================] - 0s 2ms/step\n"
     ]
    },
    {
     "name": "stderr",
     "output_type": "stream",
     "text": [
      "\u001b[32m[I 2023-03-02 23:15:09,701]\u001b[0m Trial 8 finished with value: 0.8536423675856253 and parameters: {'units_1': 30, 'units_2': 7, 'units_3': 15, 'alpha_1': 0.04274385235097979, 'alpha_2': 0.01152207536260096, 'alpha_3': 0.023874440572083152, 'dropout_1': 0.2689697675238979, 'dropout_2': 0.3756128409253211, 'dropout_3': 0.4329775565040985, 'l2_kern_1': 0.0030994503694759296, 'l2_kern_2': 0.007186677653580517, 'l2_kern_3': 0.0019955882840711836, 'l2_bias_1': 0.0036490321798213496, 'l2_bias_2': 9.351296790866527e-05, 'l2_bias_3': 1.5580540862924987e-05, 'lr': 0.005509059500835915, 'batch_size': 1024}. Best is trial 4 with value: 0.8795692177882461.\u001b[0m\n",
      "C:\\Users\\User\\AppData\\Local\\Temp\\ipykernel_12316\\574535459.py:60: DeprecationWarning: KerasClassifier is deprecated, use Sci-Keras (https://github.com/adriangb/scikeras) instead. See https://www.adriangb.com/scikeras/stable/migration.html for help migrating.\n",
      "  ('classifier', KerasClassifier(build_fn=self.create_model, verbose=0))\n"
     ]
    },
    {
     "name": "stdout",
     "output_type": "stream",
     "text": [
      "195/195 [==============================] - 0s 1ms/step\n",
      "195/195 [==============================] - 0s 1ms/step\n",
      "195/195 [==============================] - 0s 1ms/step\n"
     ]
    },
    {
     "name": "stderr",
     "output_type": "stream",
     "text": [
      "\u001b[32m[I 2023-03-02 23:15:27,655]\u001b[0m Trial 9 finished with value: 0.8341704244341462 and parameters: {'units_1': 2, 'units_2': 7, 'units_3': 10, 'alpha_1': 0.028234341755837403, 'alpha_2': 0.02915971547759389, 'alpha_3': 0.05893941815125592, 'dropout_1': 0.41688059537417294, 'dropout_2': 0.300993721249165, 'dropout_3': 0.20179075432795615, 'l2_kern_1': 0.0023534942098208285, 'l2_kern_2': 0.004260959943707023, 'l2_kern_3': 2.3855424560393665e-05, 'l2_bias_1': 0.0020639136919087483, 'l2_bias_2': 9.666175716340457e-05, 'l2_bias_3': 0.00012550861146798606, 'lr': 0.0010064380164678342, 'batch_size': 256}. Best is trial 4 with value: 0.8795692177882461.\u001b[0m\n",
      "C:\\Users\\User\\AppData\\Local\\Temp\\ipykernel_12316\\574535459.py:60: DeprecationWarning: KerasClassifier is deprecated, use Sci-Keras (https://github.com/adriangb/scikeras) instead. See https://www.adriangb.com/scikeras/stable/migration.html for help migrating.\n",
      "  ('classifier', KerasClassifier(build_fn=self.create_model, verbose=0))\n"
     ]
    },
    {
     "name": "stdout",
     "output_type": "stream",
     "text": [
      "195/195 [==============================] - 0s 1ms/step\n",
      "195/195 [==============================] - 0s 1ms/step\n",
      "195/195 [==============================] - 0s 1ms/step\n"
     ]
    },
    {
     "name": "stderr",
     "output_type": "stream",
     "text": [
      "\u001b[32m[I 2023-03-02 23:16:50,677]\u001b[0m Trial 10 finished with value: 0.8646423266758737 and parameters: {'units_1': 40, 'units_2': 22, 'units_3': 2, 'alpha_1': 0.06568407521772181, 'alpha_2': 0.0813950115375695, 'alpha_3': 0.015086694082383775, 'dropout_1': 0.20103301111645155, 'dropout_2': 0.2635740698510692, 'dropout_3': 0.4963289150074163, 'l2_kern_1': 1.1993751679950448e-05, 'l2_kern_2': 1.2022503979022182e-05, 'l2_kern_3': 0.0007422524197329308, 'l2_bias_1': 1.0532157519549183e-05, 'l2_bias_2': 1.2043728231973513e-05, 'l2_bias_3': 0.00030641092299997345, 'lr': 0.00026408402740119746, 'batch_size': 64}. Best is trial 4 with value: 0.8795692177882461.\u001b[0m\n",
      "C:\\Users\\User\\AppData\\Local\\Temp\\ipykernel_12316\\574535459.py:60: DeprecationWarning: KerasClassifier is deprecated, use Sci-Keras (https://github.com/adriangb/scikeras) instead. See https://www.adriangb.com/scikeras/stable/migration.html for help migrating.\n",
      "  ('classifier', KerasClassifier(build_fn=self.create_model, verbose=0))\n"
     ]
    },
    {
     "name": "stdout",
     "output_type": "stream",
     "text": [
      "195/195 [==============================] - 0s 2ms/step\n",
      "195/195 [==============================] - 0s 1ms/step\n",
      "195/195 [==============================] - 0s 2ms/step\n"
     ]
    },
    {
     "name": "stderr",
     "output_type": "stream",
     "text": [
      "\u001b[32m[I 2023-03-02 23:17:12,186]\u001b[0m Trial 11 finished with value: 0.878037530649617 and parameters: {'units_1': 25, 'units_2': 40, 'units_3': 33, 'alpha_1': 0.07771037178101584, 'alpha_2': 0.034290250674001745, 'alpha_3': 0.07691929685832125, 'dropout_1': 0.37405537282775064, 'dropout_2': 0.49613971706672616, 'dropout_3': 0.2087649453786772, 'l2_kern_1': 5.068967476224736e-05, 'l2_kern_2': 0.00015186083258815082, 'l2_kern_3': 0.0014747304587925528, 'l2_bias_1': 0.00013835882810625286, 'l2_bias_2': 0.008457818201164388, 'l2_bias_3': 0.008369031640323094, 'lr': 0.009988672613110832, 'batch_size': 512}. Best is trial 4 with value: 0.8795692177882461.\u001b[0m\n",
      "C:\\Users\\User\\AppData\\Local\\Temp\\ipykernel_12316\\574535459.py:60: DeprecationWarning: KerasClassifier is deprecated, use Sci-Keras (https://github.com/adriangb/scikeras) instead. See https://www.adriangb.com/scikeras/stable/migration.html for help migrating.\n",
      "  ('classifier', KerasClassifier(build_fn=self.create_model, verbose=0))\n"
     ]
    },
    {
     "name": "stdout",
     "output_type": "stream",
     "text": [
      "195/195 [==============================] - 0s 1ms/step\n",
      "195/195 [==============================] - 0s 1ms/step\n",
      "195/195 [==============================] - 1s 2ms/step\n"
     ]
    },
    {
     "name": "stderr",
     "output_type": "stream",
     "text": [
      "\u001b[32m[I 2023-03-02 23:17:34,587]\u001b[0m Trial 12 finished with value: 0.8745886900671218 and parameters: {'units_1': 28, 'units_2': 38, 'units_3': 29, 'alpha_1': 0.0741984748607804, 'alpha_2': 0.07277214166555843, 'alpha_3': 0.07942827628922491, 'dropout_1': 0.3766765578598206, 'dropout_2': 0.4913767850105706, 'dropout_3': 0.38385038551012607, 'l2_kern_1': 3.693014413018998e-05, 'l2_kern_2': 3.321763316228954e-05, 'l2_kern_3': 0.001351962616567828, 'l2_bias_1': 0.00016498821457738911, 'l2_bias_2': 0.007867756870265549, 'l2_bias_3': 0.007970293232371122, 'lr': 0.007699914516960758, 'batch_size': 512}. Best is trial 4 with value: 0.8795692177882461.\u001b[0m\n",
      "C:\\Users\\User\\AppData\\Local\\Temp\\ipykernel_12316\\574535459.py:60: DeprecationWarning: KerasClassifier is deprecated, use Sci-Keras (https://github.com/adriangb/scikeras) instead. See https://www.adriangb.com/scikeras/stable/migration.html for help migrating.\n",
      "  ('classifier', KerasClassifier(build_fn=self.create_model, verbose=0))\n"
     ]
    },
    {
     "name": "stdout",
     "output_type": "stream",
     "text": [
      "195/195 [==============================] - 0s 1ms/step\n",
      "195/195 [==============================] - 1s 3ms/step\n",
      "195/195 [==============================] - 0s 2ms/step\n"
     ]
    },
    {
     "name": "stderr",
     "output_type": "stream",
     "text": [
      "\u001b[32m[I 2023-03-02 23:18:00,984]\u001b[0m Trial 13 finished with value: 0.8783705511940458 and parameters: {'units_1': 25, 'units_2': 29, 'units_3': 29, 'alpha_1': 0.06002931947268421, 'alpha_2': 0.028976361556947935, 'alpha_3': 0.07597788569570241, 'dropout_1': 0.4056863517118995, 'dropout_2': 0.2025428367094957, 'dropout_3': 0.28334131305940263, 'l2_kern_1': 4.059585945753657e-05, 'l2_kern_2': 0.0003340170297720691, 'l2_kern_3': 0.00020707476377033535, 'l2_bias_1': 8.17469158353089e-05, 'l2_bias_2': 0.001703702271143069, 'l2_bias_3': 0.0007452650549280622, 'lr': 0.008508350612018021, 'batch_size': 512}. Best is trial 4 with value: 0.8795692177882461.\u001b[0m\n",
      "C:\\Users\\User\\AppData\\Local\\Temp\\ipykernel_12316\\574535459.py:60: DeprecationWarning: KerasClassifier is deprecated, use Sci-Keras (https://github.com/adriangb/scikeras) instead. See https://www.adriangb.com/scikeras/stable/migration.html for help migrating.\n",
      "  ('classifier', KerasClassifier(build_fn=self.create_model, verbose=0))\n"
     ]
    },
    {
     "name": "stdout",
     "output_type": "stream",
     "text": [
      "195/195 [==============================] - 0s 1ms/step\n",
      "195/195 [==============================] - 1s 3ms/step\n",
      "195/195 [==============================] - 1s 2ms/step\n"
     ]
    },
    {
     "name": "stderr",
     "output_type": "stream",
     "text": [
      "\u001b[32m[I 2023-03-02 23:20:52,309]\u001b[0m Trial 14 finished with value: 0.8782119424686184 and parameters: {'units_1': 34, 'units_2': 28, 'units_3': 25, 'alpha_1': 0.05764149726157067, 'alpha_2': 0.024302858580283474, 'alpha_3': 0.06947993273058638, 'dropout_1': 0.43748882667174405, 'dropout_2': 0.20507525876631272, 'dropout_3': 0.26440598941380805, 'l2_kern_1': 4.2502598736279605e-05, 'l2_kern_2': 0.0004079745524746039, 'l2_kern_3': 0.00012892876524585713, 'l2_bias_1': 5.635807901156872e-05, 'l2_bias_2': 0.0019105095785925624, 'l2_bias_3': 0.0005325555962789586, 'lr': 0.0038914921276859433, 'batch_size': 16}. Best is trial 4 with value: 0.8795692177882461.\u001b[0m\n",
      "C:\\Users\\User\\AppData\\Local\\Temp\\ipykernel_12316\\574535459.py:60: DeprecationWarning: KerasClassifier is deprecated, use Sci-Keras (https://github.com/adriangb/scikeras) instead. See https://www.adriangb.com/scikeras/stable/migration.html for help migrating.\n",
      "  ('classifier', KerasClassifier(build_fn=self.create_model, verbose=0))\n"
     ]
    },
    {
     "name": "stdout",
     "output_type": "stream",
     "text": [
      "195/195 [==============================] - 0s 1ms/step\n",
      "195/195 [==============================] - 0s 2ms/step\n",
      "195/195 [==============================] - 0s 2ms/step\n"
     ]
    },
    {
     "name": "stderr",
     "output_type": "stream",
     "text": [
      "\u001b[32m[I 2023-03-02 23:21:39,292]\u001b[0m Trial 15 finished with value: 0.8578001053817236 and parameters: {'units_1': 24, 'units_2': 16, 'units_3': 23, 'alpha_1': 0.05026103713470116, 'alpha_2': 0.07006186279652456, 'alpha_3': 0.08907955225138042, 'dropout_1': 0.42267704454663574, 'dropout_2': 0.2555441804818992, 'dropout_3': 0.26427058357383293, 'l2_kern_1': 2.611525162188896e-05, 'l2_kern_2': 1.0444111137701676e-05, 'l2_kern_3': 0.0001191748812173287, 'l2_bias_1': 0.009401146006836484, 'l2_bias_2': 0.0017577453780927045, 'l2_bias_3': 0.0003619378773603713, 'lr': 0.00034162147346718686, 'batch_size': 128}. Best is trial 4 with value: 0.8795692177882461.\u001b[0m\n",
      "C:\\Users\\User\\AppData\\Local\\Temp\\ipykernel_12316\\574535459.py:60: DeprecationWarning: KerasClassifier is deprecated, use Sci-Keras (https://github.com/adriangb/scikeras) instead. See https://www.adriangb.com/scikeras/stable/migration.html for help migrating.\n",
      "  ('classifier', KerasClassifier(build_fn=self.create_model, verbose=0))\n"
     ]
    },
    {
     "name": "stdout",
     "output_type": "stream",
     "text": [
      "195/195 [==============================] - 0s 1ms/step\n",
      "195/195 [==============================] - 0s 1ms/step\n",
      "195/195 [==============================] - 1s 2ms/step\n"
     ]
    },
    {
     "name": "stderr",
     "output_type": "stream",
     "text": [
      "\u001b[32m[I 2023-03-02 23:22:06,122]\u001b[0m Trial 16 finished with value: 0.874649397936032 and parameters: {'units_1': 34, 'units_2': 29, 'units_3': 27, 'alpha_1': 0.060834416606535394, 'alpha_2': 0.042412281479990224, 'alpha_3': 0.01211266927847749, 'dropout_1': 0.4707092045717615, 'dropout_2': 0.298848344728727, 'dropout_3': 0.3922845108768256, 'l2_kern_1': 0.00011102922484097308, 'l2_kern_2': 4.776506180020271e-05, 'l2_kern_3': 9.941164777742132e-05, 'l2_bias_1': 0.00035815832835405306, 'l2_bias_2': 0.0010617841112751508, 'l2_bias_3': 0.0009216483641241336, 'lr': 0.003869213911142648, 'batch_size': 1024}. Best is trial 4 with value: 0.8795692177882461.\u001b[0m\n",
      "C:\\Users\\User\\AppData\\Local\\Temp\\ipykernel_12316\\574535459.py:60: DeprecationWarning: KerasClassifier is deprecated, use Sci-Keras (https://github.com/adriangb/scikeras) instead. See https://www.adriangb.com/scikeras/stable/migration.html for help migrating.\n",
      "  ('classifier', KerasClassifier(build_fn=self.create_model, verbose=0))\n"
     ]
    },
    {
     "name": "stdout",
     "output_type": "stream",
     "text": [
      "195/195 [==============================] - 0s 1ms/step\n",
      "195/195 [==============================] - 1s 3ms/step\n",
      "195/195 [==============================] - 1s 2ms/step\n"
     ]
    },
    {
     "name": "stderr",
     "output_type": "stream",
     "text": [
      "\u001b[32m[I 2023-03-02 23:23:46,542]\u001b[0m Trial 17 finished with value: 0.8757590325692551 and parameters: {'units_1': 26, 'units_2': 18, 'units_3': 34, 'alpha_1': 0.0994315966234469, 'alpha_2': 0.019909642147158027, 'alpha_3': 0.04938732330125885, 'dropout_1': 0.37251033343326867, 'dropout_2': 0.22751107520764682, 'dropout_3': 0.272807862566396, 'l2_kern_1': 2.1240153626994698e-05, 'l2_kern_2': 0.0009152815581305366, 'l2_kern_3': 1.257306664986504e-05, 'l2_bias_1': 2.4802965414900157e-05, 'l2_bias_2': 0.00028654935311009367, 'l2_bias_3': 0.00014047901654777085, 'lr': 0.000414594745636086, 'batch_size': 64}. Best is trial 4 with value: 0.8795692177882461.\u001b[0m\n",
      "C:\\Users\\User\\AppData\\Local\\Temp\\ipykernel_12316\\574535459.py:60: DeprecationWarning: KerasClassifier is deprecated, use Sci-Keras (https://github.com/adriangb/scikeras) instead. See https://www.adriangb.com/scikeras/stable/migration.html for help migrating.\n",
      "  ('classifier', KerasClassifier(build_fn=self.create_model, verbose=0))\n"
     ]
    },
    {
     "name": "stdout",
     "output_type": "stream",
     "text": [
      "195/195 [==============================] - 0s 1ms/step\n",
      "195/195 [==============================] - 1s 2ms/step\n",
      "195/195 [==============================] - 0s 1ms/step\n"
     ]
    },
    {
     "name": "stderr",
     "output_type": "stream",
     "text": [
      "\u001b[32m[I 2023-03-02 23:24:22,787]\u001b[0m Trial 18 finished with value: 0.8846080278418734 and parameters: {'units_1': 40, 'units_2': 25, 'units_3': 20, 'alpha_1': 0.01005391229054186, 'alpha_2': 0.06445690647854857, 'alpha_3': 0.06666253940326092, 'dropout_1': 0.33102465142796084, 'dropout_2': 0.2950764388982768, 'dropout_3': 0.3552435204965569, 'l2_kern_1': 6.530953115834884e-05, 'l2_kern_2': 9.351332840476695e-05, 'l2_kern_3': 0.0004276595657593805, 'l2_bias_1': 7.188516043555662e-05, 'l2_bias_2': 0.00026926871079554316, 'l2_bias_3': 0.0014879593280165116, 'lr': 0.0023198696762510985, 'batch_size': 256}. Best is trial 18 with value: 0.8846080278418734.\u001b[0m\n",
      "C:\\Users\\User\\AppData\\Local\\Temp\\ipykernel_12316\\574535459.py:60: DeprecationWarning: KerasClassifier is deprecated, use Sci-Keras (https://github.com/adriangb/scikeras) instead. See https://www.adriangb.com/scikeras/stable/migration.html for help migrating.\n",
      "  ('classifier', KerasClassifier(build_fn=self.create_model, verbose=0))\n"
     ]
    },
    {
     "name": "stdout",
     "output_type": "stream",
     "text": [
      "195/195 [==============================] - 0s 1ms/step\n",
      "195/195 [==============================] - 1s 2ms/step\n",
      "195/195 [==============================] - 0s 1ms/step\n"
     ]
    },
    {
     "name": "stderr",
     "output_type": "stream",
     "text": [
      "\u001b[32m[I 2023-03-02 23:25:01,540]\u001b[0m Trial 19 finished with value: 0.8835225972004283 and parameters: {'units_1': 39, 'units_2': 24, 'units_3': 21, 'alpha_1': 0.011482283928747615, 'alpha_2': 0.07105817971218256, 'alpha_3': 0.06555771717011155, 'dropout_1': 0.3322818943167243, 'dropout_2': 0.2961099806828711, 'dropout_3': 0.3527688048116078, 'l2_kern_1': 7.233854887959513e-05, 'l2_kern_2': 8.842355543086417e-05, 'l2_kern_3': 0.000665179106716205, 'l2_bias_1': 0.00036275151445713544, 'l2_bias_2': 0.00019182476203648437, 'l2_bias_3': 0.0025414064949759343, 'lr': 0.002126518233701848, 'batch_size': 256}. Best is trial 18 with value: 0.8846080278418734.\u001b[0m\n",
      "C:\\Users\\User\\AppData\\Local\\Temp\\ipykernel_12316\\574535459.py:60: DeprecationWarning: KerasClassifier is deprecated, use Sci-Keras (https://github.com/adriangb/scikeras) instead. See https://www.adriangb.com/scikeras/stable/migration.html for help migrating.\n",
      "  ('classifier', KerasClassifier(build_fn=self.create_model, verbose=0))\n"
     ]
    },
    {
     "name": "stdout",
     "output_type": "stream",
     "text": [
      "195/195 [==============================] - 0s 2ms/step\n",
      "195/195 [==============================] - 0s 2ms/step\n",
      "195/195 [==============================] - 1s 2ms/step\n"
     ]
    },
    {
     "name": "stderr",
     "output_type": "stream",
     "text": [
      "\u001b[32m[I 2023-03-02 23:25:54,429]\u001b[0m Trial 20 finished with value: 0.8830100262491737 and parameters: {'units_1': 39, 'units_2': 25, 'units_3': 18, 'alpha_1': 0.014715344159792514, 'alpha_2': 0.0959311451132025, 'alpha_3': 0.06787506334513797, 'dropout_1': 0.3281882863534613, 'dropout_2': 0.3079125360609414, 'dropout_3': 0.3514010105139065, 'l2_kern_1': 0.0002106813547561515, 'l2_kern_2': 1.981936461624144e-05, 'l2_kern_3': 0.00051916526270474, 'l2_bias_1': 0.00048008719698795104, 'l2_bias_2': 2.835234703048989e-05, 'l2_bias_3': 0.002155634612068487, 'lr': 0.0019340206805564112, 'batch_size': 256}. Best is trial 18 with value: 0.8846080278418734.\u001b[0m\n",
      "C:\\Users\\User\\AppData\\Local\\Temp\\ipykernel_12316\\574535459.py:60: DeprecationWarning: KerasClassifier is deprecated, use Sci-Keras (https://github.com/adriangb/scikeras) instead. See https://www.adriangb.com/scikeras/stable/migration.html for help migrating.\n",
      "  ('classifier', KerasClassifier(build_fn=self.create_model, verbose=0))\n"
     ]
    },
    {
     "name": "stdout",
     "output_type": "stream",
     "text": [
      "195/195 [==============================] - 0s 1ms/step\n",
      "195/195 [==============================] - 1s 2ms/step\n",
      "195/195 [==============================] - 0s 1ms/step\n"
     ]
    },
    {
     "name": "stderr",
     "output_type": "stream",
     "text": [
      "\u001b[32m[I 2023-03-02 23:26:37,590]\u001b[0m Trial 21 finished with value: 0.8814296534618729 and parameters: {'units_1': 40, 'units_2': 25, 'units_3': 19, 'alpha_1': 0.012809844155082226, 'alpha_2': 0.09952787819400111, 'alpha_3': 0.06759087950829042, 'dropout_1': 0.3293837896649408, 'dropout_2': 0.3120288132462363, 'dropout_3': 0.35073865900294815, 'l2_kern_1': 9.474529813464142e-05, 'l2_kern_2': 2.082533204691429e-05, 'l2_kern_3': 0.0005370020417956249, 'l2_bias_1': 0.0004392673409176198, 'l2_bias_2': 1.4726850978336096e-05, 'l2_bias_3': 0.0019680748028712424, 'lr': 0.0017886032942516664, 'batch_size': 256}. Best is trial 18 with value: 0.8846080278418734.\u001b[0m\n",
      "C:\\Users\\User\\AppData\\Local\\Temp\\ipykernel_12316\\574535459.py:60: DeprecationWarning: KerasClassifier is deprecated, use Sci-Keras (https://github.com/adriangb/scikeras) instead. See https://www.adriangb.com/scikeras/stable/migration.html for help migrating.\n",
      "  ('classifier', KerasClassifier(build_fn=self.create_model, verbose=0))\n"
     ]
    },
    {
     "name": "stdout",
     "output_type": "stream",
     "text": [
      "195/195 [==============================] - 0s 2ms/step\n",
      "195/195 [==============================] - 1s 3ms/step\n",
      "195/195 [==============================] - 0s 1ms/step\n"
     ]
    },
    {
     "name": "stderr",
     "output_type": "stream",
     "text": [
      "\u001b[32m[I 2023-03-02 23:27:26,149]\u001b[0m Trial 22 finished with value: 0.8714409124299557 and parameters: {'units_1': 36, 'units_2': 34, 'units_3': 18, 'alpha_1': 0.010938937272530893, 'alpha_2': 0.08180699325383645, 'alpha_3': 0.06784605674035643, 'dropout_1': 0.322445323559394, 'dropout_2': 0.28279711281552716, 'dropout_3': 0.3457965686329911, 'l2_kern_1': 0.00020577659137369886, 'l2_kern_2': 9.157406585939838e-05, 'l2_kern_3': 0.0007541536836674426, 'l2_bias_1': 0.0006728365109861097, 'l2_bias_2': 4.2608922023228725e-05, 'l2_bias_3': 0.0034450714132434252, 'lr': 0.0005591546962430625, 'batch_size': 256}. Best is trial 18 with value: 0.8846080278418734.\u001b[0m\n",
      "C:\\Users\\User\\AppData\\Local\\Temp\\ipykernel_12316\\574535459.py:60: DeprecationWarning: KerasClassifier is deprecated, use Sci-Keras (https://github.com/adriangb/scikeras) instead. See https://www.adriangb.com/scikeras/stable/migration.html for help migrating.\n",
      "  ('classifier', KerasClassifier(build_fn=self.create_model, verbose=0))\n"
     ]
    },
    {
     "name": "stdout",
     "output_type": "stream",
     "text": [
      "195/195 [==============================] - 1s 2ms/step\n",
      "195/195 [==============================] - 0s 1ms/step\n",
      "195/195 [==============================] - 0s 1ms/step\n"
     ]
    },
    {
     "name": "stderr",
     "output_type": "stream",
     "text": [
      "\u001b[32m[I 2023-03-02 23:27:58,639]\u001b[0m Trial 23 finished with value: 0.8817513453120077 and parameters: {'units_1': 38, 'units_2': 25, 'units_3': 11, 'alpha_1': 0.030976824412915303, 'alpha_2': 0.08872103299487515, 'alpha_3': 0.05364843207976099, 'dropout_1': 0.3414194778545819, 'dropout_2': 0.342784990115324, 'dropout_3': 0.41543533035843716, 'l2_kern_1': 6.844290684346448e-05, 'l2_kern_2': 9.598666328210868e-05, 'l2_kern_3': 0.0003616197400240627, 'l2_bias_1': 0.0010004518543706574, 'l2_bias_2': 0.00021240970586476667, 'l2_bias_3': 0.0014880738103648257, 'lr': 0.003301193765880795, 'batch_size': 256}. Best is trial 18 with value: 0.8846080278418734.\u001b[0m\n",
      "C:\\Users\\User\\AppData\\Local\\Temp\\ipykernel_12316\\574535459.py:60: DeprecationWarning: KerasClassifier is deprecated, use Sci-Keras (https://github.com/adriangb/scikeras) instead. See https://www.adriangb.com/scikeras/stable/migration.html for help migrating.\n",
      "  ('classifier', KerasClassifier(build_fn=self.create_model, verbose=0))\n"
     ]
    },
    {
     "name": "stdout",
     "output_type": "stream",
     "text": [
      "195/195 [==============================] - 0s 1ms/step\n",
      "195/195 [==============================] - 0s 1ms/step\n",
      "195/195 [==============================] - 0s 1ms/step\n"
     ]
    },
    {
     "name": "stderr",
     "output_type": "stream",
     "text": [
      "\u001b[32m[I 2023-03-02 23:28:34,612]\u001b[0m Trial 24 finished with value: 0.8840835605961811 and parameters: {'units_1': 40, 'units_2': 21, 'units_3': 22, 'alpha_1': 0.016051008315440117, 'alpha_2': 0.06505462555651875, 'alpha_3': 0.06318488635736957, 'dropout_1': 0.24032960484272448, 'dropout_2': 0.32540576703672125, 'dropout_3': 0.35210124275654825, 'l2_kern_1': 0.0002665583960007654, 'l2_kern_2': 2.5464300918343146e-05, 'l2_kern_3': 0.0012352518448348771, 'l2_bias_1': 0.0003147755728126855, 'l2_bias_2': 3.31846323369455e-05, 'l2_bias_3': 0.005027546287843201, 'lr': 0.0015447489023039088, 'batch_size': 256}. Best is trial 18 with value: 0.8846080278418734.\u001b[0m\n",
      "C:\\Users\\User\\AppData\\Local\\Temp\\ipykernel_12316\\574535459.py:60: DeprecationWarning: KerasClassifier is deprecated, use Sci-Keras (https://github.com/adriangb/scikeras) instead. See https://www.adriangb.com/scikeras/stable/migration.html for help migrating.\n",
      "  ('classifier', KerasClassifier(build_fn=self.create_model, verbose=0))\n"
     ]
    },
    {
     "name": "stdout",
     "output_type": "stream",
     "text": [
      "195/195 [==============================] - 0s 1ms/step\n",
      "195/195 [==============================] - 0s 2ms/step\n",
      "195/195 [==============================] - 0s 2ms/step\n"
     ]
    },
    {
     "name": "stderr",
     "output_type": "stream",
     "text": [
      "\u001b[32m[I 2023-03-02 23:29:26,430]\u001b[0m Trial 25 finished with value: 0.8807978179556909 and parameters: {'units_1': 36, 'units_2': 19, 'units_3': 22, 'alpha_1': 0.019423785962107615, 'alpha_2': 0.06907243749332714, 'alpha_3': 0.061799191569039506, 'dropout_1': 0.22933801199805343, 'dropout_2': 0.3654575641714931, 'dropout_3': 0.4045067762047071, 'l2_kern_1': 0.0009212177437589904, 'l2_kern_2': 0.0001669914418234031, 'l2_kern_3': 0.0012956343023976385, 'l2_bias_1': 4.070899828415192e-05, 'l2_bias_2': 0.00022339420343759668, 'l2_bias_3': 0.005350155174521308, 'lr': 0.0007449441715175094, 'batch_size': 256}. Best is trial 18 with value: 0.8846080278418734.\u001b[0m\n",
      "C:\\Users\\User\\AppData\\Local\\Temp\\ipykernel_12316\\574535459.py:60: DeprecationWarning: KerasClassifier is deprecated, use Sci-Keras (https://github.com/adriangb/scikeras) instead. See https://www.adriangb.com/scikeras/stable/migration.html for help migrating.\n",
      "  ('classifier', KerasClassifier(build_fn=self.create_model, verbose=0))\n"
     ]
    },
    {
     "name": "stdout",
     "output_type": "stream",
     "text": [
      "195/195 [==============================] - 0s 1ms/step\n",
      "195/195 [==============================] - 0s 2ms/step\n",
      "195/195 [==============================] - 0s 2ms/step\n"
     ]
    },
    {
     "name": "stderr",
     "output_type": "stream",
     "text": [
      "\u001b[32m[I 2023-03-02 23:30:00,371]\u001b[0m Trial 26 finished with value: 0.8821797491734419 and parameters: {'units_1': 30, 'units_2': 13, 'units_3': 26, 'alpha_1': 0.03706793158722041, 'alpha_2': 0.07701579074767369, 'alpha_3': 0.08192768672424018, 'dropout_1': 0.23562118713260216, 'dropout_2': 0.33113371922396156, 'dropout_3': 0.36777736096892916, 'l2_kern_1': 0.00033252760714767805, 'l2_kern_2': 2.4111349304598443e-05, 'l2_kern_3': 6.726943305499621e-05, 'l2_bias_1': 1.5790550473490358e-05, 'l2_bias_2': 4.856863794155657e-05, 'l2_bias_3': 0.0049571949139628245, 'lr': 0.0030150167463572027, 'batch_size': 256}. Best is trial 18 with value: 0.8846080278418734.\u001b[0m\n",
      "C:\\Users\\User\\AppData\\Local\\Temp\\ipykernel_12316\\574535459.py:60: DeprecationWarning: KerasClassifier is deprecated, use Sci-Keras (https://github.com/adriangb/scikeras) instead. See https://www.adriangb.com/scikeras/stable/migration.html for help migrating.\n",
      "  ('classifier', KerasClassifier(build_fn=self.create_model, verbose=0))\n"
     ]
    },
    {
     "name": "stdout",
     "output_type": "stream",
     "text": [
      "195/195 [==============================] - 0s 1ms/step\n",
      "195/195 [==============================] - 0s 1ms/step\n",
      "195/195 [==============================] - 0s 1ms/step\n"
     ]
    },
    {
     "name": "stderr",
     "output_type": "stream",
     "text": [
      "\u001b[32m[I 2023-03-02 23:30:47,231]\u001b[0m Trial 27 finished with value: 0.8810021814343799 and parameters: {'units_1': 33, 'units_2': 32, 'units_3': 20, 'alpha_1': 0.023108101443600728, 'alpha_2': 0.06405017157760451, 'alpha_3': 0.051909912057378604, 'dropout_1': 0.307686066954158, 'dropout_2': 0.27830547215679413, 'dropout_3': 0.3455391494894065, 'l2_kern_1': 0.001232845280584075, 'l2_kern_2': 7.626426679273947e-05, 'l2_kern_3': 0.0009654320817360899, 'l2_bias_1': 0.00010145259629966324, 'l2_bias_2': 0.00013533066370727766, 'l2_bias_3': 0.005154114818492831, 'lr': 0.0013331301940102231, 'batch_size': 256}. Best is trial 18 with value: 0.8846080278418734.\u001b[0m\n",
      "C:\\Users\\User\\AppData\\Local\\Temp\\ipykernel_12316\\574535459.py:60: DeprecationWarning: KerasClassifier is deprecated, use Sci-Keras (https://github.com/adriangb/scikeras) instead. See https://www.adriangb.com/scikeras/stable/migration.html for help migrating.\n",
      "  ('classifier', KerasClassifier(build_fn=self.create_model, verbose=0))\n"
     ]
    },
    {
     "name": "stdout",
     "output_type": "stream",
     "text": [
      "195/195 [==============================] - 0s 1ms/step\n",
      "195/195 [==============================] - 1s 2ms/step\n",
      "195/195 [==============================] - 0s 2ms/step\n"
     ]
    },
    {
     "name": "stderr",
     "output_type": "stream",
     "text": [
      "\u001b[32m[I 2023-03-02 23:31:48,293]\u001b[0m Trial 28 finished with value: 0.8620402449076465 and parameters: {'units_1': 40, 'units_2': 20, 'units_3': 16, 'alpha_1': 0.01078104187785519, 'alpha_2': 0.06483170650084755, 'alpha_3': 0.08677477293401228, 'dropout_1': 0.23877800708320066, 'dropout_2': 0.41670104816465386, 'dropout_3': 0.3299162527452431, 'l2_kern_1': 9.447614545779165e-05, 'l2_kern_2': 0.00020361370226876444, 'l2_kern_3': 0.002492294435504144, 'l2_bias_1': 0.00023966583769974674, 'l2_bias_2': 2.6532451619742948e-05, 'l2_bias_3': 0.000607536348246706, 'lr': 0.00020421231794066363, 'batch_size': 128}. Best is trial 18 with value: 0.8846080278418734.\u001b[0m\n",
      "C:\\Users\\User\\AppData\\Local\\Temp\\ipykernel_12316\\574535459.py:60: DeprecationWarning: KerasClassifier is deprecated, use Sci-Keras (https://github.com/adriangb/scikeras) instead. See https://www.adriangb.com/scikeras/stable/migration.html for help migrating.\n",
      "  ('classifier', KerasClassifier(build_fn=self.create_model, verbose=0))\n"
     ]
    },
    {
     "name": "stdout",
     "output_type": "stream",
     "text": [
      "195/195 [==============================] - 0s 2ms/step\n",
      "195/195 [==============================] - 0s 1ms/step\n",
      "195/195 [==============================] - 0s 2ms/step\n"
     ]
    },
    {
     "name": "stderr",
     "output_type": "stream",
     "text": [
      "\u001b[32m[I 2023-03-02 23:32:37,310]\u001b[0m Trial 29 finished with value: 0.865519242426716 and parameters: {'units_1': 12, 'units_2': 11, 'units_3': 34, 'alpha_1': 0.03205490800144074, 'alpha_2': 0.040668885370727416, 'alpha_3': 0.09903499426239998, 'dropout_1': 0.29997092927625957, 'dropout_2': 0.3210571243610605, 'dropout_3': 0.2950907591873281, 'l2_kern_1': 0.0005586773920666469, 'l2_kern_2': 0.0002205076701638011, 'l2_kern_3': 0.00033442276332140057, 'l2_bias_1': 5.353452647107481e-05, 'l2_bias_2': 0.0004405629332191244, 'l2_bias_3': 0.0035565005414830114, 'lr': 0.004886579721705151, 'batch_size': 64}. Best is trial 18 with value: 0.8846080278418734.\u001b[0m\n",
      "C:\\Users\\User\\AppData\\Local\\Temp\\ipykernel_12316\\574535459.py:60: DeprecationWarning: KerasClassifier is deprecated, use Sci-Keras (https://github.com/adriangb/scikeras) instead. See https://www.adriangb.com/scikeras/stable/migration.html for help migrating.\n",
      "  ('classifier', KerasClassifier(build_fn=self.create_model, verbose=0))\n"
     ]
    },
    {
     "name": "stdout",
     "output_type": "stream",
     "text": [
      "195/195 [==============================] - 0s 2ms/step\n",
      "195/195 [==============================] - 0s 1ms/step\n",
      "195/195 [==============================] - 0s 1ms/step\n"
     ]
    },
    {
     "name": "stderr",
     "output_type": "stream",
     "text": [
      "\u001b[32m[I 2023-03-02 23:33:02,372]\u001b[0m Trial 30 finished with value: 0.880298892037174 and parameters: {'units_1': 37, 'units_2': 26, 'units_3': 7, 'alpha_1': 0.046361567173004076, 'alpha_2': 0.04749892001830357, 'alpha_3': 0.04636343511017731, 'dropout_1': 0.2043450190842244, 'dropout_2': 0.3560520626448976, 'dropout_3': 0.2437125091198002, 'l2_kern_1': 0.0002071032680259234, 'l2_kern_2': 6.464956921170012e-05, 'l2_kern_3': 0.0001927757125195207, 'l2_bias_1': 9.927403802511555e-05, 'l2_bias_2': 0.0001623289143071304, 'l2_bias_3': 0.0014297997583941125, 'lr': 0.0023999752550288404, 'batch_size': 1024}. Best is trial 18 with value: 0.8846080278418734.\u001b[0m\n",
      "C:\\Users\\User\\AppData\\Local\\Temp\\ipykernel_12316\\574535459.py:60: DeprecationWarning: KerasClassifier is deprecated, use Sci-Keras (https://github.com/adriangb/scikeras) instead. See https://www.adriangb.com/scikeras/stable/migration.html for help migrating.\n",
      "  ('classifier', KerasClassifier(build_fn=self.create_model, verbose=0))\n"
     ]
    },
    {
     "name": "stdout",
     "output_type": "stream",
     "text": [
      "195/195 [==============================] - 0s 1ms/step\n",
      "195/195 [==============================] - 0s 1ms/step\n",
      "195/195 [==============================] - 0s 1ms/step\n"
     ]
    },
    {
     "name": "stderr",
     "output_type": "stream",
     "text": [
      "\u001b[32m[I 2023-03-02 23:33:39,766]\u001b[0m Trial 31 finished with value: 0.8794301731176577 and parameters: {'units_1': 40, 'units_2': 22, 'units_3': 17, 'alpha_1': 0.016696191039342334, 'alpha_2': 0.0891930699314515, 'alpha_3': 0.06384665308950116, 'dropout_1': 0.35187878694079106, 'dropout_2': 0.29035352844526513, 'dropout_3': 0.35816317117734564, 'l2_kern_1': 0.00019345309318417905, 'l2_kern_2': 1.6923822643531576e-05, 'l2_kern_3': 0.0004185694790681138, 'l2_bias_1': 0.0003453352043664875, 'l2_bias_2': 2.054677106448173e-05, 'l2_bias_3': 0.0023472200453988124, 'lr': 0.001685902253493463, 'batch_size': 256}. Best is trial 18 with value: 0.8846080278418734.\u001b[0m\n",
      "C:\\Users\\User\\AppData\\Local\\Temp\\ipykernel_12316\\574535459.py:60: DeprecationWarning: KerasClassifier is deprecated, use Sci-Keras (https://github.com/adriangb/scikeras) instead. See https://www.adriangb.com/scikeras/stable/migration.html for help migrating.\n",
      "  ('classifier', KerasClassifier(build_fn=self.create_model, verbose=0))\n"
     ]
    },
    {
     "name": "stdout",
     "output_type": "stream",
     "text": [
      "195/195 [==============================] - 1s 2ms/step\n",
      "195/195 [==============================] - 0s 1ms/step\n",
      "195/195 [==============================] - 0s 2ms/step\n"
     ]
    },
    {
     "name": "stderr",
     "output_type": "stream",
     "text": [
      "\u001b[32m[I 2023-03-02 23:35:12,614]\u001b[0m Trial 32 finished with value: 0.8804797149484141 and parameters: {'units_1': 37, 'units_2': 27, 'units_3': 22, 'alpha_1': 0.02184723759347528, 'alpha_2': 0.07672392808733386, 'alpha_3': 0.07491484350263629, 'dropout_1': 0.39545617053013815, 'dropout_2': 0.31341229527632825, 'dropout_3': 0.3269999744200452, 'l2_kern_1': 6.54334199962777e-05, 'l2_kern_2': 3.0622905850326525e-05, 'l2_kern_3': 0.0009274627053598905, 'l2_bias_1': 0.0012783267287089714, 'l2_bias_2': 4.606757306326423e-05, 'l2_bias_3': 0.001974634332586092, 'lr': 0.0023852653327870997, 'batch_size': 32}. Best is trial 18 with value: 0.8846080278418734.\u001b[0m\n",
      "C:\\Users\\User\\AppData\\Local\\Temp\\ipykernel_12316\\574535459.py:60: DeprecationWarning: KerasClassifier is deprecated, use Sci-Keras (https://github.com/adriangb/scikeras) instead. See https://www.adriangb.com/scikeras/stable/migration.html for help migrating.\n",
      "  ('classifier', KerasClassifier(build_fn=self.create_model, verbose=0))\n"
     ]
    },
    {
     "name": "stdout",
     "output_type": "stream",
     "text": [
      "195/195 [==============================] - 0s 2ms/step\n",
      "195/195 [==============================] - 0s 1ms/step\n",
      "195/195 [==============================] - 0s 1ms/step\n"
     ]
    },
    {
     "name": "stderr",
     "output_type": "stream",
     "text": [
      "\u001b[32m[I 2023-03-02 23:35:54,856]\u001b[0m Trial 33 finished with value: 0.8798582992290623 and parameters: {'units_1': 38, 'units_2': 24, 'units_3': 21, 'alpha_1': 0.015709222788382146, 'alpha_2': 0.06291389604970966, 'alpha_3': 0.07208883099789472, 'dropout_1': 0.30574557075121456, 'dropout_2': 0.2350161155097276, 'dropout_3': 0.36739424170263024, 'l2_kern_1': 0.00039184509352648683, 'l2_kern_2': 1.800138977219243e-05, 'l2_kern_3': 0.0005456678821301022, 'l2_bias_1': 0.0005627198384814635, 'l2_bias_2': 2.6726979266435934e-05, 'l2_bias_3': 0.009849507087021278, 'lr': 0.0009230637566359808, 'batch_size': 256}. Best is trial 18 with value: 0.8846080278418734.\u001b[0m\n",
      "C:\\Users\\User\\AppData\\Local\\Temp\\ipykernel_12316\\574535459.py:60: DeprecationWarning: KerasClassifier is deprecated, use Sci-Keras (https://github.com/adriangb/scikeras) instead. See https://www.adriangb.com/scikeras/stable/migration.html for help migrating.\n",
      "  ('classifier', KerasClassifier(build_fn=self.create_model, verbose=0))\n"
     ]
    },
    {
     "name": "stdout",
     "output_type": "stream",
     "text": [
      "195/195 [==============================] - 0s 1ms/step\n",
      "195/195 [==============================] - 0s 2ms/step\n",
      "195/195 [==============================] - 0s 1ms/step\n"
     ]
    },
    {
     "name": "stderr",
     "output_type": "stream",
     "text": [
      "\u001b[32m[I 2023-03-02 23:38:30,188]\u001b[0m Trial 34 finished with value: 0.8800376343817381 and parameters: {'units_1': 35, 'units_2': 32, 'units_3': 14, 'alpha_1': 0.025629468217812285, 'alpha_2': 0.08840739265021008, 'alpha_3': 0.042298116342996725, 'dropout_1': 0.28548178003468494, 'dropout_2': 0.2684086308019907, 'dropout_3': 0.3358726573593703, 'l2_kern_1': 0.00014903158293958667, 'l2_kern_2': 3.13594328041944e-05, 'l2_kern_3': 0.00028751756115452784, 'l2_bias_1': 0.00023864108811547699, 'l2_bias_2': 0.000409496772666588, 'l2_bias_3': 0.0010107729716089698, 'lr': 0.0013394560144713349, 'batch_size': 16}. Best is trial 18 with value: 0.8846080278418734.\u001b[0m\n",
      "C:\\Users\\User\\AppData\\Local\\Temp\\ipykernel_12316\\574535459.py:60: DeprecationWarning: KerasClassifier is deprecated, use Sci-Keras (https://github.com/adriangb/scikeras) instead. See https://www.adriangb.com/scikeras/stable/migration.html for help migrating.\n",
      "  ('classifier', KerasClassifier(build_fn=self.create_model, verbose=0))\n"
     ]
    },
    {
     "name": "stdout",
     "output_type": "stream",
     "text": [
      "195/195 [==============================] - 0s 1ms/step\n",
      "195/195 [==============================] - 0s 1ms/step\n",
      "195/195 [==============================] - 0s 1ms/step\n"
     ]
    },
    {
     "name": "stderr",
     "output_type": "stream",
     "text": [
      "\u001b[32m[I 2023-03-02 23:39:03,850]\u001b[0m Trial 35 finished with value: 0.8703002874827012 and parameters: {'units_1': 31, 'units_2': 21, 'units_3': 12, 'alpha_1': 0.035654431226978006, 'alpha_2': 0.058241632253077484, 'alpha_3': 0.06436532148358115, 'dropout_1': 0.34702757301200554, 'dropout_2': 0.3976531766271022, 'dropout_3': 0.397720699663565, 'l2_kern_1': 7.106482297030552e-05, 'l2_kern_2': 0.00011421765847645336, 'l2_kern_3': 0.002519330014100296, 'l2_bias_1': 0.0007401435836818007, 'l2_bias_2': 6.336563249890026e-05, 'l2_bias_3': 0.0032941444420782184, 'lr': 0.0017932072908429415, 'batch_size': 256}. Best is trial 18 with value: 0.8846080278418734.\u001b[0m\n",
      "C:\\Users\\User\\AppData\\Local\\Temp\\ipykernel_12316\\574535459.py:60: DeprecationWarning: KerasClassifier is deprecated, use Sci-Keras (https://github.com/adriangb/scikeras) instead. See https://www.adriangb.com/scikeras/stable/migration.html for help migrating.\n",
      "  ('classifier', KerasClassifier(build_fn=self.create_model, verbose=0))\n"
     ]
    },
    {
     "name": "stdout",
     "output_type": "stream",
     "text": [
      "195/195 [==============================] - 0s 2ms/step\n",
      "195/195 [==============================] - 0s 1ms/step\n",
      "195/195 [==============================] - 0s 2ms/step\n"
     ]
    },
    {
     "name": "stderr",
     "output_type": "stream",
     "text": [
      "\u001b[32m[I 2023-03-02 23:39:52,154]\u001b[0m Trial 36 finished with value: 0.8775962818470536 and parameters: {'units_1': 38, 'units_2': 31, 'units_3': 18, 'alpha_1': 0.017348730388607438, 'alpha_2': 0.07935189857677606, 'alpha_3': 0.05670467371357545, 'dropout_1': 0.3170303065008074, 'dropout_2': 0.34973792414139965, 'dropout_3': 0.37807881812648486, 'l2_kern_1': 0.0002407348893636972, 'l2_kern_2': 5.484593280044486e-05, 'l2_kern_3': 0.0005390201393117478, 'l2_bias_1': 0.0029675956045813147, 'l2_bias_2': 1.8109243671100952e-05, 'l2_bias_3': 0.005828146595885128, 'lr': 0.0005896698396437353, 'batch_size': 256}. Best is trial 18 with value: 0.8846080278418734.\u001b[0m\n",
      "C:\\Users\\User\\AppData\\Local\\Temp\\ipykernel_12316\\574535459.py:60: DeprecationWarning: KerasClassifier is deprecated, use Sci-Keras (https://github.com/adriangb/scikeras) instead. See https://www.adriangb.com/scikeras/stable/migration.html for help migrating.\n",
      "  ('classifier', KerasClassifier(build_fn=self.create_model, verbose=0))\n"
     ]
    },
    {
     "name": "stdout",
     "output_type": "stream",
     "text": [
      "195/195 [==============================] - 0s 1ms/step\n",
      "195/195 [==============================] - 0s 1ms/step\n",
      "195/195 [==============================] - 0s 1ms/step\n"
     ]
    },
    {
     "name": "stderr",
     "output_type": "stream",
     "text": [
      "\u001b[32m[I 2023-03-02 23:41:25,960]\u001b[0m Trial 37 finished with value: 0.8800743687548825 and parameters: {'units_1': 32, 'units_2': 17, 'units_3': 24, 'alpha_1': 0.01483903618914207, 'alpha_2': 0.05031932119529528, 'alpha_3': 0.038671583328362805, 'dropout_1': 0.2907114281996369, 'dropout_2': 0.327533059728954, 'dropout_3': 0.41889978707396347, 'l2_kern_1': 0.0007106365495015079, 'l2_kern_2': 1.3185436296342863e-05, 'l2_kern_3': 0.00022779892111654166, 'l2_bias_1': 0.00044697071798016885, 'l2_bias_2': 3.147084528869142e-05, 'l2_bias_3': 0.0015963332191278917, 'lr': 0.002794883863813555, 'batch_size': 32}. Best is trial 18 with value: 0.8846080278418734.\u001b[0m\n",
      "C:\\Users\\User\\AppData\\Local\\Temp\\ipykernel_12316\\574535459.py:60: DeprecationWarning: KerasClassifier is deprecated, use Sci-Keras (https://github.com/adriangb/scikeras) instead. See https://www.adriangb.com/scikeras/stable/migration.html for help migrating.\n",
      "  ('classifier', KerasClassifier(build_fn=self.create_model, verbose=0))\n"
     ]
    },
    {
     "name": "stdout",
     "output_type": "stream",
     "text": [
      "195/195 [==============================] - 0s 1ms/step\n",
      "195/195 [==============================] - 0s 2ms/step\n",
      "195/195 [==============================] - 0s 2ms/step\n"
     ]
    },
    {
     "name": "stderr",
     "output_type": "stream",
     "text": [
      "\u001b[32m[I 2023-03-02 23:42:00,033]\u001b[0m Trial 38 finished with value: 0.8643547065432596 and parameters: {'units_1': 21, 'units_2': 35, 'units_3': 27, 'alpha_1': 0.010494359423891115, 'alpha_2': 0.0959196821601814, 'alpha_3': 0.07204803145252743, 'dropout_1': 0.2537678530630355, 'dropout_2': 0.23961380416173442, 'dropout_3': 0.31207831645782025, 'l2_kern_1': 0.00013151642755066068, 'l2_kern_2': 3.7483836614936284e-05, 'l2_kern_3': 0.0052576268357899855, 'l2_bias_1': 0.0001295812941110469, 'l2_bias_2': 1.0049191785632145e-05, 'l2_bias_3': 0.002634841730393197, 'lr': 0.0011743060441825814, 'batch_size': 256}. Best is trial 18 with value: 0.8846080278418734.\u001b[0m\n",
      "C:\\Users\\User\\AppData\\Local\\Temp\\ipykernel_12316\\574535459.py:60: DeprecationWarning: KerasClassifier is deprecated, use Sci-Keras (https://github.com/adriangb/scikeras) instead. See https://www.adriangb.com/scikeras/stable/migration.html for help migrating.\n",
      "  ('classifier', KerasClassifier(build_fn=self.create_model, verbose=0))\n"
     ]
    },
    {
     "name": "stdout",
     "output_type": "stream",
     "text": [
      "195/195 [==============================] - 0s 1ms/step\n",
      "195/195 [==============================] - 0s 1ms/step\n",
      "195/195 [==============================] - 0s 1ms/step\n"
     ]
    },
    {
     "name": "stderr",
     "output_type": "stream",
     "text": [
      "\u001b[32m[I 2023-03-02 23:43:51,046]\u001b[0m Trial 39 finished with value: 0.8685399027446173 and parameters: {'units_1': 28, 'units_2': 24, 'units_3': 13, 'alpha_1': 0.021208681898552444, 'alpha_2': 0.0728051718711221, 'alpha_3': 0.0847809548577157, 'dropout_1': 0.33833995396314737, 'dropout_2': 0.3041565697783012, 'dropout_3': 0.36834744683851717, 'l2_kern_1': 0.00025950081380964664, 'l2_kern_2': 0.0006222537490571118, 'l2_kern_3': 0.001759690594179302, 'l2_bias_1': 0.0010283523655572819, 'l2_bias_2': 0.0007395203144488631, 'l2_bias_3': 0.001069254206672412, 'lr': 0.005220339257825159, 'batch_size': 16}. Best is trial 18 with value: 0.8846080278418734.\u001b[0m\n",
      "C:\\Users\\User\\AppData\\Local\\Temp\\ipykernel_12316\\574535459.py:60: DeprecationWarning: KerasClassifier is deprecated, use Sci-Keras (https://github.com/adriangb/scikeras) instead. See https://www.adriangb.com/scikeras/stable/migration.html for help migrating.\n",
      "  ('classifier', KerasClassifier(build_fn=self.create_model, verbose=0))\n"
     ]
    },
    {
     "name": "stdout",
     "output_type": "stream",
     "text": [
      "195/195 [==============================] - 0s 1ms/step\n",
      "195/195 [==============================] - 0s 2ms/step\n",
      "195/195 [==============================] - 0s 1ms/step\n"
     ]
    },
    {
     "name": "stderr",
     "output_type": "stream",
     "text": [
      "\u001b[32m[I 2023-03-02 23:44:12,754]\u001b[0m Trial 40 finished with value: 0.8425475309194829 and parameters: {'units_1': 9, 'units_2': 20, 'units_3': 20, 'alpha_1': 0.028426510321234166, 'alpha_2': 0.05905764796909235, 'alpha_3': 0.060444096145337634, 'dropout_1': 0.3926906816042164, 'dropout_2': 0.28088270118816594, 'dropout_3': 0.2986568043470519, 'l2_kern_1': 0.0004165890547947466, 'l2_kern_2': 0.00012636274859738933, 'l2_kern_3': 0.001018439057776719, 'l2_bias_1': 0.000273691617489022, 'l2_bias_2': 7.55682977060354e-05, 'l2_bias_3': 0.004118410746949984, 'lr': 0.0018801050975530524, 'batch_size': 256}. Best is trial 18 with value: 0.8846080278418734.\u001b[0m\n",
      "C:\\Users\\User\\AppData\\Local\\Temp\\ipykernel_12316\\574535459.py:60: DeprecationWarning: KerasClassifier is deprecated, use Sci-Keras (https://github.com/adriangb/scikeras) instead. See https://www.adriangb.com/scikeras/stable/migration.html for help migrating.\n",
      "  ('classifier', KerasClassifier(build_fn=self.create_model, verbose=0))\n"
     ]
    },
    {
     "name": "stdout",
     "output_type": "stream",
     "text": [
      "195/195 [==============================] - 0s 1ms/step\n",
      "195/195 [==============================] - 0s 1ms/step\n",
      "195/195 [==============================] - 0s 1ms/step\n"
     ]
    },
    {
     "name": "stderr",
     "output_type": "stream",
     "text": [
      "\u001b[32m[I 2023-03-02 23:44:43,442]\u001b[0m Trial 41 finished with value: 0.880529703118203 and parameters: {'units_1': 35, 'units_2': 13, 'units_3': 26, 'alpha_1': 0.03796883240653795, 'alpha_2': 0.08614015536460115, 'alpha_3': 0.0813535206944478, 'dropout_1': 0.2237060971823675, 'dropout_2': 0.3388661330227867, 'dropout_3': 0.3676841870446725, 'l2_kern_1': 0.0003821481546718886, 'l2_kern_2': 2.3219490536095104e-05, 'l2_kern_3': 6.608159752731171e-05, 'l2_bias_1': 1.8602883877861177e-05, 'l2_bias_2': 0.00012980622629815553, 'l2_bias_3': 0.0058742013643564754, 'lr': 0.0029725651237650502, 'batch_size': 256}. Best is trial 18 with value: 0.8846080278418734.\u001b[0m\n",
      "C:\\Users\\User\\AppData\\Local\\Temp\\ipykernel_12316\\574535459.py:60: DeprecationWarning: KerasClassifier is deprecated, use Sci-Keras (https://github.com/adriangb/scikeras) instead. See https://www.adriangb.com/scikeras/stable/migration.html for help migrating.\n",
      "  ('classifier', KerasClassifier(build_fn=self.create_model, verbose=0))\n"
     ]
    },
    {
     "name": "stdout",
     "output_type": "stream",
     "text": [
      "195/195 [==============================] - 0s 1ms/step\n",
      "195/195 [==============================] - 0s 1ms/step\n",
      "195/195 [==============================] - 0s 1ms/step\n"
     ]
    },
    {
     "name": "stderr",
     "output_type": "stream",
     "text": [
      "\u001b[32m[I 2023-03-02 23:45:18,418]\u001b[0m Trial 42 finished with value: 0.8824067743288192 and parameters: {'units_1': 39, 'units_2': 10, 'units_3': 24, 'alpha_1': 0.04188184534101073, 'alpha_2': 0.06625670365231727, 'alpha_3': 0.09259791891841113, 'dropout_1': 0.2698802180325994, 'dropout_2': 0.3249739049462801, 'dropout_3': 0.33200691086242906, 'l2_kern_1': 0.001333424353003999, 'l2_kern_2': 2.3522607403338753e-05, 'l2_kern_3': 4.41887498954714e-05, 'l2_bias_1': 1.1381559994146972e-05, 'l2_bias_2': 4.685810099641773e-05, 'l2_bias_3': 0.004396257218900081, 'lr': 0.0014401318736435944, 'batch_size': 256}. Best is trial 18 with value: 0.8846080278418734.\u001b[0m\n",
      "C:\\Users\\User\\AppData\\Local\\Temp\\ipykernel_12316\\574535459.py:60: DeprecationWarning: KerasClassifier is deprecated, use Sci-Keras (https://github.com/adriangb/scikeras) instead. See https://www.adriangb.com/scikeras/stable/migration.html for help migrating.\n",
      "  ('classifier', KerasClassifier(build_fn=self.create_model, verbose=0))\n"
     ]
    },
    {
     "name": "stdout",
     "output_type": "stream",
     "text": [
      "195/195 [==============================] - 0s 1ms/step\n",
      "195/195 [==============================] - 0s 2ms/step\n",
      "195/195 [==============================] - 0s 1ms/step\n"
     ]
    },
    {
     "name": "stderr",
     "output_type": "stream",
     "text": [
      "\u001b[32m[I 2023-03-02 23:45:49,186]\u001b[0m Trial 43 finished with value: 0.8780021271584918 and parameters: {'units_1': 39, 'units_2': 7, 'units_3': 31, 'alpha_1': 0.019495104695317497, 'alpha_2': 0.06785413646825175, 'alpha_3': 0.09241881520985898, 'dropout_1': 0.2570181782685401, 'dropout_2': 0.32086807961974984, 'dropout_3': 0.3379299230412651, 'l2_kern_1': 0.008292503119642138, 'l2_kern_2': 6.42214996990301e-05, 'l2_kern_3': 3.285500554514863e-05, 'l2_bias_1': 1.0098812726299475e-05, 'l2_bias_2': 3.355858028080145e-05, 'l2_bias_3': 0.0025733730077811584, 'lr': 0.0014616076599876624, 'batch_size': 256}. Best is trial 18 with value: 0.8846080278418734.\u001b[0m\n",
      "C:\\Users\\User\\AppData\\Local\\Temp\\ipykernel_12316\\574535459.py:60: DeprecationWarning: KerasClassifier is deprecated, use Sci-Keras (https://github.com/adriangb/scikeras) instead. See https://www.adriangb.com/scikeras/stable/migration.html for help migrating.\n",
      "  ('classifier', KerasClassifier(build_fn=self.create_model, verbose=0))\n"
     ]
    },
    {
     "name": "stdout",
     "output_type": "stream",
     "text": [
      "195/195 [==============================] - 0s 1ms/step\n",
      "195/195 [==============================] - 0s 1ms/step\n",
      "195/195 [==============================] - 0s 2ms/step\n"
     ]
    },
    {
     "name": "stderr",
     "output_type": "stream",
     "text": [
      "\u001b[32m[I 2023-03-02 23:46:27,068]\u001b[0m Trial 44 finished with value: 0.8747411235882904 and parameters: {'units_1': 38, 'units_2': 4, 'units_3': 23, 'alpha_1': 0.025723839487478705, 'alpha_2': 0.057437526938794246, 'alpha_3': 0.06491375506724978, 'dropout_1': 0.27907122221907404, 'dropout_2': 0.3851784254337794, 'dropout_3': 0.31597307336918623, 'l2_kern_1': 0.002463289011060039, 'l2_kern_2': 4.354330959267758e-05, 'l2_kern_3': 1.0009404219036024e-05, 'l2_bias_1': 3.3541773409344803e-05, 'l2_bias_2': 6.488688478585568e-05, 'l2_bias_3': 0.00711549860641548, 'lr': 0.0008675304678840967, 'batch_size': 256}. Best is trial 18 with value: 0.8846080278418734.\u001b[0m\n",
      "C:\\Users\\User\\AppData\\Local\\Temp\\ipykernel_12316\\574535459.py:60: DeprecationWarning: KerasClassifier is deprecated, use Sci-Keras (https://github.com/adriangb/scikeras) instead. See https://www.adriangb.com/scikeras/stable/migration.html for help migrating.\n",
      "  ('classifier', KerasClassifier(build_fn=self.create_model, verbose=0))\n"
     ]
    },
    {
     "name": "stdout",
     "output_type": "stream",
     "text": [
      "195/195 [==============================] - 0s 2ms/step\n",
      "195/195 [==============================] - 0s 2ms/step\n",
      "195/195 [==============================] - 0s 1ms/step\n"
     ]
    },
    {
     "name": "stderr",
     "output_type": "stream",
     "text": [
      "\u001b[32m[I 2023-03-02 23:47:19,520]\u001b[0m Trial 45 finished with value: 0.8757191030093626 and parameters: {'units_1': 35, 'units_2': 11, 'units_3': 17, 'alpha_1': 0.042481971990724864, 'alpha_2': 0.04645368595270559, 'alpha_3': 0.09830210704457626, 'dropout_1': 0.3580314902032624, 'dropout_2': 0.2977153627181433, 'dropout_3': 0.3572371639043894, 'l2_kern_1': 0.004912316624004212, 'l2_kern_2': 1.4447834258865451e-05, 'l2_kern_3': 0.0001640433636965557, 'l2_bias_1': 7.347710593495593e-05, 'l2_bias_2': 0.0001018901717825693, 'l2_bias_3': 0.004238381260840435, 'lr': 0.0010700995417774633, 'batch_size': 128}. Best is trial 18 with value: 0.8846080278418734.\u001b[0m\n",
      "C:\\Users\\User\\AppData\\Local\\Temp\\ipykernel_12316\\574535459.py:60: DeprecationWarning: KerasClassifier is deprecated, use Sci-Keras (https://github.com/adriangb/scikeras) instead. See https://www.adriangb.com/scikeras/stable/migration.html for help migrating.\n",
      "  ('classifier', KerasClassifier(build_fn=self.create_model, verbose=0))\n"
     ]
    },
    {
     "name": "stdout",
     "output_type": "stream",
     "text": [
      "195/195 [==============================] - 0s 1ms/step\n",
      "195/195 [==============================] - 0s 2ms/step\n",
      "195/195 [==============================] - 0s 2ms/step\n"
     ]
    },
    {
     "name": "stderr",
     "output_type": "stream",
     "text": [
      "\u001b[32m[I 2023-03-02 23:47:51,019]\u001b[0m Trial 46 finished with value: 0.8831530006241475 and parameters: {'units_1': 40, 'units_2': 27, 'units_3': 21, 'alpha_1': 0.031850159142566566, 'alpha_2': 0.05375827749607712, 'alpha_3': 0.03128065611975372, 'dropout_1': 0.24936380554851845, 'dropout_2': 0.3631852455738056, 'dropout_3': 0.32606695068099634, 'l2_kern_1': 0.001393044240494162, 'l2_kern_2': 2.589198385586334e-05, 'l2_kern_3': 0.0006597932034757019, 'l2_bias_1': 0.0001466515053044199, 'l2_bias_2': 1.9813316578977468e-05, 'l2_bias_3': 0.0020078295147611404, 'lr': 0.0021527670713694896, 'batch_size': 256}. Best is trial 18 with value: 0.8846080278418734.\u001b[0m\n",
      "C:\\Users\\User\\AppData\\Local\\Temp\\ipykernel_12316\\574535459.py:60: DeprecationWarning: KerasClassifier is deprecated, use Sci-Keras (https://github.com/adriangb/scikeras) instead. See https://www.adriangb.com/scikeras/stable/migration.html for help migrating.\n",
      "  ('classifier', KerasClassifier(build_fn=self.create_model, verbose=0))\n"
     ]
    },
    {
     "name": "stdout",
     "output_type": "stream",
     "text": [
      "195/195 [==============================] - 0s 1ms/step\n",
      "195/195 [==============================] - 0s 1ms/step\n",
      "195/195 [==============================] - 0s 1ms/step\n"
     ]
    },
    {
     "name": "stderr",
     "output_type": "stream",
     "text": [
      "\u001b[32m[I 2023-03-02 23:48:18,946]\u001b[0m Trial 47 finished with value: 0.8548463063780662 and parameters: {'units_1': 4, 'units_2': 23, 'units_3': 21, 'alpha_1': 0.014703987732057671, 'alpha_2': 0.053245106206379164, 'alpha_3': 0.02162296954478407, 'dropout_1': 0.21732331460496918, 'dropout_2': 0.4384568325191009, 'dropout_3': 0.3841427575232593, 'l2_kern_1': 3.156226693936886e-05, 'l2_kern_2': 3.449661613618368e-05, 'l2_kern_3': 0.0006848949494054093, 'l2_bias_1': 0.00017984570926748647, 'l2_bias_2': 1.5257858408159126e-05, 'l2_bias_3': 0.00043821538684518327, 'lr': 0.0022259656767036205, 'batch_size': 512}. Best is trial 18 with value: 0.8846080278418734.\u001b[0m\n",
      "C:\\Users\\User\\AppData\\Local\\Temp\\ipykernel_12316\\574535459.py:60: DeprecationWarning: KerasClassifier is deprecated, use Sci-Keras (https://github.com/adriangb/scikeras) instead. See https://www.adriangb.com/scikeras/stable/migration.html for help migrating.\n",
      "  ('classifier', KerasClassifier(build_fn=self.create_model, verbose=0))\n"
     ]
    },
    {
     "name": "stdout",
     "output_type": "stream",
     "text": [
      "195/195 [==============================] - 0s 1ms/step\n",
      "195/195 [==============================] - 0s 1ms/step\n",
      "195/195 [==============================] - 0s 1ms/step\n"
     ]
    },
    {
     "name": "stderr",
     "output_type": "stream",
     "text": [
      "\u001b[32m[I 2023-03-02 23:49:31,817]\u001b[0m Trial 48 finished with value: 0.8805555971310243 and parameters: {'units_1': 36, 'units_2': 27, 'units_3': 15, 'alpha_1': 0.03150259958297881, 'alpha_2': 0.07318528252842438, 'alpha_3': 0.034730709871140415, 'dropout_1': 0.24723982788549392, 'dropout_2': 0.3560875345053938, 'dropout_3': 0.29435033644443925, 'l2_kern_1': 1.9312724647029544e-05, 'l2_kern_2': 1.043050700736398e-05, 'l2_kern_3': 0.00045238866570650085, 'l2_bias_1': 0.00011319246063397055, 'l2_bias_2': 2.160209254818939e-05, 'l2_bias_3': 0.0019056199353470933, 'lr': 0.003862882823733434, 'batch_size': 32}. Best is trial 18 with value: 0.8846080278418734.\u001b[0m\n",
      "C:\\Users\\User\\AppData\\Local\\Temp\\ipykernel_12316\\574535459.py:60: DeprecationWarning: KerasClassifier is deprecated, use Sci-Keras (https://github.com/adriangb/scikeras) instead. See https://www.adriangb.com/scikeras/stable/migration.html for help migrating.\n",
      "  ('classifier', KerasClassifier(build_fn=self.create_model, verbose=0))\n"
     ]
    },
    {
     "name": "stdout",
     "output_type": "stream",
     "text": [
      "195/195 [==============================] - 0s 2ms/step\n",
      "195/195 [==============================] - 0s 2ms/step\n",
      "195/195 [==============================] - 0s 1ms/step\n"
     ]
    },
    {
     "name": "stderr",
     "output_type": "stream",
     "text": [
      "\u001b[32m[I 2023-03-02 23:49:49,617]\u001b[0m Trial 49 finished with value: 0.8728391674482866 and parameters: {'units_1': 33, 'units_2': 30, 'units_3': 18, 'alpha_1': 0.018786118095357913, 'alpha_2': 0.06289467133090666, 'alpha_3': 0.05782816883607159, 'dropout_1': 0.3173660991037373, 'dropout_2': 0.2656952418169681, 'dropout_3': 0.3200408461830485, 'l2_kern_1': 5.4242378762992114e-05, 'l2_kern_2': 0.009616891662888533, 'l2_kern_3': 0.003448055074221277, 'l2_bias_1': 0.0001661066441608891, 'l2_bias_2': 0.003961179724731655, 'l2_bias_3': 0.0008375617383756281, 'lr': 0.006643648884865067, 'batch_size': 1024}. Best is trial 18 with value: 0.8846080278418734.\u001b[0m\n",
      "C:\\Users\\User\\AppData\\Local\\Temp\\ipykernel_12316\\574535459.py:60: DeprecationWarning: KerasClassifier is deprecated, use Sci-Keras (https://github.com/adriangb/scikeras) instead. See https://www.adriangb.com/scikeras/stable/migration.html for help migrating.\n",
      "  ('classifier', KerasClassifier(build_fn=self.create_model, verbose=0))\n"
     ]
    },
    {
     "name": "stdout",
     "output_type": "stream",
     "text": [
      "195/195 [==============================] - 0s 2ms/step\n",
      "195/195 [==============================] - 0s 2ms/step\n",
      "195/195 [==============================] - 0s 1ms/step\n"
     ]
    },
    {
     "name": "stderr",
     "output_type": "stream",
     "text": [
      "\u001b[32m[I 2023-03-02 23:50:36,901]\u001b[0m Trial 50 finished with value: 0.8787495251878745 and parameters: {'units_1': 40, 'units_2': 22, 'units_3': 9, 'alpha_1': 0.02758572671652909, 'alpha_2': 0.03630999603668068, 'alpha_3': 0.07196155585310202, 'dropout_1': 0.2905986957478185, 'dropout_2': 0.37769479075987666, 'dropout_3': 0.4448419468619731, 'l2_kern_1': 9.302503036612124e-05, 'l2_kern_2': 0.00027191095303755734, 'l2_kern_3': 0.0011647201737240297, 'l2_bias_1': 0.00047696623021875807, 'l2_bias_2': 0.0012468550676694625, 'l2_bias_3': 0.00022583617863233116, 'lr': 0.0021005822269675187, 'batch_size': 64}. Best is trial 18 with value: 0.8846080278418734.\u001b[0m\n",
      "C:\\Users\\User\\AppData\\Local\\Temp\\ipykernel_12316\\574535459.py:60: DeprecationWarning: KerasClassifier is deprecated, use Sci-Keras (https://github.com/adriangb/scikeras) instead. See https://www.adriangb.com/scikeras/stable/migration.html for help migrating.\n",
      "  ('classifier', KerasClassifier(build_fn=self.create_model, verbose=0))\n"
     ]
    },
    {
     "name": "stdout",
     "output_type": "stream",
     "text": [
      "195/195 [==============================] - 0s 1ms/step\n",
      "195/195 [==============================] - 0s 1ms/step\n",
      "195/195 [==============================] - 0s 1ms/step\n"
     ]
    },
    {
     "name": "stderr",
     "output_type": "stream",
     "text": [
      "\u001b[32m[I 2023-03-02 23:51:10,157]\u001b[0m Trial 51 finished with value: 0.8803142268362166 and parameters: {'units_1': 38, 'units_2': 28, 'units_3': 24, 'alpha_1': 0.04586968574976254, 'alpha_2': 0.05543032047082138, 'alpha_3': 0.04954268774352057, 'dropout_1': 0.26648635402177895, 'dropout_2': 0.3116493604351012, 'dropout_3': 0.3354261185791607, 'l2_kern_1': 0.0012586581049238521, 'l2_kern_2': 2.1873561730198237e-05, 'l2_kern_3': 0.0007133719738257528, 'l2_bias_1': 0.00028892092958029286, 'l2_bias_2': 3.545275727125746e-05, 'l2_bias_3': 0.0012487445385917445, 'lr': 0.0015512558258630345, 'batch_size': 256}. Best is trial 18 with value: 0.8846080278418734.\u001b[0m\n",
      "C:\\Users\\User\\AppData\\Local\\Temp\\ipykernel_12316\\574535459.py:60: DeprecationWarning: KerasClassifier is deprecated, use Sci-Keras (https://github.com/adriangb/scikeras) instead. See https://www.adriangb.com/scikeras/stable/migration.html for help migrating.\n",
      "  ('classifier', KerasClassifier(build_fn=self.create_model, verbose=0))\n"
     ]
    },
    {
     "name": "stdout",
     "output_type": "stream",
     "text": [
      "195/195 [==============================] - 0s 1ms/step\n",
      "195/195 [==============================] - 0s 2ms/step\n",
      "195/195 [==============================] - 0s 2ms/step\n"
     ]
    },
    {
     "name": "stderr",
     "output_type": "stream",
     "text": [
      "\u001b[32m[I 2023-03-02 23:51:38,201]\u001b[0m Trial 52 finished with value: 0.8801700789652461 and parameters: {'units_1': 39, 'units_2': 25, 'units_3': 20, 'alpha_1': 0.0410185275381207, 'alpha_2': 0.06501588646179796, 'alpha_3': 0.019748831181258388, 'dropout_1': 0.2699696863681385, 'dropout_2': 0.33636741702864936, 'dropout_3': 0.3531439762909911, 'l2_kern_1': 0.0015132840371393705, 'l2_kern_2': 1.6936056591543373e-05, 'l2_kern_3': 0.00028356247179254585, 'l2_bias_1': 6.919896981045225e-05, 'l2_bias_2': 0.0006350271249248085, 'l2_bias_3': 2.2063210102538386e-05, 'lr': 0.002564312388391914, 'batch_size': 256}. Best is trial 18 with value: 0.8846080278418734.\u001b[0m\n",
      "C:\\Users\\User\\AppData\\Local\\Temp\\ipykernel_12316\\574535459.py:60: DeprecationWarning: KerasClassifier is deprecated, use Sci-Keras (https://github.com/adriangb/scikeras) instead. See https://www.adriangb.com/scikeras/stable/migration.html for help migrating.\n",
      "  ('classifier', KerasClassifier(build_fn=self.create_model, verbose=0))\n"
     ]
    },
    {
     "name": "stdout",
     "output_type": "stream",
     "text": [
      "195/195 [==============================] - 0s 2ms/step\n",
      "195/195 [==============================] - 0s 2ms/step\n",
      "195/195 [==============================] - 0s 2ms/step\n"
     ]
    },
    {
     "name": "stderr",
     "output_type": "stream",
     "text": [
      "\u001b[32m[I 2023-03-02 23:52:14,765]\u001b[0m Trial 53 finished with value: 0.8802847608357439 and parameters: {'units_1': 40, 'units_2': 26, 'units_3': 28, 'alpha_1': 0.05199048721847258, 'alpha_2': 0.06084773917499904, 'alpha_3': 0.02782773550454554, 'dropout_1': 0.2455967941410114, 'dropout_2': 0.36434846632686957, 'dropout_3': 0.3223170561388389, 'l2_kern_1': 0.004619774981594919, 'l2_kern_2': 2.558693716002643e-05, 'l2_kern_3': 0.0016480677690780003, 'l2_bias_1': 0.00036764600893910137, 'l2_bias_2': 0.0002947087680162631, 'l2_bias_3': 0.0026437521756627965, 'lr': 0.001137427747728824, 'batch_size': 256}. Best is trial 18 with value: 0.8846080278418734.\u001b[0m\n",
      "C:\\Users\\User\\AppData\\Local\\Temp\\ipykernel_12316\\574535459.py:60: DeprecationWarning: KerasClassifier is deprecated, use Sci-Keras (https://github.com/adriangb/scikeras) instead. See https://www.adriangb.com/scikeras/stable/migration.html for help migrating.\n",
      "  ('classifier', KerasClassifier(build_fn=self.create_model, verbose=0))\n"
     ]
    },
    {
     "name": "stdout",
     "output_type": "stream",
     "text": [
      "195/195 [==============================] - 0s 1ms/step\n",
      "195/195 [==============================] - 0s 1ms/step\n",
      "195/195 [==============================] - 0s 1ms/step\n"
     ]
    },
    {
     "name": "stderr",
     "output_type": "stream",
     "text": [
      "\u001b[32m[I 2023-03-02 23:52:43,091]\u001b[0m Trial 54 finished with value: 0.8832428160974936 and parameters: {'units_1': 36, 'units_2': 15, 'units_3': 23, 'alpha_1': 0.013464373343823414, 'alpha_2': 0.06888247052271956, 'alpha_3': 0.07782319414772808, 'dropout_1': 0.2137085273248608, 'dropout_2': 0.29200896234729523, 'dropout_3': 0.3428321120530569, 'l2_kern_1': 0.0007761280337118035, 'l2_kern_2': 4.599849395294625e-05, 'l2_kern_3': 0.0006317769800550798, 'l2_bias_1': 0.00021206619994286962, 'l2_bias_2': 4.963203581049122e-05, 'l2_bias_3': 0.0018513232306860247, 'lr': 0.003538053622534535, 'batch_size': 256}. Best is trial 18 with value: 0.8846080278418734.\u001b[0m\n",
      "C:\\Users\\User\\AppData\\Local\\Temp\\ipykernel_12316\\574535459.py:60: DeprecationWarning: KerasClassifier is deprecated, use Sci-Keras (https://github.com/adriangb/scikeras) instead. See https://www.adriangb.com/scikeras/stable/migration.html for help migrating.\n",
      "  ('classifier', KerasClassifier(build_fn=self.create_model, verbose=0))\n"
     ]
    },
    {
     "name": "stdout",
     "output_type": "stream",
     "text": [
      "195/195 [==============================] - 0s 1ms/step\n",
      "195/195 [==============================] - 0s 1ms/step\n",
      "195/195 [==============================] - 0s 2ms/step\n"
     ]
    },
    {
     "name": "stderr",
     "output_type": "stream",
     "text": [
      "\u001b[32m[I 2023-03-02 23:53:11,716]\u001b[0m Trial 55 finished with value: 0.8826736479310605 and parameters: {'units_1': 36, 'units_2': 15, 'units_3': 22, 'alpha_1': 0.013786737049638181, 'alpha_2': 0.07098358618450742, 'alpha_3': 0.07874872548904016, 'dropout_1': 0.3336695489571922, 'dropout_2': 0.28847781999978483, 'dropout_3': 0.3053649010346432, 'l2_kern_1': 0.000870276883089024, 'l2_kern_2': 5.306206633735514e-05, 'l2_kern_3': 0.0007871101456362334, 'l2_bias_1': 0.00021607625655156035, 'l2_bias_2': 0.00019366218717460455, 'l2_bias_3': 0.0006925126276125454, 'lr': 0.004324252697761731, 'batch_size': 256}. Best is trial 18 with value: 0.8846080278418734.\u001b[0m\n",
      "C:\\Users\\User\\AppData\\Local\\Temp\\ipykernel_12316\\574535459.py:60: DeprecationWarning: KerasClassifier is deprecated, use Sci-Keras (https://github.com/adriangb/scikeras) instead. See https://www.adriangb.com/scikeras/stable/migration.html for help migrating.\n",
      "  ('classifier', KerasClassifier(build_fn=self.create_model, verbose=0))\n"
     ]
    },
    {
     "name": "stdout",
     "output_type": "stream",
     "text": [
      "195/195 [==============================] - 0s 1ms/step\n",
      "195/195 [==============================] - 0s 2ms/step\n",
      "195/195 [==============================] - 0s 1ms/step\n"
     ]
    },
    {
     "name": "stderr",
     "output_type": "stream",
     "text": [
      "\u001b[32m[I 2023-03-02 23:53:36,151]\u001b[0m Trial 56 finished with value: 0.8761676736797117 and parameters: {'units_1': 34, 'units_2': 19, 'units_3': 16, 'alpha_1': 0.010362565334136693, 'alpha_2': 0.049403336778177584, 'alpha_3': 0.07477076913825828, 'dropout_1': 0.21461739066684982, 'dropout_2': 0.25384976003144777, 'dropout_3': 0.34768197401341727, 'l2_kern_1': 0.0019144857938690543, 'l2_kern_2': 0.0028651141415998046, 'l2_kern_3': 0.0004140747204167964, 'l2_bias_1': 0.00014579378873260843, 'l2_bias_2': 1.4751766569638998e-05, 'l2_bias_3': 0.0018285515500146253, 'lr': 0.0035447734542843044, 'batch_size': 256}. Best is trial 18 with value: 0.8846080278418734.\u001b[0m\n",
      "C:\\Users\\User\\AppData\\Local\\Temp\\ipykernel_12316\\574535459.py:60: DeprecationWarning: KerasClassifier is deprecated, use Sci-Keras (https://github.com/adriangb/scikeras) instead. See https://www.adriangb.com/scikeras/stable/migration.html for help migrating.\n",
      "  ('classifier', KerasClassifier(build_fn=self.create_model, verbose=0))\n"
     ]
    },
    {
     "name": "stdout",
     "output_type": "stream",
     "text": [
      "195/195 [==============================] - 0s 1ms/step\n",
      "195/195 [==============================] - 0s 1ms/step\n",
      "195/195 [==============================] - 0s 2ms/step\n"
     ]
    },
    {
     "name": "stderr",
     "output_type": "stream",
     "text": [
      "\u001b[32m[I 2023-03-02 23:54:04,920]\u001b[0m Trial 57 finished with value: 0.880811105080641 and parameters: {'units_1': 37, 'units_2': 17, 'units_3': 19, 'alpha_1': 0.02352590075304598, 'alpha_2': 0.08359749298592001, 'alpha_3': 0.06721677459757465, 'dropout_1': 0.2001054249385564, 'dropout_2': 0.276334309767327, 'dropout_3': 0.3856034063240607, 'l2_kern_1': 0.0007059016753835169, 'l2_kern_2': 6.84171335485654e-05, 'l2_kern_3': 0.0006004792756888138, 'l2_bias_1': 0.0007811309493738046, 'l2_bias_2': 6.431181599254345e-05, 'l2_bias_3': 0.0012604357382432715, 'lr': 0.006211650832374961, 'batch_size': 256}. Best is trial 18 with value: 0.8846080278418734.\u001b[0m\n",
      "C:\\Users\\User\\AppData\\Local\\Temp\\ipykernel_12316\\574535459.py:60: DeprecationWarning: KerasClassifier is deprecated, use Sci-Keras (https://github.com/adriangb/scikeras) instead. See https://www.adriangb.com/scikeras/stable/migration.html for help migrating.\n",
      "  ('classifier', KerasClassifier(build_fn=self.create_model, verbose=0))\n"
     ]
    },
    {
     "name": "stdout",
     "output_type": "stream",
     "text": [
      "195/195 [==============================] - 0s 1ms/step\n",
      "195/195 [==============================] - 0s 1ms/step\n",
      "195/195 [==============================] - 0s 1ms/step\n"
     ]
    },
    {
     "name": "stderr",
     "output_type": "stream",
     "text": [
      "\u001b[32m[I 2023-03-02 23:54:34,164]\u001b[0m Trial 58 finished with value: 0.8843152585922379 and parameters: {'units_1': 39, 'units_2': 23, 'units_3': 23, 'alpha_1': 0.013611899208156865, 'alpha_2': 0.07583044842175636, 'alpha_3': 0.0700316650478308, 'dropout_1': 0.2306548290937787, 'dropout_2': 0.2988328203142093, 'dropout_3': 0.4061664995947878, 'l2_kern_1': 0.0005636402797185349, 'l2_kern_2': 4.1824618456925955e-05, 'l2_kern_3': 0.0009126278222593589, 'l2_bias_1': 0.0005657528465800635, 'l2_bias_2': 2.550682449651294e-05, 'l2_bias_3': 0.003167909844089566, 'lr': 0.004443344093932474, 'batch_size': 512}. Best is trial 18 with value: 0.8846080278418734.\u001b[0m\n",
      "C:\\Users\\User\\AppData\\Local\\Temp\\ipykernel_12316\\574535459.py:60: DeprecationWarning: KerasClassifier is deprecated, use Sci-Keras (https://github.com/adriangb/scikeras) instead. See https://www.adriangb.com/scikeras/stable/migration.html for help migrating.\n",
      "  ('classifier', KerasClassifier(build_fn=self.create_model, verbose=0))\n"
     ]
    },
    {
     "name": "stdout",
     "output_type": "stream",
     "text": [
      "195/195 [==============================] - 0s 1ms/step\n",
      "195/195 [==============================] - 0s 1ms/step\n",
      "195/195 [==============================] - 0s 2ms/step\n"
     ]
    },
    {
     "name": "stderr",
     "output_type": "stream",
     "text": [
      "\u001b[32m[I 2023-03-02 23:54:55,757]\u001b[0m Trial 59 finished with value: 0.8770777255567389 and parameters: {'units_1': 18, 'units_2': 23, 'units_3': 25, 'alpha_1': 0.01856711480775488, 'alpha_2': 0.07576213234933919, 'alpha_3': 0.06081003633912877, 'dropout_1': 0.21259013602905263, 'dropout_2': 0.2959182724428066, 'dropout_3': 0.4641464154771592, 'l2_kern_1': 0.0005001893657722245, 'l2_kern_2': 4.311054621834762e-05, 'l2_kern_3': 0.0023405561030422507, 'l2_bias_1': 5.499675672443548e-05, 'l2_bias_2': 2.238193794889253e-05, 'l2_bias_3': 0.0033991118301999676, 'lr': 0.009045234490451286, 'batch_size': 512}. Best is trial 18 with value: 0.8846080278418734.\u001b[0m\n",
      "C:\\Users\\User\\AppData\\Local\\Temp\\ipykernel_12316\\574535459.py:60: DeprecationWarning: KerasClassifier is deprecated, use Sci-Keras (https://github.com/adriangb/scikeras) instead. See https://www.adriangb.com/scikeras/stable/migration.html for help migrating.\n",
      "  ('classifier', KerasClassifier(build_fn=self.create_model, verbose=0))\n"
     ]
    },
    {
     "name": "stdout",
     "output_type": "stream",
     "text": [
      "195/195 [==============================] - 0s 2ms/step\n",
      "195/195 [==============================] - 0s 1ms/step\n",
      "195/195 [==============================] - 0s 2ms/step\n"
     ]
    },
    {
     "name": "stderr",
     "output_type": "stream",
     "text": [
      "\u001b[32m[I 2023-03-02 23:55:19,885]\u001b[0m Trial 60 finished with value: 0.8812002023455241 and parameters: {'units_1': 28, 'units_2': 20, 'units_3': 31, 'alpha_1': 0.07008003923272516, 'alpha_2': 0.0694967456273953, 'alpha_3': 0.07102501179886991, 'dropout_1': 0.23046335038702578, 'dropout_2': 0.34299214765911545, 'dropout_3': 0.4914989515284176, 'l2_kern_1': 1.3604008307514499e-05, 'l2_kern_2': 8.602619024633059e-05, 'l2_kern_3': 0.0011631004248924576, 'l2_bias_1': 0.0006150336908217437, 'l2_bias_2': 1.143913506723214e-05, 'l2_bias_3': 0.006344106484702532, 'lr': 0.004632990539201741, 'batch_size': 512}. Best is trial 18 with value: 0.8846080278418734.\u001b[0m\n",
      "C:\\Users\\User\\AppData\\Local\\Temp\\ipykernel_12316\\574535459.py:60: DeprecationWarning: KerasClassifier is deprecated, use Sci-Keras (https://github.com/adriangb/scikeras) instead. See https://www.adriangb.com/scikeras/stable/migration.html for help migrating.\n",
      "  ('classifier', KerasClassifier(build_fn=self.create_model, verbose=0))\n"
     ]
    },
    {
     "name": "stdout",
     "output_type": "stream",
     "text": [
      "195/195 [==============================] - 0s 1ms/step\n",
      "195/195 [==============================] - 0s 2ms/step\n",
      "195/195 [==============================] - 0s 1ms/step\n"
     ]
    },
    {
     "name": "stderr",
     "output_type": "stream",
     "text": [
      "\u001b[32m[I 2023-03-02 23:55:45,373]\u001b[0m Trial 61 finished with value: 0.8789848297735814 and parameters: {'units_1': 37, 'units_2': 28, 'units_3': 22, 'alpha_1': 0.012947793867425415, 'alpha_2': 0.09329560817862265, 'alpha_3': 0.0553079774019834, 'dropout_1': 0.36729305874778156, 'dropout_2': 0.3069701069625608, 'dropout_3': 0.42376498510063887, 'l2_kern_1': 0.0009043588173263033, 'l2_kern_2': 0.00014440311683945706, 'l2_kern_3': 0.00039518006394184983, 'l2_bias_1': 0.00035277811555392617, 'l2_bias_2': 2.7099021459216446e-05, 'l2_bias_3': 0.002360033356167487, 'lr': 0.0031826293781635827, 'batch_size': 512}. Best is trial 18 with value: 0.8846080278418734.\u001b[0m\n",
      "C:\\Users\\User\\AppData\\Local\\Temp\\ipykernel_12316\\574535459.py:60: DeprecationWarning: KerasClassifier is deprecated, use Sci-Keras (https://github.com/adriangb/scikeras) instead. See https://www.adriangb.com/scikeras/stable/migration.html for help migrating.\n",
      "  ('classifier', KerasClassifier(build_fn=self.create_model, verbose=0))\n"
     ]
    },
    {
     "name": "stdout",
     "output_type": "stream",
     "text": [
      "195/195 [==============================] - 0s 1ms/step\n",
      "195/195 [==============================] - 0s 1ms/step\n",
      "195/195 [==============================] - 0s 1ms/step\n"
     ]
    },
    {
     "name": "stderr",
     "output_type": "stream",
     "text": [
      "\u001b[32m[I 2023-03-02 23:56:22,157]\u001b[0m Trial 62 finished with value: 0.8832231115118389 and parameters: {'units_1': 39, 'units_2': 24, 'units_3': 23, 'alpha_1': 0.013006442964263681, 'alpha_2': 0.060914936520651164, 'alpha_3': 0.06762853971691883, 'dropout_1': 0.22317112054499455, 'dropout_2': 0.31781982514132356, 'dropout_3': 0.40582930640783493, 'l2_kern_1': 0.00028625182291242674, 'l2_kern_2': 2.802394731324045e-05, 'l2_kern_3': 0.0008723195888346063, 'l2_bias_1': 0.0013469524436873059, 'l2_bias_2': 3.972509448430518e-05, 'l2_bias_3': 0.0015464518920097307, 'lr': 0.0020305664363284453, 'batch_size': 512}. Best is trial 18 with value: 0.8846080278418734.\u001b[0m\n",
      "C:\\Users\\User\\AppData\\Local\\Temp\\ipykernel_12316\\574535459.py:60: DeprecationWarning: KerasClassifier is deprecated, use Sci-Keras (https://github.com/adriangb/scikeras) instead. See https://www.adriangb.com/scikeras/stable/migration.html for help migrating.\n",
      "  ('classifier', KerasClassifier(build_fn=self.create_model, verbose=0))\n"
     ]
    },
    {
     "name": "stdout",
     "output_type": "stream",
     "text": [
      "195/195 [==============================] - 0s 1ms/step\n",
      "195/195 [==============================] - 0s 2ms/step\n",
      "195/195 [==============================] - 0s 1ms/step\n"
     ]
    },
    {
     "name": "stderr",
     "output_type": "stream",
     "text": [
      "\u001b[32m[I 2023-03-02 23:56:46,252]\u001b[0m Trial 63 finished with value: 0.8823243924049238 and parameters: {'units_1': 40, 'units_2': 23, 'units_3': 23, 'alpha_1': 0.020409593383189407, 'alpha_2': 0.06203812680423825, 'alpha_3': 0.06524623461345065, 'dropout_1': 0.24350853441838852, 'dropout_2': 0.2723155804290396, 'dropout_3': 0.4009960229026416, 'l2_kern_1': 0.0005802561388537682, 'l2_kern_2': 3.8956922614831584e-05, 'l2_kern_3': 0.0008933265627807395, 'l2_bias_1': 0.002021640130504659, 'l2_bias_2': 3.784182353503729e-05, 'l2_bias_3': 0.0016961378623875864, 'lr': 0.0027604380090298784, 'batch_size': 512}. Best is trial 18 with value: 0.8846080278418734.\u001b[0m\n",
      "C:\\Users\\User\\AppData\\Local\\Temp\\ipykernel_12316\\574535459.py:60: DeprecationWarning: KerasClassifier is deprecated, use Sci-Keras (https://github.com/adriangb/scikeras) instead. See https://www.adriangb.com/scikeras/stable/migration.html for help migrating.\n",
      "  ('classifier', KerasClassifier(build_fn=self.create_model, verbose=0))\n"
     ]
    },
    {
     "name": "stdout",
     "output_type": "stream",
     "text": [
      "195/195 [==============================] - 0s 1ms/step\n",
      "195/195 [==============================] - 0s 1ms/step\n",
      "195/195 [==============================] - 1s 3ms/step\n"
     ]
    },
    {
     "name": "stderr",
     "output_type": "stream",
     "text": [
      "\u001b[32m[I 2023-03-02 23:57:26,603]\u001b[0m Trial 64 finished with value: 0.8368183503476688 and parameters: {'units_1': 38, 'units_2': 21, 'units_3': 26, 'alpha_1': 0.01239788840470353, 'alpha_2': 0.05486880248448356, 'alpha_3': 0.07756849662827686, 'dropout_1': 0.22273610667743504, 'dropout_2': 0.2868123964453162, 'dropout_3': 0.4368830767483263, 'l2_kern_1': 0.00026362426580555265, 'l2_kern_2': 3.063947334941488e-05, 'l2_kern_3': 0.0015668007592940757, 'l2_bias_1': 0.0011048743583042372, 'l2_bias_2': 0.0003652589073717621, 'l2_bias_3': 0.002990382682038026, 'lr': 5.523900709558876e-05, 'batch_size': 512}. Best is trial 18 with value: 0.8846080278418734.\u001b[0m\n",
      "C:\\Users\\User\\AppData\\Local\\Temp\\ipykernel_12316\\574535459.py:60: DeprecationWarning: KerasClassifier is deprecated, use Sci-Keras (https://github.com/adriangb/scikeras) instead. See https://www.adriangb.com/scikeras/stable/migration.html for help migrating.\n",
      "  ('classifier', KerasClassifier(build_fn=self.create_model, verbose=0))\n"
     ]
    },
    {
     "name": "stdout",
     "output_type": "stream",
     "text": [
      "195/195 [==============================] - 0s 2ms/step\n",
      "195/195 [==============================] - 1s 2ms/step\n",
      "195/195 [==============================] - 0s 2ms/step\n"
     ]
    },
    {
     "name": "stderr",
     "output_type": "stream",
     "text": [
      "\u001b[32m[I 2023-03-02 23:58:02,287]\u001b[0m Trial 65 finished with value: 0.848558966339926 and parameters: {'units_1': 35, 'units_2': 24, 'units_3': 21, 'alpha_1': 0.016625948446568305, 'alpha_2': 0.067325113634889, 'alpha_3': 0.062335494789971524, 'dropout_1': 0.45699042319676947, 'dropout_2': 0.31836116895719085, 'dropout_3': 0.40967751030596683, 'l2_kern_1': 0.00016537129705257992, 'l2_kern_2': 5.491378373240599e-05, 'l2_kern_3': 0.0006455792582430967, 'l2_bias_1': 0.005240914762451997, 'l2_bias_2': 8.547020996066366e-05, 'l2_bias_3': 0.0013311473220915526, 'lr': 0.00015612255855454172, 'batch_size': 512}. Best is trial 18 with value: 0.8846080278418734.\u001b[0m\n",
      "C:\\Users\\User\\AppData\\Local\\Temp\\ipykernel_12316\\574535459.py:60: DeprecationWarning: KerasClassifier is deprecated, use Sci-Keras (https://github.com/adriangb/scikeras) instead. See https://www.adriangb.com/scikeras/stable/migration.html for help migrating.\n",
      "  ('classifier', KerasClassifier(build_fn=self.create_model, verbose=0))\n"
     ]
    },
    {
     "name": "stdout",
     "output_type": "stream",
     "text": [
      "195/195 [==============================] - 0s 1ms/step\n",
      "195/195 [==============================] - 0s 1ms/step\n",
      "195/195 [==============================] - 0s 1ms/step\n"
     ]
    },
    {
     "name": "stderr",
     "output_type": "stream",
     "text": [
      "\u001b[32m[I 2023-03-02 23:58:48,480]\u001b[0m Trial 66 finished with value: 0.8832447924447672 and parameters: {'units_1': 39, 'units_2': 26, 'units_3': 25, 'alpha_1': 0.023290382198187257, 'alpha_2': 0.07502737851194276, 'alpha_3': 0.06869508861656443, 'dropout_1': 0.20934992030273955, 'dropout_2': 0.259220225034447, 'dropout_3': 0.3768781867375313, 'l2_kern_1': 0.001790356081982805, 'l2_kern_2': 2.6650745788557677e-05, 'l2_kern_3': 0.001359032270547727, 'l2_bias_1': 0.00020211265486099362, 'l2_bias_2': 5.4182386032664606e-05, 'l2_bias_3': 5.656685077871517e-05, 'lr': 0.002149239661957273, 'batch_size': 128}. Best is trial 18 with value: 0.8846080278418734.\u001b[0m\n",
      "C:\\Users\\User\\AppData\\Local\\Temp\\ipykernel_12316\\574535459.py:60: DeprecationWarning: KerasClassifier is deprecated, use Sci-Keras (https://github.com/adriangb/scikeras) instead. See https://www.adriangb.com/scikeras/stable/migration.html for help migrating.\n",
      "  ('classifier', KerasClassifier(build_fn=self.create_model, verbose=0))\n"
     ]
    },
    {
     "name": "stdout",
     "output_type": "stream",
     "text": [
      "195/195 [==============================] - 0s 1ms/step\n",
      "195/195 [==============================] - 0s 2ms/step\n",
      "195/195 [==============================] - 0s 2ms/step\n"
     ]
    },
    {
     "name": "stderr",
     "output_type": "stream",
     "text": [
      "\u001b[32m[I 2023-03-02 23:59:20,484]\u001b[0m Trial 67 finished with value: 0.8802033043985521 and parameters: {'units_1': 32, 'units_2': 26, 'units_3': 28, 'alpha_1': 0.010258541436317856, 'alpha_2': 0.07980160665615474, 'alpha_3': 0.06940435347925045, 'dropout_1': 0.210061295764037, 'dropout_2': 0.2591201055424512, 'dropout_3': 0.39362712268157907, 'l2_kern_1': 0.003289159125064743, 'l2_kern_2': 9.238276253542057e-05, 'l2_kern_3': 0.0012448489056549183, 'l2_bias_1': 0.00019972143395053117, 'l2_bias_2': 5.5116633395201453e-05, 'l2_bias_3': 4.618690895007567e-05, 'lr': 0.005617917190988887, 'batch_size': 128}. Best is trial 18 with value: 0.8846080278418734.\u001b[0m\n",
      "C:\\Users\\User\\AppData\\Local\\Temp\\ipykernel_12316\\574535459.py:60: DeprecationWarning: KerasClassifier is deprecated, use Sci-Keras (https://github.com/adriangb/scikeras) instead. See https://www.adriangb.com/scikeras/stable/migration.html for help migrating.\n",
      "  ('classifier', KerasClassifier(build_fn=self.create_model, verbose=0))\n"
     ]
    },
    {
     "name": "stdout",
     "output_type": "stream",
     "text": [
      "195/195 [==============================] - 0s 1ms/step\n",
      "195/195 [==============================] - 1s 2ms/step\n",
      "195/195 [==============================] - 0s 1ms/step\n"
     ]
    },
    {
     "name": "stderr",
     "output_type": "stream",
     "text": [
      "\u001b[32m[I 2023-03-02 23:59:59,001]\u001b[0m Trial 68 finished with value: 0.8805391573819071 and parameters: {'units_1': 36, 'units_2': 18, 'units_3': 25, 'alpha_1': 0.022537060274693235, 'alpha_2': 0.07462756367645709, 'alpha_3': 0.07478907943625471, 'dropout_1': 0.2361155094185205, 'dropout_2': 0.23879992751588777, 'dropout_3': 0.37726723872256956, 'l2_kern_1': 0.00045176941052697464, 'l2_kern_2': 0.00011774725992920213, 'l2_kern_3': 0.0020876924027144732, 'l2_bias_1': 0.001442968014589141, 'l2_bias_2': 0.00011375924180534734, 'l2_bias_3': 7.382434871563146e-05, 'lr': 0.00413232267173059, 'batch_size': 128}. Best is trial 18 with value: 0.8846080278418734.\u001b[0m\n",
      "C:\\Users\\User\\AppData\\Local\\Temp\\ipykernel_12316\\574535459.py:60: DeprecationWarning: KerasClassifier is deprecated, use Sci-Keras (https://github.com/adriangb/scikeras) instead. See https://www.adriangb.com/scikeras/stable/migration.html for help migrating.\n",
      "  ('classifier', KerasClassifier(build_fn=self.create_model, verbose=0))\n"
     ]
    },
    {
     "name": "stdout",
     "output_type": "stream",
     "text": [
      "195/195 [==============================] - 0s 1ms/step\n",
      "195/195 [==============================] - 0s 1ms/step\n",
      "195/195 [==============================] - 0s 2ms/step\n"
     ]
    },
    {
     "name": "stderr",
     "output_type": "stream",
     "text": [
      "\u001b[32m[I 2023-03-03 00:00:38,589]\u001b[0m Trial 69 finished with value: 0.8800021998549554 and parameters: {'units_1': 22, 'units_2': 30, 'units_3': 23, 'alpha_1': 0.016526178621633303, 'alpha_2': 0.07126339989964425, 'alpha_3': 0.06805409341796163, 'dropout_1': 0.22566934992390303, 'dropout_2': 0.21557551375898365, 'dropout_3': 0.3609245762849643, 'l2_kern_1': 0.00030504852127026657, 'l2_kern_2': 4.7021861199087645e-05, 'l2_kern_3': 0.0008358640340923763, 'l2_bias_1': 0.0008528248234704074, 'l2_bias_2': 0.00023691991449193838, 'l2_bias_3': 1.841592885290775e-05, 'lr': 0.0035145357091706246, 'batch_size': 128}. Best is trial 18 with value: 0.8846080278418734.\u001b[0m\n",
      "C:\\Users\\User\\AppData\\Local\\Temp\\ipykernel_12316\\574535459.py:60: DeprecationWarning: KerasClassifier is deprecated, use Sci-Keras (https://github.com/adriangb/scikeras) instead. See https://www.adriangb.com/scikeras/stable/migration.html for help migrating.\n",
      "  ('classifier', KerasClassifier(build_fn=self.create_model, verbose=0))\n"
     ]
    },
    {
     "name": "stdout",
     "output_type": "stream",
     "text": [
      "195/195 [==============================] - 0s 2ms/step\n",
      "195/195 [==============================] - 0s 1ms/step\n",
      "195/195 [==============================] - 0s 1ms/step\n"
     ]
    },
    {
     "name": "stderr",
     "output_type": "stream",
     "text": [
      "\u001b[32m[I 2023-03-03 00:03:04,660]\u001b[0m Trial 70 finished with value: 0.8692324060832867 and parameters: {'units_1': 34, 'units_2': 22, 'units_3': 19, 'alpha_1': 0.014389519016495898, 'alpha_2': 0.07875356179696204, 'alpha_3': 0.059248217339336315, 'dropout_1': 0.49702487153669744, 'dropout_2': 0.2474924875655663, 'dropout_3': 0.37818508406327167, 'l2_kern_1': 0.00011183886005848675, 'l2_kern_2': 1.5107053174983905e-05, 'l2_kern_3': 0.0013669085336333975, 'l2_bias_1': 0.0005303410086657463, 'l2_bias_2': 0.0005301305736936337, 'l2_bias_3': 0.0097536387110211, 'lr': 0.0007999109666512946, 'batch_size': 16}. Best is trial 18 with value: 0.8846080278418734.\u001b[0m\n",
      "C:\\Users\\User\\AppData\\Local\\Temp\\ipykernel_12316\\574535459.py:60: DeprecationWarning: KerasClassifier is deprecated, use Sci-Keras (https://github.com/adriangb/scikeras) instead. See https://www.adriangb.com/scikeras/stable/migration.html for help migrating.\n",
      "  ('classifier', KerasClassifier(build_fn=self.create_model, verbose=0))\n"
     ]
    },
    {
     "name": "stdout",
     "output_type": "stream",
     "text": [
      "195/195 [==============================] - 0s 2ms/step\n",
      "195/195 [==============================] - 0s 1ms/step\n",
      "195/195 [==============================] - 0s 1ms/step\n"
     ]
    },
    {
     "name": "stderr",
     "output_type": "stream",
     "text": [
      "\u001b[32m[I 2023-03-03 00:03:54,327]\u001b[0m Trial 71 finished with value: 0.887574314876599 and parameters: {'units_1': 39, 'units_2': 27, 'units_3': 21, 'alpha_1': 0.03448950036628276, 'alpha_2': 0.06027341319928116, 'alpha_3': 0.031090573312908, 'dropout_1': 0.2326111837260853, 'dropout_2': 0.29577418396929034, 'dropout_3': 0.3417612068051909, 'l2_kern_1': 0.0018313704066067636, 'l2_kern_2': 2.6708068329939376e-05, 'l2_kern_3': 0.0004604839899064693, 'l2_bias_1': 0.0002682594007322798, 'l2_bias_2': 1.7307469303378696e-05, 'l2_bias_3': 0.00013645463591536674, 'lr': 0.0021941934284267044, 'batch_size': 128}. Best is trial 71 with value: 0.887574314876599.\u001b[0m\n",
      "C:\\Users\\User\\AppData\\Local\\Temp\\ipykernel_12316\\574535459.py:60: DeprecationWarning: KerasClassifier is deprecated, use Sci-Keras (https://github.com/adriangb/scikeras) instead. See https://www.adriangb.com/scikeras/stable/migration.html for help migrating.\n",
      "  ('classifier', KerasClassifier(build_fn=self.create_model, verbose=0))\n"
     ]
    },
    {
     "name": "stdout",
     "output_type": "stream",
     "text": [
      "195/195 [==============================] - 0s 1ms/step\n",
      "195/195 [==============================] - 0s 1ms/step\n",
      "195/195 [==============================] - 0s 1ms/step\n"
     ]
    },
    {
     "name": "stderr",
     "output_type": "stream",
     "text": [
      "\u001b[32m[I 2023-03-03 00:04:34,631]\u001b[0m Trial 72 finished with value: 0.8851316805183117 and parameters: {'units_1': 39, 'units_2': 29, 'units_3': 25, 'alpha_1': 0.0255051429672129, 'alpha_2': 0.06092876249197485, 'alpha_3': 0.08153204249630416, 'dropout_1': 0.2182336178857612, 'dropout_2': 0.2938679715630355, 'dropout_3': 0.33963651332006095, 'l2_kern_1': 0.0022007597787928298, 'l2_kern_2': 2.8184755724956345e-05, 'l2_kern_3': 0.00047635146183903286, 'l2_bias_1': 0.00026712580520393267, 'l2_bias_2': 4.182973471977141e-05, 'l2_bias_3': 7.594474004225862e-05, 'lr': 0.0016437081637773003, 'batch_size': 128}. Best is trial 71 with value: 0.887574314876599.\u001b[0m\n",
      "C:\\Users\\User\\AppData\\Local\\Temp\\ipykernel_12316\\574535459.py:60: DeprecationWarning: KerasClassifier is deprecated, use Sci-Keras (https://github.com/adriangb/scikeras) instead. See https://www.adriangb.com/scikeras/stable/migration.html for help migrating.\n",
      "  ('classifier', KerasClassifier(build_fn=self.create_model, verbose=0))\n"
     ]
    },
    {
     "name": "stdout",
     "output_type": "stream",
     "text": [
      "195/195 [==============================] - 0s 1ms/step\n",
      "195/195 [==============================] - 0s 2ms/step\n",
      "195/195 [==============================] - 0s 2ms/step\n"
     ]
    },
    {
     "name": "stderr",
     "output_type": "stream",
     "text": [
      "\u001b[32m[I 2023-03-03 00:05:26,631]\u001b[0m Trial 73 finished with value: 0.8862749037996832 and parameters: {'units_1': 37, 'units_2': 33, 'units_3': 37, 'alpha_1': 0.03488913930673768, 'alpha_2': 0.06791767249164361, 'alpha_3': 0.08322872488834726, 'dropout_1': 0.20770980368909522, 'dropout_2': 0.28899865542977815, 'dropout_3': 0.34366930976590443, 'l2_kern_1': 0.0016525914841926399, 'l2_kern_2': 7.473308916260666e-05, 'l2_kern_3': 0.0004735104086112573, 'l2_bias_1': 0.00028052506114652876, 'l2_bias_2': 0.00015441352643819675, 'l2_bias_3': 9.487080950019278e-05, 'lr': 0.0017061839918873435, 'batch_size': 128}. Best is trial 71 with value: 0.887574314876599.\u001b[0m\n",
      "C:\\Users\\User\\AppData\\Local\\Temp\\ipykernel_12316\\574535459.py:60: DeprecationWarning: KerasClassifier is deprecated, use Sci-Keras (https://github.com/adriangb/scikeras) instead. See https://www.adriangb.com/scikeras/stable/migration.html for help migrating.\n",
      "  ('classifier', KerasClassifier(build_fn=self.create_model, verbose=0))\n"
     ]
    },
    {
     "name": "stdout",
     "output_type": "stream",
     "text": [
      "195/195 [==============================] - 0s 1ms/step\n",
      "195/195 [==============================] - 0s 2ms/step\n",
      "195/195 [==============================] - 0s 2ms/step\n"
     ]
    },
    {
     "name": "stderr",
     "output_type": "stream",
     "text": [
      "\u001b[32m[I 2023-03-03 00:06:15,115]\u001b[0m Trial 74 finished with value: 0.885840245000796 and parameters: {'units_1': 37, 'units_2': 37, 'units_3': 37, 'alpha_1': 0.035091675693302654, 'alpha_2': 0.06538299443000807, 'alpha_3': 0.0831352634217067, 'dropout_1': 0.23451968828859465, 'dropout_2': 0.3008428696536444, 'dropout_3': 0.36275602778533694, 'l2_kern_1': 0.0018394908878066932, 'l2_kern_2': 7.532577494648237e-05, 'l2_kern_3': 0.0003153402274912604, 'l2_bias_1': 0.00027444932969084853, 'l2_bias_2': 0.00016214741457301772, 'l2_bias_3': 0.0001021998521889998, 'lr': 0.0012594227506531133, 'batch_size': 128}. Best is trial 71 with value: 0.887574314876599.\u001b[0m\n",
      "C:\\Users\\User\\AppData\\Local\\Temp\\ipykernel_12316\\574535459.py:60: DeprecationWarning: KerasClassifier is deprecated, use Sci-Keras (https://github.com/adriangb/scikeras) instead. See https://www.adriangb.com/scikeras/stable/migration.html for help migrating.\n",
      "  ('classifier', KerasClassifier(build_fn=self.create_model, verbose=0))\n"
     ]
    },
    {
     "name": "stdout",
     "output_type": "stream",
     "text": [
      "195/195 [==============================] - 0s 1ms/step\n",
      "195/195 [==============================] - 1s 2ms/step\n",
      "195/195 [==============================] - 0s 2ms/step\n"
     ]
    },
    {
     "name": "stderr",
     "output_type": "stream",
     "text": [
      "\u001b[32m[I 2023-03-03 00:07:09,245]\u001b[0m Trial 75 finished with value: 0.8811635829868752 and parameters: {'units_1': 37, 'units_2': 39, 'units_3': 34, 'alpha_1': 0.03425710953779704, 'alpha_2': 0.06543153177881178, 'alpha_3': 0.08832783033532336, 'dropout_1': 0.23283688042936002, 'dropout_2': 0.3041776398144017, 'dropout_3': 0.34280247503712236, 'l2_kern_1': 0.0010153877004851336, 'l2_kern_2': 0.00017551239924268604, 'l2_kern_3': 0.0003307153258067802, 'l2_bias_1': 0.0002993280613511792, 'l2_bias_2': 0.00017509606235564985, 'l2_bias_3': 0.00013350900175937422, 'lr': 0.0006142807443675495, 'batch_size': 128}. Best is trial 71 with value: 0.887574314876599.\u001b[0m\n",
      "C:\\Users\\User\\AppData\\Local\\Temp\\ipykernel_12316\\574535459.py:60: DeprecationWarning: KerasClassifier is deprecated, use Sci-Keras (https://github.com/adriangb/scikeras) instead. See https://www.adriangb.com/scikeras/stable/migration.html for help migrating.\n",
      "  ('classifier', KerasClassifier(build_fn=self.create_model, verbose=0))\n"
     ]
    },
    {
     "name": "stdout",
     "output_type": "stream",
     "text": [
      "195/195 [==============================] - 0s 2ms/step\n",
      "195/195 [==============================] - 0s 1ms/step\n",
      "195/195 [==============================] - 0s 1ms/step\n"
     ]
    },
    {
     "name": "stderr",
     "output_type": "stream",
     "text": [
      "\u001b[32m[I 2023-03-03 00:07:53,959]\u001b[0m Trial 76 finished with value: 0.8847926061525851 and parameters: {'units_1': 38, 'units_2': 36, 'units_3': 37, 'alpha_1': 0.029101739417297635, 'alpha_2': 0.05865671830462048, 'alpha_3': 0.08237357245834634, 'dropout_1': 0.2414485552540503, 'dropout_2': 0.2816998306148807, 'dropout_3': 0.36221593749030984, 'l2_kern_1': 0.003516014247970743, 'l2_kern_2': 7.459732281589949e-05, 'l2_kern_3': 0.00023289368419099628, 'l2_bias_1': 0.0004365351999205641, 'l2_bias_2': 0.00014780581594516632, 'l2_bias_3': 9.943636527624567e-05, 'lr': 0.001788697268523441, 'batch_size': 128}. Best is trial 71 with value: 0.887574314876599.\u001b[0m\n",
      "C:\\Users\\User\\AppData\\Local\\Temp\\ipykernel_12316\\574535459.py:60: DeprecationWarning: KerasClassifier is deprecated, use Sci-Keras (https://github.com/adriangb/scikeras) instead. See https://www.adriangb.com/scikeras/stable/migration.html for help migrating.\n",
      "  ('classifier', KerasClassifier(build_fn=self.create_model, verbose=0))\n"
     ]
    },
    {
     "name": "stdout",
     "output_type": "stream",
     "text": [
      "195/195 [==============================] - 0s 2ms/step\n",
      "195/195 [==============================] - 0s 1ms/step\n",
      "195/195 [==============================] - 0s 2ms/step\n"
     ]
    },
    {
     "name": "stderr",
     "output_type": "stream",
     "text": [
      "\u001b[32m[I 2023-03-03 00:08:45,093]\u001b[0m Trial 77 finished with value: 0.8857298287075787 and parameters: {'units_1': 37, 'units_2': 37, 'units_3': 37, 'alpha_1': 0.028792873694966695, 'alpha_2': 0.056499351413781165, 'alpha_3': 0.08364769322159223, 'dropout_1': 0.26083862592473767, 'dropout_2': 0.27944508802849993, 'dropout_3': 0.3619695256046166, 'l2_kern_1': 0.003407382481161518, 'l2_kern_2': 7.335485754937159e-05, 'l2_kern_3': 0.00024224983625121489, 'l2_bias_1': 0.00043014359753329895, 'l2_bias_2': 0.00013301347331194687, 'l2_bias_3': 0.00010052348880434247, 'lr': 0.0017405833496440706, 'batch_size': 128}. Best is trial 71 with value: 0.887574314876599.\u001b[0m\n",
      "C:\\Users\\User\\AppData\\Local\\Temp\\ipykernel_12316\\574535459.py:60: DeprecationWarning: KerasClassifier is deprecated, use Sci-Keras (https://github.com/adriangb/scikeras) instead. See https://www.adriangb.com/scikeras/stable/migration.html for help migrating.\n",
      "  ('classifier', KerasClassifier(build_fn=self.create_model, verbose=0))\n"
     ]
    },
    {
     "name": "stdout",
     "output_type": "stream",
     "text": [
      "195/195 [==============================] - 0s 1ms/step\n",
      "195/195 [==============================] - 0s 2ms/step\n",
      "195/195 [==============================] - 0s 2ms/step\n"
     ]
    },
    {
     "name": "stderr",
     "output_type": "stream",
     "text": [
      "\u001b[32m[I 2023-03-03 00:09:41,675]\u001b[0m Trial 78 finished with value: 0.8873520859615435 and parameters: {'units_1': 33, 'units_2': 36, 'units_3': 38, 'alpha_1': 0.02896337918439542, 'alpha_2': 0.04571610100570091, 'alpha_3': 0.08280441711135772, 'dropout_1': 0.25628742033515883, 'dropout_2': 0.2809692555713553, 'dropout_3': 0.36135772178707654, 'l2_kern_1': 0.0033252597730857552, 'l2_kern_2': 7.367699887297231e-05, 'l2_kern_3': 0.0001711040705168219, 'l2_bias_1': 0.00043597358644328443, 'l2_bias_2': 0.00015807351644599583, 'l2_bias_3': 0.00010351948776209994, 'lr': 0.0012482786848792527, 'batch_size': 128}. Best is trial 71 with value: 0.887574314876599.\u001b[0m\n",
      "C:\\Users\\User\\AppData\\Local\\Temp\\ipykernel_12316\\574535459.py:60: DeprecationWarning: KerasClassifier is deprecated, use Sci-Keras (https://github.com/adriangb/scikeras) instead. See https://www.adriangb.com/scikeras/stable/migration.html for help migrating.\n",
      "  ('classifier', KerasClassifier(build_fn=self.create_model, verbose=0))\n"
     ]
    },
    {
     "name": "stdout",
     "output_type": "stream",
     "text": [
      "195/195 [==============================] - 0s 1ms/step\n",
      "195/195 [==============================] - 0s 1ms/step\n",
      "195/195 [==============================] - 0s 1ms/step\n"
     ]
    },
    {
     "name": "stderr",
     "output_type": "stream",
     "text": [
      "\u001b[32m[I 2023-03-03 00:10:37,354]\u001b[0m Trial 79 finished with value: 0.8836005705325253 and parameters: {'units_1': 32, 'units_2': 37, 'units_3': 38, 'alpha_1': 0.03970606680302888, 'alpha_2': 0.04309763587225816, 'alpha_3': 0.08477570447652572, 'dropout_1': 0.2619753271591811, 'dropout_2': 0.27210325147451375, 'dropout_3': 0.36127876604454245, 'l2_kern_1': 0.0043859030921198534, 'l2_kern_2': 7.539224212029935e-05, 'l2_kern_3': 0.0001577342077731425, 'l2_bias_1': 0.0003901206435148896, 'l2_bias_2': 0.00014890141775178176, 'l2_bias_3': 0.0001703582992573892, 'lr': 0.001232864436657505, 'batch_size': 128}. Best is trial 71 with value: 0.887574314876599.\u001b[0m\n",
      "C:\\Users\\User\\AppData\\Local\\Temp\\ipykernel_12316\\574535459.py:60: DeprecationWarning: KerasClassifier is deprecated, use Sci-Keras (https://github.com/adriangb/scikeras) instead. See https://www.adriangb.com/scikeras/stable/migration.html for help migrating.\n",
      "  ('classifier', KerasClassifier(build_fn=self.create_model, verbose=0))\n"
     ]
    },
    {
     "name": "stdout",
     "output_type": "stream",
     "text": [
      "195/195 [==============================] - 0s 1ms/step\n",
      "195/195 [==============================] - 0s 1ms/step\n",
      "195/195 [==============================] - 0s 2ms/step\n"
     ]
    },
    {
     "name": "stderr",
     "output_type": "stream",
     "text": [
      "\u001b[32m[I 2023-03-03 00:11:24,742]\u001b[0m Trial 80 finished with value: 0.8736867118340607 and parameters: {'units_1': 15, 'units_2': 37, 'units_3': 38, 'alpha_1': 0.03535784947522805, 'alpha_2': 0.045944053646190336, 'alpha_3': 0.08216435476921856, 'dropout_1': 0.25443456081009175, 'dropout_2': 0.2817581410799229, 'dropout_3': 0.3713647953916823, 'l2_kern_1': 0.0031030601497491913, 'l2_kern_2': 0.00024193838335661953, 'l2_kern_3': 0.00023627559370382475, 'l2_bias_1': 0.0002556261863184811, 'l2_bias_2': 0.0002517058704753497, 'l2_bias_3': 9.020462332163471e-05, 'lr': 0.0009844613096390644, 'batch_size': 128}. Best is trial 71 with value: 0.887574314876599.\u001b[0m\n",
      "C:\\Users\\User\\AppData\\Local\\Temp\\ipykernel_12316\\574535459.py:60: DeprecationWarning: KerasClassifier is deprecated, use Sci-Keras (https://github.com/adriangb/scikeras) instead. See https://www.adriangb.com/scikeras/stable/migration.html for help migrating.\n",
      "  ('classifier', KerasClassifier(build_fn=self.create_model, verbose=0))\n"
     ]
    },
    {
     "name": "stdout",
     "output_type": "stream",
     "text": [
      "195/195 [==============================] - 0s 1ms/step\n",
      "195/195 [==============================] - 0s 2ms/step\n",
      "195/195 [==============================] - 0s 1ms/step\n"
     ]
    },
    {
     "name": "stderr",
     "output_type": "stream",
     "text": [
      "\u001b[32m[I 2023-03-03 00:12:10,063]\u001b[0m Trial 81 finished with value: 0.8865477011154623 and parameters: {'units_1': 37, 'units_2': 34, 'units_3': 40, 'alpha_1': 0.027775624905466777, 'alpha_2': 0.05673248337545279, 'alpha_3': 0.09014597960865887, 'dropout_1': 0.24015053874593262, 'dropout_2': 0.29810293308741637, 'dropout_3': 0.36412973812494576, 'l2_kern_1': 0.0023035310863566416, 'l2_kern_2': 0.00010875707828041812, 'l2_kern_3': 0.00010919493275193771, 'l2_bias_1': 0.00041572606273898485, 'l2_bias_2': 0.000120649646310819, 'l2_bias_3': 0.00010462422390619498, 'lr': 0.0016298440897721523, 'batch_size': 128}. Best is trial 71 with value: 0.887574314876599.\u001b[0m\n",
      "C:\\Users\\User\\AppData\\Local\\Temp\\ipykernel_12316\\574535459.py:60: DeprecationWarning: KerasClassifier is deprecated, use Sci-Keras (https://github.com/adriangb/scikeras) instead. See https://www.adriangb.com/scikeras/stable/migration.html for help migrating.\n",
      "  ('classifier', KerasClassifier(build_fn=self.create_model, verbose=0))\n"
     ]
    },
    {
     "name": "stdout",
     "output_type": "stream",
     "text": [
      "195/195 [==============================] - 0s 1ms/step\n",
      "195/195 [==============================] - 0s 2ms/step\n",
      "195/195 [==============================] - 0s 1ms/step\n"
     ]
    },
    {
     "name": "stderr",
     "output_type": "stream",
     "text": [
      "\u001b[32m[I 2023-03-03 00:12:53,112]\u001b[0m Trial 82 finished with value: 0.887434927773595 and parameters: {'units_1': 35, 'units_2': 34, 'units_3': 40, 'alpha_1': 0.029582806322569495, 'alpha_2': 0.057072622848705824, 'alpha_3': 0.08940921226162536, 'dropout_1': 0.23903038892804834, 'dropout_2': 0.24660481616803823, 'dropout_3': 0.3635440094142057, 'l2_kern_1': 0.002342655709617719, 'l2_kern_2': 6.227641976244183e-05, 'l2_kern_3': 0.00010268136245552501, 'l2_bias_1': 0.00044926678665537087, 'l2_bias_2': 0.0001287340315742331, 'l2_bias_3': 0.00010185710908553173, 'lr': 0.0016427009167858297, 'batch_size': 128}. Best is trial 71 with value: 0.887574314876599.\u001b[0m\n",
      "C:\\Users\\User\\AppData\\Local\\Temp\\ipykernel_12316\\574535459.py:60: DeprecationWarning: KerasClassifier is deprecated, use Sci-Keras (https://github.com/adriangb/scikeras) instead. See https://www.adriangb.com/scikeras/stable/migration.html for help migrating.\n",
      "  ('classifier', KerasClassifier(build_fn=self.create_model, verbose=0))\n"
     ]
    },
    {
     "name": "stdout",
     "output_type": "stream",
     "text": [
      "195/195 [==============================] - 0s 1ms/step\n",
      "195/195 [==============================] - 0s 2ms/step\n",
      "195/195 [==============================] - 0s 1ms/step\n"
     ]
    },
    {
     "name": "stderr",
     "output_type": "stream",
     "text": [
      "\u001b[32m[I 2023-03-03 00:13:34,178]\u001b[0m Trial 83 finished with value: 0.8867394007721944 and parameters: {'units_1': 33, 'units_2': 35, 'units_3': 40, 'alpha_1': 0.02956554224203616, 'alpha_2': 0.057366698760821, 'alpha_3': 0.09017588557273083, 'dropout_1': 0.27755125781467893, 'dropout_2': 0.22222743718585863, 'dropout_3': 0.36473574032271283, 'l2_kern_1': 0.002523705592208108, 'l2_kern_2': 0.00010809277451909415, 'l2_kern_3': 8.742446022994265e-05, 'l2_bias_1': 0.0004214697631199034, 'l2_bias_2': 0.0001084402893612711, 'l2_bias_3': 0.00010428454433106727, 'lr': 0.0015245805535320075, 'batch_size': 128}. Best is trial 71 with value: 0.887574314876599.\u001b[0m\n",
      "C:\\Users\\User\\AppData\\Local\\Temp\\ipykernel_12316\\574535459.py:60: DeprecationWarning: KerasClassifier is deprecated, use Sci-Keras (https://github.com/adriangb/scikeras) instead. See https://www.adriangb.com/scikeras/stable/migration.html for help migrating.\n",
      "  ('classifier', KerasClassifier(build_fn=self.create_model, verbose=0))\n"
     ]
    },
    {
     "name": "stdout",
     "output_type": "stream",
     "text": [
      "195/195 [==============================] - 0s 1ms/step\n",
      "195/195 [==============================] - 0s 1ms/step\n",
      "195/195 [==============================] - 0s 2ms/step\n"
     ]
    },
    {
     "name": "stderr",
     "output_type": "stream",
     "text": [
      "\u001b[32m[I 2023-03-03 00:14:13,712]\u001b[0m Trial 84 finished with value: 0.8849509227352502 and parameters: {'units_1': 29, 'units_2': 34, 'units_3': 40, 'alpha_1': 0.027452348580672727, 'alpha_2': 0.051978987658764055, 'alpha_3': 0.09538941902922612, 'dropout_1': 0.27868936570571057, 'dropout_2': 0.22974130050369918, 'dropout_3': 0.33996079561456655, 'l2_kern_1': 0.0025143400176582376, 'l2_kern_2': 0.0001114011924590982, 'l2_kern_3': 9.195091488245895e-05, 'l2_bias_1': 0.0006647760071563552, 'l2_bias_2': 0.00011133452357631353, 'l2_bias_3': 0.00011254137320498172, 'lr': 0.0016457647177154464, 'batch_size': 128}. Best is trial 71 with value: 0.887574314876599.\u001b[0m\n",
      "C:\\Users\\User\\AppData\\Local\\Temp\\ipykernel_12316\\574535459.py:60: DeprecationWarning: KerasClassifier is deprecated, use Sci-Keras (https://github.com/adriangb/scikeras) instead. See https://www.adriangb.com/scikeras/stable/migration.html for help migrating.\n",
      "  ('classifier', KerasClassifier(build_fn=self.create_model, verbose=0))\n"
     ]
    },
    {
     "name": "stdout",
     "output_type": "stream",
     "text": [
      "195/195 [==============================] - 0s 2ms/step\n",
      "195/195 [==============================] - 0s 1ms/step\n",
      "195/195 [==============================] - 0s 1ms/step\n"
     ]
    },
    {
     "name": "stderr",
     "output_type": "stream",
     "text": [
      "\u001b[32m[I 2023-03-03 00:14:58,584]\u001b[0m Trial 85 finished with value: 0.884419190003924 and parameters: {'units_1': 33, 'units_2': 33, 'units_3': 36, 'alpha_1': 0.03354902741613287, 'alpha_2': 0.04951138476821204, 'alpha_3': 0.08956619657514271, 'dropout_1': 0.2594655598621941, 'dropout_2': 0.21584854685446592, 'dropout_3': 0.3725042917448531, 'l2_kern_1': 0.006059547629548242, 'l2_kern_2': 0.00015097195725089158, 'l2_kern_3': 0.0001024980010029184, 'l2_bias_1': 0.00031541555267358836, 'l2_bias_2': 7.331182380930872e-05, 'l2_bias_3': 7.126223609937828e-05, 'lr': 0.001295786120163749, 'batch_size': 128}. Best is trial 71 with value: 0.887574314876599.\u001b[0m\n",
      "C:\\Users\\User\\AppData\\Local\\Temp\\ipykernel_12316\\574535459.py:60: DeprecationWarning: KerasClassifier is deprecated, use Sci-Keras (https://github.com/adriangb/scikeras) instead. See https://www.adriangb.com/scikeras/stable/migration.html for help migrating.\n",
      "  ('classifier', KerasClassifier(build_fn=self.create_model, verbose=0))\n"
     ]
    },
    {
     "name": "stdout",
     "output_type": "stream",
     "text": [
      "195/195 [==============================] - 0s 2ms/step\n",
      "195/195 [==============================] - 0s 1ms/step\n",
      "195/195 [==============================] - 0s 1ms/step\n"
     ]
    },
    {
     "name": "stderr",
     "output_type": "stream",
     "text": [
      "\u001b[32m[I 2023-03-03 00:15:50,208]\u001b[0m Trial 86 finished with value: 0.884887776210893 and parameters: {'units_1': 30, 'units_2': 40, 'units_3': 39, 'alpha_1': 0.029575734948338366, 'alpha_2': 0.05763853382655158, 'alpha_3': 0.09080198859784384, 'dropout_1': 0.24950018235261692, 'dropout_2': 0.24663688943069267, 'dropout_3': 0.38693163354715426, 'l2_kern_1': 0.002026898464625303, 'l2_kern_2': 6.227690572799586e-05, 'l2_kern_3': 6.503594919198459e-05, 'l2_bias_1': 0.00039627219481994265, 'l2_bias_2': 9.214857945112791e-05, 'l2_bias_3': 0.00017811396941135594, 'lr': 0.0010659924779359744, 'batch_size': 128}. Best is trial 71 with value: 0.887574314876599.\u001b[0m\n",
      "C:\\Users\\User\\AppData\\Local\\Temp\\ipykernel_12316\\574535459.py:60: DeprecationWarning: KerasClassifier is deprecated, use Sci-Keras (https://github.com/adriangb/scikeras) instead. See https://www.adriangb.com/scikeras/stable/migration.html for help migrating.\n",
      "  ('classifier', KerasClassifier(build_fn=self.create_model, verbose=0))\n"
     ]
    },
    {
     "name": "stdout",
     "output_type": "stream",
     "text": [
      "195/195 [==============================] - 1s 2ms/step\n",
      "195/195 [==============================] - 0s 2ms/step\n",
      "195/195 [==============================] - 0s 1ms/step\n"
     ]
    },
    {
     "name": "stderr",
     "output_type": "stream",
     "text": [
      "\u001b[32m[I 2023-03-03 00:16:51,575]\u001b[0m Trial 87 finished with value: 0.8863602783081955 and parameters: {'units_1': 34, 'units_2': 34, 'units_3': 36, 'alpha_1': 0.02588090228039304, 'alpha_2': 0.05570772543771779, 'alpha_3': 0.0851266423218481, 'dropout_1': 0.21774454646150107, 'dropout_2': 0.21511917198980474, 'dropout_3': 0.3500183209338374, 'l2_kern_1': 0.002507742293074994, 'l2_kern_2': 0.00013319182683966337, 'l2_kern_3': 0.00013145642334275515, 'l2_bias_1': 0.0005115640217670419, 'l2_bias_2': 0.00012397280979773874, 'l2_bias_3': 2.9605893237001694e-05, 'lr': 0.000696620741969028, 'batch_size': 128}. Best is trial 71 with value: 0.887574314876599.\u001b[0m\n",
      "C:\\Users\\User\\AppData\\Local\\Temp\\ipykernel_12316\\574535459.py:60: DeprecationWarning: KerasClassifier is deprecated, use Sci-Keras (https://github.com/adriangb/scikeras) instead. See https://www.adriangb.com/scikeras/stable/migration.html for help migrating.\n",
      "  ('classifier', KerasClassifier(build_fn=self.create_model, verbose=0))\n"
     ]
    },
    {
     "name": "stdout",
     "output_type": "stream",
     "text": [
      "195/195 [==============================] - 0s 1ms/step\n",
      "195/195 [==============================] - 0s 2ms/step\n",
      "195/195 [==============================] - 0s 1ms/step\n"
     ]
    },
    {
     "name": "stderr",
     "output_type": "stream",
     "text": [
      "\u001b[32m[I 2023-03-03 00:18:02,856]\u001b[0m Trial 88 finished with value: 0.8752285054097658 and parameters: {'units_1': 34, 'units_2': 34, 'units_3': 36, 'alpha_1': 0.04486594564097192, 'alpha_2': 0.0554529057078337, 'alpha_3': 0.08522284957811427, 'dropout_1': 0.23695168090143606, 'dropout_2': 0.22030315137373394, 'dropout_3': 0.3515325296808861, 'l2_kern_1': 0.0039321347963780055, 'l2_kern_2': 0.0001028871816647566, 'l2_kern_3': 0.00015199090181046356, 'l2_bias_1': 0.0005469261450862594, 'l2_bias_2': 0.00012762407222694782, 'l2_bias_3': 0.0002443784734796322, 'lr': 0.0004139453314377305, 'batch_size': 128}. Best is trial 71 with value: 0.887574314876599.\u001b[0m\n",
      "C:\\Users\\User\\AppData\\Local\\Temp\\ipykernel_12316\\574535459.py:60: DeprecationWarning: KerasClassifier is deprecated, use Sci-Keras (https://github.com/adriangb/scikeras) instead. See https://www.adriangb.com/scikeras/stable/migration.html for help migrating.\n",
      "  ('classifier', KerasClassifier(build_fn=self.create_model, verbose=0))\n"
     ]
    },
    {
     "name": "stdout",
     "output_type": "stream",
     "text": [
      "195/195 [==============================] - 0s 1ms/step\n",
      "195/195 [==============================] - 0s 1ms/step\n",
      "195/195 [==============================] - 0s 1ms/step\n"
     ]
    },
    {
     "name": "stderr",
     "output_type": "stream",
     "text": [
      "\u001b[32m[I 2023-03-03 00:19:02,830]\u001b[0m Trial 89 finished with value: 0.8819131185069491 and parameters: {'units_1': 31, 'units_2': 38, 'units_3': 40, 'alpha_1': 0.03674618527305451, 'alpha_2': 0.056339703623505336, 'alpha_3': 0.09543504463143059, 'dropout_1': 0.2630867251448516, 'dropout_2': 0.2260389535337024, 'dropout_3': 0.3917103861241649, 'l2_kern_1': 0.0027154335426506516, 'l2_kern_2': 0.0001401144252163965, 'l2_kern_3': 7.729711142125702e-05, 'l2_bias_1': 0.0007370926013392197, 'l2_bias_2': 0.000179904906626413, 'l2_bias_3': 3.2307226318699025e-05, 'lr': 0.0007321763869264263, 'batch_size': 128}. Best is trial 71 with value: 0.887574314876599.\u001b[0m\n",
      "C:\\Users\\User\\AppData\\Local\\Temp\\ipykernel_12316\\574535459.py:60: DeprecationWarning: KerasClassifier is deprecated, use Sci-Keras (https://github.com/adriangb/scikeras) instead. See https://www.adriangb.com/scikeras/stable/migration.html for help migrating.\n",
      "  ('classifier', KerasClassifier(build_fn=self.create_model, verbose=0))\n"
     ]
    },
    {
     "name": "stdout",
     "output_type": "stream",
     "text": [
      "195/195 [==============================] - 0s 2ms/step\n",
      "195/195 [==============================] - 0s 1ms/step\n",
      "195/195 [==============================] - 0s 1ms/step\n"
     ]
    },
    {
     "name": "stderr",
     "output_type": "stream",
     "text": [
      "\u001b[32m[I 2023-03-03 00:20:08,862]\u001b[0m Trial 90 finished with value: 0.8849534352649023 and parameters: {'units_1': 35, 'units_2': 35, 'units_3': 36, 'alpha_1': 0.0329668431514554, 'alpha_2': 0.04277104699767157, 'alpha_3': 0.08714825892776887, 'dropout_1': 0.2040660168422225, 'dropout_2': 0.20524181592350937, 'dropout_3': 0.36338611599025405, 'l2_kern_1': 0.0058242297497019205, 'l2_kern_2': 0.0001971300177970151, 'l2_kern_3': 0.00013461808504383434, 'l2_bias_1': 0.0004939641340203985, 'l2_bias_2': 8.139999576010048e-05, 'l2_bias_3': 5.8488498379454716e-05, 'lr': 0.0005220130071093947, 'batch_size': 128}. Best is trial 71 with value: 0.887574314876599.\u001b[0m\n",
      "C:\\Users\\User\\AppData\\Local\\Temp\\ipykernel_12316\\574535459.py:60: DeprecationWarning: KerasClassifier is deprecated, use Sci-Keras (https://github.com/adriangb/scikeras) instead. See https://www.adriangb.com/scikeras/stable/migration.html for help migrating.\n",
      "  ('classifier', KerasClassifier(build_fn=self.create_model, verbose=0))\n"
     ]
    },
    {
     "name": "stdout",
     "output_type": "stream",
     "text": [
      "195/195 [==============================] - 0s 1ms/step\n",
      "195/195 [==============================] - 0s 2ms/step\n",
      "195/195 [==============================] - 0s 1ms/step\n"
     ]
    },
    {
     "name": "stderr",
     "output_type": "stream",
     "text": [
      "\u001b[32m[I 2023-03-03 00:20:54,896]\u001b[0m Trial 91 finished with value: 0.8850269852728166 and parameters: {'units_1': 33, 'units_2': 32, 'units_3': 39, 'alpha_1': 0.025644692953096525, 'alpha_2': 0.06066865391275293, 'alpha_3': 0.09134933091311412, 'dropout_1': 0.21711643732838423, 'dropout_2': 0.2650463769060779, 'dropout_3': 0.33280655792922736, 'l2_kern_1': 0.0016642863456445436, 'l2_kern_2': 5.9155423038835826e-05, 'l2_kern_3': 0.0002008824067777518, 'l2_bias_1': 0.0002567918266926528, 'l2_bias_2': 0.00032660291291797364, 'l2_bias_3': 0.00010452048357453267, 'lr': 0.0014400486149312279, 'batch_size': 128}. Best is trial 71 with value: 0.887574314876599.\u001b[0m\n",
      "C:\\Users\\User\\AppData\\Local\\Temp\\ipykernel_12316\\574535459.py:60: DeprecationWarning: KerasClassifier is deprecated, use Sci-Keras (https://github.com/adriangb/scikeras) instead. See https://www.adriangb.com/scikeras/stable/migration.html for help migrating.\n",
      "  ('classifier', KerasClassifier(build_fn=self.create_model, verbose=0))\n"
     ]
    },
    {
     "name": "stdout",
     "output_type": "stream",
     "text": [
      "195/195 [==============================] - 0s 2ms/step\n",
      "195/195 [==============================] - 0s 1ms/step\n",
      "195/195 [==============================] - 0s 2ms/step\n"
     ]
    },
    {
     "name": "stderr",
     "output_type": "stream",
     "text": [
      "\u001b[32m[I 2023-03-03 00:21:48,177]\u001b[0m Trial 92 finished with value: 0.8868650019507651 and parameters: {'units_1': 36, 'units_2': 36, 'units_3': 37, 'alpha_1': 0.030392749461708023, 'alpha_2': 0.05242567799708541, 'alpha_3': 0.08033722360922901, 'dropout_1': 0.2208231376419471, 'dropout_2': 0.2007005062726298, 'dropout_3': 0.3468688498693855, 'l2_kern_1': 0.002156910194025647, 'l2_kern_2': 8.272033147977067e-05, 'l2_kern_3': 0.00011742474652979818, 'l2_bias_1': 0.00041047808689642347, 'l2_bias_2': 0.00016056494902792737, 'l2_bias_3': 0.0001657697378993524, 'lr': 0.0016363672442092055, 'batch_size': 128}. Best is trial 71 with value: 0.887574314876599.\u001b[0m\n",
      "C:\\Users\\User\\AppData\\Local\\Temp\\ipykernel_12316\\574535459.py:60: DeprecationWarning: KerasClassifier is deprecated, use Sci-Keras (https://github.com/adriangb/scikeras) instead. See https://www.adriangb.com/scikeras/stable/migration.html for help migrating.\n",
      "  ('classifier', KerasClassifier(build_fn=self.create_model, verbose=0))\n"
     ]
    },
    {
     "name": "stdout",
     "output_type": "stream",
     "text": [
      "195/195 [==============================] - 0s 1ms/step\n",
      "195/195 [==============================] - 0s 2ms/step\n",
      "195/195 [==============================] - 0s 2ms/step\n"
     ]
    },
    {
     "name": "stderr",
     "output_type": "stream",
     "text": [
      "\u001b[32m[I 2023-03-03 00:22:34,085]\u001b[0m Trial 93 finished with value: 0.8870050775486255 and parameters: {'units_1': 37, 'units_2': 36, 'units_3': 35, 'alpha_1': 0.029335179016871278, 'alpha_2': 0.05167758980268833, 'alpha_3': 0.08433331979640146, 'dropout_1': 0.24990185484786692, 'dropout_2': 0.20004665272762875, 'dropout_3': 0.3539658881928711, 'l2_kern_1': 0.0027692158109288126, 'l2_kern_2': 0.00039944934516735674, 'l2_kern_3': 5.438496318207181e-05, 'l2_bias_1': 0.00041457855450488735, 'l2_bias_2': 0.00011805771824261597, 'l2_bias_3': 0.00016030166754790824, 'lr': 0.0009141828626071768, 'batch_size': 128}. Best is trial 71 with value: 0.887574314876599.\u001b[0m\n",
      "C:\\Users\\User\\AppData\\Local\\Temp\\ipykernel_12316\\574535459.py:60: DeprecationWarning: KerasClassifier is deprecated, use Sci-Keras (https://github.com/adriangb/scikeras) instead. See https://www.adriangb.com/scikeras/stable/migration.html for help migrating.\n",
      "  ('classifier', KerasClassifier(build_fn=self.create_model, verbose=0))\n"
     ]
    },
    {
     "name": "stdout",
     "output_type": "stream",
     "text": [
      "195/195 [==============================] - 0s 1ms/step\n",
      "195/195 [==============================] - 0s 2ms/step\n",
      "195/195 [==============================] - 0s 1ms/step\n"
     ]
    },
    {
     "name": "stderr",
     "output_type": "stream",
     "text": [
      "\u001b[32m[I 2023-03-03 00:23:25,722]\u001b[0m Trial 94 finished with value: 0.8866870074450895 and parameters: {'units_1': 34, 'units_2': 35, 'units_3': 35, 'alpha_1': 0.03914782165394109, 'alpha_2': 0.05210358971673755, 'alpha_3': 0.07975283287425108, 'dropout_1': 0.22719431052154107, 'dropout_2': 0.20143132021311105, 'dropout_3': 0.3488489551446322, 'l2_kern_1': 0.0027238835787907665, 'l2_kern_2': 0.0005225203292559137, 'l2_kern_3': 5.05775903091759e-05, 'l2_bias_1': 0.0003536342655224271, 'l2_bias_2': 0.00020081063775025912, 'l2_bias_3': 0.00014604040220247744, 'lr': 0.0008796602460871815, 'batch_size': 128}. Best is trial 71 with value: 0.887574314876599.\u001b[0m\n",
      "C:\\Users\\User\\AppData\\Local\\Temp\\ipykernel_12316\\574535459.py:60: DeprecationWarning: KerasClassifier is deprecated, use Sci-Keras (https://github.com/adriangb/scikeras) instead. See https://www.adriangb.com/scikeras/stable/migration.html for help migrating.\n",
      "  ('classifier', KerasClassifier(build_fn=self.create_model, verbose=0))\n"
     ]
    },
    {
     "name": "stdout",
     "output_type": "stream",
     "text": [
      "195/195 [==============================] - 0s 1ms/step\n",
      "195/195 [==============================] - 0s 1ms/step\n",
      "195/195 [==============================] - 0s 1ms/step\n"
     ]
    },
    {
     "name": "stderr",
     "output_type": "stream",
     "text": [
      "\u001b[32m[I 2023-03-03 00:24:20,048]\u001b[0m Trial 95 finished with value: 0.8845857489524467 and parameters: {'units_1': 34, 'units_2': 35, 'units_3': 33, 'alpha_1': 0.03925887468694708, 'alpha_2': 0.052242366725485365, 'alpha_3': 0.08738602970983843, 'dropout_1': 0.22580891998288566, 'dropout_2': 0.21253189435046027, 'dropout_3': 0.34681816945168176, 'l2_kern_1': 0.0028565592417693383, 'l2_kern_2': 0.0005405882625626815, 'l2_kern_3': 4.401421525345473e-05, 'l2_bias_1': 0.0003295841693118992, 'l2_bias_2': 0.000223035108968835, 'l2_bias_3': 0.0001693985955703017, 'lr': 0.0008606285640493718, 'batch_size': 128}. Best is trial 71 with value: 0.887574314876599.\u001b[0m\n",
      "C:\\Users\\User\\AppData\\Local\\Temp\\ipykernel_12316\\574535459.py:60: DeprecationWarning: KerasClassifier is deprecated, use Sci-Keras (https://github.com/adriangb/scikeras) instead. See https://www.adriangb.com/scikeras/stable/migration.html for help migrating.\n",
      "  ('classifier', KerasClassifier(build_fn=self.create_model, verbose=0))\n"
     ]
    },
    {
     "name": "stdout",
     "output_type": "stream",
     "text": [
      "195/195 [==============================] - 0s 1ms/step\n",
      "195/195 [==============================] - 0s 2ms/step\n",
      "195/195 [==============================] - 0s 2ms/step\n"
     ]
    },
    {
     "name": "stderr",
     "output_type": "stream",
     "text": [
      "\u001b[32m[I 2023-03-03 00:25:28,645]\u001b[0m Trial 96 finished with value: 0.8861060066051937 and parameters: {'units_1': 31, 'units_2': 33, 'units_3': 35, 'alpha_1': 0.03079943698347263, 'alpha_2': 0.048067674687314564, 'alpha_3': 0.0794966471720238, 'dropout_1': 0.20679294637989779, 'dropout_2': 0.2032995395034538, 'dropout_3': 0.32562502564229845, 'l2_kern_1': 0.0021787707806236283, 'l2_kern_2': 0.00034004675064258394, 'l2_kern_3': 5.1454843355366654e-05, 'l2_bias_1': 0.000640114220060564, 'l2_bias_2': 0.00010773517342094847, 'l2_bias_3': 0.00019086840127199498, 'lr': 0.0006877133139057178, 'batch_size': 128}. Best is trial 71 with value: 0.887574314876599.\u001b[0m\n",
      "C:\\Users\\User\\AppData\\Local\\Temp\\ipykernel_12316\\574535459.py:60: DeprecationWarning: KerasClassifier is deprecated, use Sci-Keras (https://github.com/adriangb/scikeras) instead. See https://www.adriangb.com/scikeras/stable/migration.html for help migrating.\n",
      "  ('classifier', KerasClassifier(build_fn=self.create_model, verbose=0))\n"
     ]
    },
    {
     "name": "stdout",
     "output_type": "stream",
     "text": [
      "195/195 [==============================] - 0s 1ms/step\n",
      "195/195 [==============================] - 1s 2ms/step\n",
      "195/195 [==============================] - 0s 2ms/step\n"
     ]
    },
    {
     "name": "stderr",
     "output_type": "stream",
     "text": [
      "\u001b[32m[I 2023-03-03 00:26:24,043]\u001b[0m Trial 97 finished with value: 0.8831770159182782 and parameters: {'units_1': 32, 'units_2': 36, 'units_3': 39, 'alpha_1': 0.030858722639805027, 'alpha_2': 0.05134538974743495, 'alpha_3': 0.09702220390176439, 'dropout_1': 0.2519881591814693, 'dropout_2': 0.20014317053371533, 'dropout_3': 0.31208112946435923, 'l2_kern_1': 0.0011467008971406962, 'l2_kern_2': 0.0009090672167024542, 'l2_kern_3': 0.00011401848511385316, 'l2_bias_1': 0.0003888788416013554, 'l2_bias_2': 0.00020242406907529243, 'l2_bias_3': 0.000303727637939316, 'lr': 0.0010041768674341075, 'batch_size': 128}. Best is trial 71 with value: 0.887574314876599.\u001b[0m\n",
      "C:\\Users\\User\\AppData\\Local\\Temp\\ipykernel_12316\\574535459.py:60: DeprecationWarning: KerasClassifier is deprecated, use Sci-Keras (https://github.com/adriangb/scikeras) instead. See https://www.adriangb.com/scikeras/stable/migration.html for help migrating.\n",
      "  ('classifier', KerasClassifier(build_fn=self.create_model, verbose=0))\n"
     ]
    },
    {
     "name": "stdout",
     "output_type": "stream",
     "text": [
      "195/195 [==============================] - 0s 2ms/step\n",
      "195/195 [==============================] - 0s 1ms/step\n",
      "195/195 [==============================] - 0s 1ms/step\n"
     ]
    },
    {
     "name": "stderr",
     "output_type": "stream",
     "text": [
      "\u001b[32m[I 2023-03-03 00:27:30,423]\u001b[0m Trial 98 finished with value: 0.8811478700920078 and parameters: {'units_1': 35, 'units_2': 33, 'units_3': 38, 'alpha_1': 0.0269274212012255, 'alpha_2': 0.04645011247689272, 'alpha_3': 0.0894875987469014, 'dropout_1': 0.2738205724058086, 'dropout_2': 0.22158493873374988, 'dropout_3': 0.3548387046035198, 'l2_kern_1': 0.008249097172641025, 'l2_kern_2': 0.00041652458136014084, 'l2_kern_3': 8.249304740028559e-05, 'l2_bias_1': 0.0008582044811136797, 'l2_bias_2': 0.00011803941373229845, 'l2_bias_3': 0.00014727351964057296, 'lr': 0.0004689324696797013, 'batch_size': 128}. Best is trial 71 with value: 0.887574314876599.\u001b[0m\n",
      "C:\\Users\\User\\AppData\\Local\\Temp\\ipykernel_12316\\574535459.py:60: DeprecationWarning: KerasClassifier is deprecated, use Sci-Keras (https://github.com/adriangb/scikeras) instead. See https://www.adriangb.com/scikeras/stable/migration.html for help migrating.\n",
      "  ('classifier', KerasClassifier(build_fn=self.create_model, verbose=0))\n"
     ]
    },
    {
     "name": "stdout",
     "output_type": "stream",
     "text": [
      "195/195 [==============================] - 0s 2ms/step\n",
      "195/195 [==============================] - 0s 2ms/step\n",
      "195/195 [==============================] - 0s 1ms/step\n"
     ]
    },
    {
     "name": "stderr",
     "output_type": "stream",
     "text": [
      "\u001b[32m[I 2023-03-03 00:28:03,839]\u001b[0m Trial 99 finished with value: 0.8764544004863756 and parameters: {'units_1': 36, 'units_2': 31, 'units_3': 35, 'alpha_1': 0.04832488946860333, 'alpha_2': 0.036944969902832234, 'alpha_3': 0.08004685267662144, 'dropout_1': 0.2436281805028918, 'dropout_2': 0.2110283705437437, 'dropout_3': 0.33169847743459824, 'l2_kern_1': 0.0037547156117273364, 'l2_kern_2': 0.0004964460113200058, 'l2_kern_3': 5.337066704416042e-05, 'l2_bias_1': 0.000496602118038529, 'l2_bias_2': 0.0002752067811999536, 'l2_bias_3': 1.1827916204025964e-05, 'lr': 0.0008592282428416903, 'batch_size': 1024}. Best is trial 71 with value: 0.887574314876599.\u001b[0m\n"
     ]
    },
    {
     "name": "stdout",
     "output_type": "stream",
     "text": [
      "Number of finished trials: 100\n",
      "Best trial:\n",
      "  Value: 0.887574314876599\n",
      "    units_1: 39\n",
      "    units_2: 27\n",
      "    units_3: 21\n",
      "    alpha_1: 0.03448950036628276\n",
      "    alpha_2: 0.06027341319928116\n",
      "    alpha_3: 0.031090573312908\n",
      "    dropout_1: 0.2326111837260853\n",
      "    dropout_2: 0.29577418396929034\n",
      "    dropout_3: 0.3417612068051909\n",
      "    l2_kern_1: 0.0018313704066067636\n",
      "    l2_kern_2: 2.6708068329939376e-05\n",
      "    l2_kern_3: 0.0004604839899064693\n",
      "    l2_bias_1: 0.0002682594007322798\n",
      "    l2_bias_2: 1.7307469303378696e-05\n",
      "    l2_bias_3: 0.00013645463591536674\n",
      "    lr: 0.0021941934284267044\n",
      "    batch_size: 128\n"
     ]
    }
   ],
   "source": [
    "tun = tuning_methods(X_train, X_val, y_train,  y_val, X_test, y_test)\n",
    "trials = 100\n",
    "\n",
    "# Tree-structured Parzen Estimator\n",
    "params_TPE = tun.Tuning(n_trials=trials, sampler = optuna.samplers.TPESampler())"
   ]
  },
  {
   "cell_type": "code",
   "execution_count": 6,
   "id": "29c9d9d2",
   "metadata": {
    "scrolled": true
   },
   "outputs": [
    {
     "name": "stderr",
     "output_type": "stream",
     "text": [
      "C:\\Users\\User\\AppData\\Local\\Temp\\ipykernel_12316\\574535459.py:169: DeprecationWarning: KerasClassifier is deprecated, use Sci-Keras (https://github.com/adriangb/scikeras) instead. See https://www.adriangb.com/scikeras/stable/migration.html for help migrating.\n",
      "  ('classifier', KerasClassifier(build_fn=tun.create_model, verbose=0))\n"
     ]
    },
    {
     "name": "stdout",
     "output_type": "stream",
     "text": [
      "117/117 [==============================] - 0s 2ms/step\n",
      "117/117 [==============================] - 0s 2ms/step\n",
      "117/117 [==============================] - 0s 1ms/step\n",
      "117/117 [==============================] - 0s 2ms/step\n",
      "117/117 [==============================] - 0s 1ms/step\n",
      "37/37 [==============================] - 0s 2ms/step\n",
      "37/37 [==============================] - 0s 2ms/step\n",
      "37/37 [==============================] - 0s 2ms/step\n",
      "37/37 [==============================] - 0s 2ms/step\n",
      "37/37 [==============================] - 0s 1ms/step\n",
      "Train mean AUC score is 0.8880934506364998 while test mean AUC score is 0.8942457395677712.\n",
      "183/183 [==============================] - 0s 1ms/step\n",
      "              precision    recall  f1-score   support\n",
      "\n",
      "          No       0.91      0.98      0.95      4648\n",
      "         Yes       0.91      0.63      0.75      1186\n",
      "\n",
      "    accuracy                           0.91      5834\n",
      "   macro avg       0.91      0.81      0.85      5834\n",
      "weighted avg       0.91      0.91      0.91      5834\n",
      "\n"
     ]
    }
   ],
   "source": [
    "tpe_scores = tun.Best_MLP_model(params_TPE)"
   ]
  },
  {
   "cell_type": "code",
   "execution_count": 7,
   "id": "9242cd05",
   "metadata": {
    "scrolled": false
   },
   "outputs": [
    {
     "name": "stderr",
     "output_type": "stream",
     "text": [
      "\u001b[32m[I 2023-03-03 08:42:13,640]\u001b[0m A new study created in memory with name: no-name-89d12cc3-a2d6-458e-800a-16832e679e2a\u001b[0m\n",
      "C:\\Users\\User\\AppData\\Local\\Temp\\ipykernel_12316\\574535459.py:60: DeprecationWarning: KerasClassifier is deprecated, use Sci-Keras (https://github.com/adriangb/scikeras) instead. See https://www.adriangb.com/scikeras/stable/migration.html for help migrating.\n",
      "  ('classifier', KerasClassifier(build_fn=self.create_model, verbose=0))\n"
     ]
    },
    {
     "name": "stdout",
     "output_type": "stream",
     "text": [
      "195/195 [==============================] - 0s 1ms/step\n",
      "195/195 [==============================] - 0s 1ms/step\n",
      "195/195 [==============================] - 0s 1ms/step\n"
     ]
    },
    {
     "name": "stderr",
     "output_type": "stream",
     "text": [
      "\u001b[32m[I 2023-03-03 08:44:54,368]\u001b[0m Trial 0 finished with value: 0.8615781256868192 and parameters: {'units_1': 28, 'units_2': 12, 'units_3': 7, 'alpha_1': 0.015861545138969264, 'alpha_2': 0.03452138364869379, 'alpha_3': 0.01987468431905831, 'dropout_1': 0.41452899564420453, 'dropout_2': 0.2337694591027748, 'dropout_3': 0.3036323959346925, 'l2_kern_1': 0.00042146128106376345, 'l2_kern_2': 0.0005379499504354604, 'l2_kern_3': 0.008593869504619576, 'l2_bias_1': 3.241748423253626e-05, 'l2_bias_2': 0.002839174122900988, 'l2_bias_3': 2.8921944975777224e-05, 'lr': 0.0002062860359132819, 'batch_size': 16}. Best is trial 0 with value: 0.8615781256868192.\u001b[0m\n",
      "C:\\Users\\User\\AppData\\Local\\Temp\\ipykernel_12316\\574535459.py:60: DeprecationWarning: KerasClassifier is deprecated, use Sci-Keras (https://github.com/adriangb/scikeras) instead. See https://www.adriangb.com/scikeras/stable/migration.html for help migrating.\n",
      "  ('classifier', KerasClassifier(build_fn=self.create_model, verbose=0))\n"
     ]
    },
    {
     "name": "stdout",
     "output_type": "stream",
     "text": [
      "195/195 [==============================] - 1s 1ms/step\n",
      "195/195 [==============================] - 0s 1ms/step\n",
      "195/195 [==============================] - 0s 1ms/step\n"
     ]
    },
    {
     "name": "stderr",
     "output_type": "stream",
     "text": [
      "\u001b[32m[I 2023-03-03 08:45:21,415]\u001b[0m Trial 1 finished with value: 0.8235129044037084 and parameters: {'units_1': 10, 'units_2': 35, 'units_3': 12, 'alpha_1': 0.0581569738052718, 'alpha_2': 0.01718405241444102, 'alpha_3': 0.03303477797294086, 'dropout_1': 0.4049642279989639, 'dropout_2': 0.46691917348032463, 'dropout_3': 0.4353752366156388, 'l2_kern_1': 2.2058415285849025e-05, 'l2_kern_2': 0.0008816099272855833, 'l2_kern_3': 0.00010355823374675212, 'l2_bias_1': 8.037340346098668e-05, 'l2_bias_2': 0.004898790619087872, 'l2_bias_3': 0.0002097529005124815, 'lr': 5.535832878321009e-05, 'batch_size': 512}. Best is trial 0 with value: 0.8615781256868192.\u001b[0m\n",
      "C:\\Users\\User\\AppData\\Local\\Temp\\ipykernel_12316\\574535459.py:60: DeprecationWarning: KerasClassifier is deprecated, use Sci-Keras (https://github.com/adriangb/scikeras) instead. See https://www.adriangb.com/scikeras/stable/migration.html for help migrating.\n",
      "  ('classifier', KerasClassifier(build_fn=self.create_model, verbose=0))\n"
     ]
    },
    {
     "name": "stdout",
     "output_type": "stream",
     "text": [
      "195/195 [==============================] - 0s 1ms/step\n",
      "195/195 [==============================] - 0s 1ms/step\n",
      "195/195 [==============================] - 0s 1ms/step\n"
     ]
    },
    {
     "name": "stderr",
     "output_type": "stream",
     "text": [
      "\u001b[32m[I 2023-03-03 08:45:32,301]\u001b[0m Trial 2 finished with value: 0.8389786586791056 and parameters: {'units_1': 3, 'units_2': 23, 'units_3': 36, 'alpha_1': 0.01085424414018213, 'alpha_2': 0.04044254207311937, 'alpha_3': 0.04862141540487655, 'dropout_1': 0.4534896555361414, 'dropout_2': 0.2892310658126246, 'dropout_3': 0.2733276103350112, 'l2_kern_1': 7.495154240855914e-05, 'l2_kern_2': 0.0018134854171334214, 'l2_kern_3': 0.000168408489823893, 'l2_bias_1': 0.005639758023213716, 'l2_bias_2': 3.486599189296768e-05, 'l2_bias_3': 0.005252536777154966, 'lr': 0.004828802502143459, 'batch_size': 1024}. Best is trial 0 with value: 0.8615781256868192.\u001b[0m\n",
      "C:\\Users\\User\\AppData\\Local\\Temp\\ipykernel_12316\\574535459.py:60: DeprecationWarning: KerasClassifier is deprecated, use Sci-Keras (https://github.com/adriangb/scikeras) instead. See https://www.adriangb.com/scikeras/stable/migration.html for help migrating.\n",
      "  ('classifier', KerasClassifier(build_fn=self.create_model, verbose=0))\n"
     ]
    },
    {
     "name": "stdout",
     "output_type": "stream",
     "text": [
      "195/195 [==============================] - 0s 1ms/step\n",
      "195/195 [==============================] - 0s 1ms/step\n",
      "195/195 [==============================] - 0s 1ms/step\n"
     ]
    },
    {
     "name": "stderr",
     "output_type": "stream",
     "text": [
      "\u001b[32m[I 2023-03-03 08:45:59,374]\u001b[0m Trial 3 finished with value: 0.8622683116893185 and parameters: {'units_1': 17, 'units_2': 34, 'units_3': 5, 'alpha_1': 0.08798606377503573, 'alpha_2': 0.09122834594552853, 'alpha_3': 0.09154168113148953, 'dropout_1': 0.3205461318982221, 'dropout_2': 0.44861147595866624, 'dropout_3': 0.4134892801912686, 'l2_kern_1': 4.1452047215845e-05, 'l2_kern_2': 0.0010943706534394732, 'l2_kern_3': 0.004594777971969136, 'l2_bias_1': 0.004816398310793513, 'l2_bias_2': 0.00026524370769772764, 'l2_bias_3': 2.8182730149555938e-05, 'lr': 0.0035394860059685894, 'batch_size': 128}. Best is trial 3 with value: 0.8622683116893185.\u001b[0m\n",
      "C:\\Users\\User\\AppData\\Local\\Temp\\ipykernel_12316\\574535459.py:60: DeprecationWarning: KerasClassifier is deprecated, use Sci-Keras (https://github.com/adriangb/scikeras) instead. See https://www.adriangb.com/scikeras/stable/migration.html for help migrating.\n",
      "  ('classifier', KerasClassifier(build_fn=self.create_model, verbose=0))\n"
     ]
    },
    {
     "name": "stdout",
     "output_type": "stream",
     "text": [
      "195/195 [==============================] - 0s 1ms/step\n",
      "195/195 [==============================] - 0s 1ms/step\n",
      "195/195 [==============================] - 0s 1ms/step\n"
     ]
    },
    {
     "name": "stderr",
     "output_type": "stream",
     "text": [
      "\u001b[32m[I 2023-03-03 08:49:51,989]\u001b[0m Trial 4 finished with value: 0.8622812250914569 and parameters: {'units_1': 13, 'units_2': 9, 'units_3': 24, 'alpha_1': 0.04012876399835127, 'alpha_2': 0.04538274967961048, 'alpha_3': 0.03576824991997492, 'dropout_1': 0.27403539426874834, 'dropout_2': 0.4579242471113606, 'dropout_3': 0.3555835390908969, 'l2_kern_1': 0.001974517230527924, 'l2_kern_2': 0.00035259807567645087, 'l2_kern_3': 0.001693297150073855, 'l2_bias_1': 6.695076047873705e-05, 'l2_bias_2': 0.0017789121666303494, 'l2_bias_3': 1.0307956710387574e-05, 'lr': 0.00016292267464634248, 'batch_size': 16}. Best is trial 4 with value: 0.8622812250914569.\u001b[0m\n",
      "C:\\Users\\User\\AppData\\Local\\Temp\\ipykernel_12316\\574535459.py:60: DeprecationWarning: KerasClassifier is deprecated, use Sci-Keras (https://github.com/adriangb/scikeras) instead. See https://www.adriangb.com/scikeras/stable/migration.html for help migrating.\n",
      "  ('classifier', KerasClassifier(build_fn=self.create_model, verbose=0))\n"
     ]
    },
    {
     "name": "stdout",
     "output_type": "stream",
     "text": [
      "195/195 [==============================] - 0s 1ms/step\n",
      "195/195 [==============================] - 0s 1ms/step\n",
      "195/195 [==============================] - 0s 1ms/step\n"
     ]
    },
    {
     "name": "stderr",
     "output_type": "stream",
     "text": [
      "\u001b[32m[I 2023-03-03 08:50:11,565]\u001b[0m Trial 5 finished with value: 0.8294830600645602 and parameters: {'units_1': 5, 'units_2': 37, 'units_3': 9, 'alpha_1': 0.05676484922490518, 'alpha_2': 0.06592745955439767, 'alpha_3': 0.04981075103643021, 'dropout_1': 0.32525266067601744, 'dropout_2': 0.31421290233122057, 'dropout_3': 0.2562563849579453, 'l2_kern_1': 0.0021316915970893977, 'l2_kern_2': 0.001683619625262461, 'l2_kern_3': 0.0005775054245196864, 'l2_bias_1': 0.0014515626348950692, 'l2_bias_2': 0.0001070694731763661, 'l2_bias_3': 7.436857351871875e-05, 'lr': 0.00014509967288534696, 'batch_size': 512}. Best is trial 4 with value: 0.8622812250914569.\u001b[0m\n",
      "C:\\Users\\User\\AppData\\Local\\Temp\\ipykernel_12316\\574535459.py:60: DeprecationWarning: KerasClassifier is deprecated, use Sci-Keras (https://github.com/adriangb/scikeras) instead. See https://www.adriangb.com/scikeras/stable/migration.html for help migrating.\n",
      "  ('classifier', KerasClassifier(build_fn=self.create_model, verbose=0))\n"
     ]
    },
    {
     "name": "stdout",
     "output_type": "stream",
     "text": [
      "195/195 [==============================] - 0s 1ms/step\n",
      "195/195 [==============================] - 0s 1ms/step\n",
      "195/195 [==============================] - 0s 1ms/step\n"
     ]
    },
    {
     "name": "stderr",
     "output_type": "stream",
     "text": [
      "\u001b[32m[I 2023-03-03 08:50:31,941]\u001b[0m Trial 6 finished with value: 0.8388959073417276 and parameters: {'units_1': 12, 'units_2': 34, 'units_3': 33, 'alpha_1': 0.038614454654413675, 'alpha_2': 0.043509900866261136, 'alpha_3': 0.07905987959864268, 'dropout_1': 0.49669487790917344, 'dropout_2': 0.22758947316671796, 'dropout_3': 0.289316700453933, 'l2_kern_1': 0.0008233261901661973, 'l2_kern_2': 0.0019916579346456543, 'l2_kern_3': 0.00013317698475148943, 'l2_bias_1': 1.5202594905634848e-05, 'l2_bias_2': 0.008947838123256396, 'l2_bias_3': 0.005156188610080878, 'lr': 0.00023884049142680703, 'batch_size': 512}. Best is trial 4 with value: 0.8622812250914569.\u001b[0m\n",
      "C:\\Users\\User\\AppData\\Local\\Temp\\ipykernel_12316\\574535459.py:60: DeprecationWarning: KerasClassifier is deprecated, use Sci-Keras (https://github.com/adriangb/scikeras) instead. See https://www.adriangb.com/scikeras/stable/migration.html for help migrating.\n",
      "  ('classifier', KerasClassifier(build_fn=self.create_model, verbose=0))\n"
     ]
    },
    {
     "name": "stdout",
     "output_type": "stream",
     "text": [
      "195/195 [==============================] - 0s 1ms/step\n",
      "195/195 [==============================] - 0s 1ms/step\n",
      "195/195 [==============================] - 0s 1ms/step\n"
     ]
    },
    {
     "name": "stderr",
     "output_type": "stream",
     "text": [
      "\u001b[32m[I 2023-03-03 08:50:44,451]\u001b[0m Trial 7 finished with value: 0.8408080786922062 and parameters: {'units_1': 2, 'units_2': 8, 'units_3': 33, 'alpha_1': 0.06411850136799001, 'alpha_2': 0.07682146133973294, 'alpha_3': 0.07395747174830641, 'dropout_1': 0.33477981860590933, 'dropout_2': 0.4689770642475128, 'dropout_3': 0.3244324672378059, 'l2_kern_1': 2.436013426800258e-05, 'l2_kern_2': 1.930353714467332e-05, 'l2_kern_3': 0.000571402802174282, 'l2_bias_1': 3.8197557249767435e-05, 'l2_bias_2': 0.000169632615790225, 'l2_bias_3': 1.7967181863590145e-05, 'lr': 0.006388855023325844, 'batch_size': 512}. Best is trial 4 with value: 0.8622812250914569.\u001b[0m\n",
      "C:\\Users\\User\\AppData\\Local\\Temp\\ipykernel_12316\\574535459.py:60: DeprecationWarning: KerasClassifier is deprecated, use Sci-Keras (https://github.com/adriangb/scikeras) instead. See https://www.adriangb.com/scikeras/stable/migration.html for help migrating.\n",
      "  ('classifier', KerasClassifier(build_fn=self.create_model, verbose=0))\n"
     ]
    },
    {
     "name": "stdout",
     "output_type": "stream",
     "text": [
      "195/195 [==============================] - 0s 1ms/step\n",
      "195/195 [==============================] - 0s 1ms/step\n",
      "195/195 [==============================] - 0s 1ms/step\n"
     ]
    },
    {
     "name": "stderr",
     "output_type": "stream",
     "text": [
      "\u001b[32m[I 2023-03-03 08:53:07,355]\u001b[0m Trial 8 finished with value: 0.8466620323509605 and parameters: {'units_1': 12, 'units_2': 20, 'units_3': 5, 'alpha_1': 0.05298067994069467, 'alpha_2': 0.018247002267194844, 'alpha_3': 0.07401282633952536, 'dropout_1': 0.49353462396339315, 'dropout_2': 0.29727779423814527, 'dropout_3': 0.21511740985671662, 'l2_kern_1': 0.0005476710777773265, 'l2_kern_2': 0.003908418146728392, 'l2_kern_3': 0.0001955816247335508, 'l2_bias_1': 0.00020603704353499435, 'l2_bias_2': 1.5259258644654462e-05, 'l2_bias_3': 0.003261609661697837, 'lr': 0.000552457864720682, 'batch_size': 16}. Best is trial 4 with value: 0.8622812250914569.\u001b[0m\n",
      "C:\\Users\\User\\AppData\\Local\\Temp\\ipykernel_12316\\574535459.py:60: DeprecationWarning: KerasClassifier is deprecated, use Sci-Keras (https://github.com/adriangb/scikeras) instead. See https://www.adriangb.com/scikeras/stable/migration.html for help migrating.\n",
      "  ('classifier', KerasClassifier(build_fn=self.create_model, verbose=0))\n"
     ]
    },
    {
     "name": "stdout",
     "output_type": "stream",
     "text": [
      "195/195 [==============================] - 0s 1ms/step\n",
      "195/195 [==============================] - 0s 1ms/step\n",
      "195/195 [==============================] - 0s 1ms/step\n"
     ]
    },
    {
     "name": "stderr",
     "output_type": "stream",
     "text": [
      "\u001b[32m[I 2023-03-03 08:53:45,299]\u001b[0m Trial 9 finished with value: 0.8537010744612984 and parameters: {'units_1': 4, 'units_2': 35, 'units_3': 39, 'alpha_1': 0.04150237108896605, 'alpha_2': 0.08967056197234478, 'alpha_3': 0.012071795675503653, 'dropout_1': 0.20581832752929385, 'dropout_2': 0.2617468207042689, 'dropout_3': 0.21458549570077642, 'l2_kern_1': 0.00016662518862406819, 'l2_kern_2': 6.0273750182228726e-05, 'l2_kern_3': 1.8281540321906314e-05, 'l2_bias_1': 9.282323806311633e-05, 'l2_bias_2': 0.005467142567354391, 'l2_bias_3': 4.4922309482928286e-05, 'lr': 0.0032639595341843668, 'batch_size': 64}. Best is trial 4 with value: 0.8622812250914569.\u001b[0m\n",
      "C:\\Users\\User\\AppData\\Local\\Temp\\ipykernel_12316\\574535459.py:60: DeprecationWarning: KerasClassifier is deprecated, use Sci-Keras (https://github.com/adriangb/scikeras) instead. See https://www.adriangb.com/scikeras/stable/migration.html for help migrating.\n",
      "  ('classifier', KerasClassifier(build_fn=self.create_model, verbose=0))\n"
     ]
    },
    {
     "name": "stdout",
     "output_type": "stream",
     "text": [
      "195/195 [==============================] - 0s 1ms/step\n",
      "195/195 [==============================] - 0s 1ms/step\n",
      "195/195 [==============================] - 0s 1ms/step\n"
     ]
    },
    {
     "name": "stderr",
     "output_type": "stream",
     "text": [
      "\u001b[32m[I 2023-03-03 08:54:28,211]\u001b[0m Trial 10 finished with value: 0.8404003485271222 and parameters: {'units_1': 18, 'units_2': 22, 'units_3': 39, 'alpha_1': 0.0438391330632836, 'alpha_2': 0.05283964403930302, 'alpha_3': 0.09222404212431048, 'dropout_1': 0.45244958613261577, 'dropout_2': 0.4538123947332398, 'dropout_3': 0.3570932105012561, 'l2_kern_1': 0.00792782525152701, 'l2_kern_2': 6.65702757628647e-05, 'l2_kern_3': 5.9583256105733655e-05, 'l2_bias_1': 2.3843788137063704e-05, 'l2_bias_2': 0.0006711934647610432, 'l2_bias_3': 0.00010260725251594076, 'lr': 5.877616061735034e-05, 'batch_size': 256}. Best is trial 4 with value: 0.8622812250914569.\u001b[0m\n",
      "C:\\Users\\User\\AppData\\Local\\Temp\\ipykernel_12316\\574535459.py:60: DeprecationWarning: KerasClassifier is deprecated, use Sci-Keras (https://github.com/adriangb/scikeras) instead. See https://www.adriangb.com/scikeras/stable/migration.html for help migrating.\n",
      "  ('classifier', KerasClassifier(build_fn=self.create_model, verbose=0))\n"
     ]
    },
    {
     "name": "stdout",
     "output_type": "stream",
     "text": [
      "195/195 [==============================] - 0s 1ms/step\n",
      "195/195 [==============================] - 0s 1ms/step\n",
      "195/195 [==============================] - 0s 1ms/step\n"
     ]
    },
    {
     "name": "stderr",
     "output_type": "stream",
     "text": [
      "\u001b[32m[I 2023-03-03 08:55:00,673]\u001b[0m Trial 11 finished with value: 0.8748819321116713 and parameters: {'units_1': 35, 'units_2': 12, 'units_3': 40, 'alpha_1': 0.012834165007636586, 'alpha_2': 0.05321208832259063, 'alpha_3': 0.06214409697530979, 'dropout_1': 0.4082951379641121, 'dropout_2': 0.31016105966825425, 'dropout_3': 0.4464078408209858, 'l2_kern_1': 0.00759688637082372, 'l2_kern_2': 4.105923699574609e-05, 'l2_kern_3': 0.00918427756629935, 'l2_bias_1': 0.0008416009229127826, 'l2_bias_2': 0.0009120136471841214, 'l2_bias_3': 6.408966946436853e-05, 'lr': 0.003135001396128125, 'batch_size': 128}. Best is trial 11 with value: 0.8748819321116713.\u001b[0m\n",
      "C:\\Users\\User\\AppData\\Local\\Temp\\ipykernel_12316\\574535459.py:60: DeprecationWarning: KerasClassifier is deprecated, use Sci-Keras (https://github.com/adriangb/scikeras) instead. See https://www.adriangb.com/scikeras/stable/migration.html for help migrating.\n",
      "  ('classifier', KerasClassifier(build_fn=self.create_model, verbose=0))\n"
     ]
    },
    {
     "name": "stdout",
     "output_type": "stream",
     "text": [
      "195/195 [==============================] - 0s 1ms/step\n",
      "195/195 [==============================] - 0s 1ms/step\n",
      "195/195 [==============================] - 0s 1ms/step\n"
     ]
    },
    {
     "name": "stderr",
     "output_type": "stream",
     "text": [
      "\u001b[32m[I 2023-03-03 08:56:58,457]\u001b[0m Trial 12 finished with value: 0.8733413765020667 and parameters: {'units_1': 40, 'units_2': 7, 'units_3': 14, 'alpha_1': 0.020732744317630045, 'alpha_2': 0.058956083921247196, 'alpha_3': 0.04174114684006498, 'dropout_1': 0.2800212688977643, 'dropout_2': 0.28302276817303645, 'dropout_3': 0.3538435323285579, 'l2_kern_1': 0.005391081377391031, 'l2_kern_2': 4.247918663524634e-05, 'l2_kern_3': 3.9492483458182634e-05, 'l2_bias_1': 0.00674573414492615, 'l2_bias_2': 0.001712760319631315, 'l2_bias_3': 0.007336019125009843, 'lr': 0.00025364171106278323, 'batch_size': 32}. Best is trial 11 with value: 0.8748819321116713.\u001b[0m\n",
      "C:\\Users\\User\\AppData\\Local\\Temp\\ipykernel_12316\\574535459.py:60: DeprecationWarning: KerasClassifier is deprecated, use Sci-Keras (https://github.com/adriangb/scikeras) instead. See https://www.adriangb.com/scikeras/stable/migration.html for help migrating.\n",
      "  ('classifier', KerasClassifier(build_fn=self.create_model, verbose=0))\n"
     ]
    },
    {
     "name": "stdout",
     "output_type": "stream",
     "text": [
      "195/195 [==============================] - 0s 1ms/step\n",
      "195/195 [==============================] - 0s 1ms/step\n",
      "195/195 [==============================] - 0s 1ms/step\n"
     ]
    },
    {
     "name": "stderr",
     "output_type": "stream",
     "text": [
      "\u001b[32m[I 2023-03-03 08:57:17,674]\u001b[0m Trial 13 finished with value: 0.84492092695483 and parameters: {'units_1': 18, 'units_2': 12, 'units_3': 24, 'alpha_1': 0.09774824471855428, 'alpha_2': 0.07766766102757887, 'alpha_3': 0.06391857071751565, 'dropout_1': 0.23534892494350843, 'dropout_2': 0.3957412110524263, 'dropout_3': 0.2748210064394565, 'l2_kern_1': 0.0010398566809977918, 'l2_kern_2': 1.7614485497096624e-05, 'l2_kern_3': 0.0014901707796200132, 'l2_bias_1': 7.100408038232703e-05, 'l2_bias_2': 5.105512683406675e-05, 'l2_bias_3': 0.006310027211654491, 'lr': 0.00028083775944068355, 'batch_size': 1024}. Best is trial 11 with value: 0.8748819321116713.\u001b[0m\n",
      "C:\\Users\\User\\AppData\\Local\\Temp\\ipykernel_12316\\574535459.py:60: DeprecationWarning: KerasClassifier is deprecated, use Sci-Keras (https://github.com/adriangb/scikeras) instead. See https://www.adriangb.com/scikeras/stable/migration.html for help migrating.\n",
      "  ('classifier', KerasClassifier(build_fn=self.create_model, verbose=0))\n"
     ]
    },
    {
     "name": "stdout",
     "output_type": "stream",
     "text": [
      "195/195 [==============================] - 0s 1ms/step\n",
      "195/195 [==============================] - 0s 1ms/step\n",
      "195/195 [==============================] - 0s 1ms/step\n"
     ]
    },
    {
     "name": "stderr",
     "output_type": "stream",
     "text": [
      "\u001b[32m[I 2023-03-03 08:59:42,313]\u001b[0m Trial 14 finished with value: 0.844877317355647 and parameters: {'units_1': 5, 'units_2': 36, 'units_3': 5, 'alpha_1': 0.09192648653563477, 'alpha_2': 0.021338415061618196, 'alpha_3': 0.06832297898946182, 'dropout_1': 0.3563419512150766, 'dropout_2': 0.47361519295645604, 'dropout_3': 0.49312701611676873, 'l2_kern_1': 0.0010042848319127605, 'l2_kern_2': 0.00761029463075479, 'l2_kern_3': 0.0032833330828592844, 'l2_bias_1': 0.0001569100658861107, 'l2_bias_2': 0.0035896012202443527, 'l2_bias_3': 0.003083220359370323, 'lr': 0.0010061669865824264, 'batch_size': 16}. Best is trial 11 with value: 0.8748819321116713.\u001b[0m\n",
      "C:\\Users\\User\\AppData\\Local\\Temp\\ipykernel_12316\\574535459.py:60: DeprecationWarning: KerasClassifier is deprecated, use Sci-Keras (https://github.com/adriangb/scikeras) instead. See https://www.adriangb.com/scikeras/stable/migration.html for help migrating.\n",
      "  ('classifier', KerasClassifier(build_fn=self.create_model, verbose=0))\n"
     ]
    },
    {
     "name": "stdout",
     "output_type": "stream",
     "text": [
      "195/195 [==============================] - 0s 1ms/step\n",
      "195/195 [==============================] - 0s 1ms/step\n",
      "195/195 [==============================] - 0s 1ms/step\n"
     ]
    },
    {
     "name": "stderr",
     "output_type": "stream",
     "text": [
      "\u001b[32m[I 2023-03-03 09:00:07,382]\u001b[0m Trial 15 finished with value: 0.8620828252565872 and parameters: {'units_1': 16, 'units_2': 15, 'units_3': 30, 'alpha_1': 0.041450283456678005, 'alpha_2': 0.09453991846779833, 'alpha_3': 0.07459542306694616, 'dropout_1': 0.4961814252122976, 'dropout_2': 0.25853946719882637, 'dropout_3': 0.45798038736203206, 'l2_kern_1': 0.0005975424974152676, 'l2_kern_2': 0.009345749115297843, 'l2_kern_3': 0.0066240173097867235, 'l2_bias_1': 0.0007342254627029241, 'l2_bias_2': 0.0007157737973435826, 'l2_bias_3': 0.0006243684489206955, 'lr': 0.006069554426870873, 'batch_size': 128}. Best is trial 11 with value: 0.8748819321116713.\u001b[0m\n",
      "C:\\Users\\User\\AppData\\Local\\Temp\\ipykernel_12316\\574535459.py:60: DeprecationWarning: KerasClassifier is deprecated, use Sci-Keras (https://github.com/adriangb/scikeras) instead. See https://www.adriangb.com/scikeras/stable/migration.html for help migrating.\n",
      "  ('classifier', KerasClassifier(build_fn=self.create_model, verbose=0))\n"
     ]
    },
    {
     "name": "stdout",
     "output_type": "stream",
     "text": [
      "195/195 [==============================] - 0s 1ms/step\n",
      "195/195 [==============================] - 0s 1ms/step\n",
      "195/195 [==============================] - 1s 1ms/step\n"
     ]
    },
    {
     "name": "stderr",
     "output_type": "stream",
     "text": [
      "\u001b[32m[I 2023-03-03 09:01:27,463]\u001b[0m Trial 16 finished with value: 0.881983903730274 and parameters: {'units_1': 33, 'units_2': 38, 'units_3': 20, 'alpha_1': 0.09848203945720868, 'alpha_2': 0.07832978715859829, 'alpha_3': 0.05418970440692677, 'dropout_1': 0.2270766350697686, 'dropout_2': 0.497043899594891, 'dropout_3': 0.36587419652499575, 'l2_kern_1': 6.991563853601724e-05, 'l2_kern_2': 1.9302411597818802e-05, 'l2_kern_3': 1.658361259425497e-05, 'l2_bias_1': 0.0001263195125724995, 'l2_bias_2': 0.00011139821766903344, 'l2_bias_3': 0.006117389271594291, 'lr': 0.0028104126691199994, 'batch_size': 32}. Best is trial 16 with value: 0.881983903730274.\u001b[0m\n",
      "C:\\Users\\User\\AppData\\Local\\Temp\\ipykernel_12316\\574535459.py:60: DeprecationWarning: KerasClassifier is deprecated, use Sci-Keras (https://github.com/adriangb/scikeras) instead. See https://www.adriangb.com/scikeras/stable/migration.html for help migrating.\n",
      "  ('classifier', KerasClassifier(build_fn=self.create_model, verbose=0))\n"
     ]
    },
    {
     "name": "stdout",
     "output_type": "stream",
     "text": [
      "195/195 [==============================] - 0s 1ms/step\n",
      "195/195 [==============================] - 0s 1ms/step\n",
      "195/195 [==============================] - 0s 1ms/step\n"
     ]
    },
    {
     "name": "stderr",
     "output_type": "stream",
     "text": [
      "\u001b[32m[I 2023-03-03 09:02:03,099]\u001b[0m Trial 17 finished with value: 0.8359242349411212 and parameters: {'units_1': 38, 'units_2': 35, 'units_3': 5, 'alpha_1': 0.061836253667777334, 'alpha_2': 0.07438936889716669, 'alpha_3': 0.08954160036121482, 'dropout_1': 0.4203186451096582, 'dropout_2': 0.35872458954578323, 'dropout_3': 0.25431391113626955, 'l2_kern_1': 0.0002696984958299283, 'l2_kern_2': 1.3833913921452202e-05, 'l2_kern_3': 0.00015561201403109772, 'l2_bias_1': 6.220698762009132e-05, 'l2_bias_2': 0.0003624800499161813, 'l2_bias_3': 1.959846375327992e-05, 'lr': 5.672200496772521e-05, 'batch_size': 256}. Best is trial 16 with value: 0.881983903730274.\u001b[0m\n",
      "C:\\Users\\User\\AppData\\Local\\Temp\\ipykernel_12316\\574535459.py:60: DeprecationWarning: KerasClassifier is deprecated, use Sci-Keras (https://github.com/adriangb/scikeras) instead. See https://www.adriangb.com/scikeras/stable/migration.html for help migrating.\n",
      "  ('classifier', KerasClassifier(build_fn=self.create_model, verbose=0))\n"
     ]
    },
    {
     "name": "stdout",
     "output_type": "stream",
     "text": [
      "195/195 [==============================] - 0s 1ms/step\n",
      "195/195 [==============================] - 0s 1ms/step\n",
      "195/195 [==============================] - 0s 1ms/step\n"
     ]
    },
    {
     "name": "stderr",
     "output_type": "stream",
     "text": [
      "\u001b[32m[I 2023-03-03 09:02:27,667]\u001b[0m Trial 18 finished with value: 0.8694672932797336 and parameters: {'units_1': 27, 'units_2': 36, 'units_3': 17, 'alpha_1': 0.05225564449989049, 'alpha_2': 0.06165016053572623, 'alpha_3': 0.057927838763156984, 'dropout_1': 0.2996197738992412, 'dropout_2': 0.46225083097106584, 'dropout_3': 0.44862584914322584, 'l2_kern_1': 0.0008213886026623948, 'l2_kern_2': 0.007365461280253814, 'l2_kern_3': 0.0002507319707594821, 'l2_bias_1': 6.771133245636035e-05, 'l2_bias_2': 0.00027796122892208844, 'l2_bias_3': 0.0013586032124066928, 'lr': 0.0031338659030714006, 'batch_size': 256}. Best is trial 16 with value: 0.881983903730274.\u001b[0m\n",
      "C:\\Users\\User\\AppData\\Local\\Temp\\ipykernel_12316\\574535459.py:60: DeprecationWarning: KerasClassifier is deprecated, use Sci-Keras (https://github.com/adriangb/scikeras) instead. See https://www.adriangb.com/scikeras/stable/migration.html for help migrating.\n",
      "  ('classifier', KerasClassifier(build_fn=self.create_model, verbose=0))\n"
     ]
    },
    {
     "name": "stdout",
     "output_type": "stream",
     "text": [
      "195/195 [==============================] - 0s 1ms/step\n",
      "195/195 [==============================] - 0s 1ms/step\n",
      "195/195 [==============================] - 0s 1ms/step\n"
     ]
    },
    {
     "name": "stderr",
     "output_type": "stream",
     "text": [
      "\u001b[32m[I 2023-03-03 09:03:06,600]\u001b[0m Trial 19 finished with value: 0.8624699847246443 and parameters: {'units_1': 24, 'units_2': 31, 'units_3': 13, 'alpha_1': 0.06052340711992364, 'alpha_2': 0.0723136364178211, 'alpha_3': 0.038965009800407874, 'dropout_1': 0.32949342286535266, 'dropout_2': 0.4191485177782488, 'dropout_3': 0.21232834363886038, 'l2_kern_1': 2.4794817739716e-05, 'l2_kern_2': 4.96669149384363e-05, 'l2_kern_3': 6.303849911505196e-05, 'l2_bias_1': 2.410706428345695e-05, 'l2_bias_2': 4.682399664579881e-05, 'l2_bias_3': 0.0005479861052344627, 'lr': 0.0006115339287366887, 'batch_size': 512}. Best is trial 16 with value: 0.881983903730274.\u001b[0m\n",
      "C:\\Users\\User\\AppData\\Local\\Temp\\ipykernel_12316\\574535459.py:60: DeprecationWarning: KerasClassifier is deprecated, use Sci-Keras (https://github.com/adriangb/scikeras) instead. See https://www.adriangb.com/scikeras/stable/migration.html for help migrating.\n",
      "  ('classifier', KerasClassifier(build_fn=self.create_model, verbose=0))\n"
     ]
    },
    {
     "name": "stdout",
     "output_type": "stream",
     "text": [
      "195/195 [==============================] - 0s 1ms/step\n",
      "195/195 [==============================] - 0s 1ms/step\n",
      "195/195 [==============================] - 0s 1ms/step\n"
     ]
    },
    {
     "name": "stderr",
     "output_type": "stream",
     "text": [
      "\u001b[32m[I 2023-03-03 09:06:49,916]\u001b[0m Trial 20 finished with value: 0.852391145183525 and parameters: {'units_1': 20, 'units_2': 25, 'units_3': 26, 'alpha_1': 0.031905403935619976, 'alpha_2': 0.0911851201541227, 'alpha_3': 0.027248034660298966, 'dropout_1': 0.33988728577785443, 'dropout_2': 0.21874289589721688, 'dropout_3': 0.4027604540416104, 'l2_kern_1': 1.4520435362919577e-05, 'l2_kern_2': 0.00014068418920177482, 'l2_kern_3': 0.00021302557237236482, 'l2_bias_1': 0.0006073675228242661, 'l2_bias_2': 2.4619659288947518e-05, 'l2_bias_3': 1.209907688759567e-05, 'lr': 5.8766797861639576e-05, 'batch_size': 16}. Best is trial 16 with value: 0.881983903730274.\u001b[0m\n",
      "C:\\Users\\User\\AppData\\Local\\Temp\\ipykernel_12316\\574535459.py:60: DeprecationWarning: KerasClassifier is deprecated, use Sci-Keras (https://github.com/adriangb/scikeras) instead. See https://www.adriangb.com/scikeras/stable/migration.html for help migrating.\n",
      "  ('classifier', KerasClassifier(build_fn=self.create_model, verbose=0))\n"
     ]
    },
    {
     "name": "stdout",
     "output_type": "stream",
     "text": [
      "195/195 [==============================] - 0s 1ms/step\n",
      "195/195 [==============================] - 0s 1ms/step\n",
      "195/195 [==============================] - 0s 1ms/step\n"
     ]
    },
    {
     "name": "stderr",
     "output_type": "stream",
     "text": [
      "\u001b[32m[I 2023-03-03 09:08:36,441]\u001b[0m Trial 21 finished with value: 0.8765675941525165 and parameters: {'units_1': 38, 'units_2': 21, 'units_3': 23, 'alpha_1': 0.010576153054545684, 'alpha_2': 0.04298970520967267, 'alpha_3': 0.040243160650072864, 'dropout_1': 0.24365354543366685, 'dropout_2': 0.24934516039493115, 'dropout_3': 0.3988809041051615, 'l2_kern_1': 0.00024574927309606846, 'l2_kern_2': 0.002038623583299691, 'l2_kern_3': 0.00010461382355335622, 'l2_bias_1': 0.0011126982763010704, 'l2_bias_2': 8.96230302780887e-05, 'l2_bias_3': 0.00011802868965592746, 'lr': 0.0030977818055648513, 'batch_size': 16}. Best is trial 16 with value: 0.881983903730274.\u001b[0m\n",
      "C:\\Users\\User\\AppData\\Local\\Temp\\ipykernel_12316\\574535459.py:60: DeprecationWarning: KerasClassifier is deprecated, use Sci-Keras (https://github.com/adriangb/scikeras) instead. See https://www.adriangb.com/scikeras/stable/migration.html for help migrating.\n",
      "  ('classifier', KerasClassifier(build_fn=self.create_model, verbose=0))\n"
     ]
    },
    {
     "name": "stdout",
     "output_type": "stream",
     "text": [
      "195/195 [==============================] - 0s 1ms/step\n",
      "195/195 [==============================] - 0s 1ms/step\n",
      "195/195 [==============================] - 0s 1ms/step\n"
     ]
    },
    {
     "name": "stderr",
     "output_type": "stream",
     "text": [
      "\u001b[32m[I 2023-03-03 09:09:25,992]\u001b[0m Trial 22 finished with value: 0.8524257916763281 and parameters: {'units_1': 35, 'units_2': 39, 'units_3': 15, 'alpha_1': 0.010756179605645353, 'alpha_2': 0.05281190381313434, 'alpha_3': 0.017409508669878056, 'dropout_1': 0.42043260425975226, 'dropout_2': 0.21306575493113794, 'dropout_3': 0.30654757028953744, 'l2_kern_1': 0.00012837029028451343, 'l2_kern_2': 0.003159466718704956, 'l2_kern_3': 0.008645706162909517, 'l2_bias_1': 0.00043372915643630374, 'l2_bias_2': 0.00024037061105843118, 'l2_bias_3': 0.002229488068034253, 'lr': 0.0002142923060629506, 'batch_size': 128}. Best is trial 16 with value: 0.881983903730274.\u001b[0m\n",
      "C:\\Users\\User\\AppData\\Local\\Temp\\ipykernel_12316\\574535459.py:60: DeprecationWarning: KerasClassifier is deprecated, use Sci-Keras (https://github.com/adriangb/scikeras) instead. See https://www.adriangb.com/scikeras/stable/migration.html for help migrating.\n",
      "  ('classifier', KerasClassifier(build_fn=self.create_model, verbose=0))\n"
     ]
    },
    {
     "name": "stdout",
     "output_type": "stream",
     "text": [
      "195/195 [==============================] - 0s 1ms/step\n",
      "195/195 [==============================] - 0s 1ms/step\n",
      "195/195 [==============================] - 0s 1ms/step\n"
     ]
    },
    {
     "name": "stderr",
     "output_type": "stream",
     "text": [
      "\u001b[32m[I 2023-03-03 09:11:53,299]\u001b[0m Trial 23 finished with value: 0.8702076131200668 and parameters: {'units_1': 29, 'units_2': 12, 'units_3': 37, 'alpha_1': 0.04996337839750826, 'alpha_2': 0.06165272987610895, 'alpha_3': 0.019435660848398886, 'dropout_1': 0.46232418363235445, 'dropout_2': 0.42116693291528273, 'dropout_3': 0.23070405059287954, 'l2_kern_1': 0.005982062717234003, 'l2_kern_2': 0.0009301232168371496, 'l2_kern_3': 0.0006696279558148507, 'l2_bias_1': 2.9416155981784754e-05, 'l2_bias_2': 0.0013417983510420706, 'l2_bias_3': 0.0002076307688719831, 'lr': 0.0007832304456921637, 'batch_size': 16}. Best is trial 16 with value: 0.881983903730274.\u001b[0m\n",
      "C:\\Users\\User\\AppData\\Local\\Temp\\ipykernel_12316\\574535459.py:60: DeprecationWarning: KerasClassifier is deprecated, use Sci-Keras (https://github.com/adriangb/scikeras) instead. See https://www.adriangb.com/scikeras/stable/migration.html for help migrating.\n",
      "  ('classifier', KerasClassifier(build_fn=self.create_model, verbose=0))\n"
     ]
    },
    {
     "name": "stdout",
     "output_type": "stream",
     "text": [
      "195/195 [==============================] - 0s 1ms/step\n",
      "195/195 [==============================] - 0s 1ms/step\n",
      "195/195 [==============================] - 0s 1ms/step\n"
     ]
    },
    {
     "name": "stderr",
     "output_type": "stream",
     "text": [
      "\u001b[32m[I 2023-03-03 09:12:25,954]\u001b[0m Trial 24 finished with value: 0.8308091040661756 and parameters: {'units_1': 17, 'units_2': 8, 'units_3': 11, 'alpha_1': 0.0762706259730222, 'alpha_2': 0.09549644757512296, 'alpha_3': 0.08244226135509182, 'dropout_1': 0.3469317152227588, 'dropout_2': 0.23116818632210445, 'dropout_3': 0.3471552802499245, 'l2_kern_1': 0.0009094253903479346, 'l2_kern_2': 0.0001955307756923857, 'l2_kern_3': 0.00045466302194849885, 'l2_bias_1': 0.005908286585255651, 'l2_bias_2': 0.00143180030268566, 'l2_bias_3': 1.0934617909935572e-05, 'lr': 5.386019543117766e-05, 'batch_size': 256}. Best is trial 16 with value: 0.881983903730274.\u001b[0m\n",
      "C:\\Users\\User\\AppData\\Local\\Temp\\ipykernel_12316\\574535459.py:60: DeprecationWarning: KerasClassifier is deprecated, use Sci-Keras (https://github.com/adriangb/scikeras) instead. See https://www.adriangb.com/scikeras/stable/migration.html for help migrating.\n",
      "  ('classifier', KerasClassifier(build_fn=self.create_model, verbose=0))\n"
     ]
    },
    {
     "name": "stdout",
     "output_type": "stream",
     "text": [
      "195/195 [==============================] - 0s 1ms/step\n",
      "195/195 [==============================] - 0s 1ms/step\n",
      "195/195 [==============================] - 0s 1ms/step\n"
     ]
    },
    {
     "name": "stderr",
     "output_type": "stream",
     "text": [
      "\u001b[32m[I 2023-03-03 09:12:39,605]\u001b[0m Trial 25 finished with value: 0.8697680345750743 and parameters: {'units_1': 34, 'units_2': 26, 'units_3': 25, 'alpha_1': 0.0765594267043916, 'alpha_2': 0.07691786732506257, 'alpha_3': 0.051984357359235095, 'dropout_1': 0.3227727875822321, 'dropout_2': 0.49790560953358853, 'dropout_3': 0.454739670821732, 'l2_kern_1': 0.009951306372844868, 'l2_kern_2': 0.004985740285767568, 'l2_kern_3': 0.00040431798105874744, 'l2_bias_1': 8.607769940735112e-05, 'l2_bias_2': 0.009777270054627798, 'l2_bias_3': 0.00011986510491063331, 'lr': 0.00810556318729719, 'batch_size': 512}. Best is trial 16 with value: 0.881983903730274.\u001b[0m\n",
      "C:\\Users\\User\\AppData\\Local\\Temp\\ipykernel_12316\\574535459.py:60: DeprecationWarning: KerasClassifier is deprecated, use Sci-Keras (https://github.com/adriangb/scikeras) instead. See https://www.adriangb.com/scikeras/stable/migration.html for help migrating.\n",
      "  ('classifier', KerasClassifier(build_fn=self.create_model, verbose=0))\n"
     ]
    },
    {
     "name": "stdout",
     "output_type": "stream",
     "text": [
      "195/195 [==============================] - 0s 1ms/step\n",
      "195/195 [==============================] - 0s 1ms/step\n",
      "195/195 [==============================] - 0s 1ms/step\n"
     ]
    },
    {
     "name": "stderr",
     "output_type": "stream",
     "text": [
      "\u001b[32m[I 2023-03-03 09:13:14,235]\u001b[0m Trial 26 finished with value: 0.848183673234517 and parameters: {'units_1': 6, 'units_2': 38, 'units_3': 13, 'alpha_1': 0.021439508338370945, 'alpha_2': 0.04155852839191143, 'alpha_3': 0.07398460446888344, 'dropout_1': 0.43764442153718414, 'dropout_2': 0.4630285155634968, 'dropout_3': 0.21749814086805955, 'l2_kern_1': 0.0021540659358550407, 'l2_kern_2': 4.31024921386798e-05, 'l2_kern_3': 0.00033714641602936295, 'l2_bias_1': 0.0004813084541602208, 'l2_bias_2': 0.007684565027118296, 'l2_bias_3': 4.677894324287643e-05, 'lr': 0.0024023496107341644, 'batch_size': 64}. Best is trial 16 with value: 0.881983903730274.\u001b[0m\n",
      "C:\\Users\\User\\AppData\\Local\\Temp\\ipykernel_12316\\574535459.py:60: DeprecationWarning: KerasClassifier is deprecated, use Sci-Keras (https://github.com/adriangb/scikeras) instead. See https://www.adriangb.com/scikeras/stable/migration.html for help migrating.\n",
      "  ('classifier', KerasClassifier(build_fn=self.create_model, verbose=0))\n"
     ]
    },
    {
     "name": "stdout",
     "output_type": "stream",
     "text": [
      "195/195 [==============================] - 0s 1ms/step\n",
      "195/195 [==============================] - 0s 1ms/step\n",
      "195/195 [==============================] - 0s 1ms/step\n"
     ]
    },
    {
     "name": "stderr",
     "output_type": "stream",
     "text": [
      "\u001b[32m[I 2023-03-03 09:16:07,370]\u001b[0m Trial 27 finished with value: 0.8707855379272128 and parameters: {'units_1': 18, 'units_2': 11, 'units_3': 34, 'alpha_1': 0.03820542839818385, 'alpha_2': 0.06181654030547429, 'alpha_3': 0.0289137435187383, 'dropout_1': 0.21533920209905266, 'dropout_2': 0.4305511803853522, 'dropout_3': 0.40403916709105137, 'l2_kern_1': 0.00027452300891662686, 'l2_kern_2': 3.3065790403531054e-05, 'l2_kern_3': 0.001514870644666284, 'l2_bias_1': 0.0009534531290835225, 'l2_bias_2': 3.998687296884006e-05, 'l2_bias_3': 4.8021417988793005e-05, 'lr': 0.00045373501898086807, 'batch_size': 16}. Best is trial 16 with value: 0.881983903730274.\u001b[0m\n",
      "C:\\Users\\User\\AppData\\Local\\Temp\\ipykernel_12316\\574535459.py:60: DeprecationWarning: KerasClassifier is deprecated, use Sci-Keras (https://github.com/adriangb/scikeras) instead. See https://www.adriangb.com/scikeras/stable/migration.html for help migrating.\n",
      "  ('classifier', KerasClassifier(build_fn=self.create_model, verbose=0))\n"
     ]
    },
    {
     "name": "stdout",
     "output_type": "stream",
     "text": [
      "195/195 [==============================] - 0s 1ms/step\n",
      "195/195 [==============================] - 0s 1ms/step\n",
      "195/195 [==============================] - 0s 1ms/step\n"
     ]
    },
    {
     "name": "stderr",
     "output_type": "stream",
     "text": [
      "\u001b[32m[I 2023-03-03 09:16:29,752]\u001b[0m Trial 28 finished with value: 0.8640011212244771 and parameters: {'units_1': 29, 'units_2': 4, 'units_3': 12, 'alpha_1': 0.024225282731421032, 'alpha_2': 0.06761123625645968, 'alpha_3': 0.014951716455965446, 'dropout_1': 0.344065288885824, 'dropout_2': 0.4475743395755435, 'dropout_3': 0.2821692886635092, 'l2_kern_1': 0.006729627233513048, 'l2_kern_2': 1.8495184280918963e-05, 'l2_kern_3': 6.888229704339259e-05, 'l2_bias_1': 0.0012590467097959455, 'l2_bias_2': 5.259302880866513e-05, 'l2_bias_3': 0.00634423196470293, 'lr': 0.00710458309140324, 'batch_size': 128}. Best is trial 16 with value: 0.881983903730274.\u001b[0m\n",
      "C:\\Users\\User\\AppData\\Local\\Temp\\ipykernel_12316\\574535459.py:60: DeprecationWarning: KerasClassifier is deprecated, use Sci-Keras (https://github.com/adriangb/scikeras) instead. See https://www.adriangb.com/scikeras/stable/migration.html for help migrating.\n",
      "  ('classifier', KerasClassifier(build_fn=self.create_model, verbose=0))\n"
     ]
    },
    {
     "name": "stdout",
     "output_type": "stream",
     "text": [
      "195/195 [==============================] - 0s 1ms/step\n",
      "195/195 [==============================] - 0s 1ms/step\n",
      "195/195 [==============================] - 0s 1ms/step\n"
     ]
    },
    {
     "name": "stderr",
     "output_type": "stream",
     "text": [
      "\u001b[32m[I 2023-03-03 09:16:51,981]\u001b[0m Trial 29 finished with value: 0.8568735863499475 and parameters: {'units_1': 14, 'units_2': 34, 'units_3': 3, 'alpha_1': 0.03328446134334091, 'alpha_2': 0.0270807189384872, 'alpha_3': 0.08603504973659581, 'dropout_1': 0.2801721433809923, 'dropout_2': 0.4735991521231115, 'dropout_3': 0.3808138163846383, 'l2_kern_1': 0.0006668891784242887, 'l2_kern_2': 0.00028422192024716816, 'l2_kern_3': 0.0005871036772263137, 'l2_bias_1': 0.007262866959442212, 'l2_bias_2': 0.0006092714838144636, 'l2_bias_3': 0.0024187570374211856, 'lr': 0.0033865531794278047, 'batch_size': 256}. Best is trial 16 with value: 0.881983903730274.\u001b[0m\n",
      "C:\\Users\\User\\AppData\\Local\\Temp\\ipykernel_12316\\574535459.py:60: DeprecationWarning: KerasClassifier is deprecated, use Sci-Keras (https://github.com/adriangb/scikeras) instead. See https://www.adriangb.com/scikeras/stable/migration.html for help migrating.\n",
      "  ('classifier', KerasClassifier(build_fn=self.create_model, verbose=0))\n"
     ]
    },
    {
     "name": "stdout",
     "output_type": "stream",
     "text": [
      "195/195 [==============================] - 0s 1ms/step\n",
      "195/195 [==============================] - 0s 1ms/step\n",
      "195/195 [==============================] - 0s 1ms/step\n"
     ]
    },
    {
     "name": "stderr",
     "output_type": "stream",
     "text": [
      "\u001b[32m[I 2023-03-03 09:18:41,345]\u001b[0m Trial 30 finished with value: 0.8610406881261308 and parameters: {'units_1': 22, 'units_2': 36, 'units_3': 34, 'alpha_1': 0.03691195635737048, 'alpha_2': 0.020762523148908807, 'alpha_3': 0.02978323884711829, 'dropout_1': 0.37280212020663406, 'dropout_2': 0.31156106503743847, 'dropout_3': 0.4239553478718229, 'l2_kern_1': 1.2655660649589756e-05, 'l2_kern_2': 0.0029690918378084477, 'l2_kern_3': 0.00011053458508965864, 'l2_bias_1': 1.4749273484175531e-05, 'l2_bias_2': 0.0035339033403502277, 'l2_bias_3': 1.666713356380602e-05, 'lr': 0.0001831803492664136, 'batch_size': 32}. Best is trial 16 with value: 0.881983903730274.\u001b[0m\n",
      "C:\\Users\\User\\AppData\\Local\\Temp\\ipykernel_12316\\574535459.py:60: DeprecationWarning: KerasClassifier is deprecated, use Sci-Keras (https://github.com/adriangb/scikeras) instead. See https://www.adriangb.com/scikeras/stable/migration.html for help migrating.\n",
      "  ('classifier', KerasClassifier(build_fn=self.create_model, verbose=0))\n"
     ]
    },
    {
     "name": "stdout",
     "output_type": "stream",
     "text": [
      "195/195 [==============================] - 0s 1ms/step\n",
      "195/195 [==============================] - 0s 1ms/step\n",
      "195/195 [==============================] - 0s 1ms/step\n"
     ]
    },
    {
     "name": "stderr",
     "output_type": "stream",
     "text": [
      "\u001b[32m[I 2023-03-03 09:20:13,907]\u001b[0m Trial 31 finished with value: 0.8688443656653315 and parameters: {'units_1': 35, 'units_2': 13, 'units_3': 19, 'alpha_1': 0.027533326824268706, 'alpha_2': 0.06635396288954654, 'alpha_3': 0.08210086474866746, 'dropout_1': 0.44739280258967545, 'dropout_2': 0.2147052681977872, 'dropout_3': 0.21793764473052218, 'l2_kern_1': 0.00858930474082623, 'l2_kern_2': 1.2480689021274952e-05, 'l2_kern_3': 6.065600677351084e-05, 'l2_bias_1': 0.0011236783713228324, 'l2_bias_2': 7.407838346921862e-05, 'l2_bias_3': 0.00012613979242002702, 'lr': 0.003293088383852206, 'batch_size': 16}. Best is trial 16 with value: 0.881983903730274.\u001b[0m\n",
      "C:\\Users\\User\\AppData\\Local\\Temp\\ipykernel_12316\\574535459.py:60: DeprecationWarning: KerasClassifier is deprecated, use Sci-Keras (https://github.com/adriangb/scikeras) instead. See https://www.adriangb.com/scikeras/stable/migration.html for help migrating.\n",
      "  ('classifier', KerasClassifier(build_fn=self.create_model, verbose=0))\n"
     ]
    },
    {
     "name": "stdout",
     "output_type": "stream",
     "text": [
      "195/195 [==============================] - 0s 1ms/step\n",
      "195/195 [==============================] - 0s 1ms/step\n",
      "195/195 [==============================] - 0s 1ms/step\n"
     ]
    },
    {
     "name": "stderr",
     "output_type": "stream",
     "text": [
      "\u001b[32m[I 2023-03-03 09:21:21,391]\u001b[0m Trial 32 finished with value: 0.8712331292124084 and parameters: {'units_1': 25, 'units_2': 16, 'units_3': 24, 'alpha_1': 0.03859063415090559, 'alpha_2': 0.09836515038878003, 'alpha_3': 0.05935449412964802, 'dropout_1': 0.31516208378839694, 'dropout_2': 0.2534851712070268, 'dropout_3': 0.23694491091182845, 'l2_kern_1': 0.0014532880835596586, 'l2_kern_2': 1.2747180915668865e-05, 'l2_kern_3': 0.001306091822116266, 'l2_bias_1': 0.00020707310184708133, 'l2_bias_2': 0.003305082107056196, 'l2_bias_3': 1.4426568709498536e-05, 'lr': 0.0037779970239156064, 'batch_size': 32}. Best is trial 16 with value: 0.881983903730274.\u001b[0m\n",
      "C:\\Users\\User\\AppData\\Local\\Temp\\ipykernel_12316\\574535459.py:60: DeprecationWarning: KerasClassifier is deprecated, use Sci-Keras (https://github.com/adriangb/scikeras) instead. See https://www.adriangb.com/scikeras/stable/migration.html for help migrating.\n",
      "  ('classifier', KerasClassifier(build_fn=self.create_model, verbose=0))\n"
     ]
    },
    {
     "name": "stdout",
     "output_type": "stream",
     "text": [
      "195/195 [==============================] - 0s 1ms/step\n",
      "195/195 [==============================] - 0s 1ms/step\n",
      "195/195 [==============================] - 0s 1ms/step\n"
     ]
    },
    {
     "name": "stderr",
     "output_type": "stream",
     "text": [
      "\u001b[32m[I 2023-03-03 09:21:57,197]\u001b[0m Trial 33 finished with value: 0.8405775654218742 and parameters: {'units_1': 30, 'units_2': 19, 'units_3': 36, 'alpha_1': 0.07028867300422129, 'alpha_2': 0.06483541035959721, 'alpha_3': 0.08317632266765315, 'dropout_1': 0.3357967712891477, 'dropout_2': 0.24838895871967565, 'dropout_3': 0.348240833996727, 'l2_kern_1': 0.0040646930717642615, 'l2_kern_2': 0.000261972566810456, 'l2_kern_3': 0.0005156426671852919, 'l2_bias_1': 7.67680439681253e-05, 'l2_bias_2': 0.001502502529782373, 'l2_bias_3': 0.001960345790437511, 'lr': 6.53308967221721e-05, 'batch_size': 512}. Best is trial 16 with value: 0.881983903730274.\u001b[0m\n",
      "C:\\Users\\User\\AppData\\Local\\Temp\\ipykernel_12316\\574535459.py:60: DeprecationWarning: KerasClassifier is deprecated, use Sci-Keras (https://github.com/adriangb/scikeras) instead. See https://www.adriangb.com/scikeras/stable/migration.html for help migrating.\n",
      "  ('classifier', KerasClassifier(build_fn=self.create_model, verbose=0))\n"
     ]
    },
    {
     "name": "stdout",
     "output_type": "stream",
     "text": [
      "195/195 [==============================] - 1s 1ms/step\n",
      "195/195 [==============================] - 0s 1ms/step\n",
      "195/195 [==============================] - 0s 1ms/step\n"
     ]
    },
    {
     "name": "stderr",
     "output_type": "stream",
     "text": [
      "\u001b[32m[I 2023-03-03 09:23:34,292]\u001b[0m Trial 34 finished with value: 0.8692782778889527 and parameters: {'units_1': 32, 'units_2': 22, 'units_3': 26, 'alpha_1': 0.0871908395804782, 'alpha_2': 0.09973125302299057, 'alpha_3': 0.08374723139377484, 'dropout_1': 0.3384079235241203, 'dropout_2': 0.35413683474271407, 'dropout_3': 0.20141869218272088, 'l2_kern_1': 0.0008293236761818554, 'l2_kern_2': 7.313571792471512e-05, 'l2_kern_3': 2.6662527274248114e-05, 'l2_bias_1': 0.006594869120503194, 'l2_bias_2': 0.0038619736639116564, 'l2_bias_3': 0.0009783689894905649, 'lr': 0.003258465467422841, 'batch_size': 16}. Best is trial 16 with value: 0.881983903730274.\u001b[0m\n",
      "C:\\Users\\User\\AppData\\Local\\Temp\\ipykernel_12316\\574535459.py:60: DeprecationWarning: KerasClassifier is deprecated, use Sci-Keras (https://github.com/adriangb/scikeras) instead. See https://www.adriangb.com/scikeras/stable/migration.html for help migrating.\n",
      "  ('classifier', KerasClassifier(build_fn=self.create_model, verbose=0))\n"
     ]
    },
    {
     "name": "stdout",
     "output_type": "stream",
     "text": [
      "195/195 [==============================] - 0s 1ms/step\n",
      "195/195 [==============================] - 0s 1ms/step\n",
      "195/195 [==============================] - 0s 1ms/step\n"
     ]
    },
    {
     "name": "stderr",
     "output_type": "stream",
     "text": [
      "\u001b[32m[I 2023-03-03 09:24:21,406]\u001b[0m Trial 35 finished with value: 0.8447348970584411 and parameters: {'units_1': 34, 'units_2': 31, 'units_3': 5, 'alpha_1': 0.09370309216176599, 'alpha_2': 0.08019538278837712, 'alpha_3': 0.03032666016848872, 'dropout_1': 0.3929504989983106, 'dropout_2': 0.43307819598637776, 'dropout_3': 0.45521172872006443, 'l2_kern_1': 0.0011360921219769997, 'l2_kern_2': 0.0021158609187681555, 'l2_kern_3': 2.179626735192223e-05, 'l2_bias_1': 2.976481331803784e-05, 'l2_bias_2': 0.0008942739882754095, 'l2_bias_3': 0.00019443202690230444, 'lr': 0.00011163366903382543, 'batch_size': 128}. Best is trial 16 with value: 0.881983903730274.\u001b[0m\n",
      "C:\\Users\\User\\AppData\\Local\\Temp\\ipykernel_12316\\574535459.py:60: DeprecationWarning: KerasClassifier is deprecated, use Sci-Keras (https://github.com/adriangb/scikeras) instead. See https://www.adriangb.com/scikeras/stable/migration.html for help migrating.\n",
      "  ('classifier', KerasClassifier(build_fn=self.create_model, verbose=0))\n"
     ]
    },
    {
     "name": "stdout",
     "output_type": "stream",
     "text": [
      "195/195 [==============================] - 0s 1ms/step\n",
      "195/195 [==============================] - 0s 1ms/step\n",
      "195/195 [==============================] - 0s 1ms/step\n"
     ]
    },
    {
     "name": "stderr",
     "output_type": "stream",
     "text": [
      "\u001b[32m[I 2023-03-03 09:25:29,881]\u001b[0m Trial 36 finished with value: 0.8726107293638202 and parameters: {'units_1': 22, 'units_2': 13, 'units_3': 34, 'alpha_1': 0.04735766515919112, 'alpha_2': 0.017033421636578953, 'alpha_3': 0.014853903341956557, 'dropout_1': 0.21666813458174905, 'dropout_2': 0.2671953478239516, 'dropout_3': 0.3653038405589404, 'l2_kern_1': 0.00042573018999939613, 'l2_kern_2': 0.007557066295562684, 'l2_kern_3': 0.0007006846380300816, 'l2_bias_1': 0.003594698278643614, 'l2_bias_2': 0.00930940238683095, 'l2_bias_3': 0.000849762887697631, 'lr': 0.0019368420179868087, 'batch_size': 32}. Best is trial 16 with value: 0.881983903730274.\u001b[0m\n",
      "C:\\Users\\User\\AppData\\Local\\Temp\\ipykernel_12316\\574535459.py:60: DeprecationWarning: KerasClassifier is deprecated, use Sci-Keras (https://github.com/adriangb/scikeras) instead. See https://www.adriangb.com/scikeras/stable/migration.html for help migrating.\n",
      "  ('classifier', KerasClassifier(build_fn=self.create_model, verbose=0))\n"
     ]
    },
    {
     "name": "stdout",
     "output_type": "stream",
     "text": [
      "195/195 [==============================] - 0s 1ms/step\n",
      "195/195 [==============================] - 0s 1ms/step\n",
      "195/195 [==============================] - 0s 1ms/step\n"
     ]
    },
    {
     "name": "stderr",
     "output_type": "stream",
     "text": [
      "\u001b[32m[I 2023-03-03 09:25:51,222]\u001b[0m Trial 37 finished with value: 0.8712653055895427 and parameters: {'units_1': 30, 'units_2': 38, 'units_3': 26, 'alpha_1': 0.03832268672307546, 'alpha_2': 0.0758554903711973, 'alpha_3': 0.03709057796183169, 'dropout_1': 0.404027148316666, 'dropout_2': 0.3930003057610395, 'dropout_3': 0.349435790464971, 'l2_kern_1': 0.00020075822640052988, 'l2_kern_2': 8.465273505160941e-05, 'l2_kern_3': 8.231341945403307e-05, 'l2_bias_1': 0.0005668848608091552, 'l2_bias_2': 0.001248568976830803, 'l2_bias_3': 0.00024682592698742003, 'lr': 0.0016259263846834346, 'batch_size': 1024}. Best is trial 16 with value: 0.881983903730274.\u001b[0m\n",
      "C:\\Users\\User\\AppData\\Local\\Temp\\ipykernel_12316\\574535459.py:60: DeprecationWarning: KerasClassifier is deprecated, use Sci-Keras (https://github.com/adriangb/scikeras) instead. See https://www.adriangb.com/scikeras/stable/migration.html for help migrating.\n",
      "  ('classifier', KerasClassifier(build_fn=self.create_model, verbose=0))\n"
     ]
    },
    {
     "name": "stdout",
     "output_type": "stream",
     "text": [
      "195/195 [==============================] - 0s 1ms/step\n",
      "195/195 [==============================] - 0s 1ms/step\n",
      "195/195 [==============================] - 0s 1ms/step\n"
     ]
    },
    {
     "name": "stderr",
     "output_type": "stream",
     "text": [
      "\u001b[32m[I 2023-03-03 09:26:52,807]\u001b[0m Trial 38 finished with value: 0.8651968137238396 and parameters: {'units_1': 31, 'units_2': 11, 'units_3': 11, 'alpha_1': 0.05791205193975795, 'alpha_2': 0.025617630336114947, 'alpha_3': 0.0634912364744709, 'dropout_1': 0.2622563017756684, 'dropout_2': 0.3225901533434848, 'dropout_3': 0.3973419072697121, 'l2_kern_1': 0.0004285834319583945, 'l2_kern_2': 0.007840493101834036, 'l2_kern_3': 0.0003433930869594207, 'l2_bias_1': 0.0006335796970977165, 'l2_bias_2': 0.0007103527577344952, 'l2_bias_3': 0.0005398477373437433, 'lr': 0.008874176904391115, 'batch_size': 32}. Best is trial 16 with value: 0.881983903730274.\u001b[0m\n",
      "C:\\Users\\User\\AppData\\Local\\Temp\\ipykernel_12316\\574535459.py:60: DeprecationWarning: KerasClassifier is deprecated, use Sci-Keras (https://github.com/adriangb/scikeras) instead. See https://www.adriangb.com/scikeras/stable/migration.html for help migrating.\n",
      "  ('classifier', KerasClassifier(build_fn=self.create_model, verbose=0))\n"
     ]
    },
    {
     "name": "stdout",
     "output_type": "stream",
     "text": [
      "195/195 [==============================] - 0s 1ms/step\n",
      "195/195 [==============================] - 0s 1ms/step\n",
      "195/195 [==============================] - 0s 1ms/step\n"
     ]
    },
    {
     "name": "stderr",
     "output_type": "stream",
     "text": [
      "\u001b[32m[I 2023-03-03 09:27:05,491]\u001b[0m Trial 39 finished with value: 0.8505081808916923 and parameters: {'units_1': 14, 'units_2': 31, 'units_3': 22, 'alpha_1': 0.08797799729247842, 'alpha_2': 0.02436630776741698, 'alpha_3': 0.0785048186495459, 'dropout_1': 0.3904235513658504, 'dropout_2': 0.4590132292177454, 'dropout_3': 0.33379027057714944, 'l2_kern_1': 0.006628607872884096, 'l2_kern_2': 1.7371489251348656e-05, 'l2_kern_3': 4.798202474057643e-05, 'l2_bias_1': 1.8564316511603894e-05, 'l2_bias_2': 6.635994612030087e-05, 'l2_bias_3': 0.0002079561369645981, 'lr': 0.008735565318526952, 'batch_size': 512}. Best is trial 16 with value: 0.881983903730274.\u001b[0m\n",
      "C:\\Users\\User\\AppData\\Local\\Temp\\ipykernel_12316\\574535459.py:60: DeprecationWarning: KerasClassifier is deprecated, use Sci-Keras (https://github.com/adriangb/scikeras) instead. See https://www.adriangb.com/scikeras/stable/migration.html for help migrating.\n",
      "  ('classifier', KerasClassifier(build_fn=self.create_model, verbose=0))\n"
     ]
    },
    {
     "name": "stdout",
     "output_type": "stream",
     "text": [
      "195/195 [==============================] - 0s 1ms/step\n",
      "195/195 [==============================] - 0s 1ms/step\n",
      "195/195 [==============================] - 0s 1ms/step\n"
     ]
    },
    {
     "name": "stderr",
     "output_type": "stream",
     "text": [
      "\u001b[32m[I 2023-03-03 09:27:30,096]\u001b[0m Trial 40 finished with value: 0.8483352490082318 and parameters: {'units_1': 6, 'units_2': 17, 'units_3': 26, 'alpha_1': 0.04191181684901642, 'alpha_2': 0.0802781175032186, 'alpha_3': 0.09319097790488672, 'dropout_1': 0.4400605508886126, 'dropout_2': 0.349151460527114, 'dropout_3': 0.2267381044060207, 'l2_kern_1': 2.1772110916740766e-05, 'l2_kern_2': 0.004539154655938652, 'l2_kern_3': 0.00011511043944079208, 'l2_bias_1': 0.00017696665858368374, 'l2_bias_2': 0.0009469363769663867, 'l2_bias_3': 0.00010693043111590477, 'lr': 0.00442482968365166, 'batch_size': 128}. Best is trial 16 with value: 0.881983903730274.\u001b[0m\n",
      "C:\\Users\\User\\AppData\\Local\\Temp\\ipykernel_12316\\574535459.py:60: DeprecationWarning: KerasClassifier is deprecated, use Sci-Keras (https://github.com/adriangb/scikeras) instead. See https://www.adriangb.com/scikeras/stable/migration.html for help migrating.\n",
      "  ('classifier', KerasClassifier(build_fn=self.create_model, verbose=0))\n"
     ]
    },
    {
     "name": "stdout",
     "output_type": "stream",
     "text": [
      "195/195 [==============================] - 0s 1ms/step\n",
      "195/195 [==============================] - 0s 1ms/step\n",
      "195/195 [==============================] - 0s 1ms/step\n"
     ]
    },
    {
     "name": "stderr",
     "output_type": "stream",
     "text": [
      "\u001b[32m[I 2023-03-03 09:28:54,053]\u001b[0m Trial 41 finished with value: 0.8471886673375573 and parameters: {'units_1': 18, 'units_2': 3, 'units_3': 18, 'alpha_1': 0.06300723284188066, 'alpha_2': 0.06855978250379234, 'alpha_3': 0.07390636652578257, 'dropout_1': 0.49183405787037193, 'dropout_2': 0.39097309049390483, 'dropout_3': 0.3474523195258978, 'l2_kern_1': 0.006141611312950671, 'l2_kern_2': 2.318996761269294e-05, 'l2_kern_3': 0.00020487681098008205, 'l2_bias_1': 1.6511955981975505e-05, 'l2_bias_2': 0.00016147745959070145, 'l2_bias_3': 0.00012600502198830774, 'lr': 0.008862731290376534, 'batch_size': 16}. Best is trial 16 with value: 0.881983903730274.\u001b[0m\n",
      "C:\\Users\\User\\AppData\\Local\\Temp\\ipykernel_12316\\574535459.py:60: DeprecationWarning: KerasClassifier is deprecated, use Sci-Keras (https://github.com/adriangb/scikeras) instead. See https://www.adriangb.com/scikeras/stable/migration.html for help migrating.\n",
      "  ('classifier', KerasClassifier(build_fn=self.create_model, verbose=0))\n"
     ]
    },
    {
     "name": "stdout",
     "output_type": "stream",
     "text": [
      "195/195 [==============================] - 0s 1ms/step\n",
      "195/195 [==============================] - 0s 1ms/step\n",
      "195/195 [==============================] - 0s 1ms/step\n"
     ]
    },
    {
     "name": "stderr",
     "output_type": "stream",
     "text": [
      "\u001b[32m[I 2023-03-03 09:29:52,887]\u001b[0m Trial 42 finished with value: 0.850721172771418 and parameters: {'units_1': 15, 'units_2': 26, 'units_3': 23, 'alpha_1': 0.07864487770660744, 'alpha_2': 0.04414803363162016, 'alpha_3': 0.010609632775732125, 'dropout_1': 0.34396969026069524, 'dropout_2': 0.31555615467052167, 'dropout_3': 0.4319424247876203, 'l2_kern_1': 6.697213035975943e-05, 'l2_kern_2': 0.0005852864772707179, 'l2_kern_3': 1.2164290803181568e-05, 'l2_bias_1': 0.00021475707892541326, 'l2_bias_2': 1.444519522366032e-05, 'l2_bias_3': 0.001065239656120486, 'lr': 0.00012147302303549458, 'batch_size': 64}. Best is trial 16 with value: 0.881983903730274.\u001b[0m\n",
      "C:\\Users\\User\\AppData\\Local\\Temp\\ipykernel_12316\\574535459.py:60: DeprecationWarning: KerasClassifier is deprecated, use Sci-Keras (https://github.com/adriangb/scikeras) instead. See https://www.adriangb.com/scikeras/stable/migration.html for help migrating.\n",
      "  ('classifier', KerasClassifier(build_fn=self.create_model, verbose=0))\n"
     ]
    },
    {
     "name": "stdout",
     "output_type": "stream",
     "text": [
      "195/195 [==============================] - 0s 1ms/step\n",
      "195/195 [==============================] - 0s 1ms/step\n",
      "195/195 [==============================] - 0s 1ms/step\n"
     ]
    },
    {
     "name": "stderr",
     "output_type": "stream",
     "text": [
      "\u001b[32m[I 2023-03-03 09:30:21,520]\u001b[0m Trial 43 finished with value: 0.8711463127982865 and parameters: {'units_1': 36, 'units_2': 11, 'units_3': 12, 'alpha_1': 0.02118245254357505, 'alpha_2': 0.09382769012057413, 'alpha_3': 0.06050307778037628, 'dropout_1': 0.41132911768916336, 'dropout_2': 0.2112638630840853, 'dropout_3': 0.25159010722479636, 'l2_kern_1': 0.0003874857167520306, 'l2_kern_2': 0.0018126591987079458, 'l2_kern_3': 0.00103446156621973, 'l2_bias_1': 0.003970003290210031, 'l2_bias_2': 4.275598871841638e-05, 'l2_bias_3': 0.001633083072026708, 'lr': 0.0015661094028943147, 'batch_size': 256}. Best is trial 16 with value: 0.881983903730274.\u001b[0m\n",
      "C:\\Users\\User\\AppData\\Local\\Temp\\ipykernel_12316\\574535459.py:60: DeprecationWarning: KerasClassifier is deprecated, use Sci-Keras (https://github.com/adriangb/scikeras) instead. See https://www.adriangb.com/scikeras/stable/migration.html for help migrating.\n",
      "  ('classifier', KerasClassifier(build_fn=self.create_model, verbose=0))\n"
     ]
    },
    {
     "name": "stdout",
     "output_type": "stream",
     "text": [
      "195/195 [==============================] - 0s 1ms/step\n",
      "195/195 [==============================] - 0s 1ms/step\n",
      "195/195 [==============================] - 0s 1ms/step\n"
     ]
    },
    {
     "name": "stderr",
     "output_type": "stream",
     "text": [
      "\u001b[32m[I 2023-03-03 09:31:00,999]\u001b[0m Trial 44 finished with value: 0.8849686840471979 and parameters: {'units_1': 39, 'units_2': 37, 'units_3': 36, 'alpha_1': 0.024722466594298814, 'alpha_2': 0.04285142661061093, 'alpha_3': 0.04115981531581119, 'dropout_1': 0.23498979624736352, 'dropout_2': 0.30606821307288007, 'dropout_3': 0.3098524407137488, 'l2_kern_1': 0.0004048176916977805, 'l2_kern_2': 2.301151671773877e-05, 'l2_kern_3': 0.005663263316663826, 'l2_bias_1': 7.017675888772672e-05, 'l2_bias_2': 0.0025186631786981812, 'l2_bias_3': 0.00012329617155930765, 'lr': 0.0012046149677703948, 'batch_size': 256}. Best is trial 44 with value: 0.8849686840471979.\u001b[0m\n",
      "C:\\Users\\User\\AppData\\Local\\Temp\\ipykernel_12316\\574535459.py:60: DeprecationWarning: KerasClassifier is deprecated, use Sci-Keras (https://github.com/adriangb/scikeras) instead. See https://www.adriangb.com/scikeras/stable/migration.html for help migrating.\n",
      "  ('classifier', KerasClassifier(build_fn=self.create_model, verbose=0))\n"
     ]
    },
    {
     "name": "stdout",
     "output_type": "stream",
     "text": [
      "195/195 [==============================] - 0s 1ms/step\n",
      "195/195 [==============================] - 0s 1ms/step\n",
      "195/195 [==============================] - 0s 2ms/step\n"
     ]
    },
    {
     "name": "stderr",
     "output_type": "stream",
     "text": [
      "\u001b[32m[I 2023-03-03 09:31:24,820]\u001b[0m Trial 45 finished with value: 0.8728312916725587 and parameters: {'units_1': 29, 'units_2': 37, 'units_3': 21, 'alpha_1': 0.03833897085771961, 'alpha_2': 0.02695507773239164, 'alpha_3': 0.08833722718414833, 'dropout_1': 0.4203648062712111, 'dropout_2': 0.3971986322061081, 'dropout_3': 0.42552045920936626, 'l2_kern_1': 0.0008663398857202037, 'l2_kern_2': 0.00010461807926604469, 'l2_kern_3': 0.007788497161953399, 'l2_bias_1': 0.001030057938646873, 'l2_bias_2': 0.0004461397086072339, 'l2_bias_3': 0.0014356106236424228, 'lr': 0.006181652080879837, 'batch_size': 128}. Best is trial 44 with value: 0.8849686840471979.\u001b[0m\n",
      "C:\\Users\\User\\AppData\\Local\\Temp\\ipykernel_12316\\574535459.py:60: DeprecationWarning: KerasClassifier is deprecated, use Sci-Keras (https://github.com/adriangb/scikeras) instead. See https://www.adriangb.com/scikeras/stable/migration.html for help migrating.\n",
      "  ('classifier', KerasClassifier(build_fn=self.create_model, verbose=0))\n"
     ]
    },
    {
     "name": "stdout",
     "output_type": "stream",
     "text": [
      "195/195 [==============================] - 0s 1ms/step\n",
      "195/195 [==============================] - 0s 1ms/step\n",
      "195/195 [==============================] - 0s 1ms/step\n"
     ]
    },
    {
     "name": "stderr",
     "output_type": "stream",
     "text": [
      "\u001b[32m[I 2023-03-03 09:32:29,581]\u001b[0m Trial 46 finished with value: 0.869711364483417 and parameters: {'units_1': 34, 'units_2': 2, 'units_3': 35, 'alpha_1': 0.09402191504617417, 'alpha_2': 0.04489579187148085, 'alpha_3': 0.04602113803930356, 'dropout_1': 0.3845654935284447, 'dropout_2': 0.3075402272817295, 'dropout_3': 0.388946969017205, 'l2_kern_1': 0.00029479336195027906, 'l2_kern_2': 9.112861971434394e-05, 'l2_kern_3': 0.000963418636983807, 'l2_bias_1': 0.00040475694241188343, 'l2_bias_2': 0.00019044208319847933, 'l2_bias_3': 0.008432047480277483, 'lr': 0.001866010052035547, 'batch_size': 32}. Best is trial 44 with value: 0.8849686840471979.\u001b[0m\n",
      "C:\\Users\\User\\AppData\\Local\\Temp\\ipykernel_12316\\574535459.py:60: DeprecationWarning: KerasClassifier is deprecated, use Sci-Keras (https://github.com/adriangb/scikeras) instead. See https://www.adriangb.com/scikeras/stable/migration.html for help migrating.\n",
      "  ('classifier', KerasClassifier(build_fn=self.create_model, verbose=0))\n"
     ]
    },
    {
     "name": "stdout",
     "output_type": "stream",
     "text": [
      "195/195 [==============================] - 0s 1ms/step\n",
      "195/195 [==============================] - 0s 1ms/step\n",
      "195/195 [==============================] - 0s 1ms/step\n"
     ]
    },
    {
     "name": "stderr",
     "output_type": "stream",
     "text": [
      "\u001b[32m[I 2023-03-03 09:32:56,464]\u001b[0m Trial 47 finished with value: 0.8326187150720078 and parameters: {'units_1': 4, 'units_2': 5, 'units_3': 37, 'alpha_1': 0.04667795171687435, 'alpha_2': 0.06412871981928822, 'alpha_3': 0.07119387408255001, 'dropout_1': 0.3086893907841278, 'dropout_2': 0.3073046677674505, 'dropout_3': 0.4879395987092367, 'l2_kern_1': 0.0001432587979727498, 'l2_kern_2': 0.0008264496057264344, 'l2_kern_3': 0.00037788792847982296, 'l2_bias_1': 0.00023156411793147014, 'l2_bias_2': 0.002438100471044325, 'l2_bias_3': 0.00012921109377873554, 'lr': 0.00021536146450106965, 'batch_size': 256}. Best is trial 44 with value: 0.8849686840471979.\u001b[0m\n",
      "C:\\Users\\User\\AppData\\Local\\Temp\\ipykernel_12316\\574535459.py:60: DeprecationWarning: KerasClassifier is deprecated, use Sci-Keras (https://github.com/adriangb/scikeras) instead. See https://www.adriangb.com/scikeras/stable/migration.html for help migrating.\n",
      "  ('classifier', KerasClassifier(build_fn=self.create_model, verbose=0))\n"
     ]
    },
    {
     "name": "stdout",
     "output_type": "stream",
     "text": [
      "195/195 [==============================] - 0s 1ms/step\n",
      "195/195 [==============================] - 0s 1ms/step\n",
      "195/195 [==============================] - 0s 1ms/step\n"
     ]
    },
    {
     "name": "stderr",
     "output_type": "stream",
     "text": [
      "\u001b[32m[I 2023-03-03 09:34:43,595]\u001b[0m Trial 48 finished with value: 0.8669956347863709 and parameters: {'units_1': 19, 'units_2': 22, 'units_3': 14, 'alpha_1': 0.0210350689034334, 'alpha_2': 0.06623379564660552, 'alpha_3': 0.055077719438874795, 'dropout_1': 0.46818098402529373, 'dropout_2': 0.2415308260382954, 'dropout_3': 0.2302090339906003, 'l2_kern_1': 5.078029194525792e-05, 'l2_kern_2': 0.0003291433852633817, 'l2_kern_3': 0.00010511722280761688, 'l2_bias_1': 8.998169127991184e-05, 'l2_bias_2': 0.00044466406108712147, 'l2_bias_3': 0.0013153948099521742, 'lr': 0.006239379277014491, 'batch_size': 16}. Best is trial 44 with value: 0.8849686840471979.\u001b[0m\n",
      "C:\\Users\\User\\AppData\\Local\\Temp\\ipykernel_12316\\574535459.py:60: DeprecationWarning: KerasClassifier is deprecated, use Sci-Keras (https://github.com/adriangb/scikeras) instead. See https://www.adriangb.com/scikeras/stable/migration.html for help migrating.\n",
      "  ('classifier', KerasClassifier(build_fn=self.create_model, verbose=0))\n"
     ]
    },
    {
     "name": "stdout",
     "output_type": "stream",
     "text": [
      "195/195 [==============================] - 0s 1ms/step\n",
      "195/195 [==============================] - 0s 1ms/step\n",
      "195/195 [==============================] - 0s 1ms/step\n"
     ]
    },
    {
     "name": "stderr",
     "output_type": "stream",
     "text": [
      "\u001b[32m[I 2023-03-03 09:35:09,639]\u001b[0m Trial 49 finished with value: 0.8346342568996897 and parameters: {'units_1': 39, 'units_2': 13, 'units_3': 30, 'alpha_1': 0.06876668901465435, 'alpha_2': 0.02969254251664201, 'alpha_3': 0.09295932366517619, 'dropout_1': 0.4900041312744632, 'dropout_2': 0.3638287630832102, 'dropout_3': 0.29400941407992565, 'l2_kern_1': 5.491430894481084e-05, 'l2_kern_2': 0.0011225657485854066, 'l2_kern_3': 8.950298401665077e-05, 'l2_bias_1': 0.0028754536620609616, 'l2_bias_2': 0.00039675754093196065, 'l2_bias_3': 1.3299481932199827e-05, 'lr': 9.089005069860259e-05, 'batch_size': 1024}. Best is trial 44 with value: 0.8849686840471979.\u001b[0m\n",
      "C:\\Users\\User\\AppData\\Local\\Temp\\ipykernel_12316\\574535459.py:60: DeprecationWarning: KerasClassifier is deprecated, use Sci-Keras (https://github.com/adriangb/scikeras) instead. See https://www.adriangb.com/scikeras/stable/migration.html for help migrating.\n",
      "  ('classifier', KerasClassifier(build_fn=self.create_model, verbose=0))\n"
     ]
    },
    {
     "name": "stdout",
     "output_type": "stream",
     "text": [
      "195/195 [==============================] - 0s 1ms/step\n",
      "195/195 [==============================] - 0s 1ms/step\n",
      "195/195 [==============================] - 1s 2ms/step\n"
     ]
    },
    {
     "name": "stderr",
     "output_type": "stream",
     "text": [
      "\u001b[32m[I 2023-03-03 09:35:53,845]\u001b[0m Trial 50 finished with value: 0.8749473547682235 and parameters: {'units_1': 25, 'units_2': 14, 'units_3': 40, 'alpha_1': 0.05943281321334303, 'alpha_2': 0.028683922609174246, 'alpha_3': 0.06491062515045258, 'dropout_1': 0.20577163682571104, 'dropout_2': 0.47584575263617723, 'dropout_3': 0.3839097143327097, 'l2_kern_1': 0.00026643985957214246, 'l2_kern_2': 1.2761306352628358e-05, 'l2_kern_3': 0.00010922222370227686, 'l2_bias_1': 1.6343072103811263e-05, 'l2_bias_2': 0.00011774532685315983, 'l2_bias_3': 2.3741347995643422e-05, 'lr': 0.0006456961949358642, 'batch_size': 128}. Best is trial 44 with value: 0.8849686840471979.\u001b[0m\n",
      "C:\\Users\\User\\AppData\\Local\\Temp\\ipykernel_12316\\574535459.py:60: DeprecationWarning: KerasClassifier is deprecated, use Sci-Keras (https://github.com/adriangb/scikeras) instead. See https://www.adriangb.com/scikeras/stable/migration.html for help migrating.\n",
      "  ('classifier', KerasClassifier(build_fn=self.create_model, verbose=0))\n"
     ]
    },
    {
     "name": "stdout",
     "output_type": "stream",
     "text": [
      "195/195 [==============================] - 0s 1ms/step\n",
      "195/195 [==============================] - 0s 1ms/step\n",
      "195/195 [==============================] - 0s 1ms/step\n"
     ]
    },
    {
     "name": "stderr",
     "output_type": "stream",
     "text": [
      "\u001b[32m[I 2023-03-03 09:36:13,231]\u001b[0m Trial 51 finished with value: 0.8464913072369112 and parameters: {'units_1': 13, 'units_2': 32, 'units_3': 39, 'alpha_1': 0.042810105364614666, 'alpha_2': 0.04115626744992044, 'alpha_3': 0.0639219075503839, 'dropout_1': 0.4282927149421372, 'dropout_2': 0.2765836481005308, 'dropout_3': 0.2586032766034689, 'l2_kern_1': 0.001307611122741492, 'l2_kern_2': 0.006080816422085341, 'l2_kern_3': 0.0004412911530623372, 'l2_bias_1': 0.004533413066962952, 'l2_bias_2': 1.1174580099156482e-05, 'l2_bias_3': 0.005059140772967061, 'lr': 0.0003632348256353305, 'batch_size': 1024}. Best is trial 44 with value: 0.8849686840471979.\u001b[0m\n",
      "C:\\Users\\User\\AppData\\Local\\Temp\\ipykernel_12316\\574535459.py:60: DeprecationWarning: KerasClassifier is deprecated, use Sci-Keras (https://github.com/adriangb/scikeras) instead. See https://www.adriangb.com/scikeras/stable/migration.html for help migrating.\n",
      "  ('classifier', KerasClassifier(build_fn=self.create_model, verbose=0))\n"
     ]
    },
    {
     "name": "stdout",
     "output_type": "stream",
     "text": [
      "195/195 [==============================] - 0s 1ms/step\n",
      "195/195 [==============================] - 0s 1ms/step\n",
      "195/195 [==============================] - 0s 1ms/step\n"
     ]
    },
    {
     "name": "stderr",
     "output_type": "stream",
     "text": [
      "\u001b[32m[I 2023-03-03 09:36:41,251]\u001b[0m Trial 52 finished with value: 0.8647465256480432 and parameters: {'units_1': 29, 'units_2': 29, 'units_3': 25, 'alpha_1': 0.03507806972436615, 'alpha_2': 0.08525636817834703, 'alpha_3': 0.03629952727958045, 'dropout_1': 0.43642373796524236, 'dropout_2': 0.44404533963256354, 'dropout_3': 0.4953365752819276, 'l2_kern_1': 0.0003567244701574981, 'l2_kern_2': 0.0013474884680697464, 'l2_kern_3': 0.00019450912388275493, 'l2_bias_1': 6.272576663609671e-05, 'l2_bias_2': 0.0008061190650595703, 'l2_bias_3': 0.0002878850652021818, 'lr': 0.0008600267864336749, 'batch_size': 512}. Best is trial 44 with value: 0.8849686840471979.\u001b[0m\n",
      "C:\\Users\\User\\AppData\\Local\\Temp\\ipykernel_12316\\574535459.py:60: DeprecationWarning: KerasClassifier is deprecated, use Sci-Keras (https://github.com/adriangb/scikeras) instead. See https://www.adriangb.com/scikeras/stable/migration.html for help migrating.\n",
      "  ('classifier', KerasClassifier(build_fn=self.create_model, verbose=0))\n"
     ]
    },
    {
     "name": "stdout",
     "output_type": "stream",
     "text": [
      "195/195 [==============================] - 0s 1ms/step\n",
      "195/195 [==============================] - 0s 1ms/step\n",
      "195/195 [==============================] - 0s 1ms/step\n"
     ]
    },
    {
     "name": "stderr",
     "output_type": "stream",
     "text": [
      "\u001b[32m[I 2023-03-03 09:40:08,233]\u001b[0m Trial 53 finished with value: 0.8711506964256982 and parameters: {'units_1': 38, 'units_2': 20, 'units_3': 5, 'alpha_1': 0.08742663557308204, 'alpha_2': 0.07040436933935088, 'alpha_3': 0.08446405940066612, 'dropout_1': 0.4514125693215847, 'dropout_2': 0.24503301434176222, 'dropout_3': 0.20907924998954858, 'l2_kern_1': 6.180953182135532e-05, 'l2_kern_2': 3.163608728213578e-05, 'l2_kern_3': 0.0014764529912227114, 'l2_bias_1': 0.001316880609872771, 'l2_bias_2': 0.0001614291602224717, 'l2_bias_3': 2.2472083878514632e-05, 'lr': 0.0002025388436751942, 'batch_size': 16}. Best is trial 44 with value: 0.8849686840471979.\u001b[0m\n",
      "C:\\Users\\User\\AppData\\Local\\Temp\\ipykernel_12316\\574535459.py:60: DeprecationWarning: KerasClassifier is deprecated, use Sci-Keras (https://github.com/adriangb/scikeras) instead. See https://www.adriangb.com/scikeras/stable/migration.html for help migrating.\n",
      "  ('classifier', KerasClassifier(build_fn=self.create_model, verbose=0))\n"
     ]
    },
    {
     "name": "stdout",
     "output_type": "stream",
     "text": [
      "195/195 [==============================] - 0s 1ms/step\n",
      "195/195 [==============================] - 0s 1ms/step\n",
      "195/195 [==============================] - 0s 1ms/step\n"
     ]
    },
    {
     "name": "stderr",
     "output_type": "stream",
     "text": [
      "\u001b[32m[I 2023-03-03 09:41:13,178]\u001b[0m Trial 54 finished with value: 0.8435625593159187 and parameters: {'units_1': 17, 'units_2': 10, 'units_3': 19, 'alpha_1': 0.07729678421399887, 'alpha_2': 0.02189372818871802, 'alpha_3': 0.09508731901511289, 'dropout_1': 0.364568259821359, 'dropout_2': 0.387464774312813, 'dropout_3': 0.4822605265677469, 'l2_kern_1': 0.0016070719936618937, 'l2_kern_2': 0.0033647477753952744, 'l2_kern_3': 0.004507366042208267, 'l2_bias_1': 0.00935184571321007, 'l2_bias_2': 0.004899580444708059, 'l2_bias_3': 0.0004562956273830688, 'lr': 0.00016053410685703805, 'batch_size': 32}. Best is trial 44 with value: 0.8849686840471979.\u001b[0m\n",
      "C:\\Users\\User\\AppData\\Local\\Temp\\ipykernel_12316\\574535459.py:60: DeprecationWarning: KerasClassifier is deprecated, use Sci-Keras (https://github.com/adriangb/scikeras) instead. See https://www.adriangb.com/scikeras/stable/migration.html for help migrating.\n",
      "  ('classifier', KerasClassifier(build_fn=self.create_model, verbose=0))\n"
     ]
    },
    {
     "name": "stdout",
     "output_type": "stream",
     "text": [
      "195/195 [==============================] - 0s 1ms/step\n",
      "195/195 [==============================] - 0s 1ms/step\n",
      "195/195 [==============================] - 0s 1ms/step\n"
     ]
    },
    {
     "name": "stderr",
     "output_type": "stream",
     "text": [
      "\u001b[32m[I 2023-03-03 09:42:15,899]\u001b[0m Trial 55 finished with value: 0.8743048748806448 and parameters: {'units_1': 32, 'units_2': 37, 'units_3': 6, 'alpha_1': 0.07833365301199942, 'alpha_2': 0.03167728541361043, 'alpha_3': 0.07829667803610812, 'dropout_1': 0.24861954170945175, 'dropout_2': 0.37315017117728827, 'dropout_3': 0.3125073975999934, 'l2_kern_1': 4.3613842137611026e-05, 'l2_kern_2': 2.7196423040356704e-05, 'l2_kern_3': 4.391115282343297e-05, 'l2_bias_1': 0.00814301239074822, 'l2_bias_2': 0.0001356573458920847, 'l2_bias_3': 0.0013318586975973059, 'lr': 0.0032127774249324508, 'batch_size': 32}. Best is trial 44 with value: 0.8849686840471979.\u001b[0m\n",
      "C:\\Users\\User\\AppData\\Local\\Temp\\ipykernel_12316\\574535459.py:60: DeprecationWarning: KerasClassifier is deprecated, use Sci-Keras (https://github.com/adriangb/scikeras) instead. See https://www.adriangb.com/scikeras/stable/migration.html for help migrating.\n",
      "  ('classifier', KerasClassifier(build_fn=self.create_model, verbose=0))\n"
     ]
    },
    {
     "name": "stdout",
     "output_type": "stream",
     "text": [
      "195/195 [==============================] - 0s 1ms/step\n",
      "195/195 [==============================] - 0s 1ms/step\n",
      "195/195 [==============================] - 0s 1ms/step\n"
     ]
    },
    {
     "name": "stderr",
     "output_type": "stream",
     "text": [
      "\u001b[32m[I 2023-03-03 09:42:53,745]\u001b[0m Trial 56 finished with value: 0.8736763437167175 and parameters: {'units_1': 27, 'units_2': 29, 'units_3': 23, 'alpha_1': 0.09613658073496507, 'alpha_2': 0.04594275250033072, 'alpha_3': 0.03442556526514608, 'dropout_1': 0.35195123375052584, 'dropout_2': 0.4535472905128147, 'dropout_3': 0.4574148479307544, 'l2_kern_1': 0.00315542800504167, 'l2_kern_2': 3.8823689401085736e-05, 'l2_kern_3': 0.005494200824208721, 'l2_bias_1': 0.00019845271306433311, 'l2_bias_2': 3.623192960992613e-05, 'l2_bias_3': 0.008469839032913325, 'lr': 0.0011083881705050431, 'batch_size': 128}. Best is trial 44 with value: 0.8849686840471979.\u001b[0m\n",
      "C:\\Users\\User\\AppData\\Local\\Temp\\ipykernel_12316\\574535459.py:60: DeprecationWarning: KerasClassifier is deprecated, use Sci-Keras (https://github.com/adriangb/scikeras) instead. See https://www.adriangb.com/scikeras/stable/migration.html for help migrating.\n",
      "  ('classifier', KerasClassifier(build_fn=self.create_model, verbose=0))\n"
     ]
    },
    {
     "name": "stdout",
     "output_type": "stream",
     "text": [
      "195/195 [==============================] - 0s 1ms/step\n",
      "195/195 [==============================] - 0s 1ms/step\n",
      "195/195 [==============================] - 0s 1ms/step\n"
     ]
    },
    {
     "name": "stderr",
     "output_type": "stream",
     "text": [
      "\u001b[32m[I 2023-03-03 09:44:04,191]\u001b[0m Trial 57 finished with value: 0.8634698191500484 and parameters: {'units_1': 36, 'units_2': 8, 'units_3': 21, 'alpha_1': 0.031590470708023496, 'alpha_2': 0.07409056936112596, 'alpha_3': 0.06329806243072539, 'dropout_1': 0.36064839796214077, 'dropout_2': 0.3185298232450698, 'dropout_3': 0.4362830195312033, 'l2_kern_1': 0.00027211109995328936, 'l2_kern_2': 0.0002877494059983436, 'l2_kern_3': 1.3309562310662796e-05, 'l2_bias_1': 0.0006162343060520445, 'l2_bias_2': 1.4002804195317643e-05, 'l2_bias_3': 1.5979606640379387e-05, 'lr': 0.008181589565897113, 'batch_size': 16}. Best is trial 44 with value: 0.8849686840471979.\u001b[0m\n",
      "C:\\Users\\User\\AppData\\Local\\Temp\\ipykernel_12316\\574535459.py:60: DeprecationWarning: KerasClassifier is deprecated, use Sci-Keras (https://github.com/adriangb/scikeras) instead. See https://www.adriangb.com/scikeras/stable/migration.html for help migrating.\n",
      "  ('classifier', KerasClassifier(build_fn=self.create_model, verbose=0))\n"
     ]
    },
    {
     "name": "stdout",
     "output_type": "stream",
     "text": [
      "195/195 [==============================] - 0s 1ms/step\n",
      "195/195 [==============================] - 0s 1ms/step\n",
      "195/195 [==============================] - 0s 1ms/step\n"
     ]
    },
    {
     "name": "stderr",
     "output_type": "stream",
     "text": [
      "\u001b[32m[I 2023-03-03 09:47:58,697]\u001b[0m Trial 58 finished with value: 0.8659439734027693 and parameters: {'units_1': 33, 'units_2': 11, 'units_3': 17, 'alpha_1': 0.0509838436750582, 'alpha_2': 0.06988541813034341, 'alpha_3': 0.01036367678925253, 'dropout_1': 0.4529244273670422, 'dropout_2': 0.22454729039512303, 'dropout_3': 0.3915111678428541, 'l2_kern_1': 7.095869479582048e-05, 'l2_kern_2': 7.994320655214814e-05, 'l2_kern_3': 0.00010652539350422796, 'l2_bias_1': 6.201804826172239e-05, 'l2_bias_2': 2.1512720442032525e-05, 'l2_bias_3': 0.006492501912350535, 'lr': 0.00011265811765295043, 'batch_size': 16}. Best is trial 44 with value: 0.8849686840471979.\u001b[0m\n",
      "C:\\Users\\User\\AppData\\Local\\Temp\\ipykernel_12316\\574535459.py:60: DeprecationWarning: KerasClassifier is deprecated, use Sci-Keras (https://github.com/adriangb/scikeras) instead. See https://www.adriangb.com/scikeras/stable/migration.html for help migrating.\n",
      "  ('classifier', KerasClassifier(build_fn=self.create_model, verbose=0))\n"
     ]
    },
    {
     "name": "stdout",
     "output_type": "stream",
     "text": [
      "195/195 [==============================] - 1s 1ms/step\n",
      "195/195 [==============================] - 0s 1ms/step\n",
      "195/195 [==============================] - 0s 1ms/step\n"
     ]
    },
    {
     "name": "stderr",
     "output_type": "stream",
     "text": [
      "\u001b[32m[I 2023-03-03 09:48:54,370]\u001b[0m Trial 59 finished with value: 0.846693360405971 and parameters: {'units_1': 27, 'units_2': 27, 'units_3': 27, 'alpha_1': 0.07228775776006535, 'alpha_2': 0.09782342445933274, 'alpha_3': 0.06990680091971116, 'dropout_1': 0.33601770094662686, 'dropout_2': 0.43639004584017993, 'dropout_3': 0.3678420995228746, 'l2_kern_1': 2.843174592580176e-05, 'l2_kern_2': 0.0014774912309871186, 'l2_kern_3': 0.0017262609203460336, 'l2_bias_1': 0.000148532055892708, 'l2_bias_2': 0.00012304655382639878, 'l2_bias_3': 0.009019631843339152, 'lr': 0.00011036274270918664, 'batch_size': 64}. Best is trial 44 with value: 0.8849686840471979.\u001b[0m\n",
      "C:\\Users\\User\\AppData\\Local\\Temp\\ipykernel_12316\\574535459.py:60: DeprecationWarning: KerasClassifier is deprecated, use Sci-Keras (https://github.com/adriangb/scikeras) instead. See https://www.adriangb.com/scikeras/stable/migration.html for help migrating.\n",
      "  ('classifier', KerasClassifier(build_fn=self.create_model, verbose=0))\n"
     ]
    },
    {
     "name": "stdout",
     "output_type": "stream",
     "text": [
      "195/195 [==============================] - 0s 1ms/step\n",
      "195/195 [==============================] - 0s 1ms/step\n",
      "195/195 [==============================] - 0s 1ms/step\n"
     ]
    },
    {
     "name": "stderr",
     "output_type": "stream",
     "text": [
      "\u001b[32m[I 2023-03-03 09:49:29,220]\u001b[0m Trial 60 finished with value: 0.8291353024228485 and parameters: {'units_1': 26, 'units_2': 23, 'units_3': 4, 'alpha_1': 0.018710344738507648, 'alpha_2': 0.08210409935520659, 'alpha_3': 0.060384156004489285, 'dropout_1': 0.2861525418320661, 'dropout_2': 0.26003015226521675, 'dropout_3': 0.372805570639304, 'l2_kern_1': 0.0032238491783419614, 'l2_kern_2': 0.009124802794058244, 'l2_kern_3': 0.0010928989343708154, 'l2_bias_1': 0.0026488659867867515, 'l2_bias_2': 3.429036483642819e-05, 'l2_bias_3': 0.0023100364217788763, 'lr': 6.324317018006757e-05, 'batch_size': 1024}. Best is trial 44 with value: 0.8849686840471979.\u001b[0m\n",
      "C:\\Users\\User\\AppData\\Local\\Temp\\ipykernel_12316\\574535459.py:60: DeprecationWarning: KerasClassifier is deprecated, use Sci-Keras (https://github.com/adriangb/scikeras) instead. See https://www.adriangb.com/scikeras/stable/migration.html for help migrating.\n",
      "  ('classifier', KerasClassifier(build_fn=self.create_model, verbose=0))\n"
     ]
    },
    {
     "name": "stdout",
     "output_type": "stream",
     "text": [
      "195/195 [==============================] - 0s 1ms/step\n",
      "195/195 [==============================] - 0s 1ms/step\n",
      "195/195 [==============================] - 0s 1ms/step\n"
     ]
    },
    {
     "name": "stderr",
     "output_type": "stream",
     "text": [
      "\u001b[32m[I 2023-03-03 09:50:28,109]\u001b[0m Trial 61 finished with value: 0.8488850200160907 and parameters: {'units_1': 24, 'units_2': 25, 'units_3': 37, 'alpha_1': 0.06217871574151236, 'alpha_2': 0.05157833273469479, 'alpha_3': 0.023158508691246877, 'dropout_1': 0.4515555265055296, 'dropout_2': 0.23101540571037055, 'dropout_3': 0.42416092478110445, 'l2_kern_1': 1.2203624185399785e-05, 'l2_kern_2': 0.009044723428617637, 'l2_kern_3': 5.216701708662291e-05, 'l2_bias_1': 0.00041222153444759685, 'l2_bias_2': 0.0007701757510540888, 'l2_bias_3': 5.988974298722784e-05, 'lr': 6.959159068921773e-05, 'batch_size': 128}. Best is trial 44 with value: 0.8849686840471979.\u001b[0m\n",
      "C:\\Users\\User\\AppData\\Local\\Temp\\ipykernel_12316\\574535459.py:60: DeprecationWarning: KerasClassifier is deprecated, use Sci-Keras (https://github.com/adriangb/scikeras) instead. See https://www.adriangb.com/scikeras/stable/migration.html for help migrating.\n",
      "  ('classifier', KerasClassifier(build_fn=self.create_model, verbose=0))\n"
     ]
    },
    {
     "name": "stdout",
     "output_type": "stream",
     "text": [
      "195/195 [==============================] - 0s 1ms/step\n",
      "195/195 [==============================] - 0s 1ms/step\n",
      "195/195 [==============================] - 0s 1ms/step\n"
     ]
    },
    {
     "name": "stderr",
     "output_type": "stream",
     "text": [
      "\u001b[32m[I 2023-03-03 09:50:46,838]\u001b[0m Trial 62 finished with value: 0.840820069473451 and parameters: {'units_1': 9, 'units_2': 16, 'units_3': 31, 'alpha_1': 0.0206589207300387, 'alpha_2': 0.07808559049069845, 'alpha_3': 0.03462840652555763, 'dropout_1': 0.33206248952174033, 'dropout_2': 0.38765538243890474, 'dropout_3': 0.2967628050734057, 'l2_kern_1': 3.7072472629712284e-05, 'l2_kern_2': 0.000637660169427236, 'l2_kern_3': 0.0015463732170297756, 'l2_bias_1': 0.0038566586186275405, 'l2_bias_2': 1.2386723046028007e-05, 'l2_bias_3': 0.0046425805506667295, 'lr': 0.0005638860087431645, 'batch_size': 1024}. Best is trial 44 with value: 0.8849686840471979.\u001b[0m\n",
      "C:\\Users\\User\\AppData\\Local\\Temp\\ipykernel_12316\\574535459.py:60: DeprecationWarning: KerasClassifier is deprecated, use Sci-Keras (https://github.com/adriangb/scikeras) instead. See https://www.adriangb.com/scikeras/stable/migration.html for help migrating.\n",
      "  ('classifier', KerasClassifier(build_fn=self.create_model, verbose=0))\n"
     ]
    },
    {
     "name": "stdout",
     "output_type": "stream",
     "text": [
      "195/195 [==============================] - 0s 1ms/step\n",
      "195/195 [==============================] - 0s 1ms/step\n",
      "195/195 [==============================] - 0s 1ms/step\n"
     ]
    },
    {
     "name": "stderr",
     "output_type": "stream",
     "text": [
      "\u001b[32m[I 2023-03-03 09:53:32,493]\u001b[0m Trial 63 finished with value: 0.8668582944446461 and parameters: {'units_1': 15, 'units_2': 5, 'units_3': 18, 'alpha_1': 0.02371266775939925, 'alpha_2': 0.01730052979172967, 'alpha_3': 0.06771947147624521, 'dropout_1': 0.39936297363484063, 'dropout_2': 0.2738949349891369, 'dropout_3': 0.20708156333509892, 'l2_kern_1': 0.00023516506525172112, 'l2_kern_2': 0.0014835308504628655, 'l2_kern_3': 0.0001383152228238864, 'l2_bias_1': 0.0011711665716249628, 'l2_bias_2': 0.0018592982936133037, 'l2_bias_3': 0.00037383871578386494, 'lr': 0.00039445578703999854, 'batch_size': 16}. Best is trial 44 with value: 0.8849686840471979.\u001b[0m\n",
      "C:\\Users\\User\\AppData\\Local\\Temp\\ipykernel_12316\\574535459.py:60: DeprecationWarning: KerasClassifier is deprecated, use Sci-Keras (https://github.com/adriangb/scikeras) instead. See https://www.adriangb.com/scikeras/stable/migration.html for help migrating.\n",
      "  ('classifier', KerasClassifier(build_fn=self.create_model, verbose=0))\n"
     ]
    },
    {
     "name": "stdout",
     "output_type": "stream",
     "text": [
      "195/195 [==============================] - 0s 1ms/step\n",
      "195/195 [==============================] - 0s 1ms/step\n",
      "195/195 [==============================] - 0s 1ms/step\n"
     ]
    },
    {
     "name": "stderr",
     "output_type": "stream",
     "text": [
      "\u001b[32m[I 2023-03-03 09:53:53,673]\u001b[0m Trial 64 finished with value: 0.850125508432478 and parameters: {'units_1': 38, 'units_2': 25, 'units_3': 15, 'alpha_1': 0.060297458384759105, 'alpha_2': 0.033489908756625865, 'alpha_3': 0.0826548335982182, 'dropout_1': 0.4801043662260189, 'dropout_2': 0.3407650655889196, 'dropout_3': 0.30487478719828354, 'l2_kern_1': 0.00019440994042443826, 'l2_kern_2': 0.0025873494672946046, 'l2_kern_3': 2.664436427947981e-05, 'l2_bias_1': 0.0009061236570466793, 'l2_bias_2': 0.000208419102612365, 'l2_bias_3': 0.00013368074519302353, 'lr': 0.00043515518305579, 'batch_size': 1024}. Best is trial 44 with value: 0.8849686840471979.\u001b[0m\n",
      "C:\\Users\\User\\AppData\\Local\\Temp\\ipykernel_12316\\574535459.py:60: DeprecationWarning: KerasClassifier is deprecated, use Sci-Keras (https://github.com/adriangb/scikeras) instead. See https://www.adriangb.com/scikeras/stable/migration.html for help migrating.\n",
      "  ('classifier', KerasClassifier(build_fn=self.create_model, verbose=0))\n"
     ]
    },
    {
     "name": "stdout",
     "output_type": "stream",
     "text": [
      "195/195 [==============================] - 0s 1ms/step\n",
      "195/195 [==============================] - 0s 1ms/step\n",
      "195/195 [==============================] - 0s 1ms/step\n"
     ]
    },
    {
     "name": "stderr",
     "output_type": "stream",
     "text": [
      "\u001b[32m[I 2023-03-03 09:55:23,003]\u001b[0m Trial 65 finished with value: 0.8537964443832969 and parameters: {'units_1': 14, 'units_2': 24, 'units_3': 6, 'alpha_1': 0.03027398525299131, 'alpha_2': 0.07960678598982833, 'alpha_3': 0.07106912652841585, 'dropout_1': 0.3695460156534631, 'dropout_2': 0.3719553647319296, 'dropout_3': 0.4552636490204105, 'l2_kern_1': 3.565864466501939e-05, 'l2_kern_2': 2.5705754503959506e-05, 'l2_kern_3': 0.008467019195663134, 'l2_bias_1': 7.26148387730613e-05, 'l2_bias_2': 4.797624727861172e-05, 'l2_bias_3': 0.0005051547879752261, 'lr': 0.0004067606984481848, 'batch_size': 32}. Best is trial 44 with value: 0.8849686840471979.\u001b[0m\n",
      "C:\\Users\\User\\AppData\\Local\\Temp\\ipykernel_12316\\574535459.py:60: DeprecationWarning: KerasClassifier is deprecated, use Sci-Keras (https://github.com/adriangb/scikeras) instead. See https://www.adriangb.com/scikeras/stable/migration.html for help migrating.\n",
      "  ('classifier', KerasClassifier(build_fn=self.create_model, verbose=0))\n"
     ]
    },
    {
     "name": "stdout",
     "output_type": "stream",
     "text": [
      "195/195 [==============================] - 0s 1ms/step\n",
      "195/195 [==============================] - 0s 1ms/step\n",
      "195/195 [==============================] - 0s 1ms/step\n"
     ]
    },
    {
     "name": "stderr",
     "output_type": "stream",
     "text": [
      "\u001b[32m[I 2023-03-03 09:55:53,240]\u001b[0m Trial 66 finished with value: 0.842772624370533 and parameters: {'units_1': 26, 'units_2': 19, 'units_3': 38, 'alpha_1': 0.07002642065142196, 'alpha_2': 0.06903940859371833, 'alpha_3': 0.08132815417731237, 'dropout_1': 0.3097816903076901, 'dropout_2': 0.47161338178084844, 'dropout_3': 0.3065958252736256, 'l2_kern_1': 0.005691412544383101, 'l2_kern_2': 0.002402797751682833, 'l2_kern_3': 0.0002619647484055454, 'l2_bias_1': 0.0005628359264830449, 'l2_bias_2': 1.0009739857033139e-05, 'l2_bias_3': 0.0012678871395328528, 'lr': 8.228034530560708e-05, 'batch_size': 256}. Best is trial 44 with value: 0.8849686840471979.\u001b[0m\n",
      "C:\\Users\\User\\AppData\\Local\\Temp\\ipykernel_12316\\574535459.py:60: DeprecationWarning: KerasClassifier is deprecated, use Sci-Keras (https://github.com/adriangb/scikeras) instead. See https://www.adriangb.com/scikeras/stable/migration.html for help migrating.\n",
      "  ('classifier', KerasClassifier(build_fn=self.create_model, verbose=0))\n"
     ]
    },
    {
     "name": "stdout",
     "output_type": "stream",
     "text": [
      "195/195 [==============================] - 0s 1ms/step\n",
      "195/195 [==============================] - 0s 1ms/step\n",
      "195/195 [==============================] - 0s 1ms/step\n"
     ]
    },
    {
     "name": "stderr",
     "output_type": "stream",
     "text": [
      "\u001b[32m[I 2023-03-03 09:56:09,819]\u001b[0m Trial 67 finished with value: 0.8738960420156774 and parameters: {'units_1': 15, 'units_2': 20, 'units_3': 9, 'alpha_1': 0.05077118238300406, 'alpha_2': 0.06656885426163663, 'alpha_3': 0.04675916452714769, 'dropout_1': 0.2521629087574591, 'dropout_2': 0.2968713034884351, 'dropout_3': 0.3167580829046755, 'l2_kern_1': 0.001598680413479965, 'l2_kern_2': 2.716577812182931e-05, 'l2_kern_3': 0.00012816405084951408, 'l2_bias_1': 1.8098974536850393e-05, 'l2_bias_2': 0.00017621499056834627, 'l2_bias_3': 0.0005251752537221759, 'lr': 0.0050398671054164845, 'batch_size': 1024}. Best is trial 44 with value: 0.8849686840471979.\u001b[0m\n",
      "C:\\Users\\User\\AppData\\Local\\Temp\\ipykernel_12316\\574535459.py:60: DeprecationWarning: KerasClassifier is deprecated, use Sci-Keras (https://github.com/adriangb/scikeras) instead. See https://www.adriangb.com/scikeras/stable/migration.html for help migrating.\n",
      "  ('classifier', KerasClassifier(build_fn=self.create_model, verbose=0))\n"
     ]
    },
    {
     "name": "stdout",
     "output_type": "stream",
     "text": [
      "195/195 [==============================] - 0s 1ms/step\n",
      "195/195 [==============================] - 0s 1ms/step\n",
      "195/195 [==============================] - 0s 1ms/step\n"
     ]
    },
    {
     "name": "stderr",
     "output_type": "stream",
     "text": [
      "\u001b[32m[I 2023-03-03 09:57:37,605]\u001b[0m Trial 68 finished with value: 0.8770154403674048 and parameters: {'units_1': 35, 'units_2': 23, 'units_3': 31, 'alpha_1': 0.07801646895330365, 'alpha_2': 0.0810503074993742, 'alpha_3': 0.04081919585212632, 'dropout_1': 0.29681669184270454, 'dropout_2': 0.2487441827739649, 'dropout_3': 0.23361614640804804, 'l2_kern_1': 0.00025959357139992967, 'l2_kern_2': 5.128307689758914e-05, 'l2_kern_3': 0.00015133263106337637, 'l2_bias_1': 0.0008989121474341074, 'l2_bias_2': 0.00020103978599309605, 'l2_bias_3': 0.0008410665356346554, 'lr': 0.00027630167384093364, 'batch_size': 64}. Best is trial 44 with value: 0.8849686840471979.\u001b[0m\n",
      "C:\\Users\\User\\AppData\\Local\\Temp\\ipykernel_12316\\574535459.py:60: DeprecationWarning: KerasClassifier is deprecated, use Sci-Keras (https://github.com/adriangb/scikeras) instead. See https://www.adriangb.com/scikeras/stable/migration.html for help migrating.\n",
      "  ('classifier', KerasClassifier(build_fn=self.create_model, verbose=0))\n"
     ]
    },
    {
     "name": "stdout",
     "output_type": "stream",
     "text": [
      "195/195 [==============================] - 0s 1ms/step\n",
      "195/195 [==============================] - 0s 1ms/step\n",
      "195/195 [==============================] - 0s 1ms/step\n"
     ]
    },
    {
     "name": "stderr",
     "output_type": "stream",
     "text": [
      "\u001b[32m[I 2023-03-03 09:58:08,387]\u001b[0m Trial 69 finished with value: 0.8324612858289347 and parameters: {'units_1': 7, 'units_2': 39, 'units_3': 20, 'alpha_1': 0.07593436199713997, 'alpha_2': 0.04725630774689619, 'alpha_3': 0.010712983713556102, 'dropout_1': 0.391235159417183, 'dropout_2': 0.30840606272115073, 'dropout_3': 0.30041067663891424, 'l2_kern_1': 0.008297486171919305, 'l2_kern_2': 0.003944850793547725, 'l2_kern_3': 0.00038970695657169574, 'l2_bias_1': 0.0007070068909506068, 'l2_bias_2': 1.2175850412422852e-05, 'l2_bias_3': 0.0008266927250382655, 'lr': 7.020194856595829e-05, 'batch_size': 256}. Best is trial 44 with value: 0.8849686840471979.\u001b[0m\n",
      "C:\\Users\\User\\AppData\\Local\\Temp\\ipykernel_12316\\574535459.py:60: DeprecationWarning: KerasClassifier is deprecated, use Sci-Keras (https://github.com/adriangb/scikeras) instead. See https://www.adriangb.com/scikeras/stable/migration.html for help migrating.\n",
      "  ('classifier', KerasClassifier(build_fn=self.create_model, verbose=0))\n"
     ]
    },
    {
     "name": "stdout",
     "output_type": "stream",
     "text": [
      "195/195 [==============================] - 0s 1ms/step\n",
      "195/195 [==============================] - 0s 1ms/step\n",
      "195/195 [==============================] - 0s 1ms/step\n"
     ]
    },
    {
     "name": "stderr",
     "output_type": "stream",
     "text": [
      "\u001b[32m[I 2023-03-03 09:58:33,305]\u001b[0m Trial 70 finished with value: 0.8614734674208835 and parameters: {'units_1': 32, 'units_2': 32, 'units_3': 37, 'alpha_1': 0.014372903619694186, 'alpha_2': 0.09250612866261472, 'alpha_3': 0.05565691292756836, 'dropout_1': 0.4641953381902975, 'dropout_2': 0.265197647735456, 'dropout_3': 0.3465274231768134, 'l2_kern_1': 1.9321735683206015e-05, 'l2_kern_2': 0.006469166542756052, 'l2_kern_3': 7.064236256520212e-05, 'l2_bias_1': 0.00022668107267391244, 'l2_bias_2': 0.00017523883941935608, 'l2_bias_3': 1.0468746412448022e-05, 'lr': 0.000768656222045359, 'batch_size': 1024}. Best is trial 44 with value: 0.8849686840471979.\u001b[0m\n",
      "C:\\Users\\User\\AppData\\Local\\Temp\\ipykernel_12316\\574535459.py:60: DeprecationWarning: KerasClassifier is deprecated, use Sci-Keras (https://github.com/adriangb/scikeras) instead. See https://www.adriangb.com/scikeras/stable/migration.html for help migrating.\n",
      "  ('classifier', KerasClassifier(build_fn=self.create_model, verbose=0))\n"
     ]
    },
    {
     "name": "stdout",
     "output_type": "stream",
     "text": [
      "195/195 [==============================] - 0s 1ms/step\n",
      "195/195 [==============================] - 0s 1ms/step\n",
      "195/195 [==============================] - 0s 1ms/step\n"
     ]
    },
    {
     "name": "stderr",
     "output_type": "stream",
     "text": [
      "\u001b[32m[I 2023-03-03 09:59:22,486]\u001b[0m Trial 71 finished with value: 0.8568321065780681 and parameters: {'units_1': 4, 'units_2': 33, 'units_3': 33, 'alpha_1': 0.09874620439375834, 'alpha_2': 0.0998539330657423, 'alpha_3': 0.09286484083819173, 'dropout_1': 0.22854781665984056, 'dropout_2': 0.4582589675451264, 'dropout_3': 0.4421139314559224, 'l2_kern_1': 0.0024800313404167626, 'l2_kern_2': 0.00014456767000581853, 'l2_kern_3': 0.00046043552058846213, 'l2_bias_1': 0.0004623508676860281, 'l2_bias_2': 0.0013553390379749293, 'l2_bias_3': 0.0012132139870674637, 'lr': 0.0023411431097406683, 'batch_size': 64}. Best is trial 44 with value: 0.8849686840471979.\u001b[0m\n",
      "C:\\Users\\User\\AppData\\Local\\Temp\\ipykernel_12316\\574535459.py:60: DeprecationWarning: KerasClassifier is deprecated, use Sci-Keras (https://github.com/adriangb/scikeras) instead. See https://www.adriangb.com/scikeras/stable/migration.html for help migrating.\n",
      "  ('classifier', KerasClassifier(build_fn=self.create_model, verbose=0))\n"
     ]
    },
    {
     "name": "stdout",
     "output_type": "stream",
     "text": [
      "195/195 [==============================] - 0s 1ms/step\n",
      "195/195 [==============================] - 0s 1ms/step\n",
      "195/195 [==============================] - 0s 1ms/step\n"
     ]
    },
    {
     "name": "stderr",
     "output_type": "stream",
     "text": [
      "\u001b[32m[I 2023-03-03 09:59:40,121]\u001b[0m Trial 72 finished with value: 0.866405856544563 and parameters: {'units_1': 28, 'units_2': 36, 'units_3': 27, 'alpha_1': 0.048495771349543436, 'alpha_2': 0.03359673369477606, 'alpha_3': 0.04949695927472726, 'dropout_1': 0.4281915196076286, 'dropout_2': 0.4377399224881602, 'dropout_3': 0.4828583179097801, 'l2_kern_1': 0.0009262930462897777, 'l2_kern_2': 0.005502641796932355, 'l2_kern_3': 9.92381766908048e-05, 'l2_bias_1': 2.976760900798577e-05, 'l2_bias_2': 0.0009325504954974809, 'l2_bias_3': 0.00039250206222417235, 'lr': 0.002833985133505912, 'batch_size': 1024}. Best is trial 44 with value: 0.8849686840471979.\u001b[0m\n",
      "C:\\Users\\User\\AppData\\Local\\Temp\\ipykernel_12316\\574535459.py:60: DeprecationWarning: KerasClassifier is deprecated, use Sci-Keras (https://github.com/adriangb/scikeras) instead. See https://www.adriangb.com/scikeras/stable/migration.html for help migrating.\n",
      "  ('classifier', KerasClassifier(build_fn=self.create_model, verbose=0))\n"
     ]
    },
    {
     "name": "stdout",
     "output_type": "stream",
     "text": [
      "195/195 [==============================] - 0s 1ms/step\n",
      "195/195 [==============================] - 0s 1ms/step\n",
      "195/195 [==============================] - 0s 1ms/step\n"
     ]
    },
    {
     "name": "stderr",
     "output_type": "stream",
     "text": [
      "\u001b[32m[I 2023-03-03 09:59:55,192]\u001b[0m Trial 73 finished with value: 0.8415104483980128 and parameters: {'units_1': 4, 'units_2': 18, 'units_3': 4, 'alpha_1': 0.07687265155516051, 'alpha_2': 0.03167681859706838, 'alpha_3': 0.027556893054944714, 'dropout_1': 0.2335532760147785, 'dropout_2': 0.2139981452189747, 'dropout_3': 0.2368400324200854, 'l2_kern_1': 0.00040412362937099444, 'l2_kern_2': 4.258149827196086e-05, 'l2_kern_3': 0.00025347430281708137, 'l2_bias_1': 0.001382777716028577, 'l2_bias_2': 0.008615781000774347, 'l2_bias_3': 0.004642261515903644, 'lr': 0.0008526467954468031, 'batch_size': 512}. Best is trial 44 with value: 0.8849686840471979.\u001b[0m\n",
      "C:\\Users\\User\\AppData\\Local\\Temp\\ipykernel_12316\\574535459.py:60: DeprecationWarning: KerasClassifier is deprecated, use Sci-Keras (https://github.com/adriangb/scikeras) instead. See https://www.adriangb.com/scikeras/stable/migration.html for help migrating.\n",
      "  ('classifier', KerasClassifier(build_fn=self.create_model, verbose=0))\n"
     ]
    },
    {
     "name": "stdout",
     "output_type": "stream",
     "text": [
      "195/195 [==============================] - 0s 1ms/step\n",
      "195/195 [==============================] - 0s 1ms/step\n",
      "195/195 [==============================] - 0s 1ms/step\n"
     ]
    },
    {
     "name": "stderr",
     "output_type": "stream",
     "text": [
      "\u001b[32m[I 2023-03-03 10:00:22,682]\u001b[0m Trial 74 finished with value: 0.8467508671866879 and parameters: {'units_1': 16, 'units_2': 40, 'units_3': 37, 'alpha_1': 0.042567129604536964, 'alpha_2': 0.07753118570406822, 'alpha_3': 0.036677496947557384, 'dropout_1': 0.23495321422485044, 'dropout_2': 0.4872936557257683, 'dropout_3': 0.2617650040875095, 'l2_kern_1': 0.002480558771116635, 'l2_kern_2': 0.0003662901787856615, 'l2_kern_3': 0.0021435303005970328, 'l2_bias_1': 4.171554647673466e-05, 'l2_bias_2': 3.641610116469315e-05, 'l2_bias_3': 2.5612618860588444e-05, 'lr': 0.00040808723036576445, 'batch_size': 512}. Best is trial 44 with value: 0.8849686840471979.\u001b[0m\n",
      "C:\\Users\\User\\AppData\\Local\\Temp\\ipykernel_12316\\574535459.py:60: DeprecationWarning: KerasClassifier is deprecated, use Sci-Keras (https://github.com/adriangb/scikeras) instead. See https://www.adriangb.com/scikeras/stable/migration.html for help migrating.\n",
      "  ('classifier', KerasClassifier(build_fn=self.create_model, verbose=0))\n"
     ]
    },
    {
     "name": "stdout",
     "output_type": "stream",
     "text": [
      "195/195 [==============================] - 0s 1ms/step\n",
      "195/195 [==============================] - 0s 1ms/step\n",
      "195/195 [==============================] - 0s 1ms/step\n"
     ]
    },
    {
     "name": "stderr",
     "output_type": "stream",
     "text": [
      "\u001b[32m[I 2023-03-03 10:00:50,901]\u001b[0m Trial 75 finished with value: 0.8344258324625317 and parameters: {'units_1': 32, 'units_2': 12, 'units_3': 39, 'alpha_1': 0.055636086962789294, 'alpha_2': 0.09018361793179543, 'alpha_3': 0.074563174005872, 'dropout_1': 0.23717932555583593, 'dropout_2': 0.32237897421682876, 'dropout_3': 0.3404147500759644, 'l2_kern_1': 1.4256599279643285e-05, 'l2_kern_2': 0.0006053559516591992, 'l2_kern_3': 9.887255780861139e-05, 'l2_bias_1': 0.00018592620202471336, 'l2_bias_2': 1.4518263374508193e-05, 'l2_bias_3': 7.272506461591165e-05, 'lr': 5.8745443560313805e-05, 'batch_size': 512}. Best is trial 44 with value: 0.8849686840471979.\u001b[0m\n",
      "C:\\Users\\User\\AppData\\Local\\Temp\\ipykernel_12316\\574535459.py:60: DeprecationWarning: KerasClassifier is deprecated, use Sci-Keras (https://github.com/adriangb/scikeras) instead. See https://www.adriangb.com/scikeras/stable/migration.html for help migrating.\n",
      "  ('classifier', KerasClassifier(build_fn=self.create_model, verbose=0))\n"
     ]
    },
    {
     "name": "stdout",
     "output_type": "stream",
     "text": [
      "195/195 [==============================] - 0s 1ms/step\n",
      "195/195 [==============================] - 0s 1ms/step\n",
      "195/195 [==============================] - 0s 1ms/step\n"
     ]
    },
    {
     "name": "stderr",
     "output_type": "stream",
     "text": [
      "\u001b[32m[I 2023-03-03 10:01:30,136]\u001b[0m Trial 76 finished with value: 0.8590808066061415 and parameters: {'units_1': 25, 'units_2': 30, 'units_3': 27, 'alpha_1': 0.06689420291789072, 'alpha_2': 0.014408345285850343, 'alpha_3': 0.016527315716590024, 'dropout_1': 0.2142317321230017, 'dropout_2': 0.4789948367186893, 'dropout_3': 0.49456574351664984, 'l2_kern_1': 0.00044944749691642864, 'l2_kern_2': 0.0004058231861894187, 'l2_kern_3': 0.0006790186453221639, 'l2_bias_1': 3.8491752349395526e-05, 'l2_bias_2': 0.008058648310624958, 'l2_bias_3': 0.007431074499899961, 'lr': 0.0002244924911593438, 'batch_size': 256}. Best is trial 44 with value: 0.8849686840471979.\u001b[0m\n",
      "C:\\Users\\User\\AppData\\Local\\Temp\\ipykernel_12316\\574535459.py:60: DeprecationWarning: KerasClassifier is deprecated, use Sci-Keras (https://github.com/adriangb/scikeras) instead. See https://www.adriangb.com/scikeras/stable/migration.html for help migrating.\n",
      "  ('classifier', KerasClassifier(build_fn=self.create_model, verbose=0))\n"
     ]
    },
    {
     "name": "stdout",
     "output_type": "stream",
     "text": [
      "195/195 [==============================] - 0s 1ms/step\n",
      "195/195 [==============================] - 0s 1ms/step\n",
      "195/195 [==============================] - 0s 1ms/step\n"
     ]
    },
    {
     "name": "stderr",
     "output_type": "stream",
     "text": [
      "\u001b[32m[I 2023-03-03 10:01:49,763]\u001b[0m Trial 77 finished with value: 0.8761858461822792 and parameters: {'units_1': 25, 'units_2': 28, 'units_3': 10, 'alpha_1': 0.03237091574023926, 'alpha_2': 0.05250390318958672, 'alpha_3': 0.07106611843147093, 'dropout_1': 0.3839153868972408, 'dropout_2': 0.20678828582875186, 'dropout_3': 0.41546054495106066, 'l2_kern_1': 0.0021121646399984233, 'l2_kern_2': 2.789598521215537e-05, 'l2_kern_3': 2.0824243200513675e-05, 'l2_bias_1': 1.59207161058848e-05, 'l2_bias_2': 2.174988417169653e-05, 'l2_bias_3': 0.0001537502875734215, 'lr': 0.007095021679173902, 'batch_size': 256}. Best is trial 44 with value: 0.8849686840471979.\u001b[0m\n",
      "C:\\Users\\User\\AppData\\Local\\Temp\\ipykernel_12316\\574535459.py:60: DeprecationWarning: KerasClassifier is deprecated, use Sci-Keras (https://github.com/adriangb/scikeras) instead. See https://www.adriangb.com/scikeras/stable/migration.html for help migrating.\n",
      "  ('classifier', KerasClassifier(build_fn=self.create_model, verbose=0))\n"
     ]
    },
    {
     "name": "stdout",
     "output_type": "stream",
     "text": [
      "195/195 [==============================] - 0s 1ms/step\n",
      "195/195 [==============================] - 0s 1ms/step\n",
      "195/195 [==============================] - 0s 1ms/step\n"
     ]
    },
    {
     "name": "stderr",
     "output_type": "stream",
     "text": [
      "\u001b[32m[I 2023-03-03 10:02:17,900]\u001b[0m Trial 78 finished with value: 0.8321209473651692 and parameters: {'units_1': 4, 'units_2': 4, 'units_3': 13, 'alpha_1': 0.018716069214591506, 'alpha_2': 0.07504756839630354, 'alpha_3': 0.0919251074134976, 'dropout_1': 0.284677752522566, 'dropout_2': 0.41792452253902623, 'dropout_3': 0.49197266246547466, 'l2_kern_1': 0.00016774828512827996, 'l2_kern_2': 0.0016236635035745055, 'l2_kern_3': 0.00730006856544141, 'l2_bias_1': 0.0005594695854427746, 'l2_bias_2': 3.184762442626898e-05, 'l2_bias_3': 4.106221704022936e-05, 'lr': 0.00010353001940019664, 'batch_size': 256}. Best is trial 44 with value: 0.8849686840471979.\u001b[0m\n",
      "C:\\Users\\User\\AppData\\Local\\Temp\\ipykernel_12316\\574535459.py:60: DeprecationWarning: KerasClassifier is deprecated, use Sci-Keras (https://github.com/adriangb/scikeras) instead. See https://www.adriangb.com/scikeras/stable/migration.html for help migrating.\n",
      "  ('classifier', KerasClassifier(build_fn=self.create_model, verbose=0))\n"
     ]
    },
    {
     "name": "stdout",
     "output_type": "stream",
     "text": [
      "195/195 [==============================] - 0s 1ms/step\n",
      "195/195 [==============================] - 0s 1ms/step\n",
      "195/195 [==============================] - 0s 1ms/step\n"
     ]
    },
    {
     "name": "stderr",
     "output_type": "stream",
     "text": [
      "\u001b[32m[I 2023-03-03 10:02:44,645]\u001b[0m Trial 79 finished with value: 0.837539360277412 and parameters: {'units_1': 22, 'units_2': 30, 'units_3': 35, 'alpha_1': 0.08888142979140093, 'alpha_2': 0.04465139029034939, 'alpha_3': 0.05717215839085003, 'dropout_1': 0.412858052530881, 'dropout_2': 0.42513554424055533, 'dropout_3': 0.4864858341160189, 'l2_kern_1': 2.8594960124069426e-05, 'l2_kern_2': 0.00021878963198016172, 'l2_kern_3': 4.163224095288294e-05, 'l2_bias_1': 1.7904564106432634e-05, 'l2_bias_2': 7.67628068005636e-05, 'l2_bias_3': 3.32684158971888e-05, 'lr': 9.753483322047004e-05, 'batch_size': 512}. Best is trial 44 with value: 0.8849686840471979.\u001b[0m\n",
      "C:\\Users\\User\\AppData\\Local\\Temp\\ipykernel_12316\\574535459.py:60: DeprecationWarning: KerasClassifier is deprecated, use Sci-Keras (https://github.com/adriangb/scikeras) instead. See https://www.adriangb.com/scikeras/stable/migration.html for help migrating.\n",
      "  ('classifier', KerasClassifier(build_fn=self.create_model, verbose=0))\n"
     ]
    },
    {
     "name": "stdout",
     "output_type": "stream",
     "text": [
      "195/195 [==============================] - 0s 1ms/step\n",
      "195/195 [==============================] - 0s 1ms/step\n",
      "195/195 [==============================] - 0s 1ms/step\n"
     ]
    },
    {
     "name": "stderr",
     "output_type": "stream",
     "text": [
      "\u001b[32m[I 2023-03-03 10:04:14,291]\u001b[0m Trial 80 finished with value: 0.843516830333716 and parameters: {'units_1': 13, 'units_2': 16, 'units_3': 13, 'alpha_1': 0.026342239423365964, 'alpha_2': 0.06917267216895284, 'alpha_3': 0.0946727023830983, 'dropout_1': 0.25344330863046, 'dropout_2': 0.2776380767700125, 'dropout_3': 0.46663383042356543, 'l2_kern_1': 7.933701779536359e-05, 'l2_kern_2': 0.001810518233912801, 'l2_kern_3': 1.7741832242485422e-05, 'l2_bias_1': 0.007272734046511237, 'l2_bias_2': 0.001512828039671061, 'l2_bias_3': 0.0006530285467394309, 'lr': 6.822270206432127e-05, 'batch_size': 32}. Best is trial 44 with value: 0.8849686840471979.\u001b[0m\n",
      "C:\\Users\\User\\AppData\\Local\\Temp\\ipykernel_12316\\574535459.py:60: DeprecationWarning: KerasClassifier is deprecated, use Sci-Keras (https://github.com/adriangb/scikeras) instead. See https://www.adriangb.com/scikeras/stable/migration.html for help migrating.\n",
      "  ('classifier', KerasClassifier(build_fn=self.create_model, verbose=0))\n"
     ]
    },
    {
     "name": "stdout",
     "output_type": "stream",
     "text": [
      "195/195 [==============================] - 0s 1ms/step\n",
      "195/195 [==============================] - 0s 1ms/step\n",
      "195/195 [==============================] - 0s 1ms/step\n"
     ]
    },
    {
     "name": "stderr",
     "output_type": "stream",
     "text": [
      "\u001b[32m[I 2023-03-03 10:04:59,855]\u001b[0m Trial 81 finished with value: 0.8543199809626003 and parameters: {'units_1': 5, 'units_2': 35, 'units_3': 27, 'alpha_1': 0.024044350677027808, 'alpha_2': 0.04063315571797499, 'alpha_3': 0.058097803505818515, 'dropout_1': 0.4406948058126711, 'dropout_2': 0.3055627533825306, 'dropout_3': 0.37253085181024337, 'l2_kern_1': 0.006745910203400231, 'l2_kern_2': 0.007469638451725666, 'l2_kern_3': 5.363669376755846e-05, 'l2_bias_1': 0.0025076700994356004, 'l2_bias_2': 0.00584542755970134, 'l2_bias_3': 1.4503805406202182e-05, 'lr': 0.0023523138770167942, 'batch_size': 32}. Best is trial 44 with value: 0.8849686840471979.\u001b[0m\n",
      "C:\\Users\\User\\AppData\\Local\\Temp\\ipykernel_12316\\574535459.py:60: DeprecationWarning: KerasClassifier is deprecated, use Sci-Keras (https://github.com/adriangb/scikeras) instead. See https://www.adriangb.com/scikeras/stable/migration.html for help migrating.\n",
      "  ('classifier', KerasClassifier(build_fn=self.create_model, verbose=0))\n"
     ]
    },
    {
     "name": "stdout",
     "output_type": "stream",
     "text": [
      "195/195 [==============================] - 0s 1ms/step\n",
      "195/195 [==============================] - 0s 1ms/step\n",
      "195/195 [==============================] - 0s 1ms/step\n"
     ]
    },
    {
     "name": "stderr",
     "output_type": "stream",
     "text": [
      "\u001b[32m[I 2023-03-03 10:08:04,022]\u001b[0m Trial 82 finished with value: 0.8400197691491628 and parameters: {'units_1': 3, 'units_2': 18, 'units_3': 39, 'alpha_1': 0.04760415864756441, 'alpha_2': 0.03716127965864917, 'alpha_3': 0.042792811798944654, 'dropout_1': 0.32568249663495874, 'dropout_2': 0.20045208736659892, 'dropout_3': 0.21467630104197286, 'l2_kern_1': 9.164733924526236e-05, 'l2_kern_2': 0.001497419082429815, 'l2_kern_3': 7.086212059051289e-05, 'l2_bias_1': 0.0006980751846581299, 'l2_bias_2': 0.0017447682662366114, 'l2_bias_3': 7.91910112640671e-05, 'lr': 5.655193274346384e-05, 'batch_size': 16}. Best is trial 44 with value: 0.8849686840471979.\u001b[0m\n",
      "C:\\Users\\User\\AppData\\Local\\Temp\\ipykernel_12316\\574535459.py:60: DeprecationWarning: KerasClassifier is deprecated, use Sci-Keras (https://github.com/adriangb/scikeras) instead. See https://www.adriangb.com/scikeras/stable/migration.html for help migrating.\n",
      "  ('classifier', KerasClassifier(build_fn=self.create_model, verbose=0))\n"
     ]
    },
    {
     "name": "stdout",
     "output_type": "stream",
     "text": [
      "195/195 [==============================] - 0s 1ms/step\n",
      "195/195 [==============================] - 0s 1ms/step\n",
      "195/195 [==============================] - 0s 1ms/step\n"
     ]
    },
    {
     "name": "stderr",
     "output_type": "stream",
     "text": [
      "\u001b[32m[I 2023-03-03 10:08:28,525]\u001b[0m Trial 83 finished with value: 0.8445685718750761 and parameters: {'units_1': 39, 'units_2': 2, 'units_3': 14, 'alpha_1': 0.022836808747382514, 'alpha_2': 0.07838076856165309, 'alpha_3': 0.04273542741127402, 'dropout_1': 0.4892985408659397, 'dropout_2': 0.288517822385961, 'dropout_3': 0.3305113069745431, 'l2_kern_1': 0.00017983719361694536, 'l2_kern_2': 4.4609802832389604e-05, 'l2_kern_3': 0.0025765584381634114, 'l2_bias_1': 0.004153586007427402, 'l2_bias_2': 0.0003453270223464348, 'l2_bias_3': 0.00125200763957281, 'lr': 0.0004376355219581641, 'batch_size': 256}. Best is trial 44 with value: 0.8849686840471979.\u001b[0m\n",
      "C:\\Users\\User\\AppData\\Local\\Temp\\ipykernel_12316\\574535459.py:60: DeprecationWarning: KerasClassifier is deprecated, use Sci-Keras (https://github.com/adriangb/scikeras) instead. See https://www.adriangb.com/scikeras/stable/migration.html for help migrating.\n",
      "  ('classifier', KerasClassifier(build_fn=self.create_model, verbose=0))\n"
     ]
    },
    {
     "name": "stdout",
     "output_type": "stream",
     "text": [
      "195/195 [==============================] - 0s 1ms/step\n",
      "195/195 [==============================] - 0s 1ms/step\n",
      "195/195 [==============================] - 0s 1ms/step\n"
     ]
    },
    {
     "name": "stderr",
     "output_type": "stream",
     "text": [
      "\u001b[32m[I 2023-03-03 10:10:52,006]\u001b[0m Trial 84 finished with value: 0.8751991925708998 and parameters: {'units_1': 20, 'units_2': 21, 'units_3': 33, 'alpha_1': 0.026758052109657676, 'alpha_2': 0.03180086209885204, 'alpha_3': 0.06735150434459435, 'dropout_1': 0.33747920777453905, 'dropout_2': 0.42077611241813173, 'dropout_3': 0.3926411520363269, 'l2_kern_1': 6.158615065327932e-05, 'l2_kern_2': 0.00034369207438990487, 'l2_kern_3': 0.00012884632688302044, 'l2_bias_1': 0.00018300764735119715, 'l2_bias_2': 0.009969481627224098, 'l2_bias_3': 3.927765918147695e-05, 'lr': 0.0013044131506237762, 'batch_size': 16}. Best is trial 44 with value: 0.8849686840471979.\u001b[0m\n",
      "C:\\Users\\User\\AppData\\Local\\Temp\\ipykernel_12316\\574535459.py:60: DeprecationWarning: KerasClassifier is deprecated, use Sci-Keras (https://github.com/adriangb/scikeras) instead. See https://www.adriangb.com/scikeras/stable/migration.html for help migrating.\n",
      "  ('classifier', KerasClassifier(build_fn=self.create_model, verbose=0))\n"
     ]
    },
    {
     "name": "stdout",
     "output_type": "stream",
     "text": [
      "195/195 [==============================] - 0s 1ms/step\n",
      "195/195 [==============================] - 0s 1ms/step\n",
      "195/195 [==============================] - 0s 1ms/step\n"
     ]
    },
    {
     "name": "stderr",
     "output_type": "stream",
     "text": [
      "\u001b[32m[I 2023-03-03 10:11:14,939]\u001b[0m Trial 85 finished with value: 0.8394624259291206 and parameters: {'units_1': 2, 'units_2': 28, 'units_3': 40, 'alpha_1': 0.012277384869265596, 'alpha_2': 0.08184226228381787, 'alpha_3': 0.034795063170596614, 'dropout_1': 0.36922792828711215, 'dropout_2': 0.4461620662349318, 'dropout_3': 0.45242570755798894, 'l2_kern_1': 0.00011519839970460849, 'l2_kern_2': 0.001090745190766954, 'l2_kern_3': 0.00809230006908469, 'l2_bias_1': 1.770305706418116e-05, 'l2_bias_2': 1.8001726705955424e-05, 'l2_bias_3': 0.0002871339759334773, 'lr': 0.003811701941686239, 'batch_size': 128}. Best is trial 44 with value: 0.8849686840471979.\u001b[0m\n",
      "C:\\Users\\User\\AppData\\Local\\Temp\\ipykernel_12316\\574535459.py:60: DeprecationWarning: KerasClassifier is deprecated, use Sci-Keras (https://github.com/adriangb/scikeras) instead. See https://www.adriangb.com/scikeras/stable/migration.html for help migrating.\n",
      "  ('classifier', KerasClassifier(build_fn=self.create_model, verbose=0))\n"
     ]
    },
    {
     "name": "stdout",
     "output_type": "stream",
     "text": [
      "195/195 [==============================] - 0s 1ms/step\n",
      "195/195 [==============================] - 0s 1ms/step\n",
      "195/195 [==============================] - 0s 1ms/step\n"
     ]
    },
    {
     "name": "stderr",
     "output_type": "stream",
     "text": [
      "\u001b[32m[I 2023-03-03 10:11:55,813]\u001b[0m Trial 86 finished with value: 0.8460666985990891 and parameters: {'units_1': 13, 'units_2': 27, 'units_3': 31, 'alpha_1': 0.0891158546567008, 'alpha_2': 0.022371674969624753, 'alpha_3': 0.021594133585184333, 'dropout_1': 0.41703193851647, 'dropout_2': 0.2722774300150525, 'dropout_3': 0.4361702763392158, 'l2_kern_1': 0.00019202771947439127, 'l2_kern_2': 0.0016298682764974701, 'l2_kern_3': 0.00029616529444399765, 'l2_bias_1': 0.009580116479611997, 'l2_bias_2': 0.001188634220159036, 'l2_bias_3': 0.000554452581235279, 'lr': 0.00016031197688164673, 'batch_size': 128}. Best is trial 44 with value: 0.8849686840471979.\u001b[0m\n",
      "C:\\Users\\User\\AppData\\Local\\Temp\\ipykernel_12316\\574535459.py:60: DeprecationWarning: KerasClassifier is deprecated, use Sci-Keras (https://github.com/adriangb/scikeras) instead. See https://www.adriangb.com/scikeras/stable/migration.html for help migrating.\n",
      "  ('classifier', KerasClassifier(build_fn=self.create_model, verbose=0))\n"
     ]
    },
    {
     "name": "stdout",
     "output_type": "stream",
     "text": [
      "195/195 [==============================] - 0s 1ms/step\n",
      "195/195 [==============================] - 0s 1ms/step\n",
      "195/195 [==============================] - 0s 1ms/step\n"
     ]
    },
    {
     "name": "stderr",
     "output_type": "stream",
     "text": [
      "\u001b[32m[I 2023-03-03 10:12:32,058]\u001b[0m Trial 87 finished with value: 0.8335582298289591 and parameters: {'units_1': 5, 'units_2': 39, 'units_3': 11, 'alpha_1': 0.03801682825199595, 'alpha_2': 0.07155284660815606, 'alpha_3': 0.0768929033541245, 'dropout_1': 0.29118849423184423, 'dropout_2': 0.37200015679101706, 'dropout_3': 0.36423502944871844, 'l2_kern_1': 3.354673172359402e-05, 'l2_kern_2': 0.002994488559797229, 'l2_kern_3': 0.006972155174801944, 'l2_bias_1': 0.0001971982455374405, 'l2_bias_2': 1.071431436803785e-05, 'l2_bias_3': 0.0013319572319840877, 'lr': 0.0001331767609120699, 'batch_size': 64}. Best is trial 44 with value: 0.8849686840471979.\u001b[0m\n",
      "C:\\Users\\User\\AppData\\Local\\Temp\\ipykernel_12316\\574535459.py:60: DeprecationWarning: KerasClassifier is deprecated, use Sci-Keras (https://github.com/adriangb/scikeras) instead. See https://www.adriangb.com/scikeras/stable/migration.html for help migrating.\n",
      "  ('classifier', KerasClassifier(build_fn=self.create_model, verbose=0))\n"
     ]
    },
    {
     "name": "stdout",
     "output_type": "stream",
     "text": [
      "195/195 [==============================] - 0s 1ms/step\n",
      "195/195 [==============================] - 1s 1ms/step\n",
      "195/195 [==============================] - 0s 1ms/step\n"
     ]
    },
    {
     "name": "stderr",
     "output_type": "stream",
     "text": [
      "\u001b[32m[I 2023-03-03 10:13:07,818]\u001b[0m Trial 88 finished with value: 0.8366132159874019 and parameters: {'units_1': 32, 'units_2': 12, 'units_3': 36, 'alpha_1': 0.061449037014346036, 'alpha_2': 0.04165749597399748, 'alpha_3': 0.02987052808906048, 'dropout_1': 0.49034645772724184, 'dropout_2': 0.38719981032344175, 'dropout_3': 0.20204588062906975, 'l2_kern_1': 0.00033285300536460354, 'l2_kern_2': 0.0009064108758549262, 'l2_kern_3': 1.8269707517737425e-05, 'l2_bias_1': 7.864518973702507e-05, 'l2_bias_2': 0.0009552417613666322, 'l2_bias_3': 0.00021667676442378543, 'lr': 6.033114263900119e-05, 'batch_size': 256}. Best is trial 44 with value: 0.8849686840471979.\u001b[0m\n",
      "C:\\Users\\User\\AppData\\Local\\Temp\\ipykernel_12316\\574535459.py:60: DeprecationWarning: KerasClassifier is deprecated, use Sci-Keras (https://github.com/adriangb/scikeras) instead. See https://www.adriangb.com/scikeras/stable/migration.html for help migrating.\n",
      "  ('classifier', KerasClassifier(build_fn=self.create_model, verbose=0))\n"
     ]
    },
    {
     "name": "stdout",
     "output_type": "stream",
     "text": [
      "195/195 [==============================] - 0s 1ms/step\n",
      "195/195 [==============================] - 0s 1ms/step\n",
      "195/195 [==============================] - 0s 1ms/step\n"
     ]
    },
    {
     "name": "stderr",
     "output_type": "stream",
     "text": [
      "\u001b[32m[I 2023-03-03 10:13:26,070]\u001b[0m Trial 89 finished with value: 0.8602727422412855 and parameters: {'units_1': 23, 'units_2': 40, 'units_3': 18, 'alpha_1': 0.04932532782801895, 'alpha_2': 0.07699210768091963, 'alpha_3': 0.05400066333686955, 'dropout_1': 0.38206706148762326, 'dropout_2': 0.3595229114749712, 'dropout_3': 0.34616380591146123, 'l2_kern_1': 7.613893616348467e-05, 'l2_kern_2': 1.0406435419453594e-05, 'l2_kern_3': 0.0007093014059492916, 'l2_bias_1': 0.004915343168424623, 'l2_bias_2': 0.002296242646453941, 'l2_bias_3': 1.9932796316688935e-05, 'lr': 0.0013378119651947958, 'batch_size': 1024}. Best is trial 44 with value: 0.8849686840471979.\u001b[0m\n",
      "C:\\Users\\User\\AppData\\Local\\Temp\\ipykernel_12316\\574535459.py:60: DeprecationWarning: KerasClassifier is deprecated, use Sci-Keras (https://github.com/adriangb/scikeras) instead. See https://www.adriangb.com/scikeras/stable/migration.html for help migrating.\n",
      "  ('classifier', KerasClassifier(build_fn=self.create_model, verbose=0))\n"
     ]
    },
    {
     "name": "stdout",
     "output_type": "stream",
     "text": [
      "195/195 [==============================] - 0s 1ms/step\n",
      "195/195 [==============================] - 0s 1ms/step\n",
      "195/195 [==============================] - 0s 1ms/step\n"
     ]
    },
    {
     "name": "stderr",
     "output_type": "stream",
     "text": [
      "\u001b[32m[I 2023-03-03 10:13:49,642]\u001b[0m Trial 90 finished with value: 0.8380428558674596 and parameters: {'units_1': 20, 'units_2': 4, 'units_3': 2, 'alpha_1': 0.06846464127025823, 'alpha_2': 0.09124418417798896, 'alpha_3': 0.09855153594284104, 'dropout_1': 0.39986955363984367, 'dropout_2': 0.21017631688988309, 'dropout_3': 0.38984714641808754, 'l2_kern_1': 0.00225927857952414, 'l2_kern_2': 0.0012136000125054665, 'l2_kern_3': 0.00026901479902224733, 'l2_bias_1': 0.0011154857388339502, 'l2_bias_2': 2.3372645606111824e-05, 'l2_bias_3': 0.0006449750422475027, 'lr': 0.00020892011567579248, 'batch_size': 512}. Best is trial 44 with value: 0.8849686840471979.\u001b[0m\n",
      "C:\\Users\\User\\AppData\\Local\\Temp\\ipykernel_12316\\574535459.py:60: DeprecationWarning: KerasClassifier is deprecated, use Sci-Keras (https://github.com/adriangb/scikeras) instead. See https://www.adriangb.com/scikeras/stable/migration.html for help migrating.\n",
      "  ('classifier', KerasClassifier(build_fn=self.create_model, verbose=0))\n"
     ]
    },
    {
     "name": "stdout",
     "output_type": "stream",
     "text": [
      "195/195 [==============================] - 0s 1ms/step\n",
      "195/195 [==============================] - 0s 1ms/step\n",
      "195/195 [==============================] - 0s 1ms/step\n"
     ]
    },
    {
     "name": "stderr",
     "output_type": "stream",
     "text": [
      "\u001b[32m[I 2023-03-03 10:15:06,022]\u001b[0m Trial 91 finished with value: 0.8529554899375144 and parameters: {'units_1': 31, 'units_2': 36, 'units_3': 39, 'alpha_1': 0.03907583758635165, 'alpha_2': 0.022924211166056425, 'alpha_3': 0.04846771728204953, 'dropout_1': 0.24541623054058617, 'dropout_2': 0.2866096570628969, 'dropout_3': 0.2561252386908316, 'l2_kern_1': 0.0011138260043411495, 'l2_kern_2': 0.00011400024866785266, 'l2_kern_3': 0.001456744154079139, 'l2_bias_1': 0.00330811106691989, 'l2_bias_2': 0.0010665722041555445, 'l2_bias_3': 3.534414928427275e-05, 'lr': 6.986603741415913e-05, 'batch_size': 64}. Best is trial 44 with value: 0.8849686840471979.\u001b[0m\n",
      "C:\\Users\\User\\AppData\\Local\\Temp\\ipykernel_12316\\574535459.py:60: DeprecationWarning: KerasClassifier is deprecated, use Sci-Keras (https://github.com/adriangb/scikeras) instead. See https://www.adriangb.com/scikeras/stable/migration.html for help migrating.\n",
      "  ('classifier', KerasClassifier(build_fn=self.create_model, verbose=0))\n"
     ]
    },
    {
     "name": "stdout",
     "output_type": "stream",
     "text": [
      "195/195 [==============================] - 0s 1ms/step\n",
      "195/195 [==============================] - 0s 1ms/step\n",
      "195/195 [==============================] - 0s 1ms/step\n"
     ]
    },
    {
     "name": "stderr",
     "output_type": "stream",
     "text": [
      "\u001b[32m[I 2023-03-03 10:15:28,960]\u001b[0m Trial 92 finished with value: 0.8333333152893464 and parameters: {'units_1': 40, 'units_2': 3, 'units_3': 11, 'alpha_1': 0.04742414399457024, 'alpha_2': 0.058852283028958695, 'alpha_3': 0.030560939390812288, 'dropout_1': 0.3847187604626743, 'dropout_2': 0.4369615255005775, 'dropout_3': 0.4896145933473227, 'l2_kern_1': 0.00020527844819837672, 'l2_kern_2': 8.348625868684929e-05, 'l2_kern_3': 0.00011483895840686434, 'l2_bias_1': 0.008077334123364149, 'l2_bias_2': 0.0040308479459637905, 'l2_bias_3': 1.5691797617799407e-05, 'lr': 0.0001465232542784567, 'batch_size': 1024}. Best is trial 44 with value: 0.8849686840471979.\u001b[0m\n",
      "C:\\Users\\User\\AppData\\Local\\Temp\\ipykernel_12316\\574535459.py:60: DeprecationWarning: KerasClassifier is deprecated, use Sci-Keras (https://github.com/adriangb/scikeras) instead. See https://www.adriangb.com/scikeras/stable/migration.html for help migrating.\n",
      "  ('classifier', KerasClassifier(build_fn=self.create_model, verbose=0))\n"
     ]
    },
    {
     "name": "stdout",
     "output_type": "stream",
     "text": [
      "195/195 [==============================] - 0s 1ms/step\n",
      "195/195 [==============================] - 0s 1ms/step\n",
      "195/195 [==============================] - 0s 1ms/step\n"
     ]
    },
    {
     "name": "stderr",
     "output_type": "stream",
     "text": [
      "\u001b[32m[I 2023-03-03 10:16:09,583]\u001b[0m Trial 93 finished with value: 0.8341763790559722 and parameters: {'units_1': 13, 'units_2': 28, 'units_3': 2, 'alpha_1': 0.07224151124817078, 'alpha_2': 0.06837916619587889, 'alpha_3': 0.09681528596273725, 'dropout_1': 0.41424348784427295, 'dropout_2': 0.20879459482932777, 'dropout_3': 0.4487860708055205, 'l2_kern_1': 0.0008318448490911869, 'l2_kern_2': 1.7704206571940555e-05, 'l2_kern_3': 5.2383164263929495e-05, 'l2_bias_1': 5.4533769110636684e-05, 'l2_bias_2': 0.0025164610137424566, 'l2_bias_3': 0.0002870559649831808, 'lr': 6.246716871057354e-05, 'batch_size': 128}. Best is trial 44 with value: 0.8849686840471979.\u001b[0m\n",
      "C:\\Users\\User\\AppData\\Local\\Temp\\ipykernel_12316\\574535459.py:60: DeprecationWarning: KerasClassifier is deprecated, use Sci-Keras (https://github.com/adriangb/scikeras) instead. See https://www.adriangb.com/scikeras/stable/migration.html for help migrating.\n",
      "  ('classifier', KerasClassifier(build_fn=self.create_model, verbose=0))\n"
     ]
    },
    {
     "name": "stdout",
     "output_type": "stream",
     "text": [
      "195/195 [==============================] - 0s 1ms/step\n",
      "195/195 [==============================] - 0s 1ms/step\n",
      "195/195 [==============================] - 0s 1ms/step\n"
     ]
    },
    {
     "name": "stderr",
     "output_type": "stream",
     "text": [
      "\u001b[32m[I 2023-03-03 10:16:48,563]\u001b[0m Trial 94 finished with value: 0.8435470901847005 and parameters: {'units_1': 5, 'units_2': 15, 'units_3': 7, 'alpha_1': 0.07372146946176412, 'alpha_2': 0.08932285858586128, 'alpha_3': 0.07369961554833357, 'dropout_1': 0.2814615095880433, 'dropout_2': 0.31939292585363827, 'dropout_3': 0.49930680077125644, 'l2_kern_1': 0.0013006125013565464, 'l2_kern_2': 0.00046878851560002333, 'l2_kern_3': 0.002115479520441532, 'l2_bias_1': 0.0002958261266239051, 'l2_bias_2': 0.001522703413962522, 'l2_bias_3': 0.0002631668608662181, 'lr': 0.0011387808445565057, 'batch_size': 64}. Best is trial 44 with value: 0.8849686840471979.\u001b[0m\n",
      "C:\\Users\\User\\AppData\\Local\\Temp\\ipykernel_12316\\574535459.py:60: DeprecationWarning: KerasClassifier is deprecated, use Sci-Keras (https://github.com/adriangb/scikeras) instead. See https://www.adriangb.com/scikeras/stable/migration.html for help migrating.\n",
      "  ('classifier', KerasClassifier(build_fn=self.create_model, verbose=0))\n"
     ]
    },
    {
     "name": "stdout",
     "output_type": "stream",
     "text": [
      "195/195 [==============================] - 0s 1ms/step\n",
      "195/195 [==============================] - 0s 1ms/step\n",
      "195/195 [==============================] - 0s 2ms/step\n"
     ]
    },
    {
     "name": "stderr",
     "output_type": "stream",
     "text": [
      "\u001b[32m[I 2023-03-03 10:17:28,557]\u001b[0m Trial 95 finished with value: 0.8713695433244419 and parameters: {'units_1': 24, 'units_2': 12, 'units_3': 24, 'alpha_1': 0.023815426875625115, 'alpha_2': 0.060270678900791456, 'alpha_3': 0.022704375891679587, 'dropout_1': 0.3396083845764182, 'dropout_2': 0.32222054365938796, 'dropout_3': 0.3565436317660841, 'l2_kern_1': 0.0005315753169154807, 'l2_kern_2': 4.312954402468418e-05, 'l2_kern_3': 1.717138165512549e-05, 'l2_bias_1': 0.0006622054272212147, 'l2_bias_2': 0.008465187740983057, 'l2_bias_3': 0.000520001281586616, 'lr': 0.005937306882131757, 'batch_size': 64}. Best is trial 44 with value: 0.8849686840471979.\u001b[0m\n",
      "C:\\Users\\User\\AppData\\Local\\Temp\\ipykernel_12316\\574535459.py:60: DeprecationWarning: KerasClassifier is deprecated, use Sci-Keras (https://github.com/adriangb/scikeras) instead. See https://www.adriangb.com/scikeras/stable/migration.html for help migrating.\n",
      "  ('classifier', KerasClassifier(build_fn=self.create_model, verbose=0))\n"
     ]
    },
    {
     "name": "stdout",
     "output_type": "stream",
     "text": [
      "195/195 [==============================] - 0s 1ms/step\n",
      "195/195 [==============================] - 0s 1ms/step\n",
      "195/195 [==============================] - 0s 1ms/step\n"
     ]
    },
    {
     "name": "stderr",
     "output_type": "stream",
     "text": [
      "\u001b[32m[I 2023-03-03 10:21:04,866]\u001b[0m Trial 96 finished with value: 0.8582717732044642 and parameters: {'units_1': 20, 'units_2': 22, 'units_3': 32, 'alpha_1': 0.03424376508046873, 'alpha_2': 0.05473329517220745, 'alpha_3': 0.08092366939138375, 'dropout_1': 0.2460663002659676, 'dropout_2': 0.2857098215396144, 'dropout_3': 0.432410769807831, 'l2_kern_1': 0.003827325167226326, 'l2_kern_2': 0.0003008245640750801, 'l2_kern_3': 0.00016613559121025264, 'l2_bias_1': 0.0002689686778548138, 'l2_bias_2': 0.0018241630026044127, 'l2_bias_3': 0.0004074661210921634, 'lr': 9.950943680990767e-05, 'batch_size': 16}. Best is trial 44 with value: 0.8849686840471979.\u001b[0m\n",
      "C:\\Users\\User\\AppData\\Local\\Temp\\ipykernel_12316\\574535459.py:60: DeprecationWarning: KerasClassifier is deprecated, use Sci-Keras (https://github.com/adriangb/scikeras) instead. See https://www.adriangb.com/scikeras/stable/migration.html for help migrating.\n",
      "  ('classifier', KerasClassifier(build_fn=self.create_model, verbose=0))\n"
     ]
    },
    {
     "name": "stdout",
     "output_type": "stream",
     "text": [
      "195/195 [==============================] - 0s 1ms/step\n",
      "195/195 [==============================] - 0s 1ms/step\n",
      "195/195 [==============================] - 0s 1ms/step\n"
     ]
    },
    {
     "name": "stderr",
     "output_type": "stream",
     "text": [
      "\u001b[32m[I 2023-03-03 10:22:13,821]\u001b[0m Trial 97 finished with value: 0.8493297303771055 and parameters: {'units_1': 11, 'units_2': 32, 'units_3': 16, 'alpha_1': 0.06623446077009926, 'alpha_2': 0.0619848200776704, 'alpha_3': 0.07175194076272358, 'dropout_1': 0.20185856046540107, 'dropout_2': 0.3592251927728072, 'dropout_3': 0.318324758875566, 'l2_kern_1': 0.0014261302994148177, 'l2_kern_2': 0.0008873661188922009, 'l2_kern_3': 0.00021982011431858614, 'l2_bias_1': 3.904997488605507e-05, 'l2_bias_2': 0.00017648924875521328, 'l2_bias_3': 0.003166007813702424, 'lr': 0.00014212557892563063, 'batch_size': 64}. Best is trial 44 with value: 0.8849686840471979.\u001b[0m\n",
      "C:\\Users\\User\\AppData\\Local\\Temp\\ipykernel_12316\\574535459.py:60: DeprecationWarning: KerasClassifier is deprecated, use Sci-Keras (https://github.com/adriangb/scikeras) instead. See https://www.adriangb.com/scikeras/stable/migration.html for help migrating.\n",
      "  ('classifier', KerasClassifier(build_fn=self.create_model, verbose=0))\n"
     ]
    },
    {
     "name": "stdout",
     "output_type": "stream",
     "text": [
      "195/195 [==============================] - 0s 1ms/step\n",
      "195/195 [==============================] - 0s 1ms/step\n",
      "195/195 [==============================] - 0s 1ms/step\n"
     ]
    },
    {
     "name": "stderr",
     "output_type": "stream",
     "text": [
      "\u001b[32m[I 2023-03-03 10:22:41,793]\u001b[0m Trial 98 finished with value: 0.8496166578116755 and parameters: {'units_1': 9, 'units_2': 37, 'units_3': 32, 'alpha_1': 0.0997651744122684, 'alpha_2': 0.09038995270790398, 'alpha_3': 0.06606511823862402, 'dropout_1': 0.26117708709573145, 'dropout_2': 0.23153197890523197, 'dropout_3': 0.4216581715938234, 'l2_kern_1': 0.001378897676439326, 'l2_kern_2': 0.00011650912956238811, 'l2_kern_3': 0.00012348864329818671, 'l2_bias_1': 1.1951530268768678e-05, 'l2_bias_2': 0.00021478756327336318, 'l2_bias_3': 0.00377918506932873, 'lr': 0.0009364023940183698, 'batch_size': 256}. Best is trial 44 with value: 0.8849686840471979.\u001b[0m\n",
      "C:\\Users\\User\\AppData\\Local\\Temp\\ipykernel_12316\\574535459.py:60: DeprecationWarning: KerasClassifier is deprecated, use Sci-Keras (https://github.com/adriangb/scikeras) instead. See https://www.adriangb.com/scikeras/stable/migration.html for help migrating.\n",
      "  ('classifier', KerasClassifier(build_fn=self.create_model, verbose=0))\n"
     ]
    },
    {
     "name": "stdout",
     "output_type": "stream",
     "text": [
      "195/195 [==============================] - 0s 1ms/step\n",
      "195/195 [==============================] - 0s 1ms/step\n",
      "195/195 [==============================] - 0s 1ms/step\n"
     ]
    },
    {
     "name": "stderr",
     "output_type": "stream",
     "text": [
      "\u001b[32m[I 2023-03-03 10:23:19,906]\u001b[0m Trial 99 finished with value: 0.8431011274011674 and parameters: {'units_1': 19, 'units_2': 38, 'units_3': 2, 'alpha_1': 0.053994939524965216, 'alpha_2': 0.017125698068268753, 'alpha_3': 0.028303390384643703, 'dropout_1': 0.42939645525653414, 'dropout_2': 0.4068765927116138, 'dropout_3': 0.42593207629058205, 'l2_kern_1': 0.0020229996220260905, 'l2_kern_2': 0.00037886208071732686, 'l2_kern_3': 0.005286631080960334, 'l2_bias_1': 0.00033182598842752294, 'l2_bias_2': 0.00023188364847679605, 'l2_bias_3': 0.0015965754401939187, 'lr': 0.0007349933933612031, 'batch_size': 256}. Best is trial 44 with value: 0.8849686840471979.\u001b[0m\n"
     ]
    },
    {
     "name": "stdout",
     "output_type": "stream",
     "text": [
      "Number of finished trials: 100\n",
      "Best trial:\n",
      "  Value: 0.8849686840471979\n",
      "    units_1: 39\n",
      "    units_2: 37\n",
      "    units_3: 36\n",
      "    alpha_1: 0.024722466594298814\n",
      "    alpha_2: 0.04285142661061093\n",
      "    alpha_3: 0.04115981531581119\n",
      "    dropout_1: 0.23498979624736352\n",
      "    dropout_2: 0.30606821307288007\n",
      "    dropout_3: 0.3098524407137488\n",
      "    l2_kern_1: 0.0004048176916977805\n",
      "    l2_kern_2: 2.301151671773877e-05\n",
      "    l2_kern_3: 0.005663263316663826\n",
      "    l2_bias_1: 7.017675888772672e-05\n",
      "    l2_bias_2: 0.0025186631786981812\n",
      "    l2_bias_3: 0.00012329617155930765\n",
      "    lr: 0.0012046149677703948\n",
      "    batch_size: 256\n"
     ]
    },
    {
     "name": "stderr",
     "output_type": "stream",
     "text": [
      "C:\\Users\\User\\AppData\\Local\\Temp\\ipykernel_12316\\574535459.py:169: DeprecationWarning: KerasClassifier is deprecated, use Sci-Keras (https://github.com/adriangb/scikeras) instead. See https://www.adriangb.com/scikeras/stable/migration.html for help migrating.\n",
      "  ('classifier', KerasClassifier(build_fn=tun.create_model, verbose=0))\n"
     ]
    },
    {
     "name": "stdout",
     "output_type": "stream",
     "text": [
      "117/117 [==============================] - 0s 1ms/step\n",
      "117/117 [==============================] - 0s 1ms/step\n",
      "117/117 [==============================] - 0s 1ms/step\n",
      "117/117 [==============================] - 0s 1ms/step\n",
      "117/117 [==============================] - 0s 1ms/step\n",
      "37/37 [==============================] - 0s 1ms/step\n",
      "37/37 [==============================] - 0s 2ms/step\n",
      "37/37 [==============================] - 0s 2ms/step\n",
      "37/37 [==============================] - 0s 1ms/step\n",
      "37/37 [==============================] - 0s 2ms/step\n",
      "Train mean AUC score is 0.8843782779513392 while test mean AUC score is 0.8840838629146512.\n",
      "183/183 [==============================] - 0s 1ms/step\n",
      "              precision    recall  f1-score   support\n",
      "\n",
      "          No       0.91      0.97      0.94      4648\n",
      "         Yes       0.85      0.65      0.73      1186\n",
      "\n",
      "    accuracy                           0.90      5834\n",
      "   macro avg       0.88      0.81      0.84      5834\n",
      "weighted avg       0.90      0.90      0.90      5834\n",
      "\n"
     ]
    }
   ],
   "source": [
    "# Random Sampler\n",
    "trials = 100\n",
    "params_rs = tun.Tuning(n_trials=trials, sampler = optuna.samplers.RandomSampler())\n",
    "rs_scores = tun.Best_MLP_model(params_rs)\n",
    "rs_scores = rs_scores.rename(columns={'Tree-structured Parzen Estimator': 'Random Sampler'})\n"
   ]
  },
  {
   "cell_type": "code",
   "execution_count": 8,
   "id": "f48ed9af",
   "metadata": {},
   "outputs": [
    {
     "name": "stderr",
     "output_type": "stream",
     "text": [
      "C:\\Users\\User\\AppData\\Local\\Temp\\ipykernel_12316\\574535459.py:169: DeprecationWarning: KerasClassifier is deprecated, use Sci-Keras (https://github.com/adriangb/scikeras) instead. See https://www.adriangb.com/scikeras/stable/migration.html for help migrating.\n",
      "  ('classifier', KerasClassifier(build_fn=tun.create_model, verbose=0))\n"
     ]
    },
    {
     "name": "stdout",
     "output_type": "stream",
     "text": [
      "117/117 [==============================] - 0s 1ms/step\n",
      "117/117 [==============================] - 0s 1ms/step\n",
      "117/117 [==============================] - 0s 1ms/step\n",
      "117/117 [==============================] - 0s 1ms/step\n",
      "117/117 [==============================] - 0s 1ms/step\n",
      "37/37 [==============================] - 0s 1ms/step\n",
      "37/37 [==============================] - 0s 1ms/step\n",
      "37/37 [==============================] - 0s 1ms/step\n",
      "37/37 [==============================] - 0s 1ms/step\n",
      "37/37 [==============================] - 0s 1ms/step\n",
      "Train mean AUC score is 0.8841618765912067 while test mean AUC score is 0.8859078263095519.\n",
      "183/183 [==============================] - 0s 1ms/step\n",
      "              precision    recall  f1-score   support\n",
      "\n",
      "          No       0.90      0.98      0.94      4648\n",
      "         Yes       0.90      0.59      0.72      1186\n",
      "\n",
      "    accuracy                           0.90      5834\n",
      "   macro avg       0.90      0.79      0.83      5834\n",
      "weighted avg       0.90      0.90      0.90      5834\n",
      "\n"
     ]
    }
   ],
   "source": [
    "rs_scores = tun.Best_MLP_model(params_rs)\n",
    "rs_scores = rs_scores.rename(columns={'Tree-structured Parzen Estimator': 'Random Sampler'})\n"
   ]
  },
  {
   "cell_type": "code",
   "execution_count": 9,
   "id": "857bef3c",
   "metadata": {},
   "outputs": [
    {
     "name": "stderr",
     "output_type": "stream",
     "text": [
      "\u001b[32m[I 2023-03-03 10:28:36,679]\u001b[0m A new study created in memory with name: no-name-8a02d247-6218-44d6-a9c8-40dc29540ccc\u001b[0m\n",
      "C:\\Users\\User\\AppData\\Local\\Temp\\ipykernel_12316\\574535459.py:60: DeprecationWarning: KerasClassifier is deprecated, use Sci-Keras (https://github.com/adriangb/scikeras) instead. See https://www.adriangb.com/scikeras/stable/migration.html for help migrating.\n",
      "  ('classifier', KerasClassifier(build_fn=self.create_model, verbose=0))\n"
     ]
    },
    {
     "name": "stdout",
     "output_type": "stream",
     "text": [
      "195/195 [==============================] - 0s 1ms/step\n",
      "195/195 [==============================] - 0s 1ms/step\n",
      "195/195 [==============================] - 0s 1ms/step\n"
     ]
    },
    {
     "name": "stderr",
     "output_type": "stream",
     "text": [
      "\u001b[32m[I 2023-03-03 10:30:49,232]\u001b[0m Trial 0 finished with value: 0.8662054127293111 and parameters: {'units_1': 22, 'units_2': 11, 'units_3': 14, 'alpha_1': 0.0768272732661319, 'alpha_2': 0.031320386561975125, 'alpha_3': 0.021596413670422157, 'dropout_1': 0.47096326798635774, 'dropout_2': 0.40017577068625376, 'dropout_3': 0.2999599844584318, 'l2_kern_1': 0.0007540243651316639, 'l2_kern_2': 1.2676803968501516e-05, 'l2_kern_3': 1.2970352764262903e-05, 'l2_bias_1': 1.225627552991124e-05, 'l2_bias_2': 4.684559016954587e-05, 'l2_bias_3': 0.00595871549597581, 'lr': 0.0005329892056112282, 'batch_size': 16}. Best is trial 0 with value: 0.8662054127293111.\u001b[0m\n",
      "C:\\Users\\User\\AppData\\Local\\Temp\\ipykernel_12316\\574535459.py:60: DeprecationWarning: KerasClassifier is deprecated, use Sci-Keras (https://github.com/adriangb/scikeras) instead. See https://www.adriangb.com/scikeras/stable/migration.html for help migrating.\n",
      "  ('classifier', KerasClassifier(build_fn=self.create_model, verbose=0))\n"
     ]
    },
    {
     "name": "stdout",
     "output_type": "stream",
     "text": [
      "195/195 [==============================] - 0s 1ms/step\n",
      "195/195 [==============================] - 0s 1ms/step\n",
      "195/195 [==============================] - 0s 1ms/step\n"
     ]
    },
    {
     "name": "stderr",
     "output_type": "stream",
     "text": [
      "\u001b[32m[I 2023-03-03 10:31:37,378]\u001b[0m Trial 1 finished with value: 0.8411050838632992 and parameters: {'units_1': 10, 'units_2': 3, 'units_3': 25, 'alpha_1': 0.01469681195800619, 'alpha_2': 0.04301311152882611, 'alpha_3': 0.06309375184716276, 'dropout_1': 0.3681390095416731, 'dropout_2': 0.2616548275660719, 'dropout_3': 0.34411806635932285, 'l2_kern_1': 3.394054530487117e-05, 'l2_kern_2': 0.00019371325208455365, 'l2_kern_3': 0.0004184122035401708, 'l2_bias_1': 1.8721002667293214e-05, 'l2_bias_2': 0.0004556313245183664, 'l2_bias_3': 0.00025975390762901745, 'lr': 0.00021044411343000652, 'batch_size': 32}. Best is trial 0 with value: 0.8662054127293111.\u001b[0m\n",
      "C:\\Users\\User\\AppData\\Local\\Temp\\ipykernel_12316\\574535459.py:60: DeprecationWarning: KerasClassifier is deprecated, use Sci-Keras (https://github.com/adriangb/scikeras) instead. See https://www.adriangb.com/scikeras/stable/migration.html for help migrating.\n",
      "  ('classifier', KerasClassifier(build_fn=self.create_model, verbose=0))\n"
     ]
    },
    {
     "name": "stdout",
     "output_type": "stream",
     "text": [
      "195/195 [==============================] - 0s 1ms/step\n",
      "195/195 [==============================] - 0s 1ms/step\n",
      "195/195 [==============================] - 0s 1ms/step\n"
     ]
    },
    {
     "name": "stderr",
     "output_type": "stream",
     "text": [
      "\u001b[32m[I 2023-03-03 10:33:22,858]\u001b[0m Trial 2 finished with value: 0.8826885757638991 and parameters: {'units_1': 30, 'units_2': 37, 'units_3': 38, 'alpha_1': 0.08857175205525422, 'alpha_2': 0.019045489205308408, 'alpha_3': 0.010814923286944755, 'dropout_1': 0.3162955303376794, 'dropout_2': 0.2697645749467302, 'dropout_3': 0.3706934609356416, 'l2_kern_1': 0.00020660412210072814, 'l2_kern_2': 1.4640668081306621e-05, 'l2_kern_3': 0.00015281747920915998, 'l2_bias_1': 1.6942643115496802e-05, 'l2_bias_2': 0.0011782000722295608, 'l2_bias_3': 2.0111285429102236e-05, 'lr': 0.0014663883734878425, 'batch_size': 16}. Best is trial 2 with value: 0.8826885757638991.\u001b[0m\n",
      "C:\\Users\\User\\AppData\\Local\\Temp\\ipykernel_12316\\574535459.py:60: DeprecationWarning: KerasClassifier is deprecated, use Sci-Keras (https://github.com/adriangb/scikeras) instead. See https://www.adriangb.com/scikeras/stable/migration.html for help migrating.\n",
      "  ('classifier', KerasClassifier(build_fn=self.create_model, verbose=0))\n"
     ]
    },
    {
     "name": "stdout",
     "output_type": "stream",
     "text": [
      "195/195 [==============================] - 0s 1ms/step\n",
      "195/195 [==============================] - 0s 1ms/step\n",
      "195/195 [==============================] - 0s 1ms/step\n"
     ]
    },
    {
     "name": "stderr",
     "output_type": "stream",
     "text": [
      "\u001b[32m[I 2023-03-03 10:33:56,521]\u001b[0m Trial 3 finished with value: 0.8504163384842247 and parameters: {'units_1': 9, 'units_2': 38, 'units_3': 36, 'alpha_1': 0.016281980934302418, 'alpha_2': 0.09528589605273872, 'alpha_3': 0.01900654477963591, 'dropout_1': 0.21597838619889254, 'dropout_2': 0.20169518289143648, 'dropout_3': 0.2985924145710483, 'l2_kern_1': 0.0034457318002490147, 'l2_kern_2': 0.003964431230839984, 'l2_kern_3': 0.0003570205184286759, 'l2_bias_1': 0.00021385733446246315, 'l2_bias_2': 0.0005339362665961363, 'l2_bias_3': 1.667363878408654e-05, 'lr': 0.00041326264191667266, 'batch_size': 256}. Best is trial 2 with value: 0.8826885757638991.\u001b[0m\n",
      "C:\\Users\\User\\AppData\\Local\\Temp\\ipykernel_12316\\574535459.py:60: DeprecationWarning: KerasClassifier is deprecated, use Sci-Keras (https://github.com/adriangb/scikeras) instead. See https://www.adriangb.com/scikeras/stable/migration.html for help migrating.\n",
      "  ('classifier', KerasClassifier(build_fn=self.create_model, verbose=0))\n"
     ]
    },
    {
     "name": "stdout",
     "output_type": "stream",
     "text": [
      "195/195 [==============================] - 0s 1ms/step\n",
      "195/195 [==============================] - 0s 1ms/step\n",
      "195/195 [==============================] - 0s 1ms/step\n"
     ]
    },
    {
     "name": "stderr",
     "output_type": "stream",
     "text": [
      "\u001b[32m[I 2023-03-03 10:35:31,189]\u001b[0m Trial 4 finished with value: 0.8614369292177194 and parameters: {'units_1': 20, 'units_2': 39, 'units_3': 14, 'alpha_1': 0.01396995731403227, 'alpha_2': 0.029678686805835422, 'alpha_3': 0.019968140777985924, 'dropout_1': 0.3633893426347754, 'dropout_2': 0.3179159704558573, 'dropout_3': 0.35859525595302344, 'l2_kern_1': 0.001280172186720632, 'l2_kern_2': 0.0002993789294181879, 'l2_kern_3': 0.00033140221046486755, 'l2_bias_1': 0.0033579258608376263, 'l2_bias_2': 0.0003370009348933032, 'l2_bias_3': 6.758559225971204e-05, 'lr': 0.003704965852196651, 'batch_size': 16}. Best is trial 2 with value: 0.8826885757638991.\u001b[0m\n",
      "C:\\Users\\User\\AppData\\Local\\Temp\\ipykernel_12316\\574535459.py:60: DeprecationWarning: KerasClassifier is deprecated, use Sci-Keras (https://github.com/adriangb/scikeras) instead. See https://www.adriangb.com/scikeras/stable/migration.html for help migrating.\n",
      "  ('classifier', KerasClassifier(build_fn=self.create_model, verbose=0))\n"
     ]
    },
    {
     "name": "stdout",
     "output_type": "stream",
     "text": [
      "195/195 [==============================] - 0s 1ms/step\n",
      "195/195 [==============================] - 0s 1ms/step\n",
      "195/195 [==============================] - 0s 1ms/step\n"
     ]
    },
    {
     "name": "stderr",
     "output_type": "stream",
     "text": [
      "\u001b[32m[I 2023-03-03 10:36:38,494]\u001b[0m Trial 5 finished with value: 0.8575271372424588 and parameters: {'units_1': 37, 'units_2': 4, 'units_3': 32, 'alpha_1': 0.06429887872599202, 'alpha_2': 0.05894108081544703, 'alpha_3': 0.02905551930613661, 'dropout_1': 0.3910759627966499, 'dropout_2': 0.3689120760791871, 'dropout_3': 0.44809888337930703, 'l2_kern_1': 0.00039486473741818156, 'l2_kern_2': 5.6477628671715694e-05, 'l2_kern_3': 3.497014959245997e-05, 'l2_bias_1': 0.005067310991488271, 'l2_bias_2': 0.0002831878341621944, 'l2_bias_3': 2.0092505960257588e-05, 'lr': 0.0057658800864350546, 'batch_size': 16}. Best is trial 2 with value: 0.8826885757638991.\u001b[0m\n",
      "C:\\Users\\User\\AppData\\Local\\Temp\\ipykernel_12316\\574535459.py:60: DeprecationWarning: KerasClassifier is deprecated, use Sci-Keras (https://github.com/adriangb/scikeras) instead. See https://www.adriangb.com/scikeras/stable/migration.html for help migrating.\n",
      "  ('classifier', KerasClassifier(build_fn=self.create_model, verbose=0))\n"
     ]
    },
    {
     "name": "stdout",
     "output_type": "stream",
     "text": [
      "195/195 [==============================] - 0s 1ms/step\n",
      "195/195 [==============================] - 0s 1ms/step\n",
      "195/195 [==============================] - 0s 1ms/step\n"
     ]
    },
    {
     "name": "stderr",
     "output_type": "stream",
     "text": [
      "\u001b[32m[I 2023-03-03 10:37:15,631]\u001b[0m Trial 6 finished with value: 0.8241064338418003 and parameters: {'units_1': 35, 'units_2': 2, 'units_3': 15, 'alpha_1': 0.08712573345373802, 'alpha_2': 0.018759884263108095, 'alpha_3': 0.03957952254063891, 'dropout_1': 0.4846253733866348, 'dropout_2': 0.3191534795608703, 'dropout_3': 0.22044100984234313, 'l2_kern_1': 3.674716016346103e-05, 'l2_kern_2': 0.0031936332266669187, 'l2_kern_3': 0.0029723341248607503, 'l2_bias_1': 0.00022962766783674236, 'l2_bias_2': 0.005519160969302502, 'l2_bias_3': 0.008581898247832164, 'lr': 6.47291514000927e-05, 'batch_size': 1024}. Best is trial 2 with value: 0.8826885757638991.\u001b[0m\n",
      "C:\\Users\\User\\AppData\\Local\\Temp\\ipykernel_12316\\574535459.py:60: DeprecationWarning: KerasClassifier is deprecated, use Sci-Keras (https://github.com/adriangb/scikeras) instead. See https://www.adriangb.com/scikeras/stable/migration.html for help migrating.\n",
      "  ('classifier', KerasClassifier(build_fn=self.create_model, verbose=0))\n"
     ]
    },
    {
     "name": "stdout",
     "output_type": "stream",
     "text": [
      "195/195 [==============================] - 0s 1ms/step\n",
      "195/195 [==============================] - 0s 1ms/step\n",
      "195/195 [==============================] - 0s 1ms/step\n"
     ]
    },
    {
     "name": "stderr",
     "output_type": "stream",
     "text": [
      "\u001b[32m[I 2023-03-03 10:37:45,474]\u001b[0m Trial 7 finished with value: 0.8611574968732095 and parameters: {'units_1': 38, 'units_2': 22, 'units_3': 31, 'alpha_1': 0.07723196512342013, 'alpha_2': 0.09910662025381128, 'alpha_3': 0.09961195721856334, 'dropout_1': 0.37391422830513643, 'dropout_2': 0.23056939374120217, 'dropout_3': 0.4677431939707386, 'l2_kern_1': 0.0023896968988622058, 'l2_kern_2': 0.007292113444420514, 'l2_kern_3': 0.0002791156185596066, 'l2_bias_1': 0.0012781477246902781, 'l2_bias_2': 0.0005929733064614509, 'l2_bias_3': 0.00010328568858579106, 'lr': 0.0005029499238221786, 'batch_size': 512}. Best is trial 2 with value: 0.8826885757638991.\u001b[0m\n",
      "C:\\Users\\User\\AppData\\Local\\Temp\\ipykernel_12316\\574535459.py:60: DeprecationWarning: KerasClassifier is deprecated, use Sci-Keras (https://github.com/adriangb/scikeras) instead. See https://www.adriangb.com/scikeras/stable/migration.html for help migrating.\n",
      "  ('classifier', KerasClassifier(build_fn=self.create_model, verbose=0))\n"
     ]
    },
    {
     "name": "stdout",
     "output_type": "stream",
     "text": [
      "195/195 [==============================] - 0s 1ms/step\n",
      "195/195 [==============================] - 0s 1ms/step\n",
      "195/195 [==============================] - 0s 1ms/step\n"
     ]
    },
    {
     "name": "stderr",
     "output_type": "stream",
     "text": [
      "\u001b[32m[I 2023-03-03 10:38:23,322]\u001b[0m Trial 8 finished with value: 0.8355826215529242 and parameters: {'units_1': 29, 'units_2': 13, 'units_3': 39, 'alpha_1': 0.0945264344220453, 'alpha_2': 0.07062442628316146, 'alpha_3': 0.024758658122243163, 'dropout_1': 0.4994375880430428, 'dropout_2': 0.4624734909350812, 'dropout_3': 0.33732340902428903, 'l2_kern_1': 5.153687063153529e-05, 'l2_kern_2': 7.883061794090244e-05, 'l2_kern_3': 0.00097346310618396, 'l2_bias_1': 3.44029531714821e-05, 'l2_bias_2': 1.601933326825955e-05, 'l2_bias_3': 0.0005044604511457623, 'lr': 5.167119858282109e-05, 'batch_size': 512}. Best is trial 2 with value: 0.8826885757638991.\u001b[0m\n",
      "C:\\Users\\User\\AppData\\Local\\Temp\\ipykernel_12316\\574535459.py:60: DeprecationWarning: KerasClassifier is deprecated, use Sci-Keras (https://github.com/adriangb/scikeras) instead. See https://www.adriangb.com/scikeras/stable/migration.html for help migrating.\n",
      "  ('classifier', KerasClassifier(build_fn=self.create_model, verbose=0))\n"
     ]
    },
    {
     "name": "stdout",
     "output_type": "stream",
     "text": [
      "195/195 [==============================] - 0s 1ms/step\n",
      "195/195 [==============================] - 0s 1ms/step\n",
      "195/195 [==============================] - 0s 1ms/step\n"
     ]
    },
    {
     "name": "stderr",
     "output_type": "stream",
     "text": [
      "\u001b[32m[I 2023-03-03 10:38:46,632]\u001b[0m Trial 9 finished with value: 0.8679261714710474 and parameters: {'units_1': 36, 'units_2': 16, 'units_3': 35, 'alpha_1': 0.056227181920829185, 'alpha_2': 0.07264051870294866, 'alpha_3': 0.04067212460613965, 'dropout_1': 0.46153016935120045, 'dropout_2': 0.21733351227206638, 'dropout_3': 0.4679071900665008, 'l2_kern_1': 0.0001801917191429319, 'l2_kern_2': 0.0004127297488690945, 'l2_kern_3': 0.00038066345878365516, 'l2_bias_1': 0.007223074653415773, 'l2_bias_2': 0.0003460562868967228, 'l2_bias_3': 0.0004674187944975325, 'lr': 0.008253386641794182, 'batch_size': 128}. Best is trial 2 with value: 0.8826885757638991.\u001b[0m\n",
      "C:\\Users\\User\\AppData\\Local\\Temp\\ipykernel_12316\\574535459.py:60: DeprecationWarning: KerasClassifier is deprecated, use Sci-Keras (https://github.com/adriangb/scikeras) instead. See https://www.adriangb.com/scikeras/stable/migration.html for help migrating.\n",
      "  ('classifier', KerasClassifier(build_fn=self.create_model, verbose=0))\n"
     ]
    },
    {
     "name": "stdout",
     "output_type": "stream",
     "text": [
      "195/195 [==============================] - 1s 1ms/step\n",
      "195/195 [==============================] - 0s 1ms/step\n",
      "195/195 [==============================] - 0s 1ms/step\n"
     ]
    },
    {
     "name": "stderr",
     "output_type": "stream",
     "text": [
      "\u001b[32m[I 2023-03-03 10:40:04,381]\u001b[0m Trial 10 finished with value: 0.8501075230778973 and parameters: {'units_1': 40, 'units_2': 8, 'units_3': 7, 'alpha_1': 0.015578802538743573, 'alpha_2': 0.021746705987673115, 'alpha_3': 0.05876134638359922, 'dropout_1': 0.32869191264812814, 'dropout_2': 0.20712279542758494, 'dropout_3': 0.37320509788860057, 'l2_kern_1': 0.0016610768720002425, 'l2_kern_2': 0.008005925468591406, 'l2_kern_3': 0.0001780379976846532, 'l2_bias_1': 6.424590505152501e-05, 'l2_bias_2': 0.00024180438755878604, 'l2_bias_3': 0.0005592476677645127, 'lr': 0.0001344324926067075, 'batch_size': 64}. Best is trial 2 with value: 0.8826885757638991.\u001b[0m\n",
      "C:\\Users\\User\\AppData\\Local\\Temp\\ipykernel_12316\\574535459.py:60: DeprecationWarning: KerasClassifier is deprecated, use Sci-Keras (https://github.com/adriangb/scikeras) instead. See https://www.adriangb.com/scikeras/stable/migration.html for help migrating.\n",
      "  ('classifier', KerasClassifier(build_fn=self.create_model, verbose=0))\n"
     ]
    },
    {
     "name": "stdout",
     "output_type": "stream",
     "text": [
      "195/195 [==============================] - 0s 1ms/step\n",
      "195/195 [==============================] - 0s 1ms/step\n",
      "195/195 [==============================] - 0s 1ms/step\n"
     ]
    },
    {
     "name": "stderr",
     "output_type": "stream",
     "text": [
      "\u001b[32m[I 2023-03-03 10:41:45,275]\u001b[0m Trial 11 finished with value: 0.8584814213635873 and parameters: {'units_1': 6, 'units_2': 25, 'units_3': 16, 'alpha_1': 0.09230900479582106, 'alpha_2': 0.0864768265768329, 'alpha_3': 0.041863572252077076, 'dropout_1': 0.31084142661427067, 'dropout_2': 0.49987624568074995, 'dropout_3': 0.47012312859021355, 'l2_kern_1': 1.4840729524321622e-05, 'l2_kern_2': 0.0008002765585523982, 'l2_kern_3': 0.0005908075587993069, 'l2_bias_1': 5.911793981491918e-05, 'l2_bias_2': 0.0010140792868179565, 'l2_bias_3': 1.608577972361083e-05, 'lr': 0.008672020168544155, 'batch_size': 16}. Best is trial 2 with value: 0.8826885757638991.\u001b[0m\n",
      "C:\\Users\\User\\AppData\\Local\\Temp\\ipykernel_12316\\574535459.py:60: DeprecationWarning: KerasClassifier is deprecated, use Sci-Keras (https://github.com/adriangb/scikeras) instead. See https://www.adriangb.com/scikeras/stable/migration.html for help migrating.\n",
      "  ('classifier', KerasClassifier(build_fn=self.create_model, verbose=0))\n"
     ]
    },
    {
     "name": "stdout",
     "output_type": "stream",
     "text": [
      "195/195 [==============================] - 0s 1ms/step\n",
      "195/195 [==============================] - 0s 2ms/step\n",
      "195/195 [==============================] - 0s 1ms/step\n"
     ]
    },
    {
     "name": "stderr",
     "output_type": "stream",
     "text": [
      "\u001b[32m[I 2023-03-03 10:42:06,254]\u001b[0m Trial 12 finished with value: 0.8674714106942286 and parameters: {'units_1': 32, 'units_2': 31, 'units_3': 8, 'alpha_1': 0.024876381463549573, 'alpha_2': 0.08785704462057047, 'alpha_3': 0.010497053777604569, 'dropout_1': 0.22647542052090322, 'dropout_2': 0.46762689672668345, 'dropout_3': 0.3671623312751083, 'l2_kern_1': 0.0001371005504880391, 'l2_kern_2': 0.0008226818159453855, 'l2_kern_3': 7.391908643519172e-05, 'l2_bias_1': 9.619659794933859e-05, 'l2_bias_2': 2.39993629222656e-05, 'l2_bias_3': 0.0008813154858675748, 'lr': 0.001897135949973436, 'batch_size': 1024}. Best is trial 2 with value: 0.8826885757638991.\u001b[0m\n",
      "C:\\Users\\User\\AppData\\Local\\Temp\\ipykernel_12316\\574535459.py:60: DeprecationWarning: KerasClassifier is deprecated, use Sci-Keras (https://github.com/adriangb/scikeras) instead. See https://www.adriangb.com/scikeras/stable/migration.html for help migrating.\n",
      "  ('classifier', KerasClassifier(build_fn=self.create_model, verbose=0))\n"
     ]
    },
    {
     "name": "stdout",
     "output_type": "stream",
     "text": [
      "195/195 [==============================] - 0s 1ms/step\n",
      "195/195 [==============================] - 0s 1ms/step\n",
      "195/195 [==============================] - 0s 1ms/step\n"
     ]
    },
    {
     "name": "stderr",
     "output_type": "stream",
     "text": [
      "\u001b[32m[I 2023-03-03 10:42:39,507]\u001b[0m Trial 13 finished with value: 0.8312847112309134 and parameters: {'units_1': 35, 'units_2': 35, 'units_3': 18, 'alpha_1': 0.010538330944379039, 'alpha_2': 0.03878433406439865, 'alpha_3': 0.07109225986309414, 'dropout_1': 0.3312483567216379, 'dropout_2': 0.44697745316647314, 'dropout_3': 0.44276817017720316, 'l2_kern_1': 1.0260600576052067e-05, 'l2_kern_2': 0.0009914185433176315, 'l2_kern_3': 0.00016605634428895302, 'l2_bias_1': 0.00497966972395942, 'l2_bias_2': 0.00918705844614498, 'l2_bias_3': 0.004067022672967246, 'lr': 6.886525173163612e-05, 'batch_size': 512}. Best is trial 2 with value: 0.8826885757638991.\u001b[0m\n",
      "C:\\Users\\User\\AppData\\Local\\Temp\\ipykernel_12316\\574535459.py:60: DeprecationWarning: KerasClassifier is deprecated, use Sci-Keras (https://github.com/adriangb/scikeras) instead. See https://www.adriangb.com/scikeras/stable/migration.html for help migrating.\n",
      "  ('classifier', KerasClassifier(build_fn=self.create_model, verbose=0))\n"
     ]
    },
    {
     "name": "stdout",
     "output_type": "stream",
     "text": [
      "195/195 [==============================] - 0s 1ms/step\n",
      "195/195 [==============================] - 0s 1ms/step\n",
      "195/195 [==============================] - 0s 1ms/step\n"
     ]
    },
    {
     "name": "stderr",
     "output_type": "stream",
     "text": [
      "\u001b[32m[I 2023-03-03 10:45:52,251]\u001b[0m Trial 14 finished with value: 0.8793264773179844 and parameters: {'units_1': 27, 'units_2': 18, 'units_3': 11, 'alpha_1': 0.060144885322539324, 'alpha_2': 0.029324042333115724, 'alpha_3': 0.02719074830216671, 'dropout_1': 0.2092895914923409, 'dropout_2': 0.22934840419974306, 'dropout_3': 0.21036163945861033, 'l2_kern_1': 0.0001985529028207973, 'l2_kern_2': 0.0005680261972736098, 'l2_kern_3': 4.059164113371854e-05, 'l2_bias_1': 0.0007533250817278014, 'l2_bias_2': 0.00015717646850370927, 'l2_bias_3': 0.00017963231517383908, 'lr': 0.0005750331813732538, 'batch_size': 16}. Best is trial 2 with value: 0.8826885757638991.\u001b[0m\n",
      "C:\\Users\\User\\AppData\\Local\\Temp\\ipykernel_12316\\574535459.py:60: DeprecationWarning: KerasClassifier is deprecated, use Sci-Keras (https://github.com/adriangb/scikeras) instead. See https://www.adriangb.com/scikeras/stable/migration.html for help migrating.\n",
      "  ('classifier', KerasClassifier(build_fn=self.create_model, verbose=0))\n"
     ]
    },
    {
     "name": "stdout",
     "output_type": "stream",
     "text": [
      "195/195 [==============================] - 0s 1ms/step\n",
      "195/195 [==============================] - 0s 1ms/step\n",
      "195/195 [==============================] - 0s 1ms/step\n"
     ]
    },
    {
     "name": "stderr",
     "output_type": "stream",
     "text": [
      "\u001b[32m[I 2023-03-03 10:49:45,606]\u001b[0m Trial 15 finished with value: 0.8642448664688437 and parameters: {'units_1': 35, 'units_2': 38, 'units_3': 4, 'alpha_1': 0.08707621128116437, 'alpha_2': 0.05176647185894209, 'alpha_3': 0.047520075571331886, 'dropout_1': 0.36580922140822375, 'dropout_2': 0.43414277911605487, 'dropout_3': 0.43531160834520755, 'l2_kern_1': 0.0010448307259570409, 'l2_kern_2': 0.00016396341741103517, 'l2_kern_3': 1.36753200330669e-05, 'l2_bias_1': 5.546247470266844e-05, 'l2_bias_2': 5.253217574018375e-05, 'l2_bias_3': 0.00018188605089492459, 'lr': 0.0002859160058598711, 'batch_size': 16}. Best is trial 2 with value: 0.8826885757638991.\u001b[0m\n",
      "C:\\Users\\User\\AppData\\Local\\Temp\\ipykernel_12316\\574535459.py:60: DeprecationWarning: KerasClassifier is deprecated, use Sci-Keras (https://github.com/adriangb/scikeras) instead. See https://www.adriangb.com/scikeras/stable/migration.html for help migrating.\n",
      "  ('classifier', KerasClassifier(build_fn=self.create_model, verbose=0))\n"
     ]
    },
    {
     "name": "stdout",
     "output_type": "stream",
     "text": [
      "195/195 [==============================] - 0s 1ms/step\n",
      "195/195 [==============================] - 0s 1ms/step\n",
      "195/195 [==============================] - 0s 1ms/step\n"
     ]
    },
    {
     "name": "stderr",
     "output_type": "stream",
     "text": [
      "\u001b[32m[I 2023-03-03 10:50:36,885]\u001b[0m Trial 16 finished with value: 0.8623298214966922 and parameters: {'units_1': 10, 'units_2': 36, 'units_3': 40, 'alpha_1': 0.05293427917261084, 'alpha_2': 0.07962240685332497, 'alpha_3': 0.08289901475371987, 'dropout_1': 0.356666765314545, 'dropout_2': 0.40726770121666267, 'dropout_3': 0.35601673108490983, 'l2_kern_1': 0.0031114331707799456, 'l2_kern_2': 0.0001037036965086217, 'l2_kern_3': 7.216423294458938e-05, 'l2_bias_1': 0.000553824630080174, 'l2_bias_2': 3.005648838880677e-05, 'l2_bias_3': 4.7138271043288076e-05, 'lr': 0.00070714537683722, 'batch_size': 64}. Best is trial 2 with value: 0.8826885757638991.\u001b[0m\n",
      "C:\\Users\\User\\AppData\\Local\\Temp\\ipykernel_12316\\574535459.py:60: DeprecationWarning: KerasClassifier is deprecated, use Sci-Keras (https://github.com/adriangb/scikeras) instead. See https://www.adriangb.com/scikeras/stable/migration.html for help migrating.\n",
      "  ('classifier', KerasClassifier(build_fn=self.create_model, verbose=0))\n"
     ]
    },
    {
     "name": "stdout",
     "output_type": "stream",
     "text": [
      "195/195 [==============================] - 0s 1ms/step\n",
      "195/195 [==============================] - 0s 1ms/step\n",
      "195/195 [==============================] - 0s 1ms/step\n"
     ]
    },
    {
     "name": "stderr",
     "output_type": "stream",
     "text": [
      "\u001b[32m[I 2023-03-03 10:51:32,089]\u001b[0m Trial 17 finished with value: 0.8471080486296079 and parameters: {'units_1': 10, 'units_2': 17, 'units_3': 32, 'alpha_1': 0.02869791651684278, 'alpha_2': 0.038756056070851634, 'alpha_3': 0.09510128829090603, 'dropout_1': 0.47118654602556287, 'dropout_2': 0.3975177062405304, 'dropout_3': 0.3883243149329284, 'l2_kern_1': 0.0004817973903237268, 'l2_kern_2': 0.005680404417204063, 'l2_kern_3': 0.0011339019982819106, 'l2_bias_1': 0.0005943569258683532, 'l2_bias_2': 6.28121885460464e-05, 'l2_bias_3': 9.839566510465342e-05, 'lr': 0.0004994124140763166, 'batch_size': 64}. Best is trial 2 with value: 0.8826885757638991.\u001b[0m\n",
      "C:\\Users\\User\\AppData\\Local\\Temp\\ipykernel_12316\\574535459.py:60: DeprecationWarning: KerasClassifier is deprecated, use Sci-Keras (https://github.com/adriangb/scikeras) instead. See https://www.adriangb.com/scikeras/stable/migration.html for help migrating.\n",
      "  ('classifier', KerasClassifier(build_fn=self.create_model, verbose=0))\n"
     ]
    },
    {
     "name": "stdout",
     "output_type": "stream",
     "text": [
      "195/195 [==============================] - 0s 1ms/step\n",
      "195/195 [==============================] - 0s 1ms/step\n",
      "195/195 [==============================] - 0s 1ms/step\n"
     ]
    },
    {
     "name": "stderr",
     "output_type": "stream",
     "text": [
      "\u001b[32m[I 2023-03-03 10:51:46,872]\u001b[0m Trial 18 finished with value: 0.8729637681620811 and parameters: {'units_1': 28, 'units_2': 6, 'units_3': 20, 'alpha_1': 0.048955416743234594, 'alpha_2': 0.05807308106686646, 'alpha_3': 0.06539295785268749, 'dropout_1': 0.22726620333292402, 'dropout_2': 0.49455824318978464, 'dropout_3': 0.3957690328229013, 'l2_kern_1': 0.0005338837274223943, 'l2_kern_2': 0.0010183920083200455, 'l2_kern_3': 0.000337538702110527, 'l2_bias_1': 0.002196164723556139, 'l2_bias_2': 3.051011070664116e-05, 'l2_bias_3': 5.172222462709109e-05, 'lr': 0.004817205446950504, 'batch_size': 1024}. Best is trial 2 with value: 0.8826885757638991.\u001b[0m\n",
      "C:\\Users\\User\\AppData\\Local\\Temp\\ipykernel_12316\\574535459.py:60: DeprecationWarning: KerasClassifier is deprecated, use Sci-Keras (https://github.com/adriangb/scikeras) instead. See https://www.adriangb.com/scikeras/stable/migration.html for help migrating.\n",
      "  ('classifier', KerasClassifier(build_fn=self.create_model, verbose=0))\n"
     ]
    },
    {
     "name": "stdout",
     "output_type": "stream",
     "text": [
      "195/195 [==============================] - 0s 1ms/step\n",
      "195/195 [==============================] - 0s 1ms/step\n",
      "195/195 [==============================] - 0s 1ms/step\n"
     ]
    },
    {
     "name": "stderr",
     "output_type": "stream",
     "text": [
      "\u001b[32m[I 2023-03-03 10:52:11,672]\u001b[0m Trial 19 finished with value: 0.8467909505662616 and parameters: {'units_1': 6, 'units_2': 27, 'units_3': 27, 'alpha_1': 0.07910149742003317, 'alpha_2': 0.035275914458603425, 'alpha_3': 0.051447456748284694, 'dropout_1': 0.4450321194566018, 'dropout_2': 0.39982152741473015, 'dropout_3': 0.28386769650035065, 'l2_kern_1': 2.1020390988283774e-05, 'l2_kern_2': 2.5817881023635113e-05, 'l2_kern_3': 0.0004701201009533488, 'l2_bias_1': 3.599562589220033e-05, 'l2_bias_2': 0.0002705705392744293, 'l2_bias_3': 1.3044482897825906e-05, 'lr': 0.002172051644441331, 'batch_size': 256}. Best is trial 2 with value: 0.8826885757638991.\u001b[0m\n",
      "C:\\Users\\User\\AppData\\Local\\Temp\\ipykernel_12316\\574535459.py:60: DeprecationWarning: KerasClassifier is deprecated, use Sci-Keras (https://github.com/adriangb/scikeras) instead. See https://www.adriangb.com/scikeras/stable/migration.html for help migrating.\n",
      "  ('classifier', KerasClassifier(build_fn=self.create_model, verbose=0))\n"
     ]
    },
    {
     "name": "stdout",
     "output_type": "stream",
     "text": [
      "195/195 [==============================] - 0s 1ms/step\n",
      "195/195 [==============================] - 0s 1ms/step\n",
      "195/195 [==============================] - 0s 1ms/step\n"
     ]
    },
    {
     "name": "stderr",
     "output_type": "stream",
     "text": [
      "\u001b[32m[I 2023-03-03 10:52:46,924]\u001b[0m Trial 20 finished with value: 0.8779756821459946 and parameters: {'units_1': 32, 'units_2': 26, 'units_3': 8, 'alpha_1': 0.08904255490659725, 'alpha_2': 0.08348537263099083, 'alpha_3': 0.06314116754477093, 'dropout_1': 0.3335844436420102, 'dropout_2': 0.20614287534302247, 'dropout_3': 0.2830647145919707, 'l2_kern_1': 7.517848280899311e-05, 'l2_kern_2': 0.00033650143268167007, 'l2_kern_3': 0.0004013372638132149, 'l2_bias_1': 0.0024310284025107804, 'l2_bias_2': 0.0003690806551596604, 'l2_bias_3': 2.067871694424216e-05, 'lr': 0.001060558291224372, 'batch_size': 128}. Best is trial 2 with value: 0.8826885757638991.\u001b[0m\n",
      "C:\\Users\\User\\AppData\\Local\\Temp\\ipykernel_12316\\574535459.py:60: DeprecationWarning: KerasClassifier is deprecated, use Sci-Keras (https://github.com/adriangb/scikeras) instead. See https://www.adriangb.com/scikeras/stable/migration.html for help migrating.\n",
      "  ('classifier', KerasClassifier(build_fn=self.create_model, verbose=0))\n"
     ]
    },
    {
     "name": "stdout",
     "output_type": "stream",
     "text": [
      "195/195 [==============================] - 0s 1ms/step\n",
      "195/195 [==============================] - 0s 1ms/step\n",
      "195/195 [==============================] - 0s 1ms/step\n"
     ]
    },
    {
     "name": "stderr",
     "output_type": "stream",
     "text": [
      "\u001b[32m[I 2023-03-03 10:53:42,946]\u001b[0m Trial 21 finished with value: 0.8527121407055903 and parameters: {'units_1': 23, 'units_2': 5, 'units_3': 19, 'alpha_1': 0.0402099275875801, 'alpha_2': 0.08131966705442935, 'alpha_3': 0.03848953232364611, 'dropout_1': 0.29487817782291503, 'dropout_2': 0.4918574235916482, 'dropout_3': 0.4887245322094947, 'l2_kern_1': 4.11203134369494e-05, 'l2_kern_2': 2.3115497403026358e-05, 'l2_kern_3': 0.004632691850558952, 'l2_bias_1': 0.0028893907750984237, 'l2_bias_2': 1.1072790004202231e-05, 'l2_bias_3': 0.0015331304029452496, 'lr': 0.00020854117352818628, 'batch_size': 64}. Best is trial 2 with value: 0.8826885757638991.\u001b[0m\n",
      "C:\\Users\\User\\AppData\\Local\\Temp\\ipykernel_12316\\574535459.py:60: DeprecationWarning: KerasClassifier is deprecated, use Sci-Keras (https://github.com/adriangb/scikeras) instead. See https://www.adriangb.com/scikeras/stable/migration.html for help migrating.\n",
      "  ('classifier', KerasClassifier(build_fn=self.create_model, verbose=0))\n"
     ]
    },
    {
     "name": "stdout",
     "output_type": "stream",
     "text": [
      "195/195 [==============================] - 0s 1ms/step\n",
      "195/195 [==============================] - 0s 1ms/step\n",
      "195/195 [==============================] - 0s 1ms/step\n"
     ]
    },
    {
     "name": "stderr",
     "output_type": "stream",
     "text": [
      "\u001b[32m[I 2023-03-03 10:54:10,484]\u001b[0m Trial 22 finished with value: 0.8440776757005661 and parameters: {'units_1': 6, 'units_2': 26, 'units_3': 29, 'alpha_1': 0.011845282078705301, 'alpha_2': 0.01841800304915677, 'alpha_3': 0.040708315988338274, 'dropout_1': 0.2388018831540743, 'dropout_2': 0.21660799574920572, 'dropout_3': 0.4961641163589426, 'l2_kern_1': 1.000112200100703e-05, 'l2_kern_2': 0.0005079046309655712, 'l2_kern_3': 0.00142739276047247, 'l2_bias_1': 0.008865853200470248, 'l2_bias_2': 0.006670056648483997, 'l2_bias_3': 2.6898541690392068e-05, 'lr': 0.0014079869251613553, 'batch_size': 128}. Best is trial 2 with value: 0.8826885757638991.\u001b[0m\n",
      "C:\\Users\\User\\AppData\\Local\\Temp\\ipykernel_12316\\574535459.py:60: DeprecationWarning: KerasClassifier is deprecated, use Sci-Keras (https://github.com/adriangb/scikeras) instead. See https://www.adriangb.com/scikeras/stable/migration.html for help migrating.\n",
      "  ('classifier', KerasClassifier(build_fn=self.create_model, verbose=0))\n"
     ]
    },
    {
     "name": "stdout",
     "output_type": "stream",
     "text": [
      "195/195 [==============================] - 0s 1ms/step\n",
      "195/195 [==============================] - 0s 1ms/step\n",
      "195/195 [==============================] - 0s 1ms/step\n"
     ]
    },
    {
     "name": "stderr",
     "output_type": "stream",
     "text": [
      "\u001b[32m[I 2023-03-03 10:54:32,769]\u001b[0m Trial 23 finished with value: 0.8442798466013336 and parameters: {'units_1': 37, 'units_2': 10, 'units_3': 33, 'alpha_1': 0.02406490655096233, 'alpha_2': 0.023252970271208068, 'alpha_3': 0.0939892124184035, 'dropout_1': 0.29403731675612044, 'dropout_2': 0.2735792896634646, 'dropout_3': 0.33880873142605905, 'l2_kern_1': 0.0010637778292465242, 'l2_kern_2': 0.0007895486536566085, 'l2_kern_3': 0.00030769777113532834, 'l2_bias_1': 0.0004730605116406746, 'l2_bias_2': 0.0014927076238963975, 'l2_bias_3': 0.0006647969986411527, 'lr': 0.00025643665063167036, 'batch_size': 1024}. Best is trial 2 with value: 0.8826885757638991.\u001b[0m\n",
      "C:\\Users\\User\\AppData\\Local\\Temp\\ipykernel_12316\\574535459.py:60: DeprecationWarning: KerasClassifier is deprecated, use Sci-Keras (https://github.com/adriangb/scikeras) instead. See https://www.adriangb.com/scikeras/stable/migration.html for help migrating.\n",
      "  ('classifier', KerasClassifier(build_fn=self.create_model, verbose=0))\n"
     ]
    },
    {
     "name": "stdout",
     "output_type": "stream",
     "text": [
      "195/195 [==============================] - 0s 1ms/step\n",
      "195/195 [==============================] - 0s 1ms/step\n",
      "195/195 [==============================] - 0s 1ms/step\n"
     ]
    },
    {
     "name": "stderr",
     "output_type": "stream",
     "text": [
      "\u001b[32m[I 2023-03-03 10:56:00,285]\u001b[0m Trial 24 finished with value: 0.8587962110703004 and parameters: {'units_1': 10, 'units_2': 2, 'units_3': 26, 'alpha_1': 0.0929080966357307, 'alpha_2': 0.02231461412440206, 'alpha_3': 0.031549750444118334, 'dropout_1': 0.30887910860659806, 'dropout_2': 0.32616813464882166, 'dropout_3': 0.31663042404773817, 'l2_kern_1': 2.1018764285102912e-05, 'l2_kern_2': 2.2691580104391674e-05, 'l2_kern_3': 2.7025363282178438e-05, 'l2_bias_1': 0.002506420159432173, 'l2_bias_2': 0.0017217609057915107, 'l2_bias_3': 0.0015603262060516643, 'lr': 0.004022337115816843, 'batch_size': 16}. Best is trial 2 with value: 0.8826885757638991.\u001b[0m\n",
      "C:\\Users\\User\\AppData\\Local\\Temp\\ipykernel_12316\\574535459.py:60: DeprecationWarning: KerasClassifier is deprecated, use Sci-Keras (https://github.com/adriangb/scikeras) instead. See https://www.adriangb.com/scikeras/stable/migration.html for help migrating.\n",
      "  ('classifier', KerasClassifier(build_fn=self.create_model, verbose=0))\n"
     ]
    },
    {
     "name": "stdout",
     "output_type": "stream",
     "text": [
      "195/195 [==============================] - 0s 1ms/step\n",
      "195/195 [==============================] - 0s 1ms/step\n",
      "195/195 [==============================] - 0s 1ms/step\n"
     ]
    },
    {
     "name": "stderr",
     "output_type": "stream",
     "text": [
      "\u001b[32m[I 2023-03-03 10:56:22,843]\u001b[0m Trial 25 finished with value: 0.8460569628704172 and parameters: {'units_1': 29, 'units_2': 12, 'units_3': 35, 'alpha_1': 0.0856589432024875, 'alpha_2': 0.08818674328021371, 'alpha_3': 0.06992634248992695, 'dropout_1': 0.41585703250459777, 'dropout_2': 0.3453642031203311, 'dropout_3': 0.3463751872038501, 'l2_kern_1': 2.6368364538247033e-05, 'l2_kern_2': 0.009195609535515731, 'l2_kern_3': 0.007055062034575232, 'l2_bias_1': 5.388711646894375e-05, 'l2_bias_2': 2.9831716040851306e-05, 'l2_bias_3': 3.448267898370147e-05, 'lr': 0.00043008736720075055, 'batch_size': 512}. Best is trial 2 with value: 0.8826885757638991.\u001b[0m\n",
      "C:\\Users\\User\\AppData\\Local\\Temp\\ipykernel_12316\\574535459.py:60: DeprecationWarning: KerasClassifier is deprecated, use Sci-Keras (https://github.com/adriangb/scikeras) instead. See https://www.adriangb.com/scikeras/stable/migration.html for help migrating.\n",
      "  ('classifier', KerasClassifier(build_fn=self.create_model, verbose=0))\n"
     ]
    },
    {
     "name": "stdout",
     "output_type": "stream",
     "text": [
      "195/195 [==============================] - 0s 1ms/step\n",
      "195/195 [==============================] - 0s 1ms/step\n",
      "195/195 [==============================] - 0s 1ms/step\n"
     ]
    },
    {
     "name": "stderr",
     "output_type": "stream",
     "text": [
      "\u001b[32m[I 2023-03-03 10:56:53,300]\u001b[0m Trial 26 finished with value: 0.8559296925721084 and parameters: {'units_1': 13, 'units_2': 8, 'units_3': 28, 'alpha_1': 0.07606498326223671, 'alpha_2': 0.03741089142508766, 'alpha_3': 0.07753023536338295, 'dropout_1': 0.44448627442343924, 'dropout_2': 0.2573459774324349, 'dropout_3': 0.4518516570890379, 'l2_kern_1': 0.0038047921200030574, 'l2_kern_2': 0.001979498235090485, 'l2_kern_3': 0.0004167182954267071, 'l2_bias_1': 0.00014488058108959905, 'l2_bias_2': 1.4032943434831302e-05, 'l2_bias_3': 1.7830684897727908e-05, 'lr': 0.0016240765271198232, 'batch_size': 128}. Best is trial 2 with value: 0.8826885757638991.\u001b[0m\n",
      "C:\\Users\\User\\AppData\\Local\\Temp\\ipykernel_12316\\574535459.py:60: DeprecationWarning: KerasClassifier is deprecated, use Sci-Keras (https://github.com/adriangb/scikeras) instead. See https://www.adriangb.com/scikeras/stable/migration.html for help migrating.\n",
      "  ('classifier', KerasClassifier(build_fn=self.create_model, verbose=0))\n"
     ]
    },
    {
     "name": "stdout",
     "output_type": "stream",
     "text": [
      "195/195 [==============================] - 0s 1ms/step\n",
      "195/195 [==============================] - 0s 1ms/step\n",
      "195/195 [==============================] - 0s 1ms/step\n"
     ]
    },
    {
     "name": "stderr",
     "output_type": "stream",
     "text": [
      "\u001b[32m[I 2023-03-03 11:00:52,779]\u001b[0m Trial 27 finished with value: 0.8659244374540935 and parameters: {'units_1': 29, 'units_2': 23, 'units_3': 16, 'alpha_1': 0.07883247050871496, 'alpha_2': 0.07247417989486053, 'alpha_3': 0.07877683967302195, 'dropout_1': 0.26875275611067484, 'dropout_2': 0.4336533142991825, 'dropout_3': 0.49272767400368406, 'l2_kern_1': 0.0005052754643147586, 'l2_kern_2': 0.0016980489449325853, 'l2_kern_3': 0.0007348588819979796, 'l2_bias_1': 1.798444882666964e-05, 'l2_bias_2': 1.456095582778718e-05, 'l2_bias_3': 9.813355978522424e-05, 'lr': 0.00013963404603539438, 'batch_size': 16}. Best is trial 2 with value: 0.8826885757638991.\u001b[0m\n",
      "C:\\Users\\User\\AppData\\Local\\Temp\\ipykernel_12316\\574535459.py:60: DeprecationWarning: KerasClassifier is deprecated, use Sci-Keras (https://github.com/adriangb/scikeras) instead. See https://www.adriangb.com/scikeras/stable/migration.html for help migrating.\n",
      "  ('classifier', KerasClassifier(build_fn=self.create_model, verbose=0))\n"
     ]
    },
    {
     "name": "stdout",
     "output_type": "stream",
     "text": [
      "195/195 [==============================] - 0s 1ms/step\n",
      "195/195 [==============================] - 0s 1ms/step\n",
      "195/195 [==============================] - 0s 1ms/step\n"
     ]
    },
    {
     "name": "stderr",
     "output_type": "stream",
     "text": [
      "\u001b[32m[I 2023-03-03 11:01:16,531]\u001b[0m Trial 28 finished with value: 0.8837906505609912 and parameters: {'units_1': 24, 'units_2': 24, 'units_3': 22, 'alpha_1': 0.04651863386649763, 'alpha_2': 0.04478061343218964, 'alpha_3': 0.09255290154972129, 'dropout_1': 0.2525757264352791, 'dropout_2': 0.2578779070309256, 'dropout_3': 0.3320117232148606, 'l2_kern_1': 2.063067154873716e-05, 'l2_kern_2': 4.789300964265285e-05, 'l2_kern_3': 0.0025401637387441047, 'l2_bias_1': 2.702725704139721e-05, 'l2_bias_2': 0.0001862021998588623, 'l2_bias_3': 0.0017469911824291179, 'lr': 0.006756326718658271, 'batch_size': 256}. Best is trial 28 with value: 0.8837906505609912.\u001b[0m\n",
      "C:\\Users\\User\\AppData\\Local\\Temp\\ipykernel_12316\\574535459.py:60: DeprecationWarning: KerasClassifier is deprecated, use Sci-Keras (https://github.com/adriangb/scikeras) instead. See https://www.adriangb.com/scikeras/stable/migration.html for help migrating.\n",
      "  ('classifier', KerasClassifier(build_fn=self.create_model, verbose=0))\n"
     ]
    },
    {
     "name": "stdout",
     "output_type": "stream",
     "text": [
      "195/195 [==============================] - 0s 1ms/step\n",
      "195/195 [==============================] - 0s 1ms/step\n",
      "195/195 [==============================] - 0s 1ms/step\n"
     ]
    },
    {
     "name": "stderr",
     "output_type": "stream",
     "text": [
      "\u001b[32m[I 2023-03-03 11:01:38,114]\u001b[0m Trial 29 finished with value: 0.8634900954328933 and parameters: {'units_1': 18, 'units_2': 17, 'units_3': 20, 'alpha_1': 0.05275468964303107, 'alpha_2': 0.07674192136932444, 'alpha_3': 0.0639721632899357, 'dropout_1': 0.45013413713307154, 'dropout_2': 0.3733262303378557, 'dropout_3': 0.43951873155186316, 'l2_kern_1': 5.459422349024409e-05, 'l2_kern_2': 0.008613258505440783, 'l2_kern_3': 0.00012257357737617813, 'l2_bias_1': 0.0001405176911391293, 'l2_bias_2': 0.0021162463151328395, 'l2_bias_3': 3.206478363248804e-05, 'lr': 0.0027405655095663166, 'batch_size': 512}. Best is trial 28 with value: 0.8837906505609912.\u001b[0m\n",
      "C:\\Users\\User\\AppData\\Local\\Temp\\ipykernel_12316\\574535459.py:60: DeprecationWarning: KerasClassifier is deprecated, use Sci-Keras (https://github.com/adriangb/scikeras) instead. See https://www.adriangb.com/scikeras/stable/migration.html for help migrating.\n",
      "  ('classifier', KerasClassifier(build_fn=self.create_model, verbose=0))\n"
     ]
    },
    {
     "name": "stdout",
     "output_type": "stream",
     "text": [
      "195/195 [==============================] - 0s 1ms/step\n",
      "195/195 [==============================] - 0s 1ms/step\n",
      "195/195 [==============================] - 0s 1ms/step\n"
     ]
    },
    {
     "name": "stderr",
     "output_type": "stream",
     "text": [
      "\u001b[32m[I 2023-03-03 11:02:17,943]\u001b[0m Trial 30 finished with value: 0.8407523331956671 and parameters: {'units_1': 23, 'units_2': 40, 'units_3': 22, 'alpha_1': 0.04472314690402779, 'alpha_2': 0.08994083971206274, 'alpha_3': 0.0675250038152097, 'dropout_1': 0.3428994468060854, 'dropout_2': 0.26227984554878403, 'dropout_3': 0.31023476265991673, 'l2_kern_1': 4.2230617995341086e-05, 'l2_kern_2': 0.00416252495136052, 'l2_kern_3': 0.0025773520036026835, 'l2_bias_1': 3.812666671541239e-05, 'l2_bias_2': 5.199083108831149e-05, 'l2_bias_3': 2.907902132021694e-05, 'lr': 8.262211467966486e-05, 'batch_size': 512}. Best is trial 28 with value: 0.8837906505609912.\u001b[0m\n",
      "C:\\Users\\User\\AppData\\Local\\Temp\\ipykernel_12316\\574535459.py:60: DeprecationWarning: KerasClassifier is deprecated, use Sci-Keras (https://github.com/adriangb/scikeras) instead. See https://www.adriangb.com/scikeras/stable/migration.html for help migrating.\n",
      "  ('classifier', KerasClassifier(build_fn=self.create_model, verbose=0))\n"
     ]
    },
    {
     "name": "stdout",
     "output_type": "stream",
     "text": [
      "195/195 [==============================] - 0s 1ms/step\n",
      "195/195 [==============================] - 0s 1ms/step\n",
      "195/195 [==============================] - 0s 1ms/step\n"
     ]
    },
    {
     "name": "stderr",
     "output_type": "stream",
     "text": [
      "\u001b[32m[I 2023-03-03 11:03:06,882]\u001b[0m Trial 31 finished with value: 0.842278191086337 and parameters: {'units_1': 22, 'units_2': 27, 'units_3': 37, 'alpha_1': 0.04569464322387068, 'alpha_2': 0.07916847047109724, 'alpha_3': 0.055749056634572566, 'dropout_1': 0.4630126982554225, 'dropout_2': 0.36457294294239734, 'dropout_3': 0.25133961678457445, 'l2_kern_1': 0.008550790230615363, 'l2_kern_2': 6.817209047795256e-05, 'l2_kern_3': 6.140396166022713e-05, 'l2_bias_1': 0.0023533884742432598, 'l2_bias_2': 1.8276022321787535e-05, 'l2_bias_3': 5.185073712736314e-05, 'lr': 7.681782964325094e-05, 'batch_size': 256}. Best is trial 28 with value: 0.8837906505609912.\u001b[0m\n",
      "C:\\Users\\User\\AppData\\Local\\Temp\\ipykernel_12316\\574535459.py:60: DeprecationWarning: KerasClassifier is deprecated, use Sci-Keras (https://github.com/adriangb/scikeras) instead. See https://www.adriangb.com/scikeras/stable/migration.html for help migrating.\n",
      "  ('classifier', KerasClassifier(build_fn=self.create_model, verbose=0))\n"
     ]
    },
    {
     "name": "stdout",
     "output_type": "stream",
     "text": [
      "195/195 [==============================] - 0s 1ms/step\n",
      "195/195 [==============================] - 0s 1ms/step\n",
      "195/195 [==============================] - 0s 1ms/step\n"
     ]
    },
    {
     "name": "stderr",
     "output_type": "stream",
     "text": [
      "\u001b[32m[I 2023-03-03 11:03:49,237]\u001b[0m Trial 32 finished with value: 0.8721857997553132 and parameters: {'units_1': 26, 'units_2': 28, 'units_3': 15, 'alpha_1': 0.06782767053863252, 'alpha_2': 0.04031538979255058, 'alpha_3': 0.06107212535745185, 'dropout_1': 0.2631777561830701, 'dropout_2': 0.21102052124714143, 'dropout_3': 0.4719900382243755, 'l2_kern_1': 0.00012519321997671388, 'l2_kern_2': 0.0030787183631509566, 'l2_kern_3': 0.000994341155264522, 'l2_bias_1': 0.00037442394660021654, 'l2_bias_2': 7.131226641321907e-05, 'l2_bias_3': 0.0026163504303480293, 'lr': 0.005588904886862879, 'batch_size': 64}. Best is trial 28 with value: 0.8837906505609912.\u001b[0m\n",
      "C:\\Users\\User\\AppData\\Local\\Temp\\ipykernel_12316\\574535459.py:60: DeprecationWarning: KerasClassifier is deprecated, use Sci-Keras (https://github.com/adriangb/scikeras) instead. See https://www.adriangb.com/scikeras/stable/migration.html for help migrating.\n",
      "  ('classifier', KerasClassifier(build_fn=self.create_model, verbose=0))\n"
     ]
    },
    {
     "name": "stdout",
     "output_type": "stream",
     "text": [
      "195/195 [==============================] - 0s 1ms/step\n",
      "195/195 [==============================] - 0s 1ms/step\n",
      "195/195 [==============================] - 0s 1ms/step\n"
     ]
    },
    {
     "name": "stderr",
     "output_type": "stream",
     "text": [
      "\u001b[32m[I 2023-03-03 11:04:22,440]\u001b[0m Trial 33 finished with value: 0.8611510805588288 and parameters: {'units_1': 34, 'units_2': 39, 'units_3': 22, 'alpha_1': 0.029840269445898286, 'alpha_2': 0.017418068277744805, 'alpha_3': 0.09696133575301889, 'dropout_1': 0.24964066073544322, 'dropout_2': 0.3609303222776786, 'dropout_3': 0.3122326413762667, 'l2_kern_1': 0.0023894184341389626, 'l2_kern_2': 0.0010558743919274027, 'l2_kern_3': 0.003743655108444649, 'l2_bias_1': 0.0001467653089634819, 'l2_bias_2': 0.00011083603173543881, 'l2_bias_3': 0.0001401657135847909, 'lr': 0.00045635978977652774, 'batch_size': 256}. Best is trial 28 with value: 0.8837906505609912.\u001b[0m\n",
      "C:\\Users\\User\\AppData\\Local\\Temp\\ipykernel_12316\\574535459.py:60: DeprecationWarning: KerasClassifier is deprecated, use Sci-Keras (https://github.com/adriangb/scikeras) instead. See https://www.adriangb.com/scikeras/stable/migration.html for help migrating.\n",
      "  ('classifier', KerasClassifier(build_fn=self.create_model, verbose=0))\n"
     ]
    },
    {
     "name": "stdout",
     "output_type": "stream",
     "text": [
      "195/195 [==============================] - 0s 1ms/step\n",
      "195/195 [==============================] - 0s 1ms/step\n",
      "195/195 [==============================] - 0s 1ms/step\n"
     ]
    },
    {
     "name": "stderr",
     "output_type": "stream",
     "text": [
      "\u001b[32m[I 2023-03-03 11:04:45,075]\u001b[0m Trial 34 finished with value: 0.8487304690224425 and parameters: {'units_1': 12, 'units_2': 27, 'units_3': 27, 'alpha_1': 0.03270457851799683, 'alpha_2': 0.06293759423074294, 'alpha_3': 0.051343239689101296, 'dropout_1': 0.3151373309454545, 'dropout_2': 0.4969687452999564, 'dropout_3': 0.3331119094720426, 'l2_kern_1': 0.00047196436532293554, 'l2_kern_2': 7.4332458844821e-05, 'l2_kern_3': 2.1094489158545268e-05, 'l2_bias_1': 8.424665095034688e-05, 'l2_bias_2': 0.00014301618806787715, 'l2_bias_3': 0.00017533352766397825, 'lr': 0.0007192394758225132, 'batch_size': 512}. Best is trial 28 with value: 0.8837906505609912.\u001b[0m\n",
      "C:\\Users\\User\\AppData\\Local\\Temp\\ipykernel_12316\\574535459.py:60: DeprecationWarning: KerasClassifier is deprecated, use Sci-Keras (https://github.com/adriangb/scikeras) instead. See https://www.adriangb.com/scikeras/stable/migration.html for help migrating.\n",
      "  ('classifier', KerasClassifier(build_fn=self.create_model, verbose=0))\n"
     ]
    },
    {
     "name": "stdout",
     "output_type": "stream",
     "text": [
      "195/195 [==============================] - 0s 2ms/step\n",
      "195/195 [==============================] - 0s 1ms/step\n",
      "195/195 [==============================] - 0s 1ms/step\n"
     ]
    },
    {
     "name": "stderr",
     "output_type": "stream",
     "text": [
      "\u001b[32m[I 2023-03-03 11:05:28,139]\u001b[0m Trial 35 finished with value: 0.8370657494781591 and parameters: {'units_1': 2, 'units_2': 22, 'units_3': 18, 'alpha_1': 0.03776538806552862, 'alpha_2': 0.04652738212087995, 'alpha_3': 0.09905702641987225, 'dropout_1': 0.22732838182654708, 'dropout_2': 0.39786753704527, 'dropout_3': 0.23046111479715034, 'l2_kern_1': 9.217519774917683e-05, 'l2_kern_2': 0.0022636480852660144, 'l2_kern_3': 0.000120025774211162, 'l2_bias_1': 0.00025584913861700757, 'l2_bias_2': 0.0024815302229034817, 'l2_bias_3': 1.2283074732506935e-05, 'lr': 0.0002781117705274496, 'batch_size': 64}. Best is trial 28 with value: 0.8837906505609912.\u001b[0m\n",
      "C:\\Users\\User\\AppData\\Local\\Temp\\ipykernel_12316\\574535459.py:60: DeprecationWarning: KerasClassifier is deprecated, use Sci-Keras (https://github.com/adriangb/scikeras) instead. See https://www.adriangb.com/scikeras/stable/migration.html for help migrating.\n",
      "  ('classifier', KerasClassifier(build_fn=self.create_model, verbose=0))\n"
     ]
    },
    {
     "name": "stdout",
     "output_type": "stream",
     "text": [
      "195/195 [==============================] - 0s 1ms/step\n",
      "195/195 [==============================] - 0s 1ms/step\n",
      "195/195 [==============================] - 0s 1ms/step\n"
     ]
    },
    {
     "name": "stderr",
     "output_type": "stream",
     "text": [
      "\u001b[32m[I 2023-03-03 11:05:49,876]\u001b[0m Trial 36 finished with value: 0.8384248694664128 and parameters: {'units_1': 5, 'units_2': 28, 'units_3': 24, 'alpha_1': 0.03775583073884802, 'alpha_2': 0.028118162542006477, 'alpha_3': 0.036096693112602274, 'dropout_1': 0.4095525954495154, 'dropout_2': 0.22831886853917793, 'dropout_3': 0.294699436259202, 'l2_kern_1': 0.00668525534767642, 'l2_kern_2': 4.180684148847258e-05, 'l2_kern_3': 0.0022323756306307663, 'l2_bias_1': 1.1063886875954671e-05, 'l2_bias_2': 0.001974762906521354, 'l2_bias_3': 0.0007491145335032463, 'lr': 0.0015049427376366106, 'batch_size': 256}. Best is trial 28 with value: 0.8837906505609912.\u001b[0m\n",
      "C:\\Users\\User\\AppData\\Local\\Temp\\ipykernel_12316\\574535459.py:60: DeprecationWarning: KerasClassifier is deprecated, use Sci-Keras (https://github.com/adriangb/scikeras) instead. See https://www.adriangb.com/scikeras/stable/migration.html for help migrating.\n",
      "  ('classifier', KerasClassifier(build_fn=self.create_model, verbose=0))\n"
     ]
    },
    {
     "name": "stdout",
     "output_type": "stream",
     "text": [
      "195/195 [==============================] - 0s 1ms/step\n",
      "195/195 [==============================] - 0s 1ms/step\n",
      "195/195 [==============================] - 0s 1ms/step\n"
     ]
    },
    {
     "name": "stderr",
     "output_type": "stream",
     "text": [
      "\u001b[32m[I 2023-03-03 11:06:37,019]\u001b[0m Trial 37 finished with value: 0.8460230516806954 and parameters: {'units_1': 36, 'units_2': 4, 'units_3': 30, 'alpha_1': 0.05750855845540743, 'alpha_2': 0.03769804801580422, 'alpha_3': 0.05714444959726352, 'dropout_1': 0.2634904916082711, 'dropout_2': 0.3688515000300906, 'dropout_3': 0.30727460319275074, 'l2_kern_1': 0.0016710726225349448, 'l2_kern_2': 0.007654401442057143, 'l2_kern_3': 0.006830812902627049, 'l2_bias_1': 0.0006819680506934466, 'l2_bias_2': 0.0034602455081228565, 'l2_bias_3': 4.323597775356237e-05, 'lr': 7.863885922634704e-05, 'batch_size': 128}. Best is trial 28 with value: 0.8837906505609912.\u001b[0m\n",
      "C:\\Users\\User\\AppData\\Local\\Temp\\ipykernel_12316\\574535459.py:60: DeprecationWarning: KerasClassifier is deprecated, use Sci-Keras (https://github.com/adriangb/scikeras) instead. See https://www.adriangb.com/scikeras/stable/migration.html for help migrating.\n",
      "  ('classifier', KerasClassifier(build_fn=self.create_model, verbose=0))\n"
     ]
    },
    {
     "name": "stdout",
     "output_type": "stream",
     "text": [
      "195/195 [==============================] - 0s 1ms/step\n",
      "195/195 [==============================] - 0s 1ms/step\n",
      "195/195 [==============================] - 0s 1ms/step\n"
     ]
    },
    {
     "name": "stderr",
     "output_type": "stream",
     "text": [
      "\u001b[32m[I 2023-03-03 11:07:37,116]\u001b[0m Trial 38 finished with value: 0.8251922565047827 and parameters: {'units_1': 3, 'units_2': 9, 'units_3': 16, 'alpha_1': 0.017753492418438637, 'alpha_2': 0.0811923300482423, 'alpha_3': 0.06402413722269962, 'dropout_1': 0.22534919684598223, 'dropout_2': 0.43805652522382016, 'dropout_3': 0.3209174523363221, 'l2_kern_1': 5.6690877126030676e-05, 'l2_kern_2': 0.0016574358804081215, 'l2_kern_3': 0.00032851358790951974, 'l2_bias_1': 3.637003827654881e-05, 'l2_bias_2': 1.1582025347246834e-05, 'l2_bias_3': 0.00785343638067463, 'lr': 5.68211564521997e-05, 'batch_size': 64}. Best is trial 28 with value: 0.8837906505609912.\u001b[0m\n",
      "C:\\Users\\User\\AppData\\Local\\Temp\\ipykernel_12316\\574535459.py:60: DeprecationWarning: KerasClassifier is deprecated, use Sci-Keras (https://github.com/adriangb/scikeras) instead. See https://www.adriangb.com/scikeras/stable/migration.html for help migrating.\n",
      "  ('classifier', KerasClassifier(build_fn=self.create_model, verbose=0))\n"
     ]
    },
    {
     "name": "stdout",
     "output_type": "stream",
     "text": [
      "195/195 [==============================] - 0s 1ms/step\n",
      "195/195 [==============================] - 0s 1ms/step\n",
      "195/195 [==============================] - 0s 1ms/step\n"
     ]
    },
    {
     "name": "stderr",
     "output_type": "stream",
     "text": [
      "\u001b[32m[I 2023-03-03 11:08:12,039]\u001b[0m Trial 39 finished with value: 0.8231885701709002 and parameters: {'units_1': 2, 'units_2': 10, 'units_3': 3, 'alpha_1': 0.05060886294220446, 'alpha_2': 0.02369576362521937, 'alpha_3': 0.06898295773201892, 'dropout_1': 0.24840899180022297, 'dropout_2': 0.26865830625926224, 'dropout_3': 0.474429219377423, 'l2_kern_1': 1.1563781006006537e-05, 'l2_kern_2': 0.0009228109281399031, 'l2_kern_3': 0.008008817575086468, 'l2_bias_1': 0.008015543199132048, 'l2_bias_2': 0.0030166585325778895, 'l2_bias_3': 0.0008663288247757284, 'lr': 0.000135330720006581, 'batch_size': 128}. Best is trial 28 with value: 0.8837906505609912.\u001b[0m\n",
      "C:\\Users\\User\\AppData\\Local\\Temp\\ipykernel_12316\\574535459.py:60: DeprecationWarning: KerasClassifier is deprecated, use Sci-Keras (https://github.com/adriangb/scikeras) instead. See https://www.adriangb.com/scikeras/stable/migration.html for help migrating.\n",
      "  ('classifier', KerasClassifier(build_fn=self.create_model, verbose=0))\n"
     ]
    },
    {
     "name": "stdout",
     "output_type": "stream",
     "text": [
      "195/195 [==============================] - 0s 1ms/step\n",
      "195/195 [==============================] - 0s 1ms/step\n",
      "195/195 [==============================] - 0s 1ms/step\n"
     ]
    },
    {
     "name": "stderr",
     "output_type": "stream",
     "text": [
      "\u001b[32m[I 2023-03-03 11:08:46,550]\u001b[0m Trial 40 finished with value: 0.8363004330480016 and parameters: {'units_1': 18, 'units_2': 36, 'units_3': 32, 'alpha_1': 0.03527585479372369, 'alpha_2': 0.0762719659778059, 'alpha_3': 0.02886650289464586, 'dropout_1': 0.3750704641597934, 'dropout_2': 0.4502603105821433, 'dropout_3': 0.3119082323873992, 'l2_kern_1': 3.203959050592001e-05, 'l2_kern_2': 0.004639250132151768, 'l2_kern_3': 8.425793014836648e-05, 'l2_bias_1': 0.00019115533314698071, 'l2_bias_2': 3.21088934444921e-05, 'l2_bias_3': 0.0002589051509402465, 'lr': 0.00014220059412059947, 'batch_size': 512}. Best is trial 28 with value: 0.8837906505609912.\u001b[0m\n",
      "C:\\Users\\User\\AppData\\Local\\Temp\\ipykernel_12316\\574535459.py:60: DeprecationWarning: KerasClassifier is deprecated, use Sci-Keras (https://github.com/adriangb/scikeras) instead. See https://www.adriangb.com/scikeras/stable/migration.html for help migrating.\n",
      "  ('classifier', KerasClassifier(build_fn=self.create_model, verbose=0))\n"
     ]
    },
    {
     "name": "stdout",
     "output_type": "stream",
     "text": [
      "195/195 [==============================] - 0s 1ms/step\n",
      "195/195 [==============================] - 0s 1ms/step\n",
      "195/195 [==============================] - 0s 1ms/step\n"
     ]
    },
    {
     "name": "stderr",
     "output_type": "stream",
     "text": [
      "\u001b[32m[I 2023-03-03 11:11:25,908]\u001b[0m Trial 41 finished with value: 0.8574367251712204 and parameters: {'units_1': 15, 'units_2': 18, 'units_3': 34, 'alpha_1': 0.05486392950838562, 'alpha_2': 0.01881612922977742, 'alpha_3': 0.09979110978220525, 'dropout_1': 0.4715293035554718, 'dropout_2': 0.319021095725967, 'dropout_3': 0.4948699021451404, 'l2_kern_1': 0.0023538279141934763, 'l2_kern_2': 0.0009351827596933123, 'l2_kern_3': 0.00017366080343267468, 'l2_bias_1': 1.6299854348737244e-05, 'l2_bias_2': 0.0022228497838957754, 'l2_bias_3': 0.0007774436592078054, 'lr': 0.0002617579607017166, 'batch_size': 16}. Best is trial 28 with value: 0.8837906505609912.\u001b[0m\n",
      "C:\\Users\\User\\AppData\\Local\\Temp\\ipykernel_12316\\574535459.py:60: DeprecationWarning: KerasClassifier is deprecated, use Sci-Keras (https://github.com/adriangb/scikeras) instead. See https://www.adriangb.com/scikeras/stable/migration.html for help migrating.\n",
      "  ('classifier', KerasClassifier(build_fn=self.create_model, verbose=0))\n"
     ]
    },
    {
     "name": "stdout",
     "output_type": "stream",
     "text": [
      "195/195 [==============================] - 0s 1ms/step\n",
      "195/195 [==============================] - 0s 1ms/step\n",
      "195/195 [==============================] - 0s 1ms/step\n"
     ]
    },
    {
     "name": "stderr",
     "output_type": "stream",
     "text": [
      "\u001b[32m[I 2023-03-03 11:11:43,475]\u001b[0m Trial 42 finished with value: 0.8613108770456166 and parameters: {'units_1': 16, 'units_2': 25, 'units_3': 22, 'alpha_1': 0.08792475112414228, 'alpha_2': 0.05431327837607794, 'alpha_3': 0.06788137299277784, 'dropout_1': 0.2598060520173051, 'dropout_2': 0.28077450318584746, 'dropout_3': 0.23529158665552122, 'l2_kern_1': 0.008362088743969038, 'l2_kern_2': 0.004753616975901627, 'l2_kern_3': 0.005077993416240063, 'l2_bias_1': 0.006141625059020598, 'l2_bias_2': 0.004332954037442033, 'l2_bias_3': 3.9156204217531865e-05, 'lr': 0.002959972230175305, 'batch_size': 1024}. Best is trial 28 with value: 0.8837906505609912.\u001b[0m\n",
      "C:\\Users\\User\\AppData\\Local\\Temp\\ipykernel_12316\\574535459.py:60: DeprecationWarning: KerasClassifier is deprecated, use Sci-Keras (https://github.com/adriangb/scikeras) instead. See https://www.adriangb.com/scikeras/stable/migration.html for help migrating.\n",
      "  ('classifier', KerasClassifier(build_fn=self.create_model, verbose=0))\n"
     ]
    },
    {
     "name": "stdout",
     "output_type": "stream",
     "text": [
      "195/195 [==============================] - 0s 1ms/step\n",
      "195/195 [==============================] - 0s 1ms/step\n",
      "195/195 [==============================] - 0s 1ms/step\n"
     ]
    },
    {
     "name": "stderr",
     "output_type": "stream",
     "text": [
      "\u001b[32m[I 2023-03-03 11:13:04,027]\u001b[0m Trial 43 finished with value: 0.8694852222946184 and parameters: {'units_1': 36, 'units_2': 7, 'units_3': 33, 'alpha_1': 0.022337096238067122, 'alpha_2': 0.0590476201613808, 'alpha_3': 0.07886720875787684, 'dropout_1': 0.22301828254369727, 'dropout_2': 0.45917060832745477, 'dropout_3': 0.32576331771203815, 'l2_kern_1': 3.369215825439931e-05, 'l2_kern_2': 0.0031638335846051937, 'l2_kern_3': 0.0005880572175482172, 'l2_bias_1': 0.005083466603862028, 'l2_bias_2': 0.0013271529766577697, 'l2_bias_3': 0.00016405562462120746, 'lr': 0.0020076858328024077, 'batch_size': 32}. Best is trial 28 with value: 0.8837906505609912.\u001b[0m\n",
      "C:\\Users\\User\\AppData\\Local\\Temp\\ipykernel_12316\\574535459.py:60: DeprecationWarning: KerasClassifier is deprecated, use Sci-Keras (https://github.com/adriangb/scikeras) instead. See https://www.adriangb.com/scikeras/stable/migration.html for help migrating.\n",
      "  ('classifier', KerasClassifier(build_fn=self.create_model, verbose=0))\n"
     ]
    },
    {
     "name": "stdout",
     "output_type": "stream",
     "text": [
      "195/195 [==============================] - 0s 1ms/step\n",
      "195/195 [==============================] - 0s 1ms/step\n",
      "195/195 [==============================] - 0s 1ms/step\n"
     ]
    },
    {
     "name": "stderr",
     "output_type": "stream",
     "text": [
      "\u001b[32m[I 2023-03-03 11:13:24,360]\u001b[0m Trial 44 finished with value: 0.8386974767683956 and parameters: {'units_1': 14, 'units_2': 4, 'units_3': 35, 'alpha_1': 0.014703746164800632, 'alpha_2': 0.06964041010919927, 'alpha_3': 0.016686098948978278, 'dropout_1': 0.3905908638618562, 'dropout_2': 0.36863069860612674, 'dropout_3': 0.4118535143661803, 'l2_kern_1': 5.139115499481317e-05, 'l2_kern_2': 0.0025754720623471228, 'l2_kern_3': 0.0071032165656463135, 'l2_bias_1': 0.0008222371480979539, 'l2_bias_2': 0.0014607228663824374, 'l2_bias_3': 6.304454917529054e-05, 'lr': 0.0003282367811495517, 'batch_size': 1024}. Best is trial 28 with value: 0.8837906505609912.\u001b[0m\n",
      "C:\\Users\\User\\AppData\\Local\\Temp\\ipykernel_12316\\574535459.py:60: DeprecationWarning: KerasClassifier is deprecated, use Sci-Keras (https://github.com/adriangb/scikeras) instead. See https://www.adriangb.com/scikeras/stable/migration.html for help migrating.\n",
      "  ('classifier', KerasClassifier(build_fn=self.create_model, verbose=0))\n"
     ]
    },
    {
     "name": "stdout",
     "output_type": "stream",
     "text": [
      "195/195 [==============================] - 0s 1ms/step\n",
      "195/195 [==============================] - 0s 1ms/step\n",
      "195/195 [==============================] - 0s 1ms/step\n"
     ]
    },
    {
     "name": "stderr",
     "output_type": "stream",
     "text": [
      "\u001b[32m[I 2023-03-03 11:14:12,823]\u001b[0m Trial 45 finished with value: 0.8506306856796505 and parameters: {'units_1': 23, 'units_2': 2, 'units_3': 33, 'alpha_1': 0.0536850128094173, 'alpha_2': 0.07694696552186377, 'alpha_3': 0.052648723826648876, 'dropout_1': 0.47529493529458633, 'dropout_2': 0.3787898541356143, 'dropout_3': 0.24400259269264246, 'l2_kern_1': 7.119062341910089e-05, 'l2_kern_2': 0.0017426823669423883, 'l2_kern_3': 0.0025443063668912267, 'l2_bias_1': 9.133019011637006e-05, 'l2_bias_2': 0.00039299499832191794, 'l2_bias_3': 0.005572428659689525, 'lr': 0.00041782989497015494, 'batch_size': 64}. Best is trial 28 with value: 0.8837906505609912.\u001b[0m\n",
      "C:\\Users\\User\\AppData\\Local\\Temp\\ipykernel_12316\\574535459.py:60: DeprecationWarning: KerasClassifier is deprecated, use Sci-Keras (https://github.com/adriangb/scikeras) instead. See https://www.adriangb.com/scikeras/stable/migration.html for help migrating.\n",
      "  ('classifier', KerasClassifier(build_fn=self.create_model, verbose=0))\n"
     ]
    },
    {
     "name": "stdout",
     "output_type": "stream",
     "text": [
      "195/195 [==============================] - 0s 1ms/step\n",
      "195/195 [==============================] - 0s 1ms/step\n",
      "195/195 [==============================] - 0s 1ms/step\n"
     ]
    },
    {
     "name": "stderr",
     "output_type": "stream",
     "text": [
      "\u001b[32m[I 2023-03-03 11:14:54,610]\u001b[0m Trial 46 finished with value: 0.8560062372450056 and parameters: {'units_1': 20, 'units_2': 32, 'units_3': 10, 'alpha_1': 0.060209851428723524, 'alpha_2': 0.08043370808442135, 'alpha_3': 0.06154965510781807, 'dropout_1': 0.42948344759706725, 'dropout_2': 0.49637196396864913, 'dropout_3': 0.2550857255983756, 'l2_kern_1': 0.0008889101674476557, 'l2_kern_2': 0.002069756890260459, 'l2_kern_3': 0.0003230979622817262, 'l2_bias_1': 2.8669115859150384e-05, 'l2_bias_2': 0.0014096654552098653, 'l2_bias_3': 0.00010156287615520966, 'lr': 0.0002678955113103482, 'batch_size': 128}. Best is trial 28 with value: 0.8837906505609912.\u001b[0m\n",
      "C:\\Users\\User\\AppData\\Local\\Temp\\ipykernel_12316\\574535459.py:60: DeprecationWarning: KerasClassifier is deprecated, use Sci-Keras (https://github.com/adriangb/scikeras) instead. See https://www.adriangb.com/scikeras/stable/migration.html for help migrating.\n",
      "  ('classifier', KerasClassifier(build_fn=self.create_model, verbose=0))\n"
     ]
    },
    {
     "name": "stdout",
     "output_type": "stream",
     "text": [
      "195/195 [==============================] - 0s 1ms/step\n",
      "195/195 [==============================] - 0s 1ms/step\n",
      "195/195 [==============================] - 0s 1ms/step\n"
     ]
    },
    {
     "name": "stderr",
     "output_type": "stream",
     "text": [
      "\u001b[32m[I 2023-03-03 11:15:47,761]\u001b[0m Trial 47 finished with value: 0.8619058508942476 and parameters: {'units_1': 25, 'units_2': 33, 'units_3': 31, 'alpha_1': 0.05463442770831483, 'alpha_2': 0.08811289417218286, 'alpha_3': 0.09121476232540357, 'dropout_1': 0.48918118558913715, 'dropout_2': 0.24709124026133736, 'dropout_3': 0.35150412730303227, 'l2_kern_1': 1.1408462084553179e-05, 'l2_kern_2': 0.0008723294751884748, 'l2_kern_3': 0.001753491329383948, 'l2_bias_1': 0.0015058455058232667, 'l2_bias_2': 0.0003017639728744106, 'l2_bias_3': 0.00011218732280052484, 'lr': 0.0017568664649942616, 'batch_size': 64}. Best is trial 28 with value: 0.8837906505609912.\u001b[0m\n",
      "C:\\Users\\User\\AppData\\Local\\Temp\\ipykernel_12316\\574535459.py:60: DeprecationWarning: KerasClassifier is deprecated, use Sci-Keras (https://github.com/adriangb/scikeras) instead. See https://www.adriangb.com/scikeras/stable/migration.html for help migrating.\n",
      "  ('classifier', KerasClassifier(build_fn=self.create_model, verbose=0))\n"
     ]
    },
    {
     "name": "stdout",
     "output_type": "stream",
     "text": [
      "195/195 [==============================] - 0s 1ms/step\n",
      "195/195 [==============================] - 0s 1ms/step\n",
      "195/195 [==============================] - 0s 1ms/step\n"
     ]
    },
    {
     "name": "stderr",
     "output_type": "stream",
     "text": [
      "\u001b[32m[I 2023-03-03 11:16:48,353]\u001b[0m Trial 48 finished with value: 0.866662193243885 and parameters: {'units_1': 13, 'units_2': 12, 'units_3': 36, 'alpha_1': 0.019254790846844234, 'alpha_2': 0.010001312233931796, 'alpha_3': 0.07089995928798315, 'dropout_1': 0.3084863432921592, 'dropout_2': 0.48196992568219676, 'dropout_3': 0.40093349724740224, 'l2_kern_1': 7.546721711587781e-05, 'l2_kern_2': 0.0008168574550158252, 'l2_kern_3': 1.2160641814589385e-05, 'l2_bias_1': 7.023632582237972e-05, 'l2_bias_2': 0.002043392292401932, 'l2_bias_3': 0.00090821684576653, 'lr': 0.0005605336282089436, 'batch_size': 64}. Best is trial 28 with value: 0.8837906505609912.\u001b[0m\n",
      "C:\\Users\\User\\AppData\\Local\\Temp\\ipykernel_12316\\574535459.py:60: DeprecationWarning: KerasClassifier is deprecated, use Sci-Keras (https://github.com/adriangb/scikeras) instead. See https://www.adriangb.com/scikeras/stable/migration.html for help migrating.\n",
      "  ('classifier', KerasClassifier(build_fn=self.create_model, verbose=0))\n"
     ]
    },
    {
     "name": "stdout",
     "output_type": "stream",
     "text": [
      "195/195 [==============================] - 0s 1ms/step\n",
      "195/195 [==============================] - 0s 1ms/step\n",
      "195/195 [==============================] - 0s 1ms/step\n"
     ]
    },
    {
     "name": "stderr",
     "output_type": "stream",
     "text": [
      "\u001b[32m[I 2023-03-03 11:17:37,373]\u001b[0m Trial 49 finished with value: 0.8279890705507819 and parameters: {'units_1': 11, 'units_2': 11, 'units_3': 3, 'alpha_1': 0.09891365445006427, 'alpha_2': 0.09798104034697655, 'alpha_3': 0.048953572528718986, 'dropout_1': 0.3321440162860993, 'dropout_2': 0.3692975427991931, 'dropout_3': 0.329208407739771, 'l2_kern_1': 7.844492783858634e-05, 'l2_kern_2': 0.001381405501253933, 'l2_kern_3': 2.3641171906191406e-05, 'l2_bias_1': 1.760888607914303e-05, 'l2_bias_2': 1.3465926341283071e-05, 'l2_bias_3': 0.00017782558184138635, 'lr': 5.681893822066107e-05, 'batch_size': 512}. Best is trial 28 with value: 0.8837906505609912.\u001b[0m\n",
      "C:\\Users\\User\\AppData\\Local\\Temp\\ipykernel_12316\\574535459.py:60: DeprecationWarning: KerasClassifier is deprecated, use Sci-Keras (https://github.com/adriangb/scikeras) instead. See https://www.adriangb.com/scikeras/stable/migration.html for help migrating.\n",
      "  ('classifier', KerasClassifier(build_fn=self.create_model, verbose=0))\n"
     ]
    },
    {
     "name": "stdout",
     "output_type": "stream",
     "text": [
      "195/195 [==============================] - 0s 1ms/step\n",
      "195/195 [==============================] - 0s 1ms/step\n",
      "195/195 [==============================] - 0s 1ms/step\n"
     ]
    },
    {
     "name": "stderr",
     "output_type": "stream",
     "text": [
      "\u001b[32m[I 2023-03-03 11:17:59,637]\u001b[0m Trial 50 finished with value: 0.869619877606176 and parameters: {'units_1': 17, 'units_2': 39, 'units_3': 22, 'alpha_1': 0.029840269445898286, 'alpha_2': 0.07264051870294866, 'alpha_3': 0.04067212460613965, 'dropout_1': 0.24964066073544322, 'dropout_2': 0.3609303222776786, 'dropout_3': 0.4679071900665008, 'l2_kern_1': 0.005585123465551952, 'l2_kern_2': 0.0004127297488690945, 'l2_kern_3': 0.00038066345878365516, 'l2_bias_1': 0.007223074653415773, 'l2_bias_2': 0.00011083603173543881, 'l2_bias_3': 0.0001401657135847909, 'lr': 0.008253386641794182, 'batch_size': 256}. Best is trial 28 with value: 0.8837906505609912.\u001b[0m\n",
      "C:\\Users\\User\\AppData\\Local\\Temp\\ipykernel_12316\\574535459.py:60: DeprecationWarning: KerasClassifier is deprecated, use Sci-Keras (https://github.com/adriangb/scikeras) instead. See https://www.adriangb.com/scikeras/stable/migration.html for help migrating.\n",
      "  ('classifier', KerasClassifier(build_fn=self.create_model, verbose=0))\n"
     ]
    },
    {
     "name": "stdout",
     "output_type": "stream",
     "text": [
      "195/195 [==============================] - 0s 1ms/step\n",
      "195/195 [==============================] - 0s 1ms/step\n",
      "195/195 [==============================] - 0s 1ms/step\n"
     ]
    },
    {
     "name": "stderr",
     "output_type": "stream",
     "text": [
      "\u001b[32m[I 2023-03-03 11:20:26,089]\u001b[0m Trial 51 finished with value: 0.8830273497290856 and parameters: {'units_1': 30, 'units_2': 37, 'units_3': 38, 'alpha_1': 0.08857175205525422, 'alpha_2': 0.019045489205308408, 'alpha_3': 0.010814923286944755, 'dropout_1': 0.3162955303376794, 'dropout_2': 0.2697645749467302, 'dropout_3': 0.3706934609356416, 'l2_kern_1': 0.00020660412210072814, 'l2_kern_2': 1.4640668081306621e-05, 'l2_kern_3': 0.00015281747920915998, 'l2_bias_1': 1.6942643115496802e-05, 'l2_bias_2': 0.0011782000722295608, 'l2_bias_3': 2.0111285429102236e-05, 'lr': 0.0014663883734878425, 'batch_size': 16}. Best is trial 28 with value: 0.8837906505609912.\u001b[0m\n",
      "C:\\Users\\User\\AppData\\Local\\Temp\\ipykernel_12316\\574535459.py:60: DeprecationWarning: KerasClassifier is deprecated, use Sci-Keras (https://github.com/adriangb/scikeras) instead. See https://www.adriangb.com/scikeras/stable/migration.html for help migrating.\n",
      "  ('classifier', KerasClassifier(build_fn=self.create_model, verbose=0))\n"
     ]
    },
    {
     "name": "stdout",
     "output_type": "stream",
     "text": [
      "195/195 [==============================] - 0s 1ms/step\n",
      "195/195 [==============================] - 0s 1ms/step\n",
      "195/195 [==============================] - 0s 1ms/step\n"
     ]
    },
    {
     "name": "stderr",
     "output_type": "stream",
     "text": [
      "\u001b[32m[I 2023-03-03 11:21:00,681]\u001b[0m Trial 52 finished with value: 0.8749110449594775 and parameters: {'units_1': 26, 'units_2': 11, 'units_3': 40, 'alpha_1': 0.05293427917261084, 'alpha_2': 0.07962240685332497, 'alpha_3': 0.06107212535745185, 'dropout_1': 0.2631777561830701, 'dropout_2': 0.21102052124714143, 'dropout_3': 0.35601673108490983, 'l2_kern_1': 0.00012519321997671388, 'l2_kern_2': 0.0030787183631509566, 'l2_kern_3': 7.216423294458938e-05, 'l2_bias_1': 0.000553824630080174, 'l2_bias_2': 8.526664315083548e-05, 'l2_bias_3': 4.7138271043288076e-05, 'lr': 0.005588904886862879, 'batch_size': 64}. Best is trial 28 with value: 0.8837906505609912.\u001b[0m\n",
      "C:\\Users\\User\\AppData\\Local\\Temp\\ipykernel_12316\\574535459.py:60: DeprecationWarning: KerasClassifier is deprecated, use Sci-Keras (https://github.com/adriangb/scikeras) instead. See https://www.adriangb.com/scikeras/stable/migration.html for help migrating.\n",
      "  ('classifier', KerasClassifier(build_fn=self.create_model, verbose=0))\n"
     ]
    },
    {
     "name": "stdout",
     "output_type": "stream",
     "text": [
      "195/195 [==============================] - 0s 1ms/step\n",
      "195/195 [==============================] - 0s 1ms/step\n",
      "195/195 [==============================] - 0s 1ms/step\n"
     ]
    },
    {
     "name": "stderr",
     "output_type": "stream",
     "text": [
      "\u001b[32m[I 2023-03-03 11:23:39,116]\u001b[0m Trial 53 finished with value: 0.8733614679932574 and parameters: {'units_1': 35, 'units_2': 27, 'units_3': 4, 'alpha_1': 0.03270457851799683, 'alpha_2': 0.05176647185894209, 'alpha_3': 0.051343239689101296, 'dropout_1': 0.36580922140822375, 'dropout_2': 0.43414277911605487, 'dropout_3': 0.3331119094720426, 'l2_kern_1': 0.00047196436532293554, 'l2_kern_2': 6.841094370286079e-05, 'l2_kern_3': 1.36753200330669e-05, 'l2_bias_1': 8.424665095034688e-05, 'l2_bias_2': 5.253217574018375e-05, 'l2_bias_3': 0.00017533352766397825, 'lr': 0.0007192394758225132, 'batch_size': 16}. Best is trial 28 with value: 0.8837906505609912.\u001b[0m\n",
      "C:\\Users\\User\\AppData\\Local\\Temp\\ipykernel_12316\\574535459.py:60: DeprecationWarning: KerasClassifier is deprecated, use Sci-Keras (https://github.com/adriangb/scikeras) instead. See https://www.adriangb.com/scikeras/stable/migration.html for help migrating.\n",
      "  ('classifier', KerasClassifier(build_fn=self.create_model, verbose=0))\n"
     ]
    },
    {
     "name": "stdout",
     "output_type": "stream",
     "text": [
      "195/195 [==============================] - 0s 1ms/step\n",
      "195/195 [==============================] - 0s 1ms/step\n",
      "195/195 [==============================] - 0s 1ms/step\n"
     ]
    },
    {
     "name": "stderr",
     "output_type": "stream",
     "text": [
      "\u001b[32m[I 2023-03-03 11:26:09,125]\u001b[0m Trial 54 finished with value: 0.867441138361051 and parameters: {'units_1': 12, 'units_2': 36, 'units_3': 40, 'alpha_1': 0.03270457851799683, 'alpha_2': 0.07962240685332497, 'alpha_3': 0.08289901475371987, 'dropout_1': 0.356666765314545, 'dropout_2': 0.4969687452999564, 'dropout_3': 0.35601673108490983, 'l2_kern_1': 0.00047196436532293554, 'l2_kern_2': 7.4332458844821e-05, 'l2_kern_3': 2.1094489158545268e-05, 'l2_bias_1': 8.424665095034688e-05, 'l2_bias_2': 3.005648838880677e-05, 'l2_bias_3': 0.00017533352766397825, 'lr': 0.00070714537683722, 'batch_size': 16}. Best is trial 28 with value: 0.8837906505609912.\u001b[0m\n",
      "C:\\Users\\User\\AppData\\Local\\Temp\\ipykernel_12316\\574535459.py:60: DeprecationWarning: KerasClassifier is deprecated, use Sci-Keras (https://github.com/adriangb/scikeras) instead. See https://www.adriangb.com/scikeras/stable/migration.html for help migrating.\n",
      "  ('classifier', KerasClassifier(build_fn=self.create_model, verbose=0))\n"
     ]
    },
    {
     "name": "stdout",
     "output_type": "stream",
     "text": [
      "195/195 [==============================] - 0s 1ms/step\n",
      "195/195 [==============================] - 0s 1ms/step\n",
      "195/195 [==============================] - 0s 1ms/step\n"
     ]
    },
    {
     "name": "stderr",
     "output_type": "stream",
     "text": [
      "\u001b[32m[I 2023-03-03 11:27:52,945]\u001b[0m Trial 55 finished with value: 0.8596731203040792 and parameters: {'units_1': 18, 'units_2': 17, 'units_3': 33, 'alpha_1': 0.022337096238067122, 'alpha_2': 0.07674192136932444, 'alpha_3': 0.02631931108074243, 'dropout_1': 0.45013413713307154, 'dropout_2': 0.3733262303378557, 'dropout_3': 0.32576331771203815, 'l2_kern_1': 5.459422349024409e-05, 'l2_kern_2': 0.008613258505440783, 'l2_kern_3': 0.00012257357737617813, 'l2_bias_1': 0.0001405176911391293, 'l2_bias_2': 0.0013271529766577697, 'l2_bias_3': 0.00016405562462120746, 'lr': 0.0020076858328024077, 'batch_size': 32}. Best is trial 28 with value: 0.8837906505609912.\u001b[0m\n",
      "C:\\Users\\User\\AppData\\Local\\Temp\\ipykernel_12316\\574535459.py:60: DeprecationWarning: KerasClassifier is deprecated, use Sci-Keras (https://github.com/adriangb/scikeras) instead. See https://www.adriangb.com/scikeras/stable/migration.html for help migrating.\n",
      "  ('classifier', KerasClassifier(build_fn=self.create_model, verbose=0))\n"
     ]
    },
    {
     "name": "stdout",
     "output_type": "stream",
     "text": [
      "195/195 [==============================] - 0s 1ms/step\n",
      "195/195 [==============================] - 0s 1ms/step\n",
      "195/195 [==============================] - 0s 1ms/step\n"
     ]
    },
    {
     "name": "stderr",
     "output_type": "stream",
     "text": [
      "\u001b[32m[I 2023-03-03 11:28:25,959]\u001b[0m Trial 56 finished with value: 0.835279827870826 and parameters: {'units_1': 23, 'units_2': 40, 'units_3': 6, 'alpha_1': 0.029840269445898286, 'alpha_2': 0.08994083971206274, 'alpha_3': 0.0675250038152097, 'dropout_1': 0.24964066073544322, 'dropout_2': 0.26227984554878403, 'dropout_3': 0.3122326413762667, 'l2_kern_1': 4.2230617995341086e-05, 'l2_kern_2': 0.0010558743919274027, 'l2_kern_3': 0.003743655108444649, 'l2_bias_1': 3.812666671541239e-05, 'l2_bias_2': 0.00011083603173543881, 'l2_bias_3': 0.0001401657135847909, 'lr': 8.262211467966486e-05, 'batch_size': 512}. Best is trial 28 with value: 0.8837906505609912.\u001b[0m\n",
      "C:\\Users\\User\\AppData\\Local\\Temp\\ipykernel_12316\\574535459.py:60: DeprecationWarning: KerasClassifier is deprecated, use Sci-Keras (https://github.com/adriangb/scikeras) instead. See https://www.adriangb.com/scikeras/stable/migration.html for help migrating.\n",
      "  ('classifier', KerasClassifier(build_fn=self.create_model, verbose=0))\n"
     ]
    },
    {
     "name": "stdout",
     "output_type": "stream",
     "text": [
      "195/195 [==============================] - 0s 1ms/step\n",
      "195/195 [==============================] - 0s 1ms/step\n",
      "195/195 [==============================] - 0s 1ms/step\n"
     ]
    },
    {
     "name": "stderr",
     "output_type": "stream",
     "text": [
      "\u001b[32m[I 2023-03-03 11:32:14,936]\u001b[0m Trial 57 finished with value: 0.8751913331621294 and parameters: {'units_1': 27, 'units_2': 18, 'units_3': 21, 'alpha_1': 0.060144885322539324, 'alpha_2': 0.05359197176246056, 'alpha_3': 0.02719074830216671, 'dropout_1': 0.41585703250459777, 'dropout_2': 0.3453642031203311, 'dropout_3': 0.3463751872038501, 'l2_kern_1': 0.0001985529028207973, 'l2_kern_2': 0.0005680261972736098, 'l2_kern_3': 0.007055062034575232, 'l2_bias_1': 5.388711646894375e-05, 'l2_bias_2': 2.9831716040851306e-05, 'l2_bias_3': 0.0004471459784715405, 'lr': 0.0005750331813732538, 'batch_size': 16}. Best is trial 28 with value: 0.8837906505609912.\u001b[0m\n",
      "C:\\Users\\User\\AppData\\Local\\Temp\\ipykernel_12316\\574535459.py:60: DeprecationWarning: KerasClassifier is deprecated, use Sci-Keras (https://github.com/adriangb/scikeras) instead. See https://www.adriangb.com/scikeras/stable/migration.html for help migrating.\n",
      "  ('classifier', KerasClassifier(build_fn=self.create_model, verbose=0))\n"
     ]
    },
    {
     "name": "stdout",
     "output_type": "stream",
     "text": [
      "195/195 [==============================] - 0s 1ms/step\n",
      "195/195 [==============================] - 0s 1ms/step\n",
      "195/195 [==============================] - 0s 1ms/step\n"
     ]
    },
    {
     "name": "stderr",
     "output_type": "stream",
     "text": [
      "\u001b[32m[I 2023-03-03 11:35:18,627]\u001b[0m Trial 58 finished with value: 0.8688931892762044 and parameters: {'units_1': 29, 'units_2': 23, 'units_3': 11, 'alpha_1': 0.060144885322539324, 'alpha_2': 0.029324042333115724, 'alpha_3': 0.02719074830216671, 'dropout_1': 0.26875275611067484, 'dropout_2': 0.22934840419974306, 'dropout_3': 0.21036163945861033, 'l2_kern_1': 0.0001985529028207973, 'l2_kern_2': 0.0016980489449325853, 'l2_kern_3': 0.0007348588819979796, 'l2_bias_1': 1.798444882666964e-05, 'l2_bias_2': 1.456095582778718e-05, 'l2_bias_3': 0.00017963231517383908, 'lr': 0.00013963404603539438, 'batch_size': 16}. Best is trial 28 with value: 0.8837906505609912.\u001b[0m\n",
      "C:\\Users\\User\\AppData\\Local\\Temp\\ipykernel_12316\\574535459.py:60: DeprecationWarning: KerasClassifier is deprecated, use Sci-Keras (https://github.com/adriangb/scikeras) instead. See https://www.adriangb.com/scikeras/stable/migration.html for help migrating.\n",
      "  ('classifier', KerasClassifier(build_fn=self.create_model, verbose=0))\n"
     ]
    },
    {
     "name": "stdout",
     "output_type": "stream",
     "text": [
      "195/195 [==============================] - 0s 1ms/step\n",
      "195/195 [==============================] - 0s 1ms/step\n",
      "195/195 [==============================] - 0s 1ms/step\n"
     ]
    },
    {
     "name": "stderr",
     "output_type": "stream",
     "text": [
      "\u001b[32m[I 2023-03-03 11:38:32,682]\u001b[0m Trial 59 finished with value: 0.8697160356682954 and parameters: {'units_1': 28, 'units_2': 23, 'units_3': 20, 'alpha_1': 0.07883247050871496, 'alpha_2': 0.05807308106686646, 'alpha_3': 0.06539295785268749, 'dropout_1': 0.27755341440742987, 'dropout_2': 0.4336533142991825, 'dropout_3': 0.49272767400368406, 'l2_kern_1': 0.0005338837274223943, 'l2_kern_2': 0.0016980489449325853, 'l2_kern_3': 0.0007348588819979796, 'l2_bias_1': 0.002196164723556139, 'l2_bias_2': 0.0029714340276633605, 'l2_bias_3': 9.813355978522424e-05, 'lr': 0.00013963404603539438, 'batch_size': 16}. Best is trial 28 with value: 0.8837906505609912.\u001b[0m\n",
      "C:\\Users\\User\\AppData\\Local\\Temp\\ipykernel_12316\\574535459.py:60: DeprecationWarning: KerasClassifier is deprecated, use Sci-Keras (https://github.com/adriangb/scikeras) instead. See https://www.adriangb.com/scikeras/stable/migration.html for help migrating.\n",
      "  ('classifier', KerasClassifier(build_fn=self.create_model, verbose=0))\n"
     ]
    },
    {
     "name": "stdout",
     "output_type": "stream",
     "text": [
      "195/195 [==============================] - 0s 1ms/step\n",
      "195/195 [==============================] - 0s 2ms/step\n",
      "195/195 [==============================] - 0s 1ms/step\n"
     ]
    },
    {
     "name": "stderr",
     "output_type": "stream",
     "text": [
      "\u001b[32m[I 2023-03-03 11:39:18,811]\u001b[0m Trial 60 finished with value: 0.8592988664898605 and parameters: {'units_1': 35, 'units_2': 22, 'units_3': 4, 'alpha_1': 0.08707621128116437, 'alpha_2': 0.09910662025381128, 'alpha_3': 0.09961195721856334, 'dropout_1': 0.36580922140822375, 'dropout_2': 0.43414277911605487, 'dropout_3': 0.43531160834520755, 'l2_kern_1': 0.0023896968988622058, 'l2_kern_2': 0.00016396341741103517, 'l2_kern_3': 0.0002791156185596066, 'l2_bias_1': 5.546247470266844e-05, 'l2_bias_2': 0.0005929733064614509, 'l2_bias_3': 0.00018188605089492459, 'lr': 0.0005029499238221786, 'batch_size': 128}. Best is trial 28 with value: 0.8837906505609912.\u001b[0m\n",
      "C:\\Users\\User\\AppData\\Local\\Temp\\ipykernel_12316\\574535459.py:60: DeprecationWarning: KerasClassifier is deprecated, use Sci-Keras (https://github.com/adriangb/scikeras) instead. See https://www.adriangb.com/scikeras/stable/migration.html for help migrating.\n",
      "  ('classifier', KerasClassifier(build_fn=self.create_model, verbose=0))\n"
     ]
    },
    {
     "name": "stdout",
     "output_type": "stream",
     "text": [
      "195/195 [==============================] - 0s 1ms/step\n",
      "195/195 [==============================] - 0s 1ms/step\n",
      "195/195 [==============================] - 0s 1ms/step\n"
     ]
    },
    {
     "name": "stderr",
     "output_type": "stream",
     "text": [
      "\u001b[32m[I 2023-03-03 11:39:40,419]\u001b[0m Trial 61 finished with value: 0.8684280509567133 and parameters: {'units_1': 36, 'units_2': 16, 'units_3': 35, 'alpha_1': 0.054576329435709586, 'alpha_2': 0.03769804801580422, 'alpha_3': 0.04067212460613965, 'dropout_1': 0.46153016935120045, 'dropout_2': 0.21733351227206638, 'dropout_3': 0.30727460319275074, 'l2_kern_1': 0.0016710726225349448, 'l2_kern_2': 0.0004127297488690945, 'l2_kern_3': 0.00038066345878365516, 'l2_bias_1': 0.007223074653415773, 'l2_bias_2': 0.0034602455081228565, 'l2_bias_3': 4.323597775356237e-05, 'lr': 0.008253386641794182, 'batch_size': 128}. Best is trial 28 with value: 0.8837906505609912.\u001b[0m\n",
      "C:\\Users\\User\\AppData\\Local\\Temp\\ipykernel_12316\\574535459.py:60: DeprecationWarning: KerasClassifier is deprecated, use Sci-Keras (https://github.com/adriangb/scikeras) instead. See https://www.adriangb.com/scikeras/stable/migration.html for help migrating.\n",
      "  ('classifier', KerasClassifier(build_fn=self.create_model, verbose=0))\n"
     ]
    },
    {
     "name": "stdout",
     "output_type": "stream",
     "text": [
      "195/195 [==============================] - 0s 1ms/step\n",
      "195/195 [==============================] - 0s 1ms/step\n",
      "195/195 [==============================] - 0s 1ms/step\n"
     ]
    },
    {
     "name": "stderr",
     "output_type": "stream",
     "text": [
      "\u001b[32m[I 2023-03-03 11:40:41,387]\u001b[0m Trial 62 finished with value: 0.8582615564867857 and parameters: {'units_1': 22, 'units_2': 6, 'units_3': 4, 'alpha_1': 0.048955416743234594, 'alpha_2': 0.031320386561975125, 'alpha_3': 0.021596413670422157, 'dropout_1': 0.22726620333292402, 'dropout_2': 0.49455824318978464, 'dropout_3': 0.3957690328229013, 'l2_kern_1': 0.0005338837274223943, 'l2_kern_2': 1.2676803968501516e-05, 'l2_kern_3': 1.2970352764262903e-05, 'l2_bias_1': 0.002196164723556139, 'l2_bias_2': 4.684559016954587e-05, 'l2_bias_3': 0.00595871549597581, 'lr': 0.0005329892056112282, 'batch_size': 64}. Best is trial 28 with value: 0.8837906505609912.\u001b[0m\n",
      "C:\\Users\\User\\AppData\\Local\\Temp\\ipykernel_12316\\574535459.py:60: DeprecationWarning: KerasClassifier is deprecated, use Sci-Keras (https://github.com/adriangb/scikeras) instead. See https://www.adriangb.com/scikeras/stable/migration.html for help migrating.\n",
      "  ('classifier', KerasClassifier(build_fn=self.create_model, verbose=0))\n"
     ]
    },
    {
     "name": "stdout",
     "output_type": "stream",
     "text": [
      "195/195 [==============================] - 0s 1ms/step\n",
      "195/195 [==============================] - 0s 1ms/step\n",
      "195/195 [==============================] - 0s 1ms/step\n"
     ]
    },
    {
     "name": "stderr",
     "output_type": "stream",
     "text": [
      "\u001b[32m[I 2023-03-03 11:41:29,405]\u001b[0m Trial 63 finished with value: 0.8548076549268382 and parameters: {'units_1': 20, 'units_2': 32, 'units_3': 10, 'alpha_1': 0.060209851428723524, 'alpha_2': 0.08043370808442135, 'alpha_3': 0.06154965510781807, 'dropout_1': 0.42948344759706725, 'dropout_2': 0.49637196396864913, 'dropout_3': 0.2550857255983756, 'l2_kern_1': 0.0008889101674476557, 'l2_kern_2': 0.002069756890260459, 'l2_kern_3': 0.0003230979622817262, 'l2_bias_1': 2.8669115859150384e-05, 'l2_bias_2': 0.0014096654552098653, 'l2_bias_3': 1.636939116067306e-05, 'lr': 0.0002678955113103482, 'batch_size': 128}. Best is trial 28 with value: 0.8837906505609912.\u001b[0m\n",
      "C:\\Users\\User\\AppData\\Local\\Temp\\ipykernel_12316\\574535459.py:60: DeprecationWarning: KerasClassifier is deprecated, use Sci-Keras (https://github.com/adriangb/scikeras) instead. See https://www.adriangb.com/scikeras/stable/migration.html for help migrating.\n",
      "  ('classifier', KerasClassifier(build_fn=self.create_model, verbose=0))\n"
     ]
    },
    {
     "name": "stdout",
     "output_type": "stream",
     "text": [
      "195/195 [==============================] - 0s 1ms/step\n",
      "195/195 [==============================] - 0s 1ms/step\n",
      "195/195 [==============================] - 0s 1ms/step\n"
     ]
    },
    {
     "name": "stderr",
     "output_type": "stream",
     "text": [
      "\u001b[32m[I 2023-03-03 11:42:06,774]\u001b[0m Trial 64 finished with value: 0.8294118959387378 and parameters: {'units_1': 29, 'units_2': 8, 'units_3': 10, 'alpha_1': 0.02406490655096233, 'alpha_2': 0.023252970271208068, 'alpha_3': 0.0939892124184035, 'dropout_1': 0.4994375880430428, 'dropout_2': 0.4624734909350812, 'dropout_3': 0.33880873142605905, 'l2_kern_1': 5.153687063153529e-05, 'l2_kern_2': 0.0007895486536566085, 'l2_kern_3': 0.00030769777113532834, 'l2_bias_1': 3.44029531714821e-05, 'l2_bias_2': 0.0014927076238963975, 'l2_bias_3': 0.0005044604511457623, 'lr': 5.167119858282109e-05, 'batch_size': 512}. Best is trial 28 with value: 0.8837906505609912.\u001b[0m\n",
      "C:\\Users\\User\\AppData\\Local\\Temp\\ipykernel_12316\\574535459.py:60: DeprecationWarning: KerasClassifier is deprecated, use Sci-Keras (https://github.com/adriangb/scikeras) instead. See https://www.adriangb.com/scikeras/stable/migration.html for help migrating.\n",
      "  ('classifier', KerasClassifier(build_fn=self.create_model, verbose=0))\n"
     ]
    },
    {
     "name": "stdout",
     "output_type": "stream",
     "text": [
      "195/195 [==============================] - 0s 1ms/step\n",
      "195/195 [==============================] - 0s 1ms/step\n",
      "195/195 [==============================] - 0s 1ms/step\n"
     ]
    },
    {
     "name": "stderr",
     "output_type": "stream",
     "text": [
      "\u001b[32m[I 2023-03-03 11:44:44,005]\u001b[0m Trial 65 finished with value: 0.8661629892781436 and parameters: {'units_1': 20, 'units_2': 39, 'units_3': 14, 'alpha_1': 0.01396995731403227, 'alpha_2': 0.029678686805835422, 'alpha_3': 0.021596413670422157, 'dropout_1': 0.47096326798635774, 'dropout_2': 0.3179159704558573, 'dropout_3': 0.35859525595302344, 'l2_kern_1': 0.0007540243651316639, 'l2_kern_2': 0.0002993789294181879, 'l2_kern_3': 0.00033140221046486755, 'l2_bias_1': 1.4167480273493162e-05, 'l2_bias_2': 0.0003370009348933032, 'l2_bias_3': 6.758559225971204e-05, 'lr': 0.0005329892056112282, 'batch_size': 16}. Best is trial 28 with value: 0.8837906505609912.\u001b[0m\n",
      "C:\\Users\\User\\AppData\\Local\\Temp\\ipykernel_12316\\574535459.py:60: DeprecationWarning: KerasClassifier is deprecated, use Sci-Keras (https://github.com/adriangb/scikeras) instead. See https://www.adriangb.com/scikeras/stable/migration.html for help migrating.\n",
      "  ('classifier', KerasClassifier(build_fn=self.create_model, verbose=0))\n"
     ]
    },
    {
     "name": "stdout",
     "output_type": "stream",
     "text": [
      "195/195 [==============================] - 0s 1ms/step\n",
      "195/195 [==============================] - 0s 1ms/step\n",
      "195/195 [==============================] - 0s 1ms/step\n"
     ]
    },
    {
     "name": "stderr",
     "output_type": "stream",
     "text": [
      "\u001b[32m[I 2023-03-03 11:45:47,538]\u001b[0m Trial 66 finished with value: 0.8225573523634612 and parameters: {'units_1': 3, 'units_2': 9, 'units_3': 16, 'alpha_1': 0.017753492418438637, 'alpha_2': 0.0811923300482423, 'alpha_3': 0.06402413722269962, 'dropout_1': 0.22534919684598223, 'dropout_2': 0.45787940384083464, 'dropout_3': 0.3209174523363221, 'l2_kern_1': 5.6690877126030676e-05, 'l2_kern_2': 0.0016574358804081215, 'l2_kern_3': 0.00032851358790951974, 'l2_bias_1': 3.637003827654881e-05, 'l2_bias_2': 1.1582025347246834e-05, 'l2_bias_3': 0.00785343638067463, 'lr': 5.68211564521997e-05, 'batch_size': 64}. Best is trial 28 with value: 0.8837906505609912.\u001b[0m\n",
      "C:\\Users\\User\\AppData\\Local\\Temp\\ipykernel_12316\\574535459.py:60: DeprecationWarning: KerasClassifier is deprecated, use Sci-Keras (https://github.com/adriangb/scikeras) instead. See https://www.adriangb.com/scikeras/stable/migration.html for help migrating.\n",
      "  ('classifier', KerasClassifier(build_fn=self.create_model, verbose=0))\n"
     ]
    },
    {
     "name": "stdout",
     "output_type": "stream",
     "text": [
      "195/195 [==============================] - 0s 1ms/step\n",
      "195/195 [==============================] - 0s 1ms/step\n",
      "195/195 [==============================] - 0s 1ms/step\n"
     ]
    },
    {
     "name": "stderr",
     "output_type": "stream",
     "text": [
      "\u001b[32m[I 2023-03-03 11:46:12,644]\u001b[0m Trial 67 finished with value: 0.8658626196040208 and parameters: {'units_1': 36, 'units_2': 7, 'units_3': 35, 'alpha_1': 0.056227181920829185, 'alpha_2': 0.07264051870294866, 'alpha_3': 0.07886720875787684, 'dropout_1': 0.3151178386005712, 'dropout_2': 0.21733351227206638, 'dropout_3': 0.32576331771203815, 'l2_kern_1': 3.369215825439931e-05, 'l2_kern_2': 0.0031638335846051937, 'l2_kern_3': 0.00038066345878365516, 'l2_bias_1': 0.005083466603862028, 'l2_bias_2': 0.0013271529766577697, 'l2_bias_3': 0.0004674187944975325, 'lr': 0.008253386641794182, 'batch_size': 128}. Best is trial 28 with value: 0.8837906505609912.\u001b[0m\n",
      "C:\\Users\\User\\AppData\\Local\\Temp\\ipykernel_12316\\574535459.py:60: DeprecationWarning: KerasClassifier is deprecated, use Sci-Keras (https://github.com/adriangb/scikeras) instead. See https://www.adriangb.com/scikeras/stable/migration.html for help migrating.\n",
      "  ('classifier', KerasClassifier(build_fn=self.create_model, verbose=0))\n"
     ]
    },
    {
     "name": "stdout",
     "output_type": "stream",
     "text": [
      "195/195 [==============================] - 0s 1ms/step\n",
      "195/195 [==============================] - 0s 1ms/step\n",
      "195/195 [==============================] - 0s 1ms/step\n"
     ]
    },
    {
     "name": "stderr",
     "output_type": "stream",
     "text": [
      "\u001b[32m[I 2023-03-03 11:48:13,714]\u001b[0m Trial 68 finished with value: 0.8699976554322695 and parameters: {'units_1': 36, 'units_2': 3, 'units_3': 35, 'alpha_1': 0.056227181920829185, 'alpha_2': 0.04301311152882611, 'alpha_3': 0.06309375184716276, 'dropout_1': 0.3681390095416731, 'dropout_2': 0.2616548275660719, 'dropout_3': 0.4679071900665008, 'l2_kern_1': 0.0001801917191429319, 'l2_kern_2': 0.0004127297488690945, 'l2_kern_3': 0.00038066345878365516, 'l2_bias_1': 0.007223074653415773, 'l2_bias_2': 0.0004556313245183664, 'l2_bias_3': 0.00025975390762901745, 'lr': 0.00021044411343000652, 'batch_size': 32}. Best is trial 28 with value: 0.8837906505609912.\u001b[0m\n",
      "C:\\Users\\User\\AppData\\Local\\Temp\\ipykernel_12316\\574535459.py:60: DeprecationWarning: KerasClassifier is deprecated, use Sci-Keras (https://github.com/adriangb/scikeras) instead. See https://www.adriangb.com/scikeras/stable/migration.html for help migrating.\n",
      "  ('classifier', KerasClassifier(build_fn=self.create_model, verbose=0))\n"
     ]
    },
    {
     "name": "stdout",
     "output_type": "stream",
     "text": [
      "195/195 [==============================] - 0s 1ms/step\n",
      "195/195 [==============================] - 0s 1ms/step\n",
      "195/195 [==============================] - 0s 1ms/step\n"
     ]
    },
    {
     "name": "stderr",
     "output_type": "stream",
     "text": [
      "\u001b[32m[I 2023-03-03 11:49:47,749]\u001b[0m Trial 69 finished with value: 0.8645277995803271 and parameters: {'units_1': 28, 'units_2': 2, 'units_3': 20, 'alpha_1': 0.0929080966357307, 'alpha_2': 0.05807308106686646, 'alpha_3': 0.031549750444118334, 'dropout_1': 0.22726620333292402, 'dropout_2': 0.32616813464882166, 'dropout_3': 0.31663042404773817, 'l2_kern_1': 2.1018764285102912e-05, 'l2_kern_2': 2.2691580104391674e-05, 'l2_kern_3': 0.000337538702110527, 'l2_bias_1': 0.002506420159432173, 'l2_bias_2': 3.051011070664116e-05, 'l2_bias_3': 5.172222462709109e-05, 'lr': 0.004817205446950504, 'batch_size': 16}. Best is trial 28 with value: 0.8837906505609912.\u001b[0m\n",
      "C:\\Users\\User\\AppData\\Local\\Temp\\ipykernel_12316\\574535459.py:60: DeprecationWarning: KerasClassifier is deprecated, use Sci-Keras (https://github.com/adriangb/scikeras) instead. See https://www.adriangb.com/scikeras/stable/migration.html for help migrating.\n",
      "  ('classifier', KerasClassifier(build_fn=self.create_model, verbose=0))\n"
     ]
    },
    {
     "name": "stdout",
     "output_type": "stream",
     "text": [
      "195/195 [==============================] - 0s 1ms/step\n",
      "195/195 [==============================] - 0s 1ms/step\n",
      "195/195 [==============================] - 0s 1ms/step\n"
     ]
    },
    {
     "name": "stderr",
     "output_type": "stream",
     "text": [
      "\u001b[32m[I 2023-03-03 11:50:38,057]\u001b[0m Trial 70 finished with value: 0.8379917351721383 and parameters: {'units_1': 2, 'units_2': 22, 'units_3': 22, 'alpha_1': 0.03776538806552862, 'alpha_2': 0.05431327837607794, 'alpha_3': 0.09905702641987225, 'dropout_1': 0.2598060520173051, 'dropout_2': 0.28077450318584746, 'dropout_3': 0.23046111479715034, 'l2_kern_1': 0.008362088743969038, 'l2_kern_2': 0.0022636480852660144, 'l2_kern_3': 0.000120025774211162, 'l2_bias_1': 0.006141625059020598, 'l2_bias_2': 0.0024815302229034817, 'l2_bias_3': 1.2283074732506935e-05, 'lr': 0.0002781117705274496, 'batch_size': 64}. Best is trial 28 with value: 0.8837906505609912.\u001b[0m\n",
      "C:\\Users\\User\\AppData\\Local\\Temp\\ipykernel_12316\\574535459.py:60: DeprecationWarning: KerasClassifier is deprecated, use Sci-Keras (https://github.com/adriangb/scikeras) instead. See https://www.adriangb.com/scikeras/stable/migration.html for help migrating.\n",
      "  ('classifier', KerasClassifier(build_fn=self.create_model, verbose=0))\n"
     ]
    },
    {
     "name": "stdout",
     "output_type": "stream",
     "text": [
      "195/195 [==============================] - 0s 1ms/step\n",
      "195/195 [==============================] - 0s 1ms/step\n",
      "195/195 [==============================] - 0s 1ms/step\n"
     ]
    },
    {
     "name": "stderr",
     "output_type": "stream",
     "text": [
      "\u001b[32m[I 2023-03-03 11:52:53,957]\u001b[0m Trial 71 finished with value: 0.8728230004393388 and parameters: {'units_1': 36, 'units_2': 18, 'units_3': 11, 'alpha_1': 0.060144885322539324, 'alpha_2': 0.0590476201613808, 'alpha_3': 0.07886720875787684, 'dropout_1': 0.2092895914923409, 'dropout_2': 0.45917060832745477, 'dropout_3': 0.21036163945861033, 'l2_kern_1': 0.0001985529028207973, 'l2_kern_2': 0.0031638335846051937, 'l2_kern_3': 0.0006457492027366517, 'l2_bias_1': 0.005083466603862028, 'l2_bias_2': 0.00015717646850370927, 'l2_bias_3': 0.00017963231517383908, 'lr': 0.0020076858328024077, 'batch_size': 16}. Best is trial 28 with value: 0.8837906505609912.\u001b[0m\n",
      "C:\\Users\\User\\AppData\\Local\\Temp\\ipykernel_12316\\574535459.py:60: DeprecationWarning: KerasClassifier is deprecated, use Sci-Keras (https://github.com/adriangb/scikeras) instead. See https://www.adriangb.com/scikeras/stable/migration.html for help migrating.\n",
      "  ('classifier', KerasClassifier(build_fn=self.create_model, verbose=0))\n"
     ]
    },
    {
     "name": "stdout",
     "output_type": "stream",
     "text": [
      "195/195 [==============================] - 0s 1ms/step\n",
      "195/195 [==============================] - 0s 1ms/step\n",
      "195/195 [==============================] - 0s 1ms/step\n"
     ]
    },
    {
     "name": "stderr",
     "output_type": "stream",
     "text": [
      "\u001b[32m[I 2023-03-03 11:53:58,744]\u001b[0m Trial 72 finished with value: 0.8574009998602813 and parameters: {'units_1': 23, 'units_2': 32, 'units_3': 10, 'alpha_1': 0.060209851428723524, 'alpha_2': 0.08043370808442135, 'alpha_3': 0.06154965510781807, 'dropout_1': 0.42948344759706725, 'dropout_2': 0.4918574235916482, 'dropout_3': 0.2550857255983756, 'l2_kern_1': 0.0008889101674476557, 'l2_kern_2': 2.3115497403026358e-05, 'l2_kern_3': 0.004632691850558952, 'l2_bias_1': 2.8669115859150384e-05, 'l2_bias_2': 0.0001689950706008394, 'l2_bias_3': 0.0015331304029452496, 'lr': 0.0002678955113103482, 'batch_size': 64}. Best is trial 28 with value: 0.8837906505609912.\u001b[0m\n",
      "C:\\Users\\User\\AppData\\Local\\Temp\\ipykernel_12316\\574535459.py:60: DeprecationWarning: KerasClassifier is deprecated, use Sci-Keras (https://github.com/adriangb/scikeras) instead. See https://www.adriangb.com/scikeras/stable/migration.html for help migrating.\n",
      "  ('classifier', KerasClassifier(build_fn=self.create_model, verbose=0))\n"
     ]
    },
    {
     "name": "stdout",
     "output_type": "stream",
     "text": [
      "195/195 [==============================] - 0s 1ms/step\n",
      "195/195 [==============================] - 0s 1ms/step\n",
      "195/195 [==============================] - 0s 1ms/step\n"
     ]
    },
    {
     "name": "stderr",
     "output_type": "stream",
     "text": [
      "\u001b[32m[I 2023-03-03 11:54:26,667]\u001b[0m Trial 73 finished with value: 0.8698191780058191 and parameters: {'units_1': 32, 'units_2': 25, 'units_3': 16, 'alpha_1': 0.07763394847124434, 'alpha_2': 0.0864768265768329, 'alpha_3': 0.041863572252077076, 'dropout_1': 0.3937606642507863, 'dropout_2': 0.49987624568074995, 'dropout_3': 0.47012312859021355, 'l2_kern_1': 7.517848280899311e-05, 'l2_kern_2': 0.00033650143268167007, 'l2_kern_3': 0.0005908075587993069, 'l2_bias_1': 5.911793981491918e-05, 'l2_bias_2': 0.0010140792868179565, 'l2_bias_3': 1.608577972361083e-05, 'lr': 0.001060558291224372, 'batch_size': 128}. Best is trial 28 with value: 0.8837906505609912.\u001b[0m\n",
      "C:\\Users\\User\\AppData\\Local\\Temp\\ipykernel_12316\\574535459.py:60: DeprecationWarning: KerasClassifier is deprecated, use Sci-Keras (https://github.com/adriangb/scikeras) instead. See https://www.adriangb.com/scikeras/stable/migration.html for help migrating.\n",
      "  ('classifier', KerasClassifier(build_fn=self.create_model, verbose=0))\n"
     ]
    },
    {
     "name": "stdout",
     "output_type": "stream",
     "text": [
      "195/195 [==============================] - 0s 1ms/step\n",
      "195/195 [==============================] - 0s 1ms/step\n",
      "195/195 [==============================] - 0s 1ms/step\n"
     ]
    },
    {
     "name": "stderr",
     "output_type": "stream",
     "text": [
      "\u001b[32m[I 2023-03-03 11:55:09,600]\u001b[0m Trial 74 finished with value: 0.8680223020638499 and parameters: {'units_1': 26, 'units_2': 28, 'units_3': 15, 'alpha_1': 0.06782767053863252, 'alpha_2': 0.04031538979255058, 'alpha_3': 0.06107212535745185, 'dropout_1': 0.2631777561830701, 'dropout_2': 0.21102052124714143, 'dropout_3': 0.4719900382243755, 'l2_kern_1': 0.00012519321997671388, 'l2_kern_2': 0.0030787183631509566, 'l2_kern_3': 0.000994341155264522, 'l2_bias_1': 0.00037442394660021654, 'l2_bias_2': 7.131226641321907e-05, 'l2_bias_3': 0.0026163504303480293, 'lr': 0.005588904886862879, 'batch_size': 64}. Best is trial 28 with value: 0.8837906505609912.\u001b[0m\n",
      "C:\\Users\\User\\AppData\\Local\\Temp\\ipykernel_12316\\574535459.py:60: DeprecationWarning: KerasClassifier is deprecated, use Sci-Keras (https://github.com/adriangb/scikeras) instead. See https://www.adriangb.com/scikeras/stable/migration.html for help migrating.\n",
      "  ('classifier', KerasClassifier(build_fn=self.create_model, verbose=0))\n"
     ]
    },
    {
     "name": "stdout",
     "output_type": "stream",
     "text": [
      "195/195 [==============================] - 0s 1ms/step\n",
      "195/195 [==============================] - 0s 1ms/step\n",
      "195/195 [==============================] - 0s 1ms/step\n"
     ]
    },
    {
     "name": "stderr",
     "output_type": "stream",
     "text": [
      "\u001b[32m[I 2023-03-03 11:55:42,161]\u001b[0m Trial 75 finished with value: 0.8500650872719059 and parameters: {'units_1': 37, 'units_2': 10, 'units_3': 33, 'alpha_1': 0.02406490655096233, 'alpha_2': 0.023252970271208068, 'alpha_3': 0.0939892124184035, 'dropout_1': 0.29403731675612044, 'dropout_2': 0.2735792896634646, 'dropout_3': 0.33880873142605905, 'l2_kern_1': 0.0010637778292465242, 'l2_kern_2': 0.0007895486536566085, 'l2_kern_3': 0.00030769777113532834, 'l2_bias_1': 0.0004730605116406746, 'l2_bias_2': 0.0014927076238963975, 'l2_bias_3': 0.0006647969986411527, 'lr': 0.00025643665063167036, 'batch_size': 1024}. Best is trial 28 with value: 0.8837906505609912.\u001b[0m\n",
      "C:\\Users\\User\\AppData\\Local\\Temp\\ipykernel_12316\\574535459.py:60: DeprecationWarning: KerasClassifier is deprecated, use Sci-Keras (https://github.com/adriangb/scikeras) instead. See https://www.adriangb.com/scikeras/stable/migration.html for help migrating.\n",
      "  ('classifier', KerasClassifier(build_fn=self.create_model, verbose=0))\n"
     ]
    },
    {
     "name": "stdout",
     "output_type": "stream",
     "text": [
      "195/195 [==============================] - 0s 1ms/step\n",
      "195/195 [==============================] - 0s 1ms/step\n",
      "195/195 [==============================] - 0s 1ms/step\n"
     ]
    },
    {
     "name": "stderr",
     "output_type": "stream",
     "text": [
      "\u001b[32m[I 2023-03-03 11:56:04,492]\u001b[0m Trial 76 finished with value: 0.8308864484910297 and parameters: {'units_1': 7, 'units_2': 10, 'units_3': 33, 'alpha_1': 0.02406490655096233, 'alpha_2': 0.023252970271208068, 'alpha_3': 0.0939892124184035, 'dropout_1': 0.29403731675612044, 'dropout_2': 0.2735792896634646, 'dropout_3': 0.33880873142605905, 'l2_kern_1': 0.0010637778292465242, 'l2_kern_2': 0.0007895486536566085, 'l2_kern_3': 0.00030769777113532834, 'l2_bias_1': 5.9160996712398565e-05, 'l2_bias_2': 0.0014927076238963975, 'l2_bias_3': 0.0006647969986411527, 'lr': 0.00025643665063167036, 'batch_size': 1024}. Best is trial 28 with value: 0.8837906505609912.\u001b[0m\n",
      "C:\\Users\\User\\AppData\\Local\\Temp\\ipykernel_12316\\574535459.py:60: DeprecationWarning: KerasClassifier is deprecated, use Sci-Keras (https://github.com/adriangb/scikeras) instead. See https://www.adriangb.com/scikeras/stable/migration.html for help migrating.\n",
      "  ('classifier', KerasClassifier(build_fn=self.create_model, verbose=0))\n"
     ]
    },
    {
     "name": "stdout",
     "output_type": "stream",
     "text": [
      "195/195 [==============================] - 0s 1ms/step\n",
      "195/195 [==============================] - 0s 1ms/step\n",
      "195/195 [==============================] - 0s 1ms/step\n"
     ]
    },
    {
     "name": "stderr",
     "output_type": "stream",
     "text": [
      "\u001b[32m[I 2023-03-03 11:56:17,805]\u001b[0m Trial 77 finished with value: 0.8341102991949597 and parameters: {'units_1': 4, 'units_2': 2, 'units_3': 33, 'alpha_1': 0.022337096238067122, 'alpha_2': 0.0590476201613808, 'alpha_3': 0.07886720875787684, 'dropout_1': 0.4846253733866348, 'dropout_2': 0.3191534795608703, 'dropout_3': 0.22044100984234313, 'l2_kern_1': 3.674716016346103e-05, 'l2_kern_2': 0.0031638335846051937, 'l2_kern_3': 0.0029723341248607503, 'l2_bias_1': 0.005083466603862028, 'l2_bias_2': 0.0013271529766577697, 'l2_bias_3': 0.008581898247832164, 'lr': 0.0020076858328024077, 'batch_size': 1024}. Best is trial 28 with value: 0.8837906505609912.\u001b[0m\n",
      "C:\\Users\\User\\AppData\\Local\\Temp\\ipykernel_12316\\574535459.py:60: DeprecationWarning: KerasClassifier is deprecated, use Sci-Keras (https://github.com/adriangb/scikeras) instead. See https://www.adriangb.com/scikeras/stable/migration.html for help migrating.\n",
      "  ('classifier', KerasClassifier(build_fn=self.create_model, verbose=0))\n"
     ]
    },
    {
     "name": "stdout",
     "output_type": "stream",
     "text": [
      "195/195 [==============================] - 0s 1ms/step\n",
      "195/195 [==============================] - 0s 1ms/step\n",
      "195/195 [==============================] - 0s 1ms/step\n"
     ]
    },
    {
     "name": "stderr",
     "output_type": "stream",
     "text": [
      "\u001b[32m[I 2023-03-03 11:57:12,919]\u001b[0m Trial 78 finished with value: 0.8728109327270251 and parameters: {'units_1': 20, 'units_2': 39, 'units_3': 40, 'alpha_1': 0.05293427917261084, 'alpha_2': 0.07962240685332497, 'alpha_3': 0.08289901475371987, 'dropout_1': 0.356666765314545, 'dropout_2': 0.3179159704558573, 'dropout_3': 0.3977791382683949, 'l2_kern_1': 0.0031114331707799456, 'l2_kern_2': 0.000529902852712288, 'l2_kern_3': 0.00033140221046486755, 'l2_bias_1': 0.000553824630080174, 'l2_bias_2': 3.005648838880677e-05, 'l2_bias_3': 4.7138271043288076e-05, 'lr': 0.00070714537683722, 'batch_size': 64}. Best is trial 28 with value: 0.8837906505609912.\u001b[0m\n",
      "C:\\Users\\User\\AppData\\Local\\Temp\\ipykernel_12316\\574535459.py:60: DeprecationWarning: KerasClassifier is deprecated, use Sci-Keras (https://github.com/adriangb/scikeras) instead. See https://www.adriangb.com/scikeras/stable/migration.html for help migrating.\n",
      "  ('classifier', KerasClassifier(build_fn=self.create_model, verbose=0))\n"
     ]
    },
    {
     "name": "stdout",
     "output_type": "stream",
     "text": [
      "195/195 [==============================] - 0s 1ms/step\n",
      "195/195 [==============================] - 0s 1ms/step\n",
      "195/195 [==============================] - 0s 1ms/step\n"
     ]
    },
    {
     "name": "stderr",
     "output_type": "stream",
     "text": [
      "\u001b[32m[I 2023-03-03 11:57:46,049]\u001b[0m Trial 79 finished with value: 0.8752303915158767 and parameters: {'units_1': 37, 'units_2': 10, 'units_3': 33, 'alpha_1': 0.06782767053863252, 'alpha_2': 0.023252970271208068, 'alpha_3': 0.0939892124184035, 'dropout_1': 0.29403731675612044, 'dropout_2': 0.2735792896634646, 'dropout_3': 0.4719900382243755, 'l2_kern_1': 0.0010637778292465242, 'l2_kern_2': 0.0007895486536566085, 'l2_kern_3': 0.00030769777113532834, 'l2_bias_1': 0.00037442394660021654, 'l2_bias_2': 0.0014927076238963975, 'l2_bias_3': 0.0026163504303480293, 'lr': 0.005588904886862879, 'batch_size': 64}. Best is trial 28 with value: 0.8837906505609912.\u001b[0m\n",
      "C:\\Users\\User\\AppData\\Local\\Temp\\ipykernel_12316\\574535459.py:60: DeprecationWarning: KerasClassifier is deprecated, use Sci-Keras (https://github.com/adriangb/scikeras) instead. See https://www.adriangb.com/scikeras/stable/migration.html for help migrating.\n",
      "  ('classifier', KerasClassifier(build_fn=self.create_model, verbose=0))\n"
     ]
    },
    {
     "name": "stdout",
     "output_type": "stream",
     "text": [
      "195/195 [==============================] - 0s 1ms/step\n",
      "195/195 [==============================] - 0s 1ms/step\n",
      "195/195 [==============================] - 0s 1ms/step\n"
     ]
    },
    {
     "name": "stderr",
     "output_type": "stream",
     "text": [
      "\u001b[32m[I 2023-03-03 11:59:21,205]\u001b[0m Trial 80 finished with value: 0.8708637651488201 and parameters: {'units_1': 27, 'units_2': 25, 'units_3': 16, 'alpha_1': 0.060144885322539324, 'alpha_2': 0.0864768265768329, 'alpha_3': 0.02719074830216671, 'dropout_1': 0.31084142661427067, 'dropout_2': 0.22934840419974306, 'dropout_3': 0.34963425204351056, 'l2_kern_1': 0.0001985529028207973, 'l2_kern_2': 0.0008002765585523982, 'l2_kern_3': 4.059164113371854e-05, 'l2_bias_1': 5.911793981491918e-05, 'l2_bias_2': 0.0010140792868179565, 'l2_bias_3': 0.00017963231517383908, 'lr': 0.008672020168544155, 'batch_size': 16}. Best is trial 28 with value: 0.8837906505609912.\u001b[0m\n",
      "C:\\Users\\User\\AppData\\Local\\Temp\\ipykernel_12316\\574535459.py:60: DeprecationWarning: KerasClassifier is deprecated, use Sci-Keras (https://github.com/adriangb/scikeras) instead. See https://www.adriangb.com/scikeras/stable/migration.html for help migrating.\n",
      "  ('classifier', KerasClassifier(build_fn=self.create_model, verbose=0))\n"
     ]
    },
    {
     "name": "stdout",
     "output_type": "stream",
     "text": [
      "195/195 [==============================] - 0s 1ms/step\n",
      "195/195 [==============================] - 0s 1ms/step\n",
      "195/195 [==============================] - 0s 1ms/step\n"
     ]
    },
    {
     "name": "stderr",
     "output_type": "stream",
     "text": [
      "\u001b[32m[I 2023-03-03 11:59:56,285]\u001b[0m Trial 81 finished with value: 0.8606740025968743 and parameters: {'units_1': 13, 'units_2': 12, 'units_3': 35, 'alpha_1': 0.019254790846844234, 'alpha_2': 0.08818674328021371, 'alpha_3': 0.06992634248992695, 'dropout_1': 0.3084863432921592, 'dropout_2': 0.3879530997674753, 'dropout_3': 0.3463751872038501, 'l2_kern_1': 2.6368364538247033e-05, 'l2_kern_2': 0.009195609535515731, 'l2_kern_3': 0.007055062034575232, 'l2_bias_1': 5.388711646894375e-05, 'l2_bias_2': 0.002043392292401932, 'l2_bias_3': 0.00090821684576653, 'lr': 0.009173209595992209, 'batch_size': 64}. Best is trial 28 with value: 0.8837906505609912.\u001b[0m\n",
      "C:\\Users\\User\\AppData\\Local\\Temp\\ipykernel_12316\\574535459.py:60: DeprecationWarning: KerasClassifier is deprecated, use Sci-Keras (https://github.com/adriangb/scikeras) instead. See https://www.adriangb.com/scikeras/stable/migration.html for help migrating.\n",
      "  ('classifier', KerasClassifier(build_fn=self.create_model, verbose=0))\n"
     ]
    },
    {
     "name": "stdout",
     "output_type": "stream",
     "text": [
      "195/195 [==============================] - 0s 1ms/step\n",
      "195/195 [==============================] - 0s 1ms/step\n",
      "195/195 [==============================] - 0s 1ms/step\n"
     ]
    },
    {
     "name": "stderr",
     "output_type": "stream",
     "text": [
      "\u001b[32m[I 2023-03-03 12:00:40,434]\u001b[0m Trial 82 finished with value: 0.8521894458464345 and parameters: {'units_1': 15, 'units_2': 26, 'units_3': 34, 'alpha_1': 0.05486392950838562, 'alpha_2': 0.01881612922977742, 'alpha_3': 0.06314116754477093, 'dropout_1': 0.4715293035554718, 'dropout_2': 0.20614287534302247, 'dropout_3': 0.4948699021451404, 'l2_kern_1': 0.0023538279141934763, 'l2_kern_2': 0.00033650143268167007, 'l2_kern_3': 0.0004013372638132149, 'l2_bias_1': 1.6299854348737244e-05, 'l2_bias_2': 0.0003690806551596604, 'l2_bias_3': 0.0007774436592078054, 'lr': 0.0002617579607017166, 'batch_size': 128}. Best is trial 28 with value: 0.8837906505609912.\u001b[0m\n",
      "C:\\Users\\User\\AppData\\Local\\Temp\\ipykernel_12316\\574535459.py:60: DeprecationWarning: KerasClassifier is deprecated, use Sci-Keras (https://github.com/adriangb/scikeras) instead. See https://www.adriangb.com/scikeras/stable/migration.html for help migrating.\n",
      "  ('classifier', KerasClassifier(build_fn=self.create_model, verbose=0))\n"
     ]
    },
    {
     "name": "stdout",
     "output_type": "stream",
     "text": [
      "195/195 [==============================] - 0s 1ms/step\n",
      "195/195 [==============================] - 0s 1ms/step\n",
      "195/195 [==============================] - 0s 1ms/step\n"
     ]
    },
    {
     "name": "stderr",
     "output_type": "stream",
     "text": [
      "\u001b[32m[I 2023-03-03 12:01:39,733]\u001b[0m Trial 83 finished with value: 0.855300208430933 and parameters: {'units_1': 15, 'units_2': 18, 'units_3': 34, 'alpha_1': 0.05486392950838562, 'alpha_2': 0.01881612922977742, 'alpha_3': 0.031549750444118334, 'dropout_1': 0.30887910860659806, 'dropout_2': 0.32616813464882166, 'dropout_3': 0.4948699021451404, 'l2_kern_1': 2.1018764285102912e-05, 'l2_kern_2': 0.0009351827596933123, 'l2_kern_3': 2.7025363282178438e-05, 'l2_bias_1': 0.002506420159432173, 'l2_bias_2': 0.0017217609057915107, 'l2_bias_3': 0.0007774436592078054, 'lr': 0.0002617579607017166, 'batch_size': 64}. Best is trial 28 with value: 0.8837906505609912.\u001b[0m\n",
      "C:\\Users\\User\\AppData\\Local\\Temp\\ipykernel_12316\\574535459.py:60: DeprecationWarning: KerasClassifier is deprecated, use Sci-Keras (https://github.com/adriangb/scikeras) instead. See https://www.adriangb.com/scikeras/stable/migration.html for help migrating.\n",
      "  ('classifier', KerasClassifier(build_fn=self.create_model, verbose=0))\n"
     ]
    },
    {
     "name": "stdout",
     "output_type": "stream",
     "text": [
      "195/195 [==============================] - 0s 1ms/step\n",
      "195/195 [==============================] - 0s 1ms/step\n",
      "195/195 [==============================] - 0s 1ms/step\n"
     ]
    },
    {
     "name": "stderr",
     "output_type": "stream",
     "text": [
      "\u001b[32m[I 2023-03-03 12:02:35,885]\u001b[0m Trial 84 finished with value: 0.8595439822917893 and parameters: {'units_1': 13, 'units_2': 12, 'units_3': 36, 'alpha_1': 0.019254790846844234, 'alpha_2': 0.05807308106686646, 'alpha_3': 0.07089995928798315, 'dropout_1': 0.22726620333292402, 'dropout_2': 0.49455824318978464, 'dropout_3': 0.25421317102271945, 'l2_kern_1': 0.0005338837274223943, 'l2_kern_2': 0.0022938340897710203, 'l2_kern_3': 1.2160641814589385e-05, 'l2_bias_1': 7.023632582237972e-05, 'l2_bias_2': 3.051011070664116e-05, 'l2_bias_3': 0.00090821684576653, 'lr': 0.004817205446950504, 'batch_size': 64}. Best is trial 28 with value: 0.8837906505609912.\u001b[0m\n",
      "C:\\Users\\User\\AppData\\Local\\Temp\\ipykernel_12316\\574535459.py:60: DeprecationWarning: KerasClassifier is deprecated, use Sci-Keras (https://github.com/adriangb/scikeras) instead. See https://www.adriangb.com/scikeras/stable/migration.html for help migrating.\n",
      "  ('classifier', KerasClassifier(build_fn=self.create_model, verbose=0))\n"
     ]
    },
    {
     "name": "stdout",
     "output_type": "stream",
     "text": [
      "195/195 [==============================] - 0s 1ms/step\n",
      "195/195 [==============================] - 0s 1ms/step\n",
      "195/195 [==============================] - 0s 1ms/step\n"
     ]
    },
    {
     "name": "stderr",
     "output_type": "stream",
     "text": [
      "\u001b[32m[I 2023-03-03 12:03:20,393]\u001b[0m Trial 85 finished with value: 0.845466784200697 and parameters: {'units_1': 23, 'units_2': 5, 'units_3': 19, 'alpha_1': 0.0402099275875801, 'alpha_2': 0.021746705987673115, 'alpha_3': 0.05876134638359922, 'dropout_1': 0.29487817782291503, 'dropout_2': 0.4918574235916482, 'dropout_3': 0.4887245322094947, 'l2_kern_1': 4.11203134369494e-05, 'l2_kern_2': 0.008005925468591406, 'l2_kern_3': 0.004632691850558952, 'l2_bias_1': 0.0028893907750984237, 'l2_bias_2': 0.00024180438755878604, 'l2_bias_3': 0.0015331304029452496, 'lr': 0.0001344324926067075, 'batch_size': 64}. Best is trial 28 with value: 0.8837906505609912.\u001b[0m\n",
      "C:\\Users\\User\\AppData\\Local\\Temp\\ipykernel_12316\\574535459.py:60: DeprecationWarning: KerasClassifier is deprecated, use Sci-Keras (https://github.com/adriangb/scikeras) instead. See https://www.adriangb.com/scikeras/stable/migration.html for help migrating.\n",
      "  ('classifier', KerasClassifier(build_fn=self.create_model, verbose=0))\n"
     ]
    },
    {
     "name": "stdout",
     "output_type": "stream",
     "text": [
      "195/195 [==============================] - 0s 1ms/step\n",
      "195/195 [==============================] - 0s 1ms/step\n",
      "195/195 [==============================] - 0s 2ms/step\n"
     ]
    },
    {
     "name": "stderr",
     "output_type": "stream",
     "text": [
      "\u001b[32m[I 2023-03-03 12:03:47,053]\u001b[0m Trial 86 finished with value: 0.8661916081452726 and parameters: {'units_1': 32, 'units_2': 37, 'units_3': 8, 'alpha_1': 0.024876381463549573, 'alpha_2': 0.08785704462057047, 'alpha_3': 0.010497053777604569, 'dropout_1': 0.22647542052090322, 'dropout_2': 0.46762689672668345, 'dropout_3': 0.3706934609356416, 'l2_kern_1': 0.0001371005504880391, 'l2_kern_2': 0.0008226818159453855, 'l2_kern_3': 0.00015281747920915998, 'l2_bias_1': 9.619659794933859e-05, 'l2_bias_2': 2.39993629222656e-05, 'l2_bias_3': 0.0008813154858675748, 'lr': 0.0014663883734878425, 'batch_size': 1024}. Best is trial 28 with value: 0.8837906505609912.\u001b[0m\n",
      "C:\\Users\\User\\AppData\\Local\\Temp\\ipykernel_12316\\574535459.py:60: DeprecationWarning: KerasClassifier is deprecated, use Sci-Keras (https://github.com/adriangb/scikeras) instead. See https://www.adriangb.com/scikeras/stable/migration.html for help migrating.\n",
      "  ('classifier', KerasClassifier(build_fn=self.create_model, verbose=0))\n"
     ]
    },
    {
     "name": "stdout",
     "output_type": "stream",
     "text": [
      "195/195 [==============================] - 0s 1ms/step\n",
      "195/195 [==============================] - 0s 1ms/step\n",
      "195/195 [==============================] - 0s 1ms/step\n"
     ]
    },
    {
     "name": "stderr",
     "output_type": "stream",
     "text": [
      "\u001b[32m[I 2023-03-03 12:04:09,021]\u001b[0m Trial 87 finished with value: 0.8460456450874284 and parameters: {'units_1': 6, 'units_2': 26, 'units_3': 31, 'alpha_1': 0.011845282078705301, 'alpha_2': 0.01841800304915677, 'alpha_3': 0.040708315988338274, 'dropout_1': 0.2388018831540743, 'dropout_2': 0.23056939374120217, 'dropout_3': 0.30659469137269646, 'l2_kern_1': 1.000112200100703e-05, 'l2_kern_2': 0.0005079046309655712, 'l2_kern_3': 0.00142739276047247, 'l2_bias_1': 0.0012781477246902781, 'l2_bias_2': 0.006670056648483997, 'l2_bias_3': 2.6898541690392068e-05, 'lr': 0.0014079869251613553, 'batch_size': 512}. Best is trial 28 with value: 0.8837906505609912.\u001b[0m\n",
      "C:\\Users\\User\\AppData\\Local\\Temp\\ipykernel_12316\\574535459.py:60: DeprecationWarning: KerasClassifier is deprecated, use Sci-Keras (https://github.com/adriangb/scikeras) instead. See https://www.adriangb.com/scikeras/stable/migration.html for help migrating.\n",
      "  ('classifier', KerasClassifier(build_fn=self.create_model, verbose=0))\n"
     ]
    },
    {
     "name": "stdout",
     "output_type": "stream",
     "text": [
      "195/195 [==============================] - 0s 1ms/step\n",
      "195/195 [==============================] - 0s 1ms/step\n",
      "195/195 [==============================] - 0s 1ms/step\n"
     ]
    },
    {
     "name": "stderr",
     "output_type": "stream",
     "text": [
      "\u001b[32m[I 2023-03-03 12:04:36,437]\u001b[0m Trial 88 finished with value: 0.8702937727967491 and parameters: {'units_1': 15, 'units_2': 24, 'units_3': 22, 'alpha_1': 0.04651863386649763, 'alpha_2': 0.01881612922977742, 'alpha_3': 0.09255290154972129, 'dropout_1': 0.2525757264352791, 'dropout_2': 0.319021095725967, 'dropout_3': 0.4948699021451404, 'l2_kern_1': 2.063067154873716e-05, 'l2_kern_2': 4.789300964265285e-05, 'l2_kern_3': 0.0025401637387441047, 'l2_bias_1': 2.702725704139721e-05, 'l2_bias_2': 0.0001862021998588623, 'l2_bias_3': 0.0007774436592078054, 'lr': 0.006756326718658271, 'batch_size': 256}. Best is trial 28 with value: 0.8837906505609912.\u001b[0m\n",
      "C:\\Users\\User\\AppData\\Local\\Temp\\ipykernel_12316\\574535459.py:60: DeprecationWarning: KerasClassifier is deprecated, use Sci-Keras (https://github.com/adriangb/scikeras) instead. See https://www.adriangb.com/scikeras/stable/migration.html for help migrating.\n",
      "  ('classifier', KerasClassifier(build_fn=self.create_model, verbose=0))\n"
     ]
    },
    {
     "name": "stdout",
     "output_type": "stream",
     "text": [
      "195/195 [==============================] - 0s 1ms/step\n",
      "195/195 [==============================] - 0s 1ms/step\n",
      "195/195 [==============================] - 0s 1ms/step\n"
     ]
    },
    {
     "name": "stderr",
     "output_type": "stream",
     "text": [
      "\u001b[32m[I 2023-03-03 12:05:07,313]\u001b[0m Trial 89 finished with value: 0.8777347325520491 and parameters: {'units_1': 32, 'units_2': 24, 'units_3': 22, 'alpha_1': 0.04651863386649763, 'alpha_2': 0.08785704462057047, 'alpha_3': 0.010497053777604569, 'dropout_1': 0.2525757264352791, 'dropout_2': 0.2578779070309256, 'dropout_3': 0.3671623312751083, 'l2_kern_1': 2.063067154873716e-05, 'l2_kern_2': 4.789300964265285e-05, 'l2_kern_3': 0.0025401637387441047, 'l2_bias_1': 9.619659794933859e-05, 'l2_bias_2': 2.39993629222656e-05, 'l2_bias_3': 0.0017469911824291179, 'lr': 0.001897135949973436, 'batch_size': 1024}. Best is trial 28 with value: 0.8837906505609912.\u001b[0m\n",
      "C:\\Users\\User\\AppData\\Local\\Temp\\ipykernel_12316\\574535459.py:60: DeprecationWarning: KerasClassifier is deprecated, use Sci-Keras (https://github.com/adriangb/scikeras) instead. See https://www.adriangb.com/scikeras/stable/migration.html for help migrating.\n",
      "  ('classifier', KerasClassifier(build_fn=self.create_model, verbose=0))\n"
     ]
    },
    {
     "name": "stdout",
     "output_type": "stream",
     "text": [
      "195/195 [==============================] - 0s 1ms/step\n",
      "195/195 [==============================] - 0s 1ms/step\n",
      "195/195 [==============================] - 0s 1ms/step\n"
     ]
    },
    {
     "name": "stderr",
     "output_type": "stream",
     "text": [
      "\u001b[32m[I 2023-03-03 12:05:50,449]\u001b[0m Trial 90 finished with value: 0.8423256868083698 and parameters: {'units_1': 36, 'units_2': 4, 'units_3': 30, 'alpha_1': 0.05750855845540743, 'alpha_2': 0.09122512765625833, 'alpha_3': 0.05714444959726352, 'dropout_1': 0.2634904916082711, 'dropout_2': 0.3688515000300906, 'dropout_3': 0.30727460319275074, 'l2_kern_1': 0.0016710726225349448, 'l2_kern_2': 0.007654401442057143, 'l2_kern_3': 0.006830812902627049, 'l2_bias_1': 0.0006819680506934466, 'l2_bias_2': 0.0034602455081228565, 'l2_bias_3': 4.323597775356237e-05, 'lr': 7.863885922634704e-05, 'batch_size': 128}. Best is trial 28 with value: 0.8837906505609912.\u001b[0m\n",
      "C:\\Users\\User\\AppData\\Local\\Temp\\ipykernel_12316\\574535459.py:60: DeprecationWarning: KerasClassifier is deprecated, use Sci-Keras (https://github.com/adriangb/scikeras) instead. See https://www.adriangb.com/scikeras/stable/migration.html for help migrating.\n",
      "  ('classifier', KerasClassifier(build_fn=self.create_model, verbose=0))\n"
     ]
    },
    {
     "name": "stdout",
     "output_type": "stream",
     "text": [
      "195/195 [==============================] - 0s 1ms/step\n",
      "195/195 [==============================] - 0s 1ms/step\n",
      "195/195 [==============================] - 0s 1ms/step\n"
     ]
    },
    {
     "name": "stderr",
     "output_type": "stream",
     "text": [
      "\u001b[32m[I 2023-03-03 12:06:25,251]\u001b[0m Trial 91 finished with value: 0.8436777374809697 and parameters: {'units_1': 10, 'units_2': 2, 'units_3': 33, 'alpha_1': 0.0536850128094173, 'alpha_2': 0.07962240685332497, 'alpha_3': 0.052648723826648876, 'dropout_1': 0.356666765314545, 'dropout_2': 0.40726770121666267, 'dropout_3': 0.35601673108490983, 'l2_kern_1': 0.0031114331707799456, 'l2_kern_2': 0.0017426823669423883, 'l2_kern_3': 7.216423294458938e-05, 'l2_bias_1': 9.133019011637006e-05, 'l2_bias_2': 3.005648838880677e-05, 'l2_bias_3': 4.7138271043288076e-05, 'lr': 0.00070714537683722, 'batch_size': 64}. Best is trial 28 with value: 0.8837906505609912.\u001b[0m\n",
      "C:\\Users\\User\\AppData\\Local\\Temp\\ipykernel_12316\\574535459.py:60: DeprecationWarning: KerasClassifier is deprecated, use Sci-Keras (https://github.com/adriangb/scikeras) instead. See https://www.adriangb.com/scikeras/stable/migration.html for help migrating.\n",
      "  ('classifier', KerasClassifier(build_fn=self.create_model, verbose=0))\n"
     ]
    },
    {
     "name": "stdout",
     "output_type": "stream",
     "text": [
      "195/195 [==============================] - 0s 1ms/step\n",
      "195/195 [==============================] - 0s 1ms/step\n",
      "195/195 [==============================] - 0s 1ms/step\n"
     ]
    },
    {
     "name": "stderr",
     "output_type": "stream",
     "text": [
      "\u001b[32m[I 2023-03-03 12:07:02,287]\u001b[0m Trial 92 finished with value: 0.8501558285716069 and parameters: {'units_1': 15, 'units_2': 18, 'units_3': 34, 'alpha_1': 0.05486392950838562, 'alpha_2': 0.03605781025431379, 'alpha_3': 0.09979110978220525, 'dropout_1': 0.4715293035554718, 'dropout_2': 0.319021095725967, 'dropout_3': 0.4948699021451404, 'l2_kern_1': 0.0023538279141934763, 'l2_kern_2': 0.0009351827596933123, 'l2_kern_3': 0.00017366080343267468, 'l2_bias_1': 1.6299854348737244e-05, 'l2_bias_2': 0.0022228497838957754, 'l2_bias_3': 0.0007774436592078054, 'lr': 0.0002617579607017166, 'batch_size': 256}. Best is trial 28 with value: 0.8837906505609912.\u001b[0m\n",
      "C:\\Users\\User\\AppData\\Local\\Temp\\ipykernel_12316\\574535459.py:60: DeprecationWarning: KerasClassifier is deprecated, use Sci-Keras (https://github.com/adriangb/scikeras) instead. See https://www.adriangb.com/scikeras/stable/migration.html for help migrating.\n",
      "  ('classifier', KerasClassifier(build_fn=self.create_model, verbose=0))\n"
     ]
    },
    {
     "name": "stdout",
     "output_type": "stream",
     "text": [
      "195/195 [==============================] - 0s 1ms/step\n",
      "195/195 [==============================] - 0s 1ms/step\n",
      "195/195 [==============================] - 0s 1ms/step\n"
     ]
    },
    {
     "name": "stderr",
     "output_type": "stream",
     "text": [
      "\u001b[32m[I 2023-03-03 12:10:17,308]\u001b[0m Trial 93 finished with value: 0.8622264275835342 and parameters: {'units_1': 15, 'units_2': 18, 'units_3': 34, 'alpha_1': 0.0402099275875801, 'alpha_2': 0.01881612922977742, 'alpha_3': 0.03848953232364611, 'dropout_1': 0.29487817782291503, 'dropout_2': 0.319021095725967, 'dropout_3': 0.4948699021451404, 'l2_kern_1': 0.0023538279141934763, 'l2_kern_2': 0.0009351827596933123, 'l2_kern_3': 0.004632691850558952, 'l2_bias_1': 0.0028893907750984237, 'l2_bias_2': 1.1072790004202231e-05, 'l2_bias_3': 0.0015331304029452496, 'lr': 0.0002617579607017166, 'batch_size': 16}. Best is trial 28 with value: 0.8837906505609912.\u001b[0m\n",
      "C:\\Users\\User\\AppData\\Local\\Temp\\ipykernel_12316\\574535459.py:60: DeprecationWarning: KerasClassifier is deprecated, use Sci-Keras (https://github.com/adriangb/scikeras) instead. See https://www.adriangb.com/scikeras/stable/migration.html for help migrating.\n",
      "  ('classifier', KerasClassifier(build_fn=self.create_model, verbose=0))\n"
     ]
    },
    {
     "name": "stdout",
     "output_type": "stream",
     "text": [
      "195/195 [==============================] - 0s 1ms/step\n",
      "195/195 [==============================] - 0s 1ms/step\n",
      "195/195 [==============================] - 0s 1ms/step\n"
     ]
    },
    {
     "name": "stderr",
     "output_type": "stream",
     "text": [
      "\u001b[32m[I 2023-03-03 12:10:58,523]\u001b[0m Trial 94 finished with value: 0.8422347887170365 and parameters: {'units_1': 22, 'units_2': 27, 'units_3': 37, 'alpha_1': 0.04569464322387068, 'alpha_2': 0.07916847047109724, 'alpha_3': 0.055749056634572566, 'dropout_1': 0.4630126982554225, 'dropout_2': 0.36457294294239734, 'dropout_3': 0.25133961678457445, 'l2_kern_1': 0.008550790230615363, 'l2_kern_2': 6.817209047795256e-05, 'l2_kern_3': 6.140396166022713e-05, 'l2_bias_1': 0.0023533884742432598, 'l2_bias_2': 1.8276022321787535e-05, 'l2_bias_3': 5.185073712736314e-05, 'lr': 7.681782964325094e-05, 'batch_size': 256}. Best is trial 28 with value: 0.8837906505609912.\u001b[0m\n",
      "C:\\Users\\User\\AppData\\Local\\Temp\\ipykernel_12316\\574535459.py:60: DeprecationWarning: KerasClassifier is deprecated, use Sci-Keras (https://github.com/adriangb/scikeras) instead. See https://www.adriangb.com/scikeras/stable/migration.html for help migrating.\n",
      "  ('classifier', KerasClassifier(build_fn=self.create_model, verbose=0))\n"
     ]
    },
    {
     "name": "stdout",
     "output_type": "stream",
     "text": [
      "195/195 [==============================] - 0s 1ms/step\n",
      "195/195 [==============================] - 0s 1ms/step\n",
      "195/195 [==============================] - 0s 1ms/step\n"
     ]
    },
    {
     "name": "stderr",
     "output_type": "stream",
     "text": [
      "\u001b[32m[I 2023-03-03 12:15:15,372]\u001b[0m Trial 95 finished with value: 0.8714327133696665 and parameters: {'units_1': 29, 'units_2': 39, 'units_3': 14, 'alpha_1': 0.07883247050871496, 'alpha_2': 0.07247417989486053, 'alpha_3': 0.07877683967302195, 'dropout_1': 0.26875275611067484, 'dropout_2': 0.3179159704558573, 'dropout_3': 0.49272767400368406, 'l2_kern_1': 0.001280172186720632, 'l2_kern_2': 0.0016980489449325853, 'l2_kern_3': 0.00033140221046486755, 'l2_bias_1': 0.0033579258608376263, 'l2_bias_2': 0.0003370009348933032, 'l2_bias_3': 9.813355978522424e-05, 'lr': 0.00013963404603539438, 'batch_size': 16}. Best is trial 28 with value: 0.8837906505609912.\u001b[0m\n",
      "C:\\Users\\User\\AppData\\Local\\Temp\\ipykernel_12316\\574535459.py:60: DeprecationWarning: KerasClassifier is deprecated, use Sci-Keras (https://github.com/adriangb/scikeras) instead. See https://www.adriangb.com/scikeras/stable/migration.html for help migrating.\n",
      "  ('classifier', KerasClassifier(build_fn=self.create_model, verbose=0))\n"
     ]
    },
    {
     "name": "stdout",
     "output_type": "stream",
     "text": [
      "195/195 [==============================] - 0s 1ms/step\n",
      "195/195 [==============================] - 0s 1ms/step\n",
      "195/195 [==============================] - 0s 1ms/step\n"
     ]
    },
    {
     "name": "stderr",
     "output_type": "stream",
     "text": [
      "\u001b[32m[I 2023-03-03 12:15:44,068]\u001b[0m Trial 96 finished with value: 0.8749451594306331 and parameters: {'units_1': 18, 'units_2': 24, 'units_3': 20, 'alpha_1': 0.04651863386649763, 'alpha_2': 0.04478061343218964, 'alpha_3': 0.03496552483909486, 'dropout_1': 0.2525757264352791, 'dropout_2': 0.2578779070309256, 'dropout_3': 0.43951873155186316, 'l2_kern_1': 5.459422349024409e-05, 'l2_kern_2': 4.789300964265285e-05, 'l2_kern_3': 0.00012257357737617813, 'l2_bias_1': 2.702725704139721e-05, 'l2_bias_2': 0.0001862021998588623, 'l2_bias_3': 3.206478363248804e-05, 'lr': 0.0027405655095663166, 'batch_size': 512}. Best is trial 28 with value: 0.8837906505609912.\u001b[0m\n",
      "C:\\Users\\User\\AppData\\Local\\Temp\\ipykernel_12316\\574535459.py:60: DeprecationWarning: KerasClassifier is deprecated, use Sci-Keras (https://github.com/adriangb/scikeras) instead. See https://www.adriangb.com/scikeras/stable/migration.html for help migrating.\n",
      "  ('classifier', KerasClassifier(build_fn=self.create_model, verbose=0))\n"
     ]
    },
    {
     "name": "stdout",
     "output_type": "stream",
     "text": [
      "195/195 [==============================] - 0s 1ms/step\n",
      "195/195 [==============================] - 0s 1ms/step\n",
      "195/195 [==============================] - 0s 1ms/step\n"
     ]
    },
    {
     "name": "stderr",
     "output_type": "stream",
     "text": [
      "\u001b[32m[I 2023-03-03 12:16:07,986]\u001b[0m Trial 97 finished with value: 0.876290570107099 and parameters: {'units_1': 28, 'units_2': 6, 'units_3': 22, 'alpha_1': 0.04651863386649763, 'alpha_2': 0.05807308106686646, 'alpha_3': 0.09255290154972129, 'dropout_1': 0.2525757264352791, 'dropout_2': 0.2578779070309256, 'dropout_3': 0.3320117232148606, 'l2_kern_1': 0.0005338837274223943, 'l2_kern_2': 4.789300964265285e-05, 'l2_kern_3': 0.000337538702110527, 'l2_bias_1': 2.702725704139721e-05, 'l2_bias_2': 0.0008482540344689318, 'l2_bias_3': 5.172222462709109e-05, 'lr': 0.004817205446950504, 'batch_size': 256}. Best is trial 28 with value: 0.8837906505609912.\u001b[0m\n",
      "C:\\Users\\User\\AppData\\Local\\Temp\\ipykernel_12316\\574535459.py:60: DeprecationWarning: KerasClassifier is deprecated, use Sci-Keras (https://github.com/adriangb/scikeras) instead. See https://www.adriangb.com/scikeras/stable/migration.html for help migrating.\n",
      "  ('classifier', KerasClassifier(build_fn=self.create_model, verbose=0))\n"
     ]
    },
    {
     "name": "stdout",
     "output_type": "stream",
     "text": [
      "195/195 [==============================] - 0s 1ms/step\n",
      "195/195 [==============================] - 0s 1ms/step\n",
      "195/195 [==============================] - 0s 1ms/step\n"
     ]
    },
    {
     "name": "stderr",
     "output_type": "stream",
     "text": [
      "\u001b[32m[I 2023-03-03 12:16:52,018]\u001b[0m Trial 98 finished with value: 0.8784732360422022 and parameters: {'units_1': 32, 'units_2': 27, 'units_3': 37, 'alpha_1': 0.08904255490659725, 'alpha_2': 0.07916847047109724, 'alpha_3': 0.055749056634572566, 'dropout_1': 0.4630126982554225, 'dropout_2': 0.20614287534302247, 'dropout_3': 0.25133961678457445, 'l2_kern_1': 0.008550790230615363, 'l2_kern_2': 6.817209047795256e-05, 'l2_kern_3': 6.140396166022713e-05, 'l2_bias_1': 0.0023533884742432598, 'l2_bias_2': 0.0003690806551596604, 'l2_bias_3': 2.067871694424216e-05, 'lr': 0.001060558291224372, 'batch_size': 128}. Best is trial 28 with value: 0.8837906505609912.\u001b[0m\n",
      "C:\\Users\\User\\AppData\\Local\\Temp\\ipykernel_12316\\574535459.py:60: DeprecationWarning: KerasClassifier is deprecated, use Sci-Keras (https://github.com/adriangb/scikeras) instead. See https://www.adriangb.com/scikeras/stable/migration.html for help migrating.\n",
      "  ('classifier', KerasClassifier(build_fn=self.create_model, verbose=0))\n"
     ]
    },
    {
     "name": "stdout",
     "output_type": "stream",
     "text": [
      "195/195 [==============================] - 0s 2ms/step\n",
      "195/195 [==============================] - 0s 1ms/step\n",
      "195/195 [==============================] - 0s 1ms/step\n"
     ]
    },
    {
     "name": "stderr",
     "output_type": "stream",
     "text": [
      "\u001b[32m[I 2023-03-03 12:17:16,958]\u001b[0m Trial 99 finished with value: 0.8473282884816857 and parameters: {'units_1': 12, 'units_2': 27, 'units_3': 27, 'alpha_1': 0.03270457851799683, 'alpha_2': 0.06293759423074294, 'alpha_3': 0.051343239689101296, 'dropout_1': 0.3151373309454545, 'dropout_2': 0.4969687452999564, 'dropout_3': 0.3331119094720426, 'l2_kern_1': 0.00047196436532293554, 'l2_kern_2': 7.4332458844821e-05, 'l2_kern_3': 2.1094489158545268e-05, 'l2_bias_1': 8.424665095034688e-05, 'l2_bias_2': 0.00014301618806787715, 'l2_bias_3': 0.00017533352766397825, 'lr': 0.0007192394758225132, 'batch_size': 512}. Best is trial 28 with value: 0.8837906505609912.\u001b[0m\n"
     ]
    },
    {
     "name": "stdout",
     "output_type": "stream",
     "text": [
      "Number of finished trials: 100\n",
      "Best trial:\n",
      "  Value: 0.8837906505609912\n",
      "    units_1: 24\n",
      "    units_2: 24\n",
      "    units_3: 22\n",
      "    alpha_1: 0.04651863386649763\n",
      "    alpha_2: 0.04478061343218964\n",
      "    alpha_3: 0.09255290154972129\n",
      "    dropout_1: 0.2525757264352791\n",
      "    dropout_2: 0.2578779070309256\n",
      "    dropout_3: 0.3320117232148606\n",
      "    l2_kern_1: 2.063067154873716e-05\n",
      "    l2_kern_2: 4.789300964265285e-05\n",
      "    l2_kern_3: 0.0025401637387441047\n",
      "    l2_bias_1: 2.702725704139721e-05\n",
      "    l2_bias_2: 0.0001862021998588623\n",
      "    l2_bias_3: 0.0017469911824291179\n",
      "    lr: 0.006756326718658271\n",
      "    batch_size: 256\n"
     ]
    },
    {
     "name": "stderr",
     "output_type": "stream",
     "text": [
      "C:\\Users\\User\\AppData\\Local\\Temp\\ipykernel_12316\\574535459.py:169: DeprecationWarning: KerasClassifier is deprecated, use Sci-Keras (https://github.com/adriangb/scikeras) instead. See https://www.adriangb.com/scikeras/stable/migration.html for help migrating.\n",
      "  ('classifier', KerasClassifier(build_fn=tun.create_model, verbose=0))\n"
     ]
    },
    {
     "name": "stdout",
     "output_type": "stream",
     "text": [
      "117/117 [==============================] - 0s 1ms/step\n",
      "117/117 [==============================] - 0s 1ms/step\n",
      "117/117 [==============================] - 0s 1ms/step\n",
      "117/117 [==============================] - 0s 1ms/step\n",
      "117/117 [==============================] - 0s 1ms/step\n",
      "37/37 [==============================] - 0s 1ms/step\n",
      "37/37 [==============================] - 0s 1ms/step\n",
      "37/37 [==============================] - 0s 2ms/step\n",
      "37/37 [==============================] - 0s 2ms/step\n",
      "37/37 [==============================] - 0s 1ms/step\n",
      "Train mean AUC score is 0.8831577043780025 while test mean AUC score is 0.8892698365551803.\n",
      "183/183 [==============================] - 0s 1ms/step\n",
      "              precision    recall  f1-score   support\n",
      "\n",
      "          No       0.91      0.98      0.94      4648\n",
      "         Yes       0.87      0.63      0.73      1186\n",
      "\n",
      "    accuracy                           0.91      5834\n",
      "   macro avg       0.89      0.80      0.84      5834\n",
      "weighted avg       0.90      0.91      0.90      5834\n",
      "\n"
     ]
    }
   ],
   "source": [
    "# Genetic Algorithm\n",
    "params_ga = tun.Tuning(n_trials=trials, sampler = optuna.samplers.NSGAIISampler())\n",
    "ga_scores = tun.Best_MLP_model(params_ga)\n",
    "ga_scores = ga_scores.rename(columns={'Tree-structured Parzen Estimator': 'Genetic Algorithm'})\n"
   ]
  },
  {
   "cell_type": "code",
   "execution_count": 10,
   "id": "5ddb9b21",
   "metadata": {},
   "outputs": [
    {
     "name": "stderr",
     "output_type": "stream",
     "text": [
      "C:\\Users\\User\\AppData\\Local\\Temp\\ipykernel_12316\\3195711531.py:2: ExperimentalWarning: QMCSampler is experimental (supported from v3.0.0). The interface can change in the future.\n",
      "  params_mc = tun.Tuning(n_trials=trials, sampler = optuna.samplers.QMCSampler())\n",
      "\u001b[32m[I 2023-03-03 12:22:34,491]\u001b[0m A new study created in memory with name: no-name-d88ee8b3-6e24-49f3-957d-60472bbeb435\u001b[0m\n",
      "C:\\Users\\User\\AppData\\Local\\Temp\\ipykernel_12316\\574535459.py:60: DeprecationWarning: KerasClassifier is deprecated, use Sci-Keras (https://github.com/adriangb/scikeras) instead. See https://www.adriangb.com/scikeras/stable/migration.html for help migrating.\n",
      "  ('classifier', KerasClassifier(build_fn=self.create_model, verbose=0))\n"
     ]
    },
    {
     "name": "stdout",
     "output_type": "stream",
     "text": [
      "195/195 [==============================] - 0s 1ms/step\n",
      "195/195 [==============================] - 0s 1ms/step\n",
      "195/195 [==============================] - 0s 1ms/step\n"
     ]
    },
    {
     "name": "stderr",
     "output_type": "stream",
     "text": [
      "\u001b[32m[I 2023-03-03 12:22:56,320]\u001b[0m Trial 0 finished with value: 0.8558130797614992 and parameters: {'units_1': 19, 'units_2': 5, 'units_3': 28, 'alpha_1': 0.021260913942485797, 'alpha_2': 0.03938916996410331, 'alpha_3': 0.058148775358069185, 'dropout_1': 0.4791643251249591, 'dropout_2': 0.43519634958744025, 'dropout_3': 0.3247933410516084, 'l2_kern_1': 1.430899347833043e-05, 'l2_kern_2': 0.0005845062789525349, 'l2_kern_3': 0.0001274923429228076, 'l2_bias_1': 1.3196588229003804e-05, 'l2_bias_2': 0.000329399957788416, 'l2_bias_3': 0.006183040367887882, 'lr': 0.0017444151699903493, 'batch_size': 256}. Best is trial 0 with value: 0.8558130797614992.\u001b[0m\n",
      "C:\\Users\\User\\AppData\\Local\\Temp\\ipykernel_12316\\574535459.py:60: DeprecationWarning: KerasClassifier is deprecated, use Sci-Keras (https://github.com/adriangb/scikeras) instead. See https://www.adriangb.com/scikeras/stable/migration.html for help migrating.\n",
      "  ('classifier', KerasClassifier(build_fn=self.create_model, verbose=0))\n",
      "\u001b[33m[W 2023-03-03 12:22:56,379]\u001b[0m The parameter 'l2_kern_1' in trial#1 is sampled independently by using `RandomSampler` instead of `QMCSampler` (optimization performance may be degraded). `QMCSampler` does not support dynamic search space or `CategoricalDistribution`. You can suppress this warning by setting `warn_independent_sampling` to `False` in the constructor of `QMCSampler`, if this independent sampling is intended behavior.\u001b[0m\n",
      "\u001b[33m[W 2023-03-03 12:22:56,381]\u001b[0m The parameter 'l2_kern_2' in trial#1 is sampled independently by using `RandomSampler` instead of `QMCSampler` (optimization performance may be degraded). `QMCSampler` does not support dynamic search space or `CategoricalDistribution`. You can suppress this warning by setting `warn_independent_sampling` to `False` in the constructor of `QMCSampler`, if this independent sampling is intended behavior.\u001b[0m\n",
      "\u001b[33m[W 2023-03-03 12:22:56,383]\u001b[0m The parameter 'l2_kern_3' in trial#1 is sampled independently by using `RandomSampler` instead of `QMCSampler` (optimization performance may be degraded). `QMCSampler` does not support dynamic search space or `CategoricalDistribution`. You can suppress this warning by setting `warn_independent_sampling` to `False` in the constructor of `QMCSampler`, if this independent sampling is intended behavior.\u001b[0m\n",
      "\u001b[33m[W 2023-03-03 12:22:56,386]\u001b[0m The parameter 'l2_bias_1' in trial#1 is sampled independently by using `RandomSampler` instead of `QMCSampler` (optimization performance may be degraded). `QMCSampler` does not support dynamic search space or `CategoricalDistribution`. You can suppress this warning by setting `warn_independent_sampling` to `False` in the constructor of `QMCSampler`, if this independent sampling is intended behavior.\u001b[0m\n",
      "\u001b[33m[W 2023-03-03 12:22:56,388]\u001b[0m The parameter 'l2_bias_2' in trial#1 is sampled independently by using `RandomSampler` instead of `QMCSampler` (optimization performance may be degraded). `QMCSampler` does not support dynamic search space or `CategoricalDistribution`. You can suppress this warning by setting `warn_independent_sampling` to `False` in the constructor of `QMCSampler`, if this independent sampling is intended behavior.\u001b[0m\n",
      "\u001b[33m[W 2023-03-03 12:22:56,390]\u001b[0m The parameter 'l2_bias_3' in trial#1 is sampled independently by using `RandomSampler` instead of `QMCSampler` (optimization performance may be degraded). `QMCSampler` does not support dynamic search space or `CategoricalDistribution`. You can suppress this warning by setting `warn_independent_sampling` to `False` in the constructor of `QMCSampler`, if this independent sampling is intended behavior.\u001b[0m\n",
      "\u001b[33m[W 2023-03-03 12:22:56,397]\u001b[0m The parameter 'batch_size' in trial#1 is sampled independently by using `RandomSampler` instead of `QMCSampler` (optimization performance may be degraded). `QMCSampler` does not support dynamic search space or `CategoricalDistribution`. You can suppress this warning by setting `warn_independent_sampling` to `False` in the constructor of `QMCSampler`, if this independent sampling is intended behavior.\u001b[0m\n"
     ]
    },
    {
     "name": "stdout",
     "output_type": "stream",
     "text": [
      "195/195 [==============================] - 0s 1ms/step\n",
      "195/195 [==============================] - 0s 1ms/step\n",
      "195/195 [==============================] - 0s 1ms/step\n"
     ]
    },
    {
     "name": "stderr",
     "output_type": "stream",
     "text": [
      "\u001b[32m[I 2023-03-03 12:25:36,012]\u001b[0m Trial 1 finished with value: 0.7087712385745055 and parameters: {'units_1': 2, 'units_2': 2, 'units_3': 2, 'alpha_1': 0.01, 'alpha_2': 0.01, 'alpha_3': 0.01, 'dropout_1': 0.2, 'dropout_2': 0.2, 'dropout_3': 0.2, 'l2_kern_1': 1.3911789913008766e-05, 'l2_kern_2': 0.0021834097622617584, 'l2_kern_3': 0.007374555140664038, 'l2_bias_1': 4.267599815121132e-05, 'l2_bias_2': 0.0013871912837915034, 'l2_bias_3': 0.0003643596385814419, 'lr': 5.000000000000004e-05, 'batch_size': 32}. Best is trial 0 with value: 0.8558130797614992.\u001b[0m\n",
      "C:\\Users\\User\\AppData\\Local\\Temp\\ipykernel_12316\\574535459.py:60: DeprecationWarning: KerasClassifier is deprecated, use Sci-Keras (https://github.com/adriangb/scikeras) instead. See https://www.adriangb.com/scikeras/stable/migration.html for help migrating.\n",
      "  ('classifier', KerasClassifier(build_fn=self.create_model, verbose=0))\n",
      "\u001b[33m[W 2023-03-03 12:25:36,015]\u001b[0m The parameter 'batch_size' in trial#2 is sampled independently by using `RandomSampler` instead of `QMCSampler` (optimization performance may be degraded). `QMCSampler` does not support dynamic search space or `CategoricalDistribution`. You can suppress this warning by setting `warn_independent_sampling` to `False` in the constructor of `QMCSampler`, if this independent sampling is intended behavior.\u001b[0m\n"
     ]
    },
    {
     "name": "stdout",
     "output_type": "stream",
     "text": [
      "195/195 [==============================] - 0s 1ms/step\n",
      "195/195 [==============================] - 0s 1ms/step\n",
      "195/195 [==============================] - 0s 1ms/step\n"
     ]
    },
    {
     "name": "stderr",
     "output_type": "stream",
     "text": [
      "\u001b[32m[I 2023-03-03 12:26:00,144]\u001b[0m Trial 2 finished with value: 0.8533470315470075 and parameters: {'units_1': 21, 'units_2': 21, 'units_3': 21, 'alpha_1': 0.05500000000000001, 'alpha_2': 0.05500000000000001, 'alpha_3': 0.05500000000000001, 'dropout_1': 0.35, 'dropout_2': 0.35, 'dropout_3': 0.35, 'l2_kern_1': 0.00031622776601683783, 'l2_kern_2': 0.00031622776601683783, 'l2_kern_3': 0.00031622776601683783, 'l2_bias_1': 0.00031622776601683783, 'l2_bias_2': 0.00031622776601683783, 'l2_bias_3': 0.00031622776601683783, 'lr': 0.0007071067811865483, 'batch_size': 512}. Best is trial 0 with value: 0.8558130797614992.\u001b[0m\n",
      "C:\\Users\\User\\AppData\\Local\\Temp\\ipykernel_12316\\574535459.py:60: DeprecationWarning: KerasClassifier is deprecated, use Sci-Keras (https://github.com/adriangb/scikeras) instead. See https://www.adriangb.com/scikeras/stable/migration.html for help migrating.\n",
      "  ('classifier', KerasClassifier(build_fn=self.create_model, verbose=0))\n",
      "\u001b[33m[W 2023-03-03 12:26:00,149]\u001b[0m The parameter 'batch_size' in trial#3 is sampled independently by using `RandomSampler` instead of `QMCSampler` (optimization performance may be degraded). `QMCSampler` does not support dynamic search space or `CategoricalDistribution`. You can suppress this warning by setting `warn_independent_sampling` to `False` in the constructor of `QMCSampler`, if this independent sampling is intended behavior.\u001b[0m\n"
     ]
    },
    {
     "name": "stdout",
     "output_type": "stream",
     "text": [
      "195/195 [==============================] - 0s 1ms/step\n",
      "195/195 [==============================] - 0s 1ms/step\n",
      "195/195 [==============================] - 0s 1ms/step\n"
     ]
    },
    {
     "name": "stderr",
     "output_type": "stream",
     "text": [
      "\u001b[32m[I 2023-03-03 12:26:26,380]\u001b[0m Trial 3 finished with value: 0.839417711974253 and parameters: {'units_1': 31, 'units_2': 11, 'units_3': 11, 'alpha_1': 0.0325, 'alpha_2': 0.0775, 'alpha_3': 0.0775, 'dropout_1': 0.275, 'dropout_2': 0.425, 'dropout_3': 0.425, 'l2_kern_1': 0.0017782794100389236, 'l2_kern_2': 0.0017782794100389236, 'l2_kern_3': 0.0017782794100389236, 'l2_bias_1': 5.6234132519034893e-05, 'l2_bias_2': 5.6234132519034893e-05, 'l2_bias_3': 0.0017782794100389236, 'lr': 0.00018803015465431968, 'batch_size': 1024}. Best is trial 0 with value: 0.8558130797614992.\u001b[0m\n",
      "C:\\Users\\User\\AppData\\Local\\Temp\\ipykernel_12316\\574535459.py:60: DeprecationWarning: KerasClassifier is deprecated, use Sci-Keras (https://github.com/adriangb/scikeras) instead. See https://www.adriangb.com/scikeras/stable/migration.html for help migrating.\n",
      "  ('classifier', KerasClassifier(build_fn=self.create_model, verbose=0))\n",
      "\u001b[33m[W 2023-03-03 12:26:26,384]\u001b[0m The parameter 'batch_size' in trial#4 is sampled independently by using `RandomSampler` instead of `QMCSampler` (optimization performance may be degraded). `QMCSampler` does not support dynamic search space or `CategoricalDistribution`. You can suppress this warning by setting `warn_independent_sampling` to `False` in the constructor of `QMCSampler`, if this independent sampling is intended behavior.\u001b[0m\n"
     ]
    },
    {
     "name": "stdout",
     "output_type": "stream",
     "text": [
      "195/195 [==============================] - 0s 1ms/step\n",
      "195/195 [==============================] - 0s 2ms/step\n",
      "195/195 [==============================] - 0s 1ms/step\n"
     ]
    },
    {
     "name": "stderr",
     "output_type": "stream",
     "text": [
      "\u001b[32m[I 2023-03-03 12:27:18,064]\u001b[0m Trial 4 finished with value: 0.8645780572211397 and parameters: {'units_1': 11, 'units_2': 31, 'units_3': 31, 'alpha_1': 0.0775, 'alpha_2': 0.0325, 'alpha_3': 0.0325, 'dropout_1': 0.425, 'dropout_2': 0.275, 'dropout_3': 0.275, 'l2_kern_1': 5.6234132519034893e-05, 'l2_kern_2': 5.6234132519034893e-05, 'l2_kern_3': 5.6234132519034893e-05, 'l2_bias_1': 0.0017782794100389236, 'l2_bias_2': 0.0017782794100389236, 'l2_bias_3': 5.6234132519034893e-05, 'lr': 0.002659147948472495, 'batch_size': 64}. Best is trial 4 with value: 0.8645780572211397.\u001b[0m\n",
      "C:\\Users\\User\\AppData\\Local\\Temp\\ipykernel_12316\\574535459.py:60: DeprecationWarning: KerasClassifier is deprecated, use Sci-Keras (https://github.com/adriangb/scikeras) instead. See https://www.adriangb.com/scikeras/stable/migration.html for help migrating.\n",
      "  ('classifier', KerasClassifier(build_fn=self.create_model, verbose=0))\n",
      "\u001b[33m[W 2023-03-03 12:27:18,069]\u001b[0m The parameter 'batch_size' in trial#5 is sampled independently by using `RandomSampler` instead of `QMCSampler` (optimization performance may be degraded). `QMCSampler` does not support dynamic search space or `CategoricalDistribution`. You can suppress this warning by setting `warn_independent_sampling` to `False` in the constructor of `QMCSampler`, if this independent sampling is intended behavior.\u001b[0m\n"
     ]
    },
    {
     "name": "stdout",
     "output_type": "stream",
     "text": [
      "195/195 [==============================] - 0s 1ms/step\n",
      "195/195 [==============================] - 0s 1ms/step\n",
      "195/195 [==============================] - 0s 1ms/step\n"
     ]
    },
    {
     "name": "stderr",
     "output_type": "stream",
     "text": [
      "\u001b[32m[I 2023-03-03 12:27:53,977]\u001b[0m Trial 5 finished with value: 0.8662600829952836 and parameters: {'units_1': 16, 'units_2': 16, 'units_3': 26, 'alpha_1': 0.08875000000000001, 'alpha_2': 0.043750000000000004, 'alpha_3': 0.02125, 'dropout_1': 0.3125, 'dropout_2': 0.4625, 'dropout_3': 0.4625, 'l2_kern_1': 0.0007498942093324562, 'l2_kern_2': 0.004216965034285825, 'l2_kern_3': 0.00013335214321633237, 'l2_bias_1': 0.00013335214321633237, 'l2_bias_2': 0.0007498942093324562, 'l2_bias_3': 0.00013335214321633237, 'lr': 0.005156692688606234, 'batch_size': 64}. Best is trial 5 with value: 0.8662600829952836.\u001b[0m\n",
      "C:\\Users\\User\\AppData\\Local\\Temp\\ipykernel_12316\\574535459.py:60: DeprecationWarning: KerasClassifier is deprecated, use Sci-Keras (https://github.com/adriangb/scikeras) instead. See https://www.adriangb.com/scikeras/stable/migration.html for help migrating.\n",
      "  ('classifier', KerasClassifier(build_fn=self.create_model, verbose=0))\n",
      "\u001b[33m[W 2023-03-03 12:27:53,982]\u001b[0m The parameter 'batch_size' in trial#6 is sampled independently by using `RandomSampler` instead of `QMCSampler` (optimization performance may be degraded). `QMCSampler` does not support dynamic search space or `CategoricalDistribution`. You can suppress this warning by setting `warn_independent_sampling` to `False` in the constructor of `QMCSampler`, if this independent sampling is intended behavior.\u001b[0m\n"
     ]
    },
    {
     "name": "stdout",
     "output_type": "stream",
     "text": [
      "195/195 [==============================] - 0s 1ms/step\n",
      "195/195 [==============================] - 0s 1ms/step\n",
      "195/195 [==============================] - 0s 1ms/step\n"
     ]
    },
    {
     "name": "stderr",
     "output_type": "stream",
     "text": [
      "\u001b[32m[I 2023-03-03 12:29:50,353]\u001b[0m Trial 6 finished with value: 0.8599396346611551 and parameters: {'units_1': 36, 'units_2': 36, 'units_3': 6, 'alpha_1': 0.043750000000000004, 'alpha_2': 0.08875000000000001, 'alpha_3': 0.06625, 'dropout_1': 0.4625, 'dropout_2': 0.3125, 'dropout_3': 0.3125, 'l2_kern_1': 2.3713737056616547e-05, 'l2_kern_2': 0.00013335214321633237, 'l2_kern_3': 0.004216965034285825, 'l2_bias_1': 0.004216965034285825, 'l2_bias_2': 2.3713737056616547e-05, 'l2_bias_3': 0.004216965034285825, 'lr': 0.00036463323686085564, 'batch_size': 16}. Best is trial 5 with value: 0.8662600829952836.\u001b[0m\n",
      "C:\\Users\\User\\AppData\\Local\\Temp\\ipykernel_12316\\574535459.py:60: DeprecationWarning: KerasClassifier is deprecated, use Sci-Keras (https://github.com/adriangb/scikeras) instead. See https://www.adriangb.com/scikeras/stable/migration.html for help migrating.\n",
      "  ('classifier', KerasClassifier(build_fn=self.create_model, verbose=0))\n",
      "\u001b[33m[W 2023-03-03 12:29:50,358]\u001b[0m The parameter 'batch_size' in trial#7 is sampled independently by using `RandomSampler` instead of `QMCSampler` (optimization performance may be degraded). `QMCSampler` does not support dynamic search space or `CategoricalDistribution`. You can suppress this warning by setting `warn_independent_sampling` to `False` in the constructor of `QMCSampler`, if this independent sampling is intended behavior.\u001b[0m\n"
     ]
    },
    {
     "name": "stdout",
     "output_type": "stream",
     "text": [
      "195/195 [==============================] - 0s 1ms/step\n",
      "195/195 [==============================] - 0s 1ms/step\n",
      "195/195 [==============================] - 0s 1ms/step\n"
     ]
    },
    {
     "name": "stderr",
     "output_type": "stream",
     "text": [
      "\u001b[32m[I 2023-03-03 12:30:31,044]\u001b[0m Trial 7 finished with value: 0.8785098444046331 and parameters: {'units_1': 26, 'units_2': 6, 'units_3': 36, 'alpha_1': 0.06625, 'alpha_2': 0.06625, 'alpha_3': 0.08875000000000001, 'dropout_1': 0.23750000000000002, 'dropout_2': 0.23750000000000002, 'dropout_3': 0.23750000000000002, 'l2_kern_1': 0.00013335214321633237, 'l2_kern_2': 2.3713737056616547e-05, 'l2_kern_3': 0.0007498942093324562, 'l2_bias_1': 2.3713737056616547e-05, 'l2_bias_2': 0.004216965034285825, 'l2_bias_3': 0.0007498942093324562, 'lr': 0.0013712408783810375, 'batch_size': 128}. Best is trial 7 with value: 0.8785098444046331.\u001b[0m\n",
      "C:\\Users\\User\\AppData\\Local\\Temp\\ipykernel_12316\\574535459.py:60: DeprecationWarning: KerasClassifier is deprecated, use Sci-Keras (https://github.com/adriangb/scikeras) instead. See https://www.adriangb.com/scikeras/stable/migration.html for help migrating.\n",
      "  ('classifier', KerasClassifier(build_fn=self.create_model, verbose=0))\n",
      "\u001b[33m[W 2023-03-03 12:30:31,047]\u001b[0m The parameter 'batch_size' in trial#8 is sampled independently by using `RandomSampler` instead of `QMCSampler` (optimization performance may be degraded). `QMCSampler` does not support dynamic search space or `CategoricalDistribution`. You can suppress this warning by setting `warn_independent_sampling` to `False` in the constructor of `QMCSampler`, if this independent sampling is intended behavior.\u001b[0m\n"
     ]
    },
    {
     "name": "stdout",
     "output_type": "stream",
     "text": [
      "195/195 [==============================] - 0s 1ms/step\n",
      "195/195 [==============================] - 0s 1ms/step\n",
      "195/195 [==============================] - 0s 1ms/step\n"
     ]
    },
    {
     "name": "stderr",
     "output_type": "stream",
     "text": [
      "\u001b[32m[I 2023-03-03 12:30:58,948]\u001b[0m Trial 8 finished with value: 0.8269978497515734 and parameters: {'units_1': 6, 'units_2': 26, 'units_3': 16, 'alpha_1': 0.02125, 'alpha_2': 0.02125, 'alpha_3': 0.043750000000000004, 'dropout_1': 0.3875, 'dropout_2': 0.3875, 'dropout_3': 0.3875, 'l2_kern_1': 0.004216965034285825, 'l2_kern_2': 0.0007498942093324562, 'l2_kern_3': 2.3713737056616547e-05, 'l2_bias_1': 0.0007498942093324562, 'l2_bias_2': 0.00013335214321633237, 'l2_bias_3': 2.3713737056616547e-05, 'lr': 9.696137237434293e-05, 'batch_size': 512}. Best is trial 7 with value: 0.8785098444046331.\u001b[0m\n",
      "C:\\Users\\User\\AppData\\Local\\Temp\\ipykernel_12316\\574535459.py:60: DeprecationWarning: KerasClassifier is deprecated, use Sci-Keras (https://github.com/adriangb/scikeras) instead. See https://www.adriangb.com/scikeras/stable/migration.html for help migrating.\n",
      "  ('classifier', KerasClassifier(build_fn=self.create_model, verbose=0))\n",
      "\u001b[33m[W 2023-03-03 12:30:58,953]\u001b[0m The parameter 'batch_size' in trial#9 is sampled independently by using `RandomSampler` instead of `QMCSampler` (optimization performance may be degraded). `QMCSampler` does not support dynamic search space or `CategoricalDistribution`. You can suppress this warning by setting `warn_independent_sampling` to `False` in the constructor of `QMCSampler`, if this independent sampling is intended behavior.\u001b[0m\n"
     ]
    },
    {
     "name": "stdout",
     "output_type": "stream",
     "text": [
      "195/195 [==============================] - 0s 1ms/step\n",
      "195/195 [==============================] - 0s 1ms/step\n",
      "195/195 [==============================] - 0s 1ms/step\n"
     ]
    },
    {
     "name": "stderr",
     "output_type": "stream",
     "text": [
      "\u001b[32m[I 2023-03-03 12:31:31,756]\u001b[0m Trial 9 finished with value: 0.8556908698759722 and parameters: {'units_1': 9, 'units_2': 14, 'units_3': 38, 'alpha_1': 0.04937500000000001, 'alpha_2': 0.060625000000000005, 'alpha_3': 0.038125000000000006, 'dropout_1': 0.33125000000000004, 'dropout_2': 0.48125, 'dropout_3': 0.48125, 'l2_kern_1': 8.659643233600651e-05, 'l2_kern_2': 0.0011547819846894588, 'l2_kern_3': 1.5399265260594915e-05, 'l2_bias_1': 0.0064938163157621165, 'l2_bias_2': 0.0064938163157621165, 'l2_bias_3': 0.0027384196342643626, 'lr': 0.007181011550336231, 'batch_size': 64}. Best is trial 7 with value: 0.8785098444046331.\u001b[0m\n",
      "C:\\Users\\User\\AppData\\Local\\Temp\\ipykernel_12316\\574535459.py:60: DeprecationWarning: KerasClassifier is deprecated, use Sci-Keras (https://github.com/adriangb/scikeras) instead. See https://www.adriangb.com/scikeras/stable/migration.html for help migrating.\n",
      "  ('classifier', KerasClassifier(build_fn=self.create_model, verbose=0))\n",
      "\u001b[33m[W 2023-03-03 12:31:31,762]\u001b[0m The parameter 'batch_size' in trial#10 is sampled independently by using `RandomSampler` instead of `QMCSampler` (optimization performance may be degraded). `QMCSampler` does not support dynamic search space or `CategoricalDistribution`. You can suppress this warning by setting `warn_independent_sampling` to `False` in the constructor of `QMCSampler`, if this independent sampling is intended behavior.\u001b[0m\n"
     ]
    },
    {
     "name": "stdout",
     "output_type": "stream",
     "text": [
      "195/195 [==============================] - 0s 1ms/step\n",
      "195/195 [==============================] - 0s 1ms/step\n",
      "195/195 [==============================] - 0s 1ms/step\n"
     ]
    },
    {
     "name": "stderr",
     "output_type": "stream",
     "text": [
      "\u001b[32m[I 2023-03-03 12:32:02,286]\u001b[0m Trial 10 finished with value: 0.8555770843670601 and parameters: {'units_1': 28, 'units_2': 33, 'units_3': 19, 'alpha_1': 0.094375, 'alpha_2': 0.015625, 'alpha_3': 0.083125, 'dropout_1': 0.48125, 'dropout_2': 0.33125000000000004, 'dropout_3': 0.33125000000000004, 'l2_kern_1': 0.0027384196342643626, 'l2_kern_2': 3.651741272548376e-05, 'l2_kern_3': 0.00048696752516586293, 'l2_bias_1': 0.00020535250264571456, 'l2_bias_2': 0.00020535250264571456, 'l2_bias_3': 8.659643233600651e-05, 'lr': 0.000507774196302167, 'batch_size': 256}. Best is trial 7 with value: 0.8785098444046331.\u001b[0m\n",
      "C:\\Users\\User\\AppData\\Local\\Temp\\ipykernel_12316\\574535459.py:60: DeprecationWarning: KerasClassifier is deprecated, use Sci-Keras (https://github.com/adriangb/scikeras) instead. See https://www.adriangb.com/scikeras/stable/migration.html for help migrating.\n",
      "  ('classifier', KerasClassifier(build_fn=self.create_model, verbose=0))\n",
      "\u001b[33m[W 2023-03-03 12:32:02,291]\u001b[0m The parameter 'batch_size' in trial#11 is sampled independently by using `RandomSampler` instead of `QMCSampler` (optimization performance may be degraded). `QMCSampler` does not support dynamic search space or `CategoricalDistribution`. You can suppress this warning by setting `warn_independent_sampling` to `False` in the constructor of `QMCSampler`, if this independent sampling is intended behavior.\u001b[0m\n"
     ]
    },
    {
     "name": "stdout",
     "output_type": "stream",
     "text": [
      "195/195 [==============================] - 0s 1ms/step\n",
      "195/195 [==============================] - 0s 1ms/step\n",
      "195/195 [==============================] - 0s 1ms/step\n"
     ]
    },
    {
     "name": "stderr",
     "output_type": "stream",
     "text": [
      "\u001b[32m[I 2023-03-03 12:32:32,096]\u001b[0m Trial 11 finished with value: 0.8747976610460296 and parameters: {'units_1': 38, 'units_2': 4, 'units_3': 28, 'alpha_1': 0.026875000000000003, 'alpha_2': 0.038125000000000006, 'alpha_3': 0.060625000000000005, 'dropout_1': 0.25625, 'dropout_2': 0.25625, 'dropout_3': 0.25625, 'l2_kern_1': 0.00048696752516586293, 'l2_kern_2': 0.00020535250264571456, 'l2_kern_3': 0.0027384196342643626, 'l2_bias_1': 0.0011547819846894588, 'l2_bias_2': 0.0011547819846894588, 'l2_bias_3': 1.5399265260594915e-05, 'lr': 0.0019095372132033872, 'batch_size': 256}. Best is trial 7 with value: 0.8785098444046331.\u001b[0m\n",
      "C:\\Users\\User\\AppData\\Local\\Temp\\ipykernel_12316\\574535459.py:60: DeprecationWarning: KerasClassifier is deprecated, use Sci-Keras (https://github.com/adriangb/scikeras) instead. See https://www.adriangb.com/scikeras/stable/migration.html for help migrating.\n",
      "  ('classifier', KerasClassifier(build_fn=self.create_model, verbose=0))\n",
      "\u001b[33m[W 2023-03-03 12:32:32,101]\u001b[0m The parameter 'batch_size' in trial#12 is sampled independently by using `RandomSampler` instead of `QMCSampler` (optimization performance may be degraded). `QMCSampler` does not support dynamic search space or `CategoricalDistribution`. You can suppress this warning by setting `warn_independent_sampling` to `False` in the constructor of `QMCSampler`, if this independent sampling is intended behavior.\u001b[0m\n"
     ]
    },
    {
     "name": "stdout",
     "output_type": "stream",
     "text": [
      "195/195 [==============================] - 0s 1ms/step\n",
      "195/195 [==============================] - 0s 1ms/step\n",
      "195/195 [==============================] - 0s 1ms/step\n"
     ]
    },
    {
     "name": "stderr",
     "output_type": "stream",
     "text": [
      "\u001b[32m[I 2023-03-03 12:33:08,579]\u001b[0m Trial 12 finished with value: 0.8435634276350258 and parameters: {'units_1': 19, 'units_2': 23, 'units_3': 9, 'alpha_1': 0.07187500000000001, 'alpha_2': 0.083125, 'alpha_3': 0.015625, 'dropout_1': 0.40625, 'dropout_2': 0.40625, 'dropout_3': 0.40625, 'l2_kern_1': 1.5399265260594915e-05, 'l2_kern_2': 0.0064938163157621165, 'l2_kern_3': 8.659643233600651e-05, 'l2_bias_1': 3.651741272548376e-05, 'l2_bias_2': 3.651741272548376e-05, 'l2_bias_3': 0.00048696752516586293, 'lr': 0.00013502467123841782, 'batch_size': 256}. Best is trial 7 with value: 0.8785098444046331.\u001b[0m\n",
      "C:\\Users\\User\\AppData\\Local\\Temp\\ipykernel_12316\\574535459.py:60: DeprecationWarning: KerasClassifier is deprecated, use Sci-Keras (https://github.com/adriangb/scikeras) instead. See https://www.adriangb.com/scikeras/stable/migration.html for help migrating.\n",
      "  ('classifier', KerasClassifier(build_fn=self.create_model, verbose=0))\n",
      "\u001b[33m[W 2023-03-03 12:33:08,584]\u001b[0m The parameter 'batch_size' in trial#13 is sampled independently by using `RandomSampler` instead of `QMCSampler` (optimization performance may be degraded). `QMCSampler` does not support dynamic search space or `CategoricalDistribution`. You can suppress this warning by setting `warn_independent_sampling` to `False` in the constructor of `QMCSampler`, if this independent sampling is intended behavior.\u001b[0m\n"
     ]
    },
    {
     "name": "stdout",
     "output_type": "stream",
     "text": [
      "195/195 [==============================] - 0s 1ms/step\n",
      "195/195 [==============================] - 0s 1ms/step\n",
      "195/195 [==============================] - 0s 1ms/step\n"
     ]
    },
    {
     "name": "stderr",
     "output_type": "stream",
     "text": [
      "\u001b[32m[I 2023-03-03 12:34:35,015]\u001b[0m Trial 13 finished with value: 0.8438981029191965 and parameters: {'units_1': 14, 'units_2': 9, 'units_3': 14, 'alpha_1': 0.060625000000000005, 'alpha_2': 0.094375, 'alpha_3': 0.04937500000000001, 'dropout_1': 0.21875, 'dropout_2': 0.21875, 'dropout_3': 0.21875, 'l2_kern_1': 0.0064938163157621165, 'l2_kern_2': 8.659643233600651e-05, 'l2_kern_3': 0.00020535250264571456, 'l2_bias_1': 0.00048696752516586293, 'l2_bias_2': 8.659643233600651e-05, 'l2_bias_3': 0.0011547819846894588, 'lr': 6.962807349566092e-05, 'batch_size': 32}. Best is trial 7 with value: 0.8785098444046331.\u001b[0m\n",
      "C:\\Users\\User\\AppData\\Local\\Temp\\ipykernel_12316\\574535459.py:60: DeprecationWarning: KerasClassifier is deprecated, use Sci-Keras (https://github.com/adriangb/scikeras) instead. See https://www.adriangb.com/scikeras/stable/migration.html for help migrating.\n",
      "  ('classifier', KerasClassifier(build_fn=self.create_model, verbose=0))\n",
      "\u001b[33m[W 2023-03-03 12:34:35,018]\u001b[0m The parameter 'batch_size' in trial#14 is sampled independently by using `RandomSampler` instead of `QMCSampler` (optimization performance may be degraded). `QMCSampler` does not support dynamic search space or `CategoricalDistribution`. You can suppress this warning by setting `warn_independent_sampling` to `False` in the constructor of `QMCSampler`, if this independent sampling is intended behavior.\u001b[0m\n"
     ]
    },
    {
     "name": "stdout",
     "output_type": "stream",
     "text": [
      "195/195 [==============================] - 0s 1ms/step\n",
      "195/195 [==============================] - 0s 1ms/step\n",
      "195/195 [==============================] - 0s 1ms/step\n"
     ]
    },
    {
     "name": "stderr",
     "output_type": "stream",
     "text": [
      "\u001b[32m[I 2023-03-03 12:35:05,410]\u001b[0m Trial 14 finished with value: 0.8598600790624586 and parameters: {'units_1': 33, 'units_2': 28, 'units_3': 33, 'alpha_1': 0.015625, 'alpha_2': 0.04937500000000001, 'alpha_3': 0.094375, 'dropout_1': 0.36875, 'dropout_2': 0.36875, 'dropout_3': 0.36875, 'l2_kern_1': 0.00020535250264571456, 'l2_kern_2': 0.0027384196342643626, 'l2_kern_3': 0.0064938163157621165, 'l2_bias_1': 1.5399265260594915e-05, 'l2_bias_2': 0.0027384196342643626, 'l2_bias_3': 3.651741272548376e-05, 'lr': 0.0009846896585947416, 'batch_size': 1024}. Best is trial 7 with value: 0.8785098444046331.\u001b[0m\n",
      "C:\\Users\\User\\AppData\\Local\\Temp\\ipykernel_12316\\574535459.py:60: DeprecationWarning: KerasClassifier is deprecated, use Sci-Keras (https://github.com/adriangb/scikeras) instead. See https://www.adriangb.com/scikeras/stable/migration.html for help migrating.\n",
      "  ('classifier', KerasClassifier(build_fn=self.create_model, verbose=0))\n",
      "\u001b[33m[W 2023-03-03 12:35:05,414]\u001b[0m The parameter 'batch_size' in trial#15 is sampled independently by using `RandomSampler` instead of `QMCSampler` (optimization performance may be degraded). `QMCSampler` does not support dynamic search space or `CategoricalDistribution`. You can suppress this warning by setting `warn_independent_sampling` to `False` in the constructor of `QMCSampler`, if this independent sampling is intended behavior.\u001b[0m\n"
     ]
    },
    {
     "name": "stdout",
     "output_type": "stream",
     "text": [
      "195/195 [==============================] - 0s 1ms/step\n",
      "195/195 [==============================] - 0s 1ms/step\n",
      "195/195 [==============================] - 0s 1ms/step\n"
     ]
    },
    {
     "name": "stderr",
     "output_type": "stream",
     "text": [
      "\u001b[32m[I 2023-03-03 12:35:31,878]\u001b[0m Trial 15 finished with value: 0.83845887635295 and parameters: {'units_1': 23, 'units_2': 19, 'units_3': 4, 'alpha_1': 0.083125, 'alpha_2': 0.026875000000000003, 'alpha_3': 0.07187500000000001, 'dropout_1': 0.29375, 'dropout_2': 0.44375, 'dropout_3': 0.44375, 'l2_kern_1': 3.651741272548376e-05, 'l2_kern_2': 0.00048696752516586293, 'l2_kern_3': 0.0011547819846894588, 'l2_bias_1': 0.0027384196342643626, 'l2_bias_2': 1.5399265260594915e-05, 'l2_bias_3': 0.00020535250264571456, 'lr': 0.000261843548553429, 'batch_size': 1024}. Best is trial 7 with value: 0.8785098444046331.\u001b[0m\n",
      "C:\\Users\\User\\AppData\\Local\\Temp\\ipykernel_12316\\574535459.py:60: DeprecationWarning: KerasClassifier is deprecated, use Sci-Keras (https://github.com/adriangb/scikeras) instead. See https://www.adriangb.com/scikeras/stable/migration.html for help migrating.\n",
      "  ('classifier', KerasClassifier(build_fn=self.create_model, verbose=0))\n",
      "\u001b[33m[W 2023-03-03 12:35:31,883]\u001b[0m The parameter 'batch_size' in trial#16 is sampled independently by using `RandomSampler` instead of `QMCSampler` (optimization performance may be degraded). `QMCSampler` does not support dynamic search space or `CategoricalDistribution`. You can suppress this warning by setting `warn_independent_sampling` to `False` in the constructor of `QMCSampler`, if this independent sampling is intended behavior.\u001b[0m\n"
     ]
    },
    {
     "name": "stdout",
     "output_type": "stream",
     "text": [
      "195/195 [==============================] - 0s 1ms/step\n",
      "195/195 [==============================] - 0s 1ms/step\n",
      "195/195 [==============================] - 0s 1ms/step\n"
     ]
    },
    {
     "name": "stderr",
     "output_type": "stream",
     "text": [
      "\u001b[32m[I 2023-03-03 12:36:09,216]\u001b[0m Trial 16 finished with value: 0.8412729988280532 and parameters: {'units_1': 4, 'units_2': 38, 'units_3': 23, 'alpha_1': 0.038125000000000006, 'alpha_2': 0.07187500000000001, 'alpha_3': 0.026875000000000003, 'dropout_1': 0.44375, 'dropout_2': 0.29375, 'dropout_3': 0.29375, 'l2_kern_1': 0.0011547819846894588, 'l2_kern_2': 1.5399265260594915e-05, 'l2_kern_3': 3.651741272548376e-05, 'l2_bias_1': 8.659643233600651e-05, 'l2_bias_2': 0.00048696752516586293, 'l2_bias_3': 0.0064938163157621165, 'lr': 0.0037030269758415706, 'batch_size': 64}. Best is trial 7 with value: 0.8785098444046331.\u001b[0m\n",
      "C:\\Users\\User\\AppData\\Local\\Temp\\ipykernel_12316\\574535459.py:60: DeprecationWarning: KerasClassifier is deprecated, use Sci-Keras (https://github.com/adriangb/scikeras) instead. See https://www.adriangb.com/scikeras/stable/migration.html for help migrating.\n",
      "  ('classifier', KerasClassifier(build_fn=self.create_model, verbose=0))\n",
      "\u001b[33m[W 2023-03-03 12:36:09,221]\u001b[0m The parameter 'batch_size' in trial#17 is sampled independently by using `RandomSampler` instead of `QMCSampler` (optimization performance may be degraded). `QMCSampler` does not support dynamic search space or `CategoricalDistribution`. You can suppress this warning by setting `warn_independent_sampling` to `False` in the constructor of `QMCSampler`, if this independent sampling is intended behavior.\u001b[0m\n"
     ]
    },
    {
     "name": "stdout",
     "output_type": "stream",
     "text": [
      "195/195 [==============================] - 0s 1ms/step\n",
      "195/195 [==============================] - 0s 1ms/step\n",
      "195/195 [==============================] - 0s 1ms/step\n"
     ]
    },
    {
     "name": "stderr",
     "output_type": "stream",
     "text": [
      "\u001b[32m[I 2023-03-03 12:36:57,702]\u001b[0m Trial 17 finished with value: 0.8342275389385874 and parameters: {'units_1': 5, 'units_2': 20, 'units_3': 20, 'alpha_1': 0.0690625, 'alpha_2': 0.035312500000000004, 'alpha_3': 0.09718750000000001, 'dropout_1': 0.359375, 'dropout_2': 0.453125, 'dropout_3': 0.340625, 'l2_kern_1': 2.942727176209284e-05, 'l2_kern_2': 1.9109529749704416e-05, 'l2_kern_3': 0.00016548170999431823, 'l2_bias_1': 0.0009305720409296995, 'l2_bias_2': 0.0009305720409296995, 'l2_bias_3': 0.00010746078283213182, 'lr': 5.900342087356497e-05, 'batch_size': 128}. Best is trial 7 with value: 0.8785098444046331.\u001b[0m\n",
      "C:\\Users\\User\\AppData\\Local\\Temp\\ipykernel_12316\\574535459.py:60: DeprecationWarning: KerasClassifier is deprecated, use Sci-Keras (https://github.com/adriangb/scikeras) instead. See https://www.adriangb.com/scikeras/stable/migration.html for help migrating.\n",
      "  ('classifier', KerasClassifier(build_fn=self.create_model, verbose=0))\n",
      "\u001b[33m[W 2023-03-03 12:36:57,706]\u001b[0m The parameter 'batch_size' in trial#18 is sampled independently by using `RandomSampler` instead of `QMCSampler` (optimization performance may be degraded). `QMCSampler` does not support dynamic search space or `CategoricalDistribution`. You can suppress this warning by setting `warn_independent_sampling` to `False` in the constructor of `QMCSampler`, if this independent sampling is intended behavior.\u001b[0m\n"
     ]
    },
    {
     "name": "stdout",
     "output_type": "stream",
     "text": [
      "195/195 [==============================] - 0s 1ms/step\n",
      "195/195 [==============================] - 0s 1ms/step\n",
      "195/195 [==============================] - 0s 1ms/step\n"
     ]
    },
    {
     "name": "stderr",
     "output_type": "stream",
     "text": [
      "\u001b[32m[I 2023-03-03 12:37:59,859]\u001b[0m Trial 18 finished with value: 0.8773476640256863 and parameters: {'units_1': 25, 'units_2': 39, 'units_3': 39, 'alpha_1': 0.0240625, 'alpha_2': 0.08031250000000001, 'alpha_3': 0.052187500000000005, 'dropout_1': 0.209375, 'dropout_2': 0.303125, 'dropout_3': 0.490625, 'l2_kern_1': 0.0009305720409296995, 'l2_kern_2': 0.0006042963902381332, 'l2_kern_3': 0.005232991146814949, 'l2_bias_1': 2.942727176209284e-05, 'l2_bias_2': 2.942727176209284e-05, 'l2_bias_3': 0.003398208328942561, 'lr': 0.0008344343802580338, 'batch_size': 64}. Best is trial 7 with value: 0.8785098444046331.\u001b[0m\n",
      "C:\\Users\\User\\AppData\\Local\\Temp\\ipykernel_12316\\574535459.py:60: DeprecationWarning: KerasClassifier is deprecated, use Sci-Keras (https://github.com/adriangb/scikeras) instead. See https://www.adriangb.com/scikeras/stable/migration.html for help migrating.\n",
      "  ('classifier', KerasClassifier(build_fn=self.create_model, verbose=0))\n",
      "\u001b[33m[W 2023-03-03 12:37:59,863]\u001b[0m The parameter 'batch_size' in trial#19 is sampled independently by using `RandomSampler` instead of `QMCSampler` (optimization performance may be degraded). `QMCSampler` does not support dynamic search space or `CategoricalDistribution`. You can suppress this warning by setting `warn_independent_sampling` to `False` in the constructor of `QMCSampler`, if this independent sampling is intended behavior.\u001b[0m\n"
     ]
    },
    {
     "name": "stdout",
     "output_type": "stream",
     "text": [
      "195/195 [==============================] - 0s 1ms/step\n",
      "195/195 [==============================] - 0s 1ms/step\n",
      "195/195 [==============================] - 0s 1ms/step\n"
     ]
    },
    {
     "name": "stderr",
     "output_type": "stream",
     "text": [
      "\u001b[32m[I 2023-03-03 12:40:08,475]\u001b[0m Trial 19 finished with value: 0.8563683441868785 and parameters: {'units_1': 34, 'units_2': 10, 'units_3': 10, 'alpha_1': 0.0915625, 'alpha_2': 0.05781250000000001, 'alpha_3': 0.029687500000000006, 'dropout_1': 0.434375, 'dropout_2': 0.22812500000000002, 'dropout_3': 0.415625, 'l2_kern_1': 0.005232991146814949, 'l2_kern_2': 0.003398208328942561, 'l2_kern_3': 0.0009305720409296995, 'l2_bias_1': 0.005232991146814949, 'l2_bias_2': 0.005232991146814949, 'l2_bias_3': 0.0006042963902381332, 'lr': 0.00022188844703980695, 'batch_size': 32}. Best is trial 7 with value: 0.8785098444046331.\u001b[0m\n",
      "C:\\Users\\User\\AppData\\Local\\Temp\\ipykernel_12316\\574535459.py:60: DeprecationWarning: KerasClassifier is deprecated, use Sci-Keras (https://github.com/adriangb/scikeras) instead. See https://www.adriangb.com/scikeras/stable/migration.html for help migrating.\n",
      "  ('classifier', KerasClassifier(build_fn=self.create_model, verbose=0))\n",
      "\u001b[33m[W 2023-03-03 12:40:08,480]\u001b[0m The parameter 'batch_size' in trial#20 is sampled independently by using `RandomSampler` instead of `QMCSampler` (optimization performance may be degraded). `QMCSampler` does not support dynamic search space or `CategoricalDistribution`. You can suppress this warning by setting `warn_independent_sampling` to `False` in the constructor of `QMCSampler`, if this independent sampling is intended behavior.\u001b[0m\n"
     ]
    },
    {
     "name": "stdout",
     "output_type": "stream",
     "text": [
      "195/195 [==============================] - 0s 1ms/step\n",
      "195/195 [==============================] - 0s 1ms/step\n",
      "195/195 [==============================] - 0s 1ms/step\n"
     ]
    },
    {
     "name": "stderr",
     "output_type": "stream",
     "text": [
      "\u001b[32m[I 2023-03-03 12:40:55,213]\u001b[0m Trial 20 finished with value: 0.8723869853907099 and parameters: {'units_1': 15, 'units_2': 30, 'units_3': 30, 'alpha_1': 0.04656250000000001, 'alpha_2': 0.012812500000000001, 'alpha_3': 0.0746875, 'dropout_1': 0.284375, 'dropout_2': 0.37812500000000004, 'dropout_3': 0.265625, 'l2_kern_1': 0.00016548170999431823, 'l2_kern_2': 0.00010746078283213182, 'l2_kern_3': 2.942727176209284e-05, 'l2_bias_1': 0.00016548170999431823, 'l2_bias_2': 0.00016548170999431823, 'l2_bias_3': 1.9109529749704416e-05, 'lr': 0.00313797651137599, 'batch_size': 64}. Best is trial 7 with value: 0.8785098444046331.\u001b[0m\n",
      "C:\\Users\\User\\AppData\\Local\\Temp\\ipykernel_12316\\574535459.py:60: DeprecationWarning: KerasClassifier is deprecated, use Sci-Keras (https://github.com/adriangb/scikeras) instead. See https://www.adriangb.com/scikeras/stable/migration.html for help migrating.\n",
      "  ('classifier', KerasClassifier(build_fn=self.create_model, verbose=0))\n",
      "\u001b[33m[W 2023-03-03 12:40:55,219]\u001b[0m The parameter 'batch_size' in trial#21 is sampled independently by using `RandomSampler` instead of `QMCSampler` (optimization performance may be degraded). `QMCSampler` does not support dynamic search space or `CategoricalDistribution`. You can suppress this warning by setting `warn_independent_sampling` to `False` in the constructor of `QMCSampler`, if this independent sampling is intended behavior.\u001b[0m\n"
     ]
    },
    {
     "name": "stdout",
     "output_type": "stream",
     "text": [
      "195/195 [==============================] - 0s 1ms/step\n",
      "195/195 [==============================] - 0s 1ms/step\n",
      "195/195 [==============================] - 0s 1ms/step\n"
     ]
    },
    {
     "name": "stderr",
     "output_type": "stream",
     "text": [
      "\u001b[32m[I 2023-03-03 12:41:39,592]\u001b[0m Trial 21 finished with value: 0.8571409792581326 and parameters: {'units_1': 20, 'units_2': 5, 'units_3': 34, 'alpha_1': 0.035312500000000004, 'alpha_2': 0.0240625, 'alpha_3': 0.0859375, 'dropout_1': 0.471875, 'dropout_2': 0.265625, 'dropout_3': 0.37812500000000004, 'l2_kern_1': 0.0003924189758484538, 'l2_kern_2': 0.008058421877614822, 'l2_kern_3': 1.2409377607517204e-05, 'l2_bias_1': 0.002206734069084591, 'l2_bias_2': 1.2409377607517204e-05, 'l2_bias_3': 4.531583637600821e-05, 'lr': 0.006085250180429374, 'batch_size': 32}. Best is trial 7 with value: 0.8785098444046331.\u001b[0m\n",
      "C:\\Users\\User\\AppData\\Local\\Temp\\ipykernel_12316\\574535459.py:60: DeprecationWarning: KerasClassifier is deprecated, use Sci-Keras (https://github.com/adriangb/scikeras) instead. See https://www.adriangb.com/scikeras/stable/migration.html for help migrating.\n",
      "  ('classifier', KerasClassifier(build_fn=self.create_model, verbose=0))\n",
      "\u001b[33m[W 2023-03-03 12:41:39,598]\u001b[0m The parameter 'batch_size' in trial#22 is sampled independently by using `RandomSampler` instead of `QMCSampler` (optimization performance may be degraded). `QMCSampler` does not support dynamic search space or `CategoricalDistribution`. You can suppress this warning by setting `warn_independent_sampling` to `False` in the constructor of `QMCSampler`, if this independent sampling is intended behavior.\u001b[0m\n"
     ]
    },
    {
     "name": "stdout",
     "output_type": "stream",
     "text": [
      "195/195 [==============================] - 0s 1ms/step\n",
      "195/195 [==============================] - 0s 1ms/step\n",
      "195/195 [==============================] - 0s 1ms/step\n"
     ]
    },
    {
     "name": "stderr",
     "output_type": "stream",
     "text": [
      "\u001b[32m[I 2023-03-03 12:42:29,404]\u001b[0m Trial 22 finished with value: 0.8743107111551446 and parameters: {'units_1': 39, 'units_2': 25, 'units_3': 15, 'alpha_1': 0.08031250000000001, 'alpha_2': 0.0690625, 'alpha_3': 0.0409375, 'dropout_1': 0.321875, 'dropout_2': 0.415625, 'dropout_3': 0.22812500000000002, 'l2_kern_1': 1.2409377607517204e-05, 'l2_kern_2': 0.0002548296747979348, 'l2_kern_3': 0.0003924189758484538, 'l2_bias_1': 6.978305848598668e-05, 'l2_bias_2': 0.0003924189758484538, 'l2_bias_3': 0.0014330125702369636, 'lr': 0.00043029216677982745, 'batch_size': 128}. Best is trial 7 with value: 0.8785098444046331.\u001b[0m\n",
      "C:\\Users\\User\\AppData\\Local\\Temp\\ipykernel_12316\\574535459.py:60: DeprecationWarning: KerasClassifier is deprecated, use Sci-Keras (https://github.com/adriangb/scikeras) instead. See https://www.adriangb.com/scikeras/stable/migration.html for help migrating.\n",
      "  ('classifier', KerasClassifier(build_fn=self.create_model, verbose=0))\n",
      "\u001b[33m[W 2023-03-03 12:42:29,408]\u001b[0m The parameter 'batch_size' in trial#23 is sampled independently by using `RandomSampler` instead of `QMCSampler` (optimization performance may be degraded). `QMCSampler` does not support dynamic search space or `CategoricalDistribution`. You can suppress this warning by setting `warn_independent_sampling` to `False` in the constructor of `QMCSampler`, if this independent sampling is intended behavior.\u001b[0m\n"
     ]
    },
    {
     "name": "stdout",
     "output_type": "stream",
     "text": [
      "195/195 [==============================] - 0s 1ms/step\n",
      "195/195 [==============================] - 0s 1ms/step\n",
      "195/195 [==============================] - 0s 1ms/step\n"
     ]
    },
    {
     "name": "stderr",
     "output_type": "stream",
     "text": [
      "\u001b[32m[I 2023-03-03 12:42:59,111]\u001b[0m Trial 23 finished with value: 0.8633528253778047 and parameters: {'units_1': 30, 'units_2': 15, 'units_3': 25, 'alpha_1': 0.012812500000000001, 'alpha_2': 0.0915625, 'alpha_3': 0.018437500000000002, 'dropout_1': 0.396875, 'dropout_2': 0.490625, 'dropout_3': 0.303125, 'l2_kern_1': 6.978305848598668e-05, 'l2_kern_2': 4.531583637600821e-05, 'l2_kern_3': 0.002206734069084591, 'l2_bias_1': 0.0003924189758484538, 'l2_bias_2': 6.978305848598668e-05, 'l2_bias_3': 0.008058421877614822, 'lr': 0.0016181580533230642, 'batch_size': 1024}. Best is trial 7 with value: 0.8785098444046331.\u001b[0m\n",
      "C:\\Users\\User\\AppData\\Local\\Temp\\ipykernel_12316\\574535459.py:60: DeprecationWarning: KerasClassifier is deprecated, use Sci-Keras (https://github.com/adriangb/scikeras) instead. See https://www.adriangb.com/scikeras/stable/migration.html for help migrating.\n",
      "  ('classifier', KerasClassifier(build_fn=self.create_model, verbose=0))\n",
      "\u001b[33m[W 2023-03-03 12:42:59,115]\u001b[0m The parameter 'batch_size' in trial#24 is sampled independently by using `RandomSampler` instead of `QMCSampler` (optimization performance may be degraded). `QMCSampler` does not support dynamic search space or `CategoricalDistribution`. You can suppress this warning by setting `warn_independent_sampling` to `False` in the constructor of `QMCSampler`, if this independent sampling is intended behavior.\u001b[0m\n"
     ]
    },
    {
     "name": "stdout",
     "output_type": "stream",
     "text": [
      "195/195 [==============================] - 0s 1ms/step\n",
      "195/195 [==============================] - 0s 1ms/step\n",
      "195/195 [==============================] - 0s 1ms/step\n"
     ]
    },
    {
     "name": "stderr",
     "output_type": "stream",
     "text": [
      "\u001b[32m[I 2023-03-03 12:43:49,357]\u001b[0m Trial 24 finished with value: 0.8424530434333578 and parameters: {'units_1': 10, 'units_2': 34, 'units_3': 5, 'alpha_1': 0.05781250000000001, 'alpha_2': 0.04656250000000001, 'alpha_3': 0.06343750000000001, 'dropout_1': 0.246875, 'dropout_2': 0.340625, 'dropout_3': 0.453125, 'l2_kern_1': 0.002206734069084591, 'l2_kern_2': 0.0014330125702369636, 'l2_kern_3': 6.978305848598668e-05, 'l2_bias_1': 1.2409377607517204e-05, 'l2_bias_2': 0.002206734069084591, 'l2_bias_3': 0.0002548296747979348, 'lr': 0.00011442105325363614, 'batch_size': 128}. Best is trial 7 with value: 0.8785098444046331.\u001b[0m\n",
      "C:\\Users\\User\\AppData\\Local\\Temp\\ipykernel_12316\\574535459.py:60: DeprecationWarning: KerasClassifier is deprecated, use Sci-Keras (https://github.com/adriangb/scikeras) instead. See https://www.adriangb.com/scikeras/stable/migration.html for help migrating.\n",
      "  ('classifier', KerasClassifier(build_fn=self.create_model, verbose=0))\n",
      "\u001b[33m[W 2023-03-03 12:43:49,362]\u001b[0m The parameter 'batch_size' in trial#25 is sampled independently by using `RandomSampler` instead of `QMCSampler` (optimization performance may be degraded). `QMCSampler` does not support dynamic search space or `CategoricalDistribution`. You can suppress this warning by setting `warn_independent_sampling` to `False` in the constructor of `QMCSampler`, if this independent sampling is intended behavior.\u001b[0m\n"
     ]
    },
    {
     "name": "stdout",
     "output_type": "stream",
     "text": [
      "195/195 [==============================] - 0s 1ms/step\n",
      "195/195 [==============================] - 0s 1ms/step\n",
      "195/195 [==============================] - 0s 1ms/step\n"
     ]
    },
    {
     "name": "stderr",
     "output_type": "stream",
     "text": [
      "\u001b[32m[I 2023-03-03 12:44:21,305]\u001b[0m Trial 25 finished with value: 0.8408434446306104 and parameters: {'units_1': 8, 'units_2': 8, 'units_3': 22, 'alpha_1': 0.0859375, 'alpha_2': 0.0859375, 'alpha_3': 0.0690625, 'dropout_1': 0.490625, 'dropout_2': 0.246875, 'dropout_3': 0.359375, 'l2_kern_1': 0.0002548296747979348, 'l2_kern_2': 0.0009305720409296995, 'l2_kern_3': 0.0002548296747979348, 'l2_bias_1': 0.00010746078283213182, 'l2_bias_2': 0.00010746078283213182, 'l2_bias_3': 0.0003924189758484538, 'lr': 0.008474084936048391, 'batch_size': 64}. Best is trial 7 with value: 0.8785098444046331.\u001b[0m\n",
      "C:\\Users\\User\\AppData\\Local\\Temp\\ipykernel_12316\\574535459.py:60: DeprecationWarning: KerasClassifier is deprecated, use Sci-Keras (https://github.com/adriangb/scikeras) instead. See https://www.adriangb.com/scikeras/stable/migration.html for help migrating.\n",
      "  ('classifier', KerasClassifier(build_fn=self.create_model, verbose=0))\n",
      "\u001b[33m[W 2023-03-03 12:44:21,310]\u001b[0m The parameter 'batch_size' in trial#26 is sampled independently by using `RandomSampler` instead of `QMCSampler` (optimization performance may be degraded). `QMCSampler` does not support dynamic search space or `CategoricalDistribution`. You can suppress this warning by setting `warn_independent_sampling` to `False` in the constructor of `QMCSampler`, if this independent sampling is intended behavior.\u001b[0m\n"
     ]
    },
    {
     "name": "stdout",
     "output_type": "stream",
     "text": [
      "195/195 [==============================] - 0s 1ms/step\n",
      "195/195 [==============================] - 0s 1ms/step\n",
      "195/195 [==============================] - 0s 1ms/step\n"
     ]
    },
    {
     "name": "stderr",
     "output_type": "stream",
     "text": [
      "\u001b[32m[I 2023-03-03 12:44:44,792]\u001b[0m Trial 26 finished with value: 0.8444942379302286 and parameters: {'units_1': 27, 'units_2': 27, 'units_3': 3, 'alpha_1': 0.0409375, 'alpha_2': 0.0409375, 'alpha_3': 0.0240625, 'dropout_1': 0.340625, 'dropout_2': 0.396875, 'dropout_3': 0.209375, 'l2_kern_1': 0.008058421877614822, 'l2_kern_2': 2.942727176209284e-05, 'l2_kern_3': 0.008058421877614822, 'l2_bias_1': 0.003398208328942561, 'l2_bias_2': 0.003398208328942561, 'l2_bias_3': 1.2409377607517204e-05, 'lr': 0.0005992082922630593, 'batch_size': 1024}. Best is trial 7 with value: 0.8785098444046331.\u001b[0m\n",
      "C:\\Users\\User\\AppData\\Local\\Temp\\ipykernel_12316\\574535459.py:60: DeprecationWarning: KerasClassifier is deprecated, use Sci-Keras (https://github.com/adriangb/scikeras) instead. See https://www.adriangb.com/scikeras/stable/migration.html for help migrating.\n",
      "  ('classifier', KerasClassifier(build_fn=self.create_model, verbose=0))\n",
      "\u001b[33m[W 2023-03-03 12:44:44,797]\u001b[0m The parameter 'batch_size' in trial#27 is sampled independently by using `RandomSampler` instead of `QMCSampler` (optimization performance may be degraded). `QMCSampler` does not support dynamic search space or `CategoricalDistribution`. You can suppress this warning by setting `warn_independent_sampling` to `False` in the constructor of `QMCSampler`, if this independent sampling is intended behavior.\u001b[0m\n"
     ]
    },
    {
     "name": "stdout",
     "output_type": "stream",
     "text": [
      "195/195 [==============================] - 0s 1ms/step\n",
      "195/195 [==============================] - 0s 1ms/step\n",
      "195/195 [==============================] - 0s 1ms/step\n"
     ]
    },
    {
     "name": "stderr",
     "output_type": "stream",
     "text": [
      "\u001b[32m[I 2023-03-03 12:46:11,269]\u001b[0m Trial 27 finished with value: 0.8734970076724564 and parameters: {'units_1': 37, 'units_2': 17, 'units_3': 32, 'alpha_1': 0.06343750000000001, 'alpha_2': 0.018437500000000002, 'alpha_3': 0.04656250000000001, 'dropout_1': 0.415625, 'dropout_2': 0.471875, 'dropout_3': 0.284375, 'l2_kern_1': 0.0014330125702369636, 'l2_kern_2': 0.00016548170999431823, 'l2_kern_3': 0.0014330125702369636, 'l2_bias_1': 1.9109529749704416e-05, 'l2_bias_2': 1.9109529749704416e-05, 'l2_bias_3': 6.978305848598668e-05, 'lr': 0.002253384557287477, 'batch_size': 16}. Best is trial 7 with value: 0.8785098444046331.\u001b[0m\n",
      "C:\\Users\\User\\AppData\\Local\\Temp\\ipykernel_12316\\574535459.py:60: DeprecationWarning: KerasClassifier is deprecated, use Sci-Keras (https://github.com/adriangb/scikeras) instead. See https://www.adriangb.com/scikeras/stable/migration.html for help migrating.\n",
      "  ('classifier', KerasClassifier(build_fn=self.create_model, verbose=0))\n",
      "\u001b[33m[W 2023-03-03 12:46:11,272]\u001b[0m The parameter 'batch_size' in trial#28 is sampled independently by using `RandomSampler` instead of `QMCSampler` (optimization performance may be degraded). `QMCSampler` does not support dynamic search space or `CategoricalDistribution`. You can suppress this warning by setting `warn_independent_sampling` to `False` in the constructor of `QMCSampler`, if this independent sampling is intended behavior.\u001b[0m\n"
     ]
    },
    {
     "name": "stdout",
     "output_type": "stream",
     "text": [
      "195/195 [==============================] - 0s 1ms/step\n",
      "195/195 [==============================] - 0s 1ms/step\n",
      "195/195 [==============================] - 0s 1ms/step\n"
     ]
    },
    {
     "name": "stderr",
     "output_type": "stream",
     "text": [
      "\u001b[32m[I 2023-03-03 12:49:41,050]\u001b[0m Trial 28 finished with value: 0.8570288999037112 and parameters: {'units_1': 17, 'units_2': 37, 'units_3': 12, 'alpha_1': 0.018437500000000002, 'alpha_2': 0.06343750000000001, 'alpha_3': 0.0915625, 'dropout_1': 0.265625, 'dropout_2': 0.321875, 'dropout_3': 0.434375, 'l2_kern_1': 4.531583637600821e-05, 'l2_kern_2': 0.005232991146814949, 'l2_kern_3': 4.531583637600821e-05, 'l2_bias_1': 0.0006042963902381332, 'l2_bias_2': 0.0006042963902381332, 'l2_bias_3': 0.002206734069084591, 'lr': 0.00015933835010790206, 'batch_size': 16}. Best is trial 7 with value: 0.8785098444046331.\u001b[0m\n",
      "C:\\Users\\User\\AppData\\Local\\Temp\\ipykernel_12316\\574535459.py:60: DeprecationWarning: KerasClassifier is deprecated, use Sci-Keras (https://github.com/adriangb/scikeras) instead. See https://www.adriangb.com/scikeras/stable/migration.html for help migrating.\n",
      "  ('classifier', KerasClassifier(build_fn=self.create_model, verbose=0))\n",
      "\u001b[33m[W 2023-03-03 12:49:41,055]\u001b[0m The parameter 'batch_size' in trial#29 is sampled independently by using `RandomSampler` instead of `QMCSampler` (optimization performance may be degraded). `QMCSampler` does not support dynamic search space or `CategoricalDistribution`. You can suppress this warning by setting `warn_independent_sampling` to `False` in the constructor of `QMCSampler`, if this independent sampling is intended behavior.\u001b[0m\n"
     ]
    },
    {
     "name": "stdout",
     "output_type": "stream",
     "text": [
      "195/195 [==============================] - 0s 1ms/step\n",
      "195/195 [==============================] - 0s 1ms/step\n",
      "195/195 [==============================] - 0s 1ms/step\n"
     ]
    },
    {
     "name": "stderr",
     "output_type": "stream",
     "text": [
      "\u001b[32m[I 2023-03-03 12:50:26,710]\u001b[0m Trial 29 finished with value: 0.838662085886833 and parameters: {'units_1': 12, 'units_2': 12, 'units_3': 8, 'alpha_1': 0.029687500000000006, 'alpha_2': 0.0746875, 'alpha_3': 0.05781250000000001, 'dropout_1': 0.37812500000000004, 'dropout_2': 0.434375, 'dropout_3': 0.321875, 'l2_kern_1': 0.003398208328942561, 'l2_kern_2': 6.978305848598668e-05, 'l2_kern_3': 1.9109529749704416e-05, 'l2_bias_1': 4.531583637600821e-05, 'l2_bias_2': 0.008058421877614822, 'l2_bias_3': 0.005232991146814949, 'lr': 8.216589050159985e-05, 'batch_size': 128}. Best is trial 7 with value: 0.8785098444046331.\u001b[0m\n",
      "C:\\Users\\User\\AppData\\Local\\Temp\\ipykernel_12316\\574535459.py:60: DeprecationWarning: KerasClassifier is deprecated, use Sci-Keras (https://github.com/adriangb/scikeras) instead. See https://www.adriangb.com/scikeras/stable/migration.html for help migrating.\n",
      "  ('classifier', KerasClassifier(build_fn=self.create_model, verbose=0))\n",
      "\u001b[33m[W 2023-03-03 12:50:26,715]\u001b[0m The parameter 'batch_size' in trial#30 is sampled independently by using `RandomSampler` instead of `QMCSampler` (optimization performance may be degraded). `QMCSampler` does not support dynamic search space or `CategoricalDistribution`. You can suppress this warning by setting `warn_independent_sampling` to `False` in the constructor of `QMCSampler`, if this independent sampling is intended behavior.\u001b[0m\n"
     ]
    },
    {
     "name": "stdout",
     "output_type": "stream",
     "text": [
      "195/195 [==============================] - 0s 1ms/step\n",
      "195/195 [==============================] - 0s 1ms/step\n",
      "195/195 [==============================] - 0s 1ms/step\n"
     ]
    },
    {
     "name": "stderr",
     "output_type": "stream",
     "text": [
      "\u001b[32m[I 2023-03-03 12:52:53,596]\u001b[0m Trial 30 finished with value: 0.8818502648683421 and parameters: {'units_1': 32, 'units_2': 32, 'units_3': 27, 'alpha_1': 0.0746875, 'alpha_2': 0.029687500000000006, 'alpha_3': 0.012812500000000001, 'dropout_1': 0.22812500000000002, 'dropout_2': 0.284375, 'dropout_3': 0.471875, 'l2_kern_1': 0.00010746078283213182, 'l2_kern_2': 0.002206734069084591, 'l2_kern_3': 0.0006042963902381332, 'l2_bias_1': 0.0014330125702369636, 'l2_bias_2': 0.0002548296747979348, 'l2_bias_3': 0.00016548170999431823, 'lr': 0.0011620011671182521, 'batch_size': 16}. Best is trial 30 with value: 0.8818502648683421.\u001b[0m\n",
      "C:\\Users\\User\\AppData\\Local\\Temp\\ipykernel_12316\\574535459.py:60: DeprecationWarning: KerasClassifier is deprecated, use Sci-Keras (https://github.com/adriangb/scikeras) instead. See https://www.adriangb.com/scikeras/stable/migration.html for help migrating.\n",
      "  ('classifier', KerasClassifier(build_fn=self.create_model, verbose=0))\n",
      "\u001b[33m[W 2023-03-03 12:52:53,601]\u001b[0m The parameter 'batch_size' in trial#31 is sampled independently by using `RandomSampler` instead of `QMCSampler` (optimization performance may be degraded). `QMCSampler` does not support dynamic search space or `CategoricalDistribution`. You can suppress this warning by setting `warn_independent_sampling` to `False` in the constructor of `QMCSampler`, if this independent sampling is intended behavior.\u001b[0m\n"
     ]
    },
    {
     "name": "stdout",
     "output_type": "stream",
     "text": [
      "195/195 [==============================] - 0s 1ms/step\n",
      "195/195 [==============================] - 0s 1ms/step\n",
      "195/195 [==============================] - 0s 1ms/step\n"
     ]
    },
    {
     "name": "stderr",
     "output_type": "stream",
     "text": [
      "\u001b[32m[I 2023-03-03 12:55:53,540]\u001b[0m Trial 31 finished with value: 0.8631999692876908 and parameters: {'units_1': 22, 'units_2': 3, 'units_3': 17, 'alpha_1': 0.052187500000000005, 'alpha_2': 0.052187500000000005, 'alpha_3': 0.035312500000000004, 'dropout_1': 0.453125, 'dropout_2': 0.209375, 'dropout_3': 0.396875, 'l2_kern_1': 1.9109529749704416e-05, 'l2_kern_2': 0.0003924189758484538, 'l2_kern_3': 0.003398208328942561, 'l2_bias_1': 0.0002548296747979348, 'l2_bias_2': 0.0014330125702369636, 'l2_bias_3': 2.942727176209284e-05, 'lr': 0.0003089933019665141, 'batch_size': 16}. Best is trial 30 with value: 0.8818502648683421.\u001b[0m\n",
      "C:\\Users\\User\\AppData\\Local\\Temp\\ipykernel_12316\\574535459.py:60: DeprecationWarning: KerasClassifier is deprecated, use Sci-Keras (https://github.com/adriangb/scikeras) instead. See https://www.adriangb.com/scikeras/stable/migration.html for help migrating.\n",
      "  ('classifier', KerasClassifier(build_fn=self.create_model, verbose=0))\n",
      "\u001b[33m[W 2023-03-03 12:55:53,545]\u001b[0m The parameter 'batch_size' in trial#32 is sampled independently by using `RandomSampler` instead of `QMCSampler` (optimization performance may be degraded). `QMCSampler` does not support dynamic search space or `CategoricalDistribution`. You can suppress this warning by setting `warn_independent_sampling` to `False` in the constructor of `QMCSampler`, if this independent sampling is intended behavior.\u001b[0m\n"
     ]
    },
    {
     "name": "stdout",
     "output_type": "stream",
     "text": [
      "195/195 [==============================] - 0s 1ms/step\n",
      "195/195 [==============================] - 0s 1ms/step\n",
      "195/195 [==============================] - 0s 1ms/step\n"
     ]
    },
    {
     "name": "stderr",
     "output_type": "stream",
     "text": [
      "\u001b[32m[I 2023-03-03 12:56:08,720]\u001b[0m Trial 32 finished with value: 0.8465729170904482 and parameters: {'units_1': 3, 'units_2': 22, 'units_3': 37, 'alpha_1': 0.09718750000000001, 'alpha_2': 0.09718750000000001, 'alpha_3': 0.08031250000000001, 'dropout_1': 0.303125, 'dropout_2': 0.359375, 'dropout_3': 0.246875, 'l2_kern_1': 0.0006042963902381332, 'l2_kern_2': 1.2409377607517204e-05, 'l2_kern_3': 0.00010746078283213182, 'l2_bias_1': 0.008058421877614822, 'l2_bias_2': 4.531583637600821e-05, 'l2_bias_3': 0.0009305720409296995, 'lr': 0.004369825183234895, 'batch_size': 1024}. Best is trial 30 with value: 0.8818502648683421.\u001b[0m\n",
      "C:\\Users\\User\\AppData\\Local\\Temp\\ipykernel_12316\\574535459.py:60: DeprecationWarning: KerasClassifier is deprecated, use Sci-Keras (https://github.com/adriangb/scikeras) instead. See https://www.adriangb.com/scikeras/stable/migration.html for help migrating.\n",
      "  ('classifier', KerasClassifier(build_fn=self.create_model, verbose=0))\n",
      "\u001b[33m[W 2023-03-03 12:56:08,725]\u001b[0m The parameter 'batch_size' in trial#33 is sampled independently by using `RandomSampler` instead of `QMCSampler` (optimization performance may be degraded). `QMCSampler` does not support dynamic search space or `CategoricalDistribution`. You can suppress this warning by setting `warn_independent_sampling` to `False` in the constructor of `QMCSampler`, if this independent sampling is intended behavior.\u001b[0m\n"
     ]
    },
    {
     "name": "stdout",
     "output_type": "stream",
     "text": [
      "195/195 [==============================] - 0s 1ms/step\n",
      "195/195 [==============================] - 0s 1ms/step\n",
      "195/195 [==============================] - 0s 1ms/step\n"
     ]
    },
    {
     "name": "stderr",
     "output_type": "stream",
     "text": [
      "\u001b[32m[I 2023-03-03 12:56:42,527]\u001b[0m Trial 33 finished with value: 0.8204422577628732 and parameters: {'units_1': 3, 'units_2': 12, 'units_3': 29, 'alpha_1': 0.05921875000000001, 'alpha_2': 0.022656250000000003, 'alpha_3': 0.09296875, 'dropout_1': 0.4390625, 'dropout_2': 0.40156250000000004, 'dropout_3': 0.4953125, 'l2_kern_1': 1.3823722273578999e-05, 'l2_kern_2': 0.0001485508017172774, 'l2_kern_3': 0.007233941627366748, 'l2_bias_1': 0.0002287573200318398, 'l2_bias_2': 0.008976871324473142, 'l2_bias_3': 0.008976871324473142, 'lr': 8.925759074384164e-05, 'batch_size': 1024}. Best is trial 30 with value: 0.8818502648683421.\u001b[0m\n",
      "C:\\Users\\User\\AppData\\Local\\Temp\\ipykernel_12316\\574535459.py:60: DeprecationWarning: KerasClassifier is deprecated, use Sci-Keras (https://github.com/adriangb/scikeras) instead. See https://www.adriangb.com/scikeras/stable/migration.html for help migrating.\n",
      "  ('classifier', KerasClassifier(build_fn=self.create_model, verbose=0))\n",
      "\u001b[33m[W 2023-03-03 12:56:42,531]\u001b[0m The parameter 'batch_size' in trial#34 is sampled independently by using `RandomSampler` instead of `QMCSampler` (optimization performance may be degraded). `QMCSampler` does not support dynamic search space or `CategoricalDistribution`. You can suppress this warning by setting `warn_independent_sampling` to `False` in the constructor of `QMCSampler`, if this independent sampling is intended behavior.\u001b[0m\n"
     ]
    },
    {
     "name": "stdout",
     "output_type": "stream",
     "text": [
      "195/195 [==============================] - 0s 1ms/step\n",
      "195/195 [==============================] - 0s 1ms/step\n",
      "195/195 [==============================] - 0s 1ms/step\n"
     ]
    },
    {
     "name": "stderr",
     "output_type": "stream",
     "text": [
      "\u001b[32m[I 2023-03-03 12:57:18,070]\u001b[0m Trial 34 finished with value: 0.8657717599357655 and parameters: {'units_1': 23, 'units_2': 31, 'units_3': 9, 'alpha_1': 0.01421875, 'alpha_2': 0.06765625, 'alpha_3': 0.047968750000000004, 'dropout_1': 0.2890625, 'dropout_2': 0.2515625, 'dropout_3': 0.3453125, 'l2_kern_1': 0.000437144481261109, 'l2_kern_2': 0.004697588816706492, 'l2_kern_3': 0.0002287573200318398, 'l2_bias_1': 0.007233941627366748, 'l2_bias_2': 0.0002838735964758755, 'l2_bias_3': 0.0002838735964758755, 'lr': 0.0012622929537468787, 'batch_size': 256}. Best is trial 30 with value: 0.8818502648683421.\u001b[0m\n",
      "C:\\Users\\User\\AppData\\Local\\Temp\\ipykernel_12316\\574535459.py:60: DeprecationWarning: KerasClassifier is deprecated, use Sci-Keras (https://github.com/adriangb/scikeras) instead. See https://www.adriangb.com/scikeras/stable/migration.html for help migrating.\n",
      "  ('classifier', KerasClassifier(build_fn=self.create_model, verbose=0))\n",
      "\u001b[33m[W 2023-03-03 12:57:18,075]\u001b[0m The parameter 'batch_size' in trial#35 is sampled independently by using `RandomSampler` instead of `QMCSampler` (optimization performance may be degraded). `QMCSampler` does not support dynamic search space or `CategoricalDistribution`. You can suppress this warning by setting `warn_independent_sampling` to `False` in the constructor of `QMCSampler`, if this independent sampling is intended behavior.\u001b[0m\n"
     ]
    },
    {
     "name": "stdout",
     "output_type": "stream",
     "text": [
      "195/195 [==============================] - 0s 1ms/step\n",
      "195/195 [==============================] - 0s 1ms/step\n",
      "195/195 [==============================] - 0s 1ms/step\n"
     ]
    },
    {
     "name": "stderr",
     "output_type": "stream",
     "text": [
      "\u001b[32m[I 2023-03-03 12:58:17,359]\u001b[0m Trial 35 finished with value: 0.8601554611238572 and parameters: {'units_1': 33, 'units_2': 2, 'units_3': 39, 'alpha_1': 0.08171875, 'alpha_2': 0.09015625000000001, 'alpha_3': 0.025468750000000002, 'dropout_1': 0.3640625, 'dropout_2': 0.3265625, 'dropout_3': 0.2703125, 'l2_kern_1': 0.0024582440689201977, 'l2_kern_2': 0.0008353625469578262, 'l2_kern_3': 4.0679443210830444e-05, 'l2_bias_1': 4.0679443210830444e-05, 'l2_bias_2': 0.0015963385442879423, 'l2_bias_3': 5.048065716667472e-05, 'lr': 0.00033566237183273005, 'batch_size': 64}. Best is trial 30 with value: 0.8818502648683421.\u001b[0m\n",
      "C:\\Users\\User\\AppData\\Local\\Temp\\ipykernel_12316\\574535459.py:60: DeprecationWarning: KerasClassifier is deprecated, use Sci-Keras (https://github.com/adriangb/scikeras) instead. See https://www.adriangb.com/scikeras/stable/migration.html for help migrating.\n",
      "  ('classifier', KerasClassifier(build_fn=self.create_model, verbose=0))\n",
      "\u001b[33m[W 2023-03-03 12:58:17,364]\u001b[0m The parameter 'batch_size' in trial#36 is sampled independently by using `RandomSampler` instead of `QMCSampler` (optimization performance may be degraded). `QMCSampler` does not support dynamic search space or `CategoricalDistribution`. You can suppress this warning by setting `warn_independent_sampling` to `False` in the constructor of `QMCSampler`, if this independent sampling is intended behavior.\u001b[0m\n"
     ]
    },
    {
     "name": "stdout",
     "output_type": "stream",
     "text": [
      "195/195 [==============================] - 0s 1ms/step\n",
      "195/195 [==============================] - 0s 2ms/step\n",
      "195/195 [==============================] - 0s 1ms/step\n"
     ]
    },
    {
     "name": "stderr",
     "output_type": "stream",
     "text": [
      "\u001b[32m[I 2023-03-03 12:59:16,848]\u001b[0m Trial 36 finished with value: 0.8662949704920675 and parameters: {'units_1': 13, 'units_2': 22, 'units_3': 19, 'alpha_1': 0.03671875, 'alpha_2': 0.04515625000000001, 'alpha_3': 0.07046875000000001, 'dropout_1': 0.21406250000000002, 'dropout_2': 0.4765625, 'dropout_3': 0.4203125, 'l2_kern_1': 7.77365030238776e-05, 'l2_kern_2': 2.6416483203860905e-05, 'l2_kern_3': 0.0012863969449369746, 'l2_bias_1': 0.0012863969449369746, 'l2_bias_2': 5.048065716667472e-05, 'l2_bias_3': 0.0015963385442879423, 'lr': 0.004746982786241673, 'batch_size': 32}. Best is trial 30 with value: 0.8818502648683421.\u001b[0m\n",
      "C:\\Users\\User\\AppData\\Local\\Temp\\ipykernel_12316\\574535459.py:60: DeprecationWarning: KerasClassifier is deprecated, use Sci-Keras (https://github.com/adriangb/scikeras) instead. See https://www.adriangb.com/scikeras/stable/migration.html for help migrating.\n",
      "  ('classifier', KerasClassifier(build_fn=self.create_model, verbose=0))\n",
      "\u001b[33m[W 2023-03-03 12:59:16,852]\u001b[0m The parameter 'batch_size' in trial#37 is sampled independently by using `RandomSampler` instead of `QMCSampler` (optimization performance may be degraded). `QMCSampler` does not support dynamic search space or `CategoricalDistribution`. You can suppress this warning by setting `warn_independent_sampling` to `False` in the constructor of `QMCSampler`, if this independent sampling is intended behavior.\u001b[0m\n"
     ]
    },
    {
     "name": "stdout",
     "output_type": "stream",
     "text": [
      "195/195 [==============================] - 0s 1ms/step\n",
      "195/195 [==============================] - 0s 1ms/step\n",
      "195/195 [==============================] - 0s 1ms/step\n"
     ]
    },
    {
     "name": "stderr",
     "output_type": "stream",
     "text": [
      "\u001b[32m[I 2023-03-03 12:59:31,693]\u001b[0m Trial 37 finished with value: 0.8617737538803844 and parameters: {'units_1': 18, 'units_2': 7, 'units_3': 5, 'alpha_1': 0.047968750000000004, 'alpha_2': 0.033906250000000006, 'alpha_3': 0.08171875, 'dropout_1': 0.40156250000000004, 'dropout_2': 0.2890625, 'dropout_3': 0.2328125, 'l2_kern_1': 0.001036632928437698, 'l2_kern_2': 0.0003522694651473102, 'l2_kern_3': 0.0005424690937011326, 'l2_bias_1': 1.715437896342878e-05, 'l2_bias_2': 0.00011970850304957301, 'l2_bias_3': 0.0006731703824144984, 'lr': 0.009205479311827497, 'batch_size': 512}. Best is trial 30 with value: 0.8818502648683421.\u001b[0m\n",
      "C:\\Users\\User\\AppData\\Local\\Temp\\ipykernel_12316\\574535459.py:60: DeprecationWarning: KerasClassifier is deprecated, use Sci-Keras (https://github.com/adriangb/scikeras) instead. See https://www.adriangb.com/scikeras/stable/migration.html for help migrating.\n",
      "  ('classifier', KerasClassifier(build_fn=self.create_model, verbose=0))\n",
      "\u001b[33m[W 2023-03-03 12:59:31,698]\u001b[0m The parameter 'batch_size' in trial#38 is sampled independently by using `RandomSampler` instead of `QMCSampler` (optimization performance may be degraded). `QMCSampler` does not support dynamic search space or `CategoricalDistribution`. You can suppress this warning by setting `warn_independent_sampling` to `False` in the constructor of `QMCSampler`, if this independent sampling is intended behavior.\u001b[0m\n"
     ]
    },
    {
     "name": "stdout",
     "output_type": "stream",
     "text": [
      "195/195 [==============================] - 0s 1ms/step\n",
      "195/195 [==============================] - 0s 1ms/step\n",
      "195/195 [==============================] - 0s 1ms/step\n"
     ]
    },
    {
     "name": "stderr",
     "output_type": "stream",
     "text": [
      "\u001b[32m[I 2023-03-03 13:00:05,792]\u001b[0m Trial 38 finished with value: 0.8718938049960528 and parameters: {'units_1': 37, 'units_2': 26, 'units_3': 24, 'alpha_1': 0.09296875, 'alpha_2': 0.07890625, 'alpha_3': 0.03671875, 'dropout_1': 0.2515625, 'dropout_2': 0.4390625, 'dropout_3': 0.3828125, 'l2_kern_1': 3.278121151393459e-05, 'l2_kern_2': 1.1139738599948017e-05, 'l2_kern_3': 1.715437896342878e-05, 'l2_bias_1': 0.0005424690937011326, 'l2_bias_2': 0.00378551524925863, 'l2_bias_3': 2.128751661796373e-05, 'lr': 0.0006509256845465694, 'batch_size': 256}. Best is trial 30 with value: 0.8818502648683421.\u001b[0m\n",
      "C:\\Users\\User\\AppData\\Local\\Temp\\ipykernel_12316\\574535459.py:60: DeprecationWarning: KerasClassifier is deprecated, use Sci-Keras (https://github.com/adriangb/scikeras) instead. See https://www.adriangb.com/scikeras/stable/migration.html for help migrating.\n",
      "  ('classifier', KerasClassifier(build_fn=self.create_model, verbose=0))\n",
      "\u001b[33m[W 2023-03-03 13:00:05,795]\u001b[0m The parameter 'batch_size' in trial#39 is sampled independently by using `RandomSampler` instead of `QMCSampler` (optimization performance may be degraded). `QMCSampler` does not support dynamic search space or `CategoricalDistribution`. You can suppress this warning by setting `warn_independent_sampling` to `False` in the constructor of `QMCSampler`, if this independent sampling is intended behavior.\u001b[0m\n"
     ]
    },
    {
     "name": "stdout",
     "output_type": "stream",
     "text": [
      "195/195 [==============================] - 0s 1ms/step\n",
      "195/195 [==============================] - 0s 2ms/step\n",
      "195/195 [==============================] - 0s 1ms/step\n"
     ]
    },
    {
     "name": "stderr",
     "output_type": "stream",
     "text": [
      "\u001b[32m[I 2023-03-03 13:00:59,557]\u001b[0m Trial 39 finished with value: 0.8693257376503811 and parameters: {'units_1': 28, 'units_2': 17, 'units_3': 14, 'alpha_1': 0.025468750000000002, 'alpha_2': 0.056406250000000005, 'alpha_3': 0.01421875, 'dropout_1': 0.4765625, 'dropout_2': 0.3640625, 'dropout_3': 0.4578125, 'l2_kern_1': 0.00018434229924091107, 'l2_kern_2': 6.264335366568851e-05, 'l2_kern_3': 9.646616199112003e-05, 'l2_bias_1': 9.646616199112003e-05, 'l2_bias_2': 2.128751661796373e-05, 'l2_bias_3': 0.00011970850304957301, 'lr': 0.0024478731426752073, 'batch_size': 64}. Best is trial 30 with value: 0.8818502648683421.\u001b[0m\n",
      "C:\\Users\\User\\AppData\\Local\\Temp\\ipykernel_12316\\574535459.py:60: DeprecationWarning: KerasClassifier is deprecated, use Sci-Keras (https://github.com/adriangb/scikeras) instead. See https://www.adriangb.com/scikeras/stable/migration.html for help migrating.\n",
      "  ('classifier', KerasClassifier(build_fn=self.create_model, verbose=0))\n",
      "\u001b[33m[W 2023-03-03 13:00:59,562]\u001b[0m The parameter 'batch_size' in trial#40 is sampled independently by using `RandomSampler` instead of `QMCSampler` (optimization performance may be degraded). `QMCSampler` does not support dynamic search space or `CategoricalDistribution`. You can suppress this warning by setting `warn_independent_sampling` to `False` in the constructor of `QMCSampler`, if this independent sampling is intended behavior.\u001b[0m\n"
     ]
    },
    {
     "name": "stdout",
     "output_type": "stream",
     "text": [
      "195/195 [==============================] - 0s 1ms/step\n",
      "195/195 [==============================] - 0s 1ms/step\n",
      "195/195 [==============================] - 0s 1ms/step\n"
     ]
    },
    {
     "name": "stderr",
     "output_type": "stream",
     "text": [
      "\u001b[32m[I 2023-03-03 13:02:57,779]\u001b[0m Trial 40 finished with value: 0.8468187355889124 and parameters: {'units_1': 8, 'units_2': 36, 'units_3': 34, 'alpha_1': 0.07046875000000001, 'alpha_2': 0.01140625, 'alpha_3': 0.05921875000000001, 'dropout_1': 0.3265625, 'dropout_2': 0.21406250000000002, 'dropout_3': 0.3078125, 'l2_kern_1': 0.005829415347136074, 'l2_kern_2': 0.001980956778550339, 'l2_kern_3': 0.003050527890267026, 'l2_bias_1': 0.003050527890267026, 'l2_bias_2': 0.0006731703824144984, 'l2_bias_3': 0.00378551524925863, 'lr': 0.00017309076986700653, 'batch_size': 32}. Best is trial 30 with value: 0.8818502648683421.\u001b[0m\n",
      "C:\\Users\\User\\AppData\\Local\\Temp\\ipykernel_12316\\574535459.py:60: DeprecationWarning: KerasClassifier is deprecated, use Sci-Keras (https://github.com/adriangb/scikeras) instead. See https://www.adriangb.com/scikeras/stable/migration.html for help migrating.\n",
      "  ('classifier', KerasClassifier(build_fn=self.create_model, verbose=0))\n",
      "\u001b[33m[W 2023-03-03 13:02:57,784]\u001b[0m The parameter 'batch_size' in trial#41 is sampled independently by using `RandomSampler` instead of `QMCSampler` (optimization performance may be degraded). `QMCSampler` does not support dynamic search space or `CategoricalDistribution`. You can suppress this warning by setting `warn_independent_sampling` to `False` in the constructor of `QMCSampler`, if this independent sampling is intended behavior.\u001b[0m\n"
     ]
    },
    {
     "name": "stdout",
     "output_type": "stream",
     "text": [
      "195/195 [==============================] - 0s 1ms/step\n",
      "195/195 [==============================] - 0s 1ms/step\n",
      "195/195 [==============================] - 0s 1ms/step\n"
     ]
    },
    {
     "name": "stderr",
     "output_type": "stream",
     "text": [
      "\u001b[32m[I 2023-03-03 13:03:15,046]\u001b[0m Trial 41 finished with value: 0.8589942170367778 and parameters: {'units_1': 11, 'units_2': 5, 'units_3': 12, 'alpha_1': 0.09859375000000001, 'alpha_2': 0.07328125, 'alpha_3': 0.07609375, 'dropout_1': 0.4203125, 'dropout_2': 0.3078125, 'dropout_3': 0.21406250000000002, 'l2_kern_1': 0.00011970850304957301, 'l2_kern_2': 0.003050527890267026, 'l2_kern_3': 0.004697588816706492, 'l2_bias_1': 0.0003522694651473102, 'l2_bias_2': 1.3823722273578999e-05, 'l2_bias_3': 3.278121151393459e-05, 'lr': 0.006610465326461444, 'batch_size': 512}. Best is trial 30 with value: 0.8818502648683421.\u001b[0m\n",
      "C:\\Users\\User\\AppData\\Local\\Temp\\ipykernel_12316\\574535459.py:60: DeprecationWarning: KerasClassifier is deprecated, use Sci-Keras (https://github.com/adriangb/scikeras) instead. See https://www.adriangb.com/scikeras/stable/migration.html for help migrating.\n",
      "  ('classifier', KerasClassifier(build_fn=self.create_model, verbose=0))\n",
      "\u001b[33m[W 2023-03-03 13:03:15,050]\u001b[0m The parameter 'batch_size' in trial#42 is sampled independently by using `RandomSampler` instead of `QMCSampler` (optimization performance may be degraded). `QMCSampler` does not support dynamic search space or `CategoricalDistribution`. You can suppress this warning by setting `warn_independent_sampling` to `False` in the constructor of `QMCSampler`, if this independent sampling is intended behavior.\u001b[0m\n"
     ]
    },
    {
     "name": "stdout",
     "output_type": "stream",
     "text": [
      "195/195 [==============================] - 0s 1ms/step\n",
      "195/195 [==============================] - 0s 1ms/step\n",
      "195/195 [==============================] - 0s 1ms/step\n"
     ]
    },
    {
     "name": "stderr",
     "output_type": "stream",
     "text": [
      "\u001b[32m[I 2023-03-03 13:04:45,618]\u001b[0m Trial 42 finished with value: 0.8794145570871578 and parameters: {'units_1': 30, 'units_2': 24, 'units_3': 31, 'alpha_1': 0.05359375000000001, 'alpha_2': 0.02828125, 'alpha_3': 0.031093750000000003, 'dropout_1': 0.2703125, 'dropout_2': 0.4578125, 'dropout_3': 0.3640625, 'l2_kern_1': 0.00378551524925863, 'l2_kern_2': 9.646616199112003e-05, 'l2_kern_3': 0.0001485508017172774, 'l2_bias_1': 1.1139738599948017e-05, 'l2_bias_2': 0.000437144481261109, 'l2_bias_3': 0.001036632928437698, 'lr': 0.00046743048591394305, 'batch_size': 32}. Best is trial 30 with value: 0.8818502648683421.\u001b[0m\n",
      "C:\\Users\\User\\AppData\\Local\\Temp\\ipykernel_12316\\574535459.py:60: DeprecationWarning: KerasClassifier is deprecated, use Sci-Keras (https://github.com/adriangb/scikeras) instead. See https://www.adriangb.com/scikeras/stable/migration.html for help migrating.\n",
      "  ('classifier', KerasClassifier(build_fn=self.create_model, verbose=0))\n",
      "\u001b[33m[W 2023-03-03 13:04:45,622]\u001b[0m The parameter 'batch_size' in trial#43 is sampled independently by using `RandomSampler` instead of `QMCSampler` (optimization performance may be degraded). `QMCSampler` does not support dynamic search space or `CategoricalDistribution`. You can suppress this warning by setting `warn_independent_sampling` to `False` in the constructor of `QMCSampler`, if this independent sampling is intended behavior.\u001b[0m\n"
     ]
    },
    {
     "name": "stdout",
     "output_type": "stream",
     "text": [
      "195/195 [==============================] - 0s 2ms/step\n",
      "195/195 [==============================] - 0s 1ms/step\n",
      "195/195 [==============================] - 0s 1ms/step\n"
     ]
    },
    {
     "name": "stderr",
     "output_type": "stream",
     "text": [
      "\u001b[32m[I 2023-03-03 13:05:29,645]\u001b[0m Trial 43 finished with value: 0.8628436228355727 and parameters: {'units_1': 40, 'units_2': 14, 'units_3': 2, 'alpha_1': 0.07609375, 'alpha_2': 0.05078125000000001, 'alpha_3': 0.05359375000000001, 'dropout_1': 0.4953125, 'dropout_2': 0.3828125, 'dropout_3': 0.4390625, 'l2_kern_1': 0.0006731703824144984, 'l2_kern_2': 1.715437896342878e-05, 'l2_kern_3': 2.6416483203860905e-05, 'l2_bias_1': 0.001980956778550339, 'l2_bias_2': 7.77365030238776e-05, 'l2_bias_3': 0.005829415347136074, 'lr': 0.0017578205311308505, 'batch_size': 64}. Best is trial 30 with value: 0.8818502648683421.\u001b[0m\n",
      "C:\\Users\\User\\AppData\\Local\\Temp\\ipykernel_12316\\574535459.py:60: DeprecationWarning: KerasClassifier is deprecated, use Sci-Keras (https://github.com/adriangb/scikeras) instead. See https://www.adriangb.com/scikeras/stable/migration.html for help migrating.\n",
      "  ('classifier', KerasClassifier(build_fn=self.create_model, verbose=0))\n",
      "\u001b[33m[W 2023-03-03 13:05:29,649]\u001b[0m The parameter 'batch_size' in trial#44 is sampled independently by using `RandomSampler` instead of `QMCSampler` (optimization performance may be degraded). `QMCSampler` does not support dynamic search space or `CategoricalDistribution`. You can suppress this warning by setting `warn_independent_sampling` to `False` in the constructor of `QMCSampler`, if this independent sampling is intended behavior.\u001b[0m\n"
     ]
    },
    {
     "name": "stdout",
     "output_type": "stream",
     "text": [
      "195/195 [==============================] - 0s 1ms/step\n",
      "195/195 [==============================] - 0s 1ms/step\n",
      "195/195 [==============================] - 0s 1ms/step\n"
     ]
    },
    {
     "name": "stderr",
     "output_type": "stream",
     "text": [
      "\u001b[32m[I 2023-03-03 13:06:05,394]\u001b[0m Trial 44 finished with value: 0.8322695720342083 and parameters: {'units_1': 20, 'units_2': 34, 'units_3': 22, 'alpha_1': 0.031093750000000003, 'alpha_2': 0.09578125, 'alpha_3': 0.09859375000000001, 'dropout_1': 0.3453125, 'dropout_2': 0.2328125, 'dropout_3': 0.2890625, 'l2_kern_1': 2.128751661796373e-05, 'l2_kern_2': 0.0005424690937011326, 'l2_kern_3': 0.0008353625469578262, 'l2_bias_1': 6.264335366568851e-05, 'l2_bias_2': 0.0024582440689201977, 'l2_bias_3': 0.00018434229924091107, 'lr': 0.00012429668176715627, 'batch_size': 1024}. Best is trial 30 with value: 0.8818502648683421.\u001b[0m\n",
      "C:\\Users\\User\\AppData\\Local\\Temp\\ipykernel_12316\\574535459.py:60: DeprecationWarning: KerasClassifier is deprecated, use Sci-Keras (https://github.com/adriangb/scikeras) instead. See https://www.adriangb.com/scikeras/stable/migration.html for help migrating.\n",
      "  ('classifier', KerasClassifier(build_fn=self.create_model, verbose=0))\n",
      "\u001b[33m[W 2023-03-03 13:06:05,398]\u001b[0m The parameter 'batch_size' in trial#45 is sampled independently by using `RandomSampler` instead of `QMCSampler` (optimization performance may be degraded). `QMCSampler` does not support dynamic search space or `CategoricalDistribution`. You can suppress this warning by setting `warn_independent_sampling` to `False` in the constructor of `QMCSampler`, if this independent sampling is intended behavior.\u001b[0m\n"
     ]
    },
    {
     "name": "stdout",
     "output_type": "stream",
     "text": [
      "195/195 [==============================] - 0s 1ms/step\n",
      "195/195 [==============================] - 0s 1ms/step\n",
      "195/195 [==============================] - 0s 1ms/step\n"
     ]
    },
    {
     "name": "stderr",
     "output_type": "stream",
     "text": [
      "\u001b[32m[I 2023-03-03 13:06:46,270]\u001b[0m Trial 45 finished with value: 0.8401510184352924 and parameters: {'units_1': 16, 'units_2': 19, 'units_3': 36, 'alpha_1': 0.01984375, 'alpha_2': 0.08453125, 'alpha_3': 0.06484375, 'dropout_1': 0.4578125, 'dropout_2': 0.4203125, 'dropout_3': 0.4765625, 'l2_kern_1': 0.008976871324473142, 'l2_kern_2': 4.0679443210830444e-05, 'l2_kern_3': 0.0003522694651473102, 'l2_bias_1': 0.004697588816706492, 'l2_bias_2': 0.001036632928437698, 'l2_bias_3': 7.77365030238776e-05, 'lr': 6.409597900867102e-05, 'batch_size': 256}. Best is trial 30 with value: 0.8818502648683421.\u001b[0m\n",
      "C:\\Users\\User\\AppData\\Local\\Temp\\ipykernel_12316\\574535459.py:60: DeprecationWarning: KerasClassifier is deprecated, use Sci-Keras (https://github.com/adriangb/scikeras) instead. See https://www.adriangb.com/scikeras/stable/migration.html for help migrating.\n",
      "  ('classifier', KerasClassifier(build_fn=self.create_model, verbose=0))\n",
      "\u001b[33m[W 2023-03-03 13:06:46,275]\u001b[0m The parameter 'batch_size' in trial#46 is sampled independently by using `RandomSampler` instead of `QMCSampler` (optimization performance may be degraded). `QMCSampler` does not support dynamic search space or `CategoricalDistribution`. You can suppress this warning by setting `warn_independent_sampling` to `False` in the constructor of `QMCSampler`, if this independent sampling is intended behavior.\u001b[0m\n"
     ]
    },
    {
     "name": "stdout",
     "output_type": "stream",
     "text": [
      "195/195 [==============================] - 0s 2ms/step\n",
      "195/195 [==============================] - 0s 1ms/step\n",
      "195/195 [==============================] - 0s 1ms/step\n"
     ]
    },
    {
     "name": "stderr",
     "output_type": "stream",
     "text": [
      "\u001b[32m[I 2023-03-03 13:07:31,157]\u001b[0m Trial 46 finished with value: 0.8788791034946737 and parameters: {'units_1': 35, 'units_2': 39, 'units_3': 17, 'alpha_1': 0.06484375, 'alpha_2': 0.039531250000000004, 'alpha_3': 0.01984375, 'dropout_1': 0.3078125, 'dropout_2': 0.2703125, 'dropout_3': 0.3265625, 'l2_kern_1': 0.0002838735964758755, 'l2_kern_2': 0.0012863969449369746, 'l2_kern_3': 1.1139738599948017e-05, 'l2_bias_1': 0.0001485508017172774, 'l2_bias_2': 3.278121151393459e-05, 'l2_bias_3': 0.0024582440689201977, 'lr': 0.0009064540280764379, 'batch_size': 256}. Best is trial 30 with value: 0.8818502648683421.\u001b[0m\n",
      "C:\\Users\\User\\AppData\\Local\\Temp\\ipykernel_12316\\574535459.py:60: DeprecationWarning: KerasClassifier is deprecated, use Sci-Keras (https://github.com/adriangb/scikeras) instead. See https://www.adriangb.com/scikeras/stable/migration.html for help migrating.\n",
      "  ('classifier', KerasClassifier(build_fn=self.create_model, verbose=0))\n",
      "\u001b[33m[W 2023-03-03 13:07:31,163]\u001b[0m The parameter 'batch_size' in trial#47 is sampled independently by using `RandomSampler` instead of `QMCSampler` (optimization performance may be degraded). `QMCSampler` does not support dynamic search space or `CategoricalDistribution`. You can suppress this warning by setting `warn_independent_sampling` to `False` in the constructor of `QMCSampler`, if this independent sampling is intended behavior.\u001b[0m\n"
     ]
    },
    {
     "name": "stdout",
     "output_type": "stream",
     "text": [
      "195/195 [==============================] - 0s 1ms/step\n",
      "195/195 [==============================] - 0s 1ms/step\n",
      "195/195 [==============================] - 0s 1ms/step\n"
     ]
    },
    {
     "name": "stderr",
     "output_type": "stream",
     "text": [
      "\u001b[32m[I 2023-03-03 13:08:13,056]\u001b[0m Trial 47 finished with value: 0.8546804584475413 and parameters: {'units_1': 25, 'units_2': 9, 'units_3': 26, 'alpha_1': 0.042343750000000006, 'alpha_2': 0.01703125, 'alpha_3': 0.042343750000000006, 'dropout_1': 0.3828125, 'dropout_2': 0.3453125, 'dropout_3': 0.2515625, 'l2_kern_1': 5.048065716667472e-05, 'l2_kern_2': 0.007233941627366748, 'l2_kern_3': 6.264335366568851e-05, 'l2_bias_1': 0.0008353625469578262, 'l2_bias_2': 0.005829415347136074, 'l2_bias_3': 0.000437144481261109, 'lr': 0.0002410395369144086, 'batch_size': 128}. Best is trial 30 with value: 0.8818502648683421.\u001b[0m\n",
      "C:\\Users\\User\\AppData\\Local\\Temp\\ipykernel_12316\\574535459.py:60: DeprecationWarning: KerasClassifier is deprecated, use Sci-Keras (https://github.com/adriangb/scikeras) instead. See https://www.adriangb.com/scikeras/stable/migration.html for help migrating.\n",
      "  ('classifier', KerasClassifier(build_fn=self.create_model, verbose=0))\n",
      "\u001b[33m[W 2023-03-03 13:08:13,061]\u001b[0m The parameter 'batch_size' in trial#48 is sampled independently by using `RandomSampler` instead of `QMCSampler` (optimization performance may be degraded). `QMCSampler` does not support dynamic search space or `CategoricalDistribution`. You can suppress this warning by setting `warn_independent_sampling` to `False` in the constructor of `QMCSampler`, if this independent sampling is intended behavior.\u001b[0m\n"
     ]
    },
    {
     "name": "stdout",
     "output_type": "stream",
     "text": [
      "195/195 [==============================] - 0s 1ms/step\n",
      "195/195 [==============================] - 0s 1ms/step\n",
      "195/195 [==============================] - 0s 2ms/step\n"
     ]
    },
    {
     "name": "stderr",
     "output_type": "stream",
     "text": [
      "\u001b[32m[I 2023-03-03 13:08:33,871]\u001b[0m Trial 48 finished with value: 0.8510832356859631 and parameters: {'units_1': 6, 'units_2': 29, 'units_3': 7, 'alpha_1': 0.08734375, 'alpha_2': 0.06203125000000001, 'alpha_3': 0.08734375, 'dropout_1': 0.2328125, 'dropout_2': 0.4953125, 'dropout_3': 0.40156250000000004, 'l2_kern_1': 0.0015963385442879423, 'l2_kern_2': 0.0002287573200318398, 'l2_kern_3': 0.001980956778550339, 'l2_bias_1': 2.6416483203860905e-05, 'l2_bias_2': 0.00018434229924091107, 'l2_bias_3': 1.3823722273578999e-05, 'lr': 0.00340881382172487, 'batch_size': 512}. Best is trial 30 with value: 0.8818502648683421.\u001b[0m\n",
      "C:\\Users\\User\\AppData\\Local\\Temp\\ipykernel_12316\\574535459.py:60: DeprecationWarning: KerasClassifier is deprecated, use Sci-Keras (https://github.com/adriangb/scikeras) instead. See https://www.adriangb.com/scikeras/stable/migration.html for help migrating.\n",
      "  ('classifier', KerasClassifier(build_fn=self.create_model, verbose=0))\n",
      "\u001b[33m[W 2023-03-03 13:08:33,873]\u001b[0m The parameter 'batch_size' in trial#49 is sampled independently by using `RandomSampler` instead of `QMCSampler` (optimization performance may be degraded). `QMCSampler` does not support dynamic search space or `CategoricalDistribution`. You can suppress this warning by setting `warn_independent_sampling` to `False` in the constructor of `QMCSampler`, if this independent sampling is intended behavior.\u001b[0m\n"
     ]
    },
    {
     "name": "stdout",
     "output_type": "stream",
     "text": [
      "195/195 [==============================] - 0s 1ms/step\n",
      "195/195 [==============================] - 0s 1ms/step\n",
      "195/195 [==============================] - 0s 1ms/step\n"
     ]
    },
    {
     "name": "stderr",
     "output_type": "stream",
     "text": [
      "\u001b[32m[I 2023-03-03 13:09:14,092]\u001b[0m Trial 49 finished with value: 0.8184838996860858 and parameters: {'units_1': 5, 'units_2': 11, 'units_3': 33, 'alpha_1': 0.022656250000000003, 'alpha_2': 0.047968750000000004, 'alpha_3': 0.01703125, 'dropout_1': 0.2796875, 'dropout_2': 0.3359375, 'dropout_3': 0.35468750000000004, 'l2_kern_1': 2.6416483203860905e-05, 'l2_kern_2': 0.0002838735964758755, 'l2_kern_3': 0.0006731703824144984, 'l2_bias_1': 0.00378551524925863, 'l2_bias_2': 9.646616199112003e-05, 'l2_bias_3': 0.0008353625469578262, 'lr': 7.563764051503597e-05, 'batch_size': 1024}. Best is trial 30 with value: 0.8818502648683421.\u001b[0m\n",
      "C:\\Users\\User\\AppData\\Local\\Temp\\ipykernel_12316\\574535459.py:60: DeprecationWarning: KerasClassifier is deprecated, use Sci-Keras (https://github.com/adriangb/scikeras) instead. See https://www.adriangb.com/scikeras/stable/migration.html for help migrating.\n",
      "  ('classifier', KerasClassifier(build_fn=self.create_model, verbose=0))\n",
      "\u001b[33m[W 2023-03-03 13:09:14,098]\u001b[0m The parameter 'batch_size' in trial#50 is sampled independently by using `RandomSampler` instead of `QMCSampler` (optimization performance may be degraded). `QMCSampler` does not support dynamic search space or `CategoricalDistribution`. You can suppress this warning by setting `warn_independent_sampling` to `False` in the constructor of `QMCSampler`, if this independent sampling is intended behavior.\u001b[0m\n"
     ]
    },
    {
     "name": "stdout",
     "output_type": "stream",
     "text": [
      "195/195 [==============================] - 0s 1ms/step\n",
      "195/195 [==============================] - 0s 2ms/step\n",
      "195/195 [==============================] - 0s 1ms/step\n"
     ]
    },
    {
     "name": "stderr",
     "output_type": "stream",
     "text": [
      "\u001b[32m[I 2023-03-03 13:10:23,701]\u001b[0m Trial 50 finished with value: 0.8645587169966515 and parameters: {'units_1': 24, 'units_2': 30, 'units_3': 13, 'alpha_1': 0.06765625, 'alpha_2': 0.09296875, 'alpha_3': 0.06203125000000001, 'dropout_1': 0.4296875, 'dropout_2': 0.4859375, 'dropout_3': 0.20468750000000002, 'l2_kern_1': 0.0008353625469578262, 'l2_kern_2': 0.008976871324473142, 'l2_kern_3': 2.128751661796373e-05, 'l2_bias_1': 0.00011970850304957301, 'l2_bias_2': 0.003050527890267026, 'l2_bias_3': 2.6416483203860905e-05, 'lr': 0.001069677770422646, 'batch_size': 64}. Best is trial 30 with value: 0.8818502648683421.\u001b[0m\n",
      "C:\\Users\\User\\AppData\\Local\\Temp\\ipykernel_12316\\574535459.py:60: DeprecationWarning: KerasClassifier is deprecated, use Sci-Keras (https://github.com/adriangb/scikeras) instead. See https://www.adriangb.com/scikeras/stable/migration.html for help migrating.\n",
      "  ('classifier', KerasClassifier(build_fn=self.create_model, verbose=0))\n",
      "\u001b[33m[W 2023-03-03 13:10:23,704]\u001b[0m The parameter 'batch_size' in trial#51 is sampled independently by using `RandomSampler` instead of `QMCSampler` (optimization performance may be degraded). `QMCSampler` does not support dynamic search space or `CategoricalDistribution`. You can suppress this warning by setting `warn_independent_sampling` to `False` in the constructor of `QMCSampler`, if this independent sampling is intended behavior.\u001b[0m\n"
     ]
    },
    {
     "name": "stdout",
     "output_type": "stream",
     "text": [
      "195/195 [==============================] - 0s 1ms/step\n",
      "195/195 [==============================] - 0s 1ms/step\n",
      "195/195 [==============================] - 0s 1ms/step\n"
     ]
    },
    {
     "name": "stderr",
     "output_type": "stream",
     "text": [
      "\u001b[32m[I 2023-03-03 13:11:51,427]\u001b[0m Trial 51 finished with value: 0.8778625282615379 and parameters: {'units_1': 34, 'units_2': 20, 'units_3': 23, 'alpha_1': 0.04515625000000001, 'alpha_2': 0.07046875000000001, 'alpha_3': 0.08453125, 'dropout_1': 0.20468750000000002, 'dropout_2': 0.4109375, 'dropout_3': 0.2796875, 'l2_kern_1': 0.004697588816706492, 'l2_kern_2': 0.0015963385442879423, 'l2_kern_3': 0.00011970850304957301, 'l2_bias_1': 0.0006731703824144984, 'l2_bias_2': 1.715437896342878e-05, 'l2_bias_3': 0.0001485508017172774, 'lr': 0.0002844431448746013, 'batch_size': 64}. Best is trial 30 with value: 0.8818502648683421.\u001b[0m\n",
      "C:\\Users\\User\\AppData\\Local\\Temp\\ipykernel_12316\\574535459.py:60: DeprecationWarning: KerasClassifier is deprecated, use Sci-Keras (https://github.com/adriangb/scikeras) instead. See https://www.adriangb.com/scikeras/stable/migration.html for help migrating.\n",
      "  ('classifier', KerasClassifier(build_fn=self.create_model, verbose=0))\n",
      "\u001b[33m[W 2023-03-03 13:11:51,432]\u001b[0m The parameter 'batch_size' in trial#52 is sampled independently by using `RandomSampler` instead of `QMCSampler` (optimization performance may be degraded). `QMCSampler` does not support dynamic search space or `CategoricalDistribution`. You can suppress this warning by setting `warn_independent_sampling` to `False` in the constructor of `QMCSampler`, if this independent sampling is intended behavior.\u001b[0m\n"
     ]
    },
    {
     "name": "stdout",
     "output_type": "stream",
     "text": [
      "195/195 [==============================] - 0s 1ms/step\n",
      "195/195 [==============================] - 0s 1ms/step\n",
      "195/195 [==============================] - 0s 1ms/step\n"
     ]
    },
    {
     "name": "stderr",
     "output_type": "stream",
     "text": [
      "\u001b[32m[I 2023-03-03 13:12:23,188]\u001b[0m Trial 52 finished with value: 0.8584916498841562 and parameters: {'units_1': 14, 'units_2': 40, 'units_3': 3, 'alpha_1': 0.09015625000000001, 'alpha_2': 0.025468750000000002, 'alpha_3': 0.039531250000000004, 'dropout_1': 0.35468750000000004, 'dropout_2': 0.2609375, 'dropout_3': 0.4296875, 'l2_kern_1': 0.0001485508017172774, 'l2_kern_2': 5.048065716667472e-05, 'l2_kern_3': 0.00378551524925863, 'l2_bias_1': 2.128751661796373e-05, 'l2_bias_2': 0.0005424690937011326, 'l2_bias_3': 0.004697588816706492, 'lr': 0.00402263353205716, 'batch_size': 64}. Best is trial 30 with value: 0.8818502648683421.\u001b[0m\n",
      "C:\\Users\\User\\AppData\\Local\\Temp\\ipykernel_12316\\574535459.py:60: DeprecationWarning: KerasClassifier is deprecated, use Sci-Keras (https://github.com/adriangb/scikeras) instead. See https://www.adriangb.com/scikeras/stable/migration.html for help migrating.\n",
      "  ('classifier', KerasClassifier(build_fn=self.create_model, verbose=0))\n",
      "\u001b[33m[W 2023-03-03 13:12:23,192]\u001b[0m The parameter 'batch_size' in trial#53 is sampled independently by using `RandomSampler` instead of `QMCSampler` (optimization performance may be degraded). `QMCSampler` does not support dynamic search space or `CategoricalDistribution`. You can suppress this warning by setting `warn_independent_sampling` to `False` in the constructor of `QMCSampler`, if this independent sampling is intended behavior.\u001b[0m\n"
     ]
    },
    {
     "name": "stdout",
     "output_type": "stream",
     "text": [
      "195/195 [==============================] - 0s 1ms/step\n",
      "195/195 [==============================] - 0s 2ms/step\n",
      "195/195 [==============================] - 0s 1ms/step\n"
     ]
    },
    {
     "name": "stderr",
     "output_type": "stream",
     "text": [
      "\u001b[32m[I 2023-03-03 13:12:48,201]\u001b[0m Trial 53 finished with value: 0.8700150362071469 and parameters: {'units_1': 19, 'units_2': 16, 'units_3': 18, 'alpha_1': 0.07890625, 'alpha_2': 0.01421875, 'alpha_3': 0.02828125, 'dropout_1': 0.2421875, 'dropout_2': 0.3734375, 'dropout_3': 0.3171875, 'l2_kern_1': 0.0003522694651473102, 'l2_kern_2': 0.0006731703824144984, 'l2_kern_3': 0.008976871324473142, 'l2_bias_1': 0.0015963385442879423, 'l2_bias_2': 0.007233941627366748, 'l2_bias_3': 0.001980956778550339, 'lr': 0.007800801356546247, 'batch_size': 512}. Best is trial 30 with value: 0.8818502648683421.\u001b[0m\n",
      "C:\\Users\\User\\AppData\\Local\\Temp\\ipykernel_12316\\574535459.py:60: DeprecationWarning: KerasClassifier is deprecated, use Sci-Keras (https://github.com/adriangb/scikeras) instead. See https://www.adriangb.com/scikeras/stable/migration.html for help migrating.\n",
      "  ('classifier', KerasClassifier(build_fn=self.create_model, verbose=0))\n",
      "\u001b[33m[W 2023-03-03 13:12:48,205]\u001b[0m The parameter 'batch_size' in trial#54 is sampled independently by using `RandomSampler` instead of `QMCSampler` (optimization performance may be degraded). `QMCSampler` does not support dynamic search space or `CategoricalDistribution`. You can suppress this warning by setting `warn_independent_sampling` to `False` in the constructor of `QMCSampler`, if this independent sampling is intended behavior.\u001b[0m\n"
     ]
    },
    {
     "name": "stdout",
     "output_type": "stream",
     "text": [
      "195/195 [==============================] - 0s 2ms/step\n",
      "195/195 [==============================] - 0s 1ms/step\n",
      "195/195 [==============================] - 0s 1ms/step\n"
     ]
    },
    {
     "name": "stderr",
     "output_type": "stream",
     "text": [
      "\u001b[32m[I 2023-03-03 13:13:39,978]\u001b[0m Trial 54 finished with value: 0.8599805775288966 and parameters: {'units_1': 39, 'units_2': 35, 'units_3': 37, 'alpha_1': 0.033906250000000006, 'alpha_2': 0.05921875000000001, 'alpha_3': 0.07328125, 'dropout_1': 0.3921875, 'dropout_2': 0.2234375, 'dropout_3': 0.4671875, 'l2_kern_1': 1.1139738599948017e-05, 'l2_kern_2': 2.128751661796373e-05, 'l2_kern_3': 0.0002838735964758755, 'l2_bias_1': 5.048065716667472e-05, 'l2_bias_2': 0.0002287573200318398, 'l2_bias_3': 6.264335366568851e-05, 'lr': 0.0005515999537903073, 'batch_size': 1024}. Best is trial 30 with value: 0.8818502648683421.\u001b[0m\n",
      "C:\\Users\\User\\AppData\\Local\\Temp\\ipykernel_12316\\574535459.py:60: DeprecationWarning: KerasClassifier is deprecated, use Sci-Keras (https://github.com/adriangb/scikeras) instead. See https://www.adriangb.com/scikeras/stable/migration.html for help migrating.\n",
      "  ('classifier', KerasClassifier(build_fn=self.create_model, verbose=0))\n",
      "\u001b[33m[W 2023-03-03 13:13:39,982]\u001b[0m The parameter 'batch_size' in trial#55 is sampled independently by using `RandomSampler` instead of `QMCSampler` (optimization performance may be degraded). `QMCSampler` does not support dynamic search space or `CategoricalDistribution`. You can suppress this warning by setting `warn_independent_sampling` to `False` in the constructor of `QMCSampler`, if this independent sampling is intended behavior.\u001b[0m\n"
     ]
    },
    {
     "name": "stdout",
     "output_type": "stream",
     "text": [
      "195/195 [==============================] - 0s 1ms/step\n",
      "195/195 [==============================] - 0s 1ms/step\n",
      "195/195 [==============================] - 0s 1ms/step\n"
     ]
    },
    {
     "name": "stderr",
     "output_type": "stream",
     "text": [
      "\u001b[32m[I 2023-03-03 13:14:05,218]\u001b[0m Trial 55 finished with value: 0.8656855050080603 and parameters: {'units_1': 29, 'units_2': 6, 'units_3': 8, 'alpha_1': 0.056406250000000005, 'alpha_2': 0.08171875, 'alpha_3': 0.09578125, 'dropout_1': 0.3171875, 'dropout_2': 0.2984375, 'dropout_3': 0.3921875, 'l2_kern_1': 6.264335366568851e-05, 'l2_kern_2': 0.00011970850304957301, 'l2_kern_3': 5.048065716667472e-05, 'l2_bias_1': 0.008976871324473142, 'l2_bias_2': 0.0012863969449369746, 'l2_bias_3': 1.1139738599948017e-05, 'lr': 0.00207434849237014, 'batch_size': 1024}. Best is trial 30 with value: 0.8818502648683421.\u001b[0m\n",
      "C:\\Users\\User\\AppData\\Local\\Temp\\ipykernel_12316\\574535459.py:60: DeprecationWarning: KerasClassifier is deprecated, use Sci-Keras (https://github.com/adriangb/scikeras) instead. See https://www.adriangb.com/scikeras/stable/migration.html for help migrating.\n",
      "  ('classifier', KerasClassifier(build_fn=self.create_model, verbose=0))\n",
      "\u001b[33m[W 2023-03-03 13:14:05,222]\u001b[0m The parameter 'batch_size' in trial#56 is sampled independently by using `RandomSampler` instead of `QMCSampler` (optimization performance may be degraded). `QMCSampler` does not support dynamic search space or `CategoricalDistribution`. You can suppress this warning by setting `warn_independent_sampling` to `False` in the constructor of `QMCSampler`, if this independent sampling is intended behavior.\u001b[0m\n"
     ]
    },
    {
     "name": "stdout",
     "output_type": "stream",
     "text": [
      "195/195 [==============================] - 0s 1ms/step\n",
      "195/195 [==============================] - 0s 1ms/step\n",
      "195/195 [==============================] - 0s 1ms/step\n"
     ]
    },
    {
     "name": "stderr",
     "output_type": "stream",
     "text": [
      "\u001b[32m[I 2023-03-03 13:14:47,375]\u001b[0m Trial 56 finished with value: 0.8413875139296554 and parameters: {'units_1': 9, 'units_2': 25, 'units_3': 28, 'alpha_1': 0.01140625, 'alpha_2': 0.03671875, 'alpha_3': 0.05078125000000001, 'dropout_1': 0.4671875, 'dropout_2': 0.4484375, 'dropout_3': 0.2421875, 'l2_kern_1': 0.001980956778550339, 'l2_kern_2': 0.00378551524925863, 'l2_kern_3': 0.0015963385442879423, 'l2_bias_1': 0.0002838735964758755, 'l2_bias_2': 4.0679443210830444e-05, 'l2_bias_3': 0.0003522694651473102, 'lr': 0.0001466785885499017, 'batch_size': 128}. Best is trial 30 with value: 0.8818502648683421.\u001b[0m\n",
      "C:\\Users\\User\\AppData\\Local\\Temp\\ipykernel_12316\\574535459.py:60: DeprecationWarning: KerasClassifier is deprecated, use Sci-Keras (https://github.com/adriangb/scikeras) instead. See https://www.adriangb.com/scikeras/stable/migration.html for help migrating.\n",
      "  ('classifier', KerasClassifier(build_fn=self.create_model, verbose=0))\n",
      "\u001b[33m[W 2023-03-03 13:14:47,381]\u001b[0m The parameter 'batch_size' in trial#57 is sampled independently by using `RandomSampler` instead of `QMCSampler` (optimization performance may be degraded). `QMCSampler` does not support dynamic search space or `CategoricalDistribution`. You can suppress this warning by setting `warn_independent_sampling` to `False` in the constructor of `QMCSampler`, if this independent sampling is intended behavior.\u001b[0m\n"
     ]
    },
    {
     "name": "stdout",
     "output_type": "stream",
     "text": [
      "195/195 [==============================] - 0s 1ms/step\n",
      "195/195 [==============================] - 0s 1ms/step\n",
      "195/195 [==============================] - 0s 1ms/step\n"
     ]
    },
    {
     "name": "stderr",
     "output_type": "stream",
     "text": [
      "\u001b[32m[I 2023-03-03 13:15:23,884]\u001b[0m Trial 57 finished with value: 0.8489639328879729 and parameters: {'units_1': 7, 'units_2': 18, 'units_3': 11, 'alpha_1': 0.039531250000000004, 'alpha_2': 0.09859375000000001, 'alpha_3': 0.033906250000000006, 'dropout_1': 0.2609375, 'dropout_2': 0.35468750000000004, 'dropout_3': 0.3359375, 'l2_kern_1': 0.0002287573200318398, 'l2_kern_2': 0.0024582440689201977, 'l2_kern_3': 0.000437144481261109, 'l2_bias_1': 3.278121151393459e-05, 'l2_bias_2': 0.0008353625469578262, 'l2_bias_3': 0.0002287573200318398, 'lr': 0.005601764464323711, 'batch_size': 64}. Best is trial 30 with value: 0.8818502648683421.\u001b[0m\n",
      "C:\\Users\\User\\AppData\\Local\\Temp\\ipykernel_12316\\574535459.py:60: DeprecationWarning: KerasClassifier is deprecated, use Sci-Keras (https://github.com/adriangb/scikeras) instead. See https://www.adriangb.com/scikeras/stable/migration.html for help migrating.\n",
      "  ('classifier', KerasClassifier(build_fn=self.create_model, verbose=0))\n",
      "\u001b[33m[W 2023-03-03 13:15:23,889]\u001b[0m The parameter 'batch_size' in trial#58 is sampled independently by using `RandomSampler` instead of `QMCSampler` (optimization performance may be degraded). `QMCSampler` does not support dynamic search space or `CategoricalDistribution`. You can suppress this warning by setting `warn_independent_sampling` to `False` in the constructor of `QMCSampler`, if this independent sampling is intended behavior.\u001b[0m\n"
     ]
    },
    {
     "name": "stdout",
     "output_type": "stream",
     "text": [
      "195/195 [==============================] - 0s 1ms/step\n",
      "195/195 [==============================] - 0s 1ms/step\n",
      "195/195 [==============================] - 0s 1ms/step\n"
     ]
    },
    {
     "name": "stderr",
     "output_type": "stream",
     "text": [
      "\u001b[32m[I 2023-03-03 13:16:11,326]\u001b[0m Trial 58 finished with value: 0.8653917299653654 and parameters: {'units_1': 26, 'units_2': 37, 'units_3': 30, 'alpha_1': 0.08453125, 'alpha_2': 0.05359375000000001, 'alpha_3': 0.07890625, 'dropout_1': 0.4109375, 'dropout_2': 0.20468750000000002, 'dropout_3': 0.4859375, 'l2_kern_1': 0.007233941627366748, 'l2_kern_2': 7.77365030238776e-05, 'l2_kern_3': 1.3823722273578999e-05, 'l2_bias_1': 0.001036632928437698, 'l2_bias_2': 2.6416483203860905e-05, 'l2_bias_3': 0.007233941627366748, 'lr': 0.0003961045639333123, 'batch_size': 256}. Best is trial 30 with value: 0.8818502648683421.\u001b[0m\n",
      "C:\\Users\\User\\AppData\\Local\\Temp\\ipykernel_12316\\574535459.py:60: DeprecationWarning: KerasClassifier is deprecated, use Sci-Keras (https://github.com/adriangb/scikeras) instead. See https://www.adriangb.com/scikeras/stable/migration.html for help migrating.\n",
      "  ('classifier', KerasClassifier(build_fn=self.create_model, verbose=0))\n",
      "\u001b[33m[W 2023-03-03 13:16:11,331]\u001b[0m The parameter 'batch_size' in trial#59 is sampled independently by using `RandomSampler` instead of `QMCSampler` (optimization performance may be degraded). `QMCSampler` does not support dynamic search space or `CategoricalDistribution`. You can suppress this warning by setting `warn_independent_sampling` to `False` in the constructor of `QMCSampler`, if this independent sampling is intended behavior.\u001b[0m\n"
     ]
    },
    {
     "name": "stdout",
     "output_type": "stream",
     "text": [
      "195/195 [==============================] - 0s 1ms/step\n",
      "195/195 [==============================] - 0s 1ms/step\n",
      "195/195 [==============================] - 0s 1ms/step\n"
     ]
    },
    {
     "name": "stderr",
     "output_type": "stream",
     "text": [
      "\u001b[32m[I 2023-03-03 13:16:47,737]\u001b[0m Trial 59 finished with value: 0.8764564486699454 and parameters: {'units_1': 36, 'units_2': 8, 'units_3': 20, 'alpha_1': 0.01703125, 'alpha_2': 0.031093750000000003, 'alpha_3': 0.056406250000000005, 'dropout_1': 0.3359375, 'dropout_2': 0.2796875, 'dropout_3': 0.4109375, 'l2_kern_1': 0.0012863969449369746, 'l2_kern_2': 1.3823722273578999e-05, 'l2_kern_3': 7.77365030238776e-05, 'l2_bias_1': 0.00018434229924091107, 'l2_bias_2': 0.004697588816706492, 'l2_bias_3': 0.0012863969449369746, 'lr': 0.0014895920483132515, 'batch_size': 256}. Best is trial 30 with value: 0.8818502648683421.\u001b[0m\n",
      "C:\\Users\\User\\AppData\\Local\\Temp\\ipykernel_12316\\574535459.py:60: DeprecationWarning: KerasClassifier is deprecated, use Sci-Keras (https://github.com/adriangb/scikeras) instead. See https://www.adriangb.com/scikeras/stable/migration.html for help migrating.\n",
      "  ('classifier', KerasClassifier(build_fn=self.create_model, verbose=0))\n",
      "\u001b[33m[W 2023-03-03 13:16:47,742]\u001b[0m The parameter 'batch_size' in trial#60 is sampled independently by using `RandomSampler` instead of `QMCSampler` (optimization performance may be degraded). `QMCSampler` does not support dynamic search space or `CategoricalDistribution`. You can suppress this warning by setting `warn_independent_sampling` to `False` in the constructor of `QMCSampler`, if this independent sampling is intended behavior.\u001b[0m\n"
     ]
    },
    {
     "name": "stdout",
     "output_type": "stream",
     "text": [
      "195/195 [==============================] - 0s 2ms/step\n",
      "195/195 [==============================] - 0s 2ms/step\n",
      "195/195 [==============================] - 0s 1ms/step\n"
     ]
    },
    {
     "name": "stderr",
     "output_type": "stream",
     "text": [
      "\u001b[32m[I 2023-03-03 13:17:37,646]\u001b[0m Trial 60 finished with value: 0.8415817752169122 and parameters: {'units_1': 17, 'units_2': 28, 'units_3': 40, 'alpha_1': 0.06203125000000001, 'alpha_2': 0.07609375, 'alpha_3': 0.01140625, 'dropout_1': 0.4859375, 'dropout_2': 0.4296875, 'dropout_3': 0.2609375, 'l2_kern_1': 4.0679443210830444e-05, 'l2_kern_2': 0.000437144481261109, 'l2_kern_3': 0.0024582440689201977, 'l2_bias_1': 0.005829415347136074, 'l2_bias_2': 0.0001485508017172774, 'l2_bias_3': 4.0679443210830444e-05, 'lr': 0.00010533006385638602, 'batch_size': 256}. Best is trial 30 with value: 0.8818502648683421.\u001b[0m\n",
      "C:\\Users\\User\\AppData\\Local\\Temp\\ipykernel_12316\\574535459.py:60: DeprecationWarning: KerasClassifier is deprecated, use Sci-Keras (https://github.com/adriangb/scikeras) instead. See https://www.adriangb.com/scikeras/stable/migration.html for help migrating.\n",
      "  ('classifier', KerasClassifier(build_fn=self.create_model, verbose=0))\n",
      "\u001b[33m[W 2023-03-03 13:17:37,651]\u001b[0m The parameter 'batch_size' in trial#61 is sampled independently by using `RandomSampler` instead of `QMCSampler` (optimization performance may be degraded). `QMCSampler` does not support dynamic search space or `CategoricalDistribution`. You can suppress this warning by setting `warn_independent_sampling` to `False` in the constructor of `QMCSampler`, if this independent sampling is intended behavior.\u001b[0m\n"
     ]
    },
    {
     "name": "stdout",
     "output_type": "stream",
     "text": [
      "195/195 [==============================] - 0s 1ms/step\n",
      "195/195 [==============================] - 0s 1ms/step\n",
      "195/195 [==============================] - 0s 2ms/step\n"
     ]
    },
    {
     "name": "stderr",
     "output_type": "stream",
     "text": [
      "\u001b[32m[I 2023-03-03 13:18:24,396]\u001b[0m Trial 61 finished with value: 0.8348105780697024 and parameters: {'units_1': 12, 'units_2': 3, 'units_3': 25, 'alpha_1': 0.07328125, 'alpha_2': 0.06484375, 'alpha_3': 0.04515625000000001, 'dropout_1': 0.2984375, 'dropout_2': 0.3171875, 'dropout_3': 0.3734375, 'l2_kern_1': 0.003050527890267026, 'l2_kern_2': 3.278121151393459e-05, 'l2_kern_3': 0.005829415347136074, 'l2_bias_1': 7.77365030238776e-05, 'l2_bias_2': 1.1139738599948017e-05, 'l2_bias_3': 1.715437896342878e-05, 'lr': 5.431547701786532e-05, 'batch_size': 128}. Best is trial 30 with value: 0.8818502648683421.\u001b[0m\n",
      "C:\\Users\\User\\AppData\\Local\\Temp\\ipykernel_12316\\574535459.py:60: DeprecationWarning: KerasClassifier is deprecated, use Sci-Keras (https://github.com/adriangb/scikeras) instead. See https://www.adriangb.com/scikeras/stable/migration.html for help migrating.\n",
      "  ('classifier', KerasClassifier(build_fn=self.create_model, verbose=0))\n",
      "\u001b[33m[W 2023-03-03 13:18:24,401]\u001b[0m The parameter 'batch_size' in trial#62 is sampled independently by using `RandomSampler` instead of `QMCSampler` (optimization performance may be degraded). `QMCSampler` does not support dynamic search space or `CategoricalDistribution`. You can suppress this warning by setting `warn_independent_sampling` to `False` in the constructor of `QMCSampler`, if this independent sampling is intended behavior.\u001b[0m\n"
     ]
    },
    {
     "name": "stdout",
     "output_type": "stream",
     "text": [
      "195/195 [==============================] - 0s 1ms/step\n",
      "195/195 [==============================] - 0s 2ms/step\n",
      "195/195 [==============================] - 0s 1ms/step\n"
     ]
    },
    {
     "name": "stderr",
     "output_type": "stream",
     "text": [
      "\u001b[32m[I 2023-03-03 13:19:01,487]\u001b[0m Trial 62 finished with value: 0.8530860557386474 and parameters: {'units_1': 31, 'units_2': 23, 'units_3': 6, 'alpha_1': 0.02828125, 'alpha_2': 0.01984375, 'alpha_3': 0.09015625000000001, 'dropout_1': 0.4484375, 'dropout_2': 0.4671875, 'dropout_3': 0.2234375, 'l2_kern_1': 9.646616199112003e-05, 'l2_kern_2': 0.001036632928437698, 'l2_kern_3': 0.00018434229924091107, 'l2_bias_1': 0.0024582440689201977, 'l2_bias_2': 0.0003522694651473102, 'l2_bias_3': 0.0005424690937011326, 'lr': 0.0007681368424542925, 'batch_size': 512}. Best is trial 30 with value: 0.8818502648683421.\u001b[0m\n",
      "C:\\Users\\User\\AppData\\Local\\Temp\\ipykernel_12316\\574535459.py:60: DeprecationWarning: KerasClassifier is deprecated, use Sci-Keras (https://github.com/adriangb/scikeras) instead. See https://www.adriangb.com/scikeras/stable/migration.html for help migrating.\n",
      "  ('classifier', KerasClassifier(build_fn=self.create_model, verbose=0))\n",
      "\u001b[33m[W 2023-03-03 13:19:01,492]\u001b[0m The parameter 'batch_size' in trial#63 is sampled independently by using `RandomSampler` instead of `QMCSampler` (optimization performance may be degraded). `QMCSampler` does not support dynamic search space or `CategoricalDistribution`. You can suppress this warning by setting `warn_independent_sampling` to `False` in the constructor of `QMCSampler`, if this independent sampling is intended behavior.\u001b[0m\n"
     ]
    },
    {
     "name": "stdout",
     "output_type": "stream",
     "text": [
      "195/195 [==============================] - 0s 1ms/step\n",
      "195/195 [==============================] - 0s 1ms/step\n",
      "195/195 [==============================] - 0s 2ms/step\n"
     ]
    },
    {
     "name": "stderr",
     "output_type": "stream",
     "text": [
      "\u001b[32m[I 2023-03-03 13:19:43,753]\u001b[0m Trial 63 finished with value: 0.8465391929213437 and parameters: {'units_1': 22, 'units_2': 13, 'units_3': 35, 'alpha_1': 0.09578125, 'alpha_2': 0.042343750000000006, 'alpha_3': 0.06765625, 'dropout_1': 0.2234375, 'dropout_2': 0.3921875, 'dropout_3': 0.2984375, 'l2_kern_1': 1.715437896342878e-05, 'l2_kern_2': 0.005829415347136074, 'l2_kern_3': 3.278121151393459e-05, 'l2_bias_1': 1.3823722273578999e-05, 'l2_bias_2': 6.264335366568851e-05, 'l2_bias_3': 0.003050527890267026, 'lr': 0.0002042589508758471, 'batch_size': 1024}. Best is trial 30 with value: 0.8818502648683421.\u001b[0m\n",
      "C:\\Users\\User\\AppData\\Local\\Temp\\ipykernel_12316\\574535459.py:60: DeprecationWarning: KerasClassifier is deprecated, use Sci-Keras (https://github.com/adriangb/scikeras) instead. See https://www.adriangb.com/scikeras/stable/migration.html for help migrating.\n",
      "  ('classifier', KerasClassifier(build_fn=self.create_model, verbose=0))\n",
      "\u001b[33m[W 2023-03-03 13:19:43,756]\u001b[0m The parameter 'batch_size' in trial#64 is sampled independently by using `RandomSampler` instead of `QMCSampler` (optimization performance may be degraded). `QMCSampler` does not support dynamic search space or `CategoricalDistribution`. You can suppress this warning by setting `warn_independent_sampling` to `False` in the constructor of `QMCSampler`, if this independent sampling is intended behavior.\u001b[0m\n"
     ]
    },
    {
     "name": "stdout",
     "output_type": "stream",
     "text": [
      "195/195 [==============================] - 0s 1ms/step\n",
      "195/195 [==============================] - 0s 1ms/step\n",
      "195/195 [==============================] - 0s 1ms/step\n"
     ]
    },
    {
     "name": "stderr",
     "output_type": "stream",
     "text": [
      "\u001b[32m[I 2023-03-03 13:20:44,658]\u001b[0m Trial 64 finished with value: 0.8468124159478451 and parameters: {'units_1': 2, 'units_2': 33, 'units_3': 16, 'alpha_1': 0.05078125000000001, 'alpha_2': 0.08734375, 'alpha_3': 0.022656250000000003, 'dropout_1': 0.3734375, 'dropout_2': 0.2421875, 'dropout_3': 0.4484375, 'l2_kern_1': 0.0005424690937011326, 'l2_kern_2': 0.00018434229924091107, 'l2_kern_3': 0.001036632928437698, 'l2_bias_1': 0.000437144481261109, 'l2_bias_2': 0.001980956778550339, 'l2_bias_3': 9.646616199112003e-05, 'lr': 0.0028886577856472285, 'batch_size': 32}. Best is trial 30 with value: 0.8818502648683421.\u001b[0m\n",
      "C:\\Users\\User\\AppData\\Local\\Temp\\ipykernel_12316\\574535459.py:60: DeprecationWarning: KerasClassifier is deprecated, use Sci-Keras (https://github.com/adriangb/scikeras) instead. See https://www.adriangb.com/scikeras/stable/migration.html for help migrating.\n",
      "  ('classifier', KerasClassifier(build_fn=self.create_model, verbose=0))\n",
      "\u001b[33m[W 2023-03-03 13:20:44,664]\u001b[0m The parameter 'batch_size' in trial#65 is sampled independently by using `RandomSampler` instead of `QMCSampler` (optimization performance may be degraded). `QMCSampler` does not support dynamic search space or `CategoricalDistribution`. You can suppress this warning by setting `warn_independent_sampling` to `False` in the constructor of `QMCSampler`, if this independent sampling is intended behavior.\u001b[0m\n"
     ]
    },
    {
     "name": "stdout",
     "output_type": "stream",
     "text": [
      "195/195 [==============================] - 0s 1ms/step\n",
      "195/195 [==============================] - 0s 1ms/step\n",
      "195/195 [==============================] - 0s 1ms/step\n"
     ]
    },
    {
     "name": "stderr",
     "output_type": "stream",
     "text": [
      "\u001b[32m[I 2023-03-03 13:21:36,672]\u001b[0m Trial 65 finished with value: 0.8420028613712917 and parameters: {'units_1': 2, 'units_2': 17, 'units_3': 33, 'alpha_1': 0.085234375, 'alpha_2': 0.068359375, 'alpha_3': 0.05007812500000001, 'dropout_1': 0.39921875, 'dropout_2': 0.26328125, 'dropout_3': 0.42265625, 'l2_kern_1': 2.2467900918126424e-05, 'l2_kern_2': 0.006853895838650084, 'l2_kern_3': 4.782858141653789e-05, 'l2_bias_1': 0.00019456400615886337, 'l2_bias_2': 0.0003718026663914474, 'l2_bias_3': 0.0025945527214040172, 'lr': 0.0007369903460552608, 'batch_size': 64}. Best is trial 30 with value: 0.8818502648683421.\u001b[0m\n",
      "C:\\Users\\User\\AppData\\Local\\Temp\\ipykernel_12316\\574535459.py:60: DeprecationWarning: KerasClassifier is deprecated, use Sci-Keras (https://github.com/adriangb/scikeras) instead. See https://www.adriangb.com/scikeras/stable/migration.html for help migrating.\n",
      "  ('classifier', KerasClassifier(build_fn=self.create_model, verbose=0))\n",
      "\u001b[33m[W 2023-03-03 13:21:36,677]\u001b[0m The parameter 'batch_size' in trial#66 is sampled independently by using `RandomSampler` instead of `QMCSampler` (optimization performance may be degraded). `QMCSampler` does not support dynamic search space or `CategoricalDistribution`. You can suppress this warning by setting `warn_independent_sampling` to `False` in the constructor of `QMCSampler`, if this independent sampling is intended behavior.\u001b[0m\n"
     ]
    },
    {
     "name": "stdout",
     "output_type": "stream",
     "text": [
      "195/195 [==============================] - 0s 1ms/step\n",
      "195/195 [==============================] - 0s 1ms/step\n",
      "195/195 [==============================] - 0s 1ms/step\n"
     ]
    },
    {
     "name": "stderr",
     "output_type": "stream",
     "text": [
      "\u001b[32m[I 2023-03-03 13:22:24,956]\u001b[0m Trial 66 finished with value: 0.8297087265714067 and parameters: {'units_1': 22, 'units_2': 37, 'units_3': 14, 'alpha_1': 0.040234375, 'alpha_2': 0.023359375, 'alpha_3': 0.095078125, 'dropout_1': 0.24921875000000002, 'dropout_2': 0.41328125000000004, 'dropout_3': 0.27265625, 'l2_kern_1': 0.0007104974114426786, 'l2_kern_2': 0.00021673921695684184, 'l2_kern_3': 0.0015124725453106239, 'l2_bias_1': 0.0061526541014903765, 'l2_bias_2': 1.175743265920711e-05, 'l2_bias_3': 8.204696109024983e-05, 'lr': 5.211308713646951e-05, 'batch_size': 512}. Best is trial 30 with value: 0.8818502648683421.\u001b[0m\n",
      "C:\\Users\\User\\AppData\\Local\\Temp\\ipykernel_12316\\574535459.py:60: DeprecationWarning: KerasClassifier is deprecated, use Sci-Keras (https://github.com/adriangb/scikeras) instead. See https://www.adriangb.com/scikeras/stable/migration.html for help migrating.\n",
      "  ('classifier', KerasClassifier(build_fn=self.create_model, verbose=0))\n",
      "\u001b[33m[W 2023-03-03 13:22:24,960]\u001b[0m The parameter 'batch_size' in trial#67 is sampled independently by using `RandomSampler` instead of `QMCSampler` (optimization performance may be degraded). `QMCSampler` does not support dynamic search space or `CategoricalDistribution`. You can suppress this warning by setting `warn_independent_sampling` to `False` in the constructor of `QMCSampler`, if this independent sampling is intended behavior.\u001b[0m\n"
     ]
    },
    {
     "name": "stdout",
     "output_type": "stream",
     "text": [
      "195/195 [==============================] - 0s 1ms/step\n",
      "195/195 [==============================] - 0s 1ms/step\n",
      "195/195 [==============================] - 0s 1ms/step\n"
     ]
    },
    {
     "name": "stderr",
     "output_type": "stream",
     "text": [
      "\u001b[32m[I 2023-03-03 13:22:44,702]\u001b[0m Trial 67 finished with value: 0.8581642957460116 and parameters: {'units_1': 32, 'units_2': 7, 'units_3': 24, 'alpha_1': 0.06273437500000001, 'alpha_2': 0.04585937500000001, 'alpha_3': 0.07257812500000001, 'dropout_1': 0.47421875, 'dropout_2': 0.48828125, 'dropout_3': 0.34765625, 'l2_kern_1': 0.003995420558949889, 'l2_kern_2': 3.854228868623108e-05, 'l2_kern_3': 0.008505258154439964, 'l2_bias_1': 3.459891660869929e-05, 'l2_bias_2': 0.00209080004127872, 'l2_bias_3': 1.4590242156305593e-05, 'lr': 0.0027715281749502254, 'batch_size': 1024}. Best is trial 30 with value: 0.8818502648683421.\u001b[0m\n",
      "C:\\Users\\User\\AppData\\Local\\Temp\\ipykernel_12316\\574535459.py:60: DeprecationWarning: KerasClassifier is deprecated, use Sci-Keras (https://github.com/adriangb/scikeras) instead. See https://www.adriangb.com/scikeras/stable/migration.html for help migrating.\n",
      "  ('classifier', KerasClassifier(build_fn=self.create_model, verbose=0))\n",
      "\u001b[33m[W 2023-03-03 13:22:44,706]\u001b[0m The parameter 'batch_size' in trial#68 is sampled independently by using `RandomSampler` instead of `QMCSampler` (optimization performance may be degraded). `QMCSampler` does not support dynamic search space or `CategoricalDistribution`. You can suppress this warning by setting `warn_independent_sampling` to `False` in the constructor of `QMCSampler`, if this independent sampling is intended behavior.\u001b[0m\n"
     ]
    },
    {
     "name": "stdout",
     "output_type": "stream",
     "text": [
      "195/195 [==============================] - 0s 1ms/step\n",
      "195/195 [==============================] - 0s 2ms/step\n",
      "195/195 [==============================] - 0s 1ms/step\n"
     ]
    },
    {
     "name": "stderr",
     "output_type": "stream",
     "text": [
      "\u001b[32m[I 2023-03-03 13:23:56,690]\u001b[0m Trial 68 finished with value: 0.8446120745689437 and parameters: {'units_1': 12, 'units_2': 27, 'units_3': 4, 'alpha_1': 0.017734375, 'alpha_2': 0.090859375, 'alpha_3': 0.027578125000000002, 'dropout_1': 0.32421875, 'dropout_2': 0.33828125, 'dropout_3': 0.49765625, 'l2_kern_1': 0.00012634629176544695, 'l2_kern_2': 0.00121881418484229, 'l2_kern_3': 0.0002689598785575042, 'l2_bias_1': 0.0010941138105771855, 'l2_bias_2': 6.611690262414816e-05, 'l2_bias_3': 0.00046138396827332176, 'lr': 0.00019597663667568819, 'batch_size': 32}. Best is trial 30 with value: 0.8818502648683421.\u001b[0m\n",
      "C:\\Users\\User\\AppData\\Local\\Temp\\ipykernel_12316\\574535459.py:60: DeprecationWarning: KerasClassifier is deprecated, use Sci-Keras (https://github.com/adriangb/scikeras) instead. See https://www.adriangb.com/scikeras/stable/migration.html for help migrating.\n",
      "  ('classifier', KerasClassifier(build_fn=self.create_model, verbose=0))\n",
      "\u001b[33m[W 2023-03-03 13:23:56,693]\u001b[0m The parameter 'batch_size' in trial#69 is sampled independently by using `RandomSampler` instead of `QMCSampler` (optimization performance may be degraded). `QMCSampler` does not support dynamic search space or `CategoricalDistribution`. You can suppress this warning by setting `warn_independent_sampling` to `False` in the constructor of `QMCSampler`, if this independent sampling is intended behavior.\u001b[0m\n"
     ]
    },
    {
     "name": "stdout",
     "output_type": "stream",
     "text": [
      "195/195 [==============================] - 0s 1ms/step\n",
      "195/195 [==============================] - 0s 1ms/step\n",
      "195/195 [==============================] - 0s 1ms/step\n"
     ]
    },
    {
     "name": "stderr",
     "output_type": "stream",
     "text": [
      "\u001b[32m[I 2023-03-03 13:25:14,237]\u001b[0m Trial 69 finished with value: 0.8517096975442415 and parameters: {'units_1': 17, 'units_2': 2, 'units_3': 19, 'alpha_1': 0.028984375, 'alpha_2': 0.07960937500000001, 'alpha_3': 0.038828125000000005, 'dropout_1': 0.43671875, 'dropout_2': 0.45078125, 'dropout_3': 0.31015625, 'l2_kern_1': 0.0016848548794358386, 'l2_kern_2': 1.6253148373118654e-05, 'l2_kern_3': 0.00011341944035027563, 'l2_bias_1': 1.4590242156305593e-05, 'l2_bias_2': 2.788126665413133e-05, 'l2_bias_3': 0.0010941138105771855, 'lr': 0.00038004327290765393, 'batch_size': 32}. Best is trial 30 with value: 0.8818502648683421.\u001b[0m\n",
      "C:\\Users\\User\\AppData\\Local\\Temp\\ipykernel_12316\\574535459.py:60: DeprecationWarning: KerasClassifier is deprecated, use Sci-Keras (https://github.com/adriangb/scikeras) instead. See https://www.adriangb.com/scikeras/stable/migration.html for help migrating.\n",
      "  ('classifier', KerasClassifier(build_fn=self.create_model, verbose=0))\n",
      "\u001b[33m[W 2023-03-03 13:25:14,241]\u001b[0m The parameter 'batch_size' in trial#70 is sampled independently by using `RandomSampler` instead of `QMCSampler` (optimization performance may be degraded). `QMCSampler` does not support dynamic search space or `CategoricalDistribution`. You can suppress this warning by setting `warn_independent_sampling` to `False` in the constructor of `QMCSampler`, if this independent sampling is intended behavior.\u001b[0m\n"
     ]
    },
    {
     "name": "stdout",
     "output_type": "stream",
     "text": [
      "195/195 [==============================] - 0s 1ms/step\n",
      "195/195 [==============================] - 0s 1ms/step\n",
      "195/195 [==============================] - 0s 1ms/step\n"
     ]
    },
    {
     "name": "stderr",
     "output_type": "stream",
     "text": [
      "\u001b[32m[I 2023-03-03 13:25:44,467]\u001b[0m Trial 70 finished with value: 0.880222562363688 and parameters: {'units_1': 37, 'units_2': 22, 'units_3': 38, 'alpha_1': 0.073984375, 'alpha_2': 0.034609375000000005, 'alpha_3': 0.083828125, 'dropout_1': 0.28671875, 'dropout_2': 0.30078125, 'dropout_3': 0.46015625, 'l2_kern_1': 5.3279789458656456e-05, 'l2_kern_2': 0.0005139696800771515, 'l2_kern_3': 0.0035866376244847696, 'l2_bias_1': 0.00046138396827332176, 'l2_bias_2': 0.0008816830667755708, 'l2_bias_3': 3.459891660869929e-05, 'lr': 0.005374623508346633, 'batch_size': 256}. Best is trial 30 with value: 0.8818502648683421.\u001b[0m\n",
      "C:\\Users\\User\\AppData\\Local\\Temp\\ipykernel_12316\\574535459.py:60: DeprecationWarning: KerasClassifier is deprecated, use Sci-Keras (https://github.com/adriangb/scikeras) instead. See https://www.adriangb.com/scikeras/stable/migration.html for help migrating.\n",
      "  ('classifier', KerasClassifier(build_fn=self.create_model, verbose=0))\n",
      "\u001b[33m[W 2023-03-03 13:25:44,473]\u001b[0m The parameter 'batch_size' in trial#71 is sampled independently by using `RandomSampler` instead of `QMCSampler` (optimization performance may be degraded). `QMCSampler` does not support dynamic search space or `CategoricalDistribution`. You can suppress this warning by setting `warn_independent_sampling` to `False` in the constructor of `QMCSampler`, if this independent sampling is intended behavior.\u001b[0m\n"
     ]
    },
    {
     "name": "stdout",
     "output_type": "stream",
     "text": [
      "195/195 [==============================] - 0s 1ms/step\n",
      "195/195 [==============================] - 0s 1ms/step\n",
      "195/195 [==============================] - 0s 1ms/step\n"
     ]
    },
    {
     "name": "stderr",
     "output_type": "stream",
     "text": [
      "\u001b[32m[I 2023-03-03 13:30:27,910]\u001b[0m Trial 71 finished with value: 0.8586184629605733 and parameters: {'units_1': 27, 'units_2': 12, 'units_3': 9, 'alpha_1': 0.051484375000000006, 'alpha_2': 0.012109375, 'alpha_3': 0.06132812500000001, 'dropout_1': 0.36171875, 'dropout_2': 0.22578125000000002, 'dropout_3': 0.38515625, 'l2_kern_1': 0.0002996142741004366, 'l2_kern_2': 0.0028902639100224507, 'l2_kern_3': 0.000637804383889218, 'l2_bias_1': 8.204696109024983e-05, 'l2_bias_2': 0.00015678788438269704, 'l2_bias_3': 0.00019456400615886337, 'lr': 0.0001010591289483161, 'batch_size': 16}. Best is trial 30 with value: 0.8818502648683421.\u001b[0m\n",
      "C:\\Users\\User\\AppData\\Local\\Temp\\ipykernel_12316\\574535459.py:60: DeprecationWarning: KerasClassifier is deprecated, use Sci-Keras (https://github.com/adriangb/scikeras) instead. See https://www.adriangb.com/scikeras/stable/migration.html for help migrating.\n",
      "  ('classifier', KerasClassifier(build_fn=self.create_model, verbose=0))\n",
      "\u001b[33m[W 2023-03-03 13:30:27,914]\u001b[0m The parameter 'batch_size' in trial#72 is sampled independently by using `RandomSampler` instead of `QMCSampler` (optimization performance may be degraded). `QMCSampler` does not support dynamic search space or `CategoricalDistribution`. You can suppress this warning by setting `warn_independent_sampling` to `False` in the constructor of `QMCSampler`, if this independent sampling is intended behavior.\u001b[0m\n"
     ]
    },
    {
     "name": "stdout",
     "output_type": "stream",
     "text": [
      "195/195 [==============================] - 0s 1ms/step\n",
      "195/195 [==============================] - 0s 1ms/step\n",
      "195/195 [==============================] - 0s 1ms/step\n"
     ]
    },
    {
     "name": "stderr",
     "output_type": "stream",
     "text": [
      "\u001b[32m[I 2023-03-03 13:30:53,030]\u001b[0m Trial 72 finished with value: 0.8568482111335928 and parameters: {'units_1': 7, 'units_2': 32, 'units_3': 29, 'alpha_1': 0.09648437500000001, 'alpha_2': 0.05710937500000001, 'alpha_3': 0.016328125, 'dropout_1': 0.21171875, 'dropout_2': 0.37578125, 'dropout_3': 0.23515625, 'l2_kern_1': 0.009474635256553761, 'l2_kern_2': 9.139816994654908e-05, 'l2_kern_3': 2.0169145547303294e-05, 'l2_bias_1': 0.0025945527214040172, 'l2_bias_2': 0.00495806824168466, 'l2_bias_3': 0.0061526541014903765, 'lr': 0.0014291919076031988, 'batch_size': 1024}. Best is trial 30 with value: 0.8818502648683421.\u001b[0m\n",
      "C:\\Users\\User\\AppData\\Local\\Temp\\ipykernel_12316\\574535459.py:60: DeprecationWarning: KerasClassifier is deprecated, use Sci-Keras (https://github.com/adriangb/scikeras) instead. See https://www.adriangb.com/scikeras/stable/migration.html for help migrating.\n",
      "  ('classifier', KerasClassifier(build_fn=self.create_model, verbose=0))\n",
      "\u001b[33m[W 2023-03-03 13:30:53,034]\u001b[0m The parameter 'batch_size' in trial#73 is sampled independently by using `RandomSampler` instead of `QMCSampler` (optimization performance may be degraded). `QMCSampler` does not support dynamic search space or `CategoricalDistribution`. You can suppress this warning by setting `warn_independent_sampling` to `False` in the constructor of `QMCSampler`, if this independent sampling is intended behavior.\u001b[0m\n"
     ]
    },
    {
     "name": "stdout",
     "output_type": "stream",
     "text": [
      "195/195 [==============================] - 0s 1ms/step\n",
      "195/195 [==============================] - 0s 1ms/step\n",
      "195/195 [==============================] - 0s 1ms/step\n"
     ]
    },
    {
     "name": "stderr",
     "output_type": "stream",
     "text": [
      "\u001b[32m[I 2023-03-03 13:33:52,334]\u001b[0m Trial 73 finished with value: 0.8567681300939972 and parameters: {'units_1': 10, 'units_2': 10, 'units_3': 7, 'alpha_1': 0.068359375, 'alpha_2': 0.028984375, 'alpha_3': 0.021953125000000004, 'dropout_1': 0.45546875, 'dropout_2': 0.43203125, 'dropout_3': 0.29140625, 'l2_kern_1': 8.204696109024983e-05, 'l2_kern_2': 5.935229272296989e-05, 'l2_kern_3': 3.105900223624704e-05, 'l2_bias_1': 0.0007104974114426786, 'l2_bias_2': 0.00024144182212566391, 'l2_bias_3': 2.2467900918126424e-05, 'lr': 0.0005292336187509121, 'batch_size': 16}. Best is trial 30 with value: 0.8818502648683421.\u001b[0m\n",
      "C:\\Users\\User\\AppData\\Local\\Temp\\ipykernel_12316\\574535459.py:60: DeprecationWarning: KerasClassifier is deprecated, use Sci-Keras (https://github.com/adriangb/scikeras) instead. See https://www.adriangb.com/scikeras/stable/migration.html for help migrating.\n",
      "  ('classifier', KerasClassifier(build_fn=self.create_model, verbose=0))\n",
      "\u001b[33m[W 2023-03-03 13:33:52,340]\u001b[0m The parameter 'batch_size' in trial#74 is sampled independently by using `RandomSampler` instead of `QMCSampler` (optimization performance may be degraded). `QMCSampler` does not support dynamic search space or `CategoricalDistribution`. You can suppress this warning by setting `warn_independent_sampling` to `False` in the constructor of `QMCSampler`, if this independent sampling is intended behavior.\u001b[0m\n"
     ]
    },
    {
     "name": "stdout",
     "output_type": "stream",
     "text": [
      "195/195 [==============================] - 0s 1ms/step\n",
      "195/195 [==============================] - 0s 1ms/step\n",
      "195/195 [==============================] - 0s 1ms/step\n"
     ]
    },
    {
     "name": "stderr",
     "output_type": "stream",
     "text": [
      "\u001b[32m[I 2023-03-03 13:34:15,375]\u001b[0m Trial 74 finished with value: 0.8721596558014307 and parameters: {'units_1': 29, 'units_2': 29, 'units_3': 26, 'alpha_1': 0.023359375, 'alpha_2': 0.073984375, 'alpha_3': 0.066953125, 'dropout_1': 0.30546875, 'dropout_2': 0.28203125, 'dropout_3': 0.44140625, 'l2_kern_1': 0.0025945527214040172, 'l2_kern_2': 0.0018768842935762192, 'l2_kern_3': 0.000982171889188038, 'l2_bias_1': 2.2467900918126424e-05, 'l2_bias_2': 0.007635060803383351, 'l2_bias_3': 0.0007104974114426786, 'lr': 0.007484493613013314, 'batch_size': 1024}. Best is trial 30 with value: 0.8818502648683421.\u001b[0m\n",
      "C:\\Users\\User\\AppData\\Local\\Temp\\ipykernel_12316\\574535459.py:60: DeprecationWarning: KerasClassifier is deprecated, use Sci-Keras (https://github.com/adriangb/scikeras) instead. See https://www.adriangb.com/scikeras/stable/migration.html for help migrating.\n",
      "  ('classifier', KerasClassifier(build_fn=self.create_model, verbose=0))\n",
      "\u001b[33m[W 2023-03-03 13:34:15,378]\u001b[0m The parameter 'batch_size' in trial#75 is sampled independently by using `RandomSampler` instead of `QMCSampler` (optimization performance may be degraded). `QMCSampler` does not support dynamic search space or `CategoricalDistribution`. You can suppress this warning by setting `warn_independent_sampling` to `False` in the constructor of `QMCSampler`, if this independent sampling is intended behavior.\u001b[0m\n"
     ]
    },
    {
     "name": "stdout",
     "output_type": "stream",
     "text": [
      "195/195 [==============================] - 0s 1ms/step\n",
      "195/195 [==============================] - 0s 1ms/step\n",
      "195/195 [==============================] - 0s 1ms/step\n"
     ]
    },
    {
     "name": "stderr",
     "output_type": "stream",
     "text": [
      "\u001b[32m[I 2023-03-03 13:34:47,299]\u001b[0m Trial 75 finished with value: 0.8444530396445451 and parameters: {'units_1': 39, 'units_2': 19, 'units_3': 16, 'alpha_1': 0.090859375, 'alpha_2': 0.09648437500000001, 'alpha_3': 0.08945312500000001, 'dropout_1': 0.38046875, 'dropout_2': 0.20703125, 'dropout_3': 0.36640625000000004, 'l2_kern_1': 0.00046138396827332176, 'l2_kern_2': 0.000333762469429204, 'l2_kern_3': 0.0055231584173071, 'l2_bias_1': 0.003995420558949889, 'l2_bias_2': 4.293510210083482e-05, 'l2_bias_3': 0.003995420558949889, 'lr': 0.0001407310491564162, 'batch_size': 256}. Best is trial 30 with value: 0.8818502648683421.\u001b[0m\n",
      "C:\\Users\\User\\AppData\\Local\\Temp\\ipykernel_12316\\574535459.py:60: DeprecationWarning: KerasClassifier is deprecated, use Sci-Keras (https://github.com/adriangb/scikeras) instead. See https://www.adriangb.com/scikeras/stable/migration.html for help migrating.\n",
      "  ('classifier', KerasClassifier(build_fn=self.create_model, verbose=0))\n",
      "\u001b[33m[W 2023-03-03 13:34:47,304]\u001b[0m The parameter 'batch_size' in trial#76 is sampled independently by using `RandomSampler` instead of `QMCSampler` (optimization performance may be degraded). `QMCSampler` does not support dynamic search space or `CategoricalDistribution`. You can suppress this warning by setting `warn_independent_sampling` to `False` in the constructor of `QMCSampler`, if this independent sampling is intended behavior.\u001b[0m\n"
     ]
    },
    {
     "name": "stdout",
     "output_type": "stream",
     "text": [
      "195/195 [==============================] - 0s 1ms/step\n",
      "195/195 [==============================] - 0s 1ms/step\n",
      "195/195 [==============================] - 0s 1ms/step\n"
     ]
    },
    {
     "name": "stderr",
     "output_type": "stream",
     "text": [
      "\u001b[32m[I 2023-03-03 13:35:31,909]\u001b[0m Trial 76 finished with value: 0.8808007331846749 and parameters: {'units_1': 19, 'units_2': 39, 'units_3': 36, 'alpha_1': 0.04585937500000001, 'alpha_2': 0.051484375000000006, 'alpha_3': 0.044453125, 'dropout_1': 0.23046875, 'dropout_2': 0.35703125, 'dropout_3': 0.21640625000000002, 'l2_kern_1': 1.4590242156305593e-05, 'l2_kern_2': 1.0554496008786035e-05, 'l2_kern_3': 0.0001746576047662117, 'l2_bias_1': 0.00012634629176544695, 'l2_bias_2': 0.0013577271421051837, 'l2_bias_3': 0.00012634629176544695, 'lr': 0.0019902375836399855, 'batch_size': 256}. Best is trial 30 with value: 0.8818502648683421.\u001b[0m\n",
      "C:\\Users\\User\\AppData\\Local\\Temp\\ipykernel_12316\\574535459.py:60: DeprecationWarning: KerasClassifier is deprecated, use Sci-Keras (https://github.com/adriangb/scikeras) instead. See https://www.adriangb.com/scikeras/stable/migration.html for help migrating.\n",
      "  ('classifier', KerasClassifier(build_fn=self.create_model, verbose=0))\n",
      "\u001b[33m[W 2023-03-03 13:35:31,915]\u001b[0m The parameter 'batch_size' in trial#77 is sampled independently by using `RandomSampler` instead of `QMCSampler` (optimization performance may be degraded). `QMCSampler` does not support dynamic search space or `CategoricalDistribution`. You can suppress this warning by setting `warn_independent_sampling` to `False` in the constructor of `QMCSampler`, if this independent sampling is intended behavior.\u001b[0m\n"
     ]
    },
    {
     "name": "stdout",
     "output_type": "stream",
     "text": [
      "195/195 [==============================] - 0s 1ms/step\n",
      "195/195 [==============================] - 0s 1ms/step\n",
      "195/195 [==============================] - 0s 1ms/step\n"
     ]
    },
    {
     "name": "stderr",
     "output_type": "stream",
     "text": [
      "\u001b[32m[I 2023-03-03 13:37:03,775]\u001b[0m Trial 77 finished with value: 0.8617803041023765 and parameters: {'units_1': 15, 'units_2': 15, 'units_3': 21, 'alpha_1': 0.034609375000000005, 'alpha_2': 0.040234375, 'alpha_3': 0.010703125, 'dropout_1': 0.41796875, 'dropout_2': 0.24453125, 'dropout_3': 0.40390625, 'l2_kern_1': 0.0061526541014903765, 'l2_kern_2': 0.0007914755439411164, 'l2_kern_3': 7.365250122712277e-05, 'l2_bias_1': 0.009474635256553761, 'l2_bias_2': 0.0032196784442513815, 'l2_bias_3': 0.0002996142741004366, 'lr': 0.0010263043596145647, 'batch_size': 16}. Best is trial 30 with value: 0.8818502648683421.\u001b[0m\n",
      "C:\\Users\\User\\AppData\\Local\\Temp\\ipykernel_12316\\574535459.py:60: DeprecationWarning: KerasClassifier is deprecated, use Sci-Keras (https://github.com/adriangb/scikeras) instead. See https://www.adriangb.com/scikeras/stable/migration.html for help migrating.\n",
      "  ('classifier', KerasClassifier(build_fn=self.create_model, verbose=0))\n",
      "\u001b[33m[W 2023-03-03 13:37:03,779]\u001b[0m The parameter 'batch_size' in trial#78 is sampled independently by using `RandomSampler` instead of `QMCSampler` (optimization performance may be degraded). `QMCSampler` does not support dynamic search space or `CategoricalDistribution`. You can suppress this warning by setting `warn_independent_sampling` to `False` in the constructor of `QMCSampler`, if this independent sampling is intended behavior.\u001b[0m\n"
     ]
    },
    {
     "name": "stdout",
     "output_type": "stream",
     "text": [
      "195/195 [==============================] - 1s 1ms/step\n",
      "195/195 [==============================] - 0s 1ms/step\n",
      "195/195 [==============================] - 0s 1ms/step\n"
     ]
    },
    {
     "name": "stderr",
     "output_type": "stream",
     "text": [
      "\u001b[32m[I 2023-03-03 13:38:50,055]\u001b[0m Trial 78 finished with value: 0.8444209093538763 and parameters: {'units_1': 34, 'units_2': 34, 'units_3': 2, 'alpha_1': 0.07960937500000001, 'alpha_2': 0.085234375, 'alpha_3': 0.055703125000000006, 'dropout_1': 0.26796875, 'dropout_2': 0.39453125, 'dropout_3': 0.25390625, 'l2_kern_1': 0.00019456400615886337, 'l2_kern_2': 2.502865431174609e-05, 'l2_kern_3': 0.0023290965924605465, 'l2_bias_1': 0.0002996142741004366, 'l2_bias_2': 0.00010181517217181818, 'l2_bias_3': 0.009474635256553761, 'lr': 7.257067722447755e-05, 'batch_size': 32}. Best is trial 30 with value: 0.8818502648683421.\u001b[0m\n",
      "C:\\Users\\User\\AppData\\Local\\Temp\\ipykernel_12316\\574535459.py:60: DeprecationWarning: KerasClassifier is deprecated, use Sci-Keras (https://github.com/adriangb/scikeras) instead. See https://www.adriangb.com/scikeras/stable/migration.html for help migrating.\n",
      "  ('classifier', KerasClassifier(build_fn=self.create_model, verbose=0))\n",
      "\u001b[33m[W 2023-03-03 13:38:50,060]\u001b[0m The parameter 'batch_size' in trial#79 is sampled independently by using `RandomSampler` instead of `QMCSampler` (optimization performance may be degraded). `QMCSampler` does not support dynamic search space or `CategoricalDistribution`. You can suppress this warning by setting `warn_independent_sampling` to `False` in the constructor of `QMCSampler`, if this independent sampling is intended behavior.\u001b[0m\n"
     ]
    },
    {
     "name": "stdout",
     "output_type": "stream",
     "text": [
      "195/195 [==============================] - 0s 2ms/step\n",
      "195/195 [==============================] - 0s 1ms/step\n",
      "195/195 [==============================] - 0s 1ms/step\n"
     ]
    },
    {
     "name": "stderr",
     "output_type": "stream",
     "text": [
      "\u001b[32m[I 2023-03-03 13:39:19,406]\u001b[0m Trial 79 finished with value: 0.8627185111585248 and parameters: {'units_1': 24, 'units_2': 5, 'units_3': 31, 'alpha_1': 0.012109375, 'alpha_2': 0.06273437500000001, 'alpha_3': 0.078203125, 'dropout_1': 0.49296875, 'dropout_2': 0.46953125, 'dropout_3': 0.32890625, 'l2_kern_1': 3.459891660869929e-05, 'l2_kern_2': 0.0001407464663339844, 'l2_kern_3': 0.00041417845143644066, 'l2_bias_1': 0.0016848548794358386, 'l2_bias_2': 0.0005725487884358379, 'l2_bias_3': 0.0016848548794358386, 'lr': 0.0038595233492145792, 'batch_size': 512}. Best is trial 30 with value: 0.8818502648683421.\u001b[0m\n",
      "C:\\Users\\User\\AppData\\Local\\Temp\\ipykernel_12316\\574535459.py:60: DeprecationWarning: KerasClassifier is deprecated, use Sci-Keras (https://github.com/adriangb/scikeras) instead. See https://www.adriangb.com/scikeras/stable/migration.html for help migrating.\n",
      "  ('classifier', KerasClassifier(build_fn=self.create_model, verbose=0))\n",
      "\u001b[33m[W 2023-03-03 13:39:19,410]\u001b[0m The parameter 'batch_size' in trial#80 is sampled independently by using `RandomSampler` instead of `QMCSampler` (optimization performance may be degraded). `QMCSampler` does not support dynamic search space or `CategoricalDistribution`. You can suppress this warning by setting `warn_independent_sampling` to `False` in the constructor of `QMCSampler`, if this independent sampling is intended behavior.\u001b[0m\n"
     ]
    },
    {
     "name": "stdout",
     "output_type": "stream",
     "text": [
      "195/195 [==============================] - 0s 1ms/step\n",
      "195/195 [==============================] - 0s 1ms/step\n",
      "195/195 [==============================] - 0s 1ms/step\n"
     ]
    },
    {
     "name": "stderr",
     "output_type": "stream",
     "text": [
      "\u001b[32m[I 2023-03-03 13:39:44,878]\u001b[0m Trial 80 finished with value: 0.8344833371628829 and parameters: {'units_1': 5, 'units_2': 24, 'units_3': 12, 'alpha_1': 0.05710937500000001, 'alpha_2': 0.017734375, 'alpha_3': 0.033203125, 'dropout_1': 0.34296875000000004, 'dropout_2': 0.31953125, 'dropout_3': 0.47890625, 'l2_kern_1': 0.0010941138105771855, 'l2_kern_2': 0.004450794062355997, 'l2_kern_3': 1.3097472643005891e-05, 'l2_bias_1': 5.3279789458656456e-05, 'l2_bias_2': 1.8105582430271218e-05, 'l2_bias_3': 5.3279789458656456e-05, 'lr': 0.0002729095132377444, 'batch_size': 512}. Best is trial 30 with value: 0.8818502648683421.\u001b[0m\n",
      "C:\\Users\\User\\AppData\\Local\\Temp\\ipykernel_12316\\574535459.py:60: DeprecationWarning: KerasClassifier is deprecated, use Sci-Keras (https://github.com/adriangb/scikeras) instead. See https://www.adriangb.com/scikeras/stable/migration.html for help migrating.\n",
      "  ('classifier', KerasClassifier(build_fn=self.create_model, verbose=0))\n",
      "\u001b[33m[W 2023-03-03 13:39:44,884]\u001b[0m The parameter 'batch_size' in trial#81 is sampled independently by using `RandomSampler` instead of `QMCSampler` (optimization performance may be degraded). `QMCSampler` does not support dynamic search space or `CategoricalDistribution`. You can suppress this warning by setting `warn_independent_sampling` to `False` in the constructor of `QMCSampler`, if this independent sampling is intended behavior.\u001b[0m\n"
     ]
    },
    {
     "name": "stdout",
     "output_type": "stream",
     "text": [
      "195/195 [==============================] - 0s 1ms/step\n",
      "195/195 [==============================] - 0s 1ms/step\n",
      "195/195 [==============================] - 0s 1ms/step\n"
     ]
    },
    {
     "name": "stderr",
     "output_type": "stream",
     "text": [
      "\u001b[32m[I 2023-03-03 13:42:19,895]\u001b[0m Trial 81 finished with value: 0.8578932830017673 and parameters: {'units_1': 6, 'units_2': 6, 'units_3': 27, 'alpha_1': 0.05429687500000001, 'alpha_2': 0.093671875, 'alpha_3': 0.05851562500000001, 'dropout_1': 0.23984375000000002, 'dropout_2': 0.47890625, 'dropout_3': 0.43203125, 'l2_kern_1': 4.293510210083482e-05, 'l2_kern_2': 0.0055231584173071, 'l2_kern_3': 9.139816994654908e-05, 'l2_bias_1': 0.00209080004127872, 'l2_bias_2': 3.459891660869929e-05, 'l2_bias_3': 0.0005725487884358379, 'lr': 0.0008696990313610563, 'batch_size': 16}. Best is trial 30 with value: 0.8818502648683421.\u001b[0m\n",
      "C:\\Users\\User\\AppData\\Local\\Temp\\ipykernel_12316\\574535459.py:60: DeprecationWarning: KerasClassifier is deprecated, use Sci-Keras (https://github.com/adriangb/scikeras) instead. See https://www.adriangb.com/scikeras/stable/migration.html for help migrating.\n",
      "  ('classifier', KerasClassifier(build_fn=self.create_model, verbose=0))\n",
      "\u001b[33m[W 2023-03-03 13:42:19,899]\u001b[0m The parameter 'batch_size' in trial#82 is sampled independently by using `RandomSampler` instead of `QMCSampler` (optimization performance may be degraded). `QMCSampler` does not support dynamic search space or `CategoricalDistribution`. You can suppress this warning by setting `warn_independent_sampling` to `False` in the constructor of `QMCSampler`, if this independent sampling is intended behavior.\u001b[0m\n"
     ]
    },
    {
     "name": "stdout",
     "output_type": "stream",
     "text": [
      "195/195 [==============================] - 0s 1ms/step\n",
      "195/195 [==============================] - 0s 1ms/step\n",
      "195/195 [==============================] - 0s 2ms/step\n"
     ]
    },
    {
     "name": "stderr",
     "output_type": "stream",
     "text": [
      "\u001b[32m[I 2023-03-03 13:43:06,122]\u001b[0m Trial 82 finished with value: 0.8265039624571934 and parameters: {'units_1': 26, 'units_2': 26, 'units_3': 8, 'alpha_1': 0.099296875, 'alpha_2': 0.048671875, 'alpha_3': 0.013515625, 'dropout_1': 0.38984375000000004, 'dropout_2': 0.32890625, 'dropout_3': 0.28203125, 'l2_kern_1': 0.0013577271421051837, 'l2_kern_2': 0.0001746576047662117, 'l2_kern_3': 0.0028902639100224507, 'l2_bias_1': 6.611690262414816e-05, 'l2_bias_2': 0.0010941138105771855, 'l2_bias_3': 1.8105582430271218e-05, 'lr': 6.149700826667757e-05, 'batch_size': 1024}. Best is trial 30 with value: 0.8818502648683421.\u001b[0m\n",
      "C:\\Users\\User\\AppData\\Local\\Temp\\ipykernel_12316\\574535459.py:60: DeprecationWarning: KerasClassifier is deprecated, use Sci-Keras (https://github.com/adriangb/scikeras) instead. See https://www.adriangb.com/scikeras/stable/migration.html for help migrating.\n",
      "  ('classifier', KerasClassifier(build_fn=self.create_model, verbose=0))\n",
      "\u001b[33m[W 2023-03-03 13:43:06,129]\u001b[0m The parameter 'batch_size' in trial#83 is sampled independently by using `RandomSampler` instead of `QMCSampler` (optimization performance may be degraded). `QMCSampler` does not support dynamic search space or `CategoricalDistribution`. You can suppress this warning by setting `warn_independent_sampling` to `False` in the constructor of `QMCSampler`, if this independent sampling is intended behavior.\u001b[0m\n"
     ]
    },
    {
     "name": "stdout",
     "output_type": "stream",
     "text": [
      "195/195 [==============================] - 0s 1ms/step\n",
      "195/195 [==============================] - 0s 1ms/step\n",
      "195/195 [==============================] - 0s 1ms/step\n"
     ]
    },
    {
     "name": "stderr",
     "output_type": "stream",
     "text": [
      "\u001b[32m[I 2023-03-03 13:43:38,728]\u001b[0m Trial 83 finished with value: 0.876982594600812 and parameters: {'units_1': 35, 'units_2': 16, 'units_3': 37, 'alpha_1': 0.031796875, 'alpha_2': 0.026171875000000004, 'alpha_3': 0.036015625, 'dropout_1': 0.31484375, 'dropout_2': 0.25390625, 'dropout_3': 0.20703125, 'l2_kern_1': 0.007635060803383351, 'l2_kern_2': 3.105900223624704e-05, 'l2_kern_3': 0.0005139696800771515, 'l2_bias_1': 0.0003718026663914474, 'l2_bias_2': 0.00019456400615886337, 'l2_bias_3': 0.00010181517217181818, 'lr': 0.0032705928673906286, 'batch_size': 128}. Best is trial 30 with value: 0.8818502648683421.\u001b[0m\n",
      "C:\\Users\\User\\AppData\\Local\\Temp\\ipykernel_12316\\574535459.py:60: DeprecationWarning: KerasClassifier is deprecated, use Sci-Keras (https://github.com/adriangb/scikeras) instead. See https://www.adriangb.com/scikeras/stable/migration.html for help migrating.\n",
      "  ('classifier', KerasClassifier(build_fn=self.create_model, verbose=0))\n",
      "\u001b[33m[W 2023-03-03 13:43:38,732]\u001b[0m The parameter 'batch_size' in trial#84 is sampled independently by using `RandomSampler` instead of `QMCSampler` (optimization performance may be degraded). `QMCSampler` does not support dynamic search space or `CategoricalDistribution`. You can suppress this warning by setting `warn_independent_sampling` to `False` in the constructor of `QMCSampler`, if this independent sampling is intended behavior.\u001b[0m\n"
     ]
    },
    {
     "name": "stdout",
     "output_type": "stream",
     "text": [
      "195/195 [==============================] - 0s 1ms/step\n",
      "195/195 [==============================] - 0s 1ms/step\n",
      "195/195 [==============================] - 0s 1ms/step\n"
     ]
    },
    {
     "name": "stderr",
     "output_type": "stream",
     "text": [
      "\u001b[32m[I 2023-03-03 13:44:09,625]\u001b[0m Trial 84 finished with value: 0.8450517593187206 and parameters: {'units_1': 16, 'units_2': 35, 'units_3': 18, 'alpha_1': 0.076796875, 'alpha_2': 0.07117187500000001, 'alpha_3': 0.08101562500000001, 'dropout_1': 0.46484375, 'dropout_2': 0.40390625, 'dropout_3': 0.35703125, 'l2_kern_1': 0.00024144182212566391, 'l2_kern_2': 0.000982171889188038, 'l2_kern_3': 1.6253148373118654e-05, 'l2_bias_1': 1.175743265920711e-05, 'l2_bias_2': 0.0061526541014903765, 'l2_bias_3': 0.0032196784442513815, 'lr': 0.00023126583950322697, 'batch_size': 256}. Best is trial 30 with value: 0.8818502648683421.\u001b[0m\n",
      "C:\\Users\\User\\AppData\\Local\\Temp\\ipykernel_12316\\574535459.py:60: DeprecationWarning: KerasClassifier is deprecated, use Sci-Keras (https://github.com/adriangb/scikeras) instead. See https://www.adriangb.com/scikeras/stable/migration.html for help migrating.\n",
      "  ('classifier', KerasClassifier(build_fn=self.create_model, verbose=0))\n",
      "\u001b[33m[W 2023-03-03 13:44:09,629]\u001b[0m The parameter 'batch_size' in trial#85 is sampled independently by using `RandomSampler` instead of `QMCSampler` (optimization performance may be degraded). `QMCSampler` does not support dynamic search space or `CategoricalDistribution`. You can suppress this warning by setting `warn_independent_sampling` to `False` in the constructor of `QMCSampler`, if this independent sampling is intended behavior.\u001b[0m\n"
     ]
    },
    {
     "name": "stdout",
     "output_type": "stream",
     "text": [
      "195/195 [==============================] - 0s 1ms/step\n",
      "195/195 [==============================] - 0s 1ms/step\n",
      "195/195 [==============================] - 0s 1ms/step\n"
     ]
    },
    {
     "name": "stderr",
     "output_type": "stream",
     "text": [
      "\u001b[32m[I 2023-03-03 13:48:11,045]\u001b[0m Trial 85 finished with value: 0.8711371556235202 and parameters: {'units_1': 21, 'units_2': 21, 'units_3': 3, 'alpha_1': 0.065546875, 'alpha_2': 0.059921875000000006, 'alpha_3': 0.06976562500000001, 'dropout_1': 0.27734375, 'dropout_2': 0.21640625000000002, 'dropout_3': 0.24453125, 'l2_kern_1': 0.0005725487884358379, 'l2_kern_2': 1.3097472643005891e-05, 'l2_kern_3': 3.854228868623108e-05, 'l2_bias_1': 0.0008816830667755708, 'l2_bias_2': 0.00046138396827332176, 'l2_bias_3': 0.007635060803383351, 'lr': 0.000448477063630748, 'batch_size': 16}. Best is trial 30 with value: 0.8818502648683421.\u001b[0m\n",
      "C:\\Users\\User\\AppData\\Local\\Temp\\ipykernel_12316\\574535459.py:60: DeprecationWarning: KerasClassifier is deprecated, use Sci-Keras (https://github.com/adriangb/scikeras) instead. See https://www.adriangb.com/scikeras/stable/migration.html for help migrating.\n",
      "  ('classifier', KerasClassifier(build_fn=self.create_model, verbose=0))\n",
      "\u001b[33m[W 2023-03-03 13:48:11,051]\u001b[0m The parameter 'batch_size' in trial#86 is sampled independently by using `RandomSampler` instead of `QMCSampler` (optimization performance may be degraded). `QMCSampler` does not support dynamic search space or `CategoricalDistribution`. You can suppress this warning by setting `warn_independent_sampling` to `False` in the constructor of `QMCSampler`, if this independent sampling is intended behavior.\u001b[0m\n"
     ]
    },
    {
     "name": "stdout",
     "output_type": "stream",
     "text": [
      "195/195 [==============================] - 0s 2ms/step\n",
      "195/195 [==============================] - 0s 1ms/step\n",
      "195/195 [==============================] - 0s 1ms/step\n"
     ]
    },
    {
     "name": "stderr",
     "output_type": "stream",
     "text": [
      "\u001b[32m[I 2023-03-03 13:50:30,615]\u001b[0m Trial 86 finished with value: 0.8702858999292874 and parameters: {'units_1': 40, 'units_2': 40, 'units_3': 23, 'alpha_1': 0.020546875, 'alpha_2': 0.014921875000000001, 'alpha_3': 0.024765625, 'dropout_1': 0.42734375, 'dropout_2': 0.36640625000000004, 'dropout_3': 0.39453125, 'l2_kern_1': 1.8105582430271218e-05, 'l2_kern_2': 0.00041417845143644066, 'l2_kern_3': 0.00121881418484229, 'l2_bias_1': 2.788126665413133e-05, 'l2_bias_2': 1.4590242156305593e-05, 'l2_bias_3': 0.00024144182212566391, 'lr': 0.006342423457998655, 'batch_size': 16}. Best is trial 30 with value: 0.8818502648683421.\u001b[0m\n",
      "C:\\Users\\User\\AppData\\Local\\Temp\\ipykernel_12316\\574535459.py:60: DeprecationWarning: KerasClassifier is deprecated, use Sci-Keras (https://github.com/adriangb/scikeras) instead. See https://www.adriangb.com/scikeras/stable/migration.html for help migrating.\n",
      "  ('classifier', KerasClassifier(build_fn=self.create_model, verbose=0))\n",
      "\u001b[33m[W 2023-03-03 13:50:30,619]\u001b[0m The parameter 'batch_size' in trial#87 is sampled independently by using `RandomSampler` instead of `QMCSampler` (optimization performance may be degraded). `QMCSampler` does not support dynamic search space or `CategoricalDistribution`. You can suppress this warning by setting `warn_independent_sampling` to `False` in the constructor of `QMCSampler`, if this independent sampling is intended behavior.\u001b[0m\n"
     ]
    },
    {
     "name": "stdout",
     "output_type": "stream",
     "text": [
      "195/195 [==============================] - 0s 1ms/step\n",
      "195/195 [==============================] - 0s 1ms/step\n",
      "195/195 [==============================] - 0s 1ms/step\n"
     ]
    },
    {
     "name": "stderr",
     "output_type": "stream",
     "text": [
      "\u001b[32m[I 2023-03-03 13:50:56,064]\u001b[0m Trial 87 finished with value: 0.8365599468900845 and parameters: {'units_1': 30, 'units_2': 11, 'units_3': 13, 'alpha_1': 0.08804687500000001, 'alpha_2': 0.037421875, 'alpha_3': 0.047265625000000006, 'dropout_1': 0.20234375000000002, 'dropout_2': 0.44140625, 'dropout_3': 0.46953125, 'l2_kern_1': 0.00010181517217181818, 'l2_kern_2': 0.0023290965924605465, 'l2_kern_3': 0.006853895838650084, 'l2_bias_1': 0.00495806824168466, 'l2_bias_2': 0.0025945527214040172, 'l2_bias_3': 4.293510210083482e-05, 'lr': 0.00011925668636906728, 'batch_size': 256}. Best is trial 30 with value: 0.8818502648683421.\u001b[0m\n",
      "C:\\Users\\User\\AppData\\Local\\Temp\\ipykernel_12316\\574535459.py:60: DeprecationWarning: KerasClassifier is deprecated, use Sci-Keras (https://github.com/adriangb/scikeras) instead. See https://www.adriangb.com/scikeras/stable/migration.html for help migrating.\n",
      "  ('classifier', KerasClassifier(build_fn=self.create_model, verbose=0))\n",
      "\u001b[33m[W 2023-03-03 13:50:56,069]\u001b[0m The parameter 'batch_size' in trial#88 is sampled independently by using `RandomSampler` instead of `QMCSampler` (optimization performance may be degraded). `QMCSampler` does not support dynamic search space or `CategoricalDistribution`. You can suppress this warning by setting `warn_independent_sampling` to `False` in the constructor of `QMCSampler`, if this independent sampling is intended behavior.\u001b[0m\n"
     ]
    },
    {
     "name": "stdout",
     "output_type": "stream",
     "text": [
      "195/195 [==============================] - 0s 1ms/step\n",
      "195/195 [==============================] - 0s 1ms/step\n",
      "195/195 [==============================] - 0s 1ms/step\n"
     ]
    },
    {
     "name": "stderr",
     "output_type": "stream",
     "text": [
      "\u001b[32m[I 2023-03-03 13:53:42,491]\u001b[0m Trial 88 finished with value: 0.8647047999260078 and parameters: {'units_1': 11, 'units_2': 30, 'units_3': 32, 'alpha_1': 0.043046875000000005, 'alpha_2': 0.082421875, 'alpha_3': 0.092265625, 'dropout_1': 0.35234375, 'dropout_2': 0.29140625, 'dropout_3': 0.31953125, 'l2_kern_1': 0.0032196784442513815, 'l2_kern_2': 7.365250122712277e-05, 'l2_kern_3': 0.00021673921695684184, 'l2_bias_1': 0.00015678788438269704, 'l2_bias_2': 8.204696109024983e-05, 'l2_bias_3': 0.0013577271421051837, 'lr': 0.0016865442326680945, 'batch_size': 16}. Best is trial 30 with value: 0.8818502648683421.\u001b[0m\n",
      "C:\\Users\\User\\AppData\\Local\\Temp\\ipykernel_12316\\574535459.py:60: DeprecationWarning: KerasClassifier is deprecated, use Sci-Keras (https://github.com/adriangb/scikeras) instead. See https://www.adriangb.com/scikeras/stable/migration.html for help migrating.\n",
      "  ('classifier', KerasClassifier(build_fn=self.create_model, verbose=0))\n",
      "\u001b[33m[W 2023-03-03 13:53:42,494]\u001b[0m The parameter 'batch_size' in trial#89 is sampled independently by using `RandomSampler` instead of `QMCSampler` (optimization performance may be degraded). `QMCSampler` does not support dynamic search space or `CategoricalDistribution`. You can suppress this warning by setting `warn_independent_sampling` to `False` in the constructor of `QMCSampler`, if this independent sampling is intended behavior.\u001b[0m\n"
     ]
    },
    {
     "name": "stdout",
     "output_type": "stream",
     "text": [
      "195/195 [==============================] - 0s 1ms/step\n",
      "195/195 [==============================] - 0s 1ms/step\n",
      "195/195 [==============================] - 0s 1ms/step\n"
     ]
    },
    {
     "name": "stderr",
     "output_type": "stream",
     "text": [
      "\u001b[32m[I 2023-03-03 13:54:08,792]\u001b[0m Trial 89 finished with value: 0.8431795005455583 and parameters: {'units_1': 9, 'units_2': 13, 'units_3': 15, 'alpha_1': 0.014921875000000001, 'alpha_2': 0.05429687500000001, 'alpha_3': 0.086640625, 'dropout_1': 0.29609375, 'dropout_2': 0.23515625, 'dropout_3': 0.26328125, 'l2_kern_1': 0.00015678788438269704, 'l2_kern_2': 0.00011341944035027563, 'l2_kern_3': 5.935229272296989e-05, 'l2_bias_1': 4.293510210083482e-05, 'l2_bias_2': 0.003995420558949889, 'l2_bias_3': 6.611690262414816e-05, 'lr': 0.000624531878951998, 'batch_size': 128}. Best is trial 30 with value: 0.8818502648683421.\u001b[0m\n",
      "C:\\Users\\User\\AppData\\Local\\Temp\\ipykernel_12316\\574535459.py:60: DeprecationWarning: KerasClassifier is deprecated, use Sci-Keras (https://github.com/adriangb/scikeras) instead. See https://www.adriangb.com/scikeras/stable/migration.html for help migrating.\n",
      "  ('classifier', KerasClassifier(build_fn=self.create_model, verbose=0))\n",
      "\u001b[33m[W 2023-03-03 13:54:08,799]\u001b[0m The parameter 'batch_size' in trial#90 is sampled independently by using `RandomSampler` instead of `QMCSampler` (optimization performance may be degraded). `QMCSampler` does not support dynamic search space or `CategoricalDistribution`. You can suppress this warning by setting `warn_independent_sampling` to `False` in the constructor of `QMCSampler`, if this independent sampling is intended behavior.\u001b[0m\n"
     ]
    },
    {
     "name": "stdout",
     "output_type": "stream",
     "text": [
      "195/195 [==============================] - 0s 1ms/step\n",
      "195/195 [==============================] - 0s 1ms/step\n",
      "195/195 [==============================] - 0s 1ms/step\n"
     ]
    },
    {
     "name": "stderr",
     "output_type": "stream",
     "text": [
      "\u001b[32m[I 2023-03-03 13:54:33,116]\u001b[0m Trial 90 finished with value: 0.8561531778369028 and parameters: {'units_1': 28, 'units_2': 33, 'units_3': 35, 'alpha_1': 0.059921875000000006, 'alpha_2': 0.099296875, 'alpha_3': 0.04164062500000001, 'dropout_1': 0.44609375, 'dropout_2': 0.38515625, 'dropout_3': 0.41328125000000004, 'l2_kern_1': 0.00495806824168466, 'l2_kern_2': 0.0035866376244847696, 'l2_kern_3': 0.0018768842935762192, 'l2_bias_1': 0.0013577271421051837, 'l2_bias_2': 0.00012634629176544695, 'l2_bias_3': 0.00209080004127872, 'lr': 0.008832214533482671, 'batch_size': 256}. Best is trial 30 with value: 0.8818502648683421.\u001b[0m\n",
      "C:\\Users\\User\\AppData\\Local\\Temp\\ipykernel_12316\\574535459.py:60: DeprecationWarning: KerasClassifier is deprecated, use Sci-Keras (https://github.com/adriangb/scikeras) instead. See https://www.adriangb.com/scikeras/stable/migration.html for help migrating.\n",
      "  ('classifier', KerasClassifier(build_fn=self.create_model, verbose=0))\n",
      "\u001b[33m[W 2023-03-03 13:54:33,120]\u001b[0m The parameter 'batch_size' in trial#91 is sampled independently by using `RandomSampler` instead of `QMCSampler` (optimization performance may be degraded). `QMCSampler` does not support dynamic search space or `CategoricalDistribution`. You can suppress this warning by setting `warn_independent_sampling` to `False` in the constructor of `QMCSampler`, if this independent sampling is intended behavior.\u001b[0m\n"
     ]
    },
    {
     "name": "stdout",
     "output_type": "stream",
     "text": [
      "195/195 [==============================] - 0s 2ms/step\n",
      "195/195 [==============================] - 0s 1ms/step\n",
      "195/195 [==============================] - 0s 1ms/step\n"
     ]
    },
    {
     "name": "stderr",
     "output_type": "stream",
     "text": [
      "\u001b[32m[I 2023-03-03 13:55:05,766]\u001b[0m Trial 91 finished with value: 0.8343441562495789 and parameters: {'units_1': 38, 'units_2': 4, 'units_3': 5, 'alpha_1': 0.037421875, 'alpha_2': 0.076796875, 'alpha_3': 0.019140625, 'dropout_1': 0.22109375, 'dropout_2': 0.46015625, 'dropout_3': 0.48828125, 'l2_kern_1': 0.0008816830667755708, 'l2_kern_2': 0.000637804383889218, 'l2_kern_3': 0.000333762469429204, 'l2_bias_1': 0.00024144182212566391, 'l2_bias_2': 0.0007104974114426786, 'l2_bias_3': 0.0003718026663914474, 'lr': 0.0001660722664670876, 'batch_size': 1024}. Best is trial 30 with value: 0.8818502648683421.\u001b[0m\n",
      "C:\\Users\\User\\AppData\\Local\\Temp\\ipykernel_12316\\574535459.py:60: DeprecationWarning: KerasClassifier is deprecated, use Sci-Keras (https://github.com/adriangb/scikeras) instead. See https://www.adriangb.com/scikeras/stable/migration.html for help migrating.\n",
      "  ('classifier', KerasClassifier(build_fn=self.create_model, verbose=0))\n",
      "\u001b[33m[W 2023-03-03 13:55:05,772]\u001b[0m The parameter 'batch_size' in trial#92 is sampled independently by using `RandomSampler` instead of `QMCSampler` (optimization performance may be degraded). `QMCSampler` does not support dynamic search space or `CategoricalDistribution`. You can suppress this warning by setting `warn_independent_sampling` to `False` in the constructor of `QMCSampler`, if this independent sampling is intended behavior.\u001b[0m\n"
     ]
    },
    {
     "name": "stdout",
     "output_type": "stream",
     "text": [
      "195/195 [==============================] - 0s 1ms/step\n",
      "195/195 [==============================] - 0s 1ms/step\n",
      "195/195 [==============================] - 0s 1ms/step\n"
     ]
    },
    {
     "name": "stderr",
     "output_type": "stream",
     "text": [
      "\u001b[32m[I 2023-03-03 13:55:52,161]\u001b[0m Trial 92 finished with value: 0.8670573801633011 and parameters: {'units_1': 18, 'units_2': 23, 'units_3': 25, 'alpha_1': 0.082421875, 'alpha_2': 0.031796875, 'alpha_3': 0.064140625, 'dropout_1': 0.37109375, 'dropout_2': 0.31015625, 'dropout_3': 0.33828125, 'l2_kern_1': 2.788126665413133e-05, 'l2_kern_2': 2.0169145547303294e-05, 'l2_kern_3': 1.0554496008786035e-05, 'l2_bias_1': 0.007635060803383351, 'l2_bias_2': 2.2467900918126424e-05, 'l2_bias_3': 1.175743265920711e-05, 'lr': 0.002348616515717939, 'batch_size': 64}. Best is trial 30 with value: 0.8818502648683421.\u001b[0m\n",
      "C:\\Users\\User\\AppData\\Local\\Temp\\ipykernel_12316\\574535459.py:60: DeprecationWarning: KerasClassifier is deprecated, use Sci-Keras (https://github.com/adriangb/scikeras) instead. See https://www.adriangb.com/scikeras/stable/migration.html for help migrating.\n",
      "  ('classifier', KerasClassifier(build_fn=self.create_model, verbose=0))\n",
      "\u001b[33m[W 2023-03-03 13:55:52,168]\u001b[0m The parameter 'batch_size' in trial#93 is sampled independently by using `RandomSampler` instead of `QMCSampler` (optimization performance may be degraded). `QMCSampler` does not support dynamic search space or `CategoricalDistribution`. You can suppress this warning by setting `warn_independent_sampling` to `False` in the constructor of `QMCSampler`, if this independent sampling is intended behavior.\u001b[0m\n"
     ]
    },
    {
     "name": "stdout",
     "output_type": "stream",
     "text": [
      "195/195 [==============================] - 0s 1ms/step\n",
      "195/195 [==============================] - 0s 1ms/step\n",
      "195/195 [==============================] - 0s 1ms/step\n"
     ]
    },
    {
     "name": "stderr",
     "output_type": "stream",
     "text": [
      "\u001b[32m[I 2023-03-03 13:56:25,522]\u001b[0m Trial 93 finished with value: 0.8676419224646681 and parameters: {'units_1': 13, 'units_2': 9, 'units_3': 40, 'alpha_1': 0.093671875, 'alpha_2': 0.020546875, 'alpha_3': 0.09789062500000001, 'dropout_1': 0.25859375, 'dropout_2': 0.49765625, 'dropout_3': 0.45078125, 'l2_kern_1': 0.00209080004127872, 'l2_kern_2': 0.0015124725453106239, 'l2_kern_3': 2.502865431174609e-05, 'l2_bias_1': 0.00010181517217181818, 'l2_bias_2': 0.0002996142741004366, 'l2_bias_3': 2.788126665413133e-05, 'lr': 0.0012111093614942537, 'batch_size': 128}. Best is trial 30 with value: 0.8818502648683421.\u001b[0m\n",
      "C:\\Users\\User\\AppData\\Local\\Temp\\ipykernel_12316\\574535459.py:60: DeprecationWarning: KerasClassifier is deprecated, use Sci-Keras (https://github.com/adriangb/scikeras) instead. See https://www.adriangb.com/scikeras/stable/migration.html for help migrating.\n",
      "  ('classifier', KerasClassifier(build_fn=self.create_model, verbose=0))\n",
      "\u001b[33m[W 2023-03-03 13:56:25,525]\u001b[0m The parameter 'batch_size' in trial#94 is sampled independently by using `RandomSampler` instead of `QMCSampler` (optimization performance may be degraded). `QMCSampler` does not support dynamic search space or `CategoricalDistribution`. You can suppress this warning by setting `warn_independent_sampling` to `False` in the constructor of `QMCSampler`, if this independent sampling is intended behavior.\u001b[0m\n"
     ]
    },
    {
     "name": "stdout",
     "output_type": "stream",
     "text": [
      "195/195 [==============================] - 0s 1ms/step\n",
      "195/195 [==============================] - 0s 1ms/step\n",
      "195/195 [==============================] - 0s 1ms/step\n"
     ]
    },
    {
     "name": "stderr",
     "output_type": "stream",
     "text": [
      "\u001b[32m[I 2023-03-03 13:57:13,946]\u001b[0m Trial 94 finished with value: 0.8466090662864825 and parameters: {'units_1': 33, 'units_2': 28, 'units_3': 20, 'alpha_1': 0.048671875, 'alpha_2': 0.065546875, 'alpha_3': 0.052890625000000004, 'dropout_1': 0.40859375, 'dropout_2': 0.34765625, 'dropout_3': 0.30078125, 'l2_kern_1': 6.611690262414816e-05, 'l2_kern_2': 4.782858141653789e-05, 'l2_kern_3': 0.0007914755439411164, 'l2_bias_1': 0.0032196784442513815, 'l2_bias_2': 0.009474635256553761, 'l2_bias_3': 0.0008816830667755708, 'lr': 8.563836422710964e-05, 'batch_size': 256}. Best is trial 30 with value: 0.8818502648683421.\u001b[0m\n",
      "C:\\Users\\User\\AppData\\Local\\Temp\\ipykernel_12316\\574535459.py:60: DeprecationWarning: KerasClassifier is deprecated, use Sci-Keras (https://github.com/adriangb/scikeras) instead. See https://www.adriangb.com/scikeras/stable/migration.html for help migrating.\n",
      "  ('classifier', KerasClassifier(build_fn=self.create_model, verbose=0))\n",
      "\u001b[33m[W 2023-03-03 13:57:13,951]\u001b[0m The parameter 'batch_size' in trial#95 is sampled independently by using `RandomSampler` instead of `QMCSampler` (optimization performance may be degraded). `QMCSampler` does not support dynamic search space or `CategoricalDistribution`. You can suppress this warning by setting `warn_independent_sampling` to `False` in the constructor of `QMCSampler`, if this independent sampling is intended behavior.\u001b[0m\n"
     ]
    },
    {
     "name": "stdout",
     "output_type": "stream",
     "text": [
      "195/195 [==============================] - 0s 1ms/step\n",
      "195/195 [==============================] - 0s 1ms/step\n",
      "195/195 [==============================] - 0s 1ms/step\n"
     ]
    },
    {
     "name": "stderr",
     "output_type": "stream",
     "text": [
      "\u001b[32m[I 2023-03-03 13:59:39,585]\u001b[0m Trial 95 finished with value: 0.8729173042589053 and parameters: {'units_1': 23, 'units_2': 18, 'units_3': 30, 'alpha_1': 0.07117187500000001, 'alpha_2': 0.08804687500000001, 'alpha_3': 0.030390625000000004, 'dropout_1': 0.33359375, 'dropout_2': 0.27265625, 'dropout_3': 0.22578125000000002, 'l2_kern_1': 1.175743265920711e-05, 'l2_kern_2': 0.0002689598785575042, 'l2_kern_3': 0.004450794062355997, 'l2_bias_1': 1.8105582430271218e-05, 'l2_bias_2': 5.3279789458656456e-05, 'l2_bias_3': 0.00495806824168466, 'lr': 0.0045545016109011785, 'batch_size': 16}. Best is trial 30 with value: 0.8818502648683421.\u001b[0m\n",
      "C:\\Users\\User\\AppData\\Local\\Temp\\ipykernel_12316\\574535459.py:60: DeprecationWarning: KerasClassifier is deprecated, use Sci-Keras (https://github.com/adriangb/scikeras) instead. See https://www.adriangb.com/scikeras/stable/migration.html for help migrating.\n",
      "  ('classifier', KerasClassifier(build_fn=self.create_model, verbose=0))\n",
      "\u001b[33m[W 2023-03-03 13:59:39,591]\u001b[0m The parameter 'batch_size' in trial#96 is sampled independently by using `RandomSampler` instead of `QMCSampler` (optimization performance may be degraded). `QMCSampler` does not support dynamic search space or `CategoricalDistribution`. You can suppress this warning by setting `warn_independent_sampling` to `False` in the constructor of `QMCSampler`, if this independent sampling is intended behavior.\u001b[0m\n"
     ]
    },
    {
     "name": "stdout",
     "output_type": "stream",
     "text": [
      "195/195 [==============================] - 0s 1ms/step\n",
      "195/195 [==============================] - 0s 1ms/step\n",
      "195/195 [==============================] - 0s 1ms/step\n"
     ]
    },
    {
     "name": "stderr",
     "output_type": "stream",
     "text": [
      "\u001b[32m[I 2023-03-03 14:00:13,420]\u001b[0m Trial 96 finished with value: 0.8415279292002625 and parameters: {'units_1': 4, 'units_2': 38, 'units_3': 10, 'alpha_1': 0.026171875000000004, 'alpha_2': 0.043046875000000005, 'alpha_3': 0.075390625, 'dropout_1': 0.48359375, 'dropout_2': 0.42265625, 'dropout_3': 0.37578125, 'l2_kern_1': 0.0003718026663914474, 'l2_kern_2': 0.008505258154439964, 'l2_kern_3': 0.0001407464663339844, 'l2_bias_1': 0.0005725487884358379, 'l2_bias_2': 0.0016848548794358386, 'l2_bias_3': 0.00015678788438269704, 'lr': 0.000322051897399328, 'batch_size': 128}. Best is trial 30 with value: 0.8818502648683421.\u001b[0m\n",
      "C:\\Users\\User\\AppData\\Local\\Temp\\ipykernel_12316\\574535459.py:60: DeprecationWarning: KerasClassifier is deprecated, use Sci-Keras (https://github.com/adriangb/scikeras) instead. See https://www.adriangb.com/scikeras/stable/migration.html for help migrating.\n",
      "  ('classifier', KerasClassifier(build_fn=self.create_model, verbose=0))\n",
      "\u001b[33m[W 2023-03-03 14:00:13,424]\u001b[0m The parameter 'batch_size' in trial#97 is sampled independently by using `RandomSampler` instead of `QMCSampler` (optimization performance may be degraded). `QMCSampler` does not support dynamic search space or `CategoricalDistribution`. You can suppress this warning by setting `warn_independent_sampling` to `False` in the constructor of `QMCSampler`, if this independent sampling is intended behavior.\u001b[0m\n"
     ]
    },
    {
     "name": "stdout",
     "output_type": "stream",
     "text": [
      "195/195 [==============================] - 0s 1ms/step\n",
      "195/195 [==============================] - 0s 1ms/step\n",
      "195/195 [==============================] - 0s 1ms/step\n"
     ]
    },
    {
     "name": "stderr",
     "output_type": "stream",
     "text": [
      "\u001b[32m[I 2023-03-03 14:00:29,029]\u001b[0m Trial 97 finished with value: 0.8350123229837809 and parameters: {'units_1': 3, 'units_2': 7, 'units_3': 17, 'alpha_1': 0.04164062500000001, 'alpha_2': 0.055703125000000006, 'alpha_3': 0.065546875, 'dropout_1': 0.31953125, 'dropout_2': 0.38046875, 'dropout_3': 0.27734375, 'l2_kern_1': 1.6253148373118654e-05, 'l2_kern_2': 0.0005725487884358379, 'l2_kern_3': 0.0025945527214040172, 'l2_bias_1': 2.0169145547303294e-05, 'l2_bias_2': 0.0002689598785575042, 'l2_bias_3': 3.854228868623108e-05, 'lr': 0.0013156396538072516, 'batch_size': 512}. Best is trial 30 with value: 0.8818502648683421.\u001b[0m\n",
      "C:\\Users\\User\\AppData\\Local\\Temp\\ipykernel_12316\\574535459.py:60: DeprecationWarning: KerasClassifier is deprecated, use Sci-Keras (https://github.com/adriangb/scikeras) instead. See https://www.adriangb.com/scikeras/stable/migration.html for help migrating.\n",
      "  ('classifier', KerasClassifier(build_fn=self.create_model, verbose=0))\n",
      "\u001b[33m[W 2023-03-03 14:00:29,034]\u001b[0m The parameter 'batch_size' in trial#98 is sampled independently by using `RandomSampler` instead of `QMCSampler` (optimization performance may be degraded). `QMCSampler` does not support dynamic search space or `CategoricalDistribution`. You can suppress this warning by setting `warn_independent_sampling` to `False` in the constructor of `QMCSampler`, if this independent sampling is intended behavior.\u001b[0m\n"
     ]
    },
    {
     "name": "stdout",
     "output_type": "stream",
     "text": [
      "195/195 [==============================] - 0s 1ms/step\n",
      "195/195 [==============================] - 0s 1ms/step\n",
      "195/195 [==============================] - 0s 1ms/step\n"
     ]
    },
    {
     "name": "stderr",
     "output_type": "stream",
     "text": [
      "\u001b[32m[I 2023-03-03 14:01:11,435]\u001b[0m Trial 98 finished with value: 0.8440299409063207 and parameters: {'units_1': 23, 'units_2': 26, 'units_3': 37, 'alpha_1': 0.086640625, 'alpha_2': 0.010703125, 'alpha_3': 0.020546875, 'dropout_1': 0.46953125, 'dropout_2': 0.23046875, 'dropout_3': 0.42734375, 'l2_kern_1': 0.0005139696800771515, 'l2_kern_2': 1.8105582430271218e-05, 'l2_kern_3': 8.204696109024983e-05, 'l2_bias_1': 0.000637804383889218, 'l2_bias_2': 0.008505258154439964, 'l2_bias_3': 0.00121881418484229, 'lr': 9.302977208050299e-05, 'batch_size': 256}. Best is trial 30 with value: 0.8818502648683421.\u001b[0m\n",
      "C:\\Users\\User\\AppData\\Local\\Temp\\ipykernel_12316\\574535459.py:60: DeprecationWarning: KerasClassifier is deprecated, use Sci-Keras (https://github.com/adriangb/scikeras) instead. See https://www.adriangb.com/scikeras/stable/migration.html for help migrating.\n",
      "  ('classifier', KerasClassifier(build_fn=self.create_model, verbose=0))\n",
      "\u001b[33m[W 2023-03-03 14:01:11,439]\u001b[0m The parameter 'batch_size' in trial#99 is sampled independently by using `RandomSampler` instead of `QMCSampler` (optimization performance may be degraded). `QMCSampler` does not support dynamic search space or `CategoricalDistribution`. You can suppress this warning by setting `warn_independent_sampling` to `False` in the constructor of `QMCSampler`, if this independent sampling is intended behavior.\u001b[0m\n"
     ]
    },
    {
     "name": "stdout",
     "output_type": "stream",
     "text": [
      "195/195 [==============================] - 0s 1ms/step\n",
      "195/195 [==============================] - 0s 1ms/step\n",
      "195/195 [==============================] - 0s 1ms/step\n"
     ]
    },
    {
     "name": "stderr",
     "output_type": "stream",
     "text": [
      "\u001b[32m[I 2023-03-03 14:01:40,324]\u001b[0m Trial 99 finished with value: 0.8727373025825805 and parameters: {'units_1': 32, 'units_2': 16, 'units_3': 7, 'alpha_1': 0.019140625, 'alpha_2': 0.033203125, 'alpha_3': 0.043046875000000005, 'dropout_1': 0.24453125, 'dropout_2': 0.30546875, 'dropout_3': 0.35234375, 'l2_kern_1': 0.0028902639100224507, 'l2_kern_2': 0.00010181517217181818, 'l2_kern_3': 1.4590242156305593e-05, 'l2_bias_1': 0.00011341944035027563, 'l2_bias_2': 4.782858141653789e-05, 'l2_bias_3': 0.006853895838650084, 'lr': 0.0049475985514946625, 'batch_size': 1024}. Best is trial 30 with value: 0.8818502648683421.\u001b[0m\n"
     ]
    },
    {
     "name": "stdout",
     "output_type": "stream",
     "text": [
      "Number of finished trials: 100\n",
      "Best trial:\n",
      "  Value: 0.8818502648683421\n",
      "    units_1: 32\n",
      "    units_2: 32\n",
      "    units_3: 27\n",
      "    alpha_1: 0.0746875\n",
      "    alpha_2: 0.029687500000000006\n",
      "    alpha_3: 0.012812500000000001\n",
      "    dropout_1: 0.22812500000000002\n",
      "    dropout_2: 0.284375\n",
      "    dropout_3: 0.471875\n",
      "    l2_kern_1: 0.00010746078283213182\n",
      "    l2_kern_2: 0.002206734069084591\n",
      "    l2_kern_3: 0.0006042963902381332\n",
      "    l2_bias_1: 0.0014330125702369636\n",
      "    l2_bias_2: 0.0002548296747979348\n",
      "    l2_bias_3: 0.00016548170999431823\n",
      "    lr: 0.0011620011671182521\n",
      "    batch_size: 16\n"
     ]
    },
    {
     "name": "stderr",
     "output_type": "stream",
     "text": [
      "C:\\Users\\User\\AppData\\Local\\Temp\\ipykernel_12316\\574535459.py:169: DeprecationWarning: KerasClassifier is deprecated, use Sci-Keras (https://github.com/adriangb/scikeras) instead. See https://www.adriangb.com/scikeras/stable/migration.html for help migrating.\n",
      "  ('classifier', KerasClassifier(build_fn=tun.create_model, verbose=0))\n"
     ]
    },
    {
     "name": "stdout",
     "output_type": "stream",
     "text": [
      "117/117 [==============================] - 0s 1ms/step\n",
      "117/117 [==============================] - 0s 1ms/step\n",
      "117/117 [==============================] - 0s 1ms/step\n",
      "117/117 [==============================] - 0s 1ms/step\n",
      "117/117 [==============================] - 0s 1ms/step\n",
      "37/37 [==============================] - 0s 2ms/step\n",
      "37/37 [==============================] - 0s 2ms/step\n",
      "37/37 [==============================] - 0s 2ms/step\n",
      "37/37 [==============================] - 0s 2ms/step\n",
      "37/37 [==============================] - 0s 2ms/step\n",
      "Train mean AUC score is 0.8827707667139272 while test mean AUC score is 0.8904637157166935.\n",
      "183/183 [==============================] - 0s 1ms/step\n",
      "              precision    recall  f1-score   support\n",
      "\n",
      "          No       0.90      0.99      0.94      4648\n",
      "         Yes       0.94      0.56      0.71      1186\n",
      "\n",
      "    accuracy                           0.90      5834\n",
      "   macro avg       0.92      0.78      0.82      5834\n",
      "weighted avg       0.91      0.90      0.89      5834\n",
      "\n"
     ]
    }
   ],
   "source": [
    "# Quasi Monte Carlo\n",
    "params_mc = tun.Tuning(n_trials=trials, sampler = optuna.samplers.QMCSampler())\n",
    "mc_scores = tun.Best_MLP_model(params_mc)\n",
    "mc_scores = mc_scores.rename(columns={'Tree-structured Parzen Estimator': 'Quasi Monte Carlo'})\n"
   ]
  },
  {
   "cell_type": "markdown",
   "id": "a400473c",
   "metadata": {},
   "source": [
    "## Optimal parameters comparison"
   ]
  },
  {
   "cell_type": "code",
   "execution_count": 14,
   "id": "0190828f",
   "metadata": {},
   "outputs": [
    {
     "data": {
      "text/html": [
       "<div>\n",
       "<style scoped>\n",
       "    .dataframe tbody tr th:only-of-type {\n",
       "        vertical-align: middle;\n",
       "    }\n",
       "\n",
       "    .dataframe tbody tr th {\n",
       "        vertical-align: top;\n",
       "    }\n",
       "\n",
       "    .dataframe thead th {\n",
       "        text-align: right;\n",
       "    }\n",
       "</style>\n",
       "<table border=\"1\" class=\"dataframe\">\n",
       "  <thead>\n",
       "    <tr style=\"text-align: right;\">\n",
       "      <th></th>\n",
       "      <th>TPE</th>\n",
       "      <th>RS</th>\n",
       "      <th>GA</th>\n",
       "      <th>MC</th>\n",
       "    </tr>\n",
       "  </thead>\n",
       "  <tbody>\n",
       "    <tr>\n",
       "      <th>NEURONS LAYER 1</th>\n",
       "      <td>39.000000</td>\n",
       "      <td>39.000000</td>\n",
       "      <td>24.000000</td>\n",
       "      <td>32.000000</td>\n",
       "    </tr>\n",
       "    <tr>\n",
       "      <th>NEURONS LAYER 2</th>\n",
       "      <td>27.000000</td>\n",
       "      <td>37.000000</td>\n",
       "      <td>24.000000</td>\n",
       "      <td>32.000000</td>\n",
       "    </tr>\n",
       "    <tr>\n",
       "      <th>NEURONS LAYER 3</th>\n",
       "      <td>21.000000</td>\n",
       "      <td>36.000000</td>\n",
       "      <td>22.000000</td>\n",
       "      <td>27.000000</td>\n",
       "    </tr>\n",
       "    <tr>\n",
       "      <th>AlPHA_l</th>\n",
       "      <td>0.034490</td>\n",
       "      <td>0.024722</td>\n",
       "      <td>0.046519</td>\n",
       "      <td>0.074688</td>\n",
       "    </tr>\n",
       "    <tr>\n",
       "      <th>AlPHA_2</th>\n",
       "      <td>0.060273</td>\n",
       "      <td>0.042851</td>\n",
       "      <td>0.044781</td>\n",
       "      <td>0.029688</td>\n",
       "    </tr>\n",
       "    <tr>\n",
       "      <th>AlPHA_3</th>\n",
       "      <td>0.031091</td>\n",
       "      <td>0.041160</td>\n",
       "      <td>0.092553</td>\n",
       "      <td>0.012813</td>\n",
       "    </tr>\n",
       "    <tr>\n",
       "      <th>DROPOUT LAYER 1</th>\n",
       "      <td>0.232611</td>\n",
       "      <td>0.234990</td>\n",
       "      <td>0.252576</td>\n",
       "      <td>0.228125</td>\n",
       "    </tr>\n",
       "    <tr>\n",
       "      <th>DROPOUT LAYER 2</th>\n",
       "      <td>0.295774</td>\n",
       "      <td>0.306068</td>\n",
       "      <td>0.257878</td>\n",
       "      <td>0.284375</td>\n",
       "    </tr>\n",
       "    <tr>\n",
       "      <th>DROPOUT LAYER 3</th>\n",
       "      <td>0.341761</td>\n",
       "      <td>0.309852</td>\n",
       "      <td>0.332012</td>\n",
       "      <td>0.471875</td>\n",
       "    </tr>\n",
       "    <tr>\n",
       "      <th>KERNEL REGULARIZER_1</th>\n",
       "      <td>0.001831</td>\n",
       "      <td>0.000405</td>\n",
       "      <td>0.000021</td>\n",
       "      <td>0.000107</td>\n",
       "    </tr>\n",
       "    <tr>\n",
       "      <th>KERNEL REGULARIZER_2</th>\n",
       "      <td>0.000027</td>\n",
       "      <td>0.000023</td>\n",
       "      <td>0.000048</td>\n",
       "      <td>0.002207</td>\n",
       "    </tr>\n",
       "    <tr>\n",
       "      <th>KERNEL REGULARIZER_3</th>\n",
       "      <td>0.000460</td>\n",
       "      <td>0.005663</td>\n",
       "      <td>0.002540</td>\n",
       "      <td>0.000604</td>\n",
       "    </tr>\n",
       "    <tr>\n",
       "      <th>BIAS REGURALIZER_1</th>\n",
       "      <td>0.000268</td>\n",
       "      <td>0.000070</td>\n",
       "      <td>0.000027</td>\n",
       "      <td>0.001433</td>\n",
       "    </tr>\n",
       "    <tr>\n",
       "      <th>BIAS REGURALIZER_2</th>\n",
       "      <td>0.000017</td>\n",
       "      <td>0.002519</td>\n",
       "      <td>0.000186</td>\n",
       "      <td>0.000255</td>\n",
       "    </tr>\n",
       "    <tr>\n",
       "      <th>BIAS REGURALIZER_3</th>\n",
       "      <td>0.000136</td>\n",
       "      <td>0.000123</td>\n",
       "      <td>0.001747</td>\n",
       "      <td>0.000165</td>\n",
       "    </tr>\n",
       "    <tr>\n",
       "      <th>LEARNING RATE</th>\n",
       "      <td>0.002194</td>\n",
       "      <td>0.001205</td>\n",
       "      <td>0.006756</td>\n",
       "      <td>0.001162</td>\n",
       "    </tr>\n",
       "    <tr>\n",
       "      <th>BATCH SIZE</th>\n",
       "      <td>128.000000</td>\n",
       "      <td>256.000000</td>\n",
       "      <td>256.000000</td>\n",
       "      <td>16.000000</td>\n",
       "    </tr>\n",
       "    <tr>\n",
       "      <th>Time</th>\n",
       "      <td>83.180000</td>\n",
       "      <td>101.110000</td>\n",
       "      <td>108.670000</td>\n",
       "      <td>99.100000</td>\n",
       "    </tr>\n",
       "  </tbody>\n",
       "</table>\n",
       "</div>"
      ],
      "text/plain": [
       "                             TPE          RS          GA         MC\n",
       "NEURONS LAYER 1        39.000000   39.000000   24.000000  32.000000\n",
       "NEURONS LAYER 2        27.000000   37.000000   24.000000  32.000000\n",
       "NEURONS LAYER 3        21.000000   36.000000   22.000000  27.000000\n",
       "AlPHA_l                 0.034490    0.024722    0.046519   0.074688\n",
       "AlPHA_2                 0.060273    0.042851    0.044781   0.029688\n",
       "AlPHA_3                 0.031091    0.041160    0.092553   0.012813\n",
       "DROPOUT LAYER 1         0.232611    0.234990    0.252576   0.228125\n",
       "DROPOUT LAYER 2         0.295774    0.306068    0.257878   0.284375\n",
       "DROPOUT LAYER 3         0.341761    0.309852    0.332012   0.471875\n",
       "KERNEL REGULARIZER_1    0.001831    0.000405    0.000021   0.000107\n",
       "KERNEL REGULARIZER_2    0.000027    0.000023    0.000048   0.002207\n",
       "KERNEL REGULARIZER_3    0.000460    0.005663    0.002540   0.000604\n",
       "BIAS REGURALIZER_1      0.000268    0.000070    0.000027   0.001433\n",
       "BIAS REGURALIZER_2      0.000017    0.002519    0.000186   0.000255\n",
       "BIAS REGURALIZER_3      0.000136    0.000123    0.001747   0.000165\n",
       "LEARNING RATE           0.002194    0.001205    0.006756   0.001162\n",
       "BATCH SIZE            128.000000  256.000000  256.000000  16.000000\n",
       "Time                   83.180000  101.110000  108.670000  99.100000"
      ]
     },
     "execution_count": 14,
     "metadata": {},
     "output_type": "execute_result"
    }
   ],
   "source": [
    "params_all = pd.DataFrame(zip([item[1] for item in params_TPE], [item[1] for item in params_rs], \n",
    "                              [item[1] for item in params_ga], [item[1] for item in params_mc]),\n",
    "                           index =['NEURONS LAYER 1 ','NEURONS LAYER 2','NEURONS LAYER 3',\n",
    "                                   \"AlPHA_l\",\"AlPHA_2\",\"AlPHA_3\",\n",
    "                                   'DROPOUT LAYER 1 ','DROPOUT LAYER 2', 'DROPOUT LAYER 3',\n",
    "                                  \"KERNEL REGULARIZER_1\",\"KERNEL REGULARIZER_2\",\"KERNEL REGULARIZER_3\",\n",
    "                                   \"BIAS REGURALIZER_1\",\"BIAS REGURALIZER_2\",\"BIAS REGURALIZER_3\",\n",
    "                                  'LEARNING RATE',\"BATCH SIZE\", 'Time'] ,\n",
    "                          columns = ['TPE','RS','GA', 'MC'])\n",
    "\n",
    "params_all"
   ]
  },
  {
   "cell_type": "markdown",
   "id": "141f5e3b",
   "metadata": {},
   "source": [
    "## Metrics Summary"
   ]
  },
  {
   "cell_type": "code",
   "execution_count": 16,
   "id": "ff4e10f8",
   "metadata": {},
   "outputs": [
    {
     "data": {
      "text/html": [
       "<div>\n",
       "<style scoped>\n",
       "    .dataframe tbody tr th:only-of-type {\n",
       "        vertical-align: middle;\n",
       "    }\n",
       "\n",
       "    .dataframe tbody tr th {\n",
       "        vertical-align: top;\n",
       "    }\n",
       "\n",
       "    .dataframe thead th {\n",
       "        text-align: right;\n",
       "    }\n",
       "</style>\n",
       "<table border=\"1\" class=\"dataframe\">\n",
       "  <thead>\n",
       "    <tr style=\"text-align: right;\">\n",
       "      <th></th>\n",
       "      <th>Tree-structured Parzen Estimator</th>\n",
       "      <th>Random Sampler</th>\n",
       "      <th>Genetic Algorithm</th>\n",
       "      <th>Quasi Monte Carlo</th>\n",
       "    </tr>\n",
       "  </thead>\n",
       "  <tbody>\n",
       "    <tr>\n",
       "      <th>Accuracy</th>\n",
       "      <td>0.912239</td>\n",
       "      <td>0.903668</td>\n",
       "      <td>0.906754</td>\n",
       "      <td>0.904011</td>\n",
       "    </tr>\n",
       "    <tr>\n",
       "      <th>Precision</th>\n",
       "      <td>0.907005</td>\n",
       "      <td>0.896947</td>\n",
       "      <td>0.873256</td>\n",
       "      <td>0.938375</td>\n",
       "    </tr>\n",
       "    <tr>\n",
       "      <th>Recall</th>\n",
       "      <td>0.633221</td>\n",
       "      <td>0.594435</td>\n",
       "      <td>0.633221</td>\n",
       "      <td>0.564924</td>\n",
       "    </tr>\n",
       "    <tr>\n",
       "      <th>F1-score</th>\n",
       "      <td>0.745780</td>\n",
       "      <td>0.715010</td>\n",
       "      <td>0.734115</td>\n",
       "      <td>0.705263</td>\n",
       "    </tr>\n",
       "    <tr>\n",
       "      <th>AUC</th>\n",
       "      <td>0.808327</td>\n",
       "      <td>0.788504</td>\n",
       "      <td>0.804885</td>\n",
       "      <td>0.777729</td>\n",
       "    </tr>\n",
       "    <tr>\n",
       "      <th>H-measure</th>\n",
       "      <td>0.535375</td>\n",
       "      <td>0.491948</td>\n",
       "      <td>0.522100</td>\n",
       "      <td>0.476017</td>\n",
       "    </tr>\n",
       "  </tbody>\n",
       "</table>\n",
       "</div>"
      ],
      "text/plain": [
       "           Tree-structured Parzen Estimator  Random Sampler  \\\n",
       "Accuracy                           0.912239        0.903668   \n",
       "Precision                          0.907005        0.896947   \n",
       "Recall                             0.633221        0.594435   \n",
       "F1-score                           0.745780        0.715010   \n",
       "AUC                                0.808327        0.788504   \n",
       "H-measure                          0.535375        0.491948   \n",
       "\n",
       "           Genetic Algorithm  Quasi Monte Carlo  \n",
       "Accuracy            0.906754           0.904011  \n",
       "Precision           0.873256           0.938375  \n",
       "Recall              0.633221           0.564924  \n",
       "F1-score            0.734115           0.705263  \n",
       "AUC                 0.804885           0.777729  \n",
       "H-measure           0.522100           0.476017  "
      ]
     },
     "execution_count": 16,
     "metadata": {},
     "output_type": "execute_result"
    }
   ],
   "source": [
    "all_scores = pd.concat([tpe_scores, rs_scores, ga_scores, mc_scores], axis =1)\n",
    "all_scores"
   ]
  },
  {
   "cell_type": "markdown",
   "id": "362d5ed7",
   "metadata": {},
   "source": [
    "## Save results"
   ]
  },
  {
   "cell_type": "code",
   "execution_count": 17,
   "id": "0deef76a",
   "metadata": {},
   "outputs": [],
   "source": [
    "# Save the clean dataset\n",
    "\n",
    "all_scores.to_csv(r'C:\\Users\\...\\Credit_risk_dataset_3_Layer_scores.csv', index=False)\n",
    "\n",
    "params_all.to_csv(r'C:\\Users\\...\\Credit_risk_dataset_3_Layer_stracture.csv', index=False)\n"
   ]
  }
 ],
 "metadata": {
  "kernelspec": {
   "display_name": "Python 3 (ipykernel)",
   "language": "python",
   "name": "python3"
  },
  "language_info": {
   "codemirror_mode": {
    "name": "ipython",
    "version": 3
   },
   "file_extension": ".py",
   "mimetype": "text/x-python",
   "name": "python",
   "nbconvert_exporter": "python",
   "pygments_lexer": "ipython3",
   "version": "3.9.12"
  }
 },
 "nbformat": 4,
 "nbformat_minor": 5
}
